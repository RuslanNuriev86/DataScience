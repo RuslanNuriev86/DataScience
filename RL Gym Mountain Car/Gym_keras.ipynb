{
  "cells": [
    {
      "cell_type": "markdown",
      "id": "27a2d348",
      "metadata": {
        "id": "27a2d348"
      },
      "source": [
        "# Gym Mountain Car via TensorFlow "
      ]
    },
    {
      "cell_type": "markdown",
      "id": "1299c7dd",
      "metadata": {
        "id": "1299c7dd"
      },
      "source": [
        "Here is the one-dimensional game from OpenAi Gym which goal is get the car on the mountain https://gym.openai.com/envs/MountainCar-v0/ The car is not powerful enough to scale the mountain in a single pass. So we need to drive it back and forth to build up momentum. To solve this task we going to build a simple neural network with TensorFlow."
      ]
    },
    {
      "cell_type": "code",
      "execution_count": null,
      "id": "4aff7226",
      "metadata": {
        "id": "4aff7226",
        "outputId": "1a9a7202-4c5e-4d75-c0af-4acc247af3c4"
      },
      "outputs": [
        {
          "name": "stdout",
          "output_type": "stream",
          "text": [
            "Requirement already satisfied: tensorflow-cpu in c:\\users\\ruslan\\anaconda3\\lib\\site-packages (2.8.0)\n",
            "Requirement already satisfied: gast>=0.2.1 in c:\\users\\ruslan\\anaconda3\\lib\\site-packages (from tensorflow-cpu) (0.5.3)\n",
            "Requirement already satisfied: flatbuffers>=1.12 in c:\\users\\ruslan\\anaconda3\\lib\\site-packages (from tensorflow-cpu) (2.0)\n",
            "Requirement already satisfied: grpcio<2.0,>=1.24.3 in c:\\users\\ruslan\\anaconda3\\lib\\site-packages (from tensorflow-cpu) (1.44.0)\n",
            "Requirement already satisfied: tensorflow-io-gcs-filesystem>=0.23.1 in c:\\users\\ruslan\\anaconda3\\lib\\site-packages (from tensorflow-cpu) (0.24.0)\n",
            "Requirement already satisfied: h5py>=2.9.0 in c:\\users\\ruslan\\anaconda3\\lib\\site-packages (from tensorflow-cpu) (3.2.1)\n",
            "Requirement already satisfied: libclang>=9.0.1 in c:\\users\\ruslan\\anaconda3\\lib\\site-packages (from tensorflow-cpu) (13.0.0)\n",
            "Requirement already satisfied: tensorboard<2.9,>=2.8 in c:\\users\\ruslan\\anaconda3\\lib\\site-packages (from tensorflow-cpu) (2.8.0)\n",
            "Requirement already satisfied: termcolor>=1.1.0 in c:\\users\\ruslan\\anaconda3\\lib\\site-packages (from tensorflow-cpu) (1.1.0)\n",
            "Requirement already satisfied: typing-extensions>=3.6.6 in c:\\users\\ruslan\\anaconda3\\lib\\site-packages (from tensorflow-cpu) (3.10.0.2)\n",
            "Requirement already satisfied: numpy>=1.20 in c:\\users\\ruslan\\anaconda3\\lib\\site-packages (from tensorflow-cpu) (1.20.3)\n",
            "Requirement already satisfied: wrapt>=1.11.0 in c:\\users\\ruslan\\anaconda3\\lib\\site-packages (from tensorflow-cpu) (1.12.1)\n",
            "Requirement already satisfied: keras<2.9,>=2.8.0rc0 in c:\\users\\ruslan\\anaconda3\\lib\\site-packages (from tensorflow-cpu) (2.8.0)\n",
            "Requirement already satisfied: keras-preprocessing>=1.1.1 in c:\\users\\ruslan\\anaconda3\\lib\\site-packages (from tensorflow-cpu) (1.1.2)\n",
            "Requirement already satisfied: astunparse>=1.6.0 in c:\\users\\ruslan\\anaconda3\\lib\\site-packages (from tensorflow-cpu) (1.6.3)\n",
            "Requirement already satisfied: tf-estimator-nightly==2.8.0.dev2021122109 in c:\\users\\ruslan\\anaconda3\\lib\\site-packages (from tensorflow-cpu) (2.8.0.dev2021122109)\n",
            "Requirement already satisfied: protobuf>=3.9.2 in c:\\users\\ruslan\\anaconda3\\lib\\site-packages (from tensorflow-cpu) (3.19.4)\n",
            "Requirement already satisfied: google-pasta>=0.1.1 in c:\\users\\ruslan\\anaconda3\\lib\\site-packages (from tensorflow-cpu) (0.2.0)\n",
            "Requirement already satisfied: setuptools in c:\\users\\ruslan\\anaconda3\\lib\\site-packages (from tensorflow-cpu) (58.0.4)\n",
            "Requirement already satisfied: opt-einsum>=2.3.2 in c:\\users\\ruslan\\anaconda3\\lib\\site-packages (from tensorflow-cpu) (3.3.0)\n",
            "Requirement already satisfied: six>=1.12.0 in c:\\users\\ruslan\\anaconda3\\lib\\site-packages (from tensorflow-cpu) (1.16.0)\n",
            "Requirement already satisfied: absl-py>=0.4.0 in c:\\users\\ruslan\\anaconda3\\lib\\site-packages (from tensorflow-cpu) (1.0.0)\n",
            "Requirement already satisfied: wheel<1.0,>=0.23.0 in c:\\users\\ruslan\\anaconda3\\lib\\site-packages (from astunparse>=1.6.0->tensorflow-cpu) (0.37.0)\n",
            "Requirement already satisfied: tensorboard-data-server<0.7.0,>=0.6.0 in c:\\users\\ruslan\\anaconda3\\lib\\site-packages (from tensorboard<2.9,>=2.8->tensorflow-cpu) (0.6.1)\n",
            "Requirement already satisfied: requests<3,>=2.21.0 in c:\\users\\ruslan\\anaconda3\\lib\\site-packages (from tensorboard<2.9,>=2.8->tensorflow-cpu) (2.26.0)\n",
            "Requirement already satisfied: markdown>=2.6.8 in c:\\users\\ruslan\\anaconda3\\lib\\site-packages (from tensorboard<2.9,>=2.8->tensorflow-cpu) (3.3.6)\n",
            "Requirement already satisfied: google-auth<3,>=1.6.3 in c:\\users\\ruslan\\anaconda3\\lib\\site-packages (from tensorboard<2.9,>=2.8->tensorflow-cpu) (2.6.2)\n",
            "Requirement already satisfied: werkzeug>=0.11.15 in c:\\users\\ruslan\\anaconda3\\lib\\site-packages (from tensorboard<2.9,>=2.8->tensorflow-cpu) (2.0.2)\n",
            "Requirement already satisfied: tensorboard-plugin-wit>=1.6.0 in c:\\users\\ruslan\\anaconda3\\lib\\site-packages (from tensorboard<2.9,>=2.8->tensorflow-cpu) (1.8.1)\n",
            "Requirement already satisfied: google-auth-oauthlib<0.5,>=0.4.1 in c:\\users\\ruslan\\anaconda3\\lib\\site-packages (from tensorboard<2.9,>=2.8->tensorflow-cpu) (0.4.6)\n",
            "Requirement already satisfied: pyasn1-modules>=0.2.1 in c:\\users\\ruslan\\anaconda3\\lib\\site-packages (from google-auth<3,>=1.6.3->tensorboard<2.9,>=2.8->tensorflow-cpu) (0.2.8)\n",
            "Requirement already satisfied: cachetools<6.0,>=2.0.0 in c:\\users\\ruslan\\anaconda3\\lib\\site-packages (from google-auth<3,>=1.6.3->tensorboard<2.9,>=2.8->tensorflow-cpu) (5.0.0)\n",
            "Requirement already satisfied: rsa<5,>=3.1.4 in c:\\users\\ruslan\\anaconda3\\lib\\site-packages (from google-auth<3,>=1.6.3->tensorboard<2.9,>=2.8->tensorflow-cpu) (4.8)\n",
            "Requirement already satisfied: requests-oauthlib>=0.7.0 in c:\\users\\ruslan\\anaconda3\\lib\\site-packages (from google-auth-oauthlib<0.5,>=0.4.1->tensorboard<2.9,>=2.8->tensorflow-cpu) (1.3.1)\n",
            "Requirement already satisfied: importlib-metadata>=4.4 in c:\\users\\ruslan\\anaconda3\\lib\\site-packages (from markdown>=2.6.8->tensorboard<2.9,>=2.8->tensorflow-cpu) (4.11.3)\n",
            "Requirement already satisfied: zipp>=0.5 in c:\\users\\ruslan\\anaconda3\\lib\\site-packages (from importlib-metadata>=4.4->markdown>=2.6.8->tensorboard<2.9,>=2.8->tensorflow-cpu) (3.6.0)\n",
            "Requirement already satisfied: pyasn1<0.5.0,>=0.4.6 in c:\\users\\ruslan\\anaconda3\\lib\\site-packages (from pyasn1-modules>=0.2.1->google-auth<3,>=1.6.3->tensorboard<2.9,>=2.8->tensorflow-cpu) (0.4.8)\n",
            "Requirement already satisfied: certifi>=2017.4.17 in c:\\users\\ruslan\\anaconda3\\lib\\site-packages (from requests<3,>=2.21.0->tensorboard<2.9,>=2.8->tensorflow-cpu) (2021.10.8)\n",
            "Requirement already satisfied: charset-normalizer~=2.0.0 in c:\\users\\ruslan\\anaconda3\\lib\\site-packages (from requests<3,>=2.21.0->tensorboard<2.9,>=2.8->tensorflow-cpu) (2.0.4)\n",
            "Requirement already satisfied: urllib3<1.27,>=1.21.1 in c:\\users\\ruslan\\anaconda3\\lib\\site-packages (from requests<3,>=2.21.0->tensorboard<2.9,>=2.8->tensorflow-cpu) (1.26.7)\n",
            "Requirement already satisfied: idna<4,>=2.5 in c:\\users\\ruslan\\anaconda3\\lib\\site-packages (from requests<3,>=2.21.0->tensorboard<2.9,>=2.8->tensorflow-cpu) (3.2)\n",
            "Requirement already satisfied: oauthlib>=3.0.0 in c:\\users\\ruslan\\anaconda3\\lib\\site-packages (from requests-oauthlib>=0.7.0->google-auth-oauthlib<0.5,>=0.4.1->tensorboard<2.9,>=2.8->tensorflow-cpu) (3.2.0)\n",
            "Requirement already satisfied: gym in c:\\users\\ruslan\\anaconda3\\lib\\site-packages (0.23.1)\n",
            "Requirement already satisfied: gym-notices>=0.0.4 in c:\\users\\ruslan\\anaconda3\\lib\\site-packages (from gym) (0.0.6)\n",
            "Requirement already satisfied: importlib-metadata>=4.10.0 in c:\\users\\ruslan\\anaconda3\\lib\\site-packages (from gym) (4.11.3)\n",
            "Requirement already satisfied: cloudpickle>=1.2.0 in c:\\users\\ruslan\\anaconda3\\lib\\site-packages (from gym) (2.0.0)\n",
            "Requirement already satisfied: numpy>=1.18.0 in c:\\users\\ruslan\\anaconda3\\lib\\site-packages (from gym) (1.20.3)\n",
            "Requirement already satisfied: zipp>=0.5 in c:\\users\\ruslan\\anaconda3\\lib\\site-packages (from importlib-metadata>=4.10.0->gym) (3.6.0)\n",
            "Requirement already satisfied: keras in c:\\users\\ruslan\\anaconda3\\lib\\site-packages (2.8.0)\n",
            "Requirement already satisfied: keras-rl2 in c:\\users\\ruslan\\anaconda3\\lib\\site-packages (1.0.5)\n",
            "Requirement already satisfied: tensorflow in c:\\users\\ruslan\\anaconda3\\lib\\site-packages (from keras-rl2) (2.8.0)\n",
            "Requirement already satisfied: tensorflow-io-gcs-filesystem>=0.23.1 in c:\\users\\ruslan\\anaconda3\\lib\\site-packages (from tensorflow->keras-rl2) (0.24.0)\n",
            "Requirement already satisfied: grpcio<2.0,>=1.24.3 in c:\\users\\ruslan\\anaconda3\\lib\\site-packages (from tensorflow->keras-rl2) (1.44.0)\n",
            "Requirement already satisfied: typing-extensions>=3.6.6 in c:\\users\\ruslan\\anaconda3\\lib\\site-packages (from tensorflow->keras-rl2) (3.10.0.2)\n",
            "Requirement already satisfied: keras-preprocessing>=1.1.1 in c:\\users\\ruslan\\anaconda3\\lib\\site-packages (from tensorflow->keras-rl2) (1.1.2)\n",
            "Requirement already satisfied: astunparse>=1.6.0 in c:\\users\\ruslan\\anaconda3\\lib\\site-packages (from tensorflow->keras-rl2) (1.6.3)\n",
            "Requirement already satisfied: libclang>=9.0.1 in c:\\users\\ruslan\\anaconda3\\lib\\site-packages (from tensorflow->keras-rl2) (13.0.0)\n",
            "Requirement already satisfied: setuptools in c:\\users\\ruslan\\anaconda3\\lib\\site-packages (from tensorflow->keras-rl2) (58.0.4)\n",
            "Requirement already satisfied: google-pasta>=0.1.1 in c:\\users\\ruslan\\anaconda3\\lib\\site-packages (from tensorflow->keras-rl2) (0.2.0)\n",
            "Requirement already satisfied: gast>=0.2.1 in c:\\users\\ruslan\\anaconda3\\lib\\site-packages (from tensorflow->keras-rl2) (0.5.3)\n",
            "Requirement already satisfied: tensorboard<2.9,>=2.8 in c:\\users\\ruslan\\anaconda3\\lib\\site-packages (from tensorflow->keras-rl2) (2.8.0)\n",
            "Requirement already satisfied: termcolor>=1.1.0 in c:\\users\\ruslan\\anaconda3\\lib\\site-packages (from tensorflow->keras-rl2) (1.1.0)\n",
            "Requirement already satisfied: absl-py>=0.4.0 in c:\\users\\ruslan\\anaconda3\\lib\\site-packages (from tensorflow->keras-rl2) (1.0.0)\n",
            "Requirement already satisfied: opt-einsum>=2.3.2 in c:\\users\\ruslan\\anaconda3\\lib\\site-packages (from tensorflow->keras-rl2) (3.3.0)\n",
            "Requirement already satisfied: protobuf>=3.9.2 in c:\\users\\ruslan\\anaconda3\\lib\\site-packages (from tensorflow->keras-rl2) (3.19.4)\n",
            "Requirement already satisfied: six>=1.12.0 in c:\\users\\ruslan\\anaconda3\\lib\\site-packages (from tensorflow->keras-rl2) (1.16.0)\n",
            "Requirement already satisfied: wrapt>=1.11.0 in c:\\users\\ruslan\\anaconda3\\lib\\site-packages (from tensorflow->keras-rl2) (1.12.1)\n",
            "Requirement already satisfied: h5py>=2.9.0 in c:\\users\\ruslan\\anaconda3\\lib\\site-packages (from tensorflow->keras-rl2) (3.2.1)\n",
            "Requirement already satisfied: tf-estimator-nightly==2.8.0.dev2021122109 in c:\\users\\ruslan\\anaconda3\\lib\\site-packages (from tensorflow->keras-rl2) (2.8.0.dev2021122109)\n",
            "Requirement already satisfied: keras<2.9,>=2.8.0rc0 in c:\\users\\ruslan\\anaconda3\\lib\\site-packages (from tensorflow->keras-rl2) (2.8.0)\n",
            "Requirement already satisfied: flatbuffers>=1.12 in c:\\users\\ruslan\\anaconda3\\lib\\site-packages (from tensorflow->keras-rl2) (2.0)\n",
            "Requirement already satisfied: numpy>=1.20 in c:\\users\\ruslan\\anaconda3\\lib\\site-packages (from tensorflow->keras-rl2) (1.20.3)\n",
            "Requirement already satisfied: wheel<1.0,>=0.23.0 in c:\\users\\ruslan\\anaconda3\\lib\\site-packages (from astunparse>=1.6.0->tensorflow->keras-rl2) (0.37.0)\n",
            "Requirement already satisfied: tensorboard-plugin-wit>=1.6.0 in c:\\users\\ruslan\\anaconda3\\lib\\site-packages (from tensorboard<2.9,>=2.8->tensorflow->keras-rl2) (1.8.1)\n",
            "Requirement already satisfied: markdown>=2.6.8 in c:\\users\\ruslan\\anaconda3\\lib\\site-packages (from tensorboard<2.9,>=2.8->tensorflow->keras-rl2) (3.3.6)\n",
            "Requirement already satisfied: google-auth-oauthlib<0.5,>=0.4.1 in c:\\users\\ruslan\\anaconda3\\lib\\site-packages (from tensorboard<2.9,>=2.8->tensorflow->keras-rl2) (0.4.6)\n",
            "Requirement already satisfied: google-auth<3,>=1.6.3 in c:\\users\\ruslan\\anaconda3\\lib\\site-packages (from tensorboard<2.9,>=2.8->tensorflow->keras-rl2) (2.6.2)\n",
            "Requirement already satisfied: tensorboard-data-server<0.7.0,>=0.6.0 in c:\\users\\ruslan\\anaconda3\\lib\\site-packages (from tensorboard<2.9,>=2.8->tensorflow->keras-rl2) (0.6.1)\n",
            "Requirement already satisfied: requests<3,>=2.21.0 in c:\\users\\ruslan\\anaconda3\\lib\\site-packages (from tensorboard<2.9,>=2.8->tensorflow->keras-rl2) (2.26.0)\n",
            "Requirement already satisfied: werkzeug>=0.11.15 in c:\\users\\ruslan\\anaconda3\\lib\\site-packages (from tensorboard<2.9,>=2.8->tensorflow->keras-rl2) (2.0.2)\n",
            "Requirement already satisfied: pyasn1-modules>=0.2.1 in c:\\users\\ruslan\\anaconda3\\lib\\site-packages (from google-auth<3,>=1.6.3->tensorboard<2.9,>=2.8->tensorflow->keras-rl2) (0.2.8)\n",
            "Requirement already satisfied: rsa<5,>=3.1.4 in c:\\users\\ruslan\\anaconda3\\lib\\site-packages (from google-auth<3,>=1.6.3->tensorboard<2.9,>=2.8->tensorflow->keras-rl2) (4.8)\n",
            "Requirement already satisfied: cachetools<6.0,>=2.0.0 in c:\\users\\ruslan\\anaconda3\\lib\\site-packages (from google-auth<3,>=1.6.3->tensorboard<2.9,>=2.8->tensorflow->keras-rl2) (5.0.0)\n",
            "Requirement already satisfied: requests-oauthlib>=0.7.0 in c:\\users\\ruslan\\anaconda3\\lib\\site-packages (from google-auth-oauthlib<0.5,>=0.4.1->tensorboard<2.9,>=2.8->tensorflow->keras-rl2) (1.3.1)\n",
            "Requirement already satisfied: importlib-metadata>=4.4 in c:\\users\\ruslan\\anaconda3\\lib\\site-packages (from markdown>=2.6.8->tensorboard<2.9,>=2.8->tensorflow->keras-rl2) (4.11.3)\n",
            "Requirement already satisfied: zipp>=0.5 in c:\\users\\ruslan\\anaconda3\\lib\\site-packages (from importlib-metadata>=4.4->markdown>=2.6.8->tensorboard<2.9,>=2.8->tensorflow->keras-rl2) (3.6.0)\n",
            "Requirement already satisfied: pyasn1<0.5.0,>=0.4.6 in c:\\users\\ruslan\\anaconda3\\lib\\site-packages (from pyasn1-modules>=0.2.1->google-auth<3,>=1.6.3->tensorboard<2.9,>=2.8->tensorflow->keras-rl2) (0.4.8)\n",
            "Requirement already satisfied: charset-normalizer~=2.0.0 in c:\\users\\ruslan\\anaconda3\\lib\\site-packages (from requests<3,>=2.21.0->tensorboard<2.9,>=2.8->tensorflow->keras-rl2) (2.0.4)\n",
            "Requirement already satisfied: urllib3<1.27,>=1.21.1 in c:\\users\\ruslan\\anaconda3\\lib\\site-packages (from requests<3,>=2.21.0->tensorboard<2.9,>=2.8->tensorflow->keras-rl2) (1.26.7)\n",
            "Requirement already satisfied: idna<4,>=2.5 in c:\\users\\ruslan\\anaconda3\\lib\\site-packages (from requests<3,>=2.21.0->tensorboard<2.9,>=2.8->tensorflow->keras-rl2) (3.2)\n",
            "Requirement already satisfied: certifi>=2017.4.17 in c:\\users\\ruslan\\anaconda3\\lib\\site-packages (from requests<3,>=2.21.0->tensorboard<2.9,>=2.8->tensorflow->keras-rl2) (2021.10.8)\n",
            "Requirement already satisfied: oauthlib>=3.0.0 in c:\\users\\ruslan\\anaconda3\\lib\\site-packages (from requests-oauthlib>=0.7.0->google-auth-oauthlib<0.5,>=0.4.1->tensorboard<2.9,>=2.8->tensorflow->keras-rl2) (3.2.0)\n"
          ]
        }
      ],
      "source": [
        "#install and load libraries\n",
        "!pip install tensorflow-cpu\n",
        "!pip install gym\n",
        "!pip install keras\n",
        "!pip install keras-rl2"
      ]
    },
    {
      "cell_type": "code",
      "execution_count": null,
      "id": "fc27f786",
      "metadata": {
        "id": "fc27f786",
        "outputId": "93c0582e-9ea9-4371-c7eb-4dbb28461c93"
      },
      "outputs": [
        {
          "name": "stdout",
          "output_type": "stream",
          "text": [
            "Requirement already satisfied: pygame in c:\\users\\ruslan\\anaconda3\\lib\\site-packages (2.1.0)\n"
          ]
        }
      ],
      "source": [
        "!pip install pygame"
      ]
    },
    {
      "cell_type": "code",
      "execution_count": null,
      "id": "6c1c6e5c",
      "metadata": {
        "id": "6c1c6e5c"
      },
      "outputs": [],
      "source": [
        "!pip install imageio-ffmpeg"
      ]
    },
    {
      "cell_type": "code",
      "execution_count": null,
      "id": "4b83dab9",
      "metadata": {
        "id": "4b83dab9"
      },
      "outputs": [],
      "source": [
        "import numpy as np\n",
        "import pandas as pd\n",
        "import tensorflow\n",
        "from tensorflow.keras import layers\n",
        "from keras.models import Sequential\n",
        "from keras.layers import Dense, Flatten\n",
        "from tensorflow.keras.optimizers import Adam\n",
        "import gym \n",
        "import random"
      ]
    },
    {
      "cell_type": "code",
      "execution_count": null,
      "id": "b68a1984",
      "metadata": {
        "id": "b68a1984"
      },
      "outputs": [],
      "source": [
        "import math"
      ]
    },
    {
      "cell_type": "code",
      "execution_count": null,
      "id": "cd1e6c7b",
      "metadata": {
        "id": "cd1e6c7b"
      },
      "outputs": [],
      "source": [
        "import pygame\n",
        "from pygame import gfxdraw"
      ]
    },
    {
      "cell_type": "code",
      "execution_count": null,
      "id": "9243cee9",
      "metadata": {
        "id": "9243cee9"
      },
      "outputs": [],
      "source": [
        "from rl.agents import DQNAgent\n",
        "from rl.policy import BoltzmannQPolicy\n",
        "from rl.memory import SequentialMemory"
      ]
    },
    {
      "cell_type": "code",
      "execution_count": null,
      "id": "d768283b",
      "metadata": {
        "id": "d768283b"
      },
      "outputs": [],
      "source": [
        "from gym.envs.classic_control import  MountainCarEnv\n",
        "from gym import spaces\n",
        "from typing import Optional"
      ]
    },
    {
      "cell_type": "code",
      "execution_count": null,
      "id": "d503c405",
      "metadata": {
        "id": "d503c405"
      },
      "outputs": [],
      "source": [
        "#create custom environment\n",
        "class MountainCarEnv(gym.Env):\n",
        "    \n",
        "    def __init__(self, goal_velocity=0):\n",
        "        self.min_position = -1.2\n",
        "        self.max_position = 0.6\n",
        "        self.max_speed = 0.07\n",
        "        self.goal_position = 0.5\n",
        "        self.goal_velocity = goal_velocity\n",
        "\n",
        "        self.force = 0.001\n",
        "        self.gravity = 0.0025\n",
        "\n",
        "        self.low = np.array([self.min_position, -self.max_speed], dtype=np.float32)\n",
        "        self.high = np.array([self.max_position, self.max_speed], dtype=np.float32)\n",
        "\n",
        "        self.screen = None\n",
        "        self.clock = None\n",
        "        self.isopen = True\n",
        "\n",
        "        self.action_space = spaces.Discrete(3)\n",
        "        self.observation_space = spaces.Box(self.low, self.high, dtype=np.float32)\n",
        "\n",
        "    def step(self, action):\n",
        "        assert self.action_space.contains(\n",
        "            action\n",
        "        ), f\"{action!r} ({type(action)}) invalid\"\n",
        "\n",
        "        position, velocity = self.state\n",
        "        velocity += (action - 1) * self.force + math.cos(3 * position) * (-self.gravity)\n",
        "        velocity = np.clip(velocity, -self.max_speed, self.max_speed)\n",
        "        position += velocity\n",
        "        position = np.clip(position, self.min_position, self.max_position)\n",
        "        if position == self.min_position and velocity < 0:\n",
        "            velocity = 0\n",
        "\n",
        "        done = bool(position >= self.goal_position and velocity >= self.goal_velocity)\n",
        "        if position >= self.goal_position: #set a higher score for reaching the goal position\n",
        "            reward = 100\n",
        "            \n",
        "        elif self.goal_position > position >= 0.04: #also set a reward for almost reaching the goal position\n",
        "            reward = 5\n",
        "        \n",
        "        else:\n",
        "            reward = -0.0001  #and negative reward for other cases\n",
        "        \n",
        "\n",
        "        self.state = (position, velocity)\n",
        "        return np.array(self.state, dtype=np.float32), reward, done, {}\n",
        "\n",
        "    def reset(\n",
        "        self,\n",
        "        *,\n",
        "        seed: Optional[int] = None,\n",
        "        return_info: bool = False,\n",
        "        options: Optional[dict] = None,\n",
        "    ):\n",
        "        super().reset(seed=seed)\n",
        "        self.state = np.array([self.np_random.uniform(low=-0.6, high=-0.4), 0])\n",
        "        if not return_info:\n",
        "            return np.array(self.state, dtype=np.float32)\n",
        "        else:\n",
        "            return np.array(self.state, dtype=np.float32), {}\n",
        "\n",
        "    def _height(self, xs):\n",
        "        return np.sin(3 * xs) * 0.45 + 0.55\n",
        "\n",
        "    def render(self, mode=\"human\"):\n",
        "        screen_width = 600\n",
        "        screen_height = 400\n",
        "\n",
        "        world_width = self.max_position - self.min_position\n",
        "        scale = screen_width / world_width\n",
        "        carwidth = 40\n",
        "        carheight = 20\n",
        "        if self.screen is None:\n",
        "            pygame.init()\n",
        "            pygame.display.init()\n",
        "            self.screen = pygame.display.set_mode((screen_width, screen_height))\n",
        "        if self.clock is None:\n",
        "            self.clock = pygame.time.Clock()\n",
        "\n",
        "        self.surf = pygame.Surface((screen_width, screen_height))\n",
        "        self.surf.fill((255, 255, 255))\n",
        "\n",
        "        pos = self.state[0]\n",
        "\n",
        "        xs = np.linspace(self.min_position, self.max_position, 100)\n",
        "        ys = self._height(xs)\n",
        "        xys = list(zip((xs - self.min_position) * scale, ys * scale))\n",
        "\n",
        "        pygame.draw.aalines(self.surf, points=xys, closed=False, color=(0, 0, 0))\n",
        "\n",
        "        clearance = 10\n",
        "\n",
        "        l, r, t, b = -carwidth / 2, carwidth / 2, carheight, 0\n",
        "        coords = []\n",
        "        for c in [(l, b), (l, t), (r, t), (r, b)]:\n",
        "            c = pygame.math.Vector2(c).rotate_rad(math.cos(3 * pos))\n",
        "            coords.append(\n",
        "                (\n",
        "                    c[0] + (pos - self.min_position) * scale,\n",
        "                    c[1] + clearance + self._height(pos) * scale,\n",
        "                )\n",
        "            )\n",
        "\n",
        "        gfxdraw.aapolygon(self.surf, coords, (0, 0, 0))\n",
        "        gfxdraw.filled_polygon(self.surf, coords, (0, 0, 0))\n",
        "\n",
        "        for c in [(carwidth / 4, 0), (-carwidth / 4, 0)]:\n",
        "            c = pygame.math.Vector2(c).rotate_rad(math.cos(3 * pos))\n",
        "            wheel = (\n",
        "                int(c[0] + (pos - self.min_position) * scale),\n",
        "                int(c[1] + clearance + self._height(pos) * scale),\n",
        "            )\n",
        "\n",
        "            gfxdraw.aacircle(\n",
        "                self.surf, wheel[0], wheel[1], int(carheight / 2.5), (128, 128, 128)\n",
        "            )\n",
        "            gfxdraw.filled_circle(\n",
        "                self.surf, wheel[0], wheel[1], int(carheight / 2.5), (128, 128, 128)\n",
        "            )\n",
        "\n",
        "        flagx = int((self.goal_position - self.min_position) * scale)\n",
        "        flagy1 = int(self._height(self.goal_position) * scale)\n",
        "        flagy2 = flagy1 + 50\n",
        "        gfxdraw.vline(self.surf, flagx, flagy1, flagy2, (0, 0, 0))\n",
        "\n",
        "        gfxdraw.aapolygon(\n",
        "            self.surf,\n",
        "            [(flagx, flagy2), (flagx, flagy2 - 10), (flagx + 25, flagy2 - 5)],\n",
        "            (204, 204, 0),\n",
        "        )\n",
        "        gfxdraw.filled_polygon(\n",
        "            self.surf,\n",
        "            [(flagx, flagy2), (flagx, flagy2 - 10), (flagx + 25, flagy2 - 5)],\n",
        "            (204, 204, 0),\n",
        "        )\n",
        "\n",
        "        self.surf = pygame.transform.flip(self.surf, False, True)\n",
        "        self.screen.blit(self.surf, (0, 0))\n",
        "        if mode == \"human\":\n",
        "            pygame.event.pump()\n",
        "#             self.clock.tick(self.metadata[\"render_fps\"])\n",
        "            pygame.display.flip()\n",
        "\n",
        "        if mode == \"rgb_array\":\n",
        "            return np.transpose(\n",
        "                np.array(pygame.surfarray.pixels3d(self.screen)), axes=(1, 0, 2)\n",
        "            )\n",
        "        else:\n",
        "            return self.isopen\n",
        "\n",
        "    def get_keys_to_action(self):\n",
        "        # Control with left and right arrow keys.\n",
        "        return {(): 1, (276,): 0, (275,): 2, (275, 276): 1}\n",
        "\n",
        "    def close(self):\n",
        "        if self.screen is not None:\n",
        "            pygame.display.quit()\n",
        "            pygame.quit()\n",
        "            self.isopen = False"
      ]
    },
    {
      "cell_type": "code",
      "execution_count": null,
      "id": "e29f5f48",
      "metadata": {
        "id": "e29f5f48"
      },
      "outputs": [],
      "source": [
        "#set an environment\n",
        "env = MountainCarEnv()\n",
        "states = env.observation_space.shape[0]\n",
        "actions = env.action_space.n\n",
        "# env.render()"
      ]
    },
    {
      "cell_type": "code",
      "execution_count": null,
      "id": "f8abb1cc",
      "metadata": {
        "id": "f8abb1cc",
        "outputId": "698c7545-3ee6-4b42-82d0-0aed7feaad64"
      },
      "outputs": [
        {
          "data": {
            "text/plain": [
              "3"
            ]
          },
          "execution_count": 57,
          "metadata": {},
          "output_type": "execute_result"
        }
      ],
      "source": [
        "#check number of actions and states\n",
        "actions"
      ]
    },
    {
      "cell_type": "code",
      "execution_count": null,
      "id": "8f3bd27c",
      "metadata": {
        "id": "8f3bd27c",
        "outputId": "1a5530f2-7fd2-4de6-b6f1-6fd50a2b31cb"
      },
      "outputs": [
        {
          "data": {
            "text/plain": [
              "2"
            ]
          },
          "execution_count": 58,
          "metadata": {},
          "output_type": "execute_result"
        }
      ],
      "source": [
        "states"
      ]
    },
    {
      "cell_type": "code",
      "execution_count": null,
      "id": "52370350",
      "metadata": {
        "id": "52370350",
        "outputId": "ad4238d6-23b7-4197-c7c5-25d43630d158"
      },
      "outputs": [
        {
          "data": {
            "text/plain": [
              "Box([-1.2  -0.07], [0.6  0.07], (2,), float32)"
            ]
          },
          "execution_count": 59,
          "metadata": {},
          "output_type": "execute_result"
        }
      ],
      "source": [
        "env.observation_space"
      ]
    },
    {
      "cell_type": "code",
      "execution_count": null,
      "id": "042104f7",
      "metadata": {
        "id": "042104f7"
      },
      "outputs": [],
      "source": [
        "#build a model\n",
        "def build_model(states, actions):\n",
        "    model = Sequential()\n",
        "    model.add(Flatten(input_shape=(1,states)))\n",
        "    model.add(Dense(24, activation='tanh'))\n",
        "    model.add(Dense(24, activation='relu'))\n",
        "    model.add(Dense(actions, activation='linear'))\n",
        "    return model"
      ]
    },
    {
      "cell_type": "code",
      "execution_count": null,
      "id": "b86583f8",
      "metadata": {
        "id": "b86583f8"
      },
      "outputs": [],
      "source": [
        "model = build_model(states, actions)"
      ]
    },
    {
      "cell_type": "code",
      "execution_count": null,
      "id": "20753ec6",
      "metadata": {
        "scrolled": true,
        "id": "20753ec6",
        "outputId": "5f881c10-fbbf-4bdc-87b6-40d96f3588a1"
      },
      "outputs": [
        {
          "name": "stdout",
          "output_type": "stream",
          "text": [
            "Model: \"sequential_7\"\n",
            "_________________________________________________________________\n",
            " Layer (type)                Output Shape              Param #   \n",
            "=================================================================\n",
            " flatten_5 (Flatten)         (None, 2)                 0         \n",
            "                                                                 \n",
            " dense_15 (Dense)            (None, 24)                72        \n",
            "                                                                 \n",
            " dense_16 (Dense)            (None, 24)                600       \n",
            "                                                                 \n",
            " dense_17 (Dense)            (None, 3)                 75        \n",
            "                                                                 \n",
            "=================================================================\n",
            "Total params: 747\n",
            "Trainable params: 747\n",
            "Non-trainable params: 0\n",
            "_________________________________________________________________\n"
          ]
        }
      ],
      "source": [
        "model.summary()"
      ]
    },
    {
      "cell_type": "code",
      "execution_count": null,
      "id": "fa650d91",
      "metadata": {
        "id": "fa650d91"
      },
      "outputs": [],
      "source": [
        "# build an agent\n",
        "def build_agent(model, actions):\n",
        "    policy = BoltzmannQPolicy()\n",
        "    memory = SequentialMemory(limit=50000, window_length=1)\n",
        "    dqn = DQNAgent(model=model, memory=memory, policy=policy, \n",
        "                  nb_actions=actions, nb_steps_warmup=10, target_model_update=1e-2)\n",
        "    return dqn"
      ]
    },
    {
      "cell_type": "code",
      "execution_count": null,
      "id": "52a3b0e9",
      "metadata": {
        "scrolled": true,
        "id": "52a3b0e9",
        "outputId": "07a75426-9378-466d-be57-460e6a2901a4"
      },
      "outputs": [
        {
          "name": "stdout",
          "output_type": "stream",
          "text": [
            "Training for 20000 steps ...\n",
            "Interval 1 (0 steps performed)\n",
            "10000/10000 [==============================] - 91s 9ms/step - reward: 0.3724\n",
            "11 episodes - episode_reward: 338.551 [179.962, 749.494] - loss: 1.155 - mae: 4.707 - mean_q: 7.149\n",
            "\n",
            "Interval 2 (10000 steps performed)\n",
            " 2015/10000 [=====>........................] - ETA: 1:12 - reward: 0.9007done, took 109.696 seconds\n"
          ]
        },
        {
          "data": {
            "text/plain": [
              "<keras.callbacks.History at 0x29770e249a0>"
            ]
          },
          "execution_count": 84,
          "metadata": {},
          "output_type": "execute_result"
        }
      ],
      "source": [
        "#train the agent\n",
        "dqn = build_agent(model, actions)\n",
        "dqn.compile(Adam(lr=1e-3), metrics=['mae'])\n",
        "dqn.fit(env, nb_steps=20000, visualize=True, verbose=1)"
      ]
    },
    {
      "cell_type": "code",
      "execution_count": null,
      "id": "7484ae89",
      "metadata": {
        "id": "7484ae89",
        "outputId": "81dfc763-a24b-4898-d816-44775c8b79dd"
      },
      "outputs": [
        {
          "name": "stdout",
          "output_type": "stream",
          "text": [
            "Testing for 5 episodes ...\n",
            "Episode 1: reward: 164.990, steps: 118\n",
            "Episode 2: reward: 154.989, steps: 118\n",
            "Episode 3: reward: 174.990, steps: 117\n",
            "Episode 4: reward: 249.982, steps: 207\n",
            "Episode 5: reward: 159.989, steps: 118\n",
            "180.98815999999994\n"
          ]
        }
      ],
      "source": [
        "#test the agent\n",
        "scores = dqn.test(env, nb_episodes=5, visualize=True)\n",
        "print(np.mean(scores.history['episode_reward']))"
      ]
    },
    {
      "cell_type": "code",
      "execution_count": null,
      "id": "154b777c",
      "metadata": {
        "id": "154b777c",
        "outputId": "aef4a8ca-f594-4562-e5df-3659ab9f12eb"
      },
      "outputs": [
        {
          "data": {
            "text/plain": [
              "<AxesSubplot:>"
            ]
          },
          "execution_count": 109,
          "metadata": {},
          "output_type": "execute_result"
        },
        {
          "data": {
            "image/png": "[encoded data removed]",
            "text/plain": [
              "<Figure size 432x288 with 1 Axes>"
            ]
          },
          "metadata": {
            "needs_background": "light"
          },
          "output_type": "display_data"
        }
      ],
      "source": [
        "pd.DataFrame(scores.history['episode_reward']).plot()"
      ]
    },
    {
      "cell_type": "markdown",
      "id": "2ec3922c",
      "metadata": {
        "id": "2ec3922c"
      },
      "source": [
        "Agent is succesfull enough. Check the video https://youtu.be/qcU7YvZYKe4"
      ]
    },
    {
      "cell_type": "code",
      "execution_count": null,
      "id": "f8d874fe",
      "metadata": {
        "id": "f8d874fe"
      },
      "outputs": [],
      "source": [
        "#save agent weights\n",
        "dqn.save_weights('dqn_weights.h5f', overwrite=True)"
      ]
    },
    {
      "cell_type": "code",
      "execution_count": null,
      "id": "6290bc32",
      "metadata": {
        "id": "6290bc32",
        "outputId": "4b051a0f-b5e3-4088-f33a-37a59a4a0444"
      },
      "outputs": [
        {
          "name": "stderr",
          "output_type": "stream",
          "text": [
            "C:\\Users\\Ruslan\\anaconda3\\lib\\site-packages\\gym\\wrappers\\record_video.py:41: UserWarning: \u001b[33mWARN: Overwriting existing videos at C:\\Users\\Ruslan\\MC_video folder (try specifying a different `video_folder` for the `RecordVideo` wrapper if this is not desired)\u001b[0m\n",
            "  logger.warn(\n"
          ]
        },
        {
          "name": "stdout",
          "output_type": "stream",
          "text": [
            "Testing for 15 episodes ...\n",
            "Episode 1: reward: -117.000, steps: 117\n",
            "Episode 2: reward: -117.000, steps: 117\n",
            "Episode 3: reward: -200.000, steps: 200\n",
            "Episode 4: reward: -119.000, steps: 119\n",
            "Episode 5: reward: -117.000, steps: 117\n",
            "Episode 6: reward: -118.000, steps: 118\n",
            "Episode 7: reward: -116.000, steps: 116\n",
            "Episode 8: reward: -130.000, steps: 130\n",
            "Episode 9: reward: -118.000, steps: 118\n",
            "Episode 10: reward: -200.000, steps: 200\n",
            "Episode 11: reward: -119.000, steps: 119\n",
            "Episode 12: reward: -116.000, steps: 116\n",
            "Episode 13: reward: -200.000, steps: 200\n",
            "Episode 14: reward: -118.000, steps: 118\n",
            "Episode 15: reward: -200.000, steps: 200\n"
          ]
        }
      ],
      "source": [
        "#record the video\n",
        "from gym.wrappers import RecordVideo\n",
        "env = RecordVideo(gym.make('MountainCar-v0'), 'MC_video')\n",
        "_ = dqn.test(env, nb_episodes=15, visualize=True)"
      ]
    },
    {
      "cell_type": "code",
      "execution_count": null,
      "id": "71ad4086",
      "metadata": {
        "id": "71ad4086"
      },
      "outputs": [],
      "source": [
        "env.close()"
      ]
    },
    {
      "cell_type": "markdown",
      "id": "af4cb4be",
      "metadata": {
        "id": "af4cb4be"
      },
      "source": [
        "# Conclusion"
      ]
    },
    {
      "cell_type": "markdown",
      "id": "4c6c6f04",
      "metadata": {
        "id": "4c6c6f04"
      },
      "source": [
        "In this video https://youtu.be/qcU7YvZYKe4 we can see how our simple model easily handles the task. It also needs to be said that our solution has some downsides. As you remember we've set a 5 score reward for almost achieving the goal (position = 0.4). It stimulates agent to drive forward, but it also can end up skidding before it reaches the mountain tip to get much scores (like here https://youtu.be/LCGJdc-wP24)."
      ]
    }
  ],
  "metadata": {
    "kernelspec": {
      "display_name": "Python 3 (ipykernel)",
      "language": "python",
      "name": "python3"
    },
    "language_info": {
      "codemirror_mode": {
        "name": "ipython",
        "version": 3
      },
      "file_extension": ".py",
      "mimetype": "text/x-python",
      "name": "python",
      "nbconvert_exporter": "python",
      "pygments_lexer": "ipython3",
      "version": "3.9.7"
    },
    "colab": {
      "name": "Gym keras.ipynb",
      "provenance": []
    }
  },
  "nbformat": 4,
  "nbformat_minor": 5
}