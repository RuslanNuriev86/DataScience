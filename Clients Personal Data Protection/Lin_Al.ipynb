{
 "cells": [
  {
   "cell_type": "markdown",
   "metadata": {
    "toc": true
   },
   
  },
  {
   "cell_type": "markdown",
   "metadata": {
    "id": "K82C6SNC_mas"
   },
   "source": [
    "# Clients Personal Data Protection"
   ]
  },
  {
   "cell_type": "markdown",
   "metadata": {
    "id": "hpGOn5FF_maw"
   },
   "source": [
    "An insurance company needs to protect its clients personality. We should porpouse a method to hide customers identity. But metrics of machine learning models have to be the same\n"
   ]
  },
  {
   "cell_type": "markdown",
   "metadata": {
    "id": "vnS4aVgv_maz"
   },
   "source": [
    "## Exploratory data analysis"
   ]
  },
  {
   "cell_type": "code",
   "execution_count": 28,
   "metadata": {
    "id": "0rxVX-X2_ma4",
    "outputId": "0a8c1574-dbd5-4f27-ca75-5def254ebe70"
   },
   "outputs": [
    {
     "name": "stdout",
     "output_type": "stream",
     "text": [
      "Defaulting to user installation because normal site-packages is not writeable\n",
      "Requirement already up-to-date: seaborn in /home/jovyan/.local/lib/python3.7/site-packages (0.11.2)\n",
      "Requirement already satisfied, skipping upgrade: pandas>=0.23 in /opt/conda/lib/python3.7/site-packages (from seaborn) (0.25.1)\n",
      "Requirement already satisfied, skipping upgrade: numpy>=1.15 in /opt/conda/lib/python3.7/site-packages (from seaborn) (1.19.5)\n",
      "Requirement already satisfied, skipping upgrade: scipy>=1.0 in /opt/conda/lib/python3.7/site-packages (from seaborn) (1.4.1)\n",
      "Requirement already satisfied, skipping upgrade: matplotlib>=2.2 in /opt/conda/lib/python3.7/site-packages (from seaborn) (3.1.0)\n",
      "Requirement already satisfied, skipping upgrade: python-dateutil>=2.6.1 in /opt/conda/lib/python3.7/site-packages (from pandas>=0.23->seaborn) (2.8.1)\n",
      "Requirement already satisfied, skipping upgrade: pytz>=2017.2 in /opt/conda/lib/python3.7/site-packages (from pandas>=0.23->seaborn) (2021.1)\n",
      "Requirement already satisfied, skipping upgrade: kiwisolver>=1.0.1 in /opt/conda/lib/python3.7/site-packages (from matplotlib>=2.2->seaborn) (1.3.1)\n",
      "Requirement already satisfied, skipping upgrade: pyparsing!=2.0.4,!=2.1.2,!=2.1.6,>=2.0.1 in /opt/conda/lib/python3.7/site-packages (from matplotlib>=2.2->seaborn) (2.4.7)\n",
      "Requirement already satisfied, skipping upgrade: cycler>=0.10 in /opt/conda/lib/python3.7/site-packages (from matplotlib>=2.2->seaborn) (0.10.0)\n",
      "Requirement already satisfied, skipping upgrade: six>=1.5 in /opt/conda/lib/python3.7/site-packages (from python-dateutil>=2.6.1->pandas>=0.23->seaborn) (1.15.0)\n"
     ]
    },
    {
     "data": {
      "text/html": [
       "<div>\n",
       "<style scoped>\n",
       "    .dataframe tbody tr th:only-of-type {\n",
       "        vertical-align: middle;\n",
       "    }\n",
       "\n",
       "    .dataframe tbody tr th {\n",
       "        vertical-align: top;\n",
       "    }\n",
       "\n",
       "    .dataframe thead th {\n",
       "        text-align: right;\n",
       "    }\n",
       "</style>\n",
       "<table border=\"1\" class=\"dataframe\">\n",
       "  <thead>\n",
       "    <tr style=\"text-align: right;\">\n",
       "      <th></th>\n",
       "      <th>sex</th>\n",
       "      <th>age</th>\n",
       "      <th>salary</th>\n",
       "      <th>family_members</th>\n",
       "      <th>payout</th>\n",
       "    </tr>\n",
       "  </thead>\n",
       "  <tbody>\n",
       "    <tr>\n",
       "      <td>1</td>\n",
       "      <td>1.0</td>\n",
       "      <td>41.0</td>\n",
       "      <td>49600.0</td>\n",
       "      <td>1.0</td>\n",
       "      <td>0.0</td>\n",
       "    </tr>\n",
       "    <tr>\n",
       "      <td>2</td>\n",
       "      <td>0.0</td>\n",
       "      <td>46.0</td>\n",
       "      <td>38000.0</td>\n",
       "      <td>1.0</td>\n",
       "      <td>1.0</td>\n",
       "    </tr>\n",
       "    <tr>\n",
       "      <td>3</td>\n",
       "      <td>0.0</td>\n",
       "      <td>29.0</td>\n",
       "      <td>21000.0</td>\n",
       "      <td>0.0</td>\n",
       "      <td>0.0</td>\n",
       "    </tr>\n",
       "    <tr>\n",
       "      <td>4</td>\n",
       "      <td>0.0</td>\n",
       "      <td>21.0</td>\n",
       "      <td>41700.0</td>\n",
       "      <td>2.0</td>\n",
       "      <td>0.0</td>\n",
       "    </tr>\n",
       "    <tr>\n",
       "      <td>5</td>\n",
       "      <td>1.0</td>\n",
       "      <td>28.0</td>\n",
       "      <td>26100.0</td>\n",
       "      <td>0.0</td>\n",
       "      <td>0.0</td>\n",
       "    </tr>\n",
       "  </tbody>\n",
       "</table>\n",
       "</div>"
      ],
      "text/plain": [
       "   sex   age   salary  family_members  payout\n",
       "1  1.0  41.0  49600.0             1.0     0.0\n",
       "2  0.0  46.0  38000.0             1.0     1.0\n",
       "3  0.0  29.0  21000.0             0.0     0.0\n",
       "4  0.0  21.0  41700.0             2.0     0.0\n",
       "5  1.0  28.0  26100.0             0.0     0.0"
      ]
     },
     "execution_count": 28,
     "metadata": {},
     "output_type": "execute_result"
    }
   ],
   "source": [
    "#load data and libraries\n",
    "!pip install seaborn --upgrade\n",
    "import seaborn as sns\n",
    "from matplotlib import pyplot as plt\n",
    "import pandas as pd\n",
    "import numpy as np\n",
    "from sklearn.linear_model import LinearRegression\n",
    "from sklearn.metrics import r2_score\n",
    "import warnings\n",
    "warnings.filterwarnings('ignore')\n",
    "\n",
    "data = pd.read_csv('/datasets/insurance.csv', names=['sex', 'age', 'salary', 'family_members', 'payout']).drop([0], axis=0).astype('float')\n",
    "data.head()"
   ]
  },
  {
   "cell_type": "code",
   "execution_count": 29,
   "metadata": {
    "id": "ZTkftYGz_mbA",
    "outputId": "820ef41d-2ab2-4783-bb0f-d93557e3ceed"
   },
   "outputs": [
    {
     "name": "stdout",
     "output_type": "stream",
     "text": [
      "<class 'pandas.core.frame.DataFrame'>\n",
      "Int64Index: 5000 entries, 1 to 5000\n",
      "Data columns (total 5 columns):\n",
      "sex               5000 non-null float64\n",
      "age               5000 non-null float64\n",
      "salary            5000 non-null float64\n",
      "family_members    5000 non-null float64\n",
      "payout            5000 non-null float64\n",
      "dtypes: float64(5)\n",
      "memory usage: 234.4 KB\n"
     ]
    }
   ],
   "source": [
    "data.info()"
   ]
  },
  {
   "cell_type": "code",
   "execution_count": 30,
   "metadata": {
    "id": "E_yjUKwV_mbG",
    "outputId": "d19cb7f0-b73c-4fe8-abc0-f4854e875ca7"
   },
   "outputs": [
    {
     "data": {
      "text/html": [
       "<div>\n",
       "<style scoped>\n",
       "    .dataframe tbody tr th:only-of-type {\n",
       "        vertical-align: middle;\n",
       "    }\n",
       "\n",
       "    .dataframe tbody tr th {\n",
       "        vertical-align: top;\n",
       "    }\n",
       "\n",
       "    .dataframe thead th {\n",
       "        text-align: right;\n",
       "    }\n",
       "</style>\n",
       "<table border=\"1\" class=\"dataframe\">\n",
       "  <thead>\n",
       "    <tr style=\"text-align: right;\">\n",
       "      <th></th>\n",
       "      <th>sex</th>\n",
       "      <th>age</th>\n",
       "      <th>salary</th>\n",
       "      <th>family_members</th>\n",
       "      <th>payout</th>\n",
       "    </tr>\n",
       "  </thead>\n",
       "  <tbody>\n",
       "    <tr>\n",
       "      <td>count</td>\n",
       "      <td>5000.000000</td>\n",
       "      <td>5000.000000</td>\n",
       "      <td>5000.000000</td>\n",
       "      <td>5000.000000</td>\n",
       "      <td>5000.000000</td>\n",
       "    </tr>\n",
       "    <tr>\n",
       "      <td>mean</td>\n",
       "      <td>0.499000</td>\n",
       "      <td>30.952800</td>\n",
       "      <td>39916.360000</td>\n",
       "      <td>1.194200</td>\n",
       "      <td>0.148000</td>\n",
       "    </tr>\n",
       "    <tr>\n",
       "      <td>std</td>\n",
       "      <td>0.500049</td>\n",
       "      <td>8.440807</td>\n",
       "      <td>9900.083569</td>\n",
       "      <td>1.091387</td>\n",
       "      <td>0.463183</td>\n",
       "    </tr>\n",
       "    <tr>\n",
       "      <td>min</td>\n",
       "      <td>0.000000</td>\n",
       "      <td>18.000000</td>\n",
       "      <td>5300.000000</td>\n",
       "      <td>0.000000</td>\n",
       "      <td>0.000000</td>\n",
       "    </tr>\n",
       "    <tr>\n",
       "      <td>25%</td>\n",
       "      <td>0.000000</td>\n",
       "      <td>24.000000</td>\n",
       "      <td>33300.000000</td>\n",
       "      <td>0.000000</td>\n",
       "      <td>0.000000</td>\n",
       "    </tr>\n",
       "    <tr>\n",
       "      <td>50%</td>\n",
       "      <td>0.000000</td>\n",
       "      <td>30.000000</td>\n",
       "      <td>40200.000000</td>\n",
       "      <td>1.000000</td>\n",
       "      <td>0.000000</td>\n",
       "    </tr>\n",
       "    <tr>\n",
       "      <td>75%</td>\n",
       "      <td>1.000000</td>\n",
       "      <td>37.000000</td>\n",
       "      <td>46600.000000</td>\n",
       "      <td>2.000000</td>\n",
       "      <td>0.000000</td>\n",
       "    </tr>\n",
       "    <tr>\n",
       "      <td>max</td>\n",
       "      <td>1.000000</td>\n",
       "      <td>65.000000</td>\n",
       "      <td>79000.000000</td>\n",
       "      <td>6.000000</td>\n",
       "      <td>5.000000</td>\n",
       "    </tr>\n",
       "  </tbody>\n",
       "</table>\n",
       "</div>"
      ],
      "text/plain": [
       "               sex          age        salary  family_members       payout\n",
       "count  5000.000000  5000.000000   5000.000000     5000.000000  5000.000000\n",
       "mean      0.499000    30.952800  39916.360000        1.194200     0.148000\n",
       "std       0.500049     8.440807   9900.083569        1.091387     0.463183\n",
       "min       0.000000    18.000000   5300.000000        0.000000     0.000000\n",
       "25%       0.000000    24.000000  33300.000000        0.000000     0.000000\n",
       "50%       0.000000    30.000000  40200.000000        1.000000     0.000000\n",
       "75%       1.000000    37.000000  46600.000000        2.000000     0.000000\n",
       "max       1.000000    65.000000  79000.000000        6.000000     5.000000"
      ]
     },
     "execution_count": 30,
     "metadata": {},
     "output_type": "execute_result"
    }
   ],
   "source": [
    "data.describe()"
   ]
  },
  {
   "cell_type": "markdown",
   "metadata": {
    "id": "pnhrCk0j_mbL"
   },
   "source": [
    "## Data Conversion"
   ]
  },
  {
   "cell_type": "markdown",
   "metadata": {
    "id": "-QcTScmT_mbN"
   },
   "source": [
    "Describtion:\n",
    "- $X$ — feature matrix\n",
    "\n",
    "- $y$ — target matrix\n",
    "\n",
    "- $P$ — invertible matrix\n",
    "\n",
    "- $w$ — weights"
   ]
  },
  {
   "cell_type": "markdown",
   "metadata": {
    "id": "2zw1ukhe_mbT"
   },
   "source": [
    "Predictions:\n",
    "\n",
    "$$\n",
    "a = Xw\n",
    "$$\n",
    "\n",
    "Loss function:\n",
    "\n",
    "$$\n",
    "w = \\arg\\min_w MSE(Xw, y)\n",
    "$$\n",
    "\n",
    "Matrix formulation:\n",
    "\n",
    "$$\n",
    "w = (X^T X)^{-1} X^T y\n",
    "$$"
   ]
  },
  {
   "cell_type": "markdown",
   "metadata": {
    "id": "irwnv9XH_mbV"
   },
   "source": [
    "**Hypothesis:** After multiplying features by invertible matrix predictions should be the same\n",
    "\n",
    "**Theory:**  $$\n",
    "w_P = ((XP)^T XP)^{-1} (XP)^T y = (P^T X^T XP)^{-1} P^T X^T y = (X^T XP)^{-1} X^T y = P^{-1}(X^T X)^{-1} X^T y\n",
    "$$\n",
    "\n",
    "$$\n",
    "a_P = XPW_P = XPP^{-1}(X^T X)^{-1} X^T y = X (X^T X)^{-1} X^T y = a\n",
    "$$"
   ]
  },
  {
   "cell_type": "markdown",
   "metadata": {
    "id": "IlDz8_w__mbi"
   },
   "source": [
    "## Checking Theory"
   ]
  },
  {
   "cell_type": "code",
   "execution_count": 31,
   "metadata": {
    "id": "JTCzA9NY_mbj",
    "outputId": "5f15e684-0d4e-4009-8d52-1ee65ed61753"
   },
   "outputs": [
    {
     "data": {
      "text/plain": [
       "(5000, 4)"
      ]
     },
     "execution_count": 31,
     "metadata": {},
     "output_type": "execute_result"
    }
   ],
   "source": [
    "#brake off features and targets from dataset\n",
    "X = data.drop('payout', axis=1)\n",
    "y = data['payout']\n",
    "\n",
    "X.shape"
   ]
  },
  {
   "cell_type": "code",
   "execution_count": 32,
   "metadata": {
    "id": "ulGZF2j7_mbk",
    "outputId": "fbc7930e-903f-4bec-8f02-79ccfb7269f6"
   },
   "outputs": [
    {
     "data": {
      "text/plain": [
       "(5000,)"
      ]
     },
     "execution_count": 32,
     "metadata": {},
     "output_type": "execute_result"
    }
   ],
   "source": [
    "y.shape"
   ]
  },
  {
   "cell_type": "code",
   "execution_count": 33,
   "metadata": {
    "id": "akr5sYZt_mbk",
    "outputId": "4c7a53e4-6a38-45af-b6e4-aa9964b7714c"
   },
   "outputs": [
    {
     "name": "stdout",
     "output_type": "stream",
     "text": [
      "original data R2 0.42494550286668\n"
     ]
    }
   ],
   "source": [
    "#learning model on original data\n",
    "def model_score(features, targets):\n",
    "    model = LinearRegression()\n",
    "    model.fit(features, targets)\n",
    "    y_pred = model.predict(features)\n",
    "    return r2_score(targets, y_pred)\n",
    "\n",
    "print('original data R2', model_score(X, y))\n"
   ]
  },
  {
   "cell_type": "code",
   "execution_count": 34,
   "metadata": {
    "id": "KrmF7W6B_mbm",
    "outputId": "290a6d5a-7ca6-4832-fe02-6d9e4705c04c"
   },
   "outputs": [
    {
     "data": {
      "text/plain": [
       "array([[4, 5, 6, 9],\n",
       "       [1, 6, 9, 6],\n",
       "       [1, 3, 4, 9],\n",
       "       [1, 2, 6, 0]])"
      ]
     },
     "execution_count": 34,
     "metadata": {},
     "output_type": "execute_result"
    }
   ],
   "source": [
    "#create invertible matrix\n",
    "P = np.random.randint(10, size = (4, 4))\n",
    "P"
   ]
  },
  {
   "cell_type": "code",
   "execution_count": 35,
   "metadata": {
    "id": "XgqbtcpY_mbo",
    "outputId": "83a600b6-2c69-4505-bcd4-3528196540b4"
   },
   "outputs": [
    {
     "data": {
      "text/plain": [
       "array([[ 0.31481481, -0.22222222, -0.16666667,  0.12962963],\n",
       "       [ 0.12037037,  0.44444444, -0.41666667, -0.50925926],\n",
       "       [-0.09259259, -0.11111111,  0.16666667,  0.31481481],\n",
       "       [-0.03395062, -0.07407407,  0.19444444,  0.0154321 ]])"
      ]
     },
     "execution_count": 35,
     "metadata": {},
     "output_type": "execute_result"
    }
   ],
   "source": [
    "#check it on invertibility\n",
    "np.linalg.inv(P)"
   ]
  },
  {
   "cell_type": "code",
   "execution_count": 36,
   "metadata": {
    "id": "afM-Y3hX_mbp",
    "outputId": "62d3f0a2-3d0a-46c4-851c-55c085c85268"
   },
   "outputs": [
    {
     "name": "stdout",
     "output_type": "stream",
     "text": [
      "convertable data R2 0.4249455028666732\n"
     ]
    }
   ],
   "source": [
    "#multiplying features by invertible matrix\n",
    "X_trans = X @ P\n",
    "print('convertable data R2', model_score(X_trans, y))"
   ]
  },
  {
   "cell_type": "code",
   "execution_count": 37,
   "metadata": {
    "id": "3FSE6vZA_mbv",
    "outputId": "0c280957-6fa1-466b-aa3f-768774d67104"
   },
   "outputs": [
    {
     "data": {
      "text/html": [
       "<div>\n",
       "<style scoped>\n",
       "    .dataframe tbody tr th:only-of-type {\n",
       "        vertical-align: middle;\n",
       "    }\n",
       "\n",
       "    .dataframe tbody tr th {\n",
       "        vertical-align: top;\n",
       "    }\n",
       "\n",
       "    .dataframe thead th {\n",
       "        text-align: right;\n",
       "    }\n",
       "</style>\n",
       "<table border=\"1\" class=\"dataframe\">\n",
       "  <thead>\n",
       "    <tr style=\"text-align: right;\">\n",
       "      <th></th>\n",
       "      <th>0</th>\n",
       "      <th>1</th>\n",
       "      <th>2</th>\n",
       "      <th>3</th>\n",
       "    </tr>\n",
       "  </thead>\n",
       "  <tbody>\n",
       "    <tr>\n",
       "      <td>1</td>\n",
       "      <td>1.000000e+00</td>\n",
       "      <td>41.0</td>\n",
       "      <td>49600.0</td>\n",
       "      <td>1.000000e+00</td>\n",
       "    </tr>\n",
       "    <tr>\n",
       "      <td>2</td>\n",
       "      <td>2.026601e-12</td>\n",
       "      <td>46.0</td>\n",
       "      <td>38000.0</td>\n",
       "      <td>1.000000e+00</td>\n",
       "    </tr>\n",
       "    <tr>\n",
       "      <td>3</td>\n",
       "      <td>9.944268e-13</td>\n",
       "      <td>29.0</td>\n",
       "      <td>21000.0</td>\n",
       "      <td>-2.409878e-13</td>\n",
       "    </tr>\n",
       "    <tr>\n",
       "      <td>4</td>\n",
       "      <td>1.269096e-12</td>\n",
       "      <td>21.0</td>\n",
       "      <td>41700.0</td>\n",
       "      <td>2.000000e+00</td>\n",
       "    </tr>\n",
       "    <tr>\n",
       "      <td>5</td>\n",
       "      <td>1.000000e+00</td>\n",
       "      <td>28.0</td>\n",
       "      <td>26100.0</td>\n",
       "      <td>-4.412790e-13</td>\n",
       "    </tr>\n",
       "    <tr>\n",
       "      <td>...</td>\n",
       "      <td>...</td>\n",
       "      <td>...</td>\n",
       "      <td>...</td>\n",
       "      <td>...</td>\n",
       "    </tr>\n",
       "    <tr>\n",
       "      <td>4996</td>\n",
       "      <td>8.901768e-13</td>\n",
       "      <td>28.0</td>\n",
       "      <td>35700.0</td>\n",
       "      <td>2.000000e+00</td>\n",
       "    </tr>\n",
       "    <tr>\n",
       "      <td>4997</td>\n",
       "      <td>-3.781420e-13</td>\n",
       "      <td>34.0</td>\n",
       "      <td>52400.0</td>\n",
       "      <td>1.000000e+00</td>\n",
       "    </tr>\n",
       "    <tr>\n",
       "      <td>4998</td>\n",
       "      <td>7.014389e-13</td>\n",
       "      <td>20.0</td>\n",
       "      <td>33900.0</td>\n",
       "      <td>2.000000e+00</td>\n",
       "    </tr>\n",
       "    <tr>\n",
       "      <td>4999</td>\n",
       "      <td>1.000000e+00</td>\n",
       "      <td>22.0</td>\n",
       "      <td>32700.0</td>\n",
       "      <td>3.000000e+00</td>\n",
       "    </tr>\n",
       "    <tr>\n",
       "      <td>5000</td>\n",
       "      <td>1.000000e+00</td>\n",
       "      <td>28.0</td>\n",
       "      <td>40600.0</td>\n",
       "      <td>1.000000e+00</td>\n",
       "    </tr>\n",
       "  </tbody>\n",
       "</table>\n",
       "<p>5000 rows × 4 columns</p>\n",
       "</div>"
      ],
      "text/plain": [
       "                 0     1        2             3\n",
       "1     1.000000e+00  41.0  49600.0  1.000000e+00\n",
       "2     2.026601e-12  46.0  38000.0  1.000000e+00\n",
       "3     9.944268e-13  29.0  21000.0 -2.409878e-13\n",
       "4     1.269096e-12  21.0  41700.0  2.000000e+00\n",
       "5     1.000000e+00  28.0  26100.0 -4.412790e-13\n",
       "...            ...   ...      ...           ...\n",
       "4996  8.901768e-13  28.0  35700.0  2.000000e+00\n",
       "4997 -3.781420e-13  34.0  52400.0  1.000000e+00\n",
       "4998  7.014389e-13  20.0  33900.0  2.000000e+00\n",
       "4999  1.000000e+00  22.0  32700.0  3.000000e+00\n",
       "5000  1.000000e+00  28.0  40600.0  1.000000e+00\n",
       "\n",
       "[5000 rows x 4 columns]"
      ]
     },
     "execution_count": 37,
     "metadata": {},
     "output_type": "execute_result"
    }
   ],
   "source": [
    "#convert feauteres back\n",
    "X_trans @ np.linalg.inv(P)"
   ]
  },
  {
   "cell_type": "code",
   "execution_count": 38,
   "metadata": {
    "id": "mmHESlQB_mbx",
    "outputId": "f669ff74-62a1-491e-dfe8-1d8bac51b1ab"
   },
   "outputs": [
    {
     "name": "stdout",
     "output_type": "stream",
     "text": [
      "[0.4249455028666883, 0.42494550286661936, 0.42494550286667665, 0.4249455028666802, 0.4249455028666762, 0.4249455028666813, 0.42494550286668176, 0.4249455028666804, 0.4249455028666792, 0.4249455028666852]\n"
     ]
    }
   ],
   "source": [
    "#repeate it few times\n",
    "R2_scores = []\n",
    "for i in range(10):\n",
    "    P = np.random.randint(10, size = (4, 4))\n",
    "    try:\n",
    "        np.linalg.inv(P)\n",
    "        X_trans = X @ P\n",
    "        R2_scores.append(model_score(X_trans, y))\n",
    "    \n",
    "    except: None\n",
    "        \n",
    "print(R2_scores)\n",
    "    "
   ]
  },
  {
   "cell_type": "code",
   "execution_count": 39,
   "metadata": {
    "id": "X7I9Ln0W_mby",
    "outputId": "87dc2c56-5a16-4bae-a402-02a973bf2489",
    "scrolled": true
   },
   "outputs": [
    {
     "data": {
      "text/plain": [
       "Text(0.5, 0.98, 'Comparasion of preprocessed and unpreprocessed data models')"
      ]
     },
     "execution_count": 39,
     "metadata": {},
     "output_type": "execute_result"
    },
    {
     "data": {
      "image/png": "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\n",
      "text/plain": [
       "<Figure size 432x288 with 1 Axes>"
      ]
     },
     "metadata": {},
     "output_type": "display_data"
    }
   ],
   "source": [
    "#plot the results\n",
    "sns.set_theme(style=\"darkgrid\", context=\"talk\")\n",
    "sns.barplot(y = pd.Series(R2_scores), x = pd.Series(R2_scores).index, palette=\"rocket\")\n",
    "plt.axhline(model_score(X, y), label='R2 of unpreprocessed data model')\n",
    "plt.xlabel('model_number')\n",
    "plt.ylabel('R2_score')\n",
    "plt.legend(loc=\"higher right\", bbox_to_anchor=(1, 0.45, 0.5, 0.5))\n",
    "plt.suptitle('Comparasion of preprocessed and unpreprocessed data models', fontsize=16)"
   ]
  },
  {
   "cell_type": "code",
   "execution_count": 40,
   "metadata": {
    "id": "xw7UIGHi_mby",
    "outputId": "2f7e281e-29c7-4fd3-87d6-73842390ca03"
   },
   "outputs": [
    {
     "data": {
      "text/plain": [
       "0.4249455028666748"
      ]
     },
     "execution_count": 40,
     "metadata": {},
     "output_type": "execute_result"
    }
   ],
   "source": [
    "#calculate a mean R2 score\n",
    "np.mean(R2_scores)"
   ]
  },
  {
   "cell_type": "markdown",
   "metadata": {
    "id": "sd2odY4M_mb0"
   },
   "source": [
    "## Conclusion"
   ]
  },
  {
   "cell_type": "markdown",
   "metadata": {
    "id": "PN758rG6_mb0"
   },
   "source": [
    "Multiplying features by invertible matrix helps to hide clients personality. Model performance is still the same "
   ]
  }
 ],
 "metadata": {
  "ExecuteTimeLog": [
   {
    "duration": 897,
    "start_time": "2021-10-13T13:47:44.626Z"
   },
   {
    "duration": 11,
    "start_time": "2021-10-13T13:48:07.840Z"
   },
   {
    "duration": 35,
    "start_time": "2021-10-13T13:48:27.468Z"
   },
   {
    "duration": 1376,
    "start_time": "2021-10-13T14:07:58.277Z"
   },
   {
    "duration": 9,
    "start_time": "2021-10-13T14:07:59.655Z"
   },
   {
    "duration": 39,
    "start_time": "2021-10-13T14:07:59.666Z"
   },
   {
    "duration": 7,
    "start_time": "2021-10-13T14:11:27.882Z"
   },
   {
    "duration": 5,
    "start_time": "2021-10-13T14:11:30.562Z"
   },
   {
    "duration": 394,
    "start_time": "2021-10-13T14:15:35.355Z"
   },
   {
    "duration": 7,
    "start_time": "2021-10-13T14:15:45.987Z"
   },
   {
    "duration": 5,
    "start_time": "2021-10-13T14:15:48.305Z"
   },
   {
    "duration": 86,
    "start_time": "2021-10-13T14:15:50.520Z"
   },
   {
    "duration": 12,
    "start_time": "2021-10-13T14:19:23.760Z"
   },
   {
    "duration": 20,
    "start_time": "2021-10-13T14:20:39.391Z"
   },
   {
    "duration": 7,
    "start_time": "2021-10-13T14:30:54.931Z"
   },
   {
    "duration": 7,
    "start_time": "2021-10-13T14:34:56.402Z"
   },
   {
    "duration": 451,
    "start_time": "2021-10-13T14:39:20.702Z"
   },
   {
    "duration": 432,
    "start_time": "2021-10-13T14:42:51.282Z"
   },
   {
    "duration": 1388,
    "start_time": "2021-10-13T14:43:03.866Z"
   },
   {
    "duration": 9,
    "start_time": "2021-10-13T14:43:05.257Z"
   },
   {
    "duration": 45,
    "start_time": "2021-10-13T14:43:05.270Z"
   },
   {
    "duration": 400,
    "start_time": "2021-10-13T14:43:05.318Z"
   },
   {
    "duration": -414,
    "start_time": "2021-10-13T14:43:06.134Z"
   },
   {
    "duration": -427,
    "start_time": "2021-10-13T14:43:06.148Z"
   },
   {
    "duration": -435,
    "start_time": "2021-10-13T14:43:06.158Z"
   },
   {
    "duration": -445,
    "start_time": "2021-10-13T14:43:06.169Z"
   },
   {
    "duration": 1306,
    "start_time": "2021-10-13T14:43:37.437Z"
   },
   {
    "duration": 8,
    "start_time": "2021-10-13T14:43:38.746Z"
   },
   {
    "duration": 45,
    "start_time": "2021-10-13T14:43:38.758Z"
   },
   {
    "duration": 8,
    "start_time": "2021-10-13T14:43:38.806Z"
   },
   {
    "duration": 8,
    "start_time": "2021-10-13T14:43:38.816Z"
   },
   {
    "duration": 77,
    "start_time": "2021-10-13T14:43:38.826Z"
   },
   {
    "duration": 634,
    "start_time": "2021-10-13T14:43:38.907Z"
   },
   {
    "duration": 24401,
    "start_time": "2021-10-13T14:44:05.096Z"
   },
   {
    "duration": 395,
    "start_time": "2021-10-13T14:47:24.661Z"
   },
   {
    "duration": 857,
    "start_time": "2021-10-13T14:48:10.643Z"
   },
   {
    "duration": 5,
    "start_time": "2021-10-13T14:48:49.663Z"
   },
   {
    "duration": 9,
    "start_time": "2021-10-13T14:48:52.363Z"
   },
   {
    "duration": 13,
    "start_time": "2021-10-13T14:49:10.343Z"
   },
   {
    "duration": 315,
    "start_time": "2021-10-13T14:49:17.883Z"
   },
   {
    "duration": 540,
    "start_time": "2021-10-13T14:50:09.373Z"
   },
   {
    "duration": 24899,
    "start_time": "2021-10-13T14:50:13.273Z"
   },
   {
    "duration": 423,
    "start_time": "2021-10-13T14:50:43.311Z"
   },
   {
    "duration": 260332,
    "start_time": "2021-10-13T15:01:22.196Z"
   },
   {
    "duration": 275,
    "start_time": "2021-10-13T15:06:25.673Z"
   },
   {
    "duration": 5,
    "start_time": "2021-10-13T15:09:33.216Z"
   },
   {
    "duration": 5440,
    "start_time": "2021-10-13T15:14:11.960Z"
   },
   {
    "duration": 258,
    "start_time": "2021-10-13T15:18:09.253Z"
   },
   {
    "duration": 3589,
    "start_time": "2021-10-13T15:18:27.673Z"
   },
   {
    "duration": 268,
    "start_time": "2021-10-13T15:18:40.195Z"
   },
   {
    "duration": 22585,
    "start_time": "2021-10-13T15:20:17.255Z"
   },
   {
    "duration": 5,
    "start_time": "2021-10-13T15:20:46.366Z"
   },
   {
    "duration": 22874,
    "start_time": "2021-10-13T15:21:04.480Z"
   },
   {
    "duration": 5,
    "start_time": "2021-10-13T15:21:31.761Z"
   },
   {
    "duration": 9735,
    "start_time": "2021-10-13T15:21:47.988Z"
   },
   {
    "duration": 5,
    "start_time": "2021-10-13T15:22:05.178Z"
   },
   {
    "duration": 429,
    "start_time": "2021-10-13T15:23:23.776Z"
   },
   {
    "duration": 84,
    "start_time": "2021-10-13T15:23:40.218Z"
   },
   {
    "duration": 9988,
    "start_time": "2021-10-13T15:23:56.548Z"
   },
   {
    "duration": 5,
    "start_time": "2021-10-13T15:24:12.318Z"
   },
   {
    "duration": 2097,
    "start_time": "2021-10-13T15:24:21.978Z"
   },
   {
    "duration": 4701,
    "start_time": "2021-10-13T15:24:31.263Z"
   },
   {
    "duration": 9,
    "start_time": "2021-10-13T15:24:35.967Z"
   },
   {
    "duration": 40,
    "start_time": "2021-10-13T15:24:35.979Z"
   },
   {
    "duration": 6,
    "start_time": "2021-10-13T15:24:36.022Z"
   },
   {
    "duration": 9,
    "start_time": "2021-10-13T15:24:36.031Z"
   },
   {
    "duration": 65,
    "start_time": "2021-10-13T15:24:36.042Z"
   },
   {
    "duration": 641,
    "start_time": "2021-10-13T15:24:36.110Z"
   },
   {
    "duration": 24755,
    "start_time": "2021-10-13T15:24:36.755Z"
   },
   {
    "duration": 426,
    "start_time": "2021-10-13T15:25:01.513Z"
   },
   {
    "duration": 9890,
    "start_time": "2021-10-13T15:25:01.942Z"
   },
   {
    "duration": 70,
    "start_time": "2021-10-13T15:25:11.835Z"
   },
   {
    "duration": 486,
    "start_time": "2021-10-13T15:25:11.909Z"
   },
   {
    "duration": 3969,
    "start_time": "2021-10-13T15:25:38.740Z"
   },
   {
    "duration": 869,
    "start_time": "2021-10-13T15:25:46.990Z"
   },
   {
    "duration": 681,
    "start_time": "2021-10-13T15:26:42.338Z"
   },
   {
    "duration": 421,
    "start_time": "2021-10-13T15:26:57.768Z"
   },
   {
    "duration": 509,
    "start_time": "2021-10-13T15:27:26.630Z"
   },
   {
    "duration": 7,
    "start_time": "2021-10-13T15:31:52.156Z"
   },
   {
    "duration": 10,
    "start_time": "2021-10-13T15:32:02.451Z"
   },
   {
    "duration": 13,
    "start_time": "2021-10-13T15:32:37.178Z"
   },
   {
    "duration": 7,
    "start_time": "2021-10-13T15:32:53.683Z"
   },
   {
    "duration": 18,
    "start_time": "2021-10-13T15:33:27.278Z"
   },
   {
    "duration": 453,
    "start_time": "2021-10-13T15:33:30.300Z"
   },
   {
    "duration": 64,
    "start_time": "2021-10-13T15:33:37.538Z"
   },
   {
    "duration": 16,
    "start_time": "2021-10-13T15:33:43.071Z"
   },
   {
    "duration": 7,
    "start_time": "2021-10-13T15:33:49.428Z"
   },
   {
    "duration": 105,
    "start_time": "2021-10-13T15:34:11.740Z"
   },
   {
    "duration": 221,
    "start_time": "2021-10-13T15:34:18.680Z"
   },
   {
    "duration": 169,
    "start_time": "2021-10-13T15:34:45.216Z"
   },
   {
    "duration": 252,
    "start_time": "2021-10-13T15:34:50.850Z"
   },
   {
    "duration": 15,
    "start_time": "2021-10-13T15:34:54.617Z"
   },
   {
    "duration": 1603,
    "start_time": "2021-10-13T15:35:04.316Z"
   },
   {
    "duration": 1123,
    "start_time": "2021-10-13T15:35:11.681Z"
   },
   {
    "duration": 19,
    "start_time": "2021-10-13T15:35:29.200Z"
   },
   {
    "duration": 29,
    "start_time": "2021-10-13T15:35:34.973Z"
   },
   {
    "duration": 37,
    "start_time": "2021-10-13T15:35:53.278Z"
   },
   {
    "duration": 34,
    "start_time": "2021-10-13T15:35:58.568Z"
   },
   {
    "duration": 72,
    "start_time": "2021-10-13T15:36:23.276Z"
   },
   {
    "duration": 109,
    "start_time": "2021-10-13T15:36:30.698Z"
   },
   {
    "duration": 92,
    "start_time": "2021-10-13T15:36:48.290Z"
   },
   {
    "duration": 118,
    "start_time": "2021-10-13T15:36:53.789Z"
   },
   {
    "duration": 35,
    "start_time": "2021-10-13T15:37:08.138Z"
   },
   {
    "duration": 111,
    "start_time": "2021-10-13T15:37:14.490Z"
   },
   {
    "duration": 27,
    "start_time": "2021-10-13T15:37:26.966Z"
   },
   {
    "duration": 66,
    "start_time": "2021-10-13T15:37:32.838Z"
   },
   {
    "duration": 21,
    "start_time": "2021-10-13T15:37:43.326Z"
   },
   {
    "duration": 55,
    "start_time": "2021-10-13T15:37:49.446Z"
   },
   {
    "duration": 17,
    "start_time": "2021-10-13T15:37:58.220Z"
   },
   {
    "duration": 93,
    "start_time": "2021-10-13T15:38:05.008Z"
   },
   {
    "duration": 13,
    "start_time": "2021-10-13T15:38:19.850Z"
   },
   {
    "duration": 15,
    "start_time": "2021-10-13T15:38:25.398Z"
   },
   {
    "duration": 12,
    "start_time": "2021-10-13T15:38:35.090Z"
   },
   {
    "duration": 14,
    "start_time": "2021-10-13T15:38:40.428Z"
   },
   {
    "duration": 250,
    "start_time": "2021-10-13T15:44:44.119Z"
   },
   {
    "duration": 642,
    "start_time": "2021-10-13T15:44:59.110Z"
   },
   {
    "duration": 443,
    "start_time": "2021-10-13T15:45:25.497Z"
   },
   {
    "duration": 13,
    "start_time": "2021-10-13T16:00:48.854Z"
   },
   {
    "duration": 13,
    "start_time": "2021-10-13T16:00:51.464Z"
   },
   {
    "duration": 5273,
    "start_time": "2021-10-13T16:01:17.962Z"
   },
   {
    "duration": 9,
    "start_time": "2021-10-13T16:01:23.237Z"
   },
   {
    "duration": 35,
    "start_time": "2021-10-13T16:01:23.249Z"
   },
   {
    "duration": 20,
    "start_time": "2021-10-13T16:01:23.286Z"
   },
   {
    "duration": 6,
    "start_time": "2021-10-13T16:01:23.309Z"
   },
   {
    "duration": 588,
    "start_time": "2021-10-13T16:01:23.317Z"
   },
   {
    "duration": -178,
    "start_time": "2021-10-13T16:01:24.086Z"
   },
   {
    "duration": -186,
    "start_time": "2021-10-13T16:01:24.095Z"
   },
   {
    "duration": -190,
    "start_time": "2021-10-13T16:01:24.100Z"
   },
   {
    "duration": -218,
    "start_time": "2021-10-13T16:01:24.130Z"
   },
   {
    "duration": -238,
    "start_time": "2021-10-13T16:01:24.151Z"
   },
   {
    "duration": -244,
    "start_time": "2021-10-13T16:01:24.158Z"
   },
   {
    "duration": -246,
    "start_time": "2021-10-13T16:01:24.162Z"
   },
   {
    "duration": -266,
    "start_time": "2021-10-13T16:01:24.183Z"
   },
   {
    "duration": 4923,
    "start_time": "2021-10-13T16:02:39.917Z"
   },
   {
    "duration": 9,
    "start_time": "2021-10-13T16:02:44.843Z"
   },
   {
    "duration": 47,
    "start_time": "2021-10-13T16:02:44.855Z"
   },
   {
    "duration": 8,
    "start_time": "2021-10-13T16:02:44.904Z"
   },
   {
    "duration": 15,
    "start_time": "2021-10-13T16:02:44.914Z"
   },
   {
    "duration": 18,
    "start_time": "2021-10-13T16:02:44.932Z"
   },
   {
    "duration": 653,
    "start_time": "2021-10-13T16:02:45.001Z"
   },
   {
    "duration": 24948,
    "start_time": "2021-10-13T16:02:45.658Z"
   },
   {
    "duration": 431,
    "start_time": "2021-10-13T16:03:10.609Z"
   },
   {
    "duration": 161,
    "start_time": "2021-10-13T16:03:11.043Z"
   },
   {
    "duration": 6,
    "start_time": "2021-10-13T16:03:11.206Z"
   },
   {
    "duration": 11119,
    "start_time": "2021-10-13T16:03:11.214Z"
   },
   {
    "duration": 98,
    "start_time": "2021-10-13T16:03:22.402Z"
   },
   {
    "duration": 451,
    "start_time": "2021-10-13T16:03:22.504Z"
   },
   {
    "duration": 649,
    "start_time": "2021-10-13T16:16:22.579Z"
   },
   {
    "duration": 436,
    "start_time": "2021-10-13T16:17:43.061Z"
   },
   {
    "duration": 276,
    "start_time": "2021-10-13T16:17:48.121Z"
   },
   {
    "duration": 284,
    "start_time": "2021-10-13T16:19:57.721Z"
   },
   {
    "duration": 5001,
    "start_time": "2021-10-14T04:29:42.443Z"
   },
   {
    "duration": 6,
    "start_time": "2021-10-14T04:29:47.446Z"
   },
   {
    "duration": 37,
    "start_time": "2021-10-14T04:29:47.454Z"
   },
   {
    "duration": 66,
    "start_time": "2021-10-14T04:29:47.493Z"
   },
   {
    "duration": 52,
    "start_time": "2021-10-14T04:29:47.561Z"
   },
   {
    "duration": 15,
    "start_time": "2021-10-14T04:29:47.615Z"
   },
   {
    "duration": 522,
    "start_time": "2021-10-14T04:29:47.653Z"
   },
   {
    "duration": 19240,
    "start_time": "2021-10-14T04:29:48.177Z"
   },
   {
    "duration": 355,
    "start_time": "2021-10-14T04:30:07.419Z"
   },
   {
    "duration": 9295,
    "start_time": "2021-10-14T04:30:07.778Z"
   },
   {
    "duration": 6,
    "start_time": "2021-10-14T04:30:17.149Z"
   },
   {
    "duration": 92,
    "start_time": "2021-10-14T04:30:17.158Z"
   },
   {
    "duration": 17,
    "start_time": "2021-10-14T04:30:17.252Z"
   },
   {
    "duration": 13,
    "start_time": "2021-10-14T04:31:14.147Z"
   },
   {
    "duration": 12,
    "start_time": "2021-10-14T04:31:25.323Z"
   },
   {
    "duration": 11,
    "start_time": "2021-10-14T04:31:45.698Z"
   },
   {
    "duration": 6,
    "start_time": "2021-10-14T04:31:56.402Z"
   },
   {
    "duration": 10,
    "start_time": "2021-10-14T04:32:40.354Z"
   },
   {
    "duration": 13,
    "start_time": "2021-10-14T04:32:45.154Z"
   },
   {
    "duration": 13,
    "start_time": "2021-10-14T04:33:54.961Z"
   },
   {
    "duration": 3596,
    "start_time": "2021-10-14T04:34:13.969Z"
   },
   {
    "duration": 7,
    "start_time": "2021-10-14T04:34:17.567Z"
   },
   {
    "duration": 26,
    "start_time": "2021-10-14T04:34:17.577Z"
   },
   {
    "duration": 5,
    "start_time": "2021-10-14T04:34:17.605Z"
   },
   {
    "duration": 4,
    "start_time": "2021-10-14T04:34:17.612Z"
   },
   {
    "duration": 41,
    "start_time": "2021-10-14T04:34:17.617Z"
   },
   {
    "duration": 437,
    "start_time": "2021-10-14T04:34:17.750Z"
   },
   {
    "duration": 19211,
    "start_time": "2021-10-14T04:34:18.189Z"
   },
   {
    "duration": 372,
    "start_time": "2021-10-14T04:34:37.402Z"
   },
   {
    "duration": 9024,
    "start_time": "2021-10-14T04:34:37.850Z"
   },
   {
    "duration": 6,
    "start_time": "2021-10-14T04:34:46.952Z"
   },
   {
    "duration": 29,
    "start_time": "2021-10-14T04:34:47.049Z"
   },
   {
    "duration": 36,
    "start_time": "2021-10-14T04:34:47.079Z"
   },
   {
    "duration": 119,
    "start_time": "2021-10-14T04:34:47.151Z"
   },
   {
    "duration": 41,
    "start_time": "2021-10-14T04:34:47.272Z"
   },
   {
    "duration": 23,
    "start_time": "2021-10-14T04:34:47.315Z"
   },
   {
    "duration": 585,
    "start_time": "2021-10-14T04:36:41.352Z"
   },
   {
    "duration": 496,
    "start_time": "2021-10-14T04:37:24.080Z"
   },
   {
    "duration": 252,
    "start_time": "2021-10-14T04:38:05.017Z"
   },
   {
    "duration": 397,
    "start_time": "2021-10-14T04:38:38.254Z"
   },
   {
    "duration": 11,
    "start_time": "2021-10-14T04:39:49.557Z"
   },
   {
    "duration": 230,
    "start_time": "2021-10-14T04:41:33.124Z"
   },
   {
    "duration": 3578,
    "start_time": "2021-10-14T04:42:29.605Z"
   },
   {
    "duration": 6,
    "start_time": "2021-10-14T04:42:33.185Z"
   },
   {
    "duration": 42,
    "start_time": "2021-10-14T04:42:33.193Z"
   },
   {
    "duration": 5,
    "start_time": "2021-10-14T04:42:33.238Z"
   },
   {
    "duration": 11,
    "start_time": "2021-10-14T04:42:33.244Z"
   },
   {
    "duration": 22,
    "start_time": "2021-10-14T04:42:33.257Z"
   },
   {
    "duration": 533,
    "start_time": "2021-10-14T04:42:33.282Z"
   },
   {
    "duration": 19285,
    "start_time": "2021-10-14T04:42:33.818Z"
   },
   {
    "duration": 253,
    "start_time": "2021-10-14T04:42:53.105Z"
   },
   {
    "duration": 8402,
    "start_time": "2021-10-14T04:42:53.451Z"
   },
   {
    "duration": 95,
    "start_time": "2021-10-14T04:43:01.855Z"
   },
   {
    "duration": 5,
    "start_time": "2021-10-14T04:43:01.953Z"
   },
   {
    "duration": 112,
    "start_time": "2021-10-14T04:43:01.960Z"
   },
   {
    "duration": 175,
    "start_time": "2021-10-14T04:43:02.075Z"
   },
   {
    "duration": 6,
    "start_time": "2021-10-14T04:43:02.252Z"
   },
   {
    "duration": 19,
    "start_time": "2021-10-14T04:43:02.260Z"
   },
   {
    "duration": 474,
    "start_time": "2021-10-14T04:43:02.281Z"
   },
   {
    "duration": 276,
    "start_time": "2021-10-14T04:46:09.288Z"
   },
   {
    "duration": 8059,
    "start_time": "2021-10-14T04:46:27.799Z"
   },
   {
    "duration": 5,
    "start_time": "2021-10-14T04:46:38.695Z"
   },
   {
    "duration": 498,
    "start_time": "2021-10-14T04:48:39.750Z"
   },
   {
    "duration": 18,
    "start_time": "2021-10-14T04:48:55.822Z"
   },
   {
    "duration": 14,
    "start_time": "2021-10-14T04:49:12.613Z"
   },
   {
    "duration": 434,
    "start_time": "2021-10-14T04:52:36.875Z"
   },
   {
    "duration": 14,
    "start_time": "2021-10-14T04:53:42.738Z"
   },
   {
    "duration": 405,
    "start_time": "2021-10-14T04:57:14.207Z"
   },
   {
    "duration": 3963,
    "start_time": "2021-10-14T04:57:26.609Z"
   },
   {
    "duration": 8,
    "start_time": "2021-10-14T04:57:30.575Z"
   },
   {
    "duration": 40,
    "start_time": "2021-10-14T04:57:30.586Z"
   },
   {
    "duration": 7,
    "start_time": "2021-10-14T04:57:30.628Z"
   },
   {
    "duration": 13,
    "start_time": "2021-10-14T04:57:30.637Z"
   },
   {
    "duration": 102,
    "start_time": "2021-10-14T04:57:30.652Z"
   },
   {
    "duration": 451,
    "start_time": "2021-10-14T04:57:30.756Z"
   },
   {
    "duration": 19420,
    "start_time": "2021-10-14T04:57:31.209Z"
   },
   {
    "duration": 319,
    "start_time": "2021-10-14T04:57:50.631Z"
   },
   {
    "duration": 8300,
    "start_time": "2021-10-14T04:57:50.953Z"
   },
   {
    "duration": 96,
    "start_time": "2021-10-14T04:57:59.256Z"
   },
   {
    "duration": 110,
    "start_time": "2021-10-14T04:57:59.354Z"
   },
   {
    "duration": 183,
    "start_time": "2021-10-14T04:57:59.467Z"
   },
   {
    "duration": 7,
    "start_time": "2021-10-14T04:57:59.651Z"
   },
   {
    "duration": 9,
    "start_time": "2021-10-14T04:57:59.660Z"
   },
   {
    "duration": 509,
    "start_time": "2021-10-14T04:57:59.671Z"
   },
   {
    "duration": 337,
    "start_time": "2021-10-14T04:58:23.586Z"
   },
   {
    "duration": 17,
    "start_time": "2021-10-14T04:58:43.033Z"
   },
   {
    "duration": 3140,
    "start_time": "2021-10-14T04:59:15.624Z"
   },
   {
    "duration": 15,
    "start_time": "2021-10-14T04:59:26.568Z"
   },
   {
    "duration": 13,
    "start_time": "2021-10-14T05:00:03.975Z"
   },
   {
    "duration": 16,
    "start_time": "2021-10-14T05:01:32.878Z"
   },
   {
    "duration": 13,
    "start_time": "2021-10-14T05:01:35.006Z"
   },
   {
    "duration": 14,
    "start_time": "2021-10-14T05:01:36.271Z"
   },
   {
    "duration": 15,
    "start_time": "2021-10-14T05:01:43.198Z"
   },
   {
    "duration": 383,
    "start_time": "2021-10-14T05:03:41.340Z"
   },
   {
    "duration": 202,
    "start_time": "2021-10-14T05:03:48.229Z"
   },
   {
    "duration": 127,
    "start_time": "2021-10-14T05:04:10.748Z"
   },
   {
    "duration": 313,
    "start_time": "2021-10-14T05:04:25.116Z"
   },
   {
    "duration": 128,
    "start_time": "2021-10-14T05:04:38.116Z"
   },
   {
    "duration": 223,
    "start_time": "2021-10-14T05:05:12.996Z"
   },
   {
    "duration": 456,
    "start_time": "2021-10-14T05:09:33.807Z"
   },
   {
    "duration": 515,
    "start_time": "2021-10-14T05:09:42.315Z"
   },
   {
    "duration": 2426,
    "start_time": "2021-10-14T05:10:44.949Z"
   },
   {
    "duration": 79,
    "start_time": "2021-10-14T05:11:21.566Z"
   },
   {
    "duration": 85,
    "start_time": "2021-10-14T05:11:40.222Z"
   },
   {
    "duration": 78,
    "start_time": "2021-10-14T05:11:47.894Z"
   },
   {
    "duration": 547,
    "start_time": "2021-10-14T05:11:58.886Z"
   },
   {
    "duration": 2495,
    "start_time": "2021-10-14T05:12:30.765Z"
   },
   {
    "duration": 540,
    "start_time": "2021-10-14T05:12:35.765Z"
   },
   {
    "duration": 724,
    "start_time": "2021-10-14T05:14:01.836Z"
   },
   {
    "duration": 774,
    "start_time": "2021-10-14T05:14:21.684Z"
   },
   {
    "duration": 769,
    "start_time": "2021-10-14T05:14:38.187Z"
   },
   {
    "duration": 785,
    "start_time": "2021-10-14T05:15:08.475Z"
   },
   {
    "duration": 81,
    "start_time": "2021-10-14T05:15:39.771Z"
   },
   {
    "duration": 470,
    "start_time": "2021-10-14T05:15:43.674Z"
   },
   {
    "duration": 395,
    "start_time": "2021-10-14T05:16:47.962Z"
   },
   {
    "duration": 466,
    "start_time": "2021-10-14T05:18:14.889Z"
   },
   {
    "duration": 577,
    "start_time": "2021-10-14T05:18:40.352Z"
   },
   {
    "duration": 405,
    "start_time": "2021-10-14T05:18:48.352Z"
   },
   {
    "duration": 464,
    "start_time": "2021-10-14T05:18:52.489Z"
   },
   {
    "duration": 458,
    "start_time": "2021-10-14T05:18:59.592Z"
   },
   {
    "duration": 79,
    "start_time": "2021-10-14T05:20:29.344Z"
   },
   {
    "duration": 11,
    "start_time": "2021-10-14T05:22:56.357Z"
   },
   {
    "duration": 527,
    "start_time": "2021-10-14T05:26:53.907Z"
   },
   {
    "duration": 3495,
    "start_time": "2021-10-14T06:02:52.531Z"
   },
   {
    "duration": 6,
    "start_time": "2021-10-14T06:02:56.028Z"
   },
   {
    "duration": 23,
    "start_time": "2021-10-14T06:02:56.036Z"
   },
   {
    "duration": 5,
    "start_time": "2021-10-14T06:02:56.061Z"
   },
   {
    "duration": 9,
    "start_time": "2021-10-14T06:02:56.067Z"
   },
   {
    "duration": 74,
    "start_time": "2021-10-14T06:02:56.078Z"
   },
   {
    "duration": 460,
    "start_time": "2021-10-14T06:02:56.159Z"
   },
   {
    "duration": 18743,
    "start_time": "2021-10-14T06:02:56.621Z"
   },
   {
    "duration": 385,
    "start_time": "2021-10-14T06:03:15.367Z"
   },
   {
    "duration": 8001,
    "start_time": "2021-10-14T06:03:15.755Z"
   },
   {
    "duration": 596,
    "start_time": "2021-10-14T06:03:23.759Z"
   },
   {
    "duration": 4,
    "start_time": "2021-10-14T06:03:24.357Z"
   },
   {
    "duration": 23,
    "start_time": "2021-10-14T06:03:24.363Z"
   },
   {
    "duration": 4156,
    "start_time": "2021-10-14T15:08:01.487Z"
   },
   {
    "duration": 23,
    "start_time": "2021-10-14T15:08:08.345Z"
   },
   {
    "duration": 6,
    "start_time": "2021-10-14T15:08:21.170Z"
   },
   {
    "duration": 3,
    "start_time": "2021-10-14T15:08:24.226Z"
   },
   {
    "duration": 9,
    "start_time": "2021-10-14T15:08:28.816Z"
   },
   {
    "duration": 5,
    "start_time": "2021-10-14T15:08:35.133Z"
   },
   {
    "duration": 6,
    "start_time": "2021-10-14T15:08:41.586Z"
   },
   {
    "duration": 431,
    "start_time": "2021-10-14T15:09:21.921Z"
   },
   {
    "duration": 214,
    "start_time": "2021-10-14T15:10:08.475Z"
   },
   {
    "duration": 9,
    "start_time": "2021-10-14T15:10:19.995Z"
   },
   {
    "duration": 3085,
    "start_time": "2021-10-14T15:12:45.698Z"
   },
   {
    "duration": 6,
    "start_time": "2021-10-14T15:12:48.785Z"
   },
   {
    "duration": 22,
    "start_time": "2021-10-14T15:12:48.793Z"
   },
   {
    "duration": 5,
    "start_time": "2021-10-14T15:12:48.817Z"
   },
   {
    "duration": 5,
    "start_time": "2021-10-14T15:12:48.823Z"
   },
   {
    "duration": 73,
    "start_time": "2021-10-14T15:12:48.829Z"
   },
   {
    "duration": 95,
    "start_time": "2021-10-14T15:12:48.904Z"
   },
   {
    "duration": 4,
    "start_time": "2021-10-14T15:12:49.002Z"
   },
   {
    "duration": 91,
    "start_time": "2021-10-14T15:12:49.009Z"
   },
   {
    "duration": 102,
    "start_time": "2021-10-14T15:12:49.102Z"
   },
   {
    "duration": 391,
    "start_time": "2021-10-14T15:12:49.207Z"
   },
   {
    "duration": -1880,
    "start_time": "2021-10-14T15:12:51.480Z"
   },
   {
    "duration": -1887,
    "start_time": "2021-10-14T15:12:51.488Z"
   },
   {
    "duration": 269,
    "start_time": "2021-10-14T15:13:09.538Z"
   },
   {
    "duration": 494,
    "start_time": "2021-10-14T15:13:27.160Z"
   },
   {
    "duration": 4,
    "start_time": "2021-10-14T15:13:34.626Z"
   },
   {
    "duration": 12,
    "start_time": "2021-10-14T15:14:42.377Z"
   },
   {
    "duration": 12,
    "start_time": "2021-10-14T15:17:58.558Z"
   },
   {
    "duration": 11,
    "start_time": "2021-10-14T15:18:06.985Z"
   },
   {
    "duration": 11,
    "start_time": "2021-10-14T15:18:17.228Z"
   },
   {
    "duration": 3205,
    "start_time": "2021-10-14T16:49:08.128Z"
   },
   {
    "duration": 8,
    "start_time": "2021-10-14T16:49:11.335Z"
   },
   {
    "duration": 27,
    "start_time": "2021-10-14T16:49:11.345Z"
   },
   {
    "duration": 5,
    "start_time": "2021-10-14T16:49:11.374Z"
   },
   {
    "duration": 18,
    "start_time": "2021-10-14T16:49:11.381Z"
   },
   {
    "duration": 15,
    "start_time": "2021-10-14T16:49:11.401Z"
   },
   {
    "duration": 87,
    "start_time": "2021-10-14T16:49:11.418Z"
   },
   {
    "duration": 98,
    "start_time": "2021-10-14T16:49:11.508Z"
   },
   {
    "duration": 96,
    "start_time": "2021-10-14T16:49:11.609Z"
   },
   {
    "duration": 399,
    "start_time": "2021-10-14T16:49:11.708Z"
   },
   {
    "duration": 621,
    "start_time": "2021-10-14T16:49:12.109Z"
   },
   {
    "duration": 3,
    "start_time": "2021-10-14T16:49:12.732Z"
   },
   {
    "duration": 68,
    "start_time": "2021-10-14T16:49:12.737Z"
   },
   {
    "duration": 3391,
    "start_time": "2021-10-14T17:11:10.172Z"
   },
   {
    "duration": 6,
    "start_time": "2021-10-14T17:11:13.565Z"
   },
   {
    "duration": 26,
    "start_time": "2021-10-14T17:11:13.573Z"
   },
   {
    "duration": 4,
    "start_time": "2021-10-14T17:11:13.601Z"
   },
   {
    "duration": 5,
    "start_time": "2021-10-14T17:11:13.607Z"
   },
   {
    "duration": 9,
    "start_time": "2021-10-14T17:11:13.614Z"
   },
   {
    "duration": 79,
    "start_time": "2021-10-14T17:11:13.625Z"
   },
   {
    "duration": 96,
    "start_time": "2021-10-14T17:11:13.708Z"
   },
   {
    "duration": 93,
    "start_time": "2021-10-14T17:11:13.807Z"
   },
   {
    "duration": 102,
    "start_time": "2021-10-14T17:11:13.903Z"
   },
   {
    "duration": 401,
    "start_time": "2021-10-14T17:11:14.007Z"
   },
   {
    "duration": 519,
    "start_time": "2021-10-14T17:11:14.502Z"
   },
   {
    "duration": 4,
    "start_time": "2021-10-14T17:11:15.023Z"
   },
   {
    "duration": 15,
    "start_time": "2021-10-14T17:11:15.028Z"
   },
   {
    "duration": 13,
    "start_time": "2021-10-14T17:12:03.831Z"
   },
   {
    "duration": 3257,
    "start_time": "2021-10-14T17:14:48.871Z"
   },
   {
    "duration": 6,
    "start_time": "2021-10-14T17:14:52.129Z"
   },
   {
    "duration": 27,
    "start_time": "2021-10-14T17:14:52.137Z"
   },
   {
    "duration": 5,
    "start_time": "2021-10-14T17:14:52.165Z"
   },
   {
    "duration": 6,
    "start_time": "2021-10-14T17:14:52.171Z"
   },
   {
    "duration": 25,
    "start_time": "2021-10-14T17:14:52.178Z"
   },
   {
    "duration": 98,
    "start_time": "2021-10-14T17:14:52.205Z"
   },
   {
    "duration": 96,
    "start_time": "2021-10-14T17:14:52.305Z"
   },
   {
    "duration": 11,
    "start_time": "2021-10-14T17:14:52.405Z"
   },
   {
    "duration": 107,
    "start_time": "2021-10-14T17:14:52.501Z"
   },
   {
    "duration": 399,
    "start_time": "2021-10-14T17:14:52.611Z"
   },
   {
    "duration": 522,
    "start_time": "2021-10-14T17:14:53.101Z"
   },
   {
    "duration": 4,
    "start_time": "2021-10-14T17:14:53.624Z"
   },
   {
    "duration": 13,
    "start_time": "2021-10-14T17:14:53.629Z"
   },
   {
    "duration": 314,
    "start_time": "2022-02-13T07:14:19.441Z"
   },
   {
    "duration": 250,
    "start_time": "2022-02-13T07:14:37.274Z"
   },
   {
    "duration": 6678,
    "start_time": "2022-02-13T07:14:57.134Z"
   },
   {
    "duration": 11,
    "start_time": "2022-02-13T07:15:03.815Z"
   },
   {
    "duration": 54,
    "start_time": "2022-02-13T07:15:03.830Z"
   },
   {
    "duration": 8,
    "start_time": "2022-02-13T07:15:03.887Z"
   },
   {
    "duration": 8,
    "start_time": "2022-02-13T07:15:03.897Z"
   },
   {
    "duration": 70,
    "start_time": "2022-02-13T07:15:03.907Z"
   },
   {
    "duration": 11,
    "start_time": "2022-02-13T07:15:04.070Z"
   },
   {
    "duration": 9,
    "start_time": "2022-02-13T07:15:04.085Z"
   },
   {
    "duration": 174,
    "start_time": "2022-02-13T07:15:04.097Z"
   },
   {
    "duration": 195,
    "start_time": "2022-02-13T07:15:04.275Z"
   },
   {
    "duration": 602,
    "start_time": "2022-02-13T07:15:04.473Z"
   },
   {
    "duration": 950,
    "start_time": "2022-02-13T07:15:05.078Z"
   },
   {
    "duration": 6,
    "start_time": "2022-02-13T07:15:06.030Z"
   },
   {
    "duration": 133,
    "start_time": "2022-02-13T07:15:06.038Z"
   },
   {
    "duration": 113,
    "start_time": "2022-02-13T07:15:06.176Z"
   },
   {
    "duration": 19,
    "start_time": "2022-02-13T07:15:42.982Z"
   },
   {
    "duration": 3721,
    "start_time": "2022-02-13T07:23:31.337Z"
   },
   {
    "duration": 3446,
    "start_time": "2022-02-13T07:23:47.189Z"
   },
   {
    "duration": 3499,
    "start_time": "2022-02-13T07:24:47.830Z"
   },
   {
    "duration": 3695,
    "start_time": "2022-02-13T07:25:06.978Z"
   },
   {
    "duration": 11,
    "start_time": "2022-02-13T07:25:10.676Z"
   },
   {
    "duration": 48,
    "start_time": "2022-02-13T07:25:10.691Z"
   },
   {
    "duration": 309,
    "start_time": "2022-02-13T07:25:10.742Z"
   },
   {
    "duration": -2501,
    "start_time": "2022-02-13T07:25:13.554Z"
   },
   {
    "duration": -2505,
    "start_time": "2022-02-13T07:25:13.560Z"
   },
   {
    "duration": -2510,
    "start_time": "2022-02-13T07:25:13.566Z"
   },
   {
    "duration": -2514,
    "start_time": "2022-02-13T07:25:13.572Z"
   },
   {
    "duration": -2521,
    "start_time": "2022-02-13T07:25:13.580Z"
   },
   {
    "duration": -2604,
    "start_time": "2022-02-13T07:25:13.664Z"
   },
   {
    "duration": -2756,
    "start_time": "2022-02-13T07:25:13.817Z"
   },
   {
    "duration": -2761,
    "start_time": "2022-02-13T07:25:13.824Z"
   },
   {
    "duration": -2767,
    "start_time": "2022-02-13T07:25:13.831Z"
   },
   {
    "duration": -2771,
    "start_time": "2022-02-13T07:25:13.836Z"
   },
   {
    "duration": -2777,
    "start_time": "2022-02-13T07:25:13.843Z"
   },
   {
    "duration": 8,
    "start_time": "2022-02-13T07:25:58.350Z"
   },
   {
    "duration": 9,
    "start_time": "2022-02-13T07:26:10.550Z"
   },
   {
    "duration": 10,
    "start_time": "2022-02-13T07:26:10.562Z"
   },
   {
    "duration": 193,
    "start_time": "2022-02-13T07:26:10.575Z"
   },
   {
    "duration": 9,
    "start_time": "2022-02-13T07:26:10.773Z"
   },
   {
    "duration": 10,
    "start_time": "2022-02-13T07:26:10.869Z"
   },
   {
    "duration": 607,
    "start_time": "2022-02-13T07:26:10.882Z"
   },
   {
    "duration": -2530,
    "start_time": "2022-02-13T07:26:14.022Z"
   },
   {
    "duration": -2536,
    "start_time": "2022-02-13T07:26:14.029Z"
   },
   {
    "duration": -2539,
    "start_time": "2022-02-13T07:26:14.034Z"
   },
   {
    "duration": -2568,
    "start_time": "2022-02-13T07:26:14.065Z"
   },
   {
    "duration": -2573,
    "start_time": "2022-02-13T07:26:14.071Z"
   },
   {
    "duration": -2580,
    "start_time": "2022-02-13T07:26:14.079Z"
   },
   {
    "duration": 7,
    "start_time": "2022-02-13T07:27:14.324Z"
   },
   {
    "duration": 8,
    "start_time": "2022-02-13T07:27:17.182Z"
   },
   {
    "duration": 665,
    "start_time": "2022-02-13T07:27:20.775Z"
   },
   {
    "duration": 4383,
    "start_time": "2022-02-13T07:29:06.590Z"
   },
   {
    "duration": 9,
    "start_time": "2022-02-13T07:29:16.110Z"
   },
   {
    "duration": 3929,
    "start_time": "2022-02-13T07:29:26.416Z"
   },
   {
    "duration": 8,
    "start_time": "2022-02-13T07:29:30.348Z"
   },
   {
    "duration": 57,
    "start_time": "2022-02-13T07:29:30.359Z"
   },
   {
    "duration": 8,
    "start_time": "2022-02-13T07:29:30.419Z"
   },
   {
    "duration": 11,
    "start_time": "2022-02-13T07:29:30.429Z"
   },
   {
    "duration": 35,
    "start_time": "2022-02-13T07:29:30.442Z"
   },
   {
    "duration": 104,
    "start_time": "2022-02-13T07:29:30.574Z"
   },
   {
    "duration": 10,
    "start_time": "2022-02-13T07:29:30.681Z"
   },
   {
    "duration": 80,
    "start_time": "2022-02-13T07:29:30.696Z"
   },
   {
    "duration": 207,
    "start_time": "2022-02-13T07:29:30.780Z"
   },
   {
    "duration": 483,
    "start_time": "2022-02-13T07:29:30.991Z"
   },
   {
    "duration": 1170,
    "start_time": "2022-02-13T07:29:31.479Z"
   },
   {
    "duration": 19,
    "start_time": "2022-02-13T07:29:32.652Z"
   },
   {
    "duration": 23,
    "start_time": "2022-02-13T07:29:32.674Z"
   },
   {
    "duration": 197,
    "start_time": "2022-02-13T07:29:32.700Z"
   },
   {
    "duration": 14,
    "start_time": "2022-02-13T07:30:26.189Z"
   },
   {
    "duration": 4959,
    "start_time": "2022-02-13T08:33:13.230Z"
   },
   {
    "duration": 9,
    "start_time": "2022-02-13T08:33:18.191Z"
   },
   {
    "duration": 39,
    "start_time": "2022-02-13T08:33:18.203Z"
   },
   {
    "duration": 24,
    "start_time": "2022-02-13T08:33:18.245Z"
   },
   {
    "duration": 5,
    "start_time": "2022-02-13T08:33:18.271Z"
   },
   {
    "duration": 18,
    "start_time": "2022-02-13T08:33:18.278Z"
   },
   {
    "duration": 94,
    "start_time": "2022-02-13T08:33:18.377Z"
   },
   {
    "duration": 9,
    "start_time": "2022-02-13T08:33:18.475Z"
   },
   {
    "duration": 183,
    "start_time": "2022-02-13T08:33:18.487Z"
   },
   {
    "duration": 97,
    "start_time": "2022-02-13T08:33:18.688Z"
   },
   {
    "duration": 681,
    "start_time": "2022-02-13T08:33:18.789Z"
   },
   {
    "duration": 760,
    "start_time": "2022-02-13T08:33:19.475Z"
   },
   {
    "duration": 5,
    "start_time": "2022-02-13T08:33:20.238Z"
   },
   {
    "duration": 20,
    "start_time": "2022-02-13T08:34:11.598Z"
   },
   {
    "duration": 3475,
    "start_time": "2022-02-13T08:40:16.440Z"
   },
   {
    "duration": 10,
    "start_time": "2022-02-13T08:40:19.918Z"
   },
   {
    "duration": 36,
    "start_time": "2022-02-13T08:40:19.931Z"
   },
   {
    "duration": 6,
    "start_time": "2022-02-13T08:40:19.970Z"
   },
   {
    "duration": 7,
    "start_time": "2022-02-13T08:40:19.979Z"
   },
   {
    "duration": 150,
    "start_time": "2022-02-13T08:40:19.989Z"
   },
   {
    "duration": 5,
    "start_time": "2022-02-13T08:40:20.141Z"
   },
   {
    "duration": 26,
    "start_time": "2022-02-13T08:40:20.149Z"
   },
   {
    "duration": 281,
    "start_time": "2022-02-13T08:40:20.179Z"
   },
   {
    "duration": 23,
    "start_time": "2022-02-13T08:40:20.463Z"
   },
   {
    "duration": 2180,
    "start_time": "2022-02-13T08:40:20.489Z"
   },
   {
    "duration": 732,
    "start_time": "2022-02-13T08:40:22.673Z"
   },
   {
    "duration": 5,
    "start_time": "2022-02-13T08:40:23.407Z"
   },
   {
    "duration": 4843,
    "start_time": "2022-02-13T08:41:43.699Z"
   },
   {
    "duration": 9,
    "start_time": "2022-02-13T08:41:48.545Z"
   },
   {
    "duration": 52,
    "start_time": "2022-02-13T08:41:48.557Z"
   },
   {
    "duration": 7,
    "start_time": "2022-02-13T08:41:48.612Z"
   },
   {
    "duration": 32,
    "start_time": "2022-02-13T08:41:48.622Z"
   },
   {
    "duration": 115,
    "start_time": "2022-02-13T08:41:48.656Z"
   },
   {
    "duration": 109,
    "start_time": "2022-02-13T08:41:48.774Z"
   },
   {
    "duration": 16,
    "start_time": "2022-02-13T08:41:48.886Z"
   },
   {
    "duration": 75,
    "start_time": "2022-02-13T08:41:48.906Z"
   },
   {
    "duration": 287,
    "start_time": "2022-02-13T08:41:48.984Z"
   },
   {
    "duration": 696,
    "start_time": "2022-02-13T08:41:49.275Z"
   },
   {
    "duration": 745,
    "start_time": "2022-02-13T08:41:49.979Z"
   },
   {
    "duration": 5,
    "start_time": "2022-02-13T08:41:50.726Z"
   }
  ],
  "colab": {
   "collapsed_sections": [],
   "name": "Lin_Al.ipynb",
   "provenance": []
  },
  "kernelspec": {
   "display_name": "Python 3",
   "language": "python",
   "name": "python3"
  },
  "language_info": {
   "codemirror_mode": {
    "name": "ipython",
    "version": 3
   },
   "file_extension": ".py",
   "mimetype": "text/x-python",
   "name": "python",
   "nbconvert_exporter": "python",
   "pygments_lexer": "ipython3",
   "version": "3.7.8"
  },
  "toc": {
   "base_numbering": 1,
   "nav_menu": {},
   "number_sections": true,
   "sideBar": true,
   "skip_h1_title": true,
   "title_cell": "Содержание",
   "title_sidebar": "Contents",
   "toc_cell": true,
   "toc_position": {},
   "toc_section_display": true,
   "toc_window_display": false
  }
 },
 "nbformat": 4,
 "nbformat_minor": 1
}
