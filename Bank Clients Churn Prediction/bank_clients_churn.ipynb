{
 "cells": [
  {
   "cell_type": "markdown",
   "metadata": {},
   "source": [
    "# Bank Clients Churn Prediction"
   ]
  },
  {
   "cell_type": "markdown",
   "metadata": {},
   "source": [
    "Bank's clients start to leak every month. Not so much, but significantly. Market analysts found out that to save actual customers is cheaper than bring new ones. In this project we'll builld model to predict whether client is going to leave or not. In our possesion information about clients, their behavior and services they use.\n",
    "To evaluate model performance we'll use f1 score and set it's treshold on 0.59. Additionaly we will calculate AUC-ROC metric. Then compare both.\n",
    "\n",
    "source(https://www.kaggle.com/barelydedicated/bank-customer-churn-modeling)"
   ]
  },
  {
   "cell_type": "markdown",
   "metadata": {},
   "source": [
    "## Data Preprocessing"
   ]
  },
  {
   "cell_type": "code",
   "execution_count": 1,
   "metadata": {},
   "outputs": [],
   "source": [
    "# load data and libraries\n",
    "import pandas as pd\n",
    "import numpy as np\n",
    "from sklearn.model_selection import train_test_split\n",
    "from sklearn.preprocessing import StandardScaler\n",
    "from sklearn.ensemble import RandomForestClassifier\n",
    "from sklearn.linear_model import LogisticRegression\n",
    "from sklearn.model_selection import RandomizedSearchCV\n",
    "from sklearn.metrics import f1_score, roc_curve, roc_auc_score, recall_score, precision_score \n",
    "from sklearn.utils import shuffle\n",
    "from matplotlib import pyplot as plt\n",
    "import seaborn as sns\n",
    "import warnings\n",
    "warnings.filterwarnings('ignore')"
   ]
  },
  {
   "cell_type": "code",
   "execution_count": 2,
   "metadata": {},
   "outputs": [],
   "source": [
    "data = pd.read_csv('/datasets/Churn.csv')"
   ]
  },
  {
   "cell_type": "code",
   "execution_count": 3,
   "metadata": {},
   "outputs": [
    {
     "name": "stdout",
     "output_type": "stream",
     "text": [
      "<class 'pandas.core.frame.DataFrame'>\n",
      "RangeIndex: 10000 entries, 0 to 9999\n",
      "Data columns (total 14 columns):\n",
      "RowNumber          10000 non-null int64\n",
      "CustomerId         10000 non-null int64\n",
      "Surname            10000 non-null object\n",
      "CreditScore        10000 non-null int64\n",
      "Geography          10000 non-null object\n",
      "Gender             10000 non-null object\n",
      "Age                10000 non-null int64\n",
      "Tenure             9091 non-null float64\n",
      "Balance            10000 non-null float64\n",
      "NumOfProducts      10000 non-null int64\n",
      "HasCrCard          10000 non-null int64\n",
      "IsActiveMember     10000 non-null int64\n",
      "EstimatedSalary    10000 non-null float64\n",
      "Exited             10000 non-null int64\n",
      "dtypes: float64(3), int64(8), object(3)\n",
      "memory usage: 1.1+ MB\n"
     ]
    }
   ],
   "source": [
    "#data exploration\n",
    "data.info()"
   ]
  },
  {
   "cell_type": "code",
   "execution_count": 4,
   "metadata": {},
   "outputs": [
    {
     "data": {
      "text/html": [
       "<div>\n",
       "<style scoped>\n",
       "    .dataframe tbody tr th:only-of-type {\n",
       "        vertical-align: middle;\n",
       "    }\n",
       "\n",
       "    .dataframe tbody tr th {\n",
       "        vertical-align: top;\n",
       "    }\n",
       "\n",
       "    .dataframe thead th {\n",
       "        text-align: right;\n",
       "    }\n",
       "</style>\n",
       "<table border=\"1\" class=\"dataframe\">\n",
       "  <thead>\n",
       "    <tr style=\"text-align: right;\">\n",
       "      <th></th>\n",
       "      <th>RowNumber</th>\n",
       "      <th>CustomerId</th>\n",
       "      <th>CreditScore</th>\n",
       "      <th>Age</th>\n",
       "      <th>Tenure</th>\n",
       "      <th>Balance</th>\n",
       "      <th>NumOfProducts</th>\n",
       "      <th>HasCrCard</th>\n",
       "      <th>IsActiveMember</th>\n",
       "      <th>EstimatedSalary</th>\n",
       "      <th>Exited</th>\n",
       "    </tr>\n",
       "  </thead>\n",
       "  <tbody>\n",
       "    <tr>\n",
       "      <td>count</td>\n",
       "      <td>10000.00000</td>\n",
       "      <td>1.000000e+04</td>\n",
       "      <td>10000.000000</td>\n",
       "      <td>10000.000000</td>\n",
       "      <td>9091.000000</td>\n",
       "      <td>10000.000000</td>\n",
       "      <td>10000.000000</td>\n",
       "      <td>10000.00000</td>\n",
       "      <td>10000.000000</td>\n",
       "      <td>10000.000000</td>\n",
       "      <td>10000.000000</td>\n",
       "    </tr>\n",
       "    <tr>\n",
       "      <td>mean</td>\n",
       "      <td>5000.50000</td>\n",
       "      <td>1.569094e+07</td>\n",
       "      <td>650.528800</td>\n",
       "      <td>38.921800</td>\n",
       "      <td>4.997690</td>\n",
       "      <td>76485.889288</td>\n",
       "      <td>1.530200</td>\n",
       "      <td>0.70550</td>\n",
       "      <td>0.515100</td>\n",
       "      <td>100090.239881</td>\n",
       "      <td>0.203700</td>\n",
       "    </tr>\n",
       "    <tr>\n",
       "      <td>std</td>\n",
       "      <td>2886.89568</td>\n",
       "      <td>7.193619e+04</td>\n",
       "      <td>96.653299</td>\n",
       "      <td>10.487806</td>\n",
       "      <td>2.894723</td>\n",
       "      <td>62397.405202</td>\n",
       "      <td>0.581654</td>\n",
       "      <td>0.45584</td>\n",
       "      <td>0.499797</td>\n",
       "      <td>57510.492818</td>\n",
       "      <td>0.402769</td>\n",
       "    </tr>\n",
       "    <tr>\n",
       "      <td>min</td>\n",
       "      <td>1.00000</td>\n",
       "      <td>1.556570e+07</td>\n",
       "      <td>350.000000</td>\n",
       "      <td>18.000000</td>\n",
       "      <td>0.000000</td>\n",
       "      <td>0.000000</td>\n",
       "      <td>1.000000</td>\n",
       "      <td>0.00000</td>\n",
       "      <td>0.000000</td>\n",
       "      <td>11.580000</td>\n",
       "      <td>0.000000</td>\n",
       "    </tr>\n",
       "    <tr>\n",
       "      <td>25%</td>\n",
       "      <td>2500.75000</td>\n",
       "      <td>1.562853e+07</td>\n",
       "      <td>584.000000</td>\n",
       "      <td>32.000000</td>\n",
       "      <td>2.000000</td>\n",
       "      <td>0.000000</td>\n",
       "      <td>1.000000</td>\n",
       "      <td>0.00000</td>\n",
       "      <td>0.000000</td>\n",
       "      <td>51002.110000</td>\n",
       "      <td>0.000000</td>\n",
       "    </tr>\n",
       "    <tr>\n",
       "      <td>50%</td>\n",
       "      <td>5000.50000</td>\n",
       "      <td>1.569074e+07</td>\n",
       "      <td>652.000000</td>\n",
       "      <td>37.000000</td>\n",
       "      <td>5.000000</td>\n",
       "      <td>97198.540000</td>\n",
       "      <td>1.000000</td>\n",
       "      <td>1.00000</td>\n",
       "      <td>1.000000</td>\n",
       "      <td>100193.915000</td>\n",
       "      <td>0.000000</td>\n",
       "    </tr>\n",
       "    <tr>\n",
       "      <td>75%</td>\n",
       "      <td>7500.25000</td>\n",
       "      <td>1.575323e+07</td>\n",
       "      <td>718.000000</td>\n",
       "      <td>44.000000</td>\n",
       "      <td>7.000000</td>\n",
       "      <td>127644.240000</td>\n",
       "      <td>2.000000</td>\n",
       "      <td>1.00000</td>\n",
       "      <td>1.000000</td>\n",
       "      <td>149388.247500</td>\n",
       "      <td>0.000000</td>\n",
       "    </tr>\n",
       "    <tr>\n",
       "      <td>max</td>\n",
       "      <td>10000.00000</td>\n",
       "      <td>1.581569e+07</td>\n",
       "      <td>850.000000</td>\n",
       "      <td>92.000000</td>\n",
       "      <td>10.000000</td>\n",
       "      <td>250898.090000</td>\n",
       "      <td>4.000000</td>\n",
       "      <td>1.00000</td>\n",
       "      <td>1.000000</td>\n",
       "      <td>199992.480000</td>\n",
       "      <td>1.000000</td>\n",
       "    </tr>\n",
       "  </tbody>\n",
       "</table>\n",
       "</div>"
      ],
      "text/plain": [
       "         RowNumber    CustomerId   CreditScore           Age       Tenure  \\\n",
       "count  10000.00000  1.000000e+04  10000.000000  10000.000000  9091.000000   \n",
       "mean    5000.50000  1.569094e+07    650.528800     38.921800     4.997690   \n",
       "std     2886.89568  7.193619e+04     96.653299     10.487806     2.894723   \n",
       "min        1.00000  1.556570e+07    350.000000     18.000000     0.000000   \n",
       "25%     2500.75000  1.562853e+07    584.000000     32.000000     2.000000   \n",
       "50%     5000.50000  1.569074e+07    652.000000     37.000000     5.000000   \n",
       "75%     7500.25000  1.575323e+07    718.000000     44.000000     7.000000   \n",
       "max    10000.00000  1.581569e+07    850.000000     92.000000    10.000000   \n",
       "\n",
       "             Balance  NumOfProducts    HasCrCard  IsActiveMember  \\\n",
       "count   10000.000000   10000.000000  10000.00000    10000.000000   \n",
       "mean    76485.889288       1.530200      0.70550        0.515100   \n",
       "std     62397.405202       0.581654      0.45584        0.499797   \n",
       "min         0.000000       1.000000      0.00000        0.000000   \n",
       "25%         0.000000       1.000000      0.00000        0.000000   \n",
       "50%     97198.540000       1.000000      1.00000        1.000000   \n",
       "75%    127644.240000       2.000000      1.00000        1.000000   \n",
       "max    250898.090000       4.000000      1.00000        1.000000   \n",
       "\n",
       "       EstimatedSalary        Exited  \n",
       "count     10000.000000  10000.000000  \n",
       "mean     100090.239881      0.203700  \n",
       "std       57510.492818      0.402769  \n",
       "min          11.580000      0.000000  \n",
       "25%       51002.110000      0.000000  \n",
       "50%      100193.915000      0.000000  \n",
       "75%      149388.247500      0.000000  \n",
       "max      199992.480000      1.000000  "
      ]
     },
     "execution_count": 4,
     "metadata": {},
     "output_type": "execute_result"
    }
   ],
   "source": [
    "data.describe()"
   ]
  },
  {
   "cell_type": "code",
   "execution_count": 5,
   "metadata": {},
   "outputs": [
    {
     "data": {
      "text/html": [
       "<div>\n",
       "<style scoped>\n",
       "    .dataframe tbody tr th:only-of-type {\n",
       "        vertical-align: middle;\n",
       "    }\n",
       "\n",
       "    .dataframe tbody tr th {\n",
       "        vertical-align: top;\n",
       "    }\n",
       "\n",
       "    .dataframe thead th {\n",
       "        text-align: right;\n",
       "    }\n",
       "</style>\n",
       "<table border=\"1\" class=\"dataframe\">\n",
       "  <thead>\n",
       "    <tr style=\"text-align: right;\">\n",
       "      <th></th>\n",
       "      <th>RowNumber</th>\n",
       "      <th>CustomerId</th>\n",
       "      <th>Surname</th>\n",
       "      <th>CreditScore</th>\n",
       "      <th>Geography</th>\n",
       "      <th>Gender</th>\n",
       "      <th>Age</th>\n",
       "      <th>Tenure</th>\n",
       "      <th>Balance</th>\n",
       "      <th>NumOfProducts</th>\n",
       "      <th>HasCrCard</th>\n",
       "      <th>IsActiveMember</th>\n",
       "      <th>EstimatedSalary</th>\n",
       "      <th>Exited</th>\n",
       "    </tr>\n",
       "  </thead>\n",
       "  <tbody>\n",
       "    <tr>\n",
       "      <td>5599</td>\n",
       "      <td>5600</td>\n",
       "      <td>15635870</td>\n",
       "      <td>She</td>\n",
       "      <td>579</td>\n",
       "      <td>Germany</td>\n",
       "      <td>Female</td>\n",
       "      <td>50</td>\n",
       "      <td>5.0</td>\n",
       "      <td>117721.02</td>\n",
       "      <td>1</td>\n",
       "      <td>0</td>\n",
       "      <td>1</td>\n",
       "      <td>192146.63</td>\n",
       "      <td>1</td>\n",
       "    </tr>\n",
       "    <tr>\n",
       "      <td>3512</td>\n",
       "      <td>3513</td>\n",
       "      <td>15657779</td>\n",
       "      <td>Boylan</td>\n",
       "      <td>806</td>\n",
       "      <td>Spain</td>\n",
       "      <td>Male</td>\n",
       "      <td>18</td>\n",
       "      <td>3.0</td>\n",
       "      <td>0.00</td>\n",
       "      <td>2</td>\n",
       "      <td>1</td>\n",
       "      <td>1</td>\n",
       "      <td>86994.54</td>\n",
       "      <td>0</td>\n",
       "    </tr>\n",
       "    <tr>\n",
       "      <td>2548</td>\n",
       "      <td>2549</td>\n",
       "      <td>15617197</td>\n",
       "      <td>Chien</td>\n",
       "      <td>524</td>\n",
       "      <td>France</td>\n",
       "      <td>Male</td>\n",
       "      <td>50</td>\n",
       "      <td>4.0</td>\n",
       "      <td>0.00</td>\n",
       "      <td>2</td>\n",
       "      <td>1</td>\n",
       "      <td>1</td>\n",
       "      <td>31840.59</td>\n",
       "      <td>1</td>\n",
       "    </tr>\n",
       "    <tr>\n",
       "      <td>4542</td>\n",
       "      <td>4543</td>\n",
       "      <td>15585455</td>\n",
       "      <td>Stewart</td>\n",
       "      <td>630</td>\n",
       "      <td>France</td>\n",
       "      <td>Male</td>\n",
       "      <td>28</td>\n",
       "      <td>9.0</td>\n",
       "      <td>0.00</td>\n",
       "      <td>2</td>\n",
       "      <td>0</td>\n",
       "      <td>0</td>\n",
       "      <td>32599.35</td>\n",
       "      <td>0</td>\n",
       "    </tr>\n",
       "    <tr>\n",
       "      <td>2871</td>\n",
       "      <td>2872</td>\n",
       "      <td>15798824</td>\n",
       "      <td>Kennedy</td>\n",
       "      <td>671</td>\n",
       "      <td>Spain</td>\n",
       "      <td>Male</td>\n",
       "      <td>38</td>\n",
       "      <td>0.0</td>\n",
       "      <td>92674.94</td>\n",
       "      <td>2</td>\n",
       "      <td>1</td>\n",
       "      <td>0</td>\n",
       "      <td>3647.57</td>\n",
       "      <td>0</td>\n",
       "    </tr>\n",
       "    <tr>\n",
       "      <td>7937</td>\n",
       "      <td>7938</td>\n",
       "      <td>15775886</td>\n",
       "      <td>Su</td>\n",
       "      <td>670</td>\n",
       "      <td>France</td>\n",
       "      <td>Male</td>\n",
       "      <td>36</td>\n",
       "      <td>NaN</td>\n",
       "      <td>0.00</td>\n",
       "      <td>1</td>\n",
       "      <td>1</td>\n",
       "      <td>0</td>\n",
       "      <td>140754.19</td>\n",
       "      <td>1</td>\n",
       "    </tr>\n",
       "    <tr>\n",
       "      <td>3968</td>\n",
       "      <td>3969</td>\n",
       "      <td>15595657</td>\n",
       "      <td>Hannam</td>\n",
       "      <td>649</td>\n",
       "      <td>Germany</td>\n",
       "      <td>Male</td>\n",
       "      <td>40</td>\n",
       "      <td>4.0</td>\n",
       "      <td>95001.33</td>\n",
       "      <td>1</td>\n",
       "      <td>0</td>\n",
       "      <td>1</td>\n",
       "      <td>123202.99</td>\n",
       "      <td>0</td>\n",
       "    </tr>\n",
       "    <tr>\n",
       "      <td>26</td>\n",
       "      <td>27</td>\n",
       "      <td>15736816</td>\n",
       "      <td>Young</td>\n",
       "      <td>756</td>\n",
       "      <td>Germany</td>\n",
       "      <td>Male</td>\n",
       "      <td>36</td>\n",
       "      <td>2.0</td>\n",
       "      <td>136815.64</td>\n",
       "      <td>1</td>\n",
       "      <td>1</td>\n",
       "      <td>1</td>\n",
       "      <td>170041.95</td>\n",
       "      <td>0</td>\n",
       "    </tr>\n",
       "    <tr>\n",
       "      <td>2893</td>\n",
       "      <td>2894</td>\n",
       "      <td>15719606</td>\n",
       "      <td>Rivers</td>\n",
       "      <td>657</td>\n",
       "      <td>France</td>\n",
       "      <td>Male</td>\n",
       "      <td>50</td>\n",
       "      <td>9.0</td>\n",
       "      <td>0.00</td>\n",
       "      <td>2</td>\n",
       "      <td>0</td>\n",
       "      <td>0</td>\n",
       "      <td>37171.46</td>\n",
       "      <td>0</td>\n",
       "    </tr>\n",
       "    <tr>\n",
       "      <td>2085</td>\n",
       "      <td>2086</td>\n",
       "      <td>15687477</td>\n",
       "      <td>Thompson</td>\n",
       "      <td>594</td>\n",
       "      <td>Germany</td>\n",
       "      <td>Male</td>\n",
       "      <td>28</td>\n",
       "      <td>5.0</td>\n",
       "      <td>185013.02</td>\n",
       "      <td>1</td>\n",
       "      <td>1</td>\n",
       "      <td>0</td>\n",
       "      <td>16481.12</td>\n",
       "      <td>0</td>\n",
       "    </tr>\n",
       "  </tbody>\n",
       "</table>\n",
       "</div>"
      ],
      "text/plain": [
       "      RowNumber  CustomerId   Surname  CreditScore Geography  Gender  Age  \\\n",
       "5599       5600    15635870       She          579   Germany  Female   50   \n",
       "3512       3513    15657779    Boylan          806     Spain    Male   18   \n",
       "2548       2549    15617197     Chien          524    France    Male   50   \n",
       "4542       4543    15585455   Stewart          630    France    Male   28   \n",
       "2871       2872    15798824   Kennedy          671     Spain    Male   38   \n",
       "7937       7938    15775886        Su          670    France    Male   36   \n",
       "3968       3969    15595657    Hannam          649   Germany    Male   40   \n",
       "26           27    15736816     Young          756   Germany    Male   36   \n",
       "2893       2894    15719606    Rivers          657    France    Male   50   \n",
       "2085       2086    15687477  Thompson          594   Germany    Male   28   \n",
       "\n",
       "      Tenure    Balance  NumOfProducts  HasCrCard  IsActiveMember  \\\n",
       "5599     5.0  117721.02              1          0               1   \n",
       "3512     3.0       0.00              2          1               1   \n",
       "2548     4.0       0.00              2          1               1   \n",
       "4542     9.0       0.00              2          0               0   \n",
       "2871     0.0   92674.94              2          1               0   \n",
       "7937     NaN       0.00              1          1               0   \n",
       "3968     4.0   95001.33              1          0               1   \n",
       "26       2.0  136815.64              1          1               1   \n",
       "2893     9.0       0.00              2          0               0   \n",
       "2085     5.0  185013.02              1          1               0   \n",
       "\n",
       "      EstimatedSalary  Exited  \n",
       "5599        192146.63       1  \n",
       "3512         86994.54       0  \n",
       "2548         31840.59       1  \n",
       "4542         32599.35       0  \n",
       "2871          3647.57       0  \n",
       "7937        140754.19       1  \n",
       "3968        123202.99       0  \n",
       "26          170041.95       0  \n",
       "2893         37171.46       0  \n",
       "2085         16481.12       0  "
      ]
     },
     "execution_count": 5,
     "metadata": {},
     "output_type": "execute_result"
    }
   ],
   "source": [
    "data.sample(10)"
   ]
  },
  {
   "cell_type": "code",
   "execution_count": 6,
   "metadata": {},
   "outputs": [
    {
     "data": {
      "text/html": [
       "<div>\n",
       "<style scoped>\n",
       "    .dataframe tbody tr th:only-of-type {\n",
       "        vertical-align: middle;\n",
       "    }\n",
       "\n",
       "    .dataframe tbody tr th {\n",
       "        vertical-align: top;\n",
       "    }\n",
       "\n",
       "    .dataframe thead th {\n",
       "        text-align: right;\n",
       "    }\n",
       "</style>\n",
       "<table border=\"1\" class=\"dataframe\">\n",
       "  <thead>\n",
       "    <tr style=\"text-align: right;\">\n",
       "      <th></th>\n",
       "      <th>RowNumber</th>\n",
       "      <th>CustomerId</th>\n",
       "      <th>CreditScore</th>\n",
       "      <th>Age</th>\n",
       "      <th>Tenure</th>\n",
       "      <th>Balance</th>\n",
       "      <th>NumOfProducts</th>\n",
       "      <th>HasCrCard</th>\n",
       "      <th>IsActiveMember</th>\n",
       "      <th>EstimatedSalary</th>\n",
       "      <th>Exited</th>\n",
       "    </tr>\n",
       "  </thead>\n",
       "  <tbody>\n",
       "    <tr>\n",
       "      <td>RowNumber</td>\n",
       "      <td>1.000000</td>\n",
       "      <td>0.004202</td>\n",
       "      <td>0.005840</td>\n",
       "      <td>0.000783</td>\n",
       "      <td>-0.007322</td>\n",
       "      <td>-0.009067</td>\n",
       "      <td>0.007246</td>\n",
       "      <td>0.000599</td>\n",
       "      <td>0.012044</td>\n",
       "      <td>-0.005988</td>\n",
       "      <td>-0.016571</td>\n",
       "    </tr>\n",
       "    <tr>\n",
       "      <td>CustomerId</td>\n",
       "      <td>0.004202</td>\n",
       "      <td>1.000000</td>\n",
       "      <td>0.005308</td>\n",
       "      <td>0.009497</td>\n",
       "      <td>-0.021418</td>\n",
       "      <td>-0.012419</td>\n",
       "      <td>0.016972</td>\n",
       "      <td>-0.014025</td>\n",
       "      <td>0.001665</td>\n",
       "      <td>0.015271</td>\n",
       "      <td>-0.006248</td>\n",
       "    </tr>\n",
       "    <tr>\n",
       "      <td>CreditScore</td>\n",
       "      <td>0.005840</td>\n",
       "      <td>0.005308</td>\n",
       "      <td>1.000000</td>\n",
       "      <td>-0.003965</td>\n",
       "      <td>-0.000062</td>\n",
       "      <td>0.006268</td>\n",
       "      <td>0.012238</td>\n",
       "      <td>-0.005458</td>\n",
       "      <td>0.025651</td>\n",
       "      <td>-0.001384</td>\n",
       "      <td>-0.027094</td>\n",
       "    </tr>\n",
       "    <tr>\n",
       "      <td>Age</td>\n",
       "      <td>0.000783</td>\n",
       "      <td>0.009497</td>\n",
       "      <td>-0.003965</td>\n",
       "      <td>1.000000</td>\n",
       "      <td>-0.013134</td>\n",
       "      <td>0.028308</td>\n",
       "      <td>-0.030680</td>\n",
       "      <td>-0.011721</td>\n",
       "      <td>0.085472</td>\n",
       "      <td>-0.007201</td>\n",
       "      <td>0.285323</td>\n",
       "    </tr>\n",
       "    <tr>\n",
       "      <td>Tenure</td>\n",
       "      <td>-0.007322</td>\n",
       "      <td>-0.021418</td>\n",
       "      <td>-0.000062</td>\n",
       "      <td>-0.013134</td>\n",
       "      <td>1.000000</td>\n",
       "      <td>-0.007911</td>\n",
       "      <td>0.011979</td>\n",
       "      <td>0.027232</td>\n",
       "      <td>-0.032178</td>\n",
       "      <td>0.010520</td>\n",
       "      <td>-0.016761</td>\n",
       "    </tr>\n",
       "    <tr>\n",
       "      <td>Balance</td>\n",
       "      <td>-0.009067</td>\n",
       "      <td>-0.012419</td>\n",
       "      <td>0.006268</td>\n",
       "      <td>0.028308</td>\n",
       "      <td>-0.007911</td>\n",
       "      <td>1.000000</td>\n",
       "      <td>-0.304180</td>\n",
       "      <td>-0.014858</td>\n",
       "      <td>-0.010084</td>\n",
       "      <td>0.012797</td>\n",
       "      <td>0.118533</td>\n",
       "    </tr>\n",
       "    <tr>\n",
       "      <td>NumOfProducts</td>\n",
       "      <td>0.007246</td>\n",
       "      <td>0.016972</td>\n",
       "      <td>0.012238</td>\n",
       "      <td>-0.030680</td>\n",
       "      <td>0.011979</td>\n",
       "      <td>-0.304180</td>\n",
       "      <td>1.000000</td>\n",
       "      <td>0.003183</td>\n",
       "      <td>0.009612</td>\n",
       "      <td>0.014204</td>\n",
       "      <td>-0.047820</td>\n",
       "    </tr>\n",
       "    <tr>\n",
       "      <td>HasCrCard</td>\n",
       "      <td>0.000599</td>\n",
       "      <td>-0.014025</td>\n",
       "      <td>-0.005458</td>\n",
       "      <td>-0.011721</td>\n",
       "      <td>0.027232</td>\n",
       "      <td>-0.014858</td>\n",
       "      <td>0.003183</td>\n",
       "      <td>1.000000</td>\n",
       "      <td>-0.011866</td>\n",
       "      <td>-0.009933</td>\n",
       "      <td>-0.007138</td>\n",
       "    </tr>\n",
       "    <tr>\n",
       "      <td>IsActiveMember</td>\n",
       "      <td>0.012044</td>\n",
       "      <td>0.001665</td>\n",
       "      <td>0.025651</td>\n",
       "      <td>0.085472</td>\n",
       "      <td>-0.032178</td>\n",
       "      <td>-0.010084</td>\n",
       "      <td>0.009612</td>\n",
       "      <td>-0.011866</td>\n",
       "      <td>1.000000</td>\n",
       "      <td>-0.011421</td>\n",
       "      <td>-0.156128</td>\n",
       "    </tr>\n",
       "    <tr>\n",
       "      <td>EstimatedSalary</td>\n",
       "      <td>-0.005988</td>\n",
       "      <td>0.015271</td>\n",
       "      <td>-0.001384</td>\n",
       "      <td>-0.007201</td>\n",
       "      <td>0.010520</td>\n",
       "      <td>0.012797</td>\n",
       "      <td>0.014204</td>\n",
       "      <td>-0.009933</td>\n",
       "      <td>-0.011421</td>\n",
       "      <td>1.000000</td>\n",
       "      <td>0.012097</td>\n",
       "    </tr>\n",
       "    <tr>\n",
       "      <td>Exited</td>\n",
       "      <td>-0.016571</td>\n",
       "      <td>-0.006248</td>\n",
       "      <td>-0.027094</td>\n",
       "      <td>0.285323</td>\n",
       "      <td>-0.016761</td>\n",
       "      <td>0.118533</td>\n",
       "      <td>-0.047820</td>\n",
       "      <td>-0.007138</td>\n",
       "      <td>-0.156128</td>\n",
       "      <td>0.012097</td>\n",
       "      <td>1.000000</td>\n",
       "    </tr>\n",
       "  </tbody>\n",
       "</table>\n",
       "</div>"
      ],
      "text/plain": [
       "                 RowNumber  CustomerId  CreditScore       Age    Tenure  \\\n",
       "RowNumber         1.000000    0.004202     0.005840  0.000783 -0.007322   \n",
       "CustomerId        0.004202    1.000000     0.005308  0.009497 -0.021418   \n",
       "CreditScore       0.005840    0.005308     1.000000 -0.003965 -0.000062   \n",
       "Age               0.000783    0.009497    -0.003965  1.000000 -0.013134   \n",
       "Tenure           -0.007322   -0.021418    -0.000062 -0.013134  1.000000   \n",
       "Balance          -0.009067   -0.012419     0.006268  0.028308 -0.007911   \n",
       "NumOfProducts     0.007246    0.016972     0.012238 -0.030680  0.011979   \n",
       "HasCrCard         0.000599   -0.014025    -0.005458 -0.011721  0.027232   \n",
       "IsActiveMember    0.012044    0.001665     0.025651  0.085472 -0.032178   \n",
       "EstimatedSalary  -0.005988    0.015271    -0.001384 -0.007201  0.010520   \n",
       "Exited           -0.016571   -0.006248    -0.027094  0.285323 -0.016761   \n",
       "\n",
       "                  Balance  NumOfProducts  HasCrCard  IsActiveMember  \\\n",
       "RowNumber       -0.009067       0.007246   0.000599        0.012044   \n",
       "CustomerId      -0.012419       0.016972  -0.014025        0.001665   \n",
       "CreditScore      0.006268       0.012238  -0.005458        0.025651   \n",
       "Age              0.028308      -0.030680  -0.011721        0.085472   \n",
       "Tenure          -0.007911       0.011979   0.027232       -0.032178   \n",
       "Balance          1.000000      -0.304180  -0.014858       -0.010084   \n",
       "NumOfProducts   -0.304180       1.000000   0.003183        0.009612   \n",
       "HasCrCard       -0.014858       0.003183   1.000000       -0.011866   \n",
       "IsActiveMember  -0.010084       0.009612  -0.011866        1.000000   \n",
       "EstimatedSalary  0.012797       0.014204  -0.009933       -0.011421   \n",
       "Exited           0.118533      -0.047820  -0.007138       -0.156128   \n",
       "\n",
       "                 EstimatedSalary    Exited  \n",
       "RowNumber              -0.005988 -0.016571  \n",
       "CustomerId              0.015271 -0.006248  \n",
       "CreditScore            -0.001384 -0.027094  \n",
       "Age                    -0.007201  0.285323  \n",
       "Tenure                  0.010520 -0.016761  \n",
       "Balance                 0.012797  0.118533  \n",
       "NumOfProducts           0.014204 -0.047820  \n",
       "HasCrCard              -0.009933 -0.007138  \n",
       "IsActiveMember         -0.011421 -0.156128  \n",
       "EstimatedSalary         1.000000  0.012097  \n",
       "Exited                  0.012097  1.000000  "
      ]
     },
     "execution_count": 6,
     "metadata": {},
     "output_type": "execute_result"
    }
   ],
   "source": [
    "# check multicollinearity\n",
    "data.corr()"
   ]
  },
  {
   "cell_type": "markdown",
   "metadata": {},
   "source": [
    "### Conclusion"
   ]
  },
  {
   "cell_type": "markdown",
   "metadata": {},
   "source": [
    "After data exploration we can say following:\n",
    "- column RowNumber duplicates index, we can drop it\n",
    "- column names contain capital latters - convert them to lower case\n",
    "- we don't need last names and id's of clients - drop them\n",
    "- tenure column has missing values - about 10% - try to recover them.\n",
    "- gender and geography columns are object - its better to convert them to numeric via one hot encoding method\n",
    "\n"
   ]
  },
  {
   "cell_type": "code",
   "execution_count": 7,
   "metadata": {},
   "outputs": [],
   "source": [
    "#convert to lower case\n",
    "data.columns = data.columns.str.lower()"
   ]
  },
  {
   "cell_type": "code",
   "execution_count": 8,
   "metadata": {},
   "outputs": [
    {
     "name": "stdout",
     "output_type": "stream",
     "text": [
      "<class 'pandas.core.frame.DataFrame'>\n",
      "RangeIndex: 10000 entries, 0 to 9999\n",
      "Data columns (total 11 columns):\n",
      "creditscore        10000 non-null int64\n",
      "geography          10000 non-null object\n",
      "gender             10000 non-null object\n",
      "age                10000 non-null int64\n",
      "tenure             9091 non-null float64\n",
      "balance            10000 non-null float64\n",
      "numofproducts      10000 non-null int64\n",
      "hascrcard          10000 non-null int64\n",
      "isactivemember     10000 non-null int64\n",
      "estimatedsalary    10000 non-null float64\n",
      "exited             10000 non-null int64\n",
      "dtypes: float64(3), int64(6), object(2)\n",
      "memory usage: 859.5+ KB\n"
     ]
    }
   ],
   "source": [
    "#drop rownumber, customerid, surname\n",
    "data = data.drop(['rownumber', 'customerid', 'surname'], axis=1)\n",
    "data.info()"
   ]
  },
  {
   "cell_type": "code",
   "execution_count": 9,
   "metadata": {},
   "outputs": [
    {
     "name": "stdout",
     "output_type": "stream",
     "text": [
      "<class 'pandas.core.frame.DataFrame'>\n",
      "RangeIndex: 10000 entries, 0 to 9999\n",
      "Data columns (total 11 columns):\n",
      "creditscore        10000 non-null int64\n",
      "geography          10000 non-null object\n",
      "gender             10000 non-null object\n",
      "age                10000 non-null int64\n",
      "tenure             10000 non-null float64\n",
      "balance            10000 non-null float64\n",
      "numofproducts      10000 non-null int64\n",
      "hascrcard          10000 non-null int64\n",
      "isactivemember     10000 non-null int64\n",
      "estimatedsalary    10000 non-null float64\n",
      "exited             10000 non-null int64\n",
      "dtypes: float64(3), int64(6), object(2)\n",
      "memory usage: 859.5+ KB\n"
     ]
    }
   ],
   "source": [
    "# fill missing values with data goruped by age and geography \n",
    "data['tenure'] = data['tenure'].fillna(data.groupby(by=['age', 'geography'])['tenure'].transform('median'))\n",
    "data.info()"
   ]
  },
  {
   "cell_type": "code",
   "execution_count": 10,
   "metadata": {},
   "outputs": [
    {
     "name": "stdout",
     "output_type": "stream",
     "text": [
      "<class 'pandas.core.frame.DataFrame'>\n",
      "RangeIndex: 10000 entries, 0 to 9999\n",
      "Data columns (total 12 columns):\n",
      "creditscore          10000 non-null int64\n",
      "age                  10000 non-null int64\n",
      "tenure               10000 non-null float64\n",
      "balance              10000 non-null float64\n",
      "numofproducts        10000 non-null int64\n",
      "hascrcard            10000 non-null int64\n",
      "isactivemember       10000 non-null int64\n",
      "estimatedsalary      10000 non-null float64\n",
      "exited               10000 non-null int64\n",
      "geography_Germany    10000 non-null uint8\n",
      "geography_Spain      10000 non-null uint8\n",
      "gender_Male          10000 non-null uint8\n",
      "dtypes: float64(3), int64(6), uint8(3)\n",
      "memory usage: 732.5 KB\n"
     ]
    }
   ],
   "source": [
    "# encode object data\n",
    "data_ohe = pd.get_dummies(data, drop_first=True)\n",
    "data_ohe.info()"
   ]
  },
  {
   "cell_type": "markdown",
   "metadata": {},
   "source": [
    "### Conclusion"
   ]
  },
  {
   "cell_type": "markdown",
   "metadata": {},
   "source": [
    "After data preprocessing:\n",
    "- column names converted to lower case\n",
    "- columns rownumber, customerid, surname have dropped\n",
    "- filled missing values in tenure column              \n",
    "- object columns gender, geography converted to numeric"
   ]
  },
  {
   "cell_type": "markdown",
   "metadata": {},
   "source": [
    "## Machine Learning"
   ]
  },
  {
   "cell_type": "code",
   "execution_count": 11,
   "metadata": {},
   "outputs": [
    {
     "data": {
      "text/plain": [
       "0    0.7963\n",
       "1    0.2037\n",
       "Name: exited, dtype: float64"
      ]
     },
     "execution_count": 11,
     "metadata": {},
     "output_type": "execute_result"
    }
   ],
   "source": [
    "#check imbalance of classes\n",
    "data_ohe['exited'].value_counts(normalize=True)"
   ]
  },
  {
   "cell_type": "markdown",
   "metadata": {},
   "source": [
    "### Conclusion"
   ]
  },
  {
   "cell_type": "markdown",
   "metadata": {},
   "source": [
    "Distinguished skew toward 0"
   ]
  },
  {
   "cell_type": "markdown",
   "metadata": {},
   "source": [
    "Learn model on the data as it is"
   ]
  },
  {
   "cell_type": "code",
   "execution_count": 12,
   "metadata": {},
   "outputs": [
    {
     "name": "stdout",
     "output_type": "stream",
     "text": [
      "(6000, 12)\n",
      "(2000, 12)\n",
      "(2000, 12)\n"
     ]
    }
   ],
   "source": [
    "# brake data off on train, valid and test\n",
    "train_valid, test = train_test_split(data_ohe, test_size=0.2, random_state=12345)\n",
    "train, valid = train_test_split(train_valid, test_size=0.25, random_state=12345)\n",
    "\n",
    "features_train = train.drop('exited', axis=1)\n",
    "target_train = train['exited']\n",
    "\n",
    "features_valid = valid.drop('exited', axis=1)\n",
    "target_valid = valid['exited']\n",
    "\n",
    "features_test = test.drop('exited', axis=1)\n",
    "target_test = test['exited']\n",
    "\n",
    "#check samples sizes\n",
    "samples = [train, valid, test]\n",
    "for sample in samples:\n",
    "    print(sample.shape)"
   ]
  },
  {
   "cell_type": "code",
   "execution_count": 13,
   "metadata": {},
   "outputs": [
    {
     "data": {
      "text/html": [
       "<div>\n",
       "<style scoped>\n",
       "    .dataframe tbody tr th:only-of-type {\n",
       "        vertical-align: middle;\n",
       "    }\n",
       "\n",
       "    .dataframe tbody tr th {\n",
       "        vertical-align: top;\n",
       "    }\n",
       "\n",
       "    .dataframe thead th {\n",
       "        text-align: right;\n",
       "    }\n",
       "</style>\n",
       "<table border=\"1\" class=\"dataframe\">\n",
       "  <thead>\n",
       "    <tr style=\"text-align: right;\">\n",
       "      <th></th>\n",
       "      <th>creditscore</th>\n",
       "      <th>age</th>\n",
       "      <th>tenure</th>\n",
       "      <th>balance</th>\n",
       "      <th>numofproducts</th>\n",
       "      <th>hascrcard</th>\n",
       "      <th>isactivemember</th>\n",
       "      <th>estimatedsalary</th>\n",
       "      <th>geography_Germany</th>\n",
       "      <th>geography_Spain</th>\n",
       "      <th>gender_Male</th>\n",
       "    </tr>\n",
       "  </thead>\n",
       "  <tbody>\n",
       "    <tr>\n",
       "      <td>492</td>\n",
       "      <td>-0.134048</td>\n",
       "      <td>-0.078068</td>\n",
       "      <td>-0.367882</td>\n",
       "      <td>0.076163</td>\n",
       "      <td>0.816929</td>\n",
       "      <td>-1.550255</td>\n",
       "      <td>0.968496</td>\n",
       "      <td>0.331571</td>\n",
       "      <td>-0.579146</td>\n",
       "      <td>-0.576837</td>\n",
       "      <td>-1.103311</td>\n",
       "    </tr>\n",
       "    <tr>\n",
       "      <td>6655</td>\n",
       "      <td>-1.010798</td>\n",
       "      <td>0.494555</td>\n",
       "      <td>-0.007390</td>\n",
       "      <td>0.136391</td>\n",
       "      <td>-0.896909</td>\n",
       "      <td>0.645055</td>\n",
       "      <td>0.968496</td>\n",
       "      <td>-0.727858</td>\n",
       "      <td>-0.579146</td>\n",
       "      <td>-0.576837</td>\n",
       "      <td>0.906363</td>\n",
       "    </tr>\n",
       "    <tr>\n",
       "      <td>4287</td>\n",
       "      <td>0.639554</td>\n",
       "      <td>1.353490</td>\n",
       "      <td>-1.449359</td>\n",
       "      <td>0.358435</td>\n",
       "      <td>-0.896909</td>\n",
       "      <td>0.645055</td>\n",
       "      <td>0.968496</td>\n",
       "      <td>-0.477006</td>\n",
       "      <td>1.726679</td>\n",
       "      <td>-0.576837</td>\n",
       "      <td>0.906363</td>\n",
       "    </tr>\n",
       "    <tr>\n",
       "      <td>42</td>\n",
       "      <td>-0.990168</td>\n",
       "      <td>2.116987</td>\n",
       "      <td>-1.088866</td>\n",
       "      <td>0.651725</td>\n",
       "      <td>-0.896909</td>\n",
       "      <td>0.645055</td>\n",
       "      <td>0.968496</td>\n",
       "      <td>-0.100232</td>\n",
       "      <td>-0.579146</td>\n",
       "      <td>-0.576837</td>\n",
       "      <td>-1.103311</td>\n",
       "    </tr>\n",
       "    <tr>\n",
       "      <td>8178</td>\n",
       "      <td>0.567351</td>\n",
       "      <td>0.685430</td>\n",
       "      <td>0.713594</td>\n",
       "      <td>0.813110</td>\n",
       "      <td>0.816929</td>\n",
       "      <td>0.645055</td>\n",
       "      <td>0.968496</td>\n",
       "      <td>0.801922</td>\n",
       "      <td>-0.579146</td>\n",
       "      <td>-0.576837</td>\n",
       "      <td>-1.103311</td>\n",
       "    </tr>\n",
       "  </tbody>\n",
       "</table>\n",
       "</div>"
      ],
      "text/plain": [
       "      creditscore       age    tenure   balance  numofproducts  hascrcard  \\\n",
       "492     -0.134048 -0.078068 -0.367882  0.076163       0.816929  -1.550255   \n",
       "6655    -1.010798  0.494555 -0.007390  0.136391      -0.896909   0.645055   \n",
       "4287     0.639554  1.353490 -1.449359  0.358435      -0.896909   0.645055   \n",
       "42      -0.990168  2.116987 -1.088866  0.651725      -0.896909   0.645055   \n",
       "8178     0.567351  0.685430  0.713594  0.813110       0.816929   0.645055   \n",
       "\n",
       "      isactivemember  estimatedsalary  geography_Germany  geography_Spain  \\\n",
       "492         0.968496         0.331571          -0.579146        -0.576837   \n",
       "6655        0.968496        -0.727858          -0.579146        -0.576837   \n",
       "4287        0.968496        -0.477006           1.726679        -0.576837   \n",
       "42          0.968496        -0.100232          -0.579146        -0.576837   \n",
       "8178        0.968496         0.801922          -0.579146        -0.576837   \n",
       "\n",
       "      gender_Male  \n",
       "492     -1.103311  \n",
       "6655     0.906363  \n",
       "4287     0.906363  \n",
       "42      -1.103311  \n",
       "8178    -1.103311  "
      ]
     },
     "execution_count": 13,
     "metadata": {},
     "output_type": "execute_result"
    }
   ],
   "source": [
    "#scalar features\n",
    "numeric = features_train.columns.values\n",
    "\n",
    "scaler = StandardScaler()\n",
    "scaler.fit(features_train[numeric])\n",
    "\n",
    "features_train[numeric] = scaler.transform(features_train[numeric])\n",
    "features_valid[numeric] = scaler.transform(features_valid[numeric])\n",
    "features_test[numeric] = scaler.transform(features_test[numeric])\n",
    "pd.options.mode.chained_assignment = None\n",
    "features_train.head()"
   ]
  },
  {
   "cell_type": "code",
   "execution_count": 14,
   "metadata": {},
   "outputs": [
    {
     "name": "stdout",
     "output_type": "stream",
     "text": [
      "Best hyperparametres {'n_estimators': 80, 'max_depth': 7, 'criterion': 'gini'}\n"
     ]
    }
   ],
   "source": [
    "#learn a RandomForest model and find optimal hyperparameters\n",
    "rf = RandomForestClassifier(random_state=12345) \n",
    "distributions = dict(n_estimators=[1, 80], max_depth=[1, 7], criterion = ['gini', 'entropy'])\n",
    "\n",
    "clf = RandomizedSearchCV(rf, distributions, random_state=12345)\n",
    "search = clf.fit(features_train, target_train)\n",
    "\n",
    "print('Best hyperparametres', search.best_params_)\n",
    "\n",
    "best_n_estimators = search.best_params_['n_estimators']\n",
    "best_max_depth = search.best_params_['max_depth']\n",
    "best_criterion = search.best_params_['criterion']"
   ]
  },
  {
   "cell_type": "code",
   "execution_count": 15,
   "metadata": {},
   "outputs": [
    {
     "name": "stdout",
     "output_type": "stream",
     "text": [
      "F1_score of the best model: 0.5214408233276158\n"
     ]
    }
   ],
   "source": [
    "#learn a RandomForest model with optimal hyperparameters\n",
    "\n",
    "rf = RandomForestClassifier(random_state=12345, \n",
    "                n_estimators=best_n_estimators,\n",
    "                max_depth=best_max_depth,\n",
    "                criterion=best_criterion) \n",
    "\n",
    "rf.fit(features_train, target_train)\n",
    "predicted_valid = rf.predict(features_valid)\n",
    "rf_result = f1_score(target_valid, predicted_valid)\n",
    "  \n",
    "print(\"F1_score of the best model:\", rf_result)"
   ]
  },
  {
   "cell_type": "code",
   "execution_count": 16,
   "metadata": {},
   "outputs": [
    {
     "name": "stdout",
     "output_type": "stream",
     "text": [
      "Best hyperparametres {'solver': 'saga', 'C': 0.01}\n"
     ]
    }
   ],
   "source": [
    "#do the same with a LogisticRegression model\n",
    "lr = LogisticRegression(random_state=12345, penalty = 'l2')\n",
    "distributions = dict(solver=['newton-cg', 'lbfgs', 'liblinear', 'sag', 'saga'], \n",
    "                     C = [100, 10, 1.0, 0.1, 0.01, 0.001],\n",
    "                    )\n",
    "\n",
    "clf = RandomizedSearchCV(lr, distributions, random_state=12345)\n",
    "search = clf.fit(features_train, target_train)\n",
    "\n",
    "print('Best hyperparametres', search.best_params_)\n",
    "\n",
    "best_solver = search.best_params_['solver']\n",
    "best_C = search.best_params_['C']\n"
   ]
  },
  {
   "cell_type": "code",
   "execution_count": 17,
   "metadata": {},
   "outputs": [
    {
     "name": "stdout",
     "output_type": "stream",
     "text": [
      "F1_score of the best model: 0.24193548387096778\n"
     ]
    }
   ],
   "source": [
    "#learn a LogisticRegression model with optimal hyperparameters\n",
    "def Learn_LogisticRegression(features_train, target_train, features_valid, target_valid, class_weight):\n",
    "    lr = LogisticRegression(solver=best_solver, C=best_C, random_state=12345, class_weight=class_weight) \n",
    "\n",
    "    lr.fit(features_train, target_train)\n",
    "\n",
    "    predicted_valid = lr.predict(features_valid)\n",
    "    lr_result = f1_score(target_valid, predicted_valid)\n",
    "    return lr_result\n",
    "\n",
    "lr_result = Learn_LogisticRegression(features_train, target_train, features_valid, target_valid, None)\n",
    "print(\"F1_score of the best model:\", lr_result)"
   ]
  },
  {
   "cell_type": "code",
   "execution_count": 18,
   "metadata": {},
   "outputs": [
    {
     "name": "stdout",
     "output_type": "stream",
     "text": [
      "                        F1_score\n",
      "best_forest_result      0.521441\n",
      "best_regression_result  0.241935\n"
     ]
    },
    {
     "data": {
      "image/png": "[encoded data removed]",
      "text/plain": [
       "<Figure size 432x432 with 1 Axes>"
      ]
     },
     "metadata": {
      "needs_background": "light"
     },
     "output_type": "display_data"
    }
   ],
   "source": [
    "#compare results on validation dataset\n",
    "def show_results(rf_result, lr_result):\n",
    "    results = pd.DataFrame({'F1_score' : [rf_result, lr_result]}, \n",
    "                           index = ['best_forest_result', 'best_regression_result'])\n",
    "\n",
    "    print(results)\n",
    "\n",
    "    plt.figure(figsize=(6,6))\n",
    "    sns.barplot(x= results.index, y=results['F1_score'], palette=\"rocket_r\")\n",
    "    plt.suptitle('Comparasion of F1_score for different models', fontsize=16)\n",
    "    plt.xlabel('model_name')\n",
    "    plt.ylabel('F1_score')\n",
    "    plt.axhline(0.59, label='target line')\n",
    "    plt.legend(loc=\"higher right\", bbox_to_anchor=(0.5, 0.45, 0.5, 0.5))\n",
    "    plt.show()\n",
    "    \n",
    "show_results(rf_result, lr_result)"
   ]
  },
  {
   "cell_type": "markdown",
   "metadata": {},
   "source": [
    "### Conclusion"
   ]
  },
  {
   "cell_type": "markdown",
   "metadata": {},
   "source": [
    "Couse of a strong imbalance f1 score of both models is less than we expected (0.59). Let's try few ways to improve it.  \n"
   ]
  },
  {
   "cell_type": "markdown",
   "metadata": {},
   "source": [
    "## Classes Balance Improvement"
   ]
  },
  {
   "cell_type": "markdown",
   "metadata": {},
   "source": [
    "May be class weighting can help us"
   ]
  },
  {
   "cell_type": "code",
   "execution_count": 19,
   "metadata": {},
   "outputs": [
    {
     "name": "stdout",
     "output_type": "stream",
     "text": [
      "F1_score of balanced model: 0.5821389195148842\n"
     ]
    }
   ],
   "source": [
    "#RandomForest at first\n",
    "rf = RandomForestClassifier(random_state=12345, \n",
    "                            n_estimators=best_n_estimators,\n",
    "                           max_depth=best_max_depth,\n",
    "                           criterion=best_criterion,\n",
    "                            class_weight='balanced') \n",
    "\n",
    "rf.fit(features_train, target_train)\n",
    "predicted_valid = rf.predict(features_valid)\n",
    "rf_result_balanced = f1_score(target_valid, predicted_valid)\n",
    "\n",
    "print(\"F1_score of balanced model:\", rf_result_balanced)"
   ]
  },
  {
   "cell_type": "code",
   "execution_count": 20,
   "metadata": {},
   "outputs": [
    {
     "name": "stdout",
     "output_type": "stream",
     "text": [
      "F1_score of balanced model: 0.4741532976827095\n"
     ]
    }
   ],
   "source": [
    "#then LogisticRegression\n",
    "lr = LogisticRegression(\n",
    "    random_state=12345, solver=best_solver, \n",
    "    C=best_C,\n",
    "    class_weight='balanced') \n",
    "\n",
    "lr.fit(features_train, target_train)\n",
    "\n",
    "predicted_valid = lr.predict(features_valid)\n",
    "lr_result_balanced = f1_score(target_valid, predicted_valid)\n",
    "\n",
    "print(\"F1_score of balanced model:\", lr_result_balanced)"
   ]
  },
  {
   "cell_type": "code",
   "execution_count": 21,
   "metadata": {},
   "outputs": [
    {
     "name": "stdout",
     "output_type": "stream",
     "text": [
      "                        F1_score\n",
      "best_forest_result      0.582139\n",
      "best_regression_result  0.474153\n"
     ]
    },
    {
     "data": {
      "image/png": "[encoded data removed]",
      "text/plain": [
       "<Figure size 432x432 with 1 Axes>"
      ]
     },
     "metadata": {
      "needs_background": "light"
     },
     "output_type": "display_data"
    }
   ],
   "source": [
    "show_results(rf_result_balanced, lr_result_balanced)"
   ]
  },
  {
   "cell_type": "markdown",
   "metadata": {},
   "source": [
    "### Conclusion"
   ]
  },
  {
   "cell_type": "markdown",
   "metadata": {},
   "source": [
    "After class weighting F1_score has increased and with RandomForest almost hit the target.\n",
    "Go try another way."
   ]
  },
  {
   "cell_type": "markdown",
   "metadata": {},
   "source": [
    "Features upsampling"
   ]
  },
  {
   "cell_type": "code",
   "execution_count": 22,
   "metadata": {},
   "outputs": [],
   "source": [
    "#upsampling function\n",
    "def upsample(features, target, repeat):\n",
    "    features_zeros = features[target == 0]\n",
    "    features_ones = features[target == 1]\n",
    "    target_zeros = target[target == 0]\n",
    "    target_ones = target[target == 1]\n",
    "\n",
    "    features_upsampled = pd.concat([features_zeros] + [features_ones] * repeat)\n",
    "    target_upsampled = pd.concat([target_zeros] + [target_ones] * repeat)\n",
    "    \n",
    "    features_upsampled, target_upsampled = shuffle(\n",
    "        features_upsampled, target_upsampled, random_state=12345)\n",
    "    \n",
    "    return features_upsampled, target_upsampled\n",
    "\n",
    "features_upsampled, target_upsampled = upsample(features_train, target_train, 2)"
   ]
  },
  {
   "cell_type": "code",
   "execution_count": 23,
   "metadata": {},
   "outputs": [
    {
     "name": "stdout",
     "output_type": "stream",
     "text": [
      "F1_score of model on upsampled features: 0.6051873198847263\n"
     ]
    }
   ],
   "source": [
    "#RandomForest\n",
    "rf = RandomForestClassifier(random_state=12345, \n",
    "                            n_estimators=best_n_estimators,\n",
    "                           max_depth=best_max_depth,\n",
    "                           criterion=best_criterion) \n",
    "\n",
    "rf.fit(features_upsampled, target_upsampled)\n",
    "predicted_valid = rf.predict(features_valid)\n",
    "rf_result_upsampled = f1_score(target_valid, predicted_valid)\n",
    "best_rf = rf\n",
    "\n",
    "print(\"F1_score of model on upsampled features:\", rf_result_upsampled)"
   ]
  },
  {
   "cell_type": "code",
   "execution_count": 24,
   "metadata": {},
   "outputs": [
    {
     "name": "stdout",
     "output_type": "stream",
     "text": [
      "F1_score of model on upsampled features: 0.4808743169398907\n"
     ]
    }
   ],
   "source": [
    "#LogisticRegression\n",
    "lr = LogisticRegression(\n",
    "    random_state=12345, solver=best_solver, \n",
    "    C=best_C) \n",
    "\n",
    "lr.fit(features_upsampled, target_upsampled)\n",
    "\n",
    "predicted_valid = lr.predict(features_valid)\n",
    "lr_result_upsampled = f1_score(target_valid, predicted_valid)\n",
    "\n",
    "print(\"F1_score of model on upsampled features:\", lr_result_upsampled)"
   ]
  },
  {
   "cell_type": "code",
   "execution_count": 25,
   "metadata": {},
   "outputs": [
    {
     "name": "stdout",
     "output_type": "stream",
     "text": [
      "                        F1_score\n",
      "best_forest_result      0.605187\n",
      "best_regression_result  0.480874\n"
     ]
    },
    {
     "data": {
      "image/png": "[encoded data removed]",
      "text/plain": [
       "<Figure size 432x432 with 1 Axes>"
      ]
     },
     "metadata": {
      "needs_background": "light"
     },
     "output_type": "display_data"
    }
   ],
   "source": [
    "show_results(rf_result_upsampled, lr_result_upsampled)"
   ]
  },
  {
   "cell_type": "markdown",
   "metadata": {},
   "source": [
    "### Conclusion"
   ]
  },
  {
   "cell_type": "markdown",
   "metadata": {},
   "source": [
    "Features upsampling distinctly improved model performance. So RandomForest model hit the target."
   ]
  },
  {
   "cell_type": "markdown",
   "metadata": {},
   "source": [
    "Features downsampling"
   ]
  },
  {
   "cell_type": "code",
   "execution_count": 26,
   "metadata": {},
   "outputs": [],
   "source": [
    "#downsampling function\n",
    "def downsample(features, target, fraction):\n",
    "    features_zeros = features[target == 0]\n",
    "    features_ones = features[target == 1]\n",
    "    target_zeros = target[target == 0]\n",
    "    target_ones = target[target == 1]\n",
    "\n",
    "    features_downsampled = pd.concat(\n",
    "        [features_zeros.sample(frac=fraction, random_state=12345)] + [features_ones])\n",
    "    target_downsampled = pd.concat(\n",
    "        [target_zeros.sample(frac=fraction, random_state=12345)] + [target_ones])\n",
    "    \n",
    "    features_downsampled, target_downsampled = shuffle(\n",
    "        features_downsampled, target_downsampled, random_state=12345)\n",
    "    \n",
    "    return features_downsampled, target_downsampled\n",
    "\n",
    "features_downsampled, target_downsampled = downsample(features_train, target_train, 0.5)"
   ]
  },
  {
   "cell_type": "code",
   "execution_count": 27,
   "metadata": {},
   "outputs": [
    {
     "name": "stdout",
     "output_type": "stream",
     "text": [
      "F1_score of model on downsampled features: 0.5931232091690544\n"
     ]
    }
   ],
   "source": [
    "#RandomForest\n",
    "rf = RandomForestClassifier(random_state=12345, \n",
    "                            n_estimators=best_n_estimators,\n",
    "                           max_depth=best_max_depth,\n",
    "                           criterion=best_criterion) \n",
    "\n",
    "rf.fit(features_downsampled, target_downsampled)\n",
    "predicted_valid = rf.predict(features_valid)\n",
    "rf_result_downsampled = f1_score(target_valid, predicted_valid)\n",
    "\n",
    "print(\"F1_score of model on downsampled features:\", rf_result_downsampled)"
   ]
  },
  {
   "cell_type": "code",
   "execution_count": 28,
   "metadata": {},
   "outputs": [
    {
     "name": "stdout",
     "output_type": "stream",
     "text": [
      "F1_score of model on downsampled features: 0.4725274725274725\n"
     ]
    }
   ],
   "source": [
    "#затем LogisticRegression\n",
    "lr = LogisticRegression(\n",
    "    random_state=12345, solver=best_solver, \n",
    "    C=best_C) \n",
    "\n",
    "lr.fit(features_downsampled, target_downsampled)\n",
    "\n",
    "predicted_valid = lr.predict(features_valid)\n",
    "lr_result_downsampled = f1_score(target_valid, predicted_valid)\n",
    "\n",
    "print(\"F1_score of model on downsampled features:\", lr_result_downsampled)"
   ]
  },
  {
   "cell_type": "code",
   "execution_count": 29,
   "metadata": {},
   "outputs": [
    {
     "name": "stdout",
     "output_type": "stream",
     "text": [
      "                        F1_score\n",
      "best_forest_result      0.593123\n",
      "best_regression_result  0.472527\n"
     ]
    },
    {
     "data": {
      "image/png": "[encoded data removed]",
      "text/plain": [
       "<Figure size 432x432 with 1 Axes>"
      ]
     },
     "metadata": {
      "needs_background": "light"
     },
     "output_type": "display_data"
    }
   ],
   "source": [
    "show_results(rf_result_downsampled, lr_result_downsampled)"
   ]
  },
  {
   "cell_type": "markdown",
   "metadata": {},
   "source": [
    "### Conclusion"
   ]
  },
  {
   "cell_type": "markdown",
   "metadata": {},
   "source": [
    "Features downsampling has helped to increase the metric, but less then upsampling. Goal is accomplished anyway. "
   ]
  },
  {
   "cell_type": "markdown",
   "metadata": {},
   "source": [
    "Classification treshold adjusting\n"
   ]
  },
  {
   "cell_type": "code",
   "execution_count": 30,
   "metadata": {},
   "outputs": [
    {
     "name": "stdout",
     "output_type": "stream",
     "text": [
      "F1_score model with a greater classification treshold: 0.49196538936959205\n",
      "Best threshold: 0.6200000000000001\n"
     ]
    }
   ],
   "source": [
    "# let's try to get up a treshold and fit the best LogisticRegression model with upsampling and class weighting \n",
    "\n",
    "lr = LogisticRegression(\n",
    "    random_state=12345, solver=best_solver, \n",
    "    C=best_C,\n",
    "    class_weight='balanced') \n",
    "\n",
    "lr.fit(features_upsampled, target_upsampled)\n",
    "\n",
    "probabilities_one_valid = lr.predict_proba(features_valid)[:, 1]\n",
    "\n",
    "lr_result_adjusted = 0\n",
    "for threshold in np.arange(0.5, 0.75, 0.02):\n",
    "    predicted_valid = probabilities_one_valid > threshold\n",
    "    lr_result_threshold = f1_score(target_valid, predicted_valid)\n",
    "    if lr_result_threshold > lr_result_adjusted:\n",
    "        lr_result_adjusted = lr_result_threshold\n",
    "        threshold_adjusted = threshold\n",
    "\n",
    "print(\"F1_score model with a greater classification treshold:\", lr_result_adjusted)\n",
    "print(\"Best threshold:\", threshold_adjusted)"
   ]
  },
  {
   "cell_type": "code",
   "execution_count": 31,
   "metadata": {},
   "outputs": [
    {
     "data": {
      "image/png": "[encoded data removed]",
      "text/plain": [
       "<Figure size 432x288 with 1 Axes>"
      ]
     },
     "metadata": {
      "needs_background": "light"
     },
     "output_type": "display_data"
    },
    {
     "name": "stdout",
     "output_type": "stream",
     "text": [
      "AUC_ROC = 0.7721114765251089\n"
     ]
    }
   ],
   "source": [
    "# plot the ROC curve\n",
    "fpr, tpr, thresholds = roc_curve(target_valid, probabilities_one_valid)\n",
    "\n",
    "plt.figure()\n",
    "\n",
    "plt.plot([0, 1], [0, 1], linestyle='--')\n",
    "plt.plot(fpr, tpr)\n",
    "\n",
    "plt.xlim([0.0, 1.0])\n",
    "plt.ylim([0.0, 1.0])\n",
    "\n",
    "plt.xlabel('False Positive Rate')\n",
    "plt.ylabel('True Positive Rate')\n",
    "\n",
    "plt.title('ROC-curve')\n",
    "plt.show()\n",
    "\n",
    "auc_roc = roc_auc_score(target_valid, probabilities_one_valid)\n",
    "print('AUC_ROC =', auc_roc)"
   ]
  },
  {
   "cell_type": "code",
   "execution_count": 32,
   "metadata": {},
   "outputs": [
    {
     "name": "stdout",
     "output_type": "stream",
     "text": [
      "F1_score model with a lesser classification treshold: 0.4874371859296482\n",
      "Best threshold: 0.3\n"
     ]
    }
   ],
   "source": [
    "# do the same with ''standard'' model, but lesser classification treshold\n",
    "lr = LogisticRegression(\n",
    "    random_state=12345, solver=best_solver, \n",
    "    C=best_C) \n",
    "\n",
    "lr.fit(features_train, target_train)\n",
    "\n",
    "probabilities_one_valid = lr.predict_proba(features_valid)[:, 1]\n",
    "\n",
    "lr_result_adjusted = 0\n",
    "for threshold in np.arange(0, 0.5, 0.02):\n",
    "    predicted_valid = probabilities_one_valid > threshold\n",
    "    lr_result_threshold = f1_score(target_valid, predicted_valid)\n",
    "    if lr_result_threshold > lr_result_adjusted:\n",
    "        lr_result_adjusted = lr_result_threshold\n",
    "        threshold_adjusted = threshold\n",
    "\n",
    "print(\"F1_score model with a lesser classification treshold:\", lr_result_adjusted)\n",
    "print(\"Best threshold:\", threshold_adjusted)"
   ]
  },
  {
   "cell_type": "code",
   "execution_count": 33,
   "metadata": {
    "scrolled": true
   },
   "outputs": [
    {
     "data": {
      "image/png": "[encoded data removed]",
      "text/plain": [
       "<Figure size 432x288 with 1 Axes>"
      ]
     },
     "metadata": {
      "needs_background": "light"
     },
     "output_type": "display_data"
    },
    {
     "name": "stdout",
     "output_type": "stream",
     "text": [
      "AUC_ROC = 0.7699624395384657\n"
     ]
    }
   ],
   "source": [
    "# plot the ROC curve\n",
    "fpr, tpr, thresholds = roc_curve(target_valid, probabilities_one_valid)\n",
    "\n",
    "plt.figure()\n",
    "\n",
    "plt.plot([0, 1], [0, 1], linestyle='--')\n",
    "plt.plot(fpr, tpr)\n",
    "\n",
    "plt.xlim([0.0, 1.0])\n",
    "plt.ylim([0.0, 1.0])\n",
    "\n",
    "plt.xlabel('False Positive Rate')\n",
    "plt.ylabel('True Positive Rate')\n",
    "\n",
    "plt.title('ROC-curve')\n",
    "plt.show()\n",
    "\n",
    "auc_roc = roc_auc_score(target_valid, probabilities_one_valid)\n",
    "print('AUC_ROC =', auc_roc)"
   ]
  },
  {
   "cell_type": "markdown",
   "metadata": {},
   "source": [
    "### Conclusion"
   ]
  },
  {
   "cell_type": "markdown",
   "metadata": {},
   "source": [
    "Class balancing and upsampling helps to improve performance of Logistic Regression model. On ROC curve figure we can see that model shows good enough true positive ratio at not so great fals positive ratio. But f1 score don't muches given requirement."
   ]
  },
  {
   "cell_type": "markdown",
   "metadata": {},
   "source": [
    "## Model Testing"
   ]
  },
  {
   "cell_type": "code",
   "execution_count": 34,
   "metadata": {},
   "outputs": [
    {
     "name": "stdout",
     "output_type": "stream",
     "text": [
      "F1_score of model with upsampling: 0.6120358514724712\n",
      "Recall of model with upsampling: 0.5597189695550351\n",
      "Precision of model with upsampling: 0.6751412429378532\n"
     ]
    }
   ],
   "source": [
    "#check the best model fitted on train+valid on test dataset\n",
    "features_train_valid = train_valid.drop('exited', axis=1)\n",
    "target_train_valid = train_valid['exited']\n",
    "\n",
    "best_rf.fit(features_train_valid, target_train_valid)\n",
    "predicted_valid = rf.predict(features_test)\n",
    "rf_result_upsampled = f1_score(target_test, predicted_valid)\n",
    "\n",
    "print(\"F1_score of model with upsampling:\", rf_result_upsampled)\n",
    "print(\"Recall of model with upsampling:\", recall_score(target_test, predicted_valid))\n",
    "print(\"Precision of model with upsampling:\", precision_score(target_test, predicted_valid))"
   ]
  },
  {
   "cell_type": "code",
   "execution_count": 35,
   "metadata": {},
   "outputs": [
    {
     "name": "stdout",
     "output_type": "stream",
     "text": [
      "                        F1_score\n",
      "best_forest_result      0.612036\n",
      "best_regression_result       NaN\n"
     ]
    },
    {
     "data": {
      "image/png": "[encoded data removed]",
      "text/plain": [
       "<Figure size 432x432 with 1 Axes>"
      ]
     },
     "metadata": {
      "needs_background": "light"
     },
     "output_type": "display_data"
    }
   ],
   "source": [
    "show_results(rf_result_upsampled, None)"
   ]
  },
  {
   "cell_type": "code",
   "execution_count": 36,
   "metadata": {},
   "outputs": [
    {
     "data": {
      "text/plain": [
       "Text(0, 0.5, 'Mean decrease in impurity')"
      ]
     },
     "execution_count": 36,
     "metadata": {},
     "output_type": "execute_result"
    },
    {
     "data": {
      "image/png": "[encoded data removed]",
      "text/plain": [
       "<Figure size 432x288 with 1 Axes>"
      ]
     },
     "metadata": {
      "needs_background": "light"
     },
     "output_type": "display_data"
    }
   ],
   "source": [
    "#have a look at the features importance\n",
    "importances = best_rf.feature_importances_\n",
    "forest_importances = pd.Series(importances, index=features_test.columns)\n",
    "\n",
    "fig, ax = plt.subplots()\n",
    "forest_importances.plot.bar()\n",
    "ax.set_title('Feature importances')\n",
    "ax.set_ylabel('Mean decrease in impurity')\n"
   ]
  },
  {
   "cell_type": "markdown",
   "metadata": {},
   "source": [
    "### Conclusion"
   ]
  },
  {
   "cell_type": "markdown",
   "metadata": {},
   "source": [
    "Model performance has approved on test dataset. Increasing of max_depth parameter should improve model performance but might lead to overfitting."
   ]
  },
  {
   "cell_type": "markdown",
   "metadata": {},
   "source": [
    "## General Conclusion"
   ]
  },
  {
   "cell_type": "markdown",
   "metadata": {},
   "source": [
    "In this project we 've built the model to predict bank clients churn. F1 score muches given requirements (0.59). It appears that the most influence features are age and num_of_products."
   ]
  }
 ],
 "metadata": {
  "ExecuteTimeLog": [
   {
    "duration": 598,
    "start_time": "2021-09-03T10:44:39.050Z"
   },
   {
    "duration": 8,
    "start_time": "2021-09-03T10:44:39.908Z"
   },
   {
    "duration": 54,
    "start_time": "2021-09-03T10:46:24.858Z"
   },
   {
    "duration": 13,
    "start_time": "2021-09-03T10:49:07.178Z"
   },
   {
    "duration": 19,
    "start_time": "2021-09-03T10:49:19.491Z"
   },
   {
    "duration": 16,
    "start_time": "2021-09-03T10:50:58.819Z"
   },
   {
    "duration": 3,
    "start_time": "2021-09-03T10:55:30.413Z"
   },
   {
    "duration": 12,
    "start_time": "2021-09-03T10:55:50.399Z"
   },
   {
    "duration": 5446,
    "start_time": "2021-09-03T11:01:13.433Z"
   },
   {
    "duration": 8,
    "start_time": "2021-09-03T11:01:32.725Z"
   },
   {
    "duration": 6,
    "start_time": "2021-09-03T11:08:49.804Z"
   },
   {
    "duration": 20,
    "start_time": "2021-09-03T11:16:56.472Z"
   },
   {
    "duration": 5,
    "start_time": "2021-09-03T11:21:42.182Z"
   },
   {
    "duration": 16,
    "start_time": "2021-09-03T11:22:53.361Z"
   },
   {
    "duration": 209,
    "start_time": "2021-09-03T11:30:18.274Z"
   },
   {
    "duration": 10,
    "start_time": "2021-09-03T11:30:32.314Z"
   },
   {
    "duration": 11,
    "start_time": "2021-09-03T11:37:43.810Z"
   },
   {
    "duration": 18,
    "start_time": "2021-09-03T11:46:38.657Z"
   },
   {
    "duration": 17,
    "start_time": "2021-09-03T11:46:52.969Z"
   },
   {
    "duration": 9,
    "start_time": "2021-09-03T14:44:11.372Z"
   },
   {
    "duration": 183,
    "start_time": "2021-09-03T14:50:13.146Z"
   },
   {
    "duration": 963,
    "start_time": "2021-09-03T14:50:19.334Z"
   },
   {
    "duration": 7,
    "start_time": "2021-09-03T14:50:20.299Z"
   },
   {
    "duration": 42,
    "start_time": "2021-09-03T14:50:20.309Z"
   },
   {
    "duration": 15,
    "start_time": "2021-09-03T14:50:20.352Z"
   },
   {
    "duration": 29,
    "start_time": "2021-09-03T14:50:20.369Z"
   },
   {
    "duration": 3,
    "start_time": "2021-09-03T14:50:20.399Z"
   },
   {
    "duration": 12,
    "start_time": "2021-09-03T14:50:20.403Z"
   },
   {
    "duration": 12,
    "start_time": "2021-09-03T14:50:20.417Z"
   },
   {
    "duration": 15,
    "start_time": "2021-09-03T14:50:20.431Z"
   },
   {
    "duration": 38,
    "start_time": "2021-09-03T14:50:20.447Z"
   },
   {
    "duration": 5,
    "start_time": "2021-09-03T14:50:20.487Z"
   },
   {
    "duration": 6,
    "start_time": "2021-09-03T15:02:52.505Z"
   },
   {
    "duration": 296,
    "start_time": "2021-09-03T15:03:54.768Z"
   },
   {
    "duration": 14,
    "start_time": "2021-09-03T15:04:24.330Z"
   },
   {
    "duration": 1044,
    "start_time": "2021-09-03T15:08:39.295Z"
   },
   {
    "duration": 8,
    "start_time": "2021-09-03T15:08:40.341Z"
   },
   {
    "duration": 53,
    "start_time": "2021-09-03T15:08:40.351Z"
   },
   {
    "duration": 15,
    "start_time": "2021-09-03T15:08:40.406Z"
   },
   {
    "duration": 18,
    "start_time": "2021-09-03T15:08:40.423Z"
   },
   {
    "duration": 2,
    "start_time": "2021-09-03T15:08:40.442Z"
   },
   {
    "duration": 18,
    "start_time": "2021-09-03T15:08:40.446Z"
   },
   {
    "duration": 23,
    "start_time": "2021-09-03T15:08:40.466Z"
   },
   {
    "duration": 17,
    "start_time": "2021-09-03T15:08:40.491Z"
   },
   {
    "duration": 8,
    "start_time": "2021-09-03T15:08:40.510Z"
   },
   {
    "duration": 17,
    "start_time": "2021-09-03T15:08:40.519Z"
   },
   {
    "duration": 275,
    "start_time": "2021-09-03T15:08:40.538Z"
   },
   {
    "duration": 240,
    "start_time": "2021-09-03T15:09:30.128Z"
   },
   {
    "duration": 1044,
    "start_time": "2021-09-03T15:10:35.278Z"
   },
   {
    "duration": 8,
    "start_time": "2021-09-03T15:10:36.324Z"
   },
   {
    "duration": 42,
    "start_time": "2021-09-03T15:10:36.334Z"
   },
   {
    "duration": 24,
    "start_time": "2021-09-03T15:10:36.378Z"
   },
   {
    "duration": 16,
    "start_time": "2021-09-03T15:10:36.404Z"
   },
   {
    "duration": 2,
    "start_time": "2021-09-03T15:10:36.421Z"
   },
   {
    "duration": 10,
    "start_time": "2021-09-03T15:10:36.425Z"
   },
   {
    "duration": 10,
    "start_time": "2021-09-03T15:10:36.437Z"
   },
   {
    "duration": 15,
    "start_time": "2021-09-03T15:10:36.448Z"
   },
   {
    "duration": 15,
    "start_time": "2021-09-03T15:10:36.484Z"
   },
   {
    "duration": 12,
    "start_time": "2021-09-03T15:10:36.500Z"
   },
   {
    "duration": 296,
    "start_time": "2021-09-03T15:10:36.513Z"
   },
   {
    "duration": 1047,
    "start_time": "2021-09-03T15:11:09.675Z"
   },
   {
    "duration": 7,
    "start_time": "2021-09-03T15:11:10.725Z"
   },
   {
    "duration": 43,
    "start_time": "2021-09-03T15:11:10.734Z"
   },
   {
    "duration": 22,
    "start_time": "2021-09-03T15:11:10.779Z"
   },
   {
    "duration": 26,
    "start_time": "2021-09-03T15:11:10.803Z"
   },
   {
    "duration": 3,
    "start_time": "2021-09-03T15:11:10.830Z"
   },
   {
    "duration": 14,
    "start_time": "2021-09-03T15:11:10.835Z"
   },
   {
    "duration": 42,
    "start_time": "2021-09-03T15:11:10.851Z"
   },
   {
    "duration": 17,
    "start_time": "2021-09-03T15:11:10.895Z"
   },
   {
    "duration": 10,
    "start_time": "2021-09-03T15:11:10.914Z"
   },
   {
    "duration": 13,
    "start_time": "2021-09-03T15:11:10.925Z"
   },
   {
    "duration": 287,
    "start_time": "2021-09-03T15:11:10.940Z"
   },
   {
    "duration": 993,
    "start_time": "2021-09-03T15:11:42.437Z"
   },
   {
    "duration": 8,
    "start_time": "2021-09-03T15:11:43.432Z"
   },
   {
    "duration": 49,
    "start_time": "2021-09-03T15:11:43.441Z"
   },
   {
    "duration": 18,
    "start_time": "2021-09-03T15:11:43.492Z"
   },
   {
    "duration": 16,
    "start_time": "2021-09-03T15:11:43.511Z"
   },
   {
    "duration": 3,
    "start_time": "2021-09-03T15:11:43.528Z"
   },
   {
    "duration": 10,
    "start_time": "2021-09-03T15:11:43.532Z"
   },
   {
    "duration": 10,
    "start_time": "2021-09-03T15:11:43.544Z"
   },
   {
    "duration": 54,
    "start_time": "2021-09-03T15:11:43.556Z"
   },
   {
    "duration": 6,
    "start_time": "2021-09-03T15:11:43.612Z"
   },
   {
    "duration": 12,
    "start_time": "2021-09-03T15:11:43.619Z"
   },
   {
    "duration": 2984,
    "start_time": "2021-09-03T15:11:43.633Z"
   },
   {
    "duration": 1032,
    "start_time": "2021-09-03T15:14:40.711Z"
   },
   {
    "duration": 7,
    "start_time": "2021-09-03T15:14:41.745Z"
   },
   {
    "duration": 50,
    "start_time": "2021-09-03T15:14:41.757Z"
   },
   {
    "duration": 15,
    "start_time": "2021-09-03T15:14:41.808Z"
   },
   {
    "duration": 17,
    "start_time": "2021-09-03T15:14:41.824Z"
   },
   {
    "duration": 16,
    "start_time": "2021-09-03T15:14:41.843Z"
   },
   {
    "duration": 39,
    "start_time": "2021-09-03T15:14:41.861Z"
   },
   {
    "duration": 17,
    "start_time": "2021-09-03T15:14:41.901Z"
   },
   {
    "duration": 28,
    "start_time": "2021-09-03T15:14:41.920Z"
   },
   {
    "duration": 9,
    "start_time": "2021-09-03T15:14:41.950Z"
   },
   {
    "duration": 17,
    "start_time": "2021-09-03T15:14:41.960Z"
   },
   {
    "duration": 3002,
    "start_time": "2021-09-03T15:14:41.978Z"
   },
   {
    "duration": 3483,
    "start_time": "2021-09-03T15:18:05.718Z"
   },
   {
    "duration": 1094,
    "start_time": "2021-09-03T15:18:14.806Z"
   },
   {
    "duration": 13,
    "start_time": "2021-09-03T15:18:15.902Z"
   },
   {
    "duration": 48,
    "start_time": "2021-09-03T15:18:15.918Z"
   },
   {
    "duration": 28,
    "start_time": "2021-09-03T15:18:15.968Z"
   },
   {
    "duration": 34,
    "start_time": "2021-09-03T15:18:15.998Z"
   },
   {
    "duration": 2,
    "start_time": "2021-09-03T15:18:16.034Z"
   },
   {
    "duration": 13,
    "start_time": "2021-09-03T15:18:16.038Z"
   },
   {
    "duration": 39,
    "start_time": "2021-09-03T15:18:16.053Z"
   },
   {
    "duration": 25,
    "start_time": "2021-09-03T15:18:16.096Z"
   },
   {
    "duration": 9,
    "start_time": "2021-09-03T15:18:16.123Z"
   },
   {
    "duration": 17,
    "start_time": "2021-09-03T15:18:16.134Z"
   },
   {
    "duration": 3626,
    "start_time": "2021-09-03T15:18:16.153Z"
   },
   {
    "duration": 3146,
    "start_time": "2021-09-03T15:19:07.350Z"
   },
   {
    "duration": 999,
    "start_time": "2021-09-03T15:20:21.456Z"
   },
   {
    "duration": 8,
    "start_time": "2021-09-03T15:20:22.457Z"
   },
   {
    "duration": 72,
    "start_time": "2021-09-03T15:20:22.466Z"
   },
   {
    "duration": 15,
    "start_time": "2021-09-03T15:20:22.539Z"
   },
   {
    "duration": 29,
    "start_time": "2021-09-03T15:20:22.556Z"
   },
   {
    "duration": 3,
    "start_time": "2021-09-03T15:20:22.587Z"
   },
   {
    "duration": 25,
    "start_time": "2021-09-03T15:20:22.592Z"
   },
   {
    "duration": 10,
    "start_time": "2021-09-03T15:20:22.618Z"
   },
   {
    "duration": 32,
    "start_time": "2021-09-03T15:20:22.630Z"
   },
   {
    "duration": 7,
    "start_time": "2021-09-03T15:20:22.664Z"
   },
   {
    "duration": 25,
    "start_time": "2021-09-03T15:20:22.672Z"
   },
   {
    "duration": 3201,
    "start_time": "2021-09-03T15:20:22.703Z"
   },
   {
    "duration": 4604,
    "start_time": "2021-09-03T15:21:54.610Z"
   },
   {
    "duration": 11570,
    "start_time": "2021-09-03T15:22:11.577Z"
   },
   {
    "duration": 3151,
    "start_time": "2021-09-03T15:22:33.894Z"
   },
   {
    "duration": 1051,
    "start_time": "2021-09-03T15:29:20.000Z"
   },
   {
    "duration": 9,
    "start_time": "2021-09-03T15:29:21.053Z"
   },
   {
    "duration": 54,
    "start_time": "2021-09-03T15:29:21.066Z"
   },
   {
    "duration": 16,
    "start_time": "2021-09-03T15:29:21.122Z"
   },
   {
    "duration": 38,
    "start_time": "2021-09-03T15:29:21.140Z"
   },
   {
    "duration": 14,
    "start_time": "2021-09-03T15:29:21.180Z"
   },
   {
    "duration": 30,
    "start_time": "2021-09-03T15:29:21.196Z"
   },
   {
    "duration": 30,
    "start_time": "2021-09-03T15:29:21.228Z"
   },
   {
    "duration": 18,
    "start_time": "2021-09-03T15:29:21.260Z"
   },
   {
    "duration": 20,
    "start_time": "2021-09-03T15:29:21.279Z"
   },
   {
    "duration": 26,
    "start_time": "2021-09-03T15:29:21.300Z"
   },
   {
    "duration": 3103,
    "start_time": "2021-09-03T15:29:21.327Z"
   },
   {
    "duration": 270,
    "start_time": "2021-09-03T15:29:24.431Z"
   },
   {
    "duration": 129910,
    "start_time": "2021-09-03T15:29:45.500Z"
   },
   {
    "duration": 1169,
    "start_time": "2021-09-03T15:38:40.003Z"
   },
   {
    "duration": 7,
    "start_time": "2021-09-03T15:38:41.174Z"
   },
   {
    "duration": 52,
    "start_time": "2021-09-03T15:38:41.183Z"
   },
   {
    "duration": 17,
    "start_time": "2021-09-03T15:38:41.237Z"
   },
   {
    "duration": 43,
    "start_time": "2021-09-03T15:38:41.255Z"
   },
   {
    "duration": 10,
    "start_time": "2021-09-03T15:38:41.301Z"
   },
   {
    "duration": 25,
    "start_time": "2021-09-03T15:38:41.314Z"
   },
   {
    "duration": 20,
    "start_time": "2021-09-03T15:38:41.340Z"
   },
   {
    "duration": 29,
    "start_time": "2021-09-03T15:38:41.362Z"
   },
   {
    "duration": 11,
    "start_time": "2021-09-03T15:38:41.393Z"
   },
   {
    "duration": 23,
    "start_time": "2021-09-03T15:38:41.406Z"
   },
   {
    "duration": 3170,
    "start_time": "2021-09-03T15:38:41.431Z"
   },
   {
    "duration": 146301,
    "start_time": "2021-09-03T15:38:44.605Z"
   },
   {
    "duration": 345,
    "start_time": "2021-09-03T15:41:10.908Z"
   },
   {
    "duration": 285,
    "start_time": "2021-09-03T15:52:23.998Z"
   },
   {
    "duration": 1183,
    "start_time": "2021-09-03T15:52:30.886Z"
   },
   {
    "duration": 8,
    "start_time": "2021-09-03T15:52:32.071Z"
   },
   {
    "duration": 54,
    "start_time": "2021-09-03T15:52:32.081Z"
   },
   {
    "duration": 15,
    "start_time": "2021-09-03T15:52:32.137Z"
   },
   {
    "duration": 32,
    "start_time": "2021-09-03T15:52:32.153Z"
   },
   {
    "duration": 3,
    "start_time": "2021-09-03T15:52:32.195Z"
   },
   {
    "duration": 22,
    "start_time": "2021-09-03T15:52:32.200Z"
   },
   {
    "duration": 12,
    "start_time": "2021-09-03T15:52:32.225Z"
   },
   {
    "duration": 27,
    "start_time": "2021-09-03T15:52:32.240Z"
   },
   {
    "duration": 9,
    "start_time": "2021-09-03T15:52:32.268Z"
   },
   {
    "duration": 16,
    "start_time": "2021-09-03T15:52:32.279Z"
   },
   {
    "duration": 3182,
    "start_time": "2021-09-03T15:52:32.297Z"
   },
   {
    "duration": 255307,
    "start_time": "2021-09-03T15:52:35.481Z"
   },
   {
    "duration": 254,
    "start_time": "2021-09-03T15:56:50.797Z"
   },
   {
    "duration": 288,
    "start_time": "2021-09-03T15:56:51.053Z"
   },
   {
    "duration": 3143,
    "start_time": "2021-09-03T15:57:41.328Z"
   },
   {
    "duration": 1216,
    "start_time": "2021-09-03T16:06:23.293Z"
   },
   {
    "duration": 12,
    "start_time": "2021-09-03T16:06:24.511Z"
   },
   {
    "duration": 42,
    "start_time": "2021-09-03T16:06:24.526Z"
   },
   {
    "duration": 43,
    "start_time": "2021-09-03T16:06:24.571Z"
   },
   {
    "duration": 16,
    "start_time": "2021-09-03T16:06:24.615Z"
   },
   {
    "duration": 3,
    "start_time": "2021-09-03T16:06:24.632Z"
   },
   {
    "duration": 11,
    "start_time": "2021-09-03T16:06:24.636Z"
   },
   {
    "duration": 10,
    "start_time": "2021-09-03T16:06:24.648Z"
   },
   {
    "duration": 42,
    "start_time": "2021-09-03T16:06:24.660Z"
   },
   {
    "duration": 13,
    "start_time": "2021-09-03T16:06:24.704Z"
   },
   {
    "duration": 13,
    "start_time": "2021-09-03T16:06:24.718Z"
   },
   {
    "duration": 3192,
    "start_time": "2021-09-03T16:06:24.732Z"
   },
   {
    "duration": 283167,
    "start_time": "2021-09-03T16:06:27.926Z"
   },
   {
    "duration": 267,
    "start_time": "2021-09-03T16:11:11.099Z"
   },
   {
    "duration": 357,
    "start_time": "2021-09-03T16:11:11.368Z"
   },
   {
    "duration": 25393,
    "start_time": "2021-09-03T16:11:11.727Z"
   },
   {
    "duration": 41585,
    "start_time": "2021-09-03T16:18:48.412Z"
   },
   {
    "duration": 2348,
    "start_time": "2021-09-03T16:23:27.248Z"
   },
   {
    "duration": 14,
    "start_time": "2021-09-03T16:23:29.598Z"
   },
   {
    "duration": 59,
    "start_time": "2021-09-03T16:23:29.614Z"
   },
   {
    "duration": 30,
    "start_time": "2021-09-03T16:23:29.675Z"
   },
   {
    "duration": 32,
    "start_time": "2021-09-03T16:23:29.708Z"
   },
   {
    "duration": 4,
    "start_time": "2021-09-03T16:23:29.742Z"
   },
   {
    "duration": 14,
    "start_time": "2021-09-03T16:23:29.749Z"
   },
   {
    "duration": 35,
    "start_time": "2021-09-03T16:23:29.764Z"
   },
   {
    "duration": 28,
    "start_time": "2021-09-03T16:23:29.802Z"
   },
   {
    "duration": 10,
    "start_time": "2021-09-03T16:23:29.832Z"
   },
   {
    "duration": 17,
    "start_time": "2021-09-03T16:23:29.846Z"
   },
   {
    "duration": 4211,
    "start_time": "2021-09-03T16:23:29.865Z"
   },
   {
    "duration": 237742,
    "start_time": "2021-09-03T16:23:34.078Z"
   },
   {
    "duration": 461,
    "start_time": "2021-09-03T16:27:31.855Z"
   },
   {
    "duration": 575,
    "start_time": "2021-09-03T16:27:32.318Z"
   },
   {
    "duration": 30435,
    "start_time": "2021-09-03T16:27:32.897Z"
   },
   {
    "duration": 298,
    "start_time": "2021-09-03T16:34:25.610Z"
   },
   {
    "duration": 266,
    "start_time": "2021-09-03T16:36:23.729Z"
   },
   {
    "duration": 313,
    "start_time": "2021-09-03T16:38:13.749Z"
   },
   {
    "duration": 378,
    "start_time": "2021-09-03T16:38:33.144Z"
   },
   {
    "duration": 351,
    "start_time": "2021-09-03T16:38:48.269Z"
   },
   {
    "duration": 316,
    "start_time": "2021-09-03T16:40:30.789Z"
   },
   {
    "duration": 359,
    "start_time": "2021-09-03T16:40:49.269Z"
   },
   {
    "duration": 283,
    "start_time": "2021-09-03T16:41:01.622Z"
   },
   {
    "duration": 323,
    "start_time": "2021-09-03T16:41:07.365Z"
   },
   {
    "duration": 296,
    "start_time": "2021-09-03T16:41:13.315Z"
   },
   {
    "duration": 314,
    "start_time": "2021-09-03T16:41:19.188Z"
   },
   {
    "duration": 323,
    "start_time": "2021-09-03T16:41:25.490Z"
   },
   {
    "duration": 289,
    "start_time": "2021-09-03T16:41:31.351Z"
   },
   {
    "duration": 286,
    "start_time": "2021-09-03T16:45:22.235Z"
   },
   {
    "duration": 299,
    "start_time": "2021-09-03T16:45:59.352Z"
   },
   {
    "duration": 427,
    "start_time": "2021-09-03T16:49:20.500Z"
   },
   {
    "duration": 337,
    "start_time": "2021-09-03T16:49:37.380Z"
   },
   {
    "duration": 441,
    "start_time": "2021-09-03T16:54:03.592Z"
   },
   {
    "duration": 1168,
    "start_time": "2021-09-03T16:58:06.110Z"
   },
   {
    "duration": 20,
    "start_time": "2021-09-03T16:58:07.280Z"
   },
   {
    "duration": 44,
    "start_time": "2021-09-03T16:58:07.302Z"
   },
   {
    "duration": 14,
    "start_time": "2021-09-03T16:58:07.348Z"
   },
   {
    "duration": 27,
    "start_time": "2021-09-03T16:58:07.364Z"
   },
   {
    "duration": 2,
    "start_time": "2021-09-03T16:58:07.393Z"
   },
   {
    "duration": 28,
    "start_time": "2021-09-03T16:58:07.397Z"
   },
   {
    "duration": 10,
    "start_time": "2021-09-03T16:58:07.427Z"
   },
   {
    "duration": 22,
    "start_time": "2021-09-03T16:58:07.439Z"
   },
   {
    "duration": 6,
    "start_time": "2021-09-03T16:58:07.463Z"
   },
   {
    "duration": 30,
    "start_time": "2021-09-03T16:58:07.471Z"
   },
   {
    "duration": 3545,
    "start_time": "2021-09-03T16:58:07.509Z"
   },
   {
    "duration": 266940,
    "start_time": "2021-09-03T16:58:11.056Z"
   },
   {
    "duration": 398,
    "start_time": "2021-09-03T17:02:37.998Z"
   },
   {
    "duration": 362,
    "start_time": "2021-09-03T17:02:38.398Z"
   },
   {
    "duration": 27158,
    "start_time": "2021-09-03T17:02:38.762Z"
   },
   {
    "duration": 420,
    "start_time": "2021-09-03T17:03:05.986Z"
   },
   {
    "duration": 19,
    "start_time": "2021-09-03T17:03:06.409Z"
   },
   {
    "duration": 1027,
    "start_time": "2021-09-03T17:03:06.429Z"
   },
   {
    "duration": -833,
    "start_time": "2021-09-03T17:03:08.291Z"
   },
   {
    "duration": -836,
    "start_time": "2021-09-03T17:03:08.295Z"
   },
   {
    "duration": 700,
    "start_time": "2021-09-03T17:07:38.411Z"
   },
   {
    "duration": 24460,
    "start_time": "2021-09-03T17:07:48.033Z"
   },
   {
    "duration": 310,
    "start_time": "2021-09-03T17:08:18.667Z"
   },
   {
    "duration": 24,
    "start_time": "2021-09-03T17:12:49.602Z"
   },
   {
    "duration": 984,
    "start_time": "2021-09-03T17:12:52.106Z"
   },
   {
    "duration": 31978,
    "start_time": "2021-09-03T17:13:01.828Z"
   },
   {
    "duration": 37,
    "start_time": "2021-09-03T17:13:43.362Z"
   },
   {
    "duration": 1367,
    "start_time": "2021-09-03T17:13:46.104Z"
   },
   {
    "duration": 40,
    "start_time": "2021-09-03T17:13:55.333Z"
   },
   {
    "duration": 2029,
    "start_time": "2021-09-03T17:13:58.098Z"
   },
   {
    "duration": 17,
    "start_time": "2021-09-03T17:14:07.396Z"
   },
   {
    "duration": 688,
    "start_time": "2021-09-03T17:14:09.978Z"
   },
   {
    "duration": 25685,
    "start_time": "2021-09-03T17:14:15.800Z"
   },
   {
    "duration": 13,
    "start_time": "2021-09-03T17:19:27.598Z"
   },
   {
    "duration": 677,
    "start_time": "2021-09-03T17:19:29.668Z"
   },
   {
    "duration": 16211,
    "start_time": "2021-09-03T17:19:33.578Z"
   },
   {
    "duration": 305,
    "start_time": "2021-09-03T17:19:57.661Z"
   },
   {
    "duration": 165,
    "start_time": "2021-09-03T17:21:02.561Z"
   },
   {
    "duration": 4083,
    "start_time": "2021-09-03T17:21:10.303Z"
   },
   {
    "duration": 340,
    "start_time": "2021-09-03T17:21:19.865Z"
   },
   {
    "duration": 2,
    "start_time": "2021-09-03T17:23:25.334Z"
   },
   {
    "duration": 16627,
    "start_time": "2021-09-03T17:47:29.024Z"
   },
   {
    "duration": 17767,
    "start_time": "2021-09-03T17:48:06.124Z"
   },
   {
    "duration": 17489,
    "start_time": "2021-09-03T17:48:40.298Z"
   },
   {
    "duration": 29457,
    "start_time": "2021-09-03T17:49:12.331Z"
   },
   {
    "duration": 16053,
    "start_time": "2021-09-03T17:49:51.933Z"
   },
   {
    "duration": 16143,
    "start_time": "2021-09-03T17:50:18.342Z"
   },
   {
    "duration": 16098,
    "start_time": "2021-09-03T17:50:45.994Z"
   },
   {
    "duration": 16165,
    "start_time": "2021-09-03T17:51:37.525Z"
   },
   {
    "duration": 15733,
    "start_time": "2021-09-03T17:52:01.257Z"
   },
   {
    "duration": 16447,
    "start_time": "2021-09-03T17:52:43.843Z"
   },
   {
    "duration": 27,
    "start_time": "2021-09-03T17:53:28.801Z"
   },
   {
    "duration": 16116,
    "start_time": "2021-09-03T17:58:21.272Z"
   },
   {
    "duration": 7807,
    "start_time": "2021-09-03T18:00:34.787Z"
   },
   {
    "duration": 18716,
    "start_time": "2021-09-03T18:01:41.870Z"
   },
   {
    "duration": 5507,
    "start_time": "2021-09-03T18:03:48.379Z"
   },
   {
    "duration": 5316,
    "start_time": "2021-09-03T18:04:23.370Z"
   },
   {
    "duration": 6214,
    "start_time": "2021-09-03T18:04:43.988Z"
   },
   {
    "duration": 13393,
    "start_time": "2021-09-03T18:05:47.393Z"
   },
   {
    "duration": 3502,
    "start_time": "2021-09-03T18:06:49.283Z"
   },
   {
    "duration": 16653,
    "start_time": "2021-09-03T18:08:40.633Z"
   },
   {
    "duration": 6431,
    "start_time": "2021-09-03T18:09:20.575Z"
   },
   {
    "duration": 13999,
    "start_time": "2021-09-03T18:15:36.287Z"
   },
   {
    "duration": 16553,
    "start_time": "2021-09-03T18:16:33.240Z"
   },
   {
    "duration": 76,
    "start_time": "2021-09-03T18:24:53.679Z"
   },
   {
    "duration": 2737,
    "start_time": "2021-09-03T18:25:33.833Z"
   },
   {
    "duration": 2681,
    "start_time": "2021-09-03T18:25:58.489Z"
   },
   {
    "duration": 2720,
    "start_time": "2021-09-03T18:26:48.622Z"
   },
   {
    "duration": 4,
    "start_time": "2021-09-03T18:26:58.370Z"
   },
   {
    "duration": 326,
    "start_time": "2021-09-03T18:32:11.974Z"
   },
   {
    "duration": 296,
    "start_time": "2021-09-03T18:32:51.120Z"
   },
   {
    "duration": 321,
    "start_time": "2021-09-03T18:33:34.560Z"
   },
   {
    "duration": 1108,
    "start_time": "2021-09-03T18:34:05.348Z"
   },
   {
    "duration": 8,
    "start_time": "2021-09-03T18:34:06.458Z"
   },
   {
    "duration": 46,
    "start_time": "2021-09-03T18:34:06.468Z"
   },
   {
    "duration": 16,
    "start_time": "2021-09-03T18:34:06.515Z"
   },
   {
    "duration": 20,
    "start_time": "2021-09-03T18:34:06.532Z"
   },
   {
    "duration": 3,
    "start_time": "2021-09-03T18:34:06.553Z"
   },
   {
    "duration": 28,
    "start_time": "2021-09-03T18:34:06.557Z"
   },
   {
    "duration": 11,
    "start_time": "2021-09-03T18:34:06.586Z"
   },
   {
    "duration": 16,
    "start_time": "2021-09-03T18:34:06.599Z"
   },
   {
    "duration": 7,
    "start_time": "2021-09-03T18:34:06.617Z"
   },
   {
    "duration": 12,
    "start_time": "2021-09-03T18:34:06.626Z"
   },
   {
    "duration": 2729,
    "start_time": "2021-09-03T18:34:06.640Z"
   },
   {
    "duration": 269,
    "start_time": "2021-09-03T18:34:09.371Z"
   },
   {
    "duration": -919,
    "start_time": "2021-09-03T18:34:10.561Z"
   },
   {
    "duration": -934,
    "start_time": "2021-09-03T18:34:10.577Z"
   },
   {
    "duration": -957,
    "start_time": "2021-09-03T18:34:10.601Z"
   },
   {
    "duration": -977,
    "start_time": "2021-09-03T18:34:10.622Z"
   },
   {
    "duration": -987,
    "start_time": "2021-09-03T18:34:10.633Z"
   },
   {
    "duration": -994,
    "start_time": "2021-09-03T18:34:10.641Z"
   },
   {
    "duration": -1002,
    "start_time": "2021-09-03T18:34:10.650Z"
   },
   {
    "duration": -1037,
    "start_time": "2021-09-03T18:34:10.686Z"
   },
   {
    "duration": -1058,
    "start_time": "2021-09-03T18:34:10.708Z"
   },
   {
    "duration": -1099,
    "start_time": "2021-09-03T18:34:10.750Z"
   },
   {
    "duration": -1119,
    "start_time": "2021-09-03T18:34:10.772Z"
   },
   {
    "duration": -1129,
    "start_time": "2021-09-03T18:34:10.783Z"
   },
   {
    "duration": -1138,
    "start_time": "2021-09-03T18:34:10.793Z"
   },
   {
    "duration": -1144,
    "start_time": "2021-09-03T18:34:10.800Z"
   },
   {
    "duration": -1153,
    "start_time": "2021-09-03T18:34:10.810Z"
   },
   {
    "duration": -1159,
    "start_time": "2021-09-03T18:34:10.817Z"
   },
   {
    "duration": 188,
    "start_time": "2021-09-03T18:35:46.288Z"
   },
   {
    "duration": 329,
    "start_time": "2021-09-03T18:36:04.018Z"
   },
   {
    "duration": 314,
    "start_time": "2021-09-03T18:36:22.841Z"
   },
   {
    "duration": 350,
    "start_time": "2021-09-03T18:36:28.331Z"
   },
   {
    "duration": 192,
    "start_time": "2021-09-03T18:36:33.860Z"
   },
   {
    "duration": 1155,
    "start_time": "2021-09-03T18:37:01.994Z"
   },
   {
    "duration": 7,
    "start_time": "2021-09-03T18:37:03.152Z"
   },
   {
    "duration": 45,
    "start_time": "2021-09-03T18:37:03.163Z"
   },
   {
    "duration": 15,
    "start_time": "2021-09-03T18:37:03.209Z"
   },
   {
    "duration": 18,
    "start_time": "2021-09-03T18:37:03.226Z"
   },
   {
    "duration": 4,
    "start_time": "2021-09-03T18:37:03.245Z"
   },
   {
    "duration": 41,
    "start_time": "2021-09-03T18:37:03.251Z"
   },
   {
    "duration": 12,
    "start_time": "2021-09-03T18:37:03.294Z"
   },
   {
    "duration": 22,
    "start_time": "2021-09-03T18:37:03.307Z"
   },
   {
    "duration": 8,
    "start_time": "2021-09-03T18:37:03.331Z"
   },
   {
    "duration": 45,
    "start_time": "2021-09-03T18:37:03.341Z"
   },
   {
    "duration": 2751,
    "start_time": "2021-09-03T18:37:03.388Z"
   },
   {
    "duration": 333,
    "start_time": "2021-09-03T18:37:06.141Z"
   },
   {
    "duration": 52517,
    "start_time": "2021-09-03T18:37:06.475Z"
   },
   {
    "duration": 601,
    "start_time": "2021-09-03T18:37:58.994Z"
   },
   {
    "duration": -925,
    "start_time": "2021-09-03T18:38:00.522Z"
   },
   {
    "duration": -945,
    "start_time": "2021-09-03T18:38:00.543Z"
   },
   {
    "duration": -978,
    "start_time": "2021-09-03T18:38:00.577Z"
   },
   {
    "duration": -982,
    "start_time": "2021-09-03T18:38:00.582Z"
   },
   {
    "duration": -988,
    "start_time": "2021-09-03T18:38:00.589Z"
   },
   {
    "duration": -995,
    "start_time": "2021-09-03T18:38:00.597Z"
   },
   {
    "duration": -1001,
    "start_time": "2021-09-03T18:38:00.604Z"
   },
   {
    "duration": -1005,
    "start_time": "2021-09-03T18:38:00.609Z"
   },
   {
    "duration": -1011,
    "start_time": "2021-09-03T18:38:00.615Z"
   },
   {
    "duration": -1016,
    "start_time": "2021-09-03T18:38:00.621Z"
   },
   {
    "duration": -1020,
    "start_time": "2021-09-03T18:38:00.626Z"
   },
   {
    "duration": -1026,
    "start_time": "2021-09-03T18:38:00.633Z"
   },
   {
    "duration": -1031,
    "start_time": "2021-09-03T18:38:00.639Z"
   },
   {
    "duration": -1036,
    "start_time": "2021-09-03T18:38:00.645Z"
   },
   {
    "duration": 313,
    "start_time": "2021-09-03T18:39:00.525Z"
   },
   {
    "duration": 312,
    "start_time": "2021-09-03T18:40:46.220Z"
   },
   {
    "duration": 359,
    "start_time": "2021-09-03T18:41:47.109Z"
   },
   {
    "duration": 367,
    "start_time": "2021-09-03T18:42:01.148Z"
   },
   {
    "duration": 359,
    "start_time": "2021-09-03T18:42:24.018Z"
   },
   {
    "duration": 1114,
    "start_time": "2021-09-03T18:42:30.647Z"
   },
   {
    "duration": 8,
    "start_time": "2021-09-03T18:42:31.763Z"
   },
   {
    "duration": 51,
    "start_time": "2021-09-03T18:42:31.775Z"
   },
   {
    "duration": 15,
    "start_time": "2021-09-03T18:42:31.827Z"
   },
   {
    "duration": 23,
    "start_time": "2021-09-03T18:42:31.843Z"
   },
   {
    "duration": 3,
    "start_time": "2021-09-03T18:42:31.868Z"
   },
   {
    "duration": 20,
    "start_time": "2021-09-03T18:42:31.873Z"
   },
   {
    "duration": 27,
    "start_time": "2021-09-03T18:42:31.895Z"
   },
   {
    "duration": 24,
    "start_time": "2021-09-03T18:42:31.923Z"
   },
   {
    "duration": 12,
    "start_time": "2021-09-03T18:42:31.948Z"
   },
   {
    "duration": 19,
    "start_time": "2021-09-03T18:42:31.962Z"
   },
   {
    "duration": 2725,
    "start_time": "2021-09-03T18:42:31.983Z"
   },
   {
    "duration": 276,
    "start_time": "2021-09-03T18:42:34.709Z"
   },
   {
    "duration": -1026,
    "start_time": "2021-09-03T18:42:36.013Z"
   },
   {
    "duration": -1042,
    "start_time": "2021-09-03T18:42:36.030Z"
   },
   {
    "duration": -1046,
    "start_time": "2021-09-03T18:42:36.035Z"
   },
   {
    "duration": -1051,
    "start_time": "2021-09-03T18:42:36.041Z"
   },
   {
    "duration": -1057,
    "start_time": "2021-09-03T18:42:36.048Z"
   },
   {
    "duration": -1066,
    "start_time": "2021-09-03T18:42:36.058Z"
   },
   {
    "duration": -1070,
    "start_time": "2021-09-03T18:42:36.063Z"
   },
   {
    "duration": -1075,
    "start_time": "2021-09-03T18:42:36.069Z"
   },
   {
    "duration": -1080,
    "start_time": "2021-09-03T18:42:36.075Z"
   },
   {
    "duration": -1085,
    "start_time": "2021-09-03T18:42:36.081Z"
   },
   {
    "duration": -1089,
    "start_time": "2021-09-03T18:42:36.086Z"
   },
   {
    "duration": -1094,
    "start_time": "2021-09-03T18:42:36.092Z"
   },
   {
    "duration": -1119,
    "start_time": "2021-09-03T18:42:36.118Z"
   },
   {
    "duration": -1123,
    "start_time": "2021-09-03T18:42:36.123Z"
   },
   {
    "duration": -1128,
    "start_time": "2021-09-03T18:42:36.129Z"
   },
   {
    "duration": -1135,
    "start_time": "2021-09-03T18:42:36.137Z"
   },
   {
    "duration": 329,
    "start_time": "2021-09-03T18:42:49.315Z"
   },
   {
    "duration": 1127,
    "start_time": "2021-09-03T18:42:57.922Z"
   },
   {
    "duration": 9,
    "start_time": "2021-09-03T18:42:59.051Z"
   },
   {
    "duration": 43,
    "start_time": "2021-09-03T18:42:59.064Z"
   },
   {
    "duration": 15,
    "start_time": "2021-09-03T18:42:59.108Z"
   },
   {
    "duration": 17,
    "start_time": "2021-09-03T18:42:59.124Z"
   },
   {
    "duration": 2,
    "start_time": "2021-09-03T18:42:59.143Z"
   },
   {
    "duration": 13,
    "start_time": "2021-09-03T18:42:59.146Z"
   },
   {
    "duration": 26,
    "start_time": "2021-09-03T18:42:59.162Z"
   },
   {
    "duration": 16,
    "start_time": "2021-09-03T18:42:59.189Z"
   },
   {
    "duration": 7,
    "start_time": "2021-09-03T18:42:59.206Z"
   },
   {
    "duration": 12,
    "start_time": "2021-09-03T18:42:59.214Z"
   },
   {
    "duration": 2731,
    "start_time": "2021-09-03T18:42:59.227Z"
   },
   {
    "duration": 335,
    "start_time": "2021-09-03T18:43:01.960Z"
   },
   {
    "duration": 51588,
    "start_time": "2021-09-03T18:43:02.297Z"
   },
   {
    "duration": 141,
    "start_time": "2021-09-03T18:43:53.887Z"
   },
   {
    "duration": 478,
    "start_time": "2021-09-03T18:43:54.030Z"
   },
   {
    "duration": -938,
    "start_time": "2021-09-03T18:43:55.448Z"
   },
   {
    "duration": -942,
    "start_time": "2021-09-03T18:43:55.453Z"
   },
   {
    "duration": -947,
    "start_time": "2021-09-03T18:43:55.459Z"
   },
   {
    "duration": -952,
    "start_time": "2021-09-03T18:43:55.465Z"
   },
   {
    "duration": -956,
    "start_time": "2021-09-03T18:43:55.470Z"
   },
   {
    "duration": -963,
    "start_time": "2021-09-03T18:43:55.477Z"
   },
   {
    "duration": -967,
    "start_time": "2021-09-03T18:43:55.482Z"
   },
   {
    "duration": -972,
    "start_time": "2021-09-03T18:43:55.488Z"
   },
   {
    "duration": -1025,
    "start_time": "2021-09-03T18:43:55.542Z"
   },
   {
    "duration": -1030,
    "start_time": "2021-09-03T18:43:55.548Z"
   },
   {
    "duration": -1034,
    "start_time": "2021-09-03T18:43:55.553Z"
   },
   {
    "duration": -1040,
    "start_time": "2021-09-03T18:43:55.560Z"
   },
   {
    "duration": -1044,
    "start_time": "2021-09-03T18:43:55.565Z"
   },
   {
    "duration": 5282,
    "start_time": "2021-09-03T18:44:34.103Z"
   },
   {
    "duration": 284,
    "start_time": "2021-09-03T18:44:57.702Z"
   },
   {
    "duration": 336,
    "start_time": "2021-09-03T18:47:11.252Z"
   },
   {
    "duration": 333,
    "start_time": "2021-09-03T18:48:56.415Z"
   },
   {
    "duration": 330,
    "start_time": "2021-09-03T18:49:03.667Z"
   },
   {
    "duration": 1147,
    "start_time": "2021-09-04T05:47:26.105Z"
   },
   {
    "duration": 8,
    "start_time": "2021-09-04T05:47:27.254Z"
   },
   {
    "duration": 40,
    "start_time": "2021-09-04T05:47:27.264Z"
   },
   {
    "duration": 15,
    "start_time": "2021-09-04T05:47:27.305Z"
   },
   {
    "duration": 17,
    "start_time": "2021-09-04T05:47:27.322Z"
   },
   {
    "duration": 2,
    "start_time": "2021-09-04T05:47:27.341Z"
   },
   {
    "duration": 11,
    "start_time": "2021-09-04T05:47:27.345Z"
   },
   {
    "duration": 30,
    "start_time": "2021-09-04T05:47:27.357Z"
   },
   {
    "duration": 15,
    "start_time": "2021-09-04T05:47:27.389Z"
   },
   {
    "duration": 6,
    "start_time": "2021-09-04T05:47:27.406Z"
   },
   {
    "duration": 12,
    "start_time": "2021-09-04T05:47:27.413Z"
   },
   {
    "duration": 2777,
    "start_time": "2021-09-04T05:47:27.426Z"
   },
   {
    "duration": 342,
    "start_time": "2021-09-04T05:47:30.205Z"
   },
   {
    "duration": 50843,
    "start_time": "2021-09-04T05:47:30.549Z"
   },
   {
    "duration": 5398,
    "start_time": "2021-09-04T05:48:21.394Z"
   },
   {
    "duration": 475,
    "start_time": "2021-09-04T05:48:26.794Z"
   },
   {
    "duration": 335,
    "start_time": "2021-09-04T05:48:27.271Z"
   },
   {
    "duration": 330,
    "start_time": "2021-09-04T05:48:27.608Z"
   },
   {
    "duration": 8354,
    "start_time": "2021-09-04T05:48:27.939Z"
   },
   {
    "duration": 485,
    "start_time": "2021-09-04T05:48:36.294Z"
   },
   {
    "duration": 17,
    "start_time": "2021-09-04T05:48:36.781Z"
   },
   {
    "duration": 660,
    "start_time": "2021-09-04T05:48:36.800Z"
   },
   {
    "duration": 14229,
    "start_time": "2021-09-04T05:48:37.461Z"
   },
   {
    "duration": 402,
    "start_time": "2021-09-04T05:48:51.693Z"
   },
   {
    "duration": 13,
    "start_time": "2021-09-04T05:48:52.097Z"
   },
   {
    "duration": 177,
    "start_time": "2021-09-04T05:48:52.112Z"
   },
   {
    "duration": 4593,
    "start_time": "2021-09-04T05:48:52.293Z"
   },
   {
    "duration": 385,
    "start_time": "2021-09-04T05:48:56.888Z"
   },
   {
    "duration": 19418,
    "start_time": "2021-09-04T05:48:57.274Z"
   },
   {
    "duration": 5599,
    "start_time": "2021-09-04T05:49:16.695Z"
   },
   {
    "duration": 336,
    "start_time": "2021-09-04T05:52:44.861Z"
   },
   {
    "duration": 417,
    "start_time": "2021-09-04T05:53:30.234Z"
   },
   {
    "duration": 5379,
    "start_time": "2021-09-04T05:55:16.307Z"
   },
   {
    "duration": 332,
    "start_time": "2021-09-04T05:56:44.332Z"
   },
   {
    "duration": 328,
    "start_time": "2021-09-04T05:56:54.839Z"
   },
   {
    "duration": 281,
    "start_time": "2021-09-04T05:58:59.710Z"
   },
   {
    "duration": 334,
    "start_time": "2021-09-04T05:59:12.280Z"
   },
   {
    "duration": 5336,
    "start_time": "2021-09-04T05:59:58.857Z"
   },
   {
    "duration": 330,
    "start_time": "2021-09-04T06:00:42.042Z"
   },
   {
    "duration": 7484,
    "start_time": "2021-09-04T06:00:44.902Z"
   },
   {
    "duration": 297,
    "start_time": "2021-09-04T06:00:59.091Z"
   },
   {
    "duration": 18,
    "start_time": "2021-09-04T06:01:06.215Z"
   },
   {
    "duration": 647,
    "start_time": "2021-09-04T06:01:08.991Z"
   },
   {
    "duration": 13814,
    "start_time": "2021-09-04T06:01:14.472Z"
   },
   {
    "duration": 233,
    "start_time": "2021-09-04T06:01:43.734Z"
   },
   {
    "duration": 12,
    "start_time": "2021-09-04T06:01:48.950Z"
   },
   {
    "duration": 161,
    "start_time": "2021-09-04T06:01:52.464Z"
   },
   {
    "duration": 673,
    "start_time": "2021-09-04T06:02:26.729Z"
   },
   {
    "duration": 267,
    "start_time": "2021-09-04T06:03:13.223Z"
   },
   {
    "duration": 12,
    "start_time": "2021-09-04T06:03:18.682Z"
   },
   {
    "duration": 165,
    "start_time": "2021-09-04T06:03:32.401Z"
   },
   {
    "duration": 3241,
    "start_time": "2021-09-04T06:03:39.152Z"
   },
   {
    "duration": 265,
    "start_time": "2021-09-04T06:03:53.247Z"
   },
   {
    "duration": 1159,
    "start_time": "2021-09-04T06:04:26.178Z"
   },
   {
    "duration": 7,
    "start_time": "2021-09-04T06:04:27.339Z"
   },
   {
    "duration": 62,
    "start_time": "2021-09-04T06:04:27.348Z"
   },
   {
    "duration": 14,
    "start_time": "2021-09-04T06:04:27.412Z"
   },
   {
    "duration": 26,
    "start_time": "2021-09-04T06:04:27.427Z"
   },
   {
    "duration": 12,
    "start_time": "2021-09-04T06:04:27.455Z"
   },
   {
    "duration": 18,
    "start_time": "2021-09-04T06:04:27.468Z"
   },
   {
    "duration": 23,
    "start_time": "2021-09-04T06:04:27.487Z"
   },
   {
    "duration": 34,
    "start_time": "2021-09-04T06:04:27.512Z"
   },
   {
    "duration": 14,
    "start_time": "2021-09-04T06:04:27.548Z"
   },
   {
    "duration": 29,
    "start_time": "2021-09-04T06:04:27.564Z"
   },
   {
    "duration": 2691,
    "start_time": "2021-09-04T06:04:27.595Z"
   },
   {
    "duration": 359,
    "start_time": "2021-09-04T06:04:30.288Z"
   },
   {
    "duration": 50344,
    "start_time": "2021-09-04T06:04:30.648Z"
   },
   {
    "duration": 5492,
    "start_time": "2021-09-04T06:05:20.994Z"
   },
   {
    "duration": 388,
    "start_time": "2021-09-04T06:05:26.490Z"
   },
   {
    "duration": 327,
    "start_time": "2021-09-04T06:05:26.884Z"
   },
   {
    "duration": 7474,
    "start_time": "2021-09-04T06:05:27.214Z"
   },
   {
    "duration": 384,
    "start_time": "2021-09-04T06:05:34.690Z"
   },
   {
    "duration": 22,
    "start_time": "2021-09-04T06:05:35.075Z"
   },
   {
    "duration": 651,
    "start_time": "2021-09-04T06:05:35.099Z"
   },
   {
    "duration": 13934,
    "start_time": "2021-09-04T06:05:35.752Z"
   },
   {
    "duration": 405,
    "start_time": "2021-09-04T06:05:49.688Z"
   },
   {
    "duration": 12,
    "start_time": "2021-09-04T06:05:50.095Z"
   },
   {
    "duration": 181,
    "start_time": "2021-09-04T06:05:50.109Z"
   },
   {
    "duration": 3295,
    "start_time": "2021-09-04T06:05:50.291Z"
   },
   {
    "duration": 387,
    "start_time": "2021-09-04T06:05:53.590Z"
   },
   {
    "duration": 16315,
    "start_time": "2021-09-04T06:05:53.979Z"
   },
   {
    "duration": 5703,
    "start_time": "2021-09-04T06:06:10.296Z"
   },
   {
    "duration": 86,
    "start_time": "2021-09-04T06:08:22.171Z"
   },
   {
    "duration": 926,
    "start_time": "2021-09-04T06:08:25.410Z"
   },
   {
    "duration": 14,
    "start_time": "2021-09-04T06:08:38.329Z"
   },
   {
    "duration": 497,
    "start_time": "2021-09-04T06:08:41.094Z"
   },
   {
    "duration": 10140,
    "start_time": "2021-09-04T06:08:54.146Z"
   },
   {
    "duration": 14,
    "start_time": "2021-09-04T06:09:20.235Z"
   },
   {
    "duration": 461,
    "start_time": "2021-09-04T06:09:24.927Z"
   },
   {
    "duration": 9916,
    "start_time": "2021-09-04T06:09:36.368Z"
   },
   {
    "duration": 12,
    "start_time": "2021-09-04T06:09:57.467Z"
   },
   {
    "duration": 368,
    "start_time": "2021-09-04T06:10:01.750Z"
   },
   {
    "duration": 6571,
    "start_time": "2021-09-04T06:10:10.716Z"
   },
   {
    "duration": 289,
    "start_time": "2021-09-04T06:10:22.804Z"
   },
   {
    "duration": 422,
    "start_time": "2021-09-04T06:10:40.245Z"
   },
   {
    "duration": 11,
    "start_time": "2021-09-04T06:11:01.885Z"
   },
   {
    "duration": 107,
    "start_time": "2021-09-04T06:11:04.874Z"
   },
   {
    "duration": 12,
    "start_time": "2021-09-04T06:11:11.425Z"
   },
   {
    "duration": 368,
    "start_time": "2021-09-04T06:11:13.391Z"
   },
   {
    "duration": 6539,
    "start_time": "2021-09-04T06:11:17.047Z"
   },
   {
    "duration": 306,
    "start_time": "2021-09-04T06:11:27.092Z"
   },
   {
    "duration": 13,
    "start_time": "2021-09-04T06:12:53.668Z"
   },
   {
    "duration": 171,
    "start_time": "2021-09-04T06:12:57.455Z"
   },
   {
    "duration": 13,
    "start_time": "2021-09-04T06:13:12.377Z"
   },
   {
    "duration": 201,
    "start_time": "2021-09-04T06:13:14.133Z"
   },
   {
    "duration": 13,
    "start_time": "2021-09-04T06:13:20.601Z"
   },
   {
    "duration": 222,
    "start_time": "2021-09-04T06:13:24.155Z"
   },
   {
    "duration": 13,
    "start_time": "2021-09-04T06:13:30.535Z"
   },
   {
    "duration": 259,
    "start_time": "2021-09-04T06:13:33.105Z"
   },
   {
    "duration": 13,
    "start_time": "2021-09-04T06:13:37.005Z"
   },
   {
    "duration": 241,
    "start_time": "2021-09-04T06:13:38.969Z"
   },
   {
    "duration": 4560,
    "start_time": "2021-09-04T06:13:42.527Z"
   },
   {
    "duration": 13,
    "start_time": "2021-09-04T06:13:53.844Z"
   },
   {
    "duration": 256,
    "start_time": "2021-09-04T06:13:55.910Z"
   },
   {
    "duration": 13,
    "start_time": "2021-09-04T06:14:02.408Z"
   },
   {
    "duration": 245,
    "start_time": "2021-09-04T06:14:03.883Z"
   },
   {
    "duration": 12,
    "start_time": "2021-09-04T06:14:10.120Z"
   },
   {
    "duration": 243,
    "start_time": "2021-09-04T06:14:12.063Z"
   },
   {
    "duration": 13,
    "start_time": "2021-09-04T06:14:17.164Z"
   },
   {
    "duration": 241,
    "start_time": "2021-09-04T06:14:18.366Z"
   },
   {
    "duration": 4367,
    "start_time": "2021-09-04T06:14:22.119Z"
   },
   {
    "duration": 8187,
    "start_time": "2021-09-04T06:14:46.204Z"
   },
   {
    "duration": 8641,
    "start_time": "2021-09-04T06:15:21.245Z"
   },
   {
    "duration": 272,
    "start_time": "2021-09-04T06:16:23.319Z"
   },
   {
    "duration": 185,
    "start_time": "2021-09-04T06:32:05.166Z"
   },
   {
    "duration": 367,
    "start_time": "2021-09-04T06:32:27.789Z"
   },
   {
    "duration": 23,
    "start_time": "2021-09-04T06:32:34.133Z"
   },
   {
    "duration": 25,
    "start_time": "2021-09-04T06:33:37.620Z"
   },
   {
    "duration": 315,
    "start_time": "2021-09-04T06:34:47.270Z"
   },
   {
    "duration": 187,
    "start_time": "2021-09-04T06:34:57.557Z"
   },
   {
    "duration": 305,
    "start_time": "2021-09-04T06:35:06.682Z"
   },
   {
    "duration": 30,
    "start_time": "2021-09-04T06:57:32.798Z"
   },
   {
    "duration": 1186,
    "start_time": "2021-09-04T06:58:42.571Z"
   },
   {
    "duration": 9,
    "start_time": "2021-09-04T06:58:43.759Z"
   },
   {
    "duration": 40,
    "start_time": "2021-09-04T06:58:43.770Z"
   },
   {
    "duration": 16,
    "start_time": "2021-09-04T06:58:43.812Z"
   },
   {
    "duration": 21,
    "start_time": "2021-09-04T06:58:43.829Z"
   },
   {
    "duration": 2,
    "start_time": "2021-09-04T06:58:43.851Z"
   },
   {
    "duration": 12,
    "start_time": "2021-09-04T06:58:43.855Z"
   },
   {
    "duration": 12,
    "start_time": "2021-09-04T06:58:43.885Z"
   },
   {
    "duration": 16,
    "start_time": "2021-09-04T06:58:43.899Z"
   },
   {
    "duration": 7,
    "start_time": "2021-09-04T06:58:43.916Z"
   },
   {
    "duration": 11,
    "start_time": "2021-09-04T06:58:43.925Z"
   },
   {
    "duration": 3150,
    "start_time": "2021-09-04T06:58:43.937Z"
   },
   {
    "duration": 398,
    "start_time": "2021-09-04T06:58:47.088Z"
   },
   {
    "duration": 66900,
    "start_time": "2021-09-04T06:58:47.488Z"
   },
   {
    "duration": 7995,
    "start_time": "2021-09-04T06:59:54.391Z"
   },
   {
    "duration": 431,
    "start_time": "2021-09-04T07:00:02.388Z"
   },
   {
    "duration": 416,
    "start_time": "2021-09-04T07:00:02.820Z"
   },
   {
    "duration": 10361,
    "start_time": "2021-09-04T07:00:03.238Z"
   },
   {
    "duration": 472,
    "start_time": "2021-09-04T07:00:13.604Z"
   },
   {
    "duration": 21,
    "start_time": "2021-09-04T07:00:14.077Z"
   },
   {
    "duration": 495,
    "start_time": "2021-09-04T07:00:14.100Z"
   },
   {
    "duration": 9294,
    "start_time": "2021-09-04T07:00:14.597Z"
   },
   {
    "duration": 396,
    "start_time": "2021-09-04T07:00:23.897Z"
   },
   {
    "duration": 16,
    "start_time": "2021-09-04T07:00:24.296Z"
   },
   {
    "duration": 310,
    "start_time": "2021-09-04T07:00:24.313Z"
   },
   {
    "duration": 7167,
    "start_time": "2021-09-04T07:00:24.625Z"
   },
   {
    "duration": 413,
    "start_time": "2021-09-04T07:00:31.796Z"
   },
   {
    "duration": 15975,
    "start_time": "2021-09-04T07:00:32.211Z"
   },
   {
    "duration": 7113,
    "start_time": "2021-09-04T07:00:48.189Z"
   },
   {
    "duration": 28,
    "start_time": "2021-09-04T07:00:55.304Z"
   },
   {
    "duration": 355,
    "start_time": "2021-09-04T07:00:55.333Z"
   },
   {
    "duration": 3107,
    "start_time": "2021-09-04T07:02:11.465Z"
   },
   {
    "duration": 404,
    "start_time": "2021-09-04T07:02:18.565Z"
   },
   {
    "duration": 282,
    "start_time": "2021-09-04T07:02:27.205Z"
   },
   {
    "duration": 409,
    "start_time": "2021-09-04T07:02:35.389Z"
   },
   {
    "duration": 255,
    "start_time": "2021-09-04T07:02:42.417Z"
   },
   {
    "duration": 12,
    "start_time": "2021-09-04T07:02:54.066Z"
   },
   {
    "duration": 467,
    "start_time": "2021-09-04T07:02:56.652Z"
   },
   {
    "duration": 13,
    "start_time": "2021-09-04T07:03:10.252Z"
   },
   {
    "duration": 292,
    "start_time": "2021-09-04T07:03:12.270Z"
   },
   {
    "duration": 29,
    "start_time": "2021-09-04T07:03:21.085Z"
   },
   {
    "duration": 255,
    "start_time": "2021-09-04T07:03:26.131Z"
   },
   {
    "duration": 3368,
    "start_time": "2021-09-04T07:03:44.494Z"
   },
   {
    "duration": 496,
    "start_time": "2021-09-04T07:03:50.276Z"
   },
   {
    "duration": 322,
    "start_time": "2021-09-04T07:04:02.168Z"
   },
   {
    "duration": 499,
    "start_time": "2021-09-04T07:04:05.610Z"
   },
   {
    "duration": 272,
    "start_time": "2021-09-04T07:04:10.302Z"
   },
   {
    "duration": 13,
    "start_time": "2021-09-04T07:04:15.763Z"
   },
   {
    "duration": 574,
    "start_time": "2021-09-04T07:04:19.040Z"
   },
   {
    "duration": 307,
    "start_time": "2021-09-04T07:04:23.562Z"
   },
   {
    "duration": 13,
    "start_time": "2021-09-04T07:04:27.014Z"
   },
   {
    "duration": 358,
    "start_time": "2021-09-04T07:04:29.684Z"
   },
   {
    "duration": 262,
    "start_time": "2021-09-04T07:04:32.812Z"
   },
   {
    "duration": 30,
    "start_time": "2021-09-04T07:04:42.865Z"
   },
   {
    "duration": 260,
    "start_time": "2021-09-04T07:04:46.628Z"
   },
   {
    "duration": 2854,
    "start_time": "2021-09-04T07:05:05.650Z"
   },
   {
    "duration": 356,
    "start_time": "2021-09-04T07:05:11.247Z"
   },
   {
    "duration": 308,
    "start_time": "2021-09-04T07:05:16.961Z"
   },
   {
    "duration": 360,
    "start_time": "2021-09-04T07:05:20.966Z"
   },
   {
    "duration": 295,
    "start_time": "2021-09-04T07:05:28.595Z"
   },
   {
    "duration": 12,
    "start_time": "2021-09-04T07:05:38.118Z"
   },
   {
    "duration": 409,
    "start_time": "2021-09-04T07:05:40.715Z"
   },
   {
    "duration": 357,
    "start_time": "2021-09-04T07:05:44.675Z"
   },
   {
    "duration": 13,
    "start_time": "2021-09-04T07:05:49.620Z"
   },
   {
    "duration": 259,
    "start_time": "2021-09-04T07:05:51.754Z"
   },
   {
    "duration": 250,
    "start_time": "2021-09-04T07:06:00.935Z"
   },
   {
    "duration": 26,
    "start_time": "2021-09-04T07:06:10.539Z"
   },
   {
    "duration": 311,
    "start_time": "2021-09-04T07:06:18.156Z"
   },
   {
    "duration": 3019,
    "start_time": "2021-09-04T07:06:44.559Z"
   },
   {
    "duration": 396,
    "start_time": "2021-09-04T07:06:59.159Z"
   },
   {
    "duration": 298,
    "start_time": "2021-09-04T07:07:04.072Z"
   },
   {
    "duration": 382,
    "start_time": "2021-09-04T07:07:08.145Z"
   },
   {
    "duration": 272,
    "start_time": "2021-09-04T07:07:12.818Z"
   },
   {
    "duration": 12,
    "start_time": "2021-09-04T07:07:19.768Z"
   },
   {
    "duration": 442,
    "start_time": "2021-09-04T07:07:21.866Z"
   },
   {
    "duration": 306,
    "start_time": "2021-09-04T07:07:25.681Z"
   },
   {
    "duration": 13,
    "start_time": "2021-09-04T07:07:37.454Z"
   },
   {
    "duration": 280,
    "start_time": "2021-09-04T07:07:39.349Z"
   },
   {
    "duration": 288,
    "start_time": "2021-09-04T07:07:46.556Z"
   },
   {
    "duration": 28,
    "start_time": "2021-09-04T07:07:54.958Z"
   },
   {
    "duration": 283,
    "start_time": "2021-09-04T07:07:59.748Z"
   },
   {
    "duration": 2770,
    "start_time": "2021-09-04T07:08:22.332Z"
   },
   {
    "duration": 331,
    "start_time": "2021-09-04T07:08:27.994Z"
   },
   {
    "duration": 242,
    "start_time": "2021-09-04T07:08:41.126Z"
   },
   {
    "duration": 334,
    "start_time": "2021-09-04T07:08:45.195Z"
   },
   {
    "duration": 271,
    "start_time": "2021-09-04T07:08:49.650Z"
   },
   {
    "duration": 14,
    "start_time": "2021-09-04T07:08:53.483Z"
   },
   {
    "duration": 386,
    "start_time": "2021-09-04T07:08:55.544Z"
   },
   {
    "duration": 260,
    "start_time": "2021-09-04T07:09:12.326Z"
   },
   {
    "duration": 13,
    "start_time": "2021-09-04T07:09:17.809Z"
   },
   {
    "duration": 238,
    "start_time": "2021-09-04T07:09:20.910Z"
   },
   {
    "duration": 277,
    "start_time": "2021-09-04T07:09:24.309Z"
   },
   {
    "duration": 24,
    "start_time": "2021-09-04T07:09:31.409Z"
   },
   {
    "duration": 393,
    "start_time": "2021-09-04T07:09:34.794Z"
   },
   {
    "duration": 156,
    "start_time": "2021-09-04T07:11:08.052Z"
   },
   {
    "duration": 167,
    "start_time": "2021-09-04T07:12:01.550Z"
   },
   {
    "duration": 157,
    "start_time": "2021-09-04T07:13:18.408Z"
   },
   {
    "duration": 156,
    "start_time": "2021-09-04T07:16:51.433Z"
   },
   {
    "duration": 160,
    "start_time": "2021-09-04T07:17:52.007Z"
   },
   {
    "duration": 1097,
    "start_time": "2021-09-04T07:19:43.155Z"
   },
   {
    "duration": 8,
    "start_time": "2021-09-04T07:19:44.253Z"
   },
   {
    "duration": 47,
    "start_time": "2021-09-04T07:19:44.263Z"
   },
   {
    "duration": 14,
    "start_time": "2021-09-04T07:19:44.312Z"
   },
   {
    "duration": 16,
    "start_time": "2021-09-04T07:19:44.328Z"
   },
   {
    "duration": 2,
    "start_time": "2021-09-04T07:19:44.346Z"
   },
   {
    "duration": 12,
    "start_time": "2021-09-04T07:19:44.350Z"
   },
   {
    "duration": 38,
    "start_time": "2021-09-04T07:19:44.364Z"
   },
   {
    "duration": 16,
    "start_time": "2021-09-04T07:19:44.404Z"
   },
   {
    "duration": 7,
    "start_time": "2021-09-04T07:19:44.421Z"
   },
   {
    "duration": 11,
    "start_time": "2021-09-04T07:19:44.429Z"
   },
   {
    "duration": 2857,
    "start_time": "2021-09-04T07:19:44.442Z"
   },
   {
    "duration": 349,
    "start_time": "2021-09-04T07:19:47.301Z"
   },
   {
    "duration": 95944,
    "start_time": "2021-09-04T07:19:47.652Z"
   },
   {
    "duration": 8101,
    "start_time": "2021-09-04T07:21:23.601Z"
   },
   {
    "duration": 478,
    "start_time": "2021-09-04T07:21:31.707Z"
   },
   {
    "duration": 343,
    "start_time": "2021-09-04T07:21:32.187Z"
   },
   {
    "duration": 15866,
    "start_time": "2021-09-04T07:21:32.532Z"
   },
   {
    "duration": 402,
    "start_time": "2021-09-04T07:21:48.399Z"
   },
   {
    "duration": 13,
    "start_time": "2021-09-04T07:21:48.802Z"
   },
   {
    "duration": 406,
    "start_time": "2021-09-04T07:21:48.817Z"
   },
   {
    "duration": 11574,
    "start_time": "2021-09-04T07:21:49.225Z"
   },
   {
    "duration": 410,
    "start_time": "2021-09-04T07:22:00.804Z"
   },
   {
    "duration": 12,
    "start_time": "2021-09-04T07:22:01.216Z"
   },
   {
    "duration": 298,
    "start_time": "2021-09-04T07:22:01.230Z"
   },
   {
    "duration": 7377,
    "start_time": "2021-09-04T07:22:01.529Z"
   },
   {
    "duration": 491,
    "start_time": "2021-09-04T07:22:08.908Z"
   },
   {
    "duration": 16905,
    "start_time": "2021-09-04T07:22:09.400Z"
   },
   {
    "duration": 316,
    "start_time": "2021-09-04T07:22:26.308Z"
   },
   {
    "duration": 9089,
    "start_time": "2021-09-04T07:22:26.625Z"
   },
   {
    "duration": 212,
    "start_time": "2021-09-04T07:22:35.715Z"
   },
   {
    "duration": 24,
    "start_time": "2021-09-04T07:22:35.929Z"
   },
   {
    "duration": 327,
    "start_time": "2021-09-04T07:22:35.954Z"
   },
   {
    "duration": 346,
    "start_time": "2021-09-04T07:32:12.562Z"
   },
   {
    "duration": 5450,
    "start_time": "2021-09-04T07:32:24.435Z"
   },
   {
    "duration": 443,
    "start_time": "2021-09-04T07:32:29.892Z"
   },
   {
    "duration": 294,
    "start_time": "2021-09-04T07:51:49.033Z"
   },
   {
    "duration": 1092,
    "start_time": "2021-09-04T07:52:43.356Z"
   },
   {
    "duration": 8,
    "start_time": "2021-09-04T07:52:44.450Z"
   },
   {
    "duration": 41,
    "start_time": "2021-09-04T07:52:44.460Z"
   },
   {
    "duration": 15,
    "start_time": "2021-09-04T07:52:44.503Z"
   },
   {
    "duration": 16,
    "start_time": "2021-09-04T07:52:44.520Z"
   },
   {
    "duration": 3,
    "start_time": "2021-09-04T07:52:44.538Z"
   },
   {
    "duration": 12,
    "start_time": "2021-09-04T07:52:44.543Z"
   },
   {
    "duration": 37,
    "start_time": "2021-09-04T07:52:44.558Z"
   },
   {
    "duration": 16,
    "start_time": "2021-09-04T07:52:44.598Z"
   },
   {
    "duration": 8,
    "start_time": "2021-09-04T07:52:44.616Z"
   },
   {
    "duration": 12,
    "start_time": "2021-09-04T07:52:44.626Z"
   },
   {
    "duration": 2721,
    "start_time": "2021-09-04T07:52:44.639Z"
   },
   {
    "duration": 338,
    "start_time": "2021-09-04T07:52:47.362Z"
   },
   {
    "duration": 51193,
    "start_time": "2021-09-04T07:52:47.701Z"
   },
   {
    "duration": 5603,
    "start_time": "2021-09-04T07:53:38.987Z"
   },
   {
    "duration": 403,
    "start_time": "2021-09-04T07:53:44.592Z"
   },
   {
    "duration": 339,
    "start_time": "2021-09-04T07:53:44.996Z"
   },
   {
    "duration": 7654,
    "start_time": "2021-09-04T07:53:45.336Z"
   },
   {
    "duration": 399,
    "start_time": "2021-09-04T07:53:52.992Z"
   },
   {
    "duration": 11,
    "start_time": "2021-09-04T07:53:53.393Z"
   },
   {
    "duration": 376,
    "start_time": "2021-09-04T07:53:53.405Z"
   },
   {
    "duration": 6805,
    "start_time": "2021-09-04T07:53:53.785Z"
   },
   {
    "duration": 483,
    "start_time": "2021-09-04T07:54:00.594Z"
   },
   {
    "duration": 13,
    "start_time": "2021-09-04T07:54:01.080Z"
   },
   {
    "duration": 255,
    "start_time": "2021-09-04T07:54:01.095Z"
   },
   {
    "duration": 4333,
    "start_time": "2021-09-04T07:54:01.352Z"
   },
   {
    "duration": 382,
    "start_time": "2021-09-04T07:54:05.692Z"
   },
   {
    "duration": 8214,
    "start_time": "2021-09-04T07:54:06.076Z"
   },
   {
    "duration": 240,
    "start_time": "2021-09-04T07:54:14.292Z"
   },
   {
    "duration": 5667,
    "start_time": "2021-09-04T07:54:14.534Z"
   },
   {
    "duration": 177,
    "start_time": "2021-09-04T07:54:20.203Z"
   },
   {
    "duration": 23,
    "start_time": "2021-09-04T07:54:20.384Z"
   },
   {
    "duration": 291,
    "start_time": "2021-09-04T07:54:20.409Z"
   },
   {
    "duration": 1474,
    "start_time": "2021-09-04T09:23:49.942Z"
   },
   {
    "duration": 10,
    "start_time": "2021-09-04T09:23:51.419Z"
   },
   {
    "duration": 61,
    "start_time": "2021-09-04T09:23:51.431Z"
   },
   {
    "duration": 24,
    "start_time": "2021-09-04T09:23:52.081Z"
   },
   {
    "duration": 22,
    "start_time": "2021-09-04T09:23:53.239Z"
   },
   {
    "duration": 4,
    "start_time": "2021-09-04T09:28:52.560Z"
   },
   {
    "duration": 10,
    "start_time": "2021-09-04T09:28:52.814Z"
   },
   {
    "duration": 12,
    "start_time": "2021-09-04T09:29:36.376Z"
   },
   {
    "duration": 18,
    "start_time": "2021-09-04T09:31:38.511Z"
   },
   {
    "duration": 10,
    "start_time": "2021-09-04T09:31:54.392Z"
   },
   {
    "duration": 12,
    "start_time": "2021-09-04T09:31:56.736Z"
   },
   {
    "duration": 2818,
    "start_time": "2021-09-04T09:32:14.080Z"
   },
   {
    "duration": 338,
    "start_time": "2021-09-04T09:32:16.899Z"
   },
   {
    "duration": 55552,
    "start_time": "2021-09-04T09:32:21.641Z"
   },
   {
    "duration": 4902,
    "start_time": "2021-09-04T09:33:17.195Z"
   },
   {
    "duration": 371,
    "start_time": "2021-09-04T09:33:22.103Z"
   },
   {
    "duration": 323,
    "start_time": "2021-09-04T09:33:37.571Z"
   },
   {
    "duration": 7086,
    "start_time": "2021-09-04T09:33:38.216Z"
   },
   {
    "duration": 374,
    "start_time": "2021-09-04T09:33:45.393Z"
   },
   {
    "duration": 13,
    "start_time": "2021-09-04T09:33:55.929Z"
   },
   {
    "duration": 367,
    "start_time": "2021-09-04T09:34:02.074Z"
   },
   {
    "duration": 5629,
    "start_time": "2021-09-04T09:34:02.864Z"
   },
   {
    "duration": 369,
    "start_time": "2021-09-04T09:34:08.495Z"
   },
   {
    "duration": 11,
    "start_time": "2021-09-04T09:34:45.979Z"
   },
   {
    "duration": 237,
    "start_time": "2021-09-04T09:34:46.465Z"
   },
   {
    "duration": 3646,
    "start_time": "2021-09-04T09:34:47.050Z"
   },
   {
    "duration": 376,
    "start_time": "2021-09-04T09:34:50.698Z"
   },
   {
    "duration": 13060,
    "start_time": "2021-09-04T09:35:16.560Z"
   },
   {
    "duration": 236,
    "start_time": "2021-09-04T09:35:29.623Z"
   },
   {
    "duration": 4842,
    "start_time": "2021-09-04T09:35:29.861Z"
   },
   {
    "duration": 168,
    "start_time": "2021-09-04T09:35:34.706Z"
   },
   {
    "duration": 27,
    "start_time": "2021-09-04T09:41:56.384Z"
   },
   {
    "duration": 286,
    "start_time": "2021-09-04T09:41:57.190Z"
   },
   {
    "duration": 1360,
    "start_time": "2021-09-04T16:28:37.861Z"
   },
   {
    "duration": 9,
    "start_time": "2021-09-04T16:28:39.941Z"
   },
   {
    "duration": 43,
    "start_time": "2021-09-04T16:28:41.890Z"
   },
   {
    "duration": 17,
    "start_time": "2021-09-04T16:28:44.213Z"
   },
   {
    "duration": 3,
    "start_time": "2021-09-04T16:28:47.904Z"
   },
   {
    "duration": 16,
    "start_time": "2021-09-04T16:28:49.837Z"
   },
   {
    "duration": 12,
    "start_time": "2021-09-04T16:28:52.288Z"
   },
   {
    "duration": 18,
    "start_time": "2021-09-04T16:28:55.800Z"
   },
   {
    "duration": 12,
    "start_time": "2021-09-04T16:28:59.729Z"
   },
   {
    "duration": 15,
    "start_time": "2021-09-04T16:29:02.929Z"
   },
   {
    "duration": 8,
    "start_time": "2021-09-04T16:30:20.749Z"
   },
   {
    "duration": 5,
    "start_time": "2021-09-04T16:31:21.112Z"
   },
   {
    "duration": 4,
    "start_time": "2021-09-04T16:32:56.517Z"
   },
   {
    "duration": 4,
    "start_time": "2021-09-04T16:33:08.722Z"
   },
   {
    "duration": 4,
    "start_time": "2021-09-04T16:33:15.545Z"
   },
   {
    "duration": 379,
    "start_time": "2021-09-04T16:34:34.400Z"
   },
   {
    "duration": 33,
    "start_time": "2021-09-04T16:35:00.173Z"
   },
   {
    "duration": 281,
    "start_time": "2021-09-04T16:35:14.551Z"
   },
   {
    "duration": 1295,
    "start_time": "2021-09-04T16:37:05.602Z"
   },
   {
    "duration": 9,
    "start_time": "2021-09-04T16:37:06.900Z"
   },
   {
    "duration": 51,
    "start_time": "2021-09-04T16:37:06.912Z"
   },
   {
    "duration": 18,
    "start_time": "2021-09-04T16:37:06.965Z"
   },
   {
    "duration": 19,
    "start_time": "2021-09-04T16:37:06.985Z"
   },
   {
    "duration": 3,
    "start_time": "2021-09-04T16:37:07.006Z"
   },
   {
    "duration": 41,
    "start_time": "2021-09-04T16:37:07.010Z"
   },
   {
    "duration": 17,
    "start_time": "2021-09-04T16:37:07.053Z"
   },
   {
    "duration": 20,
    "start_time": "2021-09-04T16:37:07.072Z"
   },
   {
    "duration": 8,
    "start_time": "2021-09-04T16:37:07.094Z"
   },
   {
    "duration": 43,
    "start_time": "2021-09-04T16:37:07.104Z"
   },
   {
    "duration": 5,
    "start_time": "2021-09-04T16:37:07.149Z"
   },
   {
    "duration": 374,
    "start_time": "2021-09-04T16:37:07.156Z"
   },
   {
    "duration": -1008,
    "start_time": "2021-09-04T16:37:08.540Z"
   },
   {
    "duration": -1014,
    "start_time": "2021-09-04T16:37:08.548Z"
   },
   {
    "duration": -1021,
    "start_time": "2021-09-04T16:37:08.556Z"
   },
   {
    "duration": -1031,
    "start_time": "2021-09-04T16:37:08.567Z"
   },
   {
    "duration": -1038,
    "start_time": "2021-09-04T16:37:08.575Z"
   },
   {
    "duration": -1046,
    "start_time": "2021-09-04T16:37:08.584Z"
   },
   {
    "duration": -1052,
    "start_time": "2021-09-04T16:37:08.592Z"
   },
   {
    "duration": -1060,
    "start_time": "2021-09-04T16:37:08.601Z"
   },
   {
    "duration": -1067,
    "start_time": "2021-09-04T16:37:08.609Z"
   },
   {
    "duration": -1074,
    "start_time": "2021-09-04T16:37:08.617Z"
   },
   {
    "duration": -1081,
    "start_time": "2021-09-04T16:37:08.624Z"
   },
   {
    "duration": -1140,
    "start_time": "2021-09-04T16:37:08.684Z"
   },
   {
    "duration": -1147,
    "start_time": "2021-09-04T16:37:08.692Z"
   },
   {
    "duration": -1158,
    "start_time": "2021-09-04T16:37:08.704Z"
   },
   {
    "duration": -1165,
    "start_time": "2021-09-04T16:37:08.712Z"
   },
   {
    "duration": -1172,
    "start_time": "2021-09-04T16:37:08.721Z"
   },
   {
    "duration": -1179,
    "start_time": "2021-09-04T16:37:08.729Z"
   },
   {
    "duration": -1187,
    "start_time": "2021-09-04T16:37:08.738Z"
   },
   {
    "duration": -1195,
    "start_time": "2021-09-04T16:37:08.747Z"
   },
   {
    "duration": -1203,
    "start_time": "2021-09-04T16:37:08.756Z"
   },
   {
    "duration": -1210,
    "start_time": "2021-09-04T16:37:08.764Z"
   },
   {
    "duration": -1220,
    "start_time": "2021-09-04T16:37:08.775Z"
   },
   {
    "duration": 283,
    "start_time": "2021-09-04T16:37:56.996Z"
   },
   {
    "duration": 273,
    "start_time": "2021-09-04T16:38:22.855Z"
   },
   {
    "duration": 46,
    "start_time": "2021-09-04T16:39:15.096Z"
   },
   {
    "duration": 29,
    "start_time": "2021-09-04T16:39:28.248Z"
   },
   {
    "duration": 338,
    "start_time": "2021-09-04T16:40:22.704Z"
   },
   {
    "duration": 298,
    "start_time": "2021-09-04T16:41:00.914Z"
   },
   {
    "duration": 279,
    "start_time": "2021-09-04T16:41:08.476Z"
   },
   {
    "duration": 282,
    "start_time": "2021-09-04T16:41:24.544Z"
   },
   {
    "duration": 31,
    "start_time": "2021-09-04T16:41:37.654Z"
   },
   {
    "duration": 8,
    "start_time": "2021-09-04T16:41:39.848Z"
   },
   {
    "duration": 43,
    "start_time": "2021-09-04T16:41:41.987Z"
   },
   {
    "duration": 16,
    "start_time": "2021-09-04T16:41:44.871Z"
   },
   {
    "duration": 3,
    "start_time": "2021-09-04T16:41:47.681Z"
   },
   {
    "duration": 10,
    "start_time": "2021-09-04T16:41:49.245Z"
   },
   {
    "duration": 13,
    "start_time": "2021-09-04T16:41:51.129Z"
   },
   {
    "duration": 18,
    "start_time": "2021-09-04T16:41:53.524Z"
   },
   {
    "duration": 8,
    "start_time": "2021-09-04T16:41:56.641Z"
   },
   {
    "duration": 13,
    "start_time": "2021-09-04T16:41:59.998Z"
   },
   {
    "duration": 4,
    "start_time": "2021-09-04T16:42:02.604Z"
   },
   {
    "duration": 47,
    "start_time": "2021-09-04T16:42:05.147Z"
   },
   {
    "duration": 308,
    "start_time": "2021-09-04T16:42:36.025Z"
   },
   {
    "duration": 30,
    "start_time": "2021-09-04T16:42:44.958Z"
   },
   {
    "duration": 9,
    "start_time": "2021-09-04T16:42:46.425Z"
   },
   {
    "duration": 40,
    "start_time": "2021-09-04T16:42:48.308Z"
   },
   {
    "duration": 17,
    "start_time": "2021-09-04T16:42:50.515Z"
   },
   {
    "duration": 4,
    "start_time": "2021-09-04T16:42:53.845Z"
   },
   {
    "duration": 10,
    "start_time": "2021-09-04T16:42:55.390Z"
   },
   {
    "duration": 13,
    "start_time": "2021-09-04T16:42:57.751Z"
   },
   {
    "duration": 19,
    "start_time": "2021-09-04T16:43:01.016Z"
   },
   {
    "duration": 7,
    "start_time": "2021-09-04T16:43:03.991Z"
   },
   {
    "duration": 16,
    "start_time": "2021-09-04T16:43:05.822Z"
   },
   {
    "duration": 4,
    "start_time": "2021-09-04T16:43:07.995Z"
   },
   {
    "duration": 404,
    "start_time": "2021-09-04T16:43:10.444Z"
   },
   {
    "duration": 301,
    "start_time": "2021-09-04T16:43:30.260Z"
   },
   {
    "duration": 290,
    "start_time": "2021-09-04T16:43:31.886Z"
   },
   {
    "duration": 1304,
    "start_time": "2021-09-04T16:43:38.455Z"
   },
   {
    "duration": 9,
    "start_time": "2021-09-04T16:43:39.761Z"
   },
   {
    "duration": 45,
    "start_time": "2021-09-04T16:43:39.772Z"
   },
   {
    "duration": 32,
    "start_time": "2021-09-04T16:43:39.819Z"
   },
   {
    "duration": 23,
    "start_time": "2021-09-04T16:43:39.853Z"
   },
   {
    "duration": 3,
    "start_time": "2021-09-04T16:43:39.878Z"
   },
   {
    "duration": 17,
    "start_time": "2021-09-04T16:43:39.883Z"
   },
   {
    "duration": 12,
    "start_time": "2021-09-04T16:43:39.902Z"
   },
   {
    "duration": 39,
    "start_time": "2021-09-04T16:43:39.917Z"
   },
   {
    "duration": 8,
    "start_time": "2021-09-04T16:43:39.958Z"
   },
   {
    "duration": 14,
    "start_time": "2021-09-04T16:43:39.968Z"
   },
   {
    "duration": 5,
    "start_time": "2021-09-04T16:43:39.984Z"
   },
   {
    "duration": 88,
    "start_time": "2021-09-04T16:43:39.990Z"
   },
   {
    "duration": 3232,
    "start_time": "2021-09-04T16:43:40.080Z"
   },
   {
    "duration": 514,
    "start_time": "2021-09-04T16:43:43.314Z"
   },
   {
    "duration": 6520,
    "start_time": "2021-09-04T16:43:43.831Z"
   },
   {
    "duration": 31,
    "start_time": "2021-09-04T16:43:50.353Z"
   },
   {
    "duration": 404,
    "start_time": "2021-09-04T16:43:50.446Z"
   },
   {
    "duration": 424,
    "start_time": "2021-09-04T16:43:50.852Z"
   },
   {
    "duration": 64,
    "start_time": "2021-09-04T16:43:51.278Z"
   },
   {
    "duration": 415,
    "start_time": "2021-09-04T16:43:51.346Z"
   },
   {
    "duration": 12,
    "start_time": "2021-09-04T16:43:51.763Z"
   },
   {
    "duration": 449,
    "start_time": "2021-09-04T16:43:51.778Z"
   },
   {
    "duration": 113,
    "start_time": "2021-09-04T16:43:52.229Z"
   },
   {
    "duration": 402,
    "start_time": "2021-09-04T16:43:52.345Z"
   },
   {
    "duration": 12,
    "start_time": "2021-09-04T16:43:52.749Z"
   },
   {
    "duration": 299,
    "start_time": "2021-09-04T16:43:52.765Z"
   },
   {
    "duration": 22,
    "start_time": "2021-09-04T16:43:53.066Z"
   },
   {
    "duration": 403,
    "start_time": "2021-09-04T16:43:53.142Z"
   },
   {
    "duration": 202,
    "start_time": "2021-09-04T16:43:53.548Z"
   },
   {
    "duration": 326,
    "start_time": "2021-09-04T16:43:53.752Z"
   },
   {
    "duration": 177,
    "start_time": "2021-09-04T16:43:54.080Z"
   },
   {
    "duration": 239,
    "start_time": "2021-09-04T16:43:54.259Z"
   },
   {
    "duration": 42,
    "start_time": "2021-09-04T16:43:54.500Z"
   },
   {
    "duration": 315,
    "start_time": "2021-09-04T16:43:54.544Z"
   },
   {
    "duration": 477,
    "start_time": "2021-09-04T16:53:38.715Z"
   },
   {
    "duration": 510,
    "start_time": "2021-09-04T17:01:45.960Z"
   },
   {
    "duration": 32,
    "start_time": "2021-09-04T17:01:56.327Z"
   },
   {
    "duration": 309,
    "start_time": "2021-09-04T17:02:03.680Z"
   },
   {
    "duration": 303,
    "start_time": "2021-09-04T17:06:31.654Z"
   },
   {
    "duration": 447,
    "start_time": "2021-09-04T17:07:15.073Z"
   },
   {
    "duration": 395,
    "start_time": "2021-09-04T17:07:53.460Z"
   },
   {
    "duration": 223,
    "start_time": "2021-09-04T17:10:03.794Z"
   },
   {
    "duration": 227,
    "start_time": "2021-09-04T17:20:15.324Z"
   },
   {
    "duration": 218,
    "start_time": "2021-09-04T17:20:26.000Z"
   },
   {
    "duration": 375,
    "start_time": "2021-09-04T17:27:51.944Z"
   },
   {
    "duration": 33,
    "start_time": "2021-09-04T17:28:02.175Z"
   },
   {
    "duration": 29,
    "start_time": "2021-09-04T17:28:11.283Z"
   },
   {
    "duration": 1304,
    "start_time": "2021-09-04T17:28:49.776Z"
   },
   {
    "duration": 9,
    "start_time": "2021-09-04T17:28:51.082Z"
   },
   {
    "duration": 50,
    "start_time": "2021-09-04T17:28:51.095Z"
   },
   {
    "duration": 19,
    "start_time": "2021-09-04T17:28:51.148Z"
   },
   {
    "duration": 19,
    "start_time": "2021-09-04T17:28:51.169Z"
   },
   {
    "duration": 3,
    "start_time": "2021-09-04T17:28:51.190Z"
   },
   {
    "duration": 46,
    "start_time": "2021-09-04T17:28:51.195Z"
   },
   {
    "duration": 12,
    "start_time": "2021-09-04T17:28:51.244Z"
   },
   {
    "duration": 18,
    "start_time": "2021-09-04T17:28:51.258Z"
   },
   {
    "duration": 7,
    "start_time": "2021-09-04T17:28:51.278Z"
   },
   {
    "duration": 55,
    "start_time": "2021-09-04T17:28:51.287Z"
   },
   {
    "duration": 47,
    "start_time": "2021-09-04T17:28:51.343Z"
   },
   {
    "duration": 3126,
    "start_time": "2021-09-04T17:28:51.392Z"
   },
   {
    "duration": 389,
    "start_time": "2021-09-04T17:28:54.520Z"
   },
   {
    "duration": 5846,
    "start_time": "2021-09-04T17:28:54.911Z"
   },
   {
    "duration": 30,
    "start_time": "2021-09-04T17:29:00.759Z"
   },
   {
    "duration": 400,
    "start_time": "2021-09-04T17:29:00.843Z"
   },
   {
    "duration": 389,
    "start_time": "2021-09-04T17:29:01.245Z"
   },
   {
    "duration": 34,
    "start_time": "2021-09-04T17:29:01.636Z"
   },
   {
    "duration": 447,
    "start_time": "2021-09-04T17:29:01.743Z"
   },
   {
    "duration": 15,
    "start_time": "2021-09-04T17:29:02.192Z"
   },
   {
    "duration": 453,
    "start_time": "2021-09-04T17:29:02.209Z"
   },
   {
    "duration": 78,
    "start_time": "2021-09-04T17:29:02.666Z"
   },
   {
    "duration": 406,
    "start_time": "2021-09-04T17:29:02.747Z"
   },
   {
    "duration": 13,
    "start_time": "2021-09-04T17:29:03.155Z"
   },
   {
    "duration": 294,
    "start_time": "2021-09-04T17:29:03.170Z"
   },
   {
    "duration": 78,
    "start_time": "2021-09-04T17:29:03.466Z"
   },
   {
    "duration": 418,
    "start_time": "2021-09-04T17:29:03.548Z"
   },
   {
    "duration": 187,
    "start_time": "2021-09-04T17:29:03.968Z"
   },
   {
    "duration": 255,
    "start_time": "2021-09-04T17:29:04.157Z"
   },
   {
    "duration": 249,
    "start_time": "2021-09-04T17:29:04.414Z"
   },
   {
    "duration": 188,
    "start_time": "2021-09-04T17:29:04.665Z"
   },
   {
    "duration": 542,
    "start_time": "2021-09-04T17:29:04.855Z"
   },
   {
    "duration": 27,
    "start_time": "2021-09-04T17:29:05.399Z"
   },
   {
    "duration": 340,
    "start_time": "2021-09-04T17:29:05.428Z"
   },
   {
    "duration": 251,
    "start_time": "2021-09-04T17:29:05.770Z"
   },
   {
    "duration": 486,
    "start_time": "2021-09-04T17:30:51.890Z"
   },
   {
    "duration": 303,
    "start_time": "2021-09-04T17:31:26.394Z"
   },
   {
    "duration": 216,
    "start_time": "2021-09-04T17:31:31.154Z"
   },
   {
    "duration": 1222,
    "start_time": "2022-02-28T18:01:20.295Z"
   },
   {
    "duration": 22,
    "start_time": "2022-02-28T18:01:21.519Z"
   },
   {
    "duration": 8,
    "start_time": "2022-02-28T18:01:21.543Z"
   },
   {
    "duration": 47,
    "start_time": "2022-02-28T18:01:21.553Z"
   },
   {
    "duration": 14,
    "start_time": "2022-02-28T18:01:21.602Z"
   },
   {
    "duration": 16,
    "start_time": "2022-02-28T18:01:21.618Z"
   },
   {
    "duration": 3,
    "start_time": "2022-02-28T18:01:21.659Z"
   },
   {
    "duration": 8,
    "start_time": "2022-02-28T18:01:21.665Z"
   },
   {
    "duration": 12,
    "start_time": "2022-02-28T18:01:21.675Z"
   },
   {
    "duration": 16,
    "start_time": "2022-02-28T18:01:21.689Z"
   },
   {
    "duration": 7,
    "start_time": "2022-02-28T18:01:21.707Z"
   },
   {
    "duration": 50,
    "start_time": "2022-02-28T18:01:21.715Z"
   },
   {
    "duration": 43,
    "start_time": "2022-02-28T18:01:21.767Z"
   },
   {
    "duration": 2918,
    "start_time": "2022-02-28T18:01:21.811Z"
   },
   {
    "duration": 365,
    "start_time": "2022-02-28T18:01:24.731Z"
   },
   {
    "duration": 5775,
    "start_time": "2022-02-28T18:01:25.098Z"
   },
   {
    "duration": 29,
    "start_time": "2022-02-28T18:01:30.874Z"
   },
   {
    "duration": 402,
    "start_time": "2022-02-28T18:01:30.961Z"
   },
   {
    "duration": 352,
    "start_time": "2022-02-28T18:01:31.365Z"
   },
   {
    "duration": 48,
    "start_time": "2022-02-28T18:01:31.719Z"
   },
   {
    "duration": 474,
    "start_time": "2022-02-28T18:01:31.770Z"
   },
   {
    "duration": 19,
    "start_time": "2022-02-28T18:01:32.246Z"
   },
   {
    "duration": 400,
    "start_time": "2022-02-28T18:01:32.269Z"
   },
   {
    "duration": 32,
    "start_time": "2022-02-28T18:01:32.670Z"
   },
   {
    "duration": 406,
    "start_time": "2022-02-28T18:01:32.761Z"
   },
   {
    "duration": 11,
    "start_time": "2022-02-28T18:01:33.168Z"
   },
   {
    "duration": 268,
    "start_time": "2022-02-28T18:01:33.181Z"
   },
   {
    "duration": 109,
    "start_time": "2022-02-28T18:01:33.451Z"
   },
   {
    "duration": 386,
    "start_time": "2022-02-28T18:01:33.562Z"
   },
   {
    "duration": 216,
    "start_time": "2022-02-28T18:01:33.949Z"
   },
   {
    "duration": 242,
    "start_time": "2022-02-28T18:01:34.167Z"
   },
   {
    "duration": 170,
    "start_time": "2022-02-28T18:01:34.411Z"
   },
   {
    "duration": 210,
    "start_time": "2022-02-28T18:01:34.583Z"
   },
   {
    "duration": 450,
    "start_time": "2022-02-28T18:01:34.795Z"
   },
   {
    "duration": 318,
    "start_time": "2022-02-28T18:01:35.247Z"
   },
   {
    "duration": 220,
    "start_time": "2022-02-28T18:01:35.566Z"
   }
  ],
  "kernelspec": {
   "display_name": "Python 3",
   "language": "python",
   "name": "python3"
  },
  "language_info": {
   "codemirror_mode": {
    "name": "ipython",
    "version": 3
   },
   "file_extension": ".py",
   "mimetype": "text/x-python",
   "name": "python",
   "nbconvert_exporter": "python",
   "pygments_lexer": "ipython3",
   "version": "3.7.8"
  },
  "toc": {
   "base_numbering": 1,
   "nav_menu": {},
   "number_sections": true,
   "sideBar": true,
   "skip_h1_title": true,
   "title_cell": "Содержание",
   "title_sidebar": "Contents",
   "toc_cell": true,
   "toc_position": {},
   "toc_section_display": true,
   "toc_window_display": true
  }
 },
 "nbformat": 4,
 "nbformat_minor": 2
}
