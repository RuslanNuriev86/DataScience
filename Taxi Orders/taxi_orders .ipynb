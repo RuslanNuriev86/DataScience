{
  "nbformat": 4,
  "nbformat_minor": 0,
  "metadata": {
    "ExecuteTimeLog": [
      {
        "duration": 419,
        "start_time": "2021-11-10T16:20:55.385Z"
      },
      {
        "duration": 956,
        "start_time": "2021-11-10T16:21:02.148Z"
      },
      {
        "duration": 53,
        "start_time": "2021-11-10T16:21:04.521Z"
      },
      {
        "duration": 14,
        "start_time": "2021-11-10T16:22:01.028Z"
      },
      {
        "duration": 18,
        "start_time": "2021-11-10T16:22:15.257Z"
      },
      {
        "duration": 6,
        "start_time": "2021-11-10T16:32:10.921Z"
      },
      {
        "duration": 6,
        "start_time": "2021-11-10T16:33:51.252Z"
      },
      {
        "duration": 452,
        "start_time": "2021-11-10T16:34:14.583Z"
      },
      {
        "duration": 748,
        "start_time": "2021-11-10T16:35:03.913Z"
      },
      {
        "duration": 56,
        "start_time": "2021-11-10T16:35:04.664Z"
      },
      {
        "duration": 11,
        "start_time": "2021-11-10T16:35:04.724Z"
      },
      {
        "duration": 36,
        "start_time": "2021-11-10T16:35:04.738Z"
      },
      {
        "duration": 6,
        "start_time": "2021-11-10T16:35:04.777Z"
      },
      {
        "duration": 9,
        "start_time": "2021-11-10T16:35:04.785Z"
      },
      {
        "duration": 526,
        "start_time": "2021-11-10T16:35:04.797Z"
      },
      {
        "duration": 734,
        "start_time": "2021-11-10T16:35:44.412Z"
      },
      {
        "duration": 52,
        "start_time": "2021-11-10T16:35:45.149Z"
      },
      {
        "duration": 10,
        "start_time": "2021-11-10T16:35:45.204Z"
      },
      {
        "duration": 20,
        "start_time": "2021-11-10T16:35:45.217Z"
      },
      {
        "duration": 534,
        "start_time": "2021-11-10T16:35:45.239Z"
      },
      {
        "duration": -329,
        "start_time": "2021-11-10T16:35:46.105Z"
      },
      {
        "duration": -356,
        "start_time": "2021-11-10T16:35:46.133Z"
      },
      {
        "duration": -371,
        "start_time": "2021-11-10T16:35:46.150Z"
      },
      {
        "duration": 871,
        "start_time": "2021-11-10T16:37:00.479Z"
      },
      {
        "duration": 56,
        "start_time": "2021-11-10T16:37:01.352Z"
      },
      {
        "duration": 10,
        "start_time": "2021-11-10T16:37:01.411Z"
      },
      {
        "duration": 41,
        "start_time": "2021-11-10T16:37:01.425Z"
      },
      {
        "duration": 14,
        "start_time": "2021-11-10T16:37:01.468Z"
      },
      {
        "duration": 564,
        "start_time": "2021-11-10T16:37:01.484Z"
      },
      {
        "duration": -329,
        "start_time": "2021-11-10T16:37:02.379Z"
      },
      {
        "duration": -342,
        "start_time": "2021-11-10T16:37:02.393Z"
      },
      {
        "duration": 6,
        "start_time": "2021-11-10T16:37:26.367Z"
      },
      {
        "duration": 5317,
        "start_time": "2021-11-10T16:38:41.317Z"
      },
      {
        "duration": -341,
        "start_time": "2021-11-10T16:38:46.977Z"
      },
      {
        "duration": 699,
        "start_time": "2021-11-10T16:39:07.903Z"
      },
      {
        "duration": 61,
        "start_time": "2021-11-10T16:39:08.605Z"
      },
      {
        "duration": 10,
        "start_time": "2021-11-10T16:39:08.669Z"
      },
      {
        "duration": 36,
        "start_time": "2021-11-10T16:39:08.681Z"
      },
      {
        "duration": 18,
        "start_time": "2021-11-10T16:39:08.719Z"
      },
      {
        "duration": 22,
        "start_time": "2021-11-10T16:39:08.739Z"
      },
      {
        "duration": 13,
        "start_time": "2021-11-10T16:39:08.763Z"
      },
      {
        "duration": 16,
        "start_time": "2021-11-10T16:39:08.778Z"
      },
      {
        "duration": 22,
        "start_time": "2021-11-10T16:39:08.797Z"
      },
      {
        "duration": 563,
        "start_time": "2021-11-10T16:39:33.586Z"
      },
      {
        "duration": 481,
        "start_time": "2021-11-10T16:41:16.564Z"
      },
      {
        "duration": 422,
        "start_time": "2021-11-10T16:41:42.401Z"
      },
      {
        "duration": 486,
        "start_time": "2021-11-10T16:42:08.199Z"
      },
      {
        "duration": 493,
        "start_time": "2021-11-10T16:42:17.905Z"
      },
      {
        "duration": 676,
        "start_time": "2021-11-10T16:42:26.468Z"
      },
      {
        "duration": 583,
        "start_time": "2021-11-10T16:43:28.599Z"
      },
      {
        "duration": 504,
        "start_time": "2021-11-10T16:44:28.300Z"
      },
      {
        "duration": 384,
        "start_time": "2021-11-10T16:45:25.119Z"
      },
      {
        "duration": 1234,
        "start_time": "2021-11-11T14:39:31.312Z"
      },
      {
        "duration": 140,
        "start_time": "2021-11-11T14:39:32.548Z"
      },
      {
        "duration": 10,
        "start_time": "2021-11-11T14:39:32.691Z"
      },
      {
        "duration": 19,
        "start_time": "2021-11-11T14:39:32.703Z"
      },
      {
        "duration": 36,
        "start_time": "2021-11-11T14:39:32.725Z"
      },
      {
        "duration": 7,
        "start_time": "2021-11-11T14:39:32.763Z"
      },
      {
        "duration": 8,
        "start_time": "2021-11-11T14:39:32.772Z"
      },
      {
        "duration": 16,
        "start_time": "2021-11-11T14:39:32.783Z"
      },
      {
        "duration": 612,
        "start_time": "2021-11-11T14:39:32.802Z"
      },
      {
        "duration": 490,
        "start_time": "2021-11-11T14:39:33.417Z"
      },
      {
        "duration": 11,
        "start_time": "2021-11-11T14:39:33.910Z"
      },
      {
        "duration": 536,
        "start_time": "2021-11-11T14:42:51.145Z"
      },
      {
        "duration": 3,
        "start_time": "2021-11-11T14:43:29.625Z"
      },
      {
        "duration": 1350,
        "start_time": "2021-11-11T14:43:36.365Z"
      },
      {
        "duration": 401,
        "start_time": "2021-11-11T14:44:06.528Z"
      },
      {
        "duration": 366,
        "start_time": "2021-11-11T14:44:55.908Z"
      },
      {
        "duration": 976,
        "start_time": "2021-11-11T14:45:21.125Z"
      },
      {
        "duration": 1447,
        "start_time": "2021-11-11T14:48:50.544Z"
      },
      {
        "duration": 1027,
        "start_time": "2021-11-11T14:51:05.505Z"
      },
      {
        "duration": 1407,
        "start_time": "2021-11-11T14:51:16.002Z"
      },
      {
        "duration": 1039,
        "start_time": "2021-11-11T14:52:56.459Z"
      },
      {
        "duration": 1411,
        "start_time": "2021-11-11T14:55:08.112Z"
      },
      {
        "duration": 1515,
        "start_time": "2021-11-11T14:55:59.649Z"
      },
      {
        "duration": 782,
        "start_time": "2021-11-11T14:56:27.011Z"
      },
      {
        "duration": 1111,
        "start_time": "2021-11-11T14:56:39.211Z"
      },
      {
        "duration": 1476,
        "start_time": "2021-11-11T14:57:03.064Z"
      },
      {
        "duration": 1658,
        "start_time": "2021-11-11T15:00:46.095Z"
      },
      {
        "duration": 130,
        "start_time": "2021-11-11T15:02:55.796Z"
      },
      {
        "duration": 1567,
        "start_time": "2021-11-11T15:03:12.595Z"
      },
      {
        "duration": 1345,
        "start_time": "2021-11-11T15:44:26.183Z"
      },
      {
        "duration": 49,
        "start_time": "2021-11-11T15:44:27.531Z"
      },
      {
        "duration": 9,
        "start_time": "2021-11-11T15:44:27.583Z"
      },
      {
        "duration": 26,
        "start_time": "2021-11-11T15:44:27.595Z"
      },
      {
        "duration": 16,
        "start_time": "2021-11-11T15:44:27.624Z"
      },
      {
        "duration": 19,
        "start_time": "2021-11-11T15:44:27.643Z"
      },
      {
        "duration": 22,
        "start_time": "2021-11-11T15:44:27.664Z"
      },
      {
        "duration": 28,
        "start_time": "2021-11-11T15:44:27.689Z"
      },
      {
        "duration": 465,
        "start_time": "2021-11-11T15:44:27.720Z"
      },
      {
        "duration": 6,
        "start_time": "2021-11-11T15:44:28.187Z"
      },
      {
        "duration": 12076,
        "start_time": "2021-11-11T15:44:28.195Z"
      },
      {
        "duration": -1793,
        "start_time": "2021-11-11T15:44:42.066Z"
      },
      {
        "duration": -1795,
        "start_time": "2021-11-11T15:44:42.070Z"
      },
      {
        "duration": -1802,
        "start_time": "2021-11-11T15:44:42.079Z"
      },
      {
        "duration": 1421,
        "start_time": "2021-11-11T15:45:08.745Z"
      },
      {
        "duration": 50,
        "start_time": "2021-11-11T15:45:10.168Z"
      },
      {
        "duration": 9,
        "start_time": "2021-11-11T15:45:10.221Z"
      },
      {
        "duration": 39,
        "start_time": "2021-11-11T15:45:10.233Z"
      },
      {
        "duration": 11,
        "start_time": "2021-11-11T15:45:10.275Z"
      },
      {
        "duration": 18,
        "start_time": "2021-11-11T15:45:10.289Z"
      },
      {
        "duration": 20,
        "start_time": "2021-11-11T15:45:10.310Z"
      },
      {
        "duration": 20,
        "start_time": "2021-11-11T15:45:10.332Z"
      },
      {
        "duration": 482,
        "start_time": "2021-11-11T15:45:10.355Z"
      },
      {
        "duration": 5,
        "start_time": "2021-11-11T15:45:10.840Z"
      },
      {
        "duration": 595,
        "start_time": "2021-11-11T15:45:10.848Z"
      },
      {
        "duration": -2438,
        "start_time": "2021-11-11T15:45:13.884Z"
      },
      {
        "duration": -2452,
        "start_time": "2021-11-11T15:45:13.899Z"
      },
      {
        "duration": -2460,
        "start_time": "2021-11-11T15:45:13.908Z"
      },
      {
        "duration": 1362,
        "start_time": "2021-11-11T15:46:01.270Z"
      },
      {
        "duration": 51,
        "start_time": "2021-11-11T15:46:02.636Z"
      },
      {
        "duration": 10,
        "start_time": "2021-11-11T15:46:02.691Z"
      },
      {
        "duration": 21,
        "start_time": "2021-11-11T15:46:02.704Z"
      },
      {
        "duration": 33,
        "start_time": "2021-11-11T15:46:02.728Z"
      },
      {
        "duration": 6,
        "start_time": "2021-11-11T15:46:02.763Z"
      },
      {
        "duration": 9,
        "start_time": "2021-11-11T15:46:02.771Z"
      },
      {
        "duration": 19,
        "start_time": "2021-11-11T15:46:02.782Z"
      },
      {
        "duration": 471,
        "start_time": "2021-11-11T15:46:02.805Z"
      },
      {
        "duration": 5,
        "start_time": "2021-11-11T15:46:03.279Z"
      },
      {
        "duration": 986,
        "start_time": "2021-11-11T15:46:03.286Z"
      },
      {
        "duration": 9,
        "start_time": "2021-11-11T15:46:04.275Z"
      },
      {
        "duration": 1616,
        "start_time": "2021-11-11T15:46:04.287Z"
      },
      {
        "duration": 5,
        "start_time": "2021-11-11T15:46:05.906Z"
      },
      {
        "duration": 963,
        "start_time": "2021-11-11T15:46:32.775Z"
      },
      {
        "duration": 396,
        "start_time": "2021-11-11T15:46:53.175Z"
      },
      {
        "duration": 477,
        "start_time": "2021-11-11T15:47:23.674Z"
      },
      {
        "duration": 598,
        "start_time": "2021-11-11T15:47:45.236Z"
      },
      {
        "duration": 582,
        "start_time": "2021-11-11T15:49:02.964Z"
      },
      {
        "duration": 512,
        "start_time": "2021-11-11T15:49:30.078Z"
      },
      {
        "duration": 571,
        "start_time": "2021-11-11T15:49:41.028Z"
      },
      {
        "duration": 76,
        "start_time": "2021-11-11T15:54:38.092Z"
      },
      {
        "duration": 23,
        "start_time": "2021-11-11T16:00:14.062Z"
      },
      {
        "duration": 1517,
        "start_time": "2021-11-11T16:05:33.522Z"
      },
      {
        "duration": 50,
        "start_time": "2021-11-11T16:05:35.041Z"
      },
      {
        "duration": 10,
        "start_time": "2021-11-11T16:05:35.094Z"
      },
      {
        "duration": 21,
        "start_time": "2021-11-11T16:05:35.108Z"
      },
      {
        "duration": 39,
        "start_time": "2021-11-11T16:05:35.132Z"
      },
      {
        "duration": 10,
        "start_time": "2021-11-11T16:05:35.174Z"
      },
      {
        "duration": 14,
        "start_time": "2021-11-11T16:05:35.187Z"
      },
      {
        "duration": 15,
        "start_time": "2021-11-11T16:05:35.206Z"
      },
      {
        "duration": 476,
        "start_time": "2021-11-11T16:05:35.224Z"
      },
      {
        "duration": 7,
        "start_time": "2021-11-11T16:05:35.704Z"
      },
      {
        "duration": 523,
        "start_time": "2021-11-11T16:05:35.713Z"
      },
      {
        "duration": 21,
        "start_time": "2021-11-11T16:05:36.238Z"
      },
      {
        "duration": 1570,
        "start_time": "2021-11-11T16:05:36.261Z"
      },
      {
        "duration": 25,
        "start_time": "2021-11-11T16:05:37.834Z"
      },
      {
        "duration": 12,
        "start_time": "2021-11-11T16:05:37.862Z"
      },
      {
        "duration": 10,
        "start_time": "2021-11-11T16:05:37.877Z"
      },
      {
        "duration": 12,
        "start_time": "2021-11-11T16:05:37.891Z"
      },
      {
        "duration": 14,
        "start_time": "2021-11-11T16:05:37.906Z"
      },
      {
        "duration": 10,
        "start_time": "2021-11-11T16:05:37.960Z"
      },
      {
        "duration": 7,
        "start_time": "2021-11-11T16:05:58.579Z"
      },
      {
        "duration": 18,
        "start_time": "2021-11-11T16:06:49.479Z"
      },
      {
        "duration": 11,
        "start_time": "2021-11-11T16:06:52.088Z"
      },
      {
        "duration": 7,
        "start_time": "2021-11-11T16:06:54.289Z"
      },
      {
        "duration": 4,
        "start_time": "2021-11-11T16:06:55.988Z"
      },
      {
        "duration": 9,
        "start_time": "2021-11-11T16:06:56.868Z"
      },
      {
        "duration": 7,
        "start_time": "2021-11-11T16:06:58.198Z"
      },
      {
        "duration": 10,
        "start_time": "2021-11-11T16:07:17.026Z"
      },
      {
        "duration": 10,
        "start_time": "2021-11-11T16:07:17.658Z"
      },
      {
        "duration": 7,
        "start_time": "2021-11-11T16:07:18.289Z"
      },
      {
        "duration": 3,
        "start_time": "2021-11-11T16:07:18.907Z"
      },
      {
        "duration": 10,
        "start_time": "2021-11-11T16:07:19.469Z"
      },
      {
        "duration": 7,
        "start_time": "2021-11-11T16:07:20.488Z"
      },
      {
        "duration": 11,
        "start_time": "2021-11-11T16:07:31.388Z"
      },
      {
        "duration": 10,
        "start_time": "2021-11-11T16:07:32.088Z"
      },
      {
        "duration": 7,
        "start_time": "2021-11-11T16:07:32.749Z"
      },
      {
        "duration": 3,
        "start_time": "2021-11-11T16:07:33.209Z"
      },
      {
        "duration": 10,
        "start_time": "2021-11-11T16:07:33.808Z"
      },
      {
        "duration": 7,
        "start_time": "2021-11-11T16:07:34.896Z"
      },
      {
        "duration": 12,
        "start_time": "2021-11-11T16:07:40.079Z"
      },
      {
        "duration": 10,
        "start_time": "2021-11-11T16:07:40.648Z"
      },
      {
        "duration": 8,
        "start_time": "2021-11-11T16:07:41.298Z"
      },
      {
        "duration": 3,
        "start_time": "2021-11-11T16:07:41.839Z"
      },
      {
        "duration": 10,
        "start_time": "2021-11-11T16:07:42.428Z"
      },
      {
        "duration": 8,
        "start_time": "2021-11-11T16:07:43.336Z"
      },
      {
        "duration": 10,
        "start_time": "2021-11-11T16:07:47.999Z"
      },
      {
        "duration": 11,
        "start_time": "2021-11-11T16:07:48.709Z"
      },
      {
        "duration": 7,
        "start_time": "2021-11-11T16:07:49.279Z"
      },
      {
        "duration": 4,
        "start_time": "2021-11-11T16:07:49.849Z"
      },
      {
        "duration": 12,
        "start_time": "2021-11-11T16:07:50.408Z"
      },
      {
        "duration": 7,
        "start_time": "2021-11-11T16:07:51.578Z"
      },
      {
        "duration": 11,
        "start_time": "2021-11-11T16:07:55.578Z"
      },
      {
        "duration": 9,
        "start_time": "2021-11-11T16:07:56.299Z"
      },
      {
        "duration": 8,
        "start_time": "2021-11-11T16:07:56.918Z"
      },
      {
        "duration": 4,
        "start_time": "2021-11-11T16:07:57.548Z"
      },
      {
        "duration": 11,
        "start_time": "2021-11-11T16:07:58.171Z"
      },
      {
        "duration": 16,
        "start_time": "2021-11-11T16:07:59.300Z"
      },
      {
        "duration": 10,
        "start_time": "2021-11-11T16:08:05.997Z"
      },
      {
        "duration": 10,
        "start_time": "2021-11-11T16:08:06.548Z"
      },
      {
        "duration": 7,
        "start_time": "2021-11-11T16:08:07.078Z"
      },
      {
        "duration": 3,
        "start_time": "2021-11-11T16:08:07.548Z"
      },
      {
        "duration": 10,
        "start_time": "2021-11-11T16:08:08.199Z"
      },
      {
        "duration": 7,
        "start_time": "2021-11-11T16:08:08.958Z"
      },
      {
        "duration": 10,
        "start_time": "2021-11-11T16:08:13.829Z"
      },
      {
        "duration": 10,
        "start_time": "2021-11-11T16:08:14.339Z"
      },
      {
        "duration": 7,
        "start_time": "2021-11-11T16:08:14.929Z"
      },
      {
        "duration": 3,
        "start_time": "2021-11-11T16:08:15.409Z"
      },
      {
        "duration": 11,
        "start_time": "2021-11-11T16:08:15.979Z"
      },
      {
        "duration": 7,
        "start_time": "2021-11-11T16:08:16.618Z"
      },
      {
        "duration": 10,
        "start_time": "2021-11-11T16:08:21.359Z"
      },
      {
        "duration": 9,
        "start_time": "2021-11-11T16:08:21.952Z"
      },
      {
        "duration": 7,
        "start_time": "2021-11-11T16:08:22.498Z"
      },
      {
        "duration": 4,
        "start_time": "2021-11-11T16:08:22.978Z"
      },
      {
        "duration": 10,
        "start_time": "2021-11-11T16:08:23.569Z"
      },
      {
        "duration": 7,
        "start_time": "2021-11-11T16:08:24.218Z"
      },
      {
        "duration": 1525,
        "start_time": "2021-11-11T16:10:27.898Z"
      },
      {
        "duration": 47,
        "start_time": "2021-11-11T16:10:29.426Z"
      },
      {
        "duration": 9,
        "start_time": "2021-11-11T16:10:29.476Z"
      },
      {
        "duration": 20,
        "start_time": "2021-11-11T16:10:29.487Z"
      },
      {
        "duration": 13,
        "start_time": "2021-11-11T16:10:29.509Z"
      },
      {
        "duration": 35,
        "start_time": "2021-11-11T16:10:29.525Z"
      },
      {
        "duration": 8,
        "start_time": "2021-11-11T16:10:29.563Z"
      },
      {
        "duration": 15,
        "start_time": "2021-11-11T16:10:29.573Z"
      },
      {
        "duration": 571,
        "start_time": "2021-11-11T16:10:29.591Z"
      },
      {
        "duration": 6,
        "start_time": "2021-11-11T16:10:30.165Z"
      },
      {
        "duration": 530,
        "start_time": "2021-11-11T16:10:30.173Z"
      },
      {
        "duration": 10,
        "start_time": "2021-11-11T16:10:30.706Z"
      },
      {
        "duration": 1618,
        "start_time": "2021-11-11T16:10:30.719Z"
      },
      {
        "duration": 29,
        "start_time": "2021-11-11T16:10:32.340Z"
      },
      {
        "duration": 11,
        "start_time": "2021-11-11T16:10:32.372Z"
      },
      {
        "duration": 12,
        "start_time": "2021-11-11T16:10:32.385Z"
      },
      {
        "duration": 7,
        "start_time": "2021-11-11T16:10:32.400Z"
      },
      {
        "duration": 52,
        "start_time": "2021-11-11T16:10:32.409Z"
      },
      {
        "duration": 540,
        "start_time": "2021-11-11T16:10:32.464Z"
      },
      {
        "duration": 20,
        "start_time": "2021-11-11T16:11:13.708Z"
      },
      {
        "duration": 21,
        "start_time": "2021-11-11T16:11:50.011Z"
      },
      {
        "duration": 1452,
        "start_time": "2021-11-11T16:13:20.387Z"
      },
      {
        "duration": 48,
        "start_time": "2021-11-11T16:13:21.841Z"
      },
      {
        "duration": 10,
        "start_time": "2021-11-11T16:13:21.892Z"
      },
      {
        "duration": 20,
        "start_time": "2021-11-11T16:13:21.905Z"
      },
      {
        "duration": 34,
        "start_time": "2021-11-11T16:13:21.927Z"
      },
      {
        "duration": 7,
        "start_time": "2021-11-11T16:13:21.964Z"
      },
      {
        "duration": 22,
        "start_time": "2021-11-11T16:13:21.973Z"
      },
      {
        "duration": 14,
        "start_time": "2021-11-11T16:13:21.999Z"
      },
      {
        "duration": 578,
        "start_time": "2021-11-11T16:13:22.016Z"
      },
      {
        "duration": 7,
        "start_time": "2021-11-11T16:13:22.597Z"
      },
      {
        "duration": 525,
        "start_time": "2021-11-11T16:13:22.606Z"
      },
      {
        "duration": 10,
        "start_time": "2021-11-11T16:13:23.133Z"
      },
      {
        "duration": 1628,
        "start_time": "2021-11-11T16:13:23.145Z"
      },
      {
        "duration": 16,
        "start_time": "2021-11-11T16:13:24.775Z"
      },
      {
        "duration": 20,
        "start_time": "2021-11-11T16:13:24.793Z"
      },
      {
        "duration": 12,
        "start_time": "2021-11-11T16:13:24.815Z"
      },
      {
        "duration": 7,
        "start_time": "2021-11-11T16:13:24.860Z"
      },
      {
        "duration": 10,
        "start_time": "2021-11-11T16:13:24.869Z"
      },
      {
        "duration": 14,
        "start_time": "2021-11-11T16:13:24.882Z"
      },
      {
        "duration": 1709,
        "start_time": "2021-11-11T16:13:24.899Z"
      },
      {
        "duration": 1735,
        "start_time": "2021-11-11T16:13:59.754Z"
      },
      {
        "duration": 48,
        "start_time": "2021-11-11T16:14:01.492Z"
      },
      {
        "duration": 16,
        "start_time": "2021-11-11T16:14:01.543Z"
      },
      {
        "duration": 35,
        "start_time": "2021-11-11T16:14:01.563Z"
      },
      {
        "duration": 17,
        "start_time": "2021-11-11T16:14:01.600Z"
      },
      {
        "duration": 22,
        "start_time": "2021-11-11T16:14:01.620Z"
      },
      {
        "duration": 16,
        "start_time": "2021-11-11T16:14:01.644Z"
      },
      {
        "duration": 22,
        "start_time": "2021-11-11T16:14:01.663Z"
      },
      {
        "duration": 489,
        "start_time": "2021-11-11T16:14:01.688Z"
      },
      {
        "duration": 7,
        "start_time": "2021-11-11T16:14:02.180Z"
      },
      {
        "duration": 534,
        "start_time": "2021-11-11T16:14:02.189Z"
      },
      {
        "duration": 8,
        "start_time": "2021-11-11T16:14:02.726Z"
      },
      {
        "duration": 1614,
        "start_time": "2021-11-11T16:14:02.736Z"
      },
      {
        "duration": 15,
        "start_time": "2021-11-11T16:14:04.360Z"
      },
      {
        "duration": 19,
        "start_time": "2021-11-11T16:14:04.377Z"
      },
      {
        "duration": 15,
        "start_time": "2021-11-11T16:14:04.399Z"
      },
      {
        "duration": 7,
        "start_time": "2021-11-11T16:14:04.417Z"
      },
      {
        "duration": 7,
        "start_time": "2021-11-11T16:14:04.427Z"
      },
      {
        "duration": 13,
        "start_time": "2021-11-11T16:14:04.460Z"
      },
      {
        "duration": 6,
        "start_time": "2021-11-11T16:14:04.476Z"
      },
      {
        "duration": 1400,
        "start_time": "2021-11-11T16:42:23.307Z"
      },
      {
        "duration": 47,
        "start_time": "2021-11-11T16:42:24.710Z"
      },
      {
        "duration": 9,
        "start_time": "2021-11-11T16:42:24.760Z"
      },
      {
        "duration": 19,
        "start_time": "2021-11-11T16:42:24.772Z"
      },
      {
        "duration": 11,
        "start_time": "2021-11-11T16:42:24.793Z"
      },
      {
        "duration": 9,
        "start_time": "2021-11-11T16:42:24.807Z"
      },
      {
        "duration": 11,
        "start_time": "2021-11-11T16:42:24.818Z"
      },
      {
        "duration": 13,
        "start_time": "2021-11-11T16:42:24.860Z"
      },
      {
        "duration": 476,
        "start_time": "2021-11-11T16:42:24.877Z"
      },
      {
        "duration": 6,
        "start_time": "2021-11-11T16:42:25.355Z"
      },
      {
        "duration": 502,
        "start_time": "2021-11-11T16:42:25.363Z"
      },
      {
        "duration": 9,
        "start_time": "2021-11-11T16:42:25.867Z"
      },
      {
        "duration": 1763,
        "start_time": "2021-11-11T16:42:25.878Z"
      },
      {
        "duration": 24,
        "start_time": "2021-11-11T16:42:27.643Z"
      },
      {
        "duration": 28,
        "start_time": "2021-11-11T16:42:27.669Z"
      },
      {
        "duration": 12,
        "start_time": "2021-11-11T16:42:27.700Z"
      },
      {
        "duration": 12,
        "start_time": "2021-11-11T16:42:27.714Z"
      },
      {
        "duration": 5,
        "start_time": "2021-11-11T16:42:27.759Z"
      },
      {
        "duration": 19,
        "start_time": "2021-11-11T16:42:27.766Z"
      },
      {
        "duration": 13,
        "start_time": "2021-11-11T16:42:27.788Z"
      },
      {
        "duration": 3584,
        "start_time": "2021-11-11T16:53:04.869Z"
      },
      {
        "duration": 3219,
        "start_time": "2021-11-11T16:58:30.926Z"
      },
      {
        "duration": 1502,
        "start_time": "2021-11-11T16:58:34.148Z"
      },
      {
        "duration": 474,
        "start_time": "2021-11-11T16:58:35.653Z"
      },
      {
        "duration": 10,
        "start_time": "2021-11-11T16:58:36.130Z"
      },
      {
        "duration": 34,
        "start_time": "2021-11-11T16:58:36.142Z"
      },
      {
        "duration": 14,
        "start_time": "2021-11-11T16:58:36.179Z"
      },
      {
        "duration": 13,
        "start_time": "2021-11-11T16:58:36.196Z"
      },
      {
        "duration": 14,
        "start_time": "2021-11-11T16:58:36.213Z"
      },
      {
        "duration": 23,
        "start_time": "2021-11-11T16:58:36.230Z"
      },
      {
        "duration": 437,
        "start_time": "2021-11-11T16:58:36.255Z"
      },
      {
        "duration": 6,
        "start_time": "2021-11-11T16:58:36.694Z"
      },
      {
        "duration": 677,
        "start_time": "2021-11-11T16:58:36.702Z"
      },
      {
        "duration": 10,
        "start_time": "2021-11-11T16:58:37.382Z"
      },
      {
        "duration": 1719,
        "start_time": "2021-11-11T16:58:37.394Z"
      },
      {
        "duration": 15,
        "start_time": "2021-11-11T16:58:39.115Z"
      },
      {
        "duration": 35,
        "start_time": "2021-11-11T16:58:39.133Z"
      },
      {
        "duration": 13,
        "start_time": "2021-11-11T16:58:39.170Z"
      },
      {
        "duration": 8,
        "start_time": "2021-11-11T16:58:39.185Z"
      },
      {
        "duration": 6,
        "start_time": "2021-11-11T16:58:39.195Z"
      },
      {
        "duration": 13,
        "start_time": "2021-11-11T16:58:39.203Z"
      },
      {
        "duration": 2144,
        "start_time": "2021-11-11T16:58:39.261Z"
      },
      {
        "duration": -2439,
        "start_time": "2021-11-11T16:58:43.846Z"
      },
      {
        "duration": -2470,
        "start_time": "2021-11-11T16:58:43.878Z"
      },
      {
        "duration": -2492,
        "start_time": "2021-11-11T16:58:43.901Z"
      },
      {
        "duration": 7,
        "start_time": "2021-11-11T16:58:53.980Z"
      },
      {
        "duration": 389,
        "start_time": "2021-11-11T16:59:07.026Z"
      },
      {
        "duration": 5,
        "start_time": "2021-11-11T16:59:26.759Z"
      },
      {
        "duration": 4,
        "start_time": "2021-11-11T16:59:35.792Z"
      },
      {
        "duration": 2970,
        "start_time": "2021-11-11T16:59:39.002Z"
      },
      {
        "duration": 19,
        "start_time": "2021-11-11T16:59:46.464Z"
      },
      {
        "duration": 67037,
        "start_time": "2021-11-11T17:01:30.988Z"
      },
      {
        "duration": 372,
        "start_time": "2021-11-11T17:11:07.581Z"
      },
      {
        "duration": 31,
        "start_time": "2021-11-11T17:11:19.811Z"
      },
      {
        "duration": 35,
        "start_time": "2021-11-11T17:12:04.071Z"
      },
      {
        "duration": 34,
        "start_time": "2021-11-11T17:12:23.691Z"
      },
      {
        "duration": 3210,
        "start_time": "2021-11-11T17:13:46.138Z"
      },
      {
        "duration": 19165,
        "start_time": "2021-11-11T17:13:49.351Z"
      },
      {
        "duration": 2135,
        "start_time": "2021-11-11T17:14:08.520Z"
      },
      {
        "duration": -2246,
        "start_time": "2021-11-11T17:14:12.907Z"
      },
      {
        "duration": -2259,
        "start_time": "2021-11-11T17:14:12.921Z"
      },
      {
        "duration": -2274,
        "start_time": "2021-11-11T17:14:12.938Z"
      },
      {
        "duration": -2297,
        "start_time": "2021-11-11T17:14:12.962Z"
      },
      {
        "duration": -2301,
        "start_time": "2021-11-11T17:14:12.968Z"
      },
      {
        "duration": -2309,
        "start_time": "2021-11-11T17:14:12.977Z"
      },
      {
        "duration": -2330,
        "start_time": "2021-11-11T17:14:12.999Z"
      },
      {
        "duration": -2333,
        "start_time": "2021-11-11T17:14:13.004Z"
      },
      {
        "duration": -2337,
        "start_time": "2021-11-11T17:14:13.009Z"
      },
      {
        "duration": -2489,
        "start_time": "2021-11-11T17:14:13.162Z"
      },
      {
        "duration": -2491,
        "start_time": "2021-11-11T17:14:13.166Z"
      },
      {
        "duration": -2496,
        "start_time": "2021-11-11T17:14:13.172Z"
      },
      {
        "duration": -2518,
        "start_time": "2021-11-11T17:14:13.195Z"
      },
      {
        "duration": -2521,
        "start_time": "2021-11-11T17:14:13.200Z"
      },
      {
        "duration": -2525,
        "start_time": "2021-11-11T17:14:13.205Z"
      },
      {
        "duration": -2550,
        "start_time": "2021-11-11T17:14:13.231Z"
      },
      {
        "duration": -2563,
        "start_time": "2021-11-11T17:14:13.246Z"
      },
      {
        "duration": -2588,
        "start_time": "2021-11-11T17:14:13.272Z"
      },
      {
        "duration": -2670,
        "start_time": "2021-11-11T17:14:13.356Z"
      },
      {
        "duration": -2674,
        "start_time": "2021-11-11T17:14:13.361Z"
      },
      {
        "duration": -2677,
        "start_time": "2021-11-11T17:14:13.365Z"
      },
      {
        "duration": -2702,
        "start_time": "2021-11-11T17:14:13.391Z"
      },
      {
        "duration": -2710,
        "start_time": "2021-11-11T17:14:13.400Z"
      },
      {
        "duration": -2712,
        "start_time": "2021-11-11T17:14:13.404Z"
      },
      {
        "duration": -2728,
        "start_time": "2021-11-11T17:14:13.421Z"
      },
      {
        "duration": 3711,
        "start_time": "2021-11-11T17:15:10.886Z"
      },
      {
        "duration": 19282,
        "start_time": "2021-11-11T17:15:14.600Z"
      },
      {
        "duration": 2058,
        "start_time": "2021-11-11T17:15:33.886Z"
      },
      {
        "duration": -1778,
        "start_time": "2021-11-11T17:15:37.726Z"
      },
      {
        "duration": -1835,
        "start_time": "2021-11-11T17:15:37.785Z"
      },
      {
        "duration": -1838,
        "start_time": "2021-11-11T17:15:37.790Z"
      },
      {
        "duration": -1865,
        "start_time": "2021-11-11T17:15:37.818Z"
      },
      {
        "duration": -1872,
        "start_time": "2021-11-11T17:15:37.827Z"
      },
      {
        "duration": -1968,
        "start_time": "2021-11-11T17:15:37.925Z"
      },
      {
        "duration": -2032,
        "start_time": "2021-11-11T17:15:37.990Z"
      },
      {
        "duration": -2045,
        "start_time": "2021-11-11T17:15:38.005Z"
      },
      {
        "duration": -2048,
        "start_time": "2021-11-11T17:15:38.010Z"
      },
      {
        "duration": -2051,
        "start_time": "2021-11-11T17:15:38.015Z"
      },
      {
        "duration": -2087,
        "start_time": "2021-11-11T17:15:38.052Z"
      },
      {
        "duration": -2091,
        "start_time": "2021-11-11T17:15:38.057Z"
      },
      {
        "duration": -2094,
        "start_time": "2021-11-11T17:15:38.062Z"
      },
      {
        "duration": -2098,
        "start_time": "2021-11-11T17:15:38.068Z"
      },
      {
        "duration": -2121,
        "start_time": "2021-11-11T17:15:38.092Z"
      },
      {
        "duration": -2145,
        "start_time": "2021-11-11T17:15:38.117Z"
      },
      {
        "duration": -2149,
        "start_time": "2021-11-11T17:15:38.123Z"
      },
      {
        "duration": -2240,
        "start_time": "2021-11-11T17:15:38.215Z"
      },
      {
        "duration": -2243,
        "start_time": "2021-11-11T17:15:38.220Z"
      },
      {
        "duration": -2250,
        "start_time": "2021-11-11T17:15:38.228Z"
      },
      {
        "duration": -2288,
        "start_time": "2021-11-11T17:15:38.267Z"
      },
      {
        "duration": -2291,
        "start_time": "2021-11-11T17:15:38.272Z"
      },
      {
        "duration": -2295,
        "start_time": "2021-11-11T17:15:38.277Z"
      },
      {
        "duration": -2299,
        "start_time": "2021-11-11T17:15:38.283Z"
      },
      {
        "duration": -2324,
        "start_time": "2021-11-11T17:15:38.309Z"
      },
      {
        "duration": 3252,
        "start_time": "2021-11-11T17:17:36.232Z"
      },
      {
        "duration": 19025,
        "start_time": "2021-11-11T17:17:39.487Z"
      },
      {
        "duration": 2161,
        "start_time": "2021-11-11T17:17:58.515Z"
      },
      {
        "duration": -1679,
        "start_time": "2021-11-11T17:18:02.359Z"
      },
      {
        "duration": -1682,
        "start_time": "2021-11-11T17:18:02.363Z"
      },
      {
        "duration": -1685,
        "start_time": "2021-11-11T17:18:02.368Z"
      },
      {
        "duration": -1689,
        "start_time": "2021-11-11T17:18:02.373Z"
      },
      {
        "duration": -1733,
        "start_time": "2021-11-11T17:18:02.418Z"
      },
      {
        "duration": -1748,
        "start_time": "2021-11-11T17:18:02.435Z"
      },
      {
        "duration": -1759,
        "start_time": "2021-11-11T17:18:02.447Z"
      },
      {
        "duration": -1763,
        "start_time": "2021-11-11T17:18:02.452Z"
      },
      {
        "duration": -1766,
        "start_time": "2021-11-11T17:18:02.457Z"
      },
      {
        "duration": -1769,
        "start_time": "2021-11-11T17:18:02.461Z"
      },
      {
        "duration": -1792,
        "start_time": "2021-11-11T17:18:02.485Z"
      },
      {
        "duration": -1795,
        "start_time": "2021-11-11T17:18:02.489Z"
      },
      {
        "duration": -1799,
        "start_time": "2021-11-11T17:18:02.494Z"
      },
      {
        "duration": -1802,
        "start_time": "2021-11-11T17:18:02.498Z"
      },
      {
        "duration": -1806,
        "start_time": "2021-11-11T17:18:02.504Z"
      },
      {
        "duration": -1817,
        "start_time": "2021-11-11T17:18:02.516Z"
      },
      {
        "duration": -1822,
        "start_time": "2021-11-11T17:18:02.522Z"
      },
      {
        "duration": -1824,
        "start_time": "2021-11-11T17:18:02.526Z"
      },
      {
        "duration": -1828,
        "start_time": "2021-11-11T17:18:02.531Z"
      },
      {
        "duration": -1830,
        "start_time": "2021-11-11T17:18:02.535Z"
      },
      {
        "duration": -1834,
        "start_time": "2021-11-11T17:18:02.540Z"
      },
      {
        "duration": -1839,
        "start_time": "2021-11-11T17:18:02.546Z"
      },
      {
        "duration": -1842,
        "start_time": "2021-11-11T17:18:02.551Z"
      },
      {
        "duration": -1845,
        "start_time": "2021-11-11T17:18:02.555Z"
      },
      {
        "duration": -1851,
        "start_time": "2021-11-11T17:18:02.563Z"
      },
      {
        "duration": 3394,
        "start_time": "2021-11-11T17:21:14.922Z"
      },
      {
        "duration": 3325,
        "start_time": "2021-11-11T17:21:18.319Z"
      },
      {
        "duration": 3494,
        "start_time": "2021-11-11T17:21:37.797Z"
      },
      {
        "duration": 2837,
        "start_time": "2021-11-11T17:21:41.294Z"
      },
      {
        "duration": 19463,
        "start_time": "2021-11-11T17:21:44.135Z"
      },
      {
        "duration": 2121,
        "start_time": "2021-11-11T17:22:03.601Z"
      },
      {
        "duration": -1707,
        "start_time": "2021-11-11T17:22:07.432Z"
      },
      {
        "duration": -1712,
        "start_time": "2021-11-11T17:22:07.439Z"
      },
      {
        "duration": -1737,
        "start_time": "2021-11-11T17:22:07.465Z"
      },
      {
        "duration": -1747,
        "start_time": "2021-11-11T17:22:07.476Z"
      },
      {
        "duration": -1751,
        "start_time": "2021-11-11T17:22:07.482Z"
      },
      {
        "duration": -1757,
        "start_time": "2021-11-11T17:22:07.489Z"
      },
      {
        "duration": -1763,
        "start_time": "2021-11-11T17:22:07.496Z"
      },
      {
        "duration": -1772,
        "start_time": "2021-11-11T17:22:07.506Z"
      },
      {
        "duration": -1776,
        "start_time": "2021-11-11T17:22:07.512Z"
      },
      {
        "duration": -1780,
        "start_time": "2021-11-11T17:22:07.517Z"
      },
      {
        "duration": -1787,
        "start_time": "2021-11-11T17:22:07.526Z"
      },
      {
        "duration": -1808,
        "start_time": "2021-11-11T17:22:07.548Z"
      },
      {
        "duration": -1812,
        "start_time": "2021-11-11T17:22:07.553Z"
      },
      {
        "duration": -1818,
        "start_time": "2021-11-11T17:22:07.560Z"
      },
      {
        "duration": -1823,
        "start_time": "2021-11-11T17:22:07.566Z"
      },
      {
        "duration": -1829,
        "start_time": "2021-11-11T17:22:07.574Z"
      },
      {
        "duration": -2708,
        "start_time": "2021-11-11T17:22:08.454Z"
      },
      {
        "duration": -2713,
        "start_time": "2021-11-11T17:22:08.460Z"
      },
      {
        "duration": -2719,
        "start_time": "2021-11-11T17:22:08.468Z"
      },
      {
        "duration": -2748,
        "start_time": "2021-11-11T17:22:08.498Z"
      },
      {
        "duration": -2753,
        "start_time": "2021-11-11T17:22:08.505Z"
      },
      {
        "duration": -2758,
        "start_time": "2021-11-11T17:22:08.511Z"
      },
      {
        "duration": -2764,
        "start_time": "2021-11-11T17:22:08.518Z"
      },
      {
        "duration": -2767,
        "start_time": "2021-11-11T17:22:08.523Z"
      },
      {
        "duration": -2773,
        "start_time": "2021-11-11T17:22:08.530Z"
      },
      {
        "duration": 3182,
        "start_time": "2021-11-11T17:22:46.711Z"
      },
      {
        "duration": 5465,
        "start_time": "2021-11-11T17:22:49.896Z"
      },
      {
        "duration": 2758,
        "start_time": "2021-11-11T17:22:55.364Z"
      },
      {
        "duration": 3206,
        "start_time": "2021-11-11T17:23:23.426Z"
      },
      {
        "duration": 4424,
        "start_time": "2021-11-11T17:23:26.635Z"
      },
      {
        "duration": 2755,
        "start_time": "2021-11-11T17:23:31.063Z"
      },
      {
        "duration": 19777,
        "start_time": "2021-11-11T17:23:33.821Z"
      },
      {
        "duration": 2039,
        "start_time": "2021-11-11T17:23:53.601Z"
      },
      {
        "duration": -1949,
        "start_time": "2021-11-11T17:23:57.594Z"
      },
      {
        "duration": -1962,
        "start_time": "2021-11-11T17:23:57.609Z"
      },
      {
        "duration": -2049,
        "start_time": "2021-11-11T17:23:57.698Z"
      },
      {
        "duration": -2089,
        "start_time": "2021-11-11T17:23:57.741Z"
      },
      {
        "duration": -2094,
        "start_time": "2021-11-11T17:23:57.748Z"
      },
      {
        "duration": -2353,
        "start_time": "2021-11-11T17:23:58.009Z"
      },
      {
        "duration": -2373,
        "start_time": "2021-11-11T17:23:58.032Z"
      },
      {
        "duration": -2387,
        "start_time": "2021-11-11T17:23:58.048Z"
      },
      {
        "duration": -2393,
        "start_time": "2021-11-11T17:23:58.056Z"
      },
      {
        "duration": -2396,
        "start_time": "2021-11-11T17:23:58.061Z"
      },
      {
        "duration": -2399,
        "start_time": "2021-11-11T17:23:58.067Z"
      },
      {
        "duration": -2423,
        "start_time": "2021-11-11T17:23:58.093Z"
      },
      {
        "duration": -2462,
        "start_time": "2021-11-11T17:23:58.134Z"
      },
      {
        "duration": -2465,
        "start_time": "2021-11-11T17:23:58.139Z"
      },
      {
        "duration": -2467,
        "start_time": "2021-11-11T17:23:58.144Z"
      },
      {
        "duration": -2470,
        "start_time": "2021-11-11T17:23:58.149Z"
      },
      {
        "duration": -2554,
        "start_time": "2021-11-11T17:23:58.235Z"
      },
      {
        "duration": -2557,
        "start_time": "2021-11-11T17:23:58.240Z"
      },
      {
        "duration": -2560,
        "start_time": "2021-11-11T17:23:58.246Z"
      },
      {
        "duration": -2564,
        "start_time": "2021-11-11T17:23:58.252Z"
      },
      {
        "duration": -2605,
        "start_time": "2021-11-11T17:23:58.295Z"
      },
      {
        "duration": -2619,
        "start_time": "2021-11-11T17:23:58.311Z"
      },
      {
        "duration": -2635,
        "start_time": "2021-11-11T17:23:58.329Z"
      },
      {
        "duration": -2647,
        "start_time": "2021-11-11T17:23:58.342Z"
      },
      {
        "duration": -2653,
        "start_time": "2021-11-11T17:23:58.349Z"
      },
      {
        "duration": 3286,
        "start_time": "2021-11-11T17:34:10.111Z"
      },
      {
        "duration": 4542,
        "start_time": "2021-11-11T17:34:13.400Z"
      },
      {
        "duration": 4,
        "start_time": "2021-11-11T17:34:17.945Z"
      },
      {
        "duration": 7,
        "start_time": "2021-11-11T17:34:17.952Z"
      },
      {
        "duration": 1577,
        "start_time": "2021-11-11T17:34:17.962Z"
      },
      {
        "duration": 46,
        "start_time": "2021-11-11T17:34:19.543Z"
      },
      {
        "duration": 16,
        "start_time": "2021-11-11T17:34:19.592Z"
      },
      {
        "duration": 17,
        "start_time": "2021-11-11T17:34:19.612Z"
      },
      {
        "duration": 36,
        "start_time": "2021-11-11T17:34:19.632Z"
      },
      {
        "duration": 13,
        "start_time": "2021-11-11T17:34:19.671Z"
      },
      {
        "duration": 13,
        "start_time": "2021-11-11T17:34:19.686Z"
      },
      {
        "duration": 23,
        "start_time": "2021-11-11T17:34:19.701Z"
      },
      {
        "duration": 1208,
        "start_time": "2021-11-11T17:34:19.727Z"
      },
      {
        "duration": 7,
        "start_time": "2021-11-11T17:34:20.938Z"
      },
      {
        "duration": 529,
        "start_time": "2021-11-11T17:34:20.947Z"
      },
      {
        "duration": 8,
        "start_time": "2021-11-11T17:34:21.478Z"
      },
      {
        "duration": 1431,
        "start_time": "2021-11-11T17:34:21.488Z"
      },
      {
        "duration": 13,
        "start_time": "2021-11-11T17:34:22.921Z"
      },
      {
        "duration": 37,
        "start_time": "2021-11-11T17:34:22.937Z"
      },
      {
        "duration": 11,
        "start_time": "2021-11-11T17:34:22.976Z"
      },
      {
        "duration": 7,
        "start_time": "2021-11-11T17:34:22.989Z"
      },
      {
        "duration": 9,
        "start_time": "2021-11-11T17:34:22.998Z"
      },
      {
        "duration": 50,
        "start_time": "2021-11-11T17:34:23.011Z"
      },
      {
        "duration": 8,
        "start_time": "2021-11-11T17:34:23.063Z"
      },
      {
        "duration": 9,
        "start_time": "2021-11-11T17:34:23.074Z"
      },
      {
        "duration": 2691,
        "start_time": "2021-11-11T17:34:23.086Z"
      },
      {
        "duration": 93,
        "start_time": "2021-11-11T17:34:25.779Z"
      },
      {
        "duration": 85,
        "start_time": "2021-11-11T17:34:25.875Z"
      },
      {
        "duration": 27,
        "start_time": "2021-11-11T17:34:25.962Z"
      },
      {
        "duration": 14,
        "start_time": "2021-11-11T17:34:25.991Z"
      },
      {
        "duration": 3384,
        "start_time": "2021-11-11T17:35:11.734Z"
      },
      {
        "duration": 4,
        "start_time": "2021-11-11T17:35:15.121Z"
      },
      {
        "duration": 9,
        "start_time": "2021-11-11T17:35:15.128Z"
      },
      {
        "duration": 7,
        "start_time": "2021-11-11T17:35:15.140Z"
      },
      {
        "duration": 1589,
        "start_time": "2021-11-11T17:35:15.149Z"
      },
      {
        "duration": 46,
        "start_time": "2021-11-11T17:35:16.741Z"
      },
      {
        "duration": 15,
        "start_time": "2021-11-11T17:35:16.790Z"
      },
      {
        "duration": 19,
        "start_time": "2021-11-11T17:35:16.808Z"
      },
      {
        "duration": 41,
        "start_time": "2021-11-11T17:35:16.830Z"
      },
      {
        "duration": 7,
        "start_time": "2021-11-11T17:35:16.873Z"
      },
      {
        "duration": 9,
        "start_time": "2021-11-11T17:35:16.883Z"
      },
      {
        "duration": 13,
        "start_time": "2021-11-11T17:35:16.895Z"
      },
      {
        "duration": 1093,
        "start_time": "2021-11-11T17:35:16.910Z"
      },
      {
        "duration": 8,
        "start_time": "2021-11-11T17:35:18.006Z"
      },
      {
        "duration": 517,
        "start_time": "2021-11-11T17:35:18.016Z"
      },
      {
        "duration": 25,
        "start_time": "2021-11-11T17:35:18.536Z"
      },
      {
        "duration": 1414,
        "start_time": "2021-11-11T17:35:18.563Z"
      },
      {
        "duration": 14,
        "start_time": "2021-11-11T17:35:19.979Z"
      },
      {
        "duration": 21,
        "start_time": "2021-11-11T17:35:19.996Z"
      },
      {
        "duration": 43,
        "start_time": "2021-11-11T17:35:20.019Z"
      },
      {
        "duration": 7,
        "start_time": "2021-11-11T17:35:20.065Z"
      },
      {
        "duration": 7,
        "start_time": "2021-11-11T17:35:20.074Z"
      },
      {
        "duration": 10,
        "start_time": "2021-11-11T17:35:20.086Z"
      },
      {
        "duration": 62,
        "start_time": "2021-11-11T17:35:20.099Z"
      },
      {
        "duration": 8,
        "start_time": "2021-11-11T17:35:20.164Z"
      },
      {
        "duration": 3592,
        "start_time": "2021-11-11T17:35:20.175Z"
      },
      {
        "duration": 93,
        "start_time": "2021-11-11T17:35:23.769Z"
      },
      {
        "duration": 8,
        "start_time": "2021-11-11T17:35:23.865Z"
      },
      {
        "duration": 17,
        "start_time": "2021-11-11T17:35:23.875Z"
      },
      {
        "duration": 23,
        "start_time": "2021-11-11T17:35:23.895Z"
      },
      {
        "duration": 3,
        "start_time": "2021-11-11T17:36:05.311Z"
      },
      {
        "duration": 1079,
        "start_time": "2021-11-11T17:36:07.791Z"
      },
      {
        "duration": 18,
        "start_time": "2021-11-11T17:36:11.651Z"
      },
      {
        "duration": 3,
        "start_time": "2021-11-11T17:36:44.220Z"
      },
      {
        "duration": 1084,
        "start_time": "2021-11-11T17:36:47.178Z"
      },
      {
        "duration": 14,
        "start_time": "2021-11-11T17:36:51.300Z"
      },
      {
        "duration": 3,
        "start_time": "2021-11-11T17:36:57.228Z"
      },
      {
        "duration": 1331,
        "start_time": "2021-11-11T17:37:00.230Z"
      },
      {
        "duration": 12,
        "start_time": "2021-11-11T17:37:04.410Z"
      },
      {
        "duration": 3527,
        "start_time": "2021-11-11T17:52:41.204Z"
      },
      {
        "duration": 3,
        "start_time": "2021-11-11T17:52:44.734Z"
      },
      {
        "duration": 9,
        "start_time": "2021-11-11T17:52:44.740Z"
      },
      {
        "duration": 5,
        "start_time": "2021-11-11T17:52:44.752Z"
      },
      {
        "duration": 2076,
        "start_time": "2021-11-11T17:52:44.759Z"
      },
      {
        "duration": 64,
        "start_time": "2021-11-11T17:52:46.839Z"
      },
      {
        "duration": 16,
        "start_time": "2021-11-11T17:52:46.906Z"
      },
      {
        "duration": 51,
        "start_time": "2021-11-11T17:52:46.926Z"
      },
      {
        "duration": 17,
        "start_time": "2021-11-11T17:52:46.981Z"
      },
      {
        "duration": 9,
        "start_time": "2021-11-11T17:52:47.001Z"
      },
      {
        "duration": 10,
        "start_time": "2021-11-11T17:52:47.013Z"
      },
      {
        "duration": 51,
        "start_time": "2021-11-11T17:52:47.026Z"
      },
      {
        "duration": 1154,
        "start_time": "2021-11-11T17:52:47.080Z"
      },
      {
        "duration": 21,
        "start_time": "2021-11-11T17:52:48.238Z"
      },
      {
        "duration": 868,
        "start_time": "2021-11-11T17:52:48.262Z"
      },
      {
        "duration": 25,
        "start_time": "2021-11-11T17:52:49.134Z"
      },
      {
        "duration": 2239,
        "start_time": "2021-11-11T17:52:49.162Z"
      },
      {
        "duration": 19,
        "start_time": "2021-11-11T17:52:51.405Z"
      },
      {
        "duration": 55,
        "start_time": "2021-11-11T17:52:51.427Z"
      },
      {
        "duration": 11,
        "start_time": "2021-11-11T17:52:51.486Z"
      },
      {
        "duration": 23,
        "start_time": "2021-11-11T17:52:51.501Z"
      },
      {
        "duration": 163,
        "start_time": "2021-11-11T17:52:51.528Z"
      },
      {
        "duration": -2375,
        "start_time": "2021-11-11T17:52:54.070Z"
      },
      {
        "duration": -2400,
        "start_time": "2021-11-11T17:52:54.098Z"
      },
      {
        "duration": -2411,
        "start_time": "2021-11-11T17:52:54.110Z"
      },
      {
        "duration": -2415,
        "start_time": "2021-11-11T17:52:54.116Z"
      },
      {
        "duration": -2450,
        "start_time": "2021-11-11T17:52:54.153Z"
      },
      {
        "duration": -2453,
        "start_time": "2021-11-11T17:52:54.159Z"
      },
      {
        "duration": -2456,
        "start_time": "2021-11-11T17:52:54.164Z"
      },
      {
        "duration": -2477,
        "start_time": "2021-11-11T17:52:54.187Z"
      },
      {
        "duration": -2483,
        "start_time": "2021-11-11T17:52:54.195Z"
      },
      {
        "duration": -2510,
        "start_time": "2021-11-11T17:52:54.224Z"
      },
      {
        "duration": -2516,
        "start_time": "2021-11-11T17:52:54.232Z"
      },
      {
        "duration": 687,
        "start_time": "2021-11-11T17:54:25.585Z"
      },
      {
        "duration": 593,
        "start_time": "2021-11-11T17:55:30.081Z"
      },
      {
        "duration": 3628,
        "start_time": "2021-11-11T17:56:28.854Z"
      },
      {
        "duration": 4,
        "start_time": "2021-11-11T17:56:32.485Z"
      },
      {
        "duration": 7,
        "start_time": "2021-11-11T17:56:32.493Z"
      },
      {
        "duration": 9,
        "start_time": "2021-11-11T17:56:32.503Z"
      },
      {
        "duration": 2183,
        "start_time": "2021-11-11T17:56:32.514Z"
      },
      {
        "duration": 61,
        "start_time": "2021-11-11T17:56:34.700Z"
      },
      {
        "duration": 21,
        "start_time": "2021-11-11T17:56:34.764Z"
      },
      {
        "duration": 25,
        "start_time": "2021-11-11T17:56:34.790Z"
      },
      {
        "duration": 39,
        "start_time": "2021-11-11T17:56:34.820Z"
      },
      {
        "duration": 7,
        "start_time": "2021-11-11T17:56:34.862Z"
      },
      {
        "duration": 9,
        "start_time": "2021-11-11T17:56:34.871Z"
      },
      {
        "duration": 18,
        "start_time": "2021-11-11T17:56:34.883Z"
      },
      {
        "duration": 2110,
        "start_time": "2021-11-11T17:56:34.904Z"
      },
      {
        "duration": 7,
        "start_time": "2021-11-11T17:56:37.017Z"
      },
      {
        "duration": 561,
        "start_time": "2021-11-11T17:56:37.027Z"
      },
      {
        "duration": 8,
        "start_time": "2021-11-11T17:56:37.591Z"
      },
      {
        "duration": 2063,
        "start_time": "2021-11-11T17:56:37.602Z"
      },
      {
        "duration": 16,
        "start_time": "2021-11-11T17:56:39.668Z"
      },
      {
        "duration": 28,
        "start_time": "2021-11-11T17:56:39.687Z"
      },
      {
        "duration": 11,
        "start_time": "2021-11-11T17:56:39.719Z"
      },
      {
        "duration": 10,
        "start_time": "2021-11-11T17:56:39.762Z"
      },
      {
        "duration": 12,
        "start_time": "2021-11-11T17:56:39.775Z"
      },
      {
        "duration": 17,
        "start_time": "2021-11-11T17:56:39.793Z"
      },
      {
        "duration": 49,
        "start_time": "2021-11-11T17:56:39.814Z"
      },
      {
        "duration": 885,
        "start_time": "2021-11-11T17:56:39.866Z"
      },
      {
        "duration": -1786,
        "start_time": "2021-11-11T17:56:42.540Z"
      },
      {
        "duration": -1810,
        "start_time": "2021-11-11T17:56:42.566Z"
      },
      {
        "duration": -1835,
        "start_time": "2021-11-11T17:56:42.592Z"
      },
      {
        "duration": -1844,
        "start_time": "2021-11-11T17:56:42.603Z"
      },
      {
        "duration": -1859,
        "start_time": "2021-11-11T17:56:42.619Z"
      },
      {
        "duration": -1862,
        "start_time": "2021-11-11T17:56:42.623Z"
      },
      {
        "duration": -1887,
        "start_time": "2021-11-11T17:56:42.650Z"
      },
      {
        "duration": -1892,
        "start_time": "2021-11-11T17:56:42.656Z"
      },
      {
        "duration": 7,
        "start_time": "2021-11-11T17:57:37.061Z"
      },
      {
        "duration": 2245,
        "start_time": "2021-11-11T17:57:39.579Z"
      },
      {
        "duration": 6,
        "start_time": "2021-11-11T17:57:54.222Z"
      },
      {
        "duration": 805,
        "start_time": "2021-11-11T17:57:58.100Z"
      },
      {
        "duration": 7,
        "start_time": "2021-11-11T18:02:45.541Z"
      },
      {
        "duration": 730,
        "start_time": "2021-11-11T18:02:47.865Z"
      },
      {
        "duration": 7,
        "start_time": "2021-11-11T18:03:31.462Z"
      },
      {
        "duration": 724,
        "start_time": "2021-11-11T18:03:34.323Z"
      },
      {
        "duration": 3241,
        "start_time": "2021-11-11T18:03:55.221Z"
      },
      {
        "duration": 3,
        "start_time": "2021-11-11T18:03:58.465Z"
      },
      {
        "duration": 8,
        "start_time": "2021-11-11T18:03:58.471Z"
      },
      {
        "duration": 6,
        "start_time": "2021-11-11T18:03:58.481Z"
      },
      {
        "duration": 1670,
        "start_time": "2021-11-11T18:03:58.489Z"
      },
      {
        "duration": 48,
        "start_time": "2021-11-11T18:04:00.162Z"
      },
      {
        "duration": 15,
        "start_time": "2021-11-11T18:04:00.213Z"
      },
      {
        "duration": 33,
        "start_time": "2021-11-11T18:04:00.232Z"
      },
      {
        "duration": 12,
        "start_time": "2021-11-11T18:04:00.268Z"
      },
      {
        "duration": 41,
        "start_time": "2021-11-11T18:04:00.282Z"
      },
      {
        "duration": 24,
        "start_time": "2021-11-11T18:04:00.326Z"
      },
      {
        "duration": 27,
        "start_time": "2021-11-11T18:04:00.353Z"
      },
      {
        "duration": 1044,
        "start_time": "2021-11-11T18:04:00.383Z"
      },
      {
        "duration": 6,
        "start_time": "2021-11-11T18:04:01.430Z"
      },
      {
        "duration": 536,
        "start_time": "2021-11-11T18:04:01.439Z"
      },
      {
        "duration": 7,
        "start_time": "2021-11-11T18:04:01.978Z"
      },
      {
        "duration": 1415,
        "start_time": "2021-11-11T18:04:01.987Z"
      },
      {
        "duration": 13,
        "start_time": "2021-11-11T18:04:03.404Z"
      },
      {
        "duration": 43,
        "start_time": "2021-11-11T18:04:03.419Z"
      },
      {
        "duration": 9,
        "start_time": "2021-11-11T18:04:03.464Z"
      },
      {
        "duration": 8,
        "start_time": "2021-11-11T18:04:03.475Z"
      },
      {
        "duration": 11,
        "start_time": "2021-11-11T18:04:03.485Z"
      },
      {
        "duration": 14,
        "start_time": "2021-11-11T18:04:03.500Z"
      },
      {
        "duration": 48,
        "start_time": "2021-11-11T18:04:03.516Z"
      },
      {
        "duration": 991,
        "start_time": "2021-11-11T18:04:03.567Z"
      },
      {
        "duration": -1755,
        "start_time": "2021-11-11T18:04:06.316Z"
      },
      {
        "duration": -1762,
        "start_time": "2021-11-11T18:04:06.325Z"
      },
      {
        "duration": -1781,
        "start_time": "2021-11-11T18:04:06.345Z"
      },
      {
        "duration": -1810,
        "start_time": "2021-11-11T18:04:06.376Z"
      },
      {
        "duration": -1841,
        "start_time": "2021-11-11T18:04:06.409Z"
      },
      {
        "duration": -1881,
        "start_time": "2021-11-11T18:04:06.450Z"
      },
      {
        "duration": -1916,
        "start_time": "2021-11-11T18:04:06.487Z"
      },
      {
        "duration": -1920,
        "start_time": "2021-11-11T18:04:06.492Z"
      },
      {
        "duration": 3535,
        "start_time": "2021-11-12T04:41:21.710Z"
      },
      {
        "duration": 3,
        "start_time": "2021-11-12T04:41:25.248Z"
      },
      {
        "duration": 10,
        "start_time": "2021-11-12T04:41:25.254Z"
      },
      {
        "duration": 6,
        "start_time": "2021-11-12T04:41:25.266Z"
      },
      {
        "duration": 1500,
        "start_time": "2021-11-12T04:41:25.274Z"
      },
      {
        "duration": 47,
        "start_time": "2021-11-12T04:41:26.776Z"
      },
      {
        "duration": 9,
        "start_time": "2021-11-12T04:41:26.826Z"
      },
      {
        "duration": 33,
        "start_time": "2021-11-12T04:41:26.839Z"
      },
      {
        "duration": 12,
        "start_time": "2021-11-12T04:41:26.875Z"
      },
      {
        "duration": 9,
        "start_time": "2021-11-12T04:41:26.890Z"
      },
      {
        "duration": 8,
        "start_time": "2021-11-12T04:41:26.901Z"
      },
      {
        "duration": 15,
        "start_time": "2021-11-12T04:41:26.911Z"
      },
      {
        "duration": 498,
        "start_time": "2021-11-12T04:41:26.929Z"
      },
      {
        "duration": 7,
        "start_time": "2021-11-12T04:41:27.429Z"
      },
      {
        "duration": 531,
        "start_time": "2021-11-12T04:41:27.438Z"
      },
      {
        "duration": 8,
        "start_time": "2021-11-12T04:41:27.972Z"
      },
      {
        "duration": 1678,
        "start_time": "2021-11-12T04:41:27.983Z"
      },
      {
        "duration": 17,
        "start_time": "2021-11-12T04:41:29.667Z"
      },
      {
        "duration": 21,
        "start_time": "2021-11-12T04:41:29.686Z"
      },
      {
        "duration": 11,
        "start_time": "2021-11-12T04:41:29.710Z"
      },
      {
        "duration": 47,
        "start_time": "2021-11-12T04:41:29.724Z"
      },
      {
        "duration": 11,
        "start_time": "2021-11-12T04:41:29.774Z"
      },
      {
        "duration": 19,
        "start_time": "2021-11-12T04:41:29.790Z"
      },
      {
        "duration": 6,
        "start_time": "2021-11-12T04:41:29.812Z"
      },
      {
        "duration": 3,
        "start_time": "2021-11-12T04:41:29.868Z"
      },
      {
        "duration": 1295,
        "start_time": "2021-11-12T04:41:29.874Z"
      },
      {
        "duration": 18,
        "start_time": "2021-11-12T04:41:31.171Z"
      },
      {
        "duration": 77732,
        "start_time": "2021-11-12T04:41:31.192Z"
      },
      {
        "duration": 3,
        "start_time": "2021-11-12T04:42:48.927Z"
      },
      {
        "duration": 15,
        "start_time": "2021-11-12T04:42:48.933Z"
      },
      {
        "duration": 9,
        "start_time": "2021-11-12T04:42:48.950Z"
      },
      {
        "duration": 104,
        "start_time": "2021-11-12T04:45:16.952Z"
      },
      {
        "duration": 83,
        "start_time": "2021-11-12T04:45:25.240Z"
      },
      {
        "duration": 19231,
        "start_time": "2021-11-12T04:45:35.839Z"
      },
      {
        "duration": 3111,
        "start_time": "2021-11-12T04:47:54.626Z"
      },
      {
        "duration": 3,
        "start_time": "2021-11-12T04:47:57.740Z"
      },
      {
        "duration": 10,
        "start_time": "2021-11-12T04:47:57.746Z"
      },
      {
        "duration": 15,
        "start_time": "2021-11-12T04:47:57.759Z"
      },
      {
        "duration": 1594,
        "start_time": "2021-11-12T04:47:57.776Z"
      },
      {
        "duration": 46,
        "start_time": "2021-11-12T04:47:59.373Z"
      },
      {
        "duration": 16,
        "start_time": "2021-11-12T04:47:59.421Z"
      },
      {
        "duration": 37,
        "start_time": "2021-11-12T04:47:59.441Z"
      },
      {
        "duration": 12,
        "start_time": "2021-11-12T04:47:59.480Z"
      },
      {
        "duration": 12,
        "start_time": "2021-11-12T04:47:59.495Z"
      },
      {
        "duration": 18,
        "start_time": "2021-11-12T04:47:59.509Z"
      },
      {
        "duration": 14,
        "start_time": "2021-11-12T04:47:59.530Z"
      },
      {
        "duration": 1389,
        "start_time": "2021-11-12T04:47:59.547Z"
      },
      {
        "duration": 7,
        "start_time": "2021-11-12T04:48:00.939Z"
      },
      {
        "duration": 575,
        "start_time": "2021-11-12T04:48:00.948Z"
      },
      {
        "duration": 8,
        "start_time": "2021-11-12T04:48:01.525Z"
      },
      {
        "duration": 1634,
        "start_time": "2021-11-12T04:48:01.535Z"
      },
      {
        "duration": 13,
        "start_time": "2021-11-12T04:48:03.171Z"
      },
      {
        "duration": 21,
        "start_time": "2021-11-12T04:48:03.187Z"
      },
      {
        "duration": 9,
        "start_time": "2021-11-12T04:48:03.211Z"
      },
      {
        "duration": 45,
        "start_time": "2021-11-12T04:48:03.223Z"
      },
      {
        "duration": 8,
        "start_time": "2021-11-12T04:48:03.270Z"
      },
      {
        "duration": 14,
        "start_time": "2021-11-12T04:48:03.282Z"
      },
      {
        "duration": 71,
        "start_time": "2021-11-12T04:48:03.299Z"
      },
      {
        "duration": 13,
        "start_time": "2021-11-12T04:48:03.373Z"
      },
      {
        "duration": 1190,
        "start_time": "2021-11-12T04:48:03.389Z"
      },
      {
        "duration": 90,
        "start_time": "2021-11-12T04:48:04.581Z"
      },
      {
        "duration": 3181,
        "start_time": "2021-11-12T04:50:24.580Z"
      },
      {
        "duration": 4,
        "start_time": "2021-11-12T04:50:27.763Z"
      },
      {
        "duration": 7,
        "start_time": "2021-11-12T04:50:27.770Z"
      },
      {
        "duration": 6,
        "start_time": "2021-11-12T04:50:27.780Z"
      },
      {
        "duration": 1579,
        "start_time": "2021-11-12T04:50:27.788Z"
      },
      {
        "duration": 47,
        "start_time": "2021-11-12T04:50:29.369Z"
      },
      {
        "duration": 16,
        "start_time": "2021-11-12T04:50:29.418Z"
      },
      {
        "duration": 36,
        "start_time": "2021-11-12T04:50:29.437Z"
      },
      {
        "duration": 12,
        "start_time": "2021-11-12T04:50:29.476Z"
      },
      {
        "duration": 11,
        "start_time": "2021-11-12T04:50:29.491Z"
      },
      {
        "duration": 10,
        "start_time": "2021-11-12T04:50:29.505Z"
      },
      {
        "duration": 12,
        "start_time": "2021-11-12T04:50:29.518Z"
      },
      {
        "duration": 2434,
        "start_time": "2021-11-12T04:50:29.533Z"
      },
      {
        "duration": 7,
        "start_time": "2021-11-12T04:50:31.969Z"
      },
      {
        "duration": 550,
        "start_time": "2021-11-12T04:50:31.979Z"
      },
      {
        "duration": 7,
        "start_time": "2021-11-12T04:50:32.531Z"
      },
      {
        "duration": 1444,
        "start_time": "2021-11-12T04:50:32.541Z"
      },
      {
        "duration": 14,
        "start_time": "2021-11-12T04:50:33.988Z"
      },
      {
        "duration": 21,
        "start_time": "2021-11-12T04:50:34.004Z"
      },
      {
        "duration": 42,
        "start_time": "2021-11-12T04:50:34.027Z"
      },
      {
        "duration": 7,
        "start_time": "2021-11-12T04:50:34.071Z"
      },
      {
        "duration": 10,
        "start_time": "2021-11-12T04:50:34.081Z"
      },
      {
        "duration": 14,
        "start_time": "2021-11-12T04:50:34.096Z"
      },
      {
        "duration": 58,
        "start_time": "2021-11-12T04:50:34.113Z"
      },
      {
        "duration": 5,
        "start_time": "2021-11-12T04:50:34.173Z"
      },
      {
        "duration": 1298,
        "start_time": "2021-11-12T04:50:34.181Z"
      },
      {
        "duration": 94,
        "start_time": "2021-11-12T04:50:35.481Z"
      },
      {
        "duration": 3147,
        "start_time": "2021-11-12T04:51:52.075Z"
      },
      {
        "duration": 3,
        "start_time": "2021-11-12T04:51:55.225Z"
      },
      {
        "duration": 11,
        "start_time": "2021-11-12T04:51:55.231Z"
      },
      {
        "duration": 13,
        "start_time": "2021-11-12T04:51:55.244Z"
      },
      {
        "duration": 1620,
        "start_time": "2021-11-12T04:51:55.259Z"
      },
      {
        "duration": 47,
        "start_time": "2021-11-12T04:51:56.882Z"
      },
      {
        "duration": 15,
        "start_time": "2021-11-12T04:51:56.931Z"
      },
      {
        "duration": 29,
        "start_time": "2021-11-12T04:51:56.950Z"
      },
      {
        "duration": 11,
        "start_time": "2021-11-12T04:51:56.982Z"
      },
      {
        "duration": 11,
        "start_time": "2021-11-12T04:51:56.996Z"
      },
      {
        "duration": 13,
        "start_time": "2021-11-12T04:51:57.009Z"
      },
      {
        "duration": 20,
        "start_time": "2021-11-12T04:51:57.024Z"
      },
      {
        "duration": 907,
        "start_time": "2021-11-12T04:51:57.068Z"
      },
      {
        "duration": 7,
        "start_time": "2021-11-12T04:51:57.977Z"
      },
      {
        "duration": 562,
        "start_time": "2021-11-12T04:51:57.986Z"
      },
      {
        "duration": 17,
        "start_time": "2021-11-12T04:51:58.550Z"
      },
      {
        "duration": 1445,
        "start_time": "2021-11-12T04:51:58.570Z"
      },
      {
        "duration": 13,
        "start_time": "2021-11-12T04:52:00.017Z"
      },
      {
        "duration": 45,
        "start_time": "2021-11-12T04:52:00.032Z"
      },
      {
        "duration": 9,
        "start_time": "2021-11-12T04:52:00.080Z"
      },
      {
        "duration": 7,
        "start_time": "2021-11-12T04:52:00.092Z"
      },
      {
        "duration": 8,
        "start_time": "2021-11-12T04:52:00.102Z"
      },
      {
        "duration": 61,
        "start_time": "2021-11-12T04:52:00.116Z"
      },
      {
        "duration": 9,
        "start_time": "2021-11-12T04:52:00.181Z"
      },
      {
        "duration": 15,
        "start_time": "2021-11-12T04:52:00.266Z"
      },
      {
        "duration": 1093,
        "start_time": "2021-11-12T04:52:00.284Z"
      },
      {
        "duration": 93,
        "start_time": "2021-11-12T04:52:01.379Z"
      },
      {
        "duration": 16156,
        "start_time": "2021-11-12T04:52:01.475Z"
      },
      {
        "duration": 416,
        "start_time": "2021-11-12T04:52:17.634Z"
      },
      {
        "duration": -3598,
        "start_time": "2021-11-12T04:52:21.651Z"
      },
      {
        "duration": -3601,
        "start_time": "2021-11-12T04:52:21.656Z"
      },
      {
        "duration": -3603,
        "start_time": "2021-11-12T04:52:21.659Z"
      },
      {
        "duration": 3179,
        "start_time": "2021-11-12T04:53:17.725Z"
      },
      {
        "duration": 4,
        "start_time": "2021-11-12T04:53:20.907Z"
      },
      {
        "duration": 8,
        "start_time": "2021-11-12T04:53:20.914Z"
      },
      {
        "duration": 8,
        "start_time": "2021-11-12T04:53:20.924Z"
      },
      {
        "duration": 1733,
        "start_time": "2021-11-12T04:53:20.934Z"
      },
      {
        "duration": 48,
        "start_time": "2021-11-12T04:53:22.669Z"
      },
      {
        "duration": 16,
        "start_time": "2021-11-12T04:53:22.719Z"
      },
      {
        "duration": 39,
        "start_time": "2021-11-12T04:53:22.740Z"
      },
      {
        "duration": 11,
        "start_time": "2021-11-12T04:53:22.782Z"
      },
      {
        "duration": 6,
        "start_time": "2021-11-12T04:53:22.796Z"
      },
      {
        "duration": 8,
        "start_time": "2021-11-12T04:53:22.804Z"
      },
      {
        "duration": 12,
        "start_time": "2021-11-12T04:53:22.814Z"
      },
      {
        "duration": 982,
        "start_time": "2021-11-12T04:53:22.828Z"
      },
      {
        "duration": 7,
        "start_time": "2021-11-12T04:53:23.812Z"
      },
      {
        "duration": 557,
        "start_time": "2021-11-12T04:53:23.821Z"
      },
      {
        "duration": 8,
        "start_time": "2021-11-12T04:53:24.380Z"
      },
      {
        "duration": 1459,
        "start_time": "2021-11-12T04:53:24.391Z"
      },
      {
        "duration": 26,
        "start_time": "2021-11-12T04:53:25.853Z"
      },
      {
        "duration": 21,
        "start_time": "2021-11-12T04:53:25.881Z"
      },
      {
        "duration": 12,
        "start_time": "2021-11-12T04:53:25.905Z"
      },
      {
        "duration": 7,
        "start_time": "2021-11-12T04:53:25.920Z"
      },
      {
        "duration": 6,
        "start_time": "2021-11-12T04:53:25.929Z"
      },
      {
        "duration": 12,
        "start_time": "2021-11-12T04:53:25.970Z"
      },
      {
        "duration": 9,
        "start_time": "2021-11-12T04:53:25.986Z"
      },
      {
        "duration": 5,
        "start_time": "2021-11-12T04:53:26.069Z"
      },
      {
        "duration": 2009,
        "start_time": "2021-11-12T04:53:26.076Z"
      },
      {
        "duration": 14,
        "start_time": "2021-11-12T04:53:28.167Z"
      },
      {
        "duration": 3210,
        "start_time": "2021-11-12T04:53:28.184Z"
      },
      {
        "duration": 15820,
        "start_time": "2021-11-12T04:53:31.397Z"
      },
      {
        "duration": 3,
        "start_time": "2021-11-12T04:53:47.220Z"
      },
      {
        "duration": 11,
        "start_time": "2021-11-12T04:53:47.225Z"
      },
      {
        "duration": 7,
        "start_time": "2021-11-12T04:53:47.238Z"
      },
      {
        "duration": 86786,
        "start_time": "2021-11-12T04:58:30.145Z"
      },
      {
        "duration": 546,
        "start_time": "2021-11-12T05:00:29.824Z"
      },
      {
        "duration": 3125,
        "start_time": "2021-11-12T05:00:39.136Z"
      },
      {
        "duration": 4,
        "start_time": "2021-11-12T05:00:42.265Z"
      },
      {
        "duration": 7,
        "start_time": "2021-11-12T05:00:42.272Z"
      },
      {
        "duration": 12,
        "start_time": "2021-11-12T05:00:42.282Z"
      },
      {
        "duration": 1571,
        "start_time": "2021-11-12T05:00:42.296Z"
      },
      {
        "duration": 47,
        "start_time": "2021-11-12T05:00:43.869Z"
      },
      {
        "duration": 16,
        "start_time": "2021-11-12T05:00:43.918Z"
      },
      {
        "duration": 37,
        "start_time": "2021-11-12T05:00:43.936Z"
      },
      {
        "duration": 12,
        "start_time": "2021-11-12T05:00:43.978Z"
      },
      {
        "duration": 7,
        "start_time": "2021-11-12T05:00:43.993Z"
      },
      {
        "duration": 18,
        "start_time": "2021-11-12T05:00:44.002Z"
      },
      {
        "duration": 18,
        "start_time": "2021-11-12T05:00:44.023Z"
      },
      {
        "duration": 927,
        "start_time": "2021-11-12T05:00:44.044Z"
      },
      {
        "duration": 7,
        "start_time": "2021-11-12T05:00:44.973Z"
      },
      {
        "duration": 545,
        "start_time": "2021-11-12T05:00:44.982Z"
      },
      {
        "duration": 8,
        "start_time": "2021-11-12T05:00:45.530Z"
      },
      {
        "duration": 1454,
        "start_time": "2021-11-12T05:00:45.540Z"
      },
      {
        "duration": 13,
        "start_time": "2021-11-12T05:00:46.996Z"
      },
      {
        "duration": 203,
        "start_time": "2021-11-12T05:00:47.011Z"
      },
      {
        "duration": 18,
        "start_time": "2021-11-12T05:00:47.216Z"
      },
      {
        "duration": 12,
        "start_time": "2021-11-12T05:00:47.237Z"
      },
      {
        "duration": 16,
        "start_time": "2021-11-12T05:00:47.251Z"
      },
      {
        "duration": 17,
        "start_time": "2021-11-12T05:00:47.269Z"
      },
      {
        "duration": 6,
        "start_time": "2021-11-12T05:00:47.290Z"
      },
      {
        "duration": 70,
        "start_time": "2021-11-12T05:00:47.299Z"
      },
      {
        "duration": 1403,
        "start_time": "2021-11-12T05:00:47.372Z"
      },
      {
        "duration": 92,
        "start_time": "2021-11-12T05:00:48.779Z"
      },
      {
        "duration": 52644,
        "start_time": "2021-11-12T05:00:48.874Z"
      },
      {
        "duration": 408,
        "start_time": "2021-11-12T05:01:41.521Z"
      },
      {
        "duration": -3593,
        "start_time": "2021-11-12T05:01:45.525Z"
      },
      {
        "duration": -3599,
        "start_time": "2021-11-12T05:01:45.533Z"
      },
      {
        "duration": -3611,
        "start_time": "2021-11-12T05:01:45.546Z"
      },
      {
        "duration": -3617,
        "start_time": "2021-11-12T05:01:45.554Z"
      },
      {
        "duration": -3620,
        "start_time": "2021-11-12T05:01:45.558Z"
      },
      {
        "duration": 3132,
        "start_time": "2021-11-12T05:05:49.773Z"
      },
      {
        "duration": 5,
        "start_time": "2021-11-12T05:05:52.908Z"
      },
      {
        "duration": 10,
        "start_time": "2021-11-12T05:05:52.917Z"
      },
      {
        "duration": 7,
        "start_time": "2021-11-12T05:05:52.930Z"
      },
      {
        "duration": 1619,
        "start_time": "2021-11-12T05:05:52.940Z"
      },
      {
        "duration": 47,
        "start_time": "2021-11-12T05:05:54.562Z"
      },
      {
        "duration": 15,
        "start_time": "2021-11-12T05:05:54.612Z"
      },
      {
        "duration": 38,
        "start_time": "2021-11-12T05:05:54.631Z"
      },
      {
        "duration": 11,
        "start_time": "2021-11-12T05:05:54.673Z"
      },
      {
        "duration": 8,
        "start_time": "2021-11-12T05:05:54.687Z"
      },
      {
        "duration": 8,
        "start_time": "2021-11-12T05:05:54.698Z"
      },
      {
        "duration": 11,
        "start_time": "2021-11-12T05:05:54.708Z"
      },
      {
        "duration": 954,
        "start_time": "2021-11-12T05:05:54.722Z"
      },
      {
        "duration": 6,
        "start_time": "2021-11-12T05:05:55.679Z"
      },
      {
        "duration": 540,
        "start_time": "2021-11-12T05:05:55.688Z"
      },
      {
        "duration": 9,
        "start_time": "2021-11-12T05:05:56.230Z"
      },
      {
        "duration": 1430,
        "start_time": "2021-11-12T05:05:56.242Z"
      },
      {
        "duration": 12,
        "start_time": "2021-11-12T05:05:57.675Z"
      },
      {
        "duration": 21,
        "start_time": "2021-11-12T05:05:57.690Z"
      },
      {
        "duration": 13,
        "start_time": "2021-11-12T05:05:57.714Z"
      },
      {
        "duration": 39,
        "start_time": "2021-11-12T05:05:57.730Z"
      },
      {
        "duration": 7,
        "start_time": "2021-11-12T05:05:57.772Z"
      },
      {
        "duration": 10,
        "start_time": "2021-11-12T05:05:57.784Z"
      },
      {
        "duration": 71,
        "start_time": "2021-11-12T05:05:57.797Z"
      },
      {
        "duration": 4,
        "start_time": "2021-11-12T05:05:57.871Z"
      },
      {
        "duration": 3199,
        "start_time": "2021-11-12T05:05:57.878Z"
      },
      {
        "duration": 96,
        "start_time": "2021-11-12T05:06:01.079Z"
      },
      {
        "duration": 3384,
        "start_time": "2021-11-12T05:06:01.177Z"
      },
      {
        "duration": 15796,
        "start_time": "2021-11-12T05:06:04.565Z"
      },
      {
        "duration": 3,
        "start_time": "2021-11-12T05:06:20.364Z"
      },
      {
        "duration": 17,
        "start_time": "2021-11-12T05:06:20.369Z"
      },
      {
        "duration": 8,
        "start_time": "2021-11-12T05:06:20.388Z"
      },
      {
        "duration": 3158,
        "start_time": "2021-11-12T05:10:27.820Z"
      },
      {
        "duration": 4,
        "start_time": "2021-11-12T05:10:30.981Z"
      },
      {
        "duration": 12,
        "start_time": "2021-11-12T05:10:30.988Z"
      },
      {
        "duration": 11,
        "start_time": "2021-11-12T05:10:31.003Z"
      },
      {
        "duration": 1584,
        "start_time": "2021-11-12T05:10:31.016Z"
      },
      {
        "duration": 49,
        "start_time": "2021-11-12T05:10:32.602Z"
      },
      {
        "duration": 27,
        "start_time": "2021-11-12T05:10:32.653Z"
      },
      {
        "duration": 17,
        "start_time": "2021-11-12T05:10:32.684Z"
      },
      {
        "duration": 12,
        "start_time": "2021-11-12T05:10:32.704Z"
      },
      {
        "duration": 7,
        "start_time": "2021-11-12T05:10:32.719Z"
      },
      {
        "duration": 40,
        "start_time": "2021-11-12T05:10:32.728Z"
      },
      {
        "duration": 17,
        "start_time": "2021-11-12T05:10:32.771Z"
      },
      {
        "duration": 1046,
        "start_time": "2021-11-12T05:10:32.791Z"
      },
      {
        "duration": 7,
        "start_time": "2021-11-12T05:10:33.840Z"
      },
      {
        "duration": 557,
        "start_time": "2021-11-12T05:10:33.849Z"
      },
      {
        "duration": 7,
        "start_time": "2021-11-12T05:10:34.409Z"
      },
      {
        "duration": 1483,
        "start_time": "2021-11-12T05:10:34.418Z"
      },
      {
        "duration": 13,
        "start_time": "2021-11-12T05:10:35.904Z"
      },
      {
        "duration": 21,
        "start_time": "2021-11-12T05:10:35.919Z"
      },
      {
        "duration": 9,
        "start_time": "2021-11-12T05:10:35.968Z"
      },
      {
        "duration": 9,
        "start_time": "2021-11-12T05:10:35.979Z"
      },
      {
        "duration": 7,
        "start_time": "2021-11-12T05:10:35.990Z"
      },
      {
        "duration": 12,
        "start_time": "2021-11-12T05:10:36.002Z"
      },
      {
        "duration": 10,
        "start_time": "2021-11-12T05:10:36.068Z"
      },
      {
        "duration": 5,
        "start_time": "2021-11-12T05:10:36.082Z"
      },
      {
        "duration": 157,
        "start_time": "2021-11-12T05:10:36.090Z"
      },
      {
        "duration": -3618,
        "start_time": "2021-11-12T05:10:39.868Z"
      },
      {
        "duration": -3624,
        "start_time": "2021-11-12T05:10:39.875Z"
      },
      {
        "duration": -3629,
        "start_time": "2021-11-12T05:10:39.882Z"
      },
      {
        "duration": -3639,
        "start_time": "2021-11-12T05:10:39.893Z"
      },
      {
        "duration": -3640,
        "start_time": "2021-11-12T05:10:39.896Z"
      },
      {
        "duration": -3643,
        "start_time": "2021-11-12T05:10:39.900Z"
      },
      {
        "duration": -3650,
        "start_time": "2021-11-12T05:10:39.909Z"
      },
      {
        "duration": -3651,
        "start_time": "2021-11-12T05:10:39.911Z"
      },
      {
        "duration": 4,
        "start_time": "2021-11-12T05:10:59.699Z"
      },
      {
        "duration": 482,
        "start_time": "2021-11-12T05:11:01.081Z"
      },
      {
        "duration": 7796,
        "start_time": "2021-11-12T05:12:26.081Z"
      },
      {
        "duration": 9,
        "start_time": "2021-11-12T05:15:45.853Z"
      },
      {
        "duration": 5,
        "start_time": "2021-11-12T05:16:19.526Z"
      },
      {
        "duration": 6,
        "start_time": "2021-11-12T05:17:12.180Z"
      },
      {
        "duration": 1173,
        "start_time": "2021-11-12T05:17:49.196Z"
      },
      {
        "duration": 1221,
        "start_time": "2021-11-12T05:19:13.954Z"
      },
      {
        "duration": 13,
        "start_time": "2021-11-12T05:19:17.339Z"
      },
      {
        "duration": 3833,
        "start_time": "2021-11-12T05:24:15.995Z"
      },
      {
        "duration": 4,
        "start_time": "2021-11-12T05:24:19.831Z"
      },
      {
        "duration": 12,
        "start_time": "2021-11-12T05:24:19.838Z"
      },
      {
        "duration": 10,
        "start_time": "2021-11-12T05:24:19.853Z"
      },
      {
        "duration": 1610,
        "start_time": "2021-11-12T05:24:19.865Z"
      },
      {
        "duration": 46,
        "start_time": "2021-11-12T05:24:21.478Z"
      },
      {
        "duration": 16,
        "start_time": "2021-11-12T05:24:21.527Z"
      },
      {
        "duration": 33,
        "start_time": "2021-11-12T05:24:21.548Z"
      },
      {
        "duration": 12,
        "start_time": "2021-11-12T05:24:21.586Z"
      },
      {
        "duration": 8,
        "start_time": "2021-11-12T05:24:21.602Z"
      },
      {
        "duration": 9,
        "start_time": "2021-11-12T05:24:21.612Z"
      },
      {
        "duration": 52,
        "start_time": "2021-11-12T05:24:21.623Z"
      },
      {
        "duration": 998,
        "start_time": "2021-11-12T05:24:21.678Z"
      },
      {
        "duration": 8,
        "start_time": "2021-11-12T05:24:22.679Z"
      },
      {
        "duration": 552,
        "start_time": "2021-11-12T05:24:22.689Z"
      },
      {
        "duration": 25,
        "start_time": "2021-11-12T05:24:23.244Z"
      },
      {
        "duration": 1462,
        "start_time": "2021-11-12T05:24:23.271Z"
      },
      {
        "duration": 14,
        "start_time": "2021-11-12T05:24:24.735Z"
      },
      {
        "duration": 23,
        "start_time": "2021-11-12T05:24:24.767Z"
      },
      {
        "duration": 10,
        "start_time": "2021-11-12T05:24:24.793Z"
      },
      {
        "duration": 9,
        "start_time": "2021-11-12T05:24:24.806Z"
      },
      {
        "duration": 5,
        "start_time": "2021-11-12T05:24:24.817Z"
      },
      {
        "duration": 47,
        "start_time": "2021-11-12T05:24:24.827Z"
      },
      {
        "duration": 8,
        "start_time": "2021-11-12T05:24:24.877Z"
      },
      {
        "duration": 80,
        "start_time": "2021-11-12T05:24:24.887Z"
      },
      {
        "duration": 6,
        "start_time": "2021-11-12T05:24:24.970Z"
      },
      {
        "duration": 8593,
        "start_time": "2021-11-12T05:24:24.979Z"
      },
      {
        "duration": 6,
        "start_time": "2021-11-12T05:24:33.574Z"
      },
      {
        "duration": 12,
        "start_time": "2021-11-12T05:24:33.582Z"
      },
      {
        "duration": 9,
        "start_time": "2021-11-12T05:24:33.596Z"
      },
      {
        "duration": 440,
        "start_time": "2021-11-12T05:24:33.607Z"
      },
      {
        "duration": -3627,
        "start_time": "2021-11-12T05:24:37.677Z"
      },
      {
        "duration": -3632,
        "start_time": "2021-11-12T05:24:37.683Z"
      },
      {
        "duration": -3636,
        "start_time": "2021-11-12T05:24:37.689Z"
      },
      {
        "duration": 1195,
        "start_time": "2021-11-12T05:24:48.777Z"
      },
      {
        "duration": 42,
        "start_time": "2021-11-12T05:24:50.028Z"
      },
      {
        "duration": 15,
        "start_time": "2021-11-12T05:24:51.905Z"
      },
      {
        "duration": 286,
        "start_time": "2021-11-12T05:28:14.511Z"
      },
      {
        "duration": 274,
        "start_time": "2021-11-12T05:30:19.829Z"
      },
      {
        "duration": 8708,
        "start_time": "2021-11-12T05:35:49.569Z"
      },
      {
        "duration": 5,
        "start_time": "2021-11-12T05:35:58.280Z"
      },
      {
        "duration": 759,
        "start_time": "2021-11-12T05:40:05.397Z"
      },
      {
        "duration": 13622,
        "start_time": "2021-11-12T05:40:31.949Z"
      },
      {
        "duration": 7565,
        "start_time": "2021-11-12T05:41:36.003Z"
      },
      {
        "duration": 1087,
        "start_time": "2021-11-12T05:41:47.388Z"
      },
      {
        "duration": 17,
        "start_time": "2021-11-12T05:41:50.396Z"
      },
      {
        "duration": 3156,
        "start_time": "2021-11-12T05:54:55.238Z"
      },
      {
        "duration": 4,
        "start_time": "2021-11-12T05:54:58.398Z"
      },
      {
        "duration": 7,
        "start_time": "2021-11-12T05:54:58.406Z"
      },
      {
        "duration": 6,
        "start_time": "2021-11-12T05:54:58.415Z"
      },
      {
        "duration": 1869,
        "start_time": "2021-11-12T05:54:58.424Z"
      },
      {
        "duration": 49,
        "start_time": "2021-11-12T05:55:00.295Z"
      },
      {
        "duration": 23,
        "start_time": "2021-11-12T05:55:00.346Z"
      },
      {
        "duration": 26,
        "start_time": "2021-11-12T05:55:00.373Z"
      },
      {
        "duration": 13,
        "start_time": "2021-11-12T05:55:00.402Z"
      },
      {
        "duration": 25,
        "start_time": "2021-11-12T05:55:00.417Z"
      },
      {
        "duration": 34,
        "start_time": "2021-11-12T05:55:00.444Z"
      },
      {
        "duration": 49,
        "start_time": "2021-11-12T05:55:00.481Z"
      },
      {
        "duration": 982,
        "start_time": "2021-11-12T05:55:00.533Z"
      },
      {
        "duration": 7,
        "start_time": "2021-11-12T05:55:01.517Z"
      },
      {
        "duration": 563,
        "start_time": "2021-11-12T05:55:01.527Z"
      },
      {
        "duration": 8,
        "start_time": "2021-11-12T05:55:02.093Z"
      },
      {
        "duration": 1501,
        "start_time": "2021-11-12T05:55:02.103Z"
      },
      {
        "duration": 13,
        "start_time": "2021-11-12T05:55:03.607Z"
      },
      {
        "duration": 22,
        "start_time": "2021-11-12T05:55:03.622Z"
      },
      {
        "duration": 9,
        "start_time": "2021-11-12T05:55:03.668Z"
      },
      {
        "duration": 10,
        "start_time": "2021-11-12T05:55:03.679Z"
      },
      {
        "duration": 8,
        "start_time": "2021-11-12T05:55:03.691Z"
      },
      {
        "duration": 11,
        "start_time": "2021-11-12T05:55:03.703Z"
      },
      {
        "duration": 7,
        "start_time": "2021-11-12T05:55:03.767Z"
      },
      {
        "duration": 7,
        "start_time": "2021-11-12T05:55:03.777Z"
      },
      {
        "duration": 81,
        "start_time": "2021-11-12T05:55:03.786Z"
      },
      {
        "duration": 7908,
        "start_time": "2021-11-12T05:55:03.870Z"
      },
      {
        "duration": 8689,
        "start_time": "2021-11-12T05:55:11.780Z"
      },
      {
        "duration": 1205,
        "start_time": "2021-11-12T05:55:20.471Z"
      },
      {
        "duration": 94,
        "start_time": "2021-11-12T05:55:21.679Z"
      },
      {
        "duration": 6,
        "start_time": "2021-11-12T05:55:21.776Z"
      },
      {
        "duration": 383,
        "start_time": "2021-11-12T05:55:21.784Z"
      },
      {
        "duration": 8,
        "start_time": "2021-11-12T05:55:22.169Z"
      },
      {
        "duration": 19,
        "start_time": "2021-11-12T05:55:22.179Z"
      },
      {
        "duration": 10,
        "start_time": "2021-11-12T05:55:22.201Z"
      },
      {
        "duration": 10,
        "start_time": "2021-11-12T05:55:22.213Z"
      },
      {
        "duration": 9,
        "start_time": "2021-11-12T05:55:41.333Z"
      },
      {
        "duration": 197,
        "start_time": "2021-11-12T05:57:05.452Z"
      },
      {
        "duration": 8,
        "start_time": "2021-11-12T05:57:08.438Z"
      },
      {
        "duration": 199,
        "start_time": "2021-11-12T05:57:51.268Z"
      },
      {
        "duration": 11,
        "start_time": "2021-11-12T05:57:53.227Z"
      },
      {
        "duration": 196,
        "start_time": "2021-11-12T06:04:07.549Z"
      },
      {
        "duration": 4,
        "start_time": "2021-11-12T06:07:58.066Z"
      },
      {
        "duration": 771,
        "start_time": "2021-11-12T06:07:59.457Z"
      },
      {
        "duration": 5,
        "start_time": "2021-11-12T06:08:30.881Z"
      },
      {
        "duration": 576,
        "start_time": "2021-11-12T06:08:32.098Z"
      },
      {
        "duration": 4,
        "start_time": "2021-11-12T06:09:01.025Z"
      },
      {
        "duration": 562,
        "start_time": "2021-11-12T06:09:01.958Z"
      },
      {
        "duration": 3130,
        "start_time": "2021-11-12T06:09:13.501Z"
      },
      {
        "duration": 4,
        "start_time": "2021-11-12T06:09:16.633Z"
      },
      {
        "duration": 7,
        "start_time": "2021-11-12T06:09:16.640Z"
      },
      {
        "duration": 10,
        "start_time": "2021-11-12T06:09:16.649Z"
      },
      {
        "duration": 1635,
        "start_time": "2021-11-12T06:09:16.661Z"
      },
      {
        "duration": 48,
        "start_time": "2021-11-12T06:09:18.299Z"
      },
      {
        "duration": 21,
        "start_time": "2021-11-12T06:09:18.350Z"
      },
      {
        "duration": 21,
        "start_time": "2021-11-12T06:09:18.375Z"
      },
      {
        "duration": 17,
        "start_time": "2021-11-12T06:09:18.398Z"
      },
      {
        "duration": 14,
        "start_time": "2021-11-12T06:09:18.418Z"
      },
      {
        "duration": 34,
        "start_time": "2021-11-12T06:09:18.435Z"
      },
      {
        "duration": 14,
        "start_time": "2021-11-12T06:09:18.471Z"
      },
      {
        "duration": 951,
        "start_time": "2021-11-12T06:09:18.488Z"
      },
      {
        "duration": 7,
        "start_time": "2021-11-12T06:09:19.441Z"
      },
      {
        "duration": 549,
        "start_time": "2021-11-12T06:09:19.451Z"
      },
      {
        "duration": 10,
        "start_time": "2021-11-12T06:09:20.002Z"
      },
      {
        "duration": 1434,
        "start_time": "2021-11-12T06:09:20.015Z"
      },
      {
        "duration": 22,
        "start_time": "2021-11-12T06:09:21.451Z"
      },
      {
        "duration": 21,
        "start_time": "2021-11-12T06:09:21.475Z"
      },
      {
        "duration": 10,
        "start_time": "2021-11-12T06:09:21.500Z"
      },
      {
        "duration": 7,
        "start_time": "2021-11-12T06:09:21.512Z"
      },
      {
        "duration": 45,
        "start_time": "2021-11-12T06:09:21.522Z"
      },
      {
        "duration": 11,
        "start_time": "2021-11-12T06:09:21.575Z"
      },
      {
        "duration": 78,
        "start_time": "2021-11-12T06:09:21.590Z"
      },
      {
        "duration": 5,
        "start_time": "2021-11-12T06:09:21.672Z"
      },
      {
        "duration": 7790,
        "start_time": "2021-11-12T06:09:21.681Z"
      },
      {
        "duration": 7999,
        "start_time": "2021-11-12T06:09:29.474Z"
      },
      {
        "duration": 1191,
        "start_time": "2021-11-12T06:09:37.476Z"
      },
      {
        "duration": 4,
        "start_time": "2021-11-12T06:09:38.670Z"
      },
      {
        "duration": 718,
        "start_time": "2021-11-12T06:09:38.676Z"
      },
      {
        "duration": -3731,
        "start_time": "2021-11-12T06:09:43.128Z"
      },
      {
        "duration": -3744,
        "start_time": "2021-11-12T06:09:43.143Z"
      },
      {
        "duration": -3746,
        "start_time": "2021-11-12T06:09:43.146Z"
      },
      {
        "duration": -3751,
        "start_time": "2021-11-12T06:09:43.153Z"
      },
      {
        "duration": -3753,
        "start_time": "2021-11-12T06:09:43.156Z"
      },
      {
        "duration": -3753,
        "start_time": "2021-11-12T06:09:43.158Z"
      },
      {
        "duration": 2231,
        "start_time": "2021-11-12T06:10:46.283Z"
      },
      {
        "duration": 331,
        "start_time": "2021-11-12T06:10:59.796Z"
      },
      {
        "duration": 327,
        "start_time": "2021-11-12T06:11:09.250Z"
      },
      {
        "duration": 3264,
        "start_time": "2021-11-12T06:13:03.493Z"
      },
      {
        "duration": 5,
        "start_time": "2021-11-12T06:13:06.760Z"
      },
      {
        "duration": 9,
        "start_time": "2021-11-12T06:13:06.769Z"
      },
      {
        "duration": 7,
        "start_time": "2021-11-12T06:13:06.781Z"
      },
      {
        "duration": 1694,
        "start_time": "2021-11-12T06:13:06.791Z"
      },
      {
        "duration": 46,
        "start_time": "2021-11-12T06:13:08.487Z"
      },
      {
        "duration": 16,
        "start_time": "2021-11-12T06:13:08.536Z"
      },
      {
        "duration": 16,
        "start_time": "2021-11-12T06:13:08.571Z"
      },
      {
        "duration": 11,
        "start_time": "2021-11-12T06:13:08.590Z"
      },
      {
        "duration": 8,
        "start_time": "2021-11-12T06:13:08.604Z"
      },
      {
        "duration": 8,
        "start_time": "2021-11-12T06:13:08.615Z"
      },
      {
        "duration": 47,
        "start_time": "2021-11-12T06:13:08.625Z"
      },
      {
        "duration": 927,
        "start_time": "2021-11-12T06:13:08.675Z"
      },
      {
        "duration": 6,
        "start_time": "2021-11-12T06:13:09.605Z"
      },
      {
        "duration": 564,
        "start_time": "2021-11-12T06:13:09.613Z"
      },
      {
        "duration": 9,
        "start_time": "2021-11-12T06:13:10.179Z"
      },
      {
        "duration": 1468,
        "start_time": "2021-11-12T06:13:10.190Z"
      },
      {
        "duration": 14,
        "start_time": "2021-11-12T06:13:11.668Z"
      },
      {
        "duration": 20,
        "start_time": "2021-11-12T06:13:11.684Z"
      },
      {
        "duration": 12,
        "start_time": "2021-11-12T06:13:11.707Z"
      },
      {
        "duration": 14,
        "start_time": "2021-11-12T06:13:11.722Z"
      },
      {
        "duration": 28,
        "start_time": "2021-11-12T06:13:11.739Z"
      },
      {
        "duration": 25,
        "start_time": "2021-11-12T06:13:11.772Z"
      },
      {
        "duration": 7,
        "start_time": "2021-11-12T06:13:11.801Z"
      },
      {
        "duration": 4,
        "start_time": "2021-11-12T06:13:11.867Z"
      },
      {
        "duration": 9804,
        "start_time": "2021-11-12T06:13:11.873Z"
      },
      {
        "duration": 7488,
        "start_time": "2021-11-12T06:13:21.679Z"
      },
      {
        "duration": 1316,
        "start_time": "2021-11-12T06:13:29.170Z"
      },
      {
        "duration": 81,
        "start_time": "2021-11-12T06:13:30.488Z"
      },
      {
        "duration": 2232,
        "start_time": "2021-11-12T06:13:30.572Z"
      },
      {
        "duration": 341,
        "start_time": "2021-11-12T06:13:32.806Z"
      },
      {
        "duration": 3,
        "start_time": "2021-11-12T06:13:33.149Z"
      },
      {
        "duration": 14,
        "start_time": "2021-11-12T06:13:33.154Z"
      },
      {
        "duration": 8,
        "start_time": "2021-11-12T06:13:33.171Z"
      },
      {
        "duration": 662,
        "start_time": "2021-11-12T06:14:24.125Z"
      },
      {
        "duration": 330,
        "start_time": "2021-11-12T06:15:14.130Z"
      },
      {
        "duration": 5,
        "start_time": "2021-11-12T06:16:05.152Z"
      },
      {
        "duration": 2222,
        "start_time": "2021-11-12T06:16:07.392Z"
      },
      {
        "duration": 327,
        "start_time": "2021-11-12T06:16:12.888Z"
      },
      {
        "duration": 335,
        "start_time": "2021-11-12T06:16:35.064Z"
      },
      {
        "duration": 9,
        "start_time": "2021-11-12T06:17:08.536Z"
      },
      {
        "duration": 204,
        "start_time": "2021-11-12T06:19:20.887Z"
      },
      {
        "duration": 4,
        "start_time": "2021-11-12T06:19:23.694Z"
      },
      {
        "duration": 2210,
        "start_time": "2021-11-12T06:19:24.805Z"
      },
      {
        "duration": 339,
        "start_time": "2021-11-12T06:19:28.662Z"
      },
      {
        "duration": 202,
        "start_time": "2021-11-12T06:20:04.526Z"
      },
      {
        "duration": 4,
        "start_time": "2021-11-12T06:20:07.449Z"
      },
      {
        "duration": 2216,
        "start_time": "2021-11-12T06:20:09.142Z"
      },
      {
        "duration": 317,
        "start_time": "2021-11-12T06:20:13.437Z"
      },
      {
        "duration": 1345,
        "start_time": "2021-11-12T06:23:38.750Z"
      },
      {
        "duration": 473,
        "start_time": "2021-11-12T06:38:57.095Z"
      },
      {
        "duration": 8,
        "start_time": "2021-11-12T06:39:46.742Z"
      },
      {
        "duration": 9,
        "start_time": "2021-11-12T06:40:41.941Z"
      },
      {
        "duration": 281,
        "start_time": "2021-11-12T06:43:30.491Z"
      },
      {
        "duration": 274,
        "start_time": "2021-11-12T06:43:49.003Z"
      },
      {
        "duration": 283,
        "start_time": "2021-11-12T06:44:01.986Z"
      },
      {
        "duration": 278,
        "start_time": "2021-11-12T06:44:28.826Z"
      },
      {
        "duration": 307,
        "start_time": "2021-11-12T06:45:03.153Z"
      },
      {
        "duration": 251,
        "start_time": "2021-11-12T06:45:29.657Z"
      },
      {
        "duration": 266,
        "start_time": "2021-11-12T06:45:35.730Z"
      },
      {
        "duration": 5,
        "start_time": "2021-11-12T06:45:49.370Z"
      },
      {
        "duration": 278,
        "start_time": "2021-11-12T06:47:04.848Z"
      },
      {
        "duration": 261,
        "start_time": "2021-11-12T06:47:56.135Z"
      },
      {
        "duration": 11,
        "start_time": "2021-11-12T06:48:13.478Z"
      },
      {
        "duration": 590,
        "start_time": "2021-11-12T06:49:18.357Z"
      },
      {
        "duration": 778,
        "start_time": "2021-11-12T06:51:26.637Z"
      },
      {
        "duration": 569,
        "start_time": "2021-11-12T06:52:16.035Z"
      },
      {
        "duration": 583,
        "start_time": "2021-11-12T06:52:38.227Z"
      }
    ],
    "colab": {
      "name": "taxo order(eng).ipynb",
      "provenance": []
    },
    "kernelspec": {
      "display_name": "Python 3",
      "language": "python",
      "name": "python3"
    },
    "language_info": {
      "codemirror_mode": {
        "name": "ipython",
        "version": 3
      },
      "file_extension": ".py",
      "mimetype": "text/x-python",
      "name": "python",
      "nbconvert_exporter": "python",
      "pygments_lexer": "ipython3",
      "version": "3.7.8"
    },
    "toc": {
      "base_numbering": 1,
      "nav_menu": {},
      "number_sections": true,
      "sideBar": true,
      "skip_h1_title": true,
      "title_cell": "Содержание",
      "title_sidebar": "Contents",
      "toc_cell": true,
      "toc_position": {},
      "toc_section_display": true,
      "toc_window_display": false
    },
    "widgets": {
      "application/vnd.jupyter.widget-state+json": {
        "7cbfc6cc4cc3420d849eb92a22088f7f": {
          "model_module": "@jupyter-widgets/controls",
          "model_name": "HBoxModel",
          "model_module_version": "1.5.0",
          "state": {
            "_dom_classes": [],
            "_model_module": "@jupyter-widgets/controls",
            "_model_module_version": "1.5.0",
            "_model_name": "HBoxModel",
            "_view_count": null,
            "_view_module": "@jupyter-widgets/controls",
            "_view_module_version": "1.5.0",
            "_view_name": "HBoxView",
            "box_style": "",
            "children": [
              "IPY_MODEL_a4e6a73c238f44078cd2601b10fa4e68",
              "IPY_MODEL_8419fc69d0164ea1a6d8a16057d747d5",
              "IPY_MODEL_e2918d86ae3f4f1b8831dc12fc763796"
            ],
            "layout": "IPY_MODEL_427ec349f37448cdbad0780712b73c6a"
          }
        },
        "427ec349f37448cdbad0780712b73c6a": {
          "model_module": "@jupyter-widgets/base",
          "model_name": "LayoutModel",
          "model_module_version": "1.2.0",
          "state": {
            "_model_module": "@jupyter-widgets/base",
            "_model_module_version": "1.2.0",
            "_model_name": "LayoutModel",
            "_view_count": null,
            "_view_module": "@jupyter-widgets/base",
            "_view_module_version": "1.2.0",
            "_view_name": "LayoutView",
            "align_content": null,
            "align_items": null,
            "align_self": null,
            "border": null,
            "bottom": null,
            "display": null,
            "flex": null,
            "flex_flow": null,
            "grid_area": null,
            "grid_auto_columns": null,
            "grid_auto_flow": null,
            "grid_auto_rows": null,
            "grid_column": null,
            "grid_gap": null,
            "grid_row": null,
            "grid_template_areas": null,
            "grid_template_columns": null,
            "grid_template_rows": null,
            "height": null,
            "justify_content": null,
            "justify_items": null,
            "left": null,
            "margin": null,
            "max_height": null,
            "max_width": null,
            "min_height": null,
            "min_width": null,
            "object_fit": null,
            "object_position": null,
            "order": null,
            "overflow": null,
            "overflow_x": null,
            "overflow_y": null,
            "padding": null,
            "right": null,
            "top": null,
            "visibility": null,
            "width": null
          }
        },
        "a4e6a73c238f44078cd2601b10fa4e68": {
          "model_module": "@jupyter-widgets/controls",
          "model_name": "HTMLModel",
          "model_module_version": "1.5.0",
          "state": {
            "_dom_classes": [],
            "_model_module": "@jupyter-widgets/controls",
            "_model_module_version": "1.5.0",
            "_model_name": "HTMLModel",
            "_view_count": null,
            "_view_module": "@jupyter-widgets/controls",
            "_view_module_version": "1.5.0",
            "_view_name": "HTMLView",
            "description": "",
            "description_tooltip": null,
            "layout": "IPY_MODEL_536b20a717ae4d0a88fa27b686b7faa1",
            "placeholder": "​",
            "style": "IPY_MODEL_a294d2ebd4a84c87b9408f5190e531eb",
            "value": "100%"
          }
        },
        "8419fc69d0164ea1a6d8a16057d747d5": {
          "model_module": "@jupyter-widgets/controls",
          "model_name": "FloatProgressModel",
          "model_module_version": "1.5.0",
          "state": {
            "_dom_classes": [],
            "_model_module": "@jupyter-widgets/controls",
            "_model_module_version": "1.5.0",
            "_model_name": "FloatProgressModel",
            "_view_count": null,
            "_view_module": "@jupyter-widgets/controls",
            "_view_module_version": "1.5.0",
            "_view_name": "ProgressView",
            "bar_style": "success",
            "description": "",
            "description_tooltip": null,
            "layout": "IPY_MODEL_445cc2cba0a4488b9008e2fdbb87c07d",
            "max": 5,
            "min": 0,
            "orientation": "horizontal",
            "style": "IPY_MODEL_e0b61113dd5e45aa9731fce8302fb799",
            "value": 5
          }
        },
        "e2918d86ae3f4f1b8831dc12fc763796": {
          "model_module": "@jupyter-widgets/controls",
          "model_name": "HTMLModel",
          "model_module_version": "1.5.0",
          "state": {
            "_dom_classes": [],
            "_model_module": "@jupyter-widgets/controls",
            "_model_module_version": "1.5.0",
            "_model_name": "HTMLModel",
            "_view_count": null,
            "_view_module": "@jupyter-widgets/controls",
            "_view_module_version": "1.5.0",
            "_view_name": "HTMLView",
            "description": "",
            "description_tooltip": null,
            "layout": "IPY_MODEL_5c487f8f31f7441b8cd5f5f24e29a953",
            "placeholder": "​",
            "style": "IPY_MODEL_12946b41c14e448482ab2306c7801f5c",
            "value": " 5/5 [00:20&lt;00:00,  4.08s/it]"
          }
        },
        "a294d2ebd4a84c87b9408f5190e531eb": {
          "model_module": "@jupyter-widgets/controls",
          "model_name": "DescriptionStyleModel",
          "model_module_version": "1.5.0",
          "state": {
            "_model_module": "@jupyter-widgets/controls",
            "_model_module_version": "1.5.0",
            "_model_name": "DescriptionStyleModel",
            "_view_count": null,
            "_view_module": "@jupyter-widgets/base",
            "_view_module_version": "1.2.0",
            "_view_name": "StyleView",
            "description_width": ""
          }
        },
        "536b20a717ae4d0a88fa27b686b7faa1": {
          "model_module": "@jupyter-widgets/base",
          "model_name": "LayoutModel",
          "model_module_version": "1.2.0",
          "state": {
            "_model_module": "@jupyter-widgets/base",
            "_model_module_version": "1.2.0",
            "_model_name": "LayoutModel",
            "_view_count": null,
            "_view_module": "@jupyter-widgets/base",
            "_view_module_version": "1.2.0",
            "_view_name": "LayoutView",
            "align_content": null,
            "align_items": null,
            "align_self": null,
            "border": null,
            "bottom": null,
            "display": null,
            "flex": null,
            "flex_flow": null,
            "grid_area": null,
            "grid_auto_columns": null,
            "grid_auto_flow": null,
            "grid_auto_rows": null,
            "grid_column": null,
            "grid_gap": null,
            "grid_row": null,
            "grid_template_areas": null,
            "grid_template_columns": null,
            "grid_template_rows": null,
            "height": null,
            "justify_content": null,
            "justify_items": null,
            "left": null,
            "margin": null,
            "max_height": null,
            "max_width": null,
            "min_height": null,
            "min_width": null,
            "object_fit": null,
            "object_position": null,
            "order": null,
            "overflow": null,
            "overflow_x": null,
            "overflow_y": null,
            "padding": null,
            "right": null,
            "top": null,
            "visibility": null,
            "width": null
          }
        },
        "e0b61113dd5e45aa9731fce8302fb799": {
          "model_module": "@jupyter-widgets/controls",
          "model_name": "ProgressStyleModel",
          "model_module_version": "1.5.0",
          "state": {
            "_model_module": "@jupyter-widgets/controls",
            "_model_module_version": "1.5.0",
            "_model_name": "ProgressStyleModel",
            "_view_count": null,
            "_view_module": "@jupyter-widgets/base",
            "_view_module_version": "1.2.0",
            "_view_name": "StyleView",
            "bar_color": null,
            "description_width": ""
          }
        },
        "445cc2cba0a4488b9008e2fdbb87c07d": {
          "model_module": "@jupyter-widgets/base",
          "model_name": "LayoutModel",
          "model_module_version": "1.2.0",
          "state": {
            "_model_module": "@jupyter-widgets/base",
            "_model_module_version": "1.2.0",
            "_model_name": "LayoutModel",
            "_view_count": null,
            "_view_module": "@jupyter-widgets/base",
            "_view_module_version": "1.2.0",
            "_view_name": "LayoutView",
            "align_content": null,
            "align_items": null,
            "align_self": null,
            "border": null,
            "bottom": null,
            "display": null,
            "flex": null,
            "flex_flow": null,
            "grid_area": null,
            "grid_auto_columns": null,
            "grid_auto_flow": null,
            "grid_auto_rows": null,
            "grid_column": null,
            "grid_gap": null,
            "grid_row": null,
            "grid_template_areas": null,
            "grid_template_columns": null,
            "grid_template_rows": null,
            "height": null,
            "justify_content": null,
            "justify_items": null,
            "left": null,
            "margin": null,
            "max_height": null,
            "max_width": null,
            "min_height": null,
            "min_width": null,
            "object_fit": null,
            "object_position": null,
            "order": null,
            "overflow": null,
            "overflow_x": null,
            "overflow_y": null,
            "padding": null,
            "right": null,
            "top": null,
            "visibility": null,
            "width": null
          }
        },
        "12946b41c14e448482ab2306c7801f5c": {
          "model_module": "@jupyter-widgets/controls",
          "model_name": "DescriptionStyleModel",
          "model_module_version": "1.5.0",
          "state": {
            "_model_module": "@jupyter-widgets/controls",
            "_model_module_version": "1.5.0",
            "_model_name": "DescriptionStyleModel",
            "_view_count": null,
            "_view_module": "@jupyter-widgets/base",
            "_view_module_version": "1.2.0",
            "_view_name": "StyleView",
            "description_width": ""
          }
        },
        "5c487f8f31f7441b8cd5f5f24e29a953": {
          "model_module": "@jupyter-widgets/base",
          "model_name": "LayoutModel",
          "model_module_version": "1.2.0",
          "state": {
            "_model_module": "@jupyter-widgets/base",
            "_model_module_version": "1.2.0",
            "_model_name": "LayoutModel",
            "_view_count": null,
            "_view_module": "@jupyter-widgets/base",
            "_view_module_version": "1.2.0",
            "_view_name": "LayoutView",
            "align_content": null,
            "align_items": null,
            "align_self": null,
            "border": null,
            "bottom": null,
            "display": null,
            "flex": null,
            "flex_flow": null,
            "grid_area": null,
            "grid_auto_columns": null,
            "grid_auto_flow": null,
            "grid_auto_rows": null,
            "grid_column": null,
            "grid_gap": null,
            "grid_row": null,
            "grid_template_areas": null,
            "grid_template_columns": null,
            "grid_template_rows": null,
            "height": null,
            "justify_content": null,
            "justify_items": null,
            "left": null,
            "margin": null,
            "max_height": null,
            "max_width": null,
            "min_height": null,
            "min_width": null,
            "object_fit": null,
            "object_position": null,
            "order": null,
            "overflow": null,
            "overflow_x": null,
            "overflow_y": null,
            "padding": null,
            "right": null,
            "top": null,
            "visibility": null,
            "width": null
          }
        }
      }
    }
  },
  "cells": [
    {
      "cell_type": "markdown",
      "metadata": {
        "id": "yaoAFNlu8ZcL",
        "toc": true
      },
      "source": [
        "<h1>Content<span class=\"tocSkip\"></span></h1>\n",
        "<div class=\"toc\"><ul class=\"toc-item\"><li><span><a href=\"#Data-Preprocessing\" data-toc-modified-id=\"Data-Preprocessing-1\"><span class=\"toc-item-num\">1&nbsp;&nbsp;</span>Data Preprocessing</a></span></li><li><span><a href=\"#Conclusion\" data-toc-modified-id=\"Conclusion-2\"><span class=\"toc-item-num\">2&nbsp;&nbsp;</span>Conclusion</a></span></li><li><span><a href=\"#Analysis\" data-toc-modified-id=\"Analysis-3\"><span class=\"toc-item-num\">3&nbsp;&nbsp;</span>Analysis</a></span></li><li><span><a href=\"#Conclusion\" data-toc-modified-id=\"Conclusion-4\"><span class=\"toc-item-num\">4&nbsp;&nbsp;</span>Conclusion</a></span></li><li><span><a href=\"#Machine-Learning\" data-toc-modified-id=\"Machine-Learning-5\"><span class=\"toc-item-num\">5&nbsp;&nbsp;</span>Machine Learning</a></span><ul class=\"toc-item\"><li><span><a href=\"#Linear-Regression\" data-toc-modified-id=\"Linear-Regression-5.1\"><span class=\"toc-item-num\">5.1&nbsp;&nbsp;</span>Linear Regression</a></span></li><li><span><a href=\"#LightGBMRegressor\" data-toc-modified-id=\"LightGBMRegressor-5.2\"><span class=\"toc-item-num\">5.2&nbsp;&nbsp;</span>LightGBMRegressor</a></span></li><li><span><a href=\"#XGBRegressor\" data-toc-modified-id=\"XGBRegressor-5.3\"><span class=\"toc-item-num\">5.3&nbsp;&nbsp;</span>XGBRegressor</a></span></li><li><span><a href=\"#FBProphet\" data-toc-modified-id=\"FBProphet-5.4\"><span class=\"toc-item-num\">5.4&nbsp;&nbsp;</span>FBProphet</a></span></li></ul></li><li><span><a href=\"#Models-Analysis\" data-toc-modified-id=\"Models-Analysis-6\"><span class=\"toc-item-num\">6&nbsp;&nbsp;</span>Models Analysis</a></span></li><li><span><a href=\"#General-Conclusion\" data-toc-modified-id=\"General-Conclusion-7\"><span class=\"toc-item-num\">7&nbsp;&nbsp;</span>General Conclusion</a></span></li></ul></div>"
      ]
    },
    {
      "cell_type": "markdown",
      "metadata": {
        "id": "NXh0LOgg8ZcT"
      },
      "source": [
        "#  Taxi orders prediction"
      ]
    },
    {
      "cell_type": "markdown",
      "metadata": {
        "id": "DMi7GxdF8ZcV"
      },
      "source": [
        "# We have a taxi orders data for few monthes of 2018. In porpouse to avoid drivers shortage we need to learn model to predict amount of orders in the next hour. Root mean squared error of prediction should be less then 48\n"
      ]
    },
    {
      "cell_type": "markdown",
      "metadata": {
        "id": "KL8f67WG8ZcW"
      },
      "source": [
        "## Data Preprocessing"
      ]
    },
    {
      "cell_type": "code",
      "metadata": {
        "colab": {
          "base_uri": "https://localhost:8080/"
        },
        "id": "zBFttn4u8ZcX",
        "outputId": "baeaf495-16e4-4800-ec93-e5c55c14f036"
      },
      "source": [
        "#import librarys\n",
        "!pip install lightgbm"
      ],
      "execution_count": 1,
      "outputs": [
        {
          "output_type": "stream",
          "name": "stdout",
          "text": [
            "Requirement already satisfied: lightgbm in /usr/local/lib/python3.7/dist-packages (2.2.3)\n",
            "Requirement already satisfied: scipy in /usr/local/lib/python3.7/dist-packages (from lightgbm) (1.4.1)\n",
            "Requirement already satisfied: numpy in /usr/local/lib/python3.7/dist-packages (from lightgbm) (1.19.5)\n",
            "Requirement already satisfied: scikit-learn in /usr/local/lib/python3.7/dist-packages (from lightgbm) (1.0.1)\n",
            "Requirement already satisfied: threadpoolctl>=2.0.0 in /usr/local/lib/python3.7/dist-packages (from scikit-learn->lightgbm) (3.0.0)\n",
            "Requirement already satisfied: joblib>=0.11 in /usr/local/lib/python3.7/dist-packages (from scikit-learn->lightgbm) (1.1.0)\n"
          ]
        }
      ]
    },
    {
      "cell_type": "code",
      "metadata": {
        "colab": {
          "base_uri": "https://localhost:8080/"
        },
        "id": "0DXoSnXq8Zcb",
        "outputId": "41c51a10-405c-4937-a13e-ac10fd2be3bc"
      },
      "source": [
        "!pip install pystan\n",
        "!pip install prophet"
      ],
      "execution_count": 2,
      "outputs": [
        {
          "output_type": "stream",
          "name": "stdout",
          "text": [
            "Requirement already satisfied: pystan in /usr/local/lib/python3.7/dist-packages (2.19.1.1)\n",
            "Requirement already satisfied: Cython!=0.25.1,>=0.22 in /usr/local/lib/python3.7/dist-packages (from pystan) (0.29.24)\n",
            "Requirement already satisfied: numpy>=1.7 in /usr/local/lib/python3.7/dist-packages (from pystan) (1.19.5)\n",
            "Collecting prophet\n",
            "  Downloading prophet-1.0.1.tar.gz (65 kB)\n",
            "\u001b[K     |████████████████████████████████| 65 kB 2.7 MB/s \n",
            "\u001b[?25hRequirement already satisfied: Cython>=0.22 in /usr/local/lib/python3.7/dist-packages (from prophet) (0.29.24)\n",
            "Collecting cmdstanpy==0.9.68\n",
            "  Downloading cmdstanpy-0.9.68-py3-none-any.whl (49 kB)\n",
            "\u001b[K     |████████████████████████████████| 49 kB 5.1 MB/s \n",
            "\u001b[?25hRequirement already satisfied: pystan~=2.19.1.1 in /usr/local/lib/python3.7/dist-packages (from prophet) (2.19.1.1)\n",
            "Requirement already satisfied: numpy>=1.15.4 in /usr/local/lib/python3.7/dist-packages (from prophet) (1.19.5)\n",
            "Requirement already satisfied: pandas>=1.0.4 in /usr/local/lib/python3.7/dist-packages (from prophet) (1.1.5)\n",
            "Requirement already satisfied: matplotlib>=2.0.0 in /usr/local/lib/python3.7/dist-packages (from prophet) (3.2.2)\n",
            "Requirement already satisfied: LunarCalendar>=0.0.9 in /usr/local/lib/python3.7/dist-packages (from prophet) (0.0.9)\n",
            "Requirement already satisfied: convertdate>=2.1.2 in /usr/local/lib/python3.7/dist-packages (from prophet) (2.3.2)\n",
            "Requirement already satisfied: holidays>=0.10.2 in /usr/local/lib/python3.7/dist-packages (from prophet) (0.10.5.2)\n",
            "Requirement already satisfied: setuptools-git>=1.2 in /usr/local/lib/python3.7/dist-packages (from prophet) (1.2)\n",
            "Requirement already satisfied: python-dateutil>=2.8.0 in /usr/local/lib/python3.7/dist-packages (from prophet) (2.8.2)\n",
            "Requirement already satisfied: tqdm>=4.36.1 in /usr/local/lib/python3.7/dist-packages (from prophet) (4.62.3)\n",
            "Collecting ujson\n",
            "  Downloading ujson-5.1.0-cp37-cp37m-manylinux_2_17_x86_64.manylinux2014_x86_64.whl (43 kB)\n",
            "\u001b[K     |████████████████████████████████| 43 kB 2.5 MB/s \n",
            "\u001b[?25hRequirement already satisfied: pytz>=2014.10 in /usr/local/lib/python3.7/dist-packages (from convertdate>=2.1.2->prophet) (2018.9)\n",
            "Requirement already satisfied: pymeeus<=1,>=0.3.13 in /usr/local/lib/python3.7/dist-packages (from convertdate>=2.1.2->prophet) (0.5.11)\n",
            "Requirement already satisfied: six in /usr/local/lib/python3.7/dist-packages (from holidays>=0.10.2->prophet) (1.15.0)\n",
            "Requirement already satisfied: korean-lunar-calendar in /usr/local/lib/python3.7/dist-packages (from holidays>=0.10.2->prophet) (0.2.1)\n",
            "Requirement already satisfied: hijri-converter in /usr/local/lib/python3.7/dist-packages (from holidays>=0.10.2->prophet) (2.2.2)\n",
            "Requirement already satisfied: ephem>=3.7.5.3 in /usr/local/lib/python3.7/dist-packages (from LunarCalendar>=0.0.9->prophet) (4.1)\n",
            "Requirement already satisfied: kiwisolver>=1.0.1 in /usr/local/lib/python3.7/dist-packages (from matplotlib>=2.0.0->prophet) (1.3.2)\n",
            "Requirement already satisfied: cycler>=0.10 in /usr/local/lib/python3.7/dist-packages (from matplotlib>=2.0.0->prophet) (0.11.0)\n",
            "Requirement already satisfied: pyparsing!=2.0.4,!=2.1.2,!=2.1.6,>=2.0.1 in /usr/local/lib/python3.7/dist-packages (from matplotlib>=2.0.0->prophet) (3.0.6)\n",
            "Building wheels for collected packages: prophet\n",
            "  Building wheel for prophet (setup.py) ... \u001b[?25l\u001b[?25hdone\n",
            "  Created wheel for prophet: filename=prophet-1.0.1-py3-none-any.whl size=6640485 sha256=d2caafc0505747ee5664659bd3c88fd3db45bd6ffb6d17cae0a0e8af5f7c61ce\n",
            "  Stored in directory: /root/.cache/pip/wheels/4e/a0/1a/02c9ec9e3e9de6bdbb3d769d11992a6926889d71567d6b9b67\n",
            "Successfully built prophet\n",
            "Installing collected packages: ujson, cmdstanpy, prophet\n",
            "  Attempting uninstall: cmdstanpy\n",
            "    Found existing installation: cmdstanpy 0.9.5\n",
            "    Uninstalling cmdstanpy-0.9.5:\n",
            "      Successfully uninstalled cmdstanpy-0.9.5\n",
            "\u001b[31mERROR: pip's dependency resolver does not currently take into account all the packages that are installed. This behaviour is the source of the following dependency conflicts.\n",
            "fbprophet 0.7.1 requires cmdstanpy==0.9.5, but you have cmdstanpy 0.9.68 which is incompatible.\u001b[0m\n",
            "Successfully installed cmdstanpy-0.9.68 prophet-1.0.1 ujson-5.1.0\n"
          ]
        }
      ]
    },
    {
      "cell_type": "code",
      "metadata": {
        "id": "IGNiluQL8Zcc",
        "colab": {
          "base_uri": "https://localhost:8080/"
        },
        "outputId": "91eb826f-07df-4af9-853a-064c7f514973"
      },
      "source": [
        "import pandas as pd\n",
        "import numpy as np\n",
        "import matplotlib.pyplot as plt\n",
        "from statsmodels.tsa.seasonal import seasonal_decompose\n",
        "from sklearn.model_selection import train_test_split\n",
        "from sklearn.linear_model import LinearRegression\n",
        "from sklearn.metrics import mean_squared_error\n",
        "from sklearn.model_selection import TimeSeriesSplit, GridSearchCV\n",
        "from xgboost import XGBRegressor\n",
        "\n",
        "\n",
        "\n",
        "import lightgbm as lgb\n",
        "import warnings\n",
        "warnings.filterwarnings('ignore')\n",
        "from prophet import Prophet\n",
        "from prophet.diagnostics import cross_validation\n",
        "from prophet.diagnostics import performance_metrics\n",
        "\n",
        "\n",
        "random_state = 12345\n",
        "\n"
      ],
      "execution_count": 3,
      "outputs": [
        {
          "output_type": "stream",
          "name": "stderr",
          "text": [
            "/usr/local/lib/python3.7/dist-packages/statsmodels/tools/_testing.py:19: FutureWarning: pandas.util.testing is deprecated. Use the functions in the public API at pandas.testing instead.\n",
            "  import pandas.util.testing as tm\n"
          ]
        }
      ]
    },
    {
      "cell_type": "code",
      "metadata": {
        "colab": {
          "base_uri": "https://localhost:8080/",
          "height": 206
        },
        "id": "Kakkieqm8Zce",
        "outputId": "d9846d31-3c8c-4023-d015-53eadd7996d1"
      },
      "source": [
        "#data import\n",
        "data = pd.read_csv('/content/taxi.csv')\n",
        "data.head()"
      ],
      "execution_count": 5,
      "outputs": [
        {
          "output_type": "execute_result",
          "data": {
            "text/html": [
              "\n",
              "  <div id=\"df-bed523c2-f78c-4c9e-96e1-f12301d82958\">\n",
              "    <div class=\"colab-df-container\">\n",
              "      <div>\n",
              "<style scoped>\n",
              "    .dataframe tbody tr th:only-of-type {\n",
              "        vertical-align: middle;\n",
              "    }\n",
              "\n",
              "    .dataframe tbody tr th {\n",
              "        vertical-align: top;\n",
              "    }\n",
              "\n",
              "    .dataframe thead th {\n",
              "        text-align: right;\n",
              "    }\n",
              "</style>\n",
              "<table border=\"1\" class=\"dataframe\">\n",
              "  <thead>\n",
              "    <tr style=\"text-align: right;\">\n",
              "      <th></th>\n",
              "      <th>datetime</th>\n",
              "      <th>num_orders</th>\n",
              "    </tr>\n",
              "  </thead>\n",
              "  <tbody>\n",
              "    <tr>\n",
              "      <th>0</th>\n",
              "      <td>2018-03-01 00:00:00</td>\n",
              "      <td>9</td>\n",
              "    </tr>\n",
              "    <tr>\n",
              "      <th>1</th>\n",
              "      <td>2018-03-01 00:10:00</td>\n",
              "      <td>14</td>\n",
              "    </tr>\n",
              "    <tr>\n",
              "      <th>2</th>\n",
              "      <td>2018-03-01 00:20:00</td>\n",
              "      <td>28</td>\n",
              "    </tr>\n",
              "    <tr>\n",
              "      <th>3</th>\n",
              "      <td>2018-03-01 00:30:00</td>\n",
              "      <td>20</td>\n",
              "    </tr>\n",
              "    <tr>\n",
              "      <th>4</th>\n",
              "      <td>2018-03-01 00:40:00</td>\n",
              "      <td>32</td>\n",
              "    </tr>\n",
              "  </tbody>\n",
              "</table>\n",
              "</div>\n",
              "      <button class=\"colab-df-convert\" onclick=\"convertToInteractive('df-bed523c2-f78c-4c9e-96e1-f12301d82958')\"\n",
              "              title=\"Convert this dataframe to an interactive table.\"\n",
              "              style=\"display:none;\">\n",
              "        \n",
              "  <svg xmlns=\"http://www.w3.org/2000/svg\" height=\"24px\"viewBox=\"0 0 24 24\"\n",
              "       width=\"24px\">\n",
              "    <path d=\"M0 0h24v24H0V0z\" fill=\"none\"/>\n",
              "    <path d=\"M18.56 5.44l.94 2.06.94-2.06 2.06-.94-2.06-.94-.94-2.06-.94 2.06-2.06.94zm-11 1L8.5 8.5l.94-2.06 2.06-.94-2.06-.94L8.5 2.5l-.94 2.06-2.06.94zm10 10l.94 2.06.94-2.06 2.06-.94-2.06-.94-.94-2.06-.94 2.06-2.06.94z\"/><path d=\"M17.41 7.96l-1.37-1.37c-.4-.4-.92-.59-1.43-.59-.52 0-1.04.2-1.43.59L10.3 9.45l-7.72 7.72c-.78.78-.78 2.05 0 2.83L4 21.41c.39.39.9.59 1.41.59.51 0 1.02-.2 1.41-.59l7.78-7.78 2.81-2.81c.8-.78.8-2.07 0-2.86zM5.41 20L4 18.59l7.72-7.72 1.47 1.35L5.41 20z\"/>\n",
              "  </svg>\n",
              "      </button>\n",
              "      \n",
              "  <style>\n",
              "    .colab-df-container {\n",
              "      display:flex;\n",
              "      flex-wrap:wrap;\n",
              "      gap: 12px;\n",
              "    }\n",
              "\n",
              "    .colab-df-convert {\n",
              "      background-color: #E8F0FE;\n",
              "      border: none;\n",
              "      border-radius: 50%;\n",
              "      cursor: pointer;\n",
              "      display: none;\n",
              "      fill: #1967D2;\n",
              "      height: 32px;\n",
              "      padding: 0 0 0 0;\n",
              "      width: 32px;\n",
              "    }\n",
              "\n",
              "    .colab-df-convert:hover {\n",
              "      background-color: #E2EBFA;\n",
              "      box-shadow: 0px 1px 2px rgba(60, 64, 67, 0.3), 0px 1px 3px 1px rgba(60, 64, 67, 0.15);\n",
              "      fill: #174EA6;\n",
              "    }\n",
              "\n",
              "    [theme=dark] .colab-df-convert {\n",
              "      background-color: #3B4455;\n",
              "      fill: #D2E3FC;\n",
              "    }\n",
              "\n",
              "    [theme=dark] .colab-df-convert:hover {\n",
              "      background-color: #434B5C;\n",
              "      box-shadow: 0px 1px 3px 1px rgba(0, 0, 0, 0.15);\n",
              "      filter: drop-shadow(0px 1px 2px rgba(0, 0, 0, 0.3));\n",
              "      fill: #FFFFFF;\n",
              "    }\n",
              "  </style>\n",
              "\n",
              "      <script>\n",
              "        const buttonEl =\n",
              "          document.querySelector('#df-bed523c2-f78c-4c9e-96e1-f12301d82958 button.colab-df-convert');\n",
              "        buttonEl.style.display =\n",
              "          google.colab.kernel.accessAllowed ? 'block' : 'none';\n",
              "\n",
              "        async function convertToInteractive(key) {\n",
              "          const element = document.querySelector('#df-bed523c2-f78c-4c9e-96e1-f12301d82958');\n",
              "          const dataTable =\n",
              "            await google.colab.kernel.invokeFunction('convertToInteractive',\n",
              "                                                     [key], {});\n",
              "          if (!dataTable) return;\n",
              "\n",
              "          const docLinkHtml = 'Like what you see? Visit the ' +\n",
              "            '<a target=\"_blank\" href=https://colab.research.google.com/notebooks/data_table.ipynb>data table notebook</a>'\n",
              "            + ' to learn more about interactive tables.';\n",
              "          element.innerHTML = '';\n",
              "          dataTable['output_type'] = 'display_data';\n",
              "          await google.colab.output.renderOutput(dataTable, element);\n",
              "          const docLink = document.createElement('div');\n",
              "          docLink.innerHTML = docLinkHtml;\n",
              "          element.appendChild(docLink);\n",
              "        }\n",
              "      </script>\n",
              "    </div>\n",
              "  </div>\n",
              "  "
            ],
            "text/plain": [
              "              datetime  num_orders\n",
              "0  2018-03-01 00:00:00           9\n",
              "1  2018-03-01 00:10:00          14\n",
              "2  2018-03-01 00:20:00          28\n",
              "3  2018-03-01 00:30:00          20\n",
              "4  2018-03-01 00:40:00          32"
            ]
          },
          "metadata": {},
          "execution_count": 5
        }
      ]
    },
    {
      "cell_type": "code",
      "metadata": {
        "colab": {
          "base_uri": "https://localhost:8080/"
        },
        "id": "mo89uZR48Zcf",
        "outputId": "ae5a082d-ad7e-4f50-cff7-d7f96058e3de"
      },
      "source": [
        "data.info()"
      ],
      "execution_count": null,
      "outputs": [
        {
          "name": "stdout",
          "output_type": "stream",
          "text": [
            "<class 'pandas.core.frame.DataFrame'>\n",
            "RangeIndex: 26496 entries, 0 to 26495\n",
            "Data columns (total 2 columns):\n",
            " #   Column      Non-Null Count  Dtype \n",
            "---  ------      --------------  ----- \n",
            " 0   datetime    26496 non-null  object\n",
            " 1   num_orders  26496 non-null  int64 \n",
            "dtypes: int64(1), object(1)\n",
            "memory usage: 414.1+ KB\n"
          ]
        }
      ]
    },
    {
      "cell_type": "code",
      "metadata": {
        "colab": {
          "base_uri": "https://localhost:8080/",
          "height": 297
        },
        "id": "i1YRvzBm8Zcg",
        "outputId": "99bc7b63-d9db-4e26-e979-01117f504060"
      },
      "source": [
        "data.describe()"
      ],
      "execution_count": null,
      "outputs": [
        {
          "data": {
            "text/html": [
              "<div>\n",
              "<style scoped>\n",
              "    .dataframe tbody tr th:only-of-type {\n",
              "        vertical-align: middle;\n",
              "    }\n",
              "\n",
              "    .dataframe tbody tr th {\n",
              "        vertical-align: top;\n",
              "    }\n",
              "\n",
              "    .dataframe thead th {\n",
              "        text-align: right;\n",
              "    }\n",
              "</style>\n",
              "<table border=\"1\" class=\"dataframe\">\n",
              "  <thead>\n",
              "    <tr style=\"text-align: right;\">\n",
              "      <th></th>\n",
              "      <th>num_orders</th>\n",
              "    </tr>\n",
              "  </thead>\n",
              "  <tbody>\n",
              "    <tr>\n",
              "      <th>count</th>\n",
              "      <td>26496.000000</td>\n",
              "    </tr>\n",
              "    <tr>\n",
              "      <th>mean</th>\n",
              "      <td>14.070463</td>\n",
              "    </tr>\n",
              "    <tr>\n",
              "      <th>std</th>\n",
              "      <td>9.211330</td>\n",
              "    </tr>\n",
              "    <tr>\n",
              "      <th>min</th>\n",
              "      <td>0.000000</td>\n",
              "    </tr>\n",
              "    <tr>\n",
              "      <th>25%</th>\n",
              "      <td>8.000000</td>\n",
              "    </tr>\n",
              "    <tr>\n",
              "      <th>50%</th>\n",
              "      <td>13.000000</td>\n",
              "    </tr>\n",
              "    <tr>\n",
              "      <th>75%</th>\n",
              "      <td>19.000000</td>\n",
              "    </tr>\n",
              "    <tr>\n",
              "      <th>max</th>\n",
              "      <td>119.000000</td>\n",
              "    </tr>\n",
              "  </tbody>\n",
              "</table>\n",
              "</div>"
            ],
            "text/plain": [
              "         num_orders\n",
              "count  26496.000000\n",
              "mean      14.070463\n",
              "std        9.211330\n",
              "min        0.000000\n",
              "25%        8.000000\n",
              "50%       13.000000\n",
              "75%       19.000000\n",
              "max      119.000000"
            ]
          },
          "execution_count": 78,
          "metadata": {},
          "output_type": "execute_result"
        }
      ]
    },
    {
      "cell_type": "code",
      "metadata": {
        "id": "1zrTZE_S8Zch"
      },
      "source": [
        "#convert to datetime\n",
        "data['datetime'] = pd.to_datetime(data['datetime'])"
      ],
      "execution_count": 6,
      "outputs": []
    },
    {
      "cell_type": "code",
      "metadata": {
        "id": "HjOng7HP8Zch"
      },
      "source": [
        "#set index\n",
        "data = data.set_index('datetime')"
      ],
      "execution_count": 7,
      "outputs": []
    },
    {
      "cell_type": "code",
      "metadata": {
        "colab": {
          "base_uri": "https://localhost:8080/"
        },
        "id": "zFFuuXSb8Zci",
        "outputId": "54d27519-c44a-42ee-bc1b-127cf981073c"
      },
      "source": [
        "#check if index is monotonic\n",
        "data.index.is_monotonic"
      ],
      "execution_count": 8,
      "outputs": [
        {
          "output_type": "execute_result",
          "data": {
            "text/plain": [
              "True"
            ]
          },
          "metadata": {},
          "execution_count": 8
        }
      ]
    },
    {
      "cell_type": "code",
      "metadata": {
        "id": "JZIbK_Cz8Zci"
      },
      "source": [
        "#resample to hourly\n",
        "data = data.resample('1H').sum()"
      ],
      "execution_count": 9,
      "outputs": []
    },
    {
      "cell_type": "code",
      "metadata": {
        "colab": {
          "base_uri": "https://localhost:8080/",
          "height": 308
        },
        "id": "ssqAvHVv8Zcj",
        "outputId": "3174b72f-38bd-4494-c350-ee25bed59b0a"
      },
      "source": [
        "#lets see what we have\n",
        "data.plot()"
      ],
      "execution_count": null,
      "outputs": [
        {
          "data": {
            "text/plain": [
              "<matplotlib.axes._subplots.AxesSubplot at 0x7f075e987310>"
            ]
          },
          "execution_count": 83,
          "metadata": {},
          "output_type": "execute_result"
        },
        {
          "data": {
            "image/png": "[encoded data removed]",
            "text/plain": [
              "<Figure size 432x288 with 1 Axes>"
            ]
          },
          "metadata": {
            "needs_background": "light"
          },
          "output_type": "display_data"
        }
      ]
    },
    {
      "cell_type": "code",
      "metadata": {
        "id": "R332pHlP8Zck"
      },
      "source": [
        "#function to create new features(year, month, day, dayofweek, moving_average, standard deviation of moving_average, seasonality and lags) \n",
        "def make_features(data, max_lag, moving_average_size):\n",
        "    data_new = data.copy()\n",
        "    data_new['year'] = data_new.index.year\n",
        "    data_new['month'] = data_new.index.month\n",
        "    data_new['day'] = data_new.index.day\n",
        "    data_new['dayofweek'] = data_new.index.dayofweek\n",
        "    \n",
        "    data_new['moving_average'] = data_new['num_orders'].shift().rolling(moving_average_size).mean()\n",
        "    data_new['std'] = data_new['num_orders'].shift().rolling(moving_average_size).std()\n",
        "    \n",
        "    decomposed = seasonal_decompose(data_new['num_orders'])\n",
        "    data_new['seasonality'] = decomposed.seasonal.shift()\n",
        "  \n",
        "\n",
        "    for lag in range(1, max_lag + 1):\n",
        "        data_new['lag_{}'.format(lag)] = data_new['num_orders'].shift(lag)\n",
        "\n",
        "    \n",
        "    return data_new"
      ],
      "execution_count": 10,
      "outputs": []
    },
    {
      "cell_type": "markdown",
      "metadata": {
        "id": "_Tz-ae0D8Zcl"
      },
      "source": [
        "## Conclusion"
      ]
    },
    {
      "cell_type": "markdown",
      "metadata": {
        "id": "LmR3W0MX8Zcl"
      },
      "source": [
        "- Data's on base\n",
        "- Preprocessing has done\n",
        "- Created function for adding new features\n"
      ]
    },
    {
      "cell_type": "markdown",
      "metadata": {
        "id": "oMRqapR98Zcl"
      },
      "source": [
        "## Analysis"
      ]
    },
    {
      "cell_type": "markdown",
      "metadata": {
        "id": "0ROkUSyZcpva"
      },
      "source": [
        "Lets see what seasonal, trend and residual components we have"
      ]
    },
    {
      "cell_type": "code",
      "metadata": {
        "colab": {
          "base_uri": "https://localhost:8080/",
          "height": 308
        },
        "id": "Shse9xT78Zcm",
        "outputId": "501b2252-d639-4536-8e49-e28df838d9d0"
      },
      "source": [
        "make_features(data, 1, 55)[['num_orders', 'moving_average']].plot()"
      ],
      "execution_count": null,
      "outputs": [
        {
          "data": {
            "text/plain": [
              "<matplotlib.axes._subplots.AxesSubplot at 0x7f076e4a9a90>"
            ]
          },
          "execution_count": 85,
          "metadata": {},
          "output_type": "execute_result"
        },
        {
          "data": {
            "image/png": "[encoded data removed]",
            "text/plain": [
              "<Figure size 432x288 with 1 Axes>"
            ]
          },
          "metadata": {
            "needs_background": "light"
          },
          "output_type": "display_data"
        }
      ]
    },
    {
      "cell_type": "code",
      "metadata": {
        "id": "i0FZ3uyC8Zcm"
      },
      "source": [
        "decomposed = seasonal_decompose(data['num_orders'])"
      ],
      "execution_count": null,
      "outputs": []
    },
    {
      "cell_type": "code",
      "metadata": {
        "colab": {
          "base_uri": "https://localhost:8080/",
          "height": 873
        },
        "id": "wQqr5JcA8Zcm",
        "outputId": "17099d23-40fc-4ea5-a4ba-fb96ef0fcf66"
      },
      "source": [
        "plt.figure(figsize = (10, 12))\n",
        "plt.subplot(311)\n",
        "decomposed.trend.plot(ax=plt.gca())\n",
        "plt.title('Trend')\n",
        "plt.subplot(312)\n",
        "decomposed.seasonal['2018-05-01':'2018-05-7'].plot(ax=plt.gca())\n",
        "plt.title('Seasonality')\n",
        "plt.subplot(313)\n",
        "decomposed.resid.plot(ax=plt.gca())\n",
        "plt.title('Residuals')\n",
        "plt.tight_layout()"
      ],
      "execution_count": null,
      "outputs": [
        {
          "data": {
            "image/png": "[encoded data removed]",
            "text/plain": [
              "<Figure size 720x864 with 3 Axes>"
            ]
          },
          "metadata": {
            "needs_background": "light"
          },
          "output_type": "display_data"
        }
      ]
    },
    {
      "cell_type": "markdown",
      "metadata": {
        "id": "fqiejH3H8Zco"
      },
      "source": [
        "## Conclusion"
      ]
    },
    {
      "cell_type": "markdown",
      "metadata": {
        "id": "As_XtUeG8Zco"
      },
      "source": [
        "After doing some preprocessing and analisys job we can say that:\n",
        " - time series has a trend - number of taxi ordes increases during all the time\n",
        " - time series has a seasonality - there are peaks in the morning (people get to work), afternoon (business meetings) and evening (get home, go out, etc.) "
      ]
    },
    {
      "cell_type": "markdown",
      "metadata": {
        "id": "i8QO5YF38Zcp"
      },
      "source": [
        "## Machine Learning"
      ]
    },
    {
      "cell_type": "code",
      "metadata": {
        "id": "vhsaEBpI8Zcp"
      },
      "source": [
        "#create new features\n",
        "data = make_features(data, 1, 55)"
      ],
      "execution_count": 11,
      "outputs": []
    },
    {
      "cell_type": "code",
      "metadata": {
        "colab": {
          "base_uri": "https://localhost:8080/",
          "height": 238
        },
        "id": "e8g-GyX48Zcp",
        "outputId": "39c46ae8-40d1-4452-a105-552699a51d13"
      },
      "source": [
        "data.head()"
      ],
      "execution_count": 12,
      "outputs": [
        {
          "output_type": "execute_result",
          "data": {
            "text/html": [
              "\n",
              "  <div id=\"df-985f99a1-a0dc-4239-b5b7-c2f9e47c3a81\">\n",
              "    <div class=\"colab-df-container\">\n",
              "      <div>\n",
              "<style scoped>\n",
              "    .dataframe tbody tr th:only-of-type {\n",
              "        vertical-align: middle;\n",
              "    }\n",
              "\n",
              "    .dataframe tbody tr th {\n",
              "        vertical-align: top;\n",
              "    }\n",
              "\n",
              "    .dataframe thead th {\n",
              "        text-align: right;\n",
              "    }\n",
              "</style>\n",
              "<table border=\"1\" class=\"dataframe\">\n",
              "  <thead>\n",
              "    <tr style=\"text-align: right;\">\n",
              "      <th></th>\n",
              "      <th>num_orders</th>\n",
              "      <th>year</th>\n",
              "      <th>month</th>\n",
              "      <th>day</th>\n",
              "      <th>dayofweek</th>\n",
              "      <th>moving_average</th>\n",
              "      <th>std</th>\n",
              "      <th>seasonality</th>\n",
              "      <th>lag_1</th>\n",
              "    </tr>\n",
              "    <tr>\n",
              "      <th>datetime</th>\n",
              "      <th></th>\n",
              "      <th></th>\n",
              "      <th></th>\n",
              "      <th></th>\n",
              "      <th></th>\n",
              "      <th></th>\n",
              "      <th></th>\n",
              "      <th></th>\n",
              "      <th></th>\n",
              "    </tr>\n",
              "  </thead>\n",
              "  <tbody>\n",
              "    <tr>\n",
              "      <th>2018-03-01 00:00:00</th>\n",
              "      <td>124</td>\n",
              "      <td>2018</td>\n",
              "      <td>3</td>\n",
              "      <td>1</td>\n",
              "      <td>3</td>\n",
              "      <td>NaN</td>\n",
              "      <td>NaN</td>\n",
              "      <td>NaN</td>\n",
              "      <td>NaN</td>\n",
              "    </tr>\n",
              "    <tr>\n",
              "      <th>2018-03-01 01:00:00</th>\n",
              "      <td>85</td>\n",
              "      <td>2018</td>\n",
              "      <td>3</td>\n",
              "      <td>1</td>\n",
              "      <td>3</td>\n",
              "      <td>NaN</td>\n",
              "      <td>NaN</td>\n",
              "      <td>60.248112</td>\n",
              "      <td>124.0</td>\n",
              "    </tr>\n",
              "    <tr>\n",
              "      <th>2018-03-01 02:00:00</th>\n",
              "      <td>71</td>\n",
              "      <td>2018</td>\n",
              "      <td>3</td>\n",
              "      <td>1</td>\n",
              "      <td>3</td>\n",
              "      <td>NaN</td>\n",
              "      <td>NaN</td>\n",
              "      <td>20.177074</td>\n",
              "      <td>85.0</td>\n",
              "    </tr>\n",
              "    <tr>\n",
              "      <th>2018-03-01 03:00:00</th>\n",
              "      <td>66</td>\n",
              "      <td>2018</td>\n",
              "      <td>3</td>\n",
              "      <td>1</td>\n",
              "      <td>3</td>\n",
              "      <td>NaN</td>\n",
              "      <td>NaN</td>\n",
              "      <td>28.982743</td>\n",
              "      <td>71.0</td>\n",
              "    </tr>\n",
              "    <tr>\n",
              "      <th>2018-03-01 04:00:00</th>\n",
              "      <td>43</td>\n",
              "      <td>2018</td>\n",
              "      <td>3</td>\n",
              "      <td>1</td>\n",
              "      <td>3</td>\n",
              "      <td>NaN</td>\n",
              "      <td>NaN</td>\n",
              "      <td>17.885407</td>\n",
              "      <td>66.0</td>\n",
              "    </tr>\n",
              "  </tbody>\n",
              "</table>\n",
              "</div>\n",
              "      <button class=\"colab-df-convert\" onclick=\"convertToInteractive('df-985f99a1-a0dc-4239-b5b7-c2f9e47c3a81')\"\n",
              "              title=\"Convert this dataframe to an interactive table.\"\n",
              "              style=\"display:none;\">\n",
              "        \n",
              "  <svg xmlns=\"http://www.w3.org/2000/svg\" height=\"24px\"viewBox=\"0 0 24 24\"\n",
              "       width=\"24px\">\n",
              "    <path d=\"M0 0h24v24H0V0z\" fill=\"none\"/>\n",
              "    <path d=\"M18.56 5.44l.94 2.06.94-2.06 2.06-.94-2.06-.94-.94-2.06-.94 2.06-2.06.94zm-11 1L8.5 8.5l.94-2.06 2.06-.94-2.06-.94L8.5 2.5l-.94 2.06-2.06.94zm10 10l.94 2.06.94-2.06 2.06-.94-2.06-.94-.94-2.06-.94 2.06-2.06.94z\"/><path d=\"M17.41 7.96l-1.37-1.37c-.4-.4-.92-.59-1.43-.59-.52 0-1.04.2-1.43.59L10.3 9.45l-7.72 7.72c-.78.78-.78 2.05 0 2.83L4 21.41c.39.39.9.59 1.41.59.51 0 1.02-.2 1.41-.59l7.78-7.78 2.81-2.81c.8-.78.8-2.07 0-2.86zM5.41 20L4 18.59l7.72-7.72 1.47 1.35L5.41 20z\"/>\n",
              "  </svg>\n",
              "      </button>\n",
              "      \n",
              "  <style>\n",
              "    .colab-df-container {\n",
              "      display:flex;\n",
              "      flex-wrap:wrap;\n",
              "      gap: 12px;\n",
              "    }\n",
              "\n",
              "    .colab-df-convert {\n",
              "      background-color: #E8F0FE;\n",
              "      border: none;\n",
              "      border-radius: 50%;\n",
              "      cursor: pointer;\n",
              "      display: none;\n",
              "      fill: #1967D2;\n",
              "      height: 32px;\n",
              "      padding: 0 0 0 0;\n",
              "      width: 32px;\n",
              "    }\n",
              "\n",
              "    .colab-df-convert:hover {\n",
              "      background-color: #E2EBFA;\n",
              "      box-shadow: 0px 1px 2px rgba(60, 64, 67, 0.3), 0px 1px 3px 1px rgba(60, 64, 67, 0.15);\n",
              "      fill: #174EA6;\n",
              "    }\n",
              "\n",
              "    [theme=dark] .colab-df-convert {\n",
              "      background-color: #3B4455;\n",
              "      fill: #D2E3FC;\n",
              "    }\n",
              "\n",
              "    [theme=dark] .colab-df-convert:hover {\n",
              "      background-color: #434B5C;\n",
              "      box-shadow: 0px 1px 3px 1px rgba(0, 0, 0, 0.15);\n",
              "      filter: drop-shadow(0px 1px 2px rgba(0, 0, 0, 0.3));\n",
              "      fill: #FFFFFF;\n",
              "    }\n",
              "  </style>\n",
              "\n",
              "      <script>\n",
              "        const buttonEl =\n",
              "          document.querySelector('#df-985f99a1-a0dc-4239-b5b7-c2f9e47c3a81 button.colab-df-convert');\n",
              "        buttonEl.style.display =\n",
              "          google.colab.kernel.accessAllowed ? 'block' : 'none';\n",
              "\n",
              "        async function convertToInteractive(key) {\n",
              "          const element = document.querySelector('#df-985f99a1-a0dc-4239-b5b7-c2f9e47c3a81');\n",
              "          const dataTable =\n",
              "            await google.colab.kernel.invokeFunction('convertToInteractive',\n",
              "                                                     [key], {});\n",
              "          if (!dataTable) return;\n",
              "\n",
              "          const docLinkHtml = 'Like what you see? Visit the ' +\n",
              "            '<a target=\"_blank\" href=https://colab.research.google.com/notebooks/data_table.ipynb>data table notebook</a>'\n",
              "            + ' to learn more about interactive tables.';\n",
              "          element.innerHTML = '';\n",
              "          dataTable['output_type'] = 'display_data';\n",
              "          await google.colab.output.renderOutput(dataTable, element);\n",
              "          const docLink = document.createElement('div');\n",
              "          docLink.innerHTML = docLinkHtml;\n",
              "          element.appendChild(docLink);\n",
              "        }\n",
              "      </script>\n",
              "    </div>\n",
              "  </div>\n",
              "  "
            ],
            "text/plain": [
              "                     num_orders  year  month  ...  std  seasonality  lag_1\n",
              "datetime                                      ...                         \n",
              "2018-03-01 00:00:00         124  2018      3  ...  NaN          NaN    NaN\n",
              "2018-03-01 01:00:00          85  2018      3  ...  NaN    60.248112  124.0\n",
              "2018-03-01 02:00:00          71  2018      3  ...  NaN    20.177074   85.0\n",
              "2018-03-01 03:00:00          66  2018      3  ...  NaN    28.982743   71.0\n",
              "2018-03-01 04:00:00          43  2018      3  ...  NaN    17.885407   66.0\n",
              "\n",
              "[5 rows x 9 columns]"
            ]
          },
          "metadata": {},
          "execution_count": 12
        }
      ]
    },
    {
      "cell_type": "code",
      "metadata": {
        "id": "yYgsj5mr8Zcp"
      },
      "source": [
        "#split train and test sets\n",
        "train, test = train_test_split(data, shuffle=False, test_size=0.1)\n",
        "train = train.dropna()"
      ],
      "execution_count": 13,
      "outputs": []
    },
    {
      "cell_type": "code",
      "metadata": {
        "id": "TOFT5SpD8Zcr"
      },
      "source": [
        "X_train = train.drop('num_orders', axis=1)\n",
        "y_train = train['num_orders']\n",
        "\n",
        "X_test = test.drop('num_orders', axis=1)\n",
        "y_test = test['num_orders']"
      ],
      "execution_count": 14,
      "outputs": []
    },
    {
      "cell_type": "markdown",
      "metadata": {
        "id": "CPDddkef8Zcr"
      },
      "source": [
        "### Linear Regression"
      ]
    },
    {
      "cell_type": "code",
      "metadata": {
        "id": "IWE7OQzo8Zcr"
      },
      "source": [
        "model = LinearRegression()"
      ],
      "execution_count": 16,
      "outputs": []
    },
    {
      "cell_type": "code",
      "metadata": {
        "colab": {
          "base_uri": "https://localhost:8080/"
        },
        "id": "5gXSgWZB8Zcr",
        "outputId": "e5f0a799-6da8-4a11-a37d-322a74185672"
      },
      "source": [
        "model.fit(X_train, y_train)"
      ],
      "execution_count": 17,
      "outputs": [
        {
          "output_type": "execute_result",
          "data": {
            "text/plain": [
              "LinearRegression()"
            ]
          },
          "metadata": {},
          "execution_count": 17
        }
      ]
    },
    {
      "cell_type": "code",
      "metadata": {
        "colab": {
          "base_uri": "https://localhost:8080/"
        },
        "id": "CznG_I7X8Zcs",
        "outputId": "04ac6de9-c7f6-4bc9-86a8-1b7d4ad042ee"
      },
      "source": [
        "lr_rmse = (mean_squared_error(y_test, model.predict(X_test))) ** 0.5\n",
        "print('Linear Regression RMSE on test', lr_rmse)"
      ],
      "execution_count": 18,
      "outputs": [
        {
          "output_type": "stream",
          "name": "stdout",
          "text": [
            "Linear Regression RMSE on test 52.937925620834655\n"
          ]
        }
      ]
    },
    {
      "cell_type": "markdown",
      "metadata": {
        "id": "zATDwlwU8Zct"
      },
      "source": [
        "### LightGBMRegressor"
      ]
    },
    {
      "cell_type": "code",
      "metadata": {
        "id": "IpIGCoil8Zct"
      },
      "source": [
        "model= lgb.LGBMRegressor(random_state=random_state)\n",
        "param_search = {'max_depth' : [-1, 5], 'learning_rate' : [0.1, 0.15]}"
      ],
      "execution_count": 19,
      "outputs": []
    },
    {
      "cell_type": "code",
      "metadata": {
        "colab": {
          "base_uri": "https://localhost:8080/"
        },
        "id": "Oi8ammEa8Zct",
        "outputId": "5dafe26f-e917-4f82-93b1-f5601aa24471"
      },
      "source": [
        "#function for searching best parameters\n",
        "def best_p(model, X, y, param_search=param_search):\n",
        "    tscv = TimeSeriesSplit(n_splits=2)\n",
        "    gsearch = GridSearchCV(estimator=model,\n",
        "                           cv=tscv,param_grid=param_search,\n",
        "                           scoring='neg_mean_squared_error')\n",
        "    gsearch.fit(X_train, y_train)\n",
        "    print(gsearch.best_params_)\n",
        "    return gsearch.best_estimator_\n",
        "\n",
        "best_p(model, X_train, y_train)"
      ],
      "execution_count": 20,
      "outputs": [
        {
          "output_type": "stream",
          "name": "stdout",
          "text": [
            "{'learning_rate': 0.1, 'max_depth': -1}\n"
          ]
        },
        {
          "output_type": "execute_result",
          "data": {
            "text/plain": [
              "LGBMRegressor(random_state=12345)"
            ]
          },
          "metadata": {},
          "execution_count": 20
        }
      ]
    },
    {
      "cell_type": "code",
      "metadata": {
        "colab": {
          "base_uri": "https://localhost:8080/"
        },
        "id": "91xgazY58Zcu",
        "outputId": "252e737e-7667-4b2f-940c-3158871dfc81"
      },
      "source": [
        "lgbm_model = best_p(model, X_train, y_train)"
      ],
      "execution_count": 21,
      "outputs": [
        {
          "output_type": "stream",
          "name": "stdout",
          "text": [
            "{'learning_rate': 0.1, 'max_depth': -1}\n"
          ]
        }
      ]
    },
    {
      "cell_type": "code",
      "metadata": {
        "colab": {
          "base_uri": "https://localhost:8080/"
        },
        "id": "CsjbXyvW8Zcu",
        "outputId": "449750e0-4244-461a-c001-b4aead214059"
      },
      "source": [
        "#function to evaluate model on test data\n",
        "def test_model(model, X_train, y_train, y_test):\n",
        "    model.fit(X_train, y_train)\n",
        "    return (mean_squared_error(y_test, model.predict(X_test))) ** 0.5\n",
        "    \n",
        "lgbmr_rmse = test_model(lgbm_model, X_train, y_train, y_test)\n",
        "print('lightGBMRegressor RMSE on test', lgbmr_rmse)"
      ],
      "execution_count": 22,
      "outputs": [
        {
          "output_type": "stream",
          "name": "stdout",
          "text": [
            "lightGBMRegressor RMSE on test 42.13347386448493\n"
          ]
        }
      ]
    },
    {
      "cell_type": "markdown",
      "metadata": {
        "id": "Qh6ebHHk8Zcv"
      },
      "source": [
        "### XGBRegressor"
      ]
    },
    {
      "cell_type": "code",
      "metadata": {
        "id": "LwEXvYG48Zcv"
      },
      "source": [
        "model_2= XGBRegressor(random_state=random_state)\n",
        "param_search = {'max_depth' : [3, 5], 'learning_rate' : [0.1, 0.15]}"
      ],
      "execution_count": 23,
      "outputs": []
    },
    {
      "cell_type": "code",
      "metadata": {
        "colab": {
          "base_uri": "https://localhost:8080/"
        },
        "id": "DyvzPb3V8Zcv",
        "outputId": "5374c9df-4171-4cc9-e502-90ec13938e27"
      },
      "source": [
        "xgb_model = best_p(model_2, X_train, y_train, param_search=param_search)"
      ],
      "execution_count": 24,
      "outputs": [
        {
          "output_type": "stream",
          "name": "stdout",
          "text": [
            "[09:59:13] WARNING: /workspace/src/objective/regression_obj.cu:152: reg:linear is now deprecated in favor of reg:squarederror.\n",
            "[09:59:13] WARNING: /workspace/src/objective/regression_obj.cu:152: reg:linear is now deprecated in favor of reg:squarederror.\n",
            "[09:59:13] WARNING: /workspace/src/objective/regression_obj.cu:152: reg:linear is now deprecated in favor of reg:squarederror.\n",
            "[09:59:13] WARNING: /workspace/src/objective/regression_obj.cu:152: reg:linear is now deprecated in favor of reg:squarederror.\n",
            "[09:59:14] WARNING: /workspace/src/objective/regression_obj.cu:152: reg:linear is now deprecated in favor of reg:squarederror.\n",
            "[09:59:14] WARNING: /workspace/src/objective/regression_obj.cu:152: reg:linear is now deprecated in favor of reg:squarederror.\n",
            "[09:59:14] WARNING: /workspace/src/objective/regression_obj.cu:152: reg:linear is now deprecated in favor of reg:squarederror.\n",
            "[09:59:14] WARNING: /workspace/src/objective/regression_obj.cu:152: reg:linear is now deprecated in favor of reg:squarederror.\n",
            "[09:59:14] WARNING: /workspace/src/objective/regression_obj.cu:152: reg:linear is now deprecated in favor of reg:squarederror.\n",
            "{'learning_rate': 0.15, 'max_depth': 3}\n"
          ]
        }
      ]
    },
    {
      "cell_type": "code",
      "metadata": {
        "colab": {
          "base_uri": "https://localhost:8080/"
        },
        "id": "x6Zqk7bR8Zcw",
        "outputId": "64f5dbc0-c5ba-48be-d166-7dd12a2b5f52"
      },
      "source": [
        "xgb_rmse = test_model(model=xgb_model, X_train=X_train, y_train=y_train, y_test=y_test)\n",
        "print('XGBRegressor RMSE on test', xgb_rmse)"
      ],
      "execution_count": 25,
      "outputs": [
        {
          "output_type": "stream",
          "name": "stdout",
          "text": [
            "[09:59:20] WARNING: /workspace/src/objective/regression_obj.cu:152: reg:linear is now deprecated in favor of reg:squarederror.\n",
            "XGBRegressor RMSE on test 46.457466975909576\n"
          ]
        }
      ]
    },
    {
      "cell_type": "markdown",
      "metadata": {
        "id": "T4YonhGf8Zcw"
      },
      "source": [
        "### FBProphet"
      ]
    },
    {
      "cell_type": "code",
      "metadata": {
        "colab": {
          "base_uri": "https://localhost:8080/",
          "height": 204
        },
        "id": "f9o0gPoe8Zcx",
        "outputId": "7d10cbd4-e16e-4ce7-90dc-6e21b015195e"
      },
      "source": [
        "#reset index\n",
        "data = data.reset_index().dropna()\n",
        "data.head()"
      ],
      "execution_count": null,
      "outputs": [
        {
          "data": {
            "text/html": [
              "<div>\n",
              "<style scoped>\n",
              "    .dataframe tbody tr th:only-of-type {\n",
              "        vertical-align: middle;\n",
              "    }\n",
              "\n",
              "    .dataframe tbody tr th {\n",
              "        vertical-align: top;\n",
              "    }\n",
              "\n",
              "    .dataframe thead th {\n",
              "        text-align: right;\n",
              "    }\n",
              "</style>\n",
              "<table border=\"1\" class=\"dataframe\">\n",
              "  <thead>\n",
              "    <tr style=\"text-align: right;\">\n",
              "      <th></th>\n",
              "      <th>datetime</th>\n",
              "      <th>num_orders</th>\n",
              "      <th>year</th>\n",
              "      <th>month</th>\n",
              "      <th>day</th>\n",
              "      <th>dayofweek</th>\n",
              "      <th>moving_average</th>\n",
              "      <th>std</th>\n",
              "      <th>seasonality</th>\n",
              "      <th>lag_1</th>\n",
              "    </tr>\n",
              "  </thead>\n",
              "  <tbody>\n",
              "    <tr>\n",
              "      <th>55</th>\n",
              "      <td>2018-03-03 07:00:00</td>\n",
              "      <td>17</td>\n",
              "      <td>2018</td>\n",
              "      <td>3</td>\n",
              "      <td>3</td>\n",
              "      <td>5</td>\n",
              "      <td>59.963636</td>\n",
              "      <td>34.417891</td>\n",
              "      <td>-59.182671</td>\n",
              "      <td>9.0</td>\n",
              "    </tr>\n",
              "    <tr>\n",
              "      <th>56</th>\n",
              "      <td>2018-03-03 08:00:00</td>\n",
              "      <td>56</td>\n",
              "      <td>2018</td>\n",
              "      <td>3</td>\n",
              "      <td>3</td>\n",
              "      <td>5</td>\n",
              "      <td>58.018182</td>\n",
              "      <td>33.748795</td>\n",
              "      <td>-55.104461</td>\n",
              "      <td>17.0</td>\n",
              "    </tr>\n",
              "    <tr>\n",
              "      <th>57</th>\n",
              "      <td>2018-03-03 09:00:00</td>\n",
              "      <td>73</td>\n",
              "      <td>2018</td>\n",
              "      <td>3</td>\n",
              "      <td>3</td>\n",
              "      <td>5</td>\n",
              "      <td>57.490909</td>\n",
              "      <td>33.545366</td>\n",
              "      <td>-11.212840</td>\n",
              "      <td>56.0</td>\n",
              "    </tr>\n",
              "    <tr>\n",
              "      <th>58</th>\n",
              "      <td>2018-03-03 10:00:00</td>\n",
              "      <td>52</td>\n",
              "      <td>2018</td>\n",
              "      <td>3</td>\n",
              "      <td>3</td>\n",
              "      <td>5</td>\n",
              "      <td>57.527273</td>\n",
              "      <td>33.561361</td>\n",
              "      <td>4.443581</td>\n",
              "      <td>73.0</td>\n",
              "    </tr>\n",
              "    <tr>\n",
              "      <th>59</th>\n",
              "      <td>2018-03-03 11:00:00</td>\n",
              "      <td>57</td>\n",
              "      <td>2018</td>\n",
              "      <td>3</td>\n",
              "      <td>3</td>\n",
              "      <td>5</td>\n",
              "      <td>57.272727</td>\n",
              "      <td>33.548999</td>\n",
              "      <td>8.759269</td>\n",
              "      <td>52.0</td>\n",
              "    </tr>\n",
              "  </tbody>\n",
              "</table>\n",
              "</div>"
            ],
            "text/plain": [
              "              datetime  num_orders  year  ...        std  seasonality  lag_1\n",
              "55 2018-03-03 07:00:00          17  2018  ...  34.417891   -59.182671    9.0\n",
              "56 2018-03-03 08:00:00          56  2018  ...  33.748795   -55.104461   17.0\n",
              "57 2018-03-03 09:00:00          73  2018  ...  33.545366   -11.212840   56.0\n",
              "58 2018-03-03 10:00:00          52  2018  ...  33.561361     4.443581   73.0\n",
              "59 2018-03-03 11:00:00          57  2018  ...  33.548999     8.759269   52.0\n",
              "\n",
              "[5 rows x 10 columns]"
            ]
          },
          "execution_count": 102,
          "metadata": {},
          "output_type": "execute_result"
        }
      ]
    },
    {
      "cell_type": "code",
      "metadata": {
        "colab": {
          "base_uri": "https://localhost:8080/",
          "height": 1000,
          "referenced_widgets": [
            "7cbfc6cc4cc3420d849eb92a22088f7f",
            "427ec349f37448cdbad0780712b73c6a",
            "a4e6a73c238f44078cd2601b10fa4e68",
            "8419fc69d0164ea1a6d8a16057d747d5",
            "e2918d86ae3f4f1b8831dc12fc763796",
            "a294d2ebd4a84c87b9408f5190e531eb",
            "536b20a717ae4d0a88fa27b686b7faa1",
            "e0b61113dd5e45aa9731fce8302fb799",
            "445cc2cba0a4488b9008e2fdbb87c07d",
            "12946b41c14e448482ab2306c7801f5c",
            "5c487f8f31f7441b8cd5f5f24e29a953"
          ]
        },
        "id": "uqmcBxoZ8Zcx",
        "outputId": "f29cd7b1-69ff-4eb0-8a0c-52ee94eb6550"
      },
      "source": [
        "#rename necessary columns and fit the model\n",
        "data['y'] = data['num_orders']\n",
        "data['ds'] = data['datetime']\n",
        "\n",
        " \n",
        "m = Prophet(interval_width=0.95, daily_seasonality=True)\n",
        "m.fit(data)\n",
        "\n",
        "future = m.make_future_dataframe(periods=24, freq='H')\n",
        "      \n",
        "forecast = m.predict(future)\n",
        "plot1 = m.plot(forecast)\n",
        "plt2 = m.plot_components(forecast)\n",
        "  \n",
        "data_cv = cross_validation(m, initial='10 days', period='30 days', horizon = '30 days')\n",
        "data_p = performance_metrics(data_cv)\n",
        "data_p.mean()\n",
        "\n",
        "\n"
      ],
      "execution_count": null,
      "outputs": [
        {
          "name": "stderr",
          "output_type": "stream",
          "text": [
            "INFO:prophet:Disabling yearly seasonality. Run prophet with yearly_seasonality=True to override this.\n",
            "INFO:prophet:Making 5 forecasts with cutoffs between 2018-04-03 23:00:00 and 2018-08-01 23:00:00\n"
          ]
        },
        {
          "data": {
            "application/vnd.jupyter.widget-view+json": {
              "model_id": "7cbfc6cc4cc3420d849eb92a22088f7f",
              "version_major": 2,
              "version_minor": 0
            },
            "text/plain": [
              "  0%|          | 0/5 [00:00<?, ?it/s]"
            ]
          },
          "metadata": {},
          "output_type": "display_data"
        },
        {
          "name": "stderr",
          "output_type": "stream",
          "text": [
            "INFO:prophet:Skipping MAPE because y close to 0\n"
          ]
        },
        {
          "data": {
            "text/plain": [
              "horizon     16 days 12:00:00\n",
              "mse                  906.819\n",
              "rmse                 29.8732\n",
              "mae                  21.9205\n",
              "mdape               0.210059\n",
              "smape               0.265073\n",
              "coverage            0.888833\n",
              "dtype: object"
            ]
          },
          "execution_count": 103,
          "metadata": {},
          "output_type": "execute_result"
        },
        {
          "data": {
            "image/png": "[encoded data removed]",
            "text/plain": [
              "<Figure size 720x432 with 1 Axes>"
            ]
          },
          "metadata": {},
          "output_type": "display_data"
        },
        {
          "data": {
            "image/png": "[encoded data removed]",
            "text/plain": [
              "<Figure size 648x648 with 3 Axes>"
            ]
          },
          "metadata": {},
          "output_type": "display_data"
        }
      ]
    },
    {
      "cell_type": "code",
      "metadata": {
        "colab": {
          "base_uri": "https://localhost:8080/"
        },
        "id": "G33X0j0Z8Zcx",
        "outputId": "fee3529d-da76-48c8-9313-8537139d729e"
      },
      "source": [
        "#metrics\n",
        "data_p.mean()"
      ],
      "execution_count": null,
      "outputs": [
        {
          "data": {
            "text/plain": [
              "horizon     16 days 12:00:00\n",
              "mse                  906.819\n",
              "rmse                 29.8732\n",
              "mae                  21.9205\n",
              "mdape               0.210059\n",
              "smape               0.265073\n",
              "coverage            0.888833\n",
              "dtype: object"
            ]
          },
          "execution_count": 104,
          "metadata": {},
          "output_type": "execute_result"
        }
      ]
    },
    {
      "cell_type": "markdown",
      "metadata": {
        "id": "Mrc1zvXb8Zcz"
      },
      "source": [
        "## Models Analysis"
      ]
    },
    {
      "cell_type": "code",
      "metadata": {
        "colab": {
          "base_uri": "https://localhost:8080/"
        },
        "id": "stLtrBC08Zc0",
        "outputId": "37c8fb6b-d896-47e6-fae6-3b2cdafb0130"
      },
      "source": [
        "#run the test by median constant model\n",
        "print(\"Daily average number of orders:\", test['num_orders'].mean())\n",
        "\n",
        "pred_median = np.ones(test['num_orders'].shape) * np.median(train['num_orders'].values)\n",
        "\n",
        "print(\"RMSE:\", (mean_squared_error(test['num_orders'], pred_median)) ** 0.5)"
      ],
      "execution_count": 26,
      "outputs": [
        {
          "output_type": "stream",
          "name": "stdout",
          "text": [
            "Daily average number of orders: 139.55656108597285\n",
            "RMSE: 87.15277582981295\n"
          ]
        }
      ]
    },
    {
      "cell_type": "code",
      "metadata": {
        "colab": {
          "base_uri": "https://localhost:8080/",
          "height": 143
        },
        "id": "msig7p7l8Zc0",
        "outputId": "fce7e9ee-e81e-4c2d-e5ed-46d2064053a5"
      },
      "source": [
        "#put all metrics together and check out the results\n",
        "metrics = [lr_rmse, lgbmr_rmse, xgb_rmse]\n",
        "\n",
        "metrics = pd.DataFrame(metrics,\n",
        "                        index = ['LinearRegression', 'LightGBMRegressor', 'XGBRegressor'], columns = ['RMSE'])\n",
        "metrics"
      ],
      "execution_count": 27,
      "outputs": [
        {
          "output_type": "execute_result",
          "data": {
            "text/html": [
              "\n",
              "  <div id=\"df-a238b8e7-c074-4f92-abbb-36136a984ad0\">\n",
              "    <div class=\"colab-df-container\">\n",
              "      <div>\n",
              "<style scoped>\n",
              "    .dataframe tbody tr th:only-of-type {\n",
              "        vertical-align: middle;\n",
              "    }\n",
              "\n",
              "    .dataframe tbody tr th {\n",
              "        vertical-align: top;\n",
              "    }\n",
              "\n",
              "    .dataframe thead th {\n",
              "        text-align: right;\n",
              "    }\n",
              "</style>\n",
              "<table border=\"1\" class=\"dataframe\">\n",
              "  <thead>\n",
              "    <tr style=\"text-align: right;\">\n",
              "      <th></th>\n",
              "      <th>RMSE</th>\n",
              "    </tr>\n",
              "  </thead>\n",
              "  <tbody>\n",
              "    <tr>\n",
              "      <th>LinearRegression</th>\n",
              "      <td>52.937926</td>\n",
              "    </tr>\n",
              "    <tr>\n",
              "      <th>LightGBMRegressor</th>\n",
              "      <td>42.133474</td>\n",
              "    </tr>\n",
              "    <tr>\n",
              "      <th>XGBRegressor</th>\n",
              "      <td>46.457467</td>\n",
              "    </tr>\n",
              "  </tbody>\n",
              "</table>\n",
              "</div>\n",
              "      <button class=\"colab-df-convert\" onclick=\"convertToInteractive('df-a238b8e7-c074-4f92-abbb-36136a984ad0')\"\n",
              "              title=\"Convert this dataframe to an interactive table.\"\n",
              "              style=\"display:none;\">\n",
              "        \n",
              "  <svg xmlns=\"http://www.w3.org/2000/svg\" height=\"24px\"viewBox=\"0 0 24 24\"\n",
              "       width=\"24px\">\n",
              "    <path d=\"M0 0h24v24H0V0z\" fill=\"none\"/>\n",
              "    <path d=\"M18.56 5.44l.94 2.06.94-2.06 2.06-.94-2.06-.94-.94-2.06-.94 2.06-2.06.94zm-11 1L8.5 8.5l.94-2.06 2.06-.94-2.06-.94L8.5 2.5l-.94 2.06-2.06.94zm10 10l.94 2.06.94-2.06 2.06-.94-2.06-.94-.94-2.06-.94 2.06-2.06.94z\"/><path d=\"M17.41 7.96l-1.37-1.37c-.4-.4-.92-.59-1.43-.59-.52 0-1.04.2-1.43.59L10.3 9.45l-7.72 7.72c-.78.78-.78 2.05 0 2.83L4 21.41c.39.39.9.59 1.41.59.51 0 1.02-.2 1.41-.59l7.78-7.78 2.81-2.81c.8-.78.8-2.07 0-2.86zM5.41 20L4 18.59l7.72-7.72 1.47 1.35L5.41 20z\"/>\n",
              "  </svg>\n",
              "      </button>\n",
              "      \n",
              "  <style>\n",
              "    .colab-df-container {\n",
              "      display:flex;\n",
              "      flex-wrap:wrap;\n",
              "      gap: 12px;\n",
              "    }\n",
              "\n",
              "    .colab-df-convert {\n",
              "      background-color: #E8F0FE;\n",
              "      border: none;\n",
              "      border-radius: 50%;\n",
              "      cursor: pointer;\n",
              "      display: none;\n",
              "      fill: #1967D2;\n",
              "      height: 32px;\n",
              "      padding: 0 0 0 0;\n",
              "      width: 32px;\n",
              "    }\n",
              "\n",
              "    .colab-df-convert:hover {\n",
              "      background-color: #E2EBFA;\n",
              "      box-shadow: 0px 1px 2px rgba(60, 64, 67, 0.3), 0px 1px 3px 1px rgba(60, 64, 67, 0.15);\n",
              "      fill: #174EA6;\n",
              "    }\n",
              "\n",
              "    [theme=dark] .colab-df-convert {\n",
              "      background-color: #3B4455;\n",
              "      fill: #D2E3FC;\n",
              "    }\n",
              "\n",
              "    [theme=dark] .colab-df-convert:hover {\n",
              "      background-color: #434B5C;\n",
              "      box-shadow: 0px 1px 3px 1px rgba(0, 0, 0, 0.15);\n",
              "      filter: drop-shadow(0px 1px 2px rgba(0, 0, 0, 0.3));\n",
              "      fill: #FFFFFF;\n",
              "    }\n",
              "  </style>\n",
              "\n",
              "      <script>\n",
              "        const buttonEl =\n",
              "          document.querySelector('#df-a238b8e7-c074-4f92-abbb-36136a984ad0 button.colab-df-convert');\n",
              "        buttonEl.style.display =\n",
              "          google.colab.kernel.accessAllowed ? 'block' : 'none';\n",
              "\n",
              "        async function convertToInteractive(key) {\n",
              "          const element = document.querySelector('#df-a238b8e7-c074-4f92-abbb-36136a984ad0');\n",
              "          const dataTable =\n",
              "            await google.colab.kernel.invokeFunction('convertToInteractive',\n",
              "                                                     [key], {});\n",
              "          if (!dataTable) return;\n",
              "\n",
              "          const docLinkHtml = 'Like what you see? Visit the ' +\n",
              "            '<a target=\"_blank\" href=https://colab.research.google.com/notebooks/data_table.ipynb>data table notebook</a>'\n",
              "            + ' to learn more about interactive tables.';\n",
              "          element.innerHTML = '';\n",
              "          dataTable['output_type'] = 'display_data';\n",
              "          await google.colab.output.renderOutput(dataTable, element);\n",
              "          const docLink = document.createElement('div');\n",
              "          docLink.innerHTML = docLinkHtml;\n",
              "          element.appendChild(docLink);\n",
              "        }\n",
              "      </script>\n",
              "    </div>\n",
              "  </div>\n",
              "  "
            ],
            "text/plain": [
              "                        RMSE\n",
              "LinearRegression   52.937926\n",
              "LightGBMRegressor  42.133474\n",
              "XGBRegressor       46.457467"
            ]
          },
          "metadata": {},
          "execution_count": 27
        }
      ]
    },
    {
      "cell_type": "code",
      "metadata": {
        "colab": {
          "base_uri": "https://localhost:8080/",
          "height": 628
        },
        "id": "aSPJgqGJ8Zc0",
        "outputId": "d661fa54-86e8-4eb2-eedd-9d5f23aed27d"
      },
      "source": [
        "metrics.plot(figsize=(16,8), kind='bar')\n",
        "plt.suptitle('Models comparison', fontsize=20, y=.95)\n",
        "plt.legend(loc=1, prop={'size': 20})\n",
        "plt.axhline(48, color='red', label='treshold line')\n",
        "plt.legend(loc=\"higher right\", bbox_to_anchor=(0.5, 0.45, 0.5, 0.5))"
      ],
      "execution_count": null,
      "outputs": [
        {
          "data": {
            "text/plain": [
              "<matplotlib.legend.Legend at 0x7f075e038710>"
            ]
          },
          "execution_count": 107,
          "metadata": {},
          "output_type": "execute_result"
        },
        {
          "data": {
            "image/png": "[encoded data removed]",
            "text/plain": [
              "<Figure size 1152x576 with 1 Axes>"
            ]
          },
          "metadata": {
            "needs_background": "light"
          },
          "output_type": "display_data"
        }
      ]
    },
    {
      "cell_type": "code",
      "metadata": {
        "colab": {
          "base_uri": "https://localhost:8080/",
          "height": 551
        },
        "id": "n6jP5tAE4QcB",
        "outputId": "90a91a86-3fd5-4151-8334-bd8fe4351dc7"
      },
      "source": [
        "#plot predictions and targets\n",
        "pd.DataFrame(lgbm_model.predict(X_test), index=X_test.index, columns=['predict']).plot(figsize = (14, 8), \n",
        "                                                                                       title = 'Model prediction and true value comparison')\n",
        "y_test.plot()\n",
        "plt.legend(loc=\"higher right\", bbox_to_anchor=(0.55, 0.45, 0.5, 0.5))\n"
      ],
      "execution_count": 28,
      "outputs": [
        {
          "output_type": "execute_result",
          "data": {
            "text/plain": [
              "<matplotlib.legend.Legend at 0x7fa1aea55bd0>"
            ]
          },
          "metadata": {},
          "execution_count": 28
        },
        {
          "output_type": "display_data",
          "data": {
            "image/png": "[encoded data removed]",
            "text/plain": [
              "<Figure size 1008x576 with 1 Axes>"
            ]
          },
          "metadata": {
            "needs_background": "light"
          }
        }
      ]
    },
    {
      "cell_type": "markdown",
      "metadata": {
        "id": "EXZ_NcB58Zc0"
      },
      "source": [
        "## General Conclusion"
      ]
    },
    {
      "cell_type": "markdown",
      "metadata": {
        "id": "69wLelC_8Zc2"
      },
      "source": [
        "In this project we built models to predict numbers of taxi orders, each of them passes a test by median constant model. Two of them match requirements (RMSE less then 48). The most accuracy results shows LightGBMRegressor - 48. FBProphet hits 29.9, but it evaluated by cross-validation on whole dataset (not just on test data like others). Which means we can compare them. Also I'm pretty sure we can get better results by tuning parametres of make_features function (max_lag and moving_average_size).   \n",
        "\n"
      ]
    }
  ]
}