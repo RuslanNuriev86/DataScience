{
 "cells": [
  {
   "cell_type": "markdown",
   "metadata": {},
   "source": [
    "# Mobile Phone Tariffs Analisys"
   ]
  },
  {
   "cell_type": "markdown",
   "metadata": {},
   "source": [
    "Mobile phone operator offers to it's clients two tariifs: \"Smart\" and \"Ultra\". To build commercial budget marketing department needs to find out which one of them is more profitable.\n",
    "\n",
    "Here are the deals:\n",
    "\n",
    "\"Smart\"\n",
    "- monthly payment - 550 rubles\n",
    "- 500 minutes of calls, 50 texts and 15 gb of data are included\n",
    "- 3 rubles for 1 extra minute, 3 rubles for 1 extra text and 200 rubles for 1 extra gb \n",
    "\n",
    "\"Ultra\"\n",
    "- monthly payment - 1950 rubles\n",
    "- 3000 minutes of calls, 1000 texts and 30 gb of data are included\n",
    "- 1 ruble for 1 extra minute, 1 rubles for 1 extra text and 150 rubles for 1 extra gb"
   ]
  },
  {
   "cell_type": "markdown",
   "metadata": {},
   "source": [
    "## Data Exploration"
   ]
  },
  {
   "cell_type": "code",
   "execution_count": 1,
   "metadata": {},
   "outputs": [],
   "source": [
    "#libraries importing and data loading\n",
    "import pandas as pd\n",
    "import numpy as np\n",
    "import seaborn as sns\n",
    "import matplotlib.pyplot as plt\n",
    "from scipy import stats as st\n",
    "\n",
    "\n",
    "calls = pd.read_csv('/datasets/calls.csv')\n",
    "internet = pd.read_csv('/datasets/internet.csv')\n",
    "messages = pd.read_csv('/datasets/messages.csv')\n",
    "tariffs = pd.read_csv('/datasets/tariffs.csv')\n",
    "users = pd.read_csv('/datasets/users.csv')\n",
    "\n"
   ]
  },
  {
   "cell_type": "code",
   "execution_count": 2,
   "metadata": {
    "scrolled": false
   },
   "outputs": [
    {
     "name": "stdout",
     "output_type": "stream",
     "text": [
      "<class 'pandas.core.frame.DataFrame'>\n",
      "RangeIndex: 202607 entries, 0 to 202606\n",
      "Data columns (total 4 columns):\n",
      "id           202607 non-null object\n",
      "call_date    202607 non-null object\n",
      "duration     202607 non-null float64\n",
      "user_id      202607 non-null int64\n",
      "dtypes: float64(1), int64(1), object(2)\n",
      "memory usage: 6.2+ MB\n"
     ]
    },
    {
     "data": {
      "text/html": [
       "<div>\n",
       "<style scoped>\n",
       "    .dataframe tbody tr th:only-of-type {\n",
       "        vertical-align: middle;\n",
       "    }\n",
       "\n",
       "    .dataframe tbody tr th {\n",
       "        vertical-align: top;\n",
       "    }\n",
       "\n",
       "    .dataframe thead th {\n",
       "        text-align: right;\n",
       "    }\n",
       "</style>\n",
       "<table border=\"1\" class=\"dataframe\">\n",
       "  <thead>\n",
       "    <tr style=\"text-align: right;\">\n",
       "      <th></th>\n",
       "      <th>id</th>\n",
       "      <th>call_date</th>\n",
       "      <th>duration</th>\n",
       "      <th>user_id</th>\n",
       "    </tr>\n",
       "  </thead>\n",
       "  <tbody>\n",
       "    <tr>\n",
       "      <td>0</td>\n",
       "      <td>1000_0</td>\n",
       "      <td>2018-07-25</td>\n",
       "      <td>0.00</td>\n",
       "      <td>1000</td>\n",
       "    </tr>\n",
       "    <tr>\n",
       "      <td>1</td>\n",
       "      <td>1000_1</td>\n",
       "      <td>2018-08-17</td>\n",
       "      <td>0.00</td>\n",
       "      <td>1000</td>\n",
       "    </tr>\n",
       "    <tr>\n",
       "      <td>2</td>\n",
       "      <td>1000_2</td>\n",
       "      <td>2018-06-11</td>\n",
       "      <td>2.85</td>\n",
       "      <td>1000</td>\n",
       "    </tr>\n",
       "    <tr>\n",
       "      <td>3</td>\n",
       "      <td>1000_3</td>\n",
       "      <td>2018-09-21</td>\n",
       "      <td>13.80</td>\n",
       "      <td>1000</td>\n",
       "    </tr>\n",
       "    <tr>\n",
       "      <td>4</td>\n",
       "      <td>1000_4</td>\n",
       "      <td>2018-12-15</td>\n",
       "      <td>5.18</td>\n",
       "      <td>1000</td>\n",
       "    </tr>\n",
       "  </tbody>\n",
       "</table>\n",
       "</div>"
      ],
      "text/plain": [
       "       id   call_date  duration  user_id\n",
       "0  1000_0  2018-07-25      0.00     1000\n",
       "1  1000_1  2018-08-17      0.00     1000\n",
       "2  1000_2  2018-06-11      2.85     1000\n",
       "3  1000_3  2018-09-21     13.80     1000\n",
       "4  1000_4  2018-12-15      5.18     1000"
      ]
     },
     "execution_count": 2,
     "metadata": {},
     "output_type": "execute_result"
    }
   ],
   "source": [
    "#explore each of them\n",
    "calls.info()\n",
    "calls.head()\n"
   ]
  },
  {
   "cell_type": "code",
   "execution_count": 3,
   "metadata": {},
   "outputs": [
    {
     "data": {
      "text/html": [
       "<div>\n",
       "<style scoped>\n",
       "    .dataframe tbody tr th:only-of-type {\n",
       "        vertical-align: middle;\n",
       "    }\n",
       "\n",
       "    .dataframe tbody tr th {\n",
       "        vertical-align: top;\n",
       "    }\n",
       "\n",
       "    .dataframe thead th {\n",
       "        text-align: right;\n",
       "    }\n",
       "</style>\n",
       "<table border=\"1\" class=\"dataframe\">\n",
       "  <thead>\n",
       "    <tr style=\"text-align: right;\">\n",
       "      <th></th>\n",
       "      <th>duration</th>\n",
       "      <th>user_id</th>\n",
       "    </tr>\n",
       "  </thead>\n",
       "  <tbody>\n",
       "    <tr>\n",
       "      <td>count</td>\n",
       "      <td>202607.000000</td>\n",
       "      <td>202607.000000</td>\n",
       "    </tr>\n",
       "    <tr>\n",
       "      <td>mean</td>\n",
       "      <td>6.755887</td>\n",
       "      <td>1253.940619</td>\n",
       "    </tr>\n",
       "    <tr>\n",
       "      <td>std</td>\n",
       "      <td>5.843365</td>\n",
       "      <td>144.722751</td>\n",
       "    </tr>\n",
       "    <tr>\n",
       "      <td>min</td>\n",
       "      <td>0.000000</td>\n",
       "      <td>1000.000000</td>\n",
       "    </tr>\n",
       "    <tr>\n",
       "      <td>25%</td>\n",
       "      <td>1.300000</td>\n",
       "      <td>1126.000000</td>\n",
       "    </tr>\n",
       "    <tr>\n",
       "      <td>50%</td>\n",
       "      <td>6.000000</td>\n",
       "      <td>1260.000000</td>\n",
       "    </tr>\n",
       "    <tr>\n",
       "      <td>75%</td>\n",
       "      <td>10.700000</td>\n",
       "      <td>1379.000000</td>\n",
       "    </tr>\n",
       "    <tr>\n",
       "      <td>max</td>\n",
       "      <td>38.000000</td>\n",
       "      <td>1499.000000</td>\n",
       "    </tr>\n",
       "  </tbody>\n",
       "</table>\n",
       "</div>"
      ],
      "text/plain": [
       "            duration        user_id\n",
       "count  202607.000000  202607.000000\n",
       "mean        6.755887    1253.940619\n",
       "std         5.843365     144.722751\n",
       "min         0.000000    1000.000000\n",
       "25%         1.300000    1126.000000\n",
       "50%         6.000000    1260.000000\n",
       "75%        10.700000    1379.000000\n",
       "max        38.000000    1499.000000"
      ]
     },
     "execution_count": 3,
     "metadata": {},
     "output_type": "execute_result"
    }
   ],
   "source": [
    "calls.describe()\n"
   ]
  },
  {
   "cell_type": "code",
   "execution_count": 4,
   "metadata": {},
   "outputs": [
    {
     "data": {
      "text/plain": [
       "0.19551644316336553"
      ]
     },
     "execution_count": 4,
     "metadata": {},
     "output_type": "execute_result"
    }
   ],
   "source": [
    "#see how many 0 duration calls\n",
    "len(calls.query('duration == 0')) / len(calls)"
   ]
  },
  {
   "cell_type": "code",
   "execution_count": 5,
   "metadata": {},
   "outputs": [
    {
     "name": "stdout",
     "output_type": "stream",
     "text": [
      "<class 'pandas.core.frame.DataFrame'>\n",
      "RangeIndex: 149396 entries, 0 to 149395\n",
      "Data columns (total 5 columns):\n",
      "Unnamed: 0      149396 non-null int64\n",
      "id              149396 non-null object\n",
      "mb_used         149396 non-null float64\n",
      "session_date    149396 non-null object\n",
      "user_id         149396 non-null int64\n",
      "dtypes: float64(1), int64(2), object(2)\n",
      "memory usage: 5.7+ MB\n"
     ]
    },
    {
     "data": {
      "text/html": [
       "<div>\n",
       "<style scoped>\n",
       "    .dataframe tbody tr th:only-of-type {\n",
       "        vertical-align: middle;\n",
       "    }\n",
       "\n",
       "    .dataframe tbody tr th {\n",
       "        vertical-align: top;\n",
       "    }\n",
       "\n",
       "    .dataframe thead th {\n",
       "        text-align: right;\n",
       "    }\n",
       "</style>\n",
       "<table border=\"1\" class=\"dataframe\">\n",
       "  <thead>\n",
       "    <tr style=\"text-align: right;\">\n",
       "      <th></th>\n",
       "      <th>Unnamed: 0</th>\n",
       "      <th>id</th>\n",
       "      <th>mb_used</th>\n",
       "      <th>session_date</th>\n",
       "      <th>user_id</th>\n",
       "    </tr>\n",
       "  </thead>\n",
       "  <tbody>\n",
       "    <tr>\n",
       "      <td>0</td>\n",
       "      <td>0</td>\n",
       "      <td>1000_0</td>\n",
       "      <td>112.95</td>\n",
       "      <td>2018-11-25</td>\n",
       "      <td>1000</td>\n",
       "    </tr>\n",
       "    <tr>\n",
       "      <td>1</td>\n",
       "      <td>1</td>\n",
       "      <td>1000_1</td>\n",
       "      <td>1052.81</td>\n",
       "      <td>2018-09-07</td>\n",
       "      <td>1000</td>\n",
       "    </tr>\n",
       "    <tr>\n",
       "      <td>2</td>\n",
       "      <td>2</td>\n",
       "      <td>1000_2</td>\n",
       "      <td>1197.26</td>\n",
       "      <td>2018-06-25</td>\n",
       "      <td>1000</td>\n",
       "    </tr>\n",
       "    <tr>\n",
       "      <td>3</td>\n",
       "      <td>3</td>\n",
       "      <td>1000_3</td>\n",
       "      <td>550.27</td>\n",
       "      <td>2018-08-22</td>\n",
       "      <td>1000</td>\n",
       "    </tr>\n",
       "    <tr>\n",
       "      <td>4</td>\n",
       "      <td>4</td>\n",
       "      <td>1000_4</td>\n",
       "      <td>302.56</td>\n",
       "      <td>2018-09-24</td>\n",
       "      <td>1000</td>\n",
       "    </tr>\n",
       "  </tbody>\n",
       "</table>\n",
       "</div>"
      ],
      "text/plain": [
       "   Unnamed: 0      id  mb_used session_date  user_id\n",
       "0           0  1000_0   112.95   2018-11-25     1000\n",
       "1           1  1000_1  1052.81   2018-09-07     1000\n",
       "2           2  1000_2  1197.26   2018-06-25     1000\n",
       "3           3  1000_3   550.27   2018-08-22     1000\n",
       "4           4  1000_4   302.56   2018-09-24     1000"
      ]
     },
     "execution_count": 5,
     "metadata": {},
     "output_type": "execute_result"
    }
   ],
   "source": [
    "internet.info()\n",
    "internet.head()"
   ]
  },
  {
   "cell_type": "code",
   "execution_count": 6,
   "metadata": {},
   "outputs": [
    {
     "data": {
      "text/html": [
       "<div>\n",
       "<style scoped>\n",
       "    .dataframe tbody tr th:only-of-type {\n",
       "        vertical-align: middle;\n",
       "    }\n",
       "\n",
       "    .dataframe tbody tr th {\n",
       "        vertical-align: top;\n",
       "    }\n",
       "\n",
       "    .dataframe thead th {\n",
       "        text-align: right;\n",
       "    }\n",
       "</style>\n",
       "<table border=\"1\" class=\"dataframe\">\n",
       "  <thead>\n",
       "    <tr style=\"text-align: right;\">\n",
       "      <th></th>\n",
       "      <th>Unnamed: 0</th>\n",
       "      <th>mb_used</th>\n",
       "      <th>user_id</th>\n",
       "    </tr>\n",
       "  </thead>\n",
       "  <tbody>\n",
       "    <tr>\n",
       "      <td>count</td>\n",
       "      <td>149396.000000</td>\n",
       "      <td>149396.000000</td>\n",
       "      <td>149396.000000</td>\n",
       "    </tr>\n",
       "    <tr>\n",
       "      <td>mean</td>\n",
       "      <td>74697.500000</td>\n",
       "      <td>370.192426</td>\n",
       "      <td>1252.099842</td>\n",
       "    </tr>\n",
       "    <tr>\n",
       "      <td>std</td>\n",
       "      <td>43127.054745</td>\n",
       "      <td>278.300951</td>\n",
       "      <td>144.050823</td>\n",
       "    </tr>\n",
       "    <tr>\n",
       "      <td>min</td>\n",
       "      <td>0.000000</td>\n",
       "      <td>0.000000</td>\n",
       "      <td>1000.000000</td>\n",
       "    </tr>\n",
       "    <tr>\n",
       "      <td>25%</td>\n",
       "      <td>37348.750000</td>\n",
       "      <td>138.187500</td>\n",
       "      <td>1130.000000</td>\n",
       "    </tr>\n",
       "    <tr>\n",
       "      <td>50%</td>\n",
       "      <td>74697.500000</td>\n",
       "      <td>348.015000</td>\n",
       "      <td>1251.000000</td>\n",
       "    </tr>\n",
       "    <tr>\n",
       "      <td>75%</td>\n",
       "      <td>112046.250000</td>\n",
       "      <td>559.552500</td>\n",
       "      <td>1380.000000</td>\n",
       "    </tr>\n",
       "    <tr>\n",
       "      <td>max</td>\n",
       "      <td>149395.000000</td>\n",
       "      <td>1724.830000</td>\n",
       "      <td>1499.000000</td>\n",
       "    </tr>\n",
       "  </tbody>\n",
       "</table>\n",
       "</div>"
      ],
      "text/plain": [
       "          Unnamed: 0        mb_used        user_id\n",
       "count  149396.000000  149396.000000  149396.000000\n",
       "mean    74697.500000     370.192426    1252.099842\n",
       "std     43127.054745     278.300951     144.050823\n",
       "min         0.000000       0.000000    1000.000000\n",
       "25%     37348.750000     138.187500    1130.000000\n",
       "50%     74697.500000     348.015000    1251.000000\n",
       "75%    112046.250000     559.552500    1380.000000\n",
       "max    149395.000000    1724.830000    1499.000000"
      ]
     },
     "execution_count": 6,
     "metadata": {},
     "output_type": "execute_result"
    }
   ],
   "source": [
    "internet.describe()"
   ]
  },
  {
   "cell_type": "code",
   "execution_count": 7,
   "metadata": {},
   "outputs": [
    {
     "name": "stdout",
     "output_type": "stream",
     "text": [
      "<class 'pandas.core.frame.DataFrame'>\n",
      "RangeIndex: 123036 entries, 0 to 123035\n",
      "Data columns (total 3 columns):\n",
      "id              123036 non-null object\n",
      "message_date    123036 non-null object\n",
      "user_id         123036 non-null int64\n",
      "dtypes: int64(1), object(2)\n",
      "memory usage: 2.8+ MB\n"
     ]
    },
    {
     "data": {
      "text/html": [
       "<div>\n",
       "<style scoped>\n",
       "    .dataframe tbody tr th:only-of-type {\n",
       "        vertical-align: middle;\n",
       "    }\n",
       "\n",
       "    .dataframe tbody tr th {\n",
       "        vertical-align: top;\n",
       "    }\n",
       "\n",
       "    .dataframe thead th {\n",
       "        text-align: right;\n",
       "    }\n",
       "</style>\n",
       "<table border=\"1\" class=\"dataframe\">\n",
       "  <thead>\n",
       "    <tr style=\"text-align: right;\">\n",
       "      <th></th>\n",
       "      <th>id</th>\n",
       "      <th>message_date</th>\n",
       "      <th>user_id</th>\n",
       "    </tr>\n",
       "  </thead>\n",
       "  <tbody>\n",
       "    <tr>\n",
       "      <td>0</td>\n",
       "      <td>1000_0</td>\n",
       "      <td>2018-06-27</td>\n",
       "      <td>1000</td>\n",
       "    </tr>\n",
       "    <tr>\n",
       "      <td>1</td>\n",
       "      <td>1000_1</td>\n",
       "      <td>2018-10-08</td>\n",
       "      <td>1000</td>\n",
       "    </tr>\n",
       "    <tr>\n",
       "      <td>2</td>\n",
       "      <td>1000_2</td>\n",
       "      <td>2018-08-04</td>\n",
       "      <td>1000</td>\n",
       "    </tr>\n",
       "    <tr>\n",
       "      <td>3</td>\n",
       "      <td>1000_3</td>\n",
       "      <td>2018-06-16</td>\n",
       "      <td>1000</td>\n",
       "    </tr>\n",
       "    <tr>\n",
       "      <td>4</td>\n",
       "      <td>1000_4</td>\n",
       "      <td>2018-12-05</td>\n",
       "      <td>1000</td>\n",
       "    </tr>\n",
       "  </tbody>\n",
       "</table>\n",
       "</div>"
      ],
      "text/plain": [
       "       id message_date  user_id\n",
       "0  1000_0   2018-06-27     1000\n",
       "1  1000_1   2018-10-08     1000\n",
       "2  1000_2   2018-08-04     1000\n",
       "3  1000_3   2018-06-16     1000\n",
       "4  1000_4   2018-12-05     1000"
      ]
     },
     "execution_count": 7,
     "metadata": {},
     "output_type": "execute_result"
    }
   ],
   "source": [
    "messages.info()\n",
    "messages.head()"
   ]
  },
  {
   "cell_type": "code",
   "execution_count": 8,
   "metadata": {},
   "outputs": [
    {
     "data": {
      "text/html": [
       "<div>\n",
       "<style scoped>\n",
       "    .dataframe tbody tr th:only-of-type {\n",
       "        vertical-align: middle;\n",
       "    }\n",
       "\n",
       "    .dataframe tbody tr th {\n",
       "        vertical-align: top;\n",
       "    }\n",
       "\n",
       "    .dataframe thead th {\n",
       "        text-align: right;\n",
       "    }\n",
       "</style>\n",
       "<table border=\"1\" class=\"dataframe\">\n",
       "  <thead>\n",
       "    <tr style=\"text-align: right;\">\n",
       "      <th></th>\n",
       "      <th>user_id</th>\n",
       "    </tr>\n",
       "  </thead>\n",
       "  <tbody>\n",
       "    <tr>\n",
       "      <td>count</td>\n",
       "      <td>123036.000000</td>\n",
       "    </tr>\n",
       "    <tr>\n",
       "      <td>mean</td>\n",
       "      <td>1256.989410</td>\n",
       "    </tr>\n",
       "    <tr>\n",
       "      <td>std</td>\n",
       "      <td>143.523967</td>\n",
       "    </tr>\n",
       "    <tr>\n",
       "      <td>min</td>\n",
       "      <td>1000.000000</td>\n",
       "    </tr>\n",
       "    <tr>\n",
       "      <td>25%</td>\n",
       "      <td>1134.000000</td>\n",
       "    </tr>\n",
       "    <tr>\n",
       "      <td>50%</td>\n",
       "      <td>1271.000000</td>\n",
       "    </tr>\n",
       "    <tr>\n",
       "      <td>75%</td>\n",
       "      <td>1381.000000</td>\n",
       "    </tr>\n",
       "    <tr>\n",
       "      <td>max</td>\n",
       "      <td>1499.000000</td>\n",
       "    </tr>\n",
       "  </tbody>\n",
       "</table>\n",
       "</div>"
      ],
      "text/plain": [
       "             user_id\n",
       "count  123036.000000\n",
       "mean     1256.989410\n",
       "std       143.523967\n",
       "min      1000.000000\n",
       "25%      1134.000000\n",
       "50%      1271.000000\n",
       "75%      1381.000000\n",
       "max      1499.000000"
      ]
     },
     "execution_count": 8,
     "metadata": {},
     "output_type": "execute_result"
    }
   ],
   "source": [
    "messages.describe()"
   ]
  },
  {
   "cell_type": "code",
   "execution_count": 9,
   "metadata": {},
   "outputs": [
    {
     "name": "stdout",
     "output_type": "stream",
     "text": [
      "<class 'pandas.core.frame.DataFrame'>\n",
      "RangeIndex: 2 entries, 0 to 1\n",
      "Data columns (total 8 columns):\n",
      "messages_included        2 non-null int64\n",
      "mb_per_month_included    2 non-null int64\n",
      "minutes_included         2 non-null int64\n",
      "rub_monthly_fee          2 non-null int64\n",
      "rub_per_gb               2 non-null int64\n",
      "rub_per_message          2 non-null int64\n",
      "rub_per_minute           2 non-null int64\n",
      "tariff_name              2 non-null object\n",
      "dtypes: int64(7), object(1)\n",
      "memory usage: 256.0+ bytes\n"
     ]
    },
    {
     "data": {
      "text/html": [
       "<div>\n",
       "<style scoped>\n",
       "    .dataframe tbody tr th:only-of-type {\n",
       "        vertical-align: middle;\n",
       "    }\n",
       "\n",
       "    .dataframe tbody tr th {\n",
       "        vertical-align: top;\n",
       "    }\n",
       "\n",
       "    .dataframe thead th {\n",
       "        text-align: right;\n",
       "    }\n",
       "</style>\n",
       "<table border=\"1\" class=\"dataframe\">\n",
       "  <thead>\n",
       "    <tr style=\"text-align: right;\">\n",
       "      <th></th>\n",
       "      <th>messages_included</th>\n",
       "      <th>mb_per_month_included</th>\n",
       "      <th>minutes_included</th>\n",
       "      <th>rub_monthly_fee</th>\n",
       "      <th>rub_per_gb</th>\n",
       "      <th>rub_per_message</th>\n",
       "      <th>rub_per_minute</th>\n",
       "      <th>tariff_name</th>\n",
       "    </tr>\n",
       "  </thead>\n",
       "  <tbody>\n",
       "    <tr>\n",
       "      <td>0</td>\n",
       "      <td>50</td>\n",
       "      <td>15360</td>\n",
       "      <td>500</td>\n",
       "      <td>550</td>\n",
       "      <td>200</td>\n",
       "      <td>3</td>\n",
       "      <td>3</td>\n",
       "      <td>smart</td>\n",
       "    </tr>\n",
       "    <tr>\n",
       "      <td>1</td>\n",
       "      <td>1000</td>\n",
       "      <td>30720</td>\n",
       "      <td>3000</td>\n",
       "      <td>1950</td>\n",
       "      <td>150</td>\n",
       "      <td>1</td>\n",
       "      <td>1</td>\n",
       "      <td>ultra</td>\n",
       "    </tr>\n",
       "  </tbody>\n",
       "</table>\n",
       "</div>"
      ],
      "text/plain": [
       "   messages_included  mb_per_month_included  minutes_included  \\\n",
       "0                 50                  15360               500   \n",
       "1               1000                  30720              3000   \n",
       "\n",
       "   rub_monthly_fee  rub_per_gb  rub_per_message  rub_per_minute tariff_name  \n",
       "0              550         200                3               3       smart  \n",
       "1             1950         150                1               1       ultra  "
      ]
     },
     "execution_count": 9,
     "metadata": {},
     "output_type": "execute_result"
    }
   ],
   "source": [
    "tariffs.info()\n",
    "tariffs.head()"
   ]
  },
  {
   "cell_type": "code",
   "execution_count": 10,
   "metadata": {},
   "outputs": [
    {
     "name": "stdout",
     "output_type": "stream",
     "text": [
      "<class 'pandas.core.frame.DataFrame'>\n",
      "RangeIndex: 500 entries, 0 to 499\n",
      "Data columns (total 8 columns):\n",
      "user_id       500 non-null int64\n",
      "age           500 non-null int64\n",
      "churn_date    38 non-null object\n",
      "city          500 non-null object\n",
      "first_name    500 non-null object\n",
      "last_name     500 non-null object\n",
      "reg_date      500 non-null object\n",
      "tariff        500 non-null object\n",
      "dtypes: int64(2), object(6)\n",
      "memory usage: 31.4+ KB\n"
     ]
    },
    {
     "data": {
      "text/html": [
       "<div>\n",
       "<style scoped>\n",
       "    .dataframe tbody tr th:only-of-type {\n",
       "        vertical-align: middle;\n",
       "    }\n",
       "\n",
       "    .dataframe tbody tr th {\n",
       "        vertical-align: top;\n",
       "    }\n",
       "\n",
       "    .dataframe thead th {\n",
       "        text-align: right;\n",
       "    }\n",
       "</style>\n",
       "<table border=\"1\" class=\"dataframe\">\n",
       "  <thead>\n",
       "    <tr style=\"text-align: right;\">\n",
       "      <th></th>\n",
       "      <th>user_id</th>\n",
       "      <th>age</th>\n",
       "      <th>churn_date</th>\n",
       "      <th>city</th>\n",
       "      <th>first_name</th>\n",
       "      <th>last_name</th>\n",
       "      <th>reg_date</th>\n",
       "      <th>tariff</th>\n",
       "    </tr>\n",
       "  </thead>\n",
       "  <tbody>\n",
       "    <tr>\n",
       "      <td>0</td>\n",
       "      <td>1000</td>\n",
       "      <td>52</td>\n",
       "      <td>NaN</td>\n",
       "      <td>Краснодар</td>\n",
       "      <td>Рафаил</td>\n",
       "      <td>Верещагин</td>\n",
       "      <td>2018-05-25</td>\n",
       "      <td>ultra</td>\n",
       "    </tr>\n",
       "    <tr>\n",
       "      <td>1</td>\n",
       "      <td>1001</td>\n",
       "      <td>41</td>\n",
       "      <td>NaN</td>\n",
       "      <td>Москва</td>\n",
       "      <td>Иван</td>\n",
       "      <td>Ежов</td>\n",
       "      <td>2018-11-01</td>\n",
       "      <td>smart</td>\n",
       "    </tr>\n",
       "    <tr>\n",
       "      <td>2</td>\n",
       "      <td>1002</td>\n",
       "      <td>59</td>\n",
       "      <td>NaN</td>\n",
       "      <td>Стерлитамак</td>\n",
       "      <td>Евгений</td>\n",
       "      <td>Абрамович</td>\n",
       "      <td>2018-06-17</td>\n",
       "      <td>smart</td>\n",
       "    </tr>\n",
       "    <tr>\n",
       "      <td>3</td>\n",
       "      <td>1003</td>\n",
       "      <td>23</td>\n",
       "      <td>NaN</td>\n",
       "      <td>Москва</td>\n",
       "      <td>Белла</td>\n",
       "      <td>Белякова</td>\n",
       "      <td>2018-08-17</td>\n",
       "      <td>ultra</td>\n",
       "    </tr>\n",
       "    <tr>\n",
       "      <td>4</td>\n",
       "      <td>1004</td>\n",
       "      <td>68</td>\n",
       "      <td>NaN</td>\n",
       "      <td>Новокузнецк</td>\n",
       "      <td>Татьяна</td>\n",
       "      <td>Авдеенко</td>\n",
       "      <td>2018-05-14</td>\n",
       "      <td>ultra</td>\n",
       "    </tr>\n",
       "  </tbody>\n",
       "</table>\n",
       "</div>"
      ],
      "text/plain": [
       "   user_id  age churn_date         city first_name  last_name    reg_date  \\\n",
       "0     1000   52        NaN    Краснодар     Рафаил  Верещагин  2018-05-25   \n",
       "1     1001   41        NaN       Москва       Иван       Ежов  2018-11-01   \n",
       "2     1002   59        NaN  Стерлитамак    Евгений  Абрамович  2018-06-17   \n",
       "3     1003   23        NaN       Москва      Белла   Белякова  2018-08-17   \n",
       "4     1004   68        NaN  Новокузнецк    Татьяна   Авдеенко  2018-05-14   \n",
       "\n",
       "  tariff  \n",
       "0  ultra  \n",
       "1  smart  \n",
       "2  smart  \n",
       "3  ultra  \n",
       "4  ultra  "
      ]
     },
     "execution_count": 10,
     "metadata": {},
     "output_type": "execute_result"
    }
   ],
   "source": [
    "users.info()\n",
    "users.head()"
   ]
  },
  {
   "cell_type": "code",
   "execution_count": 11,
   "metadata": {},
   "outputs": [
    {
     "data": {
      "text/html": [
       "<div>\n",
       "<style scoped>\n",
       "    .dataframe tbody tr th:only-of-type {\n",
       "        vertical-align: middle;\n",
       "    }\n",
       "\n",
       "    .dataframe tbody tr th {\n",
       "        vertical-align: top;\n",
       "    }\n",
       "\n",
       "    .dataframe thead th {\n",
       "        text-align: right;\n",
       "    }\n",
       "</style>\n",
       "<table border=\"1\" class=\"dataframe\">\n",
       "  <thead>\n",
       "    <tr style=\"text-align: right;\">\n",
       "      <th></th>\n",
       "      <th>user_id</th>\n",
       "      <th>age</th>\n",
       "    </tr>\n",
       "  </thead>\n",
       "  <tbody>\n",
       "    <tr>\n",
       "      <td>count</td>\n",
       "      <td>500.000000</td>\n",
       "      <td>500.00000</td>\n",
       "    </tr>\n",
       "    <tr>\n",
       "      <td>mean</td>\n",
       "      <td>1249.500000</td>\n",
       "      <td>46.58800</td>\n",
       "    </tr>\n",
       "    <tr>\n",
       "      <td>std</td>\n",
       "      <td>144.481833</td>\n",
       "      <td>16.66763</td>\n",
       "    </tr>\n",
       "    <tr>\n",
       "      <td>min</td>\n",
       "      <td>1000.000000</td>\n",
       "      <td>18.00000</td>\n",
       "    </tr>\n",
       "    <tr>\n",
       "      <td>25%</td>\n",
       "      <td>1124.750000</td>\n",
       "      <td>32.00000</td>\n",
       "    </tr>\n",
       "    <tr>\n",
       "      <td>50%</td>\n",
       "      <td>1249.500000</td>\n",
       "      <td>46.00000</td>\n",
       "    </tr>\n",
       "    <tr>\n",
       "      <td>75%</td>\n",
       "      <td>1374.250000</td>\n",
       "      <td>62.00000</td>\n",
       "    </tr>\n",
       "    <tr>\n",
       "      <td>max</td>\n",
       "      <td>1499.000000</td>\n",
       "      <td>75.00000</td>\n",
       "    </tr>\n",
       "  </tbody>\n",
       "</table>\n",
       "</div>"
      ],
      "text/plain": [
       "           user_id        age\n",
       "count   500.000000  500.00000\n",
       "mean   1249.500000   46.58800\n",
       "std     144.481833   16.66763\n",
       "min    1000.000000   18.00000\n",
       "25%    1124.750000   32.00000\n",
       "50%    1249.500000   46.00000\n",
       "75%    1374.250000   62.00000\n",
       "max    1499.000000   75.00000"
      ]
     },
     "execution_count": 11,
     "metadata": {},
     "output_type": "execute_result"
    }
   ],
   "source": [
    "users.describe()"
   ]
  },
  {
   "cell_type": "markdown",
   "metadata": {},
   "source": [
    "### Conclusion"
   ]
  },
  {
   "cell_type": "markdown",
   "metadata": {},
   "source": [
    "- Missing values in churn_date column. Perhapse cause of no churn clients yet    \n",
    "- Column Unnamed: 0 duplicates the index\n",
    "- Date columns better to convert to datetime type\n",
    "- Column duration contains to much missing values (about 20%). We have to handle it somehow\n",
    "\n"
   ]
  },
  {
   "cell_type": "markdown",
   "metadata": {},
   "source": [
    "## Data Preprocessing"
   ]
  },
  {
   "cell_type": "code",
   "execution_count": 12,
   "metadata": {},
   "outputs": [],
   "source": [
    "#drop Unnamed: 0 column\n",
    "internet = internet.drop('Unnamed: 0', axis = 1)\n"
   ]
  },
  {
   "cell_type": "code",
   "execution_count": 13,
   "metadata": {},
   "outputs": [
    {
     "data": {
      "text/html": [
       "<div>\n",
       "<style scoped>\n",
       "    .dataframe tbody tr th:only-of-type {\n",
       "        vertical-align: middle;\n",
       "    }\n",
       "\n",
       "    .dataframe tbody tr th {\n",
       "        vertical-align: top;\n",
       "    }\n",
       "\n",
       "    .dataframe thead th {\n",
       "        text-align: right;\n",
       "    }\n",
       "</style>\n",
       "<table border=\"1\" class=\"dataframe\">\n",
       "  <thead>\n",
       "    <tr style=\"text-align: right;\">\n",
       "      <th></th>\n",
       "      <th>id</th>\n",
       "      <th>call_date</th>\n",
       "      <th>duration</th>\n",
       "      <th>user_id</th>\n",
       "    </tr>\n",
       "  </thead>\n",
       "  <tbody>\n",
       "    <tr>\n",
       "      <td>0</td>\n",
       "      <td>1000_0</td>\n",
       "      <td>2018-07-25</td>\n",
       "      <td>0</td>\n",
       "      <td>1000</td>\n",
       "    </tr>\n",
       "    <tr>\n",
       "      <td>1</td>\n",
       "      <td>1000_1</td>\n",
       "      <td>2018-08-17</td>\n",
       "      <td>0</td>\n",
       "      <td>1000</td>\n",
       "    </tr>\n",
       "    <tr>\n",
       "      <td>2</td>\n",
       "      <td>1000_2</td>\n",
       "      <td>2018-06-11</td>\n",
       "      <td>3</td>\n",
       "      <td>1000</td>\n",
       "    </tr>\n",
       "    <tr>\n",
       "      <td>3</td>\n",
       "      <td>1000_3</td>\n",
       "      <td>2018-09-21</td>\n",
       "      <td>14</td>\n",
       "      <td>1000</td>\n",
       "    </tr>\n",
       "    <tr>\n",
       "      <td>4</td>\n",
       "      <td>1000_4</td>\n",
       "      <td>2018-12-15</td>\n",
       "      <td>6</td>\n",
       "      <td>1000</td>\n",
       "    </tr>\n",
       "  </tbody>\n",
       "</table>\n",
       "</div>"
      ],
      "text/plain": [
       "       id  call_date  duration  user_id\n",
       "0  1000_0 2018-07-25         0     1000\n",
       "1  1000_1 2018-08-17         0     1000\n",
       "2  1000_2 2018-06-11         3     1000\n",
       "3  1000_3 2018-09-21        14     1000\n",
       "4  1000_4 2018-12-15         6     1000"
      ]
     },
     "execution_count": 13,
     "metadata": {},
     "output_type": "execute_result"
    }
   ],
   "source": [
    "#convert date columns to datetime type\n",
    "calls['call_date'] = pd.to_datetime(calls['call_date'], format='%Y-%m-%d')\n",
    "internet['session_date'] = pd.to_datetime(internet['session_date'], format='%Y-%m-%d')\n",
    "messages['message_date'] = pd.to_datetime(messages['message_date'], format='%Y-%m-%d')\n",
    "users['reg_date'] = pd.to_datetime(users['reg_date'], format='%Y-%m-%d')\n",
    "\n",
    "#round ceiling call durations and convert them to integer\n",
    "calls['duration'] = calls['duration'].apply(np.ceil).astype(int)\n",
    "\n",
    "\n",
    "calls.head()"
   ]
  },
  {
   "cell_type": "code",
   "execution_count": 14,
   "metadata": {},
   "outputs": [],
   "source": [
    "#put all together and rename columns\n",
    "\n",
    "messages = messages.rename(columns = {'id': 'message_id'})\n",
    "internet = internet.rename(columns = {'id': 'internet_id'})\n",
    "calls = calls.rename(columns = {'id': 'call_id'})\n",
    "tariffs = tariffs.rename(columns = {'tariff_name': 'tariff'})\n",
    "\n"
   ]
  },
  {
   "cell_type": "code",
   "execution_count": 15,
   "metadata": {},
   "outputs": [],
   "source": [
    "#extract and add months\n",
    "calls['month'] = pd.DatetimeIndex(calls['call_date']).month\n",
    "messages['month'] = pd.DatetimeIndex(messages['message_date']).month\n",
    "internet['month'] = pd.DatetimeIndex(internet['session_date']).month\n",
    "users['month'] = pd.DatetimeIndex(users['reg_date']).month\n"
   ]
  },
  {
   "cell_type": "code",
   "execution_count": 16,
   "metadata": {
    "scrolled": true
   },
   "outputs": [],
   "source": [
    "#calculate amount of calls and texts and internet traffic for each month\n",
    "\n",
    "calls_pivot = calls.pivot_table(index=['user_id', 'month'], values='duration', aggfunc=['count', 'sum'])\n",
    "messages_pivot = messages.pivot_table(index=['user_id', 'month'], values='message_id', aggfunc='count')\n",
    "internet_pivot = internet.pivot_table(index=['user_id', 'month'], values='mb_used', aggfunc='sum')\n",
    "users_pivot = users.set_index(['user_id', 'month'])\n",
    "\n"
   ]
  },
  {
   "cell_type": "code",
   "execution_count": 17,
   "metadata": {},
   "outputs": [],
   "source": [
    "#join datasets\n",
    "data = calls_pivot.join([messages_pivot, internet_pivot], how='outer')"
   ]
  },
  {
   "cell_type": "code",
   "execution_count": 18,
   "metadata": {},
   "outputs": [],
   "source": [
    "#rename columns\n",
    "data = data.rename(columns = {('count', 'duration'): 'calls_number', ('sum', 'duration'): 'calls_duration'})"
   ]
  },
  {
   "cell_type": "code",
   "execution_count": 19,
   "metadata": {},
   "outputs": [],
   "source": [
    "#join users dataset and drop index\n",
    "data = data.join(users_pivot, how='left')\n",
    "\n",
    "data = data.reset_index()\n",
    "\n",
    "tariffs = tariffs.rename(columns={'tariff_name': 'tariff'})"
   ]
  },
  {
   "cell_type": "code",
   "execution_count": 20,
   "metadata": {},
   "outputs": [],
   "source": [
    "#drop user names\n",
    "data = data.drop(['first_name', 'last_name'], axis = 1)"
   ]
  },
  {
   "cell_type": "code",
   "execution_count": 21,
   "metadata": {},
   "outputs": [
    {
     "data": {
      "text/plain": [
       "(3214, 11)"
      ]
     },
     "execution_count": 21,
     "metadata": {},
     "output_type": "execute_result"
    }
   ],
   "source": [
    "data.shape"
   ]
  },
  {
   "cell_type": "code",
   "execution_count": 22,
   "metadata": {
    "scrolled": true
   },
   "outputs": [
    {
     "data": {
      "text/plain": [
       "498"
      ]
     },
     "execution_count": 22,
     "metadata": {},
     "output_type": "execute_result"
    }
   ],
   "source": [
    "data.user_id.nunique()"
   ]
  },
  {
   "cell_type": "code",
   "execution_count": 23,
   "metadata": {
    "scrolled": true
   },
   "outputs": [
    {
     "data": {
      "text/html": [
       "<div>\n",
       "<style scoped>\n",
       "    .dataframe tbody tr th:only-of-type {\n",
       "        vertical-align: middle;\n",
       "    }\n",
       "\n",
       "    .dataframe tbody tr th {\n",
       "        vertical-align: top;\n",
       "    }\n",
       "\n",
       "    .dataframe thead th {\n",
       "        text-align: right;\n",
       "    }\n",
       "</style>\n",
       "<table border=\"1\" class=\"dataframe\">\n",
       "  <thead>\n",
       "    <tr style=\"text-align: right;\">\n",
       "      <th></th>\n",
       "      <th>user_id</th>\n",
       "      <th>month</th>\n",
       "      <th>calls_number</th>\n",
       "      <th>calls_duration</th>\n",
       "      <th>message_id</th>\n",
       "      <th>mb_used</th>\n",
       "      <th>age</th>\n",
       "      <th>churn_date</th>\n",
       "      <th>city</th>\n",
       "      <th>reg_date</th>\n",
       "      <th>tariff</th>\n",
       "    </tr>\n",
       "  </thead>\n",
       "  <tbody>\n",
       "    <tr>\n",
       "      <td>0</td>\n",
       "      <td>1000</td>\n",
       "      <td>5</td>\n",
       "      <td>22.0</td>\n",
       "      <td>159.0</td>\n",
       "      <td>22.0</td>\n",
       "      <td>2253.49</td>\n",
       "      <td>52.0</td>\n",
       "      <td>NaN</td>\n",
       "      <td>Краснодар</td>\n",
       "      <td>2018-05-25</td>\n",
       "      <td>ultra</td>\n",
       "    </tr>\n",
       "    <tr>\n",
       "      <td>1</td>\n",
       "      <td>1000</td>\n",
       "      <td>6</td>\n",
       "      <td>43.0</td>\n",
       "      <td>172.0</td>\n",
       "      <td>60.0</td>\n",
       "      <td>23233.77</td>\n",
       "      <td>52.0</td>\n",
       "      <td>NaN</td>\n",
       "      <td>Краснодар</td>\n",
       "      <td>2018-05-25</td>\n",
       "      <td>ultra</td>\n",
       "    </tr>\n",
       "    <tr>\n",
       "      <td>2</td>\n",
       "      <td>1000</td>\n",
       "      <td>7</td>\n",
       "      <td>47.0</td>\n",
       "      <td>340.0</td>\n",
       "      <td>75.0</td>\n",
       "      <td>14003.64</td>\n",
       "      <td>52.0</td>\n",
       "      <td>NaN</td>\n",
       "      <td>Краснодар</td>\n",
       "      <td>2018-05-25</td>\n",
       "      <td>ultra</td>\n",
       "    </tr>\n",
       "    <tr>\n",
       "      <td>3</td>\n",
       "      <td>1000</td>\n",
       "      <td>8</td>\n",
       "      <td>52.0</td>\n",
       "      <td>408.0</td>\n",
       "      <td>81.0</td>\n",
       "      <td>14055.93</td>\n",
       "      <td>52.0</td>\n",
       "      <td>NaN</td>\n",
       "      <td>Краснодар</td>\n",
       "      <td>2018-05-25</td>\n",
       "      <td>ultra</td>\n",
       "    </tr>\n",
       "    <tr>\n",
       "      <td>4</td>\n",
       "      <td>1000</td>\n",
       "      <td>9</td>\n",
       "      <td>58.0</td>\n",
       "      <td>466.0</td>\n",
       "      <td>57.0</td>\n",
       "      <td>14568.91</td>\n",
       "      <td>52.0</td>\n",
       "      <td>NaN</td>\n",
       "      <td>Краснодар</td>\n",
       "      <td>2018-05-25</td>\n",
       "      <td>ultra</td>\n",
       "    </tr>\n",
       "    <tr>\n",
       "      <td>5</td>\n",
       "      <td>1000</td>\n",
       "      <td>10</td>\n",
       "      <td>57.0</td>\n",
       "      <td>350.0</td>\n",
       "      <td>73.0</td>\n",
       "      <td>14702.49</td>\n",
       "      <td>52.0</td>\n",
       "      <td>NaN</td>\n",
       "      <td>Краснодар</td>\n",
       "      <td>2018-05-25</td>\n",
       "      <td>ultra</td>\n",
       "    </tr>\n",
       "    <tr>\n",
       "      <td>6</td>\n",
       "      <td>1000</td>\n",
       "      <td>11</td>\n",
       "      <td>43.0</td>\n",
       "      <td>338.0</td>\n",
       "      <td>58.0</td>\n",
       "      <td>14756.47</td>\n",
       "      <td>52.0</td>\n",
       "      <td>NaN</td>\n",
       "      <td>Краснодар</td>\n",
       "      <td>2018-05-25</td>\n",
       "      <td>ultra</td>\n",
       "    </tr>\n",
       "    <tr>\n",
       "      <td>7</td>\n",
       "      <td>1000</td>\n",
       "      <td>12</td>\n",
       "      <td>46.0</td>\n",
       "      <td>333.0</td>\n",
       "      <td>70.0</td>\n",
       "      <td>9817.61</td>\n",
       "      <td>52.0</td>\n",
       "      <td>NaN</td>\n",
       "      <td>Краснодар</td>\n",
       "      <td>2018-05-25</td>\n",
       "      <td>ultra</td>\n",
       "    </tr>\n",
       "    <tr>\n",
       "      <td>8</td>\n",
       "      <td>1001</td>\n",
       "      <td>11</td>\n",
       "      <td>59.0</td>\n",
       "      <td>430.0</td>\n",
       "      <td>NaN</td>\n",
       "      <td>18429.34</td>\n",
       "      <td>41.0</td>\n",
       "      <td>NaN</td>\n",
       "      <td>Москва</td>\n",
       "      <td>2018-11-01</td>\n",
       "      <td>smart</td>\n",
       "    </tr>\n",
       "    <tr>\n",
       "      <td>9</td>\n",
       "      <td>1001</td>\n",
       "      <td>12</td>\n",
       "      <td>63.0</td>\n",
       "      <td>414.0</td>\n",
       "      <td>NaN</td>\n",
       "      <td>14036.66</td>\n",
       "      <td>41.0</td>\n",
       "      <td>NaN</td>\n",
       "      <td>Москва</td>\n",
       "      <td>2018-11-01</td>\n",
       "      <td>smart</td>\n",
       "    </tr>\n",
       "    <tr>\n",
       "      <td>10</td>\n",
       "      <td>1002</td>\n",
       "      <td>6</td>\n",
       "      <td>15.0</td>\n",
       "      <td>117.0</td>\n",
       "      <td>4.0</td>\n",
       "      <td>10856.82</td>\n",
       "      <td>59.0</td>\n",
       "      <td>NaN</td>\n",
       "      <td>Стерлитамак</td>\n",
       "      <td>2018-06-17</td>\n",
       "      <td>smart</td>\n",
       "    </tr>\n",
       "    <tr>\n",
       "      <td>11</td>\n",
       "      <td>1002</td>\n",
       "      <td>7</td>\n",
       "      <td>26.0</td>\n",
       "      <td>214.0</td>\n",
       "      <td>11.0</td>\n",
       "      <td>17580.10</td>\n",
       "      <td>59.0</td>\n",
       "      <td>NaN</td>\n",
       "      <td>Стерлитамак</td>\n",
       "      <td>2018-06-17</td>\n",
       "      <td>smart</td>\n",
       "    </tr>\n",
       "    <tr>\n",
       "      <td>12</td>\n",
       "      <td>1002</td>\n",
       "      <td>8</td>\n",
       "      <td>42.0</td>\n",
       "      <td>289.0</td>\n",
       "      <td>13.0</td>\n",
       "      <td>20319.26</td>\n",
       "      <td>59.0</td>\n",
       "      <td>NaN</td>\n",
       "      <td>Стерлитамак</td>\n",
       "      <td>2018-06-17</td>\n",
       "      <td>smart</td>\n",
       "    </tr>\n",
       "    <tr>\n",
       "      <td>13</td>\n",
       "      <td>1002</td>\n",
       "      <td>9</td>\n",
       "      <td>36.0</td>\n",
       "      <td>206.0</td>\n",
       "      <td>4.0</td>\n",
       "      <td>16691.08</td>\n",
       "      <td>59.0</td>\n",
       "      <td>NaN</td>\n",
       "      <td>Стерлитамак</td>\n",
       "      <td>2018-06-17</td>\n",
       "      <td>smart</td>\n",
       "    </tr>\n",
       "    <tr>\n",
       "      <td>14</td>\n",
       "      <td>1002</td>\n",
       "      <td>10</td>\n",
       "      <td>33.0</td>\n",
       "      <td>212.0</td>\n",
       "      <td>10.0</td>\n",
       "      <td>13888.25</td>\n",
       "      <td>59.0</td>\n",
       "      <td>NaN</td>\n",
       "      <td>Стерлитамак</td>\n",
       "      <td>2018-06-17</td>\n",
       "      <td>smart</td>\n",
       "    </tr>\n",
       "    <tr>\n",
       "      <td>15</td>\n",
       "      <td>1002</td>\n",
       "      <td>11</td>\n",
       "      <td>32.0</td>\n",
       "      <td>243.0</td>\n",
       "      <td>16.0</td>\n",
       "      <td>18587.28</td>\n",
       "      <td>59.0</td>\n",
       "      <td>NaN</td>\n",
       "      <td>Стерлитамак</td>\n",
       "      <td>2018-06-17</td>\n",
       "      <td>smart</td>\n",
       "    </tr>\n",
       "    <tr>\n",
       "      <td>16</td>\n",
       "      <td>1002</td>\n",
       "      <td>12</td>\n",
       "      <td>33.0</td>\n",
       "      <td>236.0</td>\n",
       "      <td>12.0</td>\n",
       "      <td>18113.73</td>\n",
       "      <td>59.0</td>\n",
       "      <td>NaN</td>\n",
       "      <td>Стерлитамак</td>\n",
       "      <td>2018-06-17</td>\n",
       "      <td>smart</td>\n",
       "    </tr>\n",
       "    <tr>\n",
       "      <td>17</td>\n",
       "      <td>1003</td>\n",
       "      <td>8</td>\n",
       "      <td>55.0</td>\n",
       "      <td>380.0</td>\n",
       "      <td>37.0</td>\n",
       "      <td>8565.21</td>\n",
       "      <td>23.0</td>\n",
       "      <td>NaN</td>\n",
       "      <td>Москва</td>\n",
       "      <td>2018-08-17</td>\n",
       "      <td>ultra</td>\n",
       "    </tr>\n",
       "    <tr>\n",
       "      <td>18</td>\n",
       "      <td>1003</td>\n",
       "      <td>9</td>\n",
       "      <td>134.0</td>\n",
       "      <td>961.0</td>\n",
       "      <td>91.0</td>\n",
       "      <td>12468.87</td>\n",
       "      <td>23.0</td>\n",
       "      <td>NaN</td>\n",
       "      <td>Москва</td>\n",
       "      <td>2018-08-17</td>\n",
       "      <td>ultra</td>\n",
       "    </tr>\n",
       "    <tr>\n",
       "      <td>19</td>\n",
       "      <td>1003</td>\n",
       "      <td>10</td>\n",
       "      <td>108.0</td>\n",
       "      <td>855.0</td>\n",
       "      <td>83.0</td>\n",
       "      <td>14768.14</td>\n",
       "      <td>23.0</td>\n",
       "      <td>NaN</td>\n",
       "      <td>Москва</td>\n",
       "      <td>2018-08-17</td>\n",
       "      <td>ultra</td>\n",
       "    </tr>\n",
       "    <tr>\n",
       "      <td>20</td>\n",
       "      <td>1003</td>\n",
       "      <td>11</td>\n",
       "      <td>115.0</td>\n",
       "      <td>824.0</td>\n",
       "      <td>94.0</td>\n",
       "      <td>11356.89</td>\n",
       "      <td>23.0</td>\n",
       "      <td>NaN</td>\n",
       "      <td>Москва</td>\n",
       "      <td>2018-08-17</td>\n",
       "      <td>ultra</td>\n",
       "    </tr>\n",
       "    <tr>\n",
       "      <td>21</td>\n",
       "      <td>1003</td>\n",
       "      <td>12</td>\n",
       "      <td>108.0</td>\n",
       "      <td>802.0</td>\n",
       "      <td>75.0</td>\n",
       "      <td>10121.53</td>\n",
       "      <td>23.0</td>\n",
       "      <td>NaN</td>\n",
       "      <td>Москва</td>\n",
       "      <td>2018-08-17</td>\n",
       "      <td>ultra</td>\n",
       "    </tr>\n",
       "    <tr>\n",
       "      <td>22</td>\n",
       "      <td>1004</td>\n",
       "      <td>5</td>\n",
       "      <td>9.0</td>\n",
       "      <td>35.0</td>\n",
       "      <td>95.0</td>\n",
       "      <td>13403.98</td>\n",
       "      <td>68.0</td>\n",
       "      <td>NaN</td>\n",
       "      <td>Новокузнецк</td>\n",
       "      <td>2018-05-14</td>\n",
       "      <td>ultra</td>\n",
       "    </tr>\n",
       "    <tr>\n",
       "      <td>23</td>\n",
       "      <td>1004</td>\n",
       "      <td>6</td>\n",
       "      <td>31.0</td>\n",
       "      <td>171.0</td>\n",
       "      <td>134.0</td>\n",
       "      <td>17600.02</td>\n",
       "      <td>68.0</td>\n",
       "      <td>NaN</td>\n",
       "      <td>Новокузнецк</td>\n",
       "      <td>2018-05-14</td>\n",
       "      <td>ultra</td>\n",
       "    </tr>\n",
       "    <tr>\n",
       "      <td>24</td>\n",
       "      <td>1004</td>\n",
       "      <td>7</td>\n",
       "      <td>22.0</td>\n",
       "      <td>135.0</td>\n",
       "      <td>181.0</td>\n",
       "      <td>22229.58</td>\n",
       "      <td>68.0</td>\n",
       "      <td>NaN</td>\n",
       "      <td>Новокузнецк</td>\n",
       "      <td>2018-05-14</td>\n",
       "      <td>ultra</td>\n",
       "    </tr>\n",
       "    <tr>\n",
       "      <td>25</td>\n",
       "      <td>1004</td>\n",
       "      <td>8</td>\n",
       "      <td>19.0</td>\n",
       "      <td>137.0</td>\n",
       "      <td>151.0</td>\n",
       "      <td>28584.37</td>\n",
       "      <td>68.0</td>\n",
       "      <td>NaN</td>\n",
       "      <td>Новокузнецк</td>\n",
       "      <td>2018-05-14</td>\n",
       "      <td>ultra</td>\n",
       "    </tr>\n",
       "    <tr>\n",
       "      <td>26</td>\n",
       "      <td>1004</td>\n",
       "      <td>9</td>\n",
       "      <td>26.0</td>\n",
       "      <td>117.0</td>\n",
       "      <td>146.0</td>\n",
       "      <td>15109.03</td>\n",
       "      <td>68.0</td>\n",
       "      <td>NaN</td>\n",
       "      <td>Новокузнецк</td>\n",
       "      <td>2018-05-14</td>\n",
       "      <td>ultra</td>\n",
       "    </tr>\n",
       "    <tr>\n",
       "      <td>27</td>\n",
       "      <td>1004</td>\n",
       "      <td>10</td>\n",
       "      <td>29.0</td>\n",
       "      <td>145.0</td>\n",
       "      <td>165.0</td>\n",
       "      <td>18475.44</td>\n",
       "      <td>68.0</td>\n",
       "      <td>NaN</td>\n",
       "      <td>Новокузнецк</td>\n",
       "      <td>2018-05-14</td>\n",
       "      <td>ultra</td>\n",
       "    </tr>\n",
       "    <tr>\n",
       "      <td>28</td>\n",
       "      <td>1004</td>\n",
       "      <td>11</td>\n",
       "      <td>19.0</td>\n",
       "      <td>117.0</td>\n",
       "      <td>158.0</td>\n",
       "      <td>15616.02</td>\n",
       "      <td>68.0</td>\n",
       "      <td>NaN</td>\n",
       "      <td>Новокузнецк</td>\n",
       "      <td>2018-05-14</td>\n",
       "      <td>ultra</td>\n",
       "    </tr>\n",
       "    <tr>\n",
       "      <td>29</td>\n",
       "      <td>1004</td>\n",
       "      <td>12</td>\n",
       "      <td>21.0</td>\n",
       "      <td>130.0</td>\n",
       "      <td>162.0</td>\n",
       "      <td>18021.04</td>\n",
       "      <td>68.0</td>\n",
       "      <td>NaN</td>\n",
       "      <td>Новокузнецк</td>\n",
       "      <td>2018-05-14</td>\n",
       "      <td>ultra</td>\n",
       "    </tr>\n",
       "  </tbody>\n",
       "</table>\n",
       "</div>"
      ],
      "text/plain": [
       "    user_id  month  calls_number  calls_duration  message_id   mb_used   age  \\\n",
       "0      1000      5          22.0           159.0        22.0   2253.49  52.0   \n",
       "1      1000      6          43.0           172.0        60.0  23233.77  52.0   \n",
       "2      1000      7          47.0           340.0        75.0  14003.64  52.0   \n",
       "3      1000      8          52.0           408.0        81.0  14055.93  52.0   \n",
       "4      1000      9          58.0           466.0        57.0  14568.91  52.0   \n",
       "5      1000     10          57.0           350.0        73.0  14702.49  52.0   \n",
       "6      1000     11          43.0           338.0        58.0  14756.47  52.0   \n",
       "7      1000     12          46.0           333.0        70.0   9817.61  52.0   \n",
       "8      1001     11          59.0           430.0         NaN  18429.34  41.0   \n",
       "9      1001     12          63.0           414.0         NaN  14036.66  41.0   \n",
       "10     1002      6          15.0           117.0         4.0  10856.82  59.0   \n",
       "11     1002      7          26.0           214.0        11.0  17580.10  59.0   \n",
       "12     1002      8          42.0           289.0        13.0  20319.26  59.0   \n",
       "13     1002      9          36.0           206.0         4.0  16691.08  59.0   \n",
       "14     1002     10          33.0           212.0        10.0  13888.25  59.0   \n",
       "15     1002     11          32.0           243.0        16.0  18587.28  59.0   \n",
       "16     1002     12          33.0           236.0        12.0  18113.73  59.0   \n",
       "17     1003      8          55.0           380.0        37.0   8565.21  23.0   \n",
       "18     1003      9         134.0           961.0        91.0  12468.87  23.0   \n",
       "19     1003     10         108.0           855.0        83.0  14768.14  23.0   \n",
       "20     1003     11         115.0           824.0        94.0  11356.89  23.0   \n",
       "21     1003     12         108.0           802.0        75.0  10121.53  23.0   \n",
       "22     1004      5           9.0            35.0        95.0  13403.98  68.0   \n",
       "23     1004      6          31.0           171.0       134.0  17600.02  68.0   \n",
       "24     1004      7          22.0           135.0       181.0  22229.58  68.0   \n",
       "25     1004      8          19.0           137.0       151.0  28584.37  68.0   \n",
       "26     1004      9          26.0           117.0       146.0  15109.03  68.0   \n",
       "27     1004     10          29.0           145.0       165.0  18475.44  68.0   \n",
       "28     1004     11          19.0           117.0       158.0  15616.02  68.0   \n",
       "29     1004     12          21.0           130.0       162.0  18021.04  68.0   \n",
       "\n",
       "   churn_date         city   reg_date tariff  \n",
       "0         NaN    Краснодар 2018-05-25  ultra  \n",
       "1         NaN    Краснодар 2018-05-25  ultra  \n",
       "2         NaN    Краснодар 2018-05-25  ultra  \n",
       "3         NaN    Краснодар 2018-05-25  ultra  \n",
       "4         NaN    Краснодар 2018-05-25  ultra  \n",
       "5         NaN    Краснодар 2018-05-25  ultra  \n",
       "6         NaN    Краснодар 2018-05-25  ultra  \n",
       "7         NaN    Краснодар 2018-05-25  ultra  \n",
       "8         NaN       Москва 2018-11-01  smart  \n",
       "9         NaN       Москва 2018-11-01  smart  \n",
       "10        NaN  Стерлитамак 2018-06-17  smart  \n",
       "11        NaN  Стерлитамак 2018-06-17  smart  \n",
       "12        NaN  Стерлитамак 2018-06-17  smart  \n",
       "13        NaN  Стерлитамак 2018-06-17  smart  \n",
       "14        NaN  Стерлитамак 2018-06-17  smart  \n",
       "15        NaN  Стерлитамак 2018-06-17  smart  \n",
       "16        NaN  Стерлитамак 2018-06-17  smart  \n",
       "17        NaN       Москва 2018-08-17  ultra  \n",
       "18        NaN       Москва 2018-08-17  ultra  \n",
       "19        NaN       Москва 2018-08-17  ultra  \n",
       "20        NaN       Москва 2018-08-17  ultra  \n",
       "21        NaN       Москва 2018-08-17  ultra  \n",
       "22        NaN  Новокузнецк 2018-05-14  ultra  \n",
       "23        NaN  Новокузнецк 2018-05-14  ultra  \n",
       "24        NaN  Новокузнецк 2018-05-14  ultra  \n",
       "25        NaN  Новокузнецк 2018-05-14  ultra  \n",
       "26        NaN  Новокузнецк 2018-05-14  ultra  \n",
       "27        NaN  Новокузнецк 2018-05-14  ultra  \n",
       "28        NaN  Новокузнецк 2018-05-14  ultra  \n",
       "29        NaN  Новокузнецк 2018-05-14  ultra  "
      ]
     },
     "execution_count": 23,
     "metadata": {},
     "output_type": "execute_result"
    }
   ],
   "source": [
    "#fill values in joined dataframe\n",
    "#they appeared cause of reg_date column\n",
    "\n",
    "columns = ['age', 'city', 'reg_date', 'tariff']\n",
    "for i in columns:\n",
    "    data[i] = data[i].fillna(data.groupby('user_id')[i].transform('first')) \n",
    "\n",
    "data.head(30)"
   ]
  },
  {
   "cell_type": "code",
   "execution_count": 24,
   "metadata": {},
   "outputs": [],
   "source": [
    "# fill missing values in months with 0\n",
    "data[['calls_number', 'calls_duration', 'message_id', 'mb_used']] = data[['calls_number', 'calls_duration', 'message_id', 'mb_used']].fillna(0) \n"
   ]
  },
  {
   "cell_type": "code",
   "execution_count": 25,
   "metadata": {},
   "outputs": [
    {
     "data": {
      "text/html": [
       "<div>\n",
       "<style scoped>\n",
       "    .dataframe tbody tr th:only-of-type {\n",
       "        vertical-align: middle;\n",
       "    }\n",
       "\n",
       "    .dataframe tbody tr th {\n",
       "        vertical-align: top;\n",
       "    }\n",
       "\n",
       "    .dataframe thead th {\n",
       "        text-align: right;\n",
       "    }\n",
       "</style>\n",
       "<table border=\"1\" class=\"dataframe\">\n",
       "  <thead>\n",
       "    <tr style=\"text-align: right;\">\n",
       "      <th></th>\n",
       "      <th>user_id</th>\n",
       "      <th>month</th>\n",
       "      <th>calls_number</th>\n",
       "      <th>calls_duration</th>\n",
       "      <th>message_id</th>\n",
       "      <th>mb_used</th>\n",
       "      <th>age</th>\n",
       "      <th>churn_date</th>\n",
       "      <th>city</th>\n",
       "      <th>reg_date</th>\n",
       "      <th>tariff</th>\n",
       "      <th>messages_included</th>\n",
       "      <th>mb_per_month_included</th>\n",
       "      <th>minutes_included</th>\n",
       "      <th>rub_monthly_fee</th>\n",
       "      <th>rub_per_gb</th>\n",
       "      <th>rub_per_message</th>\n",
       "      <th>rub_per_minute</th>\n",
       "    </tr>\n",
       "  </thead>\n",
       "  <tbody>\n",
       "    <tr>\n",
       "      <td>0</td>\n",
       "      <td>1000</td>\n",
       "      <td>5</td>\n",
       "      <td>22.0</td>\n",
       "      <td>159.0</td>\n",
       "      <td>22.0</td>\n",
       "      <td>2253.49</td>\n",
       "      <td>52.0</td>\n",
       "      <td>NaN</td>\n",
       "      <td>Краснодар</td>\n",
       "      <td>2018-05-25</td>\n",
       "      <td>ultra</td>\n",
       "      <td>1000</td>\n",
       "      <td>30720</td>\n",
       "      <td>3000</td>\n",
       "      <td>1950</td>\n",
       "      <td>150</td>\n",
       "      <td>1</td>\n",
       "      <td>1</td>\n",
       "    </tr>\n",
       "    <tr>\n",
       "      <td>1</td>\n",
       "      <td>1000</td>\n",
       "      <td>6</td>\n",
       "      <td>43.0</td>\n",
       "      <td>172.0</td>\n",
       "      <td>60.0</td>\n",
       "      <td>23233.77</td>\n",
       "      <td>52.0</td>\n",
       "      <td>NaN</td>\n",
       "      <td>Краснодар</td>\n",
       "      <td>2018-05-25</td>\n",
       "      <td>ultra</td>\n",
       "      <td>1000</td>\n",
       "      <td>30720</td>\n",
       "      <td>3000</td>\n",
       "      <td>1950</td>\n",
       "      <td>150</td>\n",
       "      <td>1</td>\n",
       "      <td>1</td>\n",
       "    </tr>\n",
       "    <tr>\n",
       "      <td>2</td>\n",
       "      <td>1000</td>\n",
       "      <td>7</td>\n",
       "      <td>47.0</td>\n",
       "      <td>340.0</td>\n",
       "      <td>75.0</td>\n",
       "      <td>14003.64</td>\n",
       "      <td>52.0</td>\n",
       "      <td>NaN</td>\n",
       "      <td>Краснодар</td>\n",
       "      <td>2018-05-25</td>\n",
       "      <td>ultra</td>\n",
       "      <td>1000</td>\n",
       "      <td>30720</td>\n",
       "      <td>3000</td>\n",
       "      <td>1950</td>\n",
       "      <td>150</td>\n",
       "      <td>1</td>\n",
       "      <td>1</td>\n",
       "    </tr>\n",
       "    <tr>\n",
       "      <td>3</td>\n",
       "      <td>1000</td>\n",
       "      <td>8</td>\n",
       "      <td>52.0</td>\n",
       "      <td>408.0</td>\n",
       "      <td>81.0</td>\n",
       "      <td>14055.93</td>\n",
       "      <td>52.0</td>\n",
       "      <td>NaN</td>\n",
       "      <td>Краснодар</td>\n",
       "      <td>2018-05-25</td>\n",
       "      <td>ultra</td>\n",
       "      <td>1000</td>\n",
       "      <td>30720</td>\n",
       "      <td>3000</td>\n",
       "      <td>1950</td>\n",
       "      <td>150</td>\n",
       "      <td>1</td>\n",
       "      <td>1</td>\n",
       "    </tr>\n",
       "    <tr>\n",
       "      <td>4</td>\n",
       "      <td>1000</td>\n",
       "      <td>9</td>\n",
       "      <td>58.0</td>\n",
       "      <td>466.0</td>\n",
       "      <td>57.0</td>\n",
       "      <td>14568.91</td>\n",
       "      <td>52.0</td>\n",
       "      <td>NaN</td>\n",
       "      <td>Краснодар</td>\n",
       "      <td>2018-05-25</td>\n",
       "      <td>ultra</td>\n",
       "      <td>1000</td>\n",
       "      <td>30720</td>\n",
       "      <td>3000</td>\n",
       "      <td>1950</td>\n",
       "      <td>150</td>\n",
       "      <td>1</td>\n",
       "      <td>1</td>\n",
       "    </tr>\n",
       "  </tbody>\n",
       "</table>\n",
       "</div>"
      ],
      "text/plain": [
       "   user_id  month  calls_number  calls_duration  message_id   mb_used   age  \\\n",
       "0     1000      5          22.0           159.0        22.0   2253.49  52.0   \n",
       "1     1000      6          43.0           172.0        60.0  23233.77  52.0   \n",
       "2     1000      7          47.0           340.0        75.0  14003.64  52.0   \n",
       "3     1000      8          52.0           408.0        81.0  14055.93  52.0   \n",
       "4     1000      9          58.0           466.0        57.0  14568.91  52.0   \n",
       "\n",
       "  churn_date       city   reg_date tariff  messages_included  \\\n",
       "0        NaN  Краснодар 2018-05-25  ultra               1000   \n",
       "1        NaN  Краснодар 2018-05-25  ultra               1000   \n",
       "2        NaN  Краснодар 2018-05-25  ultra               1000   \n",
       "3        NaN  Краснодар 2018-05-25  ultra               1000   \n",
       "4        NaN  Краснодар 2018-05-25  ultra               1000   \n",
       "\n",
       "   mb_per_month_included  minutes_included  rub_monthly_fee  rub_per_gb  \\\n",
       "0                  30720              3000             1950         150   \n",
       "1                  30720              3000             1950         150   \n",
       "2                  30720              3000             1950         150   \n",
       "3                  30720              3000             1950         150   \n",
       "4                  30720              3000             1950         150   \n",
       "\n",
       "   rub_per_message  rub_per_minute  \n",
       "0                1               1  \n",
       "1                1               1  \n",
       "2                1               1  \n",
       "3                1               1  \n",
       "4                1               1  "
      ]
     },
     "execution_count": 25,
     "metadata": {},
     "output_type": "execute_result"
    }
   ],
   "source": [
    "#join the tarrifs dataframe\n",
    "tariffs = tariffs.rename(columns={'tariff_name': 'tariff'})\n",
    "\n",
    "data = data.merge(tariffs, how='left')\n",
    "\n",
    "\n",
    "data.head()"
   ]
  },
  {
   "cell_type": "markdown",
   "metadata": {},
   "source": [
    "### Conclusion"
   ]
  },
  {
   "cell_type": "markdown",
   "metadata": {},
   "source": [
    "- data type of certain columns has converted\n",
    "- calculated amount of texts for each month\n",
    "- calculated network traffic for each month\n",
    "- all dataframes put together"
   ]
  },
  {
   "cell_type": "markdown",
   "metadata": {},
   "source": [
    "## Additional Calculations"
   ]
  },
  {
   "cell_type": "code",
   "execution_count": 27,
   "metadata": {
    "scrolled": true
   },
   "outputs": [
    {
     "data": {
      "text/html": [
       "<div>\n",
       "<style scoped>\n",
       "    .dataframe tbody tr th:only-of-type {\n",
       "        vertical-align: middle;\n",
       "    }\n",
       "\n",
       "    .dataframe tbody tr th {\n",
       "        vertical-align: top;\n",
       "    }\n",
       "\n",
       "    .dataframe thead th {\n",
       "        text-align: right;\n",
       "    }\n",
       "</style>\n",
       "<table border=\"1\" class=\"dataframe\">\n",
       "  <thead>\n",
       "    <tr style=\"text-align: right;\">\n",
       "      <th></th>\n",
       "      <th></th>\n",
       "      <th>calls_number</th>\n",
       "      <th>calls_duration</th>\n",
       "      <th>message_id</th>\n",
       "      <th>mb_used</th>\n",
       "      <th>age</th>\n",
       "      <th>churn_date</th>\n",
       "      <th>city</th>\n",
       "      <th>reg_date</th>\n",
       "      <th>tariff</th>\n",
       "      <th>messages_included</th>\n",
       "      <th>mb_per_month_included</th>\n",
       "      <th>minutes_included</th>\n",
       "      <th>rub_monthly_fee</th>\n",
       "      <th>rub_per_gb</th>\n",
       "      <th>rub_per_message</th>\n",
       "      <th>rub_per_minute</th>\n",
       "    </tr>\n",
       "    <tr>\n",
       "      <th>user_id</th>\n",
       "      <th>month</th>\n",
       "      <th></th>\n",
       "      <th></th>\n",
       "      <th></th>\n",
       "      <th></th>\n",
       "      <th></th>\n",
       "      <th></th>\n",
       "      <th></th>\n",
       "      <th></th>\n",
       "      <th></th>\n",
       "      <th></th>\n",
       "      <th></th>\n",
       "      <th></th>\n",
       "      <th></th>\n",
       "      <th></th>\n",
       "      <th></th>\n",
       "      <th></th>\n",
       "    </tr>\n",
       "  </thead>\n",
       "  <tbody>\n",
       "    <tr>\n",
       "      <td rowspan=\"5\" valign=\"top\">1000</td>\n",
       "      <td>5</td>\n",
       "      <td>22.0</td>\n",
       "      <td>159.0</td>\n",
       "      <td>22.0</td>\n",
       "      <td>2253.49</td>\n",
       "      <td>52.0</td>\n",
       "      <td>NaN</td>\n",
       "      <td>Краснодар</td>\n",
       "      <td>2018-05-25</td>\n",
       "      <td>ultra</td>\n",
       "      <td>1000</td>\n",
       "      <td>30720</td>\n",
       "      <td>3000</td>\n",
       "      <td>1950</td>\n",
       "      <td>150</td>\n",
       "      <td>1</td>\n",
       "      <td>1</td>\n",
       "    </tr>\n",
       "    <tr>\n",
       "      <td>6</td>\n",
       "      <td>43.0</td>\n",
       "      <td>172.0</td>\n",
       "      <td>60.0</td>\n",
       "      <td>23233.77</td>\n",
       "      <td>52.0</td>\n",
       "      <td>NaN</td>\n",
       "      <td>Краснодар</td>\n",
       "      <td>2018-05-25</td>\n",
       "      <td>ultra</td>\n",
       "      <td>1000</td>\n",
       "      <td>30720</td>\n",
       "      <td>3000</td>\n",
       "      <td>1950</td>\n",
       "      <td>150</td>\n",
       "      <td>1</td>\n",
       "      <td>1</td>\n",
       "    </tr>\n",
       "    <tr>\n",
       "      <td>7</td>\n",
       "      <td>47.0</td>\n",
       "      <td>340.0</td>\n",
       "      <td>75.0</td>\n",
       "      <td>14003.64</td>\n",
       "      <td>52.0</td>\n",
       "      <td>NaN</td>\n",
       "      <td>Краснодар</td>\n",
       "      <td>2018-05-25</td>\n",
       "      <td>ultra</td>\n",
       "      <td>1000</td>\n",
       "      <td>30720</td>\n",
       "      <td>3000</td>\n",
       "      <td>1950</td>\n",
       "      <td>150</td>\n",
       "      <td>1</td>\n",
       "      <td>1</td>\n",
       "    </tr>\n",
       "    <tr>\n",
       "      <td>8</td>\n",
       "      <td>52.0</td>\n",
       "      <td>408.0</td>\n",
       "      <td>81.0</td>\n",
       "      <td>14055.93</td>\n",
       "      <td>52.0</td>\n",
       "      <td>NaN</td>\n",
       "      <td>Краснодар</td>\n",
       "      <td>2018-05-25</td>\n",
       "      <td>ultra</td>\n",
       "      <td>1000</td>\n",
       "      <td>30720</td>\n",
       "      <td>3000</td>\n",
       "      <td>1950</td>\n",
       "      <td>150</td>\n",
       "      <td>1</td>\n",
       "      <td>1</td>\n",
       "    </tr>\n",
       "    <tr>\n",
       "      <td>9</td>\n",
       "      <td>58.0</td>\n",
       "      <td>466.0</td>\n",
       "      <td>57.0</td>\n",
       "      <td>14568.91</td>\n",
       "      <td>52.0</td>\n",
       "      <td>NaN</td>\n",
       "      <td>Краснодар</td>\n",
       "      <td>2018-05-25</td>\n",
       "      <td>ultra</td>\n",
       "      <td>1000</td>\n",
       "      <td>30720</td>\n",
       "      <td>3000</td>\n",
       "      <td>1950</td>\n",
       "      <td>150</td>\n",
       "      <td>1</td>\n",
       "      <td>1</td>\n",
       "    </tr>\n",
       "    <tr>\n",
       "      <td>...</td>\n",
       "      <td>...</td>\n",
       "      <td>...</td>\n",
       "      <td>...</td>\n",
       "      <td>...</td>\n",
       "      <td>...</td>\n",
       "      <td>...</td>\n",
       "      <td>...</td>\n",
       "      <td>...</td>\n",
       "      <td>...</td>\n",
       "      <td>...</td>\n",
       "      <td>...</td>\n",
       "      <td>...</td>\n",
       "      <td>...</td>\n",
       "      <td>...</td>\n",
       "      <td>...</td>\n",
       "      <td>...</td>\n",
       "      <td>...</td>\n",
       "    </tr>\n",
       "    <tr>\n",
       "      <td>1498</td>\n",
       "      <td>10</td>\n",
       "      <td>41.0</td>\n",
       "      <td>247.0</td>\n",
       "      <td>42.0</td>\n",
       "      <td>20579.36</td>\n",
       "      <td>68.0</td>\n",
       "      <td>NaN</td>\n",
       "      <td>Владикавказ</td>\n",
       "      <td>2018-07-19</td>\n",
       "      <td>smart</td>\n",
       "      <td>50</td>\n",
       "      <td>15360</td>\n",
       "      <td>500</td>\n",
       "      <td>550</td>\n",
       "      <td>200</td>\n",
       "      <td>3</td>\n",
       "      <td>3</td>\n",
       "    </tr>\n",
       "    <tr>\n",
       "      <td rowspan=\"4\" valign=\"top\">1499</td>\n",
       "      <td>9</td>\n",
       "      <td>9.0</td>\n",
       "      <td>70.0</td>\n",
       "      <td>11.0</td>\n",
       "      <td>1845.75</td>\n",
       "      <td>35.0</td>\n",
       "      <td>NaN</td>\n",
       "      <td>Пермь</td>\n",
       "      <td>2018-09-27</td>\n",
       "      <td>smart</td>\n",
       "      <td>50</td>\n",
       "      <td>15360</td>\n",
       "      <td>500</td>\n",
       "      <td>550</td>\n",
       "      <td>200</td>\n",
       "      <td>3</td>\n",
       "      <td>3</td>\n",
       "    </tr>\n",
       "    <tr>\n",
       "      <td>10</td>\n",
       "      <td>68.0</td>\n",
       "      <td>449.0</td>\n",
       "      <td>48.0</td>\n",
       "      <td>17788.51</td>\n",
       "      <td>35.0</td>\n",
       "      <td>NaN</td>\n",
       "      <td>Пермь</td>\n",
       "      <td>2018-09-27</td>\n",
       "      <td>smart</td>\n",
       "      <td>50</td>\n",
       "      <td>15360</td>\n",
       "      <td>500</td>\n",
       "      <td>550</td>\n",
       "      <td>200</td>\n",
       "      <td>3</td>\n",
       "      <td>3</td>\n",
       "    </tr>\n",
       "    <tr>\n",
       "      <td>11</td>\n",
       "      <td>74.0</td>\n",
       "      <td>612.0</td>\n",
       "      <td>59.0</td>\n",
       "      <td>17963.31</td>\n",
       "      <td>35.0</td>\n",
       "      <td>NaN</td>\n",
       "      <td>Пермь</td>\n",
       "      <td>2018-09-27</td>\n",
       "      <td>smart</td>\n",
       "      <td>50</td>\n",
       "      <td>15360</td>\n",
       "      <td>500</td>\n",
       "      <td>550</td>\n",
       "      <td>200</td>\n",
       "      <td>3</td>\n",
       "      <td>3</td>\n",
       "    </tr>\n",
       "    <tr>\n",
       "      <td>12</td>\n",
       "      <td>69.0</td>\n",
       "      <td>492.0</td>\n",
       "      <td>66.0</td>\n",
       "      <td>13055.58</td>\n",
       "      <td>35.0</td>\n",
       "      <td>NaN</td>\n",
       "      <td>Пермь</td>\n",
       "      <td>2018-09-27</td>\n",
       "      <td>smart</td>\n",
       "      <td>50</td>\n",
       "      <td>15360</td>\n",
       "      <td>500</td>\n",
       "      <td>550</td>\n",
       "      <td>200</td>\n",
       "      <td>3</td>\n",
       "      <td>3</td>\n",
       "    </tr>\n",
       "  </tbody>\n",
       "</table>\n",
       "<p>3214 rows × 16 columns</p>\n",
       "</div>"
      ],
      "text/plain": [
       "               calls_number  calls_duration  message_id   mb_used   age  \\\n",
       "user_id month                                                             \n",
       "1000    5              22.0           159.0        22.0   2253.49  52.0   \n",
       "        6              43.0           172.0        60.0  23233.77  52.0   \n",
       "        7              47.0           340.0        75.0  14003.64  52.0   \n",
       "        8              52.0           408.0        81.0  14055.93  52.0   \n",
       "        9              58.0           466.0        57.0  14568.91  52.0   \n",
       "...                     ...             ...         ...       ...   ...   \n",
       "1498    10             41.0           247.0        42.0  20579.36  68.0   \n",
       "1499    9               9.0            70.0        11.0   1845.75  35.0   \n",
       "        10             68.0           449.0        48.0  17788.51  35.0   \n",
       "        11             74.0           612.0        59.0  17963.31  35.0   \n",
       "        12             69.0           492.0        66.0  13055.58  35.0   \n",
       "\n",
       "              churn_date         city   reg_date tariff  messages_included  \\\n",
       "user_id month                                                                \n",
       "1000    5            NaN    Краснодар 2018-05-25  ultra               1000   \n",
       "        6            NaN    Краснодар 2018-05-25  ultra               1000   \n",
       "        7            NaN    Краснодар 2018-05-25  ultra               1000   \n",
       "        8            NaN    Краснодар 2018-05-25  ultra               1000   \n",
       "        9            NaN    Краснодар 2018-05-25  ultra               1000   \n",
       "...                  ...          ...        ...    ...                ...   \n",
       "1498    10           NaN  Владикавказ 2018-07-19  smart                 50   \n",
       "1499    9            NaN        Пермь 2018-09-27  smart                 50   \n",
       "        10           NaN        Пермь 2018-09-27  smart                 50   \n",
       "        11           NaN        Пермь 2018-09-27  smart                 50   \n",
       "        12           NaN        Пермь 2018-09-27  smart                 50   \n",
       "\n",
       "               mb_per_month_included  minutes_included  rub_monthly_fee  \\\n",
       "user_id month                                                             \n",
       "1000    5                      30720              3000             1950   \n",
       "        6                      30720              3000             1950   \n",
       "        7                      30720              3000             1950   \n",
       "        8                      30720              3000             1950   \n",
       "        9                      30720              3000             1950   \n",
       "...                              ...               ...              ...   \n",
       "1498    10                     15360               500              550   \n",
       "1499    9                      15360               500              550   \n",
       "        10                     15360               500              550   \n",
       "        11                     15360               500              550   \n",
       "        12                     15360               500              550   \n",
       "\n",
       "               rub_per_gb  rub_per_message  rub_per_minute  \n",
       "user_id month                                               \n",
       "1000    5             150                1               1  \n",
       "        6             150                1               1  \n",
       "        7             150                1               1  \n",
       "        8             150                1               1  \n",
       "        9             150                1               1  \n",
       "...                   ...              ...             ...  \n",
       "1498    10            200                3               3  \n",
       "1499    9             200                3               3  \n",
       "        10            200                3               3  \n",
       "        11            200                3               3  \n",
       "        12            200                3               3  \n",
       "\n",
       "[3214 rows x 16 columns]"
      ]
     },
     "execution_count": 27,
     "metadata": {},
     "output_type": "execute_result"
    }
   ],
   "source": [
    "dataset = data.set_index(['user_id', 'month'])\n",
    "dataset"
   ]
  },
  {
   "cell_type": "code",
   "execution_count": 28,
   "metadata": {},
   "outputs": [
    {
     "data": {
      "text/html": [
       "<div>\n",
       "<style scoped>\n",
       "    .dataframe tbody tr th:only-of-type {\n",
       "        vertical-align: middle;\n",
       "    }\n",
       "\n",
       "    .dataframe tbody tr th {\n",
       "        vertical-align: top;\n",
       "    }\n",
       "\n",
       "    .dataframe thead th {\n",
       "        text-align: right;\n",
       "    }\n",
       "</style>\n",
       "<table border=\"1\" class=\"dataframe\">\n",
       "  <thead>\n",
       "    <tr style=\"text-align: right;\">\n",
       "      <th></th>\n",
       "      <th></th>\n",
       "      <th>calls_number</th>\n",
       "      <th>calls_duration</th>\n",
       "      <th>message_id</th>\n",
       "      <th>mb_used</th>\n",
       "      <th>age</th>\n",
       "      <th>churn_date</th>\n",
       "      <th>city</th>\n",
       "      <th>reg_date</th>\n",
       "      <th>tariff</th>\n",
       "      <th>messages_included</th>\n",
       "      <th>gb_per_month_included</th>\n",
       "      <th>minutes_included</th>\n",
       "      <th>rub_monthly_fee</th>\n",
       "      <th>rub_per_gb</th>\n",
       "      <th>rub_per_message</th>\n",
       "      <th>rub_per_minute</th>\n",
       "      <th>gb_used</th>\n",
       "    </tr>\n",
       "    <tr>\n",
       "      <th>user_id</th>\n",
       "      <th>month</th>\n",
       "      <th></th>\n",
       "      <th></th>\n",
       "      <th></th>\n",
       "      <th></th>\n",
       "      <th></th>\n",
       "      <th></th>\n",
       "      <th></th>\n",
       "      <th></th>\n",
       "      <th></th>\n",
       "      <th></th>\n",
       "      <th></th>\n",
       "      <th></th>\n",
       "      <th></th>\n",
       "      <th></th>\n",
       "      <th></th>\n",
       "      <th></th>\n",
       "      <th></th>\n",
       "    </tr>\n",
       "  </thead>\n",
       "  <tbody>\n",
       "    <tr>\n",
       "      <td rowspan=\"5\" valign=\"top\">1000</td>\n",
       "      <td>5</td>\n",
       "      <td>22.0</td>\n",
       "      <td>159.0</td>\n",
       "      <td>22.0</td>\n",
       "      <td>2253.49</td>\n",
       "      <td>52.0</td>\n",
       "      <td>NaN</td>\n",
       "      <td>Краснодар</td>\n",
       "      <td>2018-05-25</td>\n",
       "      <td>ultra</td>\n",
       "      <td>1000</td>\n",
       "      <td>30.0</td>\n",
       "      <td>3000</td>\n",
       "      <td>1950</td>\n",
       "      <td>150</td>\n",
       "      <td>1</td>\n",
       "      <td>1</td>\n",
       "      <td>3.0</td>\n",
       "    </tr>\n",
       "    <tr>\n",
       "      <td>6</td>\n",
       "      <td>43.0</td>\n",
       "      <td>172.0</td>\n",
       "      <td>60.0</td>\n",
       "      <td>23233.77</td>\n",
       "      <td>52.0</td>\n",
       "      <td>NaN</td>\n",
       "      <td>Краснодар</td>\n",
       "      <td>2018-05-25</td>\n",
       "      <td>ultra</td>\n",
       "      <td>1000</td>\n",
       "      <td>30.0</td>\n",
       "      <td>3000</td>\n",
       "      <td>1950</td>\n",
       "      <td>150</td>\n",
       "      <td>1</td>\n",
       "      <td>1</td>\n",
       "      <td>23.0</td>\n",
       "    </tr>\n",
       "    <tr>\n",
       "      <td>7</td>\n",
       "      <td>47.0</td>\n",
       "      <td>340.0</td>\n",
       "      <td>75.0</td>\n",
       "      <td>14003.64</td>\n",
       "      <td>52.0</td>\n",
       "      <td>NaN</td>\n",
       "      <td>Краснодар</td>\n",
       "      <td>2018-05-25</td>\n",
       "      <td>ultra</td>\n",
       "      <td>1000</td>\n",
       "      <td>30.0</td>\n",
       "      <td>3000</td>\n",
       "      <td>1950</td>\n",
       "      <td>150</td>\n",
       "      <td>1</td>\n",
       "      <td>1</td>\n",
       "      <td>14.0</td>\n",
       "    </tr>\n",
       "    <tr>\n",
       "      <td>8</td>\n",
       "      <td>52.0</td>\n",
       "      <td>408.0</td>\n",
       "      <td>81.0</td>\n",
       "      <td>14055.93</td>\n",
       "      <td>52.0</td>\n",
       "      <td>NaN</td>\n",
       "      <td>Краснодар</td>\n",
       "      <td>2018-05-25</td>\n",
       "      <td>ultra</td>\n",
       "      <td>1000</td>\n",
       "      <td>30.0</td>\n",
       "      <td>3000</td>\n",
       "      <td>1950</td>\n",
       "      <td>150</td>\n",
       "      <td>1</td>\n",
       "      <td>1</td>\n",
       "      <td>14.0</td>\n",
       "    </tr>\n",
       "    <tr>\n",
       "      <td>9</td>\n",
       "      <td>58.0</td>\n",
       "      <td>466.0</td>\n",
       "      <td>57.0</td>\n",
       "      <td>14568.91</td>\n",
       "      <td>52.0</td>\n",
       "      <td>NaN</td>\n",
       "      <td>Краснодар</td>\n",
       "      <td>2018-05-25</td>\n",
       "      <td>ultra</td>\n",
       "      <td>1000</td>\n",
       "      <td>30.0</td>\n",
       "      <td>3000</td>\n",
       "      <td>1950</td>\n",
       "      <td>150</td>\n",
       "      <td>1</td>\n",
       "      <td>1</td>\n",
       "      <td>15.0</td>\n",
       "    </tr>\n",
       "  </tbody>\n",
       "</table>\n",
       "</div>"
      ],
      "text/plain": [
       "               calls_number  calls_duration  message_id   mb_used   age  \\\n",
       "user_id month                                                             \n",
       "1000    5              22.0           159.0        22.0   2253.49  52.0   \n",
       "        6              43.0           172.0        60.0  23233.77  52.0   \n",
       "        7              47.0           340.0        75.0  14003.64  52.0   \n",
       "        8              52.0           408.0        81.0  14055.93  52.0   \n",
       "        9              58.0           466.0        57.0  14568.91  52.0   \n",
       "\n",
       "              churn_date       city   reg_date tariff  messages_included  \\\n",
       "user_id month                                                              \n",
       "1000    5            NaN  Краснодар 2018-05-25  ultra               1000   \n",
       "        6            NaN  Краснодар 2018-05-25  ultra               1000   \n",
       "        7            NaN  Краснодар 2018-05-25  ultra               1000   \n",
       "        8            NaN  Краснодар 2018-05-25  ultra               1000   \n",
       "        9            NaN  Краснодар 2018-05-25  ultra               1000   \n",
       "\n",
       "               gb_per_month_included  minutes_included  rub_monthly_fee  \\\n",
       "user_id month                                                             \n",
       "1000    5                       30.0              3000             1950   \n",
       "        6                       30.0              3000             1950   \n",
       "        7                       30.0              3000             1950   \n",
       "        8                       30.0              3000             1950   \n",
       "        9                       30.0              3000             1950   \n",
       "\n",
       "               rub_per_gb  rub_per_message  rub_per_minute  gb_used  \n",
       "user_id month                                                        \n",
       "1000    5             150                1               1      3.0  \n",
       "        6             150                1               1     23.0  \n",
       "        7             150                1               1     14.0  \n",
       "        8             150                1               1     14.0  \n",
       "        9             150                1               1     15.0  "
      ]
     },
     "execution_count": 28,
     "metadata": {},
     "output_type": "execute_result"
    }
   ],
   "source": [
    "#convert monthly network traffic to gb and round it as a mobile operator does\n",
    "dataset['gb_used'] = (dataset['mb_used'] / 1024).apply(np.ceil)\n",
    "dataset['mb_per_month_included'] = dataset['mb_per_month_included'] / 1024\n",
    "dataset = dataset.rename(columns = {'mb_per_month_included': 'gb_per_month_included'})\n",
    "\n",
    "dataset.head()"
   ]
  },
  {
   "cell_type": "code",
   "execution_count": 29,
   "metadata": {},
   "outputs": [
    {
     "data": {
      "text/html": [
       "<div>\n",
       "<style scoped>\n",
       "    .dataframe tbody tr th:only-of-type {\n",
       "        vertical-align: middle;\n",
       "    }\n",
       "\n",
       "    .dataframe tbody tr th {\n",
       "        vertical-align: top;\n",
       "    }\n",
       "\n",
       "    .dataframe thead th {\n",
       "        text-align: right;\n",
       "    }\n",
       "</style>\n",
       "<table border=\"1\" class=\"dataframe\">\n",
       "  <thead>\n",
       "    <tr style=\"text-align: right;\">\n",
       "      <th></th>\n",
       "      <th></th>\n",
       "      <th>calls_number</th>\n",
       "      <th>calls_duration</th>\n",
       "      <th>message_id</th>\n",
       "      <th>mb_used</th>\n",
       "      <th>age</th>\n",
       "      <th>churn_date</th>\n",
       "      <th>city</th>\n",
       "      <th>reg_date</th>\n",
       "      <th>tariff</th>\n",
       "      <th>messages_included</th>\n",
       "      <th>gb_per_month_included</th>\n",
       "      <th>minutes_included</th>\n",
       "      <th>rub_monthly_fee</th>\n",
       "      <th>rub_per_gb</th>\n",
       "      <th>rub_per_message</th>\n",
       "      <th>rub_per_minute</th>\n",
       "      <th>gb_used</th>\n",
       "      <th>extra_calls</th>\n",
       "      <th>extra_sms</th>\n",
       "      <th>extra_gb</th>\n",
       "    </tr>\n",
       "    <tr>\n",
       "      <th>user_id</th>\n",
       "      <th>month</th>\n",
       "      <th></th>\n",
       "      <th></th>\n",
       "      <th></th>\n",
       "      <th></th>\n",
       "      <th></th>\n",
       "      <th></th>\n",
       "      <th></th>\n",
       "      <th></th>\n",
       "      <th></th>\n",
       "      <th></th>\n",
       "      <th></th>\n",
       "      <th></th>\n",
       "      <th></th>\n",
       "      <th></th>\n",
       "      <th></th>\n",
       "      <th></th>\n",
       "      <th></th>\n",
       "      <th></th>\n",
       "      <th></th>\n",
       "      <th></th>\n",
       "    </tr>\n",
       "  </thead>\n",
       "  <tbody>\n",
       "    <tr>\n",
       "      <td rowspan=\"5\" valign=\"top\">1000</td>\n",
       "      <td>5</td>\n",
       "      <td>22.0</td>\n",
       "      <td>159.0</td>\n",
       "      <td>22.0</td>\n",
       "      <td>2253.49</td>\n",
       "      <td>52.0</td>\n",
       "      <td>NaN</td>\n",
       "      <td>Краснодар</td>\n",
       "      <td>2018-05-25</td>\n",
       "      <td>ultra</td>\n",
       "      <td>1000</td>\n",
       "      <td>30.0</td>\n",
       "      <td>3000</td>\n",
       "      <td>1950</td>\n",
       "      <td>150</td>\n",
       "      <td>1</td>\n",
       "      <td>1</td>\n",
       "      <td>3.0</td>\n",
       "      <td>0.0</td>\n",
       "      <td>0.0</td>\n",
       "      <td>0.0</td>\n",
       "    </tr>\n",
       "    <tr>\n",
       "      <td>6</td>\n",
       "      <td>43.0</td>\n",
       "      <td>172.0</td>\n",
       "      <td>60.0</td>\n",
       "      <td>23233.77</td>\n",
       "      <td>52.0</td>\n",
       "      <td>NaN</td>\n",
       "      <td>Краснодар</td>\n",
       "      <td>2018-05-25</td>\n",
       "      <td>ultra</td>\n",
       "      <td>1000</td>\n",
       "      <td>30.0</td>\n",
       "      <td>3000</td>\n",
       "      <td>1950</td>\n",
       "      <td>150</td>\n",
       "      <td>1</td>\n",
       "      <td>1</td>\n",
       "      <td>23.0</td>\n",
       "      <td>0.0</td>\n",
       "      <td>0.0</td>\n",
       "      <td>0.0</td>\n",
       "    </tr>\n",
       "    <tr>\n",
       "      <td>7</td>\n",
       "      <td>47.0</td>\n",
       "      <td>340.0</td>\n",
       "      <td>75.0</td>\n",
       "      <td>14003.64</td>\n",
       "      <td>52.0</td>\n",
       "      <td>NaN</td>\n",
       "      <td>Краснодар</td>\n",
       "      <td>2018-05-25</td>\n",
       "      <td>ultra</td>\n",
       "      <td>1000</td>\n",
       "      <td>30.0</td>\n",
       "      <td>3000</td>\n",
       "      <td>1950</td>\n",
       "      <td>150</td>\n",
       "      <td>1</td>\n",
       "      <td>1</td>\n",
       "      <td>14.0</td>\n",
       "      <td>0.0</td>\n",
       "      <td>0.0</td>\n",
       "      <td>0.0</td>\n",
       "    </tr>\n",
       "    <tr>\n",
       "      <td>8</td>\n",
       "      <td>52.0</td>\n",
       "      <td>408.0</td>\n",
       "      <td>81.0</td>\n",
       "      <td>14055.93</td>\n",
       "      <td>52.0</td>\n",
       "      <td>NaN</td>\n",
       "      <td>Краснодар</td>\n",
       "      <td>2018-05-25</td>\n",
       "      <td>ultra</td>\n",
       "      <td>1000</td>\n",
       "      <td>30.0</td>\n",
       "      <td>3000</td>\n",
       "      <td>1950</td>\n",
       "      <td>150</td>\n",
       "      <td>1</td>\n",
       "      <td>1</td>\n",
       "      <td>14.0</td>\n",
       "      <td>0.0</td>\n",
       "      <td>0.0</td>\n",
       "      <td>0.0</td>\n",
       "    </tr>\n",
       "    <tr>\n",
       "      <td>9</td>\n",
       "      <td>58.0</td>\n",
       "      <td>466.0</td>\n",
       "      <td>57.0</td>\n",
       "      <td>14568.91</td>\n",
       "      <td>52.0</td>\n",
       "      <td>NaN</td>\n",
       "      <td>Краснодар</td>\n",
       "      <td>2018-05-25</td>\n",
       "      <td>ultra</td>\n",
       "      <td>1000</td>\n",
       "      <td>30.0</td>\n",
       "      <td>3000</td>\n",
       "      <td>1950</td>\n",
       "      <td>150</td>\n",
       "      <td>1</td>\n",
       "      <td>1</td>\n",
       "      <td>15.0</td>\n",
       "      <td>0.0</td>\n",
       "      <td>0.0</td>\n",
       "      <td>0.0</td>\n",
       "    </tr>\n",
       "  </tbody>\n",
       "</table>\n",
       "</div>"
      ],
      "text/plain": [
       "               calls_number  calls_duration  message_id   mb_used   age  \\\n",
       "user_id month                                                             \n",
       "1000    5              22.0           159.0        22.0   2253.49  52.0   \n",
       "        6              43.0           172.0        60.0  23233.77  52.0   \n",
       "        7              47.0           340.0        75.0  14003.64  52.0   \n",
       "        8              52.0           408.0        81.0  14055.93  52.0   \n",
       "        9              58.0           466.0        57.0  14568.91  52.0   \n",
       "\n",
       "              churn_date       city   reg_date tariff  messages_included  \\\n",
       "user_id month                                                              \n",
       "1000    5            NaN  Краснодар 2018-05-25  ultra               1000   \n",
       "        6            NaN  Краснодар 2018-05-25  ultra               1000   \n",
       "        7            NaN  Краснодар 2018-05-25  ultra               1000   \n",
       "        8            NaN  Краснодар 2018-05-25  ultra               1000   \n",
       "        9            NaN  Краснодар 2018-05-25  ultra               1000   \n",
       "\n",
       "               gb_per_month_included  minutes_included  rub_monthly_fee  \\\n",
       "user_id month                                                             \n",
       "1000    5                       30.0              3000             1950   \n",
       "        6                       30.0              3000             1950   \n",
       "        7                       30.0              3000             1950   \n",
       "        8                       30.0              3000             1950   \n",
       "        9                       30.0              3000             1950   \n",
       "\n",
       "               rub_per_gb  rub_per_message  rub_per_minute  gb_used  \\\n",
       "user_id month                                                         \n",
       "1000    5             150                1               1      3.0   \n",
       "        6             150                1               1     23.0   \n",
       "        7             150                1               1     14.0   \n",
       "        8             150                1               1     14.0   \n",
       "        9             150                1               1     15.0   \n",
       "\n",
       "               extra_calls  extra_sms  extra_gb  \n",
       "user_id month                                    \n",
       "1000    5              0.0        0.0       0.0  \n",
       "        6              0.0        0.0       0.0  \n",
       "        7              0.0        0.0       0.0  \n",
       "        8              0.0        0.0       0.0  \n",
       "        9              0.0        0.0       0.0  "
      ]
     },
     "execution_count": 29,
     "metadata": {},
     "output_type": "execute_result"
    }
   ],
   "source": [
    "#calculate extra phone calls, texts and data traffic\n",
    "dataset['extra_calls'] = [0 if dataset['minutes_included'][i] > dataset['calls_duration'][i] else\n",
    "                            dataset['calls_duration'][i] - dataset['minutes_included'][i] for i in dataset.index]\n",
    "\n",
    "dataset['extra_sms'] = [0 if dataset['messages_included'][i] > dataset['message_id'][i] else\n",
    "                            dataset['message_id'][i] - dataset['messages_included'][i] for i in dataset.index]\n",
    "\n",
    "dataset['extra_gb'] = [0 if dataset['gb_per_month_included'][i] > dataset['gb_used'][i] else\n",
    "                            dataset['gb_used'][i] - dataset['gb_per_month_included'][i] for i in dataset.index]\n",
    "\n",
    "dataset.head()"
   ]
  },
  {
   "cell_type": "code",
   "execution_count": 30,
   "metadata": {
    "scrolled": true
   },
   "outputs": [
    {
     "data": {
      "text/html": [
       "<div>\n",
       "<style scoped>\n",
       "    .dataframe tbody tr th:only-of-type {\n",
       "        vertical-align: middle;\n",
       "    }\n",
       "\n",
       "    .dataframe tbody tr th {\n",
       "        vertical-align: top;\n",
       "    }\n",
       "\n",
       "    .dataframe thead th {\n",
       "        text-align: right;\n",
       "    }\n",
       "</style>\n",
       "<table border=\"1\" class=\"dataframe\">\n",
       "  <thead>\n",
       "    <tr style=\"text-align: right;\">\n",
       "      <th></th>\n",
       "      <th></th>\n",
       "      <th>calls_number</th>\n",
       "      <th>calls_duration</th>\n",
       "      <th>message_id</th>\n",
       "      <th>mb_used</th>\n",
       "      <th>age</th>\n",
       "      <th>churn_date</th>\n",
       "      <th>city</th>\n",
       "      <th>reg_date</th>\n",
       "      <th>tariff</th>\n",
       "      <th>messages_included</th>\n",
       "      <th>...</th>\n",
       "      <th>minutes_included</th>\n",
       "      <th>rub_monthly_fee</th>\n",
       "      <th>rub_per_gb</th>\n",
       "      <th>rub_per_message</th>\n",
       "      <th>rub_per_minute</th>\n",
       "      <th>gb_used</th>\n",
       "      <th>extra_calls</th>\n",
       "      <th>extra_sms</th>\n",
       "      <th>extra_gb</th>\n",
       "      <th>earnings</th>\n",
       "    </tr>\n",
       "    <tr>\n",
       "      <th>user_id</th>\n",
       "      <th>month</th>\n",
       "      <th></th>\n",
       "      <th></th>\n",
       "      <th></th>\n",
       "      <th></th>\n",
       "      <th></th>\n",
       "      <th></th>\n",
       "      <th></th>\n",
       "      <th></th>\n",
       "      <th></th>\n",
       "      <th></th>\n",
       "      <th></th>\n",
       "      <th></th>\n",
       "      <th></th>\n",
       "      <th></th>\n",
       "      <th></th>\n",
       "      <th></th>\n",
       "      <th></th>\n",
       "      <th></th>\n",
       "      <th></th>\n",
       "      <th></th>\n",
       "      <th></th>\n",
       "    </tr>\n",
       "  </thead>\n",
       "  <tbody>\n",
       "    <tr>\n",
       "      <td rowspan=\"5\" valign=\"top\">1000</td>\n",
       "      <td>5</td>\n",
       "      <td>22.0</td>\n",
       "      <td>159.0</td>\n",
       "      <td>22.0</td>\n",
       "      <td>2253.49</td>\n",
       "      <td>52.0</td>\n",
       "      <td>NaN</td>\n",
       "      <td>Краснодар</td>\n",
       "      <td>2018-05-25</td>\n",
       "      <td>ultra</td>\n",
       "      <td>1000</td>\n",
       "      <td>...</td>\n",
       "      <td>3000</td>\n",
       "      <td>1950</td>\n",
       "      <td>150</td>\n",
       "      <td>1</td>\n",
       "      <td>1</td>\n",
       "      <td>3.0</td>\n",
       "      <td>0.0</td>\n",
       "      <td>0.0</td>\n",
       "      <td>0.0</td>\n",
       "      <td>1950.0</td>\n",
       "    </tr>\n",
       "    <tr>\n",
       "      <td>6</td>\n",
       "      <td>43.0</td>\n",
       "      <td>172.0</td>\n",
       "      <td>60.0</td>\n",
       "      <td>23233.77</td>\n",
       "      <td>52.0</td>\n",
       "      <td>NaN</td>\n",
       "      <td>Краснодар</td>\n",
       "      <td>2018-05-25</td>\n",
       "      <td>ultra</td>\n",
       "      <td>1000</td>\n",
       "      <td>...</td>\n",
       "      <td>3000</td>\n",
       "      <td>1950</td>\n",
       "      <td>150</td>\n",
       "      <td>1</td>\n",
       "      <td>1</td>\n",
       "      <td>23.0</td>\n",
       "      <td>0.0</td>\n",
       "      <td>0.0</td>\n",
       "      <td>0.0</td>\n",
       "      <td>1950.0</td>\n",
       "    </tr>\n",
       "    <tr>\n",
       "      <td>7</td>\n",
       "      <td>47.0</td>\n",
       "      <td>340.0</td>\n",
       "      <td>75.0</td>\n",
       "      <td>14003.64</td>\n",
       "      <td>52.0</td>\n",
       "      <td>NaN</td>\n",
       "      <td>Краснодар</td>\n",
       "      <td>2018-05-25</td>\n",
       "      <td>ultra</td>\n",
       "      <td>1000</td>\n",
       "      <td>...</td>\n",
       "      <td>3000</td>\n",
       "      <td>1950</td>\n",
       "      <td>150</td>\n",
       "      <td>1</td>\n",
       "      <td>1</td>\n",
       "      <td>14.0</td>\n",
       "      <td>0.0</td>\n",
       "      <td>0.0</td>\n",
       "      <td>0.0</td>\n",
       "      <td>1950.0</td>\n",
       "    </tr>\n",
       "    <tr>\n",
       "      <td>8</td>\n",
       "      <td>52.0</td>\n",
       "      <td>408.0</td>\n",
       "      <td>81.0</td>\n",
       "      <td>14055.93</td>\n",
       "      <td>52.0</td>\n",
       "      <td>NaN</td>\n",
       "      <td>Краснодар</td>\n",
       "      <td>2018-05-25</td>\n",
       "      <td>ultra</td>\n",
       "      <td>1000</td>\n",
       "      <td>...</td>\n",
       "      <td>3000</td>\n",
       "      <td>1950</td>\n",
       "      <td>150</td>\n",
       "      <td>1</td>\n",
       "      <td>1</td>\n",
       "      <td>14.0</td>\n",
       "      <td>0.0</td>\n",
       "      <td>0.0</td>\n",
       "      <td>0.0</td>\n",
       "      <td>1950.0</td>\n",
       "    </tr>\n",
       "    <tr>\n",
       "      <td>9</td>\n",
       "      <td>58.0</td>\n",
       "      <td>466.0</td>\n",
       "      <td>57.0</td>\n",
       "      <td>14568.91</td>\n",
       "      <td>52.0</td>\n",
       "      <td>NaN</td>\n",
       "      <td>Краснодар</td>\n",
       "      <td>2018-05-25</td>\n",
       "      <td>ultra</td>\n",
       "      <td>1000</td>\n",
       "      <td>...</td>\n",
       "      <td>3000</td>\n",
       "      <td>1950</td>\n",
       "      <td>150</td>\n",
       "      <td>1</td>\n",
       "      <td>1</td>\n",
       "      <td>15.0</td>\n",
       "      <td>0.0</td>\n",
       "      <td>0.0</td>\n",
       "      <td>0.0</td>\n",
       "      <td>1950.0</td>\n",
       "    </tr>\n",
       "  </tbody>\n",
       "</table>\n",
       "<p>5 rows × 21 columns</p>\n",
       "</div>"
      ],
      "text/plain": [
       "               calls_number  calls_duration  message_id   mb_used   age  \\\n",
       "user_id month                                                             \n",
       "1000    5              22.0           159.0        22.0   2253.49  52.0   \n",
       "        6              43.0           172.0        60.0  23233.77  52.0   \n",
       "        7              47.0           340.0        75.0  14003.64  52.0   \n",
       "        8              52.0           408.0        81.0  14055.93  52.0   \n",
       "        9              58.0           466.0        57.0  14568.91  52.0   \n",
       "\n",
       "              churn_date       city   reg_date tariff  messages_included  ...  \\\n",
       "user_id month                                                             ...   \n",
       "1000    5            NaN  Краснодар 2018-05-25  ultra               1000  ...   \n",
       "        6            NaN  Краснодар 2018-05-25  ultra               1000  ...   \n",
       "        7            NaN  Краснодар 2018-05-25  ultra               1000  ...   \n",
       "        8            NaN  Краснодар 2018-05-25  ultra               1000  ...   \n",
       "        9            NaN  Краснодар 2018-05-25  ultra               1000  ...   \n",
       "\n",
       "               minutes_included  rub_monthly_fee  rub_per_gb  rub_per_message  \\\n",
       "user_id month                                                                   \n",
       "1000    5                  3000             1950         150                1   \n",
       "        6                  3000             1950         150                1   \n",
       "        7                  3000             1950         150                1   \n",
       "        8                  3000             1950         150                1   \n",
       "        9                  3000             1950         150                1   \n",
       "\n",
       "               rub_per_minute  gb_used  extra_calls  extra_sms  extra_gb  \\\n",
       "user_id month                                                              \n",
       "1000    5                   1      3.0          0.0        0.0       0.0   \n",
       "        6                   1     23.0          0.0        0.0       0.0   \n",
       "        7                   1     14.0          0.0        0.0       0.0   \n",
       "        8                   1     14.0          0.0        0.0       0.0   \n",
       "        9                   1     15.0          0.0        0.0       0.0   \n",
       "\n",
       "               earnings  \n",
       "user_id month            \n",
       "1000    5        1950.0  \n",
       "        6        1950.0  \n",
       "        7        1950.0  \n",
       "        8        1950.0  \n",
       "        9        1950.0  \n",
       "\n",
       "[5 rows x 21 columns]"
      ]
     },
     "execution_count": 30,
     "metadata": {},
     "output_type": "execute_result"
    }
   ],
   "source": [
    "#monthly earnings from each client\n",
    "dataset['earnings'] = dataset['extra_calls'] * dataset['rub_per_minute'] + dataset['extra_sms'] * dataset['rub_per_message'] + dataset['extra_gb'] * dataset['rub_per_gb'] + dataset['rub_monthly_fee']\n",
    "dataset.head()"
   ]
  },
  {
   "cell_type": "code",
   "execution_count": 31,
   "metadata": {},
   "outputs": [
    {
     "data": {
      "text/plain": [
       "<matplotlib.axes._subplots.AxesSubplot at 0x7fa84f80b110>"
      ]
     },
     "execution_count": 31,
     "metadata": {},
     "output_type": "execute_result"
    },
    {
     "data": {
      "image/png": "[encoded data removed]",
      "text/plain": [
       "<Figure size 720x576 with 1 Axes>"
      ]
     },
     "metadata": {
      "needs_background": "light"
     },
     "output_type": "display_data"
    }
   ],
   "source": [
    "#distribution of earnings from each client per month\n",
    "dataset.plot(kind='hist', y='earnings', bins=50, figsize=(10, 8))\n"
   ]
  },
  {
   "cell_type": "code",
   "execution_count": 32,
   "metadata": {},
   "outputs": [
    {
     "data": {
      "text/plain": [
       "count    3214.000000\n",
       "mean     1529.076229\n",
       "std       798.251091\n",
       "min       550.000000\n",
       "25%       750.000000\n",
       "50%      1653.500000\n",
       "75%      1950.000000\n",
       "max      6770.000000\n",
       "Name: earnings, dtype: float64"
      ]
     },
     "execution_count": 32,
     "metadata": {},
     "output_type": "execute_result"
    }
   ],
   "source": [
    "dataset['earnings'].describe()"
   ]
  },
  {
   "cell_type": "markdown",
   "metadata": {},
   "source": [
    "### Conclusion"
   ]
  },
  {
   "cell_type": "markdown",
   "metadata": {},
   "source": [
    "Calculated monthly earnings from each clients. Usualy clients don't get ride of included services"
   ]
  },
  {
   "cell_type": "markdown",
   "metadata": {},
   "source": [
    "## Data Analisys"
   ]
  },
  {
   "cell_type": "code",
   "execution_count": 33,
   "metadata": {},
   "outputs": [],
   "source": [
    "#client portreit for each tariff\n",
    "smart_users = dataset.query('tariff == \"smart\"')\n",
    "ultra_users = dataset.query('tariff == \"ultra\"')"
   ]
  },
  {
   "cell_type": "code",
   "execution_count": 34,
   "metadata": {},
   "outputs": [
    {
     "data": {
      "text/html": [
       "<div>\n",
       "<style scoped>\n",
       "    .dataframe tbody tr th:only-of-type {\n",
       "        vertical-align: middle;\n",
       "    }\n",
       "\n",
       "    .dataframe tbody tr th {\n",
       "        vertical-align: top;\n",
       "    }\n",
       "\n",
       "    .dataframe thead th {\n",
       "        text-align: right;\n",
       "    }\n",
       "</style>\n",
       "<table border=\"1\" class=\"dataframe\">\n",
       "  <thead>\n",
       "    <tr style=\"text-align: right;\">\n",
       "      <th></th>\n",
       "      <th>calls_number</th>\n",
       "      <th>calls_duration</th>\n",
       "      <th>message_id</th>\n",
       "      <th>mb_used</th>\n",
       "      <th>age</th>\n",
       "      <th>messages_included</th>\n",
       "      <th>gb_per_month_included</th>\n",
       "      <th>minutes_included</th>\n",
       "      <th>rub_monthly_fee</th>\n",
       "      <th>rub_per_gb</th>\n",
       "      <th>rub_per_message</th>\n",
       "      <th>rub_per_minute</th>\n",
       "      <th>gb_used</th>\n",
       "      <th>extra_calls</th>\n",
       "      <th>extra_sms</th>\n",
       "      <th>extra_gb</th>\n",
       "      <th>earnings</th>\n",
       "    </tr>\n",
       "  </thead>\n",
       "  <tbody>\n",
       "    <tr>\n",
       "      <td>count</td>\n",
       "      <td>2229.000000</td>\n",
       "      <td>2229.000000</td>\n",
       "      <td>2229.000000</td>\n",
       "      <td>2229.000000</td>\n",
       "      <td>2229.000000</td>\n",
       "      <td>2229.0</td>\n",
       "      <td>2229.0</td>\n",
       "      <td>2229.0</td>\n",
       "      <td>2229.0</td>\n",
       "      <td>2229.0</td>\n",
       "      <td>2229.0</td>\n",
       "      <td>2229.0</td>\n",
       "      <td>2229.000000</td>\n",
       "      <td>2229.000000</td>\n",
       "      <td>2229.000000</td>\n",
       "      <td>2229.000000</td>\n",
       "      <td>2229.000000</td>\n",
       "    </tr>\n",
       "    <tr>\n",
       "      <td>mean</td>\n",
       "      <td>58.463437</td>\n",
       "      <td>417.934948</td>\n",
       "      <td>33.384029</td>\n",
       "      <td>16208.386990</td>\n",
       "      <td>46.556303</td>\n",
       "      <td>50.0</td>\n",
       "      <td>15.0</td>\n",
       "      <td>500.0</td>\n",
       "      <td>550.0</td>\n",
       "      <td>200.0</td>\n",
       "      <td>3.0</td>\n",
       "      <td>3.0</td>\n",
       "      <td>16.328847</td>\n",
       "      <td>41.605653</td>\n",
       "      <td>5.799910</td>\n",
       "      <td>2.988784</td>\n",
       "      <td>1289.973531</td>\n",
       "    </tr>\n",
       "    <tr>\n",
       "      <td>std</td>\n",
       "      <td>25.939858</td>\n",
       "      <td>190.313730</td>\n",
       "      <td>28.227876</td>\n",
       "      <td>5870.476681</td>\n",
       "      <td>16.353371</td>\n",
       "      <td>0.0</td>\n",
       "      <td>0.0</td>\n",
       "      <td>0.0</td>\n",
       "      <td>0.0</td>\n",
       "      <td>0.0</td>\n",
       "      <td>0.0</td>\n",
       "      <td>0.0</td>\n",
       "      <td>5.747061</td>\n",
       "      <td>84.678573</td>\n",
       "      <td>13.442456</td>\n",
       "      <td>3.682820</td>\n",
       "      <td>818.404367</td>\n",
       "    </tr>\n",
       "    <tr>\n",
       "      <td>min</td>\n",
       "      <td>0.000000</td>\n",
       "      <td>0.000000</td>\n",
       "      <td>0.000000</td>\n",
       "      <td>0.000000</td>\n",
       "      <td>18.000000</td>\n",
       "      <td>50.0</td>\n",
       "      <td>15.0</td>\n",
       "      <td>500.0</td>\n",
       "      <td>550.0</td>\n",
       "      <td>200.0</td>\n",
       "      <td>3.0</td>\n",
       "      <td>3.0</td>\n",
       "      <td>0.000000</td>\n",
       "      <td>0.000000</td>\n",
       "      <td>0.000000</td>\n",
       "      <td>0.000000</td>\n",
       "      <td>550.000000</td>\n",
       "    </tr>\n",
       "    <tr>\n",
       "      <td>25%</td>\n",
       "      <td>40.000000</td>\n",
       "      <td>282.000000</td>\n",
       "      <td>10.000000</td>\n",
       "      <td>12643.010000</td>\n",
       "      <td>32.000000</td>\n",
       "      <td>50.0</td>\n",
       "      <td>15.0</td>\n",
       "      <td>500.0</td>\n",
       "      <td>550.0</td>\n",
       "      <td>200.0</td>\n",
       "      <td>3.0</td>\n",
       "      <td>3.0</td>\n",
       "      <td>13.000000</td>\n",
       "      <td>0.000000</td>\n",
       "      <td>0.000000</td>\n",
       "      <td>0.000000</td>\n",
       "      <td>550.000000</td>\n",
       "    </tr>\n",
       "    <tr>\n",
       "      <td>50%</td>\n",
       "      <td>60.000000</td>\n",
       "      <td>422.000000</td>\n",
       "      <td>28.000000</td>\n",
       "      <td>16506.840000</td>\n",
       "      <td>47.000000</td>\n",
       "      <td>50.0</td>\n",
       "      <td>15.0</td>\n",
       "      <td>500.0</td>\n",
       "      <td>550.0</td>\n",
       "      <td>200.0</td>\n",
       "      <td>3.0</td>\n",
       "      <td>3.0</td>\n",
       "      <td>17.000000</td>\n",
       "      <td>0.000000</td>\n",
       "      <td>0.000000</td>\n",
       "      <td>2.000000</td>\n",
       "      <td>1023.000000</td>\n",
       "    </tr>\n",
       "    <tr>\n",
       "      <td>75%</td>\n",
       "      <td>76.000000</td>\n",
       "      <td>545.000000</td>\n",
       "      <td>51.000000</td>\n",
       "      <td>20042.930000</td>\n",
       "      <td>62.000000</td>\n",
       "      <td>50.0</td>\n",
       "      <td>15.0</td>\n",
       "      <td>500.0</td>\n",
       "      <td>550.0</td>\n",
       "      <td>200.0</td>\n",
       "      <td>3.0</td>\n",
       "      <td>3.0</td>\n",
       "      <td>20.000000</td>\n",
       "      <td>45.000000</td>\n",
       "      <td>1.000000</td>\n",
       "      <td>5.000000</td>\n",
       "      <td>1750.000000</td>\n",
       "    </tr>\n",
       "    <tr>\n",
       "      <td>max</td>\n",
       "      <td>198.000000</td>\n",
       "      <td>1435.000000</td>\n",
       "      <td>143.000000</td>\n",
       "      <td>38552.450000</td>\n",
       "      <td>75.000000</td>\n",
       "      <td>50.0</td>\n",
       "      <td>15.0</td>\n",
       "      <td>500.0</td>\n",
       "      <td>550.0</td>\n",
       "      <td>200.0</td>\n",
       "      <td>3.0</td>\n",
       "      <td>3.0</td>\n",
       "      <td>38.000000</td>\n",
       "      <td>935.000000</td>\n",
       "      <td>93.000000</td>\n",
       "      <td>23.000000</td>\n",
       "      <td>6770.000000</td>\n",
       "    </tr>\n",
       "  </tbody>\n",
       "</table>\n",
       "</div>"
      ],
      "text/plain": [
       "       calls_number  calls_duration   message_id       mb_used          age  \\\n",
       "count   2229.000000     2229.000000  2229.000000   2229.000000  2229.000000   \n",
       "mean      58.463437      417.934948    33.384029  16208.386990    46.556303   \n",
       "std       25.939858      190.313730    28.227876   5870.476681    16.353371   \n",
       "min        0.000000        0.000000     0.000000      0.000000    18.000000   \n",
       "25%       40.000000      282.000000    10.000000  12643.010000    32.000000   \n",
       "50%       60.000000      422.000000    28.000000  16506.840000    47.000000   \n",
       "75%       76.000000      545.000000    51.000000  20042.930000    62.000000   \n",
       "max      198.000000     1435.000000   143.000000  38552.450000    75.000000   \n",
       "\n",
       "       messages_included  gb_per_month_included  minutes_included  \\\n",
       "count             2229.0                 2229.0            2229.0   \n",
       "mean                50.0                   15.0             500.0   \n",
       "std                  0.0                    0.0               0.0   \n",
       "min                 50.0                   15.0             500.0   \n",
       "25%                 50.0                   15.0             500.0   \n",
       "50%                 50.0                   15.0             500.0   \n",
       "75%                 50.0                   15.0             500.0   \n",
       "max                 50.0                   15.0             500.0   \n",
       "\n",
       "       rub_monthly_fee  rub_per_gb  rub_per_message  rub_per_minute  \\\n",
       "count           2229.0      2229.0           2229.0          2229.0   \n",
       "mean             550.0       200.0              3.0             3.0   \n",
       "std                0.0         0.0              0.0             0.0   \n",
       "min              550.0       200.0              3.0             3.0   \n",
       "25%              550.0       200.0              3.0             3.0   \n",
       "50%              550.0       200.0              3.0             3.0   \n",
       "75%              550.0       200.0              3.0             3.0   \n",
       "max              550.0       200.0              3.0             3.0   \n",
       "\n",
       "           gb_used  extra_calls    extra_sms     extra_gb     earnings  \n",
       "count  2229.000000  2229.000000  2229.000000  2229.000000  2229.000000  \n",
       "mean     16.328847    41.605653     5.799910     2.988784  1289.973531  \n",
       "std       5.747061    84.678573    13.442456     3.682820   818.404367  \n",
       "min       0.000000     0.000000     0.000000     0.000000   550.000000  \n",
       "25%      13.000000     0.000000     0.000000     0.000000   550.000000  \n",
       "50%      17.000000     0.000000     0.000000     2.000000  1023.000000  \n",
       "75%      20.000000    45.000000     1.000000     5.000000  1750.000000  \n",
       "max      38.000000   935.000000    93.000000    23.000000  6770.000000  "
      ]
     },
     "execution_count": 34,
     "metadata": {},
     "output_type": "execute_result"
    }
   ],
   "source": [
    "smart_users.describe()"
   ]
  },
  {
   "cell_type": "code",
   "execution_count": 35,
   "metadata": {
    "scrolled": true
   },
   "outputs": [
    {
     "data": {
      "text/html": [
       "<div>\n",
       "<style scoped>\n",
       "    .dataframe tbody tr th:only-of-type {\n",
       "        vertical-align: middle;\n",
       "    }\n",
       "\n",
       "    .dataframe tbody tr th {\n",
       "        vertical-align: top;\n",
       "    }\n",
       "\n",
       "    .dataframe thead th {\n",
       "        text-align: right;\n",
       "    }\n",
       "</style>\n",
       "<table border=\"1\" class=\"dataframe\">\n",
       "  <thead>\n",
       "    <tr style=\"text-align: right;\">\n",
       "      <th></th>\n",
       "      <th>calls_number</th>\n",
       "      <th>calls_duration</th>\n",
       "      <th>message_id</th>\n",
       "      <th>mb_used</th>\n",
       "      <th>age</th>\n",
       "      <th>messages_included</th>\n",
       "      <th>gb_per_month_included</th>\n",
       "      <th>minutes_included</th>\n",
       "      <th>rub_monthly_fee</th>\n",
       "      <th>rub_per_gb</th>\n",
       "      <th>rub_per_message</th>\n",
       "      <th>rub_per_minute</th>\n",
       "      <th>gb_used</th>\n",
       "      <th>extra_calls</th>\n",
       "      <th>extra_sms</th>\n",
       "      <th>extra_gb</th>\n",
       "      <th>earnings</th>\n",
       "    </tr>\n",
       "  </thead>\n",
       "  <tbody>\n",
       "    <tr>\n",
       "      <td>count</td>\n",
       "      <td>985.000000</td>\n",
       "      <td>985.000000</td>\n",
       "      <td>985.000000</td>\n",
       "      <td>985.000000</td>\n",
       "      <td>985.000000</td>\n",
       "      <td>985.0</td>\n",
       "      <td>985.0</td>\n",
       "      <td>985.0</td>\n",
       "      <td>985.0</td>\n",
       "      <td>985.0</td>\n",
       "      <td>985.0</td>\n",
       "      <td>985.0</td>\n",
       "      <td>985.000000</td>\n",
       "      <td>985.0</td>\n",
       "      <td>985.0</td>\n",
       "      <td>985.000000</td>\n",
       "      <td>985.000000</td>\n",
       "    </tr>\n",
       "    <tr>\n",
       "      <td>mean</td>\n",
       "      <td>73.392893</td>\n",
       "      <td>526.623350</td>\n",
       "      <td>49.363452</td>\n",
       "      <td>19468.805208</td>\n",
       "      <td>46.834518</td>\n",
       "      <td>1000.0</td>\n",
       "      <td>30.0</td>\n",
       "      <td>3000.0</td>\n",
       "      <td>1950.0</td>\n",
       "      <td>150.0</td>\n",
       "      <td>1.0</td>\n",
       "      <td>1.0</td>\n",
       "      <td>19.494416</td>\n",
       "      <td>0.0</td>\n",
       "      <td>0.0</td>\n",
       "      <td>0.801015</td>\n",
       "      <td>2070.152284</td>\n",
       "    </tr>\n",
       "    <tr>\n",
       "      <td>std</td>\n",
       "      <td>43.916853</td>\n",
       "      <td>317.606098</td>\n",
       "      <td>47.804457</td>\n",
       "      <td>10087.170752</td>\n",
       "      <td>17.107979</td>\n",
       "      <td>0.0</td>\n",
       "      <td>0.0</td>\n",
       "      <td>0.0</td>\n",
       "      <td>0.0</td>\n",
       "      <td>0.0</td>\n",
       "      <td>0.0</td>\n",
       "      <td>0.0</td>\n",
       "      <td>9.853511</td>\n",
       "      <td>0.0</td>\n",
       "      <td>0.0</td>\n",
       "      <td>2.507914</td>\n",
       "      <td>376.187114</td>\n",
       "    </tr>\n",
       "    <tr>\n",
       "      <td>min</td>\n",
       "      <td>0.000000</td>\n",
       "      <td>0.000000</td>\n",
       "      <td>0.000000</td>\n",
       "      <td>0.000000</td>\n",
       "      <td>18.000000</td>\n",
       "      <td>1000.0</td>\n",
       "      <td>30.0</td>\n",
       "      <td>3000.0</td>\n",
       "      <td>1950.0</td>\n",
       "      <td>150.0</td>\n",
       "      <td>1.0</td>\n",
       "      <td>1.0</td>\n",
       "      <td>0.000000</td>\n",
       "      <td>0.0</td>\n",
       "      <td>0.0</td>\n",
       "      <td>0.000000</td>\n",
       "      <td>1950.000000</td>\n",
       "    </tr>\n",
       "    <tr>\n",
       "      <td>25%</td>\n",
       "      <td>41.000000</td>\n",
       "      <td>284.000000</td>\n",
       "      <td>6.000000</td>\n",
       "      <td>11770.260000</td>\n",
       "      <td>30.000000</td>\n",
       "      <td>1000.0</td>\n",
       "      <td>30.0</td>\n",
       "      <td>3000.0</td>\n",
       "      <td>1950.0</td>\n",
       "      <td>150.0</td>\n",
       "      <td>1.0</td>\n",
       "      <td>1.0</td>\n",
       "      <td>12.000000</td>\n",
       "      <td>0.0</td>\n",
       "      <td>0.0</td>\n",
       "      <td>0.000000</td>\n",
       "      <td>1950.000000</td>\n",
       "    </tr>\n",
       "    <tr>\n",
       "      <td>50%</td>\n",
       "      <td>74.000000</td>\n",
       "      <td>518.000000</td>\n",
       "      <td>38.000000</td>\n",
       "      <td>19308.010000</td>\n",
       "      <td>45.000000</td>\n",
       "      <td>1000.0</td>\n",
       "      <td>30.0</td>\n",
       "      <td>3000.0</td>\n",
       "      <td>1950.0</td>\n",
       "      <td>150.0</td>\n",
       "      <td>1.0</td>\n",
       "      <td>1.0</td>\n",
       "      <td>19.000000</td>\n",
       "      <td>0.0</td>\n",
       "      <td>0.0</td>\n",
       "      <td>0.000000</td>\n",
       "      <td>1950.000000</td>\n",
       "    </tr>\n",
       "    <tr>\n",
       "      <td>75%</td>\n",
       "      <td>104.000000</td>\n",
       "      <td>752.000000</td>\n",
       "      <td>79.000000</td>\n",
       "      <td>26837.690000</td>\n",
       "      <td>63.000000</td>\n",
       "      <td>1000.0</td>\n",
       "      <td>30.0</td>\n",
       "      <td>3000.0</td>\n",
       "      <td>1950.0</td>\n",
       "      <td>150.0</td>\n",
       "      <td>1.0</td>\n",
       "      <td>1.0</td>\n",
       "      <td>27.000000</td>\n",
       "      <td>0.0</td>\n",
       "      <td>0.0</td>\n",
       "      <td>0.000000</td>\n",
       "      <td>1950.000000</td>\n",
       "    </tr>\n",
       "    <tr>\n",
       "      <td>max</td>\n",
       "      <td>244.000000</td>\n",
       "      <td>1673.000000</td>\n",
       "      <td>224.000000</td>\n",
       "      <td>49745.690000</td>\n",
       "      <td>75.000000</td>\n",
       "      <td>1000.0</td>\n",
       "      <td>30.0</td>\n",
       "      <td>3000.0</td>\n",
       "      <td>1950.0</td>\n",
       "      <td>150.0</td>\n",
       "      <td>1.0</td>\n",
       "      <td>1.0</td>\n",
       "      <td>49.000000</td>\n",
       "      <td>0.0</td>\n",
       "      <td>0.0</td>\n",
       "      <td>19.000000</td>\n",
       "      <td>4800.000000</td>\n",
       "    </tr>\n",
       "  </tbody>\n",
       "</table>\n",
       "</div>"
      ],
      "text/plain": [
       "       calls_number  calls_duration  message_id       mb_used         age  \\\n",
       "count    985.000000      985.000000  985.000000    985.000000  985.000000   \n",
       "mean      73.392893      526.623350   49.363452  19468.805208   46.834518   \n",
       "std       43.916853      317.606098   47.804457  10087.170752   17.107979   \n",
       "min        0.000000        0.000000    0.000000      0.000000   18.000000   \n",
       "25%       41.000000      284.000000    6.000000  11770.260000   30.000000   \n",
       "50%       74.000000      518.000000   38.000000  19308.010000   45.000000   \n",
       "75%      104.000000      752.000000   79.000000  26837.690000   63.000000   \n",
       "max      244.000000     1673.000000  224.000000  49745.690000   75.000000   \n",
       "\n",
       "       messages_included  gb_per_month_included  minutes_included  \\\n",
       "count              985.0                  985.0             985.0   \n",
       "mean              1000.0                   30.0            3000.0   \n",
       "std                  0.0                    0.0               0.0   \n",
       "min               1000.0                   30.0            3000.0   \n",
       "25%               1000.0                   30.0            3000.0   \n",
       "50%               1000.0                   30.0            3000.0   \n",
       "75%               1000.0                   30.0            3000.0   \n",
       "max               1000.0                   30.0            3000.0   \n",
       "\n",
       "       rub_monthly_fee  rub_per_gb  rub_per_message  rub_per_minute  \\\n",
       "count            985.0       985.0            985.0           985.0   \n",
       "mean            1950.0       150.0              1.0             1.0   \n",
       "std                0.0         0.0              0.0             0.0   \n",
       "min             1950.0       150.0              1.0             1.0   \n",
       "25%             1950.0       150.0              1.0             1.0   \n",
       "50%             1950.0       150.0              1.0             1.0   \n",
       "75%             1950.0       150.0              1.0             1.0   \n",
       "max             1950.0       150.0              1.0             1.0   \n",
       "\n",
       "          gb_used  extra_calls  extra_sms    extra_gb     earnings  \n",
       "count  985.000000        985.0      985.0  985.000000   985.000000  \n",
       "mean    19.494416          0.0        0.0    0.801015  2070.152284  \n",
       "std      9.853511          0.0        0.0    2.507914   376.187114  \n",
       "min      0.000000          0.0        0.0    0.000000  1950.000000  \n",
       "25%     12.000000          0.0        0.0    0.000000  1950.000000  \n",
       "50%     19.000000          0.0        0.0    0.000000  1950.000000  \n",
       "75%     27.000000          0.0        0.0    0.000000  1950.000000  \n",
       "max     49.000000          0.0        0.0   19.000000  4800.000000  "
      ]
     },
     "execution_count": 35,
     "metadata": {},
     "output_type": "execute_result"
    }
   ],
   "source": [
    "ultra_users.describe()"
   ]
  },
  {
   "cell_type": "code",
   "execution_count": 36,
   "metadata": {
    "scrolled": false
   },
   "outputs": [
    {
     "data": {
      "image/png": "[encoded data removed]",
      "text/plain": [
       "<Figure size 432x288 with 1 Axes>"
      ]
     },
     "metadata": {
      "needs_background": "light"
     },
     "output_type": "display_data"
    },
    {
     "data": {
      "image/png": "[encoded data removed]",
      "text/plain": [
       "<Figure size 432x288 with 1 Axes>"
      ]
     },
     "metadata": {
      "needs_background": "light"
     },
     "output_type": "display_data"
    },
    {
     "data": {
      "image/png": "[encoded data removed]",
      "text/plain": [
       "<Figure size 432x288 with 1 Axes>"
      ]
     },
     "metadata": {
      "needs_background": "light"
     },
     "output_type": "display_data"
    }
   ],
   "source": [
    "#plot histograms for \"Smart\" users\n",
    "smart_cols_to_plot = smart_users[['calls_duration', 'message_id', 'gb_used']]\n",
    "for col in smart_cols_to_plot:\n",
    "    sns.distplot(smart_cols_to_plot[col], bins=int(smart_cols_to_plot[col].quantile(0.5)))\n",
    "    plt.show()    "
   ]
  },
  {
   "cell_type": "code",
   "execution_count": 37,
   "metadata": {},
   "outputs": [
    {
     "data": {
      "image/png": "[encoded data removed]",
      "text/plain": [
       "<Figure size 432x288 with 1 Axes>"
      ]
     },
     "metadata": {
      "needs_background": "light"
     },
     "output_type": "display_data"
    },
    {
     "data": {
      "image/png": "[encoded data removed]",
      "text/plain": [
       "<Figure size 432x288 with 1 Axes>"
      ]
     },
     "metadata": {
      "needs_background": "light"
     },
     "output_type": "display_data"
    },
    {
     "data": {
      "image/png": "[encoded data removed]",
      "text/plain": [
       "<Figure size 432x288 with 1 Axes>"
      ]
     },
     "metadata": {
      "needs_background": "light"
     },
     "output_type": "display_data"
    }
   ],
   "source": [
    "#the same for \"Ultra\" users\n",
    "ultra_cols_to_plot = ultra_users[['calls_duration', 'message_id', 'gb_used']]\n",
    "for col in ultra_cols_to_plot:\n",
    "    sns.distplot(ultra_cols_to_plot[col], bins=int(ultra_cols_to_plot[col].quantile(0.5)))\n",
    "    plt.show()"
   ]
  },
  {
   "cell_type": "markdown",
   "metadata": {},
   "source": [
    "### Conclusion"
   ]
  },
  {
   "cell_type": "markdown",
   "metadata": {},
   "source": [
    "Comparing users monthly activity of both tarrifs we can say that:\n",
    "\n",
    "- \"Smart\" is cheaper and more popular \n",
    "- Average call of \"Ultra\" users is 20% longer, standard deviation is greater\n",
    "- Average amounth of text messages of \"Ultra\" users is almost 2 times greater \n",
    "- Average network traffic value of \"Ultra\" users is 82% more\n",
    "- \"Smart\" users usually run off included services. They need 21 more minutes of calls, 6 text messages and 3 gb of network traffic. Meanwhile \"Ultra\" clients are usually are good with included services. Except may be extra 1 gb of data traffic.\n",
    "- Call duration and network traffic distributions are look normal. Text messages distributions are skewed to the rights. It means there are outliers."
   ]
  },
  {
   "cell_type": "markdown",
   "metadata": {},
   "source": [
    "## Statistical Hypothesis Testing"
   ]
  },
  {
   "cell_type": "markdown",
   "metadata": {},
   "source": [
    "### Test hypothesis: \"avarage profits from \"Ultra\" and \"Smart\" users are not different\""
   ]
  },
  {
   "cell_type": "markdown",
   "metadata": {},
   "source": [
    "Let's vocabulate null hypothesis as \"avarage profits from \"Ultra\" and \"Smart\" users are not different\". Then alternative hypotesis would be \"avarage profits from \"Ultra\" and \"Smart\" users are different\".  Amount of mean values from sample is large enough. Therefore on grounds of Central Limit Theorem the distribution of a sample variable approximates a normal distribution. So we can run T-test."
   ]
  },
  {
   "cell_type": "code",
   "execution_count": 45,
   "metadata": {},
   "outputs": [
    {
     "data": {
      "text/plain": [
       "376.1871144505328"
      ]
     },
     "execution_count": 45,
     "metadata": {},
     "output_type": "execute_result"
    }
   ],
   "source": [
    "#check a stndard deviation\n",
    "dataset.query('tariff == \"ultra\"')['earnings'].std()"
   ]
  },
  {
   "cell_type": "code",
   "execution_count": 46,
   "metadata": {},
   "outputs": [
    {
     "data": {
      "text/plain": [
       "818.4043670499469"
      ]
     },
     "execution_count": 46,
     "metadata": {},
     "output_type": "execute_result"
    }
   ],
   "source": [
    "dataset.query('tariff == \"smart\"')['earnings'].std()"
   ]
  },
  {
   "cell_type": "code",
   "execution_count": 39,
   "metadata": {},
   "outputs": [
    {
     "name": "stdout",
     "output_type": "stream",
     "text": [
      "p-value: 4.2606313931076085e-250\n",
      "Reject null hypothesis\n"
     ]
    }
   ],
   "source": [
    "alpha = 0.05\n",
    "\n",
    "results = st.ttest_ind(ultra_users['earnings'], smart_users['earnings'], equal_var=False)\n",
    "\n",
    "print('p-value:', results.pvalue)\n",
    "\n",
    "if results.pvalue < alpha:\n",
    "    print('Reject null hypothesis')\n",
    "else:\n",
    "    print('Fail to reject null hypothesis') "
   ]
  },
  {
   "cell_type": "markdown",
   "metadata": {},
   "source": [
    "### Conclusion"
   ]
  },
  {
   "cell_type": "markdown",
   "metadata": {},
   "source": [
    "Assumption that avarage profits from \"Ultra\" and \"Smart\" users are not differen is not approved by observations. Actually we know from previouse part that difference between them is 60%."
   ]
  },
  {
   "cell_type": "markdown",
   "metadata": {},
   "source": [
    "### Test hypothesis:  \"avarage profit from Moscow is different then from other regions\""
   ]
  },
  {
   "cell_type": "markdown",
   "metadata": {},
   "source": [
    "Let's vocabulate null hypothesis as \"avarage profit from Moscow is not different then from other regions\". Then alternative hypotesis would be \"avarage profit from Moscow is different then from other regions\". Amount of mean values from sample is large enough. Therefore on grounds of Central Limit Theorem the distribution of a sample variable approximates a normal distribution. So we can run T-test."
   ]
  },
  {
   "cell_type": "code",
   "execution_count": 47,
   "metadata": {},
   "outputs": [
    {
     "data": {
      "text/plain": [
       "808.7877524553716"
      ]
     },
     "execution_count": 47,
     "metadata": {},
     "output_type": "execute_result"
    }
   ],
   "source": [
    "#check a stndard deviation\n",
    "dataset.query('city != \"Москва\"')['earnings'].std()"
   ]
  },
  {
   "cell_type": "code",
   "execution_count": 48,
   "metadata": {},
   "outputs": [
    {
     "data": {
      "text/plain": [
       "752.0880713133841"
      ]
     },
     "execution_count": 48,
     "metadata": {},
     "output_type": "execute_result"
    }
   ],
   "source": [
    "#check a stndard deviation\n",
    "dataset.query('city == \"Москва\"')['earnings'].std()"
   ]
  },
  {
   "cell_type": "code",
   "execution_count": 49,
   "metadata": {},
   "outputs": [
    {
     "name": "stdout",
     "output_type": "stream",
     "text": [
      "p-value: 0.5440152911670224\n",
      "Fail to reject null hypothesis\n"
     ]
    }
   ],
   "source": [
    "alpha = 0.05\n",
    "\n",
    "results = st.ttest_ind(dataset.query('city == \"Москва\"')['earnings'], dataset.query('city != \"Москва\"')['earnings'], equal_var=True)\n",
    "\n",
    "print('p-value:', results.pvalue)\n",
    "\n",
    "if results.pvalue < alpha:\n",
    "    print('Reject null hypothesis')\n",
    "else:\n",
    "    print('Fail to reject null hypothesis') "
   ]
  },
  {
   "cell_type": "markdown",
   "metadata": {},
   "source": [
    "<div class=\"alert alert-success\">\n",
    "<b>Комментарий ревьюера:</b>\n",
    "\n",
    "Гипотезы сформулированы верно.\n",
    "    \n",
    "    \n",
    "    \n",
    "</div>"
   ]
  },
  {
   "cell_type": "code",
   "execution_count": 43,
   "metadata": {},
   "outputs": [
    {
     "data": {
      "text/plain": [
       "1524.9362274298885"
      ]
     },
     "execution_count": 43,
     "metadata": {},
     "output_type": "execute_result"
    }
   ],
   "source": [
    "#check the result\n",
    "dataset.query('city != \"Москва\"')['earnings'].mean()"
   ]
  },
  {
   "cell_type": "code",
   "execution_count": 44,
   "metadata": {},
   "outputs": [
    {
     "data": {
      "text/plain": [
       "1546.7135842880523"
      ]
     },
     "execution_count": 44,
     "metadata": {},
     "output_type": "execute_result"
    }
   ],
   "source": [
    "dataset.query('city == \"Москва\"')['earnings'].mean()"
   ]
  },
  {
   "cell_type": "markdown",
   "metadata": {},
   "source": [
    "### Conclusion"
   ]
  },
  {
   "cell_type": "markdown",
   "metadata": {},
   "source": [
    "Assumption that avarage profit from Moscow is different then from other regions is not approved by observations. We can see that average profits are close enough."
   ]
  },
  {
   "cell_type": "markdown",
   "metadata": {},
   "source": [
    "## General Conclusion"
   ]
  },
  {
   "cell_type": "markdown",
   "metadata": {},
   "source": [
    "\"Ultra\" tariff is more profitable. It's also more expensive and that matter probably scares potential customers. So we can porpose mobile operator to explain to their clients that \"Ultra\" tariff is already includes all what they need. And if they need more it would not be so expansive.   "
   ]
  }
 ],
 "metadata": {
  "ExecuteTimeLog": [
   {
    "duration": 1499,
    "start_time": "2021-07-22T08:46:29.778Z"
   },
   {
    "duration": 224,
    "start_time": "2021-07-22T08:46:37.871Z"
   },
   {
    "duration": 383,
    "start_time": "2021-07-22T08:47:51.328Z"
   },
   {
    "duration": 498,
    "start_time": "2021-07-22T08:48:41.574Z"
   },
   {
    "duration": 491,
    "start_time": "2021-07-22T08:48:52.527Z"
   },
   {
    "duration": 484,
    "start_time": "2021-07-22T08:49:04.166Z"
   },
   {
    "duration": 512,
    "start_time": "2021-07-22T08:50:54.926Z"
   },
   {
    "duration": 486,
    "start_time": "2021-07-22T08:51:22.124Z"
   },
   {
    "duration": 506,
    "start_time": "2021-07-22T08:52:30.581Z"
   },
   {
    "duration": 523,
    "start_time": "2021-07-22T08:52:50.500Z"
   },
   {
    "duration": 509,
    "start_time": "2021-07-22T08:53:47.763Z"
   },
   {
    "duration": 35,
    "start_time": "2021-07-22T08:55:06.195Z"
   },
   {
    "duration": 31,
    "start_time": "2021-07-22T08:55:39.914Z"
   },
   {
    "duration": 24,
    "start_time": "2021-07-22T08:56:13.014Z"
   },
   {
    "duration": 17,
    "start_time": "2021-07-22T08:56:45.306Z"
   },
   {
    "duration": 18,
    "start_time": "2021-07-22T08:57:52.311Z"
   },
   {
    "duration": 1328,
    "start_time": "2021-07-22T08:58:07.024Z"
   },
   {
    "duration": 47,
    "start_time": "2021-07-22T08:58:08.354Z"
   },
   {
    "duration": 31,
    "start_time": "2021-07-22T08:58:08.405Z"
   },
   {
    "duration": 54,
    "start_time": "2021-07-22T08:58:08.438Z"
   },
   {
    "duration": 18,
    "start_time": "2021-07-22T08:58:08.494Z"
   },
   {
    "duration": 66,
    "start_time": "2021-07-22T08:58:08.514Z"
   },
   {
    "duration": 641,
    "start_time": "2021-07-22T09:03:40.691Z"
   },
   {
    "duration": 515,
    "start_time": "2021-07-22T09:04:04.609Z"
   },
   {
    "duration": 422,
    "start_time": "2021-07-22T09:05:48.481Z"
   },
   {
    "duration": 382,
    "start_time": "2021-07-22T14:11:45.536Z"
   },
   {
    "duration": 2017,
    "start_time": "2021-07-22T14:11:59.852Z"
   },
   {
    "duration": 48,
    "start_time": "2021-07-22T14:12:01.872Z"
   },
   {
    "duration": 33,
    "start_time": "2021-07-22T14:12:01.924Z"
   },
   {
    "duration": 25,
    "start_time": "2021-07-22T14:12:01.986Z"
   },
   {
    "duration": 36,
    "start_time": "2021-07-22T14:12:02.014Z"
   },
   {
    "duration": 39,
    "start_time": "2021-07-22T14:12:02.052Z"
   },
   {
    "duration": 94,
    "start_time": "2021-07-22T14:12:02.094Z"
   },
   {
    "duration": 62,
    "start_time": "2021-07-22T14:13:40.752Z"
   },
   {
    "duration": 41,
    "start_time": "2021-07-22T14:14:47.988Z"
   },
   {
    "duration": 470,
    "start_time": "2021-07-22T14:15:47.797Z"
   },
   {
    "duration": 76,
    "start_time": "2021-07-22T14:16:11.489Z"
   },
   {
    "duration": 73,
    "start_time": "2021-07-22T14:16:28.378Z"
   },
   {
    "duration": 379,
    "start_time": "2021-07-22T14:16:36.176Z"
   },
   {
    "duration": 399,
    "start_time": "2021-07-22T14:16:43.996Z"
   },
   {
    "duration": 69,
    "start_time": "2021-07-22T14:16:52.976Z"
   },
   {
    "duration": 74,
    "start_time": "2021-07-22T14:17:01.157Z"
   },
   {
    "duration": 70,
    "start_time": "2021-07-22T14:17:11.977Z"
   },
   {
    "duration": 581,
    "start_time": "2021-07-22T14:17:57.837Z"
   },
   {
    "duration": 69,
    "start_time": "2021-07-22T14:18:11.606Z"
   },
   {
    "duration": 346,
    "start_time": "2021-07-22T14:21:43.822Z"
   },
   {
    "duration": 107,
    "start_time": "2021-07-22T14:31:23.966Z"
   },
   {
    "duration": 108,
    "start_time": "2021-07-22T14:31:33.526Z"
   },
   {
    "duration": 600,
    "start_time": "2021-07-22T14:31:44.416Z"
   },
   {
    "duration": 99,
    "start_time": "2021-07-22T14:32:14.517Z"
   },
   {
    "duration": 871,
    "start_time": "2021-07-22T14:32:22.496Z"
   },
   {
    "duration": 538,
    "start_time": "2021-07-22T14:32:33.656Z"
   },
   {
    "duration": 349,
    "start_time": "2021-07-22T14:36:24.052Z"
   },
   {
    "duration": 1197,
    "start_time": "2021-07-22T14:38:34.712Z"
   },
   {
    "duration": 864,
    "start_time": "2021-07-22T14:40:36.067Z"
   },
   {
    "duration": 1079,
    "start_time": "2021-07-22T14:41:15.167Z"
   },
   {
    "duration": 594,
    "start_time": "2021-07-22T14:41:38.433Z"
   },
   {
    "duration": 325,
    "start_time": "2021-07-22T14:43:55.482Z"
   },
   {
    "duration": 106,
    "start_time": "2021-07-22T14:44:58.737Z"
   },
   {
    "duration": 148,
    "start_time": "2021-07-22T14:45:06.556Z"
   },
   {
    "duration": 106,
    "start_time": "2021-07-22T15:18:11.795Z"
   },
   {
    "duration": 160,
    "start_time": "2021-07-22T15:18:35.064Z"
   },
   {
    "duration": 101,
    "start_time": "2021-07-22T15:18:42.421Z"
   },
   {
    "duration": 116,
    "start_time": "2021-07-22T15:18:51.194Z"
   },
   {
    "duration": 108,
    "start_time": "2021-07-22T15:19:05.784Z"
   },
   {
    "duration": 117,
    "start_time": "2021-07-22T15:19:37.510Z"
   },
   {
    "duration": 1473,
    "start_time": "2021-07-22T15:19:57.785Z"
   },
   {
    "duration": 46,
    "start_time": "2021-07-22T15:19:59.260Z"
   },
   {
    "duration": 32,
    "start_time": "2021-07-22T15:19:59.309Z"
   },
   {
    "duration": 50,
    "start_time": "2021-07-22T15:19:59.344Z"
   },
   {
    "duration": 17,
    "start_time": "2021-07-22T15:19:59.396Z"
   },
   {
    "duration": 26,
    "start_time": "2021-07-22T15:19:59.416Z"
   },
   {
    "duration": 119,
    "start_time": "2021-07-22T15:19:59.444Z"
   },
   {
    "duration": 367,
    "start_time": "2021-07-22T15:20:14.464Z"
   },
   {
    "duration": 70,
    "start_time": "2021-07-22T15:20:58.628Z"
   },
   {
    "duration": 80,
    "start_time": "2021-07-22T15:21:16.409Z"
   },
   {
    "duration": 82,
    "start_time": "2021-07-22T15:21:32.449Z"
   },
   {
    "duration": 83,
    "start_time": "2021-07-22T15:22:22.288Z"
   },
   {
    "duration": 92,
    "start_time": "2021-07-22T15:22:54.649Z"
   },
   {
    "duration": 75,
    "start_time": "2021-07-22T15:23:48.799Z"
   },
   {
    "duration": 84,
    "start_time": "2021-07-22T15:25:36.958Z"
   },
   {
    "duration": 104,
    "start_time": "2021-07-22T15:27:56.049Z"
   },
   {
    "duration": 66,
    "start_time": "2021-07-22T15:35:13.690Z"
   },
   {
    "duration": 975,
    "start_time": "2021-07-22T15:35:23.619Z"
   },
   {
    "duration": 42,
    "start_time": "2021-07-22T15:35:39.908Z"
   },
   {
    "duration": 47,
    "start_time": "2021-07-22T15:35:52.668Z"
   },
   {
    "duration": 45,
    "start_time": "2021-07-22T15:36:11.318Z"
   },
   {
    "duration": 1334,
    "start_time": "2021-07-22T15:36:19.507Z"
   },
   {
    "duration": 44,
    "start_time": "2021-07-22T15:36:20.844Z"
   },
   {
    "duration": 32,
    "start_time": "2021-07-22T15:36:20.891Z"
   },
   {
    "duration": 26,
    "start_time": "2021-07-22T15:36:20.926Z"
   },
   {
    "duration": 47,
    "start_time": "2021-07-22T15:36:20.954Z"
   },
   {
    "duration": 45,
    "start_time": "2021-07-22T15:36:21.003Z"
   },
   {
    "duration": 79,
    "start_time": "2021-07-22T15:36:21.051Z"
   },
   {
    "duration": 574,
    "start_time": "2021-07-22T15:36:52.121Z"
   },
   {
    "duration": 38,
    "start_time": "2021-07-22T15:36:54.631Z"
   },
   {
    "duration": 32,
    "start_time": "2021-07-22T15:36:58.196Z"
   },
   {
    "duration": 26,
    "start_time": "2021-07-22T15:37:05.871Z"
   },
   {
    "duration": 17,
    "start_time": "2021-07-22T15:37:11.961Z"
   },
   {
    "duration": 19,
    "start_time": "2021-07-22T15:37:15.672Z"
   },
   {
    "duration": 52,
    "start_time": "2021-07-22T15:37:27.961Z"
   },
   {
    "duration": 106,
    "start_time": "2021-07-22T15:40:46.661Z"
   },
   {
    "duration": 60,
    "start_time": "2021-07-22T15:42:13.116Z"
   },
   {
    "duration": 465,
    "start_time": "2021-07-22T15:42:34.596Z"
   },
   {
    "duration": 360,
    "start_time": "2021-07-22T15:42:58.351Z"
   },
   {
    "duration": 385,
    "start_time": "2021-07-22T15:45:02.257Z"
   },
   {
    "duration": 402,
    "start_time": "2021-07-22T15:49:00.360Z"
   },
   {
    "duration": 387,
    "start_time": "2021-07-22T15:49:26.825Z"
   },
   {
    "duration": 355,
    "start_time": "2021-07-22T15:51:32.821Z"
   },
   {
    "duration": 1329,
    "start_time": "2021-07-23T13:29:46.430Z"
   },
   {
    "duration": 45,
    "start_time": "2021-07-23T13:29:47.761Z"
   },
   {
    "duration": 32,
    "start_time": "2021-07-23T13:29:47.809Z"
   },
   {
    "duration": 27,
    "start_time": "2021-07-23T13:29:47.863Z"
   },
   {
    "duration": 17,
    "start_time": "2021-07-23T13:29:47.893Z"
   },
   {
    "duration": 57,
    "start_time": "2021-07-23T13:29:47.912Z"
   },
   {
    "duration": 434,
    "start_time": "2021-07-23T13:29:47.971Z"
   },
   {
    "duration": 312,
    "start_time": "2021-07-23T13:30:20.959Z"
   },
   {
    "duration": 279,
    "start_time": "2021-07-23T13:30:38.859Z"
   },
   {
    "duration": 343,
    "start_time": "2021-07-23T13:32:52.179Z"
   },
   {
    "duration": 504,
    "start_time": "2021-07-23T13:33:17.319Z"
   },
   {
    "duration": 608,
    "start_time": "2021-07-23T13:33:58.289Z"
   },
   {
    "duration": 588,
    "start_time": "2021-07-23T13:35:15.509Z"
   },
   {
    "duration": 633,
    "start_time": "2021-07-23T13:35:37.475Z"
   },
   {
    "duration": 77,
    "start_time": "2021-07-23T13:37:36.930Z"
   },
   {
    "duration": 102,
    "start_time": "2021-07-23T13:37:51.550Z"
   },
   {
    "duration": 324,
    "start_time": "2021-07-23T13:38:57.626Z"
   },
   {
    "duration": 94,
    "start_time": "2021-07-23T13:39:15.144Z"
   },
   {
    "duration": 531,
    "start_time": "2021-07-23T13:42:24.324Z"
   },
   {
    "duration": 5137,
    "start_time": "2021-07-23T13:42:44.305Z"
   },
   {
    "duration": 1332,
    "start_time": "2021-07-23T13:43:17.995Z"
   },
   {
    "duration": 44,
    "start_time": "2021-07-23T13:43:19.330Z"
   },
   {
    "duration": 31,
    "start_time": "2021-07-23T13:43:19.378Z"
   },
   {
    "duration": 57,
    "start_time": "2021-07-23T13:43:19.412Z"
   },
   {
    "duration": 17,
    "start_time": "2021-07-23T13:43:19.472Z"
   },
   {
    "duration": 21,
    "start_time": "2021-07-23T13:43:19.492Z"
   },
   {
    "duration": 212,
    "start_time": "2021-07-23T13:43:19.516Z"
   },
   {
    "duration": 115,
    "start_time": "2021-07-23T13:44:14.215Z"
   },
   {
    "duration": 1286,
    "start_time": "2021-07-23T14:10:36.465Z"
   },
   {
    "duration": 46,
    "start_time": "2021-07-23T14:10:37.754Z"
   },
   {
    "duration": 32,
    "start_time": "2021-07-23T14:10:37.803Z"
   },
   {
    "duration": 26,
    "start_time": "2021-07-23T14:10:37.861Z"
   },
   {
    "duration": 16,
    "start_time": "2021-07-23T14:10:37.889Z"
   },
   {
    "duration": 26,
    "start_time": "2021-07-23T14:10:37.907Z"
   },
   {
    "duration": 1481,
    "start_time": "2021-07-23T14:11:49.717Z"
   },
   {
    "duration": 46,
    "start_time": "2021-07-23T14:11:51.200Z"
   },
   {
    "duration": 33,
    "start_time": "2021-07-23T14:11:51.250Z"
   },
   {
    "duration": 28,
    "start_time": "2021-07-23T14:11:51.286Z"
   },
   {
    "duration": 52,
    "start_time": "2021-07-23T14:11:51.317Z"
   },
   {
    "duration": 31,
    "start_time": "2021-07-23T14:11:51.372Z"
   },
   {
    "duration": 314,
    "start_time": "2021-07-23T14:12:15.383Z"
   },
   {
    "duration": 1262,
    "start_time": "2021-07-23T14:12:30.690Z"
   },
   {
    "duration": 45,
    "start_time": "2021-07-23T14:12:31.955Z"
   },
   {
    "duration": 31,
    "start_time": "2021-07-23T14:12:32.003Z"
   },
   {
    "duration": 29,
    "start_time": "2021-07-23T14:12:32.062Z"
   },
   {
    "duration": 48,
    "start_time": "2021-07-23T14:12:32.093Z"
   },
   {
    "duration": 79,
    "start_time": "2021-07-23T14:12:32.143Z"
   },
   {
    "duration": 502,
    "start_time": "2021-07-23T14:12:32.224Z"
   },
   {
    "duration": 12,
    "start_time": "2021-07-23T14:13:46.555Z"
   },
   {
    "duration": 11,
    "start_time": "2021-07-23T14:14:11.224Z"
   },
   {
    "duration": 104,
    "start_time": "2021-07-23T14:14:46.189Z"
   },
   {
    "duration": 386,
    "start_time": "2021-07-23T14:15:23.699Z"
   },
   {
    "duration": 126,
    "start_time": "2021-07-23T14:15:38.955Z"
   },
   {
    "duration": 125,
    "start_time": "2021-07-23T14:16:43.989Z"
   },
   {
    "duration": 377,
    "start_time": "2021-07-23T14:18:09.584Z"
   },
   {
    "duration": 175,
    "start_time": "2021-07-23T14:18:40.740Z"
   },
   {
    "duration": 172,
    "start_time": "2021-07-23T14:20:05.949Z"
   },
   {
    "duration": 181,
    "start_time": "2021-07-23T14:21:11.865Z"
   },
   {
    "duration": 173,
    "start_time": "2021-07-23T14:21:51.020Z"
   },
   {
    "duration": 313,
    "start_time": "2021-07-23T14:22:21.540Z"
   },
   {
    "duration": 217,
    "start_time": "2021-07-23T14:22:37.845Z"
   },
   {
    "duration": 434,
    "start_time": "2021-07-23T14:22:44.279Z"
   },
   {
    "duration": 166,
    "start_time": "2021-07-23T14:22:48.824Z"
   },
   {
    "duration": 335,
    "start_time": "2021-07-23T14:37:58.575Z"
   },
   {
    "duration": 350,
    "start_time": "2021-07-23T14:38:18.515Z"
   },
   {
    "duration": 307,
    "start_time": "2021-07-23T14:38:33.670Z"
   },
   {
    "duration": 303,
    "start_time": "2021-07-23T15:03:51.043Z"
   },
   {
    "duration": 531,
    "start_time": "2021-07-23T15:04:02.540Z"
   },
   {
    "duration": 34,
    "start_time": "2021-07-23T15:04:05.420Z"
   },
   {
    "duration": 36,
    "start_time": "2021-07-23T15:04:11.882Z"
   },
   {
    "duration": 37,
    "start_time": "2021-07-23T15:05:16.161Z"
   },
   {
    "duration": 19,
    "start_time": "2021-07-23T15:07:29.600Z"
   },
   {
    "duration": 252,
    "start_time": "2021-07-23T15:08:34.076Z"
   },
   {
    "duration": 20,
    "start_time": "2021-07-23T15:08:40.755Z"
   },
   {
    "duration": 236,
    "start_time": "2021-07-23T15:09:31.656Z"
   },
   {
    "duration": 23,
    "start_time": "2021-07-23T15:09:41.466Z"
   },
   {
    "duration": 51,
    "start_time": "2021-07-23T16:13:16.626Z"
   },
   {
    "duration": 1373,
    "start_time": "2021-07-23T16:13:45.295Z"
   },
   {
    "duration": 49,
    "start_time": "2021-07-23T16:14:10.756Z"
   },
   {
    "duration": 41,
    "start_time": "2021-07-23T16:14:56.736Z"
   },
   {
    "duration": 15,
    "start_time": "2021-07-23T16:15:59.720Z"
   },
   {
    "duration": 35,
    "start_time": "2021-07-23T16:16:08.071Z"
   },
   {
    "duration": 35,
    "start_time": "2021-07-23T16:26:32.576Z"
   },
   {
    "duration": 38,
    "start_time": "2021-07-23T16:26:40.256Z"
   },
   {
    "duration": 32,
    "start_time": "2021-07-23T16:26:55.886Z"
   },
   {
    "duration": 17,
    "start_time": "2021-07-23T16:30:38.626Z"
   },
   {
    "duration": 115,
    "start_time": "2021-07-23T16:37:26.946Z"
   },
   {
    "duration": 71,
    "start_time": "2021-07-23T16:40:41.961Z"
   },
   {
    "duration": 55,
    "start_time": "2021-07-23T16:41:08.800Z"
   },
   {
    "duration": 9,
    "start_time": "2021-07-23T16:41:34.100Z"
   },
   {
    "duration": 6574,
    "start_time": "2021-07-23T16:48:52.260Z"
   },
   {
    "duration": 6345,
    "start_time": "2021-07-23T16:49:12.946Z"
   },
   {
    "duration": 55,
    "start_time": "2021-07-23T16:49:53.640Z"
   },
   {
    "duration": 47,
    "start_time": "2021-07-23T16:52:13.656Z"
   },
   {
    "duration": 276,
    "start_time": "2021-07-23T16:53:37.217Z"
   },
   {
    "duration": 304,
    "start_time": "2021-07-23T16:54:00.983Z"
   },
   {
    "duration": 46,
    "start_time": "2021-07-23T16:55:04.856Z"
   },
   {
    "duration": 26,
    "start_time": "2021-07-23T16:56:41.635Z"
   },
   {
    "duration": 1340,
    "start_time": "2021-07-24T17:13:41.792Z"
   },
   {
    "duration": 44,
    "start_time": "2021-07-24T17:13:43.134Z"
   },
   {
    "duration": 36,
    "start_time": "2021-07-24T17:13:43.181Z"
   },
   {
    "duration": 14,
    "start_time": "2021-07-24T17:13:43.220Z"
   },
   {
    "duration": 30,
    "start_time": "2021-07-24T17:13:43.236Z"
   },
   {
    "duration": 65,
    "start_time": "2021-07-24T17:13:43.269Z"
   },
   {
    "duration": 25,
    "start_time": "2021-07-24T17:13:43.337Z"
   },
   {
    "duration": 48,
    "start_time": "2021-07-24T17:13:43.365Z"
   },
   {
    "duration": 26,
    "start_time": "2021-07-24T17:13:43.417Z"
   },
   {
    "duration": 56,
    "start_time": "2021-07-24T17:13:43.446Z"
   },
   {
    "duration": 34,
    "start_time": "2021-07-24T17:13:43.505Z"
   },
   {
    "duration": 11,
    "start_time": "2021-07-24T17:13:43.542Z"
   },
   {
    "duration": 210,
    "start_time": "2021-07-24T17:13:43.556Z"
   },
   {
    "duration": 511,
    "start_time": "2021-07-24T17:13:43.770Z"
   },
   {
    "duration": -746,
    "start_time": "2021-07-24T17:13:45.029Z"
   },
   {
    "duration": 540,
    "start_time": "2021-07-24T17:19:12.166Z"
   },
   {
    "duration": 1279,
    "start_time": "2021-07-24T17:19:21.488Z"
   },
   {
    "duration": 42,
    "start_time": "2021-07-24T17:19:22.770Z"
   },
   {
    "duration": 38,
    "start_time": "2021-07-24T17:19:22.816Z"
   },
   {
    "duration": 45,
    "start_time": "2021-07-24T17:19:22.856Z"
   },
   {
    "duration": 33,
    "start_time": "2021-07-24T17:19:22.904Z"
   },
   {
    "duration": 67,
    "start_time": "2021-07-24T17:19:22.940Z"
   },
   {
    "duration": 26,
    "start_time": "2021-07-24T17:19:23.009Z"
   },
   {
    "duration": 18,
    "start_time": "2021-07-24T17:19:23.038Z"
   },
   {
    "duration": 51,
    "start_time": "2021-07-24T17:19:23.059Z"
   },
   {
    "duration": 20,
    "start_time": "2021-07-24T17:19:23.113Z"
   },
   {
    "duration": 22,
    "start_time": "2021-07-24T17:19:23.135Z"
   },
   {
    "duration": 49,
    "start_time": "2021-07-24T17:19:23.160Z"
   },
   {
    "duration": 121,
    "start_time": "2021-07-24T17:19:23.211Z"
   },
   {
    "duration": 615,
    "start_time": "2021-07-24T17:19:23.335Z"
   },
   {
    "duration": -1183,
    "start_time": "2021-07-24T17:19:25.136Z"
   },
   {
    "duration": 108,
    "start_time": "2021-07-24T17:20:03.292Z"
   },
   {
    "duration": 106,
    "start_time": "2021-07-24T17:20:09.682Z"
   },
   {
    "duration": 118,
    "start_time": "2021-07-24T17:20:33.227Z"
   },
   {
    "duration": 115,
    "start_time": "2021-07-24T17:21:38.329Z"
   },
   {
    "duration": 154,
    "start_time": "2021-07-24T17:22:01.755Z"
   },
   {
    "duration": 103,
    "start_time": "2021-07-24T17:22:11.020Z"
   },
   {
    "duration": 16263,
    "start_time": "2021-07-24T17:22:52.149Z"
   },
   {
    "duration": 427,
    "start_time": "2021-07-24T17:28:44.348Z"
   },
   {
    "duration": 116,
    "start_time": "2021-07-24T17:29:14.393Z"
   },
   {
    "duration": 118,
    "start_time": "2021-07-24T17:30:02.914Z"
   },
   {
    "duration": 101,
    "start_time": "2021-07-24T17:30:13.700Z"
   },
   {
    "duration": 137,
    "start_time": "2021-07-24T17:31:47.802Z"
   },
   {
    "duration": 190,
    "start_time": "2021-07-24T17:31:54.459Z"
   },
   {
    "duration": 413,
    "start_time": "2021-07-24T17:32:47.866Z"
   },
   {
    "duration": 435,
    "start_time": "2021-07-24T17:36:31.865Z"
   },
   {
    "duration": 456,
    "start_time": "2021-07-24T17:36:52.134Z"
   },
   {
    "duration": 1237,
    "start_time": "2021-07-24T17:48:12.152Z"
   },
   {
    "duration": 641,
    "start_time": "2021-07-24T17:48:36.742Z"
   },
   {
    "duration": 862,
    "start_time": "2021-07-24T17:49:19.483Z"
   },
   {
    "duration": 16,
    "start_time": "2021-07-24T17:50:04.570Z"
   },
   {
    "duration": 27,
    "start_time": "2021-07-24T17:55:02.939Z"
   },
   {
    "duration": 26,
    "start_time": "2021-07-24T17:55:14.263Z"
   },
   {
    "duration": 21,
    "start_time": "2021-07-24T17:55:42.837Z"
   },
   {
    "duration": 21,
    "start_time": "2021-07-24T17:55:58.830Z"
   },
   {
    "duration": 576,
    "start_time": "2021-07-24T18:14:28.194Z"
   },
   {
    "duration": 663,
    "start_time": "2021-07-24T18:14:49.533Z"
   },
   {
    "duration": 721,
    "start_time": "2021-07-24T18:16:05.936Z"
   },
   {
    "duration": 8,
    "start_time": "2021-07-24T18:19:13.125Z"
   },
   {
    "duration": 7,
    "start_time": "2021-07-24T18:19:45.075Z"
   },
   {
    "duration": 604,
    "start_time": "2021-07-24T18:21:59.893Z"
   },
   {
    "duration": 597,
    "start_time": "2021-07-24T18:25:13.917Z"
   },
   {
    "duration": 423,
    "start_time": "2021-07-24T18:26:20.257Z"
   },
   {
    "duration": 870,
    "start_time": "2021-07-24T18:27:40.322Z"
   },
   {
    "duration": 1510,
    "start_time": "2021-07-24T18:27:53.008Z"
   },
   {
    "duration": 55,
    "start_time": "2021-07-24T18:27:54.521Z"
   },
   {
    "duration": 46,
    "start_time": "2021-07-24T18:27:54.579Z"
   },
   {
    "duration": 14,
    "start_time": "2021-07-24T18:27:54.628Z"
   },
   {
    "duration": 59,
    "start_time": "2021-07-24T18:27:54.644Z"
   },
   {
    "duration": 43,
    "start_time": "2021-07-24T18:27:54.706Z"
   },
   {
    "duration": 53,
    "start_time": "2021-07-24T18:27:54.752Z"
   },
   {
    "duration": 21,
    "start_time": "2021-07-24T18:27:54.809Z"
   },
   {
    "duration": 16,
    "start_time": "2021-07-24T18:27:54.833Z"
   },
   {
    "duration": 51,
    "start_time": "2021-07-24T18:27:54.851Z"
   },
   {
    "duration": 24,
    "start_time": "2021-07-24T18:27:54.904Z"
   },
   {
    "duration": 12,
    "start_time": "2021-07-24T18:27:54.931Z"
   },
   {
    "duration": 151,
    "start_time": "2021-07-24T18:27:54.946Z"
   },
   {
    "duration": 1564,
    "start_time": "2021-07-24T18:27:55.099Z"
   },
   {
    "duration": 813,
    "start_time": "2021-07-24T18:27:56.666Z"
   },
   {
    "duration": 1023,
    "start_time": "2021-07-24T18:27:57.482Z"
   },
   {
    "duration": 16,
    "start_time": "2021-07-24T18:27:58.508Z"
   },
   {
    "duration": 1305,
    "start_time": "2021-07-24T18:27:58.527Z"
   },
   {
    "duration": -783,
    "start_time": "2021-07-24T18:28:00.617Z"
   },
   {
    "duration": -840,
    "start_time": "2021-07-24T18:28:00.676Z"
   },
   {
    "duration": -844,
    "start_time": "2021-07-24T18:28:00.681Z"
   },
   {
    "duration": -867,
    "start_time": "2021-07-24T18:28:00.706Z"
   },
   {
    "duration": 10,
    "start_time": "2021-07-24T18:28:46.822Z"
   },
   {
    "duration": 8,
    "start_time": "2021-07-24T18:28:50.452Z"
   },
   {
    "duration": 497,
    "start_time": "2021-07-24T18:28:54.209Z"
   },
   {
    "duration": 389,
    "start_time": "2021-07-24T18:31:33.744Z"
   },
   {
    "duration": 395,
    "start_time": "2021-07-24T18:32:06.060Z"
   },
   {
    "duration": 394,
    "start_time": "2021-07-24T18:32:30.120Z"
   },
   {
    "duration": 461,
    "start_time": "2021-07-24T18:32:54.470Z"
   },
   {
    "duration": 376,
    "start_time": "2021-07-24T18:33:06.917Z"
   },
   {
    "duration": 753,
    "start_time": "2021-07-24T18:35:29.881Z"
   },
   {
    "duration": 444,
    "start_time": "2021-07-24T18:36:49.745Z"
   },
   {
    "duration": 389,
    "start_time": "2021-07-24T18:37:20.045Z"
   },
   {
    "duration": 371,
    "start_time": "2021-07-24T18:37:55.154Z"
   },
   {
    "duration": 389,
    "start_time": "2021-07-24T18:38:09.521Z"
   },
   {
    "duration": 1248,
    "start_time": "2021-07-24T18:39:00.950Z"
   },
   {
    "duration": 46,
    "start_time": "2021-07-24T18:39:02.200Z"
   },
   {
    "duration": 38,
    "start_time": "2021-07-24T18:39:02.250Z"
   },
   {
    "duration": 39,
    "start_time": "2021-07-24T18:39:02.291Z"
   },
   {
    "duration": 29,
    "start_time": "2021-07-24T18:39:02.333Z"
   },
   {
    "duration": 43,
    "start_time": "2021-07-24T18:39:02.365Z"
   },
   {
    "duration": 25,
    "start_time": "2021-07-24T18:39:02.411Z"
   },
   {
    "duration": 20,
    "start_time": "2021-07-24T18:39:02.438Z"
   },
   {
    "duration": 23,
    "start_time": "2021-07-24T18:39:02.463Z"
   },
   {
    "duration": 19,
    "start_time": "2021-07-24T18:39:02.502Z"
   },
   {
    "duration": 27,
    "start_time": "2021-07-24T18:39:02.523Z"
   },
   {
    "duration": 15,
    "start_time": "2021-07-24T18:39:02.552Z"
   },
   {
    "duration": 116,
    "start_time": "2021-07-24T18:39:02.570Z"
   },
   {
    "duration": 1316,
    "start_time": "2021-07-24T18:39:02.688Z"
   },
   {
    "duration": 668,
    "start_time": "2021-07-24T18:39:04.006Z"
   },
   {
    "duration": 920,
    "start_time": "2021-07-24T18:39:04.676Z"
   },
   {
    "duration": 13,
    "start_time": "2021-07-24T18:39:05.599Z"
   },
   {
    "duration": 8,
    "start_time": "2021-07-24T18:39:05.614Z"
   },
   {
    "duration": 13,
    "start_time": "2021-07-24T18:39:05.624Z"
   },
   {
    "duration": 7,
    "start_time": "2021-07-24T18:39:05.640Z"
   },
   {
    "duration": 534,
    "start_time": "2021-07-24T18:39:05.649Z"
   },
   {
    "duration": -936,
    "start_time": "2021-07-24T18:39:07.121Z"
   },
   {
    "duration": 682,
    "start_time": "2021-07-24T18:40:28.557Z"
   },
   {
    "duration": 435,
    "start_time": "2021-07-24T18:40:50.130Z"
   },
   {
    "duration": 409,
    "start_time": "2021-07-24T18:42:53.325Z"
   },
   {
    "duration": 37,
    "start_time": "2021-07-24T18:46:24.852Z"
   },
   {
    "duration": 31,
    "start_time": "2021-07-24T18:47:33.873Z"
   },
   {
    "duration": 14,
    "start_time": "2021-07-24T18:51:14.084Z"
   },
   {
    "duration": 20,
    "start_time": "2021-07-24T18:51:25.737Z"
   },
   {
    "duration": 365,
    "start_time": "2021-07-24T18:54:39.169Z"
   },
   {
    "duration": 41,
    "start_time": "2021-07-24T18:55:14.019Z"
   },
   {
    "duration": 64,
    "start_time": "2021-07-24T18:55:45.865Z"
   },
   {
    "duration": 79,
    "start_time": "2021-07-24T18:55:56.482Z"
   },
   {
    "duration": 68,
    "start_time": "2021-07-24T18:56:10.127Z"
   },
   {
    "duration": 106,
    "start_time": "2021-07-24T18:59:03.882Z"
   },
   {
    "duration": 74,
    "start_time": "2021-07-24T18:59:17.404Z"
   },
   {
    "duration": 75,
    "start_time": "2021-07-24T19:03:23.024Z"
   },
   {
    "duration": 64,
    "start_time": "2021-07-24T19:06:03.738Z"
   },
   {
    "duration": 58,
    "start_time": "2021-07-24T19:06:58.466Z"
   },
   {
    "duration": 61,
    "start_time": "2021-07-24T19:07:17.438Z"
   },
   {
    "duration": 96,
    "start_time": "2021-07-24T19:09:18.295Z"
   },
   {
    "duration": 62,
    "start_time": "2021-07-24T19:09:56.092Z"
   },
   {
    "duration": 110,
    "start_time": "2021-07-24T19:15:39.531Z"
   },
   {
    "duration": 101,
    "start_time": "2021-07-24T19:15:50.519Z"
   },
   {
    "duration": 106,
    "start_time": "2021-07-24T19:16:06.941Z"
   },
   {
    "duration": 94,
    "start_time": "2021-07-24T19:16:50.831Z"
   },
   {
    "duration": 11,
    "start_time": "2021-07-24T19:17:34.149Z"
   },
   {
    "duration": 391,
    "start_time": "2021-07-24T19:18:07.162Z"
   },
   {
    "duration": 354,
    "start_time": "2021-07-24T19:18:21.845Z"
   },
   {
    "duration": 10,
    "start_time": "2021-07-24T19:20:21.354Z"
   },
   {
    "duration": 22,
    "start_time": "2021-07-24T19:21:14.561Z"
   },
   {
    "duration": 17,
    "start_time": "2021-07-24T19:21:58.951Z"
   },
   {
    "duration": 9361,
    "start_time": "2021-07-24T19:22:37.732Z"
   },
   {
    "duration": 13,
    "start_time": "2021-07-24T19:23:11.075Z"
   },
   {
    "duration": 166,
    "start_time": "2021-07-24T19:24:18.167Z"
   },
   {
    "duration": 26,
    "start_time": "2021-07-24T19:24:24.107Z"
   },
   {
    "duration": 17,
    "start_time": "2021-07-24T19:24:39.730Z"
   },
   {
    "duration": 12,
    "start_time": "2021-07-24T19:24:49.016Z"
   },
   {
    "duration": 17,
    "start_time": "2021-07-24T19:25:03.831Z"
   },
   {
    "duration": 16,
    "start_time": "2021-07-24T19:25:13.117Z"
   },
   {
    "duration": 33,
    "start_time": "2021-07-24T19:26:18.636Z"
   },
   {
    "duration": 25,
    "start_time": "2021-07-24T19:28:04.032Z"
   },
   {
    "duration": 20,
    "start_time": "2021-07-24T19:28:12.580Z"
   },
   {
    "duration": 25,
    "start_time": "2021-07-24T19:28:24.279Z"
   },
   {
    "duration": 49,
    "start_time": "2021-07-24T19:29:40.421Z"
   },
   {
    "duration": 60,
    "start_time": "2021-07-24T19:30:00.975Z"
   },
   {
    "duration": 51,
    "start_time": "2021-07-24T19:31:06.474Z"
   },
   {
    "duration": 36,
    "start_time": "2021-07-24T19:31:17.130Z"
   },
   {
    "duration": 82,
    "start_time": "2021-07-24T19:31:22.487Z"
   },
   {
    "duration": 42,
    "start_time": "2021-07-24T19:31:42.650Z"
   },
   {
    "duration": 36,
    "start_time": "2021-07-24T19:32:44.724Z"
   },
   {
    "duration": 54,
    "start_time": "2021-07-24T19:33:19.071Z"
   },
   {
    "duration": 37,
    "start_time": "2021-07-24T19:33:36.008Z"
   },
   {
    "duration": 36,
    "start_time": "2021-07-24T19:33:42.007Z"
   },
   {
    "duration": 40,
    "start_time": "2021-07-24T19:33:51.876Z"
   },
   {
    "duration": 99,
    "start_time": "2021-07-24T19:35:41.668Z"
   },
   {
    "duration": 38,
    "start_time": "2021-07-24T19:35:45.178Z"
   },
   {
    "duration": 101,
    "start_time": "2021-07-24T19:36:08.422Z"
   },
   {
    "duration": 97,
    "start_time": "2021-07-24T19:37:01.283Z"
   },
   {
    "duration": 430,
    "start_time": "2021-07-24T19:37:14.751Z"
   },
   {
    "duration": 37,
    "start_time": "2021-07-24T19:37:41.486Z"
   },
   {
    "duration": 42,
    "start_time": "2021-07-24T19:38:11.948Z"
   },
   {
    "duration": 65,
    "start_time": "2021-07-24T19:38:51.577Z"
   },
   {
    "duration": 33,
    "start_time": "2021-07-24T19:42:21.321Z"
   },
   {
    "duration": 40,
    "start_time": "2021-07-24T19:42:34.655Z"
   },
   {
    "duration": 391,
    "start_time": "2021-07-24T19:44:48.343Z"
   },
   {
    "duration": 92,
    "start_time": "2021-07-24T19:45:15.119Z"
   },
   {
    "duration": 33,
    "start_time": "2021-07-24T19:45:37.880Z"
   },
   {
    "duration": 424,
    "start_time": "2021-07-24T19:46:41.562Z"
   },
   {
    "duration": 72,
    "start_time": "2021-07-24T19:46:58.216Z"
   },
   {
    "duration": 488,
    "start_time": "2021-07-24T19:48:58.903Z"
   },
   {
    "duration": 449,
    "start_time": "2021-07-24T19:49:07.935Z"
   },
   {
    "duration": 63,
    "start_time": "2021-07-24T19:49:22.715Z"
   },
   {
    "duration": 373,
    "start_time": "2021-07-24T19:53:48.462Z"
   },
   {
    "duration": 447,
    "start_time": "2021-07-24T19:54:09.436Z"
   },
   {
    "duration": 382,
    "start_time": "2021-07-24T19:55:41.433Z"
   },
   {
    "duration": 30,
    "start_time": "2021-07-24T19:56:03.143Z"
   },
   {
    "duration": 42,
    "start_time": "2021-07-24T19:56:16.516Z"
   },
   {
    "duration": 497,
    "start_time": "2021-07-24T19:56:32.664Z"
   },
   {
    "duration": 378,
    "start_time": "2021-07-24T19:56:47.754Z"
   },
   {
    "duration": 448,
    "start_time": "2021-07-24T19:57:03.100Z"
   },
   {
    "duration": 61,
    "start_time": "2021-07-24T19:57:11.323Z"
   },
   {
    "duration": 378,
    "start_time": "2021-07-24T19:58:28.521Z"
   },
   {
    "duration": 91,
    "start_time": "2021-07-24T20:02:15.982Z"
   },
   {
    "duration": 503,
    "start_time": "2021-07-24T20:02:23.103Z"
   },
   {
    "duration": 80,
    "start_time": "2021-07-24T20:08:11.827Z"
   },
   {
    "duration": 573,
    "start_time": "2021-07-24T20:09:10.236Z"
   },
   {
    "duration": 544,
    "start_time": "2021-07-24T20:09:35.379Z"
   },
   {
    "duration": 101,
    "start_time": "2021-07-24T20:10:16.983Z"
   },
   {
    "duration": 617,
    "start_time": "2021-07-24T20:10:43.522Z"
   },
   {
    "duration": 115,
    "start_time": "2021-07-24T20:13:04.268Z"
   },
   {
    "duration": 114,
    "start_time": "2021-07-24T20:13:51.690Z"
   },
   {
    "duration": 92,
    "start_time": "2021-07-24T20:14:59.591Z"
   },
   {
    "duration": 715,
    "start_time": "2021-07-24T20:15:23.948Z"
   },
   {
    "duration": 380,
    "start_time": "2021-07-24T20:15:54.028Z"
   },
   {
    "duration": 450,
    "start_time": "2021-07-24T20:16:10.841Z"
   },
   {
    "duration": 439,
    "start_time": "2021-07-24T20:16:24.552Z"
   },
   {
    "duration": 198,
    "start_time": "2021-07-24T20:29:08.356Z"
   },
   {
    "duration": 154,
    "start_time": "2021-07-24T20:29:21.963Z"
   },
   {
    "duration": 1238,
    "start_time": "2021-07-25T06:23:19.743Z"
   },
   {
    "duration": 42,
    "start_time": "2021-07-25T06:23:20.984Z"
   },
   {
    "duration": 35,
    "start_time": "2021-07-25T06:23:21.029Z"
   },
   {
    "duration": 17,
    "start_time": "2021-07-25T06:23:21.067Z"
   },
   {
    "duration": 29,
    "start_time": "2021-07-25T06:23:21.087Z"
   },
   {
    "duration": 64,
    "start_time": "2021-07-25T06:23:21.119Z"
   },
   {
    "duration": 24,
    "start_time": "2021-07-25T06:23:21.185Z"
   },
   {
    "duration": 44,
    "start_time": "2021-07-25T06:23:21.212Z"
   },
   {
    "duration": 16,
    "start_time": "2021-07-25T06:23:21.259Z"
   },
   {
    "duration": 24,
    "start_time": "2021-07-25T06:23:21.277Z"
   },
   {
    "duration": 51,
    "start_time": "2021-07-25T06:23:21.304Z"
   },
   {
    "duration": 8,
    "start_time": "2021-07-25T06:23:21.358Z"
   },
   {
    "duration": 118,
    "start_time": "2021-07-25T06:23:21.369Z"
   },
   {
    "duration": 43,
    "start_time": "2021-07-25T06:23:21.489Z"
   },
   {
    "duration": 89,
    "start_time": "2021-07-25T06:23:21.534Z"
   },
   {
    "duration": 546,
    "start_time": "2021-07-25T06:23:21.626Z"
   },
   {
    "duration": 180,
    "start_time": "2021-07-25T06:23:21.995Z"
   },
   {
    "duration": 116,
    "start_time": "2021-07-25T06:23:31.835Z"
   },
   {
    "duration": 402,
    "start_time": "2021-07-25T06:24:07.947Z"
   },
   {
    "duration": 389,
    "start_time": "2021-07-25T06:24:36.016Z"
   },
   {
    "duration": 100,
    "start_time": "2021-07-25T06:24:53.157Z"
   },
   {
    "duration": 43,
    "start_time": "2021-07-25T06:26:03.621Z"
   },
   {
    "duration": 73,
    "start_time": "2021-07-25T06:26:25.676Z"
   },
   {
    "duration": 59,
    "start_time": "2021-07-25T06:26:43.797Z"
   },
   {
    "duration": 62,
    "start_time": "2021-07-25T06:28:45.808Z"
   },
   {
    "duration": 420,
    "start_time": "2021-07-25T06:30:30.065Z"
   },
   {
    "duration": 107,
    "start_time": "2021-07-25T06:30:33.361Z"
   },
   {
    "duration": 98,
    "start_time": "2021-07-25T06:30:34.949Z"
   },
   {
    "duration": 52,
    "start_time": "2021-07-25T07:09:48.395Z"
   },
   {
    "duration": 46,
    "start_time": "2021-07-25T07:10:16.590Z"
   },
   {
    "duration": 34,
    "start_time": "2021-07-25T07:10:51.695Z"
   },
   {
    "duration": 48,
    "start_time": "2021-07-25T07:11:21.116Z"
   },
   {
    "duration": 52,
    "start_time": "2021-07-25T07:12:28.328Z"
   },
   {
    "duration": 55,
    "start_time": "2021-07-25T07:13:03.319Z"
   },
   {
    "duration": 59,
    "start_time": "2021-07-25T07:14:06.354Z"
   },
   {
    "duration": 69,
    "start_time": "2021-07-25T07:16:52.567Z"
   },
   {
    "duration": 70,
    "start_time": "2021-07-25T07:17:03.948Z"
   },
   {
    "duration": 71,
    "start_time": "2021-07-25T07:17:13.945Z"
   },
   {
    "duration": 1353,
    "start_time": "2021-07-25T07:17:44.013Z"
   },
   {
    "duration": 1315,
    "start_time": "2021-07-25T07:18:01.607Z"
   },
   {
    "duration": 43,
    "start_time": "2021-07-25T07:18:02.925Z"
   },
   {
    "duration": 39,
    "start_time": "2021-07-25T07:18:02.970Z"
   },
   {
    "duration": 18,
    "start_time": "2021-07-25T07:18:03.011Z"
   },
   {
    "duration": 52,
    "start_time": "2021-07-25T07:18:03.031Z"
   },
   {
    "duration": 35,
    "start_time": "2021-07-25T07:18:03.085Z"
   },
   {
    "duration": 46,
    "start_time": "2021-07-25T07:18:03.122Z"
   },
   {
    "duration": 18,
    "start_time": "2021-07-25T07:18:03.171Z"
   },
   {
    "duration": 16,
    "start_time": "2021-07-25T07:18:03.191Z"
   },
   {
    "duration": 61,
    "start_time": "2021-07-25T07:18:03.210Z"
   },
   {
    "duration": 20,
    "start_time": "2021-07-25T07:18:03.273Z"
   },
   {
    "duration": 10,
    "start_time": "2021-07-25T07:18:03.296Z"
   },
   {
    "duration": 133,
    "start_time": "2021-07-25T07:18:03.308Z"
   },
   {
    "duration": 56,
    "start_time": "2021-07-25T07:18:03.444Z"
   },
   {
    "duration": 98,
    "start_time": "2021-07-25T07:18:03.502Z"
   },
   {
    "duration": 82,
    "start_time": "2021-07-25T07:18:03.602Z"
   },
   {
    "duration": 423,
    "start_time": "2021-07-25T07:18:03.687Z"
   },
   {
    "duration": 142,
    "start_time": "2021-07-25T07:18:03.970Z"
   },
   {
    "duration": 137,
    "start_time": "2021-07-25T07:18:03.977Z"
   },
   {
    "duration": 34,
    "start_time": "2021-07-25T07:18:28.070Z"
   },
   {
    "duration": 351,
    "start_time": "2021-07-25T07:22:15.445Z"
   },
   {
    "duration": 347,
    "start_time": "2021-07-25T07:22:27.048Z"
   },
   {
    "duration": 33,
    "start_time": "2021-07-25T07:23:03.707Z"
   },
   {
    "duration": 79,
    "start_time": "2021-07-25T07:23:42.472Z"
   },
   {
    "duration": 80,
    "start_time": "2021-07-25T07:23:49.604Z"
   },
   {
    "duration": 1227,
    "start_time": "2021-07-25T07:23:55.468Z"
   },
   {
    "duration": 44,
    "start_time": "2021-07-25T07:23:56.697Z"
   },
   {
    "duration": 37,
    "start_time": "2021-07-25T07:23:56.744Z"
   },
   {
    "duration": 21,
    "start_time": "2021-07-25T07:23:56.785Z"
   },
   {
    "duration": 50,
    "start_time": "2021-07-25T07:23:56.809Z"
   },
   {
    "duration": 40,
    "start_time": "2021-07-25T07:23:56.861Z"
   },
   {
    "duration": 52,
    "start_time": "2021-07-25T07:23:56.903Z"
   },
   {
    "duration": 18,
    "start_time": "2021-07-25T07:23:56.958Z"
   },
   {
    "duration": 16,
    "start_time": "2021-07-25T07:23:56.978Z"
   },
   {
    "duration": 19,
    "start_time": "2021-07-25T07:23:56.997Z"
   },
   {
    "duration": 55,
    "start_time": "2021-07-25T07:23:57.019Z"
   },
   {
    "duration": 14,
    "start_time": "2021-07-25T07:23:57.077Z"
   },
   {
    "duration": 182,
    "start_time": "2021-07-25T07:23:57.094Z"
   },
   {
    "duration": 48,
    "start_time": "2021-07-25T07:23:57.280Z"
   },
   {
    "duration": 96,
    "start_time": "2021-07-25T07:23:57.331Z"
   },
   {
    "duration": 80,
    "start_time": "2021-07-25T07:23:57.429Z"
   },
   {
    "duration": 30,
    "start_time": "2021-07-25T07:23:57.511Z"
   },
   {
    "duration": 552,
    "start_time": "2021-07-25T07:23:57.557Z"
   },
   {
    "duration": 126,
    "start_time": "2021-07-25T07:23:57.986Z"
   },
   {
    "duration": 77,
    "start_time": "2021-07-25T07:24:30.734Z"
   },
   {
    "duration": 84,
    "start_time": "2021-07-25T07:26:52.768Z"
   },
   {
    "duration": 111,
    "start_time": "2021-07-25T07:27:04.735Z"
   },
   {
    "duration": 346,
    "start_time": "2021-07-25T07:27:07.153Z"
   },
   {
    "duration": 97,
    "start_time": "2021-07-25T07:27:16.296Z"
   },
   {
    "duration": 73,
    "start_time": "2021-07-25T07:42:10.889Z"
   },
   {
    "duration": 44,
    "start_time": "2021-07-25T07:43:33.636Z"
   },
   {
    "duration": 47,
    "start_time": "2021-07-25T07:44:26.803Z"
   },
   {
    "duration": 65,
    "start_time": "2021-07-25T07:44:31.453Z"
   },
   {
    "duration": 128,
    "start_time": "2021-07-25T07:52:13.989Z"
   },
   {
    "duration": 117,
    "start_time": "2021-07-25T07:52:32.278Z"
   },
   {
    "duration": 9065,
    "start_time": "2021-07-25T07:52:35.166Z"
   },
   {
    "duration": 70,
    "start_time": "2021-07-25T07:54:38.218Z"
   },
   {
    "duration": 140,
    "start_time": "2021-07-25T07:55:42.196Z"
   },
   {
    "duration": 8648,
    "start_time": "2021-07-25T07:55:50.119Z"
   },
   {
    "duration": 68,
    "start_time": "2021-07-25T07:56:24.585Z"
   },
   {
    "duration": 420,
    "start_time": "2021-07-25T07:59:32.591Z"
   },
   {
    "duration": 6447,
    "start_time": "2021-07-25T07:59:39.081Z"
   },
   {
    "duration": 69,
    "start_time": "2021-07-25T07:59:57.073Z"
   },
   {
    "duration": 7318,
    "start_time": "2021-07-25T08:00:08.259Z"
   },
   {
    "duration": 101,
    "start_time": "2021-07-25T08:00:29.419Z"
   },
   {
    "duration": 62,
    "start_time": "2021-07-25T08:00:52.881Z"
   },
   {
    "duration": 1240,
    "start_time": "2021-07-25T13:37:48.662Z"
   },
   {
    "duration": 45,
    "start_time": "2021-07-25T13:37:49.905Z"
   },
   {
    "duration": 39,
    "start_time": "2021-07-25T13:37:49.954Z"
   },
   {
    "duration": 20,
    "start_time": "2021-07-25T13:37:49.996Z"
   },
   {
    "duration": 50,
    "start_time": "2021-07-25T13:37:50.019Z"
   },
   {
    "duration": 38,
    "start_time": "2021-07-25T13:37:50.073Z"
   },
   {
    "duration": 51,
    "start_time": "2021-07-25T13:37:50.114Z"
   },
   {
    "duration": 20,
    "start_time": "2021-07-25T13:37:50.167Z"
   },
   {
    "duration": 17,
    "start_time": "2021-07-25T13:37:50.190Z"
   },
   {
    "duration": 60,
    "start_time": "2021-07-25T13:37:50.210Z"
   },
   {
    "duration": 23,
    "start_time": "2021-07-25T13:37:50.273Z"
   },
   {
    "duration": 11,
    "start_time": "2021-07-25T13:37:50.300Z"
   },
   {
    "duration": 152,
    "start_time": "2021-07-25T13:37:50.314Z"
   },
   {
    "duration": 39,
    "start_time": "2021-07-25T13:37:50.468Z"
   },
   {
    "duration": 89,
    "start_time": "2021-07-25T13:37:50.509Z"
   },
   {
    "duration": 119,
    "start_time": "2021-07-25T13:37:50.601Z"
   },
   {
    "duration": 76,
    "start_time": "2021-07-25T13:37:50.723Z"
   },
   {
    "duration": 102,
    "start_time": "2021-07-25T13:38:36.985Z"
   },
   {
    "duration": 66,
    "start_time": "2021-07-25T13:40:45.353Z"
   },
   {
    "duration": 103,
    "start_time": "2021-07-25T13:40:46.651Z"
   },
   {
    "duration": 516,
    "start_time": "2021-07-25T13:41:01.284Z"
   },
   {
    "duration": 59,
    "start_time": "2021-07-25T13:41:26.640Z"
   },
   {
    "duration": 61,
    "start_time": "2021-07-25T13:41:47.198Z"
   },
   {
    "duration": 58,
    "start_time": "2021-07-25T13:41:57.662Z"
   },
   {
    "duration": 111,
    "start_time": "2021-07-25T13:42:02.558Z"
   },
   {
    "duration": 108,
    "start_time": "2021-07-25T13:42:06.722Z"
   },
   {
    "duration": 63,
    "start_time": "2021-07-25T13:42:09.368Z"
   },
   {
    "duration": 110,
    "start_time": "2021-07-25T13:42:17.993Z"
   },
   {
    "duration": 48,
    "start_time": "2021-07-25T13:45:32.243Z"
   },
   {
    "duration": 50,
    "start_time": "2021-07-25T13:45:40.925Z"
   },
   {
    "duration": 41,
    "start_time": "2021-07-25T13:45:52.497Z"
   },
   {
    "duration": 958,
    "start_time": "2021-07-26T10:46:34.062Z"
   },
   {
    "duration": 31,
    "start_time": "2021-07-26T10:46:35.021Z"
   },
   {
    "duration": 28,
    "start_time": "2021-07-26T10:46:35.054Z"
   },
   {
    "duration": 14,
    "start_time": "2021-07-26T10:46:35.084Z"
   },
   {
    "duration": 24,
    "start_time": "2021-07-26T10:46:35.100Z"
   },
   {
    "duration": 26,
    "start_time": "2021-07-26T10:46:35.126Z"
   },
   {
    "duration": 50,
    "start_time": "2021-07-26T10:46:35.153Z"
   },
   {
    "duration": 14,
    "start_time": "2021-07-26T10:46:35.207Z"
   },
   {
    "duration": 10,
    "start_time": "2021-07-26T10:46:35.223Z"
   },
   {
    "duration": 51,
    "start_time": "2021-07-26T10:46:35.235Z"
   },
   {
    "duration": 15,
    "start_time": "2021-07-26T10:46:35.294Z"
   },
   {
    "duration": 6,
    "start_time": "2021-07-26T10:46:35.311Z"
   },
   {
    "duration": 96,
    "start_time": "2021-07-26T10:46:35.318Z"
   },
   {
    "duration": 29,
    "start_time": "2021-07-26T10:46:35.416Z"
   },
   {
    "duration": 64,
    "start_time": "2021-07-26T10:46:35.447Z"
   },
   {
    "duration": 77,
    "start_time": "2021-07-26T10:46:35.512Z"
   },
   {
    "duration": 31,
    "start_time": "2021-07-26T10:46:35.591Z"
   },
   {
    "duration": 42,
    "start_time": "2021-07-26T10:47:00.045Z"
   },
   {
    "duration": 321,
    "start_time": "2021-07-26T10:47:16.574Z"
   },
   {
    "duration": 32,
    "start_time": "2021-07-26T10:47:28.108Z"
   },
   {
    "duration": 218,
    "start_time": "2021-07-26T10:48:01.996Z"
   },
   {
    "duration": 213,
    "start_time": "2021-07-26T10:48:31.494Z"
   },
   {
    "duration": 53,
    "start_time": "2021-07-26T10:48:56.270Z"
   },
   {
    "duration": 74,
    "start_time": "2021-07-26T10:48:58.138Z"
   },
   {
    "duration": 199,
    "start_time": "2021-07-26T10:49:57.565Z"
   },
   {
    "duration": 80,
    "start_time": "2021-07-26T10:50:07.146Z"
   },
   {
    "duration": 261,
    "start_time": "2021-07-26T10:50:08.254Z"
   },
   {
    "duration": 50,
    "start_time": "2021-07-26T10:50:10.379Z"
   },
   {
    "duration": 207,
    "start_time": "2021-07-26T10:50:20.010Z"
   },
   {
    "duration": 39,
    "start_time": "2021-07-26T10:50:39.602Z"
   },
   {
    "duration": 40,
    "start_time": "2021-07-26T10:50:56.796Z"
   },
   {
    "duration": 36,
    "start_time": "2021-07-26T10:51:05.929Z"
   },
   {
    "duration": 32,
    "start_time": "2021-07-26T10:51:14.745Z"
   },
   {
    "duration": 202,
    "start_time": "2021-07-26T10:53:52.854Z"
   },
   {
    "duration": 33,
    "start_time": "2021-07-26T10:54:14.262Z"
   },
   {
    "duration": 241,
    "start_time": "2021-07-26T10:54:56.541Z"
   },
   {
    "duration": 222,
    "start_time": "2021-07-26T10:55:24.798Z"
   },
   {
    "duration": 202,
    "start_time": "2021-07-26T10:55:49.934Z"
   },
   {
    "duration": 224,
    "start_time": "2021-07-26T10:56:42.236Z"
   },
   {
    "duration": 32,
    "start_time": "2021-07-26T10:57:00.804Z"
   },
   {
    "duration": 42,
    "start_time": "2021-07-26T10:57:11.947Z"
   },
   {
    "duration": 254,
    "start_time": "2021-07-26T10:57:51.940Z"
   },
   {
    "duration": 48,
    "start_time": "2021-07-26T10:57:58.426Z"
   },
   {
    "duration": 48,
    "start_time": "2021-07-26T10:59:41.618Z"
   },
   {
    "duration": 55,
    "start_time": "2021-07-26T10:59:51.218Z"
   },
   {
    "duration": 49,
    "start_time": "2021-07-26T11:00:05.922Z"
   },
   {
    "duration": 45,
    "start_time": "2021-07-26T11:03:41.048Z"
   },
   {
    "duration": 527,
    "start_time": "2021-07-26T11:04:43.703Z"
   },
   {
    "duration": 216,
    "start_time": "2021-07-26T11:05:07.146Z"
   },
   {
    "duration": 211,
    "start_time": "2021-07-26T11:06:47.044Z"
   },
   {
    "duration": 224,
    "start_time": "2021-07-26T11:08:30.131Z"
   },
   {
    "duration": 44,
    "start_time": "2021-07-26T11:08:56.785Z"
   },
   {
    "duration": 247,
    "start_time": "2021-07-26T11:09:49.645Z"
   },
   {
    "duration": 46,
    "start_time": "2021-07-26T11:09:56.073Z"
   },
   {
    "duration": 50,
    "start_time": "2021-07-26T11:11:28.898Z"
   },
   {
    "duration": 276,
    "start_time": "2021-07-26T11:13:40.777Z"
   },
   {
    "duration": 219,
    "start_time": "2021-07-26T11:14:09.480Z"
   },
   {
    "duration": 226,
    "start_time": "2021-07-26T11:15:39.894Z"
   },
   {
    "duration": 101,
    "start_time": "2021-07-26T11:16:01.924Z"
   },
   {
    "duration": 65,
    "start_time": "2021-07-26T11:16:29.781Z"
   },
   {
    "duration": 53,
    "start_time": "2021-07-26T11:16:35.420Z"
   },
   {
    "duration": 490,
    "start_time": "2021-07-26T11:17:09.764Z"
   },
   {
    "duration": 49,
    "start_time": "2021-07-26T11:17:35.735Z"
   },
   {
    "duration": 70,
    "start_time": "2021-07-26T11:25:34.794Z"
   },
   {
    "duration": 49,
    "start_time": "2021-07-26T11:26:28.812Z"
   },
   {
    "duration": 276,
    "start_time": "2021-07-26T11:27:20.171Z"
   },
   {
    "duration": 229,
    "start_time": "2021-07-26T11:27:52.850Z"
   },
   {
    "duration": 1062,
    "start_time": "2021-07-26T11:28:04.559Z"
   },
   {
    "duration": 30,
    "start_time": "2021-07-26T11:28:05.622Z"
   },
   {
    "duration": 29,
    "start_time": "2021-07-26T11:28:05.654Z"
   },
   {
    "duration": 17,
    "start_time": "2021-07-26T11:28:05.685Z"
   },
   {
    "duration": 24,
    "start_time": "2021-07-26T11:28:05.704Z"
   },
   {
    "duration": 66,
    "start_time": "2021-07-26T11:28:05.730Z"
   },
   {
    "duration": 27,
    "start_time": "2021-07-26T11:28:05.799Z"
   },
   {
    "duration": 13,
    "start_time": "2021-07-26T11:28:05.828Z"
   },
   {
    "duration": 10,
    "start_time": "2021-07-26T11:28:05.843Z"
   },
   {
    "duration": 20,
    "start_time": "2021-07-26T11:28:05.886Z"
   },
   {
    "duration": 17,
    "start_time": "2021-07-26T11:28:05.908Z"
   },
   {
    "duration": 7,
    "start_time": "2021-07-26T11:28:05.927Z"
   },
   {
    "duration": 135,
    "start_time": "2021-07-26T11:28:05.936Z"
   },
   {
    "duration": 45,
    "start_time": "2021-07-26T11:28:06.073Z"
   },
   {
    "duration": 49,
    "start_time": "2021-07-26T11:28:06.120Z"
   },
   {
    "duration": 99,
    "start_time": "2021-07-26T11:28:06.171Z"
   },
   {
    "duration": 69,
    "start_time": "2021-07-26T11:28:06.272Z"
   },
   {
    "duration": 290,
    "start_time": "2021-07-26T11:28:18.798Z"
   },
   {
    "duration": 325,
    "start_time": "2021-07-26T11:28:26.247Z"
   },
   {
    "duration": 93,
    "start_time": "2021-07-26T11:28:32.147Z"
   },
   {
    "duration": 243,
    "start_time": "2021-07-26T11:28:33.709Z"
   },
   {
    "duration": 989,
    "start_time": "2021-07-26T11:28:41.035Z"
   },
   {
    "duration": 34,
    "start_time": "2021-07-26T11:28:42.027Z"
   },
   {
    "duration": 51,
    "start_time": "2021-07-26T11:28:42.063Z"
   },
   {
    "duration": 15,
    "start_time": "2021-07-26T11:28:42.117Z"
   },
   {
    "duration": 24,
    "start_time": "2021-07-26T11:28:42.134Z"
   },
   {
    "duration": 63,
    "start_time": "2021-07-26T11:28:42.160Z"
   },
   {
    "duration": 20,
    "start_time": "2021-07-26T11:28:42.225Z"
   },
   {
    "duration": 50,
    "start_time": "2021-07-26T11:28:42.248Z"
   },
   {
    "duration": 16,
    "start_time": "2021-07-26T11:28:42.302Z"
   },
   {
    "duration": 13,
    "start_time": "2021-07-26T11:28:42.320Z"
   },
   {
    "duration": 53,
    "start_time": "2021-07-26T11:28:42.334Z"
   },
   {
    "duration": 9,
    "start_time": "2021-07-26T11:28:42.390Z"
   },
   {
    "duration": 111,
    "start_time": "2021-07-26T11:28:42.401Z"
   },
   {
    "duration": 33,
    "start_time": "2021-07-26T11:28:42.514Z"
   },
   {
    "duration": 81,
    "start_time": "2021-07-26T11:28:42.549Z"
   },
   {
    "duration": 106,
    "start_time": "2021-07-26T11:28:42.632Z"
   },
   {
    "duration": 50,
    "start_time": "2021-07-26T11:28:42.740Z"
   },
   {
    "duration": 286,
    "start_time": "2021-07-26T11:28:54.637Z"
   },
   {
    "duration": 1062,
    "start_time": "2021-07-26T11:29:03.608Z"
   },
   {
    "duration": 45,
    "start_time": "2021-07-26T11:29:04.672Z"
   },
   {
    "duration": 36,
    "start_time": "2021-07-26T11:29:04.719Z"
   },
   {
    "duration": 58,
    "start_time": "2021-07-26T11:29:04.756Z"
   },
   {
    "duration": 23,
    "start_time": "2021-07-26T11:29:04.816Z"
   },
   {
    "duration": 29,
    "start_time": "2021-07-26T11:29:04.841Z"
   },
   {
    "duration": 49,
    "start_time": "2021-07-26T11:29:04.871Z"
   },
   {
    "duration": 16,
    "start_time": "2021-07-26T11:29:04.922Z"
   },
   {
    "duration": 12,
    "start_time": "2021-07-26T11:29:04.941Z"
   },
   {
    "duration": 26,
    "start_time": "2021-07-26T11:29:04.990Z"
   },
   {
    "duration": 26,
    "start_time": "2021-07-26T11:29:05.018Z"
   },
   {
    "duration": 13,
    "start_time": "2021-07-26T11:29:05.045Z"
   },
   {
    "duration": 96,
    "start_time": "2021-07-26T11:29:05.059Z"
   },
   {
    "duration": 62,
    "start_time": "2021-07-26T11:29:05.157Z"
   },
   {
    "duration": 50,
    "start_time": "2021-07-26T11:29:05.221Z"
   },
   {
    "duration": 92,
    "start_time": "2021-07-26T11:29:05.273Z"
   },
   {
    "duration": 73,
    "start_time": "2021-07-26T11:29:05.366Z"
   },
   {
    "duration": 295,
    "start_time": "2021-07-26T11:29:19.109Z"
   },
   {
    "duration": 267,
    "start_time": "2021-07-26T11:29:27.267Z"
   },
   {
    "duration": 1046,
    "start_time": "2021-07-26T11:29:32.775Z"
   },
   {
    "duration": 32,
    "start_time": "2021-07-26T11:29:33.822Z"
   },
   {
    "duration": 31,
    "start_time": "2021-07-26T11:29:33.856Z"
   },
   {
    "duration": 23,
    "start_time": "2021-07-26T11:29:33.891Z"
   },
   {
    "duration": 26,
    "start_time": "2021-07-26T11:29:33.916Z"
   },
   {
    "duration": 66,
    "start_time": "2021-07-26T11:29:33.945Z"
   },
   {
    "duration": 27,
    "start_time": "2021-07-26T11:29:34.013Z"
   },
   {
    "duration": 65,
    "start_time": "2021-07-26T11:29:34.044Z"
   },
   {
    "duration": 14,
    "start_time": "2021-07-26T11:29:34.112Z"
   },
   {
    "duration": 27,
    "start_time": "2021-07-26T11:29:34.128Z"
   },
   {
    "duration": 37,
    "start_time": "2021-07-26T11:29:34.157Z"
   },
   {
    "duration": 13,
    "start_time": "2021-07-26T11:29:34.198Z"
   },
   {
    "duration": 134,
    "start_time": "2021-07-26T11:29:34.214Z"
   },
   {
    "duration": 46,
    "start_time": "2021-07-26T11:29:34.349Z"
   },
   {
    "duration": 53,
    "start_time": "2021-07-26T11:29:34.403Z"
   },
   {
    "duration": 103,
    "start_time": "2021-07-26T11:29:34.458Z"
   },
   {
    "duration": 89,
    "start_time": "2021-07-26T11:29:34.563Z"
   },
   {
    "duration": 283,
    "start_time": "2021-07-26T11:30:22.111Z"
   },
   {
    "duration": 1093,
    "start_time": "2021-07-26T11:30:29.341Z"
   },
   {
    "duration": 36,
    "start_time": "2021-07-26T11:30:30.437Z"
   },
   {
    "duration": 971,
    "start_time": "2021-07-26T11:30:30.475Z"
   },
   {
    "duration": 14,
    "start_time": "2021-07-26T11:30:31.449Z"
   },
   {
    "duration": 51,
    "start_time": "2021-07-26T11:30:31.465Z"
   },
   {
    "duration": 28,
    "start_time": "2021-07-26T11:30:31.520Z"
   },
   {
    "duration": 36,
    "start_time": "2021-07-26T11:30:31.549Z"
   },
   {
    "duration": 20,
    "start_time": "2021-07-26T11:30:31.589Z"
   },
   {
    "duration": 16,
    "start_time": "2021-07-26T11:30:31.613Z"
   },
   {
    "duration": 13,
    "start_time": "2021-07-26T11:30:31.631Z"
   },
   {
    "duration": 66,
    "start_time": "2021-07-26T11:30:31.645Z"
   },
   {
    "duration": 8,
    "start_time": "2021-07-26T11:30:31.714Z"
   },
   {
    "duration": 115,
    "start_time": "2021-07-26T11:30:31.724Z"
   },
   {
    "duration": 45,
    "start_time": "2021-07-26T11:30:31.841Z"
   },
   {
    "duration": 61,
    "start_time": "2021-07-26T11:30:31.890Z"
   },
   {
    "duration": 119,
    "start_time": "2021-07-26T11:30:31.952Z"
   },
   {
    "duration": 80,
    "start_time": "2021-07-26T11:30:32.072Z"
   },
   {
    "duration": 304,
    "start_time": "2021-07-26T11:31:20.989Z"
   },
   {
    "duration": 1013,
    "start_time": "2021-07-26T11:31:27.013Z"
   },
   {
    "duration": 33,
    "start_time": "2021-07-26T11:31:28.029Z"
   },
   {
    "duration": 42,
    "start_time": "2021-07-26T11:31:28.064Z"
   },
   {
    "duration": 15,
    "start_time": "2021-07-26T11:31:28.109Z"
   },
   {
    "duration": 26,
    "start_time": "2021-07-26T11:31:28.127Z"
   },
   {
    "duration": 66,
    "start_time": "2021-07-26T11:31:28.155Z"
   },
   {
    "duration": 19,
    "start_time": "2021-07-26T11:31:28.223Z"
   },
   {
    "duration": 41,
    "start_time": "2021-07-26T11:31:28.245Z"
   },
   {
    "duration": 16,
    "start_time": "2021-07-26T11:31:28.289Z"
   },
   {
    "duration": 21,
    "start_time": "2021-07-26T11:31:28.307Z"
   },
   {
    "duration": 14,
    "start_time": "2021-07-26T11:31:28.331Z"
   },
   {
    "duration": 25,
    "start_time": "2021-07-26T11:31:28.392Z"
   },
   {
    "duration": 102,
    "start_time": "2021-07-26T11:31:28.420Z"
   },
   {
    "duration": 34,
    "start_time": "2021-07-26T11:31:28.524Z"
   },
   {
    "duration": 70,
    "start_time": "2021-07-26T11:31:28.560Z"
   },
   {
    "duration": 109,
    "start_time": "2021-07-26T11:31:28.632Z"
   },
   {
    "duration": 78,
    "start_time": "2021-07-26T11:31:28.743Z"
   },
   {
    "duration": 294,
    "start_time": "2021-07-26T11:31:47.857Z"
   },
   {
    "duration": 1043,
    "start_time": "2021-07-26T11:31:52.975Z"
   },
   {
    "duration": 35,
    "start_time": "2021-07-26T11:31:54.019Z"
   },
   {
    "duration": 37,
    "start_time": "2021-07-26T11:31:54.059Z"
   },
   {
    "duration": 16,
    "start_time": "2021-07-26T11:31:54.099Z"
   },
   {
    "duration": 25,
    "start_time": "2021-07-26T11:31:54.116Z"
   },
   {
    "duration": 70,
    "start_time": "2021-07-26T11:31:54.143Z"
   },
   {
    "duration": 21,
    "start_time": "2021-07-26T11:31:54.216Z"
   },
   {
    "duration": 15,
    "start_time": "2021-07-26T11:31:54.239Z"
   },
   {
    "duration": 47,
    "start_time": "2021-07-26T11:31:54.256Z"
   },
   {
    "duration": 21,
    "start_time": "2021-07-26T11:31:54.306Z"
   },
   {
    "duration": 14,
    "start_time": "2021-07-26T11:31:54.330Z"
   },
   {
    "duration": 19,
    "start_time": "2021-07-26T11:31:54.390Z"
   },
   {
    "duration": 97,
    "start_time": "2021-07-26T11:31:54.413Z"
   },
   {
    "duration": 37,
    "start_time": "2021-07-26T11:31:54.512Z"
   },
   {
    "duration": 70,
    "start_time": "2021-07-26T11:31:54.551Z"
   },
   {
    "duration": 109,
    "start_time": "2021-07-26T11:31:54.624Z"
   },
   {
    "duration": 80,
    "start_time": "2021-07-26T11:31:54.735Z"
   },
   {
    "duration": 49,
    "start_time": "2021-07-26T11:32:37.132Z"
   },
   {
    "duration": 119,
    "start_time": "2021-07-26T11:33:48.138Z"
   },
   {
    "duration": 65,
    "start_time": "2021-07-26T11:34:14.534Z"
   },
   {
    "duration": 72,
    "start_time": "2021-07-26T11:34:34.934Z"
   },
   {
    "duration": 54,
    "start_time": "2021-07-26T11:36:00.727Z"
   },
   {
    "duration": 61,
    "start_time": "2021-07-26T11:39:38.331Z"
   },
   {
    "duration": 272,
    "start_time": "2021-07-26T11:39:55.642Z"
   },
   {
    "duration": 58,
    "start_time": "2021-07-26T11:42:40.059Z"
   },
   {
    "duration": 78,
    "start_time": "2021-07-26T11:42:57.969Z"
   },
   {
    "duration": 118,
    "start_time": "2021-07-26T11:43:11.178Z"
   },
   {
    "duration": 62,
    "start_time": "2021-07-26T11:43:18.247Z"
   },
   {
    "duration": 217,
    "start_time": "2021-07-26T11:43:32.267Z"
   },
   {
    "duration": 250,
    "start_time": "2021-07-26T11:43:52.537Z"
   },
   {
    "duration": 47,
    "start_time": "2021-07-26T11:44:14.183Z"
   },
   {
    "duration": 60,
    "start_time": "2021-07-26T11:44:30.446Z"
   },
   {
    "duration": 211,
    "start_time": "2021-07-26T11:44:43.399Z"
   },
   {
    "duration": 57,
    "start_time": "2021-07-26T11:46:17.276Z"
   },
   {
    "duration": 260,
    "start_time": "2021-07-26T11:47:50.771Z"
   },
   {
    "duration": 18,
    "start_time": "2021-07-26T11:48:29.213Z"
   },
   {
    "duration": 32,
    "start_time": "2021-07-26T11:48:57.050Z"
   },
   {
    "duration": 45,
    "start_time": "2021-07-26T11:49:48.978Z"
   },
   {
    "duration": 31,
    "start_time": "2021-07-26T11:49:53.058Z"
   },
   {
    "duration": 21,
    "start_time": "2021-07-26T11:50:01.108Z"
   },
   {
    "duration": 31,
    "start_time": "2021-07-26T11:50:14.634Z"
   },
   {
    "duration": 186,
    "start_time": "2021-07-26T11:50:24.042Z"
   },
   {
    "duration": 1798,
    "start_time": "2021-07-26T11:50:30.261Z"
   },
   {
    "duration": 31,
    "start_time": "2021-07-26T11:50:32.061Z"
   },
   {
    "duration": 32,
    "start_time": "2021-07-26T11:50:32.095Z"
   },
   {
    "duration": 13,
    "start_time": "2021-07-26T11:50:32.129Z"
   },
   {
    "duration": 58,
    "start_time": "2021-07-26T11:50:32.144Z"
   },
   {
    "duration": 28,
    "start_time": "2021-07-26T11:50:32.204Z"
   },
   {
    "duration": 18,
    "start_time": "2021-07-26T11:50:32.234Z"
   },
   {
    "duration": 54,
    "start_time": "2021-07-26T11:50:32.254Z"
   },
   {
    "duration": 14,
    "start_time": "2021-07-26T11:50:32.311Z"
   },
   {
    "duration": 14,
    "start_time": "2021-07-26T11:50:32.327Z"
   },
   {
    "duration": 60,
    "start_time": "2021-07-26T11:50:32.342Z"
   },
   {
    "duration": 7,
    "start_time": "2021-07-26T11:50:32.404Z"
   },
   {
    "duration": 108,
    "start_time": "2021-07-26T11:50:32.413Z"
   },
   {
    "duration": 34,
    "start_time": "2021-07-26T11:50:32.523Z"
   },
   {
    "duration": 78,
    "start_time": "2021-07-26T11:50:32.558Z"
   },
   {
    "duration": 119,
    "start_time": "2021-07-26T11:50:32.638Z"
   },
   {
    "duration": 65,
    "start_time": "2021-07-26T11:50:32.759Z"
   },
   {
    "duration": 29,
    "start_time": "2021-07-26T11:50:32.826Z"
   },
   {
    "duration": 29,
    "start_time": "2021-07-26T11:50:32.856Z"
   },
   {
    "duration": 256,
    "start_time": "2021-07-26T11:50:49.004Z"
   },
   {
    "duration": 1059,
    "start_time": "2021-07-26T11:50:56.867Z"
   },
   {
    "duration": 32,
    "start_time": "2021-07-26T11:50:57.927Z"
   },
   {
    "duration": 35,
    "start_time": "2021-07-26T11:50:57.962Z"
   },
   {
    "duration": 16,
    "start_time": "2021-07-26T11:50:58.001Z"
   },
   {
    "duration": 22,
    "start_time": "2021-07-26T11:50:58.018Z"
   },
   {
    "duration": 74,
    "start_time": "2021-07-26T11:50:58.041Z"
   },
   {
    "duration": 16,
    "start_time": "2021-07-26T11:50:58.117Z"
   },
   {
    "duration": 12,
    "start_time": "2021-07-26T11:50:58.135Z"
   },
   {
    "duration": 10,
    "start_time": "2021-07-26T11:50:58.148Z"
   },
   {
    "duration": 21,
    "start_time": "2021-07-26T11:50:58.185Z"
   },
   {
    "duration": 14,
    "start_time": "2021-07-26T11:50:58.210Z"
   },
   {
    "duration": 6,
    "start_time": "2021-07-26T11:50:58.225Z"
   },
   {
    "duration": 124,
    "start_time": "2021-07-26T11:50:58.233Z"
   },
   {
    "duration": 39,
    "start_time": "2021-07-26T11:50:58.359Z"
   },
   {
    "duration": 48,
    "start_time": "2021-07-26T11:50:58.399Z"
   },
   {
    "duration": 100,
    "start_time": "2021-07-26T11:50:58.449Z"
   },
   {
    "duration": 66,
    "start_time": "2021-07-26T11:50:58.551Z"
   },
   {
    "duration": 32,
    "start_time": "2021-07-26T11:50:58.619Z"
   },
   {
    "duration": 52,
    "start_time": "2021-07-26T11:50:58.653Z"
   },
   {
    "duration": 20,
    "start_time": "2021-07-26T11:51:33.718Z"
   },
   {
    "duration": 8,
    "start_time": "2021-07-26T11:51:48.570Z"
   },
   {
    "duration": 19,
    "start_time": "2021-07-26T11:51:53.460Z"
   },
   {
    "duration": 947,
    "start_time": "2021-07-26T12:10:30.097Z"
   },
   {
    "duration": 32,
    "start_time": "2021-07-26T12:10:31.046Z"
   },
   {
    "duration": 28,
    "start_time": "2021-07-26T12:10:31.082Z"
   },
   {
    "duration": 10,
    "start_time": "2021-07-26T12:10:31.112Z"
   },
   {
    "duration": 45,
    "start_time": "2021-07-26T12:10:31.123Z"
   },
   {
    "duration": 33,
    "start_time": "2021-07-26T12:10:31.170Z"
   },
   {
    "duration": 19,
    "start_time": "2021-07-26T12:10:31.205Z"
   },
   {
    "duration": 30,
    "start_time": "2021-07-26T12:10:31.227Z"
   },
   {
    "duration": 28,
    "start_time": "2021-07-26T12:10:31.259Z"
   },
   {
    "duration": 19,
    "start_time": "2021-07-26T12:10:31.289Z"
   },
   {
    "duration": 30,
    "start_time": "2021-07-26T12:10:31.310Z"
   },
   {
    "duration": 25,
    "start_time": "2021-07-26T12:10:31.342Z"
   },
   {
    "duration": 96,
    "start_time": "2021-07-26T12:10:31.369Z"
   },
   {
    "duration": 44,
    "start_time": "2021-07-26T12:10:31.467Z"
   },
   {
    "duration": 49,
    "start_time": "2021-07-26T12:10:31.513Z"
   },
   {
    "duration": 104,
    "start_time": "2021-07-26T12:10:31.563Z"
   },
   {
    "duration": 34,
    "start_time": "2021-07-26T12:10:31.669Z"
   },
   {
    "duration": 5,
    "start_time": "2021-07-26T12:10:31.705Z"
   },
   {
    "duration": 19,
    "start_time": "2021-07-26T12:10:31.712Z"
   },
   {
    "duration": 11,
    "start_time": "2021-07-26T12:10:31.733Z"
   },
   {
    "duration": 43,
    "start_time": "2021-07-26T12:10:31.746Z"
   },
   {
    "duration": 5,
    "start_time": "2021-07-26T12:10:31.792Z"
   },
   {
    "duration": 34,
    "start_time": "2021-07-26T12:10:31.798Z"
   },
   {
    "duration": 933,
    "start_time": "2021-07-26T12:11:41.437Z"
   },
   {
    "duration": 31,
    "start_time": "2021-07-26T12:11:42.372Z"
   },
   {
    "duration": 29,
    "start_time": "2021-07-26T12:11:42.405Z"
   },
   {
    "duration": 14,
    "start_time": "2021-07-26T12:11:42.436Z"
   },
   {
    "duration": 50,
    "start_time": "2021-07-26T12:11:42.451Z"
   },
   {
    "duration": 28,
    "start_time": "2021-07-26T12:11:42.503Z"
   },
   {
    "duration": 17,
    "start_time": "2021-07-26T12:11:42.532Z"
   },
   {
    "duration": 37,
    "start_time": "2021-07-26T12:11:42.552Z"
   },
   {
    "duration": 10,
    "start_time": "2021-07-26T12:11:42.592Z"
   },
   {
    "duration": 13,
    "start_time": "2021-07-26T12:11:42.603Z"
   },
   {
    "duration": 16,
    "start_time": "2021-07-26T12:11:42.618Z"
   },
   {
    "duration": 51,
    "start_time": "2021-07-26T12:11:42.636Z"
   },
   {
    "duration": 78,
    "start_time": "2021-07-26T12:11:42.689Z"
   },
   {
    "duration": 49,
    "start_time": "2021-07-26T12:11:42.769Z"
   },
   {
    "duration": 69,
    "start_time": "2021-07-26T12:11:42.820Z"
   },
   {
    "duration": 77,
    "start_time": "2021-07-26T12:11:42.890Z"
   },
   {
    "duration": 34,
    "start_time": "2021-07-26T12:11:42.969Z"
   },
   {
    "duration": 7,
    "start_time": "2021-07-26T12:11:43.004Z"
   },
   {
    "duration": 11,
    "start_time": "2021-07-26T12:11:43.013Z"
   },
   {
    "duration": 5,
    "start_time": "2021-07-26T12:11:43.026Z"
   },
   {
    "duration": 64,
    "start_time": "2021-07-26T12:11:43.033Z"
   },
   {
    "duration": 5,
    "start_time": "2021-07-26T12:11:43.099Z"
   },
   {
    "duration": 20,
    "start_time": "2021-07-26T12:11:43.108Z"
   },
   {
    "duration": 1325,
    "start_time": "2021-07-26T14:31:40.088Z"
   },
   {
    "duration": 45,
    "start_time": "2021-07-26T14:31:41.416Z"
   },
   {
    "duration": 40,
    "start_time": "2021-07-26T14:31:41.465Z"
   },
   {
    "duration": 22,
    "start_time": "2021-07-26T14:31:41.508Z"
   },
   {
    "duration": 44,
    "start_time": "2021-07-26T14:31:41.532Z"
   },
   {
    "duration": 41,
    "start_time": "2021-07-26T14:31:41.578Z"
   },
   {
    "duration": 50,
    "start_time": "2021-07-26T14:31:41.621Z"
   },
   {
    "duration": 18,
    "start_time": "2021-07-26T14:31:41.673Z"
   },
   {
    "duration": 18,
    "start_time": "2021-07-26T14:31:41.695Z"
   },
   {
    "duration": 57,
    "start_time": "2021-07-26T14:31:41.717Z"
   },
   {
    "duration": 24,
    "start_time": "2021-07-26T14:31:41.776Z"
   },
   {
    "duration": 16,
    "start_time": "2021-07-26T14:31:41.802Z"
   },
   {
    "duration": 142,
    "start_time": "2021-07-26T14:31:41.820Z"
   },
   {
    "duration": 46,
    "start_time": "2021-07-26T14:31:41.964Z"
   },
   {
    "duration": 94,
    "start_time": "2021-07-26T14:31:42.012Z"
   },
   {
    "duration": 122,
    "start_time": "2021-07-26T14:31:42.108Z"
   },
   {
    "duration": 40,
    "start_time": "2021-07-26T14:31:42.232Z"
   },
   {
    "duration": 8,
    "start_time": "2021-07-26T14:31:42.274Z"
   },
   {
    "duration": 18,
    "start_time": "2021-07-26T14:31:42.284Z"
   },
   {
    "duration": 6,
    "start_time": "2021-07-26T14:31:42.304Z"
   },
   {
    "duration": 59,
    "start_time": "2021-07-26T14:31:42.313Z"
   },
   {
    "duration": 7,
    "start_time": "2021-07-26T14:31:42.374Z"
   },
   {
    "duration": 35,
    "start_time": "2021-07-26T14:31:42.384Z"
   },
   {
    "duration": 442,
    "start_time": "2021-07-26T14:32:37.893Z"
   },
   {
    "duration": 1282,
    "start_time": "2021-07-26T14:32:54.565Z"
   },
   {
    "duration": 50,
    "start_time": "2021-07-26T14:32:55.850Z"
   },
   {
    "duration": 40,
    "start_time": "2021-07-26T14:32:55.904Z"
   },
   {
    "duration": 19,
    "start_time": "2021-07-26T14:32:55.968Z"
   },
   {
    "duration": 33,
    "start_time": "2021-07-26T14:32:55.990Z"
   },
   {
    "duration": 78,
    "start_time": "2021-07-26T14:32:56.026Z"
   },
   {
    "duration": 29,
    "start_time": "2021-07-26T14:32:56.107Z"
   },
   {
    "duration": 48,
    "start_time": "2021-07-26T14:32:56.139Z"
   },
   {
    "duration": 19,
    "start_time": "2021-07-26T14:32:56.193Z"
   },
   {
    "duration": 67,
    "start_time": "2021-07-26T14:32:56.216Z"
   },
   {
    "duration": 23,
    "start_time": "2021-07-26T14:32:56.287Z"
   },
   {
    "duration": 11,
    "start_time": "2021-07-26T14:32:56.313Z"
   },
   {
    "duration": 144,
    "start_time": "2021-07-26T14:32:56.327Z"
   },
   {
    "duration": 42,
    "start_time": "2021-07-26T14:32:56.473Z"
   },
   {
    "duration": 95,
    "start_time": "2021-07-26T14:32:56.518Z"
   },
   {
    "duration": 124,
    "start_time": "2021-07-26T14:32:56.616Z"
   },
   {
    "duration": 39,
    "start_time": "2021-07-26T14:32:56.743Z"
   },
   {
    "duration": 8,
    "start_time": "2021-07-26T14:32:56.784Z"
   },
   {
    "duration": 15,
    "start_time": "2021-07-26T14:32:56.794Z"
   },
   {
    "duration": 6,
    "start_time": "2021-07-26T14:32:56.811Z"
   },
   {
    "duration": 60,
    "start_time": "2021-07-26T14:32:56.819Z"
   },
   {
    "duration": 7,
    "start_time": "2021-07-26T14:32:56.881Z"
   },
   {
    "duration": 20,
    "start_time": "2021-07-26T14:32:56.890Z"
   },
   {
    "duration": 377,
    "start_time": "2021-07-26T14:38:34.735Z"
   },
   {
    "duration": 24,
    "start_time": "2021-07-26T14:40:29.105Z"
   },
   {
    "duration": 324,
    "start_time": "2021-07-26T14:46:30.500Z"
   },
   {
    "duration": 1332,
    "start_time": "2021-07-26T14:47:01.874Z"
   },
   {
    "duration": 45,
    "start_time": "2021-07-26T14:47:03.208Z"
   },
   {
    "duration": 39,
    "start_time": "2021-07-26T14:47:03.256Z"
   },
   {
    "duration": 16,
    "start_time": "2021-07-26T14:47:03.297Z"
   },
   {
    "duration": 55,
    "start_time": "2021-07-26T14:47:03.315Z"
   },
   {
    "duration": 38,
    "start_time": "2021-07-26T14:47:03.372Z"
   },
   {
    "duration": 54,
    "start_time": "2021-07-26T14:47:03.413Z"
   },
   {
    "duration": 20,
    "start_time": "2021-07-26T14:47:03.469Z"
   },
   {
    "duration": 16,
    "start_time": "2021-07-26T14:47:03.493Z"
   },
   {
    "duration": 23,
    "start_time": "2021-07-26T14:47:03.512Z"
   },
   {
    "duration": 24,
    "start_time": "2021-07-26T14:47:03.568Z"
   },
   {
    "duration": 10,
    "start_time": "2021-07-26T14:47:03.595Z"
   },
   {
    "duration": 146,
    "start_time": "2021-07-26T14:47:03.607Z"
   },
   {
    "duration": 50,
    "start_time": "2021-07-26T14:47:03.756Z"
   },
   {
    "duration": 90,
    "start_time": "2021-07-26T14:47:03.809Z"
   },
   {
    "duration": 145,
    "start_time": "2021-07-26T14:47:03.902Z"
   },
   {
    "duration": 36,
    "start_time": "2021-07-26T14:47:04.049Z"
   },
   {
    "duration": 8,
    "start_time": "2021-07-26T14:47:04.088Z"
   },
   {
    "duration": 15,
    "start_time": "2021-07-26T14:47:04.098Z"
   },
   {
    "duration": 6,
    "start_time": "2021-07-26T14:47:04.116Z"
   },
   {
    "duration": 69,
    "start_time": "2021-07-26T14:47:04.124Z"
   },
   {
    "duration": 6,
    "start_time": "2021-07-26T14:47:04.195Z"
   },
   {
    "duration": 19,
    "start_time": "2021-07-26T14:47:04.204Z"
   },
   {
    "duration": 424,
    "start_time": "2021-07-26T14:47:43.958Z"
   },
   {
    "duration": 1227,
    "start_time": "2021-07-26T14:47:58.621Z"
   },
   {
    "duration": 49,
    "start_time": "2021-07-26T14:47:59.851Z"
   },
   {
    "duration": 62,
    "start_time": "2021-07-26T14:47:59.905Z"
   },
   {
    "duration": 16,
    "start_time": "2021-07-26T14:47:59.970Z"
   },
   {
    "duration": 30,
    "start_time": "2021-07-26T14:47:59.988Z"
   },
   {
    "duration": 66,
    "start_time": "2021-07-26T14:48:00.021Z"
   },
   {
    "duration": 27,
    "start_time": "2021-07-26T14:48:00.089Z"
   },
   {
    "duration": 49,
    "start_time": "2021-07-26T14:48:00.119Z"
   },
   {
    "duration": 18,
    "start_time": "2021-07-26T14:48:00.171Z"
   },
   {
    "duration": 27,
    "start_time": "2021-07-26T14:48:00.191Z"
   },
   {
    "duration": 54,
    "start_time": "2021-07-26T14:48:00.220Z"
   },
   {
    "duration": 18,
    "start_time": "2021-07-26T14:48:00.276Z"
   },
   {
    "duration": 130,
    "start_time": "2021-07-26T14:48:00.297Z"
   },
   {
    "duration": 61,
    "start_time": "2021-07-26T14:48:00.430Z"
   },
   {
    "duration": 82,
    "start_time": "2021-07-26T14:48:00.493Z"
   },
   {
    "duration": 140,
    "start_time": "2021-07-26T14:48:00.577Z"
   },
   {
    "duration": 32,
    "start_time": "2021-07-26T14:48:00.719Z"
   },
   {
    "duration": 9,
    "start_time": "2021-07-26T14:48:00.766Z"
   },
   {
    "duration": 22,
    "start_time": "2021-07-26T14:48:00.777Z"
   },
   {
    "duration": 12,
    "start_time": "2021-07-26T14:48:00.802Z"
   },
   {
    "duration": 51,
    "start_time": "2021-07-26T14:48:00.816Z"
   },
   {
    "duration": 7,
    "start_time": "2021-07-26T14:48:00.869Z"
   },
   {
    "duration": 49,
    "start_time": "2021-07-26T14:48:00.880Z"
   },
   {
    "duration": 559,
    "start_time": "2021-07-26T15:00:10.205Z"
   },
   {
    "duration": 1268,
    "start_time": "2021-07-26T15:00:18.621Z"
   },
   {
    "duration": 45,
    "start_time": "2021-07-26T15:00:19.892Z"
   },
   {
    "duration": 44,
    "start_time": "2021-07-26T15:00:19.941Z"
   },
   {
    "duration": 17,
    "start_time": "2021-07-26T15:00:19.988Z"
   },
   {
    "duration": 31,
    "start_time": "2021-07-26T15:00:20.008Z"
   },
   {
    "duration": 39,
    "start_time": "2021-07-26T15:00:20.066Z"
   },
   {
    "duration": 26,
    "start_time": "2021-07-26T15:00:20.108Z"
   },
   {
    "duration": 47,
    "start_time": "2021-07-26T15:00:20.138Z"
   },
   {
    "duration": 16,
    "start_time": "2021-07-26T15:00:20.188Z"
   },
   {
    "duration": 22,
    "start_time": "2021-07-26T15:00:20.206Z"
   },
   {
    "duration": 57,
    "start_time": "2021-07-26T15:00:20.230Z"
   },
   {
    "duration": 10,
    "start_time": "2021-07-26T15:00:20.289Z"
   },
   {
    "duration": 136,
    "start_time": "2021-07-26T15:00:20.301Z"
   },
   {
    "duration": 54,
    "start_time": "2021-07-26T15:00:20.439Z"
   },
   {
    "duration": 82,
    "start_time": "2021-07-26T15:00:20.495Z"
   },
   {
    "duration": 125,
    "start_time": "2021-07-26T15:00:20.579Z"
   },
   {
    "duration": 32,
    "start_time": "2021-07-26T15:00:20.706Z"
   },
   {
    "duration": 27,
    "start_time": "2021-07-26T15:00:20.740Z"
   },
   {
    "duration": 11,
    "start_time": "2021-07-26T15:00:20.770Z"
   },
   {
    "duration": 9,
    "start_time": "2021-07-26T15:00:20.783Z"
   },
   {
    "duration": 51,
    "start_time": "2021-07-26T15:00:20.795Z"
   },
   {
    "duration": 23,
    "start_time": "2021-07-26T15:00:20.848Z"
   },
   {
    "duration": 35,
    "start_time": "2021-07-26T15:00:20.875Z"
   },
   {
    "duration": 397,
    "start_time": "2021-07-26T15:01:48.151Z"
   },
   {
    "duration": 1286,
    "start_time": "2021-07-26T15:01:56.092Z"
   },
   {
    "duration": 45,
    "start_time": "2021-07-26T15:01:57.381Z"
   },
   {
    "duration": 56,
    "start_time": "2021-07-26T15:01:57.429Z"
   },
   {
    "duration": 18,
    "start_time": "2021-07-26T15:01:57.487Z"
   },
   {
    "duration": 32,
    "start_time": "2021-07-26T15:01:57.507Z"
   },
   {
    "duration": 40,
    "start_time": "2021-07-26T15:01:57.568Z"
   },
   {
    "duration": 25,
    "start_time": "2021-07-26T15:01:57.611Z"
   },
   {
    "duration": 44,
    "start_time": "2021-07-26T15:01:57.639Z"
   },
   {
    "duration": 17,
    "start_time": "2021-07-26T15:01:57.687Z"
   },
   {
    "duration": 21,
    "start_time": "2021-07-26T15:01:57.706Z"
   },
   {
    "duration": 55,
    "start_time": "2021-07-26T15:01:57.729Z"
   },
   {
    "duration": 12,
    "start_time": "2021-07-26T15:01:57.787Z"
   },
   {
    "duration": 143,
    "start_time": "2021-07-26T15:01:57.802Z"
   },
   {
    "duration": 58,
    "start_time": "2021-07-26T15:01:57.947Z"
   },
   {
    "duration": 83,
    "start_time": "2021-07-26T15:01:58.008Z"
   },
   {
    "duration": 146,
    "start_time": "2021-07-26T15:01:58.094Z"
   },
   {
    "duration": 48,
    "start_time": "2021-07-26T15:01:58.243Z"
   },
   {
    "duration": 12,
    "start_time": "2021-07-26T15:01:58.293Z"
   },
   {
    "duration": 13,
    "start_time": "2021-07-26T15:01:58.307Z"
   },
   {
    "duration": 5,
    "start_time": "2021-07-26T15:01:58.323Z"
   },
   {
    "duration": 79,
    "start_time": "2021-07-26T15:01:58.331Z"
   },
   {
    "duration": 7,
    "start_time": "2021-07-26T15:01:58.413Z"
   },
   {
    "duration": 45,
    "start_time": "2021-07-26T15:01:58.422Z"
   },
   {
    "duration": 21,
    "start_time": "2021-07-26T15:07:08.801Z"
   },
   {
    "duration": 33,
    "start_time": "2021-07-26T15:07:24.841Z"
   },
   {
    "duration": 1324,
    "start_time": "2021-07-26T15:08:03.812Z"
   },
   {
    "duration": 44,
    "start_time": "2021-07-26T15:08:05.138Z"
   },
   {
    "duration": 39,
    "start_time": "2021-07-26T15:08:05.185Z"
   },
   {
    "duration": 42,
    "start_time": "2021-07-26T15:08:05.227Z"
   },
   {
    "duration": 31,
    "start_time": "2021-07-26T15:08:05.271Z"
   },
   {
    "duration": 67,
    "start_time": "2021-07-26T15:08:05.304Z"
   },
   {
    "duration": 26,
    "start_time": "2021-07-26T15:08:05.374Z"
   },
   {
    "duration": 18,
    "start_time": "2021-07-26T15:08:05.404Z"
   },
   {
    "duration": 46,
    "start_time": "2021-07-26T15:08:05.425Z"
   },
   {
    "duration": 22,
    "start_time": "2021-07-26T15:08:05.474Z"
   },
   {
    "duration": 21,
    "start_time": "2021-07-26T15:08:05.499Z"
   },
   {
    "duration": 51,
    "start_time": "2021-07-26T15:08:05.523Z"
   },
   {
    "duration": 118,
    "start_time": "2021-07-26T15:08:05.577Z"
   },
   {
    "duration": 49,
    "start_time": "2021-07-26T15:08:05.697Z"
   },
   {
    "duration": 88,
    "start_time": "2021-07-26T15:08:05.749Z"
   },
   {
    "duration": 147,
    "start_time": "2021-07-26T15:08:05.839Z"
   },
   {
    "duration": 33,
    "start_time": "2021-07-26T15:08:05.989Z"
   },
   {
    "duration": 10,
    "start_time": "2021-07-26T15:08:06.025Z"
   },
   {
    "duration": 47,
    "start_time": "2021-07-26T15:08:06.037Z"
   },
   {
    "duration": 8,
    "start_time": "2021-07-26T15:08:06.087Z"
   },
   {
    "duration": 54,
    "start_time": "2021-07-26T15:08:06.098Z"
   },
   {
    "duration": 4,
    "start_time": "2021-07-26T15:08:06.168Z"
   },
   {
    "duration": 33,
    "start_time": "2021-07-26T15:08:06.178Z"
   },
   {
    "duration": 35,
    "start_time": "2021-07-26T15:09:18.947Z"
   },
   {
    "duration": 22,
    "start_time": "2021-07-26T15:09:46.007Z"
   },
   {
    "duration": 1337,
    "start_time": "2021-07-26T15:10:09.604Z"
   },
   {
    "duration": 45,
    "start_time": "2021-07-26T15:10:10.944Z"
   },
   {
    "duration": 39,
    "start_time": "2021-07-26T15:10:10.992Z"
   },
   {
    "duration": 34,
    "start_time": "2021-07-26T15:10:11.034Z"
   },
   {
    "duration": 30,
    "start_time": "2021-07-26T15:10:11.071Z"
   },
   {
    "duration": 63,
    "start_time": "2021-07-26T15:10:11.104Z"
   },
   {
    "duration": 25,
    "start_time": "2021-07-26T15:10:11.169Z"
   },
   {
    "duration": 18,
    "start_time": "2021-07-26T15:10:11.197Z"
   },
   {
    "duration": 49,
    "start_time": "2021-07-26T15:10:11.218Z"
   },
   {
    "duration": 22,
    "start_time": "2021-07-26T15:10:11.270Z"
   },
   {
    "duration": 167,
    "start_time": "2021-07-26T15:10:11.295Z"
   },
   {
    "duration": 10,
    "start_time": "2021-07-26T15:10:11.464Z"
   },
   {
    "duration": 118,
    "start_time": "2021-07-26T15:10:11.476Z"
   },
   {
    "duration": 44,
    "start_time": "2021-07-26T15:10:11.597Z"
   },
   {
    "duration": 86,
    "start_time": "2021-07-26T15:10:11.643Z"
   },
   {
    "duration": 133,
    "start_time": "2021-07-26T15:10:11.731Z"
   },
   {
    "duration": 32,
    "start_time": "2021-07-26T15:10:11.866Z"
   },
   {
    "duration": 8,
    "start_time": "2021-07-26T15:10:11.900Z"
   },
   {
    "duration": 12,
    "start_time": "2021-07-26T15:10:11.910Z"
   },
   {
    "duration": 6,
    "start_time": "2021-07-26T15:10:11.925Z"
   },
   {
    "duration": 76,
    "start_time": "2021-07-26T15:10:11.933Z"
   },
   {
    "duration": 3,
    "start_time": "2021-07-26T15:10:12.011Z"
   },
   {
    "duration": 37,
    "start_time": "2021-07-26T15:10:12.016Z"
   },
   {
    "duration": 537,
    "start_time": "2021-07-26T15:11:31.989Z"
   },
   {
    "duration": 1294,
    "start_time": "2021-07-26T15:11:42.970Z"
   },
   {
    "duration": 47,
    "start_time": "2021-07-26T15:11:44.267Z"
   },
   {
    "duration": 70,
    "start_time": "2021-07-26T15:11:44.319Z"
   },
   {
    "duration": 18,
    "start_time": "2021-07-26T15:11:44.393Z"
   },
   {
    "duration": 68,
    "start_time": "2021-07-26T15:11:44.414Z"
   },
   {
    "duration": 40,
    "start_time": "2021-07-26T15:11:44.485Z"
   },
   {
    "duration": 52,
    "start_time": "2021-07-26T15:11:44.528Z"
   },
   {
    "duration": 21,
    "start_time": "2021-07-26T15:11:44.583Z"
   },
   {
    "duration": 17,
    "start_time": "2021-07-26T15:11:44.607Z"
   },
   {
    "duration": 57,
    "start_time": "2021-07-26T15:11:44.627Z"
   },
   {
    "duration": 24,
    "start_time": "2021-07-26T15:11:44.686Z"
   },
   {
    "duration": 9,
    "start_time": "2021-07-26T15:11:44.713Z"
   },
   {
    "duration": 151,
    "start_time": "2021-07-26T15:11:44.725Z"
   },
   {
    "duration": 50,
    "start_time": "2021-07-26T15:11:44.879Z"
   },
   {
    "duration": 95,
    "start_time": "2021-07-26T15:11:44.931Z"
   },
   {
    "duration": 139,
    "start_time": "2021-07-26T15:11:45.028Z"
   },
   {
    "duration": 31,
    "start_time": "2021-07-26T15:11:45.170Z"
   },
   {
    "duration": 9,
    "start_time": "2021-07-26T15:11:45.203Z"
   },
   {
    "duration": 24,
    "start_time": "2021-07-26T15:11:45.215Z"
   },
   {
    "duration": 29,
    "start_time": "2021-07-26T15:11:45.242Z"
   },
   {
    "duration": 416,
    "start_time": "2021-07-26T15:11:45.274Z"
   },
   {
    "duration": -750,
    "start_time": "2021-07-26T15:11:46.443Z"
   },
   {
    "duration": -754,
    "start_time": "2021-07-26T15:11:46.448Z"
   },
   {
    "duration": 287,
    "start_time": "2021-07-26T15:12:19.400Z"
   },
   {
    "duration": 1331,
    "start_time": "2021-07-26T15:12:27.074Z"
   },
   {
    "duration": 48,
    "start_time": "2021-07-26T15:12:28.408Z"
   },
   {
    "duration": 40,
    "start_time": "2021-07-26T15:12:28.459Z"
   },
   {
    "duration": 22,
    "start_time": "2021-07-26T15:12:28.502Z"
   },
   {
    "duration": 46,
    "start_time": "2021-07-26T15:12:28.526Z"
   },
   {
    "duration": 39,
    "start_time": "2021-07-26T15:12:28.575Z"
   },
   {
    "duration": 53,
    "start_time": "2021-07-26T15:12:28.616Z"
   },
   {
    "duration": 19,
    "start_time": "2021-07-26T15:12:28.673Z"
   },
   {
    "duration": 19,
    "start_time": "2021-07-26T15:12:28.695Z"
   },
   {
    "duration": 69,
    "start_time": "2021-07-26T15:12:28.716Z"
   },
   {
    "duration": 25,
    "start_time": "2021-07-26T15:12:28.788Z"
   },
   {
    "duration": 11,
    "start_time": "2021-07-26T15:12:28.816Z"
   },
   {
    "duration": 161,
    "start_time": "2021-07-26T15:12:28.830Z"
   },
   {
    "duration": 50,
    "start_time": "2021-07-26T15:12:28.994Z"
   },
   {
    "duration": 89,
    "start_time": "2021-07-26T15:12:29.047Z"
   },
   {
    "duration": 160,
    "start_time": "2021-07-26T15:12:29.139Z"
   },
   {
    "duration": 34,
    "start_time": "2021-07-26T15:12:29.302Z"
   },
   {
    "duration": 28,
    "start_time": "2021-07-26T15:12:29.339Z"
   },
   {
    "duration": 56,
    "start_time": "2021-07-26T15:12:29.370Z"
   },
   {
    "duration": 9,
    "start_time": "2021-07-26T15:12:29.429Z"
   },
   {
    "duration": 421,
    "start_time": "2021-07-26T15:12:29.468Z"
   },
   {
    "duration": -1138,
    "start_time": "2021-07-26T15:12:31.031Z"
   },
   {
    "duration": -1157,
    "start_time": "2021-07-26T15:12:31.052Z"
   },
   {
    "duration": 330,
    "start_time": "2021-07-26T15:12:52.803Z"
   },
   {
    "duration": 1320,
    "start_time": "2021-07-26T15:13:02.064Z"
   },
   {
    "duration": 46,
    "start_time": "2021-07-26T15:13:03.387Z"
   },
   {
    "duration": 57,
    "start_time": "2021-07-26T15:13:03.438Z"
   },
   {
    "duration": 18,
    "start_time": "2021-07-26T15:13:03.499Z"
   },
   {
    "duration": 63,
    "start_time": "2021-07-26T15:13:03.519Z"
   },
   {
    "duration": 42,
    "start_time": "2021-07-26T15:13:03.585Z"
   },
   {
    "duration": 48,
    "start_time": "2021-07-26T15:13:03.629Z"
   },
   {
    "duration": 20,
    "start_time": "2021-07-26T15:13:03.679Z"
   },
   {
    "duration": 18,
    "start_time": "2021-07-26T15:13:03.703Z"
   },
   {
    "duration": 58,
    "start_time": "2021-07-26T15:13:03.724Z"
   },
   {
    "duration": 23,
    "start_time": "2021-07-26T15:13:03.784Z"
   },
   {
    "duration": 11,
    "start_time": "2021-07-26T15:13:03.810Z"
   },
   {
    "duration": 148,
    "start_time": "2021-07-26T15:13:03.824Z"
   },
   {
    "duration": 45,
    "start_time": "2021-07-26T15:13:03.975Z"
   },
   {
    "duration": 93,
    "start_time": "2021-07-26T15:13:04.022Z"
   },
   {
    "duration": 126,
    "start_time": "2021-07-26T15:13:04.118Z"
   },
   {
    "duration": 40,
    "start_time": "2021-07-26T15:13:04.246Z"
   },
   {
    "duration": 8,
    "start_time": "2021-07-26T15:13:04.289Z"
   },
   {
    "duration": 68,
    "start_time": "2021-07-26T15:13:04.299Z"
   },
   {
    "duration": 7,
    "start_time": "2021-07-26T15:13:04.369Z"
   },
   {
    "duration": 433,
    "start_time": "2021-07-26T15:13:04.378Z"
   },
   {
    "duration": -913,
    "start_time": "2021-07-26T15:13:05.726Z"
   },
   {
    "duration": -1010,
    "start_time": "2021-07-26T15:13:05.824Z"
   },
   {
    "duration": 1288,
    "start_time": "2021-07-26T15:14:18.480Z"
   },
   {
    "duration": 46,
    "start_time": "2021-07-26T15:14:19.770Z"
   },
   {
    "duration": 61,
    "start_time": "2021-07-26T15:14:19.819Z"
   },
   {
    "duration": 22,
    "start_time": "2021-07-26T15:14:19.883Z"
   },
   {
    "duration": 33,
    "start_time": "2021-07-26T15:14:19.908Z"
   },
   {
    "duration": 60,
    "start_time": "2021-07-26T15:14:19.943Z"
   },
   {
    "duration": 26,
    "start_time": "2021-07-26T15:14:20.005Z"
   },
   {
    "duration": 45,
    "start_time": "2021-07-26T15:14:20.033Z"
   },
   {
    "duration": 17,
    "start_time": "2021-07-26T15:14:20.082Z"
   },
   {
    "duration": 23,
    "start_time": "2021-07-26T15:14:20.102Z"
   },
   {
    "duration": 56,
    "start_time": "2021-07-26T15:14:20.128Z"
   },
   {
    "duration": 18,
    "start_time": "2021-07-26T15:14:20.186Z"
   },
   {
    "duration": 121,
    "start_time": "2021-07-26T15:14:20.206Z"
   },
   {
    "duration": 59,
    "start_time": "2021-07-26T15:14:20.329Z"
   },
   {
    "duration": 81,
    "start_time": "2021-07-26T15:14:20.390Z"
   },
   {
    "duration": 120,
    "start_time": "2021-07-26T15:14:20.474Z"
   },
   {
    "duration": 40,
    "start_time": "2021-07-26T15:14:20.596Z"
   },
   {
    "duration": 8,
    "start_time": "2021-07-26T15:14:20.638Z"
   },
   {
    "duration": 63,
    "start_time": "2021-07-26T15:14:20.648Z"
   },
   {
    "duration": 6,
    "start_time": "2021-07-26T15:14:20.713Z"
   },
   {
    "duration": 404,
    "start_time": "2021-07-26T15:14:20.721Z"
   },
   {
    "duration": -812,
    "start_time": "2021-07-26T15:14:21.940Z"
   },
   {
    "duration": -838,
    "start_time": "2021-07-26T15:14:21.968Z"
   },
   {
    "duration": 297,
    "start_time": "2021-07-26T15:15:15.280Z"
   },
   {
    "duration": 1254,
    "start_time": "2021-07-26T15:15:23.194Z"
   },
   {
    "duration": 43,
    "start_time": "2021-07-26T15:15:24.451Z"
   },
   {
    "duration": 39,
    "start_time": "2021-07-26T15:15:24.497Z"
   },
   {
    "duration": 47,
    "start_time": "2021-07-26T15:15:24.538Z"
   },
   {
    "duration": 30,
    "start_time": "2021-07-26T15:15:24.587Z"
   },
   {
    "duration": 58,
    "start_time": "2021-07-26T15:15:24.620Z"
   },
   {
    "duration": 25,
    "start_time": "2021-07-26T15:15:24.680Z"
   },
   {
    "duration": 17,
    "start_time": "2021-07-26T15:15:24.709Z"
   },
   {
    "duration": 50,
    "start_time": "2021-07-26T15:15:24.729Z"
   },
   {
    "duration": 21,
    "start_time": "2021-07-26T15:15:24.781Z"
   },
   {
    "duration": 21,
    "start_time": "2021-07-26T15:15:24.804Z"
   },
   {
    "duration": 48,
    "start_time": "2021-07-26T15:15:24.827Z"
   },
   {
    "duration": 128,
    "start_time": "2021-07-26T15:15:24.877Z"
   },
   {
    "duration": 43,
    "start_time": "2021-07-26T15:15:25.008Z"
   },
   {
    "duration": 74,
    "start_time": "2021-07-26T15:15:25.068Z"
   },
   {
    "duration": 128,
    "start_time": "2021-07-26T15:15:25.144Z"
   },
   {
    "duration": 32,
    "start_time": "2021-07-26T15:15:25.275Z"
   },
   {
    "duration": 7,
    "start_time": "2021-07-26T15:15:25.310Z"
   },
   {
    "duration": 434,
    "start_time": "2021-07-26T15:15:25.320Z"
   },
   {
    "duration": -819,
    "start_time": "2021-07-26T15:15:26.577Z"
   },
   {
    "duration": -837,
    "start_time": "2021-07-26T15:15:26.597Z"
   },
   {
    "duration": -840,
    "start_time": "2021-07-26T15:15:26.603Z"
   },
   {
    "duration": -874,
    "start_time": "2021-07-26T15:15:26.639Z"
   },
   {
    "duration": 338,
    "start_time": "2021-07-26T15:15:52.059Z"
   },
   {
    "duration": 1317,
    "start_time": "2021-07-26T15:15:58.981Z"
   },
   {
    "duration": 47,
    "start_time": "2021-07-26T15:16:00.301Z"
   },
   {
    "duration": 44,
    "start_time": "2021-07-26T15:16:00.351Z"
   },
   {
    "duration": 23,
    "start_time": "2021-07-26T15:16:00.398Z"
   },
   {
    "duration": 46,
    "start_time": "2021-07-26T15:16:00.423Z"
   },
   {
    "duration": 39,
    "start_time": "2021-07-26T15:16:00.471Z"
   },
   {
    "duration": 55,
    "start_time": "2021-07-26T15:16:00.513Z"
   },
   {
    "duration": 18,
    "start_time": "2021-07-26T15:16:00.571Z"
   },
   {
    "duration": 19,
    "start_time": "2021-07-26T15:16:00.593Z"
   },
   {
    "duration": 57,
    "start_time": "2021-07-26T15:16:00.614Z"
   },
   {
    "duration": 29,
    "start_time": "2021-07-26T15:16:00.673Z"
   },
   {
    "duration": 23,
    "start_time": "2021-07-26T15:16:00.705Z"
   },
   {
    "duration": 129,
    "start_time": "2021-07-26T15:16:00.731Z"
   },
   {
    "duration": 49,
    "start_time": "2021-07-26T15:16:00.863Z"
   },
   {
    "duration": 96,
    "start_time": "2021-07-26T15:16:00.915Z"
   },
   {
    "duration": 135,
    "start_time": "2021-07-26T15:16:01.014Z"
   },
   {
    "duration": 43,
    "start_time": "2021-07-26T15:16:01.151Z"
   },
   {
    "duration": 8,
    "start_time": "2021-07-26T15:16:01.197Z"
   },
   {
    "duration": 428,
    "start_time": "2021-07-26T15:16:01.208Z"
   },
   {
    "duration": -935,
    "start_time": "2021-07-26T15:16:02.574Z"
   },
   {
    "duration": -962,
    "start_time": "2021-07-26T15:16:02.603Z"
   },
   {
    "duration": -963,
    "start_time": "2021-07-26T15:16:02.607Z"
   },
   {
    "duration": -977,
    "start_time": "2021-07-26T15:16:02.623Z"
   },
   {
    "duration": 289,
    "start_time": "2021-07-26T15:16:35.711Z"
   },
   {
    "duration": 1338,
    "start_time": "2021-07-26T15:16:43.272Z"
   },
   {
    "duration": 46,
    "start_time": "2021-07-26T15:16:44.612Z"
   },
   {
    "duration": 39,
    "start_time": "2021-07-26T15:16:44.661Z"
   },
   {
    "duration": 16,
    "start_time": "2021-07-26T15:16:44.704Z"
   },
   {
    "duration": 54,
    "start_time": "2021-07-26T15:16:44.722Z"
   },
   {
    "duration": 37,
    "start_time": "2021-07-26T15:16:44.778Z"
   },
   {
    "duration": 51,
    "start_time": "2021-07-26T15:16:44.818Z"
   },
   {
    "duration": 20,
    "start_time": "2021-07-26T15:16:44.871Z"
   },
   {
    "duration": 23,
    "start_time": "2021-07-26T15:16:44.895Z"
   },
   {
    "duration": 58,
    "start_time": "2021-07-26T15:16:44.921Z"
   },
   {
    "duration": 22,
    "start_time": "2021-07-26T15:16:44.981Z"
   },
   {
    "duration": 24,
    "start_time": "2021-07-26T15:16:45.007Z"
   },
   {
    "duration": 142,
    "start_time": "2021-07-26T15:16:45.034Z"
   },
   {
    "duration": 50,
    "start_time": "2021-07-26T15:16:45.179Z"
   },
   {
    "duration": 99,
    "start_time": "2021-07-26T15:16:45.232Z"
   },
   {
    "duration": 134,
    "start_time": "2021-07-26T15:16:45.333Z"
   },
   {
    "duration": 32,
    "start_time": "2021-07-26T15:16:45.469Z"
   },
   {
    "duration": 7,
    "start_time": "2021-07-26T15:16:45.504Z"
   },
   {
    "duration": 407,
    "start_time": "2021-07-26T15:16:45.514Z"
   },
   {
    "duration": -679,
    "start_time": "2021-07-26T15:16:46.602Z"
   },
   {
    "duration": -683,
    "start_time": "2021-07-26T15:16:46.608Z"
   },
   {
    "duration": -686,
    "start_time": "2021-07-26T15:16:46.612Z"
   },
   {
    "duration": -725,
    "start_time": "2021-07-26T15:16:46.652Z"
   },
   {
    "duration": 1273,
    "start_time": "2021-07-26T15:17:22.300Z"
   },
   {
    "duration": 48,
    "start_time": "2021-07-26T15:17:23.576Z"
   },
   {
    "duration": 66,
    "start_time": "2021-07-26T15:17:23.629Z"
   },
   {
    "duration": 19,
    "start_time": "2021-07-26T15:17:23.698Z"
   },
   {
    "duration": 56,
    "start_time": "2021-07-26T15:17:23.719Z"
   },
   {
    "duration": 37,
    "start_time": "2021-07-26T15:17:23.777Z"
   },
   {
    "duration": 50,
    "start_time": "2021-07-26T15:17:23.816Z"
   },
   {
    "duration": 19,
    "start_time": "2021-07-26T15:17:23.869Z"
   },
   {
    "duration": 16,
    "start_time": "2021-07-26T15:17:23.891Z"
   },
   {
    "duration": 60,
    "start_time": "2021-07-26T15:17:23.910Z"
   },
   {
    "duration": 27,
    "start_time": "2021-07-26T15:17:23.973Z"
   },
   {
    "duration": 9,
    "start_time": "2021-07-26T15:17:24.002Z"
   },
   {
    "duration": 132,
    "start_time": "2021-07-26T15:17:24.014Z"
   },
   {
    "duration": 53,
    "start_time": "2021-07-26T15:17:24.148Z"
   },
   {
    "duration": 83,
    "start_time": "2021-07-26T15:17:24.204Z"
   },
   {
    "duration": 123,
    "start_time": "2021-07-26T15:17:24.290Z"
   },
   {
    "duration": 30,
    "start_time": "2021-07-26T15:17:24.416Z"
   },
   {
    "duration": 26,
    "start_time": "2021-07-26T15:17:24.448Z"
   },
   {
    "duration": 58,
    "start_time": "2021-07-26T15:17:24.476Z"
   },
   {
    "duration": 7,
    "start_time": "2021-07-26T15:17:24.536Z"
   },
   {
    "duration": 384,
    "start_time": "2021-07-26T15:17:24.545Z"
   },
   {
    "duration": -913,
    "start_time": "2021-07-26T15:17:25.845Z"
   },
   {
    "duration": -923,
    "start_time": "2021-07-26T15:17:25.856Z"
   },
   {
    "duration": 1277,
    "start_time": "2021-07-26T15:18:23.403Z"
   },
   {
    "duration": 47,
    "start_time": "2021-07-26T15:18:24.682Z"
   },
   {
    "duration": 51,
    "start_time": "2021-07-26T15:18:24.732Z"
   },
   {
    "duration": 16,
    "start_time": "2021-07-26T15:18:24.787Z"
   },
   {
    "duration": 33,
    "start_time": "2021-07-26T15:18:24.805Z"
   },
   {
    "duration": 38,
    "start_time": "2021-07-26T15:18:24.868Z"
   },
   {
    "duration": 27,
    "start_time": "2021-07-26T15:18:24.909Z"
   },
   {
    "duration": 18,
    "start_time": "2021-07-26T15:18:24.967Z"
   },
   {
    "duration": 23,
    "start_time": "2021-07-26T15:18:24.989Z"
   },
   {
    "duration": 33,
    "start_time": "2021-07-26T15:18:25.015Z"
   },
   {
    "duration": 35,
    "start_time": "2021-07-26T15:18:25.051Z"
   },
   {
    "duration": 10,
    "start_time": "2021-07-26T15:18:25.089Z"
   },
   {
    "duration": 146,
    "start_time": "2021-07-26T15:18:25.101Z"
   },
   {
    "duration": 61,
    "start_time": "2021-07-26T15:18:25.250Z"
   },
   {
    "duration": 87,
    "start_time": "2021-07-26T15:18:25.314Z"
   },
   {
    "duration": 124,
    "start_time": "2021-07-26T15:18:25.404Z"
   },
   {
    "duration": 41,
    "start_time": "2021-07-26T15:18:25.531Z"
   },
   {
    "duration": 9,
    "start_time": "2021-07-26T15:18:25.574Z"
   },
   {
    "duration": 50,
    "start_time": "2021-07-26T15:18:25.585Z"
   },
   {
    "duration": 31,
    "start_time": "2021-07-26T15:18:25.637Z"
   },
   {
    "duration": 433,
    "start_time": "2021-07-26T15:18:25.671Z"
   },
   {
    "duration": -1041,
    "start_time": "2021-07-26T15:18:27.148Z"
   },
   {
    "duration": -1046,
    "start_time": "2021-07-26T15:18:27.155Z"
   },
   {
    "duration": 1323,
    "start_time": "2021-07-26T15:19:27.372Z"
   },
   {
    "duration": 48,
    "start_time": "2021-07-26T15:19:28.698Z"
   },
   {
    "duration": 42,
    "start_time": "2021-07-26T15:19:28.750Z"
   },
   {
    "duration": 18,
    "start_time": "2021-07-26T15:19:28.796Z"
   },
   {
    "duration": 64,
    "start_time": "2021-07-26T15:19:28.816Z"
   },
   {
    "duration": 37,
    "start_time": "2021-07-26T15:19:28.882Z"
   },
   {
    "duration": 50,
    "start_time": "2021-07-26T15:19:28.921Z"
   },
   {
    "duration": 18,
    "start_time": "2021-07-26T15:19:28.974Z"
   },
   {
    "duration": 17,
    "start_time": "2021-07-26T15:19:28.996Z"
   },
   {
    "duration": 54,
    "start_time": "2021-07-26T15:19:29.016Z"
   },
   {
    "duration": 23,
    "start_time": "2021-07-26T15:19:29.072Z"
   },
   {
    "duration": 10,
    "start_time": "2021-07-26T15:19:29.097Z"
   },
   {
    "duration": 143,
    "start_time": "2021-07-26T15:19:29.110Z"
   },
   {
    "duration": 50,
    "start_time": "2021-07-26T15:19:29.256Z"
   },
   {
    "duration": 89,
    "start_time": "2021-07-26T15:19:29.308Z"
   },
   {
    "duration": 130,
    "start_time": "2021-07-26T15:19:29.400Z"
   },
   {
    "duration": 39,
    "start_time": "2021-07-26T15:19:29.533Z"
   },
   {
    "duration": 8,
    "start_time": "2021-07-26T15:19:29.575Z"
   },
   {
    "duration": 15,
    "start_time": "2021-07-26T15:19:29.585Z"
   },
   {
    "duration": 67,
    "start_time": "2021-07-26T15:19:29.602Z"
   },
   {
    "duration": 6,
    "start_time": "2021-07-26T15:19:29.671Z"
   },
   {
    "duration": 723,
    "start_time": "2021-07-26T15:19:29.680Z"
   },
   {
    "duration": -577,
    "start_time": "2021-07-26T15:19:30.982Z"
   },
   {
    "duration": -599,
    "start_time": "2021-07-26T15:19:31.006Z"
   },
   {
    "duration": 1307,
    "start_time": "2021-07-26T15:20:49.704Z"
   },
   {
    "duration": 45,
    "start_time": "2021-07-26T15:20:51.013Z"
   },
   {
    "duration": 39,
    "start_time": "2021-07-26T15:20:51.061Z"
   },
   {
    "duration": 15,
    "start_time": "2021-07-26T15:20:51.103Z"
   },
   {
    "duration": 49,
    "start_time": "2021-07-26T15:20:51.120Z"
   },
   {
    "duration": 37,
    "start_time": "2021-07-26T15:20:51.171Z"
   },
   {
    "duration": 25,
    "start_time": "2021-07-26T15:20:51.210Z"
   },
   {
    "duration": 18,
    "start_time": "2021-07-26T15:20:51.270Z"
   },
   {
    "duration": 16,
    "start_time": "2021-07-26T15:20:51.291Z"
   },
   {
    "duration": 24,
    "start_time": "2021-07-26T15:20:51.310Z"
   },
   {
    "duration": 22,
    "start_time": "2021-07-26T15:20:51.367Z"
   },
   {
    "duration": 19,
    "start_time": "2021-07-26T15:20:51.391Z"
   },
   {
    "duration": 128,
    "start_time": "2021-07-26T15:20:51.412Z"
   },
   {
    "duration": 60,
    "start_time": "2021-07-26T15:20:51.542Z"
   },
   {
    "duration": 86,
    "start_time": "2021-07-26T15:20:51.604Z"
   },
   {
    "duration": 134,
    "start_time": "2021-07-26T15:20:51.692Z"
   },
   {
    "duration": 40,
    "start_time": "2021-07-26T15:20:51.829Z"
   },
   {
    "duration": 7,
    "start_time": "2021-07-26T15:20:51.872Z"
   },
   {
    "duration": 15,
    "start_time": "2021-07-26T15:20:51.882Z"
   },
   {
    "duration": 6,
    "start_time": "2021-07-26T15:20:51.899Z"
   },
   {
    "duration": 73,
    "start_time": "2021-07-26T15:20:51.907Z"
   },
   {
    "duration": 3,
    "start_time": "2021-07-26T15:20:51.982Z"
   },
   {
    "duration": 20,
    "start_time": "2021-07-26T15:20:51.988Z"
   },
   {
    "duration": 1330,
    "start_time": "2021-07-26T15:30:05.246Z"
   },
   {
    "duration": 45,
    "start_time": "2021-07-26T15:30:06.578Z"
   },
   {
    "duration": 56,
    "start_time": "2021-07-26T15:30:06.626Z"
   },
   {
    "duration": 15,
    "start_time": "2021-07-26T15:30:06.685Z"
   },
   {
    "duration": 32,
    "start_time": "2021-07-26T15:30:06.703Z"
   },
   {
    "duration": 66,
    "start_time": "2021-07-26T15:30:06.738Z"
   },
   {
    "duration": 26,
    "start_time": "2021-07-26T15:30:06.806Z"
   },
   {
    "duration": 46,
    "start_time": "2021-07-26T15:30:06.834Z"
   },
   {
    "duration": 17,
    "start_time": "2021-07-26T15:30:06.884Z"
   },
   {
    "duration": 33,
    "start_time": "2021-07-26T15:30:06.903Z"
   },
   {
    "duration": 44,
    "start_time": "2021-07-26T15:30:06.938Z"
   },
   {
    "duration": 17,
    "start_time": "2021-07-26T15:30:06.985Z"
   },
   {
    "duration": 136,
    "start_time": "2021-07-26T15:30:07.004Z"
   },
   {
    "duration": 61,
    "start_time": "2021-07-26T15:30:07.143Z"
   },
   {
    "duration": 82,
    "start_time": "2021-07-26T15:30:07.206Z"
   },
   {
    "duration": 139,
    "start_time": "2021-07-26T15:30:07.290Z"
   },
   {
    "duration": 43,
    "start_time": "2021-07-26T15:30:07.431Z"
   },
   {
    "duration": 8,
    "start_time": "2021-07-26T15:30:07.478Z"
   },
   {
    "duration": 25,
    "start_time": "2021-07-26T15:30:07.488Z"
   },
   {
    "duration": 6,
    "start_time": "2021-07-26T15:30:07.516Z"
   },
   {
    "duration": 68,
    "start_time": "2021-07-26T15:30:07.524Z"
   },
   {
    "duration": 2,
    "start_time": "2021-07-26T15:30:07.595Z"
   },
   {
    "duration": 20,
    "start_time": "2021-07-26T15:30:07.600Z"
   },
   {
    "duration": 1270,
    "start_time": "2021-07-26T15:31:17.482Z"
   },
   {
    "duration": 44,
    "start_time": "2021-07-26T15:31:18.755Z"
   },
   {
    "duration": 39,
    "start_time": "2021-07-26T15:31:18.802Z"
   },
   {
    "duration": 42,
    "start_time": "2021-07-26T15:31:18.844Z"
   },
   {
    "duration": 32,
    "start_time": "2021-07-26T15:31:18.889Z"
   },
   {
    "duration": 65,
    "start_time": "2021-07-26T15:31:18.923Z"
   },
   {
    "duration": 27,
    "start_time": "2021-07-26T15:31:18.990Z"
   },
   {
    "duration": 20,
    "start_time": "2021-07-26T15:31:19.021Z"
   },
   {
    "duration": 16,
    "start_time": "2021-07-26T15:31:19.069Z"
   },
   {
    "duration": 22,
    "start_time": "2021-07-26T15:31:19.088Z"
   },
   {
    "duration": 55,
    "start_time": "2021-07-26T15:31:19.112Z"
   },
   {
    "duration": 10,
    "start_time": "2021-07-26T15:31:19.170Z"
   },
   {
    "duration": 127,
    "start_time": "2021-07-26T15:31:19.183Z"
   },
   {
    "duration": 62,
    "start_time": "2021-07-26T15:31:19.312Z"
   },
   {
    "duration": 74,
    "start_time": "2021-07-26T15:31:19.376Z"
   },
   {
    "duration": 142,
    "start_time": "2021-07-26T15:31:19.453Z"
   },
   {
    "duration": 31,
    "start_time": "2021-07-26T15:31:19.598Z"
   },
   {
    "duration": 9,
    "start_time": "2021-07-26T15:31:19.631Z"
   },
   {
    "duration": 34,
    "start_time": "2021-07-26T15:31:19.643Z"
   },
   {
    "duration": 6,
    "start_time": "2021-07-26T15:31:19.680Z"
   },
   {
    "duration": 45,
    "start_time": "2021-07-26T15:31:19.688Z"
   },
   {
    "duration": 31,
    "start_time": "2021-07-26T15:31:19.736Z"
   },
   {
    "duration": 19,
    "start_time": "2021-07-26T15:31:19.772Z"
   },
   {
    "duration": 39,
    "start_time": "2021-07-26T15:31:35.527Z"
   },
   {
    "duration": 1372,
    "start_time": "2021-07-26T15:32:24.848Z"
   },
   {
    "duration": 46,
    "start_time": "2021-07-26T15:32:26.223Z"
   },
   {
    "duration": 41,
    "start_time": "2021-07-26T15:32:26.273Z"
   },
   {
    "duration": 20,
    "start_time": "2021-07-26T15:32:26.317Z"
   },
   {
    "duration": 57,
    "start_time": "2021-07-26T15:32:26.340Z"
   },
   {
    "duration": 67,
    "start_time": "2021-07-26T15:32:26.401Z"
   },
   {
    "duration": 28,
    "start_time": "2021-07-26T15:32:26.472Z"
   },
   {
    "duration": 21,
    "start_time": "2021-07-26T15:32:26.503Z"
   },
   {
    "duration": 50,
    "start_time": "2021-07-26T15:32:26.528Z"
   },
   {
    "duration": 20,
    "start_time": "2021-07-26T15:32:26.580Z"
   },
   {
    "duration": 22,
    "start_time": "2021-07-26T15:32:26.603Z"
   },
   {
    "duration": 44,
    "start_time": "2021-07-26T15:32:26.627Z"
   },
   {
    "duration": 127,
    "start_time": "2021-07-26T15:32:26.673Z"
   },
   {
    "duration": 44,
    "start_time": "2021-07-26T15:32:26.802Z"
   },
   {
    "duration": 85,
    "start_time": "2021-07-26T15:32:26.849Z"
   },
   {
    "duration": 233,
    "start_time": "2021-07-26T15:32:26.936Z"
   },
   {
    "duration": 32,
    "start_time": "2021-07-26T15:32:27.171Z"
   },
   {
    "duration": 8,
    "start_time": "2021-07-26T15:32:27.206Z"
   },
   {
    "duration": 14,
    "start_time": "2021-07-26T15:32:27.217Z"
   },
   {
    "duration": 33,
    "start_time": "2021-07-26T15:32:27.234Z"
   },
   {
    "duration": 48,
    "start_time": "2021-07-26T15:32:27.270Z"
   },
   {
    "duration": 3,
    "start_time": "2021-07-26T15:32:27.320Z"
   },
   {
    "duration": 68,
    "start_time": "2021-07-26T15:32:27.326Z"
   },
   {
    "duration": 1367,
    "start_time": "2021-07-26T15:35:15.928Z"
   },
   {
    "duration": 46,
    "start_time": "2021-07-26T15:35:17.298Z"
   },
   {
    "duration": 38,
    "start_time": "2021-07-26T15:35:17.346Z"
   },
   {
    "duration": 14,
    "start_time": "2021-07-26T15:35:17.387Z"
   },
   {
    "duration": 32,
    "start_time": "2021-07-26T15:35:17.403Z"
   },
   {
    "duration": 36,
    "start_time": "2021-07-26T15:35:17.468Z"
   },
   {
    "duration": 27,
    "start_time": "2021-07-26T15:35:17.506Z"
   },
   {
    "duration": 43,
    "start_time": "2021-07-26T15:35:17.535Z"
   },
   {
    "duration": 17,
    "start_time": "2021-07-26T15:35:17.582Z"
   },
   {
    "duration": 21,
    "start_time": "2021-07-26T15:35:17.602Z"
   },
   {
    "duration": 56,
    "start_time": "2021-07-26T15:35:17.625Z"
   },
   {
    "duration": 9,
    "start_time": "2021-07-26T15:35:17.684Z"
   },
   {
    "duration": 135,
    "start_time": "2021-07-26T15:35:17.696Z"
   },
   {
    "duration": 63,
    "start_time": "2021-07-26T15:35:17.833Z"
   },
   {
    "duration": 80,
    "start_time": "2021-07-26T15:35:17.898Z"
   },
   {
    "duration": 135,
    "start_time": "2021-07-26T15:35:17.981Z"
   },
   {
    "duration": 32,
    "start_time": "2021-07-26T15:35:18.118Z"
   },
   {
    "duration": 21,
    "start_time": "2021-07-26T15:35:18.152Z"
   },
   {
    "duration": 19,
    "start_time": "2021-07-26T15:35:18.175Z"
   },
   {
    "duration": 6,
    "start_time": "2021-07-26T15:35:18.197Z"
   },
   {
    "duration": 71,
    "start_time": "2021-07-26T15:35:18.205Z"
   },
   {
    "duration": 3,
    "start_time": "2021-07-26T15:35:18.278Z"
   },
   {
    "duration": 36,
    "start_time": "2021-07-26T15:35:18.283Z"
   },
   {
    "duration": 1288,
    "start_time": "2021-07-26T15:37:32.684Z"
   },
   {
    "duration": 47,
    "start_time": "2021-07-26T15:37:33.974Z"
   },
   {
    "duration": 62,
    "start_time": "2021-07-26T15:37:34.024Z"
   },
   {
    "duration": 19,
    "start_time": "2021-07-26T15:37:34.089Z"
   },
   {
    "duration": 60,
    "start_time": "2021-07-26T15:37:34.110Z"
   },
   {
    "duration": 37,
    "start_time": "2021-07-26T15:37:34.172Z"
   },
   {
    "duration": 56,
    "start_time": "2021-07-26T15:37:34.212Z"
   },
   {
    "duration": 17,
    "start_time": "2021-07-26T15:37:34.271Z"
   },
   {
    "duration": 16,
    "start_time": "2021-07-26T15:37:34.292Z"
   },
   {
    "duration": 62,
    "start_time": "2021-07-26T15:37:34.311Z"
   },
   {
    "duration": 32,
    "start_time": "2021-07-26T15:37:34.377Z"
   },
   {
    "duration": 14,
    "start_time": "2021-07-26T15:37:34.412Z"
   },
   {
    "duration": 216,
    "start_time": "2021-07-26T15:37:34.429Z"
   },
   {
    "duration": 64,
    "start_time": "2021-07-26T15:37:34.649Z"
   },
   {
    "duration": 105,
    "start_time": "2021-07-26T15:37:34.716Z"
   },
   {
    "duration": 137,
    "start_time": "2021-07-26T15:37:34.824Z"
   },
   {
    "duration": 34,
    "start_time": "2021-07-26T15:37:34.964Z"
   },
   {
    "duration": 9,
    "start_time": "2021-07-26T15:37:35.001Z"
   },
   {
    "duration": 14,
    "start_time": "2021-07-26T15:37:35.012Z"
   },
   {
    "duration": 6,
    "start_time": "2021-07-26T15:37:35.028Z"
   },
   {
    "duration": 49,
    "start_time": "2021-07-26T15:37:35.068Z"
   },
   {
    "duration": 7519,
    "start_time": "2021-07-26T15:37:35.119Z"
   },
   {
    "duration": -697,
    "start_time": "2021-07-26T15:37:43.338Z"
   },
   {
    "duration": 297,
    "start_time": "2021-07-26T15:38:04.109Z"
   },
   {
    "duration": 1276,
    "start_time": "2021-07-26T15:40:46.799Z"
   },
   {
    "duration": 45,
    "start_time": "2021-07-26T15:40:48.077Z"
   },
   {
    "duration": 59,
    "start_time": "2021-07-26T15:40:48.124Z"
   },
   {
    "duration": 18,
    "start_time": "2021-07-26T15:40:48.186Z"
   },
   {
    "duration": 32,
    "start_time": "2021-07-26T15:40:48.206Z"
   },
   {
    "duration": 38,
    "start_time": "2021-07-26T15:40:48.267Z"
   },
   {
    "duration": 27,
    "start_time": "2021-07-26T15:40:48.308Z"
   },
   {
    "duration": 21,
    "start_time": "2021-07-26T15:40:48.366Z"
   },
   {
    "duration": 17,
    "start_time": "2021-07-26T15:40:48.393Z"
   },
   {
    "duration": 61,
    "start_time": "2021-07-26T15:40:48.414Z"
   },
   {
    "duration": 23,
    "start_time": "2021-07-26T15:40:48.477Z"
   },
   {
    "duration": 13,
    "start_time": "2021-07-26T15:40:48.503Z"
   },
   {
    "duration": 155,
    "start_time": "2021-07-26T15:40:48.518Z"
   },
   {
    "duration": 46,
    "start_time": "2021-07-26T15:40:48.676Z"
   },
   {
    "duration": 101,
    "start_time": "2021-07-26T15:40:48.724Z"
   },
   {
    "duration": 124,
    "start_time": "2021-07-26T15:40:48.827Z"
   },
   {
    "duration": 36,
    "start_time": "2021-07-26T15:40:48.953Z"
   },
   {
    "duration": 7,
    "start_time": "2021-07-26T15:40:48.992Z"
   },
   {
    "duration": 19,
    "start_time": "2021-07-26T15:40:49.002Z"
   },
   {
    "duration": 6,
    "start_time": "2021-07-26T15:40:49.023Z"
   },
   {
    "duration": 77,
    "start_time": "2021-07-26T15:40:49.031Z"
   },
   {
    "duration": 400,
    "start_time": "2021-07-26T15:40:49.110Z"
   },
   {
    "duration": -1172,
    "start_time": "2021-07-26T15:40:50.684Z"
   },
   {
    "duration": 75,
    "start_time": "2021-07-26T15:41:29.103Z"
   },
   {
    "duration": 1309,
    "start_time": "2021-07-26T15:41:40.667Z"
   },
   {
    "duration": 46,
    "start_time": "2021-07-26T15:41:41.979Z"
   },
   {
    "duration": 54,
    "start_time": "2021-07-26T15:41:42.028Z"
   },
   {
    "duration": 17,
    "start_time": "2021-07-26T15:41:42.084Z"
   },
   {
    "duration": 31,
    "start_time": "2021-07-26T15:41:42.104Z"
   },
   {
    "duration": 69,
    "start_time": "2021-07-26T15:41:42.137Z"
   },
   {
    "duration": 26,
    "start_time": "2021-07-26T15:41:42.209Z"
   },
   {
    "duration": 48,
    "start_time": "2021-07-26T15:41:42.237Z"
   },
   {
    "duration": 17,
    "start_time": "2021-07-26T15:41:42.288Z"
   },
   {
    "duration": 22,
    "start_time": "2021-07-26T15:41:42.308Z"
   },
   {
    "duration": 23,
    "start_time": "2021-07-26T15:41:42.367Z"
   },
   {
    "duration": 13,
    "start_time": "2021-07-26T15:41:42.392Z"
   },
   {
    "duration": 139,
    "start_time": "2021-07-26T15:41:42.408Z"
   },
   {
    "duration": 61,
    "start_time": "2021-07-26T15:41:42.550Z"
   },
   {
    "duration": 91,
    "start_time": "2021-07-26T15:41:42.613Z"
   },
   {
    "duration": 143,
    "start_time": "2021-07-26T15:41:42.707Z"
   },
   {
    "duration": 36,
    "start_time": "2021-07-26T15:41:42.853Z"
   },
   {
    "duration": 8,
    "start_time": "2021-07-26T15:41:42.891Z"
   },
   {
    "duration": 19,
    "start_time": "2021-07-26T15:41:42.902Z"
   },
   {
    "duration": 6,
    "start_time": "2021-07-26T15:41:42.923Z"
   },
   {
    "duration": 79,
    "start_time": "2021-07-26T15:41:42.932Z"
   },
   {
    "duration": 90,
    "start_time": "2021-07-26T15:41:43.014Z"
   },
   {
    "duration": 32,
    "start_time": "2021-07-26T15:41:43.106Z"
   },
   {
    "duration": 22,
    "start_time": "2021-07-26T15:43:22.406Z"
   },
   {
    "duration": 1294,
    "start_time": "2021-07-26T15:47:19.566Z"
   },
   {
    "duration": 43,
    "start_time": "2021-07-26T15:47:20.862Z"
   },
   {
    "duration": 38,
    "start_time": "2021-07-26T15:47:20.908Z"
   },
   {
    "duration": 26,
    "start_time": "2021-07-26T15:47:20.948Z"
   },
   {
    "duration": 34,
    "start_time": "2021-07-26T15:47:20.977Z"
   },
   {
    "duration": 74,
    "start_time": "2021-07-26T15:47:21.013Z"
   },
   {
    "duration": 25,
    "start_time": "2021-07-26T15:47:21.089Z"
   },
   {
    "duration": 50,
    "start_time": "2021-07-26T15:47:21.117Z"
   },
   {
    "duration": 17,
    "start_time": "2021-07-26T15:47:21.172Z"
   },
   {
    "duration": 24,
    "start_time": "2021-07-26T15:47:21.191Z"
   },
   {
    "duration": 59,
    "start_time": "2021-07-26T15:47:21.218Z"
   },
   {
    "duration": 11,
    "start_time": "2021-07-26T15:47:21.280Z"
   },
   {
    "duration": 134,
    "start_time": "2021-07-26T15:47:21.294Z"
   },
   {
    "duration": 66,
    "start_time": "2021-07-26T15:47:21.431Z"
   },
   {
    "duration": 80,
    "start_time": "2021-07-26T15:47:21.499Z"
   },
   {
    "duration": 138,
    "start_time": "2021-07-26T15:47:21.582Z"
   },
   {
    "duration": 31,
    "start_time": "2021-07-26T15:47:21.723Z"
   },
   {
    "duration": 10,
    "start_time": "2021-07-26T15:47:21.767Z"
   },
   {
    "duration": 15,
    "start_time": "2021-07-26T15:47:21.779Z"
   },
   {
    "duration": 9,
    "start_time": "2021-07-26T15:47:21.796Z"
   },
   {
    "duration": 85,
    "start_time": "2021-07-26T15:47:21.808Z"
   },
   {
    "duration": 3,
    "start_time": "2021-07-26T15:47:21.896Z"
   },
   {
    "duration": 489,
    "start_time": "2021-07-26T15:47:21.902Z"
   },
   {
    "duration": 34,
    "start_time": "2021-07-26T15:48:03.678Z"
   },
   {
    "duration": 44,
    "start_time": "2021-07-26T15:48:35.338Z"
   },
   {
    "duration": 27,
    "start_time": "2021-07-26T15:48:58.138Z"
   },
   {
    "duration": 43,
    "start_time": "2021-07-26T15:49:35.913Z"
   },
   {
    "duration": 43,
    "start_time": "2021-07-26T15:49:46.433Z"
   },
   {
    "duration": 41,
    "start_time": "2021-07-26T15:50:15.423Z"
   },
   {
    "duration": 45,
    "start_time": "2021-07-26T15:50:30.823Z"
   },
   {
    "duration": 329,
    "start_time": "2021-07-26T15:51:06.383Z"
   },
   {
    "duration": 23,
    "start_time": "2021-07-26T15:55:12.468Z"
   },
   {
    "duration": 24,
    "start_time": "2021-07-26T15:55:30.587Z"
   },
   {
    "duration": 296,
    "start_time": "2021-07-26T15:56:06.308Z"
   },
   {
    "duration": 2220,
    "start_time": "2021-07-26T16:00:22.143Z"
   },
   {
    "duration": 49,
    "start_time": "2021-07-26T16:00:24.365Z"
   },
   {
    "duration": 71,
    "start_time": "2021-07-26T16:00:24.418Z"
   },
   {
    "duration": 23,
    "start_time": "2021-07-26T16:00:24.493Z"
   },
   {
    "duration": 54,
    "start_time": "2021-07-26T16:00:24.519Z"
   },
   {
    "duration": 39,
    "start_time": "2021-07-26T16:00:24.575Z"
   },
   {
    "duration": 61,
    "start_time": "2021-07-26T16:00:24.617Z"
   },
   {
    "duration": 20,
    "start_time": "2021-07-26T16:00:24.683Z"
   },
   {
    "duration": 16,
    "start_time": "2021-07-26T16:00:24.706Z"
   },
   {
    "duration": 53,
    "start_time": "2021-07-26T16:00:24.725Z"
   },
   {
    "duration": 22,
    "start_time": "2021-07-26T16:00:24.781Z"
   },
   {
    "duration": 12,
    "start_time": "2021-07-26T16:00:24.805Z"
   },
   {
    "duration": 149,
    "start_time": "2021-07-26T16:00:24.819Z"
   },
   {
    "duration": 44,
    "start_time": "2021-07-26T16:00:24.970Z"
   },
   {
    "duration": 92,
    "start_time": "2021-07-26T16:00:25.016Z"
   },
   {
    "duration": 125,
    "start_time": "2021-07-26T16:00:25.110Z"
   },
   {
    "duration": 43,
    "start_time": "2021-07-26T16:00:25.237Z"
   },
   {
    "duration": 8,
    "start_time": "2021-07-26T16:00:25.283Z"
   },
   {
    "duration": 31,
    "start_time": "2021-07-26T16:00:25.294Z"
   },
   {
    "duration": 8,
    "start_time": "2021-07-26T16:00:25.328Z"
   },
   {
    "duration": 87,
    "start_time": "2021-07-26T16:00:25.339Z"
   },
   {
    "duration": 3,
    "start_time": "2021-07-26T16:00:25.428Z"
   },
   {
    "duration": 513,
    "start_time": "2021-07-26T16:00:25.436Z"
   },
   {
    "duration": 323,
    "start_time": "2021-07-26T16:00:42.778Z"
   },
   {
    "duration": 1319,
    "start_time": "2021-07-26T16:00:51.969Z"
   },
   {
    "duration": 46,
    "start_time": "2021-07-26T16:00:53.291Z"
   },
   {
    "duration": 55,
    "start_time": "2021-07-26T16:00:53.341Z"
   },
   {
    "duration": 22,
    "start_time": "2021-07-26T16:00:53.399Z"
   },
   {
    "duration": 68,
    "start_time": "2021-07-26T16:00:53.423Z"
   },
   {
    "duration": 52,
    "start_time": "2021-07-26T16:00:53.493Z"
   },
   {
    "duration": 42,
    "start_time": "2021-07-26T16:00:53.547Z"
   },
   {
    "duration": 22,
    "start_time": "2021-07-26T16:00:53.593Z"
   },
   {
    "duration": 54,
    "start_time": "2021-07-26T16:00:53.619Z"
   },
   {
    "duration": 25,
    "start_time": "2021-07-26T16:00:53.675Z"
   },
   {
    "duration": 23,
    "start_time": "2021-07-26T16:00:53.702Z"
   },
   {
    "duration": 44,
    "start_time": "2021-07-26T16:00:53.728Z"
   },
   {
    "duration": 130,
    "start_time": "2021-07-26T16:00:53.774Z"
   },
   {
    "duration": 44,
    "start_time": "2021-07-26T16:00:53.906Z"
   },
   {
    "duration": 85,
    "start_time": "2021-07-26T16:00:53.952Z"
   },
   {
    "duration": 136,
    "start_time": "2021-07-26T16:00:54.039Z"
   },
   {
    "duration": 31,
    "start_time": "2021-07-26T16:00:54.177Z"
   },
   {
    "duration": 7,
    "start_time": "2021-07-26T16:00:54.211Z"
   },
   {
    "duration": 21,
    "start_time": "2021-07-26T16:00:54.220Z"
   },
   {
    "duration": 27,
    "start_time": "2021-07-26T16:00:54.244Z"
   },
   {
    "duration": 52,
    "start_time": "2021-07-26T16:00:54.274Z"
   },
   {
    "duration": 3,
    "start_time": "2021-07-26T16:00:54.328Z"
   },
   {
    "duration": 430,
    "start_time": "2021-07-26T16:00:54.337Z"
   },
   {
    "duration": 362,
    "start_time": "2021-07-26T16:01:24.489Z"
   },
   {
    "duration": 1266,
    "start_time": "2021-07-26T16:01:31.796Z"
   },
   {
    "duration": 47,
    "start_time": "2021-07-26T16:01:33.064Z"
   },
   {
    "duration": 57,
    "start_time": "2021-07-26T16:01:33.114Z"
   },
   {
    "duration": 22,
    "start_time": "2021-07-26T16:01:33.173Z"
   },
   {
    "duration": 30,
    "start_time": "2021-07-26T16:01:33.197Z"
   },
   {
    "duration": 62,
    "start_time": "2021-07-26T16:01:33.229Z"
   },
   {
    "duration": 25,
    "start_time": "2021-07-26T16:01:33.294Z"
   },
   {
    "duration": 46,
    "start_time": "2021-07-26T16:01:33.321Z"
   },
   {
    "duration": 16,
    "start_time": "2021-07-26T16:01:33.371Z"
   },
   {
    "duration": 20,
    "start_time": "2021-07-26T16:01:33.390Z"
   },
   {
    "duration": 57,
    "start_time": "2021-07-26T16:01:33.412Z"
   },
   {
    "duration": 17,
    "start_time": "2021-07-26T16:01:33.471Z"
   },
   {
    "duration": 124,
    "start_time": "2021-07-26T16:01:33.491Z"
   },
   {
    "duration": 51,
    "start_time": "2021-07-26T16:01:33.617Z"
   },
   {
    "duration": 72,
    "start_time": "2021-07-26T16:01:33.671Z"
   },
   {
    "duration": 135,
    "start_time": "2021-07-26T16:01:33.745Z"
   },
   {
    "duration": 32,
    "start_time": "2021-07-26T16:01:33.882Z"
   },
   {
    "duration": 8,
    "start_time": "2021-07-26T16:01:33.917Z"
   },
   {
    "duration": 46,
    "start_time": "2021-07-26T16:01:33.928Z"
   },
   {
    "duration": 7,
    "start_time": "2021-07-26T16:01:33.976Z"
   },
   {
    "duration": 49,
    "start_time": "2021-07-26T16:01:33.985Z"
   },
   {
    "duration": 3,
    "start_time": "2021-07-26T16:01:34.037Z"
   },
   {
    "duration": 448,
    "start_time": "2021-07-26T16:01:34.042Z"
   },
   {
    "duration": 1253,
    "start_time": "2021-07-26T16:02:18.715Z"
   },
   {
    "duration": 44,
    "start_time": "2021-07-26T16:02:19.971Z"
   },
   {
    "duration": 64,
    "start_time": "2021-07-26T16:02:20.018Z"
   },
   {
    "duration": 15,
    "start_time": "2021-07-26T16:02:20.085Z"
   },
   {
    "duration": 32,
    "start_time": "2021-07-26T16:02:20.102Z"
   },
   {
    "duration": 63,
    "start_time": "2021-07-26T16:02:20.136Z"
   },
   {
    "duration": 26,
    "start_time": "2021-07-26T16:02:20.201Z"
   },
   {
    "duration": 50,
    "start_time": "2021-07-26T16:02:20.229Z"
   },
   {
    "duration": 20,
    "start_time": "2021-07-26T16:02:20.282Z"
   },
   {
    "duration": 31,
    "start_time": "2021-07-26T16:02:20.304Z"
   },
   {
    "duration": 43,
    "start_time": "2021-07-26T16:02:20.337Z"
   },
   {
    "duration": 20,
    "start_time": "2021-07-26T16:02:20.383Z"
   },
   {
    "duration": 126,
    "start_time": "2021-07-26T16:02:20.406Z"
   },
   {
    "duration": 65,
    "start_time": "2021-07-26T16:02:20.535Z"
   },
   {
    "duration": 81,
    "start_time": "2021-07-26T16:02:20.603Z"
   },
   {
    "duration": 141,
    "start_time": "2021-07-26T16:02:20.686Z"
   },
   {
    "duration": 48,
    "start_time": "2021-07-26T16:02:20.829Z"
   },
   {
    "duration": 8,
    "start_time": "2021-07-26T16:02:20.880Z"
   },
   {
    "duration": 29,
    "start_time": "2021-07-26T16:02:20.890Z"
   },
   {
    "duration": 6,
    "start_time": "2021-07-26T16:02:20.921Z"
   },
   {
    "duration": 63,
    "start_time": "2021-07-26T16:02:20.929Z"
   },
   {
    "duration": 3,
    "start_time": "2021-07-26T16:02:20.995Z"
   },
   {
    "duration": 48,
    "start_time": "2021-07-26T16:02:21.000Z"
   },
   {
    "duration": 97,
    "start_time": "2021-07-26T16:03:34.468Z"
   },
   {
    "duration": 407,
    "start_time": "2021-07-26T16:03:43.238Z"
   },
   {
    "duration": 324,
    "start_time": "2021-07-26T16:04:27.999Z"
   },
   {
    "duration": 350,
    "start_time": "2021-07-26T16:06:11.553Z"
   },
   {
    "duration": 338,
    "start_time": "2021-07-26T16:06:41.853Z"
   },
   {
    "duration": 60,
    "start_time": "2021-07-26T16:07:02.114Z"
   },
   {
    "duration": 327,
    "start_time": "2021-07-26T16:09:08.918Z"
   },
   {
    "duration": 310,
    "start_time": "2021-07-26T16:09:15.059Z"
   },
   {
    "duration": 60,
    "start_time": "2021-07-26T16:09:25.488Z"
   },
   {
    "duration": 1360,
    "start_time": "2021-07-26T16:09:44.165Z"
   },
   {
    "duration": 46,
    "start_time": "2021-07-26T16:09:45.528Z"
   },
   {
    "duration": 41,
    "start_time": "2021-07-26T16:09:45.579Z"
   },
   {
    "duration": 18,
    "start_time": "2021-07-26T16:09:45.623Z"
   },
   {
    "duration": 32,
    "start_time": "2021-07-26T16:09:45.668Z"
   },
   {
    "duration": 66,
    "start_time": "2021-07-26T16:09:45.702Z"
   },
   {
    "duration": 28,
    "start_time": "2021-07-26T16:09:45.771Z"
   },
   {
    "duration": 21,
    "start_time": "2021-07-26T16:09:45.802Z"
   },
   {
    "duration": 56,
    "start_time": "2021-07-26T16:09:45.828Z"
   },
   {
    "duration": 19,
    "start_time": "2021-07-26T16:09:45.887Z"
   },
   {
    "duration": 21,
    "start_time": "2021-07-26T16:09:45.908Z"
   },
   {
    "duration": 44,
    "start_time": "2021-07-26T16:09:45.931Z"
   },
   {
    "duration": 127,
    "start_time": "2021-07-26T16:09:45.977Z"
   },
   {
    "duration": 43,
    "start_time": "2021-07-26T16:09:46.106Z"
   },
   {
    "duration": 85,
    "start_time": "2021-07-26T16:09:46.151Z"
   },
   {
    "duration": 135,
    "start_time": "2021-07-26T16:09:46.238Z"
   },
   {
    "duration": 33,
    "start_time": "2021-07-26T16:09:46.375Z"
   },
   {
    "duration": 8,
    "start_time": "2021-07-26T16:09:46.411Z"
   },
   {
    "duration": 20,
    "start_time": "2021-07-26T16:09:46.421Z"
   },
   {
    "duration": 27,
    "start_time": "2021-07-26T16:09:46.444Z"
   },
   {
    "duration": 45,
    "start_time": "2021-07-26T16:09:46.474Z"
   },
   {
    "duration": 3,
    "start_time": "2021-07-26T16:09:46.522Z"
   },
   {
    "duration": 65,
    "start_time": "2021-07-26T16:09:46.527Z"
   },
   {
    "duration": 1302,
    "start_time": "2021-07-26T16:10:53.635Z"
   },
   {
    "duration": 45,
    "start_time": "2021-07-26T16:10:54.939Z"
   },
   {
    "duration": 37,
    "start_time": "2021-07-26T16:10:54.987Z"
   },
   {
    "duration": 14,
    "start_time": "2021-07-26T16:10:55.027Z"
   },
   {
    "duration": 57,
    "start_time": "2021-07-26T16:10:55.043Z"
   },
   {
    "duration": 65,
    "start_time": "2021-07-26T16:10:55.102Z"
   },
   {
    "duration": 26,
    "start_time": "2021-07-26T16:10:55.169Z"
   },
   {
    "duration": 20,
    "start_time": "2021-07-26T16:10:55.197Z"
   },
   {
    "duration": 51,
    "start_time": "2021-07-26T16:10:55.223Z"
   },
   {
    "duration": 24,
    "start_time": "2021-07-26T16:10:55.276Z"
   },
   {
    "duration": 25,
    "start_time": "2021-07-26T16:10:55.303Z"
   },
   {
    "duration": 9,
    "start_time": "2021-07-26T16:10:55.330Z"
   },
   {
    "duration": 120,
    "start_time": "2021-07-26T16:10:55.368Z"
   },
   {
    "duration": 50,
    "start_time": "2021-07-26T16:10:55.491Z"
   },
   {
    "duration": 84,
    "start_time": "2021-07-26T16:10:55.543Z"
   },
   {
    "duration": 147,
    "start_time": "2021-07-26T16:10:55.629Z"
   },
   {
    "duration": 32,
    "start_time": "2021-07-26T16:10:55.778Z"
   },
   {
    "duration": 8,
    "start_time": "2021-07-26T16:10:55.812Z"
   },
   {
    "duration": 14,
    "start_time": "2021-07-26T16:10:55.823Z"
   },
   {
    "duration": 31,
    "start_time": "2021-07-26T16:10:55.839Z"
   },
   {
    "duration": 50,
    "start_time": "2021-07-26T16:10:55.873Z"
   },
   {
    "duration": 3,
    "start_time": "2021-07-26T16:10:55.925Z"
   },
   {
    "duration": 58,
    "start_time": "2021-07-26T16:10:55.930Z"
   },
   {
    "duration": 1285,
    "start_time": "2021-07-26T16:11:24.497Z"
   },
   {
    "duration": 47,
    "start_time": "2021-07-26T16:11:25.785Z"
   },
   {
    "duration": 50,
    "start_time": "2021-07-26T16:11:25.835Z"
   },
   {
    "duration": 17,
    "start_time": "2021-07-26T16:11:25.888Z"
   },
   {
    "duration": 58,
    "start_time": "2021-07-26T16:11:25.908Z"
   },
   {
    "duration": 40,
    "start_time": "2021-07-26T16:11:25.969Z"
   },
   {
    "duration": 27,
    "start_time": "2021-07-26T16:11:26.011Z"
   },
   {
    "duration": 19,
    "start_time": "2021-07-26T16:11:26.067Z"
   },
   {
    "duration": 17,
    "start_time": "2021-07-26T16:11:26.090Z"
   },
   {
    "duration": 19,
    "start_time": "2021-07-26T16:11:26.110Z"
   },
   {
    "duration": 21,
    "start_time": "2021-07-26T16:11:26.167Z"
   },
   {
    "duration": 13,
    "start_time": "2021-07-26T16:11:26.191Z"
   },
   {
    "duration": 142,
    "start_time": "2021-07-26T16:11:26.207Z"
   },
   {
    "duration": 52,
    "start_time": "2021-07-26T16:11:26.351Z"
   },
   {
    "duration": 80,
    "start_time": "2021-07-26T16:11:26.406Z"
   },
   {
    "duration": 124,
    "start_time": "2021-07-26T16:11:26.489Z"
   },
   {
    "duration": 32,
    "start_time": "2021-07-26T16:11:26.615Z"
   },
   {
    "duration": 19,
    "start_time": "2021-07-26T16:11:26.649Z"
   },
   {
    "duration": 15,
    "start_time": "2021-07-26T16:11:26.671Z"
   },
   {
    "duration": 6,
    "start_time": "2021-07-26T16:11:26.688Z"
   },
   {
    "duration": 73,
    "start_time": "2021-07-26T16:11:26.697Z"
   },
   {
    "duration": 3,
    "start_time": "2021-07-26T16:11:26.773Z"
   },
   {
    "duration": 40,
    "start_time": "2021-07-26T16:11:26.778Z"
   },
   {
    "duration": 1456,
    "start_time": "2021-07-26T16:12:15.808Z"
   },
   {
    "duration": 46,
    "start_time": "2021-07-26T16:12:17.266Z"
   },
   {
    "duration": 59,
    "start_time": "2021-07-26T16:12:17.314Z"
   },
   {
    "duration": 15,
    "start_time": "2021-07-26T16:12:17.375Z"
   },
   {
    "duration": 35,
    "start_time": "2021-07-26T16:12:17.392Z"
   },
   {
    "duration": 70,
    "start_time": "2021-07-26T16:12:17.430Z"
   },
   {
    "duration": 27,
    "start_time": "2021-07-26T16:12:17.503Z"
   },
   {
    "duration": 20,
    "start_time": "2021-07-26T16:12:17.566Z"
   },
   {
    "duration": 19,
    "start_time": "2021-07-26T16:12:17.589Z"
   },
   {
    "duration": 23,
    "start_time": "2021-07-26T16:12:17.610Z"
   },
   {
    "duration": 21,
    "start_time": "2021-07-26T16:12:17.668Z"
   },
   {
    "duration": 9,
    "start_time": "2021-07-26T16:12:17.692Z"
   },
   {
    "duration": 138,
    "start_time": "2021-07-26T16:12:17.704Z"
   },
   {
    "duration": 60,
    "start_time": "2021-07-26T16:12:17.844Z"
   },
   {
    "duration": 86,
    "start_time": "2021-07-26T16:12:17.906Z"
   },
   {
    "duration": 140,
    "start_time": "2021-07-26T16:12:17.995Z"
   },
   {
    "duration": 40,
    "start_time": "2021-07-26T16:12:18.138Z"
   },
   {
    "duration": 8,
    "start_time": "2021-07-26T16:12:18.181Z"
   },
   {
    "duration": 18,
    "start_time": "2021-07-26T16:12:18.192Z"
   },
   {
    "duration": 6,
    "start_time": "2021-07-26T16:12:18.213Z"
   },
   {
    "duration": 74,
    "start_time": "2021-07-26T16:12:18.221Z"
   },
   {
    "duration": 3,
    "start_time": "2021-07-26T16:12:18.298Z"
   },
   {
    "duration": 41,
    "start_time": "2021-07-26T16:12:18.305Z"
   },
   {
    "duration": 1296,
    "start_time": "2021-07-26T16:12:53.785Z"
   },
   {
    "duration": 49,
    "start_time": "2021-07-26T16:12:55.084Z"
   },
   {
    "duration": 53,
    "start_time": "2021-07-26T16:12:55.137Z"
   },
   {
    "duration": 15,
    "start_time": "2021-07-26T16:12:55.192Z"
   },
   {
    "duration": 58,
    "start_time": "2021-07-26T16:12:55.209Z"
   },
   {
    "duration": 40,
    "start_time": "2021-07-26T16:12:55.270Z"
   },
   {
    "duration": 59,
    "start_time": "2021-07-26T16:12:55.313Z"
   },
   {
    "duration": 21,
    "start_time": "2021-07-26T16:12:55.378Z"
   },
   {
    "duration": 16,
    "start_time": "2021-07-26T16:12:55.403Z"
   },
   {
    "duration": 58,
    "start_time": "2021-07-26T16:12:55.422Z"
   },
   {
    "duration": 22,
    "start_time": "2021-07-26T16:12:55.482Z"
   },
   {
    "duration": 14,
    "start_time": "2021-07-26T16:12:55.507Z"
   },
   {
    "duration": 143,
    "start_time": "2021-07-26T16:12:55.524Z"
   },
   {
    "duration": 53,
    "start_time": "2021-07-26T16:12:55.669Z"
   },
   {
    "duration": 95,
    "start_time": "2021-07-26T16:12:55.724Z"
   },
   {
    "duration": 137,
    "start_time": "2021-07-26T16:12:55.821Z"
   },
   {
    "duration": 32,
    "start_time": "2021-07-26T16:12:55.960Z"
   },
   {
    "duration": 8,
    "start_time": "2021-07-26T16:12:55.995Z"
   },
   {
    "duration": 22,
    "start_time": "2021-07-26T16:12:56.006Z"
   },
   {
    "duration": 6,
    "start_time": "2021-07-26T16:12:56.031Z"
   },
   {
    "duration": 44,
    "start_time": "2021-07-26T16:12:56.067Z"
   },
   {
    "duration": 3,
    "start_time": "2021-07-26T16:12:56.113Z"
   },
   {
    "duration": 58,
    "start_time": "2021-07-26T16:12:56.120Z"
   },
   {
    "duration": 22,
    "start_time": "2021-07-26T16:13:34.879Z"
   },
   {
    "duration": 34,
    "start_time": "2021-07-26T16:13:46.329Z"
   },
   {
    "duration": 34,
    "start_time": "2021-07-26T16:15:54.175Z"
   },
   {
    "duration": 40,
    "start_time": "2021-07-26T16:17:50.720Z"
   },
   {
    "duration": 1414,
    "start_time": "2021-07-26T16:36:32.310Z"
   },
   {
    "duration": 49,
    "start_time": "2021-07-26T16:36:33.727Z"
   },
   {
    "duration": 49,
    "start_time": "2021-07-26T16:36:33.780Z"
   },
   {
    "duration": 43,
    "start_time": "2021-07-26T16:36:33.831Z"
   },
   {
    "duration": 42,
    "start_time": "2021-07-26T16:36:33.877Z"
   },
   {
    "duration": 64,
    "start_time": "2021-07-26T16:36:33.921Z"
   },
   {
    "duration": 28,
    "start_time": "2021-07-26T16:36:33.988Z"
   },
   {
    "duration": 19,
    "start_time": "2021-07-26T16:36:34.019Z"
   },
   {
    "duration": 23,
    "start_time": "2021-07-26T16:36:34.068Z"
   },
   {
    "duration": 24,
    "start_time": "2021-07-26T16:36:34.095Z"
   },
   {
    "duration": 51,
    "start_time": "2021-07-26T16:36:34.122Z"
   },
   {
    "duration": 14,
    "start_time": "2021-07-26T16:36:34.175Z"
   },
   {
    "duration": 139,
    "start_time": "2021-07-26T16:36:34.192Z"
   },
   {
    "duration": 63,
    "start_time": "2021-07-26T16:36:34.333Z"
   },
   {
    "duration": 82,
    "start_time": "2021-07-26T16:36:34.399Z"
   },
   {
    "duration": 134,
    "start_time": "2021-07-26T16:36:34.484Z"
   },
   {
    "duration": 47,
    "start_time": "2021-07-26T16:36:34.620Z"
   },
   {
    "duration": 9,
    "start_time": "2021-07-26T16:36:34.670Z"
   },
   {
    "duration": 19,
    "start_time": "2021-07-26T16:36:34.681Z"
   },
   {
    "duration": 7,
    "start_time": "2021-07-26T16:36:34.703Z"
   },
   {
    "duration": 78,
    "start_time": "2021-07-26T16:36:34.712Z"
   },
   {
    "duration": 3,
    "start_time": "2021-07-26T16:36:34.792Z"
   },
   {
    "duration": 39,
    "start_time": "2021-07-26T16:36:34.797Z"
   },
   {
    "duration": 28,
    "start_time": "2021-07-26T16:36:34.839Z"
   },
   {
    "duration": 42,
    "start_time": "2021-07-26T16:36:52.574Z"
   },
   {
    "duration": 20,
    "start_time": "2021-07-26T16:38:19.094Z"
   },
   {
    "duration": 48,
    "start_time": "2021-07-26T16:38:28.473Z"
   },
   {
    "duration": 1453,
    "start_time": "2021-07-27T15:28:48.472Z"
   },
   {
    "duration": 48,
    "start_time": "2021-07-27T15:28:49.927Z"
   },
   {
    "duration": 42,
    "start_time": "2021-07-27T15:28:49.978Z"
   },
   {
    "duration": 16,
    "start_time": "2021-07-27T15:28:50.023Z"
   },
   {
    "duration": 58,
    "start_time": "2021-07-27T15:28:50.042Z"
   },
   {
    "duration": 39,
    "start_time": "2021-07-27T15:28:50.103Z"
   },
   {
    "duration": 54,
    "start_time": "2021-07-27T15:28:50.144Z"
   },
   {
    "duration": 23,
    "start_time": "2021-07-27T15:28:50.202Z"
   },
   {
    "duration": 17,
    "start_time": "2021-07-27T15:28:50.229Z"
   },
   {
    "duration": 23,
    "start_time": "2021-07-27T15:28:50.287Z"
   },
   {
    "duration": 23,
    "start_time": "2021-07-27T15:28:50.313Z"
   },
   {
    "duration": 9,
    "start_time": "2021-07-27T15:28:50.338Z"
   },
   {
    "duration": 156,
    "start_time": "2021-07-27T15:28:50.350Z"
   },
   {
    "duration": 39,
    "start_time": "2021-07-27T15:28:50.510Z"
   },
   {
    "duration": 91,
    "start_time": "2021-07-27T15:28:50.552Z"
   },
   {
    "duration": 121,
    "start_time": "2021-07-27T15:28:50.646Z"
   },
   {
    "duration": 44,
    "start_time": "2021-07-27T15:28:50.769Z"
   },
   {
    "duration": 8,
    "start_time": "2021-07-27T15:28:50.815Z"
   },
   {
    "duration": 16,
    "start_time": "2021-07-27T15:28:50.825Z"
   },
   {
    "duration": 6,
    "start_time": "2021-07-27T15:28:50.843Z"
   },
   {
    "duration": 76,
    "start_time": "2021-07-27T15:28:50.851Z"
   },
   {
    "duration": 3,
    "start_time": "2021-07-27T15:28:50.930Z"
   },
   {
    "duration": 50,
    "start_time": "2021-07-27T15:28:50.937Z"
   },
   {
    "duration": 46,
    "start_time": "2021-07-27T15:28:50.991Z"
   },
   {
    "duration": 75,
    "start_time": "2021-07-27T15:28:51.039Z"
   },
   {
    "duration": 1364,
    "start_time": "2021-07-27T15:56:24.344Z"
   },
   {
    "duration": 45,
    "start_time": "2021-07-27T15:56:25.711Z"
   },
   {
    "duration": 44,
    "start_time": "2021-07-27T15:56:25.759Z"
   },
   {
    "duration": 18,
    "start_time": "2021-07-27T15:56:25.805Z"
   },
   {
    "duration": 31,
    "start_time": "2021-07-27T15:56:25.825Z"
   },
   {
    "duration": 40,
    "start_time": "2021-07-27T15:56:25.886Z"
   },
   {
    "duration": 27,
    "start_time": "2021-07-27T15:56:25.929Z"
   },
   {
    "duration": 26,
    "start_time": "2021-07-27T15:56:25.987Z"
   },
   {
    "duration": 16,
    "start_time": "2021-07-27T15:56:26.017Z"
   },
   {
    "duration": 51,
    "start_time": "2021-07-27T15:56:26.036Z"
   },
   {
    "duration": 36,
    "start_time": "2021-07-27T15:56:26.089Z"
   },
   {
    "duration": 12,
    "start_time": "2021-07-27T15:56:26.128Z"
   },
   {
    "duration": 129,
    "start_time": "2021-07-27T15:56:26.143Z"
   },
   {
    "duration": 47,
    "start_time": "2021-07-27T15:56:26.274Z"
   },
   {
    "duration": 85,
    "start_time": "2021-07-27T15:56:26.324Z"
   },
   {
    "duration": 139,
    "start_time": "2021-07-27T15:56:26.412Z"
   },
   {
    "duration": 39,
    "start_time": "2021-07-27T15:56:26.554Z"
   },
   {
    "duration": 8,
    "start_time": "2021-07-27T15:56:26.595Z"
   },
   {
    "duration": 23,
    "start_time": "2021-07-27T15:56:26.605Z"
   },
   {
    "duration": 6,
    "start_time": "2021-07-27T15:56:26.630Z"
   },
   {
    "duration": 67,
    "start_time": "2021-07-27T15:56:26.639Z"
   },
   {
    "duration": 3,
    "start_time": "2021-07-27T15:56:26.709Z"
   },
   {
    "duration": 36,
    "start_time": "2021-07-27T15:56:26.717Z"
   },
   {
    "duration": 565,
    "start_time": "2021-07-27T15:56:26.755Z"
   },
   {
    "duration": -1509,
    "start_time": "2021-07-27T15:56:28.832Z"
   },
   {
    "duration": -1513,
    "start_time": "2021-07-27T15:56:28.837Z"
   },
   {
    "duration": 400,
    "start_time": "2021-07-27T15:59:45.785Z"
   },
   {
    "duration": 1454,
    "start_time": "2021-07-27T16:00:00.761Z"
   },
   {
    "duration": 46,
    "start_time": "2021-07-27T16:00:02.218Z"
   },
   {
    "duration": 47,
    "start_time": "2021-07-27T16:00:02.268Z"
   },
   {
    "duration": 25,
    "start_time": "2021-07-27T16:00:02.318Z"
   },
   {
    "duration": 53,
    "start_time": "2021-07-27T16:00:02.346Z"
   },
   {
    "duration": 39,
    "start_time": "2021-07-27T16:00:02.402Z"
   },
   {
    "duration": 43,
    "start_time": "2021-07-27T16:00:02.444Z"
   },
   {
    "duration": 21,
    "start_time": "2021-07-27T16:00:02.492Z"
   },
   {
    "duration": 30,
    "start_time": "2021-07-27T16:00:02.516Z"
   },
   {
    "duration": 50,
    "start_time": "2021-07-27T16:00:02.548Z"
   },
   {
    "duration": 70,
    "start_time": "2021-07-27T16:00:02.602Z"
   },
   {
    "duration": 15,
    "start_time": "2021-07-27T16:00:02.676Z"
   },
   {
    "duration": 139,
    "start_time": "2021-07-27T16:00:02.694Z"
   },
   {
    "duration": 67,
    "start_time": "2021-07-27T16:00:02.835Z"
   },
   {
    "duration": 81,
    "start_time": "2021-07-27T16:00:02.905Z"
   },
   {
    "duration": 131,
    "start_time": "2021-07-27T16:00:02.989Z"
   },
   {
    "duration": 30,
    "start_time": "2021-07-27T16:00:03.122Z"
   },
   {
    "duration": 7,
    "start_time": "2021-07-27T16:00:03.154Z"
   },
   {
    "duration": 34,
    "start_time": "2021-07-27T16:00:03.163Z"
   },
   {
    "duration": 20,
    "start_time": "2021-07-27T16:00:03.199Z"
   },
   {
    "duration": 56,
    "start_time": "2021-07-27T16:00:03.223Z"
   },
   {
    "duration": 4,
    "start_time": "2021-07-27T16:00:03.285Z"
   },
   {
    "duration": 51,
    "start_time": "2021-07-27T16:00:03.295Z"
   },
   {
    "duration": 567,
    "start_time": "2021-07-27T16:00:03.350Z"
   },
   {
    "duration": -1822,
    "start_time": "2021-07-27T16:00:05.743Z"
   },
   {
    "duration": -1852,
    "start_time": "2021-07-27T16:00:05.776Z"
   },
   {
    "duration": 488,
    "start_time": "2021-07-27T16:03:38.466Z"
   },
   {
    "duration": 1550,
    "start_time": "2021-07-27T16:04:12.883Z"
   },
   {
    "duration": 49,
    "start_time": "2021-07-27T16:04:14.436Z"
   },
   {
    "duration": 42,
    "start_time": "2021-07-27T16:04:14.490Z"
   },
   {
    "duration": 19,
    "start_time": "2021-07-27T16:04:14.535Z"
   },
   {
    "duration": 33,
    "start_time": "2021-07-27T16:04:14.586Z"
   },
   {
    "duration": 78,
    "start_time": "2021-07-27T16:04:14.621Z"
   },
   {
    "duration": 26,
    "start_time": "2021-07-27T16:04:14.702Z"
   },
   {
    "duration": 19,
    "start_time": "2021-07-27T16:04:14.733Z"
   },
   {
    "duration": 19,
    "start_time": "2021-07-27T16:04:14.785Z"
   },
   {
    "duration": 24,
    "start_time": "2021-07-27T16:04:14.807Z"
   },
   {
    "duration": 60,
    "start_time": "2021-07-27T16:04:14.834Z"
   },
   {
    "duration": 27,
    "start_time": "2021-07-27T16:04:14.896Z"
   },
   {
    "duration": 122,
    "start_time": "2021-07-27T16:04:14.926Z"
   },
   {
    "duration": 62,
    "start_time": "2021-07-27T16:04:15.051Z"
   },
   {
    "duration": 81,
    "start_time": "2021-07-27T16:04:15.115Z"
   },
   {
    "duration": 148,
    "start_time": "2021-07-27T16:04:15.198Z"
   },
   {
    "duration": 52,
    "start_time": "2021-07-27T16:04:15.349Z"
   },
   {
    "duration": 13,
    "start_time": "2021-07-27T16:04:15.404Z"
   },
   {
    "duration": 19,
    "start_time": "2021-07-27T16:04:15.419Z"
   },
   {
    "duration": 9,
    "start_time": "2021-07-27T16:04:15.441Z"
   },
   {
    "duration": 76,
    "start_time": "2021-07-27T16:04:15.453Z"
   },
   {
    "duration": 3,
    "start_time": "2021-07-27T16:04:15.531Z"
   },
   {
    "duration": 58,
    "start_time": "2021-07-27T16:04:15.538Z"
   },
   {
    "duration": 30,
    "start_time": "2021-07-27T16:04:15.599Z"
   },
   {
    "duration": 72,
    "start_time": "2021-07-27T16:04:15.631Z"
   },
   {
    "duration": 51,
    "start_time": "2021-07-27T16:04:15.705Z"
   },
   {
    "duration": 45,
    "start_time": "2021-07-27T16:05:07.479Z"
   },
   {
    "duration": 41,
    "start_time": "2021-07-27T16:06:33.399Z"
   },
   {
    "duration": 44,
    "start_time": "2021-07-27T16:06:50.159Z"
   },
   {
    "duration": 39,
    "start_time": "2021-07-27T16:08:38.538Z"
   },
   {
    "duration": 14,
    "start_time": "2021-07-27T16:09:03.394Z"
   },
   {
    "duration": 42,
    "start_time": "2021-07-27T16:09:54.434Z"
   },
   {
    "duration": 1343,
    "start_time": "2021-07-27T16:10:16.327Z"
   },
   {
    "duration": 51,
    "start_time": "2021-07-27T16:10:17.672Z"
   },
   {
    "duration": 36,
    "start_time": "2021-07-27T16:10:17.727Z"
   },
   {
    "duration": 26,
    "start_time": "2021-07-27T16:10:17.787Z"
   },
   {
    "duration": 31,
    "start_time": "2021-07-27T16:10:17.816Z"
   },
   {
    "duration": 74,
    "start_time": "2021-07-27T16:10:17.849Z"
   },
   {
    "duration": 24,
    "start_time": "2021-07-27T16:10:17.926Z"
   },
   {
    "duration": 41,
    "start_time": "2021-07-27T16:10:17.953Z"
   },
   {
    "duration": 18,
    "start_time": "2021-07-27T16:10:17.999Z"
   },
   {
    "duration": 31,
    "start_time": "2021-07-27T16:10:18.020Z"
   },
   {
    "duration": 39,
    "start_time": "2021-07-27T16:10:18.053Z"
   },
   {
    "duration": 11,
    "start_time": "2021-07-27T16:10:18.095Z"
   },
   {
    "duration": 123,
    "start_time": "2021-07-27T16:10:18.109Z"
   },
   {
    "duration": 59,
    "start_time": "2021-07-27T16:10:18.235Z"
   },
   {
    "duration": 72,
    "start_time": "2021-07-27T16:10:18.297Z"
   },
   {
    "duration": 132,
    "start_time": "2021-07-27T16:10:18.372Z"
   },
   {
    "duration": 32,
    "start_time": "2021-07-27T16:10:18.506Z"
   },
   {
    "duration": 9,
    "start_time": "2021-07-27T16:10:18.540Z"
   },
   {
    "duration": 47,
    "start_time": "2021-07-27T16:10:18.552Z"
   },
   {
    "duration": 7,
    "start_time": "2021-07-27T16:10:18.602Z"
   },
   {
    "duration": 44,
    "start_time": "2021-07-27T16:10:18.611Z"
   },
   {
    "duration": 3,
    "start_time": "2021-07-27T16:10:18.657Z"
   },
   {
    "duration": 32,
    "start_time": "2021-07-27T16:10:18.694Z"
   },
   {
    "duration": 37,
    "start_time": "2021-07-27T16:10:18.729Z"
   },
   {
    "duration": 43,
    "start_time": "2021-07-27T16:10:18.784Z"
   },
   {
    "duration": 70,
    "start_time": "2021-07-27T16:10:18.830Z"
   },
   {
    "duration": 12,
    "start_time": "2021-07-27T16:12:35.632Z"
   },
   {
    "duration": 1522,
    "start_time": "2021-07-27T16:19:28.804Z"
   },
   {
    "duration": 46,
    "start_time": "2021-07-27T16:19:30.328Z"
   },
   {
    "duration": 48,
    "start_time": "2021-07-27T16:19:30.377Z"
   },
   {
    "duration": 17,
    "start_time": "2021-07-27T16:19:30.427Z"
   },
   {
    "duration": 54,
    "start_time": "2021-07-27T16:19:30.446Z"
   },
   {
    "duration": 40,
    "start_time": "2021-07-27T16:19:30.503Z"
   },
   {
    "duration": 54,
    "start_time": "2021-07-27T16:19:30.546Z"
   },
   {
    "duration": 29,
    "start_time": "2021-07-27T16:19:30.604Z"
   },
   {
    "duration": 26,
    "start_time": "2021-07-27T16:19:30.636Z"
   },
   {
    "duration": 34,
    "start_time": "2021-07-27T16:19:30.686Z"
   },
   {
    "duration": 49,
    "start_time": "2021-07-27T16:19:30.723Z"
   },
   {
    "duration": 25,
    "start_time": "2021-07-27T16:19:30.775Z"
   },
   {
    "duration": 126,
    "start_time": "2021-07-27T16:19:30.802Z"
   },
   {
    "duration": 55,
    "start_time": "2021-07-27T16:19:30.930Z"
   },
   {
    "duration": 73,
    "start_time": "2021-07-27T16:19:30.990Z"
   },
   {
    "duration": 142,
    "start_time": "2021-07-27T16:19:31.065Z"
   },
   {
    "duration": 31,
    "start_time": "2021-07-27T16:19:31.210Z"
   },
   {
    "duration": 11,
    "start_time": "2021-07-27T16:19:31.244Z"
   },
   {
    "duration": 42,
    "start_time": "2021-07-27T16:19:31.258Z"
   },
   {
    "duration": 7,
    "start_time": "2021-07-27T16:19:31.303Z"
   },
   {
    "duration": 84,
    "start_time": "2021-07-27T16:19:31.313Z"
   },
   {
    "duration": 500,
    "start_time": "2021-07-27T16:19:31.400Z"
   },
   {
    "duration": -1163,
    "start_time": "2021-07-27T16:19:33.067Z"
   },
   {
    "duration": -1168,
    "start_time": "2021-07-27T16:19:33.074Z"
   },
   {
    "duration": -1170,
    "start_time": "2021-07-27T16:19:33.078Z"
   },
   {
    "duration": -1192,
    "start_time": "2021-07-27T16:19:33.102Z"
   },
   {
    "duration": 433,
    "start_time": "2021-07-27T16:21:08.190Z"
   },
   {
    "duration": 14,
    "start_time": "2021-07-27T16:21:17.009Z"
   },
   {
    "duration": 415,
    "start_time": "2021-07-27T16:34:44.704Z"
   },
   {
    "duration": 1440,
    "start_time": "2021-07-27T16:34:56.975Z"
   },
   {
    "duration": 46,
    "start_time": "2021-07-27T16:34:58.417Z"
   },
   {
    "duration": 43,
    "start_time": "2021-07-27T16:34:58.466Z"
   },
   {
    "duration": 18,
    "start_time": "2021-07-27T16:34:58.512Z"
   },
   {
    "duration": 53,
    "start_time": "2021-07-27T16:34:58.532Z"
   },
   {
    "duration": 39,
    "start_time": "2021-07-27T16:34:58.589Z"
   },
   {
    "duration": 26,
    "start_time": "2021-07-27T16:34:58.630Z"
   },
   {
    "duration": 22,
    "start_time": "2021-07-27T16:34:58.687Z"
   },
   {
    "duration": 18,
    "start_time": "2021-07-27T16:34:58.712Z"
   },
   {
    "duration": 63,
    "start_time": "2021-07-27T16:34:58.733Z"
   },
   {
    "duration": 22,
    "start_time": "2021-07-27T16:34:58.799Z"
   },
   {
    "duration": 11,
    "start_time": "2021-07-27T16:34:58.824Z"
   },
   {
    "duration": 155,
    "start_time": "2021-07-27T16:34:58.837Z"
   },
   {
    "duration": 48,
    "start_time": "2021-07-27T16:34:58.995Z"
   },
   {
    "duration": 94,
    "start_time": "2021-07-27T16:34:59.046Z"
   },
   {
    "duration": 135,
    "start_time": "2021-07-27T16:34:59.143Z"
   },
   {
    "duration": 43,
    "start_time": "2021-07-27T16:34:59.281Z"
   },
   {
    "duration": 11,
    "start_time": "2021-07-27T16:34:59.326Z"
   },
   {
    "duration": 72,
    "start_time": "2021-07-27T16:34:59.339Z"
   },
   {
    "duration": 22,
    "start_time": "2021-07-27T16:34:59.413Z"
   },
   {
    "duration": 63,
    "start_time": "2021-07-27T16:34:59.438Z"
   },
   {
    "duration": 7,
    "start_time": "2021-07-27T16:34:59.504Z"
   },
   {
    "duration": 53,
    "start_time": "2021-07-27T16:34:59.515Z"
   },
   {
    "duration": 7,
    "start_time": "2021-07-27T16:34:59.571Z"
   },
   {
    "duration": 54,
    "start_time": "2021-07-27T16:34:59.587Z"
   },
   {
    "duration": 48,
    "start_time": "2021-07-27T16:34:59.644Z"
   },
   {
    "duration": 31,
    "start_time": "2021-07-27T16:34:59.695Z"
   },
   {
    "duration": 35,
    "start_time": "2021-07-27T16:34:59.729Z"
   },
   {
    "duration": 37,
    "start_time": "2021-07-27T16:35:18.680Z"
   },
   {
    "duration": 1372,
    "start_time": "2021-07-27T16:35:32.762Z"
   },
   {
    "duration": 51,
    "start_time": "2021-07-27T16:35:34.137Z"
   },
   {
    "duration": 48,
    "start_time": "2021-07-27T16:35:34.192Z"
   },
   {
    "duration": 23,
    "start_time": "2021-07-27T16:35:34.242Z"
   },
   {
    "duration": 45,
    "start_time": "2021-07-27T16:35:34.267Z"
   },
   {
    "duration": 43,
    "start_time": "2021-07-27T16:35:34.315Z"
   },
   {
    "duration": 33,
    "start_time": "2021-07-27T16:35:34.390Z"
   },
   {
    "duration": 18,
    "start_time": "2021-07-27T16:35:34.425Z"
   },
   {
    "duration": 52,
    "start_time": "2021-07-27T16:35:34.447Z"
   },
   {
    "duration": 22,
    "start_time": "2021-07-27T16:35:34.502Z"
   },
   {
    "duration": 30,
    "start_time": "2021-07-27T16:35:34.528Z"
   },
   {
    "duration": 39,
    "start_time": "2021-07-27T16:35:34.560Z"
   },
   {
    "duration": 131,
    "start_time": "2021-07-27T16:35:34.605Z"
   },
   {
    "duration": 65,
    "start_time": "2021-07-27T16:35:34.739Z"
   },
   {
    "duration": 88,
    "start_time": "2021-07-27T16:35:34.806Z"
   },
   {
    "duration": 122,
    "start_time": "2021-07-27T16:35:34.897Z"
   },
   {
    "duration": 32,
    "start_time": "2021-07-27T16:35:35.021Z"
   },
   {
    "duration": 8,
    "start_time": "2021-07-27T16:35:35.055Z"
   },
   {
    "duration": 20,
    "start_time": "2021-07-27T16:35:35.086Z"
   },
   {
    "duration": 22,
    "start_time": "2021-07-27T16:35:35.109Z"
   },
   {
    "duration": 72,
    "start_time": "2021-07-27T16:35:35.134Z"
   },
   {
    "duration": 6,
    "start_time": "2021-07-27T16:35:35.208Z"
   },
   {
    "duration": 56,
    "start_time": "2021-07-27T16:35:35.216Z"
   },
   {
    "duration": 5,
    "start_time": "2021-07-27T16:35:35.274Z"
   },
   {
    "duration": 62,
    "start_time": "2021-07-27T16:35:35.282Z"
   },
   {
    "duration": 20,
    "start_time": "2021-07-27T16:35:35.346Z"
   },
   {
    "duration": 43,
    "start_time": "2021-07-27T16:35:35.370Z"
   },
   {
    "duration": 19,
    "start_time": "2021-07-27T16:35:35.416Z"
   },
   {
    "duration": 1429,
    "start_time": "2021-07-27T16:48:54.946Z"
   },
   {
    "duration": 56,
    "start_time": "2021-07-27T16:48:56.378Z"
   },
   {
    "duration": 72,
    "start_time": "2021-07-27T16:48:56.438Z"
   },
   {
    "duration": 27,
    "start_time": "2021-07-27T16:48:56.514Z"
   },
   {
    "duration": 60,
    "start_time": "2021-07-27T16:48:56.545Z"
   },
   {
    "duration": 44,
    "start_time": "2021-07-27T16:48:56.608Z"
   },
   {
    "duration": 52,
    "start_time": "2021-07-27T16:48:56.655Z"
   },
   {
    "duration": 20,
    "start_time": "2021-07-27T16:48:56.711Z"
   },
   {
    "duration": 66,
    "start_time": "2021-07-27T16:48:56.735Z"
   },
   {
    "duration": 29,
    "start_time": "2021-07-27T16:48:56.804Z"
   },
   {
    "duration": 26,
    "start_time": "2021-07-27T16:48:56.837Z"
   },
   {
    "duration": 27,
    "start_time": "2021-07-27T16:48:56.866Z"
   },
   {
    "duration": 138,
    "start_time": "2021-07-27T16:48:56.895Z"
   },
   {
    "duration": 69,
    "start_time": "2021-07-27T16:48:57.036Z"
   },
   {
    "duration": 87,
    "start_time": "2021-07-27T16:48:57.107Z"
   },
   {
    "duration": 130,
    "start_time": "2021-07-27T16:48:57.197Z"
   },
   {
    "duration": 32,
    "start_time": "2021-07-27T16:48:57.330Z"
   },
   {
    "duration": 24,
    "start_time": "2021-07-27T16:48:57.365Z"
   },
   {
    "duration": 21,
    "start_time": "2021-07-27T16:48:57.391Z"
   },
   {
    "duration": 7,
    "start_time": "2021-07-27T16:48:57.414Z"
   },
   {
    "duration": 84,
    "start_time": "2021-07-27T16:48:57.425Z"
   },
   {
    "duration": 7,
    "start_time": "2021-07-27T16:48:57.511Z"
   },
   {
    "duration": 33,
    "start_time": "2021-07-27T16:48:57.522Z"
   },
   {
    "duration": 6,
    "start_time": "2021-07-27T16:48:57.586Z"
   },
   {
    "duration": 54,
    "start_time": "2021-07-27T16:48:57.594Z"
   },
   {
    "duration": 37,
    "start_time": "2021-07-27T16:48:57.651Z"
   },
   {
    "duration": 7,
    "start_time": "2021-07-27T16:48:57.691Z"
   },
   {
    "duration": 10,
    "start_time": "2021-07-27T16:48:57.702Z"
   },
   {
    "duration": 28,
    "start_time": "2021-07-27T17:04:20.877Z"
   },
   {
    "duration": 29,
    "start_time": "2021-07-27T17:05:45.311Z"
   },
   {
    "duration": 12452,
    "start_time": "2021-07-27T17:06:13.592Z"
   },
   {
    "duration": 1541,
    "start_time": "2021-07-27T17:06:32.046Z"
   },
   {
    "duration": 69,
    "start_time": "2021-07-27T17:06:33.591Z"
   },
   {
    "duration": 80,
    "start_time": "2021-07-27T17:06:33.664Z"
   },
   {
    "duration": 40,
    "start_time": "2021-07-27T17:06:33.749Z"
   },
   {
    "duration": 49,
    "start_time": "2021-07-27T17:06:33.792Z"
   },
   {
    "duration": 88,
    "start_time": "2021-07-27T17:06:33.844Z"
   },
   {
    "duration": 35,
    "start_time": "2021-07-27T17:06:33.936Z"
   },
   {
    "duration": 31,
    "start_time": "2021-07-27T17:06:33.991Z"
   },
   {
    "duration": 21,
    "start_time": "2021-07-27T17:06:34.025Z"
   },
   {
    "duration": 72,
    "start_time": "2021-07-27T17:06:34.049Z"
   },
   {
    "duration": 24,
    "start_time": "2021-07-27T17:06:34.125Z"
   },
   {
    "duration": 40,
    "start_time": "2021-07-27T17:06:34.152Z"
   },
   {
    "duration": 174,
    "start_time": "2021-07-27T17:06:34.195Z"
   },
   {
    "duration": 56,
    "start_time": "2021-07-27T17:06:34.372Z"
   },
   {
    "duration": 91,
    "start_time": "2021-07-27T17:06:34.430Z"
   },
   {
    "duration": 142,
    "start_time": "2021-07-27T17:06:34.523Z"
   },
   {
    "duration": 48,
    "start_time": "2021-07-27T17:06:34.667Z"
   },
   {
    "duration": 9,
    "start_time": "2021-07-27T17:06:34.717Z"
   },
   {
    "duration": 19,
    "start_time": "2021-07-27T17:06:34.728Z"
   },
   {
    "duration": 7,
    "start_time": "2021-07-27T17:06:34.749Z"
   },
   {
    "duration": 48,
    "start_time": "2021-07-27T17:06:34.790Z"
   },
   {
    "duration": 8,
    "start_time": "2021-07-27T17:06:34.840Z"
   },
   {
    "duration": 66,
    "start_time": "2021-07-27T17:06:34.853Z"
   },
   {
    "duration": 7,
    "start_time": "2021-07-27T17:06:34.922Z"
   },
   {
    "duration": 89,
    "start_time": "2021-07-27T17:06:34.932Z"
   },
   {
    "duration": 28,
    "start_time": "2021-07-27T17:06:35.025Z"
   },
   {
    "duration": 60,
    "start_time": "2021-07-27T17:06:35.056Z"
   },
   {
    "duration": 900,
    "start_time": "2021-07-27T17:06:35.120Z"
   },
   {
    "duration": 1023,
    "start_time": "2021-07-27T17:09:25.226Z"
   },
   {
    "duration": 1540,
    "start_time": "2021-07-27T17:09:53.541Z"
   },
   {
    "duration": 73,
    "start_time": "2021-07-27T17:09:55.085Z"
   },
   {
    "duration": 78,
    "start_time": "2021-07-27T17:09:55.163Z"
   },
   {
    "duration": 44,
    "start_time": "2021-07-27T17:09:55.245Z"
   },
   {
    "duration": 35,
    "start_time": "2021-07-27T17:09:55.292Z"
   },
   {
    "duration": 83,
    "start_time": "2021-07-27T17:09:55.330Z"
   },
   {
    "duration": 27,
    "start_time": "2021-07-27T17:09:55.415Z"
   },
   {
    "duration": 52,
    "start_time": "2021-07-27T17:09:55.444Z"
   },
   {
    "duration": 20,
    "start_time": "2021-07-27T17:09:55.501Z"
   },
   {
    "duration": 24,
    "start_time": "2021-07-27T17:09:55.524Z"
   },
   {
    "duration": 55,
    "start_time": "2021-07-27T17:09:55.551Z"
   },
   {
    "duration": 10,
    "start_time": "2021-07-27T17:09:55.609Z"
   },
   {
    "duration": 148,
    "start_time": "2021-07-27T17:09:55.622Z"
   },
   {
    "duration": 67,
    "start_time": "2021-07-27T17:09:55.773Z"
   },
   {
    "duration": 96,
    "start_time": "2021-07-27T17:09:55.842Z"
   },
   {
    "duration": 158,
    "start_time": "2021-07-27T17:09:55.940Z"
   },
   {
    "duration": 33,
    "start_time": "2021-07-27T17:09:56.102Z"
   },
   {
    "duration": 9,
    "start_time": "2021-07-27T17:09:56.138Z"
   },
   {
    "duration": 40,
    "start_time": "2021-07-27T17:09:56.149Z"
   },
   {
    "duration": 9,
    "start_time": "2021-07-27T17:09:56.192Z"
   },
   {
    "duration": 87,
    "start_time": "2021-07-27T17:09:56.205Z"
   },
   {
    "duration": 9,
    "start_time": "2021-07-27T17:09:56.296Z"
   },
   {
    "duration": 43,
    "start_time": "2021-07-27T17:09:56.308Z"
   },
   {
    "duration": 6,
    "start_time": "2021-07-27T17:09:56.354Z"
   },
   {
    "duration": 81,
    "start_time": "2021-07-27T17:09:56.389Z"
   },
   {
    "duration": 35,
    "start_time": "2021-07-27T17:09:56.473Z"
   },
   {
    "duration": 28,
    "start_time": "2021-07-27T17:09:56.513Z"
   },
   {
    "duration": 948,
    "start_time": "2021-07-27T17:09:56.543Z"
   },
   {
    "duration": 1395,
    "start_time": "2021-07-27T17:10:59.545Z"
   },
   {
    "duration": 1619,
    "start_time": "2021-07-27T17:12:12.271Z"
   },
   {
    "duration": 926,
    "start_time": "2021-07-27T17:13:29.926Z"
   },
   {
    "duration": 1488,
    "start_time": "2021-07-27T17:26:07.012Z"
   },
   {
    "duration": 48,
    "start_time": "2021-07-27T17:26:08.504Z"
   },
   {
    "duration": 64,
    "start_time": "2021-07-27T17:26:08.556Z"
   },
   {
    "duration": 16,
    "start_time": "2021-07-27T17:26:08.623Z"
   },
   {
    "duration": 64,
    "start_time": "2021-07-27T17:26:08.641Z"
   },
   {
    "duration": 39,
    "start_time": "2021-07-27T17:26:08.707Z"
   },
   {
    "duration": 50,
    "start_time": "2021-07-27T17:26:08.749Z"
   },
   {
    "duration": 30,
    "start_time": "2021-07-27T17:26:08.806Z"
   },
   {
    "duration": 55,
    "start_time": "2021-07-27T17:26:08.840Z"
   },
   {
    "duration": 103,
    "start_time": "2021-07-27T17:26:08.899Z"
   },
   {
    "duration": 26,
    "start_time": "2021-07-27T17:26:09.004Z"
   },
   {
    "duration": 11,
    "start_time": "2021-07-27T17:26:09.032Z"
   },
   {
    "duration": 152,
    "start_time": "2021-07-27T17:26:09.046Z"
   },
   {
    "duration": 54,
    "start_time": "2021-07-27T17:26:09.200Z"
   },
   {
    "duration": 96,
    "start_time": "2021-07-27T17:26:09.257Z"
   },
   {
    "duration": 160,
    "start_time": "2021-07-27T17:26:09.355Z"
   },
   {
    "duration": 33,
    "start_time": "2021-07-27T17:26:09.518Z"
   },
   {
    "duration": 44,
    "start_time": "2021-07-27T17:26:09.553Z"
   },
   {
    "duration": 63,
    "start_time": "2021-07-27T17:26:09.603Z"
   },
   {
    "duration": 42,
    "start_time": "2021-07-27T17:26:09.668Z"
   },
   {
    "duration": 78,
    "start_time": "2021-07-27T17:26:09.713Z"
   },
   {
    "duration": 7,
    "start_time": "2021-07-27T17:26:09.794Z"
   },
   {
    "duration": 73,
    "start_time": "2021-07-27T17:26:09.806Z"
   },
   {
    "duration": 8,
    "start_time": "2021-07-27T17:26:09.882Z"
   },
   {
    "duration": 49,
    "start_time": "2021-07-27T17:26:09.903Z"
   },
   {
    "duration": 47,
    "start_time": "2021-07-27T17:26:09.955Z"
   },
   {
    "duration": 32,
    "start_time": "2021-07-27T17:26:10.004Z"
   },
   {
    "duration": 1163,
    "start_time": "2021-07-27T17:26:10.038Z"
   },
   {
    "duration": 190,
    "start_time": "2021-07-27T17:26:11.203Z"
   },
   {
    "duration": 1551,
    "start_time": "2021-07-27T17:26:40.262Z"
   },
   {
    "duration": 47,
    "start_time": "2021-07-27T17:26:41.817Z"
   },
   {
    "duration": 43,
    "start_time": "2021-07-27T17:26:41.869Z"
   },
   {
    "duration": 23,
    "start_time": "2021-07-27T17:26:41.916Z"
   },
   {
    "duration": 71,
    "start_time": "2021-07-27T17:26:41.942Z"
   },
   {
    "duration": 69,
    "start_time": "2021-07-27T17:26:42.016Z"
   },
   {
    "duration": 33,
    "start_time": "2021-07-27T17:26:42.088Z"
   },
   {
    "duration": 19,
    "start_time": "2021-07-27T17:26:42.123Z"
   },
   {
    "duration": 57,
    "start_time": "2021-07-27T17:26:42.146Z"
   },
   {
    "duration": 25,
    "start_time": "2021-07-27T17:26:42.208Z"
   },
   {
    "duration": 60,
    "start_time": "2021-07-27T17:26:42.235Z"
   },
   {
    "duration": 13,
    "start_time": "2021-07-27T17:26:42.298Z"
   },
   {
    "duration": 170,
    "start_time": "2021-07-27T17:26:42.314Z"
   },
   {
    "duration": 54,
    "start_time": "2021-07-27T17:26:42.491Z"
   },
   {
    "duration": 90,
    "start_time": "2021-07-27T17:26:42.548Z"
   },
   {
    "duration": 154,
    "start_time": "2021-07-27T17:26:42.642Z"
   },
   {
    "duration": 52,
    "start_time": "2021-07-27T17:26:42.799Z"
   },
   {
    "duration": 13,
    "start_time": "2021-07-27T17:26:42.854Z"
   },
   {
    "duration": 34,
    "start_time": "2021-07-27T17:26:42.887Z"
   },
   {
    "duration": 7,
    "start_time": "2021-07-27T17:26:42.923Z"
   },
   {
    "duration": 59,
    "start_time": "2021-07-27T17:26:42.932Z"
   },
   {
    "duration": 8,
    "start_time": "2021-07-27T17:26:42.997Z"
   },
   {
    "duration": 34,
    "start_time": "2021-07-27T17:26:43.008Z"
   },
   {
    "duration": 6,
    "start_time": "2021-07-27T17:26:43.045Z"
   },
   {
    "duration": 74,
    "start_time": "2021-07-27T17:26:43.054Z"
   },
   {
    "duration": 21,
    "start_time": "2021-07-27T17:26:43.131Z"
   },
   {
    "duration": 57,
    "start_time": "2021-07-27T17:26:43.157Z"
   },
   {
    "duration": 960,
    "start_time": "2021-07-27T17:26:43.217Z"
   },
   {
    "duration": 139,
    "start_time": "2021-07-27T17:26:44.180Z"
   },
   {
    "duration": 1493,
    "start_time": "2021-07-27T17:27:26.293Z"
   },
   {
    "duration": 72,
    "start_time": "2021-07-27T17:27:27.791Z"
   },
   {
    "duration": 60,
    "start_time": "2021-07-27T17:27:27.866Z"
   },
   {
    "duration": 20,
    "start_time": "2021-07-27T17:27:27.930Z"
   },
   {
    "duration": 57,
    "start_time": "2021-07-27T17:27:27.952Z"
   },
   {
    "duration": 78,
    "start_time": "2021-07-27T17:27:28.011Z"
   },
   {
    "duration": 30,
    "start_time": "2021-07-27T17:27:28.093Z"
   },
   {
    "duration": 20,
    "start_time": "2021-07-27T17:27:28.126Z"
   },
   {
    "duration": 47,
    "start_time": "2021-07-27T17:27:28.150Z"
   },
   {
    "duration": 24,
    "start_time": "2021-07-27T17:27:28.202Z"
   },
   {
    "duration": 37,
    "start_time": "2021-07-27T17:27:28.229Z"
   },
   {
    "duration": 11,
    "start_time": "2021-07-27T17:27:28.286Z"
   },
   {
    "duration": 174,
    "start_time": "2021-07-27T17:27:28.300Z"
   },
   {
    "duration": 54,
    "start_time": "2021-07-27T17:27:28.477Z"
   },
   {
    "duration": 92,
    "start_time": "2021-07-27T17:27:28.534Z"
   },
   {
    "duration": 133,
    "start_time": "2021-07-27T17:27:28.629Z"
   },
   {
    "duration": 46,
    "start_time": "2021-07-27T17:27:28.765Z"
   },
   {
    "duration": 12,
    "start_time": "2021-07-27T17:27:28.814Z"
   },
   {
    "duration": 29,
    "start_time": "2021-07-27T17:27:28.829Z"
   },
   {
    "duration": 10,
    "start_time": "2021-07-27T17:27:28.884Z"
   },
   {
    "duration": 104,
    "start_time": "2021-07-27T17:27:28.898Z"
   },
   {
    "duration": 9,
    "start_time": "2021-07-27T17:27:29.009Z"
   },
   {
    "duration": 44,
    "start_time": "2021-07-27T17:27:29.022Z"
   },
   {
    "duration": 19,
    "start_time": "2021-07-27T17:27:29.069Z"
   },
   {
    "duration": 51,
    "start_time": "2021-07-27T17:27:29.091Z"
   },
   {
    "duration": 53,
    "start_time": "2021-07-27T17:27:29.145Z"
   },
   {
    "duration": 29,
    "start_time": "2021-07-27T17:27:29.202Z"
   },
   {
    "duration": 924,
    "start_time": "2021-07-27T17:27:29.234Z"
   },
   {
    "duration": 144,
    "start_time": "2021-07-27T17:27:30.161Z"
   },
   {
    "duration": 37,
    "start_time": "2021-07-27T17:27:42.447Z"
   },
   {
    "duration": 41,
    "start_time": "2021-07-27T17:28:19.597Z"
   },
   {
    "duration": 1064,
    "start_time": "2021-07-27T17:29:10.857Z"
   },
   {
    "duration": 91,
    "start_time": "2021-07-27T17:29:36.947Z"
   },
   {
    "duration": 1562,
    "start_time": "2021-07-27T17:31:57.919Z"
   },
   {
    "duration": 65,
    "start_time": "2021-07-27T17:31:59.483Z"
   },
   {
    "duration": 66,
    "start_time": "2021-07-27T17:31:59.551Z"
   },
   {
    "duration": 18,
    "start_time": "2021-07-27T17:31:59.619Z"
   },
   {
    "duration": 74,
    "start_time": "2021-07-27T17:31:59.640Z"
   },
   {
    "duration": 40,
    "start_time": "2021-07-27T17:31:59.717Z"
   },
   {
    "duration": 53,
    "start_time": "2021-07-27T17:31:59.759Z"
   },
   {
    "duration": 20,
    "start_time": "2021-07-27T17:31:59.816Z"
   },
   {
    "duration": 65,
    "start_time": "2021-07-27T17:31:59.839Z"
   },
   {
    "duration": 27,
    "start_time": "2021-07-27T17:31:59.909Z"
   },
   {
    "duration": 25,
    "start_time": "2021-07-27T17:31:59.939Z"
   },
   {
    "duration": 11,
    "start_time": "2021-07-27T17:31:59.988Z"
   },
   {
    "duration": 139,
    "start_time": "2021-07-27T17:32:00.003Z"
   },
   {
    "duration": 62,
    "start_time": "2021-07-27T17:32:00.145Z"
   },
   {
    "duration": 88,
    "start_time": "2021-07-27T17:32:00.210Z"
   },
   {
    "duration": 135,
    "start_time": "2021-07-27T17:32:00.302Z"
   },
   {
    "duration": 33,
    "start_time": "2021-07-27T17:32:00.440Z"
   },
   {
    "duration": 19,
    "start_time": "2021-07-27T17:32:00.485Z"
   },
   {
    "duration": 30,
    "start_time": "2021-07-27T17:32:00.507Z"
   },
   {
    "duration": 6,
    "start_time": "2021-07-27T17:32:00.540Z"
   },
   {
    "duration": 63,
    "start_time": "2021-07-27T17:32:00.549Z"
   },
   {
    "duration": 136,
    "start_time": "2021-07-27T17:32:00.614Z"
   },
   {
    "duration": -1666,
    "start_time": "2021-07-27T17:32:02.419Z"
   },
   {
    "duration": -1674,
    "start_time": "2021-07-27T17:32:02.428Z"
   },
   {
    "duration": -1716,
    "start_time": "2021-07-27T17:32:02.471Z"
   },
   {
    "duration": -1720,
    "start_time": "2021-07-27T17:32:02.477Z"
   },
   {
    "duration": -1724,
    "start_time": "2021-07-27T17:32:02.482Z"
   },
   {
    "duration": -1726,
    "start_time": "2021-07-27T17:32:02.486Z"
   },
   {
    "duration": -1754,
    "start_time": "2021-07-27T17:32:02.515Z"
   },
   {
    "duration": 1603,
    "start_time": "2021-07-27T17:32:29.284Z"
   },
   {
    "duration": 55,
    "start_time": "2021-07-27T17:32:30.891Z"
   },
   {
    "duration": 63,
    "start_time": "2021-07-27T17:32:30.949Z"
   },
   {
    "duration": 27,
    "start_time": "2021-07-27T17:32:31.015Z"
   },
   {
    "duration": 61,
    "start_time": "2021-07-27T17:32:31.046Z"
   },
   {
    "duration": 58,
    "start_time": "2021-07-27T17:32:31.111Z"
   },
   {
    "duration": 35,
    "start_time": "2021-07-27T17:32:31.186Z"
   },
   {
    "duration": 21,
    "start_time": "2021-07-27T17:32:31.224Z"
   },
   {
    "duration": 62,
    "start_time": "2021-07-27T17:32:31.248Z"
   },
   {
    "duration": 23,
    "start_time": "2021-07-27T17:32:31.313Z"
   },
   {
    "duration": 58,
    "start_time": "2021-07-27T17:32:31.338Z"
   },
   {
    "duration": 36,
    "start_time": "2021-07-27T17:32:31.398Z"
   },
   {
    "duration": 125,
    "start_time": "2021-07-27T17:32:31.437Z"
   },
   {
    "duration": 58,
    "start_time": "2021-07-27T17:32:31.564Z"
   },
   {
    "duration": 92,
    "start_time": "2021-07-27T17:32:31.625Z"
   },
   {
    "duration": 138,
    "start_time": "2021-07-27T17:32:31.720Z"
   },
   {
    "duration": 50,
    "start_time": "2021-07-27T17:32:31.860Z"
   },
   {
    "duration": 8,
    "start_time": "2021-07-27T17:32:31.913Z"
   },
   {
    "duration": 31,
    "start_time": "2021-07-27T17:32:31.923Z"
   },
   {
    "duration": 7,
    "start_time": "2021-07-27T17:32:31.958Z"
   },
   {
    "duration": 83,
    "start_time": "2021-07-27T17:32:31.968Z"
   },
   {
    "duration": 30,
    "start_time": "2021-07-27T17:32:32.055Z"
   },
   {
    "duration": 40,
    "start_time": "2021-07-27T17:32:32.091Z"
   },
   {
    "duration": 6,
    "start_time": "2021-07-27T17:32:32.134Z"
   },
   {
    "duration": 79,
    "start_time": "2021-07-27T17:32:32.142Z"
   },
   {
    "duration": 20,
    "start_time": "2021-07-27T17:32:32.224Z"
   },
   {
    "duration": 50,
    "start_time": "2021-07-27T17:32:32.247Z"
   },
   {
    "duration": 880,
    "start_time": "2021-07-27T17:32:32.300Z"
   },
   {
    "duration": 109,
    "start_time": "2021-07-27T17:32:33.189Z"
   },
   {
    "duration": 61,
    "start_time": "2021-07-27T17:32:58.799Z"
   },
   {
    "duration": 2719,
    "start_time": "2021-07-27T17:37:08.805Z"
   },
   {
    "duration": 62,
    "start_time": "2021-07-27T17:37:11.528Z"
   },
   {
    "duration": 63,
    "start_time": "2021-07-27T17:37:11.594Z"
   },
   {
    "duration": 53,
    "start_time": "2021-07-27T17:37:11.661Z"
   },
   {
    "duration": 49,
    "start_time": "2021-07-27T17:37:11.718Z"
   },
   {
    "duration": 80,
    "start_time": "2021-07-27T17:37:11.771Z"
   },
   {
    "duration": 52,
    "start_time": "2021-07-27T17:37:11.854Z"
   },
   {
    "duration": 24,
    "start_time": "2021-07-27T17:37:11.911Z"
   },
   {
    "duration": 47,
    "start_time": "2021-07-27T17:37:11.938Z"
   },
   {
    "duration": 28,
    "start_time": "2021-07-27T17:37:11.992Z"
   },
   {
    "duration": 25,
    "start_time": "2021-07-27T17:37:12.022Z"
   },
   {
    "duration": 50,
    "start_time": "2021-07-27T17:37:12.049Z"
   },
   {
    "duration": 208,
    "start_time": "2021-07-27T17:37:12.101Z"
   },
   {
    "duration": 50,
    "start_time": "2021-07-27T17:37:12.315Z"
   },
   {
    "duration": 98,
    "start_time": "2021-07-27T17:37:12.368Z"
   },
   {
    "duration": 210,
    "start_time": "2021-07-27T17:37:12.469Z"
   },
   {
    "duration": 55,
    "start_time": "2021-07-27T17:37:12.681Z"
   },
   {
    "duration": 15,
    "start_time": "2021-07-27T17:37:12.739Z"
   },
   {
    "duration": 47,
    "start_time": "2021-07-27T17:37:12.757Z"
   },
   {
    "duration": 9,
    "start_time": "2021-07-27T17:37:12.807Z"
   },
   {
    "duration": 69,
    "start_time": "2021-07-27T17:37:12.822Z"
   },
   {
    "duration": 10,
    "start_time": "2021-07-27T17:37:12.894Z"
   },
   {
    "duration": 44,
    "start_time": "2021-07-27T17:37:12.910Z"
   },
   {
    "duration": 37,
    "start_time": "2021-07-27T17:37:12.957Z"
   },
   {
    "duration": 87,
    "start_time": "2021-07-27T17:37:13.005Z"
   },
   {
    "duration": 37,
    "start_time": "2021-07-27T17:37:13.096Z"
   },
   {
    "duration": 66,
    "start_time": "2021-07-27T17:37:13.136Z"
   },
   {
    "duration": 1167,
    "start_time": "2021-07-27T17:37:13.206Z"
   },
   {
    "duration": 52,
    "start_time": "2021-07-27T17:37:14.385Z"
   },
   {
    "duration": 704,
    "start_time": "2021-07-27T17:37:14.439Z"
   },
   {
    "duration": 455,
    "start_time": "2021-07-27T17:37:48.381Z"
   },
   {
    "duration": 861,
    "start_time": "2021-07-27T17:40:09.600Z"
   },
   {
    "duration": 2637,
    "start_time": "2021-07-27T17:40:27.822Z"
   },
   {
    "duration": 55,
    "start_time": "2021-07-27T17:40:30.461Z"
   },
   {
    "duration": 43,
    "start_time": "2021-07-27T17:40:30.520Z"
   },
   {
    "duration": 58,
    "start_time": "2021-07-27T17:40:30.565Z"
   },
   {
    "duration": 35,
    "start_time": "2021-07-27T17:40:30.626Z"
   },
   {
    "duration": 61,
    "start_time": "2021-07-27T17:40:30.664Z"
   },
   {
    "duration": 60,
    "start_time": "2021-07-27T17:40:30.728Z"
   },
   {
    "duration": 37,
    "start_time": "2021-07-27T17:40:30.793Z"
   },
   {
    "duration": 20,
    "start_time": "2021-07-27T17:40:30.834Z"
   },
   {
    "duration": 45,
    "start_time": "2021-07-27T17:40:30.858Z"
   },
   {
    "duration": 26,
    "start_time": "2021-07-27T17:40:30.909Z"
   },
   {
    "duration": 27,
    "start_time": "2021-07-27T17:40:30.938Z"
   },
   {
    "duration": 156,
    "start_time": "2021-07-27T17:40:30.967Z"
   },
   {
    "duration": 62,
    "start_time": "2021-07-27T17:40:31.126Z"
   },
   {
    "duration": 74,
    "start_time": "2021-07-27T17:40:31.191Z"
   },
   {
    "duration": 159,
    "start_time": "2021-07-27T17:40:31.268Z"
   },
   {
    "duration": 36,
    "start_time": "2021-07-27T17:40:31.430Z"
   },
   {
    "duration": 26,
    "start_time": "2021-07-27T17:40:31.469Z"
   },
   {
    "duration": 37,
    "start_time": "2021-07-27T17:40:31.498Z"
   },
   {
    "duration": 13,
    "start_time": "2021-07-27T17:40:31.538Z"
   },
   {
    "duration": 103,
    "start_time": "2021-07-27T17:40:31.555Z"
   },
   {
    "duration": 26,
    "start_time": "2021-07-27T17:40:31.662Z"
   },
   {
    "duration": 37,
    "start_time": "2021-07-27T17:40:31.692Z"
   },
   {
    "duration": 8,
    "start_time": "2021-07-27T17:40:31.732Z"
   },
   {
    "duration": 78,
    "start_time": "2021-07-27T17:40:31.743Z"
   },
   {
    "duration": 23,
    "start_time": "2021-07-27T17:40:31.825Z"
   },
   {
    "duration": 62,
    "start_time": "2021-07-27T17:40:31.855Z"
   },
   {
    "duration": 1308,
    "start_time": "2021-07-27T17:40:31.921Z"
   },
   {
    "duration": 82,
    "start_time": "2021-07-27T17:40:33.232Z"
   },
   {
    "duration": 954,
    "start_time": "2021-07-27T17:40:33.317Z"
   },
   {
    "duration": 426,
    "start_time": "2021-07-27T17:41:47.319Z"
   },
   {
    "duration": 407,
    "start_time": "2021-07-27T17:42:48.099Z"
   },
   {
    "duration": 2499,
    "start_time": "2021-07-27T17:42:59.048Z"
   },
   {
    "duration": 63,
    "start_time": "2021-07-27T17:43:01.551Z"
   },
   {
    "duration": 82,
    "start_time": "2021-07-27T17:43:01.618Z"
   },
   {
    "duration": 31,
    "start_time": "2021-07-27T17:43:01.704Z"
   },
   {
    "duration": 67,
    "start_time": "2021-07-27T17:43:01.738Z"
   },
   {
    "duration": 44,
    "start_time": "2021-07-27T17:43:01.808Z"
   },
   {
    "duration": 49,
    "start_time": "2021-07-27T17:43:01.854Z"
   },
   {
    "duration": 27,
    "start_time": "2021-07-27T17:43:01.908Z"
   },
   {
    "duration": 63,
    "start_time": "2021-07-27T17:43:01.939Z"
   },
   {
    "duration": 42,
    "start_time": "2021-07-27T17:43:02.006Z"
   },
   {
    "duration": 69,
    "start_time": "2021-07-27T17:43:02.051Z"
   },
   {
    "duration": 14,
    "start_time": "2021-07-27T17:43:02.123Z"
   },
   {
    "duration": 193,
    "start_time": "2021-07-27T17:43:02.141Z"
   },
   {
    "duration": 67,
    "start_time": "2021-07-27T17:43:02.338Z"
   },
   {
    "duration": 109,
    "start_time": "2021-07-27T17:43:02.409Z"
   },
   {
    "duration": 188,
    "start_time": "2021-07-27T17:43:02.522Z"
   },
   {
    "duration": 36,
    "start_time": "2021-07-27T17:43:02.713Z"
   },
   {
    "duration": 9,
    "start_time": "2021-07-27T17:43:02.752Z"
   },
   {
    "duration": 38,
    "start_time": "2021-07-27T17:43:02.764Z"
   },
   {
    "duration": 9,
    "start_time": "2021-07-27T17:43:02.805Z"
   },
   {
    "duration": 95,
    "start_time": "2021-07-27T17:43:02.817Z"
   },
   {
    "duration": 11,
    "start_time": "2021-07-27T17:43:02.915Z"
   },
   {
    "duration": 77,
    "start_time": "2021-07-27T17:43:02.933Z"
   },
   {
    "duration": 8,
    "start_time": "2021-07-27T17:43:03.013Z"
   },
   {
    "duration": 67,
    "start_time": "2021-07-27T17:43:03.025Z"
   },
   {
    "duration": 25,
    "start_time": "2021-07-27T17:43:03.095Z"
   },
   {
    "duration": 41,
    "start_time": "2021-07-27T17:43:03.123Z"
   },
   {
    "duration": 983,
    "start_time": "2021-07-27T17:43:03.195Z"
   },
   {
    "duration": 50,
    "start_time": "2021-07-27T17:43:04.181Z"
   },
   {
    "duration": 573,
    "start_time": "2021-07-27T17:43:04.234Z"
   },
   {
    "duration": 525,
    "start_time": "2021-07-27T17:45:58.778Z"
   },
   {
    "duration": 412,
    "start_time": "2021-07-27T17:48:23.759Z"
   },
   {
    "duration": 2258,
    "start_time": "2021-07-27T17:48:32.285Z"
   },
   {
    "duration": 43,
    "start_time": "2021-07-27T17:48:34.546Z"
   },
   {
    "duration": 56,
    "start_time": "2021-07-27T17:48:34.594Z"
   },
   {
    "duration": 54,
    "start_time": "2021-07-27T17:48:34.654Z"
   },
   {
    "duration": 48,
    "start_time": "2021-07-27T17:48:34.714Z"
   },
   {
    "duration": 75,
    "start_time": "2021-07-27T17:48:34.764Z"
   },
   {
    "duration": 26,
    "start_time": "2021-07-27T17:48:34.841Z"
   },
   {
    "duration": 28,
    "start_time": "2021-07-27T17:48:34.887Z"
   },
   {
    "duration": 26,
    "start_time": "2021-07-27T17:48:34.918Z"
   },
   {
    "duration": 64,
    "start_time": "2021-07-27T17:48:34.947Z"
   },
   {
    "duration": 22,
    "start_time": "2021-07-27T17:48:35.014Z"
   },
   {
    "duration": 10,
    "start_time": "2021-07-27T17:48:35.039Z"
   },
   {
    "duration": 149,
    "start_time": "2021-07-27T17:48:35.052Z"
   },
   {
    "duration": 44,
    "start_time": "2021-07-27T17:48:35.205Z"
   },
   {
    "duration": 102,
    "start_time": "2021-07-27T17:48:35.252Z"
   },
   {
    "duration": 128,
    "start_time": "2021-07-27T17:48:35.357Z"
   },
   {
    "duration": 37,
    "start_time": "2021-07-27T17:48:35.488Z"
   },
   {
    "duration": 8,
    "start_time": "2021-07-27T17:48:35.528Z"
   },
   {
    "duration": 18,
    "start_time": "2021-07-27T17:48:35.538Z"
   },
   {
    "duration": 37,
    "start_time": "2021-07-27T17:48:35.559Z"
   },
   {
    "duration": 54,
    "start_time": "2021-07-27T17:48:35.600Z"
   },
   {
    "duration": 35,
    "start_time": "2021-07-27T17:48:35.657Z"
   },
   {
    "duration": 34,
    "start_time": "2021-07-27T17:48:35.700Z"
   },
   {
    "duration": 5,
    "start_time": "2021-07-27T17:48:35.737Z"
   },
   {
    "duration": 72,
    "start_time": "2021-07-27T17:48:35.744Z"
   },
   {
    "duration": 22,
    "start_time": "2021-07-27T17:48:35.818Z"
   },
   {
    "duration": 55,
    "start_time": "2021-07-27T17:48:35.843Z"
   },
   {
    "duration": 1733,
    "start_time": "2021-07-27T17:48:35.901Z"
   },
   {
    "duration": 64,
    "start_time": "2021-07-27T17:48:37.638Z"
   },
   {
    "duration": 662,
    "start_time": "2021-07-27T17:48:37.704Z"
   },
   {
    "duration": 1095,
    "start_time": "2021-07-27T17:48:57.290Z"
   },
   {
    "duration": 416,
    "start_time": "2021-07-27T17:49:16.769Z"
   },
   {
    "duration": 469,
    "start_time": "2021-07-27T17:49:43.120Z"
   },
   {
    "duration": 415,
    "start_time": "2021-07-27T17:49:52.054Z"
   },
   {
    "duration": 390,
    "start_time": "2021-07-27T17:50:05.840Z"
   },
   {
    "duration": 352,
    "start_time": "2021-07-28T08:47:31.663Z"
   },
   {
    "duration": 2012,
    "start_time": "2021-07-28T08:47:42.401Z"
   },
   {
    "duration": 48,
    "start_time": "2021-07-28T08:47:44.416Z"
   },
   {
    "duration": 56,
    "start_time": "2021-07-28T08:47:44.468Z"
   },
   {
    "duration": 40,
    "start_time": "2021-07-28T08:47:44.527Z"
   },
   {
    "duration": 48,
    "start_time": "2021-07-28T08:47:44.570Z"
   },
   {
    "duration": 80,
    "start_time": "2021-07-28T08:47:44.621Z"
   },
   {
    "duration": 40,
    "start_time": "2021-07-28T08:47:44.704Z"
   },
   {
    "duration": 28,
    "start_time": "2021-07-28T08:47:44.766Z"
   },
   {
    "duration": 25,
    "start_time": "2021-07-28T08:47:44.798Z"
   },
   {
    "duration": 56,
    "start_time": "2021-07-28T08:47:44.826Z"
   },
   {
    "duration": 27,
    "start_time": "2021-07-28T08:47:44.884Z"
   },
   {
    "duration": 10,
    "start_time": "2021-07-28T08:47:44.914Z"
   },
   {
    "duration": 152,
    "start_time": "2021-07-28T08:47:44.926Z"
   },
   {
    "duration": 44,
    "start_time": "2021-07-28T08:47:45.081Z"
   },
   {
    "duration": 97,
    "start_time": "2021-07-28T08:47:45.128Z"
   },
   {
    "duration": 128,
    "start_time": "2021-07-28T08:47:45.228Z"
   },
   {
    "duration": 35,
    "start_time": "2021-07-28T08:47:45.358Z"
   },
   {
    "duration": 8,
    "start_time": "2021-07-28T08:47:45.395Z"
   },
   {
    "duration": 17,
    "start_time": "2021-07-28T08:47:45.405Z"
   },
   {
    "duration": 6,
    "start_time": "2021-07-28T08:47:45.424Z"
   },
   {
    "duration": 44,
    "start_time": "2021-07-28T08:47:45.467Z"
   },
   {
    "duration": 10,
    "start_time": "2021-07-28T08:47:45.515Z"
   },
   {
    "duration": 76,
    "start_time": "2021-07-28T08:47:45.532Z"
   },
   {
    "duration": 7,
    "start_time": "2021-07-28T08:47:45.611Z"
   },
   {
    "duration": 79,
    "start_time": "2021-07-28T08:47:45.621Z"
   },
   {
    "duration": 28,
    "start_time": "2021-07-28T08:47:45.703Z"
   },
   {
    "duration": 60,
    "start_time": "2021-07-28T08:47:45.735Z"
   },
   {
    "duration": 980,
    "start_time": "2021-07-28T08:47:45.799Z"
   },
   {
    "duration": 46,
    "start_time": "2021-07-28T08:47:46.782Z"
   },
   {
    "duration": 457,
    "start_time": "2021-07-28T08:47:46.831Z"
   },
   {
    "duration": 3,
    "start_time": "2021-07-28T08:47:47.290Z"
   },
   {
    "duration": 467,
    "start_time": "2021-07-28T08:48:17.919Z"
   },
   {
    "duration": 586,
    "start_time": "2021-07-28T08:48:37.096Z"
   },
   {
    "duration": 723,
    "start_time": "2021-07-28T08:48:47.975Z"
   },
   {
    "duration": 17,
    "start_time": "2021-07-28T08:51:49.424Z"
   },
   {
    "duration": 41,
    "start_time": "2021-07-28T08:52:35.983Z"
   },
   {
    "duration": 16,
    "start_time": "2021-07-28T08:52:48.056Z"
   },
   {
    "duration": 8662,
    "start_time": "2021-07-28T08:53:56.364Z"
   },
   {
    "duration": 11,
    "start_time": "2021-07-28T08:54:07.139Z"
   },
   {
    "duration": 300,
    "start_time": "2021-07-28T08:56:50.825Z"
   },
   {
    "duration": 369,
    "start_time": "2021-07-28T08:56:56.856Z"
   },
   {
    "duration": 2040,
    "start_time": "2021-07-28T08:57:04.252Z"
   },
   {
    "duration": 40,
    "start_time": "2021-07-28T08:57:06.294Z"
   },
   {
    "duration": 47,
    "start_time": "2021-07-28T08:57:06.337Z"
   },
   {
    "duration": 24,
    "start_time": "2021-07-28T08:57:06.387Z"
   },
   {
    "duration": 32,
    "start_time": "2021-07-28T08:57:06.413Z"
   },
   {
    "duration": 40,
    "start_time": "2021-07-28T08:57:06.468Z"
   },
   {
    "duration": 26,
    "start_time": "2021-07-28T08:57:06.510Z"
   },
   {
    "duration": 46,
    "start_time": "2021-07-28T08:57:06.539Z"
   },
   {
    "duration": 18,
    "start_time": "2021-07-28T08:57:06.587Z"
   },
   {
    "duration": 26,
    "start_time": "2021-07-28T08:57:06.607Z"
   },
   {
    "duration": 47,
    "start_time": "2021-07-28T08:57:06.635Z"
   },
   {
    "duration": 15,
    "start_time": "2021-07-28T08:57:06.684Z"
   },
   {
    "duration": 141,
    "start_time": "2021-07-28T08:57:06.702Z"
   },
   {
    "duration": 52,
    "start_time": "2021-07-28T08:57:06.846Z"
   },
   {
    "duration": 80,
    "start_time": "2021-07-28T08:57:06.900Z"
   },
   {
    "duration": 135,
    "start_time": "2021-07-28T08:57:06.983Z"
   },
   {
    "duration": 34,
    "start_time": "2021-07-28T08:57:07.120Z"
   },
   {
    "duration": 16,
    "start_time": "2021-07-28T08:57:07.157Z"
   },
   {
    "duration": 19,
    "start_time": "2021-07-28T08:57:07.176Z"
   },
   {
    "duration": 6,
    "start_time": "2021-07-28T08:57:07.197Z"
   },
   {
    "duration": 75,
    "start_time": "2021-07-28T08:57:07.205Z"
   },
   {
    "duration": 7,
    "start_time": "2021-07-28T08:57:07.282Z"
   },
   {
    "duration": 36,
    "start_time": "2021-07-28T08:57:07.293Z"
   },
   {
    "duration": 5,
    "start_time": "2021-07-28T08:57:07.332Z"
   },
   {
    "duration": 65,
    "start_time": "2021-07-28T08:57:07.339Z"
   },
   {
    "duration": 19,
    "start_time": "2021-07-28T08:57:07.407Z"
   },
   {
    "duration": 55,
    "start_time": "2021-07-28T08:57:07.428Z"
   },
   {
    "duration": 848,
    "start_time": "2021-07-28T08:57:07.486Z"
   },
   {
    "duration": 48,
    "start_time": "2021-07-28T08:57:08.337Z"
   },
   {
    "duration": 731,
    "start_time": "2021-07-28T08:57:08.387Z"
   },
   {
    "duration": 11,
    "start_time": "2021-07-28T08:57:09.120Z"
   },
   {
    "duration": 506,
    "start_time": "2021-07-28T08:57:09.134Z"
   },
   {
    "duration": -4037,
    "start_time": "2021-07-28T08:57:13.680Z"
   },
   {
    "duration": 2040,
    "start_time": "2021-07-28T09:02:27.137Z"
   },
   {
    "duration": 41,
    "start_time": "2021-07-28T09:02:29.180Z"
   },
   {
    "duration": 63,
    "start_time": "2021-07-28T09:02:29.225Z"
   },
   {
    "duration": 24,
    "start_time": "2021-07-28T09:02:29.292Z"
   },
   {
    "duration": 62,
    "start_time": "2021-07-28T09:02:29.318Z"
   },
   {
    "duration": 38,
    "start_time": "2021-07-28T09:02:29.383Z"
   },
   {
    "duration": 53,
    "start_time": "2021-07-28T09:02:29.424Z"
   },
   {
    "duration": 21,
    "start_time": "2021-07-28T09:02:29.483Z"
   },
   {
    "duration": 37,
    "start_time": "2021-07-28T09:02:29.507Z"
   },
   {
    "duration": 43,
    "start_time": "2021-07-28T09:02:29.547Z"
   },
   {
    "duration": 23,
    "start_time": "2021-07-28T09:02:29.593Z"
   },
   {
    "duration": 51,
    "start_time": "2021-07-28T09:02:29.619Z"
   },
   {
    "duration": 129,
    "start_time": "2021-07-28T09:02:29.674Z"
   },
   {
    "duration": 46,
    "start_time": "2021-07-28T09:02:29.806Z"
   },
   {
    "duration": 81,
    "start_time": "2021-07-28T09:02:29.854Z"
   },
   {
    "duration": 149,
    "start_time": "2021-07-28T09:02:29.938Z"
   },
   {
    "duration": 33,
    "start_time": "2021-07-28T09:02:30.089Z"
   },
   {
    "duration": 9,
    "start_time": "2021-07-28T09:02:30.125Z"
   },
   {
    "duration": 43,
    "start_time": "2021-07-28T09:02:30.136Z"
   },
   {
    "duration": 7,
    "start_time": "2021-07-28T09:02:30.181Z"
   },
   {
    "duration": 51,
    "start_time": "2021-07-28T09:02:30.190Z"
   },
   {
    "duration": 33,
    "start_time": "2021-07-28T09:02:30.243Z"
   },
   {
    "duration": 49,
    "start_time": "2021-07-28T09:02:30.281Z"
   },
   {
    "duration": 34,
    "start_time": "2021-07-28T09:02:30.333Z"
   },
   {
    "duration": 68,
    "start_time": "2021-07-28T09:02:30.369Z"
   },
   {
    "duration": 831,
    "start_time": "2021-07-28T09:02:30.439Z"
   },
   {
    "duration": -3937,
    "start_time": "2021-07-28T09:02:35.209Z"
   },
   {
    "duration": -3949,
    "start_time": "2021-07-28T09:02:35.223Z"
   },
   {
    "duration": -3956,
    "start_time": "2021-07-28T09:02:35.231Z"
   },
   {
    "duration": -3959,
    "start_time": "2021-07-28T09:02:35.235Z"
   },
   {
    "duration": -3961,
    "start_time": "2021-07-28T09:02:35.239Z"
   },
   {
    "duration": -3967,
    "start_time": "2021-07-28T09:02:35.246Z"
   },
   {
    "duration": -3968,
    "start_time": "2021-07-28T09:02:35.249Z"
   },
   {
    "duration": 1986,
    "start_time": "2021-07-28T09:03:20.287Z"
   },
   {
    "duration": 41,
    "start_time": "2021-07-28T09:03:22.276Z"
   },
   {
    "duration": 56,
    "start_time": "2021-07-28T09:03:22.320Z"
   },
   {
    "duration": 21,
    "start_time": "2021-07-28T09:03:22.379Z"
   },
   {
    "duration": 30,
    "start_time": "2021-07-28T09:03:22.403Z"
   },
   {
    "duration": 63,
    "start_time": "2021-07-28T09:03:22.435Z"
   },
   {
    "duration": 26,
    "start_time": "2021-07-28T09:03:22.500Z"
   },
   {
    "duration": 49,
    "start_time": "2021-07-28T09:03:22.529Z"
   },
   {
    "duration": 17,
    "start_time": "2021-07-28T09:03:22.581Z"
   },
   {
    "duration": 20,
    "start_time": "2021-07-28T09:03:22.600Z"
   },
   {
    "duration": 58,
    "start_time": "2021-07-28T09:03:22.622Z"
   },
   {
    "duration": 10,
    "start_time": "2021-07-28T09:03:22.682Z"
   },
   {
    "duration": 127,
    "start_time": "2021-07-28T09:03:22.695Z"
   },
   {
    "duration": 54,
    "start_time": "2021-07-28T09:03:22.824Z"
   },
   {
    "duration": 72,
    "start_time": "2021-07-28T09:03:22.880Z"
   },
   {
    "duration": 134,
    "start_time": "2021-07-28T09:03:22.954Z"
   },
   {
    "duration": 31,
    "start_time": "2021-07-28T09:03:23.091Z"
   },
   {
    "duration": 8,
    "start_time": "2021-07-28T09:03:23.124Z"
   },
   {
    "duration": 41,
    "start_time": "2021-07-28T09:03:23.134Z"
   },
   {
    "duration": 6,
    "start_time": "2021-07-28T09:03:23.177Z"
   },
   {
    "duration": 45,
    "start_time": "2021-07-28T09:03:23.185Z"
   },
   {
    "duration": 6,
    "start_time": "2021-07-28T09:03:23.232Z"
   },
   {
    "duration": 32,
    "start_time": "2021-07-28T09:03:23.268Z"
   },
   {
    "duration": 6,
    "start_time": "2021-07-28T09:03:23.302Z"
   },
   {
    "duration": 62,
    "start_time": "2021-07-28T09:03:23.310Z"
   },
   {
    "duration": 3,
    "start_time": "2021-07-28T09:03:23.374Z"
   },
   {
    "duration": 406,
    "start_time": "2021-07-28T09:03:23.380Z"
   },
   {
    "duration": -3931,
    "start_time": "2021-07-28T09:03:27.719Z"
   },
   {
    "duration": -3933,
    "start_time": "2021-07-28T09:03:27.722Z"
   },
   {
    "duration": -3940,
    "start_time": "2021-07-28T09:03:27.731Z"
   },
   {
    "duration": -3943,
    "start_time": "2021-07-28T09:03:27.735Z"
   },
   {
    "duration": -3944,
    "start_time": "2021-07-28T09:03:27.737Z"
   },
   {
    "duration": -3946,
    "start_time": "2021-07-28T09:03:27.740Z"
   },
   {
    "duration": 1999,
    "start_time": "2021-07-28T09:03:46.822Z"
   },
   {
    "duration": 42,
    "start_time": "2021-07-28T09:03:48.824Z"
   },
   {
    "duration": 43,
    "start_time": "2021-07-28T09:03:48.870Z"
   },
   {
    "duration": 25,
    "start_time": "2021-07-28T09:03:48.916Z"
   },
   {
    "duration": 56,
    "start_time": "2021-07-28T09:03:48.943Z"
   },
   {
    "duration": 74,
    "start_time": "2021-07-28T09:03:49.002Z"
   },
   {
    "duration": 27,
    "start_time": "2021-07-28T09:03:49.079Z"
   },
   {
    "duration": 21,
    "start_time": "2021-07-28T09:03:49.109Z"
   },
   {
    "duration": 49,
    "start_time": "2021-07-28T09:03:49.133Z"
   },
   {
    "duration": 21,
    "start_time": "2021-07-28T09:03:49.184Z"
   },
   {
    "duration": 24,
    "start_time": "2021-07-28T09:03:49.208Z"
   },
   {
    "duration": 11,
    "start_time": "2021-07-28T09:03:49.268Z"
   },
   {
    "duration": 129,
    "start_time": "2021-07-28T09:03:49.282Z"
   },
   {
    "duration": 59,
    "start_time": "2021-07-28T09:03:49.413Z"
   },
   {
    "duration": 73,
    "start_time": "2021-07-28T09:03:49.474Z"
   },
   {
    "duration": 138,
    "start_time": "2021-07-28T09:03:49.549Z"
   },
   {
    "duration": 33,
    "start_time": "2021-07-28T09:03:49.690Z"
   },
   {
    "duration": 9,
    "start_time": "2021-07-28T09:03:49.726Z"
   },
   {
    "duration": 38,
    "start_time": "2021-07-28T09:03:49.737Z"
   },
   {
    "duration": 8,
    "start_time": "2021-07-28T09:03:49.777Z"
   },
   {
    "duration": 46,
    "start_time": "2021-07-28T09:03:49.787Z"
   },
   {
    "duration": 35,
    "start_time": "2021-07-28T09:03:49.835Z"
   },
   {
    "duration": 35,
    "start_time": "2021-07-28T09:03:49.875Z"
   },
   {
    "duration": 6,
    "start_time": "2021-07-28T09:03:49.912Z"
   },
   {
    "duration": 68,
    "start_time": "2021-07-28T09:03:49.920Z"
   },
   {
    "duration": 3,
    "start_time": "2021-07-28T09:03:49.990Z"
   },
   {
    "duration": 33,
    "start_time": "2021-07-28T09:03:49.995Z"
   },
   {
    "duration": 865,
    "start_time": "2021-07-28T09:03:50.030Z"
   },
   {
    "duration": 74,
    "start_time": "2021-07-28T09:03:50.897Z"
   },
   {
    "duration": 711,
    "start_time": "2021-07-28T09:03:50.974Z"
   },
   {
    "duration": 13,
    "start_time": "2021-07-28T09:03:51.688Z"
   },
   {
    "duration": 14,
    "start_time": "2021-07-28T09:03:51.704Z"
   },
   {
    "duration": 122,
    "start_time": "2021-07-28T09:03:51.721Z"
   },
   {
    "duration": 84,
    "start_time": "2021-07-28T09:04:48.245Z"
   },
   {
    "duration": 2631,
    "start_time": "2021-07-28T14:53:30.029Z"
   },
   {
    "duration": 28,
    "start_time": "2021-07-28T14:53:32.662Z"
   },
   {
    "duration": 31,
    "start_time": "2021-07-28T14:53:32.692Z"
   },
   {
    "duration": 14,
    "start_time": "2021-07-28T14:53:32.725Z"
   },
   {
    "duration": 47,
    "start_time": "2021-07-28T14:53:32.741Z"
   },
   {
    "duration": 28,
    "start_time": "2021-07-28T14:53:32.790Z"
   },
   {
    "duration": 22,
    "start_time": "2021-07-28T14:53:32.819Z"
   },
   {
    "duration": 14,
    "start_time": "2021-07-28T14:53:32.843Z"
   },
   {
    "duration": 18,
    "start_time": "2021-07-28T14:53:32.886Z"
   },
   {
    "duration": 11,
    "start_time": "2021-07-28T14:53:32.906Z"
   },
   {
    "duration": 15,
    "start_time": "2021-07-28T14:53:32.919Z"
   },
   {
    "duration": 8,
    "start_time": "2021-07-28T14:53:32.935Z"
   },
   {
    "duration": 110,
    "start_time": "2021-07-28T14:53:32.944Z"
   },
   {
    "duration": 41,
    "start_time": "2021-07-28T14:53:33.056Z"
   },
   {
    "duration": 51,
    "start_time": "2021-07-28T14:53:33.099Z"
   },
   {
    "duration": 106,
    "start_time": "2021-07-28T14:53:33.151Z"
   },
   {
    "duration": 31,
    "start_time": "2021-07-28T14:53:33.258Z"
   },
   {
    "duration": 7,
    "start_time": "2021-07-28T14:53:33.291Z"
   },
   {
    "duration": 10,
    "start_time": "2021-07-28T14:53:33.300Z"
   },
   {
    "duration": 4,
    "start_time": "2021-07-28T14:53:33.311Z"
   },
   {
    "duration": 27,
    "start_time": "2021-07-28T14:53:33.317Z"
   },
   {
    "duration": 5,
    "start_time": "2021-07-28T14:53:33.345Z"
   },
   {
    "duration": 50,
    "start_time": "2021-07-28T14:53:33.351Z"
   },
   {
    "duration": 3,
    "start_time": "2021-07-28T14:53:33.403Z"
   },
   {
    "duration": 25,
    "start_time": "2021-07-28T14:53:33.408Z"
   },
   {
    "duration": 2,
    "start_time": "2021-07-28T14:53:33.435Z"
   },
   {
    "duration": 20,
    "start_time": "2021-07-28T14:53:33.440Z"
   },
   {
    "duration": 473,
    "start_time": "2021-07-28T14:53:33.462Z"
   },
   {
    "duration": 30,
    "start_time": "2021-07-28T14:53:33.936Z"
   },
   {
    "duration": 468,
    "start_time": "2021-07-28T14:53:33.967Z"
   },
   {
    "duration": 8,
    "start_time": "2021-07-28T14:53:34.437Z"
   },
   {
    "duration": 8,
    "start_time": "2021-07-28T14:53:34.446Z"
   },
   {
    "duration": 88,
    "start_time": "2021-07-28T14:53:34.455Z"
   },
   {
    "duration": 63,
    "start_time": "2021-07-28T14:53:34.545Z"
   },
   {
    "duration": 4,
    "start_time": "2021-07-28T14:58:31.763Z"
   },
   {
    "duration": 240,
    "start_time": "2021-07-28T15:03:38.688Z"
   },
   {
    "duration": 600,
    "start_time": "2021-07-28T15:04:01.309Z"
   },
   {
    "duration": 329,
    "start_time": "2021-07-28T15:05:10.159Z"
   },
   {
    "duration": 1559,
    "start_time": "2021-07-28T15:05:16.158Z"
   },
   {
    "duration": 28,
    "start_time": "2021-07-28T15:05:17.719Z"
   },
   {
    "duration": 30,
    "start_time": "2021-07-28T15:05:17.751Z"
   },
   {
    "duration": 13,
    "start_time": "2021-07-28T15:05:17.782Z"
   },
   {
    "duration": 22,
    "start_time": "2021-07-28T15:05:17.796Z"
   },
   {
    "duration": 29,
    "start_time": "2021-07-28T15:05:17.819Z"
   },
   {
    "duration": 43,
    "start_time": "2021-07-28T15:05:17.850Z"
   },
   {
    "duration": 14,
    "start_time": "2021-07-28T15:05:17.896Z"
   },
   {
    "duration": 11,
    "start_time": "2021-07-28T15:05:17.912Z"
   },
   {
    "duration": 13,
    "start_time": "2021-07-28T15:05:17.925Z"
   },
   {
    "duration": 53,
    "start_time": "2021-07-28T15:05:17.939Z"
   },
   {
    "duration": 8,
    "start_time": "2021-07-28T15:05:17.993Z"
   },
   {
    "duration": 92,
    "start_time": "2021-07-28T15:05:18.003Z"
   },
   {
    "duration": 34,
    "start_time": "2021-07-28T15:05:18.097Z"
   },
   {
    "duration": 60,
    "start_time": "2021-07-28T15:05:18.132Z"
   },
   {
    "duration": 90,
    "start_time": "2021-07-28T15:05:18.194Z"
   },
   {
    "duration": 21,
    "start_time": "2021-07-28T15:05:18.286Z"
   },
   {
    "duration": 5,
    "start_time": "2021-07-28T15:05:18.308Z"
   },
   {
    "duration": 12,
    "start_time": "2021-07-28T15:05:18.315Z"
   },
   {
    "duration": 4,
    "start_time": "2021-07-28T15:05:18.328Z"
   },
   {
    "duration": 28,
    "start_time": "2021-07-28T15:05:18.333Z"
   },
   {
    "duration": 5,
    "start_time": "2021-07-28T15:05:18.385Z"
   },
   {
    "duration": 20,
    "start_time": "2021-07-28T15:05:18.391Z"
   },
   {
    "duration": 4,
    "start_time": "2021-07-28T15:05:18.413Z"
   },
   {
    "duration": 23,
    "start_time": "2021-07-28T15:05:18.419Z"
   },
   {
    "duration": 2,
    "start_time": "2021-07-28T15:05:18.446Z"
   },
   {
    "duration": 21,
    "start_time": "2021-07-28T15:05:18.484Z"
   },
   {
    "duration": 421,
    "start_time": "2021-07-28T15:05:18.506Z"
   },
   {
    "duration": 33,
    "start_time": "2021-07-28T15:05:18.929Z"
   },
   {
    "duration": 519,
    "start_time": "2021-07-28T15:05:18.963Z"
   },
   {
    "duration": -61,
    "start_time": "2021-07-28T15:05:19.545Z"
   },
   {
    "duration": -65,
    "start_time": "2021-07-28T15:05:19.550Z"
   },
   {
    "duration": -109,
    "start_time": "2021-07-28T15:05:19.595Z"
   },
   {
    "duration": -115,
    "start_time": "2021-07-28T15:05:19.602Z"
   },
   {
    "duration": -119,
    "start_time": "2021-07-28T15:05:19.607Z"
   },
   {
    "duration": 485,
    "start_time": "2021-07-28T15:06:09.683Z"
   },
   {
    "duration": 310,
    "start_time": "2021-07-28T15:06:37.508Z"
   },
   {
    "duration": 1514,
    "start_time": "2021-07-28T15:07:11.375Z"
   },
   {
    "duration": 28,
    "start_time": "2021-07-28T15:07:12.894Z"
   },
   {
    "duration": 29,
    "start_time": "2021-07-28T15:07:12.924Z"
   },
   {
    "duration": 33,
    "start_time": "2021-07-28T15:07:12.955Z"
   },
   {
    "duration": 24,
    "start_time": "2021-07-28T15:07:12.989Z"
   },
   {
    "duration": 29,
    "start_time": "2021-07-28T15:07:13.015Z"
   },
   {
    "duration": 45,
    "start_time": "2021-07-28T15:07:13.046Z"
   },
   {
    "duration": 15,
    "start_time": "2021-07-28T15:07:13.095Z"
   },
   {
    "duration": 12,
    "start_time": "2021-07-28T15:07:13.112Z"
   },
   {
    "duration": 14,
    "start_time": "2021-07-28T15:07:13.126Z"
   },
   {
    "duration": 55,
    "start_time": "2021-07-28T15:07:13.141Z"
   },
   {
    "duration": 9,
    "start_time": "2021-07-28T15:07:13.198Z"
   },
   {
    "duration": 98,
    "start_time": "2021-07-28T15:07:13.208Z"
   },
   {
    "duration": 34,
    "start_time": "2021-07-28T15:07:13.308Z"
   },
   {
    "duration": 65,
    "start_time": "2021-07-28T15:07:13.344Z"
   },
   {
    "duration": 92,
    "start_time": "2021-07-28T15:07:13.410Z"
   },
   {
    "duration": 22,
    "start_time": "2021-07-28T15:07:13.504Z"
   },
   {
    "duration": 7,
    "start_time": "2021-07-28T15:07:13.528Z"
   },
   {
    "duration": 10,
    "start_time": "2021-07-28T15:07:13.536Z"
   },
   {
    "duration": 4,
    "start_time": "2021-07-28T15:07:13.548Z"
   },
   {
    "duration": 56,
    "start_time": "2021-07-28T15:07:13.554Z"
   },
   {
    "duration": 5,
    "start_time": "2021-07-28T15:07:13.612Z"
   },
   {
    "duration": 20,
    "start_time": "2021-07-28T15:07:13.619Z"
   },
   {
    "duration": 5,
    "start_time": "2021-07-28T15:07:13.641Z"
   },
   {
    "duration": 59,
    "start_time": "2021-07-28T15:07:13.647Z"
   },
   {
    "duration": 2,
    "start_time": "2021-07-28T15:07:13.710Z"
   },
   {
    "duration": 22,
    "start_time": "2021-07-28T15:07:13.714Z"
   },
   {
    "duration": 421,
    "start_time": "2021-07-28T15:07:13.738Z"
   },
   {
    "duration": 37,
    "start_time": "2021-07-28T15:07:14.161Z"
   },
   {
    "duration": 316,
    "start_time": "2021-07-28T15:07:14.200Z"
   },
   {
    "duration": 7,
    "start_time": "2021-07-28T15:07:14.518Z"
   },
   {
    "duration": 9,
    "start_time": "2021-07-28T15:07:14.527Z"
   },
   {
    "duration": 73,
    "start_time": "2021-07-28T15:07:14.537Z"
   },
   {
    "duration": 52,
    "start_time": "2021-07-28T15:07:14.612Z"
   },
   {
    "duration": 574,
    "start_time": "2021-07-28T15:07:14.666Z"
   },
   {
    "duration": 303,
    "start_time": "2021-07-28T15:07:32.574Z"
   },
   {
    "duration": 220,
    "start_time": "2021-07-28T15:07:43.400Z"
   },
   {
    "duration": 215,
    "start_time": "2021-07-28T15:07:55.052Z"
   },
   {
    "duration": 198,
    "start_time": "2021-07-28T15:08:02.060Z"
   },
   {
    "duration": 4511,
    "start_time": "2021-07-28T15:13:29.764Z"
   },
   {
    "duration": 1495,
    "start_time": "2021-07-28T15:13:48.628Z"
   },
   {
    "duration": 28,
    "start_time": "2021-07-28T15:13:50.125Z"
   },
   {
    "duration": 32,
    "start_time": "2021-07-28T15:13:50.155Z"
   },
   {
    "duration": 14,
    "start_time": "2021-07-28T15:13:50.189Z"
   },
   {
    "duration": 23,
    "start_time": "2021-07-28T15:13:50.204Z"
   },
   {
    "duration": 28,
    "start_time": "2021-07-28T15:13:50.229Z"
   },
   {
    "duration": 40,
    "start_time": "2021-07-28T15:13:50.259Z"
   },
   {
    "duration": 14,
    "start_time": "2021-07-28T15:13:50.301Z"
   },
   {
    "duration": 11,
    "start_time": "2021-07-28T15:13:50.317Z"
   },
   {
    "duration": 28,
    "start_time": "2021-07-28T15:13:50.330Z"
   },
   {
    "duration": 33,
    "start_time": "2021-07-28T15:13:50.360Z"
   },
   {
    "duration": 8,
    "start_time": "2021-07-28T15:13:50.395Z"
   },
   {
    "duration": 94,
    "start_time": "2021-07-28T15:13:50.405Z"
   },
   {
    "duration": 33,
    "start_time": "2021-07-28T15:13:50.501Z"
   },
   {
    "duration": 65,
    "start_time": "2021-07-28T15:13:50.536Z"
   },
   {
    "duration": 95,
    "start_time": "2021-07-28T15:13:50.603Z"
   },
   {
    "duration": 22,
    "start_time": "2021-07-28T15:13:50.700Z"
   },
   {
    "duration": 6,
    "start_time": "2021-07-28T15:13:50.724Z"
   },
   {
    "duration": 14,
    "start_time": "2021-07-28T15:13:50.731Z"
   },
   {
    "duration": 5,
    "start_time": "2021-07-28T15:13:50.746Z"
   },
   {
    "duration": 47,
    "start_time": "2021-07-28T15:13:50.753Z"
   },
   {
    "duration": 5,
    "start_time": "2021-07-28T15:13:50.802Z"
   },
   {
    "duration": 26,
    "start_time": "2021-07-28T15:13:50.809Z"
   },
   {
    "duration": 5,
    "start_time": "2021-07-28T15:13:50.836Z"
   },
   {
    "duration": 56,
    "start_time": "2021-07-28T15:13:50.842Z"
   },
   {
    "duration": 3,
    "start_time": "2021-07-28T15:13:50.899Z"
   },
   {
    "duration": 30,
    "start_time": "2021-07-28T15:13:50.905Z"
   },
   {
    "duration": 464,
    "start_time": "2021-07-28T15:13:50.938Z"
   },
   {
    "duration": 33,
    "start_time": "2021-07-28T15:13:51.404Z"
   },
   {
    "duration": 352,
    "start_time": "2021-07-28T15:13:51.439Z"
   },
   {
    "duration": 8,
    "start_time": "2021-07-28T15:13:51.793Z"
   },
   {
    "duration": 10,
    "start_time": "2021-07-28T15:13:51.802Z"
   },
   {
    "duration": 75,
    "start_time": "2021-07-28T15:13:51.813Z"
   },
   {
    "duration": 56,
    "start_time": "2021-07-28T15:13:51.889Z"
   },
   {
    "duration": 4611,
    "start_time": "2021-07-28T15:13:51.947Z"
   },
   {
    "duration": 354,
    "start_time": "2021-07-28T15:15:23.934Z"
   },
   {
    "duration": 353,
    "start_time": "2021-07-28T15:18:22.327Z"
   },
   {
    "duration": 1453,
    "start_time": "2021-07-28T15:18:34.425Z"
   },
   {
    "duration": 28,
    "start_time": "2021-07-28T15:18:35.879Z"
   },
   {
    "duration": 28,
    "start_time": "2021-07-28T15:18:35.908Z"
   },
   {
    "duration": 11,
    "start_time": "2021-07-28T15:18:35.938Z"
   },
   {
    "duration": 40,
    "start_time": "2021-07-28T15:18:35.951Z"
   },
   {
    "duration": 27,
    "start_time": "2021-07-28T15:18:35.992Z"
   },
   {
    "duration": 18,
    "start_time": "2021-07-28T15:18:36.020Z"
   },
   {
    "duration": 14,
    "start_time": "2021-07-28T15:18:36.040Z"
   },
   {
    "duration": 37,
    "start_time": "2021-07-28T15:18:36.055Z"
   },
   {
    "duration": 15,
    "start_time": "2021-07-28T15:18:36.094Z"
   },
   {
    "duration": 14,
    "start_time": "2021-07-28T15:18:36.111Z"
   },
   {
    "duration": 7,
    "start_time": "2021-07-28T15:18:36.127Z"
   },
   {
    "duration": 100,
    "start_time": "2021-07-28T15:18:36.136Z"
   },
   {
    "duration": 35,
    "start_time": "2021-07-28T15:18:36.237Z"
   },
   {
    "duration": 60,
    "start_time": "2021-07-28T15:18:36.273Z"
   },
   {
    "duration": 94,
    "start_time": "2021-07-28T15:18:36.334Z"
   },
   {
    "duration": 21,
    "start_time": "2021-07-28T15:18:36.429Z"
   },
   {
    "duration": 5,
    "start_time": "2021-07-28T15:18:36.451Z"
   },
   {
    "duration": 29,
    "start_time": "2021-07-28T15:18:36.458Z"
   },
   {
    "duration": 4,
    "start_time": "2021-07-28T15:18:36.489Z"
   },
   {
    "duration": 26,
    "start_time": "2021-07-28T15:18:36.494Z"
   },
   {
    "duration": 4,
    "start_time": "2021-07-28T15:18:36.522Z"
   },
   {
    "duration": 19,
    "start_time": "2021-07-28T15:18:36.528Z"
   },
   {
    "duration": 3,
    "start_time": "2021-07-28T15:18:36.549Z"
   },
   {
    "duration": 47,
    "start_time": "2021-07-28T15:18:36.553Z"
   },
   {
    "duration": 2,
    "start_time": "2021-07-28T15:18:36.602Z"
   },
   {
    "duration": 21,
    "start_time": "2021-07-28T15:18:36.606Z"
   },
   {
    "duration": 419,
    "start_time": "2021-07-28T15:18:36.628Z"
   },
   {
    "duration": 37,
    "start_time": "2021-07-28T15:18:37.048Z"
   },
   {
    "duration": 325,
    "start_time": "2021-07-28T15:18:37.087Z"
   },
   {
    "duration": 8,
    "start_time": "2021-07-28T15:18:37.414Z"
   },
   {
    "duration": 8,
    "start_time": "2021-07-28T15:18:37.423Z"
   },
   {
    "duration": 72,
    "start_time": "2021-07-28T15:18:37.433Z"
   },
   {
    "duration": 49,
    "start_time": "2021-07-28T15:18:37.507Z"
   },
   {
    "duration": 420,
    "start_time": "2021-07-28T15:18:37.557Z"
   },
   {
    "duration": 219,
    "start_time": "2021-07-28T15:21:14.440Z"
   },
   {
    "duration": 1481,
    "start_time": "2021-07-28T15:21:25.031Z"
   },
   {
    "duration": 30,
    "start_time": "2021-07-28T15:21:26.514Z"
   },
   {
    "duration": 31,
    "start_time": "2021-07-28T15:21:26.546Z"
   },
   {
    "duration": 13,
    "start_time": "2021-07-28T15:21:26.579Z"
   },
   {
    "duration": 23,
    "start_time": "2021-07-28T15:21:26.593Z"
   },
   {
    "duration": 27,
    "start_time": "2021-07-28T15:21:26.618Z"
   },
   {
    "duration": 38,
    "start_time": "2021-07-28T15:21:26.647Z"
   },
   {
    "duration": 14,
    "start_time": "2021-07-28T15:21:26.688Z"
   },
   {
    "duration": 10,
    "start_time": "2021-07-28T15:21:26.704Z"
   },
   {
    "duration": 13,
    "start_time": "2021-07-28T15:21:26.716Z"
   },
   {
    "duration": 14,
    "start_time": "2021-07-28T15:21:26.730Z"
   },
   {
    "duration": 40,
    "start_time": "2021-07-28T15:21:26.746Z"
   },
   {
    "duration": 76,
    "start_time": "2021-07-28T15:21:26.787Z"
   },
   {
    "duration": 48,
    "start_time": "2021-07-28T15:21:26.865Z"
   },
   {
    "duration": 47,
    "start_time": "2021-07-28T15:21:26.915Z"
   },
   {
    "duration": 93,
    "start_time": "2021-07-28T15:21:26.964Z"
   },
   {
    "duration": 29,
    "start_time": "2021-07-28T15:21:27.059Z"
   },
   {
    "duration": 5,
    "start_time": "2021-07-28T15:21:27.090Z"
   },
   {
    "duration": 12,
    "start_time": "2021-07-28T15:21:27.097Z"
   },
   {
    "duration": 4,
    "start_time": "2021-07-28T15:21:27.111Z"
   },
   {
    "duration": 27,
    "start_time": "2021-07-28T15:21:27.117Z"
   },
   {
    "duration": 5,
    "start_time": "2021-07-28T15:21:27.145Z"
   },
   {
    "duration": 51,
    "start_time": "2021-07-28T15:21:27.153Z"
   },
   {
    "duration": 4,
    "start_time": "2021-07-28T15:21:27.206Z"
   },
   {
    "duration": 27,
    "start_time": "2021-07-28T15:21:27.212Z"
   },
   {
    "duration": 1,
    "start_time": "2021-07-28T15:21:27.241Z"
   },
   {
    "duration": 46,
    "start_time": "2021-07-28T15:21:27.244Z"
   },
   {
    "duration": 423,
    "start_time": "2021-07-28T15:21:27.292Z"
   },
   {
    "duration": 30,
    "start_time": "2021-07-28T15:21:27.717Z"
   },
   {
    "duration": 337,
    "start_time": "2021-07-28T15:21:27.749Z"
   },
   {
    "duration": 10,
    "start_time": "2021-07-28T15:21:28.088Z"
   },
   {
    "duration": 9,
    "start_time": "2021-07-28T15:21:28.100Z"
   },
   {
    "duration": 75,
    "start_time": "2021-07-28T15:21:28.111Z"
   },
   {
    "duration": 52,
    "start_time": "2021-07-28T15:21:28.188Z"
   },
   {
    "duration": 261,
    "start_time": "2021-07-28T15:21:28.242Z"
   },
   {
    "duration": 183,
    "start_time": "2021-07-28T15:21:51.593Z"
   },
   {
    "duration": 773,
    "start_time": "2021-07-28T15:22:21.218Z"
   },
   {
    "duration": 1466,
    "start_time": "2021-07-28T15:22:53.919Z"
   },
   {
    "duration": 27,
    "start_time": "2021-07-28T15:22:55.387Z"
   },
   {
    "duration": 29,
    "start_time": "2021-07-28T15:22:55.415Z"
   },
   {
    "duration": 12,
    "start_time": "2021-07-28T15:22:55.446Z"
   },
   {
    "duration": 42,
    "start_time": "2021-07-28T15:22:55.460Z"
   },
   {
    "duration": 28,
    "start_time": "2021-07-28T15:22:55.504Z"
   },
   {
    "duration": 19,
    "start_time": "2021-07-28T15:22:55.534Z"
   },
   {
    "duration": 16,
    "start_time": "2021-07-28T15:22:55.585Z"
   },
   {
    "duration": 12,
    "start_time": "2021-07-28T15:22:55.604Z"
   },
   {
    "duration": 13,
    "start_time": "2021-07-28T15:22:55.618Z"
   },
   {
    "duration": 51,
    "start_time": "2021-07-28T15:22:55.633Z"
   },
   {
    "duration": 8,
    "start_time": "2021-07-28T15:22:55.686Z"
   },
   {
    "duration": 76,
    "start_time": "2021-07-28T15:22:55.696Z"
   },
   {
    "duration": 33,
    "start_time": "2021-07-28T15:22:55.785Z"
   },
   {
    "duration": 64,
    "start_time": "2021-07-28T15:22:55.820Z"
   },
   {
    "duration": 81,
    "start_time": "2021-07-28T15:22:55.886Z"
   },
   {
    "duration": 33,
    "start_time": "2021-07-28T15:22:55.969Z"
   },
   {
    "duration": 6,
    "start_time": "2021-07-28T15:22:56.003Z"
   },
   {
    "duration": 12,
    "start_time": "2021-07-28T15:22:56.011Z"
   },
   {
    "duration": 4,
    "start_time": "2021-07-28T15:22:56.025Z"
   },
   {
    "duration": 26,
    "start_time": "2021-07-28T15:22:56.031Z"
   },
   {
    "duration": 28,
    "start_time": "2021-07-28T15:22:56.059Z"
   },
   {
    "duration": 21,
    "start_time": "2021-07-28T15:22:56.089Z"
   },
   {
    "duration": 4,
    "start_time": "2021-07-28T15:22:56.112Z"
   },
   {
    "duration": 25,
    "start_time": "2021-07-28T15:22:56.117Z"
   },
   {
    "duration": 2,
    "start_time": "2021-07-28T15:22:56.144Z"
   },
   {
    "duration": 50,
    "start_time": "2021-07-28T15:22:56.149Z"
   },
   {
    "duration": 423,
    "start_time": "2021-07-28T15:22:56.201Z"
   },
   {
    "duration": 30,
    "start_time": "2021-07-28T15:22:56.626Z"
   },
   {
    "duration": 320,
    "start_time": "2021-07-28T15:22:56.657Z"
   },
   {
    "duration": 8,
    "start_time": "2021-07-28T15:22:56.984Z"
   },
   {
    "duration": 10,
    "start_time": "2021-07-28T15:22:56.994Z"
   },
   {
    "duration": 54,
    "start_time": "2021-07-28T15:22:57.006Z"
   },
   {
    "duration": 107,
    "start_time": "2021-07-28T15:22:57.078Z"
   },
   {
    "duration": 437,
    "start_time": "2021-07-28T15:22:57.187Z"
   },
   {
    "duration": 650,
    "start_time": "2021-07-28T15:23:24.994Z"
   },
   {
    "duration": 761,
    "start_time": "2021-07-28T15:23:56.383Z"
   },
   {
    "duration": 702,
    "start_time": "2021-07-28T15:24:14.039Z"
   },
   {
    "duration": 355,
    "start_time": "2021-07-28T15:25:10.537Z"
   },
   {
    "duration": 63,
    "start_time": "2021-07-28T15:25:38.164Z"
   },
   {
    "duration": 797,
    "start_time": "2021-07-28T15:25:43.590Z"
   },
   {
    "duration": 346,
    "start_time": "2021-07-28T15:28:44.574Z"
   },
   {
    "duration": 208,
    "start_time": "2021-07-28T15:29:08.366Z"
   },
   {
    "duration": 277,
    "start_time": "2021-07-28T15:29:33.962Z"
   },
   {
    "duration": 434,
    "start_time": "2021-07-28T15:29:50.586Z"
   },
   {
    "duration": 616,
    "start_time": "2021-07-28T15:30:46.891Z"
   },
   {
    "duration": 779,
    "start_time": "2021-07-28T15:31:03.451Z"
   },
   {
    "duration": 819,
    "start_time": "2021-07-28T15:32:00.380Z"
   },
   {
    "duration": 1606,
    "start_time": "2021-07-28T15:33:26.014Z"
   },
   {
    "duration": 30,
    "start_time": "2021-07-28T15:33:27.622Z"
   },
   {
    "duration": 32,
    "start_time": "2021-07-28T15:33:27.656Z"
   },
   {
    "duration": 14,
    "start_time": "2021-07-28T15:33:27.690Z"
   },
   {
    "duration": 22,
    "start_time": "2021-07-28T15:33:27.706Z"
   },
   {
    "duration": 30,
    "start_time": "2021-07-28T15:33:27.729Z"
   },
   {
    "duration": 41,
    "start_time": "2021-07-28T15:33:27.761Z"
   },
   {
    "duration": 14,
    "start_time": "2021-07-28T15:33:27.804Z"
   },
   {
    "duration": 13,
    "start_time": "2021-07-28T15:33:27.820Z"
   },
   {
    "duration": 50,
    "start_time": "2021-07-28T15:33:27.835Z"
   },
   {
    "duration": 15,
    "start_time": "2021-07-28T15:33:27.887Z"
   },
   {
    "duration": 9,
    "start_time": "2021-07-28T15:33:27.905Z"
   },
   {
    "duration": 105,
    "start_time": "2021-07-28T15:33:27.916Z"
   },
   {
    "duration": 41,
    "start_time": "2021-07-28T15:33:28.023Z"
   },
   {
    "duration": 65,
    "start_time": "2021-07-28T15:33:28.066Z"
   },
   {
    "duration": 111,
    "start_time": "2021-07-28T15:33:28.133Z"
   },
   {
    "duration": 24,
    "start_time": "2021-07-28T15:33:28.246Z"
   },
   {
    "duration": 17,
    "start_time": "2021-07-28T15:33:28.272Z"
   },
   {
    "duration": 13,
    "start_time": "2021-07-28T15:33:28.291Z"
   },
   {
    "duration": 5,
    "start_time": "2021-07-28T15:33:28.305Z"
   },
   {
    "duration": 32,
    "start_time": "2021-07-28T15:33:28.312Z"
   },
   {
    "duration": 38,
    "start_time": "2021-07-28T15:33:28.347Z"
   },
   {
    "duration": 30,
    "start_time": "2021-07-28T15:33:28.388Z"
   },
   {
    "duration": 5,
    "start_time": "2021-07-28T15:33:28.420Z"
   },
   {
    "duration": 60,
    "start_time": "2021-07-28T15:33:28.427Z"
   },
   {
    "duration": 2,
    "start_time": "2021-07-28T15:33:28.489Z"
   },
   {
    "duration": 24,
    "start_time": "2021-07-28T15:33:28.493Z"
   },
   {
    "duration": 443,
    "start_time": "2021-07-28T15:33:28.519Z"
   },
   {
    "duration": 45,
    "start_time": "2021-07-28T15:33:28.964Z"
   },
   {
    "duration": 375,
    "start_time": "2021-07-28T15:33:29.011Z"
   },
   {
    "duration": 9,
    "start_time": "2021-07-28T15:33:29.389Z"
   },
   {
    "duration": 15,
    "start_time": "2021-07-28T15:33:29.400Z"
   },
   {
    "duration": 74,
    "start_time": "2021-07-28T15:33:29.417Z"
   },
   {
    "duration": 73,
    "start_time": "2021-07-28T15:33:29.493Z"
   },
   {
    "duration": 1041,
    "start_time": "2021-07-28T15:33:29.568Z"
   },
   {
    "duration": 380,
    "start_time": "2021-07-28T15:34:24.387Z"
   },
   {
    "duration": 377,
    "start_time": "2021-07-28T15:35:18.429Z"
   },
   {
    "duration": 1501,
    "start_time": "2021-07-28T15:35:31.432Z"
   },
   {
    "duration": 30,
    "start_time": "2021-07-28T15:35:32.935Z"
   },
   {
    "duration": 35,
    "start_time": "2021-07-28T15:35:32.967Z"
   },
   {
    "duration": 15,
    "start_time": "2021-07-28T15:35:33.004Z"
   },
   {
    "duration": 23,
    "start_time": "2021-07-28T15:35:33.020Z"
   },
   {
    "duration": 50,
    "start_time": "2021-07-28T15:35:33.045Z"
   },
   {
    "duration": 20,
    "start_time": "2021-07-28T15:35:33.096Z"
   },
   {
    "duration": 13,
    "start_time": "2021-07-28T15:35:33.119Z"
   },
   {
    "duration": 11,
    "start_time": "2021-07-28T15:35:33.134Z"
   },
   {
    "duration": 52,
    "start_time": "2021-07-28T15:35:33.148Z"
   },
   {
    "duration": 21,
    "start_time": "2021-07-28T15:35:33.202Z"
   },
   {
    "duration": 8,
    "start_time": "2021-07-28T15:35:33.225Z"
   },
   {
    "duration": 103,
    "start_time": "2021-07-28T15:35:33.235Z"
   },
   {
    "duration": 47,
    "start_time": "2021-07-28T15:35:33.340Z"
   },
   {
    "duration": 50,
    "start_time": "2021-07-28T15:35:33.389Z"
   },
   {
    "duration": 108,
    "start_time": "2021-07-28T15:35:33.440Z"
   },
   {
    "duration": 22,
    "start_time": "2021-07-28T15:35:33.550Z"
   },
   {
    "duration": 14,
    "start_time": "2021-07-28T15:35:33.574Z"
   },
   {
    "duration": 13,
    "start_time": "2021-07-28T15:35:33.590Z"
   },
   {
    "duration": 5,
    "start_time": "2021-07-28T15:35:33.604Z"
   },
   {
    "duration": 27,
    "start_time": "2021-07-28T15:35:33.611Z"
   },
   {
    "duration": 5,
    "start_time": "2021-07-28T15:35:33.640Z"
   },
   {
    "duration": 52,
    "start_time": "2021-07-28T15:35:33.649Z"
   },
   {
    "duration": 5,
    "start_time": "2021-07-28T15:35:33.704Z"
   },
   {
    "duration": 31,
    "start_time": "2021-07-28T15:35:33.711Z"
   },
   {
    "duration": 3,
    "start_time": "2021-07-28T15:35:33.744Z"
   },
   {
    "duration": 47,
    "start_time": "2021-07-28T15:35:33.749Z"
   },
   {
    "duration": 448,
    "start_time": "2021-07-28T15:35:33.798Z"
   },
   {
    "duration": 41,
    "start_time": "2021-07-28T15:35:34.247Z"
   },
   {
    "duration": 356,
    "start_time": "2021-07-28T15:35:34.289Z"
   },
   {
    "duration": 9,
    "start_time": "2021-07-28T15:35:34.646Z"
   },
   {
    "duration": 9,
    "start_time": "2021-07-28T15:35:34.657Z"
   },
   {
    "duration": 66,
    "start_time": "2021-07-28T15:35:34.668Z"
   },
   {
    "duration": 73,
    "start_time": "2021-07-28T15:35:34.737Z"
   },
   {
    "duration": 472,
    "start_time": "2021-07-28T15:35:34.812Z"
   },
   {
    "duration": 682,
    "start_time": "2021-07-28T15:36:07.258Z"
   },
   {
    "duration": 474,
    "start_time": "2021-07-28T15:38:28.690Z"
   },
   {
    "duration": 1504,
    "start_time": "2021-07-28T15:38:35.331Z"
   },
   {
    "duration": 29,
    "start_time": "2021-07-28T15:38:36.837Z"
   },
   {
    "duration": 32,
    "start_time": "2021-07-28T15:38:36.868Z"
   },
   {
    "duration": 18,
    "start_time": "2021-07-28T15:38:36.902Z"
   },
   {
    "duration": 37,
    "start_time": "2021-07-28T15:38:36.922Z"
   },
   {
    "duration": 57,
    "start_time": "2021-07-28T15:38:36.961Z"
   },
   {
    "duration": 18,
    "start_time": "2021-07-28T15:38:37.020Z"
   },
   {
    "duration": 14,
    "start_time": "2021-07-28T15:38:37.041Z"
   },
   {
    "duration": 37,
    "start_time": "2021-07-28T15:38:37.057Z"
   },
   {
    "duration": 14,
    "start_time": "2021-07-28T15:38:37.096Z"
   },
   {
    "duration": 15,
    "start_time": "2021-07-28T15:38:37.112Z"
   },
   {
    "duration": 8,
    "start_time": "2021-07-28T15:38:37.129Z"
   },
   {
    "duration": 116,
    "start_time": "2021-07-28T15:38:37.139Z"
   },
   {
    "duration": 50,
    "start_time": "2021-07-28T15:38:37.257Z"
   },
   {
    "duration": 52,
    "start_time": "2021-07-28T15:38:37.309Z"
   },
   {
    "duration": 102,
    "start_time": "2021-07-28T15:38:37.363Z"
   },
   {
    "duration": 35,
    "start_time": "2021-07-28T15:38:37.467Z"
   },
   {
    "duration": 6,
    "start_time": "2021-07-28T15:38:37.504Z"
   },
   {
    "duration": 12,
    "start_time": "2021-07-28T15:38:37.512Z"
   },
   {
    "duration": 5,
    "start_time": "2021-07-28T15:38:37.526Z"
   },
   {
    "duration": 57,
    "start_time": "2021-07-28T15:38:37.533Z"
   },
   {
    "duration": 5,
    "start_time": "2021-07-28T15:38:37.592Z"
   },
   {
    "duration": 21,
    "start_time": "2021-07-28T15:38:37.600Z"
   },
   {
    "duration": 4,
    "start_time": "2021-07-28T15:38:37.624Z"
   },
   {
    "duration": 26,
    "start_time": "2021-07-28T15:38:37.629Z"
   },
   {
    "duration": 28,
    "start_time": "2021-07-28T15:38:37.657Z"
   },
   {
    "duration": 22,
    "start_time": "2021-07-28T15:38:37.687Z"
   },
   {
    "duration": 429,
    "start_time": "2021-07-28T15:38:37.711Z"
   },
   {
    "duration": 43,
    "start_time": "2021-07-28T15:38:38.142Z"
   },
   {
    "duration": 357,
    "start_time": "2021-07-28T15:38:38.186Z"
   },
   {
    "duration": 9,
    "start_time": "2021-07-28T15:38:38.545Z"
   },
   {
    "duration": 29,
    "start_time": "2021-07-28T15:38:38.556Z"
   },
   {
    "duration": 55,
    "start_time": "2021-07-28T15:38:38.587Z"
   },
   {
    "duration": 73,
    "start_time": "2021-07-28T15:38:38.644Z"
   },
   {
    "duration": 557,
    "start_time": "2021-07-28T15:38:38.718Z"
   },
   {
    "duration": 719,
    "start_time": "2021-07-28T15:38:54.103Z"
   },
   {
    "duration": 483,
    "start_time": "2021-07-28T15:39:12.235Z"
   },
   {
    "duration": 369,
    "start_time": "2021-07-28T15:41:11.040Z"
   },
   {
    "duration": 627,
    "start_time": "2021-07-28T15:42:48.036Z"
   },
   {
    "duration": 183,
    "start_time": "2021-07-28T15:43:28.046Z"
   },
   {
    "duration": 189,
    "start_time": "2021-07-28T15:43:58.242Z"
   },
   {
    "duration": 188,
    "start_time": "2021-07-28T15:44:28.803Z"
   },
   {
    "duration": 499,
    "start_time": "2021-07-28T15:44:43.488Z"
   },
   {
    "duration": 69,
    "start_time": "2021-07-28T15:45:02.122Z"
   },
   {
    "duration": 770,
    "start_time": "2021-07-28T15:45:09.193Z"
   },
   {
    "duration": 979,
    "start_time": "2021-07-28T15:45:40.032Z"
   },
   {
    "duration": 752,
    "start_time": "2021-07-28T15:46:22.814Z"
   },
   {
    "duration": 655,
    "start_time": "2021-07-28T15:46:43.919Z"
   },
   {
    "duration": 773,
    "start_time": "2021-07-28T15:47:05.857Z"
   },
   {
    "duration": 611,
    "start_time": "2021-07-28T15:47:28.732Z"
   },
   {
    "duration": 648,
    "start_time": "2021-07-28T15:47:44.159Z"
   },
   {
    "duration": 769,
    "start_time": "2021-07-28T15:49:40.839Z"
   },
   {
    "duration": 751,
    "start_time": "2021-07-28T15:50:14.703Z"
   },
   {
    "duration": 1545,
    "start_time": "2021-07-28T15:53:28.709Z"
   },
   {
    "duration": 30,
    "start_time": "2021-07-28T15:53:30.256Z"
   },
   {
    "duration": 32,
    "start_time": "2021-07-28T15:53:30.289Z"
   },
   {
    "duration": 14,
    "start_time": "2021-07-28T15:53:30.322Z"
   },
   {
    "duration": 29,
    "start_time": "2021-07-28T15:53:30.338Z"
   },
   {
    "duration": 31,
    "start_time": "2021-07-28T15:53:30.385Z"
   },
   {
    "duration": 18,
    "start_time": "2021-07-28T15:53:30.418Z"
   },
   {
    "duration": 20,
    "start_time": "2021-07-28T15:53:30.440Z"
   },
   {
    "duration": 11,
    "start_time": "2021-07-28T15:53:30.486Z"
   },
   {
    "duration": 24,
    "start_time": "2021-07-28T15:53:30.499Z"
   },
   {
    "duration": 34,
    "start_time": "2021-07-28T15:53:30.524Z"
   },
   {
    "duration": 20,
    "start_time": "2021-07-28T15:53:30.560Z"
   },
   {
    "duration": 95,
    "start_time": "2021-07-28T15:53:30.581Z"
   },
   {
    "duration": 40,
    "start_time": "2021-07-28T15:53:30.677Z"
   },
   {
    "duration": 50,
    "start_time": "2021-07-28T15:53:30.719Z"
   },
   {
    "duration": 100,
    "start_time": "2021-07-28T15:53:30.770Z"
   },
   {
    "duration": 29,
    "start_time": "2021-07-28T15:53:30.871Z"
   },
   {
    "duration": 8,
    "start_time": "2021-07-28T15:53:30.902Z"
   },
   {
    "duration": 35,
    "start_time": "2021-07-28T15:53:30.911Z"
   },
   {
    "duration": 6,
    "start_time": "2021-07-28T15:53:30.948Z"
   },
   {
    "duration": 32,
    "start_time": "2021-07-28T15:53:30.956Z"
   },
   {
    "duration": 5,
    "start_time": "2021-07-28T15:53:30.989Z"
   },
   {
    "duration": 22,
    "start_time": "2021-07-28T15:53:30.998Z"
   },
   {
    "duration": 3,
    "start_time": "2021-07-28T15:53:31.022Z"
   },
   {
    "duration": 30,
    "start_time": "2021-07-28T15:53:31.027Z"
   },
   {
    "duration": 2,
    "start_time": "2021-07-28T15:53:31.059Z"
   },
   {
    "duration": 41,
    "start_time": "2021-07-28T15:53:31.062Z"
   },
   {
    "duration": 462,
    "start_time": "2021-07-28T15:53:31.105Z"
   },
   {
    "duration": 41,
    "start_time": "2021-07-28T15:53:31.568Z"
   },
   {
    "duration": 351,
    "start_time": "2021-07-28T15:53:31.611Z"
   },
   {
    "duration": 7,
    "start_time": "2021-07-28T15:53:31.964Z"
   },
   {
    "duration": 19,
    "start_time": "2021-07-28T15:53:31.973Z"
   },
   {
    "duration": 53,
    "start_time": "2021-07-28T15:53:31.994Z"
   },
   {
    "duration": 71,
    "start_time": "2021-07-28T15:53:32.049Z"
   },
   {
    "duration": 1476,
    "start_time": "2021-07-28T15:53:32.121Z"
   },
   {
    "duration": 1900,
    "start_time": "2021-07-28T15:53:33.599Z"
   },
   {
    "duration": 1268,
    "start_time": "2021-07-28T15:58:02.687Z"
   },
   {
    "duration": 1213,
    "start_time": "2021-07-28T15:58:25.858Z"
   },
   {
    "duration": 1370,
    "start_time": "2021-07-28T15:58:42.480Z"
   },
   {
    "duration": 1366,
    "start_time": "2021-07-28T15:59:12.868Z"
   },
   {
    "duration": 1883,
    "start_time": "2021-07-28T15:59:36.875Z"
   },
   {
    "duration": 1460,
    "start_time": "2021-07-28T15:59:50.961Z"
   },
   {
    "duration": 1492,
    "start_time": "2021-07-28T16:00:10.711Z"
   },
   {
    "duration": 30,
    "start_time": "2021-07-28T16:00:12.205Z"
   },
   {
    "duration": 31,
    "start_time": "2021-07-28T16:00:12.237Z"
   },
   {
    "duration": 22,
    "start_time": "2021-07-28T16:00:12.270Z"
   },
   {
    "duration": 23,
    "start_time": "2021-07-28T16:00:12.294Z"
   },
   {
    "duration": 28,
    "start_time": "2021-07-28T16:00:12.319Z"
   },
   {
    "duration": 44,
    "start_time": "2021-07-28T16:00:12.349Z"
   },
   {
    "duration": 14,
    "start_time": "2021-07-28T16:00:12.397Z"
   },
   {
    "duration": 13,
    "start_time": "2021-07-28T16:00:12.414Z"
   },
   {
    "duration": 20,
    "start_time": "2021-07-28T16:00:12.429Z"
   },
   {
    "duration": 37,
    "start_time": "2021-07-28T16:00:12.450Z"
   },
   {
    "duration": 8,
    "start_time": "2021-07-28T16:00:12.489Z"
   },
   {
    "duration": 88,
    "start_time": "2021-07-28T16:00:12.499Z"
   },
   {
    "duration": 37,
    "start_time": "2021-07-28T16:00:12.589Z"
   },
   {
    "duration": 65,
    "start_time": "2021-07-28T16:00:12.627Z"
   },
   {
    "duration": 92,
    "start_time": "2021-07-28T16:00:12.694Z"
   },
   {
    "duration": 24,
    "start_time": "2021-07-28T16:00:12.788Z"
   },
   {
    "duration": 7,
    "start_time": "2021-07-28T16:00:12.814Z"
   },
   {
    "duration": 15,
    "start_time": "2021-07-28T16:00:12.822Z"
   },
   {
    "duration": 8,
    "start_time": "2021-07-28T16:00:12.839Z"
   },
   {
    "duration": 50,
    "start_time": "2021-07-28T16:00:12.849Z"
   },
   {
    "duration": 4,
    "start_time": "2021-07-28T16:00:12.901Z"
   },
   {
    "duration": 25,
    "start_time": "2021-07-28T16:00:12.908Z"
   },
   {
    "duration": 12,
    "start_time": "2021-07-28T16:00:12.935Z"
   },
   {
    "duration": 36,
    "start_time": "2021-07-28T16:00:12.949Z"
   },
   {
    "duration": 2,
    "start_time": "2021-07-28T16:00:12.987Z"
   },
   {
    "duration": 31,
    "start_time": "2021-07-28T16:00:12.991Z"
   },
   {
    "duration": 430,
    "start_time": "2021-07-28T16:00:13.023Z"
   },
   {
    "duration": 35,
    "start_time": "2021-07-28T16:00:13.455Z"
   },
   {
    "duration": 344,
    "start_time": "2021-07-28T16:00:13.491Z"
   },
   {
    "duration": 7,
    "start_time": "2021-07-28T16:00:13.837Z"
   },
   {
    "duration": 16,
    "start_time": "2021-07-28T16:00:13.846Z"
   },
   {
    "duration": 58,
    "start_time": "2021-07-28T16:00:13.863Z"
   },
   {
    "duration": 63,
    "start_time": "2021-07-28T16:00:13.923Z"
   },
   {
    "duration": 1290,
    "start_time": "2021-07-28T16:00:13.987Z"
   },
   {
    "duration": 1515,
    "start_time": "2021-07-28T16:00:15.279Z"
   },
   {
    "duration": 1542,
    "start_time": "2021-07-28T17:05:21.223Z"
   },
   {
    "duration": 29,
    "start_time": "2021-07-28T17:05:22.767Z"
   },
   {
    "duration": 33,
    "start_time": "2021-07-28T17:05:22.798Z"
   },
   {
    "duration": 15,
    "start_time": "2021-07-28T17:05:22.833Z"
   },
   {
    "duration": 46,
    "start_time": "2021-07-28T17:05:22.851Z"
   },
   {
    "duration": 29,
    "start_time": "2021-07-28T17:05:22.899Z"
   },
   {
    "duration": 19,
    "start_time": "2021-07-28T17:05:22.930Z"
   },
   {
    "duration": 43,
    "start_time": "2021-07-28T17:05:22.952Z"
   },
   {
    "duration": 12,
    "start_time": "2021-07-28T17:05:22.997Z"
   },
   {
    "duration": 14,
    "start_time": "2021-07-28T17:05:23.010Z"
   },
   {
    "duration": 15,
    "start_time": "2021-07-28T17:05:23.026Z"
   },
   {
    "duration": 9,
    "start_time": "2021-07-28T17:05:23.084Z"
   },
   {
    "duration": 94,
    "start_time": "2021-07-28T17:05:23.096Z"
   },
   {
    "duration": 41,
    "start_time": "2021-07-28T17:05:23.193Z"
   },
   {
    "duration": 71,
    "start_time": "2021-07-28T17:05:23.236Z"
   },
   {
    "duration": 106,
    "start_time": "2021-07-28T17:05:23.309Z"
   },
   {
    "duration": 22,
    "start_time": "2021-07-28T17:05:23.416Z"
   },
   {
    "duration": 6,
    "start_time": "2021-07-28T17:05:23.440Z"
   },
   {
    "duration": 15,
    "start_time": "2021-07-28T17:05:23.447Z"
   },
   {
    "duration": 4,
    "start_time": "2021-07-28T17:05:23.464Z"
   },
   {
    "duration": 41,
    "start_time": "2021-07-28T17:05:23.470Z"
   },
   {
    "duration": 6,
    "start_time": "2021-07-28T17:05:23.513Z"
   },
   {
    "duration": 22,
    "start_time": "2021-07-28T17:05:23.523Z"
   },
   {
    "duration": 4,
    "start_time": "2021-07-28T17:05:23.547Z"
   },
   {
    "duration": 27,
    "start_time": "2021-07-28T17:05:23.585Z"
   },
   {
    "duration": 2,
    "start_time": "2021-07-28T17:05:23.614Z"
   },
   {
    "duration": 24,
    "start_time": "2021-07-28T17:05:23.617Z"
   },
   {
    "duration": 481,
    "start_time": "2021-07-28T17:05:23.643Z"
   },
   {
    "duration": 33,
    "start_time": "2021-07-28T17:05:24.125Z"
   },
   {
    "duration": 376,
    "start_time": "2021-07-28T17:05:24.159Z"
   },
   {
    "duration": 9,
    "start_time": "2021-07-28T17:05:24.537Z"
   },
   {
    "duration": 11,
    "start_time": "2021-07-28T17:05:24.547Z"
   },
   {
    "duration": 80,
    "start_time": "2021-07-28T17:05:24.561Z"
   },
   {
    "duration": 96,
    "start_time": "2021-07-28T17:05:24.643Z"
   },
   {
    "duration": 1374,
    "start_time": "2021-07-28T17:05:24.741Z"
   },
   {
    "duration": 1602,
    "start_time": "2021-07-28T17:05:26.117Z"
   },
   {
    "duration": 273,
    "start_time": "2021-07-28T17:05:27.720Z"
   },
   {
    "duration": 6,
    "start_time": "2021-07-28T17:05:39.969Z"
   },
   {
    "duration": 5,
    "start_time": "2021-07-28T17:06:01.275Z"
   },
   {
    "duration": 1521,
    "start_time": "2021-07-28T17:06:13.635Z"
   },
   {
    "duration": 32,
    "start_time": "2021-07-28T17:06:15.158Z"
   },
   {
    "duration": 35,
    "start_time": "2021-07-28T17:06:15.192Z"
   },
   {
    "duration": 16,
    "start_time": "2021-07-28T17:06:15.229Z"
   },
   {
    "duration": 46,
    "start_time": "2021-07-28T17:06:15.247Z"
   },
   {
    "duration": 28,
    "start_time": "2021-07-28T17:06:15.295Z"
   },
   {
    "duration": 18,
    "start_time": "2021-07-28T17:06:15.325Z"
   },
   {
    "duration": 43,
    "start_time": "2021-07-28T17:06:15.345Z"
   },
   {
    "duration": 12,
    "start_time": "2021-07-28T17:06:15.390Z"
   },
   {
    "duration": 15,
    "start_time": "2021-07-28T17:06:15.404Z"
   },
   {
    "duration": 15,
    "start_time": "2021-07-28T17:06:15.420Z"
   },
   {
    "duration": 9,
    "start_time": "2021-07-28T17:06:15.437Z"
   },
   {
    "duration": 110,
    "start_time": "2021-07-28T17:06:15.448Z"
   },
   {
    "duration": 46,
    "start_time": "2021-07-28T17:06:15.559Z"
   },
   {
    "duration": 49,
    "start_time": "2021-07-28T17:06:15.607Z"
   },
   {
    "duration": 103,
    "start_time": "2021-07-28T17:06:15.658Z"
   },
   {
    "duration": 25,
    "start_time": "2021-07-28T17:06:15.763Z"
   },
   {
    "duration": 6,
    "start_time": "2021-07-28T17:06:15.790Z"
   },
   {
    "duration": 14,
    "start_time": "2021-07-28T17:06:15.798Z"
   },
   {
    "duration": 5,
    "start_time": "2021-07-28T17:06:15.814Z"
   },
   {
    "duration": 30,
    "start_time": "2021-07-28T17:06:15.820Z"
   },
   {
    "duration": 5,
    "start_time": "2021-07-28T17:06:15.851Z"
   },
   {
    "duration": 47,
    "start_time": "2021-07-28T17:06:15.858Z"
   },
   {
    "duration": 3,
    "start_time": "2021-07-28T17:06:15.907Z"
   },
   {
    "duration": 27,
    "start_time": "2021-07-28T17:06:15.911Z"
   },
   {
    "duration": 2,
    "start_time": "2021-07-28T17:06:15.940Z"
   },
   {
    "duration": 55,
    "start_time": "2021-07-28T17:06:15.945Z"
   },
   {
    "duration": 457,
    "start_time": "2021-07-28T17:06:16.002Z"
   },
   {
    "duration": 37,
    "start_time": "2021-07-28T17:06:16.461Z"
   },
   {
    "duration": 340,
    "start_time": "2021-07-28T17:06:16.499Z"
   },
   {
    "duration": 9,
    "start_time": "2021-07-28T17:06:16.841Z"
   },
   {
    "duration": 12,
    "start_time": "2021-07-28T17:06:16.852Z"
   },
   {
    "duration": 74,
    "start_time": "2021-07-28T17:06:16.866Z"
   },
   {
    "duration": 73,
    "start_time": "2021-07-28T17:06:16.943Z"
   },
   {
    "duration": 1333,
    "start_time": "2021-07-28T17:06:17.017Z"
   },
   {
    "duration": 1523,
    "start_time": "2021-07-28T17:06:18.351Z"
   },
   {
    "duration": 10,
    "start_time": "2021-07-28T17:06:19.876Z"
   },
   {
    "duration": 266,
    "start_time": "2021-07-28T17:07:24.198Z"
   },
   {
    "duration": 6,
    "start_time": "2021-07-28T17:08:23.019Z"
   },
   {
    "duration": 5,
    "start_time": "2021-07-28T17:08:26.765Z"
   },
   {
    "duration": 5,
    "start_time": "2021-07-28T17:09:59.702Z"
   },
   {
    "duration": 11,
    "start_time": "2021-07-28T17:10:06.128Z"
   },
   {
    "duration": 27,
    "start_time": "2021-07-28T17:10:48.135Z"
   },
   {
    "duration": 21,
    "start_time": "2021-07-28T17:12:02.285Z"
   },
   {
    "duration": 1603,
    "start_time": "2021-07-28T17:14:14.886Z"
   },
   {
    "duration": 30,
    "start_time": "2021-07-28T17:14:16.491Z"
   },
   {
    "duration": 31,
    "start_time": "2021-07-28T17:14:16.523Z"
   },
   {
    "duration": 35,
    "start_time": "2021-07-28T17:14:16.556Z"
   },
   {
    "duration": 22,
    "start_time": "2021-07-28T17:14:16.593Z"
   },
   {
    "duration": 29,
    "start_time": "2021-07-28T17:14:16.617Z"
   },
   {
    "duration": 43,
    "start_time": "2021-07-28T17:14:16.648Z"
   },
   {
    "duration": 15,
    "start_time": "2021-07-28T17:14:16.694Z"
   },
   {
    "duration": 13,
    "start_time": "2021-07-28T17:14:16.711Z"
   },
   {
    "duration": 14,
    "start_time": "2021-07-28T17:14:16.726Z"
   },
   {
    "duration": 48,
    "start_time": "2021-07-28T17:14:16.742Z"
   },
   {
    "duration": 8,
    "start_time": "2021-07-28T17:14:16.792Z"
   },
   {
    "duration": 98,
    "start_time": "2021-07-28T17:14:16.802Z"
   },
   {
    "duration": 38,
    "start_time": "2021-07-28T17:14:16.902Z"
   },
   {
    "duration": 62,
    "start_time": "2021-07-28T17:14:16.942Z"
   },
   {
    "duration": 104,
    "start_time": "2021-07-28T17:14:17.006Z"
   },
   {
    "duration": 24,
    "start_time": "2021-07-28T17:14:17.112Z"
   },
   {
    "duration": 7,
    "start_time": "2021-07-28T17:14:17.138Z"
   },
   {
    "duration": 15,
    "start_time": "2021-07-28T17:14:17.147Z"
   },
   {
    "duration": 24,
    "start_time": "2021-07-28T17:14:17.164Z"
   },
   {
    "duration": 31,
    "start_time": "2021-07-28T17:14:17.190Z"
   },
   {
    "duration": 6,
    "start_time": "2021-07-28T17:14:17.222Z"
   },
   {
    "duration": 23,
    "start_time": "2021-07-28T17:14:17.232Z"
   },
   {
    "duration": 4,
    "start_time": "2021-07-28T17:14:17.286Z"
   },
   {
    "duration": 34,
    "start_time": "2021-07-28T17:14:17.291Z"
   },
   {
    "duration": 22,
    "start_time": "2021-07-28T17:14:17.327Z"
   },
   {
    "duration": 463,
    "start_time": "2021-07-28T17:14:17.351Z"
   },
   {
    "duration": 33,
    "start_time": "2021-07-28T17:14:17.816Z"
   },
   {
    "duration": 357,
    "start_time": "2021-07-28T17:14:17.851Z"
   },
   {
    "duration": 9,
    "start_time": "2021-07-28T17:14:18.209Z"
   },
   {
    "duration": 13,
    "start_time": "2021-07-28T17:14:18.219Z"
   },
   {
    "duration": 68,
    "start_time": "2021-07-28T17:14:18.234Z"
   },
   {
    "duration": 53,
    "start_time": "2021-07-28T17:14:18.304Z"
   },
   {
    "duration": 1377,
    "start_time": "2021-07-28T17:14:18.358Z"
   },
   {
    "duration": 1584,
    "start_time": "2021-07-28T17:14:19.737Z"
   },
   {
    "duration": 16,
    "start_time": "2021-07-28T17:14:21.323Z"
   },
   {
    "duration": 16,
    "start_time": "2021-07-28T17:14:21.341Z"
   },
   {
    "duration": 33,
    "start_time": "2021-07-28T17:14:21.358Z"
   },
   {
    "duration": 4,
    "start_time": "2021-07-28T17:26:59.463Z"
   },
   {
    "duration": 12,
    "start_time": "2021-07-28T17:28:05.080Z"
   },
   {
    "duration": 12,
    "start_time": "2021-07-28T17:28:17.517Z"
   },
   {
    "duration": 8,
    "start_time": "2021-07-28T17:29:03.355Z"
   },
   {
    "duration": 8,
    "start_time": "2021-07-28T17:29:11.547Z"
   },
   {
    "duration": 1548,
    "start_time": "2021-07-28T17:29:43.175Z"
   },
   {
    "duration": 30,
    "start_time": "2021-07-28T17:29:44.725Z"
   },
   {
    "duration": 32,
    "start_time": "2021-07-28T17:29:44.759Z"
   },
   {
    "duration": 13,
    "start_time": "2021-07-28T17:29:44.793Z"
   },
   {
    "duration": 23,
    "start_time": "2021-07-28T17:29:44.808Z"
   },
   {
    "duration": 53,
    "start_time": "2021-07-28T17:29:44.833Z"
   },
   {
    "duration": 20,
    "start_time": "2021-07-28T17:29:44.887Z"
   },
   {
    "duration": 14,
    "start_time": "2021-07-28T17:29:44.910Z"
   },
   {
    "duration": 11,
    "start_time": "2021-07-28T17:29:44.926Z"
   },
   {
    "duration": 55,
    "start_time": "2021-07-28T17:29:44.939Z"
   },
   {
    "duration": 15,
    "start_time": "2021-07-28T17:29:44.996Z"
   },
   {
    "duration": 16,
    "start_time": "2021-07-28T17:29:45.013Z"
   },
   {
    "duration": 101,
    "start_time": "2021-07-28T17:29:45.031Z"
   },
   {
    "duration": 38,
    "start_time": "2021-07-28T17:29:45.133Z"
   },
   {
    "duration": 59,
    "start_time": "2021-07-28T17:29:45.173Z"
   },
   {
    "duration": 98,
    "start_time": "2021-07-28T17:29:45.234Z"
   },
   {
    "duration": 22,
    "start_time": "2021-07-28T17:29:45.333Z"
   },
   {
    "duration": 5,
    "start_time": "2021-07-28T17:29:45.356Z"
   },
   {
    "duration": 26,
    "start_time": "2021-07-28T17:29:45.363Z"
   },
   {
    "duration": 4,
    "start_time": "2021-07-28T17:29:45.390Z"
   },
   {
    "duration": 29,
    "start_time": "2021-07-28T17:29:45.396Z"
   },
   {
    "duration": 7,
    "start_time": "2021-07-28T17:29:45.427Z"
   },
   {
    "duration": 49,
    "start_time": "2021-07-28T17:29:45.437Z"
   },
   {
    "duration": 3,
    "start_time": "2021-07-28T17:29:45.488Z"
   },
   {
    "duration": 33,
    "start_time": "2021-07-28T17:29:45.493Z"
   },
   {
    "duration": 21,
    "start_time": "2021-07-28T17:29:45.529Z"
   },
   {
    "duration": 460,
    "start_time": "2021-07-28T17:29:45.551Z"
   },
   {
    "duration": 23,
    "start_time": "2021-07-28T17:29:46.012Z"
   },
   {
    "duration": 338,
    "start_time": "2021-07-28T17:29:46.037Z"
   },
   {
    "duration": 13,
    "start_time": "2021-07-28T17:29:46.376Z"
   },
   {
    "duration": 11,
    "start_time": "2021-07-28T17:29:46.391Z"
   },
   {
    "duration": 51,
    "start_time": "2021-07-28T17:29:46.403Z"
   },
   {
    "duration": 67,
    "start_time": "2021-07-28T17:29:46.456Z"
   },
   {
    "duration": 1256,
    "start_time": "2021-07-28T17:29:46.524Z"
   },
   {
    "duration": 1501,
    "start_time": "2021-07-28T17:29:47.781Z"
   },
   {
    "duration": 6,
    "start_time": "2021-07-28T17:29:49.284Z"
   },
   {
    "duration": 9,
    "start_time": "2021-07-28T17:29:49.292Z"
   },
   {
    "duration": 10,
    "start_time": "2021-07-28T17:29:49.303Z"
   },
   {
    "duration": 9,
    "start_time": "2021-07-28T17:30:53.717Z"
   },
   {
    "duration": 1472,
    "start_time": "2021-07-28T17:35:25.834Z"
   },
   {
    "duration": 28,
    "start_time": "2021-07-28T17:35:27.308Z"
   },
   {
    "duration": 29,
    "start_time": "2021-07-28T17:35:27.339Z"
   },
   {
    "duration": 16,
    "start_time": "2021-07-28T17:35:27.370Z"
   },
   {
    "duration": 20,
    "start_time": "2021-07-28T17:35:27.388Z"
   },
   {
    "duration": 25,
    "start_time": "2021-07-28T17:35:27.410Z"
   },
   {
    "duration": 17,
    "start_time": "2021-07-28T17:35:27.437Z"
   },
   {
    "duration": 38,
    "start_time": "2021-07-28T17:35:27.456Z"
   },
   {
    "duration": 9,
    "start_time": "2021-07-28T17:35:27.496Z"
   },
   {
    "duration": 15,
    "start_time": "2021-07-28T17:35:27.507Z"
   },
   {
    "duration": 14,
    "start_time": "2021-07-28T17:35:27.523Z"
   },
   {
    "duration": 8,
    "start_time": "2021-07-28T17:35:27.538Z"
   },
   {
    "duration": 106,
    "start_time": "2021-07-28T17:35:27.547Z"
   },
   {
    "duration": 43,
    "start_time": "2021-07-28T17:35:27.654Z"
   },
   {
    "duration": 46,
    "start_time": "2021-07-28T17:35:27.698Z"
   },
   {
    "duration": 99,
    "start_time": "2021-07-28T17:35:27.746Z"
   },
   {
    "duration": 22,
    "start_time": "2021-07-28T17:35:27.847Z"
   },
   {
    "duration": 15,
    "start_time": "2021-07-28T17:35:27.870Z"
   },
   {
    "duration": 9,
    "start_time": "2021-07-28T17:35:27.887Z"
   },
   {
    "duration": 4,
    "start_time": "2021-07-28T17:35:27.897Z"
   },
   {
    "duration": 26,
    "start_time": "2021-07-28T17:35:27.902Z"
   },
   {
    "duration": 5,
    "start_time": "2021-07-28T17:35:27.929Z"
   },
   {
    "duration": 19,
    "start_time": "2021-07-28T17:35:27.937Z"
   },
   {
    "duration": 3,
    "start_time": "2021-07-28T17:35:27.985Z"
   },
   {
    "duration": 28,
    "start_time": "2021-07-28T17:35:27.990Z"
   },
   {
    "duration": 18,
    "start_time": "2021-07-28T17:35:28.019Z"
   },
   {
    "duration": 454,
    "start_time": "2021-07-28T17:35:28.039Z"
   },
   {
    "duration": 23,
    "start_time": "2021-07-28T17:35:28.495Z"
   },
   {
    "duration": 337,
    "start_time": "2021-07-28T17:35:28.520Z"
   },
   {
    "duration": 8,
    "start_time": "2021-07-28T17:35:28.859Z"
   },
   {
    "duration": 19,
    "start_time": "2021-07-28T17:35:28.869Z"
   },
   {
    "duration": 52,
    "start_time": "2021-07-28T17:35:28.890Z"
   },
   {
    "duration": 62,
    "start_time": "2021-07-28T17:35:28.944Z"
   },
   {
    "duration": 1327,
    "start_time": "2021-07-28T17:35:29.008Z"
   },
   {
    "duration": 1498,
    "start_time": "2021-07-28T17:35:30.337Z"
   },
   {
    "duration": 4,
    "start_time": "2021-07-28T17:35:31.837Z"
   },
   {
    "duration": 26,
    "start_time": "2021-07-28T17:35:31.843Z"
   },
   {
    "duration": 7,
    "start_time": "2021-07-28T17:35:31.870Z"
   },
   {
    "duration": 10,
    "start_time": "2021-07-28T17:35:31.878Z"
   },
   {
    "duration": 1516,
    "start_time": "2021-07-28T17:55:06.393Z"
   },
   {
    "duration": 29,
    "start_time": "2021-07-28T17:55:07.911Z"
   },
   {
    "duration": 30,
    "start_time": "2021-07-28T17:55:07.942Z"
   },
   {
    "duration": 12,
    "start_time": "2021-07-28T17:55:07.974Z"
   },
   {
    "duration": 20,
    "start_time": "2021-07-28T17:55:07.988Z"
   },
   {
    "duration": 27,
    "start_time": "2021-07-28T17:55:08.010Z"
   },
   {
    "duration": 18,
    "start_time": "2021-07-28T17:55:08.039Z"
   },
   {
    "duration": 40,
    "start_time": "2021-07-28T17:55:08.058Z"
   },
   {
    "duration": 11,
    "start_time": "2021-07-28T17:55:08.100Z"
   },
   {
    "duration": 12,
    "start_time": "2021-07-28T17:55:08.113Z"
   },
   {
    "duration": 14,
    "start_time": "2021-07-28T17:55:08.126Z"
   },
   {
    "duration": 8,
    "start_time": "2021-07-28T17:55:08.141Z"
   },
   {
    "duration": 140,
    "start_time": "2021-07-28T17:55:08.185Z"
   },
   {
    "duration": 26,
    "start_time": "2021-07-28T17:55:08.327Z"
   },
   {
    "duration": 53,
    "start_time": "2021-07-28T17:55:08.355Z"
   },
   {
    "duration": 102,
    "start_time": "2021-07-28T17:55:08.409Z"
   },
   {
    "duration": 21,
    "start_time": "2021-07-28T17:55:08.513Z"
   },
   {
    "duration": 5,
    "start_time": "2021-07-28T17:55:08.536Z"
   },
   {
    "duration": 11,
    "start_time": "2021-07-28T17:55:08.543Z"
   },
   {
    "duration": 5,
    "start_time": "2021-07-28T17:55:08.555Z"
   },
   {
    "duration": 27,
    "start_time": "2021-07-28T17:55:08.584Z"
   },
   {
    "duration": 5,
    "start_time": "2021-07-28T17:55:08.613Z"
   },
   {
    "duration": 22,
    "start_time": "2021-07-28T17:55:08.619Z"
   },
   {
    "duration": 3,
    "start_time": "2021-07-28T17:55:08.643Z"
   },
   {
    "duration": 54,
    "start_time": "2021-07-28T17:55:08.648Z"
   },
   {
    "duration": 20,
    "start_time": "2021-07-28T17:55:08.704Z"
   },
   {
    "duration": 459,
    "start_time": "2021-07-28T17:55:08.727Z"
   },
   {
    "duration": 24,
    "start_time": "2021-07-28T17:55:09.188Z"
   },
   {
    "duration": 349,
    "start_time": "2021-07-28T17:55:09.214Z"
   },
   {
    "duration": 8,
    "start_time": "2021-07-28T17:55:09.564Z"
   },
   {
    "duration": 8,
    "start_time": "2021-07-28T17:55:09.585Z"
   },
   {
    "duration": 63,
    "start_time": "2021-07-28T17:55:09.594Z"
   },
   {
    "duration": 59,
    "start_time": "2021-07-28T17:55:09.659Z"
   },
   {
    "duration": 1380,
    "start_time": "2021-07-28T17:55:09.719Z"
   },
   {
    "duration": 1573,
    "start_time": "2021-07-28T17:55:11.101Z"
   },
   {
    "duration": 10,
    "start_time": "2021-07-28T17:55:12.676Z"
   },
   {
    "duration": 18,
    "start_time": "2021-07-28T17:55:12.687Z"
   },
   {
    "duration": 8,
    "start_time": "2021-07-28T17:55:12.706Z"
   },
   {
    "duration": 7,
    "start_time": "2021-07-28T17:55:12.715Z"
   },
   {
    "duration": 1564,
    "start_time": "2021-07-28T17:59:17.355Z"
   },
   {
    "duration": 30,
    "start_time": "2021-07-28T17:59:18.921Z"
   },
   {
    "duration": 32,
    "start_time": "2021-07-28T17:59:18.954Z"
   },
   {
    "duration": 15,
    "start_time": "2021-07-28T17:59:18.988Z"
   },
   {
    "duration": 24,
    "start_time": "2021-07-28T17:59:19.005Z"
   },
   {
    "duration": 55,
    "start_time": "2021-07-28T17:59:19.031Z"
   },
   {
    "duration": 21,
    "start_time": "2021-07-28T17:59:19.088Z"
   },
   {
    "duration": 16,
    "start_time": "2021-07-28T17:59:19.112Z"
   },
   {
    "duration": 12,
    "start_time": "2021-07-28T17:59:19.131Z"
   },
   {
    "duration": 49,
    "start_time": "2021-07-28T17:59:19.145Z"
   },
   {
    "duration": 16,
    "start_time": "2021-07-28T17:59:19.195Z"
   },
   {
    "duration": 10,
    "start_time": "2021-07-28T17:59:19.213Z"
   },
   {
    "duration": 106,
    "start_time": "2021-07-28T17:59:19.225Z"
   },
   {
    "duration": 55,
    "start_time": "2021-07-28T17:59:19.333Z"
   },
   {
    "duration": 58,
    "start_time": "2021-07-28T17:59:19.390Z"
   },
   {
    "duration": 110,
    "start_time": "2021-07-28T17:59:19.450Z"
   },
   {
    "duration": 32,
    "start_time": "2021-07-28T17:59:19.562Z"
   },
   {
    "duration": 7,
    "start_time": "2021-07-28T17:59:19.595Z"
   },
   {
    "duration": 10,
    "start_time": "2021-07-28T17:59:19.604Z"
   },
   {
    "duration": 4,
    "start_time": "2021-07-28T17:59:19.616Z"
   },
   {
    "duration": 30,
    "start_time": "2021-07-28T17:59:19.622Z"
   },
   {
    "duration": 32,
    "start_time": "2021-07-28T17:59:19.654Z"
   },
   {
    "duration": 21,
    "start_time": "2021-07-28T17:59:19.689Z"
   },
   {
    "duration": 3,
    "start_time": "2021-07-28T17:59:19.712Z"
   },
   {
    "duration": 28,
    "start_time": "2021-07-28T17:59:19.717Z"
   },
   {
    "duration": 51,
    "start_time": "2021-07-28T17:59:19.746Z"
   },
   {
    "duration": 453,
    "start_time": "2021-07-28T17:59:19.798Z"
   },
   {
    "duration": 33,
    "start_time": "2021-07-28T17:59:20.253Z"
   },
   {
    "duration": 368,
    "start_time": "2021-07-28T17:59:20.288Z"
   },
   {
    "duration": 8,
    "start_time": "2021-07-28T17:59:20.658Z"
   },
   {
    "duration": 23,
    "start_time": "2021-07-28T17:59:20.668Z"
   },
   {
    "duration": 53,
    "start_time": "2021-07-28T17:59:20.693Z"
   },
   {
    "duration": 69,
    "start_time": "2021-07-28T17:59:20.747Z"
   },
   {
    "duration": 1270,
    "start_time": "2021-07-28T17:59:20.818Z"
   },
   {
    "duration": 1586,
    "start_time": "2021-07-28T17:59:22.090Z"
   },
   {
    "duration": 6,
    "start_time": "2021-07-28T17:59:23.685Z"
   },
   {
    "duration": 15,
    "start_time": "2021-07-28T17:59:23.694Z"
   },
   {
    "duration": 10,
    "start_time": "2021-07-28T17:59:23.711Z"
   },
   {
    "duration": 9,
    "start_time": "2021-07-28T17:59:23.723Z"
   },
   {
    "duration": 1548,
    "start_time": "2021-07-28T18:02:48.982Z"
   },
   {
    "duration": 27,
    "start_time": "2021-07-28T18:02:50.532Z"
   },
   {
    "duration": 32,
    "start_time": "2021-07-28T18:02:50.561Z"
   },
   {
    "duration": 15,
    "start_time": "2021-07-28T18:02:50.596Z"
   },
   {
    "duration": 25,
    "start_time": "2021-07-28T18:02:50.613Z"
   },
   {
    "duration": 54,
    "start_time": "2021-07-28T18:02:50.640Z"
   },
   {
    "duration": 21,
    "start_time": "2021-07-28T18:02:50.696Z"
   },
   {
    "duration": 16,
    "start_time": "2021-07-28T18:02:50.720Z"
   },
   {
    "duration": 45,
    "start_time": "2021-07-28T18:02:50.739Z"
   },
   {
    "duration": 15,
    "start_time": "2021-07-28T18:02:50.786Z"
   },
   {
    "duration": 15,
    "start_time": "2021-07-28T18:02:50.803Z"
   },
   {
    "duration": 11,
    "start_time": "2021-07-28T18:02:50.820Z"
   },
   {
    "duration": 112,
    "start_time": "2021-07-28T18:02:50.833Z"
   },
   {
    "duration": 47,
    "start_time": "2021-07-28T18:02:50.947Z"
   },
   {
    "duration": 50,
    "start_time": "2021-07-28T18:02:50.995Z"
   },
   {
    "duration": 107,
    "start_time": "2021-07-28T18:02:51.047Z"
   },
   {
    "duration": 29,
    "start_time": "2021-07-28T18:02:51.156Z"
   },
   {
    "duration": 6,
    "start_time": "2021-07-28T18:02:51.186Z"
   },
   {
    "duration": 13,
    "start_time": "2021-07-28T18:02:51.194Z"
   },
   {
    "duration": 4,
    "start_time": "2021-07-28T18:02:51.209Z"
   },
   {
    "duration": 28,
    "start_time": "2021-07-28T18:02:51.215Z"
   },
   {
    "duration": 4,
    "start_time": "2021-07-28T18:02:51.245Z"
   },
   {
    "duration": 49,
    "start_time": "2021-07-28T18:02:51.252Z"
   },
   {
    "duration": 3,
    "start_time": "2021-07-28T18:02:51.303Z"
   },
   {
    "duration": 27,
    "start_time": "2021-07-28T18:02:51.308Z"
   },
   {
    "duration": 20,
    "start_time": "2021-07-28T18:02:51.337Z"
   },
   {
    "duration": 468,
    "start_time": "2021-07-28T18:02:51.359Z"
   },
   {
    "duration": 25,
    "start_time": "2021-07-28T18:02:51.829Z"
   },
   {
    "duration": 349,
    "start_time": "2021-07-28T18:02:51.855Z"
   },
   {
    "duration": 8,
    "start_time": "2021-07-28T18:02:52.206Z"
   },
   {
    "duration": 9,
    "start_time": "2021-07-28T18:02:52.216Z"
   },
   {
    "duration": 74,
    "start_time": "2021-07-28T18:02:52.227Z"
   },
   {
    "duration": 54,
    "start_time": "2021-07-28T18:02:52.303Z"
   },
   {
    "duration": 1362,
    "start_time": "2021-07-28T18:02:52.359Z"
   },
   {
    "duration": 1562,
    "start_time": "2021-07-28T18:02:53.723Z"
   },
   {
    "duration": 5,
    "start_time": "2021-07-28T18:02:55.286Z"
   },
   {
    "duration": 12,
    "start_time": "2021-07-28T18:02:55.293Z"
   },
   {
    "duration": 6,
    "start_time": "2021-07-28T18:02:55.306Z"
   },
   {
    "duration": 10,
    "start_time": "2021-07-28T18:02:55.314Z"
   },
   {
    "duration": 1962,
    "start_time": "2021-07-29T05:25:05.752Z"
   },
   {
    "duration": 39,
    "start_time": "2021-07-29T05:25:07.716Z"
   },
   {
    "duration": 53,
    "start_time": "2021-07-29T05:25:07.758Z"
   },
   {
    "duration": 22,
    "start_time": "2021-07-29T05:25:07.813Z"
   },
   {
    "duration": 30,
    "start_time": "2021-07-29T05:25:07.838Z"
   },
   {
    "duration": 62,
    "start_time": "2021-07-29T05:25:07.870Z"
   },
   {
    "duration": 26,
    "start_time": "2021-07-29T05:25:07.934Z"
   },
   {
    "duration": 43,
    "start_time": "2021-07-29T05:25:07.962Z"
   },
   {
    "duration": 18,
    "start_time": "2021-07-29T05:25:08.009Z"
   },
   {
    "duration": 21,
    "start_time": "2021-07-29T05:25:08.030Z"
   },
   {
    "duration": 64,
    "start_time": "2021-07-29T05:25:08.053Z"
   },
   {
    "duration": 13,
    "start_time": "2021-07-29T05:25:08.119Z"
   },
   {
    "duration": 134,
    "start_time": "2021-07-29T05:25:08.134Z"
   },
   {
    "duration": 58,
    "start_time": "2021-07-29T05:25:08.270Z"
   },
   {
    "duration": 80,
    "start_time": "2021-07-29T05:25:08.331Z"
   },
   {
    "duration": 131,
    "start_time": "2021-07-29T05:25:08.414Z"
   },
   {
    "duration": 30,
    "start_time": "2021-07-29T05:25:08.548Z"
   },
   {
    "duration": 21,
    "start_time": "2021-07-29T05:25:08.580Z"
   },
   {
    "duration": 15,
    "start_time": "2021-07-29T05:25:08.604Z"
   },
   {
    "duration": 6,
    "start_time": "2021-07-29T05:25:08.621Z"
   },
   {
    "duration": 80,
    "start_time": "2021-07-29T05:25:08.630Z"
   },
   {
    "duration": 11,
    "start_time": "2021-07-29T05:25:08.714Z"
   },
   {
    "duration": 33,
    "start_time": "2021-07-29T05:25:08.728Z"
   },
   {
    "duration": 4,
    "start_time": "2021-07-29T05:25:08.764Z"
   },
   {
    "duration": 41,
    "start_time": "2021-07-29T05:25:08.801Z"
   },
   {
    "duration": 58,
    "start_time": "2021-07-29T05:25:08.844Z"
   },
   {
    "duration": 849,
    "start_time": "2021-07-29T05:25:08.907Z"
   },
   {
    "duration": 51,
    "start_time": "2021-07-29T05:25:09.759Z"
   },
   {
    "duration": 534,
    "start_time": "2021-07-29T05:25:09.812Z"
   },
   {
    "duration": 11,
    "start_time": "2021-07-29T05:25:10.349Z"
   },
   {
    "duration": 37,
    "start_time": "2021-07-29T05:25:10.363Z"
   },
   {
    "duration": 102,
    "start_time": "2021-07-29T05:25:10.403Z"
   },
   {
    "duration": 101,
    "start_time": "2021-07-29T05:25:10.507Z"
   },
   {
    "duration": 2189,
    "start_time": "2021-07-29T05:25:10.611Z"
   },
   {
    "duration": 2277,
    "start_time": "2021-07-29T05:25:12.803Z"
   },
   {
    "duration": 20,
    "start_time": "2021-07-29T05:25:15.083Z"
   },
   {
    "duration": 15,
    "start_time": "2021-07-29T05:25:15.106Z"
   },
   {
    "duration": 11,
    "start_time": "2021-07-29T05:25:15.124Z"
   },
   {
    "duration": 13,
    "start_time": "2021-07-29T05:25:15.138Z"
   },
   {
    "duration": 6,
    "start_time": "2021-07-29T05:27:51.257Z"
   },
   {
    "duration": 418,
    "start_time": "2021-07-29T05:29:26.928Z"
   },
   {
    "duration": 34,
    "start_time": "2021-07-29T05:29:33.200Z"
   },
   {
    "duration": 6,
    "start_time": "2021-07-29T05:29:39.649Z"
   },
   {
    "duration": 5,
    "start_time": "2021-07-29T05:29:45.208Z"
   },
   {
    "duration": 1551,
    "start_time": "2022-02-20T08:31:45.767Z"
   },
   {
    "duration": 29,
    "start_time": "2022-02-20T08:31:47.320Z"
   },
   {
    "duration": 35,
    "start_time": "2022-02-20T08:31:47.351Z"
   },
   {
    "duration": 32,
    "start_time": "2022-02-20T08:31:47.387Z"
   },
   {
    "duration": 23,
    "start_time": "2022-02-20T08:31:47.421Z"
   },
   {
    "duration": 29,
    "start_time": "2022-02-20T08:31:47.446Z"
   },
   {
    "duration": 44,
    "start_time": "2022-02-20T08:31:47.477Z"
   },
   {
    "duration": 15,
    "start_time": "2022-02-20T08:31:47.524Z"
   },
   {
    "duration": 13,
    "start_time": "2022-02-20T08:31:47.541Z"
   },
   {
    "duration": 23,
    "start_time": "2022-02-20T08:31:47.556Z"
   },
   {
    "duration": 44,
    "start_time": "2022-02-20T08:31:47.580Z"
   },
   {
    "duration": 8,
    "start_time": "2022-02-20T08:31:47.626Z"
   },
   {
    "duration": 96,
    "start_time": "2022-02-20T08:31:47.636Z"
   },
   {
    "duration": 35,
    "start_time": "2022-02-20T08:31:47.734Z"
   },
   {
    "duration": 71,
    "start_time": "2022-02-20T08:31:47.771Z"
   },
   {
    "duration": 95,
    "start_time": "2022-02-20T08:31:47.844Z"
   },
   {
    "duration": 22,
    "start_time": "2022-02-20T08:31:47.941Z"
   },
   {
    "duration": 7,
    "start_time": "2022-02-20T08:31:47.965Z"
   },
   {
    "duration": 11,
    "start_time": "2022-02-20T08:31:47.973Z"
   },
   {
    "duration": 5,
    "start_time": "2022-02-20T08:31:47.986Z"
   },
   {
    "duration": 4,
    "start_time": "2022-02-20T08:31:48.019Z"
   },
   {
    "duration": 7,
    "start_time": "2022-02-20T08:31:48.024Z"
   },
   {
    "duration": 29,
    "start_time": "2022-02-20T08:31:48.034Z"
   },
   {
    "duration": 5,
    "start_time": "2022-02-20T08:31:48.065Z"
   },
   {
    "duration": 50,
    "start_time": "2022-02-20T08:31:48.072Z"
   },
   {
    "duration": 2,
    "start_time": "2022-02-20T08:31:48.124Z"
   },
   {
    "duration": 31,
    "start_time": "2022-02-20T08:31:48.128Z"
   },
   {
    "duration": 21,
    "start_time": "2022-02-20T08:31:48.161Z"
   },
   {
    "duration": 536,
    "start_time": "2022-02-20T08:31:48.183Z"
   },
   {
    "duration": 23,
    "start_time": "2022-02-20T08:31:48.721Z"
   },
   {
    "duration": 346,
    "start_time": "2022-02-20T08:31:48.745Z"
   },
   {
    "duration": 8,
    "start_time": "2022-02-20T08:31:49.092Z"
   },
   {
    "duration": 22,
    "start_time": "2022-02-20T08:31:49.102Z"
   },
   {
    "duration": 52,
    "start_time": "2022-02-20T08:31:49.126Z"
   },
   {
    "duration": 74,
    "start_time": "2022-02-20T08:31:49.180Z"
   },
   {
    "duration": 1376,
    "start_time": "2022-02-20T08:31:49.256Z"
   },
   {
    "duration": 1606,
    "start_time": "2022-02-20T08:31:50.634Z"
   },
   {
    "duration": 8,
    "start_time": "2022-02-20T08:31:52.242Z"
   },
   {
    "duration": 13,
    "start_time": "2022-02-20T08:31:52.252Z"
   },
   {
    "duration": 9,
    "start_time": "2022-02-20T08:31:52.267Z"
   },
   {
    "duration": 7,
    "start_time": "2022-02-20T08:31:52.278Z"
   },
   {
    "duration": 35,
    "start_time": "2022-02-20T08:31:52.287Z"
   },
   {
    "duration": 8,
    "start_time": "2022-02-20T08:31:52.324Z"
   },
   {
    "duration": 9,
    "start_time": "2022-02-20T08:31:52.334Z"
   },
   {
    "duration": 9,
    "start_time": "2022-02-20T08:32:47.078Z"
   },
   {
    "duration": 8,
    "start_time": "2022-02-20T08:33:01.927Z"
   },
   {
    "duration": 9,
    "start_time": "2022-02-20T08:33:31.773Z"
   },
   {
    "duration": 7,
    "start_time": "2022-02-20T08:33:41.060Z"
   },
   {
    "duration": 12,
    "start_time": "2022-02-20T08:34:49.078Z"
   }
  ],
  "kernelspec": {
   "display_name": "Python 3",
   "language": "python",
   "name": "python3"
  },
  "language_info": {
   "codemirror_mode": {
    "name": "ipython",
    "version": 3
   },
   "file_extension": ".py",
   "mimetype": "text/x-python",
   "name": "python",
   "nbconvert_exporter": "python",
   "pygments_lexer": "ipython3",
   "version": "3.7.8"
  },
  "toc": {
   "base_numbering": 1,
   "nav_menu": {},
   "number_sections": true,
   "sideBar": true,
   "skip_h1_title": true,
   "title_cell": "Table of Contents",
   "title_sidebar": "Contents",
   "toc_cell": false,
   "toc_position": {},
   "toc_section_display": true,
   "toc_window_display": false
  }
 },
 "nbformat": 4,
 "nbformat_minor": 2
}
