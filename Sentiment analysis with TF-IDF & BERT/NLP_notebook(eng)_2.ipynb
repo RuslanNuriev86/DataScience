{
  "nbformat": 4,
  "nbformat_minor": 0,
  "metadata": {
    "colab": {
      "name": "NLP_notebook(eng) 2.ipynb",
      "provenance": [],
      "collapsed_sections": [],
      "toc_visible": true
    },
    "kernelspec": {
      "display_name": "Python 3",
      "language": "python",
      "name": "python3"
    },
    "language_info": {
      "codemirror_mode": {
        "name": "ipython",
        "version": 3
      },
      "file_extension": ".py",
      "mimetype": "text/x-python",
      "name": "python",
      "nbconvert_exporter": "python",
      "pygments_lexer": "ipython3",
      "version": "3.7.8"
    },
    "toc": {
      "base_numbering": 1,
      "nav_menu": {},
      "number_sections": true,
      "sideBar": true,
      "skip_h1_title": true,
      "title_cell": "Table of Contents",
      "title_sidebar": "Contents",
      "toc_cell": false,
      "toc_position": {},
      "toc_section_display": true,
      "toc_window_display": false
    },
    "widgets": {
      "application/vnd.jupyter.widget-state+json": {}
    }
  },
  "cells": [
    {
      "cell_type": "markdown",
      "metadata": {
        "id": "s_7kzNKcdWBG"
      },
      "source": [
        "# Sentiment analysis with TF-IDF & BERT"
      ]
    },
    {
      "cell_type": "markdown",
      "metadata": {
        "id": "rcxxGBK-dX_L"
      },
      "source": [
        "Online store starts new service allows users to edit and add item's description like it does in wiki community. It need to be developed the tool to find toxic comments and send them to moderation. Our goal is to build model that predicts whethere comment toxic or not. F1 score has to be 0.75 or more. \n",
        "\n",
        "**Data describtion**\n",
        "\n",
        "- *text* - text of comment\n",
        "- *toxic* - binary data: 1 if comment is toxic, 0 if not"
      ]
    },
    {
      "cell_type": "markdown",
      "metadata": {
        "id": "eq9JDQgzkFHP"
      },
      "source": [
        "## Data Preprocessing"
      ]
    },
    {
      "cell_type": "code",
      "metadata": {
        "colab": {
          "base_uri": "https://localhost:8080/"
        },
        "id": "ZSrKfTtdbe_X",
        "outputId": "4e4ae8c7-1319-43a9-e426-2f5272d96eb2"
      },
      "source": [
        "# load and import librarys\n",
        "!pip install transformers"
      ],
      "execution_count": null,
      "outputs": [
        {
          "name": "stdout",
          "output_type": "stream",
          "text": [
            "Collecting transformers\n",
            "  Downloading transformers-4.12.5-py3-none-any.whl (3.1 MB)\n",
            "\u001b[K     |████████████████████████████████| 3.1 MB 7.1 MB/s \n",
            "\u001b[?25hCollecting tokenizers<0.11,>=0.10.1\n",
            "  Downloading tokenizers-0.10.3-cp37-cp37m-manylinux_2_5_x86_64.manylinux1_x86_64.manylinux_2_12_x86_64.manylinux2010_x86_64.whl (3.3 MB)\n",
            "\u001b[K     |████████████████████████████████| 3.3 MB 35.1 MB/s \n",
            "\u001b[?25hRequirement already satisfied: importlib-metadata in /usr/local/lib/python3.7/dist-packages (from transformers) (4.8.2)\n",
            "Collecting sacremoses\n",
            "  Downloading sacremoses-0.0.46-py3-none-any.whl (895 kB)\n",
            "\u001b[K     |████████████████████████████████| 895 kB 41.0 MB/s \n",
            "\u001b[?25hRequirement already satisfied: tqdm>=4.27 in /usr/local/lib/python3.7/dist-packages (from transformers) (4.62.3)\n",
            "Requirement already satisfied: packaging>=20.0 in /usr/local/lib/python3.7/dist-packages (from transformers) (21.3)\n",
            "Requirement already satisfied: filelock in /usr/local/lib/python3.7/dist-packages (from transformers) (3.4.0)\n",
            "Requirement already satisfied: numpy>=1.17 in /usr/local/lib/python3.7/dist-packages (from transformers) (1.19.5)\n",
            "Requirement already satisfied: requests in /usr/local/lib/python3.7/dist-packages (from transformers) (2.23.0)\n",
            "Requirement already satisfied: regex!=2019.12.17 in /usr/local/lib/python3.7/dist-packages (from transformers) (2019.12.20)\n",
            "Collecting huggingface-hub<1.0,>=0.1.0\n",
            "  Downloading huggingface_hub-0.1.2-py3-none-any.whl (59 kB)\n",
            "\u001b[K     |████████████████████████████████| 59 kB 5.9 MB/s \n",
            "\u001b[?25hCollecting pyyaml>=5.1\n",
            "  Downloading PyYAML-6.0-cp37-cp37m-manylinux_2_5_x86_64.manylinux1_x86_64.manylinux_2_12_x86_64.manylinux2010_x86_64.whl (596 kB)\n",
            "\u001b[K     |████████████████████████████████| 596 kB 44.1 MB/s \n",
            "\u001b[?25hRequirement already satisfied: typing-extensions>=3.7.4.3 in /usr/local/lib/python3.7/dist-packages (from huggingface-hub<1.0,>=0.1.0->transformers) (3.10.0.2)\n",
            "Requirement already satisfied: pyparsing!=3.0.5,>=2.0.2 in /usr/local/lib/python3.7/dist-packages (from packaging>=20.0->transformers) (3.0.6)\n",
            "Requirement already satisfied: zipp>=0.5 in /usr/local/lib/python3.7/dist-packages (from importlib-metadata->transformers) (3.6.0)\n",
            "Requirement already satisfied: urllib3!=1.25.0,!=1.25.1,<1.26,>=1.21.1 in /usr/local/lib/python3.7/dist-packages (from requests->transformers) (1.24.3)\n",
            "Requirement already satisfied: chardet<4,>=3.0.2 in /usr/local/lib/python3.7/dist-packages (from requests->transformers) (3.0.4)\n",
            "Requirement already satisfied: idna<3,>=2.5 in /usr/local/lib/python3.7/dist-packages (from requests->transformers) (2.10)\n",
            "Requirement already satisfied: certifi>=2017.4.17 in /usr/local/lib/python3.7/dist-packages (from requests->transformers) (2021.10.8)\n",
            "Requirement already satisfied: joblib in /usr/local/lib/python3.7/dist-packages (from sacremoses->transformers) (1.1.0)\n",
            "Requirement already satisfied: six in /usr/local/lib/python3.7/dist-packages (from sacremoses->transformers) (1.15.0)\n",
            "Requirement already satisfied: click in /usr/local/lib/python3.7/dist-packages (from sacremoses->transformers) (7.1.2)\n",
            "Installing collected packages: pyyaml, tokenizers, sacremoses, huggingface-hub, transformers\n",
            "  Attempting uninstall: pyyaml\n",
            "    Found existing installation: PyYAML 3.13\n",
            "    Uninstalling PyYAML-3.13:\n",
            "      Successfully uninstalled PyYAML-3.13\n",
            "Successfully installed huggingface-hub-0.1.2 pyyaml-6.0 sacremoses-0.0.46 tokenizers-0.10.3 transformers-4.12.5\n"
          ]
        }
      ]
    },
    {
      "cell_type": "code",
      "metadata": {
        "colab": {
          "base_uri": "https://localhost:8080/"
        },
        "id": "r6vdY9YjhoOS",
        "outputId": "1befe0e9-a598-4e30-d261-727fa3157c4e"
      },
      "source": [
        "!pip install nltk"
      ],
      "execution_count": null,
      "outputs": [
        {
          "name": "stdout",
          "output_type": "stream",
          "text": [
            "Requirement already satisfied: nltk in /usr/local/lib/python3.7/dist-packages (3.2.5)\n",
            "Requirement already satisfied: six in /usr/local/lib/python3.7/dist-packages (from nltk) (1.15.0)\n"
          ]
        }
      ]
    },
    {
      "cell_type": "code",
      "metadata": {
        "colab": {
          "base_uri": "https://localhost:8080/"
        },
        "id": "YFVymNW4-Ma1",
        "outputId": "00a158f4-5a3f-4d4c-fa2e-717c3cf96728"
      },
      "source": [
        "!pip install contractions"
      ],
      "execution_count": null,
      "outputs": [
        {
          "name": "stdout",
          "output_type": "stream",
          "text": [
            "Collecting contractions\n",
            "  Downloading contractions-0.0.58-py2.py3-none-any.whl (8.0 kB)\n",
            "Collecting textsearch>=0.0.21\n",
            "  Downloading textsearch-0.0.21-py2.py3-none-any.whl (7.5 kB)\n",
            "Collecting pyahocorasick\n",
            "  Downloading pyahocorasick-1.4.2.tar.gz (321 kB)\n",
            "\u001b[K     |████████████████████████████████| 321 kB 7.5 MB/s \n",
            "\u001b[?25hCollecting anyascii\n",
            "  Downloading anyascii-0.3.0-py3-none-any.whl (284 kB)\n",
            "\u001b[K     |████████████████████████████████| 284 kB 52.2 MB/s \n",
            "\u001b[?25hBuilding wheels for collected packages: pyahocorasick\n",
            "  Building wheel for pyahocorasick (setup.py) ... \u001b[?25l\u001b[?25hdone\n",
            "  Created wheel for pyahocorasick: filename=pyahocorasick-1.4.2-cp37-cp37m-linux_x86_64.whl size=85447 sha256=63a8263f2244e6afc7399c8470ccb4734a7dcc22c02432f05221fb23f6b844c6\n",
            "  Stored in directory: /root/.cache/pip/wheels/25/19/a6/8f363d9939162782bb8439d886469756271abc01f76fbd790f\n",
            "Successfully built pyahocorasick\n",
            "Installing collected packages: pyahocorasick, anyascii, textsearch, contractions\n",
            "Successfully installed anyascii-0.3.0 contractions-0.0.58 pyahocorasick-1.4.2 textsearch-0.0.21\n"
          ]
        }
      ]
    },
    {
      "cell_type": "code",
      "metadata": {
        "id": "ilcbLz037H1t"
      },
      "source": [
        "import pandas as pd\n",
        "import numpy as np\n",
        "import seaborn as sns\n",
        "import matplotlib.pyplot as plt\n",
        "import torch\n",
        "import nltk\n",
        "import transformers\n",
        "from tqdm import notebook\n",
        "from sklearn.linear_model import LogisticRegression\n",
        "from sklearn.pipeline import Pipeline\n",
        "from sklearn.model_selection import cross_val_score\n",
        "from sklearn.model_selection import train_test_split, GridSearchCV\n",
        "from sklearn.metrics import accuracy_score\n",
        "from sklearn.metrics import f1_score, roc_auc_score\n",
        "from sklearn.feature_extraction.text import TfidfVectorizer\n",
        "from sklearn.dummy import DummyClassifier\n",
        "from sklearn.base import BaseEstimator, TransformerMixin\n",
        "import nltk\n",
        "from nltk.corpus import stopwords as nltk_stopwords\n",
        "from pymystem3 import Mystem\n",
        "from nltk.stem import WordNetLemmatizer\n",
        "import re\n",
        "import sys\n",
        "import contractions\n",
        "\n",
        "from transformers import BertModel, BertConfig\n",
        "from transformers import BertTokenizer, BertForNextSentencePrediction\n",
        "\n",
        "import lightgbm as lgb\n",
        "\n",
        "random_state = 12345"
      ],
      "execution_count": null,
      "outputs": []
    },
    {
      "cell_type": "code",
      "metadata": {
        "colab": {
          "base_uri": "https://localhost:8080/"
        },
        "id": "dosPtfdZdiRR",
        "outputId": "be6429b0-0a9d-4b68-ffdd-81c99317ec04"
      },
      "source": [
        "nltk.download('wordnet')"
      ],
      "execution_count": null,
      "outputs": [
        {
          "name": "stdout",
          "output_type": "stream",
          "text": [
            "[nltk_data] Downloading package wordnet to /root/nltk_data...\n",
            "[nltk_data]   Unzipping corpora/wordnet.zip.\n"
          ]
        },
        {
          "data": {
            "text/plain": [
              "True"
            ]
          },
          "execution_count": 6,
          "metadata": {},
          "output_type": "execute_result"
        }
      ]
    },
    {
      "cell_type": "code",
      "metadata": {
        "colab": {
          "base_uri": "https://localhost:8080/"
        },
        "id": "kq-u5__4wI2d",
        "outputId": "f8b6ad7b-5ecd-4578-be8a-9ba89362ed12"
      },
      "source": [
        "nltk.download('stopwords')\n"
      ],
      "execution_count": null,
      "outputs": [
        {
          "name": "stdout",
          "output_type": "stream",
          "text": [
            "[nltk_data] Downloading package stopwords to /root/nltk_data...\n",
            "[nltk_data]   Unzipping corpora/stopwords.zip.\n"
          ]
        },
        {
          "data": {
            "text/plain": [
              "True"
            ]
          },
          "execution_count": 7,
          "metadata": {},
          "output_type": "execute_result"
        }
      ]
    },
    {
      "cell_type": "code",
      "metadata": {
        "colab": {
          "base_uri": "https://localhost:8080/"
        },
        "id": "mDRGtBDm7emk",
        "outputId": "6e745aa9-be39-4865-c2ed-19398cccfdcd"
      },
      "source": [
        "from google.colab import drive\n",
        "drive.mount('/content/gdrive')"
      ],
      "execution_count": null,
      "outputs": [
        {
          "name": "stdout",
          "output_type": "stream",
          "text": [
            "Mounted at /content/gdrive\n"
          ]
        }
      ]
    },
    {
      "cell_type": "code",
      "metadata": {
        "id": "ilAMAPcE7nOA"
      },
      "source": [
        "#import data\n",
        "data = pd.read_csv('/content/gdrive/MyDrive/Colab Notebooks/Wikishop/toxic_comments.csv')"
      ],
      "execution_count": null,
      "outputs": []
    },
    {
      "cell_type": "code",
      "metadata": {
        "colab": {
          "base_uri": "https://localhost:8080/",
          "height": 363
        },
        "id": "b1iuVMPxLhaJ",
        "outputId": "e8a817cb-0dc8-49f7-cf65-a9a852725e1c"
      },
      "source": [
        "data.sample(10)"
      ],
      "execution_count": null,
      "outputs": [
        {
          "data": {
            "text/html": [
              "<div>\n",
              "<style scoped>\n",
              "    .dataframe tbody tr th:only-of-type {\n",
              "        vertical-align: middle;\n",
              "    }\n",
              "\n",
              "    .dataframe tbody tr th {\n",
              "        vertical-align: top;\n",
              "    }\n",
              "\n",
              "    .dataframe thead th {\n",
              "        text-align: right;\n",
              "    }\n",
              "</style>\n",
              "<table border=\"1\" class=\"dataframe\">\n",
              "  <thead>\n",
              "    <tr style=\"text-align: right;\">\n",
              "      <th></th>\n",
              "      <th>text</th>\n",
              "      <th>toxic</th>\n",
              "    </tr>\n",
              "  </thead>\n",
              "  <tbody>\n",
              "    <tr>\n",
              "      <th>146736</th>\n",
              "      <td>Chai (symbol)\\nI don't know  the other guy doe...</td>\n",
              "      <td>0</td>\n",
              "    </tr>\n",
              "    <tr>\n",
              "      <th>149652</th>\n",
              "      <td>FWIW ITN 'debates' never actually stop, WP:CCC...</td>\n",
              "      <td>0</td>\n",
              "    </tr>\n",
              "    <tr>\n",
              "      <th>97175</th>\n",
              "      <td>u wanna suck me off do it thats useful</td>\n",
              "      <td>1</td>\n",
              "    </tr>\n",
              "    <tr>\n",
              "      <th>60342</th>\n",
              "      <td>\"User:MiszaBot/config \\n|archiveheader = \\n|ma...</td>\n",
              "      <td>0</td>\n",
              "    </tr>\n",
              "    <tr>\n",
              "      <th>86391</th>\n",
              "      <td>This page is fucked up can someone please fix ...</td>\n",
              "      <td>1</td>\n",
              "    </tr>\n",
              "    <tr>\n",
              "      <th>43202</th>\n",
              "      <td>although, they may be armed for defensive purp...</td>\n",
              "      <td>0</td>\n",
              "    </tr>\n",
              "    <tr>\n",
              "      <th>106036</th>\n",
              "      <td>Black text on a plain background elicited reli...</td>\n",
              "      <td>0</td>\n",
              "    </tr>\n",
              "    <tr>\n",
              "      <th>21339</th>\n",
              "      <td>Why does Wikipidia have such a copright law wh...</td>\n",
              "      <td>1</td>\n",
              "    </tr>\n",
              "    <tr>\n",
              "      <th>134712</th>\n",
              "      <td>Thanks Eeekster\\nI don't know how to use Wikip...</td>\n",
              "      <td>0</td>\n",
              "    </tr>\n",
              "    <tr>\n",
              "      <th>129157</th>\n",
              "      <td>arsenal\\nim sorry, but i am not finished with ...</td>\n",
              "      <td>0</td>\n",
              "    </tr>\n",
              "  </tbody>\n",
              "</table>\n",
              "</div>"
            ],
            "text/plain": [
              "                                                     text  toxic\n",
              "146736  Chai (symbol)\\nI don't know  the other guy doe...      0\n",
              "149652  FWIW ITN 'debates' never actually stop, WP:CCC...      0\n",
              "97175              u wanna suck me off do it thats useful      1\n",
              "60342   \"User:MiszaBot/config \\n|archiveheader = \\n|ma...      0\n",
              "86391   This page is fucked up can someone please fix ...      1\n",
              "43202   although, they may be armed for defensive purp...      0\n",
              "106036  Black text on a plain background elicited reli...      0\n",
              "21339   Why does Wikipidia have such a copright law wh...      1\n",
              "134712  Thanks Eeekster\\nI don't know how to use Wikip...      0\n",
              "129157  arsenal\\nim sorry, but i am not finished with ...      0"
            ]
          },
          "execution_count": 10,
          "metadata": {},
          "output_type": "execute_result"
        }
      ]
    },
    {
      "cell_type": "code",
      "metadata": {
        "colab": {
          "base_uri": "https://localhost:8080/"
        },
        "id": "Jf68gSidyIBF",
        "outputId": "22ce8c55-c259-46f2-9c06-96eefa6f329f"
      },
      "source": [
        "data.info()"
      ],
      "execution_count": null,
      "outputs": [
        {
          "name": "stdout",
          "output_type": "stream",
          "text": [
            "<class 'pandas.core.frame.DataFrame'>\n",
            "RangeIndex: 159571 entries, 0 to 159570\n",
            "Data columns (total 2 columns):\n",
            " #   Column  Non-Null Count   Dtype \n",
            "---  ------  --------------   ----- \n",
            " 0   text    159571 non-null  object\n",
            " 1   toxic   159571 non-null  int64 \n",
            "dtypes: int64(1), object(1)\n",
            "memory usage: 2.4+ MB\n"
          ]
        }
      ]
    },
    {
      "cell_type": "code",
      "metadata": {
        "colab": {
          "base_uri": "https://localhost:8080/"
        },
        "id": "3pGVcybYMAr-",
        "outputId": "ba07298f-8535-49c1-9061-39fb5120bbca"
      },
      "source": [
        "data['toxic'].unique()"
      ],
      "execution_count": null,
      "outputs": [
        {
          "data": {
            "text/plain": [
              "array([0, 1])"
            ]
          },
          "execution_count": 12,
          "metadata": {},
          "output_type": "execute_result"
        }
      ]
    },
    {
      "cell_type": "code",
      "metadata": {
        "colab": {
          "base_uri": "https://localhost:8080/"
        },
        "id": "ObvDJRXqtaG4",
        "outputId": "5f890405-e790-4ea9-deea-c6a11166f3b0"
      },
      "source": [
        "data['toxic'].value_counts(normalize=True)"
      ],
      "execution_count": null,
      "outputs": [
        {
          "data": {
            "text/plain": [
              "0    0.898321\n",
              "1    0.101679\n",
              "Name: toxic, dtype: float64"
            ]
          },
          "execution_count": 13,
          "metadata": {},
          "output_type": "execute_result"
        }
      ]
    },
    {
      "cell_type": "code",
      "metadata": {
        "id": "yvSUVwlsflEz"
      },
      "source": [
        "# brake off features and targets from dataset\n",
        "X = data.drop('toxic', axis=1)\n",
        "y = data['toxic']"
      ],
      "execution_count": null,
      "outputs": []
    },
    {
      "cell_type": "code",
      "metadata": {
        "id": "dedd6tqYjfBh"
      },
      "source": [
        "X_train, X_test, y_train, y_test = train_test_split(\n",
        "    X, y, test_size=0.2, random_state=random_state, stratify=y)"
      ],
      "execution_count": null,
      "outputs": []
    },
    {
      "cell_type": "code",
      "metadata": {
        "colab": {
          "base_uri": "https://localhost:8080/"
        },
        "id": "tcxJ4DHmjo5X",
        "outputId": "2e0b55fa-21c7-4b99-9fb8-100a7a14b7f9"
      },
      "source": [
        "# let's look at the shapes\n",
        "sets = [X_train, X_test, y_train, y_test]\n",
        "for _ in sets:\n",
        "    print(_.shape)"
      ],
      "execution_count": null,
      "outputs": [
        {
          "name": "stdout",
          "output_type": "stream",
          "text": [
            "(127656, 1)\n",
            "(31915, 1)\n",
            "(127656,)\n",
            "(31915,)\n"
          ]
        }
      ]
    },
    {
      "cell_type": "markdown",
      "metadata": {
        "id": "MnvoHosawO9L"
      },
      "source": [
        "### Text Vectorization"
      ]
    },
    {
      "cell_type": "code",
      "metadata": {
        "id": "fHk2TJmAuDmM"
      },
      "source": [
        "# custom transformer\n",
        "class TextTransformer(BaseEstimator, TransformerMixin):\n",
        "  def __init__(self):\n",
        "    print('\\n>>>>>>>init() called.\\n')\n",
        "\n",
        "  def fit(self, X, y = None):\n",
        "    print('\\n>>>>>>>fit() called.\\n')\n",
        "    return self\n",
        "\n",
        "  def transform(self, X, y = None):\n",
        "    print('\\n>>>>>>>transform() called.\\n')\n",
        "    X_ = X.copy() # creating a copy to avoid changes to original dataset\n",
        "    # function returns a lemmas\n",
        "    def lemmatize(text):\n",
        "        m = WordNetLemmatizer()\n",
        "        lemm_list = m.lemmatize(text, 'v')\n",
        "        lemm_text = \"\".join(lemm_list)\n",
        "            \n",
        "        return lemm_text\n",
        "\n",
        "    # function cleans text from any marks\n",
        "    def clear_text(text):\n",
        "        return ' '.join(re.sub(r'[^a-zA-Z]', ' ', text).split())\n",
        "\n",
        "    # function replaces short forms with long forms(I'm -> I am, for example)\n",
        "    def expanded(text):\n",
        "      return contractions.fix(text)\n",
        "    \n",
        "    X_['lem_text'] = X_['text'].apply(expanded).apply(clear_text).apply(lemmatize)\n",
        "    corpus = X_['lem_text'].values.astype('U')\n",
        "    \n",
        "    return corpus"
      ],
      "execution_count": null,
      "outputs": []
    },
    {
      "cell_type": "markdown",
      "metadata": {
        "id": "5j6GgVIUkR3M"
      },
      "source": [
        "## Machine Learning"
      ]
    },
    {
      "cell_type": "code",
      "metadata": {
        "id": "NXc9kWyFvS-N"
      },
      "source": [
        "# let's run LogisticRegression and calculate it's f1 score\n",
        "clf = LogisticRegression(class_weight='balanced', random_state=random_state)\n"
      ],
      "execution_count": null,
      "outputs": []
    },
    {
      "cell_type": "code",
      "metadata": {
        "colab": {
          "base_uri": "https://localhost:8080/"
        },
        "id": "OinZkS37wwSx",
        "outputId": "4567891e-73cc-4a69-a3b8-6f16400b29ce"
      },
      "source": [
        "#using pipeline to avoid data leakage\n",
        "my_pipeline = Pipeline(steps=[\n",
        "        ('preprocessor', TextTransformer()),\n",
        "        ('tfidf', TfidfVectorizer(stop_words=set(nltk_stopwords.words('english')))),\n",
        "        ('estimator', clf)\n",
        "    ])"
      ],
      "execution_count": null,
      "outputs": [
        {
          "name": "stdout",
          "output_type": "stream",
          "text": [
            "\n",
            ">>>>>>>init() called.\n",
            "\n"
          ]
        }
      ]
    },
    {
      "cell_type": "code",
      "metadata": {
        "colab": {
          "base_uri": "https://localhost:8080/"
        },
        "id": "w5yzbVz0xEp-",
        "outputId": "90f2ec5d-d273-4cf9-a8b0-a1f89a4eaa77"
      },
      "source": [
        "my_pipeline.fit(X_train, y_train)"
      ],
      "execution_count": null,
      "outputs": [
        {
          "name": "stdout",
          "output_type": "stream",
          "text": [
            "\n",
            ">>>>>>>fit() called.\n",
            "\n",
            "\n",
            ">>>>>>>transform() called.\n",
            "\n"
          ]
        },
        {
          "name": "stderr",
          "output_type": "stream",
          "text": [
            "/usr/local/lib/python3.7/dist-packages/sklearn/svm/_base.py:1208: ConvergenceWarning: Liblinear failed to converge, increase the number of iterations.\n",
            "  ConvergenceWarning,\n"
          ]
        },
        {
          "data": {
            "text/plain": [
              "Pipeline(steps=[('preprocessor', TextTransformer()),\n",
              "                ('tfidf',\n",
              "                 TfidfVectorizer(stop_words={'a', 'about', 'above', 'after',\n",
              "                                             'again', 'against', 'ain', 'all',\n",
              "                                             'am', 'an', 'and', 'any', 'are',\n",
              "                                             'aren', \"aren't\", 'as', 'at', 'be',\n",
              "                                             'because', 'been', 'before',\n",
              "                                             'being', 'below', 'between',\n",
              "                                             'both', 'but', 'by', 'can',\n",
              "                                             'couldn', \"couldn't\", ...})),\n",
              "                ('estimator',\n",
              "                 LogisticRegression(C=20, class_weight='balanced', max_iter=20,\n",
              "                                    penalty='l1', random_state=12345,\n",
              "                                    solver='liblinear'))])"
            ]
          },
          "execution_count": 115,
          "metadata": {},
          "output_type": "execute_result"
        }
      ]
    },
    {
      "cell_type": "code",
      "metadata": {
        "colab": {
          "base_uri": "https://localhost:8080/"
        },
        "id": "M3_A5l3mvirk",
        "outputId": "3fa441f1-e1cc-4506-9a06-678ddcffd106"
      },
      "source": [
        "predict = my_pipeline.predict(X_test)\n",
        "predict.shape"
      ],
      "execution_count": null,
      "outputs": [
        {
          "name": "stdout",
          "output_type": "stream",
          "text": [
            "\n",
            ">>>>>>>transform() called.\n",
            "\n"
          ]
        },
        {
          "data": {
            "text/plain": [
              "(31915,)"
            ]
          },
          "execution_count": 22,
          "metadata": {},
          "output_type": "execute_result"
        }
      ]
    },
    {
      "cell_type": "code",
      "metadata": {
        "colab": {
          "base_uri": "https://localhost:8080/"
        },
        "id": "veSZy5HsvmYR",
        "outputId": "1f94695b-cfd6-47d3-9d9b-7314e978db3f"
      },
      "source": [
        "f1_score(y_test, predict)"
      ],
      "execution_count": null,
      "outputs": [
        {
          "data": {
            "text/plain": [
              "0.7606955561689207"
            ]
          },
          "execution_count": 23,
          "metadata": {},
          "output_type": "execute_result"
        }
      ]
    },
    {
      "cell_type": "code",
      "metadata": {
        "id": "AP1XwMUl1n2b"
      },
      "source": [
        "# trying to improve metric by finding optimal hyperparameters\n",
        "grid_params_lr = [{'estimator__penalty': ['l1', 'l2'],\n",
        "        'estimator__C': [3.5, 20],\n",
        "        'estimator__max_iter': [10, 20],\n",
        "        'estimator__solver': ['liblinear']}] "
      ],
      "execution_count": null,
      "outputs": []
    },
    {
      "cell_type": "code",
      "metadata": {
        "colab": {
          "base_uri": "https://localhost:8080/"
        },
        "id": "yiHMlqqx123k",
        "outputId": "f8f201e9-a5eb-4f68-b8b5-f19ca4cb9f39"
      },
      "source": [
        "gsearch_lr = GridSearchCV(estimator=my_pipeline,\n",
        "            param_grid=grid_params_lr,\n",
        "            scoring='f1_weighted',\n",
        "            cv=5) \n",
        "\n",
        "gsearch_lr.fit(X_train, y_train)\n",
        "print(gsearch_lr.best_params_)\n"
      ],
      "execution_count": null,
      "outputs": [
        {
          "name": "stdout",
          "output_type": "stream",
          "text": [
            "\n",
            ">>>>>>>init() called.\n",
            "\n",
            "\n",
            ">>>>>>>init() called.\n",
            "\n",
            "\n",
            ">>>>>>>fit() called.\n",
            "\n",
            "\n",
            ">>>>>>>transform() called.\n",
            "\n"
          ]
        },
        {
          "name": "stderr",
          "output_type": "stream",
          "text": [
            "/usr/local/lib/python3.7/dist-packages/sklearn/svm/_base.py:1208: ConvergenceWarning: Liblinear failed to converge, increase the number of iterations.\n",
            "  ConvergenceWarning,\n"
          ]
        },
        {
          "name": "stdout",
          "output_type": "stream",
          "text": [
            "\n",
            ">>>>>>>transform() called.\n",
            "\n",
            "\n",
            ">>>>>>>init() called.\n",
            "\n",
            "\n",
            ">>>>>>>fit() called.\n",
            "\n",
            "\n",
            ">>>>>>>transform() called.\n",
            "\n"
          ]
        },
        {
          "name": "stderr",
          "output_type": "stream",
          "text": [
            "/usr/local/lib/python3.7/dist-packages/sklearn/svm/_base.py:1208: ConvergenceWarning: Liblinear failed to converge, increase the number of iterations.\n",
            "  ConvergenceWarning,\n"
          ]
        },
        {
          "name": "stdout",
          "output_type": "stream",
          "text": [
            "\n",
            ">>>>>>>transform() called.\n",
            "\n",
            "\n",
            ">>>>>>>init() called.\n",
            "\n",
            "\n",
            ">>>>>>>fit() called.\n",
            "\n",
            "\n",
            ">>>>>>>transform() called.\n",
            "\n"
          ]
        },
        {
          "name": "stderr",
          "output_type": "stream",
          "text": [
            "/usr/local/lib/python3.7/dist-packages/sklearn/svm/_base.py:1208: ConvergenceWarning: Liblinear failed to converge, increase the number of iterations.\n",
            "  ConvergenceWarning,\n"
          ]
        },
        {
          "name": "stdout",
          "output_type": "stream",
          "text": [
            "\n",
            ">>>>>>>transform() called.\n",
            "\n",
            "\n",
            ">>>>>>>init() called.\n",
            "\n",
            "\n",
            ">>>>>>>fit() called.\n",
            "\n",
            "\n",
            ">>>>>>>transform() called.\n",
            "\n"
          ]
        },
        {
          "name": "stderr",
          "output_type": "stream",
          "text": [
            "/usr/local/lib/python3.7/dist-packages/sklearn/svm/_base.py:1208: ConvergenceWarning: Liblinear failed to converge, increase the number of iterations.\n",
            "  ConvergenceWarning,\n"
          ]
        },
        {
          "name": "stdout",
          "output_type": "stream",
          "text": [
            "\n",
            ">>>>>>>transform() called.\n",
            "\n",
            "\n",
            ">>>>>>>init() called.\n",
            "\n",
            "\n",
            ">>>>>>>fit() called.\n",
            "\n",
            "\n",
            ">>>>>>>transform() called.\n",
            "\n"
          ]
        },
        {
          "name": "stderr",
          "output_type": "stream",
          "text": [
            "/usr/local/lib/python3.7/dist-packages/sklearn/svm/_base.py:1208: ConvergenceWarning: Liblinear failed to converge, increase the number of iterations.\n",
            "  ConvergenceWarning,\n"
          ]
        },
        {
          "name": "stdout",
          "output_type": "stream",
          "text": [
            "\n",
            ">>>>>>>transform() called.\n",
            "\n",
            "\n",
            ">>>>>>>init() called.\n",
            "\n",
            "\n",
            ">>>>>>>fit() called.\n",
            "\n",
            "\n",
            ">>>>>>>transform() called.\n",
            "\n"
          ]
        },
        {
          "name": "stderr",
          "output_type": "stream",
          "text": [
            "/usr/local/lib/python3.7/dist-packages/sklearn/svm/_base.py:1208: ConvergenceWarning: Liblinear failed to converge, increase the number of iterations.\n",
            "  ConvergenceWarning,\n"
          ]
        },
        {
          "name": "stdout",
          "output_type": "stream",
          "text": [
            "\n",
            ">>>>>>>transform() called.\n",
            "\n",
            "\n",
            ">>>>>>>init() called.\n",
            "\n",
            "\n",
            ">>>>>>>fit() called.\n",
            "\n",
            "\n",
            ">>>>>>>transform() called.\n",
            "\n"
          ]
        },
        {
          "name": "stderr",
          "output_type": "stream",
          "text": [
            "/usr/local/lib/python3.7/dist-packages/sklearn/svm/_base.py:1208: ConvergenceWarning: Liblinear failed to converge, increase the number of iterations.\n",
            "  ConvergenceWarning,\n"
          ]
        },
        {
          "name": "stdout",
          "output_type": "stream",
          "text": [
            "\n",
            ">>>>>>>transform() called.\n",
            "\n",
            "\n",
            ">>>>>>>init() called.\n",
            "\n",
            "\n",
            ">>>>>>>fit() called.\n",
            "\n",
            "\n",
            ">>>>>>>transform() called.\n",
            "\n",
            "\n",
            ">>>>>>>transform() called.\n",
            "\n",
            "\n",
            ">>>>>>>init() called.\n",
            "\n",
            "\n",
            ">>>>>>>fit() called.\n",
            "\n",
            "\n",
            ">>>>>>>transform() called.\n",
            "\n",
            "\n",
            ">>>>>>>transform() called.\n",
            "\n",
            "\n",
            ">>>>>>>init() called.\n",
            "\n",
            "\n",
            ">>>>>>>fit() called.\n",
            "\n",
            "\n",
            ">>>>>>>transform() called.\n",
            "\n"
          ]
        },
        {
          "name": "stderr",
          "output_type": "stream",
          "text": [
            "/usr/local/lib/python3.7/dist-packages/sklearn/svm/_base.py:1208: ConvergenceWarning: Liblinear failed to converge, increase the number of iterations.\n",
            "  ConvergenceWarning,\n"
          ]
        },
        {
          "name": "stdout",
          "output_type": "stream",
          "text": [
            "\n",
            ">>>>>>>transform() called.\n",
            "\n",
            "\n",
            ">>>>>>>init() called.\n",
            "\n",
            "\n",
            ">>>>>>>fit() called.\n",
            "\n",
            "\n",
            ">>>>>>>transform() called.\n",
            "\n",
            "\n",
            ">>>>>>>transform() called.\n",
            "\n",
            "\n",
            ">>>>>>>init() called.\n",
            "\n",
            "\n",
            ">>>>>>>fit() called.\n",
            "\n",
            "\n",
            ">>>>>>>transform() called.\n",
            "\n",
            "\n",
            ">>>>>>>transform() called.\n",
            "\n",
            "\n",
            ">>>>>>>init() called.\n",
            "\n",
            "\n",
            ">>>>>>>fit() called.\n",
            "\n",
            "\n",
            ">>>>>>>transform() called.\n",
            "\n",
            "\n",
            ">>>>>>>transform() called.\n",
            "\n",
            "\n",
            ">>>>>>>init() called.\n",
            "\n",
            "\n",
            ">>>>>>>fit() called.\n",
            "\n",
            "\n",
            ">>>>>>>transform() called.\n",
            "\n",
            "\n",
            ">>>>>>>transform() called.\n",
            "\n",
            "\n",
            ">>>>>>>init() called.\n",
            "\n",
            "\n",
            ">>>>>>>fit() called.\n",
            "\n",
            "\n",
            ">>>>>>>transform() called.\n",
            "\n",
            "\n",
            ">>>>>>>transform() called.\n",
            "\n",
            "\n",
            ">>>>>>>init() called.\n",
            "\n",
            "\n",
            ">>>>>>>fit() called.\n",
            "\n",
            "\n",
            ">>>>>>>transform() called.\n",
            "\n",
            "\n",
            ">>>>>>>transform() called.\n",
            "\n",
            "\n",
            ">>>>>>>init() called.\n",
            "\n",
            "\n",
            ">>>>>>>fit() called.\n",
            "\n",
            "\n",
            ">>>>>>>transform() called.\n",
            "\n",
            "\n",
            ">>>>>>>transform() called.\n",
            "\n",
            "\n",
            ">>>>>>>init() called.\n",
            "\n",
            "\n",
            ">>>>>>>fit() called.\n",
            "\n",
            "\n",
            ">>>>>>>transform() called.\n",
            "\n",
            "\n",
            ">>>>>>>transform() called.\n",
            "\n",
            "\n",
            ">>>>>>>init() called.\n",
            "\n",
            "\n",
            ">>>>>>>fit() called.\n",
            "\n",
            "\n",
            ">>>>>>>transform() called.\n",
            "\n",
            "\n",
            ">>>>>>>transform() called.\n",
            "\n",
            "\n",
            ">>>>>>>init() called.\n",
            "\n",
            "\n",
            ">>>>>>>fit() called.\n",
            "\n",
            "\n",
            ">>>>>>>transform() called.\n",
            "\n",
            "\n",
            ">>>>>>>transform() called.\n",
            "\n",
            "\n",
            ">>>>>>>init() called.\n",
            "\n",
            "\n",
            ">>>>>>>fit() called.\n",
            "\n",
            "\n",
            ">>>>>>>transform() called.\n",
            "\n"
          ]
        },
        {
          "name": "stderr",
          "output_type": "stream",
          "text": [
            "/usr/local/lib/python3.7/dist-packages/sklearn/svm/_base.py:1208: ConvergenceWarning: Liblinear failed to converge, increase the number of iterations.\n",
            "  ConvergenceWarning,\n"
          ]
        },
        {
          "name": "stdout",
          "output_type": "stream",
          "text": [
            "\n",
            ">>>>>>>transform() called.\n",
            "\n",
            "\n",
            ">>>>>>>init() called.\n",
            "\n",
            "\n",
            ">>>>>>>fit() called.\n",
            "\n",
            "\n",
            ">>>>>>>transform() called.\n",
            "\n"
          ]
        },
        {
          "name": "stderr",
          "output_type": "stream",
          "text": [
            "/usr/local/lib/python3.7/dist-packages/sklearn/svm/_base.py:1208: ConvergenceWarning: Liblinear failed to converge, increase the number of iterations.\n",
            "  ConvergenceWarning,\n"
          ]
        },
        {
          "name": "stdout",
          "output_type": "stream",
          "text": [
            "\n",
            ">>>>>>>transform() called.\n",
            "\n",
            "\n",
            ">>>>>>>init() called.\n",
            "\n",
            "\n",
            ">>>>>>>fit() called.\n",
            "\n",
            "\n",
            ">>>>>>>transform() called.\n",
            "\n"
          ]
        },
        {
          "name": "stderr",
          "output_type": "stream",
          "text": [
            "/usr/local/lib/python3.7/dist-packages/sklearn/svm/_base.py:1208: ConvergenceWarning: Liblinear failed to converge, increase the number of iterations.\n",
            "  ConvergenceWarning,\n"
          ]
        },
        {
          "name": "stdout",
          "output_type": "stream",
          "text": [
            "\n",
            ">>>>>>>transform() called.\n",
            "\n",
            "\n",
            ">>>>>>>init() called.\n",
            "\n",
            "\n",
            ">>>>>>>fit() called.\n",
            "\n",
            "\n",
            ">>>>>>>transform() called.\n",
            "\n"
          ]
        },
        {
          "name": "stderr",
          "output_type": "stream",
          "text": [
            "/usr/local/lib/python3.7/dist-packages/sklearn/svm/_base.py:1208: ConvergenceWarning: Liblinear failed to converge, increase the number of iterations.\n",
            "  ConvergenceWarning,\n"
          ]
        },
        {
          "name": "stdout",
          "output_type": "stream",
          "text": [
            "\n",
            ">>>>>>>transform() called.\n",
            "\n",
            "\n",
            ">>>>>>>init() called.\n",
            "\n",
            "\n",
            ">>>>>>>fit() called.\n",
            "\n",
            "\n",
            ">>>>>>>transform() called.\n",
            "\n"
          ]
        },
        {
          "name": "stderr",
          "output_type": "stream",
          "text": [
            "/usr/local/lib/python3.7/dist-packages/sklearn/svm/_base.py:1208: ConvergenceWarning: Liblinear failed to converge, increase the number of iterations.\n",
            "  ConvergenceWarning,\n"
          ]
        },
        {
          "name": "stdout",
          "output_type": "stream",
          "text": [
            "\n",
            ">>>>>>>transform() called.\n",
            "\n",
            "\n",
            ">>>>>>>init() called.\n",
            "\n",
            "\n",
            ">>>>>>>fit() called.\n",
            "\n",
            "\n",
            ">>>>>>>transform() called.\n",
            "\n"
          ]
        },
        {
          "name": "stderr",
          "output_type": "stream",
          "text": [
            "/usr/local/lib/python3.7/dist-packages/sklearn/svm/_base.py:1208: ConvergenceWarning: Liblinear failed to converge, increase the number of iterations.\n",
            "  ConvergenceWarning,\n"
          ]
        },
        {
          "name": "stdout",
          "output_type": "stream",
          "text": [
            "\n",
            ">>>>>>>transform() called.\n",
            "\n",
            "\n",
            ">>>>>>>init() called.\n",
            "\n",
            "\n",
            ">>>>>>>fit() called.\n",
            "\n",
            "\n",
            ">>>>>>>transform() called.\n",
            "\n"
          ]
        },
        {
          "name": "stderr",
          "output_type": "stream",
          "text": [
            "/usr/local/lib/python3.7/dist-packages/sklearn/svm/_base.py:1208: ConvergenceWarning: Liblinear failed to converge, increase the number of iterations.\n",
            "  ConvergenceWarning,\n"
          ]
        },
        {
          "name": "stdout",
          "output_type": "stream",
          "text": [
            "\n",
            ">>>>>>>transform() called.\n",
            "\n",
            "\n",
            ">>>>>>>init() called.\n",
            "\n",
            "\n",
            ">>>>>>>fit() called.\n",
            "\n",
            "\n",
            ">>>>>>>transform() called.\n",
            "\n"
          ]
        },
        {
          "name": "stderr",
          "output_type": "stream",
          "text": [
            "/usr/local/lib/python3.7/dist-packages/sklearn/svm/_base.py:1208: ConvergenceWarning: Liblinear failed to converge, increase the number of iterations.\n",
            "  ConvergenceWarning,\n"
          ]
        },
        {
          "name": "stdout",
          "output_type": "stream",
          "text": [
            "\n",
            ">>>>>>>transform() called.\n",
            "\n",
            "\n",
            ">>>>>>>init() called.\n",
            "\n",
            "\n",
            ">>>>>>>fit() called.\n",
            "\n",
            "\n",
            ">>>>>>>transform() called.\n",
            "\n"
          ]
        },
        {
          "name": "stderr",
          "output_type": "stream",
          "text": [
            "/usr/local/lib/python3.7/dist-packages/sklearn/svm/_base.py:1208: ConvergenceWarning: Liblinear failed to converge, increase the number of iterations.\n",
            "  ConvergenceWarning,\n"
          ]
        },
        {
          "name": "stdout",
          "output_type": "stream",
          "text": [
            "\n",
            ">>>>>>>transform() called.\n",
            "\n",
            "\n",
            ">>>>>>>init() called.\n",
            "\n",
            "\n",
            ">>>>>>>fit() called.\n",
            "\n",
            "\n",
            ">>>>>>>transform() called.\n",
            "\n"
          ]
        },
        {
          "name": "stderr",
          "output_type": "stream",
          "text": [
            "/usr/local/lib/python3.7/dist-packages/sklearn/svm/_base.py:1208: ConvergenceWarning: Liblinear failed to converge, increase the number of iterations.\n",
            "  ConvergenceWarning,\n"
          ]
        },
        {
          "name": "stdout",
          "output_type": "stream",
          "text": [
            "\n",
            ">>>>>>>transform() called.\n",
            "\n",
            "\n",
            ">>>>>>>init() called.\n",
            "\n",
            "\n",
            ">>>>>>>fit() called.\n",
            "\n",
            "\n",
            ">>>>>>>transform() called.\n",
            "\n"
          ]
        },
        {
          "name": "stderr",
          "output_type": "stream",
          "text": [
            "/usr/local/lib/python3.7/dist-packages/sklearn/svm/_base.py:1208: ConvergenceWarning: Liblinear failed to converge, increase the number of iterations.\n",
            "  ConvergenceWarning,\n"
          ]
        },
        {
          "name": "stdout",
          "output_type": "stream",
          "text": [
            "\n",
            ">>>>>>>transform() called.\n",
            "\n",
            "\n",
            ">>>>>>>init() called.\n",
            "\n",
            "\n",
            ">>>>>>>fit() called.\n",
            "\n",
            "\n",
            ">>>>>>>transform() called.\n",
            "\n"
          ]
        },
        {
          "name": "stderr",
          "output_type": "stream",
          "text": [
            "/usr/local/lib/python3.7/dist-packages/sklearn/svm/_base.py:1208: ConvergenceWarning: Liblinear failed to converge, increase the number of iterations.\n",
            "  ConvergenceWarning,\n"
          ]
        },
        {
          "name": "stdout",
          "output_type": "stream",
          "text": [
            "\n",
            ">>>>>>>transform() called.\n",
            "\n",
            "\n",
            ">>>>>>>init() called.\n",
            "\n",
            "\n",
            ">>>>>>>fit() called.\n",
            "\n",
            "\n",
            ">>>>>>>transform() called.\n",
            "\n"
          ]
        },
        {
          "name": "stderr",
          "output_type": "stream",
          "text": [
            "/usr/local/lib/python3.7/dist-packages/sklearn/svm/_base.py:1208: ConvergenceWarning: Liblinear failed to converge, increase the number of iterations.\n",
            "  ConvergenceWarning,\n"
          ]
        },
        {
          "name": "stdout",
          "output_type": "stream",
          "text": [
            "\n",
            ">>>>>>>transform() called.\n",
            "\n",
            "\n",
            ">>>>>>>init() called.\n",
            "\n",
            "\n",
            ">>>>>>>fit() called.\n",
            "\n",
            "\n",
            ">>>>>>>transform() called.\n",
            "\n"
          ]
        },
        {
          "name": "stderr",
          "output_type": "stream",
          "text": [
            "/usr/local/lib/python3.7/dist-packages/sklearn/svm/_base.py:1208: ConvergenceWarning: Liblinear failed to converge, increase the number of iterations.\n",
            "  ConvergenceWarning,\n"
          ]
        },
        {
          "name": "stdout",
          "output_type": "stream",
          "text": [
            "\n",
            ">>>>>>>transform() called.\n",
            "\n",
            "\n",
            ">>>>>>>init() called.\n",
            "\n",
            "\n",
            ">>>>>>>fit() called.\n",
            "\n",
            "\n",
            ">>>>>>>transform() called.\n",
            "\n"
          ]
        },
        {
          "name": "stderr",
          "output_type": "stream",
          "text": [
            "/usr/local/lib/python3.7/dist-packages/sklearn/svm/_base.py:1208: ConvergenceWarning: Liblinear failed to converge, increase the number of iterations.\n",
            "  ConvergenceWarning,\n"
          ]
        },
        {
          "name": "stdout",
          "output_type": "stream",
          "text": [
            "\n",
            ">>>>>>>transform() called.\n",
            "\n",
            "\n",
            ">>>>>>>init() called.\n",
            "\n",
            "\n",
            ">>>>>>>fit() called.\n",
            "\n",
            "\n",
            ">>>>>>>transform() called.\n",
            "\n",
            "\n",
            ">>>>>>>transform() called.\n",
            "\n",
            "\n",
            ">>>>>>>init() called.\n",
            "\n",
            "\n",
            ">>>>>>>fit() called.\n",
            "\n",
            "\n",
            ">>>>>>>transform() called.\n",
            "\n",
            "\n",
            ">>>>>>>transform() called.\n",
            "\n",
            "\n",
            ">>>>>>>init() called.\n",
            "\n",
            "\n",
            ">>>>>>>fit() called.\n",
            "\n",
            "\n",
            ">>>>>>>transform() called.\n",
            "\n",
            "\n",
            ">>>>>>>transform() called.\n",
            "\n",
            "\n",
            ">>>>>>>init() called.\n",
            "\n",
            "\n",
            ">>>>>>>fit() called.\n",
            "\n",
            "\n",
            ">>>>>>>transform() called.\n",
            "\n",
            "\n",
            ">>>>>>>transform() called.\n",
            "\n",
            "\n",
            ">>>>>>>init() called.\n",
            "\n",
            "\n",
            ">>>>>>>fit() called.\n",
            "\n",
            "\n",
            ">>>>>>>transform() called.\n",
            "\n",
            "\n",
            ">>>>>>>transform() called.\n",
            "\n",
            "\n",
            ">>>>>>>init() called.\n",
            "\n",
            "\n",
            ">>>>>>>init() called.\n",
            "\n",
            "\n",
            ">>>>>>>fit() called.\n",
            "\n",
            "\n",
            ">>>>>>>transform() called.\n",
            "\n",
            "{'estimator__C': 20, 'estimator__max_iter': 10, 'estimator__penalty': 'l2', 'estimator__solver': 'liblinear'}\n"
          ]
        },
        {
          "name": "stderr",
          "output_type": "stream",
          "text": [
            "/usr/local/lib/python3.7/dist-packages/sklearn/svm/_base.py:1208: ConvergenceWarning: Liblinear failed to converge, increase the number of iterations.\n",
            "  ConvergenceWarning,\n"
          ]
        }
      ]
    },
    {
      "cell_type": "code",
      "metadata": {
        "colab": {
          "base_uri": "https://localhost:8080/"
        },
        "id": "UgrXs7q99xNW",
        "outputId": "6e8feaf0-e48b-4cd9-b0f1-f9ba6cde54e3"
      },
      "source": [
        "\n",
        "f1_score(y_test, gsearch_lr.best_estimator_.predict(X_test))"
      ],
      "execution_count": null,
      "outputs": [
        {
          "name": "stdout",
          "output_type": "stream",
          "text": [
            "\n",
            ">>>>>>>transform() called.\n",
            "\n"
          ]
        },
        {
          "data": {
            "text/plain": [
              "0.7777942704467864"
            ]
          },
          "execution_count": 118,
          "metadata": {},
          "output_type": "execute_result"
        }
      ]
    },
    {
      "cell_type": "code",
      "metadata": {
        "colab": {
          "base_uri": "https://localhost:8080/"
        },
        "id": "N0QN2yblHzyD",
        "outputId": "4d0f2069-444e-44ca-9857-3842a75a65df"
      },
      "source": [
        "# run a dummy test\n",
        "dummy_clf = DummyClassifier(strategy=\"most_frequent\", random_state=random_state)\n",
        "dummy_clf.fit(X_train, y_train)\n",
        "f1_score(y_test, dummy_clf.predict(X_test))"
      ],
      "execution_count": null,
      "outputs": [
        {
          "data": {
            "text/plain": [
              "0.0"
            ]
          },
          "execution_count": 28,
          "metadata": {},
          "output_type": "execute_result"
        }
      ]
    },
    {
      "cell_type": "markdown",
      "metadata": {
        "id": "9Qe0dQqDgZit"
      },
      "source": [
        "Our model's passed dummy test!  "
      ]
    },
    {
      "cell_type": "markdown",
      "metadata": {
        "id": "1AoAftVlH0iV"
      },
      "source": [
        "## BERT"
      ]
    },
    {
      "cell_type": "code",
      "metadata": {
        "id": "2GudBxCq06ZK"
      },
      "source": [
        "# use not a whole dataset to be sure we'll not run out of a RAM  \n",
        "data_ = pd.read_csv('/content/gdrive/MyDrive/Colab Notebooks/Wikishop/toxic_comments.csv')\n",
        "data_ = data_.sample(1500, random_state=random_state).reset_index(drop=True)"
      ],
      "execution_count": null,
      "outputs": []
    },
    {
      "cell_type": "code",
      "metadata": {
        "colab": {
          "base_uri": "https://localhost:8080/"
        },
        "id": "kF7CsPOd7RY6",
        "outputId": "c4e0d852-b6c0-4e8d-a8b9-12f08464de84"
      },
      "source": [
        "# toxic comments distribution is nearly the same\n",
        "data_['toxic'].value_counts(normalize=True)"
      ],
      "execution_count": null,
      "outputs": [
        {
          "output_type": "execute_result",
          "data": {
            "text/plain": [
              "0    0.902\n",
              "1    0.098\n",
              "Name: toxic, dtype: float64"
            ]
          },
          "metadata": {},
          "execution_count": 28
        }
      ]
    },
    {
      "cell_type": "code",
      "metadata": {
        "id": "Gcsbl2RbMK9v"
      },
      "source": [
        "# tokenize features\n",
        "tokenizer = transformers.BertTokenizer(\n",
        "    vocab_file='/content/gdrive/MyDrive/Colab Notebooks/Wikishop/vocab.txt')\n",
        "\n",
        "\n",
        "tokenized = data_['text'].apply(\n",
        "    lambda x: tokenizer.encode(x, add_special_tokens=True, padding=True, truncation=True, max_length=512))\n",
        "\n",
        "token_lens = []\n",
        "max_len = 0\n",
        "for i in tokenized.values:\n",
        "  token_lens.append(len(i))\n",
        "  if len(i) > max_len:\n",
        "    max_len = len(i)\n",
        "\n",
        "padded = np.array([i + [0]*(max_len - len(i)) for i in tokenized.values])\n",
        "\n",
        "attention_mask = np.where(padded != 0, 1, 0)"
      ],
      "execution_count": null,
      "outputs": []
    },
    {
      "cell_type": "code",
      "metadata": {
        "colab": {
          "base_uri": "https://localhost:8080/",
          "height": 649
        },
        "id": "LnfffgXpZyH0",
        "outputId": "f12720a6-765b-4a1c-b929-e03e9cdca4c8"
      },
      "source": [
        "# have a look at a token's lenghts distribution\n",
        "plt.figure(figsize=(12,10))\n",
        "ax = sns.distplot(token_lens)"
      ],
      "execution_count": null,
      "outputs": [
        {
          "name": "stderr",
          "output_type": "stream",
          "text": [
            "/usr/local/lib/python3.7/dist-packages/seaborn/distributions.py:2619: FutureWarning: `distplot` is a deprecated function and will be removed in a future version. Please adapt your code to use either `displot` (a figure-level function with similar flexibility) or `histplot` (an axes-level function for histograms).\n",
            "  warnings.warn(msg, FutureWarning)\n"
          ]
        },
        {
          "data": {
            "image/png": "[encoded data removed]",
            "text/plain": [
              "<Figure size 864x720 with 1 Axes>"
            ]
          },
          "metadata": {
            "needs_background": "light"
          },
          "output_type": "display_data"
        }
      ]
    },
    {
      "cell_type": "code",
      "metadata": {
        "colab": {
          "base_uri": "https://localhost:8080/"
        },
        "id": "0k0HbC22364n",
        "outputId": "21388b1c-ad2b-41c8-ad40-2e3aa18fac74"
      },
      "source": [
        "attention_mask.shape"
      ],
      "execution_count": null,
      "outputs": [
        {
          "data": {
            "text/plain": [
              "(1500, 512)"
            ]
          },
          "execution_count": 53,
          "metadata": {},
          "output_type": "execute_result"
        }
      ]
    },
    {
      "cell_type": "code",
      "metadata": {
        "colab": {
          "base_uri": "https://localhost:8080/"
        },
        "id": "5y1EQAW45x31",
        "outputId": "fa1474d6-7a3b-489b-b1d8-31772fdc05b9"
      },
      "source": [
        "padded.shape"
      ],
      "execution_count": null,
      "outputs": [
        {
          "data": {
            "text/plain": [
              "(1500, 512)"
            ]
          },
          "execution_count": 54,
          "metadata": {},
          "output_type": "execute_result"
        }
      ]
    },
    {
      "cell_type": "code",
      "metadata": {
        "colab": {
          "base_uri": "https://localhost:8080/"
        },
        "id": "h0FQ26F7ezEj",
        "outputId": "dab7ce6e-6c2f-4c4a-a562-d17250a25324"
      },
      "source": [
        "# import model and settings\n",
        "config = transformers.BertConfig.from_json_file(\n",
        "    '/content/gdrive/MyDrive/Colab Notebooks/Wikishop/bert_config.json')\n",
        "bert = transformers.BertModel.from_pretrained(\n",
        "    '/content/gdrive/MyDrive/Colab Notebooks/Wikishop/pytorch_model.bin', config=config)"
      ],
      "execution_count": null,
      "outputs": [
        {
          "name": "stderr",
          "output_type": "stream",
          "text": [
            "Some weights of the model checkpoint at /content/gdrive/MyDrive/Colab Notebooks/Wikishop/pytorch_model.bin were not used when initializing BertModel: ['cls.predictions.transform.dense.weight', 'cls.predictions.decoder.weight', 'cls.predictions.transform.dense.bias', 'cls.predictions.transform.LayerNorm.bias', 'cls.seq_relationship.bias', 'cls.predictions.transform.LayerNorm.weight', 'cls.predictions.bias', 'cls.seq_relationship.weight']\n",
            "- This IS expected if you are initializing BertModel from the checkpoint of a model trained on another task or with another architecture (e.g. initializing a BertForSequenceClassification model from a BertForPreTraining model).\n",
            "- This IS NOT expected if you are initializing BertModel from the checkpoint of a model that you expect to be exactly identical (initializing a BertForSequenceClassification model from a BertForSequenceClassification model).\n"
          ]
        }
      ]
    },
    {
      "cell_type": "code",
      "metadata": {
        "colab": {
          "base_uri": "https://localhost:8080/",
          "height": 570,
          "referenced_widgets": [
            "a199d99d560d44c0b36742b335f1bd10",
            "645356e1b82a45518e4e58728d918fed",
            "79d27fbe98d34789b5ec20f5ae57a62d",
            "f3feac69335841bf88d9dad218c61ff2",
            "66dcd239292b42668f5fb9708c7bf78f",
            "a0e639bdd98a47c783c9010e667c5c48",
            "9a395afd6bed4c23b4f1edfd9fe1f7ed",
            "1010075c4cfd4784b55391f23e7b99b5",
            "8e888557eabf44559cdd24453c744f5f",
            "3d586c1dd9b84348ae3e4dce2888ae33",
            "06cf829ea3ce4cde8848e80b116a1e8a"
          ]
        },
        "id": "dJkA1ihG67KZ",
        "outputId": "edf25c0a-b205-44d3-dcd7-074763e216b1"
      },
      "source": [
        "# create features via BERT\n",
        "batch_size = 100\n",
        "embeddings = []\n",
        "for i in notebook.tqdm(range(padded.shape[0] // batch_size)):\n",
        "  batch = torch.LongTensor(padded[batch_size*i:batch_size*(i+1)]).cuda() \n",
        "  attention_mask_batch = torch.LongTensor(attention_mask[batch_size*i:batch_size*(i+1)]).cuda()\n",
        "  print(attention_mask_batch.shape)\n",
        "  print(batch.shape)      \n",
        "  with torch.no_grad():\n",
        "    bert.cuda()\n",
        "    batch_embeddings = bert(batch, attention_mask=attention_mask_batch)\n",
        "        \n",
        "  embeddings.append(batch_embeddings[0][:,0,:].cpu().numpy())\n",
        "  del batch\n",
        "  del attention_mask_batch\n",
        "  del batch_embeddings"
      ],
      "execution_count": null,
      "outputs": [
        {
          "output_type": "display_data",
          "data": {
            "application/vnd.jupyter.widget-view+json": {
              "model_id": "a199d99d560d44c0b36742b335f1bd10",
              "version_minor": 0,
              "version_major": 2
            },
            "text/plain": [
              "  0%|          | 0/15 [00:00<?, ?it/s]"
            ]
          },
          "metadata": {}
        },
        {
          "output_type": "stream",
          "name": "stdout",
          "text": [
            "torch.Size([100, 512])\n",
            "torch.Size([100, 512])\n",
            "torch.Size([100, 512])\n",
            "torch.Size([100, 512])\n",
            "torch.Size([100, 512])\n",
            "torch.Size([100, 512])\n",
            "torch.Size([100, 512])\n",
            "torch.Size([100, 512])\n",
            "torch.Size([100, 512])\n",
            "torch.Size([100, 512])\n",
            "torch.Size([100, 512])\n",
            "torch.Size([100, 512])\n",
            "torch.Size([100, 512])\n",
            "torch.Size([100, 512])\n",
            "torch.Size([100, 512])\n",
            "torch.Size([100, 512])\n",
            "torch.Size([100, 512])\n",
            "torch.Size([100, 512])\n",
            "torch.Size([100, 512])\n",
            "torch.Size([100, 512])\n",
            "torch.Size([100, 512])\n",
            "torch.Size([100, 512])\n",
            "torch.Size([100, 512])\n",
            "torch.Size([100, 512])\n",
            "torch.Size([100, 512])\n",
            "torch.Size([100, 512])\n",
            "torch.Size([100, 512])\n",
            "torch.Size([100, 512])\n",
            "torch.Size([100, 512])\n",
            "torch.Size([100, 512])\n"
          ]
        }
      ]
    },
    {
      "cell_type": "code",
      "metadata": {
        "id": "jJCJOsZKfBeP"
      },
      "source": [
        "features = np.concatenate(embeddings)"
      ],
      "execution_count": null,
      "outputs": []
    },
    {
      "cell_type": "code",
      "metadata": {
        "id": "Rp_3yYl6fFy9"
      },
      "source": [
        "X = features\n",
        "y = data_['toxic']"
      ],
      "execution_count": null,
      "outputs": []
    },
    {
      "cell_type": "code",
      "metadata": {
        "id": "XWDwSgrWfGjA"
      },
      "source": [
        "# split the data\n",
        "X_train, X_test, y_train, y_test = train_test_split(\n",
        "    X, y, test_size=0.2, random_state=random_state, stratify=y)"
      ],
      "execution_count": null,
      "outputs": []
    },
    {
      "cell_type": "code",
      "metadata": {
        "colab": {
          "base_uri": "https://localhost:8080/"
        },
        "id": "OCOMFJtefJxm",
        "outputId": "5fbba75c-7891-43ee-e8af-a5c177072aa7"
      },
      "source": [
        "sets = [X_train, X_test, y_train, y_test]\n",
        "for _ in sets:\n",
        "    print(_.shape)"
      ],
      "execution_count": null,
      "outputs": [
        {
          "name": "stdout",
          "output_type": "stream",
          "text": [
            "(1200, 768)\n",
            "(300, 768)\n",
            "(1200,)\n",
            "(300,)\n"
          ]
        }
      ]
    },
    {
      "cell_type": "code",
      "metadata": {
        "colab": {
          "base_uri": "https://localhost:8080/"
        },
        "id": "6WtmqCXWa0za",
        "outputId": "10c468bc-fff8-4462-cb5f-207d19ba83b1"
      },
      "source": [
        "clf = LogisticRegression(class_weight='balanced', C=20, max_iter=20, penalty='l1', solver='liblinear', random_state=random_state).fit(X_train, y_train)"
      ],
      "execution_count": null,
      "outputs": [
        {
          "name": "stderr",
          "output_type": "stream",
          "text": [
            "/usr/local/lib/python3.7/dist-packages/sklearn/svm/_base.py:1208: ConvergenceWarning: Liblinear failed to converge, increase the number of iterations.\n",
            "  ConvergenceWarning,\n"
          ]
        }
      ]
    },
    {
      "cell_type": "code",
      "metadata": {
        "colab": {
          "base_uri": "https://localhost:8080/"
        },
        "id": "gwxdROnlfOZ2",
        "outputId": "7359f7bc-ab92-4109-cf1d-bf12eb72d7be"
      },
      "source": [
        "predict = clf.predict(X_test)\n",
        "predict.shape"
      ],
      "execution_count": null,
      "outputs": [
        {
          "data": {
            "text/plain": [
              "(300,)"
            ]
          },
          "execution_count": 107,
          "metadata": {},
          "output_type": "execute_result"
        }
      ]
    },
    {
      "cell_type": "code",
      "metadata": {
        "colab": {
          "base_uri": "https://localhost:8080/"
        },
        "id": "bw1ZJFqUfR7b",
        "outputId": "f3e81694-5b47-44ba-c68e-85e92be1b110"
      },
      "source": [
        "f1_score(y_test, predict)\n"
      ],
      "execution_count": null,
      "outputs": [
        {
          "data": {
            "text/plain": [
              "0.7636363636363636"
            ]
          },
          "execution_count": 108,
          "metadata": {},
          "output_type": "execute_result"
        }
      ]
    },
    {
      "cell_type": "markdown",
      "metadata": {
        "id": "StDghOkmkZYs"
      },
      "source": [
        "## Conclusion"
      ]
    },
    {
      "cell_type": "markdown",
      "metadata": {
        "id": "tm9o0dsEkt68"
      },
      "source": [
        "In this project we built models capable to determine a toxic comments. we used two different ways to vectorize features - TF-IDF and BERT. Both of them can show almost the same results and match requirements (F1 score is equal or more then 0.75). But the second one can be learned on much less dataset (1500 vs 159,000). "
      ]
    }
  ]
}