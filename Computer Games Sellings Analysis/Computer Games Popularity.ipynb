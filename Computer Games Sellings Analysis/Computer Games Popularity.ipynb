{
 "cells": [
  {
   "cell_type": "markdown",
   "metadata": {},
   "source": [
    "# Computer Games Sellings Analysis\n",
    "\n",
    "In this project we need to predict the best selling computer games for the next year. To do that we going to analyze statistics of previous years (before 2017) - sales, critic and user scores, genres, platforms, etc.   "
   ]
  },
  {
   "cell_type": "markdown",
   "metadata": {},
   "source": [
    "## Data Exploration"
   ]
  },
  {
   "cell_type": "code",
   "execution_count": 1,
   "metadata": {},
   "outputs": [],
   "source": [
    "#libraries importing and data loading\n",
    "import pandas as pd\n",
    "import numpy as np\n",
    "import seaborn as sns\n",
    "from matplotlib import pyplot as plt\n",
    "from scipy import stats as st\n",
    "\n",
    "data = pd.read_csv('/datasets/games.csv')"
   ]
  },
  {
   "cell_type": "code",
   "execution_count": 2,
   "metadata": {},
   "outputs": [
    {
     "data": {
      "text/html": [
       "<div>\n",
       "<style scoped>\n",
       "    .dataframe tbody tr th:only-of-type {\n",
       "        vertical-align: middle;\n",
       "    }\n",
       "\n",
       "    .dataframe tbody tr th {\n",
       "        vertical-align: top;\n",
       "    }\n",
       "\n",
       "    .dataframe thead th {\n",
       "        text-align: right;\n",
       "    }\n",
       "</style>\n",
       "<table border=\"1\" class=\"dataframe\">\n",
       "  <thead>\n",
       "    <tr style=\"text-align: right;\">\n",
       "      <th></th>\n",
       "      <th>Name</th>\n",
       "      <th>Platform</th>\n",
       "      <th>Year_of_Release</th>\n",
       "      <th>Genre</th>\n",
       "      <th>NA_sales</th>\n",
       "      <th>EU_sales</th>\n",
       "      <th>JP_sales</th>\n",
       "      <th>Other_sales</th>\n",
       "      <th>Critic_Score</th>\n",
       "      <th>User_Score</th>\n",
       "      <th>Rating</th>\n",
       "    </tr>\n",
       "  </thead>\n",
       "  <tbody>\n",
       "    <tr>\n",
       "      <td>2060</td>\n",
       "      <td>God of War: Ghost of Sparta</td>\n",
       "      <td>PSP</td>\n",
       "      <td>2010.0</td>\n",
       "      <td>Action</td>\n",
       "      <td>0.41</td>\n",
       "      <td>0.35</td>\n",
       "      <td>0.03</td>\n",
       "      <td>0.21</td>\n",
       "      <td>86.0</td>\n",
       "      <td>8.4</td>\n",
       "      <td>M</td>\n",
       "    </tr>\n",
       "    <tr>\n",
       "      <td>15356</td>\n",
       "      <td>World Neverland 2in1 Portable: Olerud Kingdom ...</td>\n",
       "      <td>PSP</td>\n",
       "      <td>2008.0</td>\n",
       "      <td>Simulation</td>\n",
       "      <td>0.00</td>\n",
       "      <td>0.00</td>\n",
       "      <td>0.02</td>\n",
       "      <td>0.00</td>\n",
       "      <td>NaN</td>\n",
       "      <td>NaN</td>\n",
       "      <td>NaN</td>\n",
       "    </tr>\n",
       "    <tr>\n",
       "      <td>63</td>\n",
       "      <td>Mario Kart 64</td>\n",
       "      <td>N64</td>\n",
       "      <td>1996.0</td>\n",
       "      <td>Racing</td>\n",
       "      <td>5.55</td>\n",
       "      <td>1.94</td>\n",
       "      <td>2.23</td>\n",
       "      <td>0.15</td>\n",
       "      <td>NaN</td>\n",
       "      <td>NaN</td>\n",
       "      <td>NaN</td>\n",
       "    </tr>\n",
       "    <tr>\n",
       "      <td>14085</td>\n",
       "      <td>J-League Pro Striker 2</td>\n",
       "      <td>GEN</td>\n",
       "      <td>1994.0</td>\n",
       "      <td>Sports</td>\n",
       "      <td>0.00</td>\n",
       "      <td>0.00</td>\n",
       "      <td>0.04</td>\n",
       "      <td>0.00</td>\n",
       "      <td>NaN</td>\n",
       "      <td>NaN</td>\n",
       "      <td>NaN</td>\n",
       "    </tr>\n",
       "    <tr>\n",
       "      <td>8954</td>\n",
       "      <td>Tamagotchi Collection</td>\n",
       "      <td>DS</td>\n",
       "      <td>2011.0</td>\n",
       "      <td>Misc</td>\n",
       "      <td>0.00</td>\n",
       "      <td>0.00</td>\n",
       "      <td>0.15</td>\n",
       "      <td>0.00</td>\n",
       "      <td>NaN</td>\n",
       "      <td>NaN</td>\n",
       "      <td>NaN</td>\n",
       "    </tr>\n",
       "    <tr>\n",
       "      <td>9047</td>\n",
       "      <td>Mojo!</td>\n",
       "      <td>PS2</td>\n",
       "      <td>2003.0</td>\n",
       "      <td>Puzzle</td>\n",
       "      <td>0.07</td>\n",
       "      <td>0.05</td>\n",
       "      <td>0.00</td>\n",
       "      <td>0.02</td>\n",
       "      <td>NaN</td>\n",
       "      <td>NaN</td>\n",
       "      <td>NaN</td>\n",
       "    </tr>\n",
       "    <tr>\n",
       "      <td>11996</td>\n",
       "      <td>Child of Light</td>\n",
       "      <td>PSV</td>\n",
       "      <td>2014.0</td>\n",
       "      <td>Role-Playing</td>\n",
       "      <td>0.00</td>\n",
       "      <td>0.04</td>\n",
       "      <td>0.02</td>\n",
       "      <td>0.01</td>\n",
       "      <td>83.0</td>\n",
       "      <td>7.8</td>\n",
       "      <td>E10+</td>\n",
       "    </tr>\n",
       "    <tr>\n",
       "      <td>8329</td>\n",
       "      <td>Major League Baseball 2K9</td>\n",
       "      <td>PS2</td>\n",
       "      <td>2009.0</td>\n",
       "      <td>Sports</td>\n",
       "      <td>0.08</td>\n",
       "      <td>0.06</td>\n",
       "      <td>0.00</td>\n",
       "      <td>0.02</td>\n",
       "      <td>NaN</td>\n",
       "      <td>5.4</td>\n",
       "      <td>E</td>\n",
       "    </tr>\n",
       "    <tr>\n",
       "      <td>4813</td>\n",
       "      <td>Ragnarok Odyssey</td>\n",
       "      <td>PSV</td>\n",
       "      <td>2012.0</td>\n",
       "      <td>Role-Playing</td>\n",
       "      <td>0.20</td>\n",
       "      <td>0.01</td>\n",
       "      <td>0.16</td>\n",
       "      <td>0.03</td>\n",
       "      <td>66.0</td>\n",
       "      <td>7.8</td>\n",
       "      <td>T</td>\n",
       "    </tr>\n",
       "    <tr>\n",
       "      <td>15236</td>\n",
       "      <td>Kung Fu Panda</td>\n",
       "      <td>PC</td>\n",
       "      <td>2008.0</td>\n",
       "      <td>Action</td>\n",
       "      <td>0.00</td>\n",
       "      <td>0.02</td>\n",
       "      <td>0.00</td>\n",
       "      <td>0.00</td>\n",
       "      <td>71.0</td>\n",
       "      <td>7.8</td>\n",
       "      <td>E10+</td>\n",
       "    </tr>\n",
       "  </tbody>\n",
       "</table>\n",
       "</div>"
      ],
      "text/plain": [
       "                                                    Name Platform  \\\n",
       "2060                         God of War: Ghost of Sparta      PSP   \n",
       "15356  World Neverland 2in1 Portable: Olerud Kingdom ...      PSP   \n",
       "63                                         Mario Kart 64      N64   \n",
       "14085                             J-League Pro Striker 2      GEN   \n",
       "8954                               Tamagotchi Collection       DS   \n",
       "9047                                               Mojo!      PS2   \n",
       "11996                                     Child of Light      PSV   \n",
       "8329                           Major League Baseball 2K9      PS2   \n",
       "4813                                    Ragnarok Odyssey      PSV   \n",
       "15236                                      Kung Fu Panda       PC   \n",
       "\n",
       "       Year_of_Release         Genre  NA_sales  EU_sales  JP_sales  \\\n",
       "2060            2010.0        Action      0.41      0.35      0.03   \n",
       "15356           2008.0    Simulation      0.00      0.00      0.02   \n",
       "63              1996.0        Racing      5.55      1.94      2.23   \n",
       "14085           1994.0        Sports      0.00      0.00      0.04   \n",
       "8954            2011.0          Misc      0.00      0.00      0.15   \n",
       "9047            2003.0        Puzzle      0.07      0.05      0.00   \n",
       "11996           2014.0  Role-Playing      0.00      0.04      0.02   \n",
       "8329            2009.0        Sports      0.08      0.06      0.00   \n",
       "4813            2012.0  Role-Playing      0.20      0.01      0.16   \n",
       "15236           2008.0        Action      0.00      0.02      0.00   \n",
       "\n",
       "       Other_sales  Critic_Score User_Score Rating  \n",
       "2060          0.21          86.0        8.4      M  \n",
       "15356         0.00           NaN        NaN    NaN  \n",
       "63            0.15           NaN        NaN    NaN  \n",
       "14085         0.00           NaN        NaN    NaN  \n",
       "8954          0.00           NaN        NaN    NaN  \n",
       "9047          0.02           NaN        NaN    NaN  \n",
       "11996         0.01          83.0        7.8   E10+  \n",
       "8329          0.02           NaN        5.4      E  \n",
       "4813          0.03          66.0        7.8      T  \n",
       "15236         0.00          71.0        7.8   E10+  "
      ]
     },
     "execution_count": 2,
     "metadata": {},
     "output_type": "execute_result"
    }
   ],
   "source": [
    "#a look at the data\n",
    "data.sample(10)"
   ]
  },
  {
   "cell_type": "code",
   "execution_count": 3,
   "metadata": {
    "scrolled": true
   },
   "outputs": [
    {
     "name": "stdout",
     "output_type": "stream",
     "text": [
      "<class 'pandas.core.frame.DataFrame'>\n",
      "RangeIndex: 16715 entries, 0 to 16714\n",
      "Data columns (total 11 columns):\n",
      "Name               16713 non-null object\n",
      "Platform           16715 non-null object\n",
      "Year_of_Release    16446 non-null float64\n",
      "Genre              16713 non-null object\n",
      "NA_sales           16715 non-null float64\n",
      "EU_sales           16715 non-null float64\n",
      "JP_sales           16715 non-null float64\n",
      "Other_sales        16715 non-null float64\n",
      "Critic_Score       8137 non-null float64\n",
      "User_Score         10014 non-null object\n",
      "Rating             9949 non-null object\n",
      "dtypes: float64(6), object(5)\n",
      "memory usage: 1.4+ MB\n"
     ]
    }
   ],
   "source": [
    "data.info()"
   ]
  },
  {
   "cell_type": "code",
   "execution_count": 4,
   "metadata": {},
   "outputs": [
    {
     "data": {
      "text/html": [
       "<div>\n",
       "<style scoped>\n",
       "    .dataframe tbody tr th:only-of-type {\n",
       "        vertical-align: middle;\n",
       "    }\n",
       "\n",
       "    .dataframe tbody tr th {\n",
       "        vertical-align: top;\n",
       "    }\n",
       "\n",
       "    .dataframe thead th {\n",
       "        text-align: right;\n",
       "    }\n",
       "</style>\n",
       "<table border=\"1\" class=\"dataframe\">\n",
       "  <thead>\n",
       "    <tr style=\"text-align: right;\">\n",
       "      <th></th>\n",
       "      <th>Year_of_Release</th>\n",
       "      <th>NA_sales</th>\n",
       "      <th>EU_sales</th>\n",
       "      <th>JP_sales</th>\n",
       "      <th>Other_sales</th>\n",
       "      <th>Critic_Score</th>\n",
       "    </tr>\n",
       "  </thead>\n",
       "  <tbody>\n",
       "    <tr>\n",
       "      <td>count</td>\n",
       "      <td>16446.000000</td>\n",
       "      <td>16715.000000</td>\n",
       "      <td>16715.000000</td>\n",
       "      <td>16715.000000</td>\n",
       "      <td>16715.000000</td>\n",
       "      <td>8137.000000</td>\n",
       "    </tr>\n",
       "    <tr>\n",
       "      <td>mean</td>\n",
       "      <td>2006.484616</td>\n",
       "      <td>0.263377</td>\n",
       "      <td>0.145060</td>\n",
       "      <td>0.077617</td>\n",
       "      <td>0.047342</td>\n",
       "      <td>68.967679</td>\n",
       "    </tr>\n",
       "    <tr>\n",
       "      <td>std</td>\n",
       "      <td>5.877050</td>\n",
       "      <td>0.813604</td>\n",
       "      <td>0.503339</td>\n",
       "      <td>0.308853</td>\n",
       "      <td>0.186731</td>\n",
       "      <td>13.938165</td>\n",
       "    </tr>\n",
       "    <tr>\n",
       "      <td>min</td>\n",
       "      <td>1980.000000</td>\n",
       "      <td>0.000000</td>\n",
       "      <td>0.000000</td>\n",
       "      <td>0.000000</td>\n",
       "      <td>0.000000</td>\n",
       "      <td>13.000000</td>\n",
       "    </tr>\n",
       "    <tr>\n",
       "      <td>25%</td>\n",
       "      <td>2003.000000</td>\n",
       "      <td>0.000000</td>\n",
       "      <td>0.000000</td>\n",
       "      <td>0.000000</td>\n",
       "      <td>0.000000</td>\n",
       "      <td>60.000000</td>\n",
       "    </tr>\n",
       "    <tr>\n",
       "      <td>50%</td>\n",
       "      <td>2007.000000</td>\n",
       "      <td>0.080000</td>\n",
       "      <td>0.020000</td>\n",
       "      <td>0.000000</td>\n",
       "      <td>0.010000</td>\n",
       "      <td>71.000000</td>\n",
       "    </tr>\n",
       "    <tr>\n",
       "      <td>75%</td>\n",
       "      <td>2010.000000</td>\n",
       "      <td>0.240000</td>\n",
       "      <td>0.110000</td>\n",
       "      <td>0.040000</td>\n",
       "      <td>0.030000</td>\n",
       "      <td>79.000000</td>\n",
       "    </tr>\n",
       "    <tr>\n",
       "      <td>max</td>\n",
       "      <td>2016.000000</td>\n",
       "      <td>41.360000</td>\n",
       "      <td>28.960000</td>\n",
       "      <td>10.220000</td>\n",
       "      <td>10.570000</td>\n",
       "      <td>98.000000</td>\n",
       "    </tr>\n",
       "  </tbody>\n",
       "</table>\n",
       "</div>"
      ],
      "text/plain": [
       "       Year_of_Release      NA_sales      EU_sales      JP_sales  \\\n",
       "count     16446.000000  16715.000000  16715.000000  16715.000000   \n",
       "mean       2006.484616      0.263377      0.145060      0.077617   \n",
       "std           5.877050      0.813604      0.503339      0.308853   \n",
       "min        1980.000000      0.000000      0.000000      0.000000   \n",
       "25%        2003.000000      0.000000      0.000000      0.000000   \n",
       "50%        2007.000000      0.080000      0.020000      0.000000   \n",
       "75%        2010.000000      0.240000      0.110000      0.040000   \n",
       "max        2016.000000     41.360000     28.960000     10.220000   \n",
       "\n",
       "        Other_sales  Critic_Score  \n",
       "count  16715.000000   8137.000000  \n",
       "mean       0.047342     68.967679  \n",
       "std        0.186731     13.938165  \n",
       "min        0.000000     13.000000  \n",
       "25%        0.000000     60.000000  \n",
       "50%        0.010000     71.000000  \n",
       "75%        0.030000     79.000000  \n",
       "max       10.570000     98.000000  "
      ]
     },
     "execution_count": 4,
     "metadata": {},
     "output_type": "execute_result"
    }
   ],
   "source": [
    "data.describe()"
   ]
  },
  {
   "cell_type": "code",
   "execution_count": 5,
   "metadata": {
    "scrolled": true
   },
   "outputs": [
    {
     "data": {
      "text/plain": [
       "array(['Wii', 'NES', 'GB', 'DS', 'X360', 'PS3', 'PS2', 'SNES', 'GBA',\n",
       "       'PS4', '3DS', 'N64', 'PS', 'XB', 'PC', '2600', 'PSP', 'XOne',\n",
       "       'WiiU', 'GC', 'GEN', 'DC', 'PSV', 'SAT', 'SCD', 'WS', 'NG', 'TG16',\n",
       "       '3DO', 'GG', 'PCFX'], dtype=object)"
      ]
     },
     "execution_count": 5,
     "metadata": {},
     "output_type": "execute_result"
    }
   ],
   "source": [
    "#platforms\n",
    "data['Platform'].unique()"
   ]
  },
  {
   "cell_type": "code",
   "execution_count": 6,
   "metadata": {},
   "outputs": [
    {
     "data": {
      "text/plain": [
       "PS2     2161\n",
       "DS      2151\n",
       "PS3     1331\n",
       "Wii     1320\n",
       "X360    1262\n",
       "PSP     1209\n",
       "PS      1197\n",
       "PC       974\n",
       "XB       824\n",
       "GBA      822\n",
       "GC       556\n",
       "3DS      520\n",
       "PSV      430\n",
       "PS4      392\n",
       "N64      319\n",
       "XOne     247\n",
       "SNES     239\n",
       "SAT      173\n",
       "WiiU     147\n",
       "2600     133\n",
       "GB        98\n",
       "NES       98\n",
       "DC        52\n",
       "GEN       29\n",
       "NG        12\n",
       "SCD        6\n",
       "WS         6\n",
       "3DO        3\n",
       "TG16       2\n",
       "GG         1\n",
       "PCFX       1\n",
       "Name: Platform, dtype: int64"
      ]
     },
     "execution_count": 6,
     "metadata": {},
     "output_type": "execute_result"
    }
   ],
   "source": [
    "data['Platform'].value_counts()"
   ]
  },
  {
   "cell_type": "code",
   "execution_count": 7,
   "metadata": {},
   "outputs": [
    {
     "data": {
      "text/plain": [
       "<bound method DataFrame.sort_values of                      min             max\n",
       "         Year_of_Release Year_of_Release\n",
       "Platform                                \n",
       "2600              1980.0          1989.0\n",
       "3DO               1994.0          1995.0\n",
       "3DS               2011.0          2016.0\n",
       "DC                1998.0          2008.0\n",
       "DS                1985.0          2013.0\n",
       "GB                1988.0          2001.0\n",
       "GBA               2000.0          2007.0\n",
       "GC                2001.0          2007.0\n",
       "GEN               1990.0          1994.0\n",
       "GG                1992.0          1992.0\n",
       "N64               1996.0          2002.0\n",
       "NES               1983.0          1994.0\n",
       "NG                1993.0          1996.0\n",
       "PC                1985.0          2016.0\n",
       "PCFX              1996.0          1996.0\n",
       "PS                1994.0          2003.0\n",
       "PS2               2000.0          2011.0\n",
       "PS3               2006.0          2016.0\n",
       "PS4               2013.0          2016.0\n",
       "PSP               2004.0          2015.0\n",
       "PSV               2011.0          2016.0\n",
       "SAT               1994.0          1999.0\n",
       "SCD               1993.0          1994.0\n",
       "SNES              1990.0          1999.0\n",
       "TG16              1995.0          1995.0\n",
       "WS                1999.0          2001.0\n",
       "Wii               2006.0          2016.0\n",
       "WiiU              2012.0          2016.0\n",
       "X360              2005.0          2016.0\n",
       "XB                2000.0          2008.0\n",
       "XOne              2013.0          2016.0>"
      ]
     },
     "execution_count": 7,
     "metadata": {},
     "output_type": "execute_result"
    }
   ],
   "source": [
    "#platforms lifetime\n",
    "platform_years = data.pivot_table(values='Year_of_Release', index='Platform', aggfunc=[min, max]).sort_values\n",
    "platform_years"
   ]
  },
  {
   "cell_type": "code",
   "execution_count": 8,
   "metadata": {},
   "outputs": [
    {
     "data": {
      "text/plain": [
       "array(['E', nan, 'M', 'T', 'E10+', 'K-A', 'AO', 'EC', 'RP'], dtype=object)"
      ]
     },
     "execution_count": 8,
     "metadata": {},
     "output_type": "execute_result"
    }
   ],
   "source": [
    "#check ratings\n",
    "data['Rating'].unique()"
   ]
  },
  {
   "cell_type": "markdown",
   "metadata": {},
   "source": [
    "### Conclusion"
   ]
  },
  {
   "cell_type": "raw",
   "metadata": {},
   "source": [
    "After data exploration we can see following:\n",
    "- missing values in Platform, Year_of_Release, Genre, Critic_Score, User_Score, Rating columns \n",
    "- column names contain capital latters - convert them to lower case\n",
    "- Year_of_Release is float - convert it to integer\n",
    "- mean and median sales are distinctly different - that points to outliers\n",
    "- new and old rating names at the same time -  E и K-A\n",
    "- User_Score contains value \"tbd\". Apparently it means \"to be determined\"\n",
    "- User_Score is object - convert to float"
   ]
  },
  {
   "cell_type": "markdown",
   "metadata": {},
   "source": [
    "## Data Preprocessing"
   ]
  },
  {
   "cell_type": "code",
   "execution_count": 9,
   "metadata": {},
   "outputs": [
    {
     "name": "stdout",
     "output_type": "stream",
     "text": [
      "<class 'pandas.core.frame.DataFrame'>\n",
      "Int64Index: 16715 entries, 0 to 16714\n",
      "Data columns (total 11 columns):\n",
      "Name               16713 non-null object\n",
      "Platform           16715 non-null object\n",
      "Year_of_Release    16446 non-null float64\n",
      "Genre              16713 non-null object\n",
      "NA_sales           16715 non-null float64\n",
      "EU_sales           16715 non-null float64\n",
      "JP_sales           16715 non-null float64\n",
      "Other_sales        16715 non-null float64\n",
      "Critic_Score       8137 non-null float64\n",
      "User_Score         10014 non-null object\n",
      "Rating             9949 non-null object\n",
      "dtypes: float64(6), object(5)\n",
      "memory usage: 1.5+ MB\n"
     ]
    }
   ],
   "source": [
    "#check duplicates\n",
    "data = data.drop_duplicates()\n",
    "data.info()"
   ]
  },
  {
   "cell_type": "code",
   "execution_count": 10,
   "metadata": {},
   "outputs": [
    {
     "name": "stdout",
     "output_type": "stream",
     "text": [
      "<class 'pandas.core.frame.DataFrame'>\n",
      "Int64Index: 16715 entries, 0 to 16714\n",
      "Data columns (total 11 columns):\n",
      "name               16713 non-null object\n",
      "platform           16715 non-null object\n",
      "year_of_release    16446 non-null float64\n",
      "genre              16713 non-null object\n",
      "na_sales           16715 non-null float64\n",
      "eu_sales           16715 non-null float64\n",
      "jp_sales           16715 non-null float64\n",
      "other_sales        16715 non-null float64\n",
      "critic_score       8137 non-null float64\n",
      "user_score         10014 non-null object\n",
      "rating             9949 non-null object\n",
      "dtypes: float64(6), object(5)\n",
      "memory usage: 1.5+ MB\n"
     ]
    }
   ],
   "source": [
    "#convert to lower case\n",
    "data.columns = data.columns.str.lower()\n",
    "data.info()"
   ]
  },
  {
   "cell_type": "code",
   "execution_count": 11,
   "metadata": {},
   "outputs": [],
   "source": [
    "#fix rating names\n",
    "data[data['rating'] == 'K-A'] = data[data['rating'] == 'E']"
   ]
  },
  {
   "cell_type": "code",
   "execution_count": 12,
   "metadata": {
    "scrolled": true
   },
   "outputs": [
    {
     "name": "stdout",
     "output_type": "stream",
     "text": [
      "<class 'pandas.core.frame.DataFrame'>\n",
      "Int64Index: 16710 entries, 0 to 16714\n",
      "Data columns (total 11 columns):\n",
      "name               16710 non-null object\n",
      "platform           16710 non-null object\n",
      "year_of_release    16441 non-null float64\n",
      "genre              16710 non-null object\n",
      "na_sales           16710 non-null float64\n",
      "eu_sales           16710 non-null float64\n",
      "jp_sales           16710 non-null float64\n",
      "other_sales        16710 non-null float64\n",
      "critic_score       8136 non-null float64\n",
      "user_score         10011 non-null object\n",
      "rating             9946 non-null object\n",
      "dtypes: float64(6), object(5)\n",
      "memory usage: 1.5+ MB\n"
     ]
    }
   ],
   "source": [
    "#drop missing values\n",
    "data = data.dropna(subset = ['name'])\n",
    "data.info()"
   ]
  },
  {
   "cell_type": "code",
   "execution_count": 13,
   "metadata": {},
   "outputs": [
    {
     "name": "stdout",
     "output_type": "stream",
     "text": [
      "<class 'pandas.core.frame.DataFrame'>\n",
      "Int64Index: 16458 entries, 0 to 16714\n",
      "Data columns (total 11 columns):\n",
      "name               16458 non-null object\n",
      "platform           16458 non-null object\n",
      "year_of_release    16458 non-null int64\n",
      "genre              16458 non-null object\n",
      "na_sales           16458 non-null float64\n",
      "eu_sales           16458 non-null float64\n",
      "jp_sales           16458 non-null float64\n",
      "other_sales        16458 non-null float64\n",
      "critic_score       7994 non-null float64\n",
      "user_score         9848 non-null object\n",
      "rating             9776 non-null object\n",
      "dtypes: float64(5), int64(1), object(5)\n",
      "memory usage: 1.5+ MB\n"
     ]
    }
   ],
   "source": [
    "#try to fill missing values with dates from their names. For example FIFA 2009 probably issued eather in 2008 or 2009\n",
    "data['year_in_name'] = data['name'].str.extract('(\\d+)') #extract numerics from game names\n",
    "data['year_in_name'] = data['year_in_name'].fillna(0).astype(int) #fill missing values with 0\n",
    "\n",
    "data['year_of_release'] = data['year_of_release'].fillna(data['year_in_name']) #fill missing values with extarcted data\n",
    "data = data.drop(data.query('year_of_release < 1980 or year_of_release > 2016').index) # drop inadequate dates\n",
    "data = data.drop('year_in_name', axis=1) #don't need it anymore\n",
    "data['year_of_release'] = data['year_of_release'].astype(int)  \n",
    "\n",
    "data.info()"
   ]
  },
  {
   "cell_type": "code",
   "execution_count": 14,
   "metadata": {},
   "outputs": [
    {
     "name": "stdout",
     "output_type": "stream",
     "text": [
      "<class 'pandas.core.frame.DataFrame'>\n",
      "Int64Index: 16458 entries, 0 to 16714\n",
      "Data columns (total 11 columns):\n",
      "name               16458 non-null object\n",
      "platform           16458 non-null object\n",
      "year_of_release    16458 non-null int64\n",
      "genre              16458 non-null object\n",
      "na_sales           16458 non-null float64\n",
      "eu_sales           16458 non-null float64\n",
      "jp_sales           16458 non-null float64\n",
      "other_sales        16458 non-null float64\n",
      "critic_score       7994 non-null float64\n",
      "user_score         7470 non-null float64\n",
      "rating             9776 non-null object\n",
      "dtypes: float64(6), int64(1), object(4)\n",
      "memory usage: 1.5+ MB\n"
     ]
    }
   ],
   "source": [
    "#convert to float\n",
    "data['user_score'] = data['user_score'].replace('tbd', np.NaN) \n",
    "data['user_score'] = data['user_score'].astype(float)\n",
    "data.info()"
   ]
  },
  {
   "cell_type": "code",
   "execution_count": 15,
   "metadata": {},
   "outputs": [
    {
     "name": "stdout",
     "output_type": "stream",
     "text": [
      "<class 'pandas.core.frame.DataFrame'>\n",
      "Int64Index: 16458 entries, 0 to 16714\n",
      "Data columns (total 11 columns):\n",
      "name               16458 non-null object\n",
      "platform           16458 non-null object\n",
      "year_of_release    16458 non-null int64\n",
      "genre              16458 non-null object\n",
      "na_sales           16458 non-null float64\n",
      "eu_sales           16458 non-null float64\n",
      "jp_sales           16458 non-null float64\n",
      "other_sales        16458 non-null float64\n",
      "critic_score       16458 non-null float64\n",
      "user_score         16458 non-null float64\n",
      "rating             9776 non-null object\n",
      "dtypes: float64(6), int64(1), object(4)\n",
      "memory usage: 1.5+ MB\n"
     ]
    }
   ],
   "source": [
    "#fill missing values in critic_score\n",
    "#at first with median of values grouped by paltform and genre \n",
    "data['critic_score'] = data['critic_score'].fillna(data.groupby(by=['platform', 'genre'])['critic_score'].transform('median'))\n",
    "data['user_score'] = data['user_score'].fillna(data.groupby(by=['platform', 'genre'])['user_score'].transform('median'))\n",
    "#then with genre\n",
    "data['critic_score'] = data['critic_score'].fillna(data.groupby(by='genre')['critic_score'].transform('median'))\n",
    "data['user_score'] = data['user_score'].fillna(data.groupby(by='genre')['user_score'].transform('median'))\n",
    "\n",
    "data.info()"
   ]
  },
  {
   "cell_type": "code",
   "execution_count": 16,
   "metadata": {},
   "outputs": [
    {
     "name": "stdout",
     "output_type": "stream",
     "text": [
      "<class 'pandas.core.frame.DataFrame'>\n",
      "Int64Index: 16458 entries, 0 to 16714\n",
      "Data columns (total 11 columns):\n",
      "name               16458 non-null object\n",
      "platform           16458 non-null object\n",
      "year_of_release    16458 non-null int64\n",
      "genre              16458 non-null object\n",
      "na_sales           16458 non-null float64\n",
      "eu_sales           16458 non-null float64\n",
      "jp_sales           16458 non-null float64\n",
      "other_sales        16458 non-null float64\n",
      "critic_score       16458 non-null float64\n",
      "user_score         16458 non-null float64\n",
      "rating             16458 non-null object\n",
      "dtypes: float64(6), int64(1), object(4)\n",
      "memory usage: 1.5+ MB\n"
     ]
    }
   ],
   "source": [
    "#fill missing values \n",
    "data['rating'] = data['rating'].fillna('unknown')\n",
    "data.info()\n"
   ]
  },
  {
   "cell_type": "code",
   "execution_count": 17,
   "metadata": {},
   "outputs": [],
   "source": [
    "#convert to category to save some RAM\n",
    "cols = ['rating', 'genre', 'platform']\n",
    "\n",
    "for i in cols:\n",
    "    data[i] = data[i].astype('category')"
   ]
  },
  {
   "cell_type": "code",
   "execution_count": 18,
   "metadata": {},
   "outputs": [
    {
     "name": "stdout",
     "output_type": "stream",
     "text": [
      "<class 'pandas.core.frame.DataFrame'>\n",
      "Int64Index: 16458 entries, 0 to 16714\n",
      "Data columns (total 11 columns):\n",
      "name               16458 non-null object\n",
      "platform           16458 non-null category\n",
      "year_of_release    16458 non-null int64\n",
      "genre              16458 non-null category\n",
      "na_sales           16458 non-null float64\n",
      "eu_sales           16458 non-null float64\n",
      "jp_sales           16458 non-null float64\n",
      "other_sales        16458 non-null float64\n",
      "critic_score       16458 non-null float64\n",
      "user_score         16458 non-null float64\n",
      "rating             16458 non-null category\n",
      "dtypes: category(3), float64(6), int64(1), object(1)\n",
      "memory usage: 1.2+ MB\n"
     ]
    }
   ],
   "source": [
    "#convert to integer\n",
    "data['year_of_release'] = data['year_of_release'].astype(int)\n",
    "data.info()"
   ]
  },
  {
   "cell_type": "code",
   "execution_count": 19,
   "metadata": {},
   "outputs": [],
   "source": [
    "#add summary sales column\n",
    "data['sum_sales'] = data['na_sales'] + data['eu_sales'] + data['jp_sales'] + data['other_sales']"
   ]
  },
  {
   "cell_type": "code",
   "execution_count": 20,
   "metadata": {},
   "outputs": [
    {
     "data": {
      "text/html": [
       "<div>\n",
       "<style scoped>\n",
       "    .dataframe tbody tr th:only-of-type {\n",
       "        vertical-align: middle;\n",
       "    }\n",
       "\n",
       "    .dataframe tbody tr th {\n",
       "        vertical-align: top;\n",
       "    }\n",
       "\n",
       "    .dataframe thead th {\n",
       "        text-align: right;\n",
       "    }\n",
       "</style>\n",
       "<table border=\"1\" class=\"dataframe\">\n",
       "  <thead>\n",
       "    <tr style=\"text-align: right;\">\n",
       "      <th></th>\n",
       "      <th>year_of_release</th>\n",
       "      <th>na_sales</th>\n",
       "      <th>eu_sales</th>\n",
       "      <th>jp_sales</th>\n",
       "      <th>other_sales</th>\n",
       "      <th>critic_score</th>\n",
       "      <th>user_score</th>\n",
       "      <th>sum_sales</th>\n",
       "    </tr>\n",
       "  </thead>\n",
       "  <tbody>\n",
       "    <tr>\n",
       "      <td>count</td>\n",
       "      <td>16458.000000</td>\n",
       "      <td>16458.000000</td>\n",
       "      <td>16458.000000</td>\n",
       "      <td>16458.000000</td>\n",
       "      <td>16458.000000</td>\n",
       "      <td>16458.000000</td>\n",
       "      <td>16458.000000</td>\n",
       "      <td>16458.000000</td>\n",
       "    </tr>\n",
       "    <tr>\n",
       "      <td>mean</td>\n",
       "      <td>2006.487423</td>\n",
       "      <td>0.264160</td>\n",
       "      <td>0.146103</td>\n",
       "      <td>0.078353</td>\n",
       "      <td>0.047683</td>\n",
       "      <td>68.926662</td>\n",
       "      <td>7.342493</td>\n",
       "      <td>0.536298</td>\n",
       "    </tr>\n",
       "    <tr>\n",
       "      <td>std</td>\n",
       "      <td>5.872353</td>\n",
       "      <td>0.818558</td>\n",
       "      <td>0.506857</td>\n",
       "      <td>0.310792</td>\n",
       "      <td>0.188058</td>\n",
       "      <td>10.458248</td>\n",
       "      <td>1.102111</td>\n",
       "      <td>1.558776</td>\n",
       "    </tr>\n",
       "    <tr>\n",
       "      <td>min</td>\n",
       "      <td>1980.000000</td>\n",
       "      <td>0.000000</td>\n",
       "      <td>0.000000</td>\n",
       "      <td>0.000000</td>\n",
       "      <td>0.000000</td>\n",
       "      <td>13.000000</td>\n",
       "      <td>0.000000</td>\n",
       "      <td>0.000000</td>\n",
       "    </tr>\n",
       "    <tr>\n",
       "      <td>25%</td>\n",
       "      <td>2003.000000</td>\n",
       "      <td>0.000000</td>\n",
       "      <td>0.000000</td>\n",
       "      <td>0.000000</td>\n",
       "      <td>0.000000</td>\n",
       "      <td>64.000000</td>\n",
       "      <td>7.000000</td>\n",
       "      <td>0.060000</td>\n",
       "    </tr>\n",
       "    <tr>\n",
       "      <td>50%</td>\n",
       "      <td>2007.000000</td>\n",
       "      <td>0.080000</td>\n",
       "      <td>0.020000</td>\n",
       "      <td>0.000000</td>\n",
       "      <td>0.010000</td>\n",
       "      <td>70.000000</td>\n",
       "      <td>7.550000</td>\n",
       "      <td>0.170000</td>\n",
       "    </tr>\n",
       "    <tr>\n",
       "      <td>75%</td>\n",
       "      <td>2010.000000</td>\n",
       "      <td>0.240000</td>\n",
       "      <td>0.110000</td>\n",
       "      <td>0.040000</td>\n",
       "      <td>0.030000</td>\n",
       "      <td>74.000000</td>\n",
       "      <td>7.950000</td>\n",
       "      <td>0.470000</td>\n",
       "    </tr>\n",
       "    <tr>\n",
       "      <td>max</td>\n",
       "      <td>2016.000000</td>\n",
       "      <td>41.360000</td>\n",
       "      <td>28.960000</td>\n",
       "      <td>10.220000</td>\n",
       "      <td>10.570000</td>\n",
       "      <td>98.000000</td>\n",
       "      <td>9.700000</td>\n",
       "      <td>82.540000</td>\n",
       "    </tr>\n",
       "  </tbody>\n",
       "</table>\n",
       "</div>"
      ],
      "text/plain": [
       "       year_of_release      na_sales      eu_sales      jp_sales  \\\n",
       "count     16458.000000  16458.000000  16458.000000  16458.000000   \n",
       "mean       2006.487423      0.264160      0.146103      0.078353   \n",
       "std           5.872353      0.818558      0.506857      0.310792   \n",
       "min        1980.000000      0.000000      0.000000      0.000000   \n",
       "25%        2003.000000      0.000000      0.000000      0.000000   \n",
       "50%        2007.000000      0.080000      0.020000      0.000000   \n",
       "75%        2010.000000      0.240000      0.110000      0.040000   \n",
       "max        2016.000000     41.360000     28.960000     10.220000   \n",
       "\n",
       "        other_sales  critic_score    user_score     sum_sales  \n",
       "count  16458.000000  16458.000000  16458.000000  16458.000000  \n",
       "mean       0.047683     68.926662      7.342493      0.536298  \n",
       "std        0.188058     10.458248      1.102111      1.558776  \n",
       "min        0.000000     13.000000      0.000000      0.000000  \n",
       "25%        0.000000     64.000000      7.000000      0.060000  \n",
       "50%        0.010000     70.000000      7.550000      0.170000  \n",
       "75%        0.030000     74.000000      7.950000      0.470000  \n",
       "max       10.570000     98.000000      9.700000     82.540000  "
      ]
     },
     "execution_count": 20,
     "metadata": {},
     "output_type": "execute_result"
    }
   ],
   "source": [
    "data.describe()"
   ]
  },
  {
   "cell_type": "markdown",
   "metadata": {},
   "source": [
    "### Conclusion"
   ]
  },
  {
   "cell_type": "markdown",
   "metadata": {},
   "source": [
    "Data preprocessing has done. We ready for analysis."
   ]
  },
  {
   "cell_type": "markdown",
   "metadata": {},
   "source": [
    "## Data Analysis"
   ]
  },
  {
   "cell_type": "code",
   "execution_count": 21,
   "metadata": {},
   "outputs": [
    {
     "data": {
      "text/plain": [
       "Text(0, 0.5, 'number of games')"
      ]
     },
     "execution_count": 21,
     "metadata": {},
     "output_type": "execute_result"
    },
    {
     "data": {
      "image/png": "[encoded data removed]",
      "text/plain": [
       "<Figure size 1440x576 with 1 Axes>"
      ]
     },
     "metadata": {
      "needs_background": "light"
     },
     "output_type": "display_data"
    }
   ],
   "source": [
    "#see how many games were issued in each year\n",
    "games_per_year = data.pivot_table(index='year_of_release', values='name', aggfunc='count')\n",
    "plt.figure(figsize=(20,8))\n",
    "sns.barplot(x=games_per_year.index, y=games_per_year['name'], palette=\"rocket_r\")\n",
    "plt.suptitle('Number of games released from 1980 to 2016', fontsize=20)\n",
    "plt.xlabel('years_of_release')\n",
    "plt.ylabel('number of games')"
   ]
  },
  {
   "cell_type": "markdown",
   "metadata": {},
   "source": [
    "Game industry passed from appearence and growing to falling and stagnation. The most important years for further analysis are last two - 2015 and 2016"
   ]
  },
  {
   "cell_type": "code",
   "execution_count": 22,
   "metadata": {},
   "outputs": [
    {
     "data": {
      "text/html": [
       "<div>\n",
       "<style scoped>\n",
       "    .dataframe tbody tr th:only-of-type {\n",
       "        vertical-align: middle;\n",
       "    }\n",
       "\n",
       "    .dataframe tbody tr th {\n",
       "        vertical-align: top;\n",
       "    }\n",
       "\n",
       "    .dataframe thead th {\n",
       "        text-align: right;\n",
       "    }\n",
       "</style>\n",
       "<table border=\"1\" class=\"dataframe\">\n",
       "  <thead>\n",
       "    <tr style=\"text-align: right;\">\n",
       "      <th></th>\n",
       "      <th>sum_sales</th>\n",
       "    </tr>\n",
       "    <tr>\n",
       "      <th>platform</th>\n",
       "      <th></th>\n",
       "    </tr>\n",
       "  </thead>\n",
       "  <tbody>\n",
       "    <tr>\n",
       "      <td>PS4</td>\n",
       "      <td>188.15</td>\n",
       "    </tr>\n",
       "    <tr>\n",
       "      <td>XOne</td>\n",
       "      <td>86.29</td>\n",
       "    </tr>\n",
       "    <tr>\n",
       "      <td>3DS</td>\n",
       "      <td>42.92</td>\n",
       "    </tr>\n",
       "    <tr>\n",
       "      <td>WiiU</td>\n",
       "      <td>20.95</td>\n",
       "    </tr>\n",
       "    <tr>\n",
       "      <td>PS3</td>\n",
       "      <td>20.42</td>\n",
       "    </tr>\n",
       "    <tr>\n",
       "      <td>PC</td>\n",
       "      <td>13.77</td>\n",
       "    </tr>\n",
       "    <tr>\n",
       "      <td>X360</td>\n",
       "      <td>13.48</td>\n",
       "    </tr>\n",
       "    <tr>\n",
       "      <td>PSV</td>\n",
       "      <td>10.50</td>\n",
       "    </tr>\n",
       "    <tr>\n",
       "      <td>Wii</td>\n",
       "      <td>1.32</td>\n",
       "    </tr>\n",
       "    <tr>\n",
       "      <td>PSP</td>\n",
       "      <td>0.12</td>\n",
       "    </tr>\n",
       "    <tr>\n",
       "      <td>XB</td>\n",
       "      <td>0.00</td>\n",
       "    </tr>\n",
       "    <tr>\n",
       "      <td>WS</td>\n",
       "      <td>0.00</td>\n",
       "    </tr>\n",
       "    <tr>\n",
       "      <td>TG16</td>\n",
       "      <td>0.00</td>\n",
       "    </tr>\n",
       "    <tr>\n",
       "      <td>SNES</td>\n",
       "      <td>0.00</td>\n",
       "    </tr>\n",
       "    <tr>\n",
       "      <td>SCD</td>\n",
       "      <td>0.00</td>\n",
       "    </tr>\n",
       "    <tr>\n",
       "      <td>SAT</td>\n",
       "      <td>0.00</td>\n",
       "    </tr>\n",
       "    <tr>\n",
       "      <td>2600</td>\n",
       "      <td>0.00</td>\n",
       "    </tr>\n",
       "    <tr>\n",
       "      <td>PS2</td>\n",
       "      <td>0.00</td>\n",
       "    </tr>\n",
       "    <tr>\n",
       "      <td>3DO</td>\n",
       "      <td>0.00</td>\n",
       "    </tr>\n",
       "    <tr>\n",
       "      <td>PCFX</td>\n",
       "      <td>0.00</td>\n",
       "    </tr>\n",
       "    <tr>\n",
       "      <td>NG</td>\n",
       "      <td>0.00</td>\n",
       "    </tr>\n",
       "    <tr>\n",
       "      <td>NES</td>\n",
       "      <td>0.00</td>\n",
       "    </tr>\n",
       "    <tr>\n",
       "      <td>N64</td>\n",
       "      <td>0.00</td>\n",
       "    </tr>\n",
       "    <tr>\n",
       "      <td>GG</td>\n",
       "      <td>0.00</td>\n",
       "    </tr>\n",
       "    <tr>\n",
       "      <td>GEN</td>\n",
       "      <td>0.00</td>\n",
       "    </tr>\n",
       "    <tr>\n",
       "      <td>GC</td>\n",
       "      <td>0.00</td>\n",
       "    </tr>\n",
       "    <tr>\n",
       "      <td>GBA</td>\n",
       "      <td>0.00</td>\n",
       "    </tr>\n",
       "    <tr>\n",
       "      <td>GB</td>\n",
       "      <td>0.00</td>\n",
       "    </tr>\n",
       "    <tr>\n",
       "      <td>DS</td>\n",
       "      <td>0.00</td>\n",
       "    </tr>\n",
       "    <tr>\n",
       "      <td>DC</td>\n",
       "      <td>0.00</td>\n",
       "    </tr>\n",
       "    <tr>\n",
       "      <td>PS</td>\n",
       "      <td>0.00</td>\n",
       "    </tr>\n",
       "  </tbody>\n",
       "</table>\n",
       "</div>"
      ],
      "text/plain": [
       "          sum_sales\n",
       "platform           \n",
       "PS4          188.15\n",
       "XOne          86.29\n",
       "3DS           42.92\n",
       "WiiU          20.95\n",
       "PS3           20.42\n",
       "PC            13.77\n",
       "X360          13.48\n",
       "PSV           10.50\n",
       "Wii            1.32\n",
       "PSP            0.12\n",
       "XB             0.00\n",
       "WS             0.00\n",
       "TG16           0.00\n",
       "SNES           0.00\n",
       "SCD            0.00\n",
       "SAT            0.00\n",
       "2600           0.00\n",
       "PS2            0.00\n",
       "3DO            0.00\n",
       "PCFX           0.00\n",
       "NG             0.00\n",
       "NES            0.00\n",
       "N64            0.00\n",
       "GG             0.00\n",
       "GEN            0.00\n",
       "GC             0.00\n",
       "GBA            0.00\n",
       "GB             0.00\n",
       "DS             0.00\n",
       "DC             0.00\n",
       "PS             0.00"
      ]
     },
     "execution_count": 22,
     "metadata": {},
     "output_type": "execute_result"
    }
   ],
   "source": [
    "# calculate sales for each platform\n",
    "modern_era_data = data.query('year_of_release > 2014')\n",
    "platform_sales = modern_era_data.pivot_table(index='platform', values='sum_sales', aggfunc=('sum')).sort_values(by='sum_sales', ascending=False)\n",
    "platform_sales"
   ]
  },
  {
   "cell_type": "code",
   "execution_count": 23,
   "metadata": {},
   "outputs": [],
   "source": [
    "#top 10 platforms\n",
    "big_ten_list = platform_sales.head(10).index\n",
    "big_ten_platforms = modern_era_data.query('platform in @big_ten_list')"
   ]
  },
  {
   "cell_type": "code",
   "execution_count": 24,
   "metadata": {},
   "outputs": [
    {
     "data": {
      "image/png": "[encoded data removed]",
      "text/plain": [
       "<Figure size 432x288 with 1 Axes>"
      ]
     },
     "metadata": {
      "needs_background": "light"
     },
     "output_type": "display_data"
    },
    {
     "data": {
      "image/png": "[encoded data removed]",
      "text/plain": [
       "<Figure size 432x288 with 1 Axes>"
      ]
     },
     "metadata": {
      "needs_background": "light"
     },
     "output_type": "display_data"
    },
    {
     "data": {
      "image/png": "[encoded data removed]",
      "text/plain": [
       "<Figure size 432x288 with 1 Axes>"
      ]
     },
     "metadata": {
      "needs_background": "light"
     },
     "output_type": "display_data"
    },
    {
     "data": {
      "image/png": "[encoded data removed]",
      "text/plain": [
       "<Figure size 432x288 with 1 Axes>"
      ]
     },
     "metadata": {
      "needs_background": "light"
     },
     "output_type": "display_data"
    },
    {
     "data": {
      "image/png": "[encoded data removed]",
      "text/plain": [
       "<Figure size 432x288 with 1 Axes>"
      ]
     },
     "metadata": {
      "needs_background": "light"
     },
     "output_type": "display_data"
    },
    {
     "data": {
      "image/png": "[encoded data removed]",
      "text/plain": [
       "<Figure size 432x288 with 1 Axes>"
      ]
     },
     "metadata": {
      "needs_background": "light"
     },
     "output_type": "display_data"
    },
    {
     "data": {
      "image/png": "[encoded data removed]",
      "text/plain": [
       "<Figure size 432x288 with 1 Axes>"
      ]
     },
     "metadata": {
      "needs_background": "light"
     },
     "output_type": "display_data"
    },
    {
     "data": {
      "image/png": "[encoded data removed]",
      "text/plain": [
       "<Figure size 432x288 with 1 Axes>"
      ]
     },
     "metadata": {
      "needs_background": "light"
     },
     "output_type": "display_data"
    },
    {
     "data": {
      "image/png": "[encoded data removed]",
      "text/plain": [
       "<Figure size 432x288 with 1 Axes>"
      ]
     },
     "metadata": {
      "needs_background": "light"
     },
     "output_type": "display_data"
    },
    {
     "data": {
      "image/png": "[encoded data removed]",
      "text/plain": [
       "<Figure size 432x288 with 1 Axes>"
      ]
     },
     "metadata": {
      "needs_background": "light"
     },
     "output_type": "display_data"
    }
   ],
   "source": [
    "#top 10 platforms sales in last two years\n",
    "for platforms in big_ten_list:\n",
    "    big_ten_pivot = modern_era_data.query('platform == @platforms').pivot_table(index='year_of_release', values='sum_sales', aggfunc=('sum'))\n",
    "    sns.barplot(x=big_ten_pivot.index, y=big_ten_pivot['sum_sales'], palette=\"rocket_r\")\n",
    "    plt.suptitle('Annual sales for {} platform'.format(platforms), fontsize=15)\n",
    "    plt.show()"
   ]
  },
  {
   "cell_type": "markdown",
   "metadata": {},
   "source": [
    "A platform lifetime as usual about 10 years. The most successful platform of modern days are PS4, XOne, 3DS, WiiU, PS3, РС, PSV, X360, Wii. But sellings of all of them are decreasing now. Pick up for futher exploration four of them - PS4, XOne, 3DS, WiiU"
   ]
  },
  {
   "cell_type": "code",
   "execution_count": 25,
   "metadata": {},
   "outputs": [
    {
     "data": {
      "image/png": "[encoded data removed]",
      "text/plain": [
       "<Figure size 432x288 with 1 Axes>"
      ]
     },
     "metadata": {
      "needs_background": "light"
     },
     "output_type": "display_data"
    },
    {
     "data": {
      "image/png": "[encoded data removed]",
      "text/plain": [
       "<Figure size 432x288 with 1 Axes>"
      ]
     },
     "metadata": {
      "needs_background": "light"
     },
     "output_type": "display_data"
    },
    {
     "data": {
      "image/png": "[encoded data removed]",
      "text/plain": [
       "<Figure size 432x288 with 1 Axes>"
      ]
     },
     "metadata": {
      "needs_background": "light"
     },
     "output_type": "display_data"
    },
    {
     "data": {
      "image/png": "[encoded data removed]",
      "text/plain": [
       "<Figure size 432x288 with 1 Axes>"
      ]
     },
     "metadata": {
      "needs_background": "light"
     },
     "output_type": "display_data"
    }
   ],
   "source": [
    "#boxplots\n",
    "modern_leaders_list = ['PS4', 'XOne', '3DS', 'WiiU']\n",
    "for platforms in modern_leaders_list:\n",
    "    big_four_pivot = modern_era_data.query('platform == @platforms').pivot_table(index='year_of_release', values='sum_sales', aggfunc=('sum'))\n",
    "    sns.boxplot(y=big_four_pivot['sum_sales']).set_title(platforms)\n",
    "    plt.show()"
   ]
  },
  {
   "cell_type": "markdown",
   "metadata": {},
   "source": [
    "All distributions look good, no any skews. From boxplots we can see sales segments for each paltform (PS4 on the top, WiiU at the basement)"
   ]
  },
  {
   "cell_type": "code",
   "execution_count": 26,
   "metadata": {},
   "outputs": [
    {
     "data": {
      "text/plain": [
       "(<seaborn.axisgrid.PairGrid at 0x7fa49904a9d0>,\n",
       " Text(0.5, 1.05, 'Scatter matrix for PS4 platform'),\n",
       "               sum_sales  critic_score  user_score\n",
       " sum_sales      1.000000      0.298403   -0.080034\n",
       " critic_score   0.298403      1.000000    0.489560\n",
       " user_score    -0.080034      0.489560    1.000000)"
      ]
     },
     "execution_count": 26,
     "metadata": {},
     "output_type": "execute_result"
    },
    {
     "data": {
      "image/png": "[encoded data removed]",
      "text/plain": [
       "<Figure size 540x540 with 12 Axes>"
      ]
     },
     "metadata": {
      "needs_background": "light"
     },
     "output_type": "display_data"
    }
   ],
   "source": [
    "#explore influence of users and critic scores on sales for PS4\n",
    "def data_pairplot(dataset, platform_name):\n",
    "    plot = sns.pairplot(dataset[['sum_sales', 'critic_score', 'user_score']][dataset['platform'] == platform_name])\n",
    "    return (plot, plot.fig.suptitle('Scatter matrix for {} platform'.format(platform_name), fontsize=15, y=1.05), \n",
    "            dataset[['sum_sales', 'critic_score', 'user_score']][dataset['platform'] == platform_name].corr())\n",
    "    \n",
    "data_pairplot(modern_era_data, 'PS4')"
   ]
  },
  {
   "cell_type": "markdown",
   "metadata": {},
   "source": [
    "Week correlation between crirtic scores and sales. Meanwhile, sales don't depend on user scores. "
   ]
  },
  {
   "cell_type": "code",
   "execution_count": 27,
   "metadata": {},
   "outputs": [
    {
     "data": {
      "text/plain": [
       "(<seaborn.axisgrid.PairGrid at 0x7fa4996fe510>,\n",
       " Text(0.5, 1.05, 'Scatter matrix for XOne platform'),\n",
       "               sum_sales  critic_score  user_score\n",
       " sum_sales      1.000000      0.330301   -0.031597\n",
       " critic_score   0.330301      1.000000    0.400464\n",
       " user_score    -0.031597      0.400464    1.000000)"
      ]
     },
     "execution_count": 27,
     "metadata": {},
     "output_type": "execute_result"
    },
    {
     "data": {
      "image/png": "[encoded data removed]",
      "text/plain": [
       "<Figure size 540x540 with 12 Axes>"
      ]
     },
     "metadata": {
      "needs_background": "light"
     },
     "output_type": "display_data"
    }
   ],
   "source": [
    "#XOne\n",
    "data_pairplot(modern_era_data, 'XOne')"
   ]
  },
  {
   "cell_type": "markdown",
   "metadata": {},
   "source": [
    "For XOne correlation between critic score and sales is stronger. And also no dependence on users opinion."
   ]
  },
  {
   "cell_type": "code",
   "execution_count": 28,
   "metadata": {},
   "outputs": [
    {
     "data": {
      "text/plain": [
       "(<seaborn.axisgrid.PairGrid at 0x7fa498d89910>,\n",
       " Text(0.5, 1.05, 'Scatter matrix for 3DS platform'),\n",
       "               sum_sales  critic_score  user_score\n",
       " sum_sales      1.000000      0.151687    0.171113\n",
       " critic_score   0.151687      1.000000    0.758573\n",
       " user_score     0.171113      0.758573    1.000000)"
      ]
     },
     "execution_count": 28,
     "metadata": {},
     "output_type": "execute_result"
    },
    {
     "data": {
      "image/png": "[encoded data removed]",
      "text/plain": [
       "<Figure size 540x540 with 12 Axes>"
      ]
     },
     "metadata": {
      "needs_background": "light"
     },
     "output_type": "display_data"
    }
   ],
   "source": [
    "#3DS\n",
    "data_pairplot(modern_era_data, '3DS')"
   ]
  },
  {
   "cell_type": "markdown",
   "metadata": {},
   "source": [
    "In case of 3DS both dependences are almost the same week"
   ]
  },
  {
   "cell_type": "code",
   "execution_count": 29,
   "metadata": {},
   "outputs": [
    {
     "data": {
      "text/plain": [
       "(<seaborn.axisgrid.PairGrid at 0x7fa498be2e90>,\n",
       " Text(0.5, 1.05, 'Scatter matrix for WiiU platform'),\n",
       "               sum_sales  critic_score  user_score\n",
       " sum_sales      1.000000      0.290748    0.327516\n",
       " critic_score   0.290748      1.000000    0.574496\n",
       " user_score     0.327516      0.574496    1.000000)"
      ]
     },
     "execution_count": 29,
     "metadata": {},
     "output_type": "execute_result"
    },
    {
     "data": {
      "image/png": "[encoded data removed]",
      "text/plain": [
       "<Figure size 540x540 with 12 Axes>"
      ]
     },
     "metadata": {
      "needs_background": "light"
     },
     "output_type": "display_data"
    }
   ],
   "source": [
    "#WiiU\n",
    "data_pairplot(modern_era_data, 'WiiU')"
   ]
  },
  {
   "cell_type": "markdown",
   "metadata": {},
   "source": [
    "For WiiU sales depends on critic scores almost the same way as for PS4, but user opinions are important too. Besides, there are many games with high scores but low sales. After putting this area aside correlations became more strong. Summurizing all the above in case of two leading platforms sales depend on critic scores stronger than on user scores. For the last two - correlations with user opininons and with critic scores are alike. But it's not always right to say that high critics and users scores leads to good sellings. "
   ]
  },
  {
   "cell_type": "code",
   "execution_count": 30,
   "metadata": {
    "scrolled": true
   },
   "outputs": [
    {
     "data": {
      "text/plain": [
       "Text(0.5, 1.0, 'Shares of games by genre')"
      ]
     },
     "execution_count": 30,
     "metadata": {},
     "output_type": "execute_result"
    },
    {
     "data": {
      "image/png": "[encoded data removed]",
      "text/plain": [
       "<Figure size 576x576 with 1 Axes>"
      ]
     },
     "metadata": {},
     "output_type": "display_data"
    }
   ],
   "source": [
    "#genre distribution\n",
    "modern_era_data.groupby('genre')['name'].count().plot.pie(autopct=\"%.1f%%\", figsize=(8, 8))\n",
    "plt.title('Shares of games by genre', fontsize=15)"
   ]
  },
  {
   "cell_type": "code",
   "execution_count": 31,
   "metadata": {},
   "outputs": [],
   "source": [
    "#calculate sales and number of games for eah genre\n",
    "genres_stat = modern_era_data.pivot_table(\n",
    "    index = 'genre',\n",
    "    values = ['name', 'sum_sales'],\n",
    "    aggfunc = {'name': 'count', 'sum_sales':sum}).reset_index()\n",
    "\n",
    "genres_stat.columns = ['genre', 'total_games', 'total_sales']"
   ]
  },
  {
   "cell_type": "code",
   "execution_count": 32,
   "metadata": {},
   "outputs": [],
   "source": [
    "#calculate a profit column  \n",
    "genres_stat[\"profit\"] = genres_stat[\"total_sales\"] / genres_stat[\"total_games\"]\n",
    "genres_stat = genres_stat.sort_values(by = 'profit', ascending = False)"
   ]
  },
  {
   "cell_type": "code",
   "execution_count": 33,
   "metadata": {},
   "outputs": [
    {
     "data": {
      "text/plain": [
       "Text(0.5, 1.0, 'Average revenue for genres')"
      ]
     },
     "execution_count": 33,
     "metadata": {},
     "output_type": "execute_result"
    },
    {
     "data": {
      "image/png": "[encoded data removed]",
      "text/plain": [
       "<Figure size 1440x576 with 1 Axes>"
      ]
     },
     "metadata": {
      "needs_background": "light"
     },
     "output_type": "display_data"
    }
   ],
   "source": [
    "#evaluate profits for each genre\n",
    "plt.figure(figsize=(20,8))\n",
    "sns.barplot(x=genres_stat[\"genre\"], y=genres_stat[\"profit\"], palette=\"rocket_r\")\n",
    "plt.title('Average revenue for genres', fontsize=17)"
   ]
  },
  {
   "cell_type": "markdown",
   "metadata": {},
   "source": [
    "As expected the most popular genre is shooter, RPG, sports, fighting and platform are also selling good. Despite of that the most frequencies genres - Action, Role-Playing и Adventure. "
   ]
  },
  {
   "cell_type": "markdown",
   "metadata": {},
   "source": [
    "## User Portreits"
   ]
  },
  {
   "cell_type": "code",
   "execution_count": 34,
   "metadata": {},
   "outputs": [
    {
     "name": "stdout",
     "output_type": "stream",
     "text": [
      "          na_sales\n",
      "platform          \n",
      "XOne      0.301198\n",
      "PS4       0.212159\n",
      "WiiU      0.210952\n",
      "X360      0.167708\n",
      "Wii       0.098000\n",
      "\n",
      "          eu_sales\n",
      "platform          \n",
      "PS4       0.277542\n",
      "XOne      0.168263\n",
      "WiiU      0.154524\n",
      "Wii       0.146000\n",
      "X360      0.087708\n",
      "\n",
      "          jp_sales\n",
      "platform          \n",
      "3DS       0.178409\n",
      "WiiU      0.098095\n",
      "PS3       0.044775\n",
      "PSV       0.043128\n",
      "PS4       0.040033\n",
      "\n"
     ]
    }
   ],
   "source": [
    "#top 5 most popular platformms for each region\n",
    "def user_portrait(dataset, index):\n",
    "    cols = ['na_sales', 'eu_sales', 'jp_sales']\n",
    "    for _ in cols:\n",
    "        print(dataset.pivot_table(index=index, values=_).sort_values(_, ascending=False).head())\n",
    "        print()\n",
    "    \n",
    "user_portrait(modern_era_data, 'platform')"
   ]
  },
  {
   "cell_type": "markdown",
   "metadata": {},
   "source": [
    "American and European user choice XOne and PS4. Japanese - portable platforms."
   ]
  },
  {
   "cell_type": "code",
   "execution_count": 35,
   "metadata": {
    "scrolled": true
   },
   "outputs": [
    {
     "name": "stdout",
     "output_type": "stream",
     "text": [
      "              na_sales\n",
      "genre                 \n",
      "Shooter       0.594815\n",
      "Sports        0.245888\n",
      "Role-Playing  0.150152\n",
      "Fighting      0.149730\n",
      "Platform      0.135000\n",
      "\n",
      "              eu_sales\n",
      "genre                 \n",
      "Shooter       0.497284\n",
      "Sports        0.260000\n",
      "Racing        0.155238\n",
      "Role-Playing  0.130379\n",
      "Platform      0.114286\n",
      "\n",
      "              jp_sales\n",
      "genre                 \n",
      "Role-Playing  0.101591\n",
      "Puzzle        0.074286\n",
      "Simulation    0.058485\n",
      "Action        0.053480\n",
      "Platform      0.050714\n",
      "\n"
     ]
    }
   ],
   "source": [
    "#the most popular genres\n",
    "user_portrait(modern_era_data, 'genre')"
   ]
  },
  {
   "cell_type": "markdown",
   "metadata": {},
   "source": [
    "American an European users interests are alike again. Shooter and sports are in top 5. Meanwhile Americans more like fightings, but Europeanes - racings. In Japan shooters are not so popular. Users there likes RPG, puzzles and simulations.\n"
   ]
  },
  {
   "cell_type": "code",
   "execution_count": 36,
   "metadata": {},
   "outputs": [
    {
     "name": "stdout",
     "output_type": "stream",
     "text": [
      "         na_sales\n",
      "rating           \n",
      "M        0.315638\n",
      "E10+     0.176931\n",
      "E        0.173791\n",
      "T        0.119063\n",
      "unknown  0.072982\n",
      "\n",
      "         eu_sales\n",
      "rating           \n",
      "M        0.305638\n",
      "E        0.227647\n",
      "E10+     0.114257\n",
      "T        0.105833\n",
      "unknown  0.069610\n",
      "\n",
      "         jp_sales\n",
      "rating           \n",
      "unknown  0.064113\n",
      "T        0.040104\n",
      "E        0.034314\n",
      "E10+     0.032376\n",
      "M        0.028792\n",
      "\n"
     ]
    }
   ],
   "source": [
    "#ESRB influence\n",
    "user_portrait(modern_era_data, 'rating')"
   ]
  },
  {
   "cell_type": "markdown",
   "metadata": {},
   "source": [
    "In USA and Europe ESRB is important. In Japan it's no matter."
   ]
  },
  {
   "cell_type": "markdown",
   "metadata": {},
   "source": [
    "### Conclusion"
   ]
  },
  {
   "cell_type": "markdown",
   "metadata": {},
   "source": [
    "Portreits of American and European gamers are alike. They like shooters, RPG, sports, platform on PS4 and XOne. Japanese preferes simulations, RPG, puzzles. The most popular platform - 3DS."
   ]
  },
  {
   "cell_type": "markdown",
   "metadata": {},
   "source": [
    "## Statistical Hypothesis Testing"
   ]
  },
  {
   "cell_type": "markdown",
   "metadata": {},
   "source": [
    "### Test hypothesis: average user scores of Xbox One and PC are the same \n"
   ]
  },
  {
   "cell_type": "markdown",
   "metadata": {},
   "source": [
    "Let's vocabulate null hypothesis as \"average user scores of Xbox One and PC are the same\".\n",
    "Then alternative hypotesis would be \"average user scores of Xbox One and PC are different\".\n",
    "Amount of mean values from sample is large enough. Therefore on grounds of Central Limit Theorem the distribution of a sample variable approximates a normal distribution. So we can run T-test.\n"
   ]
  },
  {
   "cell_type": "code",
   "execution_count": 37,
   "metadata": {},
   "outputs": [
    {
     "data": {
      "text/plain": [
       "1.2644440707942755"
      ]
     },
     "execution_count": 37,
     "metadata": {},
     "output_type": "execute_result"
    }
   ],
   "source": [
    "#check a stndard deviation\n",
    "XOne_rating = modern_era_data.query('platform == \"XOne\"')['user_score']\n",
    "XOne_rating.std()"
   ]
  },
  {
   "cell_type": "code",
   "execution_count": 38,
   "metadata": {},
   "outputs": [
    {
     "data": {
      "text/plain": [
       "1.6620503345006559"
      ]
     },
     "execution_count": 38,
     "metadata": {},
     "output_type": "execute_result"
    }
   ],
   "source": [
    "PC_rating = modern_era_data.query('platform == \"PC\"')['user_score']\n",
    "PC_rating.std()"
   ]
  },
  {
   "cell_type": "code",
   "execution_count": 39,
   "metadata": {},
   "outputs": [
    {
     "name": "stdout",
     "output_type": "stream",
     "text": [
      "p-value: 0.6448263031236766\n",
      "Fail to reject null hypothesis\n"
     ]
    }
   ],
   "source": [
    "#run T-test\n",
    "def ttest(alpha, dataset1, dataset2):\n",
    "    alpha = alpha\n",
    "    results = st.ttest_ind(dataset1, dataset2, equal_var=False)\n",
    "    print('p-value:', results.pvalue)\n",
    "    if results.pvalue < alpha:\n",
    "        print('Reject null hypothesis')\n",
    "    else:\n",
    "        print('Fail to reject null hypothesis') \n",
    "        \n",
    "ttest(0.5, XOne_rating, PC_rating)"
   ]
  },
  {
   "cell_type": "markdown",
   "metadata": {},
   "source": [
    "### Conclusion"
   ]
  },
  {
   "cell_type": "markdown",
   "metadata": {},
   "source": [
    "Assumption that average user scores of Xbox One and PC are the same is not disapproved by observations"
   ]
  },
  {
   "cell_type": "markdown",
   "metadata": {},
   "source": [
    "### Test hypothesis: average user scores of Action and Sports genres are different"
   ]
  },
  {
   "cell_type": "markdown",
   "metadata": {},
   "source": [
    "Let's vocabulate null hypothesis as \"average user scores of Action and Sports genres are the same\". Then alternative hypotesis would be \"average user scores of Action and Sports genres are different\". Amount of mean values from sample is large enough. Therefore on grounds of Central Limit Theorem the distribution of a sample variable approximates a normal distribution. So we can run a T-test."
   ]
  },
  {
   "cell_type": "code",
   "execution_count": 40,
   "metadata": {},
   "outputs": [
    {
     "data": {
      "text/plain": [
       "0.9441094814683492"
      ]
     },
     "execution_count": 40,
     "metadata": {},
     "output_type": "execute_result"
    }
   ],
   "source": [
    "#calculate stndard deviation\n",
    "action_rating = modern_era_data.query('genre == \"Action\"')['user_score']\n",
    "action_rating.std()"
   ]
  },
  {
   "cell_type": "code",
   "execution_count": 41,
   "metadata": {},
   "outputs": [
    {
     "data": {
      "text/plain": [
       "1.8290604144334128"
      ]
     },
     "execution_count": 41,
     "metadata": {},
     "output_type": "execute_result"
    }
   ],
   "source": [
    "sports_rating = modern_era_data.query('genre == \"Sports\"')['user_score']\n",
    "sports_rating.std()"
   ]
  },
  {
   "cell_type": "code",
   "execution_count": 42,
   "metadata": {},
   "outputs": [
    {
     "name": "stdout",
     "output_type": "stream",
     "text": [
      "p-value: 1.716082359090088e-13\n",
      "Reject null hypothesis\n"
     ]
    }
   ],
   "source": [
    "ttest(0.5, action_rating, sports_rating)"
   ]
  },
  {
   "cell_type": "markdown",
   "metadata": {},
   "source": [
    "### Conclusion"
   ]
  },
  {
   "cell_type": "markdown",
   "metadata": {},
   "source": [
    "Assumption that average user scores of Action and Sports genres are the same is disapproved by observations"
   ]
  },
  {
   "cell_type": "markdown",
   "metadata": {},
   "source": [
    "## General Conclusion"
   ]
  },
  {
   "cell_type": "markdown",
   "metadata": {},
   "source": [
    "Computer game sellings are declining. So to be profitable we should look toward PS4, XOne, 3DS, WiiU platforms and pick Shooter, Sports, Role-Playing, Fighting genres. The most of the biggest markets are in USA and in Europe. The most popular platforms in this regions are XOne, PS4, WiiU, X360 and Shooter, Sports, Role-Playing, Fighting, Platform, Racing genres. To make the right choice we should pay attention to critic scores. Japanese market is not so large. Probably it's not a priority direction.\n",
    "\n",
    " "
   ]
  }
 ],
 "metadata": {
  "ExecuteTimeLog": [
   {
    "duration": 813,
    "start_time": "2021-08-02T15:45:17.049Z"
   },
   {
    "duration": 221,
    "start_time": "2021-08-02T15:45:18.411Z"
   },
   {
    "duration": 34,
    "start_time": "2021-08-02T15:45:38.189Z"
   },
   {
    "duration": 24,
    "start_time": "2021-08-02T15:45:41.629Z"
   },
   {
    "duration": 11,
    "start_time": "2021-08-02T15:48:02.559Z"
   },
   {
    "duration": 18,
    "start_time": "2021-08-02T15:50:09.269Z"
   },
   {
    "duration": 27,
    "start_time": "2021-08-02T15:51:06.219Z"
   },
   {
    "duration": 872,
    "start_time": "2021-08-03T16:26:26.030Z"
   },
   {
    "duration": 39,
    "start_time": "2021-08-03T16:26:26.904Z"
   },
   {
    "duration": 23,
    "start_time": "2021-08-03T16:26:26.946Z"
   },
   {
    "duration": 42,
    "start_time": "2021-08-03T16:32:26.079Z"
   },
   {
    "duration": 34,
    "start_time": "2021-08-03T16:45:39.814Z"
   },
   {
    "duration": 23,
    "start_time": "2021-08-03T16:52:12.649Z"
   },
   {
    "duration": 20,
    "start_time": "2021-08-03T16:52:29.684Z"
   },
   {
    "duration": 19,
    "start_time": "2021-08-03T16:57:04.730Z"
   },
   {
    "duration": 22,
    "start_time": "2021-08-03T16:57:22.409Z"
   },
   {
    "duration": 434,
    "start_time": "2021-08-03T16:58:29.369Z"
   },
   {
    "duration": 25,
    "start_time": "2021-08-03T16:59:21.784Z"
   },
   {
    "duration": 22,
    "start_time": "2021-08-03T16:59:35.850Z"
   },
   {
    "duration": 354,
    "start_time": "2021-08-03T17:09:45.074Z"
   },
   {
    "duration": 40,
    "start_time": "2021-08-03T17:10:52.095Z"
   },
   {
    "duration": 7,
    "start_time": "2021-08-03T17:11:29.534Z"
   },
   {
    "duration": 9036,
    "start_time": "2021-08-03T17:17:27.889Z"
   },
   {
    "duration": 7,
    "start_time": "2021-08-03T17:18:01.709Z"
   },
   {
    "duration": 7,
    "start_time": "2021-08-03T17:20:12.413Z"
   },
   {
    "duration": 19,
    "start_time": "2021-08-03T17:21:25.403Z"
   },
   {
    "duration": 20,
    "start_time": "2021-08-03T17:21:40.582Z"
   },
   {
    "duration": 644,
    "start_time": "2021-08-04T08:33:45.022Z"
   },
   {
    "duration": 23,
    "start_time": "2021-08-04T08:33:45.668Z"
   },
   {
    "duration": 11,
    "start_time": "2021-08-04T08:33:45.693Z"
   },
   {
    "duration": 26,
    "start_time": "2021-08-04T08:33:45.706Z"
   },
   {
    "duration": 24,
    "start_time": "2021-08-04T08:33:45.733Z"
   },
   {
    "duration": 5062,
    "start_time": "2021-08-04T08:33:45.759Z"
   },
   {
    "duration": -528,
    "start_time": "2021-08-04T08:33:51.351Z"
   },
   {
    "duration": -531,
    "start_time": "2021-08-04T08:33:51.355Z"
   },
   {
    "duration": -540,
    "start_time": "2021-08-04T08:33:51.365Z"
   },
   {
    "duration": -541,
    "start_time": "2021-08-04T08:33:51.367Z"
   },
   {
    "duration": -543,
    "start_time": "2021-08-04T08:33:51.370Z"
   },
   {
    "duration": 577,
    "start_time": "2021-08-04T08:34:53.229Z"
   },
   {
    "duration": 24,
    "start_time": "2021-08-04T08:34:53.808Z"
   },
   {
    "duration": 9,
    "start_time": "2021-08-04T08:34:53.834Z"
   },
   {
    "duration": 46,
    "start_time": "2021-08-04T08:34:53.845Z"
   },
   {
    "duration": 4,
    "start_time": "2021-08-04T08:34:53.892Z"
   },
   {
    "duration": 5,
    "start_time": "2021-08-04T08:34:53.898Z"
   },
   {
    "duration": 22,
    "start_time": "2021-08-04T08:34:53.905Z"
   },
   {
    "duration": 8,
    "start_time": "2021-08-04T08:34:53.929Z"
   },
   {
    "duration": 14,
    "start_time": "2021-08-04T08:34:53.939Z"
   },
   {
    "duration": 4985,
    "start_time": "2021-08-04T08:35:07.960Z"
   },
   {
    "duration": 595,
    "start_time": "2021-08-04T08:35:20.709Z"
   },
   {
    "duration": 26,
    "start_time": "2021-08-04T08:35:21.306Z"
   },
   {
    "duration": 10,
    "start_time": "2021-08-04T08:35:21.337Z"
   },
   {
    "duration": 50,
    "start_time": "2021-08-04T08:35:21.348Z"
   },
   {
    "duration": 4,
    "start_time": "2021-08-04T08:35:21.399Z"
   },
   {
    "duration": 8,
    "start_time": "2021-08-04T08:35:21.405Z"
   },
   {
    "duration": 25,
    "start_time": "2021-08-04T08:35:21.415Z"
   },
   {
    "duration": 10,
    "start_time": "2021-08-04T08:35:21.441Z"
   },
   {
    "duration": 43,
    "start_time": "2021-08-04T08:35:21.453Z"
   },
   {
    "duration": 4360,
    "start_time": "2021-08-04T08:36:52.863Z"
   },
   {
    "duration": 582,
    "start_time": "2021-08-04T08:37:05.199Z"
   },
   {
    "duration": 28,
    "start_time": "2021-08-04T08:37:05.783Z"
   },
   {
    "duration": 10,
    "start_time": "2021-08-04T08:37:05.813Z"
   },
   {
    "duration": 30,
    "start_time": "2021-08-04T08:37:05.826Z"
   },
   {
    "duration": 28,
    "start_time": "2021-08-04T08:37:05.858Z"
   },
   {
    "duration": 8,
    "start_time": "2021-08-04T08:37:05.888Z"
   },
   {
    "duration": 20,
    "start_time": "2021-08-04T08:37:05.898Z"
   },
   {
    "duration": 23,
    "start_time": "2021-08-04T08:37:05.919Z"
   },
   {
    "duration": 9,
    "start_time": "2021-08-04T08:37:05.943Z"
   },
   {
    "duration": 43,
    "start_time": "2021-08-04T08:37:05.954Z"
   },
   {
    "duration": 615,
    "start_time": "2021-08-04T08:45:28.665Z"
   },
   {
    "duration": 27,
    "start_time": "2021-08-04T08:45:29.282Z"
   },
   {
    "duration": 10,
    "start_time": "2021-08-04T08:45:29.311Z"
   },
   {
    "duration": 29,
    "start_time": "2021-08-04T08:45:29.323Z"
   },
   {
    "duration": 4,
    "start_time": "2021-08-04T08:45:29.354Z"
   },
   {
    "duration": 49,
    "start_time": "2021-08-04T08:45:29.359Z"
   },
   {
    "duration": 4,
    "start_time": "2021-08-04T08:45:29.410Z"
   },
   {
    "duration": 23,
    "start_time": "2021-08-04T08:45:29.416Z"
   },
   {
    "duration": 55,
    "start_time": "2021-08-04T08:45:29.440Z"
   },
   {
    "duration": 10,
    "start_time": "2021-08-04T08:45:29.497Z"
   },
   {
    "duration": 16,
    "start_time": "2021-08-04T08:45:29.509Z"
   },
   {
    "duration": 609,
    "start_time": "2021-08-04T08:46:56.492Z"
   },
   {
    "duration": 27,
    "start_time": "2021-08-04T08:46:57.103Z"
   },
   {
    "duration": 11,
    "start_time": "2021-08-04T08:46:57.135Z"
   },
   {
    "duration": 55,
    "start_time": "2021-08-04T08:46:57.148Z"
   },
   {
    "duration": 5,
    "start_time": "2021-08-04T08:46:57.205Z"
   },
   {
    "duration": 35,
    "start_time": "2021-08-04T08:46:57.212Z"
   },
   {
    "duration": 5,
    "start_time": "2021-08-04T08:46:57.251Z"
   },
   {
    "duration": 21,
    "start_time": "2021-08-04T08:46:57.284Z"
   },
   {
    "duration": 23,
    "start_time": "2021-08-04T08:46:57.307Z"
   },
   {
    "duration": 10,
    "start_time": "2021-08-04T08:46:57.332Z"
   },
   {
    "duration": 43,
    "start_time": "2021-08-04T08:46:57.343Z"
   },
   {
    "duration": 581,
    "start_time": "2021-08-04T08:47:22.926Z"
   },
   {
    "duration": 27,
    "start_time": "2021-08-04T08:47:23.508Z"
   },
   {
    "duration": 13,
    "start_time": "2021-08-04T08:47:23.539Z"
   },
   {
    "duration": 51,
    "start_time": "2021-08-04T08:47:23.554Z"
   },
   {
    "duration": 5,
    "start_time": "2021-08-04T08:47:23.607Z"
   },
   {
    "duration": 25,
    "start_time": "2021-08-04T08:47:23.614Z"
   },
   {
    "duration": 5,
    "start_time": "2021-08-04T08:47:23.641Z"
   },
   {
    "duration": 50,
    "start_time": "2021-08-04T08:47:23.647Z"
   },
   {
    "duration": 23,
    "start_time": "2021-08-04T08:47:23.698Z"
   },
   {
    "duration": 9,
    "start_time": "2021-08-04T08:47:23.722Z"
   },
   {
    "duration": 14,
    "start_time": "2021-08-04T08:47:23.733Z"
   },
   {
    "duration": 5022,
    "start_time": "2021-08-04T08:52:02.583Z"
   },
   {
    "duration": 584,
    "start_time": "2021-08-04T08:52:13.004Z"
   },
   {
    "duration": 26,
    "start_time": "2021-08-04T08:52:13.590Z"
   },
   {
    "duration": 18,
    "start_time": "2021-08-04T08:52:13.618Z"
   },
   {
    "duration": 37,
    "start_time": "2021-08-04T08:52:13.637Z"
   },
   {
    "duration": 9,
    "start_time": "2021-08-04T08:52:13.676Z"
   },
   {
    "duration": 29,
    "start_time": "2021-08-04T08:52:13.687Z"
   },
   {
    "duration": 36,
    "start_time": "2021-08-04T08:52:13.717Z"
   },
   {
    "duration": 16,
    "start_time": "2021-08-04T08:52:13.755Z"
   },
   {
    "duration": 30,
    "start_time": "2021-08-04T08:52:13.773Z"
   },
   {
    "duration": 27,
    "start_time": "2021-08-04T08:52:13.805Z"
   },
   {
    "duration": 25,
    "start_time": "2021-08-04T08:52:13.833Z"
   },
   {
    "duration": 16,
    "start_time": "2021-08-04T08:52:13.860Z"
   },
   {
    "duration": 588,
    "start_time": "2021-08-04T08:53:24.026Z"
   },
   {
    "duration": 25,
    "start_time": "2021-08-04T08:53:24.616Z"
   },
   {
    "duration": 11,
    "start_time": "2021-08-04T08:53:24.643Z"
   },
   {
    "duration": 42,
    "start_time": "2021-08-04T08:53:24.655Z"
   },
   {
    "duration": 5,
    "start_time": "2021-08-04T08:53:24.698Z"
   },
   {
    "duration": 9,
    "start_time": "2021-08-04T08:53:24.704Z"
   },
   {
    "duration": 23,
    "start_time": "2021-08-04T08:53:24.715Z"
   },
   {
    "duration": 4,
    "start_time": "2021-08-04T08:53:24.740Z"
   },
   {
    "duration": 48,
    "start_time": "2021-08-04T08:53:24.746Z"
   },
   {
    "duration": 23,
    "start_time": "2021-08-04T08:53:24.796Z"
   },
   {
    "duration": 9,
    "start_time": "2021-08-04T08:53:24.820Z"
   },
   {
    "duration": 14,
    "start_time": "2021-08-04T08:53:24.831Z"
   },
   {
    "duration": 602,
    "start_time": "2021-08-04T09:23:35.476Z"
   },
   {
    "duration": 27,
    "start_time": "2021-08-04T09:23:36.080Z"
   },
   {
    "duration": 11,
    "start_time": "2021-08-04T09:23:36.109Z"
   },
   {
    "duration": 31,
    "start_time": "2021-08-04T09:23:36.122Z"
   },
   {
    "duration": 4,
    "start_time": "2021-08-04T09:23:36.155Z"
   },
   {
    "duration": 31,
    "start_time": "2021-08-04T09:23:36.160Z"
   },
   {
    "duration": 27,
    "start_time": "2021-08-04T09:23:36.192Z"
   },
   {
    "duration": 432,
    "start_time": "2021-08-04T09:23:36.222Z"
   },
   {
    "duration": -558,
    "start_time": "2021-08-04T09:23:37.214Z"
   },
   {
    "duration": -560,
    "start_time": "2021-08-04T09:23:37.218Z"
   },
   {
    "duration": -562,
    "start_time": "2021-08-04T09:23:37.221Z"
   },
   {
    "duration": -565,
    "start_time": "2021-08-04T09:23:37.226Z"
   },
   {
    "duration": -569,
    "start_time": "2021-08-04T09:23:37.231Z"
   },
   {
    "duration": 605,
    "start_time": "2021-08-04T09:30:39.374Z"
   },
   {
    "duration": 27,
    "start_time": "2021-08-04T09:30:39.980Z"
   },
   {
    "duration": 11,
    "start_time": "2021-08-04T09:30:40.009Z"
   },
   {
    "duration": 29,
    "start_time": "2021-08-04T09:30:40.022Z"
   },
   {
    "duration": 32,
    "start_time": "2021-08-04T09:30:40.053Z"
   },
   {
    "duration": 7,
    "start_time": "2021-08-04T09:30:40.086Z"
   },
   {
    "duration": 19,
    "start_time": "2021-08-04T09:30:40.095Z"
   },
   {
    "duration": 447,
    "start_time": "2021-08-04T09:30:40.116Z"
   },
   {
    "duration": -543,
    "start_time": "2021-08-04T09:30:41.109Z"
   },
   {
    "duration": -555,
    "start_time": "2021-08-04T09:30:41.122Z"
   },
   {
    "duration": -557,
    "start_time": "2021-08-04T09:30:41.125Z"
   },
   {
    "duration": -565,
    "start_time": "2021-08-04T09:30:41.134Z"
   },
   {
    "duration": -566,
    "start_time": "2021-08-04T09:30:41.136Z"
   },
   {
    "duration": 605,
    "start_time": "2021-08-04T09:32:46.874Z"
   },
   {
    "duration": 26,
    "start_time": "2021-08-04T09:32:47.481Z"
   },
   {
    "duration": 19,
    "start_time": "2021-08-04T09:32:47.509Z"
   },
   {
    "duration": 39,
    "start_time": "2021-08-04T09:32:47.530Z"
   },
   {
    "duration": 4,
    "start_time": "2021-08-04T09:32:47.571Z"
   },
   {
    "duration": 10,
    "start_time": "2021-08-04T09:32:47.577Z"
   },
   {
    "duration": 20,
    "start_time": "2021-08-04T09:32:47.588Z"
   },
   {
    "duration": 67,
    "start_time": "2021-08-04T09:32:47.610Z"
   },
   {
    "duration": -545,
    "start_time": "2021-08-04T09:32:48.224Z"
   },
   {
    "duration": -554,
    "start_time": "2021-08-04T09:32:48.234Z"
   },
   {
    "duration": -557,
    "start_time": "2021-08-04T09:32:48.238Z"
   },
   {
    "duration": -561,
    "start_time": "2021-08-04T09:32:48.243Z"
   },
   {
    "duration": -567,
    "start_time": "2021-08-04T09:32:48.250Z"
   },
   {
    "duration": 600,
    "start_time": "2021-08-04T09:33:52.160Z"
   },
   {
    "duration": 24,
    "start_time": "2021-08-04T09:33:52.762Z"
   },
   {
    "duration": 9,
    "start_time": "2021-08-04T09:33:52.788Z"
   },
   {
    "duration": 28,
    "start_time": "2021-08-04T09:33:52.799Z"
   },
   {
    "duration": 5,
    "start_time": "2021-08-04T09:33:52.828Z"
   },
   {
    "duration": 8,
    "start_time": "2021-08-04T09:33:52.834Z"
   },
   {
    "duration": 43,
    "start_time": "2021-08-04T09:33:52.844Z"
   },
   {
    "duration": 238,
    "start_time": "2021-08-04T09:33:52.889Z"
   },
   {
    "duration": 5,
    "start_time": "2021-08-04T09:33:53.128Z"
   },
   {
    "duration": 26,
    "start_time": "2021-08-04T09:33:53.134Z"
   },
   {
    "duration": 40,
    "start_time": "2021-08-04T09:33:53.161Z"
   },
   {
    "duration": 10,
    "start_time": "2021-08-04T09:33:53.203Z"
   },
   {
    "duration": 17,
    "start_time": "2021-08-04T09:33:53.214Z"
   },
   {
    "duration": 580,
    "start_time": "2021-08-04T09:34:37.828Z"
   },
   {
    "duration": 25,
    "start_time": "2021-08-04T09:34:38.410Z"
   },
   {
    "duration": 15,
    "start_time": "2021-08-04T09:34:38.437Z"
   },
   {
    "duration": 43,
    "start_time": "2021-08-04T09:34:38.454Z"
   },
   {
    "duration": 3,
    "start_time": "2021-08-04T09:34:38.499Z"
   },
   {
    "duration": 10,
    "start_time": "2021-08-04T09:34:38.504Z"
   },
   {
    "duration": 20,
    "start_time": "2021-08-04T09:34:38.515Z"
   },
   {
    "duration": 259,
    "start_time": "2021-08-04T09:34:38.537Z"
   },
   {
    "duration": 5,
    "start_time": "2021-08-04T09:34:38.798Z"
   },
   {
    "duration": 25,
    "start_time": "2021-08-04T09:34:38.804Z"
   },
   {
    "duration": 30,
    "start_time": "2021-08-04T09:34:38.830Z"
   },
   {
    "duration": 36,
    "start_time": "2021-08-04T09:34:38.861Z"
   },
   {
    "duration": 15,
    "start_time": "2021-08-04T09:34:38.899Z"
   },
   {
    "duration": 582,
    "start_time": "2021-08-04T09:35:11.556Z"
   },
   {
    "duration": 26,
    "start_time": "2021-08-04T09:35:12.140Z"
   },
   {
    "duration": 19,
    "start_time": "2021-08-04T09:35:12.171Z"
   },
   {
    "duration": 27,
    "start_time": "2021-08-04T09:35:12.192Z"
   },
   {
    "duration": 4,
    "start_time": "2021-08-04T09:35:12.220Z"
   },
   {
    "duration": 7,
    "start_time": "2021-08-04T09:35:12.226Z"
   },
   {
    "duration": 19,
    "start_time": "2021-08-04T09:35:12.235Z"
   },
   {
    "duration": 273,
    "start_time": "2021-08-04T09:35:12.285Z"
   },
   {
    "duration": 4,
    "start_time": "2021-08-04T09:35:12.559Z"
   },
   {
    "duration": 28,
    "start_time": "2021-08-04T09:35:12.565Z"
   },
   {
    "duration": 25,
    "start_time": "2021-08-04T09:35:12.594Z"
   },
   {
    "duration": 10,
    "start_time": "2021-08-04T09:35:12.621Z"
   },
   {
    "duration": 15,
    "start_time": "2021-08-04T09:35:12.633Z"
   },
   {
    "duration": 608,
    "start_time": "2021-08-04T09:40:11.567Z"
   },
   {
    "duration": 23,
    "start_time": "2021-08-04T09:40:12.177Z"
   },
   {
    "duration": 9,
    "start_time": "2021-08-04T09:40:12.203Z"
   },
   {
    "duration": 34,
    "start_time": "2021-08-04T09:40:12.213Z"
   },
   {
    "duration": 4,
    "start_time": "2021-08-04T09:40:12.248Z"
   },
   {
    "duration": 22,
    "start_time": "2021-08-04T09:40:12.254Z"
   },
   {
    "duration": 39,
    "start_time": "2021-08-04T09:40:12.277Z"
   },
   {
    "duration": 269,
    "start_time": "2021-08-04T09:40:12.318Z"
   },
   {
    "duration": 5191,
    "start_time": "2021-08-04T09:40:12.589Z"
   },
   {
    "duration": -571,
    "start_time": "2021-08-04T09:40:18.353Z"
   },
   {
    "duration": -572,
    "start_time": "2021-08-04T09:40:18.355Z"
   },
   {
    "duration": -573,
    "start_time": "2021-08-04T09:40:18.357Z"
   },
   {
    "duration": -574,
    "start_time": "2021-08-04T09:40:18.359Z"
   },
   {
    "duration": -576,
    "start_time": "2021-08-04T09:40:18.362Z"
   },
   {
    "duration": 608,
    "start_time": "2021-08-04T09:40:37.673Z"
   },
   {
    "duration": 35,
    "start_time": "2021-08-04T09:40:38.283Z"
   },
   {
    "duration": 10,
    "start_time": "2021-08-04T09:40:38.323Z"
   },
   {
    "duration": 52,
    "start_time": "2021-08-04T09:40:38.335Z"
   },
   {
    "duration": 4,
    "start_time": "2021-08-04T09:40:38.388Z"
   },
   {
    "duration": 8,
    "start_time": "2021-08-04T09:40:38.394Z"
   },
   {
    "duration": 20,
    "start_time": "2021-08-04T09:40:38.404Z"
   },
   {
    "duration": 296,
    "start_time": "2021-08-04T09:40:38.426Z"
   },
   {
    "duration": 240,
    "start_time": "2021-08-04T09:40:38.724Z"
   },
   {
    "duration": -550,
    "start_time": "2021-08-04T09:40:39.516Z"
   },
   {
    "duration": -550,
    "start_time": "2021-08-04T09:40:39.518Z"
   },
   {
    "duration": -553,
    "start_time": "2021-08-04T09:40:39.522Z"
   },
   {
    "duration": -555,
    "start_time": "2021-08-04T09:40:39.526Z"
   },
   {
    "duration": -563,
    "start_time": "2021-08-04T09:40:39.535Z"
   },
   {
    "duration": 592,
    "start_time": "2021-08-04T09:46:19.786Z"
   },
   {
    "duration": 25,
    "start_time": "2021-08-04T09:46:20.380Z"
   },
   {
    "duration": 10,
    "start_time": "2021-08-04T09:46:20.407Z"
   },
   {
    "duration": 28,
    "start_time": "2021-08-04T09:46:20.419Z"
   },
   {
    "duration": 5,
    "start_time": "2021-08-04T09:46:20.449Z"
   },
   {
    "duration": 35,
    "start_time": "2021-08-04T09:46:20.455Z"
   },
   {
    "duration": 21,
    "start_time": "2021-08-04T09:46:20.492Z"
   },
   {
    "duration": 282,
    "start_time": "2021-08-04T09:46:20.515Z"
   },
   {
    "duration": 430,
    "start_time": "2021-08-04T09:46:20.798Z"
   },
   {
    "duration": -587,
    "start_time": "2021-08-04T09:46:21.817Z"
   },
   {
    "duration": -589,
    "start_time": "2021-08-04T09:46:21.820Z"
   },
   {
    "duration": -592,
    "start_time": "2021-08-04T09:46:21.824Z"
   },
   {
    "duration": -593,
    "start_time": "2021-08-04T09:46:21.826Z"
   },
   {
    "duration": -600,
    "start_time": "2021-08-04T09:46:21.834Z"
   },
   {
    "duration": 551,
    "start_time": "2021-08-04T09:48:26.533Z"
   },
   {
    "duration": 26,
    "start_time": "2021-08-04T09:48:27.087Z"
   },
   {
    "duration": 27,
    "start_time": "2021-08-04T09:48:27.116Z"
   },
   {
    "duration": 30,
    "start_time": "2021-08-04T09:48:27.145Z"
   },
   {
    "duration": 11,
    "start_time": "2021-08-04T09:48:27.177Z"
   },
   {
    "duration": 8,
    "start_time": "2021-08-04T09:48:27.190Z"
   },
   {
    "duration": 22,
    "start_time": "2021-08-04T09:48:27.200Z"
   },
   {
    "duration": 300,
    "start_time": "2021-08-04T09:48:27.224Z"
   },
   {
    "duration": 10,
    "start_time": "2021-08-04T09:48:27.526Z"
   },
   {
    "duration": 4,
    "start_time": "2021-08-04T09:48:27.538Z"
   },
   {
    "duration": 43,
    "start_time": "2021-08-04T09:48:27.544Z"
   },
   {
    "duration": 26,
    "start_time": "2021-08-04T09:48:27.589Z"
   },
   {
    "duration": 10,
    "start_time": "2021-08-04T09:48:27.616Z"
   },
   {
    "duration": 14,
    "start_time": "2021-08-04T09:48:27.628Z"
   },
   {
    "duration": 564,
    "start_time": "2021-08-04T09:48:44.035Z"
   },
   {
    "duration": 25,
    "start_time": "2021-08-04T09:48:44.601Z"
   },
   {
    "duration": 9,
    "start_time": "2021-08-04T09:48:44.628Z"
   },
   {
    "duration": 46,
    "start_time": "2021-08-04T09:48:44.639Z"
   },
   {
    "duration": 5,
    "start_time": "2021-08-04T09:48:44.687Z"
   },
   {
    "duration": 9,
    "start_time": "2021-08-04T09:48:44.693Z"
   },
   {
    "duration": 19,
    "start_time": "2021-08-04T09:48:44.704Z"
   },
   {
    "duration": 300,
    "start_time": "2021-08-04T09:48:44.725Z"
   },
   {
    "duration": 6,
    "start_time": "2021-08-04T09:48:45.027Z"
   },
   {
    "duration": 9,
    "start_time": "2021-08-04T09:48:45.034Z"
   },
   {
    "duration": 40,
    "start_time": "2021-08-04T09:48:45.045Z"
   },
   {
    "duration": 24,
    "start_time": "2021-08-04T09:48:45.086Z"
   },
   {
    "duration": 11,
    "start_time": "2021-08-04T09:48:45.112Z"
   },
   {
    "duration": 15,
    "start_time": "2021-08-04T09:48:45.125Z"
   },
   {
    "duration": 635,
    "start_time": "2021-08-04T09:54:05.869Z"
   },
   {
    "duration": 27,
    "start_time": "2021-08-04T09:54:06.506Z"
   },
   {
    "duration": 10,
    "start_time": "2021-08-04T09:54:06.539Z"
   },
   {
    "duration": 53,
    "start_time": "2021-08-04T09:54:06.550Z"
   },
   {
    "duration": 5,
    "start_time": "2021-08-04T09:54:06.604Z"
   },
   {
    "duration": 9,
    "start_time": "2021-08-04T09:54:06.610Z"
   },
   {
    "duration": 26,
    "start_time": "2021-08-04T09:54:06.621Z"
   },
   {
    "duration": 238,
    "start_time": "2021-08-04T09:54:06.649Z"
   },
   {
    "duration": -626,
    "start_time": "2021-08-04T09:54:07.515Z"
   },
   {
    "duration": -629,
    "start_time": "2021-08-04T09:54:07.519Z"
   },
   {
    "duration": -631,
    "start_time": "2021-08-04T09:54:07.522Z"
   },
   {
    "duration": -926,
    "start_time": "2021-08-04T09:54:07.818Z"
   },
   {
    "duration": -929,
    "start_time": "2021-08-04T09:54:07.821Z"
   },
   {
    "duration": -931,
    "start_time": "2021-08-04T09:54:07.824Z"
   },
   {
    "duration": 556,
    "start_time": "2021-08-04T09:54:42.027Z"
   },
   {
    "duration": 26,
    "start_time": "2021-08-04T09:54:42.585Z"
   },
   {
    "duration": 15,
    "start_time": "2021-08-04T09:54:42.613Z"
   },
   {
    "duration": 42,
    "start_time": "2021-08-04T09:54:42.630Z"
   },
   {
    "duration": 4,
    "start_time": "2021-08-04T09:54:42.674Z"
   },
   {
    "duration": 7,
    "start_time": "2021-08-04T09:54:42.685Z"
   },
   {
    "duration": 26,
    "start_time": "2021-08-04T09:54:42.694Z"
   },
   {
    "duration": 141,
    "start_time": "2021-08-04T09:54:42.722Z"
   },
   {
    "duration": 6,
    "start_time": "2021-08-04T09:54:42.864Z"
   },
   {
    "duration": 6,
    "start_time": "2021-08-04T09:54:42.872Z"
   },
   {
    "duration": 9,
    "start_time": "2021-08-04T09:54:42.885Z"
   },
   {
    "duration": 31,
    "start_time": "2021-08-04T09:54:42.896Z"
   },
   {
    "duration": 11,
    "start_time": "2021-08-04T09:54:42.929Z"
   },
   {
    "duration": 24,
    "start_time": "2021-08-04T09:54:42.942Z"
   },
   {
    "duration": 614,
    "start_time": "2021-08-04T09:56:04.586Z"
   },
   {
    "duration": 26,
    "start_time": "2021-08-04T09:56:05.201Z"
   },
   {
    "duration": 11,
    "start_time": "2021-08-04T09:56:05.229Z"
   },
   {
    "duration": 51,
    "start_time": "2021-08-04T09:56:05.241Z"
   },
   {
    "duration": 4,
    "start_time": "2021-08-04T09:56:05.294Z"
   },
   {
    "duration": 10,
    "start_time": "2021-08-04T09:56:05.299Z"
   },
   {
    "duration": 22,
    "start_time": "2021-08-04T09:56:05.311Z"
   },
   {
    "duration": 157,
    "start_time": "2021-08-04T09:56:05.336Z"
   },
   {
    "duration": 6,
    "start_time": "2021-08-04T09:56:05.495Z"
   },
   {
    "duration": 6,
    "start_time": "2021-08-04T09:56:05.503Z"
   },
   {
    "duration": 9,
    "start_time": "2021-08-04T09:56:05.511Z"
   },
   {
    "duration": 17,
    "start_time": "2021-08-04T09:56:05.522Z"
   },
   {
    "duration": 48,
    "start_time": "2021-08-04T09:56:05.541Z"
   },
   {
    "duration": 24,
    "start_time": "2021-08-04T09:56:05.592Z"
   },
   {
    "duration": 598,
    "start_time": "2021-08-04T09:56:44.654Z"
   },
   {
    "duration": 26,
    "start_time": "2021-08-04T09:56:45.254Z"
   },
   {
    "duration": 10,
    "start_time": "2021-08-04T09:56:45.282Z"
   },
   {
    "duration": 28,
    "start_time": "2021-08-04T09:56:45.294Z"
   },
   {
    "duration": 4,
    "start_time": "2021-08-04T09:56:45.324Z"
   },
   {
    "duration": 10,
    "start_time": "2021-08-04T09:56:45.330Z"
   },
   {
    "duration": 44,
    "start_time": "2021-08-04T09:56:45.342Z"
   },
   {
    "duration": 143,
    "start_time": "2021-08-04T09:56:45.388Z"
   },
   {
    "duration": 111,
    "start_time": "2021-08-04T09:56:45.533Z"
   },
   {
    "duration": 4,
    "start_time": "2021-08-04T09:56:45.645Z"
   },
   {
    "duration": 14,
    "start_time": "2021-08-04T09:56:45.651Z"
   },
   {
    "duration": 1342,
    "start_time": "2021-08-04T09:56:45.667Z"
   },
   {
    "duration": -591,
    "start_time": "2021-08-04T09:56:47.602Z"
   },
   {
    "duration": -593,
    "start_time": "2021-08-04T09:56:47.605Z"
   },
   {
    "duration": 643,
    "start_time": "2021-08-04T09:57:20.278Z"
   },
   {
    "duration": 26,
    "start_time": "2021-08-04T09:57:20.923Z"
   },
   {
    "duration": 9,
    "start_time": "2021-08-04T09:57:20.952Z"
   },
   {
    "duration": 54,
    "start_time": "2021-08-04T09:57:20.964Z"
   },
   {
    "duration": 5,
    "start_time": "2021-08-04T09:57:21.019Z"
   },
   {
    "duration": 14,
    "start_time": "2021-08-04T09:57:21.026Z"
   },
   {
    "duration": 22,
    "start_time": "2021-08-04T09:57:21.043Z"
   },
   {
    "duration": 166,
    "start_time": "2021-08-04T09:57:21.067Z"
   },
   {
    "duration": 133,
    "start_time": "2021-08-04T09:57:21.235Z"
   },
   {
    "duration": 4,
    "start_time": "2021-08-04T09:57:21.370Z"
   },
   {
    "duration": 21,
    "start_time": "2021-08-04T09:57:21.376Z"
   },
   {
    "duration": 1393,
    "start_time": "2021-08-04T09:57:21.399Z"
   },
   {
    "duration": -598,
    "start_time": "2021-08-04T09:57:23.392Z"
   },
   {
    "duration": -597,
    "start_time": "2021-08-04T09:57:23.393Z"
   },
   {
    "duration": 630,
    "start_time": "2021-08-04T09:58:23.497Z"
   },
   {
    "duration": 29,
    "start_time": "2021-08-04T09:58:24.129Z"
   },
   {
    "duration": 11,
    "start_time": "2021-08-04T09:58:24.160Z"
   },
   {
    "duration": 36,
    "start_time": "2021-08-04T09:58:24.173Z"
   },
   {
    "duration": 5,
    "start_time": "2021-08-04T09:58:24.211Z"
   },
   {
    "duration": 7,
    "start_time": "2021-08-04T09:58:24.217Z"
   },
   {
    "duration": 20,
    "start_time": "2021-08-04T09:58:24.226Z"
   },
   {
    "duration": 451,
    "start_time": "2021-08-04T09:58:24.249Z"
   },
   {
    "duration": -570,
    "start_time": "2021-08-04T09:58:25.272Z"
   },
   {
    "duration": -571,
    "start_time": "2021-08-04T09:58:25.275Z"
   },
   {
    "duration": -586,
    "start_time": "2021-08-04T09:58:25.291Z"
   },
   {
    "duration": -587,
    "start_time": "2021-08-04T09:58:25.293Z"
   },
   {
    "duration": -588,
    "start_time": "2021-08-04T09:58:25.295Z"
   },
   {
    "duration": 810,
    "start_time": "2021-08-04T12:04:24.333Z"
   },
   {
    "duration": 40,
    "start_time": "2021-08-04T12:04:25.146Z"
   },
   {
    "duration": 21,
    "start_time": "2021-08-04T12:04:25.189Z"
   },
   {
    "duration": 60,
    "start_time": "2021-08-04T12:04:25.213Z"
   },
   {
    "duration": 9,
    "start_time": "2021-08-04T12:04:25.276Z"
   },
   {
    "duration": 15,
    "start_time": "2021-08-04T12:04:25.287Z"
   },
   {
    "duration": 58,
    "start_time": "2021-08-04T12:04:25.305Z"
   },
   {
    "duration": 7,
    "start_time": "2021-08-04T12:04:25.368Z"
   },
   {
    "duration": 39,
    "start_time": "2021-08-04T12:04:25.380Z"
   },
   {
    "duration": 60,
    "start_time": "2021-08-04T12:04:25.422Z"
   },
   {
    "duration": 13,
    "start_time": "2021-08-04T12:04:25.485Z"
   },
   {
    "duration": 30,
    "start_time": "2021-08-04T12:04:25.501Z"
   },
   {
    "duration": 796,
    "start_time": "2021-08-04T12:04:25.533Z"
   },
   {
    "duration": -689,
    "start_time": "2021-08-04T12:04:27.021Z"
   },
   {
    "duration": 815,
    "start_time": "2021-08-04T12:04:41.258Z"
   },
   {
    "duration": 44,
    "start_time": "2021-08-04T12:04:42.077Z"
   },
   {
    "duration": 42,
    "start_time": "2021-08-04T12:04:42.125Z"
   },
   {
    "duration": 44,
    "start_time": "2021-08-04T12:04:42.170Z"
   },
   {
    "duration": 6,
    "start_time": "2021-08-04T12:04:42.217Z"
   },
   {
    "duration": 10,
    "start_time": "2021-08-04T12:04:42.257Z"
   },
   {
    "duration": 44,
    "start_time": "2021-08-04T12:04:42.270Z"
   },
   {
    "duration": 7,
    "start_time": "2021-08-04T12:04:42.319Z"
   },
   {
    "duration": 56,
    "start_time": "2021-08-04T12:04:42.330Z"
   },
   {
    "duration": 37,
    "start_time": "2021-08-04T12:04:42.389Z"
   },
   {
    "duration": 43,
    "start_time": "2021-08-04T12:04:42.428Z"
   },
   {
    "duration": 24,
    "start_time": "2021-08-04T12:04:42.473Z"
   },
   {
    "duration": 754,
    "start_time": "2021-08-04T12:04:42.500Z"
   },
   {
    "duration": -710,
    "start_time": "2021-08-04T12:04:43.967Z"
   },
   {
    "duration": 836,
    "start_time": "2021-08-04T12:07:19.336Z"
   },
   {
    "duration": 39,
    "start_time": "2021-08-04T12:07:20.174Z"
   },
   {
    "duration": 14,
    "start_time": "2021-08-04T12:07:20.216Z"
   },
   {
    "duration": 44,
    "start_time": "2021-08-04T12:07:20.256Z"
   },
   {
    "duration": 7,
    "start_time": "2021-08-04T12:07:20.302Z"
   },
   {
    "duration": 17,
    "start_time": "2021-08-04T12:07:20.312Z"
   },
   {
    "duration": 55,
    "start_time": "2021-08-04T12:07:20.332Z"
   },
   {
    "duration": 7,
    "start_time": "2021-08-04T12:07:20.391Z"
   },
   {
    "duration": 60,
    "start_time": "2021-08-04T12:07:20.401Z"
   },
   {
    "duration": 35,
    "start_time": "2021-08-04T12:07:20.464Z"
   },
   {
    "duration": 16,
    "start_time": "2021-08-04T12:07:20.502Z"
   },
   {
    "duration": 55,
    "start_time": "2021-08-04T12:07:20.520Z"
   },
   {
    "duration": 478,
    "start_time": "2021-08-04T12:07:20.578Z"
   },
   {
    "duration": -694,
    "start_time": "2021-08-04T12:07:21.753Z"
   },
   {
    "duration": 876,
    "start_time": "2021-08-04T12:13:18.019Z"
   },
   {
    "duration": 40,
    "start_time": "2021-08-04T12:13:18.897Z"
   },
   {
    "duration": 22,
    "start_time": "2021-08-04T12:13:18.940Z"
   },
   {
    "duration": 40,
    "start_time": "2021-08-04T12:13:18.965Z"
   },
   {
    "duration": 6,
    "start_time": "2021-08-04T12:13:19.007Z"
   },
   {
    "duration": 45,
    "start_time": "2021-08-04T12:13:19.015Z"
   },
   {
    "duration": 43,
    "start_time": "2021-08-04T12:13:19.062Z"
   },
   {
    "duration": 5,
    "start_time": "2021-08-04T12:13:19.109Z"
   },
   {
    "duration": 42,
    "start_time": "2021-08-04T12:13:19.117Z"
   },
   {
    "duration": 34,
    "start_time": "2021-08-04T12:13:19.162Z"
   },
   {
    "duration": 13,
    "start_time": "2021-08-04T12:13:19.198Z"
   },
   {
    "duration": 51,
    "start_time": "2021-08-04T12:13:19.213Z"
   },
   {
    "duration": 20,
    "start_time": "2021-08-04T12:13:19.267Z"
   },
   {
    "duration": 496,
    "start_time": "2021-08-04T12:13:19.289Z"
   },
   {
    "duration": 831,
    "start_time": "2021-08-04T12:18:35.621Z"
   },
   {
    "duration": 38,
    "start_time": "2021-08-04T12:18:36.455Z"
   },
   {
    "duration": 13,
    "start_time": "2021-08-04T12:18:36.496Z"
   },
   {
    "duration": 65,
    "start_time": "2021-08-04T12:18:36.512Z"
   },
   {
    "duration": 5,
    "start_time": "2021-08-04T12:18:36.580Z"
   },
   {
    "duration": 16,
    "start_time": "2021-08-04T12:18:36.587Z"
   },
   {
    "duration": 52,
    "start_time": "2021-08-04T12:18:36.605Z"
   },
   {
    "duration": 6,
    "start_time": "2021-08-04T12:18:36.660Z"
   },
   {
    "duration": 42,
    "start_time": "2021-08-04T12:18:36.668Z"
   },
   {
    "duration": 57,
    "start_time": "2021-08-04T12:18:36.713Z"
   },
   {
    "duration": 13,
    "start_time": "2021-08-04T12:18:36.773Z"
   },
   {
    "duration": 24,
    "start_time": "2021-08-04T12:18:36.788Z"
   },
   {
    "duration": 46,
    "start_time": "2021-08-04T12:18:36.815Z"
   },
   {
    "duration": 472,
    "start_time": "2021-08-04T12:18:36.863Z"
   },
   {
    "duration": 461,
    "start_time": "2021-08-04T12:18:37.337Z"
   },
   {
    "duration": 843,
    "start_time": "2021-08-04T12:19:30.185Z"
   },
   {
    "duration": 39,
    "start_time": "2021-08-04T12:19:31.031Z"
   },
   {
    "duration": 52,
    "start_time": "2021-08-04T12:19:31.073Z"
   },
   {
    "duration": 52,
    "start_time": "2021-08-04T12:19:31.127Z"
   },
   {
    "duration": 6,
    "start_time": "2021-08-04T12:19:31.182Z"
   },
   {
    "duration": 27,
    "start_time": "2021-08-04T12:19:31.191Z"
   },
   {
    "duration": 73,
    "start_time": "2021-08-04T12:19:31.220Z"
   },
   {
    "duration": 27,
    "start_time": "2021-08-04T12:19:31.296Z"
   },
   {
    "duration": 70,
    "start_time": "2021-08-04T12:19:31.325Z"
   },
   {
    "duration": 43,
    "start_time": "2021-08-04T12:19:31.397Z"
   },
   {
    "duration": 14,
    "start_time": "2021-08-04T12:19:31.442Z"
   },
   {
    "duration": 27,
    "start_time": "2021-08-04T12:19:31.459Z"
   },
   {
    "duration": 54,
    "start_time": "2021-08-04T12:19:31.489Z"
   },
   {
    "duration": 480,
    "start_time": "2021-08-04T12:19:31.547Z"
   },
   {
    "duration": 735,
    "start_time": "2021-08-04T12:19:32.030Z"
   },
   {
    "duration": 1026,
    "start_time": "2021-08-04T12:20:16.982Z"
   },
   {
    "duration": 40,
    "start_time": "2021-08-04T12:20:18.011Z"
   },
   {
    "duration": 29,
    "start_time": "2021-08-04T12:20:18.053Z"
   },
   {
    "duration": 47,
    "start_time": "2021-08-04T12:20:18.085Z"
   },
   {
    "duration": 5,
    "start_time": "2021-08-04T12:20:18.135Z"
   },
   {
    "duration": 19,
    "start_time": "2021-08-04T12:20:18.142Z"
   },
   {
    "duration": 40,
    "start_time": "2021-08-04T12:20:18.164Z"
   },
   {
    "duration": 6,
    "start_time": "2021-08-04T12:20:18.207Z"
   },
   {
    "duration": 39,
    "start_time": "2021-08-04T12:20:18.215Z"
   },
   {
    "duration": 37,
    "start_time": "2021-08-04T12:20:18.256Z"
   },
   {
    "duration": 12,
    "start_time": "2021-08-04T12:20:18.296Z"
   },
   {
    "duration": 27,
    "start_time": "2021-08-04T12:20:18.311Z"
   },
   {
    "duration": 22,
    "start_time": "2021-08-04T12:20:18.340Z"
   },
   {
    "duration": 452,
    "start_time": "2021-08-04T12:20:18.365Z"
   },
   {
    "duration": 330,
    "start_time": "2021-08-04T12:20:18.819Z"
   },
   {
    "duration": 332,
    "start_time": "2021-08-04T12:20:44.551Z"
   },
   {
    "duration": 372,
    "start_time": "2021-08-04T12:21:05.551Z"
   },
   {
    "duration": 859,
    "start_time": "2021-08-04T12:21:26.191Z"
   },
   {
    "duration": 697,
    "start_time": "2021-08-04T12:21:57.074Z"
   },
   {
    "duration": 776,
    "start_time": "2021-08-04T12:22:08.365Z"
   },
   {
    "duration": 40,
    "start_time": "2021-08-04T12:22:09.144Z"
   },
   {
    "duration": 27,
    "start_time": "2021-08-04T12:22:09.187Z"
   },
   {
    "duration": 53,
    "start_time": "2021-08-04T12:22:09.217Z"
   },
   {
    "duration": 6,
    "start_time": "2021-08-04T12:22:09.273Z"
   },
   {
    "duration": 17,
    "start_time": "2021-08-04T12:22:09.281Z"
   },
   {
    "duration": 55,
    "start_time": "2021-08-04T12:22:09.301Z"
   },
   {
    "duration": 7,
    "start_time": "2021-08-04T12:22:09.359Z"
   },
   {
    "duration": 32,
    "start_time": "2021-08-04T12:22:09.369Z"
   },
   {
    "duration": 59,
    "start_time": "2021-08-04T12:22:09.403Z"
   },
   {
    "duration": 12,
    "start_time": "2021-08-04T12:22:09.464Z"
   },
   {
    "duration": 34,
    "start_time": "2021-08-04T12:22:09.478Z"
   },
   {
    "duration": 21,
    "start_time": "2021-08-04T12:22:09.514Z"
   },
   {
    "duration": 467,
    "start_time": "2021-08-04T12:22:09.556Z"
   },
   {
    "duration": 791,
    "start_time": "2021-08-04T12:22:10.025Z"
   },
   {
    "duration": 834,
    "start_time": "2021-08-04T12:22:24.043Z"
   },
   {
    "duration": 37,
    "start_time": "2021-08-04T12:22:24.880Z"
   },
   {
    "duration": 33,
    "start_time": "2021-08-04T12:22:24.923Z"
   },
   {
    "duration": 40,
    "start_time": "2021-08-04T12:22:24.958Z"
   },
   {
    "duration": 8,
    "start_time": "2021-08-04T12:22:25.002Z"
   },
   {
    "duration": 31,
    "start_time": "2021-08-04T12:22:25.013Z"
   },
   {
    "duration": 29,
    "start_time": "2021-08-04T12:22:25.058Z"
   },
   {
    "duration": 11,
    "start_time": "2021-08-04T12:22:25.090Z"
   },
   {
    "duration": 54,
    "start_time": "2021-08-04T12:22:25.103Z"
   },
   {
    "duration": 32,
    "start_time": "2021-08-04T12:22:25.159Z"
   },
   {
    "duration": 15,
    "start_time": "2021-08-04T12:22:25.193Z"
   },
   {
    "duration": 52,
    "start_time": "2021-08-04T12:22:25.210Z"
   },
   {
    "duration": 21,
    "start_time": "2021-08-04T12:22:25.264Z"
   },
   {
    "duration": 506,
    "start_time": "2021-08-04T12:22:25.287Z"
   },
   {
    "duration": 749,
    "start_time": "2021-08-04T12:22:25.796Z"
   },
   {
    "duration": 900,
    "start_time": "2021-08-04T12:22:48.665Z"
   },
   {
    "duration": 53,
    "start_time": "2021-08-04T12:22:49.568Z"
   },
   {
    "duration": 36,
    "start_time": "2021-08-04T12:22:49.625Z"
   },
   {
    "duration": 43,
    "start_time": "2021-08-04T12:22:49.664Z"
   },
   {
    "duration": 6,
    "start_time": "2021-08-04T12:22:49.710Z"
   },
   {
    "duration": 43,
    "start_time": "2021-08-04T12:22:49.718Z"
   },
   {
    "duration": 43,
    "start_time": "2021-08-04T12:22:49.764Z"
   },
   {
    "duration": 6,
    "start_time": "2021-08-04T12:22:49.811Z"
   },
   {
    "duration": 50,
    "start_time": "2021-08-04T12:22:49.820Z"
   },
   {
    "duration": 51,
    "start_time": "2021-08-04T12:22:49.873Z"
   },
   {
    "duration": 34,
    "start_time": "2021-08-04T12:22:49.927Z"
   },
   {
    "duration": 20,
    "start_time": "2021-08-04T12:22:49.963Z"
   },
   {
    "duration": 25,
    "start_time": "2021-08-04T12:22:49.986Z"
   },
   {
    "duration": 525,
    "start_time": "2021-08-04T12:22:50.014Z"
   },
   {
    "duration": 766,
    "start_time": "2021-08-04T12:22:50.542Z"
   },
   {
    "duration": 811,
    "start_time": "2021-08-04T12:23:26.416Z"
   },
   {
    "duration": 42,
    "start_time": "2021-08-04T12:23:27.230Z"
   },
   {
    "duration": 16,
    "start_time": "2021-08-04T12:23:27.276Z"
   },
   {
    "duration": 71,
    "start_time": "2021-08-04T12:23:27.295Z"
   },
   {
    "duration": 8,
    "start_time": "2021-08-04T12:23:27.369Z"
   },
   {
    "duration": 13,
    "start_time": "2021-08-04T12:23:27.380Z"
   },
   {
    "duration": 62,
    "start_time": "2021-08-04T12:23:27.395Z"
   },
   {
    "duration": 7,
    "start_time": "2021-08-04T12:23:27.460Z"
   },
   {
    "duration": 41,
    "start_time": "2021-08-04T12:23:27.470Z"
   },
   {
    "duration": 54,
    "start_time": "2021-08-04T12:23:27.513Z"
   },
   {
    "duration": 13,
    "start_time": "2021-08-04T12:23:27.570Z"
   },
   {
    "duration": 22,
    "start_time": "2021-08-04T12:23:27.585Z"
   },
   {
    "duration": 52,
    "start_time": "2021-08-04T12:23:27.610Z"
   },
   {
    "duration": 449,
    "start_time": "2021-08-04T12:23:27.664Z"
   },
   {
    "duration": 1768,
    "start_time": "2021-08-04T12:23:28.116Z"
   },
   {
    "duration": 353,
    "start_time": "2021-08-04T12:23:55.477Z"
   },
   {
    "duration": 835,
    "start_time": "2021-08-04T12:26:13.610Z"
   },
   {
    "duration": 38,
    "start_time": "2021-08-04T12:26:14.448Z"
   },
   {
    "duration": 28,
    "start_time": "2021-08-04T12:26:14.490Z"
   },
   {
    "duration": 58,
    "start_time": "2021-08-04T12:26:14.521Z"
   },
   {
    "duration": 6,
    "start_time": "2021-08-04T12:26:14.582Z"
   },
   {
    "duration": 18,
    "start_time": "2021-08-04T12:26:14.590Z"
   },
   {
    "duration": 62,
    "start_time": "2021-08-04T12:26:14.611Z"
   },
   {
    "duration": 6,
    "start_time": "2021-08-04T12:26:14.679Z"
   },
   {
    "duration": 37,
    "start_time": "2021-08-04T12:26:14.688Z"
   },
   {
    "duration": 49,
    "start_time": "2021-08-04T12:26:14.727Z"
   },
   {
    "duration": 13,
    "start_time": "2021-08-04T12:26:14.779Z"
   },
   {
    "duration": 22,
    "start_time": "2021-08-04T12:26:14.794Z"
   },
   {
    "duration": 22,
    "start_time": "2021-08-04T12:26:14.856Z"
   },
   {
    "duration": 577,
    "start_time": "2021-08-04T12:26:14.881Z"
   },
   {
    "duration": 1203,
    "start_time": "2021-08-04T12:26:15.461Z"
   },
   {
    "duration": 837,
    "start_time": "2021-08-04T12:26:59.232Z"
   },
   {
    "duration": 43,
    "start_time": "2021-08-04T12:27:00.072Z"
   },
   {
    "duration": 39,
    "start_time": "2021-08-04T12:27:00.119Z"
   },
   {
    "duration": 51,
    "start_time": "2021-08-04T12:27:00.161Z"
   },
   {
    "duration": 12,
    "start_time": "2021-08-04T12:27:00.214Z"
   },
   {
    "duration": 23,
    "start_time": "2021-08-04T12:27:00.229Z"
   },
   {
    "duration": 43,
    "start_time": "2021-08-04T12:27:00.256Z"
   },
   {
    "duration": 13,
    "start_time": "2021-08-04T12:27:00.302Z"
   },
   {
    "duration": 53,
    "start_time": "2021-08-04T12:27:00.317Z"
   },
   {
    "duration": 45,
    "start_time": "2021-08-04T12:27:00.373Z"
   },
   {
    "duration": 47,
    "start_time": "2021-08-04T12:27:00.420Z"
   },
   {
    "duration": 39,
    "start_time": "2021-08-04T12:27:00.469Z"
   },
   {
    "duration": 45,
    "start_time": "2021-08-04T12:27:00.510Z"
   },
   {
    "duration": 597,
    "start_time": "2021-08-04T12:27:00.558Z"
   },
   {
    "duration": 328,
    "start_time": "2021-08-04T12:27:01.158Z"
   },
   {
    "duration": 314,
    "start_time": "2021-08-04T12:27:15.653Z"
   },
   {
    "duration": 309,
    "start_time": "2021-08-04T12:27:27.933Z"
   },
   {
    "duration": 332,
    "start_time": "2021-08-04T12:28:24.866Z"
   },
   {
    "duration": 704,
    "start_time": "2021-08-04T12:29:28.081Z"
   },
   {
    "duration": 670,
    "start_time": "2021-08-04T12:30:46.569Z"
   },
   {
    "duration": 838,
    "start_time": "2021-08-04T12:31:00.233Z"
   },
   {
    "duration": 39,
    "start_time": "2021-08-04T12:31:01.074Z"
   },
   {
    "duration": 88,
    "start_time": "2021-08-04T12:31:01.116Z"
   },
   {
    "duration": 67,
    "start_time": "2021-08-04T12:31:01.206Z"
   },
   {
    "duration": 24,
    "start_time": "2021-08-04T12:31:01.275Z"
   },
   {
    "duration": 41,
    "start_time": "2021-08-04T12:31:01.302Z"
   },
   {
    "duration": 144,
    "start_time": "2021-08-04T12:31:01.346Z"
   },
   {
    "duration": 12,
    "start_time": "2021-08-04T12:31:01.493Z"
   },
   {
    "duration": 42,
    "start_time": "2021-08-04T12:31:01.508Z"
   },
   {
    "duration": 101,
    "start_time": "2021-08-04T12:31:01.552Z"
   },
   {
    "duration": 42,
    "start_time": "2021-08-04T12:31:01.656Z"
   },
   {
    "duration": 53,
    "start_time": "2021-08-04T12:31:01.700Z"
   },
   {
    "duration": 75,
    "start_time": "2021-08-04T12:31:01.755Z"
   },
   {
    "duration": 581,
    "start_time": "2021-08-04T12:31:01.832Z"
   },
   {
    "duration": 741,
    "start_time": "2021-08-04T12:31:02.415Z"
   },
   {
    "duration": 301,
    "start_time": "2021-08-04T12:31:38.143Z"
   },
   {
    "duration": 624,
    "start_time": "2021-08-04T12:32:13.435Z"
   },
   {
    "duration": 644,
    "start_time": "2021-08-04T12:33:40.403Z"
   },
   {
    "duration": 847,
    "start_time": "2021-08-04T12:34:03.527Z"
   },
   {
    "duration": 39,
    "start_time": "2021-08-04T12:34:04.377Z"
   },
   {
    "duration": 37,
    "start_time": "2021-08-04T12:34:04.419Z"
   },
   {
    "duration": 44,
    "start_time": "2021-08-04T12:34:04.458Z"
   },
   {
    "duration": 7,
    "start_time": "2021-08-04T12:34:04.505Z"
   },
   {
    "duration": 42,
    "start_time": "2021-08-04T12:34:04.515Z"
   },
   {
    "duration": 40,
    "start_time": "2021-08-04T12:34:04.560Z"
   },
   {
    "duration": 6,
    "start_time": "2021-08-04T12:34:04.604Z"
   },
   {
    "duration": 57,
    "start_time": "2021-08-04T12:34:04.614Z"
   },
   {
    "duration": 34,
    "start_time": "2021-08-04T12:34:04.673Z"
   },
   {
    "duration": 16,
    "start_time": "2021-08-04T12:34:04.710Z"
   },
   {
    "duration": 22,
    "start_time": "2021-08-04T12:34:04.756Z"
   },
   {
    "duration": 20,
    "start_time": "2021-08-04T12:34:04.781Z"
   },
   {
    "duration": 481,
    "start_time": "2021-08-04T12:34:04.803Z"
   },
   {
    "duration": 734,
    "start_time": "2021-08-04T12:34:05.287Z"
   },
   {
    "duration": 1049,
    "start_time": "2021-08-04T12:35:11.597Z"
   },
   {
    "duration": 39,
    "start_time": "2021-08-04T12:35:12.649Z"
   },
   {
    "duration": 39,
    "start_time": "2021-08-04T12:35:12.691Z"
   },
   {
    "duration": 63,
    "start_time": "2021-08-04T12:35:12.733Z"
   },
   {
    "duration": 7,
    "start_time": "2021-08-04T12:35:12.799Z"
   },
   {
    "duration": 25,
    "start_time": "2021-08-04T12:35:12.808Z"
   },
   {
    "duration": 38,
    "start_time": "2021-08-04T12:35:12.835Z"
   },
   {
    "duration": 6,
    "start_time": "2021-08-04T12:35:12.876Z"
   },
   {
    "duration": 35,
    "start_time": "2021-08-04T12:35:12.885Z"
   },
   {
    "duration": 58,
    "start_time": "2021-08-04T12:35:12.922Z"
   },
   {
    "duration": 13,
    "start_time": "2021-08-04T12:35:12.983Z"
   },
   {
    "duration": 44,
    "start_time": "2021-08-04T12:35:12.998Z"
   },
   {
    "duration": 29,
    "start_time": "2021-08-04T12:35:13.045Z"
   },
   {
    "duration": 479,
    "start_time": "2021-08-04T12:35:13.077Z"
   },
   {
    "duration": 1812,
    "start_time": "2021-08-04T12:35:13.558Z"
   },
   {
    "duration": 1293,
    "start_time": "2021-08-04T12:35:55.609Z"
   },
   {
    "duration": 40,
    "start_time": "2021-08-04T12:35:56.904Z"
   },
   {
    "duration": 18,
    "start_time": "2021-08-04T12:35:56.952Z"
   },
   {
    "duration": 44,
    "start_time": "2021-08-04T12:35:56.973Z"
   },
   {
    "duration": 39,
    "start_time": "2021-08-04T12:35:57.019Z"
   },
   {
    "duration": 12,
    "start_time": "2021-08-04T12:35:57.060Z"
   },
   {
    "duration": 43,
    "start_time": "2021-08-04T12:35:57.076Z"
   },
   {
    "duration": 35,
    "start_time": "2021-08-04T12:35:57.122Z"
   },
   {
    "duration": 36,
    "start_time": "2021-08-04T12:35:57.160Z"
   },
   {
    "duration": 59,
    "start_time": "2021-08-04T12:35:57.198Z"
   },
   {
    "duration": 14,
    "start_time": "2021-08-04T12:35:57.260Z"
   },
   {
    "duration": 25,
    "start_time": "2021-08-04T12:35:57.277Z"
   },
   {
    "duration": 21,
    "start_time": "2021-08-04T12:35:57.304Z"
   },
   {
    "duration": 450,
    "start_time": "2021-08-04T12:35:57.356Z"
   },
   {
    "duration": 1558,
    "start_time": "2021-08-04T12:35:57.809Z"
   },
   {
    "duration": 823,
    "start_time": "2021-08-04T12:37:00.399Z"
   },
   {
    "duration": 41,
    "start_time": "2021-08-04T12:37:01.225Z"
   },
   {
    "duration": 24,
    "start_time": "2021-08-04T12:37:01.269Z"
   },
   {
    "duration": 57,
    "start_time": "2021-08-04T12:37:01.296Z"
   },
   {
    "duration": 17,
    "start_time": "2021-08-04T12:37:01.355Z"
   },
   {
    "duration": 41,
    "start_time": "2021-08-04T12:37:01.374Z"
   },
   {
    "duration": 54,
    "start_time": "2021-08-04T12:37:01.417Z"
   },
   {
    "duration": 8,
    "start_time": "2021-08-04T12:37:01.475Z"
   },
   {
    "duration": 53,
    "start_time": "2021-08-04T12:37:01.486Z"
   },
   {
    "duration": 39,
    "start_time": "2021-08-04T12:37:01.542Z"
   },
   {
    "duration": 16,
    "start_time": "2021-08-04T12:37:01.584Z"
   },
   {
    "duration": 72,
    "start_time": "2021-08-04T12:37:01.603Z"
   },
   {
    "duration": 41,
    "start_time": "2021-08-04T12:37:01.678Z"
   },
   {
    "duration": 481,
    "start_time": "2021-08-04T12:37:01.721Z"
   },
   {
    "duration": 863,
    "start_time": "2021-08-04T12:37:02.204Z"
   },
   {
    "duration": 798,
    "start_time": "2021-08-04T12:37:49.052Z"
   },
   {
    "duration": 39,
    "start_time": "2021-08-04T12:37:49.852Z"
   },
   {
    "duration": 14,
    "start_time": "2021-08-04T12:37:49.898Z"
   },
   {
    "duration": 67,
    "start_time": "2021-08-04T12:37:49.914Z"
   },
   {
    "duration": 6,
    "start_time": "2021-08-04T12:37:49.984Z"
   },
   {
    "duration": 13,
    "start_time": "2021-08-04T12:37:49.993Z"
   },
   {
    "duration": 64,
    "start_time": "2021-08-04T12:37:50.010Z"
   },
   {
    "duration": 7,
    "start_time": "2021-08-04T12:37:50.077Z"
   },
   {
    "duration": 36,
    "start_time": "2021-08-04T12:37:50.086Z"
   },
   {
    "duration": 57,
    "start_time": "2021-08-04T12:37:50.124Z"
   },
   {
    "duration": 15,
    "start_time": "2021-08-04T12:37:50.184Z"
   },
   {
    "duration": 22,
    "start_time": "2021-08-04T12:37:50.202Z"
   },
   {
    "duration": 51,
    "start_time": "2021-08-04T12:37:50.226Z"
   },
   {
    "duration": 482,
    "start_time": "2021-08-04T12:37:50.281Z"
   },
   {
    "duration": 733,
    "start_time": "2021-08-04T12:37:50.766Z"
   },
   {
    "duration": 788,
    "start_time": "2021-08-04T12:40:11.059Z"
   },
   {
    "duration": 39,
    "start_time": "2021-08-04T12:40:11.850Z"
   },
   {
    "duration": 14,
    "start_time": "2021-08-04T12:40:11.892Z"
   },
   {
    "duration": 64,
    "start_time": "2021-08-04T12:40:11.909Z"
   },
   {
    "duration": 6,
    "start_time": "2021-08-04T12:40:11.976Z"
   },
   {
    "duration": 14,
    "start_time": "2021-08-04T12:40:11.985Z"
   },
   {
    "duration": 55,
    "start_time": "2021-08-04T12:40:12.002Z"
   },
   {
    "duration": 7,
    "start_time": "2021-08-04T12:40:12.062Z"
   },
   {
    "duration": 43,
    "start_time": "2021-08-04T12:40:12.072Z"
   },
   {
    "duration": 55,
    "start_time": "2021-08-04T12:40:12.118Z"
   },
   {
    "duration": 14,
    "start_time": "2021-08-04T12:40:12.175Z"
   },
   {
    "duration": 25,
    "start_time": "2021-08-04T12:40:12.192Z"
   },
   {
    "duration": 54,
    "start_time": "2021-08-04T12:40:12.219Z"
   },
   {
    "duration": 471,
    "start_time": "2021-08-04T12:40:12.275Z"
   },
   {
    "duration": 347,
    "start_time": "2021-08-04T12:40:12.748Z"
   },
   {
    "duration": 923,
    "start_time": "2021-08-04T12:41:40.241Z"
   },
   {
    "duration": 40,
    "start_time": "2021-08-04T12:41:41.167Z"
   },
   {
    "duration": 14,
    "start_time": "2021-08-04T12:41:41.213Z"
   },
   {
    "duration": 41,
    "start_time": "2021-08-04T12:41:41.256Z"
   },
   {
    "duration": 7,
    "start_time": "2021-08-04T12:41:41.299Z"
   },
   {
    "duration": 16,
    "start_time": "2021-08-04T12:41:41.309Z"
   },
   {
    "duration": 57,
    "start_time": "2021-08-04T12:41:41.330Z"
   },
   {
    "duration": 7,
    "start_time": "2021-08-04T12:41:41.390Z"
   },
   {
    "duration": 70,
    "start_time": "2021-08-04T12:41:41.400Z"
   },
   {
    "duration": 34,
    "start_time": "2021-08-04T12:41:41.473Z"
   },
   {
    "duration": 14,
    "start_time": "2021-08-04T12:41:41.509Z"
   },
   {
    "duration": 47,
    "start_time": "2021-08-04T12:41:41.525Z"
   },
   {
    "duration": 19,
    "start_time": "2021-08-04T12:41:41.575Z"
   },
   {
    "duration": 458,
    "start_time": "2021-08-04T12:41:41.596Z"
   },
   {
    "duration": 335,
    "start_time": "2021-08-04T12:41:42.056Z"
   },
   {
    "duration": 846,
    "start_time": "2021-08-04T12:42:12.952Z"
   },
   {
    "duration": 41,
    "start_time": "2021-08-04T12:42:13.801Z"
   },
   {
    "duration": 19,
    "start_time": "2021-08-04T12:42:13.846Z"
   },
   {
    "duration": 44,
    "start_time": "2021-08-04T12:42:13.867Z"
   },
   {
    "duration": 6,
    "start_time": "2021-08-04T12:42:13.913Z"
   },
   {
    "duration": 37,
    "start_time": "2021-08-04T12:42:13.921Z"
   },
   {
    "duration": 37,
    "start_time": "2021-08-04T12:42:13.960Z"
   },
   {
    "duration": 6,
    "start_time": "2021-08-04T12:42:14.001Z"
   },
   {
    "duration": 61,
    "start_time": "2021-08-04T12:42:14.010Z"
   },
   {
    "duration": 33,
    "start_time": "2021-08-04T12:42:14.074Z"
   },
   {
    "duration": 13,
    "start_time": "2021-08-04T12:42:14.110Z"
   },
   {
    "duration": 46,
    "start_time": "2021-08-04T12:42:14.125Z"
   },
   {
    "duration": 20,
    "start_time": "2021-08-04T12:42:14.174Z"
   },
   {
    "duration": 486,
    "start_time": "2021-08-04T12:42:14.196Z"
   },
   {
    "duration": 833,
    "start_time": "2021-08-04T12:42:14.684Z"
   },
   {
    "duration": 956,
    "start_time": "2021-08-04T12:44:58.335Z"
   },
   {
    "duration": 39,
    "start_time": "2021-08-04T12:44:59.293Z"
   },
   {
    "duration": 28,
    "start_time": "2021-08-04T12:44:59.335Z"
   },
   {
    "duration": 42,
    "start_time": "2021-08-04T12:44:59.365Z"
   },
   {
    "duration": 7,
    "start_time": "2021-08-04T12:44:59.410Z"
   },
   {
    "duration": 40,
    "start_time": "2021-08-04T12:44:59.420Z"
   },
   {
    "duration": 33,
    "start_time": "2021-08-04T12:44:59.463Z"
   },
   {
    "duration": 7,
    "start_time": "2021-08-04T12:44:59.500Z"
   },
   {
    "duration": 61,
    "start_time": "2021-08-04T12:44:59.509Z"
   },
   {
    "duration": 35,
    "start_time": "2021-08-04T12:44:59.573Z"
   },
   {
    "duration": 44,
    "start_time": "2021-08-04T12:44:59.612Z"
   },
   {
    "duration": 22,
    "start_time": "2021-08-04T12:44:59.658Z"
   },
   {
    "duration": 20,
    "start_time": "2021-08-04T12:44:59.683Z"
   },
   {
    "duration": 515,
    "start_time": "2021-08-04T12:44:59.706Z"
   },
   {
    "duration": 804,
    "start_time": "2021-08-04T12:45:00.225Z"
   },
   {
    "duration": 792,
    "start_time": "2021-08-04T12:45:20.771Z"
   },
   {
    "duration": 40,
    "start_time": "2021-08-04T12:45:21.567Z"
   },
   {
    "duration": 26,
    "start_time": "2021-08-04T12:45:21.610Z"
   },
   {
    "duration": 52,
    "start_time": "2021-08-04T12:45:21.639Z"
   },
   {
    "duration": 7,
    "start_time": "2021-08-04T12:45:21.693Z"
   },
   {
    "duration": 20,
    "start_time": "2021-08-04T12:45:21.702Z"
   },
   {
    "duration": 55,
    "start_time": "2021-08-04T12:45:21.724Z"
   },
   {
    "duration": 6,
    "start_time": "2021-08-04T12:45:21.783Z"
   },
   {
    "duration": 39,
    "start_time": "2021-08-04T12:45:21.791Z"
   },
   {
    "duration": 51,
    "start_time": "2021-08-04T12:45:21.833Z"
   },
   {
    "duration": 13,
    "start_time": "2021-08-04T12:45:21.886Z"
   },
   {
    "duration": 23,
    "start_time": "2021-08-04T12:45:21.902Z"
   },
   {
    "duration": 44,
    "start_time": "2021-08-04T12:45:21.928Z"
   },
   {
    "duration": 467,
    "start_time": "2021-08-04T12:45:21.974Z"
   },
   {
    "duration": 723,
    "start_time": "2021-08-04T12:45:22.443Z"
   },
   {
    "duration": 778,
    "start_time": "2021-08-04T12:45:38.376Z"
   },
   {
    "duration": 42,
    "start_time": "2021-08-04T12:45:39.157Z"
   },
   {
    "duration": 19,
    "start_time": "2021-08-04T12:45:39.203Z"
   },
   {
    "duration": 70,
    "start_time": "2021-08-04T12:45:39.225Z"
   },
   {
    "duration": 8,
    "start_time": "2021-08-04T12:45:39.298Z"
   },
   {
    "duration": 47,
    "start_time": "2021-08-04T12:45:39.309Z"
   },
   {
    "duration": 34,
    "start_time": "2021-08-04T12:45:39.358Z"
   },
   {
    "duration": 7,
    "start_time": "2021-08-04T12:45:39.397Z"
   },
   {
    "duration": 66,
    "start_time": "2021-08-04T12:45:39.406Z"
   },
   {
    "duration": 34,
    "start_time": "2021-08-04T12:45:39.475Z"
   },
   {
    "duration": 48,
    "start_time": "2021-08-04T12:45:39.512Z"
   },
   {
    "duration": 24,
    "start_time": "2021-08-04T12:45:39.563Z"
   },
   {
    "duration": 22,
    "start_time": "2021-08-04T12:45:39.590Z"
   },
   {
    "duration": 511,
    "start_time": "2021-08-04T12:45:39.614Z"
   },
   {
    "duration": 163,
    "start_time": "2021-08-04T12:45:40.128Z"
   },
   {
    "duration": 1005,
    "start_time": "2021-08-04T12:45:50.179Z"
   },
   {
    "duration": 40,
    "start_time": "2021-08-04T12:45:51.191Z"
   },
   {
    "duration": 31,
    "start_time": "2021-08-04T12:45:51.233Z"
   },
   {
    "duration": 46,
    "start_time": "2021-08-04T12:45:51.266Z"
   },
   {
    "duration": 6,
    "start_time": "2021-08-04T12:45:51.315Z"
   },
   {
    "duration": 46,
    "start_time": "2021-08-04T12:45:51.323Z"
   },
   {
    "duration": 33,
    "start_time": "2021-08-04T12:45:51.371Z"
   },
   {
    "duration": 6,
    "start_time": "2021-08-04T12:45:51.408Z"
   },
   {
    "duration": 57,
    "start_time": "2021-08-04T12:45:51.417Z"
   },
   {
    "duration": 32,
    "start_time": "2021-08-04T12:45:51.477Z"
   },
   {
    "duration": 13,
    "start_time": "2021-08-04T12:45:51.511Z"
   },
   {
    "duration": 46,
    "start_time": "2021-08-04T12:45:51.527Z"
   },
   {
    "duration": 19,
    "start_time": "2021-08-04T12:45:51.575Z"
   },
   {
    "duration": 461,
    "start_time": "2021-08-04T12:45:51.596Z"
   },
   {
    "duration": 734,
    "start_time": "2021-08-04T12:45:52.059Z"
   },
   {
    "duration": 827,
    "start_time": "2021-08-04T12:46:54.695Z"
   },
   {
    "duration": 38,
    "start_time": "2021-08-04T12:46:55.525Z"
   },
   {
    "duration": 19,
    "start_time": "2021-08-04T12:46:55.566Z"
   },
   {
    "duration": 45,
    "start_time": "2021-08-04T12:46:55.588Z"
   },
   {
    "duration": 23,
    "start_time": "2021-08-04T12:46:55.636Z"
   },
   {
    "duration": 18,
    "start_time": "2021-08-04T12:46:55.661Z"
   },
   {
    "duration": 34,
    "start_time": "2021-08-04T12:46:55.681Z"
   },
   {
    "duration": 6,
    "start_time": "2021-08-04T12:46:55.719Z"
   },
   {
    "duration": 32,
    "start_time": "2021-08-04T12:46:55.756Z"
   },
   {
    "duration": 35,
    "start_time": "2021-08-04T12:46:55.790Z"
   },
   {
    "duration": 38,
    "start_time": "2021-08-04T12:46:55.828Z"
   },
   {
    "duration": 23,
    "start_time": "2021-08-04T12:46:55.869Z"
   },
   {
    "duration": 20,
    "start_time": "2021-08-04T12:46:55.895Z"
   },
   {
    "duration": 443,
    "start_time": "2021-08-04T12:46:55.918Z"
   },
   {
    "duration": 729,
    "start_time": "2021-08-04T12:46:56.363Z"
   },
   {
    "duration": 829,
    "start_time": "2021-08-04T12:48:59.713Z"
   },
   {
    "duration": 43,
    "start_time": "2021-08-04T12:49:00.545Z"
   },
   {
    "duration": 28,
    "start_time": "2021-08-04T12:49:00.594Z"
   },
   {
    "duration": 64,
    "start_time": "2021-08-04T12:49:00.624Z"
   },
   {
    "duration": 7,
    "start_time": "2021-08-04T12:49:00.690Z"
   },
   {
    "duration": 26,
    "start_time": "2021-08-04T12:49:00.700Z"
   },
   {
    "duration": 47,
    "start_time": "2021-08-04T12:49:00.731Z"
   },
   {
    "duration": 8,
    "start_time": "2021-08-04T12:49:00.782Z"
   },
   {
    "duration": 54,
    "start_time": "2021-08-04T12:49:00.793Z"
   },
   {
    "duration": 37,
    "start_time": "2021-08-04T12:49:00.856Z"
   },
   {
    "duration": 17,
    "start_time": "2021-08-04T12:49:00.897Z"
   },
   {
    "duration": 56,
    "start_time": "2021-08-04T12:49:00.917Z"
   },
   {
    "duration": 31,
    "start_time": "2021-08-04T12:49:00.975Z"
   },
   {
    "duration": 486,
    "start_time": "2021-08-04T12:49:01.009Z"
   },
   {
    "duration": 801,
    "start_time": "2021-08-04T12:49:01.498Z"
   },
   {
    "duration": 769,
    "start_time": "2021-08-04T12:50:25.980Z"
   },
   {
    "duration": 38,
    "start_time": "2021-08-04T12:50:26.752Z"
   },
   {
    "duration": 14,
    "start_time": "2021-08-04T12:50:26.793Z"
   },
   {
    "duration": 73,
    "start_time": "2021-08-04T12:50:26.810Z"
   },
   {
    "duration": 6,
    "start_time": "2021-08-04T12:50:26.886Z"
   },
   {
    "duration": 15,
    "start_time": "2021-08-04T12:50:26.895Z"
   },
   {
    "duration": 58,
    "start_time": "2021-08-04T12:50:26.913Z"
   },
   {
    "duration": 7,
    "start_time": "2021-08-04T12:50:26.974Z"
   },
   {
    "duration": 37,
    "start_time": "2021-08-04T12:50:26.984Z"
   },
   {
    "duration": 58,
    "start_time": "2021-08-04T12:50:27.024Z"
   },
   {
    "duration": 14,
    "start_time": "2021-08-04T12:50:27.085Z"
   },
   {
    "duration": 22,
    "start_time": "2021-08-04T12:50:27.102Z"
   },
   {
    "duration": 21,
    "start_time": "2021-08-04T12:50:27.157Z"
   },
   {
    "duration": 484,
    "start_time": "2021-08-04T12:50:27.180Z"
   },
   {
    "duration": 757,
    "start_time": "2021-08-04T12:50:27.667Z"
   },
   {
    "duration": 801,
    "start_time": "2021-08-04T12:56:26.657Z"
   },
   {
    "duration": 39,
    "start_time": "2021-08-04T12:56:27.461Z"
   },
   {
    "duration": 13,
    "start_time": "2021-08-04T12:56:27.503Z"
   },
   {
    "duration": 65,
    "start_time": "2021-08-04T12:56:27.519Z"
   },
   {
    "duration": 6,
    "start_time": "2021-08-04T12:56:27.587Z"
   },
   {
    "duration": 27,
    "start_time": "2021-08-04T12:56:27.595Z"
   },
   {
    "duration": 43,
    "start_time": "2021-08-04T12:56:27.624Z"
   },
   {
    "duration": 7,
    "start_time": "2021-08-04T12:56:27.670Z"
   },
   {
    "duration": 36,
    "start_time": "2021-08-04T12:56:27.680Z"
   },
   {
    "duration": 55,
    "start_time": "2021-08-04T12:56:27.719Z"
   },
   {
    "duration": 13,
    "start_time": "2021-08-04T12:56:27.777Z"
   },
   {
    "duration": 32,
    "start_time": "2021-08-04T12:56:27.792Z"
   },
   {
    "duration": 44,
    "start_time": "2021-08-04T12:56:27.826Z"
   },
   {
    "duration": 449,
    "start_time": "2021-08-04T12:56:27.872Z"
   },
   {
    "duration": 725,
    "start_time": "2021-08-04T12:56:28.324Z"
   },
   {
    "duration": 830,
    "start_time": "2021-08-04T12:58:21.146Z"
   },
   {
    "duration": 38,
    "start_time": "2021-08-04T12:58:21.979Z"
   },
   {
    "duration": 14,
    "start_time": "2021-08-04T12:58:22.020Z"
   },
   {
    "duration": 68,
    "start_time": "2021-08-04T12:58:22.036Z"
   },
   {
    "duration": 8,
    "start_time": "2021-08-04T12:58:22.107Z"
   },
   {
    "duration": 42,
    "start_time": "2021-08-04T12:58:22.118Z"
   },
   {
    "duration": 48,
    "start_time": "2021-08-04T12:58:22.163Z"
   },
   {
    "duration": 8,
    "start_time": "2021-08-04T12:58:22.216Z"
   },
   {
    "duration": 68,
    "start_time": "2021-08-04T12:58:22.227Z"
   },
   {
    "duration": 36,
    "start_time": "2021-08-04T12:58:22.298Z"
   },
   {
    "duration": 13,
    "start_time": "2021-08-04T12:58:22.357Z"
   },
   {
    "duration": 22,
    "start_time": "2021-08-04T12:58:22.373Z"
   },
   {
    "duration": 22,
    "start_time": "2021-08-04T12:58:22.397Z"
   },
   {
    "duration": 393,
    "start_time": "2021-08-04T12:58:22.457Z"
   },
   {
    "duration": 719,
    "start_time": "2021-08-04T12:58:22.852Z"
   },
   {
    "duration": 836,
    "start_time": "2021-08-04T14:49:48.887Z"
   },
   {
    "duration": 50,
    "start_time": "2021-08-04T14:49:49.725Z"
   },
   {
    "duration": 21,
    "start_time": "2021-08-04T14:49:49.779Z"
   },
   {
    "duration": 67,
    "start_time": "2021-08-04T14:49:49.803Z"
   },
   {
    "duration": 9,
    "start_time": "2021-08-04T14:49:49.873Z"
   },
   {
    "duration": 12,
    "start_time": "2021-08-04T14:49:49.885Z"
   },
   {
    "duration": 31,
    "start_time": "2021-08-04T14:49:49.900Z"
   },
   {
    "duration": 11,
    "start_time": "2021-08-04T14:49:49.963Z"
   },
   {
    "duration": 40,
    "start_time": "2021-08-04T14:49:49.977Z"
   },
   {
    "duration": 65,
    "start_time": "2021-08-04T14:49:50.019Z"
   },
   {
    "duration": 14,
    "start_time": "2021-08-04T14:49:50.087Z"
   },
   {
    "duration": 23,
    "start_time": "2021-08-04T14:49:50.104Z"
   },
   {
    "duration": 57,
    "start_time": "2021-08-04T14:49:50.130Z"
   },
   {
    "duration": 534,
    "start_time": "2021-08-04T14:49:50.189Z"
   },
   {
    "duration": 569,
    "start_time": "2021-08-04T14:49:50.725Z"
   },
   {
    "duration": 861,
    "start_time": "2021-08-04T14:50:52.545Z"
   },
   {
    "duration": 40,
    "start_time": "2021-08-04T14:50:53.409Z"
   },
   {
    "duration": 23,
    "start_time": "2021-08-04T14:50:53.455Z"
   },
   {
    "duration": 45,
    "start_time": "2021-08-04T14:50:53.482Z"
   },
   {
    "duration": 35,
    "start_time": "2021-08-04T14:50:53.530Z"
   },
   {
    "duration": 19,
    "start_time": "2021-08-04T14:50:53.568Z"
   },
   {
    "duration": 29,
    "start_time": "2021-08-04T14:50:53.590Z"
   },
   {
    "duration": 7,
    "start_time": "2021-08-04T14:50:53.622Z"
   },
   {
    "duration": 41,
    "start_time": "2021-08-04T14:50:53.663Z"
   },
   {
    "duration": 58,
    "start_time": "2021-08-04T14:50:53.707Z"
   },
   {
    "duration": 19,
    "start_time": "2021-08-04T14:50:53.768Z"
   },
   {
    "duration": 27,
    "start_time": "2021-08-04T14:50:53.789Z"
   },
   {
    "duration": 48,
    "start_time": "2021-08-04T14:50:53.818Z"
   },
   {
    "duration": 615,
    "start_time": "2021-08-04T14:50:53.869Z"
   },
   {
    "duration": 605,
    "start_time": "2021-08-04T14:50:54.488Z"
   },
   {
    "duration": 6620,
    "start_time": "2021-08-04T14:51:51.766Z"
   },
   {
    "duration": 800,
    "start_time": "2021-08-04T14:52:06.298Z"
   },
   {
    "duration": 39,
    "start_time": "2021-08-04T14:52:07.101Z"
   },
   {
    "duration": 41,
    "start_time": "2021-08-04T14:52:07.143Z"
   },
   {
    "duration": 42,
    "start_time": "2021-08-04T14:52:07.192Z"
   },
   {
    "duration": 32,
    "start_time": "2021-08-04T14:52:07.237Z"
   },
   {
    "duration": 15,
    "start_time": "2021-08-04T14:52:07.272Z"
   },
   {
    "duration": 34,
    "start_time": "2021-08-04T14:52:07.289Z"
   },
   {
    "duration": 9,
    "start_time": "2021-08-04T14:52:07.326Z"
   },
   {
    "duration": 22,
    "start_time": "2021-08-04T14:52:07.355Z"
   },
   {
    "duration": 33,
    "start_time": "2021-08-04T14:52:07.381Z"
   },
   {
    "duration": 74,
    "start_time": "2021-08-04T14:52:07.417Z"
   },
   {
    "duration": 14,
    "start_time": "2021-08-04T14:52:07.493Z"
   },
   {
    "duration": 22,
    "start_time": "2021-08-04T14:52:07.509Z"
   },
   {
    "duration": 30,
    "start_time": "2021-08-04T14:52:07.563Z"
   },
   {
    "duration": 565,
    "start_time": "2021-08-04T14:52:07.595Z"
   },
   {
    "duration": 905,
    "start_time": "2021-08-04T14:52:08.164Z"
   },
   {
    "duration": 29,
    "start_time": "2021-08-04T14:58:43.067Z"
   },
   {
    "duration": 26,
    "start_time": "2021-08-04T14:59:02.511Z"
   },
   {
    "duration": 510,
    "start_time": "2021-08-04T15:00:34.273Z"
   },
   {
    "duration": 855,
    "start_time": "2021-08-04T15:08:29.856Z"
   },
   {
    "duration": 46,
    "start_time": "2021-08-04T15:08:30.713Z"
   },
   {
    "duration": 31,
    "start_time": "2021-08-04T15:08:30.764Z"
   },
   {
    "duration": 93,
    "start_time": "2021-08-04T15:08:30.798Z"
   },
   {
    "duration": 6,
    "start_time": "2021-08-04T15:08:30.894Z"
   },
   {
    "duration": 25,
    "start_time": "2021-08-04T15:08:30.902Z"
   },
   {
    "duration": 58,
    "start_time": "2021-08-04T15:08:30.929Z"
   },
   {
    "duration": 6,
    "start_time": "2021-08-04T15:08:30.991Z"
   },
   {
    "duration": 41,
    "start_time": "2021-08-04T15:08:30.999Z"
   },
   {
    "duration": 46,
    "start_time": "2021-08-04T15:08:31.057Z"
   },
   {
    "duration": 16,
    "start_time": "2021-08-04T15:08:31.106Z"
   },
   {
    "duration": 61,
    "start_time": "2021-08-04T15:08:31.125Z"
   },
   {
    "duration": 483,
    "start_time": "2021-08-04T15:08:31.188Z"
   },
   {
    "duration": -113,
    "start_time": "2021-08-04T15:08:31.789Z"
   },
   {
    "duration": -114,
    "start_time": "2021-08-04T15:08:31.793Z"
   },
   {
    "duration": -120,
    "start_time": "2021-08-04T15:08:31.801Z"
   },
   {
    "duration": 817,
    "start_time": "2021-08-04T15:08:57.292Z"
   },
   {
    "duration": 41,
    "start_time": "2021-08-04T15:08:58.112Z"
   },
   {
    "duration": 33,
    "start_time": "2021-08-04T15:08:58.162Z"
   },
   {
    "duration": 83,
    "start_time": "2021-08-04T15:08:58.199Z"
   },
   {
    "duration": 7,
    "start_time": "2021-08-04T15:08:58.285Z"
   },
   {
    "duration": 36,
    "start_time": "2021-08-04T15:08:58.295Z"
   },
   {
    "duration": 65,
    "start_time": "2021-08-04T15:08:58.333Z"
   },
   {
    "duration": 7,
    "start_time": "2021-08-04T15:08:58.400Z"
   },
   {
    "duration": 76,
    "start_time": "2021-08-04T15:08:58.410Z"
   },
   {
    "duration": 35,
    "start_time": "2021-08-04T15:08:58.488Z"
   },
   {
    "duration": 31,
    "start_time": "2021-08-04T15:08:58.526Z"
   },
   {
    "duration": 28,
    "start_time": "2021-08-04T15:08:58.561Z"
   },
   {
    "duration": 399,
    "start_time": "2021-08-04T15:08:58.592Z"
   },
   {
    "duration": -162,
    "start_time": "2021-08-04T15:08:59.156Z"
   },
   {
    "duration": -165,
    "start_time": "2021-08-04T15:08:59.161Z"
   },
   {
    "duration": -231,
    "start_time": "2021-08-04T15:08:59.228Z"
   },
   {
    "duration": -235,
    "start_time": "2021-08-04T15:08:59.233Z"
   },
   {
    "duration": 857,
    "start_time": "2021-08-04T15:09:13.452Z"
   },
   {
    "duration": 46,
    "start_time": "2021-08-04T15:09:14.311Z"
   },
   {
    "duration": 27,
    "start_time": "2021-08-04T15:09:14.360Z"
   },
   {
    "duration": 45,
    "start_time": "2021-08-04T15:09:14.391Z"
   },
   {
    "duration": 12,
    "start_time": "2021-08-04T15:09:14.462Z"
   },
   {
    "duration": 21,
    "start_time": "2021-08-04T15:09:14.477Z"
   },
   {
    "duration": 34,
    "start_time": "2021-08-04T15:09:14.500Z"
   },
   {
    "duration": 26,
    "start_time": "2021-08-04T15:09:14.538Z"
   },
   {
    "duration": 62,
    "start_time": "2021-08-04T15:09:14.567Z"
   },
   {
    "duration": 52,
    "start_time": "2021-08-04T15:09:14.631Z"
   },
   {
    "duration": 14,
    "start_time": "2021-08-04T15:09:14.685Z"
   },
   {
    "duration": 22,
    "start_time": "2021-08-04T15:09:14.702Z"
   },
   {
    "duration": 59,
    "start_time": "2021-08-04T15:09:14.726Z"
   },
   {
    "duration": 43,
    "start_time": "2021-08-04T15:09:14.788Z"
   },
   {
    "duration": 19,
    "start_time": "2021-08-04T15:09:14.833Z"
   },
   {
    "duration": 543,
    "start_time": "2021-08-04T15:09:14.861Z"
   },
   {
    "duration": 425,
    "start_time": "2021-08-04T15:09:15.406Z"
   },
   {
    "duration": 810,
    "start_time": "2021-08-04T15:10:01.515Z"
   },
   {
    "duration": 51,
    "start_time": "2021-08-04T15:10:02.328Z"
   },
   {
    "duration": 19,
    "start_time": "2021-08-04T15:10:02.383Z"
   },
   {
    "duration": 61,
    "start_time": "2021-08-04T15:10:02.405Z"
   },
   {
    "duration": 14,
    "start_time": "2021-08-04T15:10:02.469Z"
   },
   {
    "duration": 14,
    "start_time": "2021-08-04T15:10:02.486Z"
   },
   {
    "duration": 58,
    "start_time": "2021-08-04T15:10:02.502Z"
   },
   {
    "duration": 19,
    "start_time": "2021-08-04T15:10:02.563Z"
   },
   {
    "duration": 34,
    "start_time": "2021-08-04T15:10:02.587Z"
   },
   {
    "duration": 66,
    "start_time": "2021-08-04T15:10:02.624Z"
   },
   {
    "duration": 13,
    "start_time": "2021-08-04T15:10:02.693Z"
   },
   {
    "duration": 49,
    "start_time": "2021-08-04T15:10:02.709Z"
   },
   {
    "duration": 27,
    "start_time": "2021-08-04T15:10:02.770Z"
   },
   {
    "duration": 20,
    "start_time": "2021-08-04T15:10:02.799Z"
   },
   {
    "duration": 560,
    "start_time": "2021-08-04T15:10:02.821Z"
   },
   {
    "duration": 747,
    "start_time": "2021-08-04T15:10:03.384Z"
   },
   {
    "duration": 855,
    "start_time": "2021-08-04T15:10:23.615Z"
   },
   {
    "duration": 45,
    "start_time": "2021-08-04T15:10:24.473Z"
   },
   {
    "duration": 14,
    "start_time": "2021-08-04T15:10:24.521Z"
   },
   {
    "duration": 53,
    "start_time": "2021-08-04T15:10:24.559Z"
   },
   {
    "duration": 7,
    "start_time": "2021-08-04T15:10:24.614Z"
   },
   {
    "duration": 36,
    "start_time": "2021-08-04T15:10:24.624Z"
   },
   {
    "duration": 36,
    "start_time": "2021-08-04T15:10:24.664Z"
   },
   {
    "duration": 6,
    "start_time": "2021-08-04T15:10:24.703Z"
   },
   {
    "duration": 68,
    "start_time": "2021-08-04T15:10:24.712Z"
   },
   {
    "duration": 34,
    "start_time": "2021-08-04T15:10:24.783Z"
   },
   {
    "duration": 16,
    "start_time": "2021-08-04T15:10:24.819Z"
   },
   {
    "duration": 33,
    "start_time": "2021-08-04T15:10:24.863Z"
   },
   {
    "duration": 30,
    "start_time": "2021-08-04T15:10:24.898Z"
   },
   {
    "duration": 50,
    "start_time": "2021-08-04T15:10:24.931Z"
   },
   {
    "duration": 552,
    "start_time": "2021-08-04T15:10:24.984Z"
   },
   {
    "duration": 750,
    "start_time": "2021-08-04T15:10:25.539Z"
   },
   {
    "duration": 855,
    "start_time": "2021-08-04T15:10:38.756Z"
   },
   {
    "duration": 49,
    "start_time": "2021-08-04T15:10:39.615Z"
   },
   {
    "duration": 28,
    "start_time": "2021-08-04T15:10:39.667Z"
   },
   {
    "duration": 64,
    "start_time": "2021-08-04T15:10:39.698Z"
   },
   {
    "duration": 8,
    "start_time": "2021-08-04T15:10:39.766Z"
   },
   {
    "duration": 18,
    "start_time": "2021-08-04T15:10:39.778Z"
   },
   {
    "duration": 59,
    "start_time": "2021-08-04T15:10:39.798Z"
   },
   {
    "duration": 12,
    "start_time": "2021-08-04T15:10:39.860Z"
   },
   {
    "duration": 37,
    "start_time": "2021-08-04T15:10:39.881Z"
   },
   {
    "duration": 69,
    "start_time": "2021-08-04T15:10:39.921Z"
   },
   {
    "duration": 15,
    "start_time": "2021-08-04T15:10:39.992Z"
   },
   {
    "duration": 55,
    "start_time": "2021-08-04T15:10:40.010Z"
   },
   {
    "duration": 29,
    "start_time": "2021-08-04T15:10:40.068Z"
   },
   {
    "duration": 25,
    "start_time": "2021-08-04T15:10:40.099Z"
   },
   {
    "duration": 575,
    "start_time": "2021-08-04T15:10:40.127Z"
   },
   {
    "duration": 461,
    "start_time": "2021-08-04T15:10:40.704Z"
   },
   {
    "duration": 400,
    "start_time": "2021-08-04T15:11:01.276Z"
   },
   {
    "duration": 430,
    "start_time": "2021-08-04T15:11:34.174Z"
   },
   {
    "duration": 907,
    "start_time": "2021-08-04T15:23:29.336Z"
   },
   {
    "duration": 40,
    "start_time": "2021-08-04T15:23:30.247Z"
   },
   {
    "duration": 31,
    "start_time": "2021-08-04T15:23:30.294Z"
   },
   {
    "duration": 60,
    "start_time": "2021-08-04T15:23:30.327Z"
   },
   {
    "duration": 7,
    "start_time": "2021-08-04T15:23:30.389Z"
   },
   {
    "duration": 30,
    "start_time": "2021-08-04T15:23:30.399Z"
   },
   {
    "duration": 50,
    "start_time": "2021-08-04T15:23:30.432Z"
   },
   {
    "duration": 9,
    "start_time": "2021-08-04T15:23:30.488Z"
   },
   {
    "duration": 55,
    "start_time": "2021-08-04T15:23:30.500Z"
   },
   {
    "duration": 34,
    "start_time": "2021-08-04T15:23:30.558Z"
   },
   {
    "duration": 14,
    "start_time": "2021-08-04T15:23:30.595Z"
   },
   {
    "duration": 52,
    "start_time": "2021-08-04T15:23:30.611Z"
   },
   {
    "duration": 23,
    "start_time": "2021-08-04T15:23:30.666Z"
   },
   {
    "duration": 25,
    "start_time": "2021-08-04T15:23:30.691Z"
   },
   {
    "duration": 500,
    "start_time": "2021-08-04T15:23:30.719Z"
   },
   {
    "duration": 422,
    "start_time": "2021-08-04T15:23:31.221Z"
   },
   {
    "duration": -63,
    "start_time": "2021-08-04T15:23:31.709Z"
   },
   {
    "duration": 817,
    "start_time": "2021-08-04T15:23:53.674Z"
   },
   {
    "duration": 65,
    "start_time": "2021-08-04T15:23:54.494Z"
   },
   {
    "duration": 20,
    "start_time": "2021-08-04T15:23:54.563Z"
   },
   {
    "duration": 80,
    "start_time": "2021-08-04T15:23:54.587Z"
   },
   {
    "duration": 7,
    "start_time": "2021-08-04T15:23:54.669Z"
   },
   {
    "duration": 12,
    "start_time": "2021-08-04T15:23:54.678Z"
   },
   {
    "duration": 35,
    "start_time": "2021-08-04T15:23:54.692Z"
   },
   {
    "duration": 7,
    "start_time": "2021-08-04T15:23:54.756Z"
   },
   {
    "duration": 33,
    "start_time": "2021-08-04T15:23:54.767Z"
   },
   {
    "duration": 73,
    "start_time": "2021-08-04T15:23:54.803Z"
   },
   {
    "duration": 16,
    "start_time": "2021-08-04T15:23:54.879Z"
   },
   {
    "duration": 58,
    "start_time": "2021-08-04T15:23:54.898Z"
   },
   {
    "duration": 24,
    "start_time": "2021-08-04T15:23:54.958Z"
   },
   {
    "duration": 22,
    "start_time": "2021-08-04T15:23:54.985Z"
   },
   {
    "duration": 485,
    "start_time": "2021-08-04T15:23:55.010Z"
   },
   {
    "duration": 353,
    "start_time": "2021-08-04T15:23:55.497Z"
   },
   {
    "duration": 4,
    "start_time": "2021-08-04T15:23:55.855Z"
   },
   {
    "duration": 802,
    "start_time": "2021-08-04T15:24:33.652Z"
   },
   {
    "duration": 44,
    "start_time": "2021-08-04T15:24:34.457Z"
   },
   {
    "duration": 23,
    "start_time": "2021-08-04T15:24:34.504Z"
   },
   {
    "duration": 65,
    "start_time": "2021-08-04T15:24:34.530Z"
   },
   {
    "duration": 7,
    "start_time": "2021-08-04T15:24:34.597Z"
   },
   {
    "duration": 10,
    "start_time": "2021-08-04T15:24:34.606Z"
   },
   {
    "duration": 61,
    "start_time": "2021-08-04T15:24:34.619Z"
   },
   {
    "duration": 7,
    "start_time": "2021-08-04T15:24:34.684Z"
   },
   {
    "duration": 32,
    "start_time": "2021-08-04T15:24:34.694Z"
   },
   {
    "duration": 62,
    "start_time": "2021-08-04T15:24:34.729Z"
   },
   {
    "duration": 14,
    "start_time": "2021-08-04T15:24:34.794Z"
   },
   {
    "duration": 54,
    "start_time": "2021-08-04T15:24:34.811Z"
   },
   {
    "duration": 24,
    "start_time": "2021-08-04T15:24:34.867Z"
   },
   {
    "duration": 21,
    "start_time": "2021-08-04T15:24:34.894Z"
   },
   {
    "duration": 512,
    "start_time": "2021-08-04T15:24:34.917Z"
   },
   {
    "duration": 356,
    "start_time": "2021-08-04T15:24:35.431Z"
   },
   {
    "duration": 384,
    "start_time": "2021-08-04T15:24:35.790Z"
   },
   {
    "duration": 808,
    "start_time": "2021-08-04T15:26:27.849Z"
   },
   {
    "duration": 42,
    "start_time": "2021-08-04T15:26:28.659Z"
   },
   {
    "duration": 18,
    "start_time": "2021-08-04T15:26:28.705Z"
   },
   {
    "duration": 68,
    "start_time": "2021-08-04T15:26:28.726Z"
   },
   {
    "duration": 6,
    "start_time": "2021-08-04T15:26:28.797Z"
   },
   {
    "duration": 15,
    "start_time": "2021-08-04T15:26:28.805Z"
   },
   {
    "duration": 57,
    "start_time": "2021-08-04T15:26:28.822Z"
   },
   {
    "duration": 7,
    "start_time": "2021-08-04T15:26:28.881Z"
   },
   {
    "duration": 31,
    "start_time": "2021-08-04T15:26:28.891Z"
   },
   {
    "duration": 57,
    "start_time": "2021-08-04T15:26:28.925Z"
   },
   {
    "duration": 16,
    "start_time": "2021-08-04T15:26:28.985Z"
   },
   {
    "duration": 54,
    "start_time": "2021-08-04T15:26:29.003Z"
   },
   {
    "duration": 24,
    "start_time": "2021-08-04T15:26:29.059Z"
   },
   {
    "duration": 20,
    "start_time": "2021-08-04T15:26:29.085Z"
   },
   {
    "duration": 494,
    "start_time": "2021-08-04T15:26:29.108Z"
   },
   {
    "duration": 358,
    "start_time": "2021-08-04T15:26:29.604Z"
   },
   {
    "duration": 370,
    "start_time": "2021-08-04T15:26:29.964Z"
   },
   {
    "duration": 6,
    "start_time": "2021-08-04T15:26:30.336Z"
   },
   {
    "duration": 776,
    "start_time": "2021-08-04T15:26:49.610Z"
   },
   {
    "duration": 41,
    "start_time": "2021-08-04T15:26:50.388Z"
   },
   {
    "duration": 31,
    "start_time": "2021-08-04T15:26:50.433Z"
   },
   {
    "duration": 57,
    "start_time": "2021-08-04T15:26:50.467Z"
   },
   {
    "duration": 7,
    "start_time": "2021-08-04T15:26:50.526Z"
   },
   {
    "duration": 33,
    "start_time": "2021-08-04T15:26:50.535Z"
   },
   {
    "duration": 60,
    "start_time": "2021-08-04T15:26:50.570Z"
   },
   {
    "duration": 6,
    "start_time": "2021-08-04T15:26:50.633Z"
   },
   {
    "duration": 44,
    "start_time": "2021-08-04T15:26:50.643Z"
   },
   {
    "duration": 34,
    "start_time": "2021-08-04T15:26:50.689Z"
   },
   {
    "duration": 30,
    "start_time": "2021-08-04T15:26:50.726Z"
   },
   {
    "duration": 21,
    "start_time": "2021-08-04T15:26:50.758Z"
   },
   {
    "duration": 24,
    "start_time": "2021-08-04T15:26:50.782Z"
   },
   {
    "duration": 48,
    "start_time": "2021-08-04T15:26:50.809Z"
   },
   {
    "duration": 495,
    "start_time": "2021-08-04T15:26:50.860Z"
   },
   {
    "duration": 372,
    "start_time": "2021-08-04T15:26:51.358Z"
   },
   {
    "duration": 398,
    "start_time": "2021-08-04T15:26:51.733Z"
   },
   {
    "duration": 5,
    "start_time": "2021-08-04T15:26:52.133Z"
   },
   {
    "duration": 6,
    "start_time": "2021-08-04T15:27:10.690Z"
   },
   {
    "duration": 790,
    "start_time": "2021-08-04T15:29:37.144Z"
   },
   {
    "duration": 43,
    "start_time": "2021-08-04T15:29:37.937Z"
   },
   {
    "duration": 15,
    "start_time": "2021-08-04T15:29:37.984Z"
   },
   {
    "duration": 72,
    "start_time": "2021-08-04T15:29:38.002Z"
   },
   {
    "duration": 7,
    "start_time": "2021-08-04T15:29:38.076Z"
   },
   {
    "duration": 24,
    "start_time": "2021-08-04T15:29:38.086Z"
   },
   {
    "duration": 45,
    "start_time": "2021-08-04T15:29:38.112Z"
   },
   {
    "duration": 6,
    "start_time": "2021-08-04T15:29:38.161Z"
   },
   {
    "duration": 56,
    "start_time": "2021-08-04T15:29:38.169Z"
   },
   {
    "duration": 39,
    "start_time": "2021-08-04T15:29:38.228Z"
   },
   {
    "duration": 13,
    "start_time": "2021-08-04T15:29:38.269Z"
   },
   {
    "duration": 36,
    "start_time": "2021-08-04T15:29:38.285Z"
   },
   {
    "duration": 41,
    "start_time": "2021-08-04T15:29:38.323Z"
   },
   {
    "duration": 20,
    "start_time": "2021-08-04T15:29:38.366Z"
   },
   {
    "duration": 466,
    "start_time": "2021-08-04T15:29:38.388Z"
   },
   {
    "duration": 360,
    "start_time": "2021-08-04T15:29:38.856Z"
   },
   {
    "duration": 496,
    "start_time": "2021-08-04T15:29:39.218Z"
   },
   {
    "duration": 345,
    "start_time": "2021-08-04T15:29:39.716Z"
   },
   {
    "duration": 782,
    "start_time": "2021-08-04T15:30:02.151Z"
   },
   {
    "duration": 44,
    "start_time": "2021-08-04T15:30:02.936Z"
   },
   {
    "duration": 33,
    "start_time": "2021-08-04T15:30:02.983Z"
   },
   {
    "duration": 51,
    "start_time": "2021-08-04T15:30:03.019Z"
   },
   {
    "duration": 7,
    "start_time": "2021-08-04T15:30:03.073Z"
   },
   {
    "duration": 27,
    "start_time": "2021-08-04T15:30:03.083Z"
   },
   {
    "duration": 49,
    "start_time": "2021-08-04T15:30:03.112Z"
   },
   {
    "duration": 6,
    "start_time": "2021-08-04T15:30:03.164Z"
   },
   {
    "duration": 46,
    "start_time": "2021-08-04T15:30:03.173Z"
   },
   {
    "duration": 48,
    "start_time": "2021-08-04T15:30:03.221Z"
   },
   {
    "duration": 13,
    "start_time": "2021-08-04T15:30:03.272Z"
   },
   {
    "duration": 27,
    "start_time": "2021-08-04T15:30:03.287Z"
   },
   {
    "duration": 48,
    "start_time": "2021-08-04T15:30:03.317Z"
   },
   {
    "duration": 21,
    "start_time": "2021-08-04T15:30:03.367Z"
   },
   {
    "duration": 492,
    "start_time": "2021-08-04T15:30:03.391Z"
   },
   {
    "duration": 343,
    "start_time": "2021-08-04T15:30:03.885Z"
   },
   {
    "duration": 505,
    "start_time": "2021-08-04T15:30:04.230Z"
   },
   {
    "duration": 352,
    "start_time": "2021-08-04T15:30:04.738Z"
   },
   {
    "duration": 838,
    "start_time": "2021-08-04T15:30:20.426Z"
   },
   {
    "duration": 41,
    "start_time": "2021-08-04T15:30:21.267Z"
   },
   {
    "duration": 14,
    "start_time": "2021-08-04T15:30:21.311Z"
   },
   {
    "duration": 68,
    "start_time": "2021-08-04T15:30:21.328Z"
   },
   {
    "duration": 6,
    "start_time": "2021-08-04T15:30:21.398Z"
   },
   {
    "duration": 13,
    "start_time": "2021-08-04T15:30:21.407Z"
   },
   {
    "duration": 55,
    "start_time": "2021-08-04T15:30:21.423Z"
   },
   {
    "duration": 6,
    "start_time": "2021-08-04T15:30:21.482Z"
   },
   {
    "duration": 40,
    "start_time": "2021-08-04T15:30:21.490Z"
   },
   {
    "duration": 36,
    "start_time": "2021-08-04T15:30:21.555Z"
   },
   {
    "duration": 15,
    "start_time": "2021-08-04T15:30:21.593Z"
   },
   {
    "duration": 53,
    "start_time": "2021-08-04T15:30:21.610Z"
   },
   {
    "duration": 25,
    "start_time": "2021-08-04T15:30:21.666Z"
   },
   {
    "duration": 21,
    "start_time": "2021-08-04T15:30:21.694Z"
   },
   {
    "duration": 485,
    "start_time": "2021-08-04T15:30:21.717Z"
   },
   {
    "duration": 360,
    "start_time": "2021-08-04T15:30:22.204Z"
   },
   {
    "duration": 389,
    "start_time": "2021-08-04T15:30:22.566Z"
   },
   {
    "duration": 351,
    "start_time": "2021-08-04T15:30:22.958Z"
   },
   {
    "duration": 760,
    "start_time": "2021-08-04T15:30:59.896Z"
   },
   {
    "duration": 40,
    "start_time": "2021-08-04T15:31:00.659Z"
   },
   {
    "duration": 14,
    "start_time": "2021-08-04T15:31:00.702Z"
   },
   {
    "duration": 74,
    "start_time": "2021-08-04T15:31:00.718Z"
   },
   {
    "duration": 6,
    "start_time": "2021-08-04T15:31:00.794Z"
   },
   {
    "duration": 24,
    "start_time": "2021-08-04T15:31:00.803Z"
   },
   {
    "duration": 48,
    "start_time": "2021-08-04T15:31:00.830Z"
   },
   {
    "duration": 6,
    "start_time": "2021-08-04T15:31:00.882Z"
   },
   {
    "duration": 48,
    "start_time": "2021-08-04T15:31:00.891Z"
   },
   {
    "duration": 45,
    "start_time": "2021-08-04T15:31:00.942Z"
   },
   {
    "duration": 20,
    "start_time": "2021-08-04T15:31:00.989Z"
   },
   {
    "duration": 42,
    "start_time": "2021-08-04T15:31:01.012Z"
   },
   {
    "duration": 33,
    "start_time": "2021-08-04T15:31:01.057Z"
   },
   {
    "duration": 23,
    "start_time": "2021-08-04T15:31:01.093Z"
   },
   {
    "duration": 489,
    "start_time": "2021-08-04T15:31:01.118Z"
   },
   {
    "duration": 346,
    "start_time": "2021-08-04T15:31:01.609Z"
   },
   {
    "duration": 553,
    "start_time": "2021-08-04T15:31:01.958Z"
   },
   {
    "duration": -136,
    "start_time": "2021-08-04T15:31:02.650Z"
   },
   {
    "duration": 759,
    "start_time": "2021-08-04T15:31:28.271Z"
   },
   {
    "duration": 42,
    "start_time": "2021-08-04T15:31:29.032Z"
   },
   {
    "duration": 15,
    "start_time": "2021-08-04T15:31:29.077Z"
   },
   {
    "duration": 70,
    "start_time": "2021-08-04T15:31:29.095Z"
   },
   {
    "duration": 7,
    "start_time": "2021-08-04T15:31:29.168Z"
   },
   {
    "duration": 11,
    "start_time": "2021-08-04T15:31:29.178Z"
   },
   {
    "duration": 64,
    "start_time": "2021-08-04T15:31:29.192Z"
   },
   {
    "duration": 7,
    "start_time": "2021-08-04T15:31:29.259Z"
   },
   {
    "duration": 33,
    "start_time": "2021-08-04T15:31:29.272Z"
   },
   {
    "duration": 63,
    "start_time": "2021-08-04T15:31:29.308Z"
   },
   {
    "duration": 16,
    "start_time": "2021-08-04T15:31:29.374Z"
   },
   {
    "duration": 63,
    "start_time": "2021-08-04T15:31:29.393Z"
   },
   {
    "duration": 35,
    "start_time": "2021-08-04T15:31:29.460Z"
   },
   {
    "duration": 29,
    "start_time": "2021-08-04T15:31:29.498Z"
   },
   {
    "duration": 565,
    "start_time": "2021-08-04T15:31:29.530Z"
   },
   {
    "duration": 369,
    "start_time": "2021-08-04T15:31:30.097Z"
   },
   {
    "duration": 627,
    "start_time": "2021-08-04T15:31:30.468Z"
   },
   {
    "duration": -82,
    "start_time": "2021-08-04T15:31:31.179Z"
   },
   {
    "duration": 808,
    "start_time": "2021-08-04T15:33:05.319Z"
   },
   {
    "duration": 45,
    "start_time": "2021-08-04T15:33:06.130Z"
   },
   {
    "duration": 16,
    "start_time": "2021-08-04T15:33:06.179Z"
   },
   {
    "duration": 72,
    "start_time": "2021-08-04T15:33:06.197Z"
   },
   {
    "duration": 10,
    "start_time": "2021-08-04T15:33:06.271Z"
   },
   {
    "duration": 16,
    "start_time": "2021-08-04T15:33:06.283Z"
   },
   {
    "duration": 40,
    "start_time": "2021-08-04T15:33:06.301Z"
   },
   {
    "duration": 7,
    "start_time": "2021-08-04T15:33:06.357Z"
   },
   {
    "duration": 39,
    "start_time": "2021-08-04T15:33:06.367Z"
   },
   {
    "duration": 62,
    "start_time": "2021-08-04T15:33:06.409Z"
   },
   {
    "duration": 14,
    "start_time": "2021-08-04T15:33:06.475Z"
   },
   {
    "duration": 29,
    "start_time": "2021-08-04T15:33:06.492Z"
   },
   {
    "duration": 44,
    "start_time": "2021-08-04T15:33:06.524Z"
   },
   {
    "duration": 21,
    "start_time": "2021-08-04T15:33:06.570Z"
   },
   {
    "duration": 556,
    "start_time": "2021-08-04T15:33:06.594Z"
   },
   {
    "duration": 362,
    "start_time": "2021-08-04T15:33:07.155Z"
   },
   {
    "duration": 560,
    "start_time": "2021-08-04T15:33:07.519Z"
   },
   {
    "duration": -95,
    "start_time": "2021-08-04T15:33:08.176Z"
   },
   {
    "duration": 817,
    "start_time": "2021-08-04T15:35:11.430Z"
   },
   {
    "duration": 40,
    "start_time": "2021-08-04T15:35:12.249Z"
   },
   {
    "duration": 14,
    "start_time": "2021-08-04T15:35:12.292Z"
   },
   {
    "duration": 62,
    "start_time": "2021-08-04T15:35:12.309Z"
   },
   {
    "duration": 6,
    "start_time": "2021-08-04T15:35:12.374Z"
   },
   {
    "duration": 12,
    "start_time": "2021-08-04T15:35:12.383Z"
   },
   {
    "duration": 64,
    "start_time": "2021-08-04T15:35:12.397Z"
   },
   {
    "duration": 7,
    "start_time": "2021-08-04T15:35:12.463Z"
   },
   {
    "duration": 31,
    "start_time": "2021-08-04T15:35:12.474Z"
   },
   {
    "duration": 67,
    "start_time": "2021-08-04T15:35:12.508Z"
   },
   {
    "duration": 14,
    "start_time": "2021-08-04T15:35:12.577Z"
   },
   {
    "duration": 22,
    "start_time": "2021-08-04T15:35:12.593Z"
   },
   {
    "duration": 50,
    "start_time": "2021-08-04T15:35:12.617Z"
   },
   {
    "duration": 20,
    "start_time": "2021-08-04T15:35:12.669Z"
   },
   {
    "duration": 485,
    "start_time": "2021-08-04T15:35:12.692Z"
   },
   {
    "duration": 344,
    "start_time": "2021-08-04T15:35:13.180Z"
   },
   {
    "duration": 374,
    "start_time": "2021-08-04T15:35:13.527Z"
   },
   {
    "duration": 6,
    "start_time": "2021-08-04T15:35:13.903Z"
   },
   {
    "duration": 903,
    "start_time": "2021-08-04T15:36:30.197Z"
   },
   {
    "duration": 44,
    "start_time": "2021-08-04T15:36:31.103Z"
   },
   {
    "duration": 14,
    "start_time": "2021-08-04T15:36:31.153Z"
   },
   {
    "duration": 52,
    "start_time": "2021-08-04T15:36:31.170Z"
   },
   {
    "duration": 6,
    "start_time": "2021-08-04T15:36:31.225Z"
   },
   {
    "duration": 10,
    "start_time": "2021-08-04T15:36:31.254Z"
   },
   {
    "duration": 36,
    "start_time": "2021-08-04T15:36:31.266Z"
   },
   {
    "duration": 6,
    "start_time": "2021-08-04T15:36:31.306Z"
   },
   {
    "duration": 59,
    "start_time": "2021-08-04T15:36:31.314Z"
   },
   {
    "duration": 34,
    "start_time": "2021-08-04T15:36:31.376Z"
   },
   {
    "duration": 14,
    "start_time": "2021-08-04T15:36:31.412Z"
   },
   {
    "duration": 45,
    "start_time": "2021-08-04T15:36:31.428Z"
   },
   {
    "duration": 25,
    "start_time": "2021-08-04T15:36:31.476Z"
   },
   {
    "duration": 20,
    "start_time": "2021-08-04T15:36:31.503Z"
   },
   {
    "duration": 521,
    "start_time": "2021-08-04T15:36:31.525Z"
   },
   {
    "duration": 375,
    "start_time": "2021-08-04T15:36:32.055Z"
   },
   {
    "duration": 389,
    "start_time": "2021-08-04T15:36:32.433Z"
   },
   {
    "duration": 364,
    "start_time": "2021-08-04T15:36:32.825Z"
   },
   {
    "duration": 816,
    "start_time": "2021-08-04T15:37:45.235Z"
   },
   {
    "duration": 42,
    "start_time": "2021-08-04T15:37:46.053Z"
   },
   {
    "duration": 18,
    "start_time": "2021-08-04T15:37:46.098Z"
   },
   {
    "duration": 67,
    "start_time": "2021-08-04T15:37:46.119Z"
   },
   {
    "duration": 7,
    "start_time": "2021-08-04T15:37:46.188Z"
   },
   {
    "duration": 15,
    "start_time": "2021-08-04T15:37:46.198Z"
   },
   {
    "duration": 60,
    "start_time": "2021-08-04T15:37:46.216Z"
   },
   {
    "duration": 6,
    "start_time": "2021-08-04T15:37:46.279Z"
   },
   {
    "duration": 35,
    "start_time": "2021-08-04T15:37:46.288Z"
   },
   {
    "duration": 52,
    "start_time": "2021-08-04T15:37:46.325Z"
   },
   {
    "duration": 15,
    "start_time": "2021-08-04T15:37:46.380Z"
   },
   {
    "duration": 58,
    "start_time": "2021-08-04T15:37:46.398Z"
   },
   {
    "duration": 25,
    "start_time": "2021-08-04T15:37:46.458Z"
   },
   {
    "duration": 21,
    "start_time": "2021-08-04T15:37:46.485Z"
   },
   {
    "duration": 500,
    "start_time": "2021-08-04T15:37:46.508Z"
   },
   {
    "duration": 358,
    "start_time": "2021-08-04T15:37:47.010Z"
   },
   {
    "duration": 373,
    "start_time": "2021-08-04T15:37:47.370Z"
   },
   {
    "duration": 49,
    "start_time": "2021-08-04T15:37:47.746Z"
   },
   {
    "duration": 101,
    "start_time": "2021-08-04T15:38:00.255Z"
   },
   {
    "duration": 61,
    "start_time": "2021-08-04T15:38:10.607Z"
   },
   {
    "duration": 67,
    "start_time": "2021-08-04T15:38:37.852Z"
   },
   {
    "duration": 1246,
    "start_time": "2021-08-04T15:41:32.316Z"
   },
   {
    "duration": 45,
    "start_time": "2021-08-04T15:44:13.041Z"
   },
   {
    "duration": 43,
    "start_time": "2021-08-04T15:44:41.243Z"
   },
   {
    "duration": 64,
    "start_time": "2021-08-04T15:45:11.454Z"
   },
   {
    "duration": 41,
    "start_time": "2021-08-04T15:48:32.466Z"
   },
   {
    "duration": 44,
    "start_time": "2021-08-04T15:48:49.240Z"
   },
   {
    "duration": 269,
    "start_time": "2021-08-04T15:49:45.642Z"
   },
   {
    "duration": 1103,
    "start_time": "2021-08-04T15:50:37.403Z"
   },
   {
    "duration": 49,
    "start_time": "2021-08-04T15:52:04.209Z"
   },
   {
    "duration": 48,
    "start_time": "2021-08-04T15:52:19.804Z"
   },
   {
    "duration": 836,
    "start_time": "2021-08-04T15:52:32.539Z"
   },
   {
    "duration": 41,
    "start_time": "2021-08-04T15:52:33.377Z"
   },
   {
    "duration": 33,
    "start_time": "2021-08-04T15:52:33.421Z"
   },
   {
    "duration": 42,
    "start_time": "2021-08-04T15:52:33.457Z"
   },
   {
    "duration": 6,
    "start_time": "2021-08-04T15:52:33.502Z"
   },
   {
    "duration": 44,
    "start_time": "2021-08-04T15:52:33.510Z"
   },
   {
    "duration": 34,
    "start_time": "2021-08-04T15:52:33.556Z"
   },
   {
    "duration": 6,
    "start_time": "2021-08-04T15:52:33.593Z"
   },
   {
    "duration": 55,
    "start_time": "2021-08-04T15:52:33.601Z"
   },
   {
    "duration": 34,
    "start_time": "2021-08-04T15:52:33.659Z"
   },
   {
    "duration": 13,
    "start_time": "2021-08-04T15:52:33.696Z"
   },
   {
    "duration": 54,
    "start_time": "2021-08-04T15:52:33.712Z"
   },
   {
    "duration": 26,
    "start_time": "2021-08-04T15:52:33.769Z"
   },
   {
    "duration": 22,
    "start_time": "2021-08-04T15:52:33.798Z"
   },
   {
    "duration": 76,
    "start_time": "2021-08-04T15:52:33.822Z"
   },
   {
    "duration": 49,
    "start_time": "2021-08-04T15:52:53.074Z"
   },
   {
    "duration": 57,
    "start_time": "2021-08-04T15:53:40.072Z"
   },
   {
    "duration": 60,
    "start_time": "2021-08-04T15:54:14.528Z"
   },
   {
    "duration": 789,
    "start_time": "2021-08-04T15:54:28.174Z"
   },
   {
    "duration": 43,
    "start_time": "2021-08-04T15:54:28.966Z"
   },
   {
    "duration": 15,
    "start_time": "2021-08-04T15:54:29.012Z"
   },
   {
    "duration": 65,
    "start_time": "2021-08-04T15:54:29.031Z"
   },
   {
    "duration": 7,
    "start_time": "2021-08-04T15:54:29.098Z"
   },
   {
    "duration": 17,
    "start_time": "2021-08-04T15:54:29.108Z"
   },
   {
    "duration": 33,
    "start_time": "2021-08-04T15:54:29.155Z"
   },
   {
    "duration": 7,
    "start_time": "2021-08-04T15:54:29.192Z"
   },
   {
    "duration": 68,
    "start_time": "2021-08-04T15:54:29.202Z"
   },
   {
    "duration": 46,
    "start_time": "2021-08-04T15:54:29.272Z"
   },
   {
    "duration": 14,
    "start_time": "2021-08-04T15:54:29.321Z"
   },
   {
    "duration": 34,
    "start_time": "2021-08-04T15:54:29.337Z"
   },
   {
    "duration": 24,
    "start_time": "2021-08-04T15:54:29.374Z"
   },
   {
    "duration": 22,
    "start_time": "2021-08-04T15:54:29.400Z"
   },
   {
    "duration": 89,
    "start_time": "2021-08-04T15:54:29.424Z"
   },
   {
    "duration": 50,
    "start_time": "2021-08-04T15:54:39.961Z"
   },
   {
    "duration": 50,
    "start_time": "2021-08-04T15:54:48.312Z"
   },
   {
    "duration": 82,
    "start_time": "2021-08-04T15:55:07.021Z"
   },
   {
    "duration": 80,
    "start_time": "2021-08-04T15:55:37.409Z"
   },
   {
    "duration": 406,
    "start_time": "2021-08-04T15:58:57.825Z"
   },
   {
    "duration": 87,
    "start_time": "2021-08-04T16:00:23.600Z"
   },
   {
    "duration": 68,
    "start_time": "2021-08-04T16:00:48.611Z"
   },
   {
    "duration": 68,
    "start_time": "2021-08-04T16:02:28.653Z"
   },
   {
    "duration": 97,
    "start_time": "2021-08-04T16:02:34.588Z"
   },
   {
    "duration": 98,
    "start_time": "2021-08-04T16:03:21.382Z"
   },
   {
    "duration": 93,
    "start_time": "2021-08-04T16:04:42.839Z"
   },
   {
    "duration": 86,
    "start_time": "2021-08-04T16:05:10.825Z"
   },
   {
    "duration": 135,
    "start_time": "2021-08-04T16:07:38.587Z"
   },
   {
    "duration": 2176,
    "start_time": "2021-08-04T16:09:02.887Z"
   },
   {
    "duration": 765,
    "start_time": "2021-08-04T16:09:22.180Z"
   },
   {
    "duration": 40,
    "start_time": "2021-08-04T16:09:22.947Z"
   },
   {
    "duration": 14,
    "start_time": "2021-08-04T16:09:22.990Z"
   },
   {
    "duration": 72,
    "start_time": "2021-08-04T16:09:23.007Z"
   },
   {
    "duration": 6,
    "start_time": "2021-08-04T16:09:23.082Z"
   },
   {
    "duration": 27,
    "start_time": "2021-08-04T16:09:23.090Z"
   },
   {
    "duration": 54,
    "start_time": "2021-08-04T16:09:23.119Z"
   },
   {
    "duration": 14,
    "start_time": "2021-08-04T16:09:23.177Z"
   },
   {
    "duration": 56,
    "start_time": "2021-08-04T16:09:23.194Z"
   },
   {
    "duration": 44,
    "start_time": "2021-08-04T16:09:23.252Z"
   },
   {
    "duration": 14,
    "start_time": "2021-08-04T16:09:23.299Z"
   },
   {
    "duration": 37,
    "start_time": "2021-08-04T16:09:23.316Z"
   },
   {
    "duration": 41,
    "start_time": "2021-08-04T16:09:23.356Z"
   },
   {
    "duration": 29,
    "start_time": "2021-08-04T16:09:23.399Z"
   },
   {
    "duration": 1193,
    "start_time": "2021-08-04T16:09:23.431Z"
   },
   {
    "duration": 935,
    "start_time": "2021-08-04T16:09:40.359Z"
   },
   {
    "duration": 40,
    "start_time": "2021-08-04T16:09:41.297Z"
   },
   {
    "duration": 29,
    "start_time": "2021-08-04T16:09:41.340Z"
   },
   {
    "duration": 61,
    "start_time": "2021-08-04T16:09:41.372Z"
   },
   {
    "duration": 18,
    "start_time": "2021-08-04T16:09:41.436Z"
   },
   {
    "duration": 9,
    "start_time": "2021-08-04T16:09:41.457Z"
   },
   {
    "duration": 48,
    "start_time": "2021-08-04T16:09:41.468Z"
   },
   {
    "duration": 9,
    "start_time": "2021-08-04T16:09:41.519Z"
   },
   {
    "duration": 56,
    "start_time": "2021-08-04T16:09:41.531Z"
   },
   {
    "duration": 35,
    "start_time": "2021-08-04T16:09:41.590Z"
   },
   {
    "duration": 42,
    "start_time": "2021-08-04T16:09:41.627Z"
   },
   {
    "duration": 22,
    "start_time": "2021-08-04T16:09:41.672Z"
   },
   {
    "duration": 58,
    "start_time": "2021-08-04T16:09:41.697Z"
   },
   {
    "duration": 22,
    "start_time": "2021-08-04T16:09:41.758Z"
   },
   {
    "duration": 127,
    "start_time": "2021-08-04T16:09:41.783Z"
   },
   {
    "duration": 87,
    "start_time": "2021-08-04T16:10:03.086Z"
   },
   {
    "duration": 144,
    "start_time": "2021-08-04T16:12:18.029Z"
   },
   {
    "duration": 783,
    "start_time": "2021-08-04T16:12:28.238Z"
   },
   {
    "duration": 43,
    "start_time": "2021-08-04T16:12:29.024Z"
   },
   {
    "duration": 22,
    "start_time": "2021-08-04T16:12:29.072Z"
   },
   {
    "duration": 60,
    "start_time": "2021-08-04T16:12:29.098Z"
   },
   {
    "duration": 8,
    "start_time": "2021-08-04T16:12:29.161Z"
   },
   {
    "duration": 31,
    "start_time": "2021-08-04T16:12:29.172Z"
   },
   {
    "duration": 48,
    "start_time": "2021-08-04T16:12:29.207Z"
   },
   {
    "duration": 8,
    "start_time": "2021-08-04T16:12:29.258Z"
   },
   {
    "duration": 32,
    "start_time": "2021-08-04T16:12:29.272Z"
   },
   {
    "duration": 70,
    "start_time": "2021-08-04T16:12:29.308Z"
   },
   {
    "duration": 17,
    "start_time": "2021-08-04T16:12:29.381Z"
   },
   {
    "duration": 55,
    "start_time": "2021-08-04T16:12:29.401Z"
   },
   {
    "duration": 24,
    "start_time": "2021-08-04T16:12:29.459Z"
   },
   {
    "duration": 21,
    "start_time": "2021-08-04T16:12:29.486Z"
   },
   {
    "duration": 100,
    "start_time": "2021-08-04T16:12:29.509Z"
   },
   {
    "duration": 80,
    "start_time": "2021-08-04T16:21:53.673Z"
   },
   {
    "duration": 1033,
    "start_time": "2021-08-04T16:23:11.394Z"
   },
   {
    "duration": 62,
    "start_time": "2021-08-04T16:23:12.431Z"
   },
   {
    "duration": 20,
    "start_time": "2021-08-04T16:23:12.498Z"
   },
   {
    "duration": 90,
    "start_time": "2021-08-04T16:23:12.522Z"
   },
   {
    "duration": 8,
    "start_time": "2021-08-04T16:23:12.615Z"
   },
   {
    "duration": 32,
    "start_time": "2021-08-04T16:23:12.626Z"
   },
   {
    "duration": 65,
    "start_time": "2021-08-04T16:23:12.661Z"
   },
   {
    "duration": 8,
    "start_time": "2021-08-04T16:23:12.729Z"
   },
   {
    "duration": 56,
    "start_time": "2021-08-04T16:23:12.754Z"
   },
   {
    "duration": 63,
    "start_time": "2021-08-04T16:23:12.814Z"
   },
   {
    "duration": 19,
    "start_time": "2021-08-04T16:23:12.880Z"
   },
   {
    "duration": 54,
    "start_time": "2021-08-04T16:23:12.902Z"
   },
   {
    "duration": 34,
    "start_time": "2021-08-04T16:23:12.959Z"
   },
   {
    "duration": 30,
    "start_time": "2021-08-04T16:23:12.996Z"
   },
   {
    "duration": 147,
    "start_time": "2021-08-04T16:23:13.029Z"
   },
   {
    "duration": 64,
    "start_time": "2021-08-04T16:23:36.130Z"
   },
   {
    "duration": 64,
    "start_time": "2021-08-04T16:26:22.528Z"
   },
   {
    "duration": 64,
    "start_time": "2021-08-04T16:29:03.552Z"
   },
   {
    "duration": 89,
    "start_time": "2021-08-04T16:30:13.891Z"
   },
   {
    "duration": 784,
    "start_time": "2021-08-04T16:31:03.764Z"
   },
   {
    "duration": 41,
    "start_time": "2021-08-04T16:31:04.550Z"
   },
   {
    "duration": 18,
    "start_time": "2021-08-04T16:31:04.594Z"
   },
   {
    "duration": 64,
    "start_time": "2021-08-04T16:31:04.615Z"
   },
   {
    "duration": 6,
    "start_time": "2021-08-04T16:31:04.682Z"
   },
   {
    "duration": 34,
    "start_time": "2021-08-04T16:31:04.690Z"
   },
   {
    "duration": 55,
    "start_time": "2021-08-04T16:31:04.726Z"
   },
   {
    "duration": 6,
    "start_time": "2021-08-04T16:31:04.783Z"
   },
   {
    "duration": 44,
    "start_time": "2021-08-04T16:31:04.793Z"
   },
   {
    "duration": 41,
    "start_time": "2021-08-04T16:31:04.840Z"
   },
   {
    "duration": 14,
    "start_time": "2021-08-04T16:31:04.883Z"
   },
   {
    "duration": 29,
    "start_time": "2021-08-04T16:31:04.899Z"
   },
   {
    "duration": 24,
    "start_time": "2021-08-04T16:31:04.954Z"
   },
   {
    "duration": 19,
    "start_time": "2021-08-04T16:31:04.981Z"
   },
   {
    "duration": 117,
    "start_time": "2021-08-04T16:31:05.002Z"
   },
   {
    "duration": 820,
    "start_time": "2021-08-04T16:35:16.423Z"
   },
   {
    "duration": 41,
    "start_time": "2021-08-04T16:35:17.246Z"
   },
   {
    "duration": 28,
    "start_time": "2021-08-04T16:35:17.291Z"
   },
   {
    "duration": 55,
    "start_time": "2021-08-04T16:35:17.322Z"
   },
   {
    "duration": 6,
    "start_time": "2021-08-04T16:35:17.380Z"
   },
   {
    "duration": 10,
    "start_time": "2021-08-04T16:35:17.389Z"
   },
   {
    "duration": 61,
    "start_time": "2021-08-04T16:35:17.401Z"
   },
   {
    "duration": 6,
    "start_time": "2021-08-04T16:35:17.464Z"
   },
   {
    "duration": 32,
    "start_time": "2021-08-04T16:35:17.473Z"
   },
   {
    "duration": 66,
    "start_time": "2021-08-04T16:35:17.508Z"
   },
   {
    "duration": 14,
    "start_time": "2021-08-04T16:35:17.576Z"
   },
   {
    "duration": 26,
    "start_time": "2021-08-04T16:35:17.593Z"
   },
   {
    "duration": 53,
    "start_time": "2021-08-04T16:35:17.621Z"
   },
   {
    "duration": 20,
    "start_time": "2021-08-04T16:35:17.677Z"
   },
   {
    "duration": 89,
    "start_time": "2021-08-04T16:35:17.700Z"
   },
   {
    "duration": 766,
    "start_time": "2021-08-04T16:55:53.076Z"
   },
   {
    "duration": 39,
    "start_time": "2021-08-04T16:55:53.845Z"
   },
   {
    "duration": 16,
    "start_time": "2021-08-04T16:55:53.887Z"
   },
   {
    "duration": 67,
    "start_time": "2021-08-04T16:55:53.906Z"
   },
   {
    "duration": 6,
    "start_time": "2021-08-04T16:55:53.976Z"
   },
   {
    "duration": 27,
    "start_time": "2021-08-04T16:55:53.984Z"
   },
   {
    "duration": 49,
    "start_time": "2021-08-04T16:55:54.014Z"
   },
   {
    "duration": 5,
    "start_time": "2021-08-04T16:55:54.066Z"
   },
   {
    "duration": 49,
    "start_time": "2021-08-04T16:55:54.075Z"
   },
   {
    "duration": 55,
    "start_time": "2021-08-04T16:55:54.127Z"
   },
   {
    "duration": 16,
    "start_time": "2021-08-04T16:55:54.185Z"
   },
   {
    "duration": 57,
    "start_time": "2021-08-04T16:55:54.204Z"
   },
   {
    "duration": 34,
    "start_time": "2021-08-04T16:55:54.265Z"
   },
   {
    "duration": 23,
    "start_time": "2021-08-04T16:55:54.302Z"
   },
   {
    "duration": 90,
    "start_time": "2021-08-04T16:55:54.328Z"
   },
   {
    "duration": 37,
    "start_time": "2021-08-04T16:55:54.420Z"
   },
   {
    "duration": 899,
    "start_time": "2021-08-04T16:56:15.740Z"
   },
   {
    "duration": 40,
    "start_time": "2021-08-04T16:56:16.641Z"
   },
   {
    "duration": 13,
    "start_time": "2021-08-04T16:56:16.684Z"
   },
   {
    "duration": 69,
    "start_time": "2021-08-04T16:56:16.699Z"
   },
   {
    "duration": 7,
    "start_time": "2021-08-04T16:56:16.771Z"
   },
   {
    "duration": 39,
    "start_time": "2021-08-04T16:56:16.781Z"
   },
   {
    "duration": 54,
    "start_time": "2021-08-04T16:56:16.823Z"
   },
   {
    "duration": 6,
    "start_time": "2021-08-04T16:56:16.881Z"
   },
   {
    "duration": 41,
    "start_time": "2021-08-04T16:56:16.890Z"
   },
   {
    "duration": 53,
    "start_time": "2021-08-04T16:56:16.934Z"
   },
   {
    "duration": 14,
    "start_time": "2021-08-04T16:56:16.990Z"
   },
   {
    "duration": 52,
    "start_time": "2021-08-04T16:56:17.007Z"
   },
   {
    "duration": 20,
    "start_time": "2021-08-04T16:56:17.062Z"
   },
   {
    "duration": 87,
    "start_time": "2021-08-04T16:56:17.085Z"
   },
   {
    "duration": 22,
    "start_time": "2021-08-04T16:56:17.175Z"
   },
   {
    "duration": 596,
    "start_time": "2021-08-05T14:51:49.155Z"
   },
   {
    "duration": 22,
    "start_time": "2021-08-05T14:51:49.753Z"
   },
   {
    "duration": 8,
    "start_time": "2021-08-05T14:51:49.777Z"
   },
   {
    "duration": 24,
    "start_time": "2021-08-05T14:51:49.791Z"
   },
   {
    "duration": 4,
    "start_time": "2021-08-05T14:51:49.817Z"
   },
   {
    "duration": 10,
    "start_time": "2021-08-05T14:51:49.822Z"
   },
   {
    "duration": 20,
    "start_time": "2021-08-05T14:51:49.834Z"
   },
   {
    "duration": 4,
    "start_time": "2021-08-05T14:51:49.856Z"
   },
   {
    "duration": 47,
    "start_time": "2021-08-05T14:51:49.862Z"
   },
   {
    "duration": 22,
    "start_time": "2021-08-05T14:51:49.911Z"
   },
   {
    "duration": 9,
    "start_time": "2021-08-05T14:51:49.935Z"
   },
   {
    "duration": 19,
    "start_time": "2021-08-05T14:51:49.945Z"
   },
   {
    "duration": 35,
    "start_time": "2021-08-05T14:51:49.965Z"
   },
   {
    "duration": 42,
    "start_time": "2021-08-05T14:51:50.002Z"
   },
   {
    "duration": 12,
    "start_time": "2021-08-05T14:51:50.046Z"
   },
   {
    "duration": 14,
    "start_time": "2021-08-05T14:54:56.060Z"
   },
   {
    "duration": 8,
    "start_time": "2021-08-05T15:02:39.025Z"
   },
   {
    "duration": 8,
    "start_time": "2021-08-05T15:02:57.576Z"
   },
   {
    "duration": 7,
    "start_time": "2021-08-05T15:03:07.945Z"
   },
   {
    "duration": 7,
    "start_time": "2021-08-05T15:03:20.205Z"
   },
   {
    "duration": 7,
    "start_time": "2021-08-05T15:07:31.530Z"
   },
   {
    "duration": 7,
    "start_time": "2021-08-05T15:07:46.550Z"
   },
   {
    "duration": 8,
    "start_time": "2021-08-05T15:07:53.690Z"
   },
   {
    "duration": 7,
    "start_time": "2021-08-05T15:09:16.005Z"
   },
   {
    "duration": 8,
    "start_time": "2021-08-05T15:09:22.136Z"
   },
   {
    "duration": 8,
    "start_time": "2021-08-05T15:09:29.856Z"
   },
   {
    "duration": 18,
    "start_time": "2021-08-05T15:15:28.980Z"
   },
   {
    "duration": 18,
    "start_time": "2021-08-05T15:16:47.790Z"
   },
   {
    "duration": 9,
    "start_time": "2021-08-05T15:20:30.911Z"
   },
   {
    "duration": 8,
    "start_time": "2021-08-05T15:20:49.891Z"
   },
   {
    "duration": 8,
    "start_time": "2021-08-05T15:21:18.586Z"
   },
   {
    "duration": 7,
    "start_time": "2021-08-05T15:21:38.135Z"
   },
   {
    "duration": 409,
    "start_time": "2021-08-05T15:26:17.200Z"
   },
   {
    "duration": 779,
    "start_time": "2021-08-05T15:30:25.640Z"
   },
   {
    "duration": 570,
    "start_time": "2021-08-05T15:31:07.846Z"
   },
   {
    "duration": 24,
    "start_time": "2021-08-05T15:31:08.418Z"
   },
   {
    "duration": 14,
    "start_time": "2021-08-05T15:31:08.443Z"
   },
   {
    "duration": 37,
    "start_time": "2021-08-05T15:31:08.459Z"
   },
   {
    "duration": 4,
    "start_time": "2021-08-05T15:31:08.498Z"
   },
   {
    "duration": 12,
    "start_time": "2021-08-05T15:31:08.504Z"
   },
   {
    "duration": 25,
    "start_time": "2021-08-05T15:31:08.518Z"
   },
   {
    "duration": 5,
    "start_time": "2021-08-05T15:31:08.544Z"
   },
   {
    "duration": 25,
    "start_time": "2021-08-05T15:31:08.551Z"
   },
   {
    "duration": 23,
    "start_time": "2021-08-05T15:31:08.592Z"
   },
   {
    "duration": 9,
    "start_time": "2021-08-05T15:31:08.616Z"
   },
   {
    "duration": 13,
    "start_time": "2021-08-05T15:31:08.627Z"
   },
   {
    "duration": 13,
    "start_time": "2021-08-05T15:31:08.642Z"
   },
   {
    "duration": 71,
    "start_time": "2021-08-05T15:31:08.656Z"
   },
   {
    "duration": 12,
    "start_time": "2021-08-05T15:31:08.729Z"
   },
   {
    "duration": 12,
    "start_time": "2021-08-05T15:31:08.743Z"
   },
   {
    "duration": 7,
    "start_time": "2021-08-05T15:31:08.757Z"
   },
   {
    "duration": 45,
    "start_time": "2021-08-05T15:31:08.765Z"
   },
   {
    "duration": 289,
    "start_time": "2021-08-05T15:37:26.604Z"
   },
   {
    "duration": 409,
    "start_time": "2021-08-05T15:37:48.064Z"
   },
   {
    "duration": 7,
    "start_time": "2021-08-05T15:38:52.584Z"
   },
   {
    "duration": 9,
    "start_time": "2021-08-05T15:39:11.594Z"
   },
   {
    "duration": 9,
    "start_time": "2021-08-05T15:39:44.664Z"
   },
   {
    "duration": 9,
    "start_time": "2021-08-05T15:39:54.524Z"
   },
   {
    "duration": 7,
    "start_time": "2021-08-05T15:40:16.004Z"
   },
   {
    "duration": 1012,
    "start_time": "2021-08-05T15:50:09.416Z"
   },
   {
    "duration": 13,
    "start_time": "2021-08-05T15:51:51.491Z"
   },
   {
    "duration": 19,
    "start_time": "2021-08-05T15:52:10.786Z"
   },
   {
    "duration": 18,
    "start_time": "2021-08-05T15:53:17.541Z"
   },
   {
    "duration": 17,
    "start_time": "2021-08-05T15:56:51.096Z"
   },
   {
    "duration": 23,
    "start_time": "2021-08-05T15:57:11.121Z"
   },
   {
    "duration": 24,
    "start_time": "2021-08-05T15:57:59.731Z"
   },
   {
    "duration": 20,
    "start_time": "2021-08-05T15:58:10.502Z"
   },
   {
    "duration": 581,
    "start_time": "2021-08-05T16:06:00.527Z"
   },
   {
    "duration": 25,
    "start_time": "2021-08-05T16:06:01.109Z"
   },
   {
    "duration": 12,
    "start_time": "2021-08-05T16:06:01.136Z"
   },
   {
    "duration": 43,
    "start_time": "2021-08-05T16:06:01.150Z"
   },
   {
    "duration": 5,
    "start_time": "2021-08-05T16:06:01.195Z"
   },
   {
    "duration": 13,
    "start_time": "2021-08-05T16:06:01.201Z"
   },
   {
    "duration": 23,
    "start_time": "2021-08-05T16:06:01.216Z"
   },
   {
    "duration": 4,
    "start_time": "2021-08-05T16:06:01.241Z"
   },
   {
    "duration": 37,
    "start_time": "2021-08-05T16:06:01.248Z"
   },
   {
    "duration": 22,
    "start_time": "2021-08-05T16:06:01.290Z"
   },
   {
    "duration": 16,
    "start_time": "2021-08-05T16:06:01.314Z"
   },
   {
    "duration": 24,
    "start_time": "2021-08-05T16:06:01.332Z"
   },
   {
    "duration": 15,
    "start_time": "2021-08-05T16:06:01.358Z"
   },
   {
    "duration": 55,
    "start_time": "2021-08-05T16:06:01.375Z"
   },
   {
    "duration": 12,
    "start_time": "2021-08-05T16:06:01.432Z"
   },
   {
    "duration": 15,
    "start_time": "2021-08-05T16:06:01.446Z"
   },
   {
    "duration": 28,
    "start_time": "2021-08-05T16:06:01.463Z"
   },
   {
    "duration": 25,
    "start_time": "2021-08-05T16:06:01.493Z"
   },
   {
    "duration": 9,
    "start_time": "2021-08-05T16:06:01.520Z"
   },
   {
    "duration": 19,
    "start_time": "2021-08-05T16:06:01.530Z"
   },
   {
    "duration": 12,
    "start_time": "2021-08-05T16:06:33.296Z"
   },
   {
    "duration": 7,
    "start_time": "2021-08-05T16:06:55.366Z"
   },
   {
    "duration": 610,
    "start_time": "2021-08-05T16:07:11.860Z"
   },
   {
    "duration": 23,
    "start_time": "2021-08-05T16:07:12.472Z"
   },
   {
    "duration": 10,
    "start_time": "2021-08-05T16:07:12.497Z"
   },
   {
    "duration": 24,
    "start_time": "2021-08-05T16:07:12.509Z"
   },
   {
    "duration": 4,
    "start_time": "2021-08-05T16:07:12.534Z"
   },
   {
    "duration": 10,
    "start_time": "2021-08-05T16:07:12.539Z"
   },
   {
    "duration": 19,
    "start_time": "2021-08-05T16:07:12.550Z"
   },
   {
    "duration": 4,
    "start_time": "2021-08-05T16:07:12.592Z"
   },
   {
    "duration": 19,
    "start_time": "2021-08-05T16:07:12.597Z"
   },
   {
    "duration": 21,
    "start_time": "2021-08-05T16:07:12.618Z"
   },
   {
    "duration": 8,
    "start_time": "2021-08-05T16:07:12.640Z"
   },
   {
    "duration": 13,
    "start_time": "2021-08-05T16:07:12.650Z"
   },
   {
    "duration": 36,
    "start_time": "2021-08-05T16:07:12.665Z"
   },
   {
    "duration": 38,
    "start_time": "2021-08-05T16:07:12.702Z"
   },
   {
    "duration": 11,
    "start_time": "2021-08-05T16:07:12.741Z"
   },
   {
    "duration": 11,
    "start_time": "2021-08-05T16:07:12.754Z"
   },
   {
    "duration": 26,
    "start_time": "2021-08-05T16:07:12.766Z"
   },
   {
    "duration": 25,
    "start_time": "2021-08-05T16:07:12.794Z"
   },
   {
    "duration": 8,
    "start_time": "2021-08-05T16:07:12.821Z"
   },
   {
    "duration": 12,
    "start_time": "2021-08-05T16:07:12.831Z"
   },
   {
    "duration": 8,
    "start_time": "2021-08-05T16:07:37.165Z"
   },
   {
    "duration": 599,
    "start_time": "2021-08-05T16:07:44.391Z"
   },
   {
    "duration": 23,
    "start_time": "2021-08-05T16:07:44.992Z"
   },
   {
    "duration": 16,
    "start_time": "2021-08-05T16:07:45.017Z"
   },
   {
    "duration": 25,
    "start_time": "2021-08-05T16:07:45.034Z"
   },
   {
    "duration": 4,
    "start_time": "2021-08-05T16:07:45.061Z"
   },
   {
    "duration": 26,
    "start_time": "2021-08-05T16:07:45.067Z"
   },
   {
    "duration": 18,
    "start_time": "2021-08-05T16:07:45.095Z"
   },
   {
    "duration": 4,
    "start_time": "2021-08-05T16:07:45.115Z"
   },
   {
    "duration": 20,
    "start_time": "2021-08-05T16:07:45.120Z"
   },
   {
    "duration": 22,
    "start_time": "2021-08-05T16:07:45.141Z"
   },
   {
    "duration": 30,
    "start_time": "2021-08-05T16:07:45.165Z"
   },
   {
    "duration": 18,
    "start_time": "2021-08-05T16:07:45.197Z"
   },
   {
    "duration": 12,
    "start_time": "2021-08-05T16:07:45.216Z"
   },
   {
    "duration": 38,
    "start_time": "2021-08-05T16:07:45.229Z"
   },
   {
    "duration": 32,
    "start_time": "2021-08-05T16:07:45.268Z"
   },
   {
    "duration": 11,
    "start_time": "2021-08-05T16:07:45.302Z"
   },
   {
    "duration": 7,
    "start_time": "2021-08-05T16:07:45.314Z"
   },
   {
    "duration": 26,
    "start_time": "2021-08-05T16:07:45.322Z"
   },
   {
    "duration": 9,
    "start_time": "2021-08-05T16:07:45.349Z"
   },
   {
    "duration": 37,
    "start_time": "2021-08-05T16:07:45.360Z"
   },
   {
    "duration": 304,
    "start_time": "2021-08-05T16:14:34.427Z"
   },
   {
    "duration": 647,
    "start_time": "2021-08-05T16:14:45.619Z"
   },
   {
    "duration": 24,
    "start_time": "2021-08-05T16:14:46.268Z"
   },
   {
    "duration": 24,
    "start_time": "2021-08-05T16:14:46.294Z"
   },
   {
    "duration": 30,
    "start_time": "2021-08-05T16:14:46.320Z"
   },
   {
    "duration": 4,
    "start_time": "2021-08-05T16:14:46.352Z"
   },
   {
    "duration": 13,
    "start_time": "2021-08-05T16:14:46.358Z"
   },
   {
    "duration": 25,
    "start_time": "2021-08-05T16:14:46.372Z"
   },
   {
    "duration": 4,
    "start_time": "2021-08-05T16:14:46.398Z"
   },
   {
    "duration": 20,
    "start_time": "2021-08-05T16:14:46.404Z"
   },
   {
    "duration": 20,
    "start_time": "2021-08-05T16:14:46.426Z"
   },
   {
    "duration": 8,
    "start_time": "2021-08-05T16:14:46.448Z"
   },
   {
    "duration": 34,
    "start_time": "2021-08-05T16:14:46.457Z"
   },
   {
    "duration": 12,
    "start_time": "2021-08-05T16:14:46.493Z"
   },
   {
    "duration": 40,
    "start_time": "2021-08-05T16:14:46.506Z"
   },
   {
    "duration": 13,
    "start_time": "2021-08-05T16:14:46.548Z"
   },
   {
    "duration": 37,
    "start_time": "2021-08-05T16:14:46.563Z"
   },
   {
    "duration": 7,
    "start_time": "2021-08-05T16:14:46.602Z"
   },
   {
    "duration": 24,
    "start_time": "2021-08-05T16:14:46.611Z"
   },
   {
    "duration": 12,
    "start_time": "2021-08-05T16:14:46.637Z"
   },
   {
    "duration": 55,
    "start_time": "2021-08-05T16:14:46.651Z"
   },
   {
    "duration": 5,
    "start_time": "2021-08-05T16:20:14.187Z"
   },
   {
    "duration": 30,
    "start_time": "2021-08-05T16:20:16.347Z"
   },
   {
    "duration": 1240,
    "start_time": "2021-08-05T16:55:48.557Z"
   },
   {
    "duration": 21,
    "start_time": "2021-08-05T16:55:49.799Z"
   },
   {
    "duration": 11,
    "start_time": "2021-08-05T16:55:49.822Z"
   },
   {
    "duration": 25,
    "start_time": "2021-08-05T16:55:49.835Z"
   },
   {
    "duration": 29,
    "start_time": "2021-08-05T16:55:49.862Z"
   },
   {
    "duration": 7,
    "start_time": "2021-08-05T16:55:49.893Z"
   },
   {
    "duration": 19,
    "start_time": "2021-08-05T16:55:49.902Z"
   },
   {
    "duration": 3,
    "start_time": "2021-08-05T16:55:49.923Z"
   },
   {
    "duration": 17,
    "start_time": "2021-08-05T16:55:49.928Z"
   },
   {
    "duration": 45,
    "start_time": "2021-08-05T16:55:49.946Z"
   },
   {
    "duration": 8,
    "start_time": "2021-08-05T16:55:49.993Z"
   },
   {
    "duration": 21,
    "start_time": "2021-08-05T16:55:50.003Z"
   },
   {
    "duration": 12,
    "start_time": "2021-08-05T16:55:50.026Z"
   },
   {
    "duration": 51,
    "start_time": "2021-08-05T16:55:50.040Z"
   },
   {
    "duration": 12,
    "start_time": "2021-08-05T16:55:50.093Z"
   },
   {
    "duration": 12,
    "start_time": "2021-08-05T16:55:50.107Z"
   },
   {
    "duration": 7,
    "start_time": "2021-08-05T16:55:50.121Z"
   },
   {
    "duration": 29,
    "start_time": "2021-08-05T16:55:50.130Z"
   },
   {
    "duration": 36,
    "start_time": "2021-08-05T16:55:50.160Z"
   },
   {
    "duration": 4,
    "start_time": "2021-08-05T16:55:50.197Z"
   },
   {
    "duration": 32,
    "start_time": "2021-08-05T16:55:50.202Z"
   },
   {
    "duration": 14,
    "start_time": "2021-08-05T16:55:50.236Z"
   },
   {
    "duration": 516,
    "start_time": "2021-08-05T16:58:33.837Z"
   },
   {
    "duration": 13,
    "start_time": "2021-08-05T17:00:18.717Z"
   },
   {
    "duration": 358,
    "start_time": "2021-08-05T17:00:42.282Z"
   },
   {
    "duration": 382,
    "start_time": "2021-08-05T17:03:30.942Z"
   },
   {
    "duration": 261,
    "start_time": "2021-08-05T17:04:00.842Z"
   },
   {
    "duration": 1111,
    "start_time": "2021-08-05T17:04:17.609Z"
   },
   {
    "duration": 20,
    "start_time": "2021-08-05T17:04:18.722Z"
   },
   {
    "duration": 14,
    "start_time": "2021-08-05T17:04:18.744Z"
   },
   {
    "duration": 24,
    "start_time": "2021-08-05T17:04:18.760Z"
   },
   {
    "duration": 8,
    "start_time": "2021-08-05T17:04:18.786Z"
   },
   {
    "duration": 7,
    "start_time": "2021-08-05T17:04:18.795Z"
   },
   {
    "duration": 19,
    "start_time": "2021-08-05T17:04:18.804Z"
   },
   {
    "duration": 4,
    "start_time": "2021-08-05T17:04:18.824Z"
   },
   {
    "duration": 20,
    "start_time": "2021-08-05T17:04:18.830Z"
   },
   {
    "duration": 45,
    "start_time": "2021-08-05T17:04:18.852Z"
   },
   {
    "duration": 9,
    "start_time": "2021-08-05T17:04:18.899Z"
   },
   {
    "duration": 12,
    "start_time": "2021-08-05T17:04:18.909Z"
   },
   {
    "duration": 12,
    "start_time": "2021-08-05T17:04:18.923Z"
   },
   {
    "duration": 65,
    "start_time": "2021-08-05T17:04:18.936Z"
   },
   {
    "duration": 11,
    "start_time": "2021-08-05T17:04:19.003Z"
   },
   {
    "duration": 11,
    "start_time": "2021-08-05T17:04:19.016Z"
   },
   {
    "duration": 8,
    "start_time": "2021-08-05T17:04:19.028Z"
   },
   {
    "duration": 25,
    "start_time": "2021-08-05T17:04:19.037Z"
   },
   {
    "duration": 11,
    "start_time": "2021-08-05T17:04:19.091Z"
   },
   {
    "duration": 5,
    "start_time": "2021-08-05T17:04:19.104Z"
   },
   {
    "duration": 31,
    "start_time": "2021-08-05T17:04:19.110Z"
   },
   {
    "duration": 372,
    "start_time": "2021-08-05T17:04:19.143Z"
   },
   {
    "duration": 411,
    "start_time": "2021-08-05T17:04:30.824Z"
   },
   {
    "duration": 236,
    "start_time": "2021-08-05T17:05:13.863Z"
   },
   {
    "duration": 1163,
    "start_time": "2021-08-05T17:06:05.375Z"
   },
   {
    "duration": 21,
    "start_time": "2021-08-05T17:06:06.539Z"
   },
   {
    "duration": 11,
    "start_time": "2021-08-05T17:06:06.562Z"
   },
   {
    "duration": 29,
    "start_time": "2021-08-05T17:06:06.575Z"
   },
   {
    "duration": 4,
    "start_time": "2021-08-05T17:06:06.606Z"
   },
   {
    "duration": 9,
    "start_time": "2021-08-05T17:06:06.612Z"
   },
   {
    "duration": 19,
    "start_time": "2021-08-05T17:06:06.623Z"
   },
   {
    "duration": 5,
    "start_time": "2021-08-05T17:06:06.643Z"
   },
   {
    "duration": 46,
    "start_time": "2021-08-05T17:06:06.651Z"
   },
   {
    "duration": 22,
    "start_time": "2021-08-05T17:06:06.699Z"
   },
   {
    "duration": 10,
    "start_time": "2021-08-05T17:06:06.722Z"
   },
   {
    "duration": 14,
    "start_time": "2021-08-05T17:06:06.734Z"
   },
   {
    "duration": 41,
    "start_time": "2021-08-05T17:06:06.750Z"
   },
   {
    "duration": 42,
    "start_time": "2021-08-05T17:06:06.793Z"
   },
   {
    "duration": 12,
    "start_time": "2021-08-05T17:06:06.837Z"
   },
   {
    "duration": 12,
    "start_time": "2021-08-05T17:06:06.850Z"
   },
   {
    "duration": 31,
    "start_time": "2021-08-05T17:06:06.863Z"
   },
   {
    "duration": 25,
    "start_time": "2021-08-05T17:06:06.896Z"
   },
   {
    "duration": 9,
    "start_time": "2021-08-05T17:06:06.922Z"
   },
   {
    "duration": 4,
    "start_time": "2021-08-05T17:06:06.933Z"
   },
   {
    "duration": 54,
    "start_time": "2021-08-05T17:06:06.938Z"
   },
   {
    "duration": 449,
    "start_time": "2021-08-05T17:06:06.994Z"
   },
   {
    "duration": 448,
    "start_time": "2021-08-05T17:06:29.173Z"
   },
   {
    "duration": 466,
    "start_time": "2021-08-05T17:06:40.234Z"
   },
   {
    "duration": 532,
    "start_time": "2021-08-05T17:18:37.108Z"
   },
   {
    "duration": 472,
    "start_time": "2021-08-05T17:18:51.553Z"
   },
   {
    "duration": 467,
    "start_time": "2021-08-05T17:19:15.373Z"
   },
   {
    "duration": 467,
    "start_time": "2021-08-05T17:23:39.873Z"
   },
   {
    "duration": 1496,
    "start_time": "2021-08-06T15:43:29.033Z"
   },
   {
    "duration": 34,
    "start_time": "2021-08-06T15:43:30.532Z"
   },
   {
    "duration": 21,
    "start_time": "2021-08-06T15:43:30.570Z"
   },
   {
    "duration": 43,
    "start_time": "2021-08-06T15:43:30.594Z"
   },
   {
    "duration": 7,
    "start_time": "2021-08-06T15:43:30.639Z"
   },
   {
    "duration": 42,
    "start_time": "2021-08-06T15:43:30.648Z"
   },
   {
    "duration": 51,
    "start_time": "2021-08-06T15:43:30.692Z"
   },
   {
    "duration": 7,
    "start_time": "2021-08-06T15:43:30.747Z"
   },
   {
    "duration": 41,
    "start_time": "2021-08-06T15:43:30.757Z"
   },
   {
    "duration": 35,
    "start_time": "2021-08-06T15:43:30.800Z"
   },
   {
    "duration": 14,
    "start_time": "2021-08-06T15:43:30.838Z"
   },
   {
    "duration": 54,
    "start_time": "2021-08-06T15:43:30.854Z"
   },
   {
    "duration": 20,
    "start_time": "2021-08-06T15:43:30.910Z"
   },
   {
    "duration": 92,
    "start_time": "2021-08-06T15:43:30.932Z"
   },
   {
    "duration": 22,
    "start_time": "2021-08-06T15:43:31.027Z"
   },
   {
    "duration": 37,
    "start_time": "2021-08-06T15:43:31.051Z"
   },
   {
    "duration": 11,
    "start_time": "2021-08-06T15:43:31.091Z"
   },
   {
    "duration": 62,
    "start_time": "2021-08-06T15:43:31.104Z"
   },
   {
    "duration": 24,
    "start_time": "2021-08-06T15:43:31.169Z"
   },
   {
    "duration": 7,
    "start_time": "2021-08-06T15:43:31.195Z"
   },
   {
    "duration": 52,
    "start_time": "2021-08-06T15:43:31.204Z"
   },
   {
    "duration": 922,
    "start_time": "2021-08-06T15:43:31.258Z"
   },
   {
    "duration": 22,
    "start_time": "2021-08-06T15:51:10.157Z"
   },
   {
    "duration": 22,
    "start_time": "2021-08-06T15:51:48.732Z"
   },
   {
    "duration": 23,
    "start_time": "2021-08-06T15:52:32.063Z"
   },
   {
    "duration": 23,
    "start_time": "2021-08-06T15:54:28.894Z"
   },
   {
    "duration": 8,
    "start_time": "2021-08-06T15:57:34.408Z"
   },
   {
    "duration": 528,
    "start_time": "2021-08-06T16:09:27.668Z"
   },
   {
    "duration": 31,
    "start_time": "2021-08-06T16:17:42.419Z"
   },
   {
    "duration": 24,
    "start_time": "2021-08-06T16:19:00.969Z"
   },
   {
    "duration": 36,
    "start_time": "2021-08-06T16:19:18.628Z"
   },
   {
    "duration": 1128,
    "start_time": "2021-08-06T16:22:21.032Z"
   },
   {
    "duration": 20,
    "start_time": "2021-08-06T16:22:58.185Z"
   },
   {
    "duration": 456,
    "start_time": "2021-08-06T16:29:55.285Z"
   },
   {
    "duration": 432,
    "start_time": "2021-08-06T16:30:25.050Z"
   },
   {
    "duration": 1657,
    "start_time": "2021-08-06T16:30:58.622Z"
   },
   {
    "duration": 37,
    "start_time": "2021-08-06T16:31:00.282Z"
   },
   {
    "duration": 16,
    "start_time": "2021-08-06T16:31:00.322Z"
   },
   {
    "duration": 71,
    "start_time": "2021-08-06T16:31:00.341Z"
   },
   {
    "duration": 6,
    "start_time": "2021-08-06T16:31:00.414Z"
   },
   {
    "duration": 26,
    "start_time": "2021-08-06T16:31:00.422Z"
   },
   {
    "duration": 44,
    "start_time": "2021-08-06T16:31:00.451Z"
   },
   {
    "duration": 7,
    "start_time": "2021-08-06T16:31:00.498Z"
   },
   {
    "duration": 34,
    "start_time": "2021-08-06T16:31:00.508Z"
   },
   {
    "duration": 63,
    "start_time": "2021-08-06T16:31:00.545Z"
   },
   {
    "duration": 15,
    "start_time": "2021-08-06T16:31:00.611Z"
   },
   {
    "duration": 31,
    "start_time": "2021-08-06T16:31:00.629Z"
   },
   {
    "duration": 39,
    "start_time": "2021-08-06T16:31:00.663Z"
   },
   {
    "duration": 88,
    "start_time": "2021-08-06T16:31:00.705Z"
   },
   {
    "duration": 24,
    "start_time": "2021-08-06T16:31:00.795Z"
   },
   {
    "duration": 19,
    "start_time": "2021-08-06T16:31:00.822Z"
   },
   {
    "duration": 49,
    "start_time": "2021-08-06T16:31:00.843Z"
   },
   {
    "duration": 56,
    "start_time": "2021-08-06T16:31:00.894Z"
   },
   {
    "duration": 15,
    "start_time": "2021-08-06T16:31:00.952Z"
   },
   {
    "duration": 18,
    "start_time": "2021-08-06T16:31:00.970Z"
   },
   {
    "duration": 52,
    "start_time": "2021-08-06T16:31:00.990Z"
   },
   {
    "duration": 911,
    "start_time": "2021-08-06T16:31:01.045Z"
   },
   {
    "duration": 35,
    "start_time": "2021-08-06T16:31:01.961Z"
   },
   {
    "duration": 26,
    "start_time": "2021-08-06T16:31:01.998Z"
   },
   {
    "duration": 655,
    "start_time": "2021-08-06T16:31:02.027Z"
   },
   {
    "duration": 24,
    "start_time": "2021-08-06T16:31:25.653Z"
   },
   {
    "duration": 7,
    "start_time": "2021-08-06T16:31:56.957Z"
   },
   {
    "duration": 1606,
    "start_time": "2021-08-06T16:39:36.432Z"
   },
   {
    "duration": 38,
    "start_time": "2021-08-06T16:39:38.042Z"
   },
   {
    "duration": 17,
    "start_time": "2021-08-06T16:39:38.086Z"
   },
   {
    "duration": 44,
    "start_time": "2021-08-06T16:39:38.106Z"
   },
   {
    "duration": 37,
    "start_time": "2021-08-06T16:39:38.152Z"
   },
   {
    "duration": 12,
    "start_time": "2021-08-06T16:39:38.191Z"
   },
   {
    "duration": 37,
    "start_time": "2021-08-06T16:39:38.205Z"
   },
   {
    "duration": 39,
    "start_time": "2021-08-06T16:39:38.246Z"
   },
   {
    "duration": 31,
    "start_time": "2021-08-06T16:39:38.288Z"
   },
   {
    "duration": 35,
    "start_time": "2021-08-06T16:39:38.321Z"
   },
   {
    "duration": 38,
    "start_time": "2021-08-06T16:39:38.358Z"
   },
   {
    "duration": 37,
    "start_time": "2021-08-06T16:39:38.398Z"
   },
   {
    "duration": 23,
    "start_time": "2021-08-06T16:39:38.437Z"
   },
   {
    "duration": 81,
    "start_time": "2021-08-06T16:39:38.462Z"
   },
   {
    "duration": 20,
    "start_time": "2021-08-06T16:39:38.545Z"
   },
   {
    "duration": 19,
    "start_time": "2021-08-06T16:39:38.585Z"
   },
   {
    "duration": 11,
    "start_time": "2021-08-06T16:39:38.606Z"
   },
   {
    "duration": 67,
    "start_time": "2021-08-06T16:39:38.619Z"
   },
   {
    "duration": 14,
    "start_time": "2021-08-06T16:39:38.689Z"
   },
   {
    "duration": 8,
    "start_time": "2021-08-06T16:39:38.706Z"
   },
   {
    "duration": 74,
    "start_time": "2021-08-06T16:39:38.716Z"
   },
   {
    "duration": 908,
    "start_time": "2021-08-06T16:39:38.793Z"
   },
   {
    "duration": 24,
    "start_time": "2021-08-06T16:39:39.703Z"
   },
   {
    "duration": 7,
    "start_time": "2021-08-06T16:39:39.730Z"
   },
   {
    "duration": 72,
    "start_time": "2021-08-06T16:39:39.740Z"
   },
   {
    "duration": 643,
    "start_time": "2021-08-06T16:45:28.441Z"
   },
   {
    "duration": 1610,
    "start_time": "2021-08-06T16:45:43.402Z"
   },
   {
    "duration": 36,
    "start_time": "2021-08-06T16:45:45.016Z"
   },
   {
    "duration": 30,
    "start_time": "2021-08-06T16:45:45.055Z"
   },
   {
    "duration": 48,
    "start_time": "2021-08-06T16:45:45.089Z"
   },
   {
    "duration": 7,
    "start_time": "2021-08-06T16:45:45.139Z"
   },
   {
    "duration": 42,
    "start_time": "2021-08-06T16:45:45.148Z"
   },
   {
    "duration": 36,
    "start_time": "2021-08-06T16:45:45.192Z"
   },
   {
    "duration": 7,
    "start_time": "2021-08-06T16:45:45.234Z"
   },
   {
    "duration": 66,
    "start_time": "2021-08-06T16:45:45.245Z"
   },
   {
    "duration": 39,
    "start_time": "2021-08-06T16:45:45.315Z"
   },
   {
    "duration": 39,
    "start_time": "2021-08-06T16:45:45.357Z"
   },
   {
    "duration": 23,
    "start_time": "2021-08-06T16:45:45.398Z"
   },
   {
    "duration": 27,
    "start_time": "2021-08-06T16:45:45.424Z"
   },
   {
    "duration": 107,
    "start_time": "2021-08-06T16:45:45.453Z"
   },
   {
    "duration": 33,
    "start_time": "2021-08-06T16:45:45.563Z"
   },
   {
    "duration": 22,
    "start_time": "2021-08-06T16:45:45.598Z"
   },
   {
    "duration": 12,
    "start_time": "2021-08-06T16:45:45.622Z"
   },
   {
    "duration": 80,
    "start_time": "2021-08-06T16:45:45.636Z"
   },
   {
    "duration": 16,
    "start_time": "2021-08-06T16:45:45.719Z"
   },
   {
    "duration": 11,
    "start_time": "2021-08-06T16:45:45.738Z"
   },
   {
    "duration": 77,
    "start_time": "2021-08-06T16:45:45.752Z"
   },
   {
    "duration": 946,
    "start_time": "2021-08-06T16:45:45.832Z"
   },
   {
    "duration": 24,
    "start_time": "2021-08-06T16:45:46.787Z"
   },
   {
    "duration": 4,
    "start_time": "2021-08-06T16:45:46.815Z"
   },
   {
    "duration": 72,
    "start_time": "2021-08-06T16:45:46.822Z"
   },
   {
    "duration": 20,
    "start_time": "2021-08-06T16:50:46.849Z"
   },
   {
    "duration": 1588,
    "start_time": "2021-08-06T16:51:02.454Z"
   },
   {
    "duration": 37,
    "start_time": "2021-08-06T16:51:04.045Z"
   },
   {
    "duration": 36,
    "start_time": "2021-08-06T16:51:04.087Z"
   },
   {
    "duration": 44,
    "start_time": "2021-08-06T16:51:04.126Z"
   },
   {
    "duration": 17,
    "start_time": "2021-08-06T16:51:04.172Z"
   },
   {
    "duration": 20,
    "start_time": "2021-08-06T16:51:04.191Z"
   },
   {
    "duration": 36,
    "start_time": "2021-08-06T16:51:04.213Z"
   },
   {
    "duration": 35,
    "start_time": "2021-08-06T16:51:04.252Z"
   },
   {
    "duration": 32,
    "start_time": "2021-08-06T16:51:04.290Z"
   },
   {
    "duration": 61,
    "start_time": "2021-08-06T16:51:04.325Z"
   },
   {
    "duration": 16,
    "start_time": "2021-08-06T16:51:04.388Z"
   },
   {
    "duration": 36,
    "start_time": "2021-08-06T16:51:04.406Z"
   },
   {
    "duration": 42,
    "start_time": "2021-08-06T16:51:04.444Z"
   },
   {
    "duration": 76,
    "start_time": "2021-08-06T16:51:04.488Z"
   },
   {
    "duration": 37,
    "start_time": "2021-08-06T16:51:04.566Z"
   },
   {
    "duration": 20,
    "start_time": "2021-08-06T16:51:04.605Z"
   },
   {
    "duration": 12,
    "start_time": "2021-08-06T16:51:04.627Z"
   },
   {
    "duration": 98,
    "start_time": "2021-08-06T16:51:04.641Z"
   },
   {
    "duration": 21,
    "start_time": "2021-08-06T16:51:04.743Z"
   },
   {
    "duration": 9,
    "start_time": "2021-08-06T16:51:04.784Z"
   },
   {
    "duration": 58,
    "start_time": "2021-08-06T16:51:04.796Z"
   },
   {
    "duration": 907,
    "start_time": "2021-08-06T16:51:04.856Z"
   },
   {
    "duration": 31,
    "start_time": "2021-08-06T16:51:05.767Z"
   },
   {
    "duration": 4,
    "start_time": "2021-08-06T16:51:05.801Z"
   },
   {
    "duration": 45,
    "start_time": "2021-08-06T16:51:05.807Z"
   },
   {
    "duration": 41,
    "start_time": "2021-08-06T16:51:05.854Z"
   },
   {
    "duration": 1595,
    "start_time": "2021-08-06T17:13:26.741Z"
   },
   {
    "duration": 36,
    "start_time": "2021-08-06T17:13:28.339Z"
   },
   {
    "duration": 18,
    "start_time": "2021-08-06T17:13:28.378Z"
   },
   {
    "duration": 45,
    "start_time": "2021-08-06T17:13:28.399Z"
   },
   {
    "duration": 7,
    "start_time": "2021-08-06T17:13:28.447Z"
   },
   {
    "duration": 37,
    "start_time": "2021-08-06T17:13:28.457Z"
   },
   {
    "duration": 41,
    "start_time": "2021-08-06T17:13:28.497Z"
   },
   {
    "duration": 7,
    "start_time": "2021-08-06T17:13:28.540Z"
   },
   {
    "duration": 63,
    "start_time": "2021-08-06T17:13:28.551Z"
   },
   {
    "duration": 35,
    "start_time": "2021-08-06T17:13:28.617Z"
   },
   {
    "duration": 35,
    "start_time": "2021-08-06T17:13:28.655Z"
   },
   {
    "duration": 21,
    "start_time": "2021-08-06T17:13:28.693Z"
   },
   {
    "duration": 19,
    "start_time": "2021-08-06T17:13:28.717Z"
   },
   {
    "duration": 106,
    "start_time": "2021-08-06T17:13:28.739Z"
   },
   {
    "duration": 21,
    "start_time": "2021-08-06T17:13:28.848Z"
   },
   {
    "duration": 19,
    "start_time": "2021-08-06T17:13:28.885Z"
   },
   {
    "duration": 15,
    "start_time": "2021-08-06T17:13:28.907Z"
   },
   {
    "duration": 89,
    "start_time": "2021-08-06T17:13:28.925Z"
   },
   {
    "duration": 21,
    "start_time": "2021-08-06T17:13:29.017Z"
   },
   {
    "duration": 8,
    "start_time": "2021-08-06T17:13:29.041Z"
   },
   {
    "duration": 83,
    "start_time": "2021-08-06T17:13:29.052Z"
   },
   {
    "duration": 901,
    "start_time": "2021-08-06T17:13:29.137Z"
   },
   {
    "duration": 21,
    "start_time": "2021-08-06T17:13:30.041Z"
   },
   {
    "duration": 20,
    "start_time": "2021-08-06T17:13:30.065Z"
   },
   {
    "duration": 34,
    "start_time": "2021-08-06T17:13:30.088Z"
   },
   {
    "duration": 10160,
    "start_time": "2021-08-06T17:13:30.124Z"
   },
   {
    "duration": 1567,
    "start_time": "2021-08-06T17:14:26.677Z"
   },
   {
    "duration": 37,
    "start_time": "2021-08-06T17:14:28.247Z"
   },
   {
    "duration": 14,
    "start_time": "2021-08-06T17:14:28.288Z"
   },
   {
    "duration": 44,
    "start_time": "2021-08-06T17:14:28.305Z"
   },
   {
    "duration": 37,
    "start_time": "2021-08-06T17:14:28.351Z"
   },
   {
    "duration": 14,
    "start_time": "2021-08-06T17:14:28.391Z"
   },
   {
    "duration": 38,
    "start_time": "2021-08-06T17:14:28.407Z"
   },
   {
    "duration": 7,
    "start_time": "2021-08-06T17:14:28.447Z"
   },
   {
    "duration": 33,
    "start_time": "2021-08-06T17:14:28.487Z"
   },
   {
    "duration": 62,
    "start_time": "2021-08-06T17:14:28.523Z"
   },
   {
    "duration": 15,
    "start_time": "2021-08-06T17:14:28.588Z"
   },
   {
    "duration": 23,
    "start_time": "2021-08-06T17:14:28.605Z"
   },
   {
    "duration": 55,
    "start_time": "2021-08-06T17:14:28.631Z"
   },
   {
    "duration": 71,
    "start_time": "2021-08-06T17:14:28.688Z"
   },
   {
    "duration": 39,
    "start_time": "2021-08-06T17:14:28.761Z"
   },
   {
    "duration": 20,
    "start_time": "2021-08-06T17:14:28.802Z"
   },
   {
    "duration": 11,
    "start_time": "2021-08-06T17:14:28.824Z"
   },
   {
    "duration": 80,
    "start_time": "2021-08-06T17:14:28.838Z"
   },
   {
    "duration": 16,
    "start_time": "2021-08-06T17:14:28.921Z"
   },
   {
    "duration": 8,
    "start_time": "2021-08-06T17:14:28.940Z"
   },
   {
    "duration": 106,
    "start_time": "2021-08-06T17:14:28.951Z"
   },
   {
    "duration": 925,
    "start_time": "2021-08-06T17:14:29.060Z"
   },
   {
    "duration": 23,
    "start_time": "2021-08-06T17:14:29.987Z"
   },
   {
    "duration": 4,
    "start_time": "2021-08-06T17:14:30.012Z"
   },
   {
    "duration": 44,
    "start_time": "2021-08-06T17:14:30.018Z"
   },
   {
    "duration": 1454,
    "start_time": "2021-08-06T17:14:30.085Z"
   },
   {
    "duration": 1314,
    "start_time": "2021-08-06T17:15:40.005Z"
   },
   {
    "duration": 1178,
    "start_time": "2021-08-06T17:16:03.225Z"
   },
   {
    "duration": 70,
    "start_time": "2021-08-06T17:17:00.465Z"
   },
   {
    "duration": 2010,
    "start_time": "2021-08-06T17:17:34.002Z"
   },
   {
    "duration": 35,
    "start_time": "2021-08-06T17:17:36.015Z"
   },
   {
    "duration": 27,
    "start_time": "2021-08-06T17:17:36.053Z"
   },
   {
    "duration": 53,
    "start_time": "2021-08-06T17:17:36.083Z"
   },
   {
    "duration": 8,
    "start_time": "2021-08-06T17:17:36.139Z"
   },
   {
    "duration": 38,
    "start_time": "2021-08-06T17:17:36.150Z"
   },
   {
    "duration": 44,
    "start_time": "2021-08-06T17:17:36.190Z"
   },
   {
    "duration": 7,
    "start_time": "2021-08-06T17:17:36.236Z"
   },
   {
    "duration": 54,
    "start_time": "2021-08-06T17:17:36.247Z"
   },
   {
    "duration": 36,
    "start_time": "2021-08-06T17:17:36.304Z"
   },
   {
    "duration": 15,
    "start_time": "2021-08-06T17:17:36.343Z"
   },
   {
    "duration": 22,
    "start_time": "2021-08-06T17:17:36.385Z"
   },
   {
    "duration": 21,
    "start_time": "2021-08-06T17:17:36.410Z"
   },
   {
    "duration": 116,
    "start_time": "2021-08-06T17:17:36.434Z"
   },
   {
    "duration": 34,
    "start_time": "2021-08-06T17:17:36.552Z"
   },
   {
    "duration": 23,
    "start_time": "2021-08-06T17:17:36.590Z"
   },
   {
    "duration": 10,
    "start_time": "2021-08-06T17:17:36.616Z"
   },
   {
    "duration": 79,
    "start_time": "2021-08-06T17:17:36.629Z"
   },
   {
    "duration": 18,
    "start_time": "2021-08-06T17:17:36.711Z"
   },
   {
    "duration": 17,
    "start_time": "2021-08-06T17:17:36.733Z"
   },
   {
    "duration": 95,
    "start_time": "2021-08-06T17:17:36.753Z"
   },
   {
    "duration": 920,
    "start_time": "2021-08-06T17:17:36.851Z"
   },
   {
    "duration": 33,
    "start_time": "2021-08-06T17:17:37.773Z"
   },
   {
    "duration": 4,
    "start_time": "2021-08-06T17:17:37.809Z"
   },
   {
    "duration": 39,
    "start_time": "2021-08-06T17:17:37.815Z"
   },
   {
    "duration": 88,
    "start_time": "2021-08-06T17:17:37.857Z"
   },
   {
    "duration": 79,
    "start_time": "2021-08-06T17:17:52.105Z"
   },
   {
    "duration": 1315,
    "start_time": "2021-08-06T17:19:23.076Z"
   },
   {
    "duration": 806,
    "start_time": "2021-08-06T17:20:27.816Z"
   },
   {
    "duration": 1503,
    "start_time": "2021-08-06T17:21:44.400Z"
   },
   {
    "duration": 872,
    "start_time": "2021-08-06T17:28:30.692Z"
   },
   {
    "duration": 1625,
    "start_time": "2021-08-06T17:29:02.462Z"
   },
   {
    "duration": 1574,
    "start_time": "2021-08-07T16:07:49.331Z"
   },
   {
    "duration": 35,
    "start_time": "2021-08-07T16:07:50.908Z"
   },
   {
    "duration": 30,
    "start_time": "2021-08-07T16:07:50.946Z"
   },
   {
    "duration": 45,
    "start_time": "2021-08-07T16:07:50.979Z"
   },
   {
    "duration": 7,
    "start_time": "2021-08-07T16:07:51.026Z"
   },
   {
    "duration": 39,
    "start_time": "2021-08-07T16:07:51.035Z"
   },
   {
    "duration": 35,
    "start_time": "2021-08-07T16:07:51.077Z"
   },
   {
    "duration": 9,
    "start_time": "2021-08-07T16:07:51.116Z"
   },
   {
    "duration": 58,
    "start_time": "2021-08-07T16:07:51.128Z"
   },
   {
    "duration": 35,
    "start_time": "2021-08-07T16:07:51.188Z"
   },
   {
    "duration": 13,
    "start_time": "2021-08-07T16:07:51.225Z"
   },
   {
    "duration": 23,
    "start_time": "2021-08-07T16:07:51.267Z"
   },
   {
    "duration": 21,
    "start_time": "2021-08-07T16:07:51.293Z"
   },
   {
    "duration": 98,
    "start_time": "2021-08-07T16:07:51.316Z"
   },
   {
    "duration": 21,
    "start_time": "2021-08-07T16:07:51.416Z"
   },
   {
    "duration": 39,
    "start_time": "2021-08-07T16:07:51.440Z"
   },
   {
    "duration": 12,
    "start_time": "2021-08-07T16:07:51.481Z"
   },
   {
    "duration": 71,
    "start_time": "2021-08-07T16:07:51.496Z"
   },
   {
    "duration": 14,
    "start_time": "2021-08-07T16:07:51.570Z"
   },
   {
    "duration": 6,
    "start_time": "2021-08-07T16:07:51.586Z"
   },
   {
    "duration": 76,
    "start_time": "2021-08-07T16:07:51.594Z"
   },
   {
    "duration": 1009,
    "start_time": "2021-08-07T16:07:51.672Z"
   },
   {
    "duration": 22,
    "start_time": "2021-08-07T16:07:52.685Z"
   },
   {
    "duration": 3,
    "start_time": "2021-08-07T16:07:52.710Z"
   },
   {
    "duration": 64,
    "start_time": "2021-08-07T16:07:52.716Z"
   },
   {
    "duration": 1611,
    "start_time": "2021-08-07T16:07:52.783Z"
   },
   {
    "duration": 2058,
    "start_time": "2021-08-07T16:08:35.475Z"
   },
   {
    "duration": 56,
    "start_time": "2021-08-07T16:08:37.536Z"
   },
   {
    "duration": 20,
    "start_time": "2021-08-07T16:08:37.596Z"
   },
   {
    "duration": 92,
    "start_time": "2021-08-07T16:08:37.620Z"
   },
   {
    "duration": 8,
    "start_time": "2021-08-07T16:08:37.715Z"
   },
   {
    "duration": 10,
    "start_time": "2021-08-07T16:08:37.726Z"
   },
   {
    "duration": 56,
    "start_time": "2021-08-07T16:08:37.738Z"
   },
   {
    "duration": 7,
    "start_time": "2021-08-07T16:08:37.797Z"
   },
   {
    "duration": 59,
    "start_time": "2021-08-07T16:08:37.808Z"
   },
   {
    "duration": 34,
    "start_time": "2021-08-07T16:08:37.870Z"
   },
   {
    "duration": 14,
    "start_time": "2021-08-07T16:08:37.906Z"
   },
   {
    "duration": 52,
    "start_time": "2021-08-07T16:08:37.923Z"
   },
   {
    "duration": 21,
    "start_time": "2021-08-07T16:08:37.977Z"
   },
   {
    "duration": 97,
    "start_time": "2021-08-07T16:08:38.000Z"
   },
   {
    "duration": 22,
    "start_time": "2021-08-07T16:08:38.099Z"
   },
   {
    "duration": 20,
    "start_time": "2021-08-07T16:08:38.123Z"
   },
   {
    "duration": 11,
    "start_time": "2021-08-07T16:08:38.168Z"
   },
   {
    "duration": 41,
    "start_time": "2021-08-07T16:08:38.181Z"
   },
   {
    "duration": 52,
    "start_time": "2021-08-07T16:08:38.224Z"
   },
   {
    "duration": 7,
    "start_time": "2021-08-07T16:08:38.279Z"
   },
   {
    "duration": 94,
    "start_time": "2021-08-07T16:08:38.289Z"
   },
   {
    "duration": 1480,
    "start_time": "2021-08-07T16:08:38.387Z"
   },
   {
    "duration": 34,
    "start_time": "2021-08-07T16:08:39.870Z"
   },
   {
    "duration": 5,
    "start_time": "2021-08-07T16:08:39.907Z"
   },
   {
    "duration": 81,
    "start_time": "2021-08-07T16:08:39.916Z"
   },
   {
    "duration": 2871,
    "start_time": "2021-08-07T16:08:40.001Z"
   },
   {
    "duration": 1963,
    "start_time": "2021-08-07T16:09:30.808Z"
   },
   {
    "duration": 51,
    "start_time": "2021-08-07T16:09:32.774Z"
   },
   {
    "duration": 38,
    "start_time": "2021-08-07T16:09:32.829Z"
   },
   {
    "duration": 61,
    "start_time": "2021-08-07T16:09:32.871Z"
   },
   {
    "duration": 10,
    "start_time": "2021-08-07T16:09:32.935Z"
   },
   {
    "duration": 13,
    "start_time": "2021-08-07T16:09:32.968Z"
   },
   {
    "duration": 42,
    "start_time": "2021-08-07T16:09:32.984Z"
   },
   {
    "duration": 9,
    "start_time": "2021-08-07T16:09:33.029Z"
   },
   {
    "duration": 47,
    "start_time": "2021-08-07T16:09:33.071Z"
   },
   {
    "duration": 74,
    "start_time": "2021-08-07T16:09:33.122Z"
   },
   {
    "duration": 20,
    "start_time": "2021-08-07T16:09:33.199Z"
   },
   {
    "duration": 50,
    "start_time": "2021-08-07T16:09:33.222Z"
   },
   {
    "duration": 30,
    "start_time": "2021-08-07T16:09:33.275Z"
   },
   {
    "duration": 129,
    "start_time": "2021-08-07T16:09:33.308Z"
   },
   {
    "duration": 42,
    "start_time": "2021-08-07T16:09:33.440Z"
   },
   {
    "duration": 29,
    "start_time": "2021-08-07T16:09:33.485Z"
   },
   {
    "duration": 14,
    "start_time": "2021-08-07T16:09:33.516Z"
   },
   {
    "duration": 86,
    "start_time": "2021-08-07T16:09:33.533Z"
   },
   {
    "duration": 23,
    "start_time": "2021-08-07T16:09:33.621Z"
   },
   {
    "duration": 7,
    "start_time": "2021-08-07T16:09:33.667Z"
   },
   {
    "duration": 72,
    "start_time": "2021-08-07T16:09:33.677Z"
   },
   {
    "duration": 1346,
    "start_time": "2021-08-07T16:09:33.768Z"
   },
   {
    "duration": 32,
    "start_time": "2021-08-07T16:09:35.117Z"
   },
   {
    "duration": 5,
    "start_time": "2021-08-07T16:09:35.169Z"
   },
   {
    "duration": 65,
    "start_time": "2021-08-07T16:09:35.177Z"
   },
   {
    "duration": 2296,
    "start_time": "2021-08-07T16:09:35.245Z"
   },
   {
    "duration": 1936,
    "start_time": "2021-08-07T16:10:22.268Z"
   },
   {
    "duration": 34,
    "start_time": "2021-08-07T16:10:24.206Z"
   },
   {
    "duration": 27,
    "start_time": "2021-08-07T16:10:24.244Z"
   },
   {
    "duration": 44,
    "start_time": "2021-08-07T16:10:24.273Z"
   },
   {
    "duration": 6,
    "start_time": "2021-08-07T16:10:24.319Z"
   },
   {
    "duration": 42,
    "start_time": "2021-08-07T16:10:24.327Z"
   },
   {
    "duration": 31,
    "start_time": "2021-08-07T16:10:24.371Z"
   },
   {
    "duration": 6,
    "start_time": "2021-08-07T16:10:24.406Z"
   },
   {
    "duration": 65,
    "start_time": "2021-08-07T16:10:24.416Z"
   },
   {
    "duration": 34,
    "start_time": "2021-08-07T16:10:24.484Z"
   },
   {
    "duration": 14,
    "start_time": "2021-08-07T16:10:24.522Z"
   },
   {
    "duration": 50,
    "start_time": "2021-08-07T16:10:24.538Z"
   },
   {
    "duration": 22,
    "start_time": "2021-08-07T16:10:24.590Z"
   },
   {
    "duration": 97,
    "start_time": "2021-08-07T16:10:24.615Z"
   },
   {
    "duration": 21,
    "start_time": "2021-08-07T16:10:24.714Z"
   },
   {
    "duration": 39,
    "start_time": "2021-08-07T16:10:24.738Z"
   },
   {
    "duration": 14,
    "start_time": "2021-08-07T16:10:24.780Z"
   },
   {
    "duration": 42,
    "start_time": "2021-08-07T16:10:24.797Z"
   },
   {
    "duration": 18,
    "start_time": "2021-08-07T16:10:24.868Z"
   },
   {
    "duration": 7,
    "start_time": "2021-08-07T16:10:24.889Z"
   },
   {
    "duration": 87,
    "start_time": "2021-08-07T16:10:24.899Z"
   },
   {
    "duration": 913,
    "start_time": "2021-08-07T16:10:24.989Z"
   },
   {
    "duration": 24,
    "start_time": "2021-08-07T16:10:25.907Z"
   },
   {
    "duration": 4,
    "start_time": "2021-08-07T16:10:25.934Z"
   },
   {
    "duration": 60,
    "start_time": "2021-08-07T16:10:25.941Z"
   },
   {
    "duration": 1615,
    "start_time": "2021-08-07T16:10:26.004Z"
   },
   {
    "duration": 1951,
    "start_time": "2021-08-07T16:11:09.202Z"
   },
   {
    "duration": 35,
    "start_time": "2021-08-07T16:11:11.156Z"
   },
   {
    "duration": 14,
    "start_time": "2021-08-07T16:11:11.193Z"
   },
   {
    "duration": 76,
    "start_time": "2021-08-07T16:11:11.211Z"
   },
   {
    "duration": 8,
    "start_time": "2021-08-07T16:11:11.290Z"
   },
   {
    "duration": 12,
    "start_time": "2021-08-07T16:11:11.301Z"
   },
   {
    "duration": 65,
    "start_time": "2021-08-07T16:11:11.316Z"
   },
   {
    "duration": 7,
    "start_time": "2021-08-07T16:11:11.386Z"
   },
   {
    "duration": 33,
    "start_time": "2021-08-07T16:11:11.397Z"
   },
   {
    "duration": 85,
    "start_time": "2021-08-07T16:11:11.433Z"
   },
   {
    "duration": 20,
    "start_time": "2021-08-07T16:11:11.521Z"
   },
   {
    "duration": 22,
    "start_time": "2021-08-07T16:11:11.567Z"
   },
   {
    "duration": 21,
    "start_time": "2021-08-07T16:11:11.592Z"
   },
   {
    "duration": 96,
    "start_time": "2021-08-07T16:11:11.615Z"
   },
   {
    "duration": 20,
    "start_time": "2021-08-07T16:11:11.714Z"
   },
   {
    "duration": 40,
    "start_time": "2021-08-07T16:11:11.736Z"
   },
   {
    "duration": 10,
    "start_time": "2021-08-07T16:11:11.778Z"
   },
   {
    "duration": 40,
    "start_time": "2021-08-07T16:11:11.791Z"
   },
   {
    "duration": 40,
    "start_time": "2021-08-07T16:11:11.834Z"
   },
   {
    "duration": 6,
    "start_time": "2021-08-07T16:11:11.877Z"
   },
   {
    "duration": 48,
    "start_time": "2021-08-07T16:11:11.886Z"
   },
   {
    "duration": 917,
    "start_time": "2021-08-07T16:11:11.937Z"
   },
   {
    "duration": 24,
    "start_time": "2021-08-07T16:11:12.868Z"
   },
   {
    "duration": 5,
    "start_time": "2021-08-07T16:11:12.895Z"
   },
   {
    "duration": 64,
    "start_time": "2021-08-07T16:11:12.903Z"
   },
   {
    "duration": 3195,
    "start_time": "2021-08-07T16:11:12.970Z"
   },
   {
    "duration": 2018,
    "start_time": "2021-08-07T16:11:56.600Z"
   },
   {
    "duration": 33,
    "start_time": "2021-08-07T16:11:58.621Z"
   },
   {
    "duration": 26,
    "start_time": "2021-08-07T16:11:58.657Z"
   },
   {
    "duration": 61,
    "start_time": "2021-08-07T16:11:58.687Z"
   },
   {
    "duration": 6,
    "start_time": "2021-08-07T16:11:58.766Z"
   },
   {
    "duration": 14,
    "start_time": "2021-08-07T16:11:58.774Z"
   },
   {
    "duration": 37,
    "start_time": "2021-08-07T16:11:58.791Z"
   },
   {
    "duration": 40,
    "start_time": "2021-08-07T16:11:58.831Z"
   },
   {
    "duration": 37,
    "start_time": "2021-08-07T16:11:58.874Z"
   },
   {
    "duration": 61,
    "start_time": "2021-08-07T16:11:58.913Z"
   },
   {
    "duration": 15,
    "start_time": "2021-08-07T16:11:58.976Z"
   },
   {
    "duration": 26,
    "start_time": "2021-08-07T16:11:58.993Z"
   },
   {
    "duration": 19,
    "start_time": "2021-08-07T16:11:59.021Z"
   },
   {
    "duration": 71,
    "start_time": "2021-08-07T16:11:59.067Z"
   },
   {
    "duration": 42,
    "start_time": "2021-08-07T16:11:59.141Z"
   },
   {
    "duration": 21,
    "start_time": "2021-08-07T16:11:59.185Z"
   },
   {
    "duration": 12,
    "start_time": "2021-08-07T16:11:59.208Z"
   },
   {
    "duration": 69,
    "start_time": "2021-08-07T16:11:59.222Z"
   },
   {
    "duration": 14,
    "start_time": "2021-08-07T16:11:59.294Z"
   },
   {
    "duration": 6,
    "start_time": "2021-08-07T16:11:59.310Z"
   },
   {
    "duration": 83,
    "start_time": "2021-08-07T16:11:59.318Z"
   },
   {
    "duration": 942,
    "start_time": "2021-08-07T16:11:59.404Z"
   },
   {
    "duration": 33,
    "start_time": "2021-08-07T16:12:00.350Z"
   },
   {
    "duration": 4,
    "start_time": "2021-08-07T16:12:00.386Z"
   },
   {
    "duration": 42,
    "start_time": "2021-08-07T16:12:00.392Z"
   },
   {
    "duration": 2479,
    "start_time": "2021-08-07T16:12:00.437Z"
   },
   {
    "duration": 2180,
    "start_time": "2021-08-07T16:27:16.101Z"
   },
   {
    "duration": 35,
    "start_time": "2021-08-07T16:27:18.283Z"
   },
   {
    "duration": 23,
    "start_time": "2021-08-07T16:27:18.321Z"
   },
   {
    "duration": 60,
    "start_time": "2021-08-07T16:27:18.347Z"
   },
   {
    "duration": 6,
    "start_time": "2021-08-07T16:27:18.409Z"
   },
   {
    "duration": 11,
    "start_time": "2021-08-07T16:27:18.417Z"
   },
   {
    "duration": 67,
    "start_time": "2021-08-07T16:27:18.430Z"
   },
   {
    "duration": 8,
    "start_time": "2021-08-07T16:27:18.501Z"
   },
   {
    "duration": 55,
    "start_time": "2021-08-07T16:27:18.512Z"
   },
   {
    "duration": 38,
    "start_time": "2021-08-07T16:27:18.574Z"
   },
   {
    "duration": 16,
    "start_time": "2021-08-07T16:27:18.615Z"
   },
   {
    "duration": 56,
    "start_time": "2021-08-07T16:27:18.634Z"
   },
   {
    "duration": 20,
    "start_time": "2021-08-07T16:27:18.693Z"
   },
   {
    "duration": 109,
    "start_time": "2021-08-07T16:27:18.716Z"
   },
   {
    "duration": 23,
    "start_time": "2021-08-07T16:27:18.827Z"
   },
   {
    "duration": 37,
    "start_time": "2021-08-07T16:27:18.853Z"
   },
   {
    "duration": 12,
    "start_time": "2021-08-07T16:27:18.893Z"
   },
   {
    "duration": 78,
    "start_time": "2021-08-07T16:27:18.907Z"
   },
   {
    "duration": 16,
    "start_time": "2021-08-07T16:27:18.987Z"
   },
   {
    "duration": 6,
    "start_time": "2021-08-07T16:27:19.006Z"
   },
   {
    "duration": 79,
    "start_time": "2021-08-07T16:27:19.014Z"
   },
   {
    "duration": 929,
    "start_time": "2021-08-07T16:27:19.095Z"
   },
   {
    "duration": 23,
    "start_time": "2021-08-07T16:27:20.028Z"
   },
   {
    "duration": 8,
    "start_time": "2021-08-07T16:27:20.068Z"
   },
   {
    "duration": 44,
    "start_time": "2021-08-07T16:27:20.079Z"
   },
   {
    "duration": 2434,
    "start_time": "2021-08-07T16:27:20.125Z"
   },
   {
    "duration": 1607,
    "start_time": "2021-08-07T16:28:06.081Z"
   },
   {
    "duration": 36,
    "start_time": "2021-08-07T16:28:07.692Z"
   },
   {
    "duration": 14,
    "start_time": "2021-08-07T16:28:07.731Z"
   },
   {
    "duration": 73,
    "start_time": "2021-08-07T16:28:07.748Z"
   },
   {
    "duration": 7,
    "start_time": "2021-08-07T16:28:07.823Z"
   },
   {
    "duration": 12,
    "start_time": "2021-08-07T16:28:07.833Z"
   },
   {
    "duration": 62,
    "start_time": "2021-08-07T16:28:07.847Z"
   },
   {
    "duration": 6,
    "start_time": "2021-08-07T16:28:07.913Z"
   },
   {
    "duration": 75,
    "start_time": "2021-08-07T16:28:07.922Z"
   },
   {
    "duration": 34,
    "start_time": "2021-08-07T16:28:07.999Z"
   },
   {
    "duration": 14,
    "start_time": "2021-08-07T16:28:08.035Z"
   },
   {
    "duration": 28,
    "start_time": "2021-08-07T16:28:08.068Z"
   },
   {
    "duration": 19,
    "start_time": "2021-08-07T16:28:08.099Z"
   },
   {
    "duration": 104,
    "start_time": "2021-08-07T16:28:08.120Z"
   },
   {
    "duration": 20,
    "start_time": "2021-08-07T16:28:08.227Z"
   },
   {
    "duration": 44,
    "start_time": "2021-08-07T16:28:08.249Z"
   },
   {
    "duration": 11,
    "start_time": "2021-08-07T16:28:08.296Z"
   },
   {
    "duration": 72,
    "start_time": "2021-08-07T16:28:08.309Z"
   },
   {
    "duration": 21,
    "start_time": "2021-08-07T16:28:08.384Z"
   },
   {
    "duration": 6,
    "start_time": "2021-08-07T16:28:08.407Z"
   },
   {
    "duration": 84,
    "start_time": "2021-08-07T16:28:08.415Z"
   },
   {
    "duration": 1007,
    "start_time": "2021-08-07T16:28:08.502Z"
   },
   {
    "duration": 24,
    "start_time": "2021-08-07T16:28:09.513Z"
   },
   {
    "duration": 4,
    "start_time": "2021-08-07T16:28:09.540Z"
   },
   {
    "duration": 46,
    "start_time": "2021-08-07T16:28:09.570Z"
   },
   {
    "duration": 1815,
    "start_time": "2021-08-07T16:28:09.619Z"
   },
   {
    "duration": 8,
    "start_time": "2021-08-07T16:34:42.348Z"
   },
   {
    "duration": 1517,
    "start_time": "2021-08-07T16:38:26.799Z"
   },
   {
    "duration": 35,
    "start_time": "2021-08-07T16:38:28.319Z"
   },
   {
    "duration": 23,
    "start_time": "2021-08-07T16:38:28.357Z"
   },
   {
    "duration": 45,
    "start_time": "2021-08-07T16:38:28.383Z"
   },
   {
    "duration": 6,
    "start_time": "2021-08-07T16:38:28.430Z"
   },
   {
    "duration": 49,
    "start_time": "2021-08-07T16:38:28.438Z"
   },
   {
    "duration": 35,
    "start_time": "2021-08-07T16:38:28.490Z"
   },
   {
    "duration": 8,
    "start_time": "2021-08-07T16:38:28.529Z"
   },
   {
    "duration": 61,
    "start_time": "2021-08-07T16:38:28.540Z"
   },
   {
    "duration": 35,
    "start_time": "2021-08-07T16:38:28.603Z"
   },
   {
    "duration": 36,
    "start_time": "2021-08-07T16:38:28.641Z"
   },
   {
    "duration": 30,
    "start_time": "2021-08-07T16:38:28.679Z"
   },
   {
    "duration": 20,
    "start_time": "2021-08-07T16:38:28.711Z"
   },
   {
    "duration": 104,
    "start_time": "2021-08-07T16:38:28.733Z"
   },
   {
    "duration": 40,
    "start_time": "2021-08-07T16:38:28.840Z"
   },
   {
    "duration": 23,
    "start_time": "2021-08-07T16:38:28.883Z"
   },
   {
    "duration": 10,
    "start_time": "2021-08-07T16:38:28.908Z"
   },
   {
    "duration": 72,
    "start_time": "2021-08-07T16:38:28.920Z"
   },
   {
    "duration": 18,
    "start_time": "2021-08-07T16:38:28.994Z"
   },
   {
    "duration": 8,
    "start_time": "2021-08-07T16:38:29.015Z"
   },
   {
    "duration": 85,
    "start_time": "2021-08-07T16:38:29.025Z"
   },
   {
    "duration": 1077,
    "start_time": "2021-08-07T16:38:29.112Z"
   },
   {
    "duration": 23,
    "start_time": "2021-08-07T16:38:30.197Z"
   },
   {
    "duration": 4,
    "start_time": "2021-08-07T16:38:30.222Z"
   },
   {
    "duration": 64,
    "start_time": "2021-08-07T16:38:30.228Z"
   },
   {
    "duration": 3432,
    "start_time": "2021-08-07T16:38:30.295Z"
   },
   {
    "duration": 8,
    "start_time": "2021-08-07T16:38:33.729Z"
   },
   {
    "duration": 1592,
    "start_time": "2021-08-07T16:40:16.494Z"
   },
   {
    "duration": 36,
    "start_time": "2021-08-07T16:40:18.089Z"
   },
   {
    "duration": 15,
    "start_time": "2021-08-07T16:40:18.128Z"
   },
   {
    "duration": 64,
    "start_time": "2021-08-07T16:40:18.146Z"
   },
   {
    "duration": 7,
    "start_time": "2021-08-07T16:40:18.212Z"
   },
   {
    "duration": 10,
    "start_time": "2021-08-07T16:40:18.221Z"
   },
   {
    "duration": 72,
    "start_time": "2021-08-07T16:40:18.234Z"
   },
   {
    "duration": 6,
    "start_time": "2021-08-07T16:40:18.308Z"
   },
   {
    "duration": 57,
    "start_time": "2021-08-07T16:40:18.318Z"
   },
   {
    "duration": 40,
    "start_time": "2021-08-07T16:40:18.378Z"
   },
   {
    "duration": 15,
    "start_time": "2021-08-07T16:40:18.421Z"
   },
   {
    "duration": 49,
    "start_time": "2021-08-07T16:40:18.439Z"
   },
   {
    "duration": 22,
    "start_time": "2021-08-07T16:40:18.492Z"
   },
   {
    "duration": 92,
    "start_time": "2021-08-07T16:40:18.516Z"
   },
   {
    "duration": 21,
    "start_time": "2021-08-07T16:40:18.611Z"
   },
   {
    "duration": 50,
    "start_time": "2021-08-07T16:40:18.634Z"
   },
   {
    "duration": 11,
    "start_time": "2021-08-07T16:40:18.686Z"
   },
   {
    "duration": 42,
    "start_time": "2021-08-07T16:40:18.699Z"
   },
   {
    "duration": 43,
    "start_time": "2021-08-07T16:40:18.743Z"
   },
   {
    "duration": 9,
    "start_time": "2021-08-07T16:40:18.793Z"
   },
   {
    "duration": 73,
    "start_time": "2021-08-07T16:40:18.804Z"
   },
   {
    "duration": 945,
    "start_time": "2021-08-07T16:40:18.883Z"
   },
   {
    "duration": 22,
    "start_time": "2021-08-07T16:40:19.830Z"
   },
   {
    "duration": 13,
    "start_time": "2021-08-07T16:40:19.868Z"
   },
   {
    "duration": 3332,
    "start_time": "2021-08-07T16:40:19.883Z"
   },
   {
    "duration": 7,
    "start_time": "2021-08-07T16:40:23.218Z"
   },
   {
    "duration": 78,
    "start_time": "2021-08-07T17:04:02.849Z"
   },
   {
    "duration": 6581,
    "start_time": "2021-08-07T17:04:28.676Z"
   },
   {
    "duration": 1479,
    "start_time": "2021-08-07T17:04:45.133Z"
   },
   {
    "duration": 44,
    "start_time": "2021-08-07T17:04:46.614Z"
   },
   {
    "duration": 16,
    "start_time": "2021-08-07T17:04:46.661Z"
   },
   {
    "duration": 50,
    "start_time": "2021-08-07T17:04:46.681Z"
   },
   {
    "duration": 6,
    "start_time": "2021-08-07T17:04:46.734Z"
   },
   {
    "duration": 27,
    "start_time": "2021-08-07T17:04:46.766Z"
   },
   {
    "duration": 47,
    "start_time": "2021-08-07T17:04:46.795Z"
   },
   {
    "duration": 7,
    "start_time": "2021-08-07T17:04:46.844Z"
   },
   {
    "duration": 42,
    "start_time": "2021-08-07T17:04:46.855Z"
   },
   {
    "duration": 39,
    "start_time": "2021-08-07T17:04:46.900Z"
   },
   {
    "duration": 35,
    "start_time": "2021-08-07T17:04:46.942Z"
   },
   {
    "duration": 25,
    "start_time": "2021-08-07T17:04:46.980Z"
   },
   {
    "duration": 20,
    "start_time": "2021-08-07T17:04:47.007Z"
   },
   {
    "duration": 104,
    "start_time": "2021-08-07T17:04:47.030Z"
   },
   {
    "duration": 20,
    "start_time": "2021-08-07T17:04:47.137Z"
   },
   {
    "duration": 25,
    "start_time": "2021-08-07T17:04:47.169Z"
   },
   {
    "duration": 11,
    "start_time": "2021-08-07T17:04:47.197Z"
   },
   {
    "duration": 73,
    "start_time": "2021-08-07T17:04:47.210Z"
   },
   {
    "duration": 14,
    "start_time": "2021-08-07T17:04:47.285Z"
   },
   {
    "duration": 20,
    "start_time": "2021-08-07T17:04:47.301Z"
   },
   {
    "duration": 69,
    "start_time": "2021-08-07T17:04:47.323Z"
   },
   {
    "duration": 946,
    "start_time": "2021-08-07T17:04:47.395Z"
   },
   {
    "duration": 40,
    "start_time": "2021-08-07T17:04:48.343Z"
   },
   {
    "duration": 10,
    "start_time": "2021-08-07T17:04:48.385Z"
   },
   {
    "duration": 3194,
    "start_time": "2021-08-07T17:04:48.397Z"
   },
   {
    "duration": 6843,
    "start_time": "2021-08-07T17:04:51.594Z"
   },
   {
    "duration": 1517,
    "start_time": "2021-08-07T17:06:05.394Z"
   },
   {
    "duration": 34,
    "start_time": "2021-08-07T17:06:06.914Z"
   },
   {
    "duration": 21,
    "start_time": "2021-08-07T17:06:06.951Z"
   },
   {
    "duration": 44,
    "start_time": "2021-08-07T17:06:06.974Z"
   },
   {
    "duration": 6,
    "start_time": "2021-08-07T17:06:07.021Z"
   },
   {
    "duration": 47,
    "start_time": "2021-08-07T17:06:07.030Z"
   },
   {
    "duration": 33,
    "start_time": "2021-08-07T17:06:07.086Z"
   },
   {
    "duration": 7,
    "start_time": "2021-08-07T17:06:07.123Z"
   },
   {
    "duration": 58,
    "start_time": "2021-08-07T17:06:07.133Z"
   },
   {
    "duration": 34,
    "start_time": "2021-08-07T17:06:07.194Z"
   },
   {
    "duration": 47,
    "start_time": "2021-08-07T17:06:07.230Z"
   },
   {
    "duration": 24,
    "start_time": "2021-08-07T17:06:07.280Z"
   },
   {
    "duration": 21,
    "start_time": "2021-08-07T17:06:07.307Z"
   },
   {
    "duration": 101,
    "start_time": "2021-08-07T17:06:07.331Z"
   },
   {
    "duration": 46,
    "start_time": "2021-08-07T17:06:07.435Z"
   },
   {
    "duration": 20,
    "start_time": "2021-08-07T17:06:07.483Z"
   },
   {
    "duration": 10,
    "start_time": "2021-08-07T17:06:07.506Z"
   },
   {
    "duration": 73,
    "start_time": "2021-08-07T17:06:07.518Z"
   },
   {
    "duration": 14,
    "start_time": "2021-08-07T17:06:07.594Z"
   },
   {
    "duration": 6,
    "start_time": "2021-08-07T17:06:07.611Z"
   },
   {
    "duration": 79,
    "start_time": "2021-08-07T17:06:07.619Z"
   },
   {
    "duration": 1036,
    "start_time": "2021-08-07T17:06:07.701Z"
   },
   {
    "duration": 41,
    "start_time": "2021-08-07T17:06:08.741Z"
   },
   {
    "duration": 10,
    "start_time": "2021-08-07T17:06:08.785Z"
   },
   {
    "duration": 3286,
    "start_time": "2021-08-07T17:06:08.798Z"
   },
   {
    "duration": 2157,
    "start_time": "2021-08-07T17:06:12.087Z"
   },
   {
    "duration": 1849,
    "start_time": "2021-08-07T17:08:21.661Z"
   },
   {
    "duration": 2494,
    "start_time": "2021-08-07T17:12:57.969Z"
   },
   {
    "duration": 2054,
    "start_time": "2021-08-07T17:19:01.628Z"
   },
   {
    "duration": 781,
    "start_time": "2021-08-07T17:19:34.041Z"
   },
   {
    "duration": 1757,
    "start_time": "2021-08-07T17:20:39.079Z"
   },
   {
    "duration": 1779,
    "start_time": "2021-08-07T17:21:11.473Z"
   },
   {
    "duration": 1832,
    "start_time": "2021-08-07T17:21:29.329Z"
   },
   {
    "duration": 1789,
    "start_time": "2021-08-07T17:21:36.491Z"
   },
   {
    "duration": 1595,
    "start_time": "2021-08-07T17:21:47.822Z"
   },
   {
    "duration": 36,
    "start_time": "2021-08-07T17:21:49.419Z"
   },
   {
    "duration": 27,
    "start_time": "2021-08-07T17:21:49.458Z"
   },
   {
    "duration": 44,
    "start_time": "2021-08-07T17:21:49.488Z"
   },
   {
    "duration": 7,
    "start_time": "2021-08-07T17:21:49.534Z"
   },
   {
    "duration": 14,
    "start_time": "2021-08-07T17:21:49.567Z"
   },
   {
    "duration": 36,
    "start_time": "2021-08-07T17:21:49.584Z"
   },
   {
    "duration": 7,
    "start_time": "2021-08-07T17:21:49.622Z"
   },
   {
    "duration": 42,
    "start_time": "2021-08-07T17:21:49.670Z"
   },
   {
    "duration": 68,
    "start_time": "2021-08-07T17:21:49.716Z"
   },
   {
    "duration": 23,
    "start_time": "2021-08-07T17:21:49.787Z"
   },
   {
    "duration": 31,
    "start_time": "2021-08-07T17:21:49.812Z"
   },
   {
    "duration": 41,
    "start_time": "2021-08-07T17:21:49.845Z"
   },
   {
    "duration": 94,
    "start_time": "2021-08-07T17:21:49.890Z"
   },
   {
    "duration": 24,
    "start_time": "2021-08-07T17:21:49.987Z"
   },
   {
    "duration": 18,
    "start_time": "2021-08-07T17:21:50.014Z"
   },
   {
    "duration": 42,
    "start_time": "2021-08-07T17:21:50.035Z"
   },
   {
    "duration": 50,
    "start_time": "2021-08-07T17:21:50.080Z"
   },
   {
    "duration": 40,
    "start_time": "2021-08-07T17:21:50.133Z"
   },
   {
    "duration": 16,
    "start_time": "2021-08-07T17:21:50.177Z"
   },
   {
    "duration": 70,
    "start_time": "2021-08-07T17:21:50.197Z"
   },
   {
    "duration": 1037,
    "start_time": "2021-08-07T17:21:50.271Z"
   },
   {
    "duration": 22,
    "start_time": "2021-08-07T17:21:51.310Z"
   },
   {
    "duration": 9,
    "start_time": "2021-08-07T17:21:51.336Z"
   },
   {
    "duration": 3465,
    "start_time": "2021-08-07T17:21:51.347Z"
   },
   {
    "duration": 1899,
    "start_time": "2021-08-07T17:21:54.815Z"
   },
   {
    "duration": 836,
    "start_time": "2021-08-07T17:23:24.068Z"
   },
   {
    "duration": 6,
    "start_time": "2021-08-07T17:41:38.931Z"
   },
   {
    "duration": 53,
    "start_time": "2021-08-07T17:41:57.932Z"
   },
   {
    "duration": 31,
    "start_time": "2021-08-07T17:43:36.804Z"
   },
   {
    "duration": 15,
    "start_time": "2021-08-07T17:46:39.295Z"
   },
   {
    "duration": 8500,
    "start_time": "2021-08-07T17:50:41.973Z"
   },
   {
    "duration": 3849,
    "start_time": "2021-08-07T17:51:00.189Z"
   },
   {
    "duration": 238,
    "start_time": "2021-08-07T17:52:03.623Z"
   },
   {
    "duration": 3970,
    "start_time": "2021-08-07T17:52:14.583Z"
   },
   {
    "duration": 399,
    "start_time": "2021-08-07T17:53:13.638Z"
   },
   {
    "duration": 5,
    "start_time": "2021-08-07T17:54:44.702Z"
   },
   {
    "duration": 3724,
    "start_time": "2021-08-07T17:56:24.461Z"
   },
   {
    "duration": 3898,
    "start_time": "2021-08-07T17:57:03.069Z"
   },
   {
    "duration": 3803,
    "start_time": "2021-08-07T17:57:15.961Z"
   },
   {
    "duration": 104,
    "start_time": "2021-08-07T17:58:13.252Z"
   },
   {
    "duration": 3860,
    "start_time": "2021-08-07T17:58:22.067Z"
   },
   {
    "duration": 3876,
    "start_time": "2021-08-07T18:29:53.125Z"
   },
   {
    "duration": 24,
    "start_time": "2021-08-07T18:30:41.792Z"
   },
   {
    "duration": 3805,
    "start_time": "2021-08-07T18:30:50.063Z"
   },
   {
    "duration": 18,
    "start_time": "2021-08-07T18:35:13.888Z"
   },
   {
    "duration": 4546,
    "start_time": "2021-08-07T18:36:04.594Z"
   },
   {
    "duration": 20,
    "start_time": "2021-08-07T18:36:42.888Z"
   },
   {
    "duration": 21,
    "start_time": "2021-08-07T18:40:39.179Z"
   },
   {
    "duration": 243,
    "start_time": "2021-08-07T18:41:18.209Z"
   },
   {
    "duration": 291,
    "start_time": "2021-08-07T18:41:43.265Z"
   },
   {
    "duration": 1857,
    "start_time": "2021-08-07T18:42:19.370Z"
   },
   {
    "duration": 36,
    "start_time": "2021-08-07T18:42:21.229Z"
   },
   {
    "duration": 21,
    "start_time": "2021-08-07T18:42:21.268Z"
   },
   {
    "duration": 42,
    "start_time": "2021-08-07T18:42:21.293Z"
   },
   {
    "duration": 33,
    "start_time": "2021-08-07T18:42:21.338Z"
   },
   {
    "duration": 10,
    "start_time": "2021-08-07T18:42:21.376Z"
   },
   {
    "duration": 37,
    "start_time": "2021-08-07T18:42:21.389Z"
   },
   {
    "duration": 6,
    "start_time": "2021-08-07T18:42:21.429Z"
   },
   {
    "duration": 38,
    "start_time": "2021-08-07T18:42:21.466Z"
   },
   {
    "duration": 65,
    "start_time": "2021-08-07T18:42:21.507Z"
   },
   {
    "duration": 21,
    "start_time": "2021-08-07T18:42:21.575Z"
   },
   {
    "duration": 24,
    "start_time": "2021-08-07T18:42:21.599Z"
   },
   {
    "duration": 58,
    "start_time": "2021-08-07T18:42:21.626Z"
   },
   {
    "duration": 85,
    "start_time": "2021-08-07T18:42:21.687Z"
   },
   {
    "duration": 23,
    "start_time": "2021-08-07T18:42:21.775Z"
   },
   {
    "duration": 19,
    "start_time": "2021-08-07T18:42:21.800Z"
   },
   {
    "duration": 52,
    "start_time": "2021-08-07T18:42:21.821Z"
   },
   {
    "duration": 43,
    "start_time": "2021-08-07T18:42:21.876Z"
   },
   {
    "duration": 16,
    "start_time": "2021-08-07T18:42:21.921Z"
   },
   {
    "duration": 27,
    "start_time": "2021-08-07T18:42:21.940Z"
   },
   {
    "duration": 56,
    "start_time": "2021-08-07T18:42:21.969Z"
   },
   {
    "duration": 984,
    "start_time": "2021-08-07T18:42:22.028Z"
   },
   {
    "duration": 23,
    "start_time": "2021-08-07T18:42:23.016Z"
   },
   {
    "duration": 26,
    "start_time": "2021-08-07T18:42:23.042Z"
   },
   {
    "duration": 3383,
    "start_time": "2021-08-07T18:42:23.070Z"
   },
   {
    "duration": 844,
    "start_time": "2021-08-07T18:42:26.455Z"
   },
   {
    "duration": 17,
    "start_time": "2021-08-07T18:42:27.302Z"
   },
   {
    "duration": 3909,
    "start_time": "2021-08-07T18:42:27.322Z"
   },
   {
    "duration": 35,
    "start_time": "2021-08-07T18:42:31.234Z"
   },
   {
    "duration": 3925,
    "start_time": "2021-08-07T18:42:31.272Z"
   },
   {
    "duration": 19,
    "start_time": "2021-08-07T18:42:35.200Z"
   },
   {
    "duration": 3977,
    "start_time": "2021-08-07T18:42:35.222Z"
   },
   {
    "duration": 415,
    "start_time": "2021-08-07T18:42:39.202Z"
   },
   {
    "duration": -1811,
    "start_time": "2021-08-07T18:42:41.430Z"
   },
   {
    "duration": 269,
    "start_time": "2021-08-07T18:43:02.180Z"
   },
   {
    "duration": 22,
    "start_time": "2021-08-07T18:43:38.222Z"
   },
   {
    "duration": 249,
    "start_time": "2021-08-07T18:43:43.075Z"
   },
   {
    "duration": 1521,
    "start_time": "2021-08-07T18:43:53.889Z"
   },
   {
    "duration": 35,
    "start_time": "2021-08-07T18:43:55.413Z"
   },
   {
    "duration": 29,
    "start_time": "2021-08-07T18:43:55.450Z"
   },
   {
    "duration": 44,
    "start_time": "2021-08-07T18:43:55.482Z"
   },
   {
    "duration": 6,
    "start_time": "2021-08-07T18:43:55.528Z"
   },
   {
    "duration": 14,
    "start_time": "2021-08-07T18:43:55.571Z"
   },
   {
    "duration": 31,
    "start_time": "2021-08-07T18:43:55.589Z"
   },
   {
    "duration": 8,
    "start_time": "2021-08-07T18:43:55.626Z"
   },
   {
    "duration": 47,
    "start_time": "2021-08-07T18:43:55.668Z"
   },
   {
    "duration": 73,
    "start_time": "2021-08-07T18:43:55.717Z"
   },
   {
    "duration": 17,
    "start_time": "2021-08-07T18:43:55.793Z"
   },
   {
    "duration": 22,
    "start_time": "2021-08-07T18:43:55.812Z"
   },
   {
    "duration": 56,
    "start_time": "2021-08-07T18:43:55.837Z"
   },
   {
    "duration": 91,
    "start_time": "2021-08-07T18:43:55.895Z"
   },
   {
    "duration": 24,
    "start_time": "2021-08-07T18:43:55.988Z"
   },
   {
    "duration": 20,
    "start_time": "2021-08-07T18:43:56.014Z"
   },
   {
    "duration": 48,
    "start_time": "2021-08-07T18:43:56.036Z"
   },
   {
    "duration": 39,
    "start_time": "2021-08-07T18:43:56.087Z"
   },
   {
    "duration": 46,
    "start_time": "2021-08-07T18:43:56.128Z"
   },
   {
    "duration": 9,
    "start_time": "2021-08-07T18:43:56.176Z"
   },
   {
    "duration": 53,
    "start_time": "2021-08-07T18:43:56.188Z"
   },
   {
    "duration": 944,
    "start_time": "2021-08-07T18:43:56.244Z"
   },
   {
    "duration": 22,
    "start_time": "2021-08-07T18:43:57.193Z"
   },
   {
    "duration": 10,
    "start_time": "2021-08-07T18:43:57.218Z"
   },
   {
    "duration": 3311,
    "start_time": "2021-08-07T18:43:57.230Z"
   },
   {
    "duration": 884,
    "start_time": "2021-08-07T18:44:00.544Z"
   },
   {
    "duration": 17,
    "start_time": "2021-08-07T18:44:01.431Z"
   },
   {
    "duration": 4244,
    "start_time": "2021-08-07T18:44:01.471Z"
   },
   {
    "duration": 19,
    "start_time": "2021-08-07T18:44:05.718Z"
   },
   {
    "duration": 3999,
    "start_time": "2021-08-07T18:44:05.739Z"
   },
   {
    "duration": 41,
    "start_time": "2021-08-07T18:44:09.740Z"
   },
   {
    "duration": 4254,
    "start_time": "2021-08-07T18:44:09.783Z"
   },
   {
    "duration": 31,
    "start_time": "2021-08-07T18:44:14.040Z"
   },
   {
    "duration": 365,
    "start_time": "2021-08-07T18:44:14.080Z"
   },
   {
    "duration": 4397,
    "start_time": "2021-08-07T18:44:35.243Z"
   },
   {
    "duration": 8,
    "start_time": "2021-08-07T19:00:29.814Z"
   },
   {
    "duration": 196,
    "start_time": "2021-08-07T19:06:51.597Z"
   },
   {
    "duration": 648,
    "start_time": "2021-08-07T19:11:26.911Z"
   },
   {
    "duration": 203,
    "start_time": "2021-08-07T19:23:07.428Z"
   },
   {
    "duration": 638,
    "start_time": "2021-08-07T19:23:14.286Z"
   },
   {
    "duration": 1612,
    "start_time": "2021-08-08T05:35:49.319Z"
   },
   {
    "duration": 39,
    "start_time": "2021-08-08T05:35:50.934Z"
   },
   {
    "duration": 18,
    "start_time": "2021-08-08T05:35:50.986Z"
   },
   {
    "duration": 45,
    "start_time": "2021-08-08T05:35:51.008Z"
   },
   {
    "duration": 34,
    "start_time": "2021-08-08T05:35:51.055Z"
   },
   {
    "duration": 15,
    "start_time": "2021-08-08T05:35:51.091Z"
   },
   {
    "duration": 42,
    "start_time": "2021-08-08T05:35:51.109Z"
   },
   {
    "duration": 7,
    "start_time": "2021-08-08T05:35:51.154Z"
   },
   {
    "duration": 35,
    "start_time": "2021-08-08T05:35:51.187Z"
   },
   {
    "duration": 14,
    "start_time": "2021-08-08T05:35:51.225Z"
   },
   {
    "duration": 53,
    "start_time": "2021-08-08T05:35:51.241Z"
   },
   {
    "duration": 20,
    "start_time": "2021-08-08T05:35:51.297Z"
   },
   {
    "duration": 95,
    "start_time": "2021-08-08T05:35:51.320Z"
   },
   {
    "duration": 20,
    "start_time": "2021-08-08T05:35:51.418Z"
   },
   {
    "duration": 26,
    "start_time": "2021-08-08T05:35:51.442Z"
   },
   {
    "duration": 12,
    "start_time": "2021-08-08T05:35:51.486Z"
   },
   {
    "duration": 46,
    "start_time": "2021-08-08T05:35:51.500Z"
   },
   {
    "duration": 104,
    "start_time": "2021-08-08T05:35:51.548Z"
   },
   {
    "duration": 54,
    "start_time": "2021-08-08T05:35:51.655Z"
   },
   {
    "duration": 91,
    "start_time": "2021-08-08T05:35:51.712Z"
   },
   {
    "duration": 894,
    "start_time": "2021-08-08T05:35:51.806Z"
   },
   {
    "duration": 23,
    "start_time": "2021-08-08T05:35:52.703Z"
   },
   {
    "duration": 21,
    "start_time": "2021-08-08T05:35:52.730Z"
   },
   {
    "duration": 3294,
    "start_time": "2021-08-08T05:35:52.754Z"
   },
   {
    "duration": 838,
    "start_time": "2021-08-08T05:35:56.051Z"
   },
   {
    "duration": 19,
    "start_time": "2021-08-08T05:35:56.892Z"
   },
   {
    "duration": 3826,
    "start_time": "2021-08-08T05:35:56.914Z"
   },
   {
    "duration": 17,
    "start_time": "2021-08-08T05:36:00.743Z"
   },
   {
    "duration": 3717,
    "start_time": "2021-08-08T05:36:00.763Z"
   },
   {
    "duration": 20,
    "start_time": "2021-08-08T05:36:04.486Z"
   },
   {
    "duration": 3917,
    "start_time": "2021-08-08T05:36:04.508Z"
   },
   {
    "duration": 17,
    "start_time": "2021-08-08T05:36:08.427Z"
   },
   {
    "duration": 3882,
    "start_time": "2021-08-08T05:36:08.446Z"
   },
   {
    "duration": 214,
    "start_time": "2021-08-08T05:36:12.330Z"
   },
   {
    "duration": 607,
    "start_time": "2021-08-08T05:36:12.546Z"
   },
   {
    "duration": 31,
    "start_time": "2021-08-08T06:01:38.468Z"
   },
   {
    "duration": 590,
    "start_time": "2021-08-08T06:09:36.424Z"
   },
   {
    "duration": 56,
    "start_time": "2021-08-08T06:10:09.394Z"
   },
   {
    "duration": 65,
    "start_time": "2021-08-08T06:10:40.333Z"
   },
   {
    "duration": 74,
    "start_time": "2021-08-08T06:32:17.788Z"
   },
   {
    "duration": 75,
    "start_time": "2021-08-08T06:45:37.418Z"
   },
   {
    "duration": 44,
    "start_time": "2021-08-08T07:27:59.947Z"
   },
   {
    "duration": 47,
    "start_time": "2021-08-08T07:28:18.986Z"
   },
   {
    "duration": 68,
    "start_time": "2021-08-08T07:28:37.093Z"
   },
   {
    "duration": 1079,
    "start_time": "2021-08-08T07:57:08.152Z"
   },
   {
    "duration": 1696,
    "start_time": "2021-08-08T07:57:22.940Z"
   },
   {
    "duration": 35,
    "start_time": "2021-08-08T07:57:24.639Z"
   },
   {
    "duration": 27,
    "start_time": "2021-08-08T07:57:24.677Z"
   },
   {
    "duration": 46,
    "start_time": "2021-08-08T07:57:24.708Z"
   },
   {
    "duration": 33,
    "start_time": "2021-08-08T07:57:24.756Z"
   },
   {
    "duration": 12,
    "start_time": "2021-08-08T07:57:24.791Z"
   },
   {
    "duration": 34,
    "start_time": "2021-08-08T07:57:24.807Z"
   },
   {
    "duration": 7,
    "start_time": "2021-08-08T07:57:24.845Z"
   },
   {
    "duration": 39,
    "start_time": "2021-08-08T07:57:24.892Z"
   },
   {
    "duration": 14,
    "start_time": "2021-08-08T07:57:24.934Z"
   },
   {
    "duration": 58,
    "start_time": "2021-08-08T07:57:24.951Z"
   },
   {
    "duration": 29,
    "start_time": "2021-08-08T07:57:25.012Z"
   },
   {
    "duration": 119,
    "start_time": "2021-08-08T07:57:25.045Z"
   },
   {
    "duration": 26,
    "start_time": "2021-08-08T07:57:25.167Z"
   },
   {
    "duration": 27,
    "start_time": "2021-08-08T07:57:25.196Z"
   },
   {
    "duration": 14,
    "start_time": "2021-08-08T07:57:25.226Z"
   },
   {
    "duration": 71,
    "start_time": "2021-08-08T07:57:25.243Z"
   },
   {
    "duration": 17,
    "start_time": "2021-08-08T07:57:25.317Z"
   },
   {
    "duration": 6,
    "start_time": "2021-08-08T07:57:25.337Z"
   },
   {
    "duration": 86,
    "start_time": "2021-08-08T07:57:25.345Z"
   },
   {
    "duration": 1019,
    "start_time": "2021-08-08T07:57:25.433Z"
   },
   {
    "duration": 45,
    "start_time": "2021-08-08T07:57:26.455Z"
   },
   {
    "duration": 14,
    "start_time": "2021-08-08T07:57:26.507Z"
   },
   {
    "duration": 3347,
    "start_time": "2021-08-08T07:57:26.525Z"
   },
   {
    "duration": 1131,
    "start_time": "2021-08-08T07:57:29.875Z"
   },
   {
    "duration": 26,
    "start_time": "2021-08-08T07:57:31.010Z"
   },
   {
    "duration": 4341,
    "start_time": "2021-08-08T07:57:31.040Z"
   },
   {
    "duration": 22,
    "start_time": "2021-08-08T07:57:35.386Z"
   },
   {
    "duration": 4025,
    "start_time": "2021-08-08T07:57:35.412Z"
   },
   {
    "duration": 20,
    "start_time": "2021-08-08T07:57:39.441Z"
   },
   {
    "duration": 4057,
    "start_time": "2021-08-08T07:57:39.485Z"
   },
   {
    "duration": 16,
    "start_time": "2021-08-08T07:57:43.545Z"
   },
   {
    "duration": 4258,
    "start_time": "2021-08-08T07:57:43.564Z"
   },
   {
    "duration": 224,
    "start_time": "2021-08-08T07:57:47.824Z"
   },
   {
    "duration": 603,
    "start_time": "2021-08-08T07:57:48.051Z"
   },
   {
    "duration": 62,
    "start_time": "2021-08-08T07:57:48.657Z"
   },
   {
    "duration": 70,
    "start_time": "2021-08-08T07:57:48.722Z"
   },
   {
    "duration": 40,
    "start_time": "2021-08-08T07:57:48.795Z"
   },
   {
    "duration": 1146,
    "start_time": "2021-08-08T07:57:48.837Z"
   },
   {
    "duration": -210,
    "start_time": "2021-08-08T07:57:50.197Z"
   },
   {
    "duration": 1028,
    "start_time": "2021-08-08T07:59:14.178Z"
   },
   {
    "duration": 1138,
    "start_time": "2021-08-08T07:59:40.354Z"
   },
   {
    "duration": 430,
    "start_time": "2021-08-08T08:01:05.815Z"
   },
   {
    "duration": 421,
    "start_time": "2021-08-08T08:01:22.115Z"
   },
   {
    "duration": 485,
    "start_time": "2021-08-08T08:13:50.127Z"
   },
   {
    "duration": 418,
    "start_time": "2021-08-08T08:14:35.040Z"
   },
   {
    "duration": 14,
    "start_time": "2021-08-08T08:14:46.917Z"
   },
   {
    "duration": 17,
    "start_time": "2021-08-08T08:15:00.120Z"
   },
   {
    "duration": 10,
    "start_time": "2021-08-08T08:15:12.709Z"
   },
   {
    "duration": 489,
    "start_time": "2021-08-08T08:15:43.894Z"
   },
   {
    "duration": 12,
    "start_time": "2021-08-08T08:15:50.884Z"
   },
   {
    "duration": 10,
    "start_time": "2021-08-08T08:18:07.949Z"
   },
   {
    "duration": 680,
    "start_time": "2021-08-08T08:22:05.201Z"
   },
   {
    "duration": 1614,
    "start_time": "2021-08-08T08:22:44.081Z"
   },
   {
    "duration": 42,
    "start_time": "2021-08-08T08:22:45.697Z"
   },
   {
    "duration": 14,
    "start_time": "2021-08-08T08:22:45.743Z"
   },
   {
    "duration": 71,
    "start_time": "2021-08-08T08:22:45.760Z"
   },
   {
    "duration": 7,
    "start_time": "2021-08-08T08:22:45.833Z"
   },
   {
    "duration": 13,
    "start_time": "2021-08-08T08:22:45.843Z"
   },
   {
    "duration": 39,
    "start_time": "2021-08-08T08:22:45.885Z"
   },
   {
    "duration": 7,
    "start_time": "2021-08-08T08:22:45.929Z"
   },
   {
    "duration": 79,
    "start_time": "2021-08-08T08:22:45.941Z"
   },
   {
    "duration": 13,
    "start_time": "2021-08-08T08:22:46.023Z"
   },
   {
    "duration": 23,
    "start_time": "2021-08-08T08:22:46.038Z"
   },
   {
    "duration": 45,
    "start_time": "2021-08-08T08:22:46.064Z"
   },
   {
    "duration": 91,
    "start_time": "2021-08-08T08:22:46.111Z"
   },
   {
    "duration": 19,
    "start_time": "2021-08-08T08:22:46.205Z"
   },
   {
    "duration": 20,
    "start_time": "2021-08-08T08:22:46.227Z"
   },
   {
    "duration": 45,
    "start_time": "2021-08-08T08:22:46.250Z"
   },
   {
    "duration": 49,
    "start_time": "2021-08-08T08:22:46.298Z"
   },
   {
    "duration": 15,
    "start_time": "2021-08-08T08:22:46.350Z"
   },
   {
    "duration": 12,
    "start_time": "2021-08-08T08:22:46.386Z"
   },
   {
    "duration": 50,
    "start_time": "2021-08-08T08:22:46.401Z"
   },
   {
    "duration": 921,
    "start_time": "2021-08-08T08:22:46.453Z"
   },
   {
    "duration": 29,
    "start_time": "2021-08-08T08:22:47.377Z"
   },
   {
    "duration": 10,
    "start_time": "2021-08-08T08:22:47.412Z"
   },
   {
    "duration": 3213,
    "start_time": "2021-08-08T08:22:47.424Z"
   },
   {
    "duration": 866,
    "start_time": "2021-08-08T08:22:50.640Z"
   },
   {
    "duration": 17,
    "start_time": "2021-08-08T08:22:51.509Z"
   },
   {
    "duration": 3883,
    "start_time": "2021-08-08T08:22:51.528Z"
   },
   {
    "duration": 17,
    "start_time": "2021-08-08T08:22:55.413Z"
   },
   {
    "duration": 3874,
    "start_time": "2021-08-08T08:22:55.432Z"
   },
   {
    "duration": 19,
    "start_time": "2021-08-08T08:22:59.308Z"
   },
   {
    "duration": 3920,
    "start_time": "2021-08-08T08:22:59.329Z"
   },
   {
    "duration": 16,
    "start_time": "2021-08-08T08:23:03.251Z"
   },
   {
    "duration": 4224,
    "start_time": "2021-08-08T08:23:03.270Z"
   },
   {
    "duration": 215,
    "start_time": "2021-08-08T08:23:07.497Z"
   },
   {
    "duration": 607,
    "start_time": "2021-08-08T08:23:07.714Z"
   },
   {
    "duration": 43,
    "start_time": "2021-08-08T08:23:08.324Z"
   },
   {
    "duration": 51,
    "start_time": "2021-08-08T08:23:08.386Z"
   },
   {
    "duration": 71,
    "start_time": "2021-08-08T08:23:08.439Z"
   },
   {
    "duration": 10,
    "start_time": "2021-08-08T08:23:08.513Z"
   },
   {
    "duration": 18,
    "start_time": "2021-08-08T08:23:08.525Z"
   },
   {
    "duration": 9,
    "start_time": "2021-08-08T08:23:08.546Z"
   },
   {
    "duration": 8,
    "start_time": "2021-08-08T08:25:35.846Z"
   },
   {
    "duration": 13,
    "start_time": "2021-08-08T08:26:20.679Z"
   },
   {
    "duration": 12,
    "start_time": "2021-08-08T08:26:40.823Z"
   },
   {
    "duration": 149,
    "start_time": "2021-08-08T08:31:35.461Z"
   },
   {
    "duration": 126,
    "start_time": "2021-08-08T08:32:57.345Z"
   },
   {
    "duration": 14,
    "start_time": "2021-08-08T08:35:02.851Z"
   },
   {
    "duration": 13,
    "start_time": "2021-08-08T08:35:56.555Z"
   },
   {
    "duration": 6,
    "start_time": "2021-08-08T08:36:42.404Z"
   },
   {
    "duration": 16,
    "start_time": "2021-08-08T08:37:08.194Z"
   },
   {
    "duration": 12,
    "start_time": "2021-08-08T08:37:26.685Z"
   },
   {
    "duration": 20,
    "start_time": "2021-08-08T08:58:11.864Z"
   },
   {
    "duration": 1968,
    "start_time": "2021-08-08T09:05:09.624Z"
   },
   {
    "duration": 40,
    "start_time": "2021-08-08T09:05:11.596Z"
   },
   {
    "duration": 22,
    "start_time": "2021-08-08T09:05:11.641Z"
   },
   {
    "duration": 59,
    "start_time": "2021-08-08T09:05:11.689Z"
   },
   {
    "duration": 7,
    "start_time": "2021-08-08T09:05:11.751Z"
   },
   {
    "duration": 36,
    "start_time": "2021-08-08T09:05:11.761Z"
   },
   {
    "duration": 34,
    "start_time": "2021-08-08T09:05:11.800Z"
   },
   {
    "duration": 7,
    "start_time": "2021-08-08T09:05:11.839Z"
   },
   {
    "duration": 85,
    "start_time": "2021-08-08T09:05:11.850Z"
   },
   {
    "duration": 23,
    "start_time": "2021-08-08T09:05:11.939Z"
   },
   {
    "duration": 49,
    "start_time": "2021-08-08T09:05:11.965Z"
   },
   {
    "duration": 20,
    "start_time": "2021-08-08T09:05:12.017Z"
   },
   {
    "duration": 139,
    "start_time": "2021-08-08T09:05:12.039Z"
   },
   {
    "duration": 27,
    "start_time": "2021-08-08T09:05:12.181Z"
   },
   {
    "duration": 20,
    "start_time": "2021-08-08T09:05:12.210Z"
   },
   {
    "duration": 22,
    "start_time": "2021-08-08T09:05:12.233Z"
   },
   {
    "duration": 82,
    "start_time": "2021-08-08T09:05:12.258Z"
   },
   {
    "duration": 15,
    "start_time": "2021-08-08T09:05:12.342Z"
   },
   {
    "duration": 29,
    "start_time": "2021-08-08T09:05:12.359Z"
   },
   {
    "duration": 99,
    "start_time": "2021-08-08T09:05:12.390Z"
   },
   {
    "duration": 944,
    "start_time": "2021-08-08T09:05:12.492Z"
   },
   {
    "duration": 23,
    "start_time": "2021-08-08T09:05:13.438Z"
   },
   {
    "duration": 27,
    "start_time": "2021-08-08T09:05:13.466Z"
   },
   {
    "duration": 3546,
    "start_time": "2021-08-08T09:05:13.499Z"
   },
   {
    "duration": 1030,
    "start_time": "2021-08-08T09:05:17.048Z"
   },
   {
    "duration": 24,
    "start_time": "2021-08-08T09:05:18.081Z"
   },
   {
    "duration": 4283,
    "start_time": "2021-08-08T09:05:18.107Z"
   },
   {
    "duration": 24,
    "start_time": "2021-08-08T09:05:22.393Z"
   },
   {
    "duration": 4323,
    "start_time": "2021-08-08T09:05:22.419Z"
   },
   {
    "duration": 20,
    "start_time": "2021-08-08T09:05:26.745Z"
   },
   {
    "duration": 4189,
    "start_time": "2021-08-08T09:05:26.791Z"
   },
   {
    "duration": 21,
    "start_time": "2021-08-08T09:05:30.985Z"
   },
   {
    "duration": 4235,
    "start_time": "2021-08-08T09:05:31.008Z"
   },
   {
    "duration": 221,
    "start_time": "2021-08-08T09:05:35.245Z"
   },
   {
    "duration": 611,
    "start_time": "2021-08-08T09:05:35.469Z"
   },
   {
    "duration": 46,
    "start_time": "2021-08-08T09:05:36.087Z"
   },
   {
    "duration": 75,
    "start_time": "2021-08-08T09:05:36.136Z"
   },
   {
    "duration": 45,
    "start_time": "2021-08-08T09:05:36.214Z"
   },
   {
    "duration": 38,
    "start_time": "2021-08-08T09:05:36.263Z"
   },
   {
    "duration": 24,
    "start_time": "2021-08-08T09:05:36.304Z"
   },
   {
    "duration": 22,
    "start_time": "2021-08-08T09:05:36.330Z"
   },
   {
    "duration": 20,
    "start_time": "2021-08-08T09:05:36.355Z"
   },
   {
    "duration": 19,
    "start_time": "2021-08-08T09:05:36.386Z"
   },
   {
    "duration": 15,
    "start_time": "2021-08-08T09:05:36.408Z"
   },
   {
    "duration": 1151,
    "start_time": "2021-08-09T04:11:48.183Z"
   },
   {
    "duration": 19,
    "start_time": "2021-08-09T04:11:49.336Z"
   },
   {
    "duration": 11,
    "start_time": "2021-08-09T04:11:49.360Z"
   },
   {
    "duration": 27,
    "start_time": "2021-08-09T04:11:49.384Z"
   },
   {
    "duration": 5,
    "start_time": "2021-08-09T04:11:49.413Z"
   },
   {
    "duration": 7,
    "start_time": "2021-08-09T04:11:49.420Z"
   },
   {
    "duration": 19,
    "start_time": "2021-08-09T04:11:49.430Z"
   },
   {
    "duration": 34,
    "start_time": "2021-08-09T04:11:49.451Z"
   },
   {
    "duration": 25,
    "start_time": "2021-08-09T04:11:49.487Z"
   },
   {
    "duration": 11,
    "start_time": "2021-08-09T04:11:49.513Z"
   },
   {
    "duration": 15,
    "start_time": "2021-08-09T04:11:49.526Z"
   },
   {
    "duration": 46,
    "start_time": "2021-08-09T04:11:49.543Z"
   },
   {
    "duration": 45,
    "start_time": "2021-08-09T04:11:49.591Z"
   },
   {
    "duration": 14,
    "start_time": "2021-08-09T04:11:49.637Z"
   },
   {
    "duration": 38,
    "start_time": "2021-08-09T04:11:49.653Z"
   },
   {
    "duration": 8,
    "start_time": "2021-08-09T04:11:49.693Z"
   },
   {
    "duration": 27,
    "start_time": "2021-08-09T04:11:49.703Z"
   },
   {
    "duration": 11,
    "start_time": "2021-08-09T04:11:49.732Z"
   },
   {
    "duration": 4,
    "start_time": "2021-08-09T04:11:49.745Z"
   },
   {
    "duration": 59,
    "start_time": "2021-08-09T04:11:49.751Z"
   },
   {
    "duration": 548,
    "start_time": "2021-08-09T04:11:49.811Z"
   },
   {
    "duration": 23,
    "start_time": "2021-08-09T04:11:50.364Z"
   },
   {
    "duration": 7,
    "start_time": "2021-08-09T04:11:50.389Z"
   },
   {
    "duration": 1878,
    "start_time": "2021-08-09T04:11:50.398Z"
   },
   {
    "duration": 506,
    "start_time": "2021-08-09T04:11:52.277Z"
   },
   {
    "duration": 12,
    "start_time": "2021-08-09T04:11:52.785Z"
   },
   {
    "duration": 2434,
    "start_time": "2021-08-09T04:11:52.798Z"
   },
   {
    "duration": 11,
    "start_time": "2021-08-09T04:11:55.234Z"
   },
   {
    "duration": 2414,
    "start_time": "2021-08-09T04:11:55.247Z"
   },
   {
    "duration": 22,
    "start_time": "2021-08-09T04:11:57.663Z"
   },
   {
    "duration": 2336,
    "start_time": "2021-08-09T04:11:57.686Z"
   },
   {
    "duration": 12,
    "start_time": "2021-08-09T04:12:00.024Z"
   },
   {
    "duration": 2492,
    "start_time": "2021-08-09T04:12:00.038Z"
   },
   {
    "duration": 144,
    "start_time": "2021-08-09T04:12:02.532Z"
   },
   {
    "duration": 362,
    "start_time": "2021-08-09T04:12:02.684Z"
   },
   {
    "duration": 40,
    "start_time": "2021-08-09T04:12:03.047Z"
   },
   {
    "duration": 28,
    "start_time": "2021-08-09T04:12:03.089Z"
   },
   {
    "duration": 26,
    "start_time": "2021-08-09T04:12:03.119Z"
   },
   {
    "duration": 7,
    "start_time": "2021-08-09T04:12:03.147Z"
   },
   {
    "duration": 34,
    "start_time": "2021-08-09T04:12:03.156Z"
   },
   {
    "duration": 6,
    "start_time": "2021-08-09T04:12:03.192Z"
   },
   {
    "duration": 8,
    "start_time": "2021-08-09T04:12:03.199Z"
   },
   {
    "duration": 8,
    "start_time": "2021-08-09T04:12:03.209Z"
   },
   {
    "duration": 5,
    "start_time": "2021-08-09T04:12:03.218Z"
   },
   {
    "duration": 39,
    "start_time": "2021-08-09T04:12:11.793Z"
   },
   {
    "duration": 1068,
    "start_time": "2021-08-09T04:12:17.834Z"
   },
   {
    "duration": 16,
    "start_time": "2021-08-09T04:12:18.903Z"
   },
   {
    "duration": 10,
    "start_time": "2021-08-09T04:12:18.921Z"
   },
   {
    "duration": 27,
    "start_time": "2021-08-09T04:12:18.933Z"
   },
   {
    "duration": 24,
    "start_time": "2021-08-09T04:12:18.962Z"
   },
   {
    "duration": 8,
    "start_time": "2021-08-09T04:12:18.987Z"
   },
   {
    "duration": 23,
    "start_time": "2021-08-09T04:12:18.997Z"
   },
   {
    "duration": 4,
    "start_time": "2021-08-09T04:12:19.023Z"
   },
   {
    "duration": 24,
    "start_time": "2021-08-09T04:12:19.029Z"
   },
   {
    "duration": 37,
    "start_time": "2021-08-09T04:12:19.055Z"
   },
   {
    "duration": 14,
    "start_time": "2021-08-09T04:12:19.094Z"
   },
   {
    "duration": 13,
    "start_time": "2021-08-09T04:12:19.110Z"
   },
   {
    "duration": 65,
    "start_time": "2021-08-09T04:12:19.124Z"
   },
   {
    "duration": 13,
    "start_time": "2021-08-09T04:12:19.190Z"
   },
   {
    "duration": 13,
    "start_time": "2021-08-09T04:12:19.204Z"
   },
   {
    "duration": 7,
    "start_time": "2021-08-09T04:12:19.219Z"
   },
   {
    "duration": 26,
    "start_time": "2021-08-09T04:12:19.227Z"
   },
   {
    "duration": 38,
    "start_time": "2021-08-09T04:12:19.255Z"
   },
   {
    "duration": 4,
    "start_time": "2021-08-09T04:12:19.295Z"
   },
   {
    "duration": 35,
    "start_time": "2021-08-09T04:12:19.301Z"
   },
   {
    "duration": 552,
    "start_time": "2021-08-09T04:12:19.338Z"
   },
   {
    "duration": 15,
    "start_time": "2021-08-09T04:12:19.891Z"
   },
   {
    "duration": 6,
    "start_time": "2021-08-09T04:12:19.909Z"
   },
   {
    "duration": 1903,
    "start_time": "2021-08-09T04:12:19.917Z"
   },
   {
    "duration": 519,
    "start_time": "2021-08-09T04:12:21.821Z"
   },
   {
    "duration": 12,
    "start_time": "2021-08-09T04:12:22.341Z"
   },
   {
    "duration": 2455,
    "start_time": "2021-08-09T04:12:22.354Z"
   },
   {
    "duration": 13,
    "start_time": "2021-08-09T04:12:24.811Z"
   },
   {
    "duration": 2475,
    "start_time": "2021-08-09T04:12:24.825Z"
   },
   {
    "duration": 12,
    "start_time": "2021-08-09T04:12:27.301Z"
   },
   {
    "duration": 2379,
    "start_time": "2021-08-09T04:12:27.315Z"
   },
   {
    "duration": 11,
    "start_time": "2021-08-09T04:12:29.695Z"
   },
   {
    "duration": 2408,
    "start_time": "2021-08-09T04:12:29.707Z"
   },
   {
    "duration": 138,
    "start_time": "2021-08-09T04:12:32.117Z"
   },
   {
    "duration": 345,
    "start_time": "2021-08-09T04:12:32.257Z"
   },
   {
    "duration": 25,
    "start_time": "2021-08-09T04:12:32.604Z"
   },
   {
    "duration": 23,
    "start_time": "2021-08-09T04:12:32.631Z"
   },
   {
    "duration": 48,
    "start_time": "2021-08-09T04:12:32.655Z"
   },
   {
    "duration": 6,
    "start_time": "2021-08-09T04:12:32.705Z"
   },
   {
    "duration": 9,
    "start_time": "2021-08-09T04:12:32.712Z"
   },
   {
    "duration": 5,
    "start_time": "2021-08-09T04:12:32.722Z"
   },
   {
    "duration": 11,
    "start_time": "2021-08-09T04:12:32.728Z"
   },
   {
    "duration": 6,
    "start_time": "2021-08-09T04:12:32.741Z"
   },
   {
    "duration": 5,
    "start_time": "2021-08-09T04:12:32.748Z"
   },
   {
    "duration": 26,
    "start_time": "2021-08-09T04:31:23.256Z"
   },
   {
    "duration": 18,
    "start_time": "2021-08-09T04:39:08.361Z"
   },
   {
    "duration": 4970,
    "start_time": "2021-08-09T04:40:46.400Z"
   },
   {
    "duration": 20,
    "start_time": "2021-08-09T04:41:03.903Z"
   },
   {
    "duration": 20,
    "start_time": "2021-08-09T04:41:53.660Z"
   },
   {
    "duration": 541,
    "start_time": "2021-08-09T04:46:24.998Z"
   },
   {
    "duration": 180,
    "start_time": "2021-08-09T04:50:36.322Z"
   },
   {
    "duration": 193,
    "start_time": "2021-08-09T04:50:41.198Z"
   },
   {
    "duration": 424,
    "start_time": "2021-08-09T04:50:47.693Z"
   },
   {
    "duration": 5,
    "start_time": "2021-08-09T04:51:33.679Z"
   },
   {
    "duration": 434,
    "start_time": "2021-08-09T04:51:39.783Z"
   },
   {
    "duration": 34,
    "start_time": "2021-08-09T04:52:04.136Z"
   },
   {
    "duration": 38,
    "start_time": "2021-08-09T04:52:17.008Z"
   },
   {
    "duration": 16,
    "start_time": "2021-08-09T04:52:17.619Z"
   },
   {
    "duration": 12,
    "start_time": "2021-08-09T04:52:17.793Z"
   },
   {
    "duration": 29,
    "start_time": "2021-08-09T04:52:17.969Z"
   },
   {
    "duration": 5,
    "start_time": "2021-08-09T04:52:18.173Z"
   },
   {
    "duration": 8,
    "start_time": "2021-08-09T04:52:18.349Z"
   },
   {
    "duration": 21,
    "start_time": "2021-08-09T04:52:18.566Z"
   },
   {
    "duration": 5,
    "start_time": "2021-08-09T04:52:18.826Z"
   },
   {
    "duration": 23,
    "start_time": "2021-08-09T04:52:20.517Z"
   },
   {
    "duration": 10,
    "start_time": "2021-08-09T04:52:20.712Z"
   },
   {
    "duration": 16,
    "start_time": "2021-08-09T04:52:20.923Z"
   },
   {
    "duration": 16,
    "start_time": "2021-08-09T04:52:21.158Z"
   },
   {
    "duration": 44,
    "start_time": "2021-08-09T04:52:22.147Z"
   },
   {
    "duration": 16,
    "start_time": "2021-08-09T04:52:23.065Z"
   },
   {
    "duration": 15,
    "start_time": "2021-08-09T04:52:23.662Z"
   },
   {
    "duration": 9,
    "start_time": "2021-08-09T04:52:24.377Z"
   },
   {
    "duration": 28,
    "start_time": "2021-08-09T04:52:25.438Z"
   },
   {
    "duration": 12,
    "start_time": "2021-08-09T04:52:27.338Z"
   },
   {
    "duration": 5,
    "start_time": "2021-08-09T04:52:28.113Z"
   },
   {
    "duration": 34,
    "start_time": "2021-08-09T04:52:29.931Z"
   },
   {
    "duration": 645,
    "start_time": "2021-08-09T04:52:44.423Z"
   },
   {
    "duration": 413,
    "start_time": "2021-08-09T04:52:46.977Z"
   },
   {
    "duration": 5,
    "start_time": "2021-08-09T04:53:44.222Z"
   },
   {
    "duration": 34,
    "start_time": "2021-08-09T04:53:45.626Z"
   },
   {
    "duration": 521,
    "start_time": "2021-08-09T04:53:53.039Z"
   },
   {
    "duration": 415,
    "start_time": "2021-08-09T04:53:57.896Z"
   },
   {
    "duration": 179,
    "start_time": "2021-08-09T04:54:46.020Z"
   },
   {
    "duration": 5,
    "start_time": "2021-08-09T04:55:02.082Z"
   },
   {
    "duration": 37,
    "start_time": "2021-08-09T04:55:04.418Z"
   },
   {
    "duration": 4,
    "start_time": "2021-08-09T04:55:24.335Z"
   },
   {
    "duration": 5,
    "start_time": "2021-08-09T04:55:24.699Z"
   },
   {
    "duration": 38,
    "start_time": "2021-08-09T04:55:26.106Z"
   },
   {
    "duration": 466,
    "start_time": "2021-08-09T04:55:33.222Z"
   },
   {
    "duration": 17,
    "start_time": "2021-08-09T04:55:44.663Z"
   },
   {
    "duration": 4,
    "start_time": "2021-08-09T04:57:11.481Z"
   },
   {
    "duration": 37,
    "start_time": "2021-08-09T04:57:12.580Z"
   },
   {
    "duration": 7,
    "start_time": "2021-08-09T04:58:12.491Z"
   },
   {
    "duration": 7,
    "start_time": "2021-08-09T04:58:46.351Z"
   },
   {
    "duration": 35,
    "start_time": "2021-08-09T04:59:48.861Z"
   },
   {
    "duration": 16,
    "start_time": "2021-08-09T04:59:49.273Z"
   },
   {
    "duration": 10,
    "start_time": "2021-08-09T04:59:49.421Z"
   },
   {
    "duration": 29,
    "start_time": "2021-08-09T04:59:49.595Z"
   },
   {
    "duration": 5,
    "start_time": "2021-08-09T04:59:49.766Z"
   },
   {
    "duration": 7,
    "start_time": "2021-08-09T04:59:49.931Z"
   },
   {
    "duration": 19,
    "start_time": "2021-08-09T04:59:50.146Z"
   },
   {
    "duration": 5,
    "start_time": "2021-08-09T04:59:50.371Z"
   },
   {
    "duration": 23,
    "start_time": "2021-08-09T04:59:52.045Z"
   },
   {
    "duration": 11,
    "start_time": "2021-08-09T04:59:52.356Z"
   },
   {
    "duration": 15,
    "start_time": "2021-08-09T04:59:52.725Z"
   },
   {
    "duration": 14,
    "start_time": "2021-08-09T04:59:53.097Z"
   },
   {
    "duration": 37,
    "start_time": "2021-08-09T04:59:53.777Z"
   },
   {
    "duration": 14,
    "start_time": "2021-08-09T04:59:54.736Z"
   },
   {
    "duration": 13,
    "start_time": "2021-08-09T04:59:54.952Z"
   },
   {
    "duration": 8,
    "start_time": "2021-08-09T04:59:55.160Z"
   },
   {
    "duration": 26,
    "start_time": "2021-08-09T04:59:55.940Z"
   },
   {
    "duration": 11,
    "start_time": "2021-08-09T04:59:56.984Z"
   },
   {
    "duration": 4,
    "start_time": "2021-08-09T04:59:57.795Z"
   },
   {
    "duration": 31,
    "start_time": "2021-08-09T04:59:58.945Z"
   },
   {
    "duration": 690,
    "start_time": "2021-08-09T05:00:04.552Z"
   },
   {
    "duration": 16,
    "start_time": "2021-08-09T05:00:11.056Z"
   },
   {
    "duration": 8,
    "start_time": "2021-08-09T05:00:18.895Z"
   },
   {
    "duration": 41,
    "start_time": "2021-08-09T05:00:53.623Z"
   },
   {
    "duration": 13,
    "start_time": "2021-08-09T05:00:54.213Z"
   },
   {
    "duration": 14,
    "start_time": "2021-08-09T05:00:54.407Z"
   },
   {
    "duration": 8,
    "start_time": "2021-08-09T05:00:54.582Z"
   },
   {
    "duration": 26,
    "start_time": "2021-08-09T05:00:54.917Z"
   },
   {
    "duration": 11,
    "start_time": "2021-08-09T05:00:55.336Z"
   },
   {
    "duration": 4,
    "start_time": "2021-08-09T05:00:55.563Z"
   },
   {
    "duration": 33,
    "start_time": "2021-08-09T05:00:56.846Z"
   },
   {
    "duration": 509,
    "start_time": "2021-08-09T05:00:59.063Z"
   },
   {
    "duration": 16,
    "start_time": "2021-08-09T05:01:02.778Z"
   },
   {
    "duration": 37,
    "start_time": "2021-08-09T05:02:19.727Z"
   },
   {
    "duration": 15,
    "start_time": "2021-08-09T05:02:20.260Z"
   },
   {
    "duration": 11,
    "start_time": "2021-08-09T05:02:20.707Z"
   },
   {
    "duration": 28,
    "start_time": "2021-08-09T05:02:20.920Z"
   },
   {
    "duration": 5,
    "start_time": "2021-08-09T05:02:21.090Z"
   },
   {
    "duration": 7,
    "start_time": "2021-08-09T05:02:21.281Z"
   },
   {
    "duration": 21,
    "start_time": "2021-08-09T05:02:21.524Z"
   },
   {
    "duration": 5,
    "start_time": "2021-08-09T05:02:23.362Z"
   },
   {
    "duration": 21,
    "start_time": "2021-08-09T05:02:25.674Z"
   },
   {
    "duration": 11,
    "start_time": "2021-08-09T05:02:25.939Z"
   },
   {
    "duration": 15,
    "start_time": "2021-08-09T05:02:26.261Z"
   },
   {
    "duration": 14,
    "start_time": "2021-08-09T05:02:26.595Z"
   },
   {
    "duration": 37,
    "start_time": "2021-08-09T05:02:27.870Z"
   },
   {
    "duration": 14,
    "start_time": "2021-08-09T05:02:28.951Z"
   },
   {
    "duration": 14,
    "start_time": "2021-08-09T05:02:29.160Z"
   },
   {
    "duration": 8,
    "start_time": "2021-08-09T05:02:29.486Z"
   },
   {
    "duration": 26,
    "start_time": "2021-08-09T05:02:29.929Z"
   },
   {
    "duration": 11,
    "start_time": "2021-08-09T05:02:30.410Z"
   },
   {
    "duration": 5,
    "start_time": "2021-08-09T05:02:30.716Z"
   },
   {
    "duration": 34,
    "start_time": "2021-08-09T05:02:31.685Z"
   },
   {
    "duration": 704,
    "start_time": "2021-08-09T05:02:33.776Z"
   },
   {
    "duration": 16,
    "start_time": "2021-08-09T05:02:43.657Z"
   },
   {
    "duration": 9,
    "start_time": "2021-08-09T05:02:44.744Z"
   },
   {
    "duration": 36,
    "start_time": "2021-08-09T05:03:41.577Z"
   },
   {
    "duration": 15,
    "start_time": "2021-08-09T05:03:42.001Z"
   },
   {
    "duration": 11,
    "start_time": "2021-08-09T05:03:42.288Z"
   },
   {
    "duration": 30,
    "start_time": "2021-08-09T05:03:42.562Z"
   },
   {
    "duration": 5,
    "start_time": "2021-08-09T05:03:42.896Z"
   },
   {
    "duration": 7,
    "start_time": "2021-08-09T05:03:43.398Z"
   },
   {
    "duration": 391,
    "start_time": "2021-08-09T05:03:47.666Z"
   },
   {
    "duration": 5,
    "start_time": "2021-08-09T05:03:58.757Z"
   },
   {
    "duration": 23,
    "start_time": "2021-08-09T05:04:02.787Z"
   },
   {
    "duration": 11,
    "start_time": "2021-08-09T05:04:03.779Z"
   },
   {
    "duration": 15,
    "start_time": "2021-08-09T05:04:06.436Z"
   },
   {
    "duration": 14,
    "start_time": "2021-08-09T05:04:12.607Z"
   },
   {
    "duration": 40,
    "start_time": "2021-08-09T05:04:19.088Z"
   },
   {
    "duration": 6,
    "start_time": "2021-08-09T05:04:31.115Z"
   },
   {
    "duration": 13,
    "start_time": "2021-08-09T05:04:49.963Z"
   },
   {
    "duration": 13,
    "start_time": "2021-08-09T05:04:57.805Z"
   },
   {
    "duration": 8,
    "start_time": "2021-08-09T05:04:58.275Z"
   },
   {
    "duration": 26,
    "start_time": "2021-08-09T05:05:02.331Z"
   },
   {
    "duration": 13,
    "start_time": "2021-08-09T05:05:17.719Z"
   },
   {
    "duration": 4,
    "start_time": "2021-08-09T05:05:22.469Z"
   },
   {
    "duration": 36,
    "start_time": "2021-08-09T05:05:23.943Z"
   },
   {
    "duration": 531,
    "start_time": "2021-08-09T05:05:30.810Z"
   },
   {
    "duration": 15,
    "start_time": "2021-08-09T05:05:37.075Z"
   },
   {
    "duration": 8,
    "start_time": "2021-08-09T05:05:38.093Z"
   },
   {
    "duration": 36,
    "start_time": "2021-08-09T05:06:26.781Z"
   },
   {
    "duration": 52,
    "start_time": "2021-08-09T05:06:33.300Z"
   },
   {
    "duration": 51,
    "start_time": "2021-08-09T05:07:17.859Z"
   },
   {
    "duration": 233,
    "start_time": "2021-08-09T05:07:32.445Z"
   },
   {
    "duration": 67,
    "start_time": "2021-08-09T05:07:35.836Z"
   },
   {
    "duration": 74,
    "start_time": "2021-08-09T05:10:02.159Z"
   },
   {
    "duration": 66,
    "start_time": "2021-08-09T05:10:13.116Z"
   },
   {
    "duration": 46,
    "start_time": "2021-08-09T05:10:55.795Z"
   },
   {
    "duration": 48,
    "start_time": "2021-08-09T05:11:09.754Z"
   },
   {
    "duration": 1578,
    "start_time": "2021-08-09T14:29:05.607Z"
   },
   {
    "duration": 29,
    "start_time": "2021-08-09T14:29:07.189Z"
   },
   {
    "duration": 32,
    "start_time": "2021-08-09T14:29:07.222Z"
   },
   {
    "duration": 44,
    "start_time": "2021-08-09T14:29:07.258Z"
   },
   {
    "duration": 8,
    "start_time": "2021-08-09T14:29:07.305Z"
   },
   {
    "duration": 45,
    "start_time": "2021-08-09T14:29:07.316Z"
   },
   {
    "duration": 35,
    "start_time": "2021-08-09T14:29:07.364Z"
   },
   {
    "duration": 7,
    "start_time": "2021-08-09T14:29:07.401Z"
   },
   {
    "duration": 70,
    "start_time": "2021-08-09T14:29:07.412Z"
   },
   {
    "duration": 16,
    "start_time": "2021-08-09T14:29:07.486Z"
   },
   {
    "duration": 52,
    "start_time": "2021-08-09T14:29:07.506Z"
   },
   {
    "duration": 20,
    "start_time": "2021-08-09T14:29:07.561Z"
   },
   {
    "duration": 98,
    "start_time": "2021-08-09T14:29:07.583Z"
   },
   {
    "duration": 20,
    "start_time": "2021-08-09T14:29:07.683Z"
   },
   {
    "duration": 18,
    "start_time": "2021-08-09T14:29:07.706Z"
   },
   {
    "duration": 34,
    "start_time": "2021-08-09T14:29:07.726Z"
   },
   {
    "duration": 40,
    "start_time": "2021-08-09T14:29:07.763Z"
   },
   {
    "duration": 14,
    "start_time": "2021-08-09T14:29:07.806Z"
   },
   {
    "duration": 32,
    "start_time": "2021-08-09T14:29:07.822Z"
   },
   {
    "duration": 64,
    "start_time": "2021-08-09T14:29:07.857Z"
   },
   {
    "duration": 989,
    "start_time": "2021-08-09T14:29:07.923Z"
   },
   {
    "duration": 40,
    "start_time": "2021-08-09T14:29:08.914Z"
   },
   {
    "duration": 64,
    "start_time": "2021-08-09T14:29:08.957Z"
   },
   {
    "duration": 10,
    "start_time": "2021-08-09T14:29:09.024Z"
   },
   {
    "duration": 3129,
    "start_time": "2021-08-09T14:29:09.037Z"
   },
   {
    "duration": 847,
    "start_time": "2021-08-09T14:29:12.168Z"
   },
   {
    "duration": 17,
    "start_time": "2021-08-09T14:29:13.020Z"
   },
   {
    "duration": 4128,
    "start_time": "2021-08-09T14:29:13.056Z"
   },
   {
    "duration": 17,
    "start_time": "2021-08-09T14:29:17.186Z"
   },
   {
    "duration": 3765,
    "start_time": "2021-08-09T14:29:17.206Z"
   },
   {
    "duration": 17,
    "start_time": "2021-08-09T14:29:20.974Z"
   },
   {
    "duration": 4061,
    "start_time": "2021-08-09T14:29:20.993Z"
   },
   {
    "duration": 17,
    "start_time": "2021-08-09T14:29:25.056Z"
   },
   {
    "duration": 3914,
    "start_time": "2021-08-09T14:29:25.076Z"
   },
   {
    "duration": 224,
    "start_time": "2021-08-09T14:29:28.992Z"
   },
   {
    "duration": 40,
    "start_time": "2021-08-09T14:29:29.219Z"
   },
   {
    "duration": 597,
    "start_time": "2021-08-09T14:29:29.262Z"
   },
   {
    "duration": 44,
    "start_time": "2021-08-09T14:29:29.861Z"
   },
   {
    "duration": 70,
    "start_time": "2021-08-09T14:29:29.907Z"
   },
   {
    "duration": 40,
    "start_time": "2021-08-09T14:29:29.980Z"
   },
   {
    "duration": 36,
    "start_time": "2021-08-09T14:29:30.022Z"
   },
   {
    "duration": 36,
    "start_time": "2021-08-09T14:29:30.060Z"
   },
   {
    "duration": 27,
    "start_time": "2021-08-09T14:29:30.099Z"
   },
   {
    "duration": 27,
    "start_time": "2021-08-09T14:29:30.128Z"
   },
   {
    "duration": 16,
    "start_time": "2021-08-09T14:29:30.158Z"
   },
   {
    "duration": 20,
    "start_time": "2021-08-09T14:29:30.176Z"
   },
   {
    "duration": 1510,
    "start_time": "2021-08-09T14:38:13.604Z"
   },
   {
    "duration": 27,
    "start_time": "2021-08-09T14:38:15.117Z"
   },
   {
    "duration": 21,
    "start_time": "2021-08-09T14:38:15.147Z"
   },
   {
    "duration": 49,
    "start_time": "2021-08-09T14:38:15.171Z"
   },
   {
    "duration": 6,
    "start_time": "2021-08-09T14:38:15.223Z"
   },
   {
    "duration": 12,
    "start_time": "2021-08-09T14:38:15.255Z"
   },
   {
    "duration": 50,
    "start_time": "2021-08-09T14:38:15.270Z"
   },
   {
    "duration": 7,
    "start_time": "2021-08-09T14:38:15.325Z"
   },
   {
    "duration": 57,
    "start_time": "2021-08-09T14:38:15.335Z"
   },
   {
    "duration": 14,
    "start_time": "2021-08-09T14:38:15.395Z"
   },
   {
    "duration": 48,
    "start_time": "2021-08-09T14:38:15.412Z"
   },
   {
    "duration": 20,
    "start_time": "2021-08-09T14:38:15.463Z"
   },
   {
    "duration": 88,
    "start_time": "2021-08-09T14:38:15.486Z"
   },
   {
    "duration": 18,
    "start_time": "2021-08-09T14:38:15.576Z"
   },
   {
    "duration": 11,
    "start_time": "2021-08-09T14:38:15.597Z"
   },
   {
    "duration": 76,
    "start_time": "2021-08-09T14:38:15.611Z"
   },
   {
    "duration": 17,
    "start_time": "2021-08-09T14:38:15.690Z"
   },
   {
    "duration": 9,
    "start_time": "2021-08-09T14:38:15.709Z"
   },
   {
    "duration": 77,
    "start_time": "2021-08-09T14:38:15.720Z"
   },
   {
    "duration": 895,
    "start_time": "2021-08-09T14:38:15.799Z"
   },
   {
    "duration": 20,
    "start_time": "2021-08-09T14:38:16.697Z"
   },
   {
    "duration": 74,
    "start_time": "2021-08-09T14:38:16.720Z"
   },
   {
    "duration": 9,
    "start_time": "2021-08-09T14:38:16.799Z"
   },
   {
    "duration": 3205,
    "start_time": "2021-08-09T14:38:16.811Z"
   },
   {
    "duration": 844,
    "start_time": "2021-08-09T14:38:20.018Z"
   },
   {
    "duration": 16,
    "start_time": "2021-08-09T14:38:20.865Z"
   },
   {
    "duration": 4091,
    "start_time": "2021-08-09T14:38:20.884Z"
   },
   {
    "duration": 17,
    "start_time": "2021-08-09T14:38:24.978Z"
   },
   {
    "duration": 3575,
    "start_time": "2021-08-09T14:38:24.998Z"
   },
   {
    "duration": 18,
    "start_time": "2021-08-09T14:38:28.577Z"
   },
   {
    "duration": 3834,
    "start_time": "2021-08-09T14:38:28.598Z"
   },
   {
    "duration": 31,
    "start_time": "2021-08-09T14:38:32.434Z"
   },
   {
    "duration": 3770,
    "start_time": "2021-08-09T14:38:32.468Z"
   },
   {
    "duration": 218,
    "start_time": "2021-08-09T14:38:36.241Z"
   },
   {
    "duration": 31,
    "start_time": "2021-08-09T14:38:36.462Z"
   },
   {
    "duration": 590,
    "start_time": "2021-08-09T14:38:36.496Z"
   },
   {
    "duration": 43,
    "start_time": "2021-08-09T14:38:37.088Z"
   },
   {
    "duration": 40,
    "start_time": "2021-08-09T14:38:37.154Z"
   },
   {
    "duration": 64,
    "start_time": "2021-08-09T14:38:37.196Z"
   },
   {
    "duration": 9,
    "start_time": "2021-08-09T14:38:37.263Z"
   },
   {
    "duration": 14,
    "start_time": "2021-08-09T14:38:37.274Z"
   },
   {
    "duration": 7,
    "start_time": "2021-08-09T14:38:37.290Z"
   },
   {
    "duration": 12,
    "start_time": "2021-08-09T14:38:37.299Z"
   },
   {
    "duration": 49,
    "start_time": "2021-08-09T14:38:37.313Z"
   },
   {
    "duration": 7,
    "start_time": "2021-08-09T14:38:37.364Z"
   },
   {
    "duration": 1186,
    "start_time": "2021-08-09T14:50:14.779Z"
   },
   {
    "duration": 22,
    "start_time": "2021-08-09T14:51:37.729Z"
   },
   {
    "duration": 14,
    "start_time": "2021-08-09T14:56:35.229Z"
   },
   {
    "duration": 917,
    "start_time": "2021-08-09T15:02:44.765Z"
   },
   {
    "duration": 1216,
    "start_time": "2021-08-09T15:06:59.485Z"
   },
   {
    "duration": 892,
    "start_time": "2021-08-09T15:07:13.886Z"
   },
   {
    "duration": 1040,
    "start_time": "2021-08-09T15:07:26.287Z"
   },
   {
    "duration": 1182,
    "start_time": "2021-08-09T15:09:28.024Z"
   },
   {
    "duration": 1160,
    "start_time": "2021-08-09T15:09:47.364Z"
   },
   {
    "duration": 882,
    "start_time": "2021-08-09T15:11:03.955Z"
   },
   {
    "duration": 895,
    "start_time": "2021-08-09T15:12:34.225Z"
   },
   {
    "duration": 908,
    "start_time": "2021-08-09T15:14:20.249Z"
   },
   {
    "duration": 890,
    "start_time": "2021-08-09T15:14:57.490Z"
   },
   {
    "duration": 24,
    "start_time": "2021-08-09T15:15:53.250Z"
   },
   {
    "duration": 251,
    "start_time": "2021-08-09T15:17:31.720Z"
   },
   {
    "duration": 14,
    "start_time": "2021-08-09T15:18:17.430Z"
   },
   {
    "duration": 24,
    "start_time": "2021-08-09T15:20:12.113Z"
   },
   {
    "duration": 1499,
    "start_time": "2021-08-09T15:21:00.080Z"
   },
   {
    "duration": 26,
    "start_time": "2021-08-09T15:21:01.581Z"
   },
   {
    "duration": 25,
    "start_time": "2021-08-09T15:21:01.610Z"
   },
   {
    "duration": 52,
    "start_time": "2021-08-09T15:21:01.638Z"
   },
   {
    "duration": 6,
    "start_time": "2021-08-09T15:21:01.693Z"
   },
   {
    "duration": 18,
    "start_time": "2021-08-09T15:21:01.701Z"
   },
   {
    "duration": 57,
    "start_time": "2021-08-09T15:21:01.722Z"
   },
   {
    "duration": 9,
    "start_time": "2021-08-09T15:21:01.782Z"
   },
   {
    "duration": 59,
    "start_time": "2021-08-09T15:21:01.795Z"
   },
   {
    "duration": 17,
    "start_time": "2021-08-09T15:21:01.857Z"
   },
   {
    "duration": 29,
    "start_time": "2021-08-09T15:21:01.876Z"
   },
   {
    "duration": 19,
    "start_time": "2021-08-09T15:21:01.907Z"
   },
   {
    "duration": 67,
    "start_time": "2021-08-09T15:21:01.955Z"
   },
   {
    "duration": 38,
    "start_time": "2021-08-09T15:21:02.024Z"
   },
   {
    "duration": 10,
    "start_time": "2021-08-09T15:21:02.065Z"
   },
   {
    "duration": 57,
    "start_time": "2021-08-09T15:21:02.077Z"
   },
   {
    "duration": 29,
    "start_time": "2021-08-09T15:21:02.136Z"
   },
   {
    "duration": 20,
    "start_time": "2021-08-09T15:21:02.168Z"
   },
   {
    "duration": 19,
    "start_time": "2021-08-09T15:21:02.190Z"
   },
   {
    "duration": 7,
    "start_time": "2021-08-09T15:21:02.212Z"
   },
   {
    "duration": 73,
    "start_time": "2021-08-09T15:21:02.221Z"
   },
   {
    "duration": 913,
    "start_time": "2021-08-09T15:21:02.297Z"
   },
   {
    "duration": 23,
    "start_time": "2021-08-09T15:21:03.213Z"
   },
   {
    "duration": 60,
    "start_time": "2021-08-09T15:21:03.255Z"
   },
   {
    "duration": 12,
    "start_time": "2021-08-09T15:21:03.317Z"
   },
   {
    "duration": 3125,
    "start_time": "2021-08-09T15:21:03.332Z"
   },
   {
    "duration": 828,
    "start_time": "2021-08-09T15:21:06.460Z"
   },
   {
    "duration": 15,
    "start_time": "2021-08-09T15:21:07.291Z"
   },
   {
    "duration": 4273,
    "start_time": "2021-08-09T15:21:07.309Z"
   },
   {
    "duration": 16,
    "start_time": "2021-08-09T15:21:11.585Z"
   },
   {
    "duration": 3881,
    "start_time": "2021-08-09T15:21:11.603Z"
   },
   {
    "duration": 16,
    "start_time": "2021-08-09T15:21:15.487Z"
   },
   {
    "duration": 3997,
    "start_time": "2021-08-09T15:21:15.507Z"
   },
   {
    "duration": 16,
    "start_time": "2021-08-09T15:21:19.507Z"
   },
   {
    "duration": 4173,
    "start_time": "2021-08-09T15:21:19.526Z"
   },
   {
    "duration": 213,
    "start_time": "2021-08-09T15:21:23.702Z"
   },
   {
    "duration": 51,
    "start_time": "2021-08-09T15:21:23.918Z"
   },
   {
    "duration": 732,
    "start_time": "2021-08-09T15:21:23.971Z"
   },
   {
    "duration": 57,
    "start_time": "2021-08-09T15:21:24.705Z"
   },
   {
    "duration": 58,
    "start_time": "2021-08-09T15:21:24.765Z"
   },
   {
    "duration": 53,
    "start_time": "2021-08-09T15:21:24.825Z"
   },
   {
    "duration": 12,
    "start_time": "2021-08-09T15:21:24.880Z"
   },
   {
    "duration": 30,
    "start_time": "2021-08-09T15:21:24.894Z"
   },
   {
    "duration": 29,
    "start_time": "2021-08-09T15:21:24.927Z"
   },
   {
    "duration": 18,
    "start_time": "2021-08-09T15:21:24.958Z"
   },
   {
    "duration": 21,
    "start_time": "2021-08-09T15:21:24.979Z"
   },
   {
    "duration": 14,
    "start_time": "2021-08-09T15:21:25.005Z"
   },
   {
    "duration": 3239,
    "start_time": "2021-08-09T15:25:24.684Z"
   },
   {
    "duration": 3183,
    "start_time": "2021-08-09T15:44:24.354Z"
   },
   {
    "duration": 3306,
    "start_time": "2021-08-09T15:45:06.005Z"
   },
   {
    "duration": 3590,
    "start_time": "2021-08-09T15:46:00.074Z"
   },
   {
    "duration": 3206,
    "start_time": "2021-08-09T15:46:17.325Z"
   },
   {
    "duration": 3429,
    "start_time": "2021-08-09T15:46:32.073Z"
   },
   {
    "duration": 3112,
    "start_time": "2021-08-09T15:46:39.253Z"
   },
   {
    "duration": 898,
    "start_time": "2021-08-09T15:48:00.524Z"
   },
   {
    "duration": 1556,
    "start_time": "2021-08-09T16:06:09.921Z"
   },
   {
    "duration": 28,
    "start_time": "2021-08-09T16:06:11.480Z"
   },
   {
    "duration": 15,
    "start_time": "2021-08-09T16:06:11.511Z"
   },
   {
    "duration": 64,
    "start_time": "2021-08-09T16:06:11.529Z"
   },
   {
    "duration": 6,
    "start_time": "2021-08-09T16:06:11.596Z"
   },
   {
    "duration": 15,
    "start_time": "2021-08-09T16:06:11.605Z"
   },
   {
    "duration": 58,
    "start_time": "2021-08-09T16:06:11.623Z"
   },
   {
    "duration": 7,
    "start_time": "2021-08-09T16:06:11.685Z"
   },
   {
    "duration": 60,
    "start_time": "2021-08-09T16:06:11.696Z"
   },
   {
    "duration": 14,
    "start_time": "2021-08-09T16:06:11.758Z"
   },
   {
    "duration": 21,
    "start_time": "2021-08-09T16:06:11.774Z"
   },
   {
    "duration": 19,
    "start_time": "2021-08-09T16:06:11.797Z"
   },
   {
    "duration": 72,
    "start_time": "2021-08-09T16:06:11.854Z"
   },
   {
    "duration": 32,
    "start_time": "2021-08-09T16:06:11.929Z"
   },
   {
    "duration": 12,
    "start_time": "2021-08-09T16:06:11.963Z"
   },
   {
    "duration": 40,
    "start_time": "2021-08-09T16:06:11.978Z"
   },
   {
    "duration": 43,
    "start_time": "2021-08-09T16:06:12.021Z"
   },
   {
    "duration": 18,
    "start_time": "2021-08-09T16:06:12.067Z"
   },
   {
    "duration": 12,
    "start_time": "2021-08-09T16:06:12.088Z"
   },
   {
    "duration": 6,
    "start_time": "2021-08-09T16:06:12.102Z"
   },
   {
    "duration": 86,
    "start_time": "2021-08-09T16:06:12.111Z"
   },
   {
    "duration": 916,
    "start_time": "2021-08-09T16:06:12.200Z"
   },
   {
    "duration": 42,
    "start_time": "2021-08-09T16:06:13.121Z"
   },
   {
    "duration": 58,
    "start_time": "2021-08-09T16:06:13.166Z"
   },
   {
    "duration": 11,
    "start_time": "2021-08-09T16:06:13.227Z"
   },
   {
    "duration": 3293,
    "start_time": "2021-08-09T16:06:13.254Z"
   },
   {
    "duration": 845,
    "start_time": "2021-08-09T16:06:16.554Z"
   },
   {
    "duration": 15,
    "start_time": "2021-08-09T16:06:17.401Z"
   },
   {
    "duration": 4121,
    "start_time": "2021-08-09T16:06:17.418Z"
   },
   {
    "duration": 25,
    "start_time": "2021-08-09T16:06:21.542Z"
   },
   {
    "duration": 3960,
    "start_time": "2021-08-09T16:06:21.569Z"
   },
   {
    "duration": 28,
    "start_time": "2021-08-09T16:06:25.532Z"
   },
   {
    "duration": 3712,
    "start_time": "2021-08-09T16:06:25.563Z"
   },
   {
    "duration": 16,
    "start_time": "2021-08-09T16:06:29.277Z"
   },
   {
    "duration": 3816,
    "start_time": "2021-08-09T16:06:29.295Z"
   },
   {
    "duration": 210,
    "start_time": "2021-08-09T16:06:33.116Z"
   },
   {
    "duration": 44,
    "start_time": "2021-08-09T16:06:33.329Z"
   },
   {
    "duration": 597,
    "start_time": "2021-08-09T16:06:33.375Z"
   },
   {
    "duration": 44,
    "start_time": "2021-08-09T16:06:33.974Z"
   },
   {
    "duration": 66,
    "start_time": "2021-08-09T16:06:34.021Z"
   },
   {
    "duration": 70,
    "start_time": "2021-08-09T16:06:34.089Z"
   },
   {
    "duration": 24,
    "start_time": "2021-08-09T16:06:34.162Z"
   },
   {
    "duration": 20,
    "start_time": "2021-08-09T16:06:34.189Z"
   },
   {
    "duration": 14,
    "start_time": "2021-08-09T16:06:34.212Z"
   },
   {
    "duration": 35,
    "start_time": "2021-08-09T16:06:34.228Z"
   },
   {
    "duration": 21,
    "start_time": "2021-08-09T16:06:34.266Z"
   },
   {
    "duration": 8,
    "start_time": "2021-08-09T16:06:34.290Z"
   },
   {
    "duration": 3266,
    "start_time": "2021-08-09T16:11:45.520Z"
   },
   {
    "duration": 3178,
    "start_time": "2021-08-09T16:12:00.760Z"
   },
   {
    "duration": 865,
    "start_time": "2021-08-09T16:14:03.980Z"
   },
   {
    "duration": 310,
    "start_time": "2021-08-09T16:14:26.920Z"
   },
   {
    "duration": 1549,
    "start_time": "2021-08-09T17:04:53.422Z"
   },
   {
    "duration": 26,
    "start_time": "2021-08-09T17:04:54.974Z"
   },
   {
    "duration": 34,
    "start_time": "2021-08-09T17:04:55.003Z"
   },
   {
    "duration": 56,
    "start_time": "2021-08-09T17:04:55.040Z"
   },
   {
    "duration": 7,
    "start_time": "2021-08-09T17:04:55.098Z"
   },
   {
    "duration": 25,
    "start_time": "2021-08-09T17:04:55.107Z"
   },
   {
    "duration": 45,
    "start_time": "2021-08-09T17:04:55.134Z"
   },
   {
    "duration": 6,
    "start_time": "2021-08-09T17:04:55.182Z"
   },
   {
    "duration": 50,
    "start_time": "2021-08-09T17:04:55.191Z"
   },
   {
    "duration": 14,
    "start_time": "2021-08-09T17:04:55.255Z"
   },
   {
    "duration": 25,
    "start_time": "2021-08-09T17:04:55.271Z"
   },
   {
    "duration": 30,
    "start_time": "2021-08-09T17:04:55.299Z"
   },
   {
    "duration": 88,
    "start_time": "2021-08-09T17:04:55.331Z"
   },
   {
    "duration": 33,
    "start_time": "2021-08-09T17:04:55.422Z"
   },
   {
    "duration": 11,
    "start_time": "2021-08-09T17:04:55.457Z"
   },
   {
    "duration": 40,
    "start_time": "2021-08-09T17:04:55.470Z"
   },
   {
    "duration": 52,
    "start_time": "2021-08-09T17:04:55.512Z"
   },
   {
    "duration": 18,
    "start_time": "2021-08-09T17:04:55.567Z"
   },
   {
    "duration": 15,
    "start_time": "2021-08-09T17:04:55.587Z"
   },
   {
    "duration": 6,
    "start_time": "2021-08-09T17:04:55.604Z"
   },
   {
    "duration": 90,
    "start_time": "2021-08-09T17:04:55.613Z"
   },
   {
    "duration": 939,
    "start_time": "2021-08-09T17:04:55.706Z"
   },
   {
    "duration": 23,
    "start_time": "2021-08-09T17:04:56.654Z"
   },
   {
    "duration": 58,
    "start_time": "2021-08-09T17:04:56.680Z"
   },
   {
    "duration": 23,
    "start_time": "2021-08-09T17:04:56.740Z"
   },
   {
    "duration": 3300,
    "start_time": "2021-08-09T17:04:56.765Z"
   },
   {
    "duration": 450,
    "start_time": "2021-08-09T17:05:00.068Z"
   },
   {
    "duration": -84,
    "start_time": "2021-08-09T17:05:00.605Z"
   },
   {
    "duration": -101,
    "start_time": "2021-08-09T17:05:00.623Z"
   },
   {
    "duration": -116,
    "start_time": "2021-08-09T17:05:00.639Z"
   },
   {
    "duration": -200,
    "start_time": "2021-08-09T17:05:00.724Z"
   },
   {
    "duration": -211,
    "start_time": "2021-08-09T17:05:00.737Z"
   },
   {
    "duration": -217,
    "start_time": "2021-08-09T17:05:00.744Z"
   },
   {
    "duration": -340,
    "start_time": "2021-08-09T17:05:00.868Z"
   },
   {
    "duration": -346,
    "start_time": "2021-08-09T17:05:00.876Z"
   },
   {
    "duration": -356,
    "start_time": "2021-08-09T17:05:00.887Z"
   },
   {
    "duration": -416,
    "start_time": "2021-08-09T17:05:00.948Z"
   },
   {
    "duration": -423,
    "start_time": "2021-08-09T17:05:00.956Z"
   },
   {
    "duration": -434,
    "start_time": "2021-08-09T17:05:00.968Z"
   },
   {
    "duration": -457,
    "start_time": "2021-08-09T17:05:00.993Z"
   },
   {
    "duration": -465,
    "start_time": "2021-08-09T17:05:01.002Z"
   },
   {
    "duration": -472,
    "start_time": "2021-08-09T17:05:01.011Z"
   },
   {
    "duration": -479,
    "start_time": "2021-08-09T17:05:01.019Z"
   },
   {
    "duration": -487,
    "start_time": "2021-08-09T17:05:01.028Z"
   },
   {
    "duration": -492,
    "start_time": "2021-08-09T17:05:01.035Z"
   },
   {
    "duration": -592,
    "start_time": "2021-08-09T17:05:01.136Z"
   },
   {
    "duration": -601,
    "start_time": "2021-08-09T17:05:01.146Z"
   },
   {
    "duration": 1476,
    "start_time": "2021-08-09T17:05:55.307Z"
   },
   {
    "duration": 26,
    "start_time": "2021-08-09T17:05:56.786Z"
   },
   {
    "duration": 18,
    "start_time": "2021-08-09T17:05:56.815Z"
   },
   {
    "duration": 56,
    "start_time": "2021-08-09T17:05:56.836Z"
   },
   {
    "duration": 6,
    "start_time": "2021-08-09T17:05:56.895Z"
   },
   {
    "duration": 10,
    "start_time": "2021-08-09T17:05:56.903Z"
   },
   {
    "duration": 65,
    "start_time": "2021-08-09T17:05:56.915Z"
   },
   {
    "duration": 7,
    "start_time": "2021-08-09T17:05:56.983Z"
   },
   {
    "duration": 40,
    "start_time": "2021-08-09T17:05:56.993Z"
   },
   {
    "duration": 14,
    "start_time": "2021-08-09T17:05:57.055Z"
   },
   {
    "duration": 22,
    "start_time": "2021-08-09T17:05:57.072Z"
   },
   {
    "duration": 22,
    "start_time": "2021-08-09T17:05:57.097Z"
   },
   {
    "duration": 74,
    "start_time": "2021-08-09T17:05:57.155Z"
   },
   {
    "duration": 33,
    "start_time": "2021-08-09T17:05:57.232Z"
   },
   {
    "duration": 12,
    "start_time": "2021-08-09T17:05:57.267Z"
   },
   {
    "duration": 38,
    "start_time": "2021-08-09T17:05:57.282Z"
   },
   {
    "duration": 44,
    "start_time": "2021-08-09T17:05:57.323Z"
   },
   {
    "duration": 15,
    "start_time": "2021-08-09T17:05:57.369Z"
   },
   {
    "duration": 14,
    "start_time": "2021-08-09T17:05:57.387Z"
   },
   {
    "duration": 50,
    "start_time": "2021-08-09T17:05:57.404Z"
   },
   {
    "duration": 52,
    "start_time": "2021-08-09T17:05:57.457Z"
   },
   {
    "duration": 932,
    "start_time": "2021-08-09T17:05:57.513Z"
   },
   {
    "duration": 25,
    "start_time": "2021-08-09T17:05:58.454Z"
   },
   {
    "duration": 72,
    "start_time": "2021-08-09T17:05:58.482Z"
   },
   {
    "duration": 11,
    "start_time": "2021-08-09T17:05:58.557Z"
   },
   {
    "duration": 3222,
    "start_time": "2021-08-09T17:05:58.570Z"
   },
   {
    "duration": 819,
    "start_time": "2021-08-09T17:06:01.795Z"
   },
   {
    "duration": 38,
    "start_time": "2021-08-09T17:06:02.618Z"
   },
   {
    "duration": 398,
    "start_time": "2021-08-09T17:06:02.659Z"
   },
   {
    "duration": -356,
    "start_time": "2021-08-09T17:06:03.417Z"
   },
   {
    "duration": -377,
    "start_time": "2021-08-09T17:06:03.440Z"
   },
   {
    "duration": -384,
    "start_time": "2021-08-09T17:06:03.449Z"
   },
   {
    "duration": -449,
    "start_time": "2021-08-09T17:06:03.516Z"
   },
   {
    "duration": -493,
    "start_time": "2021-08-09T17:06:03.562Z"
   },
   {
    "duration": -579,
    "start_time": "2021-08-09T17:06:03.651Z"
   },
   {
    "duration": -585,
    "start_time": "2021-08-09T17:06:03.659Z"
   },
   {
    "duration": -590,
    "start_time": "2021-08-09T17:06:03.666Z"
   },
   {
    "duration": -645,
    "start_time": "2021-08-09T17:06:03.723Z"
   },
   {
    "duration": -651,
    "start_time": "2021-08-09T17:06:03.731Z"
   },
   {
    "duration": -659,
    "start_time": "2021-08-09T17:06:03.741Z"
   },
   {
    "duration": -681,
    "start_time": "2021-08-09T17:06:03.764Z"
   },
   {
    "duration": -763,
    "start_time": "2021-08-09T17:06:03.848Z"
   },
   {
    "duration": -798,
    "start_time": "2021-08-09T17:06:03.885Z"
   },
   {
    "duration": -848,
    "start_time": "2021-08-09T17:06:03.936Z"
   },
   {
    "duration": -853,
    "start_time": "2021-08-09T17:06:03.943Z"
   },
   {
    "duration": -859,
    "start_time": "2021-08-09T17:06:03.951Z"
   },
   {
    "duration": -891,
    "start_time": "2021-08-09T17:06:03.984Z"
   },
   {
    "duration": 86,
    "start_time": "2021-08-09T17:08:14.242Z"
   },
   {
    "duration": 20,
    "start_time": "2021-08-09T17:09:06.932Z"
   },
   {
    "duration": 3629,
    "start_time": "2021-08-09T17:11:08.633Z"
   },
   {
    "duration": 3707,
    "start_time": "2021-08-09T17:12:50.832Z"
   },
   {
    "duration": 15,
    "start_time": "2021-08-09T17:14:09.453Z"
   },
   {
    "duration": 1655,
    "start_time": "2021-08-09T17:18:25.916Z"
   },
   {
    "duration": 26,
    "start_time": "2021-08-09T17:18:27.574Z"
   },
   {
    "duration": 32,
    "start_time": "2021-08-09T17:18:27.602Z"
   },
   {
    "duration": 56,
    "start_time": "2021-08-09T17:18:27.637Z"
   },
   {
    "duration": 5,
    "start_time": "2021-08-09T17:18:27.696Z"
   },
   {
    "duration": 13,
    "start_time": "2021-08-09T17:18:27.704Z"
   },
   {
    "duration": 62,
    "start_time": "2021-08-09T17:18:27.720Z"
   },
   {
    "duration": 7,
    "start_time": "2021-08-09T17:18:27.786Z"
   },
   {
    "duration": 75,
    "start_time": "2021-08-09T17:18:27.796Z"
   },
   {
    "duration": 15,
    "start_time": "2021-08-09T17:18:27.874Z"
   },
   {
    "duration": 22,
    "start_time": "2021-08-09T17:18:27.892Z"
   },
   {
    "duration": 49,
    "start_time": "2021-08-09T17:18:27.916Z"
   },
   {
    "duration": 69,
    "start_time": "2021-08-09T17:18:27.968Z"
   },
   {
    "duration": 18,
    "start_time": "2021-08-09T17:18:28.055Z"
   },
   {
    "duration": 11,
    "start_time": "2021-08-09T17:18:28.076Z"
   },
   {
    "duration": 73,
    "start_time": "2021-08-09T17:18:28.090Z"
   },
   {
    "duration": 15,
    "start_time": "2021-08-09T17:18:28.166Z"
   },
   {
    "duration": 12,
    "start_time": "2021-08-09T17:18:28.184Z"
   },
   {
    "duration": 12,
    "start_time": "2021-08-09T17:18:28.198Z"
   },
   {
    "duration": 6,
    "start_time": "2021-08-09T17:18:28.212Z"
   },
   {
    "duration": 50,
    "start_time": "2021-08-09T17:18:28.256Z"
   },
   {
    "duration": 911,
    "start_time": "2021-08-09T17:18:28.309Z"
   },
   {
    "duration": 35,
    "start_time": "2021-08-09T17:18:29.226Z"
   },
   {
    "duration": 63,
    "start_time": "2021-08-09T17:18:29.265Z"
   },
   {
    "duration": 23,
    "start_time": "2021-08-09T17:18:29.331Z"
   },
   {
    "duration": 3201,
    "start_time": "2021-08-09T17:18:29.356Z"
   },
   {
    "duration": 798,
    "start_time": "2021-08-09T17:18:32.559Z"
   },
   {
    "duration": 19,
    "start_time": "2021-08-09T17:18:33.359Z"
   },
   {
    "duration": 3587,
    "start_time": "2021-08-09T17:18:33.380Z"
   },
   {
    "duration": 15,
    "start_time": "2021-08-09T17:18:36.969Z"
   },
   {
    "duration": 3632,
    "start_time": "2021-08-09T17:18:36.986Z"
   },
   {
    "duration": 35,
    "start_time": "2021-08-09T17:18:40.621Z"
   },
   {
    "duration": 3719,
    "start_time": "2021-08-09T17:18:40.659Z"
   },
   {
    "duration": 14,
    "start_time": "2021-08-09T17:18:44.380Z"
   },
   {
    "duration": 3707,
    "start_time": "2021-08-09T17:18:44.397Z"
   },
   {
    "duration": 199,
    "start_time": "2021-08-09T17:18:48.107Z"
   },
   {
    "duration": 48,
    "start_time": "2021-08-09T17:18:48.308Z"
   },
   {
    "duration": 586,
    "start_time": "2021-08-09T17:18:48.358Z"
   },
   {
    "duration": 43,
    "start_time": "2021-08-09T17:18:48.955Z"
   },
   {
    "duration": 67,
    "start_time": "2021-08-09T17:18:49.000Z"
   },
   {
    "duration": 46,
    "start_time": "2021-08-09T17:18:49.070Z"
   },
   {
    "duration": 37,
    "start_time": "2021-08-09T17:18:49.119Z"
   },
   {
    "duration": 13,
    "start_time": "2021-08-09T17:18:49.159Z"
   },
   {
    "duration": 21,
    "start_time": "2021-08-09T17:18:49.175Z"
   },
   {
    "duration": 28,
    "start_time": "2021-08-09T17:18:49.199Z"
   },
   {
    "duration": 24,
    "start_time": "2021-08-09T17:18:49.230Z"
   },
   {
    "duration": 10,
    "start_time": "2021-08-09T17:18:49.257Z"
   },
   {
    "duration": 96,
    "start_time": "2021-08-09T17:23:52.132Z"
   },
   {
    "duration": 470,
    "start_time": "2021-08-09T17:24:16.901Z"
   },
   {
    "duration": 43,
    "start_time": "2021-08-09T17:25:03.751Z"
   },
   {
    "duration": 50,
    "start_time": "2021-08-09T17:25:54.131Z"
   },
   {
    "duration": 43,
    "start_time": "2021-08-09T17:26:18.972Z"
   },
   {
    "duration": 13,
    "start_time": "2021-08-09T17:30:28.011Z"
   },
   {
    "duration": 14,
    "start_time": "2021-08-09T17:30:49.131Z"
   },
   {
    "duration": 12,
    "start_time": "2021-08-09T17:30:55.336Z"
   },
   {
    "duration": 1531,
    "start_time": "2021-08-09T17:31:12.442Z"
   },
   {
    "duration": 27,
    "start_time": "2021-08-09T17:31:13.976Z"
   },
   {
    "duration": 15,
    "start_time": "2021-08-09T17:31:14.006Z"
   },
   {
    "duration": 66,
    "start_time": "2021-08-09T17:31:14.024Z"
   },
   {
    "duration": 7,
    "start_time": "2021-08-09T17:31:14.092Z"
   },
   {
    "duration": 15,
    "start_time": "2021-08-09T17:31:14.101Z"
   },
   {
    "duration": 61,
    "start_time": "2021-08-09T17:31:14.118Z"
   },
   {
    "duration": 6,
    "start_time": "2021-08-09T17:31:14.181Z"
   },
   {
    "duration": 35,
    "start_time": "2021-08-09T17:31:14.191Z"
   },
   {
    "duration": 36,
    "start_time": "2021-08-09T17:31:14.229Z"
   },
   {
    "duration": 21,
    "start_time": "2021-08-09T17:31:14.268Z"
   },
   {
    "duration": 19,
    "start_time": "2021-08-09T17:31:14.292Z"
   },
   {
    "duration": 108,
    "start_time": "2021-08-09T17:31:14.314Z"
   },
   {
    "duration": 35,
    "start_time": "2021-08-09T17:31:14.425Z"
   },
   {
    "duration": 12,
    "start_time": "2021-08-09T17:31:14.463Z"
   },
   {
    "duration": 13,
    "start_time": "2021-08-09T17:31:14.478Z"
   },
   {
    "duration": 76,
    "start_time": "2021-08-09T17:31:14.494Z"
   },
   {
    "duration": 15,
    "start_time": "2021-08-09T17:31:14.573Z"
   },
   {
    "duration": 13,
    "start_time": "2021-08-09T17:31:14.590Z"
   },
   {
    "duration": 12,
    "start_time": "2021-08-09T17:31:14.605Z"
   },
   {
    "duration": 7,
    "start_time": "2021-08-09T17:31:14.656Z"
   },
   {
    "duration": 61,
    "start_time": "2021-08-09T17:31:14.666Z"
   },
   {
    "duration": 967,
    "start_time": "2021-08-09T17:31:14.730Z"
   },
   {
    "duration": 25,
    "start_time": "2021-08-09T17:31:15.700Z"
   },
   {
    "duration": 71,
    "start_time": "2021-08-09T17:31:15.729Z"
   },
   {
    "duration": 13,
    "start_time": "2021-08-09T17:31:15.803Z"
   },
   {
    "duration": 3413,
    "start_time": "2021-08-09T17:31:15.822Z"
   },
   {
    "duration": 944,
    "start_time": "2021-08-09T17:31:19.238Z"
   },
   {
    "duration": 19,
    "start_time": "2021-08-09T17:31:20.184Z"
   },
   {
    "duration": 3965,
    "start_time": "2021-08-09T17:31:20.207Z"
   },
   {
    "duration": 14,
    "start_time": "2021-08-09T17:31:24.175Z"
   },
   {
    "duration": 3788,
    "start_time": "2021-08-09T17:31:24.191Z"
   },
   {
    "duration": 14,
    "start_time": "2021-08-09T17:31:27.982Z"
   },
   {
    "duration": 3861,
    "start_time": "2021-08-09T17:31:27.999Z"
   },
   {
    "duration": 14,
    "start_time": "2021-08-09T17:31:31.862Z"
   },
   {
    "duration": 3817,
    "start_time": "2021-08-09T17:31:31.879Z"
   },
   {
    "duration": 222,
    "start_time": "2021-08-09T17:31:35.699Z"
   },
   {
    "duration": 45,
    "start_time": "2021-08-09T17:31:35.926Z"
   },
   {
    "duration": 628,
    "start_time": "2021-08-09T17:31:35.974Z"
   },
   {
    "duration": 81,
    "start_time": "2021-08-09T17:31:36.605Z"
   },
   {
    "duration": 87,
    "start_time": "2021-08-09T17:31:36.689Z"
   },
   {
    "duration": 77,
    "start_time": "2021-08-09T17:31:36.779Z"
   },
   {
    "duration": 16,
    "start_time": "2021-08-09T17:31:36.859Z"
   },
   {
    "duration": 15,
    "start_time": "2021-08-09T17:31:36.878Z"
   },
   {
    "duration": 10,
    "start_time": "2021-08-09T17:31:36.896Z"
   },
   {
    "duration": 49,
    "start_time": "2021-08-09T17:31:36.908Z"
   },
   {
    "duration": 11,
    "start_time": "2021-08-09T17:31:36.960Z"
   },
   {
    "duration": 7,
    "start_time": "2021-08-09T17:31:36.973Z"
   },
   {
    "duration": 15,
    "start_time": "2021-08-09T17:32:34.872Z"
   },
   {
    "duration": 87,
    "start_time": "2021-08-09T17:36:07.851Z"
   },
   {
    "duration": 504,
    "start_time": "2021-08-09T17:36:15.652Z"
   },
   {
    "duration": 3883,
    "start_time": "2021-08-09T17:36:35.492Z"
   },
   {
    "duration": 4224,
    "start_time": "2021-08-09T17:38:56.752Z"
   },
   {
    "duration": 3925,
    "start_time": "2021-08-09T17:39:37.352Z"
   },
   {
    "duration": 4001,
    "start_time": "2021-08-09T17:40:09.772Z"
   },
   {
    "duration": 3871,
    "start_time": "2021-08-09T17:40:35.812Z"
   },
   {
    "duration": 3822,
    "start_time": "2021-08-09T17:41:30.332Z"
   },
   {
    "duration": 3859,
    "start_time": "2021-08-09T17:42:33.687Z"
   },
   {
    "duration": 81,
    "start_time": "2021-08-09T17:42:46.172Z"
   },
   {
    "duration": 3852,
    "start_time": "2021-08-09T17:42:54.731Z"
   },
   {
    "duration": 3765,
    "start_time": "2021-08-09T17:44:44.312Z"
   },
   {
    "duration": 3813,
    "start_time": "2021-08-09T17:45:08.872Z"
   },
   {
    "duration": 4057,
    "start_time": "2021-08-09T17:45:43.912Z"
   },
   {
    "duration": 3992,
    "start_time": "2021-08-09T17:47:09.613Z"
   },
   {
    "duration": 3934,
    "start_time": "2021-08-09T17:47:48.072Z"
   },
   {
    "duration": 4055,
    "start_time": "2021-08-09T17:49:46.853Z"
   },
   {
    "duration": 4026,
    "start_time": "2021-08-09T17:50:01.231Z"
   },
   {
    "duration": 3720,
    "start_time": "2021-08-09T17:50:14.372Z"
   },
   {
    "duration": 3650,
    "start_time": "2021-08-09T17:50:38.512Z"
   },
   {
    "duration": 3639,
    "start_time": "2021-08-09T17:51:19.762Z"
   },
   {
    "duration": 3656,
    "start_time": "2021-08-09T17:51:29.732Z"
   },
   {
    "duration": 209,
    "start_time": "2021-08-09T17:54:32.083Z"
   },
   {
    "duration": 250,
    "start_time": "2021-08-09T17:54:45.297Z"
   },
   {
    "duration": 281,
    "start_time": "2021-08-09T17:55:11.857Z"
   },
   {
    "duration": 382,
    "start_time": "2021-08-09T17:57:43.728Z"
   },
   {
    "duration": 306,
    "start_time": "2021-08-09T17:58:26.762Z"
   },
   {
    "duration": 277,
    "start_time": "2021-08-09T18:00:50.277Z"
   },
   {
    "duration": 278,
    "start_time": "2021-08-09T18:01:17.118Z"
   },
   {
    "duration": 596,
    "start_time": "2021-08-09T18:02:17.558Z"
   },
   {
    "duration": 346,
    "start_time": "2021-08-09T18:03:25.917Z"
   },
   {
    "duration": 586,
    "start_time": "2021-08-09T18:03:33.827Z"
   },
   {
    "duration": 941,
    "start_time": "2021-08-09T18:05:02.302Z"
   },
   {
    "duration": 595,
    "start_time": "2021-08-09T18:05:10.997Z"
   },
   {
    "duration": 581,
    "start_time": "2021-08-09T18:14:03.783Z"
   },
   {
    "duration": 578,
    "start_time": "2021-08-09T18:18:26.338Z"
   },
   {
    "duration": 586,
    "start_time": "2021-08-09T18:20:17.178Z"
   },
   {
    "duration": 34,
    "start_time": "2021-08-09T18:21:29.837Z"
   },
   {
    "duration": 601,
    "start_time": "2021-08-09T18:21:44.267Z"
   },
   {
    "duration": 606,
    "start_time": "2021-08-09T18:22:03.957Z"
   },
   {
    "duration": 10,
    "start_time": "2021-08-09T18:23:40.738Z"
   },
   {
    "duration": 1087,
    "start_time": "2021-08-10T04:12:21.686Z"
   },
   {
    "duration": 16,
    "start_time": "2021-08-10T04:12:22.775Z"
   },
   {
    "duration": 12,
    "start_time": "2021-08-10T04:12:22.793Z"
   },
   {
    "duration": 25,
    "start_time": "2021-08-10T04:12:22.807Z"
   },
   {
    "duration": 8,
    "start_time": "2021-08-10T04:12:22.834Z"
   },
   {
    "duration": 6,
    "start_time": "2021-08-10T04:12:22.844Z"
   },
   {
    "duration": 18,
    "start_time": "2021-08-10T04:12:22.852Z"
   },
   {
    "duration": 4,
    "start_time": "2021-08-10T04:12:22.872Z"
   },
   {
    "duration": 22,
    "start_time": "2021-08-10T04:12:22.878Z"
   },
   {
    "duration": 41,
    "start_time": "2021-08-10T04:12:22.902Z"
   },
   {
    "duration": 15,
    "start_time": "2021-08-10T04:12:22.945Z"
   },
   {
    "duration": 13,
    "start_time": "2021-08-10T04:12:22.962Z"
   },
   {
    "duration": 45,
    "start_time": "2021-08-10T04:12:22.977Z"
   },
   {
    "duration": 25,
    "start_time": "2021-08-10T04:12:23.024Z"
   },
   {
    "duration": 26,
    "start_time": "2021-08-10T04:12:23.051Z"
   },
   {
    "duration": 11,
    "start_time": "2021-08-10T04:12:23.078Z"
   },
   {
    "duration": 9,
    "start_time": "2021-08-10T04:12:23.091Z"
   },
   {
    "duration": 39,
    "start_time": "2021-08-10T04:12:23.102Z"
   },
   {
    "duration": 4,
    "start_time": "2021-08-10T04:12:23.142Z"
   },
   {
    "duration": 34,
    "start_time": "2021-08-10T04:12:23.148Z"
   },
   {
    "duration": 514,
    "start_time": "2021-08-10T04:12:23.183Z"
   },
   {
    "duration": 15,
    "start_time": "2021-08-10T04:12:23.698Z"
   },
   {
    "duration": 45,
    "start_time": "2021-08-10T04:12:23.716Z"
   },
   {
    "duration": 7,
    "start_time": "2021-08-10T04:12:23.763Z"
   },
   {
    "duration": 1816,
    "start_time": "2021-08-10T04:12:23.771Z"
   },
   {
    "duration": 468,
    "start_time": "2021-08-10T04:12:25.589Z"
   },
   {
    "duration": 12,
    "start_time": "2021-08-10T04:12:26.059Z"
   },
   {
    "duration": 2104,
    "start_time": "2021-08-10T04:12:26.072Z"
   },
   {
    "duration": 9,
    "start_time": "2021-08-10T04:12:28.178Z"
   },
   {
    "duration": 2166,
    "start_time": "2021-08-10T04:12:28.188Z"
   },
   {
    "duration": 10,
    "start_time": "2021-08-10T04:12:30.356Z"
   },
   {
    "duration": 2158,
    "start_time": "2021-08-10T04:12:30.367Z"
   },
   {
    "duration": 17,
    "start_time": "2021-08-10T04:12:32.527Z"
   },
   {
    "duration": 2273,
    "start_time": "2021-08-10T04:12:32.545Z"
   },
   {
    "duration": 168,
    "start_time": "2021-08-10T04:12:34.819Z"
   },
   {
    "duration": 19,
    "start_time": "2021-08-10T04:12:34.989Z"
   },
   {
    "duration": 333,
    "start_time": "2021-08-10T04:12:35.009Z"
   },
   {
    "duration": 25,
    "start_time": "2021-08-10T04:12:35.343Z"
   },
   {
    "duration": 30,
    "start_time": "2021-08-10T04:12:35.369Z"
   },
   {
    "duration": 35,
    "start_time": "2021-08-10T04:12:35.401Z"
   },
   {
    "duration": 7,
    "start_time": "2021-08-10T04:12:35.438Z"
   },
   {
    "duration": 14,
    "start_time": "2021-08-10T04:12:35.446Z"
   },
   {
    "duration": 14,
    "start_time": "2021-08-10T04:12:35.461Z"
   },
   {
    "duration": 18,
    "start_time": "2021-08-10T04:12:35.476Z"
   },
   {
    "duration": 15,
    "start_time": "2021-08-10T04:12:35.495Z"
   },
   {
    "duration": 14,
    "start_time": "2021-08-10T04:12:35.512Z"
   },
   {
    "duration": 16,
    "start_time": "2021-08-10T04:25:20.576Z"
   },
   {
    "duration": 7,
    "start_time": "2021-08-10T04:26:03.287Z"
   },
   {
    "duration": 1249,
    "start_time": "2021-08-10T04:26:05.344Z"
   },
   {
    "duration": 7213,
    "start_time": "2021-08-10T05:29:27.732Z"
   },
   {
    "duration": 1117,
    "start_time": "2021-08-10T05:30:01.482Z"
   },
   {
    "duration": 18,
    "start_time": "2021-08-10T05:30:02.601Z"
   },
   {
    "duration": 11,
    "start_time": "2021-08-10T05:30:02.622Z"
   },
   {
    "duration": 28,
    "start_time": "2021-08-10T05:30:02.642Z"
   },
   {
    "duration": 5,
    "start_time": "2021-08-10T05:30:02.672Z"
   },
   {
    "duration": 21,
    "start_time": "2021-08-10T05:30:02.679Z"
   },
   {
    "duration": 27,
    "start_time": "2021-08-10T05:30:02.702Z"
   },
   {
    "duration": 5,
    "start_time": "2021-08-10T05:30:02.742Z"
   },
   {
    "duration": 34,
    "start_time": "2021-08-10T05:30:02.749Z"
   },
   {
    "duration": 11,
    "start_time": "2021-08-10T05:30:02.784Z"
   },
   {
    "duration": 20,
    "start_time": "2021-08-10T05:30:02.797Z"
   },
   {
    "duration": 26,
    "start_time": "2021-08-10T05:30:02.819Z"
   },
   {
    "duration": 50,
    "start_time": "2021-08-10T05:30:02.847Z"
   },
   {
    "duration": 13,
    "start_time": "2021-08-10T05:30:02.899Z"
   },
   {
    "duration": 38,
    "start_time": "2021-08-10T05:30:02.913Z"
   },
   {
    "duration": 10,
    "start_time": "2021-08-10T05:30:02.953Z"
   },
   {
    "duration": 14,
    "start_time": "2021-08-10T05:30:02.965Z"
   },
   {
    "duration": 9,
    "start_time": "2021-08-10T05:30:02.981Z"
   },
   {
    "duration": 16,
    "start_time": "2021-08-10T05:30:02.992Z"
   },
   {
    "duration": 50,
    "start_time": "2021-08-10T05:30:03.010Z"
   },
   {
    "duration": 518,
    "start_time": "2021-08-10T05:30:03.062Z"
   },
   {
    "duration": 20,
    "start_time": "2021-08-10T05:30:03.582Z"
   },
   {
    "duration": 52,
    "start_time": "2021-08-10T05:30:03.605Z"
   },
   {
    "duration": 7,
    "start_time": "2021-08-10T05:30:03.659Z"
   },
   {
    "duration": 1369,
    "start_time": "2021-08-10T05:30:03.667Z"
   },
   {
    "duration": 7211,
    "start_time": "2021-08-10T05:30:05.040Z"
   },
   {
    "duration": -138,
    "start_time": "2021-08-10T05:30:12.391Z"
   },
   {
    "duration": -146,
    "start_time": "2021-08-10T05:30:12.400Z"
   },
   {
    "duration": -149,
    "start_time": "2021-08-10T05:30:12.404Z"
   },
   {
    "duration": -151,
    "start_time": "2021-08-10T05:30:12.408Z"
   },
   {
    "duration": -157,
    "start_time": "2021-08-10T05:30:12.415Z"
   },
   {
    "duration": -160,
    "start_time": "2021-08-10T05:30:12.418Z"
   },
   {
    "duration": -163,
    "start_time": "2021-08-10T05:30:12.422Z"
   },
   {
    "duration": -167,
    "start_time": "2021-08-10T05:30:12.428Z"
   },
   {
    "duration": -172,
    "start_time": "2021-08-10T05:30:12.434Z"
   },
   {
    "duration": -175,
    "start_time": "2021-08-10T05:30:12.438Z"
   },
   {
    "duration": -178,
    "start_time": "2021-08-10T05:30:12.442Z"
   },
   {
    "duration": -184,
    "start_time": "2021-08-10T05:30:12.449Z"
   },
   {
    "duration": -187,
    "start_time": "2021-08-10T05:30:12.453Z"
   },
   {
    "duration": -189,
    "start_time": "2021-08-10T05:30:12.456Z"
   },
   {
    "duration": -192,
    "start_time": "2021-08-10T05:30:12.460Z"
   },
   {
    "duration": -197,
    "start_time": "2021-08-10T05:30:12.466Z"
   },
   {
    "duration": -200,
    "start_time": "2021-08-10T05:30:12.470Z"
   },
   {
    "duration": -203,
    "start_time": "2021-08-10T05:30:12.474Z"
   },
   {
    "duration": -210,
    "start_time": "2021-08-10T05:30:12.482Z"
   },
   {
    "duration": -212,
    "start_time": "2021-08-10T05:30:12.485Z"
   },
   {
    "duration": 466,
    "start_time": "2021-08-10T05:30:45.163Z"
   },
   {
    "duration": 564,
    "start_time": "2021-08-10T05:34:11.624Z"
   },
   {
    "duration": 1099,
    "start_time": "2021-08-10T05:34:23.279Z"
   },
   {
    "duration": 17,
    "start_time": "2021-08-10T05:34:24.380Z"
   },
   {
    "duration": 11,
    "start_time": "2021-08-10T05:34:24.399Z"
   },
   {
    "duration": 34,
    "start_time": "2021-08-10T05:34:24.412Z"
   },
   {
    "duration": 4,
    "start_time": "2021-08-10T05:34:24.447Z"
   },
   {
    "duration": 10,
    "start_time": "2021-08-10T05:34:24.453Z"
   },
   {
    "duration": 20,
    "start_time": "2021-08-10T05:34:24.464Z"
   },
   {
    "duration": 4,
    "start_time": "2021-08-10T05:34:24.487Z"
   },
   {
    "duration": 25,
    "start_time": "2021-08-10T05:34:24.493Z"
   },
   {
    "duration": 10,
    "start_time": "2021-08-10T05:34:24.541Z"
   },
   {
    "duration": 14,
    "start_time": "2021-08-10T05:34:24.553Z"
   },
   {
    "duration": 13,
    "start_time": "2021-08-10T05:34:24.568Z"
   },
   {
    "duration": 71,
    "start_time": "2021-08-10T05:34:24.583Z"
   },
   {
    "duration": 12,
    "start_time": "2021-08-10T05:34:24.656Z"
   },
   {
    "duration": 25,
    "start_time": "2021-08-10T05:34:24.670Z"
   },
   {
    "duration": 9,
    "start_time": "2021-08-10T05:34:24.697Z"
   },
   {
    "duration": 33,
    "start_time": "2021-08-10T05:34:24.708Z"
   },
   {
    "duration": 9,
    "start_time": "2021-08-10T05:34:24.742Z"
   },
   {
    "duration": 4,
    "start_time": "2021-08-10T05:34:24.753Z"
   },
   {
    "duration": 32,
    "start_time": "2021-08-10T05:34:24.758Z"
   },
   {
    "duration": 522,
    "start_time": "2021-08-10T05:34:24.792Z"
   },
   {
    "duration": 30,
    "start_time": "2021-08-10T05:34:25.315Z"
   },
   {
    "duration": 33,
    "start_time": "2021-08-10T05:34:25.349Z"
   },
   {
    "duration": 7,
    "start_time": "2021-08-10T05:34:25.384Z"
   },
   {
    "duration": 1332,
    "start_time": "2021-08-10T05:34:25.393Z"
   },
   {
    "duration": 476,
    "start_time": "2021-08-10T05:34:26.727Z"
   },
   {
    "duration": 9,
    "start_time": "2021-08-10T05:34:27.205Z"
   },
   {
    "duration": 2166,
    "start_time": "2021-08-10T05:34:27.216Z"
   },
   {
    "duration": 10,
    "start_time": "2021-08-10T05:34:29.383Z"
   },
   {
    "duration": 2199,
    "start_time": "2021-08-10T05:34:29.394Z"
   },
   {
    "duration": 8,
    "start_time": "2021-08-10T05:34:31.595Z"
   },
   {
    "duration": 2075,
    "start_time": "2021-08-10T05:34:31.605Z"
   },
   {
    "duration": 11,
    "start_time": "2021-08-10T05:34:33.682Z"
   },
   {
    "duration": 2178,
    "start_time": "2021-08-10T05:34:33.695Z"
   },
   {
    "duration": 170,
    "start_time": "2021-08-10T05:34:35.875Z"
   },
   {
    "duration": 20,
    "start_time": "2021-08-10T05:34:36.047Z"
   },
   {
    "duration": 337,
    "start_time": "2021-08-10T05:34:36.069Z"
   },
   {
    "duration": 35,
    "start_time": "2021-08-10T05:34:36.407Z"
   },
   {
    "duration": 36,
    "start_time": "2021-08-10T05:34:36.444Z"
   },
   {
    "duration": 27,
    "start_time": "2021-08-10T05:34:36.482Z"
   },
   {
    "duration": 10,
    "start_time": "2021-08-10T05:34:36.511Z"
   },
   {
    "duration": 21,
    "start_time": "2021-08-10T05:34:36.523Z"
   },
   {
    "duration": 5,
    "start_time": "2021-08-10T05:34:36.545Z"
   },
   {
    "duration": 11,
    "start_time": "2021-08-10T05:34:36.552Z"
   },
   {
    "duration": 13,
    "start_time": "2021-08-10T05:34:36.564Z"
   },
   {
    "duration": 15,
    "start_time": "2021-08-10T05:34:36.579Z"
   },
   {
    "duration": 456,
    "start_time": "2021-08-10T05:35:09.498Z"
   },
   {
    "duration": 478,
    "start_time": "2021-08-10T05:35:24.454Z"
   },
   {
    "duration": 7,
    "start_time": "2021-08-10T05:36:48.941Z"
   },
   {
    "duration": 181,
    "start_time": "2021-08-10T05:37:15.932Z"
   },
   {
    "duration": 475,
    "start_time": "2021-08-10T05:37:26.931Z"
   },
   {
    "duration": 362,
    "start_time": "2021-08-10T05:38:57.109Z"
   },
   {
    "duration": 702,
    "start_time": "2021-08-10T05:39:24.980Z"
   },
   {
    "duration": 452,
    "start_time": "2021-08-10T05:40:01.978Z"
   },
   {
    "duration": 2217,
    "start_time": "2021-08-10T05:46:31.509Z"
   },
   {
    "duration": 2348,
    "start_time": "2021-08-10T05:46:57.686Z"
   },
   {
    "duration": 2074,
    "start_time": "2021-08-10T05:47:33.900Z"
   },
   {
    "duration": 2023,
    "start_time": "2021-08-10T05:47:46.388Z"
   },
   {
    "duration": 2277,
    "start_time": "2021-08-10T05:48:10.726Z"
   },
   {
    "duration": 2355,
    "start_time": "2021-08-10T05:49:02.813Z"
   },
   {
    "duration": 2159,
    "start_time": "2021-08-10T05:49:44.149Z"
   },
   {
    "duration": 2492,
    "start_time": "2021-08-10T05:50:45.714Z"
   },
   {
    "duration": 174,
    "start_time": "2021-08-10T05:56:33.469Z"
   },
   {
    "duration": 466,
    "start_time": "2021-08-10T05:56:50.612Z"
   },
   {
    "duration": 481,
    "start_time": "2021-08-10T05:58:07.508Z"
   },
   {
    "duration": 26,
    "start_time": "2021-08-10T07:24:25.295Z"
   },
   {
    "duration": 209,
    "start_time": "2021-08-10T07:25:33.614Z"
   },
   {
    "duration": 586,
    "start_time": "2021-08-10T07:28:02.995Z"
   },
   {
    "duration": 598,
    "start_time": "2021-08-10T07:28:17.058Z"
   },
   {
    "duration": 605,
    "start_time": "2021-08-10T07:29:24.452Z"
   },
   {
    "duration": 1091,
    "start_time": "2021-08-10T07:29:57.631Z"
   },
   {
    "duration": 668,
    "start_time": "2021-08-10T07:30:38.754Z"
   },
   {
    "duration": 628,
    "start_time": "2021-08-10T07:31:00.104Z"
   },
   {
    "duration": 588,
    "start_time": "2021-08-10T07:31:54.073Z"
   },
   {
    "duration": 475,
    "start_time": "2021-08-10T07:32:17.022Z"
   },
   {
    "duration": 241,
    "start_time": "2021-08-10T07:33:12.804Z"
   },
   {
    "duration": 607,
    "start_time": "2021-08-10T07:33:26.623Z"
   },
   {
    "duration": 296,
    "start_time": "2021-08-10T07:34:01.310Z"
   },
   {
    "duration": 1158,
    "start_time": "2021-08-10T07:34:28.010Z"
   },
   {
    "duration": 17,
    "start_time": "2021-08-10T07:34:29.170Z"
   },
   {
    "duration": 11,
    "start_time": "2021-08-10T07:34:29.189Z"
   },
   {
    "duration": 39,
    "start_time": "2021-08-10T07:34:29.203Z"
   },
   {
    "duration": 5,
    "start_time": "2021-08-10T07:34:29.244Z"
   },
   {
    "duration": 8,
    "start_time": "2021-08-10T07:34:29.250Z"
   },
   {
    "duration": 19,
    "start_time": "2021-08-10T07:34:29.260Z"
   },
   {
    "duration": 4,
    "start_time": "2021-08-10T07:34:29.282Z"
   },
   {
    "duration": 55,
    "start_time": "2021-08-10T07:34:29.289Z"
   },
   {
    "duration": 10,
    "start_time": "2021-08-10T07:34:29.345Z"
   },
   {
    "duration": 16,
    "start_time": "2021-08-10T07:34:29.357Z"
   },
   {
    "duration": 14,
    "start_time": "2021-08-10T07:34:29.374Z"
   },
   {
    "duration": 70,
    "start_time": "2021-08-10T07:34:29.390Z"
   },
   {
    "duration": 13,
    "start_time": "2021-08-10T07:34:29.462Z"
   },
   {
    "duration": 25,
    "start_time": "2021-08-10T07:34:29.477Z"
   },
   {
    "duration": 11,
    "start_time": "2021-08-10T07:34:29.504Z"
   },
   {
    "duration": 9,
    "start_time": "2021-08-10T07:34:29.540Z"
   },
   {
    "duration": 9,
    "start_time": "2021-08-10T07:34:29.551Z"
   },
   {
    "duration": 5,
    "start_time": "2021-08-10T07:34:29.562Z"
   },
   {
    "duration": 41,
    "start_time": "2021-08-10T07:34:29.568Z"
   },
   {
    "duration": 531,
    "start_time": "2021-08-10T07:34:29.611Z"
   },
   {
    "duration": 19,
    "start_time": "2021-08-10T07:34:30.144Z"
   },
   {
    "duration": 44,
    "start_time": "2021-08-10T07:34:30.167Z"
   },
   {
    "duration": 7,
    "start_time": "2021-08-10T07:34:30.214Z"
   },
   {
    "duration": 1363,
    "start_time": "2021-08-10T07:34:30.222Z"
   },
   {
    "duration": 481,
    "start_time": "2021-08-10T07:34:31.587Z"
   },
   {
    "duration": 273,
    "start_time": "2021-08-10T07:34:32.070Z"
   },
   {
    "duration": 2150,
    "start_time": "2021-08-10T07:34:32.345Z"
   },
   {
    "duration": 2160,
    "start_time": "2021-08-10T07:34:34.497Z"
   },
   {
    "duration": 2155,
    "start_time": "2021-08-10T07:34:36.659Z"
   },
   {
    "duration": 2175,
    "start_time": "2021-08-10T07:34:38.816Z"
   },
   {
    "duration": 168,
    "start_time": "2021-08-10T07:34:40.993Z"
   },
   {
    "duration": 19,
    "start_time": "2021-08-10T07:34:41.162Z"
   },
   {
    "duration": 340,
    "start_time": "2021-08-10T07:34:41.182Z"
   },
   {
    "duration": 32,
    "start_time": "2021-08-10T07:34:41.523Z"
   },
   {
    "duration": 24,
    "start_time": "2021-08-10T07:34:41.557Z"
   },
   {
    "duration": 26,
    "start_time": "2021-08-10T07:34:41.582Z"
   },
   {
    "duration": 35,
    "start_time": "2021-08-10T07:34:41.610Z"
   },
   {
    "duration": 8,
    "start_time": "2021-08-10T07:34:41.647Z"
   },
   {
    "duration": 25,
    "start_time": "2021-08-10T07:34:41.656Z"
   },
   {
    "duration": 9,
    "start_time": "2021-08-10T07:34:41.683Z"
   },
   {
    "duration": 13,
    "start_time": "2021-08-10T07:34:41.694Z"
   },
   {
    "duration": 14,
    "start_time": "2021-08-10T07:34:41.709Z"
   },
   {
    "duration": 259,
    "start_time": "2021-08-10T07:35:36.536Z"
   },
   {
    "duration": 254,
    "start_time": "2021-08-10T07:35:52.231Z"
   },
   {
    "duration": 90,
    "start_time": "2021-08-10T07:36:23.911Z"
   },
   {
    "duration": 263,
    "start_time": "2021-08-10T07:36:28.134Z"
   },
   {
    "duration": 267,
    "start_time": "2021-08-10T07:37:25.373Z"
   },
   {
    "duration": 597,
    "start_time": "2021-08-10T07:40:44.523Z"
   },
   {
    "duration": 259,
    "start_time": "2021-08-10T07:40:51.979Z"
   },
   {
    "duration": 549,
    "start_time": "2021-08-10T07:42:47.120Z"
   },
   {
    "duration": 376,
    "start_time": "2021-08-10T07:42:55.745Z"
   },
   {
    "duration": 155,
    "start_time": "2021-08-10T08:04:09.120Z"
   },
   {
    "duration": 19,
    "start_time": "2021-08-10T08:04:16.825Z"
   },
   {
    "duration": 312,
    "start_time": "2021-08-10T08:04:29.456Z"
   },
   {
    "duration": 13,
    "start_time": "2021-08-10T08:25:25.081Z"
   },
   {
    "duration": 310,
    "start_time": "2021-08-10T08:25:31.798Z"
   },
   {
    "duration": 1173,
    "start_time": "2021-08-10T08:25:51.208Z"
   },
   {
    "duration": 16,
    "start_time": "2021-08-10T08:25:52.383Z"
   },
   {
    "duration": 24,
    "start_time": "2021-08-10T08:25:52.401Z"
   },
   {
    "duration": 26,
    "start_time": "2021-08-10T08:25:52.426Z"
   },
   {
    "duration": 5,
    "start_time": "2021-08-10T08:25:52.454Z"
   },
   {
    "duration": 9,
    "start_time": "2021-08-10T08:25:52.460Z"
   },
   {
    "duration": 19,
    "start_time": "2021-08-10T08:25:52.471Z"
   },
   {
    "duration": 5,
    "start_time": "2021-08-10T08:25:52.492Z"
   },
   {
    "duration": 52,
    "start_time": "2021-08-10T08:25:52.498Z"
   },
   {
    "duration": 8,
    "start_time": "2021-08-10T08:25:52.552Z"
   },
   {
    "duration": 15,
    "start_time": "2021-08-10T08:25:52.562Z"
   },
   {
    "duration": 12,
    "start_time": "2021-08-10T08:25:52.579Z"
   },
   {
    "duration": 67,
    "start_time": "2021-08-10T08:25:52.593Z"
   },
   {
    "duration": 12,
    "start_time": "2021-08-10T08:25:52.661Z"
   },
   {
    "duration": 24,
    "start_time": "2021-08-10T08:25:52.675Z"
   },
   {
    "duration": 10,
    "start_time": "2021-08-10T08:25:52.700Z"
   },
   {
    "duration": 29,
    "start_time": "2021-08-10T08:25:52.712Z"
   },
   {
    "duration": 9,
    "start_time": "2021-08-10T08:25:52.742Z"
   },
   {
    "duration": 5,
    "start_time": "2021-08-10T08:25:52.752Z"
   },
   {
    "duration": 33,
    "start_time": "2021-08-10T08:25:52.758Z"
   },
   {
    "duration": 530,
    "start_time": "2021-08-10T08:25:52.793Z"
   },
   {
    "duration": 26,
    "start_time": "2021-08-10T08:25:53.324Z"
   },
   {
    "duration": 32,
    "start_time": "2021-08-10T08:25:53.353Z"
   },
   {
    "duration": 6,
    "start_time": "2021-08-10T08:25:53.387Z"
   },
   {
    "duration": 1355,
    "start_time": "2021-08-10T08:25:53.394Z"
   },
   {
    "duration": 491,
    "start_time": "2021-08-10T08:25:54.751Z"
   },
   {
    "duration": 2318,
    "start_time": "2021-08-10T08:25:55.244Z"
   },
   {
    "duration": 2446,
    "start_time": "2021-08-10T08:25:57.564Z"
   },
   {
    "duration": 2137,
    "start_time": "2021-08-10T08:26:00.012Z"
   },
   {
    "duration": 2201,
    "start_time": "2021-08-10T08:26:02.151Z"
   },
   {
    "duration": 171,
    "start_time": "2021-08-10T08:26:04.354Z"
   },
   {
    "duration": 19,
    "start_time": "2021-08-10T08:26:04.527Z"
   },
   {
    "duration": 333,
    "start_time": "2021-08-10T08:26:04.548Z"
   },
   {
    "duration": 25,
    "start_time": "2021-08-10T08:26:04.882Z"
   },
   {
    "duration": 38,
    "start_time": "2021-08-10T08:26:04.909Z"
   },
   {
    "duration": 24,
    "start_time": "2021-08-10T08:26:04.948Z"
   },
   {
    "duration": 7,
    "start_time": "2021-08-10T08:26:04.973Z"
   },
   {
    "duration": 8,
    "start_time": "2021-08-10T08:26:04.981Z"
   },
   {
    "duration": 7,
    "start_time": "2021-08-10T08:26:04.990Z"
   },
   {
    "duration": 11,
    "start_time": "2021-08-10T08:26:04.998Z"
   },
   {
    "duration": 36,
    "start_time": "2021-08-10T08:26:05.011Z"
   },
   {
    "duration": 17,
    "start_time": "2021-08-10T08:26:05.048Z"
   },
   {
    "duration": 27,
    "start_time": "2021-08-10T08:35:04.948Z"
   },
   {
    "duration": 27,
    "start_time": "2021-08-10T08:39:30.232Z"
   },
   {
    "duration": 1156,
    "start_time": "2021-08-10T08:51:37.460Z"
   },
   {
    "duration": 17,
    "start_time": "2021-08-10T08:51:38.617Z"
   },
   {
    "duration": 12,
    "start_time": "2021-08-10T08:51:38.637Z"
   },
   {
    "duration": 27,
    "start_time": "2021-08-10T08:51:38.651Z"
   },
   {
    "duration": 4,
    "start_time": "2021-08-10T08:51:38.680Z"
   },
   {
    "duration": 9,
    "start_time": "2021-08-10T08:51:38.686Z"
   },
   {
    "duration": 50,
    "start_time": "2021-08-10T08:51:38.697Z"
   },
   {
    "duration": 5,
    "start_time": "2021-08-10T08:51:38.750Z"
   },
   {
    "duration": 24,
    "start_time": "2021-08-10T08:51:38.757Z"
   },
   {
    "duration": 11,
    "start_time": "2021-08-10T08:51:38.783Z"
   },
   {
    "duration": 14,
    "start_time": "2021-08-10T08:51:38.796Z"
   },
   {
    "duration": 42,
    "start_time": "2021-08-10T08:51:38.811Z"
   },
   {
    "duration": 45,
    "start_time": "2021-08-10T08:51:38.855Z"
   },
   {
    "duration": 13,
    "start_time": "2021-08-10T08:51:38.901Z"
   },
   {
    "duration": 41,
    "start_time": "2021-08-10T08:51:38.916Z"
   },
   {
    "duration": 9,
    "start_time": "2021-08-10T08:51:38.959Z"
   },
   {
    "duration": 8,
    "start_time": "2021-08-10T08:51:38.969Z"
   },
   {
    "duration": 9,
    "start_time": "2021-08-10T08:51:38.978Z"
   },
   {
    "duration": 4,
    "start_time": "2021-08-10T08:51:38.988Z"
   },
   {
    "duration": 66,
    "start_time": "2021-08-10T08:51:38.993Z"
   },
   {
    "duration": 507,
    "start_time": "2021-08-10T08:51:39.061Z"
   },
   {
    "duration": 17,
    "start_time": "2021-08-10T08:51:39.569Z"
   },
   {
    "duration": 46,
    "start_time": "2021-08-10T08:51:39.589Z"
   },
   {
    "duration": 6,
    "start_time": "2021-08-10T08:51:39.637Z"
   },
   {
    "duration": 1330,
    "start_time": "2021-08-10T08:51:39.644Z"
   },
   {
    "duration": 474,
    "start_time": "2021-08-10T08:51:40.976Z"
   },
   {
    "duration": 2159,
    "start_time": "2021-08-10T08:51:41.452Z"
   },
   {
    "duration": 2290,
    "start_time": "2021-08-10T08:51:43.613Z"
   },
   {
    "duration": 2203,
    "start_time": "2021-08-10T08:51:45.905Z"
   },
   {
    "duration": 2209,
    "start_time": "2021-08-10T08:51:48.110Z"
   },
   {
    "duration": 174,
    "start_time": "2021-08-10T08:51:50.321Z"
   },
   {
    "duration": 15,
    "start_time": "2021-08-10T08:51:50.497Z"
   },
   {
    "duration": 349,
    "start_time": "2021-08-10T08:51:50.514Z"
   },
   {
    "duration": 25,
    "start_time": "2021-08-10T08:51:50.865Z"
   },
   {
    "duration": 43,
    "start_time": "2021-08-10T08:51:50.892Z"
   },
   {
    "duration": 28,
    "start_time": "2021-08-10T08:51:50.940Z"
   },
   {
    "duration": 11,
    "start_time": "2021-08-10T08:51:50.970Z"
   },
   {
    "duration": 19,
    "start_time": "2021-08-10T08:51:50.983Z"
   },
   {
    "duration": 15,
    "start_time": "2021-08-10T08:51:51.003Z"
   },
   {
    "duration": 41,
    "start_time": "2021-08-10T08:51:51.019Z"
   },
   {
    "duration": 24,
    "start_time": "2021-08-10T08:51:51.062Z"
   },
   {
    "duration": 25,
    "start_time": "2021-08-10T08:51:51.088Z"
   },
   {
    "duration": 107,
    "start_time": "2021-08-10T09:20:45.272Z"
   },
   {
    "duration": 87,
    "start_time": "2021-08-10T09:23:22.533Z"
   },
   {
    "duration": 1553,
    "start_time": "2022-02-18T19:59:23.730Z"
   },
   {
    "duration": 28,
    "start_time": "2022-02-18T19:59:25.286Z"
   },
   {
    "duration": 33,
    "start_time": "2022-02-18T19:59:25.317Z"
   },
   {
    "duration": 46,
    "start_time": "2022-02-18T19:59:25.353Z"
   },
   {
    "duration": 6,
    "start_time": "2022-02-18T19:59:25.402Z"
   },
   {
    "duration": 40,
    "start_time": "2022-02-18T19:59:25.410Z"
   },
   {
    "duration": 32,
    "start_time": "2022-02-18T19:59:25.452Z"
   },
   {
    "duration": 7,
    "start_time": "2022-02-18T19:59:25.489Z"
   },
   {
    "duration": 69,
    "start_time": "2022-02-18T19:59:25.499Z"
   },
   {
    "duration": 14,
    "start_time": "2022-02-18T19:59:25.571Z"
   },
   {
    "duration": 22,
    "start_time": "2022-02-18T19:59:25.588Z"
   },
   {
    "duration": 49,
    "start_time": "2022-02-18T19:59:25.613Z"
   },
   {
    "duration": 83,
    "start_time": "2022-02-18T19:59:25.665Z"
   },
   {
    "duration": 19,
    "start_time": "2022-02-18T19:59:25.751Z"
   },
   {
    "duration": 41,
    "start_time": "2022-02-18T19:59:25.773Z"
   },
   {
    "duration": 45,
    "start_time": "2022-02-18T19:59:25.817Z"
   },
   {
    "duration": 17,
    "start_time": "2022-02-18T19:59:25.864Z"
   },
   {
    "duration": 12,
    "start_time": "2022-02-18T19:59:25.883Z"
   },
   {
    "duration": 6,
    "start_time": "2022-02-18T19:59:25.898Z"
   },
   {
    "duration": 102,
    "start_time": "2022-02-18T19:59:25.906Z"
   },
   {
    "duration": 1096,
    "start_time": "2022-02-18T19:59:26.011Z"
   },
   {
    "duration": 45,
    "start_time": "2022-02-18T19:59:27.110Z"
   },
   {
    "duration": 14,
    "start_time": "2022-02-18T19:59:27.161Z"
   },
   {
    "duration": 2507,
    "start_time": "2022-02-18T19:59:27.179Z"
   },
   {
    "duration": 912,
    "start_time": "2022-02-18T19:59:29.688Z"
   },
   {
    "duration": 4033,
    "start_time": "2022-02-18T19:59:30.603Z"
   },
   {
    "duration": 3720,
    "start_time": "2022-02-18T19:59:34.639Z"
   },
   {
    "duration": 3694,
    "start_time": "2022-02-18T19:59:38.361Z"
   },
   {
    "duration": 3970,
    "start_time": "2022-02-18T19:59:42.058Z"
   },
   {
    "duration": 282,
    "start_time": "2022-02-18T19:59:46.031Z"
   },
   {
    "duration": 16,
    "start_time": "2022-02-18T19:59:46.316Z"
   },
   {
    "duration": 20,
    "start_time": "2022-02-18T19:59:46.334Z"
   },
   {
    "duration": 609,
    "start_time": "2022-02-18T19:59:46.357Z"
   },
   {
    "duration": 49,
    "start_time": "2022-02-18T19:59:46.969Z"
   },
   {
    "duration": 70,
    "start_time": "2022-02-18T19:59:47.021Z"
   },
   {
    "duration": 69,
    "start_time": "2022-02-18T19:59:47.094Z"
   },
   {
    "duration": 11,
    "start_time": "2022-02-18T19:59:47.166Z"
   },
   {
    "duration": 15,
    "start_time": "2022-02-18T19:59:47.180Z"
   },
   {
    "duration": 51,
    "start_time": "2022-02-18T19:59:47.198Z"
   },
   {
    "duration": 11,
    "start_time": "2022-02-18T19:59:47.252Z"
   },
   {
    "duration": 16,
    "start_time": "2022-02-18T19:59:47.267Z"
   },
   {
    "duration": 11,
    "start_time": "2022-02-18T19:59:47.286Z"
   },
   {
    "duration": 977,
    "start_time": "2022-02-18T20:00:49.122Z"
   },
   {
    "duration": 942,
    "start_time": "2022-02-18T20:01:13.277Z"
   },
   {
    "duration": 567,
    "start_time": "2022-02-18T20:01:51.004Z"
   },
   {
    "duration": 1508,
    "start_time": "2022-02-27T17:08:36.022Z"
   },
   {
    "duration": 26,
    "start_time": "2022-02-27T17:08:37.533Z"
   },
   {
    "duration": 19,
    "start_time": "2022-02-27T17:08:37.561Z"
   },
   {
    "duration": 43,
    "start_time": "2022-02-27T17:08:37.583Z"
   },
   {
    "duration": 5,
    "start_time": "2022-02-27T17:08:37.629Z"
   },
   {
    "duration": 36,
    "start_time": "2022-02-27T17:08:37.637Z"
   },
   {
    "duration": 30,
    "start_time": "2022-02-27T17:08:37.675Z"
   },
   {
    "duration": 7,
    "start_time": "2022-02-27T17:08:37.709Z"
   },
   {
    "duration": 78,
    "start_time": "2022-02-27T17:08:37.719Z"
   },
   {
    "duration": 14,
    "start_time": "2022-02-27T17:08:37.800Z"
   },
   {
    "duration": 30,
    "start_time": "2022-02-27T17:08:37.817Z"
   },
   {
    "duration": 39,
    "start_time": "2022-02-27T17:08:37.849Z"
   },
   {
    "duration": 86,
    "start_time": "2022-02-27T17:08:37.890Z"
   },
   {
    "duration": 18,
    "start_time": "2022-02-27T17:08:37.978Z"
   },
   {
    "duration": 44,
    "start_time": "2022-02-27T17:08:37.999Z"
   },
   {
    "duration": 38,
    "start_time": "2022-02-27T17:08:38.046Z"
   },
   {
    "duration": 15,
    "start_time": "2022-02-27T17:08:38.087Z"
   },
   {
    "duration": 22,
    "start_time": "2022-02-27T17:08:38.105Z"
   },
   {
    "duration": 9,
    "start_time": "2022-02-27T17:08:38.130Z"
   },
   {
    "duration": 85,
    "start_time": "2022-02-27T17:08:38.141Z"
   },
   {
    "duration": 964,
    "start_time": "2022-02-27T17:08:38.229Z"
   },
   {
    "duration": 29,
    "start_time": "2022-02-27T17:08:39.195Z"
   },
   {
    "duration": 10,
    "start_time": "2022-02-27T17:08:39.229Z"
   },
   {
    "duration": 2379,
    "start_time": "2022-02-27T17:08:39.242Z"
   },
   {
    "duration": 933,
    "start_time": "2022-02-27T17:08:41.623Z"
   },
   {
    "duration": 3973,
    "start_time": "2022-02-27T17:08:42.558Z"
   },
   {
    "duration": 3728,
    "start_time": "2022-02-27T17:08:46.533Z"
   },
   {
    "duration": 3636,
    "start_time": "2022-02-27T17:08:50.263Z"
   },
   {
    "duration": 3755,
    "start_time": "2022-02-27T17:08:53.902Z"
   },
   {
    "duration": 306,
    "start_time": "2022-02-27T17:08:57.659Z"
   },
   {
    "duration": 18,
    "start_time": "2022-02-27T17:08:57.973Z"
   },
   {
    "duration": 11,
    "start_time": "2022-02-27T17:08:57.994Z"
   },
   {
    "duration": 703,
    "start_time": "2022-02-27T17:08:58.008Z"
   },
   {
    "duration": 63,
    "start_time": "2022-02-27T17:08:58.713Z"
   },
   {
    "duration": 49,
    "start_time": "2022-02-27T17:08:58.779Z"
   },
   {
    "duration": 64,
    "start_time": "2022-02-27T17:08:58.831Z"
   },
   {
    "duration": 12,
    "start_time": "2022-02-27T17:08:58.897Z"
   },
   {
    "duration": 16,
    "start_time": "2022-02-27T17:08:58.912Z"
   },
   {
    "duration": 8,
    "start_time": "2022-02-27T17:08:58.930Z"
   },
   {
    "duration": 13,
    "start_time": "2022-02-27T17:08:58.974Z"
   },
   {
    "duration": 12,
    "start_time": "2022-02-27T17:08:58.989Z"
   },
   {
    "duration": 7,
    "start_time": "2022-02-27T17:08:59.003Z"
   }
  ],
  "kernelspec": {
   "display_name": "Python 3",
   "language": "python",
   "name": "python3"
  },
  "language_info": {
   "codemirror_mode": {
    "name": "ipython",
    "version": 3
   },
   "file_extension": ".py",
   "mimetype": "text/x-python",
   "name": "python",
   "nbconvert_exporter": "python",
   "pygments_lexer": "ipython3",
   "version": "3.7.8"
  },
  "toc": {
   "base_numbering": 1,
   "nav_menu": {},
   "number_sections": true,
   "sideBar": true,
   "skip_h1_title": true,
   "title_cell": "Table of Contents",
   "title_sidebar": "Contents",
   "toc_cell": false,
   "toc_position": {},
   "toc_section_display": true,
   "toc_window_display": false
  }
 },
 "nbformat": 4,
 "nbformat_minor": 2
}
