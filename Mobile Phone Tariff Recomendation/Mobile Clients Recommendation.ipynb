{
 "cells": [
  {
   "cell_type": "markdown",
   "metadata": {},
   "source": [
    "# Mobile Phone Tariff Recomendation"
   ]
  },
  {
   "cell_type": "markdown",
   "metadata": {},
   "source": [
    "In our possesion information about mobile operator clients that use \"Ultra\" and \"Smart\" tariffs. We need to build model to recommend to customers optimal for them tariff. Model Accuracy hos to be not less than 0.75.\n",
    "\n",
    "Data describtion:\n",
    " - сalls — number of calls per month,\n",
    " - minutes — summury calls duration per month in minutes,\n",
    " - messages — number of sms per month,\n",
    " - mb_used — internet traffic per month in mb,\n",
    " - is_ultra — tariff («Ultra» — 1, «Smart» — 0)."
   ]
  },
  {
   "cell_type": "markdown",
   "metadata": {},
   "source": [
    "## Data Exploration"
   ]
  },
  {
   "cell_type": "code",
   "execution_count": 1,
   "metadata": {},
   "outputs": [],
   "source": [
    "#libraries and data importing\n",
    "import pandas as pd\n",
    "from sklearn.model_selection import train_test_split\n",
    "from sklearn.tree import DecisionTreeClassifier\n",
    "from sklearn.ensemble import RandomForestClassifier\n",
    "from sklearn.linear_model import LogisticRegression\n",
    "from sklearn.metrics import accuracy_score\n",
    "from sklearn.dummy import DummyClassifier\n",
    "from matplotlib import pyplot as plt\n",
    "import seaborn as sns\n",
    "import warnings\n",
    "warnings.filterwarnings('ignore')\n",
    "df = pd.read_csv('/datasets/users_behavior.csv')"
   ]
  },
  {
   "cell_type": "code",
   "execution_count": 2,
   "metadata": {},
   "outputs": [
    {
     "name": "stdout",
     "output_type": "stream",
     "text": [
      "<class 'pandas.core.frame.DataFrame'>\n",
      "RangeIndex: 3214 entries, 0 to 3213\n",
      "Data columns (total 5 columns):\n",
      "calls       3214 non-null float64\n",
      "minutes     3214 non-null float64\n",
      "messages    3214 non-null float64\n",
      "mb_used     3214 non-null float64\n",
      "is_ultra    3214 non-null int64\n",
      "dtypes: float64(4), int64(1)\n",
      "memory usage: 125.7 KB\n"
     ]
    }
   ],
   "source": [
    "#a look at the data\n",
    "df.info()"
   ]
  },
  {
   "cell_type": "code",
   "execution_count": 3,
   "metadata": {},
   "outputs": [
    {
     "data": {
      "text/html": [
       "<div>\n",
       "<style scoped>\n",
       "    .dataframe tbody tr th:only-of-type {\n",
       "        vertical-align: middle;\n",
       "    }\n",
       "\n",
       "    .dataframe tbody tr th {\n",
       "        vertical-align: top;\n",
       "    }\n",
       "\n",
       "    .dataframe thead th {\n",
       "        text-align: right;\n",
       "    }\n",
       "</style>\n",
       "<table border=\"1\" class=\"dataframe\">\n",
       "  <thead>\n",
       "    <tr style=\"text-align: right;\">\n",
       "      <th></th>\n",
       "      <th>calls</th>\n",
       "      <th>minutes</th>\n",
       "      <th>messages</th>\n",
       "      <th>mb_used</th>\n",
       "      <th>is_ultra</th>\n",
       "    </tr>\n",
       "  </thead>\n",
       "  <tbody>\n",
       "    <tr>\n",
       "      <td>2249</td>\n",
       "      <td>46.0</td>\n",
       "      <td>314.16</td>\n",
       "      <td>48.0</td>\n",
       "      <td>16684.31</td>\n",
       "      <td>1</td>\n",
       "    </tr>\n",
       "    <tr>\n",
       "      <td>2690</td>\n",
       "      <td>22.0</td>\n",
       "      <td>161.37</td>\n",
       "      <td>24.0</td>\n",
       "      <td>3805.40</td>\n",
       "      <td>1</td>\n",
       "    </tr>\n",
       "    <tr>\n",
       "      <td>2712</td>\n",
       "      <td>94.0</td>\n",
       "      <td>587.74</td>\n",
       "      <td>26.0</td>\n",
       "      <td>19213.87</td>\n",
       "      <td>0</td>\n",
       "    </tr>\n",
       "    <tr>\n",
       "      <td>452</td>\n",
       "      <td>26.0</td>\n",
       "      <td>198.05</td>\n",
       "      <td>19.0</td>\n",
       "      <td>11336.44</td>\n",
       "      <td>0</td>\n",
       "    </tr>\n",
       "    <tr>\n",
       "      <td>965</td>\n",
       "      <td>81.0</td>\n",
       "      <td>542.22</td>\n",
       "      <td>21.0</td>\n",
       "      <td>15356.16</td>\n",
       "      <td>0</td>\n",
       "    </tr>\n",
       "    <tr>\n",
       "      <td>1393</td>\n",
       "      <td>72.0</td>\n",
       "      <td>462.96</td>\n",
       "      <td>1.0</td>\n",
       "      <td>11958.39</td>\n",
       "      <td>0</td>\n",
       "    </tr>\n",
       "    <tr>\n",
       "      <td>542</td>\n",
       "      <td>107.0</td>\n",
       "      <td>729.44</td>\n",
       "      <td>153.0</td>\n",
       "      <td>32990.68</td>\n",
       "      <td>1</td>\n",
       "    </tr>\n",
       "    <tr>\n",
       "      <td>1323</td>\n",
       "      <td>74.0</td>\n",
       "      <td>492.63</td>\n",
       "      <td>2.0</td>\n",
       "      <td>27383.18</td>\n",
       "      <td>1</td>\n",
       "    </tr>\n",
       "    <tr>\n",
       "      <td>675</td>\n",
       "      <td>31.0</td>\n",
       "      <td>176.40</td>\n",
       "      <td>31.0</td>\n",
       "      <td>16673.38</td>\n",
       "      <td>0</td>\n",
       "    </tr>\n",
       "    <tr>\n",
       "      <td>1553</td>\n",
       "      <td>37.0</td>\n",
       "      <td>296.79</td>\n",
       "      <td>17.0</td>\n",
       "      <td>9979.44</td>\n",
       "      <td>0</td>\n",
       "    </tr>\n",
       "  </tbody>\n",
       "</table>\n",
       "</div>"
      ],
      "text/plain": [
       "      calls  minutes  messages   mb_used  is_ultra\n",
       "2249   46.0   314.16      48.0  16684.31         1\n",
       "2690   22.0   161.37      24.0   3805.40         1\n",
       "2712   94.0   587.74      26.0  19213.87         0\n",
       "452    26.0   198.05      19.0  11336.44         0\n",
       "965    81.0   542.22      21.0  15356.16         0\n",
       "1393   72.0   462.96       1.0  11958.39         0\n",
       "542   107.0   729.44     153.0  32990.68         1\n",
       "1323   74.0   492.63       2.0  27383.18         1\n",
       "675    31.0   176.40      31.0  16673.38         0\n",
       "1553   37.0   296.79      17.0   9979.44         0"
      ]
     },
     "execution_count": 3,
     "metadata": {},
     "output_type": "execute_result"
    }
   ],
   "source": [
    "df.sample(10)"
   ]
  },
  {
   "cell_type": "code",
   "execution_count": 4,
   "metadata": {},
   "outputs": [
    {
     "data": {
      "text/html": [
       "<div>\n",
       "<style scoped>\n",
       "    .dataframe tbody tr th:only-of-type {\n",
       "        vertical-align: middle;\n",
       "    }\n",
       "\n",
       "    .dataframe tbody tr th {\n",
       "        vertical-align: top;\n",
       "    }\n",
       "\n",
       "    .dataframe thead th {\n",
       "        text-align: right;\n",
       "    }\n",
       "</style>\n",
       "<table border=\"1\" class=\"dataframe\">\n",
       "  <thead>\n",
       "    <tr style=\"text-align: right;\">\n",
       "      <th></th>\n",
       "      <th>calls</th>\n",
       "      <th>minutes</th>\n",
       "      <th>messages</th>\n",
       "      <th>mb_used</th>\n",
       "      <th>is_ultra</th>\n",
       "    </tr>\n",
       "  </thead>\n",
       "  <tbody>\n",
       "    <tr>\n",
       "      <td>count</td>\n",
       "      <td>3214.000000</td>\n",
       "      <td>3214.000000</td>\n",
       "      <td>3214.000000</td>\n",
       "      <td>3214.000000</td>\n",
       "      <td>3214.000000</td>\n",
       "    </tr>\n",
       "    <tr>\n",
       "      <td>mean</td>\n",
       "      <td>63.038892</td>\n",
       "      <td>438.208787</td>\n",
       "      <td>38.281269</td>\n",
       "      <td>17207.673836</td>\n",
       "      <td>0.306472</td>\n",
       "    </tr>\n",
       "    <tr>\n",
       "      <td>std</td>\n",
       "      <td>33.236368</td>\n",
       "      <td>234.569872</td>\n",
       "      <td>36.148326</td>\n",
       "      <td>7570.968246</td>\n",
       "      <td>0.461100</td>\n",
       "    </tr>\n",
       "    <tr>\n",
       "      <td>min</td>\n",
       "      <td>0.000000</td>\n",
       "      <td>0.000000</td>\n",
       "      <td>0.000000</td>\n",
       "      <td>0.000000</td>\n",
       "      <td>0.000000</td>\n",
       "    </tr>\n",
       "    <tr>\n",
       "      <td>25%</td>\n",
       "      <td>40.000000</td>\n",
       "      <td>274.575000</td>\n",
       "      <td>9.000000</td>\n",
       "      <td>12491.902500</td>\n",
       "      <td>0.000000</td>\n",
       "    </tr>\n",
       "    <tr>\n",
       "      <td>50%</td>\n",
       "      <td>62.000000</td>\n",
       "      <td>430.600000</td>\n",
       "      <td>30.000000</td>\n",
       "      <td>16943.235000</td>\n",
       "      <td>0.000000</td>\n",
       "    </tr>\n",
       "    <tr>\n",
       "      <td>75%</td>\n",
       "      <td>82.000000</td>\n",
       "      <td>571.927500</td>\n",
       "      <td>57.000000</td>\n",
       "      <td>21424.700000</td>\n",
       "      <td>1.000000</td>\n",
       "    </tr>\n",
       "    <tr>\n",
       "      <td>max</td>\n",
       "      <td>244.000000</td>\n",
       "      <td>1632.060000</td>\n",
       "      <td>224.000000</td>\n",
       "      <td>49745.730000</td>\n",
       "      <td>1.000000</td>\n",
       "    </tr>\n",
       "  </tbody>\n",
       "</table>\n",
       "</div>"
      ],
      "text/plain": [
       "             calls      minutes     messages       mb_used     is_ultra\n",
       "count  3214.000000  3214.000000  3214.000000   3214.000000  3214.000000\n",
       "mean     63.038892   438.208787    38.281269  17207.673836     0.306472\n",
       "std      33.236368   234.569872    36.148326   7570.968246     0.461100\n",
       "min       0.000000     0.000000     0.000000      0.000000     0.000000\n",
       "25%      40.000000   274.575000     9.000000  12491.902500     0.000000\n",
       "50%      62.000000   430.600000    30.000000  16943.235000     0.000000\n",
       "75%      82.000000   571.927500    57.000000  21424.700000     1.000000\n",
       "max     244.000000  1632.060000   224.000000  49745.730000     1.000000"
      ]
     },
     "execution_count": 4,
     "metadata": {},
     "output_type": "execute_result"
    }
   ],
   "source": [
    "df.describe()"
   ]
  },
  {
   "cell_type": "code",
   "execution_count": 5,
   "metadata": {},
   "outputs": [
    {
     "data": {
      "text/html": [
       "<div>\n",
       "<style scoped>\n",
       "    .dataframe tbody tr th:only-of-type {\n",
       "        vertical-align: middle;\n",
       "    }\n",
       "\n",
       "    .dataframe tbody tr th {\n",
       "        vertical-align: top;\n",
       "    }\n",
       "\n",
       "    .dataframe thead th {\n",
       "        text-align: right;\n",
       "    }\n",
       "</style>\n",
       "<table border=\"1\" class=\"dataframe\">\n",
       "  <thead>\n",
       "    <tr style=\"text-align: right;\">\n",
       "      <th></th>\n",
       "      <th>calls</th>\n",
       "      <th>minutes</th>\n",
       "      <th>messages</th>\n",
       "      <th>mb_used</th>\n",
       "      <th>is_ultra</th>\n",
       "    </tr>\n",
       "  </thead>\n",
       "  <tbody>\n",
       "    <tr>\n",
       "      <td>0</td>\n",
       "      <td>40</td>\n",
       "      <td>311.90</td>\n",
       "      <td>83</td>\n",
       "      <td>19915.42</td>\n",
       "      <td>0</td>\n",
       "    </tr>\n",
       "    <tr>\n",
       "      <td>1</td>\n",
       "      <td>85</td>\n",
       "      <td>516.75</td>\n",
       "      <td>56</td>\n",
       "      <td>22696.96</td>\n",
       "      <td>0</td>\n",
       "    </tr>\n",
       "    <tr>\n",
       "      <td>2</td>\n",
       "      <td>77</td>\n",
       "      <td>467.66</td>\n",
       "      <td>86</td>\n",
       "      <td>21060.45</td>\n",
       "      <td>0</td>\n",
       "    </tr>\n",
       "    <tr>\n",
       "      <td>3</td>\n",
       "      <td>106</td>\n",
       "      <td>745.53</td>\n",
       "      <td>81</td>\n",
       "      <td>8437.39</td>\n",
       "      <td>1</td>\n",
       "    </tr>\n",
       "    <tr>\n",
       "      <td>4</td>\n",
       "      <td>66</td>\n",
       "      <td>418.74</td>\n",
       "      <td>1</td>\n",
       "      <td>14502.75</td>\n",
       "      <td>0</td>\n",
       "    </tr>\n",
       "  </tbody>\n",
       "</table>\n",
       "</div>"
      ],
      "text/plain": [
       "   calls  minutes  messages   mb_used  is_ultra\n",
       "0     40   311.90        83  19915.42         0\n",
       "1     85   516.75        56  22696.96         0\n",
       "2     77   467.66        86  21060.45         0\n",
       "3    106   745.53        81   8437.39         1\n",
       "4     66   418.74         1  14502.75         0"
      ]
     },
     "execution_count": 5,
     "metadata": {},
     "output_type": "execute_result"
    }
   ],
   "source": [
    "#convert float to integer\n",
    "cols = ['calls', 'messages']\n",
    "for col in cols:\n",
    "    df[col] = df[col].astype(int)\n",
    "\n",
    "df.head()"
   ]
  },
  {
   "cell_type": "code",
   "execution_count": 6,
   "metadata": {
    "scrolled": true
   },
   "outputs": [
    {
     "data": {
      "text/plain": [
       "(<seaborn.axisgrid.PairGrid at 0x7f71e29651d0>,\n",
       " Text(0.5, 1.05, 'Scatter matrix for mobile data'),\n",
       "              calls   minutes  messages   mb_used\n",
       " calls     1.000000  0.982083  0.177385  0.286442\n",
       " minutes   0.982083  1.000000  0.173110  0.280967\n",
       " messages  0.177385  0.173110  1.000000  0.195721\n",
       " mb_used   0.286442  0.280967  0.195721  1.000000)"
      ]
     },
     "execution_count": 6,
     "metadata": {},
     "output_type": "execute_result"
    },
    {
     "data": {
      "image/png": "[encoded data removed]",
      "text/plain": [
       "<Figure size 900x900 with 30 Axes>"
      ]
     },
     "metadata": {
      "needs_background": "light"
     },
     "output_type": "display_data"
    }
   ],
   "source": [
    "#check multicollinearity\n",
    "def data_pairplot(dataset):\n",
    "    plot = sns.pairplot(dataset)\n",
    "    return (plot, plot.fig.suptitle('Scatter matrix for mobile data', fontsize=15, y=1.05), \n",
    "            dataset[['calls', 'minutes', 'messages', 'mb_used']].corr())\n",
    "    \n",
    "data_pairplot(df)"
   ]
  },
  {
   "cell_type": "markdown",
   "metadata": {},
   "source": [
    "### Conclusion"
   ]
  },
  {
   "cell_type": "markdown",
   "metadata": {},
   "source": [
    "Data explored. Turns out that calls strongly correlated with munites. Drop one of the features to avoid influence of multicollinearity on model.\n"
   ]
  },
  {
   "cell_type": "markdown",
   "metadata": {},
   "source": [
    "## Data Preprocessing"
   ]
  },
  {
   "cell_type": "code",
   "execution_count": 7,
   "metadata": {},
   "outputs": [
    {
     "name": "stdout",
     "output_type": "stream",
     "text": [
      "(1928, 5)\n",
      "(643, 5)\n",
      "(643, 5)\n"
     ]
    }
   ],
   "source": [
    "#brake data off on train, valid and test\n",
    "train_valid, test = train_test_split(df, test_size=0.2, stratify=df['is_ultra'])\n",
    "train, valid = train_test_split(train_valid, test_size=0.25, stratify=train_valid['is_ultra'])\n",
    "\n",
    "features_train = train.drop(['is_ultra', 'calls'], axis=1)\n",
    "target_train = train['is_ultra']\n",
    "\n",
    "features_valid = valid.drop(['is_ultra', 'calls'], axis=1)\n",
    "target_valid = valid['is_ultra']\n",
    "\n",
    "features_test = test.drop(['is_ultra', 'calls'], axis=1)\n",
    "target_test = test['is_ultra']\n",
    "\n",
    "#check samples sizes\n",
    "samples = [train, valid, test]\n",
    "for sample in samples:\n",
    "    print(sample.shape)\n",
    "\n"
   ]
  },
  {
   "cell_type": "markdown",
   "metadata": {},
   "source": [
    "## Machine Learning"
   ]
  },
  {
   "cell_type": "code",
   "execution_count": 8,
   "metadata": {},
   "outputs": [
    {
     "name": "stdout",
     "output_type": "stream",
     "text": [
      "Accuracy of the best model: 0.80248833592535\n",
      "Max_depth of the best model: 3\n"
     ]
    }
   ],
   "source": [
    "#DecisionTreeClassifier at first\n",
    "best_tree_model = None\n",
    "best_tree_result = 0\n",
    "\n",
    "for depth in range(1, 6):\n",
    "    tree = DecisionTreeClassifier(random_state=12345, max_depth=depth) \n",
    "    tree.fit(features_train, target_train)\n",
    "    predictions = tree.predict(features_valid)\n",
    "    result = accuracy_score(target_valid, predictions) \n",
    "    if result > best_tree_result:\n",
    "        best_tree_max_depth = depth\n",
    "        best_tree_result = result\n",
    "        best_tree_model = tree\n",
    "\n",
    "print(\"Accuracy of the best model:\", best_tree_result)\n",
    "print(\"Max_depth of the best model:\", best_tree_max_depth)"
   ]
  },
  {
   "cell_type": "code",
   "execution_count": 9,
   "metadata": {},
   "outputs": [
    {
     "name": "stdout",
     "output_type": "stream",
     "text": [
      "Accuracy of the best model: 0.8055987558320373\n",
      "n_estimators of the best model: 3\n",
      "Max_depth of the best model: 4\n",
      "Criterion of the best model: gini\n"
     ]
    }
   ],
   "source": [
    "#then RandomForestClassifier\n",
    "best_forest_model = None\n",
    "best_forest_result = 0\n",
    "criterions = ['gini', 'entropy']\n",
    "\n",
    "for est in range(1, 11):\n",
    "    for depth in range(1, 6):\n",
    "        for crit in criterions:\n",
    "            rf = RandomForestClassifier(random_state=12345, n_estimators=est, max_depth = depth, criterion = crit)  \n",
    "            rf.fit(features_train, target_train)\n",
    "            result = rf.score(features_valid, target_valid)\n",
    "            if result > best_forest_result:\n",
    "                best_forest_model = rf\n",
    "                best_forest_result = rf.score(features_valid, target_valid)\n",
    "                best_est = est\n",
    "                best_forest_max_depth = depth\n",
    "                best_crit = crit\n",
    "\n",
    "print(\"Accuracy of the best model:\", best_forest_result)\n",
    "print(\"n_estimators of the best model:\", best_est)\n",
    "print(\"Max_depth of the best model:\", best_forest_max_depth)\n",
    "print(\"Criterion of the best model:\", best_crit)"
   ]
  },
  {
   "cell_type": "code",
   "execution_count": 10,
   "metadata": {},
   "outputs": [
    {
     "name": "stdout",
     "output_type": "stream",
     "text": [
      "Accuracy of the best model: 0.7573872472783826\n",
      "Solver of the best model: newton-cg\n",
      "Penalty of the best model: l1\n",
      "C of the best model: 1e-05\n"
     ]
    }
   ],
   "source": [
    "#LogisticRegression\n",
    "best_regression_model = None\n",
    "best_regression_result = 0\n",
    "solver_types = ['newton-cg', 'lbfgs', 'liblinear', 'sag', 'saga']\n",
    "C_values = [1000000 ,100000, 10000, 1000, 100, 10, 1.0, 0.1, 0.01, 0.001, 0.0001, 0.00001]\n",
    "penalty_types = ['l1', 'l2', 'elasticnet', 'none']\n",
    "\n",
    "for solver_type in solver_types:\n",
    "    for penalty_type in penalty_types:\n",
    "        for C_value in C_values:\n",
    "            lr = LogisticRegression(random_state=12345, solver = solver_type, penalty = 'l2', C = C_value)\n",
    "            lr.fit(features_train, target_train)\n",
    "            result = lr.score(features_valid, target_valid)\n",
    "            if result > best_regression_result:\n",
    "                best_regression_model = lr\n",
    "                best_regression_result = result\n",
    "                best_solver = solver_type\n",
    "                best_C = C_value\n",
    "                best_penalty = penalty_type\n",
    "\n",
    "    \n",
    "print(\"Accuracy of the best model:\", best_regression_result)\n",
    "print(\"Solver of the best model:\", best_solver)\n",
    "print(\"Penalty of the best model:\", best_penalty)\n",
    "print(\"C of the best model:\", best_C)"
   ]
  },
  {
   "cell_type": "code",
   "execution_count": 11,
   "metadata": {},
   "outputs": [
    {
     "name": "stdout",
     "output_type": "stream",
     "text": [
      "                        accuracy\n",
      "best_tree_result        0.802488\n",
      "best_forest_result      0.805599\n",
      "best_regression_result  0.757387\n"
     ]
    },
    {
     "data": {
      "image/png": "[encoded data removed]",
      "text/plain": [
       "<Figure size 432x432 with 1 Axes>"
      ]
     },
     "metadata": {
      "needs_background": "light"
     },
     "output_type": "display_data"
    }
   ],
   "source": [
    "#compare results on validation\n",
    "results = pd.DataFrame({'accuracy' : [best_tree_result, best_forest_result, best_regression_result]}, \n",
    "                       index = ['best_tree_result', 'best_forest_result', 'best_regression_result']\n",
    ")\n",
    "\n",
    "print(results)\n",
    "\n",
    "plt.figure(figsize=(6,6))\n",
    "sns.barplot(x= results.index, y=results['accuracy'], palette=\"rocket_r\")\n",
    "plt.suptitle('Comparasion of accuracy for different models', fontsize=20)\n",
    "plt.xlabel('model_name')\n",
    "plt.ylabel('accuracy')\n",
    "plt.show()"
   ]
  },
  {
   "cell_type": "markdown",
   "metadata": {},
   "source": [
    "### Conlusion"
   ]
  },
  {
   "cell_type": "markdown",
   "metadata": {},
   "source": [
    "After simple enumeration cycles we found optimal hyperparameters. RandomForestClassifier demonstrates the best resultes. DecisionTreeClassifier - almost the same. LogisticRegression accuracy is fewer.\n",
    " "
   ]
  },
  {
   "cell_type": "markdown",
   "metadata": {},
   "source": [
    "## Model Testing"
   ]
  },
  {
   "cell_type": "code",
   "execution_count": 12,
   "metadata": {},
   "outputs": [
    {
     "data": {
      "text/plain": [
       "LogisticRegression(C=1e-05, class_weight=None, dual=False, fit_intercept=True,\n",
       "                   intercept_scaling=1, l1_ratio=None, max_iter=100,\n",
       "                   multi_class='warn', n_jobs=None, penalty='l2',\n",
       "                   random_state=12345, solver='newton-cg', tol=0.0001,\n",
       "                   verbose=0, warm_start=False)"
      ]
     },
     "execution_count": 12,
     "metadata": {},
     "output_type": "execute_result"
    }
   ],
   "source": [
    "#learn best models on train+valid\n",
    "train_valid_features = train_valid.drop(['is_ultra', 'calls'], axis=1) \n",
    "train_valid_target = train_valid['is_ultra']\n",
    "\n",
    "best_tree_model = DecisionTreeClassifier(random_state=12345, max_depth=best_tree_max_depth) \n",
    "best_tree_model.fit(train_valid_features, train_valid_target)\n",
    "\n",
    "best_forest_model = RandomForestClassifier(random_state=12345, n_estimators=best_est, max_depth = best_forest_max_depth, criterion = best_crit)  \n",
    "best_forest_model.fit(train_valid_features, train_valid_target)\n",
    "\n",
    "best_regression_model = LogisticRegression(random_state=12345, solver = best_solver, penalty = 'l2', C = best_C)\n",
    "best_regression_model.fit(train_valid_features, train_valid_target)"
   ]
  },
  {
   "cell_type": "code",
   "execution_count": 13,
   "metadata": {},
   "outputs": [
    {
     "name": "stdout",
     "output_type": "stream",
     "text": [
      "                        accuracy\n",
      "best_tree_result        0.797823\n",
      "best_forest_result      0.799378\n",
      "best_regression_result  0.748056\n"
     ]
    },
    {
     "data": {
      "image/png": "[encoded data removed]",
      "text/plain": [
       "<Figure size 432x432 with 1 Axes>"
      ]
     },
     "metadata": {
      "needs_background": "light"
     },
     "output_type": "display_data"
    }
   ],
   "source": [
    "#check on test sample\n",
    "models = [best_tree_model, best_forest_model, best_regression_model]\n",
    "results = []\n",
    "for model in models:\n",
    "    \n",
    "    results.append(model.score(features_test, target_test))\n",
    "\n",
    "results = pd.DataFrame(data = results, \n",
    "                       index = ['best_tree_result', 'best_forest_result', 'best_regression_result'], \n",
    "                       columns = ['accuracy']\n",
    ")\n",
    "print(results) \n",
    "\n",
    "plt.figure(figsize=(6,6))\n",
    "plot = sns.barplot(x= results.index, y=results['accuracy'], palette=\"rocket_r\")\n",
    "plt.suptitle('Comparasion of accuracy for different models', fontsize=20)\n",
    "plt.xlabel('model_name')\n",
    "plt.ylabel('accuracy')\n",
    "plt.show()\n",
    "\n"
   ]
  },
  {
   "cell_type": "markdown",
   "metadata": {},
   "source": [
    "### Conclusion"
   ]
  },
  {
   "cell_type": "markdown",
   "metadata": {},
   "source": [
    "Models performances have aproved on test"
   ]
  },
  {
   "cell_type": "markdown",
   "metadata": {},
   "source": [
    "## Model Adequacy Checking"
   ]
  },
  {
   "cell_type": "code",
   "execution_count": 14,
   "metadata": {},
   "outputs": [
    {
     "name": "stdout",
     "output_type": "stream",
     "text": [
      "                        accuracy\n",
      "best_tree_result        0.178849\n",
      "best_forest_result      0.189736\n",
      "best_regression_result  0.073095\n"
     ]
    }
   ],
   "source": [
    "#assume that model output is always 1\n",
    "ones = target_test ** 0\n",
    "\n",
    "models = [best_tree_model, best_forest_model, best_regression_model]\n",
    "results = []\n",
    "for model in models:\n",
    "    results.append(model.score(features_test, ones))\n",
    "\n",
    "results = pd.DataFrame(data = results, \n",
    "                       index = ['best_tree_result', 'best_forest_result', 'best_regression_result'], \n",
    "                       columns = ['accuracy']\n",
    ")\n",
    "\n",
    "print(results)\n"
   ]
  },
  {
   "cell_type": "code",
   "execution_count": 15,
   "metadata": {},
   "outputs": [
    {
     "name": "stdout",
     "output_type": "stream",
     "text": [
      "                        accuracy\n",
      "best_tree_result        0.693624\n",
      "best_forest_result      0.693624\n",
      "best_regression_result  0.693624\n"
     ]
    }
   ],
   "source": [
    "#DummyClassifier\n",
    "\n",
    "dc_results = []\n",
    "for model in models:\n",
    "    dummy_clf = DummyClassifier(strategy=\"most_frequent\", random_state = 12345)\n",
    "    dummy_clf.fit(features_test, target_test)\n",
    "    dummy_clf.predict(features_test)\n",
    "    dc_results.append(dummy_clf.score(features_test, target_test))\n",
    "\n",
    "dc_results = pd.DataFrame(data = dc_results, \n",
    "                       index = ['best_tree_result', 'best_forest_result', 'best_regression_result'], \n",
    "                       columns = ['accuracy']\n",
    ")\n",
    "\n",
    "print(dc_results)"
   ]
  },
  {
   "cell_type": "markdown",
   "metadata": {},
   "source": [
    "### Conclusion"
   ]
  },
  {
   "cell_type": "markdown",
   "metadata": {},
   "source": [
    "Model performances are not so far from DummyClassifier results ;)\n"
   ]
  },
  {
   "cell_type": "markdown",
   "metadata": {},
   "source": [
    "## General Conclusion"
   ]
  },
  {
   "cell_type": "markdown",
   "metadata": {},
   "source": [
    "In this project we've built DecisionTreeClassifier, RandomForestClassifier, LogisticRegression models to give tariff recomendation to mobile operator customers. Performances of the models are better then DummyClassifier results, but not so far.\n"
   ]
  }
 ],
 "metadata": {
  "ExecuteTimeLog": [
   {
    "duration": 1132,
    "start_time": "2021-08-22T07:50:06.756Z"
   },
   {
    "duration": 2478,
    "start_time": "2021-08-22T07:51:05.955Z"
   },
   {
    "duration": 22,
    "start_time": "2021-08-22T07:51:33.815Z"
   },
   {
    "duration": 11,
    "start_time": "2021-08-22T07:51:50.615Z"
   },
   {
    "duration": 30,
    "start_time": "2021-08-22T07:53:04.237Z"
   },
   {
    "duration": 50,
    "start_time": "2021-08-22T07:53:54.421Z"
   },
   {
    "duration": 117,
    "start_time": "2021-08-22T08:01:34.016Z"
   },
   {
    "duration": 21,
    "start_time": "2021-08-22T08:01:43.023Z"
   },
   {
    "duration": 288,
    "start_time": "2021-08-22T08:45:19.982Z"
   },
   {
    "duration": 1373,
    "start_time": "2021-08-22T08:45:51.422Z"
   },
   {
    "duration": 11,
    "start_time": "2021-08-22T08:45:52.798Z"
   },
   {
    "duration": 30,
    "start_time": "2021-08-22T08:45:52.813Z"
   },
   {
    "duration": 52,
    "start_time": "2021-08-22T08:45:52.847Z"
   },
   {
    "duration": 14,
    "start_time": "2021-08-22T08:45:52.901Z"
   },
   {
    "duration": 413,
    "start_time": "2021-08-22T08:45:52.917Z"
   },
   {
    "duration": 14,
    "start_time": "2021-08-22T08:46:20.931Z"
   },
   {
    "duration": 1505,
    "start_time": "2021-08-22T15:51:38.257Z"
   },
   {
    "duration": 9,
    "start_time": "2021-08-22T15:51:39.764Z"
   },
   {
    "duration": 26,
    "start_time": "2021-08-22T15:51:39.776Z"
   },
   {
    "duration": 59,
    "start_time": "2021-08-22T15:51:39.805Z"
   },
   {
    "duration": 15,
    "start_time": "2021-08-22T15:51:39.866Z"
   },
   {
    "duration": 16,
    "start_time": "2021-08-22T15:51:39.884Z"
   },
   {
    "duration": 536,
    "start_time": "2021-08-22T15:58:27.626Z"
   },
   {
    "duration": 1452,
    "start_time": "2021-08-22T15:58:45.484Z"
   },
   {
    "duration": 9,
    "start_time": "2021-08-22T15:58:46.939Z"
   },
   {
    "duration": 32,
    "start_time": "2021-08-22T15:58:46.951Z"
   },
   {
    "duration": 36,
    "start_time": "2021-08-22T15:58:46.988Z"
   },
   {
    "duration": 31,
    "start_time": "2021-08-22T15:58:47.026Z"
   },
   {
    "duration": 29,
    "start_time": "2021-08-22T15:58:47.059Z"
   },
   {
    "duration": 551,
    "start_time": "2021-08-22T15:58:47.092Z"
   },
   {
    "duration": 1394,
    "start_time": "2021-08-22T15:59:11.524Z"
   },
   {
    "duration": 8,
    "start_time": "2021-08-22T15:59:12.921Z"
   },
   {
    "duration": 39,
    "start_time": "2021-08-22T15:59:12.932Z"
   },
   {
    "duration": 35,
    "start_time": "2021-08-22T15:59:12.974Z"
   },
   {
    "duration": 15,
    "start_time": "2021-08-22T15:59:13.011Z"
   },
   {
    "duration": 19,
    "start_time": "2021-08-22T15:59:13.056Z"
   },
   {
    "duration": 35,
    "start_time": "2021-08-22T15:59:13.077Z"
   },
   {
    "duration": 35,
    "start_time": "2021-08-22T16:00:14.053Z"
   },
   {
    "duration": 34,
    "start_time": "2021-08-22T16:00:31.392Z"
   },
   {
    "duration": 131,
    "start_time": "2021-08-22T16:03:04.959Z"
   },
   {
    "duration": 120,
    "start_time": "2021-08-22T16:03:55.811Z"
   },
   {
    "duration": 535,
    "start_time": "2021-08-22T16:06:35.392Z"
   },
   {
    "duration": 35,
    "start_time": "2021-08-22T16:07:07.807Z"
   },
   {
    "duration": 1820,
    "start_time": "2021-08-22T16:08:57.044Z"
   },
   {
    "duration": -889,
    "start_time": "2021-08-22T16:08:59.756Z"
   },
   {
    "duration": -906,
    "start_time": "2021-08-22T16:08:59.774Z"
   },
   {
    "duration": -910,
    "start_time": "2021-08-22T16:08:59.779Z"
   },
   {
    "duration": -913,
    "start_time": "2021-08-22T16:08:59.784Z"
   },
   {
    "duration": -916,
    "start_time": "2021-08-22T16:08:59.788Z"
   },
   {
    "duration": -932,
    "start_time": "2021-08-22T16:08:59.805Z"
   },
   {
    "duration": 1347,
    "start_time": "2021-08-22T16:09:31.790Z"
   },
   {
    "duration": 9,
    "start_time": "2021-08-22T16:09:33.139Z"
   },
   {
    "duration": 27,
    "start_time": "2021-08-22T16:09:33.151Z"
   },
   {
    "duration": 33,
    "start_time": "2021-08-22T16:09:33.181Z"
   },
   {
    "duration": 13,
    "start_time": "2021-08-22T16:09:33.216Z"
   },
   {
    "duration": 35,
    "start_time": "2021-08-22T16:09:33.231Z"
   },
   {
    "duration": 504,
    "start_time": "2021-08-22T16:09:33.268Z"
   },
   {
    "duration": 1401,
    "start_time": "2021-08-22T16:10:14.512Z"
   },
   {
    "duration": 9,
    "start_time": "2021-08-22T16:10:15.916Z"
   },
   {
    "duration": 33,
    "start_time": "2021-08-22T16:10:15.928Z"
   },
   {
    "duration": 35,
    "start_time": "2021-08-22T16:10:15.964Z"
   },
   {
    "duration": 13,
    "start_time": "2021-08-22T16:10:16.002Z"
   },
   {
    "duration": 43,
    "start_time": "2021-08-22T16:10:16.018Z"
   },
   {
    "duration": 40,
    "start_time": "2021-08-22T16:10:16.064Z"
   },
   {
    "duration": 36,
    "start_time": "2021-08-22T16:10:29.506Z"
   },
   {
    "duration": 35,
    "start_time": "2021-08-22T16:10:33.575Z"
   },
   {
    "duration": 37,
    "start_time": "2021-08-22T16:10:35.655Z"
   },
   {
    "duration": 1299,
    "start_time": "2021-08-22T16:10:40.703Z"
   },
   {
    "duration": 9,
    "start_time": "2021-08-22T16:10:42.004Z"
   },
   {
    "duration": 32,
    "start_time": "2021-08-22T16:10:42.016Z"
   },
   {
    "duration": 40,
    "start_time": "2021-08-22T16:10:42.051Z"
   },
   {
    "duration": 20,
    "start_time": "2021-08-22T16:10:42.094Z"
   },
   {
    "duration": 49,
    "start_time": "2021-08-22T16:10:42.117Z"
   },
   {
    "duration": 48,
    "start_time": "2021-08-22T16:10:42.170Z"
   },
   {
    "duration": 1314,
    "start_time": "2021-08-22T16:10:57.995Z"
   },
   {
    "duration": 10,
    "start_time": "2021-08-22T16:10:59.312Z"
   },
   {
    "duration": 41,
    "start_time": "2021-08-22T16:10:59.330Z"
   },
   {
    "duration": 36,
    "start_time": "2021-08-22T16:10:59.374Z"
   },
   {
    "duration": 45,
    "start_time": "2021-08-22T16:10:59.413Z"
   },
   {
    "duration": 27,
    "start_time": "2021-08-22T16:10:59.461Z"
   },
   {
    "duration": 36,
    "start_time": "2021-08-22T16:10:59.492Z"
   },
   {
    "duration": 1336,
    "start_time": "2021-08-22T16:14:56.464Z"
   },
   {
    "duration": 8,
    "start_time": "2021-08-22T16:14:57.803Z"
   },
   {
    "duration": 42,
    "start_time": "2021-08-22T16:14:57.817Z"
   },
   {
    "duration": 42,
    "start_time": "2021-08-22T16:14:57.862Z"
   },
   {
    "duration": 14,
    "start_time": "2021-08-22T16:14:57.906Z"
   },
   {
    "duration": 39,
    "start_time": "2021-08-22T16:14:57.923Z"
   },
   {
    "duration": 37,
    "start_time": "2021-08-22T16:14:57.965Z"
   },
   {
    "duration": 3,
    "start_time": "2021-08-22T16:14:58.005Z"
   },
   {
    "duration": 1562,
    "start_time": "2021-08-22T16:15:10.160Z"
   },
   {
    "duration": 9,
    "start_time": "2021-08-22T16:15:11.724Z"
   },
   {
    "duration": 36,
    "start_time": "2021-08-22T16:15:11.735Z"
   },
   {
    "duration": 34,
    "start_time": "2021-08-22T16:15:11.773Z"
   },
   {
    "duration": 14,
    "start_time": "2021-08-22T16:15:11.809Z"
   },
   {
    "duration": 45,
    "start_time": "2021-08-22T16:15:11.826Z"
   },
   {
    "duration": 37,
    "start_time": "2021-08-22T16:15:11.873Z"
   },
   {
    "duration": 5,
    "start_time": "2021-08-22T16:15:11.913Z"
   },
   {
    "duration": 1315,
    "start_time": "2021-08-22T16:15:20.797Z"
   },
   {
    "duration": 10,
    "start_time": "2021-08-22T16:15:22.115Z"
   },
   {
    "duration": 36,
    "start_time": "2021-08-22T16:15:22.129Z"
   },
   {
    "duration": 34,
    "start_time": "2021-08-22T16:15:22.168Z"
   },
   {
    "duration": 15,
    "start_time": "2021-08-22T16:15:22.204Z"
   },
   {
    "duration": 43,
    "start_time": "2021-08-22T16:15:22.221Z"
   },
   {
    "duration": 35,
    "start_time": "2021-08-22T16:15:22.267Z"
   },
   {
    "duration": 4,
    "start_time": "2021-08-22T16:15:22.304Z"
   },
   {
    "duration": 1322,
    "start_time": "2021-08-22T16:15:31.975Z"
   },
   {
    "duration": 9,
    "start_time": "2021-08-22T16:15:33.300Z"
   },
   {
    "duration": 59,
    "start_time": "2021-08-22T16:15:33.312Z"
   },
   {
    "duration": 33,
    "start_time": "2021-08-22T16:15:33.374Z"
   },
   {
    "duration": 14,
    "start_time": "2021-08-22T16:15:33.409Z"
   },
   {
    "duration": 38,
    "start_time": "2021-08-22T16:15:33.425Z"
   },
   {
    "duration": 63,
    "start_time": "2021-08-22T16:15:33.466Z"
   },
   {
    "duration": 3,
    "start_time": "2021-08-22T16:15:33.532Z"
   },
   {
    "duration": 1314,
    "start_time": "2021-08-22T16:15:43.893Z"
   },
   {
    "duration": 9,
    "start_time": "2021-08-22T16:15:45.209Z"
   },
   {
    "duration": 32,
    "start_time": "2021-08-22T16:15:45.221Z"
   },
   {
    "duration": 40,
    "start_time": "2021-08-22T16:15:45.256Z"
   },
   {
    "duration": 15,
    "start_time": "2021-08-22T16:15:45.298Z"
   },
   {
    "duration": 42,
    "start_time": "2021-08-22T16:15:45.315Z"
   },
   {
    "duration": 35,
    "start_time": "2021-08-22T16:15:45.360Z"
   },
   {
    "duration": 3,
    "start_time": "2021-08-22T16:15:45.397Z"
   },
   {
    "duration": 1469,
    "start_time": "2021-08-22T16:15:51.932Z"
   },
   {
    "duration": 10,
    "start_time": "2021-08-22T16:15:53.404Z"
   },
   {
    "duration": 30,
    "start_time": "2021-08-22T16:15:53.417Z"
   },
   {
    "duration": 37,
    "start_time": "2021-08-22T16:15:53.449Z"
   },
   {
    "duration": 14,
    "start_time": "2021-08-22T16:15:53.489Z"
   },
   {
    "duration": 15,
    "start_time": "2021-08-22T16:15:53.505Z"
   },
   {
    "duration": 35,
    "start_time": "2021-08-22T16:15:53.556Z"
   },
   {
    "duration": 3,
    "start_time": "2021-08-22T16:15:53.594Z"
   },
   {
    "duration": 1495,
    "start_time": "2021-08-22T16:18:54.524Z"
   },
   {
    "duration": 8,
    "start_time": "2021-08-22T16:18:56.022Z"
   },
   {
    "duration": 33,
    "start_time": "2021-08-22T16:18:56.033Z"
   },
   {
    "duration": 33,
    "start_time": "2021-08-22T16:18:56.069Z"
   },
   {
    "duration": 14,
    "start_time": "2021-08-22T16:18:56.105Z"
   },
   {
    "duration": 49,
    "start_time": "2021-08-22T16:18:56.122Z"
   },
   {
    "duration": 38,
    "start_time": "2021-08-22T16:18:56.174Z"
   },
   {
    "duration": 511,
    "start_time": "2021-08-22T16:18:56.216Z"
   },
   {
    "duration": 1386,
    "start_time": "2021-08-22T16:20:55.729Z"
   },
   {
    "duration": 10,
    "start_time": "2021-08-22T16:20:57.118Z"
   },
   {
    "duration": 37,
    "start_time": "2021-08-22T16:20:57.132Z"
   },
   {
    "duration": 43,
    "start_time": "2021-08-22T16:20:57.173Z"
   },
   {
    "duration": 15,
    "start_time": "2021-08-22T16:20:57.218Z"
   },
   {
    "duration": 32,
    "start_time": "2021-08-22T16:20:57.235Z"
   },
   {
    "duration": 43,
    "start_time": "2021-08-22T16:20:57.270Z"
   },
   {
    "duration": 373,
    "start_time": "2021-08-22T16:20:57.315Z"
   },
   {
    "duration": 1343,
    "start_time": "2021-08-22T16:23:38.260Z"
   },
   {
    "duration": 9,
    "start_time": "2021-08-22T16:23:39.605Z"
   },
   {
    "duration": 31,
    "start_time": "2021-08-22T16:23:39.618Z"
   },
   {
    "duration": 33,
    "start_time": "2021-08-22T16:23:39.652Z"
   },
   {
    "duration": 14,
    "start_time": "2021-08-22T16:23:39.688Z"
   },
   {
    "duration": 16,
    "start_time": "2021-08-22T16:23:39.704Z"
   },
   {
    "duration": 498,
    "start_time": "2021-08-22T16:23:39.757Z"
   },
   {
    "duration": -864,
    "start_time": "2021-08-22T16:23:41.122Z"
   },
   {
    "duration": 1368,
    "start_time": "2021-08-22T16:24:29.468Z"
   },
   {
    "duration": 9,
    "start_time": "2021-08-22T16:24:30.839Z"
   },
   {
    "duration": 39,
    "start_time": "2021-08-22T16:24:30.851Z"
   },
   {
    "duration": 45,
    "start_time": "2021-08-22T16:24:30.893Z"
   },
   {
    "duration": 17,
    "start_time": "2021-08-22T16:24:30.940Z"
   },
   {
    "duration": 29,
    "start_time": "2021-08-22T16:24:30.959Z"
   },
   {
    "duration": 58,
    "start_time": "2021-08-22T16:24:30.991Z"
   },
   {
    "duration": 337,
    "start_time": "2021-08-22T16:24:31.052Z"
   },
   {
    "duration": 1342,
    "start_time": "2021-08-22T16:24:43.372Z"
   },
   {
    "duration": 9,
    "start_time": "2021-08-22T16:24:44.716Z"
   },
   {
    "duration": 29,
    "start_time": "2021-08-22T16:24:44.728Z"
   },
   {
    "duration": 33,
    "start_time": "2021-08-22T16:24:44.759Z"
   },
   {
    "duration": 14,
    "start_time": "2021-08-22T16:24:44.795Z"
   },
   {
    "duration": 45,
    "start_time": "2021-08-22T16:24:44.811Z"
   },
   {
    "duration": 35,
    "start_time": "2021-08-22T16:24:44.858Z"
   },
   {
    "duration": 371,
    "start_time": "2021-08-22T16:24:44.895Z"
   },
   {
    "duration": 1452,
    "start_time": "2021-08-22T16:25:17.155Z"
   },
   {
    "duration": 9,
    "start_time": "2021-08-22T16:25:18.610Z"
   },
   {
    "duration": 37,
    "start_time": "2021-08-22T16:25:18.622Z"
   },
   {
    "duration": 33,
    "start_time": "2021-08-22T16:25:18.663Z"
   },
   {
    "duration": 15,
    "start_time": "2021-08-22T16:25:18.698Z"
   },
   {
    "duration": 52,
    "start_time": "2021-08-22T16:25:18.716Z"
   },
   {
    "duration": 37,
    "start_time": "2021-08-22T16:25:18.771Z"
   },
   {
    "duration": 376,
    "start_time": "2021-08-22T16:25:18.811Z"
   },
   {
    "duration": 1477,
    "start_time": "2021-08-22T16:29:52.847Z"
   },
   {
    "duration": 9,
    "start_time": "2021-08-22T16:29:54.326Z"
   },
   {
    "duration": 28,
    "start_time": "2021-08-22T16:29:54.339Z"
   },
   {
    "duration": 43,
    "start_time": "2021-08-22T16:29:54.370Z"
   },
   {
    "duration": 16,
    "start_time": "2021-08-22T16:29:54.415Z"
   },
   {
    "duration": 17,
    "start_time": "2021-08-22T16:29:54.457Z"
   },
   {
    "duration": 39,
    "start_time": "2021-08-22T16:29:54.476Z"
   },
   {
    "duration": 405,
    "start_time": "2021-08-22T16:29:54.517Z"
   },
   {
    "duration": 3,
    "start_time": "2021-08-22T16:29:54.925Z"
   },
   {
    "duration": 1421,
    "start_time": "2021-08-22T16:31:05.785Z"
   },
   {
    "duration": 10,
    "start_time": "2021-08-22T16:31:07.208Z"
   },
   {
    "duration": 49,
    "start_time": "2021-08-22T16:31:07.221Z"
   },
   {
    "duration": 49,
    "start_time": "2021-08-22T16:31:07.276Z"
   },
   {
    "duration": 15,
    "start_time": "2021-08-22T16:31:07.327Z"
   },
   {
    "duration": 32,
    "start_time": "2021-08-22T16:31:07.344Z"
   },
   {
    "duration": 35,
    "start_time": "2021-08-22T16:31:07.378Z"
   },
   {
    "duration": 390,
    "start_time": "2021-08-22T16:31:07.416Z"
   },
   {
    "duration": 3,
    "start_time": "2021-08-22T16:31:07.809Z"
   },
   {
    "duration": 1370,
    "start_time": "2021-08-22T16:31:17.724Z"
   },
   {
    "duration": 9,
    "start_time": "2021-08-22T16:31:19.097Z"
   },
   {
    "duration": 29,
    "start_time": "2021-08-22T16:31:19.109Z"
   },
   {
    "duration": 43,
    "start_time": "2021-08-22T16:31:19.141Z"
   },
   {
    "duration": 18,
    "start_time": "2021-08-22T16:31:19.187Z"
   },
   {
    "duration": 17,
    "start_time": "2021-08-22T16:31:19.207Z"
   },
   {
    "duration": 75,
    "start_time": "2021-08-22T16:31:19.226Z"
   },
   {
    "duration": 545,
    "start_time": "2021-08-22T16:31:19.303Z"
   },
   {
    "duration": 3,
    "start_time": "2021-08-22T16:31:19.858Z"
   },
   {
    "duration": 1473,
    "start_time": "2021-08-22T16:31:31.458Z"
   },
   {
    "duration": 15,
    "start_time": "2021-08-22T16:31:32.934Z"
   },
   {
    "duration": 33,
    "start_time": "2021-08-22T16:31:32.953Z"
   },
   {
    "duration": 39,
    "start_time": "2021-08-22T16:31:32.990Z"
   },
   {
    "duration": 36,
    "start_time": "2021-08-22T16:31:33.033Z"
   },
   {
    "duration": 23,
    "start_time": "2021-08-22T16:31:33.072Z"
   },
   {
    "duration": 46,
    "start_time": "2021-08-22T16:31:33.097Z"
   },
   {
    "duration": 372,
    "start_time": "2021-08-22T16:31:33.157Z"
   },
   {
    "duration": 3,
    "start_time": "2021-08-22T16:31:33.532Z"
   },
   {
    "duration": 1334,
    "start_time": "2021-08-22T16:33:36.462Z"
   },
   {
    "duration": 12,
    "start_time": "2021-08-22T16:33:37.799Z"
   },
   {
    "duration": 31,
    "start_time": "2021-08-22T16:33:37.815Z"
   },
   {
    "duration": 38,
    "start_time": "2021-08-22T16:33:37.850Z"
   },
   {
    "duration": 14,
    "start_time": "2021-08-22T16:33:37.891Z"
   },
   {
    "duration": 49,
    "start_time": "2021-08-22T16:33:37.908Z"
   },
   {
    "duration": 35,
    "start_time": "2021-08-22T16:33:37.960Z"
   },
   {
    "duration": 368,
    "start_time": "2021-08-22T16:33:37.998Z"
   },
   {
    "duration": 3,
    "start_time": "2021-08-22T16:33:38.369Z"
   },
   {
    "duration": 1379,
    "start_time": "2021-08-22T16:36:08.170Z"
   },
   {
    "duration": 10,
    "start_time": "2021-08-22T16:36:09.552Z"
   },
   {
    "duration": 29,
    "start_time": "2021-08-22T16:36:09.566Z"
   },
   {
    "duration": 58,
    "start_time": "2021-08-22T16:36:09.599Z"
   },
   {
    "duration": 15,
    "start_time": "2021-08-22T16:36:09.660Z"
   },
   {
    "duration": 25,
    "start_time": "2021-08-22T16:36:09.679Z"
   },
   {
    "duration": 517,
    "start_time": "2021-08-22T16:36:09.707Z"
   },
   {
    "duration": -928,
    "start_time": "2021-08-22T16:36:11.155Z"
   },
   {
    "duration": -932,
    "start_time": "2021-08-22T16:36:11.160Z"
   },
   {
    "duration": 1337,
    "start_time": "2021-08-22T16:37:01.993Z"
   },
   {
    "duration": 9,
    "start_time": "2021-08-22T16:37:03.332Z"
   },
   {
    "duration": 34,
    "start_time": "2021-08-22T16:37:03.343Z"
   },
   {
    "duration": 35,
    "start_time": "2021-08-22T16:37:03.379Z"
   },
   {
    "duration": 15,
    "start_time": "2021-08-22T16:37:03.416Z"
   },
   {
    "duration": 36,
    "start_time": "2021-08-22T16:37:03.433Z"
   },
   {
    "duration": 499,
    "start_time": "2021-08-22T16:37:03.471Z"
   },
   {
    "duration": -856,
    "start_time": "2021-08-22T16:37:04.829Z"
   },
   {
    "duration": -882,
    "start_time": "2021-08-22T16:37:04.856Z"
   },
   {
    "duration": 1454,
    "start_time": "2021-08-22T16:38:02.069Z"
   },
   {
    "duration": 9,
    "start_time": "2021-08-22T16:38:03.525Z"
   },
   {
    "duration": 40,
    "start_time": "2021-08-22T16:38:03.538Z"
   },
   {
    "duration": 35,
    "start_time": "2021-08-22T16:38:03.581Z"
   },
   {
    "duration": 37,
    "start_time": "2021-08-22T16:38:03.619Z"
   },
   {
    "duration": 16,
    "start_time": "2021-08-22T16:38:03.659Z"
   },
   {
    "duration": 629,
    "start_time": "2021-08-22T16:38:03.678Z"
   },
   {
    "duration": -905,
    "start_time": "2021-08-22T16:38:05.217Z"
   },
   {
    "duration": -909,
    "start_time": "2021-08-22T16:38:05.224Z"
   },
   {
    "duration": 1482,
    "start_time": "2021-08-22T16:38:50.439Z"
   },
   {
    "duration": 11,
    "start_time": "2021-08-22T16:38:51.924Z"
   },
   {
    "duration": 32,
    "start_time": "2021-08-22T16:38:51.938Z"
   },
   {
    "duration": 33,
    "start_time": "2021-08-22T16:38:51.973Z"
   },
   {
    "duration": 15,
    "start_time": "2021-08-22T16:38:52.009Z"
   },
   {
    "duration": 38,
    "start_time": "2021-08-22T16:38:52.026Z"
   },
   {
    "duration": 35,
    "start_time": "2021-08-22T16:38:52.067Z"
   },
   {
    "duration": 422,
    "start_time": "2021-08-22T16:38:52.106Z"
   },
   {
    "duration": 40,
    "start_time": "2021-08-22T16:38:52.531Z"
   },
   {
    "duration": 1341,
    "start_time": "2021-08-22T16:39:39.873Z"
   },
   {
    "duration": 8,
    "start_time": "2021-08-22T16:39:41.217Z"
   },
   {
    "duration": 35,
    "start_time": "2021-08-22T16:39:41.228Z"
   },
   {
    "duration": 33,
    "start_time": "2021-08-22T16:39:41.266Z"
   },
   {
    "duration": 15,
    "start_time": "2021-08-22T16:39:41.302Z"
   },
   {
    "duration": 45,
    "start_time": "2021-08-22T16:39:41.319Z"
   },
   {
    "duration": 35,
    "start_time": "2021-08-22T16:39:41.366Z"
   },
   {
    "duration": 358,
    "start_time": "2021-08-22T16:39:41.404Z"
   },
   {
    "duration": 22,
    "start_time": "2021-08-22T16:39:41.765Z"
   },
   {
    "duration": 1334,
    "start_time": "2021-08-22T16:44:28.069Z"
   },
   {
    "duration": 9,
    "start_time": "2021-08-22T16:44:29.405Z"
   },
   {
    "duration": 34,
    "start_time": "2021-08-22T16:44:29.417Z"
   },
   {
    "duration": 33,
    "start_time": "2021-08-22T16:44:29.454Z"
   },
   {
    "duration": 14,
    "start_time": "2021-08-22T16:44:29.489Z"
   },
   {
    "duration": 19,
    "start_time": "2021-08-22T16:44:29.505Z"
   },
   {
    "duration": 70,
    "start_time": "2021-08-22T16:44:29.526Z"
   },
   {
    "duration": 945,
    "start_time": "2021-08-22T16:44:29.598Z"
   },
   {
    "duration": 17,
    "start_time": "2021-08-22T16:44:30.555Z"
   },
   {
    "duration": 1410,
    "start_time": "2021-08-22T16:45:27.149Z"
   },
   {
    "duration": 10,
    "start_time": "2021-08-22T16:45:28.563Z"
   },
   {
    "duration": 28,
    "start_time": "2021-08-22T16:45:28.577Z"
   },
   {
    "duration": 62,
    "start_time": "2021-08-22T16:45:28.609Z"
   },
   {
    "duration": 14,
    "start_time": "2021-08-22T16:45:28.673Z"
   },
   {
    "duration": 36,
    "start_time": "2021-08-22T16:45:28.689Z"
   },
   {
    "duration": 46,
    "start_time": "2021-08-22T16:45:28.728Z"
   },
   {
    "duration": 954,
    "start_time": "2021-08-22T16:45:28.777Z"
   },
   {
    "duration": 36,
    "start_time": "2021-08-22T16:45:29.733Z"
   },
   {
    "duration": 1402,
    "start_time": "2021-08-22T16:45:52.098Z"
   },
   {
    "duration": 8,
    "start_time": "2021-08-22T16:45:53.503Z"
   },
   {
    "duration": 34,
    "start_time": "2021-08-22T16:45:53.514Z"
   },
   {
    "duration": 33,
    "start_time": "2021-08-22T16:45:53.551Z"
   },
   {
    "duration": 14,
    "start_time": "2021-08-22T16:45:53.586Z"
   },
   {
    "duration": 24,
    "start_time": "2021-08-22T16:45:53.603Z"
   },
   {
    "duration": 53,
    "start_time": "2021-08-22T16:45:53.630Z"
   },
   {
    "duration": 960,
    "start_time": "2021-08-22T16:45:53.686Z"
   },
   {
    "duration": 27,
    "start_time": "2021-08-22T16:45:54.648Z"
   },
   {
    "duration": 1463,
    "start_time": "2021-08-22T17:03:06.396Z"
   },
   {
    "duration": 12,
    "start_time": "2021-08-22T17:03:07.862Z"
   },
   {
    "duration": 25,
    "start_time": "2021-08-22T17:03:07.879Z"
   },
   {
    "duration": 71,
    "start_time": "2021-08-22T17:03:07.907Z"
   },
   {
    "duration": 15,
    "start_time": "2021-08-22T17:03:07.980Z"
   },
   {
    "duration": 17,
    "start_time": "2021-08-22T17:03:07.997Z"
   },
   {
    "duration": 71,
    "start_time": "2021-08-22T17:03:08.016Z"
   },
   {
    "duration": 1141,
    "start_time": "2021-08-22T17:03:08.090Z"
   },
   {
    "duration": 703,
    "start_time": "2021-08-22T17:03:09.233Z"
   },
   {
    "duration": 269,
    "start_time": "2021-08-22T17:03:27.866Z"
   },
   {
    "duration": 260,
    "start_time": "2021-08-22T17:04:09.980Z"
   },
   {
    "duration": 270,
    "start_time": "2021-08-22T17:04:12.626Z"
   },
   {
    "duration": 279,
    "start_time": "2021-08-22T17:04:15.920Z"
   },
   {
    "duration": 263,
    "start_time": "2021-08-22T17:04:31.939Z"
   },
   {
    "duration": 269,
    "start_time": "2021-08-22T17:04:46.230Z"
   },
   {
    "duration": 353,
    "start_time": "2021-08-22T17:07:06.175Z"
   },
   {
    "duration": 264,
    "start_time": "2021-08-22T17:07:13.263Z"
   },
   {
    "duration": 205,
    "start_time": "2021-08-22T17:07:34.657Z"
   },
   {
    "duration": 1435,
    "start_time": "2021-08-22T17:07:52.692Z"
   },
   {
    "duration": 9,
    "start_time": "2021-08-22T17:07:54.129Z"
   },
   {
    "duration": 43,
    "start_time": "2021-08-22T17:07:54.141Z"
   },
   {
    "duration": 34,
    "start_time": "2021-08-22T17:07:54.187Z"
   },
   {
    "duration": 36,
    "start_time": "2021-08-22T17:07:54.224Z"
   },
   {
    "duration": 25,
    "start_time": "2021-08-22T17:07:54.264Z"
   },
   {
    "duration": 84,
    "start_time": "2021-08-22T17:07:54.292Z"
   },
   {
    "duration": 1461,
    "start_time": "2021-08-22T17:07:54.379Z"
   },
   {
    "duration": 224,
    "start_time": "2021-08-22T17:07:55.844Z"
   },
   {
    "duration": 190,
    "start_time": "2021-08-22T17:09:56.441Z"
   },
   {
    "duration": 178,
    "start_time": "2021-08-22T17:10:05.755Z"
   },
   {
    "duration": 235,
    "start_time": "2021-08-22T17:10:43.623Z"
   },
   {
    "duration": 206,
    "start_time": "2021-08-22T17:10:54.727Z"
   },
   {
    "duration": 175,
    "start_time": "2021-08-22T17:11:01.675Z"
   },
   {
    "duration": 49,
    "start_time": "2021-08-22T17:11:12.266Z"
   },
   {
    "duration": 138,
    "start_time": "2021-08-22T17:11:32.441Z"
   },
   {
    "duration": 120,
    "start_time": "2021-08-22T17:12:01.800Z"
   },
   {
    "duration": 81,
    "start_time": "2021-08-22T17:12:11.902Z"
   },
   {
    "duration": 67,
    "start_time": "2021-08-22T17:12:22.063Z"
   },
   {
    "duration": 46,
    "start_time": "2021-08-22T17:12:27.936Z"
   },
   {
    "duration": 248,
    "start_time": "2021-08-22T17:12:42.639Z"
   },
   {
    "duration": 124,
    "start_time": "2021-08-22T17:12:49.137Z"
   },
   {
    "duration": 54,
    "start_time": "2021-08-22T17:12:57.675Z"
   },
   {
    "duration": 44,
    "start_time": "2021-08-22T17:13:05.075Z"
   },
   {
    "duration": 548,
    "start_time": "2021-08-22T17:14:32.643Z"
   },
   {
    "duration": 1410,
    "start_time": "2021-08-22T17:14:54.712Z"
   },
   {
    "duration": 9,
    "start_time": "2021-08-22T17:14:56.125Z"
   },
   {
    "duration": 44,
    "start_time": "2021-08-22T17:14:56.137Z"
   },
   {
    "duration": 34,
    "start_time": "2021-08-22T17:14:56.184Z"
   },
   {
    "duration": 14,
    "start_time": "2021-08-22T17:14:56.221Z"
   },
   {
    "duration": 20,
    "start_time": "2021-08-22T17:14:56.259Z"
   },
   {
    "duration": 37,
    "start_time": "2021-08-22T17:14:56.281Z"
   },
   {
    "duration": 1201,
    "start_time": "2021-08-22T17:14:56.321Z"
   },
   {
    "duration": 45,
    "start_time": "2021-08-22T17:14:57.526Z"
   },
   {
    "duration": 24,
    "start_time": "2021-08-22T17:15:05.025Z"
   },
   {
    "duration": 23,
    "start_time": "2021-08-22T17:15:08.727Z"
   },
   {
    "duration": 27,
    "start_time": "2021-08-22T17:15:14.635Z"
   },
   {
    "duration": 25,
    "start_time": "2021-08-22T17:15:17.532Z"
   },
   {
    "duration": 26,
    "start_time": "2021-08-22T17:15:19.927Z"
   },
   {
    "duration": 40,
    "start_time": "2021-08-22T17:15:44.136Z"
   },
   {
    "duration": 1460,
    "start_time": "2021-08-22T17:15:50.779Z"
   },
   {
    "duration": 9,
    "start_time": "2021-08-22T17:15:52.243Z"
   },
   {
    "duration": 40,
    "start_time": "2021-08-22T17:15:52.255Z"
   },
   {
    "duration": 43,
    "start_time": "2021-08-22T17:15:52.298Z"
   },
   {
    "duration": 15,
    "start_time": "2021-08-22T17:15:52.344Z"
   },
   {
    "duration": 19,
    "start_time": "2021-08-22T17:15:52.363Z"
   },
   {
    "duration": 37,
    "start_time": "2021-08-22T17:15:52.385Z"
   },
   {
    "duration": 1033,
    "start_time": "2021-08-22T17:15:52.425Z"
   },
   {
    "duration": 57,
    "start_time": "2021-08-22T17:15:53.463Z"
   },
   {
    "duration": 55,
    "start_time": "2021-08-22T17:15:59.903Z"
   },
   {
    "duration": 46,
    "start_time": "2021-08-22T17:16:09.073Z"
   },
   {
    "duration": 68,
    "start_time": "2021-08-22T17:17:04.667Z"
   },
   {
    "duration": 47,
    "start_time": "2021-08-22T17:17:10.098Z"
   },
   {
    "duration": 48,
    "start_time": "2021-08-22T17:17:12.512Z"
   },
   {
    "duration": 1306,
    "start_time": "2021-08-22T17:17:18.293Z"
   },
   {
    "duration": 9,
    "start_time": "2021-08-22T17:17:19.601Z"
   },
   {
    "duration": 34,
    "start_time": "2021-08-22T17:17:19.614Z"
   },
   {
    "duration": 36,
    "start_time": "2021-08-22T17:17:19.652Z"
   },
   {
    "duration": 15,
    "start_time": "2021-08-22T17:17:19.691Z"
   },
   {
    "duration": 49,
    "start_time": "2021-08-22T17:17:19.709Z"
   },
   {
    "duration": 36,
    "start_time": "2021-08-22T17:17:19.761Z"
   },
   {
    "duration": 949,
    "start_time": "2021-08-22T17:17:19.800Z"
   },
   {
    "duration": 46,
    "start_time": "2021-08-22T17:17:20.753Z"
   },
   {
    "duration": 43,
    "start_time": "2021-08-22T17:17:31.022Z"
   },
   {
    "duration": 45,
    "start_time": "2021-08-22T17:17:34.362Z"
   },
   {
    "duration": 43,
    "start_time": "2021-08-22T17:17:39.611Z"
   },
   {
    "duration": 42,
    "start_time": "2021-08-22T17:17:42.803Z"
   },
   {
    "duration": 42,
    "start_time": "2021-08-22T17:17:51.566Z"
   },
   {
    "duration": 176,
    "start_time": "2021-08-22T17:19:33.964Z"
   },
   {
    "duration": 1382,
    "start_time": "2021-08-22T17:19:40.919Z"
   },
   {
    "duration": 9,
    "start_time": "2021-08-22T17:19:42.304Z"
   },
   {
    "duration": 27,
    "start_time": "2021-08-22T17:19:42.315Z"
   },
   {
    "duration": 37,
    "start_time": "2021-08-22T17:19:42.345Z"
   },
   {
    "duration": 14,
    "start_time": "2021-08-22T17:19:42.385Z"
   },
   {
    "duration": 32,
    "start_time": "2021-08-22T17:19:42.401Z"
   },
   {
    "duration": 53,
    "start_time": "2021-08-22T17:19:42.437Z"
   },
   {
    "duration": 964,
    "start_time": "2021-08-22T17:19:42.494Z"
   },
   {
    "duration": 172,
    "start_time": "2021-08-22T17:19:43.460Z"
   },
   {
    "duration": 1563,
    "start_time": "2021-08-22T17:20:05.547Z"
   },
   {
    "duration": 9,
    "start_time": "2021-08-22T17:20:07.113Z"
   },
   {
    "duration": 38,
    "start_time": "2021-08-22T17:20:07.125Z"
   },
   {
    "duration": 34,
    "start_time": "2021-08-22T17:20:07.166Z"
   },
   {
    "duration": 14,
    "start_time": "2021-08-22T17:20:07.203Z"
   },
   {
    "duration": 49,
    "start_time": "2021-08-22T17:20:07.220Z"
   },
   {
    "duration": 36,
    "start_time": "2021-08-22T17:20:07.271Z"
   },
   {
    "duration": 958,
    "start_time": "2021-08-22T17:20:07.310Z"
   },
   {
    "duration": 196,
    "start_time": "2021-08-22T17:20:08.270Z"
   },
   {
    "duration": 1331,
    "start_time": "2021-08-22T17:20:22.972Z"
   },
   {
    "duration": 9,
    "start_time": "2021-08-22T17:20:24.305Z"
   },
   {
    "duration": 31,
    "start_time": "2021-08-22T17:20:24.318Z"
   },
   {
    "duration": 34,
    "start_time": "2021-08-22T17:20:24.356Z"
   },
   {
    "duration": 16,
    "start_time": "2021-08-22T17:20:24.393Z"
   },
   {
    "duration": 48,
    "start_time": "2021-08-22T17:20:24.412Z"
   },
   {
    "duration": 36,
    "start_time": "2021-08-22T17:20:24.463Z"
   },
   {
    "duration": 958,
    "start_time": "2021-08-22T17:20:24.501Z"
   },
   {
    "duration": 101,
    "start_time": "2021-08-22T17:20:25.464Z"
   },
   {
    "duration": 1420,
    "start_time": "2021-08-22T17:20:37.873Z"
   },
   {
    "duration": 8,
    "start_time": "2021-08-22T17:20:39.296Z"
   },
   {
    "duration": 49,
    "start_time": "2021-08-22T17:20:39.307Z"
   },
   {
    "duration": 49,
    "start_time": "2021-08-22T17:20:39.359Z"
   },
   {
    "duration": 14,
    "start_time": "2021-08-22T17:20:39.411Z"
   },
   {
    "duration": 35,
    "start_time": "2021-08-22T17:20:39.428Z"
   },
   {
    "duration": 38,
    "start_time": "2021-08-22T17:20:39.466Z"
   },
   {
    "duration": 982,
    "start_time": "2021-08-22T17:20:39.506Z"
   },
   {
    "duration": 205,
    "start_time": "2021-08-22T17:20:40.491Z"
   },
   {
    "duration": 191,
    "start_time": "2021-08-22T17:20:45.121Z"
   },
   {
    "duration": 212,
    "start_time": "2021-08-22T17:20:47.707Z"
   },
   {
    "duration": 1412,
    "start_time": "2021-08-22T17:20:54.740Z"
   },
   {
    "duration": 9,
    "start_time": "2021-08-22T17:20:56.155Z"
   },
   {
    "duration": 24,
    "start_time": "2021-08-22T17:20:56.167Z"
   },
   {
    "duration": 34,
    "start_time": "2021-08-22T17:20:56.194Z"
   },
   {
    "duration": 14,
    "start_time": "2021-08-22T17:20:56.256Z"
   },
   {
    "duration": 15,
    "start_time": "2021-08-22T17:20:56.273Z"
   },
   {
    "duration": 66,
    "start_time": "2021-08-22T17:20:56.290Z"
   },
   {
    "duration": 917,
    "start_time": "2021-08-22T17:20:56.358Z"
   },
   {
    "duration": 181,
    "start_time": "2021-08-22T17:20:57.279Z"
   },
   {
    "duration": 190,
    "start_time": "2021-08-22T17:21:51.072Z"
   },
   {
    "duration": 171,
    "start_time": "2021-08-22T17:21:57.880Z"
   },
   {
    "duration": 220,
    "start_time": "2021-08-22T17:22:01.497Z"
   },
   {
    "duration": 174,
    "start_time": "2021-08-22T17:22:04.075Z"
   },
   {
    "duration": 1547,
    "start_time": "2021-08-22T17:22:09.552Z"
   },
   {
    "duration": 10,
    "start_time": "2021-08-22T17:22:11.102Z"
   },
   {
    "duration": 28,
    "start_time": "2021-08-22T17:22:11.117Z"
   },
   {
    "duration": 34,
    "start_time": "2021-08-22T17:22:11.156Z"
   },
   {
    "duration": 16,
    "start_time": "2021-08-22T17:22:11.193Z"
   },
   {
    "duration": 44,
    "start_time": "2021-08-22T17:22:11.212Z"
   },
   {
    "duration": 49,
    "start_time": "2021-08-22T17:22:11.259Z"
   },
   {
    "duration": 1154,
    "start_time": "2021-08-22T17:22:11.310Z"
   },
   {
    "duration": 194,
    "start_time": "2021-08-22T17:22:12.468Z"
   },
   {
    "duration": 1375,
    "start_time": "2021-08-22T17:22:27.230Z"
   },
   {
    "duration": 9,
    "start_time": "2021-08-22T17:22:28.608Z"
   },
   {
    "duration": 46,
    "start_time": "2021-08-22T17:22:28.620Z"
   },
   {
    "duration": 35,
    "start_time": "2021-08-22T17:22:28.669Z"
   },
   {
    "duration": 14,
    "start_time": "2021-08-22T17:22:28.707Z"
   },
   {
    "duration": 46,
    "start_time": "2021-08-22T17:22:28.723Z"
   },
   {
    "duration": 36,
    "start_time": "2021-08-22T17:22:28.771Z"
   },
   {
    "duration": 1022,
    "start_time": "2021-08-22T17:22:28.810Z"
   },
   {
    "duration": 229,
    "start_time": "2021-08-22T17:22:29.835Z"
   },
   {
    "duration": 237,
    "start_time": "2021-08-22T17:22:56.817Z"
   },
   {
    "duration": 1440,
    "start_time": "2021-08-22T17:23:06.772Z"
   },
   {
    "duration": 9,
    "start_time": "2021-08-22T17:23:08.215Z"
   },
   {
    "duration": 40,
    "start_time": "2021-08-22T17:23:08.227Z"
   },
   {
    "duration": 38,
    "start_time": "2021-08-22T17:23:08.270Z"
   },
   {
    "duration": 14,
    "start_time": "2021-08-22T17:23:08.310Z"
   },
   {
    "duration": 37,
    "start_time": "2021-08-22T17:23:08.327Z"
   },
   {
    "duration": 42,
    "start_time": "2021-08-22T17:23:08.367Z"
   },
   {
    "duration": 1070,
    "start_time": "2021-08-22T17:23:08.412Z"
   },
   {
    "duration": 211,
    "start_time": "2021-08-22T17:23:09.485Z"
   },
   {
    "duration": 213,
    "start_time": "2021-08-22T17:23:18.841Z"
   },
   {
    "duration": 322,
    "start_time": "2021-08-22T17:23:22.110Z"
   },
   {
    "duration": 199,
    "start_time": "2021-08-22T17:23:25.853Z"
   },
   {
    "duration": 1451,
    "start_time": "2021-08-22T17:23:31.091Z"
   },
   {
    "duration": 8,
    "start_time": "2021-08-22T17:23:32.545Z"
   },
   {
    "duration": 30,
    "start_time": "2021-08-22T17:23:32.556Z"
   },
   {
    "duration": 36,
    "start_time": "2021-08-22T17:23:32.589Z"
   },
   {
    "duration": 40,
    "start_time": "2021-08-22T17:23:32.628Z"
   },
   {
    "duration": 18,
    "start_time": "2021-08-22T17:23:32.671Z"
   },
   {
    "duration": 68,
    "start_time": "2021-08-22T17:23:32.692Z"
   },
   {
    "duration": 941,
    "start_time": "2021-08-22T17:23:32.763Z"
   },
   {
    "duration": 158,
    "start_time": "2021-08-22T17:23:33.709Z"
   },
   {
    "duration": 1397,
    "start_time": "2021-08-22T17:24:01.807Z"
   },
   {
    "duration": 10,
    "start_time": "2021-08-22T17:24:03.207Z"
   },
   {
    "duration": 38,
    "start_time": "2021-08-22T17:24:03.221Z"
   },
   {
    "duration": 58,
    "start_time": "2021-08-22T17:24:03.262Z"
   },
   {
    "duration": 14,
    "start_time": "2021-08-22T17:24:03.323Z"
   },
   {
    "duration": 31,
    "start_time": "2021-08-22T17:24:03.340Z"
   },
   {
    "duration": 39,
    "start_time": "2021-08-22T17:24:03.374Z"
   },
   {
    "duration": 956,
    "start_time": "2021-08-22T17:24:03.415Z"
   },
   {
    "duration": 285,
    "start_time": "2021-08-22T17:24:04.374Z"
   },
   {
    "duration": 1799,
    "start_time": "2021-08-22T17:24:29.623Z"
   },
   {
    "duration": 10,
    "start_time": "2021-08-22T17:24:31.424Z"
   },
   {
    "duration": 37,
    "start_time": "2021-08-22T17:24:31.439Z"
   },
   {
    "duration": 72,
    "start_time": "2021-08-22T17:24:31.479Z"
   },
   {
    "duration": 58,
    "start_time": "2021-08-22T17:24:31.553Z"
   },
   {
    "duration": 70,
    "start_time": "2021-08-22T17:24:31.614Z"
   },
   {
    "duration": 96,
    "start_time": "2021-08-22T17:24:31.686Z"
   },
   {
    "duration": 1562,
    "start_time": "2021-08-22T17:24:31.786Z"
   },
   {
    "duration": 557,
    "start_time": "2021-08-22T17:24:33.356Z"
   },
   {
    "duration": 1442,
    "start_time": "2021-08-22T17:24:50.478Z"
   },
   {
    "duration": 12,
    "start_time": "2021-08-22T17:24:51.923Z"
   },
   {
    "duration": 41,
    "start_time": "2021-08-22T17:24:51.938Z"
   },
   {
    "duration": 42,
    "start_time": "2021-08-22T17:24:51.982Z"
   },
   {
    "duration": 30,
    "start_time": "2021-08-22T17:24:52.027Z"
   },
   {
    "duration": 21,
    "start_time": "2021-08-22T17:24:52.060Z"
   },
   {
    "duration": 75,
    "start_time": "2021-08-22T17:24:52.084Z"
   },
   {
    "duration": 980,
    "start_time": "2021-08-22T17:24:52.162Z"
   },
   {
    "duration": 321,
    "start_time": "2021-08-22T17:24:53.146Z"
   },
   {
    "duration": 1419,
    "start_time": "2021-08-22T17:25:31.000Z"
   },
   {
    "duration": 10,
    "start_time": "2021-08-22T17:25:32.422Z"
   },
   {
    "duration": 38,
    "start_time": "2021-08-22T17:25:32.435Z"
   },
   {
    "duration": 53,
    "start_time": "2021-08-22T17:25:32.476Z"
   },
   {
    "duration": 14,
    "start_time": "2021-08-22T17:25:32.531Z"
   },
   {
    "duration": 23,
    "start_time": "2021-08-22T17:25:32.548Z"
   },
   {
    "duration": 44,
    "start_time": "2021-08-22T17:25:32.574Z"
   },
   {
    "duration": 1009,
    "start_time": "2021-08-22T17:25:32.623Z"
   },
   {
    "duration": 365,
    "start_time": "2021-08-22T17:25:33.636Z"
   },
   {
    "duration": 1543,
    "start_time": "2021-08-22T17:26:16.185Z"
   },
   {
    "duration": 9,
    "start_time": "2021-08-22T17:26:17.731Z"
   },
   {
    "duration": 52,
    "start_time": "2021-08-22T17:26:17.743Z"
   },
   {
    "duration": 44,
    "start_time": "2021-08-22T17:26:17.799Z"
   },
   {
    "duration": 26,
    "start_time": "2021-08-22T17:26:17.845Z"
   },
   {
    "duration": 22,
    "start_time": "2021-08-22T17:26:17.874Z"
   },
   {
    "duration": 79,
    "start_time": "2021-08-22T17:26:17.899Z"
   },
   {
    "duration": 1475,
    "start_time": "2021-08-22T17:26:17.983Z"
   },
   {
    "duration": 542,
    "start_time": "2021-08-22T17:26:19.461Z"
   },
   {
    "duration": 1400,
    "start_time": "2021-08-22T17:26:36.126Z"
   },
   {
    "duration": 9,
    "start_time": "2021-08-22T17:26:37.529Z"
   },
   {
    "duration": 28,
    "start_time": "2021-08-22T17:26:37.541Z"
   },
   {
    "duration": 34,
    "start_time": "2021-08-22T17:26:37.572Z"
   },
   {
    "duration": 14,
    "start_time": "2021-08-22T17:26:37.608Z"
   },
   {
    "duration": 44,
    "start_time": "2021-08-22T17:26:37.625Z"
   },
   {
    "duration": 34,
    "start_time": "2021-08-22T17:26:37.672Z"
   },
   {
    "duration": 947,
    "start_time": "2021-08-22T17:26:37.708Z"
   },
   {
    "duration": 282,
    "start_time": "2021-08-22T17:26:38.658Z"
   },
   {
    "duration": 1375,
    "start_time": "2021-08-22T17:27:05.236Z"
   },
   {
    "duration": 10,
    "start_time": "2021-08-22T17:27:06.614Z"
   },
   {
    "duration": 30,
    "start_time": "2021-08-22T17:27:06.627Z"
   },
   {
    "duration": 33,
    "start_time": "2021-08-22T17:27:06.660Z"
   },
   {
    "duration": 14,
    "start_time": "2021-08-22T17:27:06.696Z"
   },
   {
    "duration": 49,
    "start_time": "2021-08-22T17:27:06.712Z"
   },
   {
    "duration": 35,
    "start_time": "2021-08-22T17:27:06.764Z"
   },
   {
    "duration": 956,
    "start_time": "2021-08-22T17:27:06.802Z"
   },
   {
    "duration": 237,
    "start_time": "2021-08-22T17:27:07.761Z"
   },
   {
    "duration": 1363,
    "start_time": "2021-08-22T17:27:21.541Z"
   },
   {
    "duration": 8,
    "start_time": "2021-08-22T17:27:22.907Z"
   },
   {
    "duration": 27,
    "start_time": "2021-08-22T17:27:22.919Z"
   },
   {
    "duration": 36,
    "start_time": "2021-08-22T17:27:22.949Z"
   },
   {
    "duration": 14,
    "start_time": "2021-08-22T17:27:22.988Z"
   },
   {
    "duration": 17,
    "start_time": "2021-08-22T17:27:23.004Z"
   },
   {
    "duration": 65,
    "start_time": "2021-08-22T17:27:23.024Z"
   },
   {
    "duration": 959,
    "start_time": "2021-08-22T17:27:23.091Z"
   },
   {
    "duration": 384,
    "start_time": "2021-08-22T17:27:24.057Z"
   },
   {
    "duration": 1386,
    "start_time": "2021-08-22T17:28:25.713Z"
   },
   {
    "duration": 9,
    "start_time": "2021-08-22T17:28:27.102Z"
   },
   {
    "duration": 28,
    "start_time": "2021-08-22T17:28:27.115Z"
   },
   {
    "duration": 33,
    "start_time": "2021-08-22T17:28:27.155Z"
   },
   {
    "duration": 19,
    "start_time": "2021-08-22T17:28:27.191Z"
   },
   {
    "duration": 45,
    "start_time": "2021-08-22T17:28:27.212Z"
   },
   {
    "duration": 36,
    "start_time": "2021-08-22T17:28:27.260Z"
   },
   {
    "duration": 948,
    "start_time": "2021-08-22T17:28:27.298Z"
   },
   {
    "duration": 2677,
    "start_time": "2021-08-22T17:28:28.249Z"
   },
   {
    "duration": 1349,
    "start_time": "2021-08-22T17:28:58.769Z"
   },
   {
    "duration": 8,
    "start_time": "2021-08-22T17:29:00.121Z"
   },
   {
    "duration": 47,
    "start_time": "2021-08-22T17:29:00.132Z"
   },
   {
    "duration": 59,
    "start_time": "2021-08-22T17:29:00.182Z"
   },
   {
    "duration": 17,
    "start_time": "2021-08-22T17:29:00.243Z"
   },
   {
    "duration": 50,
    "start_time": "2021-08-22T17:29:00.263Z"
   },
   {
    "duration": 46,
    "start_time": "2021-08-22T17:29:00.315Z"
   },
   {
    "duration": 971,
    "start_time": "2021-08-22T17:29:00.363Z"
   },
   {
    "duration": 3863,
    "start_time": "2021-08-22T17:29:01.337Z"
   },
   {
    "duration": 13007,
    "start_time": "2021-08-22T17:31:19.720Z"
   },
   {
    "duration": 1372,
    "start_time": "2021-08-22T17:34:57.106Z"
   },
   {
    "duration": 8,
    "start_time": "2021-08-22T17:34:58.481Z"
   },
   {
    "duration": 30,
    "start_time": "2021-08-22T17:34:58.492Z"
   },
   {
    "duration": 43,
    "start_time": "2021-08-22T17:34:58.524Z"
   },
   {
    "duration": 14,
    "start_time": "2021-08-22T17:34:58.570Z"
   },
   {
    "duration": 22,
    "start_time": "2021-08-22T17:34:58.586Z"
   },
   {
    "duration": 63,
    "start_time": "2021-08-22T17:34:58.610Z"
   },
   {
    "duration": 937,
    "start_time": "2021-08-22T17:34:58.676Z"
   },
   {
    "duration": 11483,
    "start_time": "2021-08-22T17:34:59.617Z"
   },
   {
    "duration": 11618,
    "start_time": "2021-08-22T17:36:35.411Z"
   },
   {
    "duration": 11700,
    "start_time": "2021-08-22T17:37:59.819Z"
   },
   {
    "duration": 1814,
    "start_time": "2021-08-22T17:39:07.929Z"
   },
   {
    "duration": 11,
    "start_time": "2021-08-22T17:39:09.746Z"
   },
   {
    "duration": 40,
    "start_time": "2021-08-22T17:39:09.760Z"
   },
   {
    "duration": 52,
    "start_time": "2021-08-22T17:39:09.805Z"
   },
   {
    "duration": 21,
    "start_time": "2021-08-22T17:39:09.861Z"
   },
   {
    "duration": 23,
    "start_time": "2021-08-22T17:39:09.885Z"
   },
   {
    "duration": 70,
    "start_time": "2021-08-22T17:39:09.911Z"
   },
   {
    "duration": 1147,
    "start_time": "2021-08-22T17:39:09.983Z"
   },
   {
    "duration": 13055,
    "start_time": "2021-08-22T17:39:11.134Z"
   },
   {
    "duration": 37,
    "start_time": "2021-08-22T17:46:32.686Z"
   },
   {
    "duration": 1156,
    "start_time": "2021-08-22T17:47:01.476Z"
   },
   {
    "duration": 1348,
    "start_time": "2021-08-22T17:47:36.399Z"
   },
   {
    "duration": 9,
    "start_time": "2021-08-22T17:47:37.750Z"
   },
   {
    "duration": 29,
    "start_time": "2021-08-22T17:47:37.762Z"
   },
   {
    "duration": 33,
    "start_time": "2021-08-22T17:47:37.794Z"
   },
   {
    "duration": 38,
    "start_time": "2021-08-22T17:47:37.829Z"
   },
   {
    "duration": 15,
    "start_time": "2021-08-22T17:47:37.869Z"
   },
   {
    "duration": 35,
    "start_time": "2021-08-22T17:47:37.887Z"
   },
   {
    "duration": 963,
    "start_time": "2021-08-22T17:47:37.924Z"
   },
   {
    "duration": 11623,
    "start_time": "2021-08-22T17:47:38.890Z"
   },
   {
    "duration": 1384,
    "start_time": "2021-08-22T17:48:08.427Z"
   },
   {
    "duration": 9,
    "start_time": "2021-08-22T17:48:09.814Z"
   },
   {
    "duration": 31,
    "start_time": "2021-08-22T17:48:09.826Z"
   },
   {
    "duration": 34,
    "start_time": "2021-08-22T17:48:09.859Z"
   },
   {
    "duration": 14,
    "start_time": "2021-08-22T17:48:09.895Z"
   },
   {
    "duration": 46,
    "start_time": "2021-08-22T17:48:09.912Z"
   },
   {
    "duration": 34,
    "start_time": "2021-08-22T17:48:09.961Z"
   },
   {
    "duration": 968,
    "start_time": "2021-08-22T17:48:09.998Z"
   },
   {
    "duration": 10533,
    "start_time": "2021-08-22T17:48:10.969Z"
   },
   {
    "duration": 1918,
    "start_time": "2021-08-22T17:53:07.397Z"
   },
   {
    "duration": 1326,
    "start_time": "2021-08-22T17:53:26.982Z"
   },
   {
    "duration": 8,
    "start_time": "2021-08-22T17:53:28.311Z"
   },
   {
    "duration": 44,
    "start_time": "2021-08-22T17:53:28.322Z"
   },
   {
    "duration": 35,
    "start_time": "2021-08-22T17:53:28.369Z"
   },
   {
    "duration": 15,
    "start_time": "2021-08-22T17:53:28.407Z"
   },
   {
    "duration": 44,
    "start_time": "2021-08-22T17:53:28.424Z"
   },
   {
    "duration": 39,
    "start_time": "2021-08-22T17:53:28.470Z"
   },
   {
    "duration": 1925,
    "start_time": "2021-08-22T17:53:28.511Z"
   },
   {
    "duration": 9659,
    "start_time": "2021-08-22T17:53:30.439Z"
   },
   {
    "duration": 7,
    "start_time": "2021-08-22T17:59:12.239Z"
   },
   {
    "duration": 1380,
    "start_time": "2021-08-22T17:59:22.127Z"
   },
   {
    "duration": 9,
    "start_time": "2021-08-22T17:59:23.509Z"
   },
   {
    "duration": 30,
    "start_time": "2021-08-22T17:59:23.521Z"
   },
   {
    "duration": 42,
    "start_time": "2021-08-22T17:59:23.553Z"
   },
   {
    "duration": 13,
    "start_time": "2021-08-22T17:59:23.598Z"
   },
   {
    "duration": 27,
    "start_time": "2021-08-22T17:59:23.613Z"
   },
   {
    "duration": 55,
    "start_time": "2021-08-22T17:59:23.643Z"
   },
   {
    "duration": 2119,
    "start_time": "2021-08-22T17:59:23.701Z"
   },
   {
    "duration": 11275,
    "start_time": "2021-08-22T17:59:25.823Z"
   },
   {
    "duration": 8,
    "start_time": "2021-08-22T17:59:37.100Z"
   },
   {
    "duration": 1324,
    "start_time": "2021-08-23T15:21:28.206Z"
   },
   {
    "duration": 9,
    "start_time": "2021-08-23T15:21:29.532Z"
   },
   {
    "duration": 30,
    "start_time": "2021-08-23T15:21:29.544Z"
   },
   {
    "duration": 34,
    "start_time": "2021-08-23T15:21:29.576Z"
   },
   {
    "duration": 14,
    "start_time": "2021-08-23T15:21:29.612Z"
   },
   {
    "duration": 48,
    "start_time": "2021-08-23T15:21:29.629Z"
   },
   {
    "duration": 36,
    "start_time": "2021-08-23T15:21:29.679Z"
   },
   {
    "duration": 2050,
    "start_time": "2021-08-23T15:21:29.717Z"
   },
   {
    "duration": 12697,
    "start_time": "2021-08-23T15:21:31.771Z"
   },
   {
    "duration": 7,
    "start_time": "2021-08-23T15:21:44.471Z"
   },
   {
    "duration": 1360,
    "start_time": "2021-08-23T15:22:12.358Z"
   },
   {
    "duration": 9,
    "start_time": "2021-08-23T15:22:13.721Z"
   },
   {
    "duration": 34,
    "start_time": "2021-08-23T15:22:13.733Z"
   },
   {
    "duration": 37,
    "start_time": "2021-08-23T15:22:13.770Z"
   },
   {
    "duration": 15,
    "start_time": "2021-08-23T15:22:13.809Z"
   },
   {
    "duration": 51,
    "start_time": "2021-08-23T15:22:13.826Z"
   },
   {
    "duration": 36,
    "start_time": "2021-08-23T15:22:13.879Z"
   },
   {
    "duration": 2018,
    "start_time": "2021-08-23T15:22:13.919Z"
   },
   {
    "duration": 11237,
    "start_time": "2021-08-23T15:22:15.939Z"
   },
   {
    "duration": 7,
    "start_time": "2021-08-23T15:22:27.179Z"
   },
   {
    "duration": 1374,
    "start_time": "2021-08-23T15:22:43.453Z"
   },
   {
    "duration": 9,
    "start_time": "2021-08-23T15:22:44.830Z"
   },
   {
    "duration": 31,
    "start_time": "2021-08-23T15:22:44.841Z"
   },
   {
    "duration": 32,
    "start_time": "2021-08-23T15:22:44.875Z"
   },
   {
    "duration": 13,
    "start_time": "2021-08-23T15:22:44.910Z"
   },
   {
    "duration": 44,
    "start_time": "2021-08-23T15:22:44.925Z"
   },
   {
    "duration": 38,
    "start_time": "2021-08-23T15:22:44.971Z"
   },
   {
    "duration": 1984,
    "start_time": "2021-08-23T15:22:45.012Z"
   },
   {
    "duration": 12083,
    "start_time": "2021-08-23T15:22:46.999Z"
   },
   {
    "duration": 6,
    "start_time": "2021-08-23T15:22:59.084Z"
   },
   {
    "duration": 1493,
    "start_time": "2021-08-23T15:38:42.317Z"
   },
   {
    "duration": 8,
    "start_time": "2021-08-23T15:38:43.813Z"
   },
   {
    "duration": 23,
    "start_time": "2021-08-23T15:38:43.825Z"
   },
   {
    "duration": 43,
    "start_time": "2021-08-23T15:38:43.851Z"
   },
   {
    "duration": 14,
    "start_time": "2021-08-23T15:38:43.897Z"
   },
   {
    "duration": 14,
    "start_time": "2021-08-23T15:38:43.914Z"
   },
   {
    "duration": 68,
    "start_time": "2021-08-23T15:38:43.931Z"
   },
   {
    "duration": 2074,
    "start_time": "2021-08-23T15:38:44.002Z"
   },
   {
    "duration": 10791,
    "start_time": "2021-08-23T15:38:46.079Z"
   },
   {
    "duration": 395,
    "start_time": "2021-08-23T15:38:56.872Z"
   },
   {
    "duration": -1364,
    "start_time": "2021-08-23T15:38:58.634Z"
   },
   {
    "duration": 1538,
    "start_time": "2021-08-23T15:39:42.497Z"
   },
   {
    "duration": 12,
    "start_time": "2021-08-23T15:39:44.039Z"
   },
   {
    "duration": 27,
    "start_time": "2021-08-23T15:39:44.055Z"
   },
   {
    "duration": 39,
    "start_time": "2021-08-23T15:39:44.085Z"
   },
   {
    "duration": 41,
    "start_time": "2021-08-23T15:39:44.126Z"
   },
   {
    "duration": 17,
    "start_time": "2021-08-23T15:39:44.170Z"
   },
   {
    "duration": 40,
    "start_time": "2021-08-23T15:39:44.190Z"
   },
   {
    "duration": 1997,
    "start_time": "2021-08-23T15:39:44.232Z"
   },
   {
    "duration": 11500,
    "start_time": "2021-08-23T15:39:46.233Z"
   },
   {
    "duration": 316,
    "start_time": "2021-08-23T15:39:57.736Z"
   },
   {
    "duration": 15,
    "start_time": "2021-08-23T15:39:58.055Z"
   },
   {
    "duration": 1304,
    "start_time": "2021-08-23T15:42:06.973Z"
   },
   {
    "duration": 1539,
    "start_time": "2021-08-23T15:44:45.299Z"
   },
   {
    "duration": 11,
    "start_time": "2021-08-23T15:44:46.842Z"
   },
   {
    "duration": 23,
    "start_time": "2021-08-23T15:44:46.857Z"
   },
   {
    "duration": 33,
    "start_time": "2021-08-23T15:44:46.883Z"
   },
   {
    "duration": 16,
    "start_time": "2021-08-23T15:44:46.918Z"
   },
   {
    "duration": 45,
    "start_time": "2021-08-23T15:44:46.936Z"
   },
   {
    "duration": 35,
    "start_time": "2021-08-23T15:44:46.983Z"
   },
   {
    "duration": 2009,
    "start_time": "2021-08-23T15:44:47.021Z"
   },
   {
    "duration": 11633,
    "start_time": "2021-08-23T15:44:49.035Z"
   },
   {
    "duration": 427,
    "start_time": "2021-08-23T15:45:00.671Z"
   },
   {
    "duration": -1301,
    "start_time": "2021-08-23T15:45:02.401Z"
   },
   {
    "duration": 312,
    "start_time": "2021-08-23T15:52:32.342Z"
   },
   {
    "duration": 1862,
    "start_time": "2021-08-23T15:52:40.737Z"
   },
   {
    "duration": 11,
    "start_time": "2021-08-23T15:52:42.603Z"
   },
   {
    "duration": 30,
    "start_time": "2021-08-23T15:52:42.618Z"
   },
   {
    "duration": 68,
    "start_time": "2021-08-23T15:52:42.652Z"
   },
   {
    "duration": 15,
    "start_time": "2021-08-23T15:52:42.723Z"
   },
   {
    "duration": 41,
    "start_time": "2021-08-23T15:52:42.741Z"
   },
   {
    "duration": 38,
    "start_time": "2021-08-23T15:52:42.785Z"
   },
   {
    "duration": 2026,
    "start_time": "2021-08-23T15:52:42.826Z"
   },
   {
    "duration": 11791,
    "start_time": "2021-08-23T15:52:44.855Z"
   },
   {
    "duration": 423,
    "start_time": "2021-08-23T15:52:56.649Z"
   },
   {
    "duration": -1421,
    "start_time": "2021-08-23T15:52:58.496Z"
   },
   {
    "duration": 299,
    "start_time": "2021-08-23T15:58:26.713Z"
   },
   {
    "duration": 250,
    "start_time": "2021-08-23T15:59:08.273Z"
   },
   {
    "duration": 310,
    "start_time": "2021-08-23T15:59:19.133Z"
   },
   {
    "duration": 295,
    "start_time": "2021-08-23T15:59:55.443Z"
   },
   {
    "duration": 274,
    "start_time": "2021-08-23T16:00:17.703Z"
   },
   {
    "duration": 826,
    "start_time": "2021-08-23T16:01:32.883Z"
   },
   {
    "duration": 326,
    "start_time": "2021-08-23T16:02:19.653Z"
   },
   {
    "duration": 715,
    "start_time": "2021-08-23T16:02:44.593Z"
   },
   {
    "duration": 710,
    "start_time": "2021-08-23T16:03:04.542Z"
   },
   {
    "duration": 727,
    "start_time": "2021-08-23T16:03:56.279Z"
   },
   {
    "duration": 708,
    "start_time": "2021-08-23T16:04:09.828Z"
   },
   {
    "duration": 274,
    "start_time": "2021-08-23T16:05:45.216Z"
   },
   {
    "duration": 282,
    "start_time": "2021-08-23T16:06:01.375Z"
   },
   {
    "duration": 281,
    "start_time": "2021-08-23T16:07:36.938Z"
   },
   {
    "duration": 375,
    "start_time": "2021-08-23T16:07:53.771Z"
   },
   {
    "duration": 273,
    "start_time": "2021-08-23T16:08:26.776Z"
   },
   {
    "duration": 281,
    "start_time": "2021-08-23T16:11:46.819Z"
   },
   {
    "duration": 368,
    "start_time": "2021-08-23T16:12:41.711Z"
   },
   {
    "duration": 328,
    "start_time": "2021-08-23T16:12:57.221Z"
   },
   {
    "duration": 360,
    "start_time": "2021-08-23T16:13:16.682Z"
   },
   {
    "duration": 293,
    "start_time": "2021-08-23T16:13:42.449Z"
   },
   {
    "duration": 6359,
    "start_time": "2021-08-23T16:16:48.718Z"
   },
   {
    "duration": 289,
    "start_time": "2021-08-23T16:17:09.658Z"
   },
   {
    "duration": 298,
    "start_time": "2021-08-23T16:26:09.751Z"
   },
   {
    "duration": 13,
    "start_time": "2021-08-23T16:26:26.793Z"
   },
   {
    "duration": 15,
    "start_time": "2021-08-23T16:28:26.175Z"
   },
   {
    "duration": 17,
    "start_time": "2021-08-23T16:28:44.239Z"
   },
   {
    "duration": 17,
    "start_time": "2021-08-23T16:31:42.907Z"
   },
   {
    "duration": 274,
    "start_time": "2021-08-23T16:33:00.999Z"
   },
   {
    "duration": 16,
    "start_time": "2021-08-23T16:33:33.586Z"
   },
   {
    "duration": 15,
    "start_time": "2021-08-23T16:33:58.145Z"
   },
   {
    "duration": 304,
    "start_time": "2021-08-23T16:34:48.842Z"
   },
   {
    "duration": 97,
    "start_time": "2021-08-23T16:35:29.008Z"
   },
   {
    "duration": 74,
    "start_time": "2021-08-23T16:35:51.376Z"
   },
   {
    "duration": 260,
    "start_time": "2021-08-23T16:36:10.813Z"
   },
   {
    "duration": 296,
    "start_time": "2021-08-23T16:36:38.524Z"
   },
   {
    "duration": 1526,
    "start_time": "2021-08-24T05:19:15.189Z"
   },
   {
    "duration": 8,
    "start_time": "2021-08-24T05:19:16.718Z"
   },
   {
    "duration": 21,
    "start_time": "2021-08-24T05:19:16.729Z"
   },
   {
    "duration": 40,
    "start_time": "2021-08-24T05:19:16.752Z"
   },
   {
    "duration": 14,
    "start_time": "2021-08-24T05:19:16.794Z"
   },
   {
    "duration": 18,
    "start_time": "2021-08-24T05:19:16.810Z"
   },
   {
    "duration": 64,
    "start_time": "2021-08-24T05:19:16.830Z"
   },
   {
    "duration": 1937,
    "start_time": "2021-08-24T05:19:16.896Z"
   },
   {
    "duration": 12212,
    "start_time": "2021-08-24T05:19:18.836Z"
   },
   {
    "duration": 323,
    "start_time": "2021-08-24T05:19:31.051Z"
   },
   {
    "duration": 324,
    "start_time": "2021-08-24T05:19:31.377Z"
   },
   {
    "duration": 89,
    "start_time": "2021-08-24T05:25:23.553Z"
   },
   {
    "duration": 287,
    "start_time": "2021-08-24T05:25:33.632Z"
   },
   {
    "duration": 136,
    "start_time": "2021-08-24T05:25:55.441Z"
   },
   {
    "duration": 194,
    "start_time": "2021-08-24T05:26:15.173Z"
   },
   {
    "duration": 295,
    "start_time": "2021-08-24T05:26:28.672Z"
   },
   {
    "duration": 1528,
    "start_time": "2021-08-24T05:28:26.282Z"
   },
   {
    "duration": 9,
    "start_time": "2021-08-24T05:28:27.813Z"
   },
   {
    "duration": 21,
    "start_time": "2021-08-24T05:28:27.826Z"
   },
   {
    "duration": 51,
    "start_time": "2021-08-24T05:28:27.850Z"
   },
   {
    "duration": 16,
    "start_time": "2021-08-24T05:28:27.905Z"
   },
   {
    "duration": 50,
    "start_time": "2021-08-24T05:28:27.924Z"
   },
   {
    "duration": 38,
    "start_time": "2021-08-24T05:28:27.977Z"
   },
   {
    "duration": 1985,
    "start_time": "2021-08-24T05:28:28.018Z"
   },
   {
    "duration": 11787,
    "start_time": "2021-08-24T05:28:30.008Z"
   },
   {
    "duration": 318,
    "start_time": "2021-08-24T05:28:41.799Z"
   },
   {
    "duration": 316,
    "start_time": "2021-08-24T05:28:42.119Z"
   },
   {
    "duration": 4,
    "start_time": "2021-08-24T05:28:42.437Z"
   },
   {
    "duration": 12,
    "start_time": "2021-08-24T05:36:18.231Z"
   },
   {
    "duration": 6,
    "start_time": "2021-08-24T05:36:54.856Z"
   },
   {
    "duration": 8,
    "start_time": "2021-08-24T05:37:24.194Z"
   },
   {
    "duration": 17,
    "start_time": "2021-08-24T05:39:45.376Z"
   },
   {
    "duration": 1506,
    "start_time": "2021-08-24T06:01:01.211Z"
   },
   {
    "duration": 8,
    "start_time": "2021-08-24T06:01:02.720Z"
   },
   {
    "duration": 36,
    "start_time": "2021-08-24T06:01:02.732Z"
   },
   {
    "duration": 51,
    "start_time": "2021-08-24T06:01:02.772Z"
   },
   {
    "duration": 14,
    "start_time": "2021-08-24T06:01:02.826Z"
   },
   {
    "duration": 36,
    "start_time": "2021-08-24T06:01:02.842Z"
   },
   {
    "duration": 36,
    "start_time": "2021-08-24T06:01:02.880Z"
   },
   {
    "duration": 2004,
    "start_time": "2021-08-24T06:01:02.918Z"
   },
   {
    "duration": 11433,
    "start_time": "2021-08-24T06:01:04.925Z"
   },
   {
    "duration": 327,
    "start_time": "2021-08-24T06:01:16.368Z"
   },
   {
    "duration": 324,
    "start_time": "2021-08-24T06:01:16.697Z"
   },
   {
    "duration": 21,
    "start_time": "2021-08-24T06:01:17.023Z"
   },
   {
    "duration": 16,
    "start_time": "2021-08-24T06:01:57.866Z"
   },
   {
    "duration": 1586,
    "start_time": "2021-08-24T06:07:15.142Z"
   },
   {
    "duration": 9,
    "start_time": "2021-08-24T06:07:16.731Z"
   },
   {
    "duration": 26,
    "start_time": "2021-08-24T06:07:16.743Z"
   },
   {
    "duration": 34,
    "start_time": "2021-08-24T06:07:16.772Z"
   },
   {
    "duration": 14,
    "start_time": "2021-08-24T06:07:16.808Z"
   },
   {
    "duration": 45,
    "start_time": "2021-08-24T06:07:16.825Z"
   },
   {
    "duration": 37,
    "start_time": "2021-08-24T06:07:16.873Z"
   },
   {
    "duration": 1970,
    "start_time": "2021-08-24T06:07:16.912Z"
   },
   {
    "duration": 11674,
    "start_time": "2021-08-24T06:07:18.885Z"
   },
   {
    "duration": 327,
    "start_time": "2021-08-24T06:07:30.567Z"
   },
   {
    "duration": 320,
    "start_time": "2021-08-24T06:07:30.896Z"
   },
   {
    "duration": 20,
    "start_time": "2021-08-24T06:07:31.219Z"
   },
   {
    "duration": 18,
    "start_time": "2021-08-24T06:08:05.359Z"
   },
   {
    "duration": 345,
    "start_time": "2021-08-24T06:09:41.234Z"
   },
   {
    "duration": 1698,
    "start_time": "2021-08-24T17:05:14.767Z"
   },
   {
    "duration": 9,
    "start_time": "2021-08-24T17:05:16.467Z"
   },
   {
    "duration": 26,
    "start_time": "2021-08-24T17:05:16.479Z"
   },
   {
    "duration": 35,
    "start_time": "2021-08-24T17:05:16.507Z"
   },
   {
    "duration": 15,
    "start_time": "2021-08-24T17:05:16.544Z"
   },
   {
    "duration": 16,
    "start_time": "2021-08-24T17:05:16.587Z"
   },
   {
    "duration": 36,
    "start_time": "2021-08-24T17:05:16.606Z"
   },
   {
    "duration": 2062,
    "start_time": "2021-08-24T17:05:16.645Z"
   },
   {
    "duration": 11428,
    "start_time": "2021-08-24T17:05:18.709Z"
   },
   {
    "duration": 412,
    "start_time": "2021-08-24T17:05:30.140Z"
   },
   {
    "duration": 410,
    "start_time": "2021-08-24T17:05:30.554Z"
   },
   {
    "duration": 28,
    "start_time": "2021-08-24T17:05:30.967Z"
   },
   {
    "duration": 7,
    "start_time": "2021-08-24T17:11:13.214Z"
   },
   {
    "duration": 1226,
    "start_time": "2021-08-25T13:59:22.484Z"
   },
   {
    "duration": 7,
    "start_time": "2021-08-25T13:59:23.712Z"
   },
   {
    "duration": 15,
    "start_time": "2021-08-25T13:59:23.721Z"
   },
   {
    "duration": 22,
    "start_time": "2021-08-25T13:59:23.738Z"
   },
   {
    "duration": 8,
    "start_time": "2021-08-25T13:59:23.762Z"
   },
   {
    "duration": 6486,
    "start_time": "2021-08-25T13:59:23.772Z"
   },
   {
    "duration": 12,
    "start_time": "2021-08-25T13:59:30.260Z"
   },
   {
    "duration": 31,
    "start_time": "2021-08-25T13:59:30.274Z"
   },
   {
    "duration": 1242,
    "start_time": "2021-08-25T13:59:30.307Z"
   },
   {
    "duration": 7746,
    "start_time": "2021-08-25T13:59:31.551Z"
   },
   {
    "duration": 185,
    "start_time": "2021-08-25T13:59:39.299Z"
   },
   {
    "duration": 183,
    "start_time": "2021-08-25T13:59:39.486Z"
   },
   {
    "duration": 15,
    "start_time": "2021-08-25T13:59:39.671Z"
   },
   {
    "duration": 11,
    "start_time": "2021-08-25T14:07:48.914Z"
   },
   {
    "duration": 1172,
    "start_time": "2021-08-25T14:09:02.352Z"
   },
   {
    "duration": 6,
    "start_time": "2021-08-25T14:09:03.526Z"
   },
   {
    "duration": 15,
    "start_time": "2021-08-25T14:09:03.534Z"
   },
   {
    "duration": 25,
    "start_time": "2021-08-25T14:09:03.551Z"
   },
   {
    "duration": 9,
    "start_time": "2021-08-25T14:09:03.578Z"
   },
   {
    "duration": 6512,
    "start_time": "2021-08-25T14:09:03.589Z"
   },
   {
    "duration": 13,
    "start_time": "2021-08-25T14:09:10.103Z"
   },
   {
    "duration": 45,
    "start_time": "2021-08-25T14:09:10.119Z"
   },
   {
    "duration": 1062,
    "start_time": "2021-08-25T14:09:10.166Z"
   },
   {
    "duration": 5816,
    "start_time": "2021-08-25T14:09:11.230Z"
   },
   {
    "duration": 182,
    "start_time": "2021-08-25T14:09:17.048Z"
   },
   {
    "duration": 175,
    "start_time": "2021-08-25T14:09:17.232Z"
   },
   {
    "duration": 14,
    "start_time": "2021-08-25T14:09:17.409Z"
   },
   {
    "duration": 544,
    "start_time": "2021-08-25T14:10:21.234Z"
   },
   {
    "duration": 14,
    "start_time": "2021-08-25T14:10:33.391Z"
   },
   {
    "duration": 14,
    "start_time": "2021-08-25T14:12:44.711Z"
   },
   {
    "duration": 1125,
    "start_time": "2021-08-25T14:13:36.582Z"
   },
   {
    "duration": 7,
    "start_time": "2021-08-25T14:13:37.709Z"
   },
   {
    "duration": 23,
    "start_time": "2021-08-25T14:13:37.718Z"
   },
   {
    "duration": 23,
    "start_time": "2021-08-25T14:13:37.743Z"
   },
   {
    "duration": 9,
    "start_time": "2021-08-25T14:13:37.767Z"
   },
   {
    "duration": 6646,
    "start_time": "2021-08-25T14:13:37.778Z"
   },
   {
    "duration": 21,
    "start_time": "2021-08-25T14:13:44.426Z"
   },
   {
    "duration": 29,
    "start_time": "2021-08-25T14:13:44.450Z"
   },
   {
    "duration": 1104,
    "start_time": "2021-08-25T14:13:44.481Z"
   },
   {
    "duration": 6488,
    "start_time": "2021-08-25T14:13:45.587Z"
   },
   {
    "duration": 179,
    "start_time": "2021-08-25T14:13:52.076Z"
   },
   {
    "duration": 178,
    "start_time": "2021-08-25T14:13:52.257Z"
   },
   {
    "duration": 15,
    "start_time": "2021-08-25T14:13:52.440Z"
   },
   {
    "duration": 1238,
    "start_time": "2021-08-25T14:15:34.080Z"
   },
   {
    "duration": 9,
    "start_time": "2021-08-25T14:15:35.319Z"
   },
   {
    "duration": 14,
    "start_time": "2021-08-25T14:15:35.330Z"
   },
   {
    "duration": 33,
    "start_time": "2021-08-25T14:15:35.346Z"
   },
   {
    "duration": 10,
    "start_time": "2021-08-25T14:15:35.381Z"
   },
   {
    "duration": 6797,
    "start_time": "2021-08-25T14:15:35.393Z"
   },
   {
    "duration": 10,
    "start_time": "2021-08-25T14:15:42.191Z"
   },
   {
    "duration": 50,
    "start_time": "2021-08-25T14:15:42.203Z"
   },
   {
    "duration": 1099,
    "start_time": "2021-08-25T14:15:42.255Z"
   },
   {
    "duration": 6924,
    "start_time": "2021-08-25T14:15:43.356Z"
   },
   {
    "duration": 189,
    "start_time": "2021-08-25T14:15:50.282Z"
   },
   {
    "duration": 188,
    "start_time": "2021-08-25T14:15:50.473Z"
   },
   {
    "duration": 16,
    "start_time": "2021-08-25T14:15:50.663Z"
   },
   {
    "duration": 374,
    "start_time": "2021-08-25T14:19:44.014Z"
   },
   {
    "duration": 270,
    "start_time": "2021-08-25T14:20:21.805Z"
   },
   {
    "duration": 302,
    "start_time": "2021-08-25T14:22:31.844Z"
   },
   {
    "duration": 1184,
    "start_time": "2021-08-25T14:22:45.039Z"
   },
   {
    "duration": 9,
    "start_time": "2021-08-25T14:22:46.225Z"
   },
   {
    "duration": 24,
    "start_time": "2021-08-25T14:22:46.236Z"
   },
   {
    "duration": 34,
    "start_time": "2021-08-25T14:22:46.262Z"
   },
   {
    "duration": 13,
    "start_time": "2021-08-25T14:22:46.298Z"
   },
   {
    "duration": 6613,
    "start_time": "2021-08-25T14:22:46.313Z"
   },
   {
    "duration": 384,
    "start_time": "2021-08-25T14:22:52.928Z"
   },
   {
    "duration": -2049,
    "start_time": "2021-08-25T14:22:55.363Z"
   },
   {
    "duration": -2071,
    "start_time": "2021-08-25T14:22:55.386Z"
   },
   {
    "duration": -2078,
    "start_time": "2021-08-25T14:22:55.394Z"
   },
   {
    "duration": -2092,
    "start_time": "2021-08-25T14:22:55.409Z"
   },
   {
    "duration": -2104,
    "start_time": "2021-08-25T14:22:55.422Z"
   },
   {
    "duration": -2111,
    "start_time": "2021-08-25T14:22:55.429Z"
   },
   {
    "duration": 307,
    "start_time": "2021-08-25T14:24:06.166Z"
   },
   {
    "duration": 339,
    "start_time": "2021-08-25T14:25:15.117Z"
   },
   {
    "duration": 271,
    "start_time": "2021-08-25T14:41:48.681Z"
   },
   {
    "duration": 1148,
    "start_time": "2021-08-25T14:42:15.884Z"
   },
   {
    "duration": 6,
    "start_time": "2021-08-25T14:42:17.034Z"
   },
   {
    "duration": 19,
    "start_time": "2021-08-25T14:42:17.042Z"
   },
   {
    "duration": 22,
    "start_time": "2021-08-25T14:42:17.062Z"
   },
   {
    "duration": 10,
    "start_time": "2021-08-25T14:42:17.086Z"
   },
   {
    "duration": 7264,
    "start_time": "2021-08-25T14:42:17.097Z"
   },
   {
    "duration": 2,
    "start_time": "2021-08-25T14:42:24.363Z"
   },
   {
    "duration": 387,
    "start_time": "2021-08-25T14:42:24.367Z"
   },
   {
    "duration": -8461,
    "start_time": "2021-08-25T14:42:33.217Z"
   },
   {
    "duration": -8491,
    "start_time": "2021-08-25T14:42:33.248Z"
   },
   {
    "duration": -8509,
    "start_time": "2021-08-25T14:42:33.267Z"
   },
   {
    "duration": -8529,
    "start_time": "2021-08-25T14:42:33.288Z"
   },
   {
    "duration": -8535,
    "start_time": "2021-08-25T14:42:33.295Z"
   },
   {
    "duration": -8564,
    "start_time": "2021-08-25T14:42:33.325Z"
   },
   {
    "duration": 13,
    "start_time": "2021-08-25T14:43:11.404Z"
   },
   {
    "duration": 1268,
    "start_time": "2021-08-25T14:43:38.844Z"
   },
   {
    "duration": 7,
    "start_time": "2021-08-25T14:43:40.114Z"
   },
   {
    "duration": 22,
    "start_time": "2021-08-25T14:43:40.123Z"
   },
   {
    "duration": 33,
    "start_time": "2021-08-25T14:43:40.147Z"
   },
   {
    "duration": 10,
    "start_time": "2021-08-25T14:43:40.181Z"
   },
   {
    "duration": 7530,
    "start_time": "2021-08-25T14:43:40.193Z"
   },
   {
    "duration": 23,
    "start_time": "2021-08-25T14:43:47.724Z"
   },
   {
    "duration": 24,
    "start_time": "2021-08-25T14:43:47.750Z"
   },
   {
    "duration": 1103,
    "start_time": "2021-08-25T14:43:47.776Z"
   },
   {
    "duration": 6541,
    "start_time": "2021-08-25T14:43:48.881Z"
   },
   {
    "duration": 178,
    "start_time": "2021-08-25T14:43:55.424Z"
   },
   {
    "duration": 191,
    "start_time": "2021-08-25T14:43:55.604Z"
   },
   {
    "duration": 15,
    "start_time": "2021-08-25T14:43:55.797Z"
   },
   {
    "duration": 1249,
    "start_time": "2021-08-25T14:45:52.546Z"
   },
   {
    "duration": 8,
    "start_time": "2021-08-25T14:45:53.797Z"
   },
   {
    "duration": 31,
    "start_time": "2021-08-25T14:45:53.807Z"
   },
   {
    "duration": 35,
    "start_time": "2021-08-25T14:45:53.840Z"
   },
   {
    "duration": 10,
    "start_time": "2021-08-25T14:45:53.877Z"
   },
   {
    "duration": 6886,
    "start_time": "2021-08-25T14:45:53.889Z"
   },
   {
    "duration": 15,
    "start_time": "2021-08-25T14:46:00.777Z"
   },
   {
    "duration": 51,
    "start_time": "2021-08-25T14:46:00.795Z"
   },
   {
    "duration": 1141,
    "start_time": "2021-08-25T14:46:00.848Z"
   },
   {
    "duration": 6500,
    "start_time": "2021-08-25T14:46:01.990Z"
   },
   {
    "duration": 194,
    "start_time": "2021-08-25T14:46:08.492Z"
   },
   {
    "duration": 187,
    "start_time": "2021-08-25T14:46:08.688Z"
   },
   {
    "duration": 20,
    "start_time": "2021-08-25T14:46:08.877Z"
   },
   {
    "duration": 7,
    "start_time": "2021-08-25T14:48:19.042Z"
   },
   {
    "duration": 361,
    "start_time": "2021-08-25T15:04:40.857Z"
   },
   {
    "duration": 1357,
    "start_time": "2021-08-25T15:04:51.096Z"
   },
   {
    "duration": 7,
    "start_time": "2021-08-25T15:04:52.455Z"
   },
   {
    "duration": 37,
    "start_time": "2021-08-25T15:04:52.465Z"
   },
   {
    "duration": 37,
    "start_time": "2021-08-25T15:04:52.504Z"
   },
   {
    "duration": 10,
    "start_time": "2021-08-25T15:04:52.543Z"
   },
   {
    "duration": 6730,
    "start_time": "2021-08-25T15:04:52.555Z"
   },
   {
    "duration": 14,
    "start_time": "2021-08-25T15:04:59.286Z"
   },
   {
    "duration": 45,
    "start_time": "2021-08-25T15:04:59.304Z"
   },
   {
    "duration": 1143,
    "start_time": "2021-08-25T15:04:59.350Z"
   },
   {
    "duration": 6297,
    "start_time": "2021-08-25T15:05:00.495Z"
   },
   {
    "duration": 289,
    "start_time": "2021-08-25T15:05:06.794Z"
   },
   {
    "duration": 295,
    "start_time": "2021-08-25T15:05:07.086Z"
   },
   {
    "duration": 20,
    "start_time": "2021-08-25T15:05:07.384Z"
   },
   {
    "duration": 11,
    "start_time": "2021-08-25T15:05:07.406Z"
   },
   {
    "duration": 1218,
    "start_time": "2021-08-25T15:10:26.415Z"
   },
   {
    "duration": 9,
    "start_time": "2021-08-25T15:10:27.635Z"
   },
   {
    "duration": 18,
    "start_time": "2021-08-25T15:10:27.647Z"
   },
   {
    "duration": 24,
    "start_time": "2021-08-25T15:10:27.667Z"
   },
   {
    "duration": 9,
    "start_time": "2021-08-25T15:10:27.693Z"
   },
   {
    "duration": 7832,
    "start_time": "2021-08-25T15:10:27.704Z"
   },
   {
    "duration": 23,
    "start_time": "2021-08-25T15:10:35.540Z"
   },
   {
    "duration": 23,
    "start_time": "2021-08-25T15:10:35.565Z"
   },
   {
    "duration": 1231,
    "start_time": "2021-08-25T15:10:35.590Z"
   },
   {
    "duration": 6924,
    "start_time": "2021-08-25T15:10:36.823Z"
   },
   {
    "duration": 208,
    "start_time": "2021-08-25T15:10:43.750Z"
   },
   {
    "duration": 203,
    "start_time": "2021-08-25T15:10:43.960Z"
   },
   {
    "duration": 16,
    "start_time": "2021-08-25T15:10:44.165Z"
   },
   {
    "duration": 8,
    "start_time": "2021-08-25T15:10:44.183Z"
   },
   {
    "duration": 9,
    "start_time": "2021-08-25T15:11:35.220Z"
   },
   {
    "duration": 9,
    "start_time": "2021-08-25T15:11:43.328Z"
   },
   {
    "duration": 8,
    "start_time": "2021-08-25T15:11:54.872Z"
   },
   {
    "duration": 9,
    "start_time": "2021-08-25T15:13:39.110Z"
   },
   {
    "duration": 9,
    "start_time": "2021-08-25T15:13:42.818Z"
   },
   {
    "duration": 1206,
    "start_time": "2021-08-25T15:13:57.689Z"
   },
   {
    "duration": 8,
    "start_time": "2021-08-25T15:13:58.898Z"
   },
   {
    "duration": 19,
    "start_time": "2021-08-25T15:13:58.909Z"
   },
   {
    "duration": 33,
    "start_time": "2021-08-25T15:13:58.930Z"
   },
   {
    "duration": 13,
    "start_time": "2021-08-25T15:13:58.965Z"
   },
   {
    "duration": 7949,
    "start_time": "2021-08-25T15:13:58.980Z"
   },
   {
    "duration": 26,
    "start_time": "2021-08-25T15:14:06.931Z"
   },
   {
    "duration": 25,
    "start_time": "2021-08-25T15:14:06.960Z"
   },
   {
    "duration": 1214,
    "start_time": "2021-08-25T15:14:06.987Z"
   },
   {
    "duration": 7013,
    "start_time": "2021-08-25T15:14:08.203Z"
   },
   {
    "duration": 210,
    "start_time": "2021-08-25T15:14:15.218Z"
   },
   {
    "duration": 215,
    "start_time": "2021-08-25T15:14:15.430Z"
   },
   {
    "duration": 18,
    "start_time": "2021-08-25T15:14:15.648Z"
   },
   {
    "duration": 8,
    "start_time": "2021-08-25T15:14:15.668Z"
   },
   {
    "duration": 12,
    "start_time": "2021-08-25T15:17:36.279Z"
   },
   {
    "duration": 385,
    "start_time": "2021-08-25T15:53:10.075Z"
   },
   {
    "duration": 1220,
    "start_time": "2021-08-25T15:54:04.802Z"
   },
   {
    "duration": 7,
    "start_time": "2021-08-25T15:54:06.024Z"
   },
   {
    "duration": 25,
    "start_time": "2021-08-25T15:54:06.033Z"
   },
   {
    "duration": 24,
    "start_time": "2021-08-25T15:54:06.061Z"
   },
   {
    "duration": 10,
    "start_time": "2021-08-25T15:54:06.087Z"
   },
   {
    "duration": 6860,
    "start_time": "2021-08-25T15:54:06.099Z"
   },
   {
    "duration": 13,
    "start_time": "2021-08-25T15:54:12.961Z"
   },
   {
    "duration": 31,
    "start_time": "2021-08-25T15:54:12.976Z"
   },
   {
    "duration": 1154,
    "start_time": "2021-08-25T15:54:13.010Z"
   },
   {
    "duration": 388,
    "start_time": "2021-08-25T15:54:14.166Z"
   },
   {
    "duration": -1822,
    "start_time": "2021-08-25T15:54:16.378Z"
   },
   {
    "duration": -1826,
    "start_time": "2021-08-25T15:54:16.383Z"
   },
   {
    "duration": -1830,
    "start_time": "2021-08-25T15:54:16.388Z"
   },
   {
    "duration": -1836,
    "start_time": "2021-08-25T15:54:16.395Z"
   },
   {
    "duration": -1859,
    "start_time": "2021-08-25T15:54:16.419Z"
   },
   {
    "duration": 1248,
    "start_time": "2021-08-25T15:55:54.749Z"
   },
   {
    "duration": 7,
    "start_time": "2021-08-25T15:55:55.999Z"
   },
   {
    "duration": 16,
    "start_time": "2021-08-25T15:55:56.008Z"
   },
   {
    "duration": 26,
    "start_time": "2021-08-25T15:55:56.026Z"
   },
   {
    "duration": 9,
    "start_time": "2021-08-25T15:55:56.054Z"
   },
   {
    "duration": 10517,
    "start_time": "2021-08-25T15:55:56.066Z"
   },
   {
    "duration": 20,
    "start_time": "2021-08-25T15:56:06.585Z"
   },
   {
    "duration": 59,
    "start_time": "2021-08-25T15:56:06.608Z"
   },
   {
    "duration": 1719,
    "start_time": "2021-08-25T15:56:06.669Z"
   },
   {
    "duration": 8601,
    "start_time": "2021-08-25T15:56:08.390Z"
   },
   {
    "duration": 186,
    "start_time": "2021-08-25T15:56:16.993Z"
   },
   {
    "duration": 145,
    "start_time": "2021-08-25T15:56:17.182Z"
   },
   {
    "duration": 186,
    "start_time": "2021-08-25T15:56:17.329Z"
   },
   {
    "duration": 24,
    "start_time": "2021-08-25T15:56:17.517Z"
   },
   {
    "duration": 10,
    "start_time": "2021-08-25T15:56:17.542Z"
   },
   {
    "duration": 92,
    "start_time": "2021-08-25T15:58:05.597Z"
   },
   {
    "duration": 1192,
    "start_time": "2021-08-25T16:01:14.229Z"
   },
   {
    "duration": 7,
    "start_time": "2021-08-25T16:01:15.423Z"
   },
   {
    "duration": 19,
    "start_time": "2021-08-25T16:01:15.432Z"
   },
   {
    "duration": 21,
    "start_time": "2021-08-25T16:01:15.453Z"
   },
   {
    "duration": 10,
    "start_time": "2021-08-25T16:01:15.475Z"
   },
   {
    "duration": 6627,
    "start_time": "2021-08-25T16:01:15.487Z"
   },
   {
    "duration": 29,
    "start_time": "2021-08-25T16:01:22.116Z"
   },
   {
    "duration": 23,
    "start_time": "2021-08-25T16:01:22.147Z"
   },
   {
    "duration": 1080,
    "start_time": "2021-08-25T16:01:22.172Z"
   },
   {
    "duration": 6521,
    "start_time": "2021-08-25T16:01:23.254Z"
   },
   {
    "duration": 181,
    "start_time": "2021-08-25T16:01:29.777Z"
   },
   {
    "duration": 141,
    "start_time": "2021-08-25T16:01:29.960Z"
   },
   {
    "duration": 191,
    "start_time": "2021-08-25T16:01:30.103Z"
   },
   {
    "duration": 16,
    "start_time": "2021-08-25T16:01:30.296Z"
   },
   {
    "duration": 27,
    "start_time": "2021-08-25T16:01:30.314Z"
   },
   {
    "duration": 1215,
    "start_time": "2021-08-25T16:16:24.360Z"
   },
   {
    "duration": 7,
    "start_time": "2021-08-25T16:16:25.577Z"
   },
   {
    "duration": 19,
    "start_time": "2021-08-25T16:16:25.586Z"
   },
   {
    "duration": 29,
    "start_time": "2021-08-25T16:16:25.607Z"
   },
   {
    "duration": 13,
    "start_time": "2021-08-25T16:16:25.637Z"
   },
   {
    "duration": 7932,
    "start_time": "2021-08-25T16:16:25.652Z"
   },
   {
    "duration": 16,
    "start_time": "2021-08-25T16:16:33.587Z"
   },
   {
    "duration": 51,
    "start_time": "2021-08-25T16:16:33.605Z"
   },
   {
    "duration": 1176,
    "start_time": "2021-08-25T16:16:33.658Z"
   },
   {
    "duration": 5999,
    "start_time": "2021-08-25T16:16:34.836Z"
   },
   {
    "duration": 197,
    "start_time": "2021-08-25T16:16:40.837Z"
   },
   {
    "duration": 115,
    "start_time": "2021-08-25T16:16:41.035Z"
   },
   {
    "duration": 188,
    "start_time": "2021-08-25T16:16:41.153Z"
   },
   {
    "duration": 19,
    "start_time": "2021-08-25T16:16:41.343Z"
   },
   {
    "duration": 14,
    "start_time": "2021-08-25T16:16:41.364Z"
   },
   {
    "duration": 1272,
    "start_time": "2021-08-25T16:19:17.227Z"
   },
   {
    "duration": 7,
    "start_time": "2021-08-25T16:19:18.501Z"
   },
   {
    "duration": 19,
    "start_time": "2021-08-25T16:19:18.510Z"
   },
   {
    "duration": 30,
    "start_time": "2021-08-25T16:19:18.531Z"
   },
   {
    "duration": 12,
    "start_time": "2021-08-25T16:19:18.563Z"
   },
   {
    "duration": 7865,
    "start_time": "2021-08-25T16:19:18.577Z"
   },
   {
    "duration": 15,
    "start_time": "2021-08-25T16:19:26.448Z"
   },
   {
    "duration": 29,
    "start_time": "2021-08-25T16:19:26.466Z"
   },
   {
    "duration": 1146,
    "start_time": "2021-08-25T16:19:26.497Z"
   },
   {
    "duration": 7088,
    "start_time": "2021-08-25T16:19:27.645Z"
   },
   {
    "duration": 192,
    "start_time": "2021-08-25T16:19:34.735Z"
   },
   {
    "duration": 137,
    "start_time": "2021-08-25T16:19:34.929Z"
   },
   {
    "duration": 180,
    "start_time": "2021-08-25T16:19:35.068Z"
   },
   {
    "duration": 15,
    "start_time": "2021-08-25T16:19:35.250Z"
   },
   {
    "duration": 10,
    "start_time": "2021-08-25T16:19:35.267Z"
   },
   {
    "duration": 1147,
    "start_time": "2021-08-25T16:34:43.967Z"
   },
   {
    "duration": 8,
    "start_time": "2021-08-25T16:34:45.116Z"
   },
   {
    "duration": 15,
    "start_time": "2021-08-25T16:34:45.126Z"
   },
   {
    "duration": 30,
    "start_time": "2021-08-25T16:34:45.142Z"
   },
   {
    "duration": 9,
    "start_time": "2021-08-25T16:34:45.174Z"
   },
   {
    "duration": 7252,
    "start_time": "2021-08-25T16:34:45.184Z"
   },
   {
    "duration": 13,
    "start_time": "2021-08-25T16:34:52.438Z"
   },
   {
    "duration": 29,
    "start_time": "2021-08-25T16:34:52.453Z"
   },
   {
    "duration": 1086,
    "start_time": "2021-08-25T16:34:52.484Z"
   },
   {
    "duration": 6405,
    "start_time": "2021-08-25T16:34:53.571Z"
   },
   {
    "duration": 187,
    "start_time": "2021-08-25T16:34:59.978Z"
   },
   {
    "duration": 126,
    "start_time": "2021-08-25T16:35:00.166Z"
   },
   {
    "duration": 214,
    "start_time": "2021-08-25T16:35:00.294Z"
   },
   {
    "duration": 16,
    "start_time": "2021-08-25T16:35:00.510Z"
   },
   {
    "duration": 18,
    "start_time": "2021-08-25T16:35:00.528Z"
   },
   {
    "duration": 1672,
    "start_time": "2022-02-27T17:25:01.379Z"
   },
   {
    "duration": 10,
    "start_time": "2022-02-27T17:25:03.053Z"
   },
   {
    "duration": 21,
    "start_time": "2022-02-27T17:25:03.073Z"
   },
   {
    "duration": 46,
    "start_time": "2022-02-27T17:25:03.097Z"
   },
   {
    "duration": 34,
    "start_time": "2022-02-27T17:25:03.146Z"
   },
   {
    "duration": 11737,
    "start_time": "2022-02-27T17:25:03.183Z"
   },
   {
    "duration": 23,
    "start_time": "2022-02-27T17:25:14.922Z"
   },
   {
    "duration": 59,
    "start_time": "2022-02-27T17:25:14.948Z"
   },
   {
    "duration": 1969,
    "start_time": "2022-02-27T17:25:15.010Z"
   },
   {
    "duration": 12319,
    "start_time": "2022-02-27T17:25:16.982Z"
   },
   {
    "duration": 333,
    "start_time": "2022-02-27T17:25:29.303Z"
   },
   {
    "duration": 247,
    "start_time": "2022-02-27T17:25:29.639Z"
   },
   {
    "duration": 327,
    "start_time": "2022-02-27T17:25:29.888Z"
   },
   {
    "duration": 19,
    "start_time": "2022-02-27T17:25:30.217Z"
   },
   {
    "duration": 35,
    "start_time": "2022-02-27T17:25:30.239Z"
   }
  ],
  "kernelspec": {
   "display_name": "Python 3",
   "language": "python",
   "name": "python3"
  },
  "language_info": {
   "codemirror_mode": {
    "name": "ipython",
    "version": 3
   },
   "file_extension": ".py",
   "mimetype": "text/x-python",
   "name": "python",
   "nbconvert_exporter": "python",
   "pygments_lexer": "ipython3",
   "version": "3.7.8"
  },
  "toc": {
   "base_numbering": 1,
   "nav_menu": {},
   "number_sections": true,
   "sideBar": true,
   "skip_h1_title": true,
   "title_cell": "Table of Contents",
   "title_sidebar": "Contents",
   "toc_cell": false,
   "toc_position": {},
   "toc_section_display": true,
   "toc_window_display": false
  }
 },
 "nbformat": 4,
 "nbformat_minor": 2
}
