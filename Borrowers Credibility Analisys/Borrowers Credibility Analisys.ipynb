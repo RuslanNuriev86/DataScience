{
 "cells": [
  {
   "cell_type": "markdown",
   "metadata": {},
   "source": [
    "# Borrowers Credibility Analisys\n",
    "\n",
    "Bank want to know what factors have influence on it's borrowers payability. To do this we are going to find out if family status or number of children are might be a cause of payments failures. On input we have statistical data about customers credibility. Exploration results will be used in building credit scoring model.\n"
   ]
  },
  {
   "cell_type": "markdown",
   "metadata": {},
   "source": [
    "## Data Exploration"
   ]
  },
  {
   "cell_type": "code",
   "execution_count": 1,
   "metadata": {},
   "outputs": [
    {
     "name": "stdout",
     "output_type": "stream",
     "text": [
      "Defaulting to user installation because normal site-packages is not writeable\n",
      "Collecting imblearn\n",
      "  Downloading imblearn-0.0-py2.py3-none-any.whl (1.9 kB)\n",
      "Collecting imbalanced-learn\n",
      "  Downloading imbalanced_learn-0.9.0-py3-none-any.whl (199 kB)\n",
      "\u001b[K     |████████████████████████████████| 199 kB 2.1 MB/s eta 0:00:01\n",
      "\u001b[?25hCollecting scikit-learn>=1.0.1\n",
      "  Downloading scikit_learn-1.0.2-cp37-cp37m-manylinux_2_17_x86_64.manylinux2014_x86_64.whl (24.8 MB)\n",
      "\u001b[K     |████████████████████████████████| 24.8 MB 116 kB/s  eta 0:00:01    |█████▉                          | 4.5 MB 26.9 MB/s eta 0:00:01\n",
      "\u001b[?25hRequirement already satisfied: scipy>=1.1.0 in /opt/conda/lib/python3.7/site-packages (from imbalanced-learn->imblearn) (1.4.1)\n",
      "Requirement already satisfied: numpy>=1.14.6 in /opt/conda/lib/python3.7/site-packages (from imbalanced-learn->imblearn) (1.19.5)\n",
      "Collecting threadpoolctl>=2.0.0\n",
      "  Downloading threadpoolctl-3.1.0-py3-none-any.whl (14 kB)\n",
      "Requirement already satisfied: joblib>=0.11 in /opt/conda/lib/python3.7/site-packages (from imbalanced-learn->imblearn) (1.0.1)\n",
      "Installing collected packages: threadpoolctl, scikit-learn, imbalanced-learn, imblearn\n",
      "Successfully installed imbalanced-learn-0.9.0 imblearn-0.0 scikit-learn-1.0.2 threadpoolctl-3.1.0\n"
     ]
    }
   ],
   "source": [
    "#install libraries\n",
    "!pip install imblearn"
   ]
  },
  {
   "cell_type": "code",
   "execution_count": 151,
   "metadata": {
    "scrolled": true
   },
   "outputs": [],
   "source": [
    "#libraries importing and data loading\n",
    "import pandas as pd\n",
    "from pymystem3 import Mystem\n",
    "from sklearn import metrics\n",
    "from sklearn.model_selection import train_test_split, GridSearchCV\n",
    "from sklearn.pipeline import Pipeline\n",
    "from sklearn.preprocessing import OneHotEncoder\n",
    "from sklearn.linear_model import LogisticRegression\n",
    "from sklearn.tree import DecisionTreeClassifier\n",
    "from sklearn.compose import ColumnTransformer\n",
    "from sklearn.preprocessing import StandardScaler\n",
    "from sklearn.dummy import DummyRegressor\n",
    "from sklearn.metrics import f1_score, accuracy_score, classification_report\n",
    "import matplotlib.pyplot as plt\n",
    "# from sklearn.metrics import plot_confusion_matrix\n",
    "from sklearn.metrics import confusion_matrix, roc_auc_score\n",
    "from imblearn.pipeline import Pipeline, make_pipeline\n",
    "from imblearn.over_sampling import SMOTE\n",
    "from sklearn.dummy import DummyClassifier\n",
    "import seaborn as sns\n",
    "\n",
    "\n",
    "random_state=12345"
   ]
  },
  {
   "cell_type": "code",
   "execution_count": 4,
   "metadata": {},
   "outputs": [],
   "source": [
    "data = pd.read_csv('/datasets/data.csv')"
   ]
  },
  {
   "cell_type": "code",
   "execution_count": 5,
   "metadata": {},
   "outputs": [
    {
     "name": "stdout",
     "output_type": "stream",
     "text": [
      "<class 'pandas.core.frame.DataFrame'>\n",
      "RangeIndex: 21525 entries, 0 to 21524\n",
      "Data columns (total 12 columns):\n",
      "children            21525 non-null int64\n",
      "days_employed       19351 non-null float64\n",
      "dob_years           21525 non-null int64\n",
      "education           21525 non-null object\n",
      "education_id        21525 non-null int64\n",
      "family_status       21525 non-null object\n",
      "family_status_id    21525 non-null int64\n",
      "gender              21525 non-null object\n",
      "income_type         21525 non-null object\n",
      "debt                21525 non-null int64\n",
      "total_income        19351 non-null float64\n",
      "purpose             21525 non-null object\n",
      "dtypes: float64(2), int64(5), object(5)\n",
      "memory usage: 2.0+ MB\n"
     ]
    }
   ],
   "source": [
    "data.info() "
   ]
  },
  {
   "cell_type": "code",
   "execution_count": 6,
   "metadata": {},
   "outputs": [
    {
     "data": {
      "text/html": [
       "<div>\n",
       "<style scoped>\n",
       "    .dataframe tbody tr th:only-of-type {\n",
       "        vertical-align: middle;\n",
       "    }\n",
       "\n",
       "    .dataframe tbody tr th {\n",
       "        vertical-align: top;\n",
       "    }\n",
       "\n",
       "    .dataframe thead th {\n",
       "        text-align: right;\n",
       "    }\n",
       "</style>\n",
       "<table border=\"1\" class=\"dataframe\">\n",
       "  <thead>\n",
       "    <tr style=\"text-align: right;\">\n",
       "      <th></th>\n",
       "      <th>children</th>\n",
       "      <th>days_employed</th>\n",
       "      <th>dob_years</th>\n",
       "      <th>education</th>\n",
       "      <th>education_id</th>\n",
       "      <th>family_status</th>\n",
       "      <th>family_status_id</th>\n",
       "      <th>gender</th>\n",
       "      <th>income_type</th>\n",
       "      <th>debt</th>\n",
       "      <th>total_income</th>\n",
       "      <th>purpose</th>\n",
       "    </tr>\n",
       "  </thead>\n",
       "  <tbody>\n",
       "    <tr>\n",
       "      <td>0</td>\n",
       "      <td>1</td>\n",
       "      <td>-8437.673028</td>\n",
       "      <td>42</td>\n",
       "      <td>высшее</td>\n",
       "      <td>0</td>\n",
       "      <td>женат / замужем</td>\n",
       "      <td>0</td>\n",
       "      <td>F</td>\n",
       "      <td>сотрудник</td>\n",
       "      <td>0</td>\n",
       "      <td>253875.639453</td>\n",
       "      <td>покупка жилья</td>\n",
       "    </tr>\n",
       "    <tr>\n",
       "      <td>1</td>\n",
       "      <td>1</td>\n",
       "      <td>-4024.803754</td>\n",
       "      <td>36</td>\n",
       "      <td>среднее</td>\n",
       "      <td>1</td>\n",
       "      <td>женат / замужем</td>\n",
       "      <td>0</td>\n",
       "      <td>F</td>\n",
       "      <td>сотрудник</td>\n",
       "      <td>0</td>\n",
       "      <td>112080.014102</td>\n",
       "      <td>приобретение автомобиля</td>\n",
       "    </tr>\n",
       "    <tr>\n",
       "      <td>2</td>\n",
       "      <td>0</td>\n",
       "      <td>-5623.422610</td>\n",
       "      <td>33</td>\n",
       "      <td>Среднее</td>\n",
       "      <td>1</td>\n",
       "      <td>женат / замужем</td>\n",
       "      <td>0</td>\n",
       "      <td>M</td>\n",
       "      <td>сотрудник</td>\n",
       "      <td>0</td>\n",
       "      <td>145885.952297</td>\n",
       "      <td>покупка жилья</td>\n",
       "    </tr>\n",
       "    <tr>\n",
       "      <td>3</td>\n",
       "      <td>3</td>\n",
       "      <td>-4124.747207</td>\n",
       "      <td>32</td>\n",
       "      <td>среднее</td>\n",
       "      <td>1</td>\n",
       "      <td>женат / замужем</td>\n",
       "      <td>0</td>\n",
       "      <td>M</td>\n",
       "      <td>сотрудник</td>\n",
       "      <td>0</td>\n",
       "      <td>267628.550329</td>\n",
       "      <td>дополнительное образование</td>\n",
       "    </tr>\n",
       "    <tr>\n",
       "      <td>4</td>\n",
       "      <td>0</td>\n",
       "      <td>340266.072047</td>\n",
       "      <td>53</td>\n",
       "      <td>среднее</td>\n",
       "      <td>1</td>\n",
       "      <td>гражданский брак</td>\n",
       "      <td>1</td>\n",
       "      <td>F</td>\n",
       "      <td>пенсионер</td>\n",
       "      <td>0</td>\n",
       "      <td>158616.077870</td>\n",
       "      <td>сыграть свадьбу</td>\n",
       "    </tr>\n",
       "  </tbody>\n",
       "</table>\n",
       "</div>"
      ],
      "text/plain": [
       "   children  days_employed  dob_years education  education_id  \\\n",
       "0         1   -8437.673028         42    высшее             0   \n",
       "1         1   -4024.803754         36   среднее             1   \n",
       "2         0   -5623.422610         33   Среднее             1   \n",
       "3         3   -4124.747207         32   среднее             1   \n",
       "4         0  340266.072047         53   среднее             1   \n",
       "\n",
       "      family_status  family_status_id gender income_type  debt   total_income  \\\n",
       "0   женат / замужем                 0      F   сотрудник     0  253875.639453   \n",
       "1   женат / замужем                 0      F   сотрудник     0  112080.014102   \n",
       "2   женат / замужем                 0      M   сотрудник     0  145885.952297   \n",
       "3   женат / замужем                 0      M   сотрудник     0  267628.550329   \n",
       "4  гражданский брак                 1      F   пенсионер     0  158616.077870   \n",
       "\n",
       "                      purpose  \n",
       "0               покупка жилья  \n",
       "1     приобретение автомобиля  \n",
       "2               покупка жилья  \n",
       "3  дополнительное образование  \n",
       "4             сыграть свадьбу  "
      ]
     },
     "execution_count": 6,
     "metadata": {},
     "output_type": "execute_result"
    }
   ],
   "source": [
    "data.head()"
   ]
  },
  {
   "cell_type": "code",
   "execution_count": 7,
   "metadata": {},
   "outputs": [
    {
     "data": {
      "text/html": [
       "<div>\n",
       "<style scoped>\n",
       "    .dataframe tbody tr th:only-of-type {\n",
       "        vertical-align: middle;\n",
       "    }\n",
       "\n",
       "    .dataframe tbody tr th {\n",
       "        vertical-align: top;\n",
       "    }\n",
       "\n",
       "    .dataframe thead th {\n",
       "        text-align: right;\n",
       "    }\n",
       "</style>\n",
       "<table border=\"1\" class=\"dataframe\">\n",
       "  <thead>\n",
       "    <tr style=\"text-align: right;\">\n",
       "      <th></th>\n",
       "      <th>children</th>\n",
       "      <th>days_employed</th>\n",
       "      <th>dob_years</th>\n",
       "      <th>education_id</th>\n",
       "      <th>family_status_id</th>\n",
       "      <th>debt</th>\n",
       "      <th>total_income</th>\n",
       "    </tr>\n",
       "  </thead>\n",
       "  <tbody>\n",
       "    <tr>\n",
       "      <td>count</td>\n",
       "      <td>21525.000000</td>\n",
       "      <td>19351.000000</td>\n",
       "      <td>21525.000000</td>\n",
       "      <td>21525.000000</td>\n",
       "      <td>21525.000000</td>\n",
       "      <td>21525.000000</td>\n",
       "      <td>1.935100e+04</td>\n",
       "    </tr>\n",
       "    <tr>\n",
       "      <td>mean</td>\n",
       "      <td>0.538908</td>\n",
       "      <td>63046.497661</td>\n",
       "      <td>43.293380</td>\n",
       "      <td>0.817236</td>\n",
       "      <td>0.972544</td>\n",
       "      <td>0.080883</td>\n",
       "      <td>1.674223e+05</td>\n",
       "    </tr>\n",
       "    <tr>\n",
       "      <td>std</td>\n",
       "      <td>1.381587</td>\n",
       "      <td>140827.311974</td>\n",
       "      <td>12.574584</td>\n",
       "      <td>0.548138</td>\n",
       "      <td>1.420324</td>\n",
       "      <td>0.272661</td>\n",
       "      <td>1.029716e+05</td>\n",
       "    </tr>\n",
       "    <tr>\n",
       "      <td>min</td>\n",
       "      <td>-1.000000</td>\n",
       "      <td>-18388.949901</td>\n",
       "      <td>0.000000</td>\n",
       "      <td>0.000000</td>\n",
       "      <td>0.000000</td>\n",
       "      <td>0.000000</td>\n",
       "      <td>2.066726e+04</td>\n",
       "    </tr>\n",
       "    <tr>\n",
       "      <td>25%</td>\n",
       "      <td>0.000000</td>\n",
       "      <td>-2747.423625</td>\n",
       "      <td>33.000000</td>\n",
       "      <td>1.000000</td>\n",
       "      <td>0.000000</td>\n",
       "      <td>0.000000</td>\n",
       "      <td>1.030532e+05</td>\n",
       "    </tr>\n",
       "    <tr>\n",
       "      <td>50%</td>\n",
       "      <td>0.000000</td>\n",
       "      <td>-1203.369529</td>\n",
       "      <td>42.000000</td>\n",
       "      <td>1.000000</td>\n",
       "      <td>0.000000</td>\n",
       "      <td>0.000000</td>\n",
       "      <td>1.450179e+05</td>\n",
       "    </tr>\n",
       "    <tr>\n",
       "      <td>75%</td>\n",
       "      <td>1.000000</td>\n",
       "      <td>-291.095954</td>\n",
       "      <td>53.000000</td>\n",
       "      <td>1.000000</td>\n",
       "      <td>1.000000</td>\n",
       "      <td>0.000000</td>\n",
       "      <td>2.034351e+05</td>\n",
       "    </tr>\n",
       "    <tr>\n",
       "      <td>max</td>\n",
       "      <td>20.000000</td>\n",
       "      <td>401755.400475</td>\n",
       "      <td>75.000000</td>\n",
       "      <td>4.000000</td>\n",
       "      <td>4.000000</td>\n",
       "      <td>1.000000</td>\n",
       "      <td>2.265604e+06</td>\n",
       "    </tr>\n",
       "  </tbody>\n",
       "</table>\n",
       "</div>"
      ],
      "text/plain": [
       "           children  days_employed     dob_years  education_id  \\\n",
       "count  21525.000000   19351.000000  21525.000000  21525.000000   \n",
       "mean       0.538908   63046.497661     43.293380      0.817236   \n",
       "std        1.381587  140827.311974     12.574584      0.548138   \n",
       "min       -1.000000  -18388.949901      0.000000      0.000000   \n",
       "25%        0.000000   -2747.423625     33.000000      1.000000   \n",
       "50%        0.000000   -1203.369529     42.000000      1.000000   \n",
       "75%        1.000000    -291.095954     53.000000      1.000000   \n",
       "max       20.000000  401755.400475     75.000000      4.000000   \n",
       "\n",
       "       family_status_id          debt  total_income  \n",
       "count      21525.000000  21525.000000  1.935100e+04  \n",
       "mean           0.972544      0.080883  1.674223e+05  \n",
       "std            1.420324      0.272661  1.029716e+05  \n",
       "min            0.000000      0.000000  2.066726e+04  \n",
       "25%            0.000000      0.000000  1.030532e+05  \n",
       "50%            0.000000      0.000000  1.450179e+05  \n",
       "75%            1.000000      0.000000  2.034351e+05  \n",
       "max            4.000000      1.000000  2.265604e+06  "
      ]
     },
     "execution_count": 7,
     "metadata": {},
     "output_type": "execute_result"
    }
   ],
   "source": [
    "data.describe()"
   ]
  },
  {
   "cell_type": "markdown",
   "metadata": {},
   "source": [
    "### Conclusion\n",
    "\n",
    "Missing values in days_employed, total_income columns "
   ]
  },
  {
   "cell_type": "markdown",
   "metadata": {},
   "source": [
    "## Data Preprocessing"
   ]
  },
  {
   "cell_type": "markdown",
   "metadata": {},
   "source": [
    "### Missing Values Handling"
   ]
  },
  {
   "cell_type": "code",
   "execution_count": 8,
   "metadata": {},
   "outputs": [
    {
     "name": "stdout",
     "output_type": "stream",
     "text": [
      "Number of missing values in days_employed column 2174\n",
      "Number of missing values in total_income column 2174\n"
     ]
    }
   ],
   "source": [
    "#missing values\n",
    "print('Number of missing values in days_employed column', len(data[data['days_employed'].isna()]))  \n",
    "print('Number of missing values in total_income column', len(data[data['total_income'].isna()]))  "
   ]
  },
  {
   "cell_type": "code",
   "execution_count": 9,
   "metadata": {},
   "outputs": [
    {
     "data": {
      "text/plain": [
       "сотрудник          11119\n",
       "компаньон           5085\n",
       "пенсионер           3856\n",
       "госслужащий         1459\n",
       "безработный            2\n",
       "предприниматель        2\n",
       "в декрете              1\n",
       "студент                1\n",
       "Name: income_type, dtype: int64"
      ]
     },
     "execution_count": 9,
     "metadata": {},
     "output_type": "execute_result"
    }
   ],
   "source": [
    "# number of items for each income type \n",
    "income_types = data['income_type'].value_counts() \n",
    "income_types"
   ]
  },
  {
   "cell_type": "code",
   "execution_count": 10,
   "metadata": {},
   "outputs": [
    {
     "name": "stdout",
     "output_type": "stream",
     "text": [
      "сотрудник 2210\n",
      "компаньон 1016\n",
      "пенсионер 826\n",
      "госслужащий 294\n",
      "безработный 0\n",
      "предприниматель 2\n",
      "в декрете 0\n",
      "студент 0\n"
     ]
    }
   ],
   "source": [
    "# missing values distribution\n",
    "for i in income_types.index:\n",
    "    print(i, data[data['income_type'] == i].isnull().sum().sum())"
   ]
  },
  {
   "cell_type": "code",
   "execution_count": 11,
   "metadata": {},
   "outputs": [
    {
     "name": "stdout",
     "output_type": "stream",
     "text": [
      "Number of missing values in total_income column 0\n"
     ]
    }
   ],
   "source": [
    "#fill missing values\n",
    "data['total_income'] = data['total_income'].fillna(data.groupby('income_type')['total_income'].transform('median'))\n",
    "print('Number of missing values in total_income column', len(data[data['total_income'].isna()])) "
   ]
  },
  {
   "cell_type": "code",
   "execution_count": 12,
   "metadata": {},
   "outputs": [
    {
     "data": {
      "text/plain": [
       "count     19351.000000\n",
       "mean      63046.497661\n",
       "std      140827.311974\n",
       "min      -18388.949901\n",
       "25%       -2747.423625\n",
       "50%       -1203.369529\n",
       "75%        -291.095954\n",
       "max      401755.400475\n",
       "Name: days_employed, dtype: float64"
      ]
     },
     "execution_count": 12,
     "metadata": {},
     "output_type": "execute_result"
    }
   ],
   "source": [
    "#column days_employed contains inadecuacy values, try to fix it\n",
    "data['days_employed'].describe()"
   ]
  },
  {
   "cell_type": "code",
   "execution_count": 13,
   "metadata": {},
   "outputs": [
    {
     "data": {
      "text/html": [
       "<div>\n",
       "<style scoped>\n",
       "    .dataframe tbody tr th:only-of-type {\n",
       "        vertical-align: middle;\n",
       "    }\n",
       "\n",
       "    .dataframe tbody tr th {\n",
       "        vertical-align: top;\n",
       "    }\n",
       "\n",
       "    .dataframe thead th {\n",
       "        text-align: right;\n",
       "    }\n",
       "</style>\n",
       "<table border=\"1\" class=\"dataframe\">\n",
       "  <thead>\n",
       "    <tr style=\"text-align: right;\">\n",
       "      <th></th>\n",
       "      <th>children</th>\n",
       "      <th>days_employed</th>\n",
       "      <th>dob_years</th>\n",
       "      <th>education</th>\n",
       "      <th>education_id</th>\n",
       "      <th>family_status</th>\n",
       "      <th>family_status_id</th>\n",
       "      <th>gender</th>\n",
       "      <th>income_type</th>\n",
       "      <th>debt</th>\n",
       "      <th>total_income</th>\n",
       "      <th>purpose</th>\n",
       "    </tr>\n",
       "  </thead>\n",
       "  <tbody>\n",
       "    <tr>\n",
       "      <td>0</td>\n",
       "      <td>1</td>\n",
       "      <td>-8437.673028</td>\n",
       "      <td>42</td>\n",
       "      <td>высшее</td>\n",
       "      <td>0</td>\n",
       "      <td>женат / замужем</td>\n",
       "      <td>0</td>\n",
       "      <td>F</td>\n",
       "      <td>сотрудник</td>\n",
       "      <td>0</td>\n",
       "      <td>253875.639453</td>\n",
       "      <td>покупка жилья</td>\n",
       "    </tr>\n",
       "    <tr>\n",
       "      <td>1</td>\n",
       "      <td>1</td>\n",
       "      <td>-4024.803754</td>\n",
       "      <td>36</td>\n",
       "      <td>среднее</td>\n",
       "      <td>1</td>\n",
       "      <td>женат / замужем</td>\n",
       "      <td>0</td>\n",
       "      <td>F</td>\n",
       "      <td>сотрудник</td>\n",
       "      <td>0</td>\n",
       "      <td>112080.014102</td>\n",
       "      <td>приобретение автомобиля</td>\n",
       "    </tr>\n",
       "    <tr>\n",
       "      <td>2</td>\n",
       "      <td>0</td>\n",
       "      <td>-5623.422610</td>\n",
       "      <td>33</td>\n",
       "      <td>Среднее</td>\n",
       "      <td>1</td>\n",
       "      <td>женат / замужем</td>\n",
       "      <td>0</td>\n",
       "      <td>M</td>\n",
       "      <td>сотрудник</td>\n",
       "      <td>0</td>\n",
       "      <td>145885.952297</td>\n",
       "      <td>покупка жилья</td>\n",
       "    </tr>\n",
       "    <tr>\n",
       "      <td>3</td>\n",
       "      <td>3</td>\n",
       "      <td>-4124.747207</td>\n",
       "      <td>32</td>\n",
       "      <td>среднее</td>\n",
       "      <td>1</td>\n",
       "      <td>женат / замужем</td>\n",
       "      <td>0</td>\n",
       "      <td>M</td>\n",
       "      <td>сотрудник</td>\n",
       "      <td>0</td>\n",
       "      <td>267628.550329</td>\n",
       "      <td>дополнительное образование</td>\n",
       "    </tr>\n",
       "    <tr>\n",
       "      <td>5</td>\n",
       "      <td>0</td>\n",
       "      <td>-926.185831</td>\n",
       "      <td>27</td>\n",
       "      <td>высшее</td>\n",
       "      <td>0</td>\n",
       "      <td>гражданский брак</td>\n",
       "      <td>1</td>\n",
       "      <td>M</td>\n",
       "      <td>компаньон</td>\n",
       "      <td>0</td>\n",
       "      <td>255763.565419</td>\n",
       "      <td>покупка жилья</td>\n",
       "    </tr>\n",
       "    <tr>\n",
       "      <td>...</td>\n",
       "      <td>...</td>\n",
       "      <td>...</td>\n",
       "      <td>...</td>\n",
       "      <td>...</td>\n",
       "      <td>...</td>\n",
       "      <td>...</td>\n",
       "      <td>...</td>\n",
       "      <td>...</td>\n",
       "      <td>...</td>\n",
       "      <td>...</td>\n",
       "      <td>...</td>\n",
       "      <td>...</td>\n",
       "    </tr>\n",
       "    <tr>\n",
       "      <td>21519</td>\n",
       "      <td>1</td>\n",
       "      <td>-2351.431934</td>\n",
       "      <td>37</td>\n",
       "      <td>ученая степень</td>\n",
       "      <td>4</td>\n",
       "      <td>в разводе</td>\n",
       "      <td>3</td>\n",
       "      <td>M</td>\n",
       "      <td>сотрудник</td>\n",
       "      <td>0</td>\n",
       "      <td>115949.039788</td>\n",
       "      <td>покупка коммерческой недвижимости</td>\n",
       "    </tr>\n",
       "    <tr>\n",
       "      <td>21520</td>\n",
       "      <td>1</td>\n",
       "      <td>-4529.316663</td>\n",
       "      <td>43</td>\n",
       "      <td>среднее</td>\n",
       "      <td>1</td>\n",
       "      <td>гражданский брак</td>\n",
       "      <td>1</td>\n",
       "      <td>F</td>\n",
       "      <td>компаньон</td>\n",
       "      <td>0</td>\n",
       "      <td>224791.862382</td>\n",
       "      <td>операции с жильем</td>\n",
       "    </tr>\n",
       "    <tr>\n",
       "      <td>21522</td>\n",
       "      <td>1</td>\n",
       "      <td>-2113.346888</td>\n",
       "      <td>38</td>\n",
       "      <td>среднее</td>\n",
       "      <td>1</td>\n",
       "      <td>гражданский брак</td>\n",
       "      <td>1</td>\n",
       "      <td>M</td>\n",
       "      <td>сотрудник</td>\n",
       "      <td>1</td>\n",
       "      <td>89672.561153</td>\n",
       "      <td>недвижимость</td>\n",
       "    </tr>\n",
       "    <tr>\n",
       "      <td>21523</td>\n",
       "      <td>3</td>\n",
       "      <td>-3112.481705</td>\n",
       "      <td>38</td>\n",
       "      <td>среднее</td>\n",
       "      <td>1</td>\n",
       "      <td>женат / замужем</td>\n",
       "      <td>0</td>\n",
       "      <td>M</td>\n",
       "      <td>сотрудник</td>\n",
       "      <td>1</td>\n",
       "      <td>244093.050500</td>\n",
       "      <td>на покупку своего автомобиля</td>\n",
       "    </tr>\n",
       "    <tr>\n",
       "      <td>21524</td>\n",
       "      <td>2</td>\n",
       "      <td>-1984.507589</td>\n",
       "      <td>40</td>\n",
       "      <td>среднее</td>\n",
       "      <td>1</td>\n",
       "      <td>женат / замужем</td>\n",
       "      <td>0</td>\n",
       "      <td>F</td>\n",
       "      <td>сотрудник</td>\n",
       "      <td>0</td>\n",
       "      <td>82047.418899</td>\n",
       "      <td>на покупку автомобиля</td>\n",
       "    </tr>\n",
       "  </tbody>\n",
       "</table>\n",
       "<p>15906 rows × 12 columns</p>\n",
       "</div>"
      ],
      "text/plain": [
       "       children  days_employed  dob_years       education  education_id  \\\n",
       "0             1   -8437.673028         42          высшее             0   \n",
       "1             1   -4024.803754         36         среднее             1   \n",
       "2             0   -5623.422610         33         Среднее             1   \n",
       "3             3   -4124.747207         32         среднее             1   \n",
       "5             0    -926.185831         27          высшее             0   \n",
       "...         ...            ...        ...             ...           ...   \n",
       "21519         1   -2351.431934         37  ученая степень             4   \n",
       "21520         1   -4529.316663         43         среднее             1   \n",
       "21522         1   -2113.346888         38         среднее             1   \n",
       "21523         3   -3112.481705         38         среднее             1   \n",
       "21524         2   -1984.507589         40         среднее             1   \n",
       "\n",
       "          family_status  family_status_id gender income_type  debt  \\\n",
       "0       женат / замужем                 0      F   сотрудник     0   \n",
       "1       женат / замужем                 0      F   сотрудник     0   \n",
       "2       женат / замужем                 0      M   сотрудник     0   \n",
       "3       женат / замужем                 0      M   сотрудник     0   \n",
       "5      гражданский брак                 1      M   компаньон     0   \n",
       "...                 ...               ...    ...         ...   ...   \n",
       "21519         в разводе                 3      M   сотрудник     0   \n",
       "21520  гражданский брак                 1      F   компаньон     0   \n",
       "21522  гражданский брак                 1      M   сотрудник     1   \n",
       "21523   женат / замужем                 0      M   сотрудник     1   \n",
       "21524   женат / замужем                 0      F   сотрудник     0   \n",
       "\n",
       "        total_income                            purpose  \n",
       "0      253875.639453                      покупка жилья  \n",
       "1      112080.014102            приобретение автомобиля  \n",
       "2      145885.952297                      покупка жилья  \n",
       "3      267628.550329         дополнительное образование  \n",
       "5      255763.565419                      покупка жилья  \n",
       "...              ...                                ...  \n",
       "21519  115949.039788  покупка коммерческой недвижимости  \n",
       "21520  224791.862382                  операции с жильем  \n",
       "21522   89672.561153                       недвижимость  \n",
       "21523  244093.050500       на покупку своего автомобиля  \n",
       "21524   82047.418899              на покупку автомобиля  \n",
       "\n",
       "[15906 rows x 12 columns]"
      ]
     },
     "execution_count": 13,
     "metadata": {},
     "output_type": "execute_result"
    }
   ],
   "source": [
    "data[(data['days_employed'] < 0)]"
   ]
  },
  {
   "cell_type": "code",
   "execution_count": 14,
   "metadata": {},
   "outputs": [],
   "source": [
    "data['days_employed'] = data['days_employed'].apply(lambda x: -1*x if x < 0 else x)"
   ]
  },
  {
   "cell_type": "code",
   "execution_count": 15,
   "metadata": {},
   "outputs": [],
   "source": [
    "filter_de = data[data['days_employed'] > 15000].index\n"
   ]
  },
  {
   "cell_type": "code",
   "execution_count": 16,
   "metadata": {},
   "outputs": [],
   "source": [
    "data = data.drop(filter_de)"
   ]
  },
  {
   "cell_type": "code",
   "execution_count": 17,
   "metadata": {},
   "outputs": [],
   "source": [
    "data['days_employed'] = data['days_employed'].fillna(data['days_employed'].median()) "
   ]
  },
  {
   "cell_type": "code",
   "execution_count": 18,
   "metadata": {},
   "outputs": [],
   "source": [
    "data['days_employed'] = data['days_employed'].astype('int')"
   ]
  },
  {
   "cell_type": "code",
   "execution_count": 19,
   "metadata": {},
   "outputs": [
    {
     "data": {
      "text/html": [
       "<div>\n",
       "<style scoped>\n",
       "    .dataframe tbody tr th:only-of-type {\n",
       "        vertical-align: middle;\n",
       "    }\n",
       "\n",
       "    .dataframe tbody tr th {\n",
       "        vertical-align: top;\n",
       "    }\n",
       "\n",
       "    .dataframe thead th {\n",
       "        text-align: right;\n",
       "    }\n",
       "</style>\n",
       "<table border=\"1\" class=\"dataframe\">\n",
       "  <thead>\n",
       "    <tr style=\"text-align: right;\">\n",
       "      <th></th>\n",
       "      <th>children</th>\n",
       "      <th>days_employed</th>\n",
       "      <th>dob_years</th>\n",
       "      <th>education_id</th>\n",
       "      <th>family_status_id</th>\n",
       "      <th>debt</th>\n",
       "      <th>total_income</th>\n",
       "    </tr>\n",
       "  </thead>\n",
       "  <tbody>\n",
       "    <tr>\n",
       "      <td>count</td>\n",
       "      <td>18067.000000</td>\n",
       "      <td>18067.000000</td>\n",
       "      <td>18067.000000</td>\n",
       "      <td>18067.000000</td>\n",
       "      <td>18067.000000</td>\n",
       "      <td>18067.000000</td>\n",
       "      <td>1.806700e+04</td>\n",
       "    </tr>\n",
       "    <tr>\n",
       "      <td>mean</td>\n",
       "      <td>0.617535</td>\n",
       "      <td>2255.463940</td>\n",
       "      <td>40.262301</td>\n",
       "      <td>0.798694</td>\n",
       "      <td>0.970665</td>\n",
       "      <td>0.086290</td>\n",
       "      <td>1.705929e+05</td>\n",
       "    </tr>\n",
       "    <tr>\n",
       "      <td>std</td>\n",
       "      <td>1.435872</td>\n",
       "      <td>2142.922543</td>\n",
       "      <td>10.964971</td>\n",
       "      <td>0.552003</td>\n",
       "      <td>1.439515</td>\n",
       "      <td>0.280799</td>\n",
       "      <td>1.002137e+05</td>\n",
       "    </tr>\n",
       "    <tr>\n",
       "      <td>min</td>\n",
       "      <td>-1.000000</td>\n",
       "      <td>24.000000</td>\n",
       "      <td>0.000000</td>\n",
       "      <td>0.000000</td>\n",
       "      <td>0.000000</td>\n",
       "      <td>0.000000</td>\n",
       "      <td>2.136765e+04</td>\n",
       "    </tr>\n",
       "    <tr>\n",
       "      <td>25%</td>\n",
       "      <td>0.000000</td>\n",
       "      <td>866.000000</td>\n",
       "      <td>32.000000</td>\n",
       "      <td>0.000000</td>\n",
       "      <td>0.000000</td>\n",
       "      <td>0.000000</td>\n",
       "      <td>1.135420e+05</td>\n",
       "    </tr>\n",
       "    <tr>\n",
       "      <td>50%</td>\n",
       "      <td>0.000000</td>\n",
       "      <td>1628.000000</td>\n",
       "      <td>40.000000</td>\n",
       "      <td>1.000000</td>\n",
       "      <td>0.000000</td>\n",
       "      <td>0.000000</td>\n",
       "      <td>1.458765e+05</td>\n",
       "    </tr>\n",
       "    <tr>\n",
       "      <td>75%</td>\n",
       "      <td>1.000000</td>\n",
       "      <td>2891.500000</td>\n",
       "      <td>48.000000</td>\n",
       "      <td>1.000000</td>\n",
       "      <td>1.000000</td>\n",
       "      <td>0.000000</td>\n",
       "      <td>1.998598e+05</td>\n",
       "    </tr>\n",
       "    <tr>\n",
       "      <td>max</td>\n",
       "      <td>20.000000</td>\n",
       "      <td>14920.000000</td>\n",
       "      <td>75.000000</td>\n",
       "      <td>4.000000</td>\n",
       "      <td>4.000000</td>\n",
       "      <td>1.000000</td>\n",
       "      <td>2.265604e+06</td>\n",
       "    </tr>\n",
       "  </tbody>\n",
       "</table>\n",
       "</div>"
      ],
      "text/plain": [
       "           children  days_employed     dob_years  education_id  \\\n",
       "count  18067.000000   18067.000000  18067.000000  18067.000000   \n",
       "mean       0.617535    2255.463940     40.262301      0.798694   \n",
       "std        1.435872    2142.922543     10.964971      0.552003   \n",
       "min       -1.000000      24.000000      0.000000      0.000000   \n",
       "25%        0.000000     866.000000     32.000000      0.000000   \n",
       "50%        0.000000    1628.000000     40.000000      1.000000   \n",
       "75%        1.000000    2891.500000     48.000000      1.000000   \n",
       "max       20.000000   14920.000000     75.000000      4.000000   \n",
       "\n",
       "       family_status_id          debt  total_income  \n",
       "count      18067.000000  18067.000000  1.806700e+04  \n",
       "mean           0.970665      0.086290  1.705929e+05  \n",
       "std            1.439515      0.280799  1.002137e+05  \n",
       "min            0.000000      0.000000  2.136765e+04  \n",
       "25%            0.000000      0.000000  1.135420e+05  \n",
       "50%            0.000000      0.000000  1.458765e+05  \n",
       "75%            1.000000      0.000000  1.998598e+05  \n",
       "max            4.000000      1.000000  2.265604e+06  "
      ]
     },
     "execution_count": 19,
     "metadata": {},
     "output_type": "execute_result"
    }
   ],
   "source": [
    "data.describe()"
   ]
  },
  {
   "cell_type": "code",
   "execution_count": 20,
   "metadata": {
    "scrolled": true
   },
   "outputs": [
    {
     "data": {
      "text/html": [
       "<div>\n",
       "<style scoped>\n",
       "    .dataframe tbody tr th:only-of-type {\n",
       "        vertical-align: middle;\n",
       "    }\n",
       "\n",
       "    .dataframe tbody tr th {\n",
       "        vertical-align: top;\n",
       "    }\n",
       "\n",
       "    .dataframe thead th {\n",
       "        text-align: right;\n",
       "    }\n",
       "</style>\n",
       "<table border=\"1\" class=\"dataframe\">\n",
       "  <thead>\n",
       "    <tr style=\"text-align: right;\">\n",
       "      <th></th>\n",
       "      <th>children</th>\n",
       "      <th>days_employed</th>\n",
       "      <th>dob_years</th>\n",
       "      <th>education</th>\n",
       "      <th>education_id</th>\n",
       "      <th>family_status</th>\n",
       "      <th>family_status_id</th>\n",
       "      <th>gender</th>\n",
       "      <th>income_type</th>\n",
       "      <th>debt</th>\n",
       "      <th>total_income</th>\n",
       "      <th>purpose</th>\n",
       "    </tr>\n",
       "  </thead>\n",
       "  <tbody>\n",
       "    <tr>\n",
       "      <td>0</td>\n",
       "      <td>1</td>\n",
       "      <td>8437</td>\n",
       "      <td>42</td>\n",
       "      <td>высшее</td>\n",
       "      <td>0</td>\n",
       "      <td>женат / замужем</td>\n",
       "      <td>0</td>\n",
       "      <td>F</td>\n",
       "      <td>сотрудник</td>\n",
       "      <td>0</td>\n",
       "      <td>253875.639453</td>\n",
       "      <td>покупка жилья</td>\n",
       "    </tr>\n",
       "    <tr>\n",
       "      <td>1</td>\n",
       "      <td>1</td>\n",
       "      <td>4024</td>\n",
       "      <td>36</td>\n",
       "      <td>среднее</td>\n",
       "      <td>1</td>\n",
       "      <td>женат / замужем</td>\n",
       "      <td>0</td>\n",
       "      <td>F</td>\n",
       "      <td>сотрудник</td>\n",
       "      <td>0</td>\n",
       "      <td>112080.014102</td>\n",
       "      <td>приобретение автомобиля</td>\n",
       "    </tr>\n",
       "    <tr>\n",
       "      <td>2</td>\n",
       "      <td>0</td>\n",
       "      <td>5623</td>\n",
       "      <td>33</td>\n",
       "      <td>Среднее</td>\n",
       "      <td>1</td>\n",
       "      <td>женат / замужем</td>\n",
       "      <td>0</td>\n",
       "      <td>M</td>\n",
       "      <td>сотрудник</td>\n",
       "      <td>0</td>\n",
       "      <td>145885.952297</td>\n",
       "      <td>покупка жилья</td>\n",
       "    </tr>\n",
       "    <tr>\n",
       "      <td>3</td>\n",
       "      <td>3</td>\n",
       "      <td>4124</td>\n",
       "      <td>32</td>\n",
       "      <td>среднее</td>\n",
       "      <td>1</td>\n",
       "      <td>женат / замужем</td>\n",
       "      <td>0</td>\n",
       "      <td>M</td>\n",
       "      <td>сотрудник</td>\n",
       "      <td>0</td>\n",
       "      <td>267628.550329</td>\n",
       "      <td>дополнительное образование</td>\n",
       "    </tr>\n",
       "    <tr>\n",
       "      <td>5</td>\n",
       "      <td>0</td>\n",
       "      <td>926</td>\n",
       "      <td>27</td>\n",
       "      <td>высшее</td>\n",
       "      <td>0</td>\n",
       "      <td>гражданский брак</td>\n",
       "      <td>1</td>\n",
       "      <td>M</td>\n",
       "      <td>компаньон</td>\n",
       "      <td>0</td>\n",
       "      <td>255763.565419</td>\n",
       "      <td>покупка жилья</td>\n",
       "    </tr>\n",
       "  </tbody>\n",
       "</table>\n",
       "</div>"
      ],
      "text/plain": [
       "   children  days_employed  dob_years education  education_id  \\\n",
       "0         1           8437         42    высшее             0   \n",
       "1         1           4024         36   среднее             1   \n",
       "2         0           5623         33   Среднее             1   \n",
       "3         3           4124         32   среднее             1   \n",
       "5         0            926         27    высшее             0   \n",
       "\n",
       "      family_status  family_status_id gender income_type  debt   total_income  \\\n",
       "0   женат / замужем                 0      F   сотрудник     0  253875.639453   \n",
       "1   женат / замужем                 0      F   сотрудник     0  112080.014102   \n",
       "2   женат / замужем                 0      M   сотрудник     0  145885.952297   \n",
       "3   женат / замужем                 0      M   сотрудник     0  267628.550329   \n",
       "5  гражданский брак                 1      M   компаньон     0  255763.565419   \n",
       "\n",
       "                      purpose  \n",
       "0               покупка жилья  \n",
       "1     приобретение автомобиля  \n",
       "2               покупка жилья  \n",
       "3  дополнительное образование  \n",
       "5               покупка жилья  "
      ]
     },
     "execution_count": 20,
     "metadata": {},
     "output_type": "execute_result"
    }
   ],
   "source": [
    "data.head()"
   ]
  },
  {
   "cell_type": "markdown",
   "metadata": {},
   "source": [
    "### Conclusion"
   ]
  },
  {
   "cell_type": "markdown",
   "metadata": {},
   "source": [
    "Amount of missing values in days_employed and total_income is equal. And they palce in the same rows. Therefore, sources of they appearence are common. Number of NaN's for each of incom_type value are almost the same - about 10%. So missing values have filled with median values grouped by incom_type. We picked median to avoid influence of outliers."
   ]
  },
  {
   "cell_type": "markdown",
   "metadata": {},
   "source": [
    "### Data Type Converting"
   ]
  },
  {
   "cell_type": "code",
   "execution_count": 21,
   "metadata": {},
   "outputs": [
    {
     "name": "stdout",
     "output_type": "stream",
     "text": [
      "<class 'pandas.core.frame.DataFrame'>\n",
      "Int64Index: 18067 entries, 0 to 21524\n",
      "Data columns (total 12 columns):\n",
      "children            18067 non-null int64\n",
      "days_employed       18067 non-null int64\n",
      "dob_years           18067 non-null int64\n",
      "education           18067 non-null object\n",
      "education_id        18067 non-null int64\n",
      "family_status       18067 non-null object\n",
      "family_status_id    18067 non-null int64\n",
      "gender              18067 non-null object\n",
      "income_type         18067 non-null object\n",
      "debt                18067 non-null int64\n",
      "total_income        18067 non-null int64\n",
      "purpose             18067 non-null object\n",
      "dtypes: int64(7), object(5)\n",
      "memory usage: 1.8+ MB\n"
     ]
    }
   ],
   "source": [
    "# convert to integer to make it more suitable\n",
    "data['total_income'] = data['total_income'].astype(int)\n",
    "data.info() "
   ]
  },
  {
   "cell_type": "markdown",
   "metadata": {},
   "source": [
    "### Duplicates Handling"
   ]
  },
  {
   "cell_type": "code",
   "execution_count": 22,
   "metadata": {},
   "outputs": [
    {
     "data": {
      "text/html": [
       "<div>\n",
       "<style scoped>\n",
       "    .dataframe tbody tr th:only-of-type {\n",
       "        vertical-align: middle;\n",
       "    }\n",
       "\n",
       "    .dataframe tbody tr th {\n",
       "        vertical-align: top;\n",
       "    }\n",
       "\n",
       "    .dataframe thead th {\n",
       "        text-align: right;\n",
       "    }\n",
       "</style>\n",
       "<table border=\"1\" class=\"dataframe\">\n",
       "  <thead>\n",
       "    <tr style=\"text-align: right;\">\n",
       "      <th></th>\n",
       "      <th>children</th>\n",
       "      <th>days_employed</th>\n",
       "      <th>dob_years</th>\n",
       "      <th>education</th>\n",
       "      <th>education_id</th>\n",
       "      <th>family_status</th>\n",
       "      <th>family_status_id</th>\n",
       "      <th>gender</th>\n",
       "      <th>income_type</th>\n",
       "      <th>debt</th>\n",
       "      <th>total_income</th>\n",
       "      <th>purpose</th>\n",
       "    </tr>\n",
       "  </thead>\n",
       "  <tbody>\n",
       "    <tr>\n",
       "      <td>0</td>\n",
       "      <td>1</td>\n",
       "      <td>8437</td>\n",
       "      <td>42</td>\n",
       "      <td>высшее</td>\n",
       "      <td>0</td>\n",
       "      <td>женат / замужем</td>\n",
       "      <td>0</td>\n",
       "      <td>F</td>\n",
       "      <td>сотрудник</td>\n",
       "      <td>0</td>\n",
       "      <td>253875</td>\n",
       "      <td>покупка жилья</td>\n",
       "    </tr>\n",
       "    <tr>\n",
       "      <td>1</td>\n",
       "      <td>1</td>\n",
       "      <td>4024</td>\n",
       "      <td>36</td>\n",
       "      <td>среднее</td>\n",
       "      <td>1</td>\n",
       "      <td>женат / замужем</td>\n",
       "      <td>0</td>\n",
       "      <td>F</td>\n",
       "      <td>сотрудник</td>\n",
       "      <td>0</td>\n",
       "      <td>112080</td>\n",
       "      <td>приобретение автомобиля</td>\n",
       "    </tr>\n",
       "    <tr>\n",
       "      <td>2</td>\n",
       "      <td>0</td>\n",
       "      <td>5623</td>\n",
       "      <td>33</td>\n",
       "      <td>среднее</td>\n",
       "      <td>1</td>\n",
       "      <td>женат / замужем</td>\n",
       "      <td>0</td>\n",
       "      <td>M</td>\n",
       "      <td>сотрудник</td>\n",
       "      <td>0</td>\n",
       "      <td>145885</td>\n",
       "      <td>покупка жилья</td>\n",
       "    </tr>\n",
       "    <tr>\n",
       "      <td>3</td>\n",
       "      <td>3</td>\n",
       "      <td>4124</td>\n",
       "      <td>32</td>\n",
       "      <td>среднее</td>\n",
       "      <td>1</td>\n",
       "      <td>женат / замужем</td>\n",
       "      <td>0</td>\n",
       "      <td>M</td>\n",
       "      <td>сотрудник</td>\n",
       "      <td>0</td>\n",
       "      <td>267628</td>\n",
       "      <td>дополнительное образование</td>\n",
       "    </tr>\n",
       "    <tr>\n",
       "      <td>5</td>\n",
       "      <td>0</td>\n",
       "      <td>926</td>\n",
       "      <td>27</td>\n",
       "      <td>высшее</td>\n",
       "      <td>0</td>\n",
       "      <td>гражданский брак</td>\n",
       "      <td>1</td>\n",
       "      <td>M</td>\n",
       "      <td>компаньон</td>\n",
       "      <td>0</td>\n",
       "      <td>255763</td>\n",
       "      <td>покупка жилья</td>\n",
       "    </tr>\n",
       "    <tr>\n",
       "      <td>...</td>\n",
       "      <td>...</td>\n",
       "      <td>...</td>\n",
       "      <td>...</td>\n",
       "      <td>...</td>\n",
       "      <td>...</td>\n",
       "      <td>...</td>\n",
       "      <td>...</td>\n",
       "      <td>...</td>\n",
       "      <td>...</td>\n",
       "      <td>...</td>\n",
       "      <td>...</td>\n",
       "      <td>...</td>\n",
       "    </tr>\n",
       "    <tr>\n",
       "      <td>21519</td>\n",
       "      <td>1</td>\n",
       "      <td>2351</td>\n",
       "      <td>37</td>\n",
       "      <td>ученая степень</td>\n",
       "      <td>4</td>\n",
       "      <td>в разводе</td>\n",
       "      <td>3</td>\n",
       "      <td>M</td>\n",
       "      <td>сотрудник</td>\n",
       "      <td>0</td>\n",
       "      <td>115949</td>\n",
       "      <td>покупка коммерческой недвижимости</td>\n",
       "    </tr>\n",
       "    <tr>\n",
       "      <td>21520</td>\n",
       "      <td>1</td>\n",
       "      <td>4529</td>\n",
       "      <td>43</td>\n",
       "      <td>среднее</td>\n",
       "      <td>1</td>\n",
       "      <td>гражданский брак</td>\n",
       "      <td>1</td>\n",
       "      <td>F</td>\n",
       "      <td>компаньон</td>\n",
       "      <td>0</td>\n",
       "      <td>224791</td>\n",
       "      <td>операции с жильем</td>\n",
       "    </tr>\n",
       "    <tr>\n",
       "      <td>21522</td>\n",
       "      <td>1</td>\n",
       "      <td>2113</td>\n",
       "      <td>38</td>\n",
       "      <td>среднее</td>\n",
       "      <td>1</td>\n",
       "      <td>гражданский брак</td>\n",
       "      <td>1</td>\n",
       "      <td>M</td>\n",
       "      <td>сотрудник</td>\n",
       "      <td>1</td>\n",
       "      <td>89672</td>\n",
       "      <td>недвижимость</td>\n",
       "    </tr>\n",
       "    <tr>\n",
       "      <td>21523</td>\n",
       "      <td>3</td>\n",
       "      <td>3112</td>\n",
       "      <td>38</td>\n",
       "      <td>среднее</td>\n",
       "      <td>1</td>\n",
       "      <td>женат / замужем</td>\n",
       "      <td>0</td>\n",
       "      <td>M</td>\n",
       "      <td>сотрудник</td>\n",
       "      <td>1</td>\n",
       "      <td>244093</td>\n",
       "      <td>на покупку своего автомобиля</td>\n",
       "    </tr>\n",
       "    <tr>\n",
       "      <td>21524</td>\n",
       "      <td>2</td>\n",
       "      <td>1984</td>\n",
       "      <td>40</td>\n",
       "      <td>среднее</td>\n",
       "      <td>1</td>\n",
       "      <td>женат / замужем</td>\n",
       "      <td>0</td>\n",
       "      <td>F</td>\n",
       "      <td>сотрудник</td>\n",
       "      <td>0</td>\n",
       "      <td>82047</td>\n",
       "      <td>на покупку автомобиля</td>\n",
       "    </tr>\n",
       "  </tbody>\n",
       "</table>\n",
       "<p>17996 rows × 12 columns</p>\n",
       "</div>"
      ],
      "text/plain": [
       "       children  days_employed  dob_years       education  education_id  \\\n",
       "0             1           8437         42          высшее             0   \n",
       "1             1           4024         36         среднее             1   \n",
       "2             0           5623         33         среднее             1   \n",
       "3             3           4124         32         среднее             1   \n",
       "5             0            926         27          высшее             0   \n",
       "...         ...            ...        ...             ...           ...   \n",
       "21519         1           2351         37  ученая степень             4   \n",
       "21520         1           4529         43         среднее             1   \n",
       "21522         1           2113         38         среднее             1   \n",
       "21523         3           3112         38         среднее             1   \n",
       "21524         2           1984         40         среднее             1   \n",
       "\n",
       "          family_status  family_status_id gender income_type  debt  \\\n",
       "0       женат / замужем                 0      F   сотрудник     0   \n",
       "1       женат / замужем                 0      F   сотрудник     0   \n",
       "2       женат / замужем                 0      M   сотрудник     0   \n",
       "3       женат / замужем                 0      M   сотрудник     0   \n",
       "5      гражданский брак                 1      M   компаньон     0   \n",
       "...                 ...               ...    ...         ...   ...   \n",
       "21519         в разводе                 3      M   сотрудник     0   \n",
       "21520  гражданский брак                 1      F   компаньон     0   \n",
       "21522  гражданский брак                 1      M   сотрудник     1   \n",
       "21523   женат / замужем                 0      M   сотрудник     1   \n",
       "21524   женат / замужем                 0      F   сотрудник     0   \n",
       "\n",
       "       total_income                            purpose  \n",
       "0            253875                      покупка жилья  \n",
       "1            112080            приобретение автомобиля  \n",
       "2            145885                      покупка жилья  \n",
       "3            267628         дополнительное образование  \n",
       "5            255763                      покупка жилья  \n",
       "...             ...                                ...  \n",
       "21519        115949  покупка коммерческой недвижимости  \n",
       "21520        224791                  операции с жильем  \n",
       "21522         89672                       недвижимость  \n",
       "21523        244093       на покупку своего автомобиля  \n",
       "21524         82047              на покупку автомобиля  \n",
       "\n",
       "[17996 rows x 12 columns]"
      ]
     },
     "execution_count": 22,
     "metadata": {},
     "output_type": "execute_result"
    }
   ],
   "source": [
    "#convert to lower case and drop duplicates\n",
    "data['education'] = data['education'].str.lower() # понизим регистр в столбце education для исключчения дубликатов\n",
    "data.drop_duplicates() # уберем все явные дубликаты, если они есть"
   ]
  },
  {
   "cell_type": "code",
   "execution_count": 23,
   "metadata": {},
   "outputs": [
    {
     "data": {
      "text/plain": [
       " 0     10983\n",
       " 1      4564\n",
       " 2      2038\n",
       " 3       324\n",
       " 20       69\n",
       "-1        40\n",
       " 4        40\n",
       " 5         9\n",
       "Name: children, dtype: int64"
      ]
     },
     "execution_count": 23,
     "metadata": {},
     "output_type": "execute_result"
    }
   ],
   "source": [
    "data['children'].value_counts()"
   ]
  },
  {
   "cell_type": "code",
   "execution_count": 24,
   "metadata": {},
   "outputs": [],
   "source": [
    "#fix inadecuacy values\n",
    "data['children'] = data['children'].replace(-1, 1) \n",
    "data.drop(data[data['children'] == 20].index, inplace=True)  "
   ]
  },
  {
   "cell_type": "code",
   "execution_count": 25,
   "metadata": {},
   "outputs": [
    {
     "data": {
      "text/plain": [
       "0"
      ]
     },
     "execution_count": 25,
     "metadata": {},
     "output_type": "execute_result"
    }
   ],
   "source": [
    "data['dob_years'].min()"
   ]
  },
  {
   "cell_type": "code",
   "execution_count": 26,
   "metadata": {},
   "outputs": [],
   "source": [
    "data.drop(data[data['dob_years'] < 18].index, inplace=True) #удалим всех \"несовершеннолетних\" заемщиков"
   ]
  },
  {
   "cell_type": "code",
   "execution_count": 27,
   "metadata": {},
   "outputs": [
    {
     "data": {
      "text/plain": [
       "F      11321\n",
       "M       6593\n",
       "XNA        1\n",
       "Name: gender, dtype: int64"
      ]
     },
     "execution_count": 27,
     "metadata": {},
     "output_type": "execute_result"
    }
   ],
   "source": [
    "#incorrect values XNA\n",
    "data['gender'].value_counts() "
   ]
  },
  {
   "cell_type": "code",
   "execution_count": 28,
   "metadata": {},
   "outputs": [
    {
     "data": {
      "text/plain": [
       "свадьба                                   669\n",
       "на проведение свадьбы                     643\n",
       "сыграть свадьбу                           637\n",
       "операции с недвижимостью                  559\n",
       "покупка коммерческой недвижимости         554\n",
       "покупка жилья для сдачи                   548\n",
       "операции с жильем                         548\n",
       "операции с коммерческой недвижимостью     538\n",
       "недвижимость                              538\n",
       "покупка своего жилья                      538\n",
       "жилье                                     536\n",
       "покупка жилья для семьи                   532\n",
       "операции со своей недвижимостью           532\n",
       "строительство собственной недвижимости    528\n",
       "покупка жилья                             527\n",
       "строительство недвижимости                523\n",
       "покупка недвижимости                      518\n",
       "ремонт жилью                              517\n",
       "покупка жилой недвижимости                515\n",
       "строительство жилой недвижимости          510\n",
       "на покупку своего автомобиля              432\n",
       "заняться высшим образованием              417\n",
       "сделка с подержанным автомобилем          405\n",
       "свой автомобиль                           401\n",
       "автомобиль                                400\n",
       "автомобили                                395\n",
       "на покупку подержанного автомобиля        389\n",
       "на покупку автомобиля                     382\n",
       "приобретение автомобиля                   382\n",
       "сделка с автомобилем                      380\n",
       "дополнительное образование                375\n",
       "высшее образование                        375\n",
       "образование                               370\n",
       "получение образования                     366\n",
       "получение дополнительного образования     365\n",
       "профильное образование                    363\n",
       "получение высшего образования             356\n",
       "заняться образованием                     352\n",
       "Name: purpose, dtype: int64"
      ]
     },
     "execution_count": 28,
     "metadata": {},
     "output_type": "execute_result"
    }
   ],
   "source": [
    "#check synonyms\n",
    "data['purpose'].value_counts() "
   ]
  },
  {
   "cell_type": "markdown",
   "metadata": {},
   "source": [
    "### Conclusion"
   ]
  },
  {
   "cell_type": "raw",
   "metadata": {},
   "source": [
    "Purpose column contains similar values. Run lemmatization to analyze them correctly."
   ]
  },
  {
   "cell_type": "markdown",
   "metadata": {},
   "source": [
    "### Lemmatization"
   ]
  },
  {
   "cell_type": "code",
   "execution_count": 29,
   "metadata": {
    "scrolled": true
   },
   "outputs": [],
   "source": [
    "#перегруппируем все цели получения кредита на категории связанные со свадьбой, автомобилем, образованием, жильем и другой недвижимостью \n",
    "m = Mystem()\n",
    "\n",
    "def lemm_func(row):\n",
    "    word = m.lemmatize(row['purpose'])\n",
    "    if 'свадьба' in word:\n",
    "        return 'свадьба'\n",
    "    elif 'автомобиль' in word:\n",
    "        return 'автомобиль'\n",
    "    elif 'образование' in word:\n",
    "        return 'образование'\n",
    "    elif 'жилье' in word:\n",
    "        return 'жилье'\n",
    "    else:\n",
    "        return 'недвижимость'\n",
    "        \n",
    "data['lemm_purpose'] = data.apply(lemm_func,axis=1)"
   ]
  },
  {
   "cell_type": "code",
   "execution_count": 30,
   "metadata": {},
   "outputs": [
    {
     "data": {
      "text/html": [
       "<div>\n",
       "<style scoped>\n",
       "    .dataframe tbody tr th:only-of-type {\n",
       "        vertical-align: middle;\n",
       "    }\n",
       "\n",
       "    .dataframe tbody tr th {\n",
       "        vertical-align: top;\n",
       "    }\n",
       "\n",
       "    .dataframe thead th {\n",
       "        text-align: right;\n",
       "    }\n",
       "</style>\n",
       "<table border=\"1\" class=\"dataframe\">\n",
       "  <thead>\n",
       "    <tr style=\"text-align: right;\">\n",
       "      <th></th>\n",
       "      <th>children</th>\n",
       "      <th>days_employed</th>\n",
       "      <th>dob_years</th>\n",
       "      <th>education</th>\n",
       "      <th>education_id</th>\n",
       "      <th>family_status</th>\n",
       "      <th>family_status_id</th>\n",
       "      <th>gender</th>\n",
       "      <th>income_type</th>\n",
       "      <th>debt</th>\n",
       "      <th>total_income</th>\n",
       "      <th>purpose</th>\n",
       "      <th>lemm_purpose</th>\n",
       "    </tr>\n",
       "  </thead>\n",
       "  <tbody>\n",
       "    <tr>\n",
       "      <td>0</td>\n",
       "      <td>1</td>\n",
       "      <td>8437</td>\n",
       "      <td>42</td>\n",
       "      <td>высшее</td>\n",
       "      <td>0</td>\n",
       "      <td>женат / замужем</td>\n",
       "      <td>0</td>\n",
       "      <td>F</td>\n",
       "      <td>сотрудник</td>\n",
       "      <td>0</td>\n",
       "      <td>253875</td>\n",
       "      <td>покупка жилья</td>\n",
       "      <td>жилье</td>\n",
       "    </tr>\n",
       "    <tr>\n",
       "      <td>1</td>\n",
       "      <td>1</td>\n",
       "      <td>4024</td>\n",
       "      <td>36</td>\n",
       "      <td>среднее</td>\n",
       "      <td>1</td>\n",
       "      <td>женат / замужем</td>\n",
       "      <td>0</td>\n",
       "      <td>F</td>\n",
       "      <td>сотрудник</td>\n",
       "      <td>0</td>\n",
       "      <td>112080</td>\n",
       "      <td>приобретение автомобиля</td>\n",
       "      <td>автомобиль</td>\n",
       "    </tr>\n",
       "    <tr>\n",
       "      <td>2</td>\n",
       "      <td>0</td>\n",
       "      <td>5623</td>\n",
       "      <td>33</td>\n",
       "      <td>среднее</td>\n",
       "      <td>1</td>\n",
       "      <td>женат / замужем</td>\n",
       "      <td>0</td>\n",
       "      <td>M</td>\n",
       "      <td>сотрудник</td>\n",
       "      <td>0</td>\n",
       "      <td>145885</td>\n",
       "      <td>покупка жилья</td>\n",
       "      <td>жилье</td>\n",
       "    </tr>\n",
       "    <tr>\n",
       "      <td>3</td>\n",
       "      <td>3</td>\n",
       "      <td>4124</td>\n",
       "      <td>32</td>\n",
       "      <td>среднее</td>\n",
       "      <td>1</td>\n",
       "      <td>женат / замужем</td>\n",
       "      <td>0</td>\n",
       "      <td>M</td>\n",
       "      <td>сотрудник</td>\n",
       "      <td>0</td>\n",
       "      <td>267628</td>\n",
       "      <td>дополнительное образование</td>\n",
       "      <td>образование</td>\n",
       "    </tr>\n",
       "    <tr>\n",
       "      <td>5</td>\n",
       "      <td>0</td>\n",
       "      <td>926</td>\n",
       "      <td>27</td>\n",
       "      <td>высшее</td>\n",
       "      <td>0</td>\n",
       "      <td>гражданский брак</td>\n",
       "      <td>1</td>\n",
       "      <td>M</td>\n",
       "      <td>компаньон</td>\n",
       "      <td>0</td>\n",
       "      <td>255763</td>\n",
       "      <td>покупка жилья</td>\n",
       "      <td>жилье</td>\n",
       "    </tr>\n",
       "  </tbody>\n",
       "</table>\n",
       "</div>"
      ],
      "text/plain": [
       "   children  days_employed  dob_years education  education_id  \\\n",
       "0         1           8437         42    высшее             0   \n",
       "1         1           4024         36   среднее             1   \n",
       "2         0           5623         33   среднее             1   \n",
       "3         3           4124         32   среднее             1   \n",
       "5         0            926         27    высшее             0   \n",
       "\n",
       "      family_status  family_status_id gender income_type  debt  total_income  \\\n",
       "0   женат / замужем                 0      F   сотрудник     0        253875   \n",
       "1   женат / замужем                 0      F   сотрудник     0        112080   \n",
       "2   женат / замужем                 0      M   сотрудник     0        145885   \n",
       "3   женат / замужем                 0      M   сотрудник     0        267628   \n",
       "5  гражданский брак                 1      M   компаньон     0        255763   \n",
       "\n",
       "                      purpose lemm_purpose  \n",
       "0               покупка жилья        жилье  \n",
       "1     приобретение автомобиля   автомобиль  \n",
       "2               покупка жилья        жилье  \n",
       "3  дополнительное образование  образование  \n",
       "5               покупка жилья        жилье  "
      ]
     },
     "execution_count": 30,
     "metadata": {},
     "output_type": "execute_result"
    }
   ],
   "source": [
    "# check output\n",
    "data['lemm_purpose'].value_counts()\n",
    "data.head()"
   ]
  },
  {
   "cell_type": "markdown",
   "metadata": {},
   "source": [
    "### Conclusion"
   ]
  },
  {
   "cell_type": "markdown",
   "metadata": {},
   "source": [
    "Handled similar values via lemmatization"
   ]
  },
  {
   "cell_type": "markdown",
   "metadata": {},
   "source": [
    "### Data Categorization"
   ]
  },
  {
   "cell_type": "code",
   "execution_count": 31,
   "metadata": {},
   "outputs": [],
   "source": [
    "#function to determine if borrower has children or not\n",
    "def has_children(row): \n",
    "    children = row['children']\n",
    "    try:\n",
    "        return int(children / children)\n",
    "    except:\n",
    "        return int(0)\n",
    "\n",
    "data['has_children'] = data.apply(has_children, axis=1)"
   ]
  },
  {
   "cell_type": "code",
   "execution_count": 32,
   "metadata": {},
   "outputs": [
    {
     "data": {
      "text/html": [
       "<div>\n",
       "<style scoped>\n",
       "    .dataframe tbody tr th:only-of-type {\n",
       "        vertical-align: middle;\n",
       "    }\n",
       "\n",
       "    .dataframe tbody tr th {\n",
       "        vertical-align: top;\n",
       "    }\n",
       "\n",
       "    .dataframe thead th {\n",
       "        text-align: right;\n",
       "    }\n",
       "</style>\n",
       "<table border=\"1\" class=\"dataframe\">\n",
       "  <thead>\n",
       "    <tr style=\"text-align: right;\">\n",
       "      <th></th>\n",
       "      <th>children</th>\n",
       "      <th>days_employed</th>\n",
       "      <th>dob_years</th>\n",
       "      <th>education</th>\n",
       "      <th>education_id</th>\n",
       "      <th>family_status</th>\n",
       "      <th>family_status_id</th>\n",
       "      <th>gender</th>\n",
       "      <th>income_type</th>\n",
       "      <th>debt</th>\n",
       "      <th>total_income</th>\n",
       "      <th>purpose</th>\n",
       "      <th>lemm_purpose</th>\n",
       "      <th>has_children</th>\n",
       "      <th>cat_total_income</th>\n",
       "    </tr>\n",
       "  </thead>\n",
       "  <tbody>\n",
       "    <tr>\n",
       "      <td>0</td>\n",
       "      <td>1</td>\n",
       "      <td>8437</td>\n",
       "      <td>42</td>\n",
       "      <td>высшее</td>\n",
       "      <td>0</td>\n",
       "      <td>женат / замужем</td>\n",
       "      <td>0</td>\n",
       "      <td>F</td>\n",
       "      <td>сотрудник</td>\n",
       "      <td>0</td>\n",
       "      <td>253875</td>\n",
       "      <td>покупка жилья</td>\n",
       "      <td>жилье</td>\n",
       "      <td>1</td>\n",
       "      <td>high</td>\n",
       "    </tr>\n",
       "    <tr>\n",
       "      <td>1</td>\n",
       "      <td>1</td>\n",
       "      <td>4024</td>\n",
       "      <td>36</td>\n",
       "      <td>среднее</td>\n",
       "      <td>1</td>\n",
       "      <td>женат / замужем</td>\n",
       "      <td>0</td>\n",
       "      <td>F</td>\n",
       "      <td>сотрудник</td>\n",
       "      <td>0</td>\n",
       "      <td>112080</td>\n",
       "      <td>приобретение автомобиля</td>\n",
       "      <td>автомобиль</td>\n",
       "      <td>1</td>\n",
       "      <td>low</td>\n",
       "    </tr>\n",
       "    <tr>\n",
       "      <td>2</td>\n",
       "      <td>0</td>\n",
       "      <td>5623</td>\n",
       "      <td>33</td>\n",
       "      <td>среднее</td>\n",
       "      <td>1</td>\n",
       "      <td>женат / замужем</td>\n",
       "      <td>0</td>\n",
       "      <td>M</td>\n",
       "      <td>сотрудник</td>\n",
       "      <td>0</td>\n",
       "      <td>145885</td>\n",
       "      <td>покупка жилья</td>\n",
       "      <td>жилье</td>\n",
       "      <td>0</td>\n",
       "      <td>middle</td>\n",
       "    </tr>\n",
       "    <tr>\n",
       "      <td>3</td>\n",
       "      <td>3</td>\n",
       "      <td>4124</td>\n",
       "      <td>32</td>\n",
       "      <td>среднее</td>\n",
       "      <td>1</td>\n",
       "      <td>женат / замужем</td>\n",
       "      <td>0</td>\n",
       "      <td>M</td>\n",
       "      <td>сотрудник</td>\n",
       "      <td>0</td>\n",
       "      <td>267628</td>\n",
       "      <td>дополнительное образование</td>\n",
       "      <td>образование</td>\n",
       "      <td>1</td>\n",
       "      <td>high</td>\n",
       "    </tr>\n",
       "    <tr>\n",
       "      <td>5</td>\n",
       "      <td>0</td>\n",
       "      <td>926</td>\n",
       "      <td>27</td>\n",
       "      <td>высшее</td>\n",
       "      <td>0</td>\n",
       "      <td>гражданский брак</td>\n",
       "      <td>1</td>\n",
       "      <td>M</td>\n",
       "      <td>компаньон</td>\n",
       "      <td>0</td>\n",
       "      <td>255763</td>\n",
       "      <td>покупка жилья</td>\n",
       "      <td>жилье</td>\n",
       "      <td>0</td>\n",
       "      <td>high</td>\n",
       "    </tr>\n",
       "  </tbody>\n",
       "</table>\n",
       "</div>"
      ],
      "text/plain": [
       "   children  days_employed  dob_years education  education_id  \\\n",
       "0         1           8437         42    высшее             0   \n",
       "1         1           4024         36   среднее             1   \n",
       "2         0           5623         33   среднее             1   \n",
       "3         3           4124         32   среднее             1   \n",
       "5         0            926         27    высшее             0   \n",
       "\n",
       "      family_status  family_status_id gender income_type  debt  total_income  \\\n",
       "0   женат / замужем                 0      F   сотрудник     0        253875   \n",
       "1   женат / замужем                 0      F   сотрудник     0        112080   \n",
       "2   женат / замужем                 0      M   сотрудник     0        145885   \n",
       "3   женат / замужем                 0      M   сотрудник     0        267628   \n",
       "5  гражданский брак                 1      M   компаньон     0        255763   \n",
       "\n",
       "                      purpose lemm_purpose  has_children cat_total_income  \n",
       "0               покупка жилья        жилье             1             high  \n",
       "1     приобретение автомобиля   автомобиль             1              low  \n",
       "2               покупка жилья        жилье             0           middle  \n",
       "3  дополнительное образование  образование             1             high  \n",
       "5               покупка жилья        жилье             0             high  "
      ]
     },
     "execution_count": 32,
     "metadata": {},
     "output_type": "execute_result"
    }
   ],
   "source": [
    "#total income categorization (low, middle, high) \n",
    "def categ_func(row):\n",
    "    tot_income = row['total_income']\n",
    "    if tot_income <= data['total_income'].quantile(0.3):\n",
    "        return 'low'\n",
    "    elif data['total_income'].quantile(0.3) < tot_income <= data['total_income'].quantile(0.6):\n",
    "        return 'middle'\n",
    "    else:\n",
    "        return 'high'\n",
    "    \n",
    "data['cat_total_income'] = data.apply(categ_func,axis=1)\n",
    "\n",
    "data.head()"
   ]
  },
  {
   "cell_type": "markdown",
   "metadata": {},
   "source": [
    "### Conclusion"
   ]
  },
  {
   "cell_type": "markdown",
   "metadata": {},
   "source": [
    "Categorized having children and total income columns"
   ]
  },
  {
   "cell_type": "markdown",
   "metadata": {},
   "source": [
    "## Question Answering"
   ]
  },
  {
   "cell_type": "markdown",
   "metadata": {},
   "source": [
    "**Question:**"
   ]
  },
  {
   "cell_type": "markdown",
   "metadata": {},
   "source": [
    "- Does having children have an influence on debt?"
   ]
  },
  {
   "cell_type": "code",
   "execution_count": 33,
   "metadata": {},
   "outputs": [
    {
     "data": {
      "text/html": [
       "<div>\n",
       "<style scoped>\n",
       "    .dataframe tbody tr th:only-of-type {\n",
       "        vertical-align: middle;\n",
       "    }\n",
       "\n",
       "    .dataframe tbody tr th {\n",
       "        vertical-align: top;\n",
       "    }\n",
       "\n",
       "    .dataframe thead th {\n",
       "        text-align: right;\n",
       "    }\n",
       "</style>\n",
       "<table border=\"1\" class=\"dataframe\">\n",
       "  <thead>\n",
       "    <tr style=\"text-align: right;\">\n",
       "      <th></th>\n",
       "      <th>debt</th>\n",
       "    </tr>\n",
       "    <tr>\n",
       "      <th>has_children</th>\n",
       "      <th></th>\n",
       "    </tr>\n",
       "  </thead>\n",
       "  <tbody>\n",
       "    <tr>\n",
       "      <td>1</td>\n",
       "      <td>0.093356</td>\n",
       "    </tr>\n",
       "    <tr>\n",
       "      <td>0</td>\n",
       "      <td>0.081603</td>\n",
       "    </tr>\n",
       "  </tbody>\n",
       "</table>\n",
       "</div>"
      ],
      "text/plain": [
       "                  debt\n",
       "has_children          \n",
       "1             0.093356\n",
       "0             0.081603"
      ]
     },
     "execution_count": 33,
     "metadata": {},
     "output_type": "execute_result"
    }
   ],
   "source": [
    "data_chill = data[['has_children', 'debt']]\n",
    "data_chill = data_chill.groupby('has_children').mean().sort_values(by='debt', ascending=False)\n",
    "data_chill\n"
   ]
  },
  {
   "cell_type": "markdown",
   "metadata": {},
   "source": [
    "**Answer:**"
   ]
  },
  {
   "cell_type": "markdown",
   "metadata": {},
   "source": [
    "Borrowers with children more often have payment failures\n"
   ]
  },
  {
   "cell_type": "markdown",
   "metadata": {},
   "source": [
    "**Question:**"
   ]
  },
  {
   "cell_type": "markdown",
   "metadata": {},
   "source": [
    "- Does family status have an influence on debt?"
   ]
  },
  {
   "cell_type": "code",
   "execution_count": 34,
   "metadata": {},
   "outputs": [
    {
     "data": {
      "text/html": [
       "<div>\n",
       "<style scoped>\n",
       "    .dataframe tbody tr th:only-of-type {\n",
       "        vertical-align: middle;\n",
       "    }\n",
       "\n",
       "    .dataframe tbody tr th {\n",
       "        vertical-align: top;\n",
       "    }\n",
       "\n",
       "    .dataframe thead th {\n",
       "        text-align: right;\n",
       "    }\n",
       "</style>\n",
       "<table border=\"1\" class=\"dataframe\">\n",
       "  <thead>\n",
       "    <tr style=\"text-align: right;\">\n",
       "      <th></th>\n",
       "      <th>debt</th>\n",
       "    </tr>\n",
       "    <tr>\n",
       "      <th>family_status</th>\n",
       "      <th></th>\n",
       "    </tr>\n",
       "  </thead>\n",
       "  <tbody>\n",
       "    <tr>\n",
       "      <td>Не женат / не замужем</td>\n",
       "      <td>0.104923</td>\n",
       "    </tr>\n",
       "    <tr>\n",
       "      <td>гражданский брак</td>\n",
       "      <td>0.099271</td>\n",
       "    </tr>\n",
       "    <tr>\n",
       "      <td>женат / замужем</td>\n",
       "      <td>0.079332</td>\n",
       "    </tr>\n",
       "    <tr>\n",
       "      <td>в разводе</td>\n",
       "      <td>0.074037</td>\n",
       "    </tr>\n",
       "    <tr>\n",
       "      <td>вдовец / вдова</td>\n",
       "      <td>0.065539</td>\n",
       "    </tr>\n",
       "  </tbody>\n",
       "</table>\n",
       "</div>"
      ],
      "text/plain": [
       "                           debt\n",
       "family_status                  \n",
       "Не женат / не замужем  0.104923\n",
       "гражданский брак       0.099271\n",
       "женат / замужем        0.079332\n",
       "в разводе              0.074037\n",
       "вдовец / вдова         0.065539"
      ]
     },
     "execution_count": 34,
     "metadata": {},
     "output_type": "execute_result"
    }
   ],
   "source": [
    "data_fam_stat = data[['family_status', 'debt']]\n",
    "data_fam_stat.groupby('family_status').mean().sort_values(by='debt', ascending=False)"
   ]
  },
  {
   "cell_type": "markdown",
   "metadata": {},
   "source": [
    "**Answer**"
   ]
  },
  {
   "cell_type": "markdown",
   "metadata": {},
   "source": [
    "Clients who are (or were) married as usual pay in time.\n"
   ]
  },
  {
   "cell_type": "markdown",
   "metadata": {},
   "source": [
    "**Question:**"
   ]
  },
  {
   "cell_type": "markdown",
   "metadata": {},
   "source": [
    "- Is there dependance between an income level and credibility?"
   ]
  },
  {
   "cell_type": "code",
   "execution_count": 35,
   "metadata": {},
   "outputs": [
    {
     "data": {
      "text/html": [
       "<div>\n",
       "<style scoped>\n",
       "    .dataframe tbody tr th:only-of-type {\n",
       "        vertical-align: middle;\n",
       "    }\n",
       "\n",
       "    .dataframe tbody tr th {\n",
       "        vertical-align: top;\n",
       "    }\n",
       "\n",
       "    .dataframe thead th {\n",
       "        text-align: right;\n",
       "    }\n",
       "</style>\n",
       "<table border=\"1\" class=\"dataframe\">\n",
       "  <thead>\n",
       "    <tr style=\"text-align: right;\">\n",
       "      <th></th>\n",
       "      <th>debt</th>\n",
       "    </tr>\n",
       "    <tr>\n",
       "      <th>cat_total_income</th>\n",
       "      <th></th>\n",
       "    </tr>\n",
       "  </thead>\n",
       "  <tbody>\n",
       "    <tr>\n",
       "      <td>middle</td>\n",
       "      <td>0.091924</td>\n",
       "    </tr>\n",
       "    <tr>\n",
       "      <td>low</td>\n",
       "      <td>0.091349</td>\n",
       "    </tr>\n",
       "    <tr>\n",
       "      <td>high</td>\n",
       "      <td>0.078007</td>\n",
       "    </tr>\n",
       "  </tbody>\n",
       "</table>\n",
       "</div>"
      ],
      "text/plain": [
       "                      debt\n",
       "cat_total_income          \n",
       "middle            0.091924\n",
       "low               0.091349\n",
       "high              0.078007"
      ]
     },
     "execution_count": 35,
     "metadata": {},
     "output_type": "execute_result"
    }
   ],
   "source": [
    "data_income = data[['cat_total_income', 'debt']]\n",
    "data_income.groupby('cat_total_income').mean().sort_values(by='debt', ascending=False)"
   ]
  },
  {
   "cell_type": "markdown",
   "metadata": {},
   "source": [
    "**Answer**"
   ]
  },
  {
   "cell_type": "markdown",
   "metadata": {},
   "source": [
    "Rich borrowers pay on time more often then people with middle and low income"
   ]
  },
  {
   "cell_type": "markdown",
   "metadata": {},
   "source": [
    "**Question:**"
   ]
  },
  {
   "cell_type": "markdown",
   "metadata": {},
   "source": [
    "- How does loan purpose impact on payment delays?"
   ]
  },
  {
   "cell_type": "code",
   "execution_count": 36,
   "metadata": {},
   "outputs": [
    {
     "data": {
      "text/html": [
       "<div>\n",
       "<style scoped>\n",
       "    .dataframe tbody tr th:only-of-type {\n",
       "        vertical-align: middle;\n",
       "    }\n",
       "\n",
       "    .dataframe tbody tr th {\n",
       "        vertical-align: top;\n",
       "    }\n",
       "\n",
       "    .dataframe thead th {\n",
       "        text-align: right;\n",
       "    }\n",
       "</style>\n",
       "<table border=\"1\" class=\"dataframe\">\n",
       "  <thead>\n",
       "    <tr style=\"text-align: right;\">\n",
       "      <th></th>\n",
       "      <th>debt</th>\n",
       "    </tr>\n",
       "    <tr>\n",
       "      <th>lemm_purpose</th>\n",
       "      <th></th>\n",
       "    </tr>\n",
       "  </thead>\n",
       "  <tbody>\n",
       "    <tr>\n",
       "      <td>автомобиль</td>\n",
       "      <td>0.099832</td>\n",
       "    </tr>\n",
       "    <tr>\n",
       "      <td>образование</td>\n",
       "      <td>0.097934</td>\n",
       "    </tr>\n",
       "    <tr>\n",
       "      <td>свадьба</td>\n",
       "      <td>0.083120</td>\n",
       "    </tr>\n",
       "    <tr>\n",
       "      <td>недвижимость</td>\n",
       "      <td>0.080151</td>\n",
       "    </tr>\n",
       "    <tr>\n",
       "      <td>жилье</td>\n",
       "      <td>0.072878</td>\n",
       "    </tr>\n",
       "  </tbody>\n",
       "</table>\n",
       "</div>"
      ],
      "text/plain": [
       "                  debt\n",
       "lemm_purpose          \n",
       "автомобиль    0.099832\n",
       "образование   0.097934\n",
       "свадьба       0.083120\n",
       "недвижимость  0.080151\n",
       "жилье         0.072878"
      ]
     },
     "execution_count": 36,
     "metadata": {},
     "output_type": "execute_result"
    }
   ],
   "source": [
    "data_purpose = data[['lemm_purpose', 'debt']]\n",
    "data_purpose.groupby('lemm_purpose').mean().sort_values(by='debt', ascending=False)"
   ]
  },
  {
   "cell_type": "markdown",
   "metadata": {},
   "source": [
    "**Answer**"
   ]
  },
  {
   "cell_type": "markdown",
   "metadata": {},
   "source": [
    "Usually borrowers pays mortgages on the schedule, but educational and auto loan payments might be failed. \n",
    "\n",
    "\n"
   ]
  },
  {
   "cell_type": "markdown",
   "metadata": {},
   "source": [
    "## Conclusion"
   ]
  },
  {
   "cell_type": "markdown",
   "metadata": {},
   "source": [
    "The most solid borrowers have no children, are (or was) married, with high income. In other words people with life experience, permanent income and with no liability. Married couples with children who take loan to buy a car more often then others don't pay on time."
   ]
  },
  {
   "cell_type": "markdown",
   "metadata": {},
   "source": [
    "## Machine Learning"
   ]
  },
  {
   "cell_type": "code",
   "execution_count": 37,
   "metadata": {},
   "outputs": [
    {
     "data": {
      "text/plain": [
       "0    0.913815\n",
       "1    0.086185\n",
       "Name: debt, dtype: float64"
      ]
     },
     "execution_count": 37,
     "metadata": {},
     "output_type": "execute_result"
    }
   ],
   "source": [
    "#check a classes imbalance\n",
    "data['debt'].value_counts(normalize=True)"
   ]
  },
  {
   "cell_type": "code",
   "execution_count": 38,
   "metadata": {},
   "outputs": [
    {
     "data": {
      "text/html": [
       "<div>\n",
       "<style scoped>\n",
       "    .dataframe tbody tr th:only-of-type {\n",
       "        vertical-align: middle;\n",
       "    }\n",
       "\n",
       "    .dataframe tbody tr th {\n",
       "        vertical-align: top;\n",
       "    }\n",
       "\n",
       "    .dataframe thead th {\n",
       "        text-align: right;\n",
       "    }\n",
       "</style>\n",
       "<table border=\"1\" class=\"dataframe\">\n",
       "  <thead>\n",
       "    <tr style=\"text-align: right;\">\n",
       "      <th></th>\n",
       "      <th>children</th>\n",
       "      <th>days_employed</th>\n",
       "      <th>dob_years</th>\n",
       "      <th>education_id</th>\n",
       "      <th>family_status_id</th>\n",
       "      <th>debt</th>\n",
       "      <th>total_income</th>\n",
       "      <th>has_children</th>\n",
       "    </tr>\n",
       "  </thead>\n",
       "  <tbody>\n",
       "    <tr>\n",
       "      <td>children</td>\n",
       "      <td>1.000000</td>\n",
       "      <td>-0.053097</td>\n",
       "      <td>-0.246037</td>\n",
       "      <td>-0.009905</td>\n",
       "      <td>-0.176642</td>\n",
       "      <td>0.015836</td>\n",
       "      <td>0.002221</td>\n",
       "      <td>0.871001</td>\n",
       "    </tr>\n",
       "    <tr>\n",
       "      <td>days_employed</td>\n",
       "      <td>-0.053097</td>\n",
       "      <td>1.000000</td>\n",
       "      <td>0.278327</td>\n",
       "      <td>-0.014522</td>\n",
       "      <td>-0.070568</td>\n",
       "      <td>-0.064194</td>\n",
       "      <td>0.038669</td>\n",
       "      <td>-0.059007</td>\n",
       "    </tr>\n",
       "    <tr>\n",
       "      <td>dob_years</td>\n",
       "      <td>-0.246037</td>\n",
       "      <td>0.278327</td>\n",
       "      <td>1.000000</td>\n",
       "      <td>0.024151</td>\n",
       "      <td>-0.099204</td>\n",
       "      <td>-0.058306</td>\n",
       "      <td>0.019172</td>\n",
       "      <td>-0.261945</td>\n",
       "    </tr>\n",
       "    <tr>\n",
       "      <td>education_id</td>\n",
       "      <td>-0.009905</td>\n",
       "      <td>-0.014522</td>\n",
       "      <td>0.024151</td>\n",
       "      <td>1.000000</td>\n",
       "      <td>0.010111</td>\n",
       "      <td>0.064427</td>\n",
       "      <td>-0.166112</td>\n",
       "      <td>-0.018054</td>\n",
       "    </tr>\n",
       "    <tr>\n",
       "      <td>family_status_id</td>\n",
       "      <td>-0.176642</td>\n",
       "      <td>-0.070568</td>\n",
       "      <td>-0.099204</td>\n",
       "      <td>0.010111</td>\n",
       "      <td>1.000000</td>\n",
       "      <td>0.024451</td>\n",
       "      <td>-0.008623</td>\n",
       "      <td>-0.164693</td>\n",
       "    </tr>\n",
       "    <tr>\n",
       "      <td>debt</td>\n",
       "      <td>0.015836</td>\n",
       "      <td>-0.064194</td>\n",
       "      <td>-0.058306</td>\n",
       "      <td>0.064427</td>\n",
       "      <td>0.024451</td>\n",
       "      <td>1.000000</td>\n",
       "      <td>-0.021021</td>\n",
       "      <td>0.020426</td>\n",
       "    </tr>\n",
       "    <tr>\n",
       "      <td>total_income</td>\n",
       "      <td>0.002221</td>\n",
       "      <td>0.038669</td>\n",
       "      <td>0.019172</td>\n",
       "      <td>-0.166112</td>\n",
       "      <td>-0.008623</td>\n",
       "      <td>-0.021021</td>\n",
       "      <td>1.000000</td>\n",
       "      <td>-0.000269</td>\n",
       "    </tr>\n",
       "    <tr>\n",
       "      <td>has_children</td>\n",
       "      <td>0.871001</td>\n",
       "      <td>-0.059007</td>\n",
       "      <td>-0.261945</td>\n",
       "      <td>-0.018054</td>\n",
       "      <td>-0.164693</td>\n",
       "      <td>0.020426</td>\n",
       "      <td>-0.000269</td>\n",
       "      <td>1.000000</td>\n",
       "    </tr>\n",
       "  </tbody>\n",
       "</table>\n",
       "</div>"
      ],
      "text/plain": [
       "                  children  days_employed  dob_years  education_id  \\\n",
       "children          1.000000      -0.053097  -0.246037     -0.009905   \n",
       "days_employed    -0.053097       1.000000   0.278327     -0.014522   \n",
       "dob_years        -0.246037       0.278327   1.000000      0.024151   \n",
       "education_id     -0.009905      -0.014522   0.024151      1.000000   \n",
       "family_status_id -0.176642      -0.070568  -0.099204      0.010111   \n",
       "debt              0.015836      -0.064194  -0.058306      0.064427   \n",
       "total_income      0.002221       0.038669   0.019172     -0.166112   \n",
       "has_children      0.871001      -0.059007  -0.261945     -0.018054   \n",
       "\n",
       "                  family_status_id      debt  total_income  has_children  \n",
       "children                 -0.176642  0.015836      0.002221      0.871001  \n",
       "days_employed            -0.070568 -0.064194      0.038669     -0.059007  \n",
       "dob_years                -0.099204 -0.058306      0.019172     -0.261945  \n",
       "education_id              0.010111  0.064427     -0.166112     -0.018054  \n",
       "family_status_id          1.000000  0.024451     -0.008623     -0.164693  \n",
       "debt                      0.024451  1.000000     -0.021021      0.020426  \n",
       "total_income             -0.008623 -0.021021      1.000000     -0.000269  \n",
       "has_children             -0.164693  0.020426     -0.000269      1.000000  "
      ]
     },
     "execution_count": 38,
     "metadata": {},
     "output_type": "execute_result"
    }
   ],
   "source": [
    "data.corr()"
   ]
  },
  {
   "cell_type": "code",
   "execution_count": 39,
   "metadata": {},
   "outputs": [
    {
     "name": "stdout",
     "output_type": "stream",
     "text": [
      "<class 'pandas.core.frame.DataFrame'>\n",
      "Int64Index: 17915 entries, 0 to 21524\n",
      "Data columns (total 15 columns):\n",
      "children            17915 non-null int64\n",
      "days_employed       17915 non-null int64\n",
      "dob_years           17915 non-null int64\n",
      "education           17915 non-null object\n",
      "education_id        17915 non-null int64\n",
      "family_status       17915 non-null object\n",
      "family_status_id    17915 non-null int64\n",
      "gender              17915 non-null object\n",
      "income_type         17915 non-null object\n",
      "debt                17915 non-null int64\n",
      "total_income        17915 non-null int64\n",
      "purpose             17915 non-null object\n",
      "lemm_purpose        17915 non-null object\n",
      "has_children        17915 non-null int64\n",
      "cat_total_income    17915 non-null object\n",
      "dtypes: int64(8), object(7)\n",
      "memory usage: 2.2+ MB\n"
     ]
    }
   ],
   "source": [
    "data.info()"
   ]
  },
  {
   "cell_type": "code",
   "execution_count": 40,
   "metadata": {
    "scrolled": true
   },
   "outputs": [
    {
     "data": {
      "text/html": [
       "<div>\n",
       "<style scoped>\n",
       "    .dataframe tbody tr th:only-of-type {\n",
       "        vertical-align: middle;\n",
       "    }\n",
       "\n",
       "    .dataframe tbody tr th {\n",
       "        vertical-align: top;\n",
       "    }\n",
       "\n",
       "    .dataframe thead th {\n",
       "        text-align: right;\n",
       "    }\n",
       "</style>\n",
       "<table border=\"1\" class=\"dataframe\">\n",
       "  <thead>\n",
       "    <tr style=\"text-align: right;\">\n",
       "      <th></th>\n",
       "      <th>children</th>\n",
       "      <th>days_employed</th>\n",
       "      <th>dob_years</th>\n",
       "      <th>education</th>\n",
       "      <th>education_id</th>\n",
       "      <th>family_status</th>\n",
       "      <th>family_status_id</th>\n",
       "      <th>gender</th>\n",
       "      <th>income_type</th>\n",
       "      <th>debt</th>\n",
       "      <th>total_income</th>\n",
       "      <th>purpose</th>\n",
       "      <th>lemm_purpose</th>\n",
       "      <th>has_children</th>\n",
       "      <th>cat_total_income</th>\n",
       "    </tr>\n",
       "  </thead>\n",
       "  <tbody>\n",
       "    <tr>\n",
       "      <td>0</td>\n",
       "      <td>1</td>\n",
       "      <td>8437</td>\n",
       "      <td>42</td>\n",
       "      <td>высшее</td>\n",
       "      <td>0</td>\n",
       "      <td>женат / замужем</td>\n",
       "      <td>0</td>\n",
       "      <td>F</td>\n",
       "      <td>сотрудник</td>\n",
       "      <td>0</td>\n",
       "      <td>253875</td>\n",
       "      <td>покупка жилья</td>\n",
       "      <td>жилье</td>\n",
       "      <td>1</td>\n",
       "      <td>high</td>\n",
       "    </tr>\n",
       "    <tr>\n",
       "      <td>1</td>\n",
       "      <td>1</td>\n",
       "      <td>4024</td>\n",
       "      <td>36</td>\n",
       "      <td>среднее</td>\n",
       "      <td>1</td>\n",
       "      <td>женат / замужем</td>\n",
       "      <td>0</td>\n",
       "      <td>F</td>\n",
       "      <td>сотрудник</td>\n",
       "      <td>0</td>\n",
       "      <td>112080</td>\n",
       "      <td>приобретение автомобиля</td>\n",
       "      <td>автомобиль</td>\n",
       "      <td>1</td>\n",
       "      <td>low</td>\n",
       "    </tr>\n",
       "    <tr>\n",
       "      <td>2</td>\n",
       "      <td>0</td>\n",
       "      <td>5623</td>\n",
       "      <td>33</td>\n",
       "      <td>среднее</td>\n",
       "      <td>1</td>\n",
       "      <td>женат / замужем</td>\n",
       "      <td>0</td>\n",
       "      <td>M</td>\n",
       "      <td>сотрудник</td>\n",
       "      <td>0</td>\n",
       "      <td>145885</td>\n",
       "      <td>покупка жилья</td>\n",
       "      <td>жилье</td>\n",
       "      <td>0</td>\n",
       "      <td>middle</td>\n",
       "    </tr>\n",
       "    <tr>\n",
       "      <td>3</td>\n",
       "      <td>3</td>\n",
       "      <td>4124</td>\n",
       "      <td>32</td>\n",
       "      <td>среднее</td>\n",
       "      <td>1</td>\n",
       "      <td>женат / замужем</td>\n",
       "      <td>0</td>\n",
       "      <td>M</td>\n",
       "      <td>сотрудник</td>\n",
       "      <td>0</td>\n",
       "      <td>267628</td>\n",
       "      <td>дополнительное образование</td>\n",
       "      <td>образование</td>\n",
       "      <td>1</td>\n",
       "      <td>high</td>\n",
       "    </tr>\n",
       "    <tr>\n",
       "      <td>5</td>\n",
       "      <td>0</td>\n",
       "      <td>926</td>\n",
       "      <td>27</td>\n",
       "      <td>высшее</td>\n",
       "      <td>0</td>\n",
       "      <td>гражданский брак</td>\n",
       "      <td>1</td>\n",
       "      <td>M</td>\n",
       "      <td>компаньон</td>\n",
       "      <td>0</td>\n",
       "      <td>255763</td>\n",
       "      <td>покупка жилья</td>\n",
       "      <td>жилье</td>\n",
       "      <td>0</td>\n",
       "      <td>high</td>\n",
       "    </tr>\n",
       "  </tbody>\n",
       "</table>\n",
       "</div>"
      ],
      "text/plain": [
       "   children  days_employed  dob_years education  education_id  \\\n",
       "0         1           8437         42    высшее             0   \n",
       "1         1           4024         36   среднее             1   \n",
       "2         0           5623         33   среднее             1   \n",
       "3         3           4124         32   среднее             1   \n",
       "5         0            926         27    высшее             0   \n",
       "\n",
       "      family_status  family_status_id gender income_type  debt  total_income  \\\n",
       "0   женат / замужем                 0      F   сотрудник     0        253875   \n",
       "1   женат / замужем                 0      F   сотрудник     0        112080   \n",
       "2   женат / замужем                 0      M   сотрудник     0        145885   \n",
       "3   женат / замужем                 0      M   сотрудник     0        267628   \n",
       "5  гражданский брак                 1      M   компаньон     0        255763   \n",
       "\n",
       "                      purpose lemm_purpose  has_children cat_total_income  \n",
       "0               покупка жилья        жилье             1             high  \n",
       "1     приобретение автомобиля   автомобиль             1              low  \n",
       "2               покупка жилья        жилье             0           middle  \n",
       "3  дополнительное образование  образование             1             high  \n",
       "5               покупка жилья        жилье             0             high  "
      ]
     },
     "execution_count": 40,
     "metadata": {},
     "output_type": "execute_result"
    }
   ],
   "source": [
    "data.head()"
   ]
  },
  {
   "cell_type": "code",
   "execution_count": 41,
   "metadata": {},
   "outputs": [
    {
     "data": {
      "text/html": [
       "<div>\n",
       "<style scoped>\n",
       "    .dataframe tbody tr th:only-of-type {\n",
       "        vertical-align: middle;\n",
       "    }\n",
       "\n",
       "    .dataframe tbody tr th {\n",
       "        vertical-align: top;\n",
       "    }\n",
       "\n",
       "    .dataframe thead th {\n",
       "        text-align: right;\n",
       "    }\n",
       "</style>\n",
       "<table border=\"1\" class=\"dataframe\">\n",
       "  <thead>\n",
       "    <tr style=\"text-align: right;\">\n",
       "      <th></th>\n",
       "      <th>children</th>\n",
       "      <th>days_employed</th>\n",
       "      <th>dob_years</th>\n",
       "      <th>education</th>\n",
       "      <th>education_id</th>\n",
       "      <th>family_status</th>\n",
       "      <th>family_status_id</th>\n",
       "      <th>gender</th>\n",
       "      <th>income_type</th>\n",
       "      <th>debt</th>\n",
       "      <th>total_income</th>\n",
       "      <th>lemm_purpose</th>\n",
       "      <th>has_children</th>\n",
       "      <th>cat_total_income</th>\n",
       "    </tr>\n",
       "  </thead>\n",
       "  <tbody>\n",
       "    <tr>\n",
       "      <td>0</td>\n",
       "      <td>1</td>\n",
       "      <td>8437</td>\n",
       "      <td>42</td>\n",
       "      <td>высшее</td>\n",
       "      <td>0</td>\n",
       "      <td>женат / замужем</td>\n",
       "      <td>0</td>\n",
       "      <td>F</td>\n",
       "      <td>сотрудник</td>\n",
       "      <td>0</td>\n",
       "      <td>253875</td>\n",
       "      <td>жилье</td>\n",
       "      <td>1</td>\n",
       "      <td>high</td>\n",
       "    </tr>\n",
       "    <tr>\n",
       "      <td>1</td>\n",
       "      <td>1</td>\n",
       "      <td>4024</td>\n",
       "      <td>36</td>\n",
       "      <td>среднее</td>\n",
       "      <td>1</td>\n",
       "      <td>женат / замужем</td>\n",
       "      <td>0</td>\n",
       "      <td>F</td>\n",
       "      <td>сотрудник</td>\n",
       "      <td>0</td>\n",
       "      <td>112080</td>\n",
       "      <td>автомобиль</td>\n",
       "      <td>1</td>\n",
       "      <td>low</td>\n",
       "    </tr>\n",
       "    <tr>\n",
       "      <td>2</td>\n",
       "      <td>0</td>\n",
       "      <td>5623</td>\n",
       "      <td>33</td>\n",
       "      <td>среднее</td>\n",
       "      <td>1</td>\n",
       "      <td>женат / замужем</td>\n",
       "      <td>0</td>\n",
       "      <td>M</td>\n",
       "      <td>сотрудник</td>\n",
       "      <td>0</td>\n",
       "      <td>145885</td>\n",
       "      <td>жилье</td>\n",
       "      <td>0</td>\n",
       "      <td>middle</td>\n",
       "    </tr>\n",
       "    <tr>\n",
       "      <td>3</td>\n",
       "      <td>3</td>\n",
       "      <td>4124</td>\n",
       "      <td>32</td>\n",
       "      <td>среднее</td>\n",
       "      <td>1</td>\n",
       "      <td>женат / замужем</td>\n",
       "      <td>0</td>\n",
       "      <td>M</td>\n",
       "      <td>сотрудник</td>\n",
       "      <td>0</td>\n",
       "      <td>267628</td>\n",
       "      <td>образование</td>\n",
       "      <td>1</td>\n",
       "      <td>high</td>\n",
       "    </tr>\n",
       "    <tr>\n",
       "      <td>5</td>\n",
       "      <td>0</td>\n",
       "      <td>926</td>\n",
       "      <td>27</td>\n",
       "      <td>высшее</td>\n",
       "      <td>0</td>\n",
       "      <td>гражданский брак</td>\n",
       "      <td>1</td>\n",
       "      <td>M</td>\n",
       "      <td>компаньон</td>\n",
       "      <td>0</td>\n",
       "      <td>255763</td>\n",
       "      <td>жилье</td>\n",
       "      <td>0</td>\n",
       "      <td>high</td>\n",
       "    </tr>\n",
       "  </tbody>\n",
       "</table>\n",
       "</div>"
      ],
      "text/plain": [
       "   children  days_employed  dob_years education  education_id  \\\n",
       "0         1           8437         42    высшее             0   \n",
       "1         1           4024         36   среднее             1   \n",
       "2         0           5623         33   среднее             1   \n",
       "3         3           4124         32   среднее             1   \n",
       "5         0            926         27    высшее             0   \n",
       "\n",
       "      family_status  family_status_id gender income_type  debt  total_income  \\\n",
       "0   женат / замужем                 0      F   сотрудник     0        253875   \n",
       "1   женат / замужем                 0      F   сотрудник     0        112080   \n",
       "2   женат / замужем                 0      M   сотрудник     0        145885   \n",
       "3   женат / замужем                 0      M   сотрудник     0        267628   \n",
       "5  гражданский брак                 1      M   компаньон     0        255763   \n",
       "\n",
       "  lemm_purpose  has_children cat_total_income  \n",
       "0        жилье             1             high  \n",
       "1   автомобиль             1              low  \n",
       "2        жилье             0           middle  \n",
       "3  образование             1             high  \n",
       "5        жилье             0             high  "
      ]
     },
     "execution_count": 41,
     "metadata": {},
     "output_type": "execute_result"
    }
   ],
   "source": [
    "data = data.drop(['purpose'], axis=1) #, 'cat_total_income', 'has_children'\n",
    "data.head()"
   ]
  },
  {
   "cell_type": "code",
   "execution_count": 42,
   "metadata": {},
   "outputs": [],
   "source": [
    "#brake off features and targets from dataset\n",
    "X = data.drop('debt', axis =1)\n",
    "y = data['debt']"
   ]
  },
  {
   "cell_type": "code",
   "execution_count": 43,
   "metadata": {},
   "outputs": [
    {
     "data": {
      "text/plain": [
       "['education',\n",
       " 'family_status',\n",
       " 'gender',\n",
       " 'income_type',\n",
       " 'lemm_purpose',\n",
       " 'cat_total_income']"
      ]
     },
     "execution_count": 43,
     "metadata": {},
     "output_type": "execute_result"
    }
   ],
   "source": [
    "#select categorical columns\n",
    "categorical_cols = [col for col in X.columns if X[col].dtype == 'object']\n",
    "categorical_cols"
   ]
  },
  {
   "cell_type": "code",
   "execution_count": 44,
   "metadata": {},
   "outputs": [
    {
     "data": {
      "text/plain": [
       "[3, 5, 7, 8, 11, 13]"
      ]
     },
     "execution_count": 44,
     "metadata": {},
     "output_type": "execute_result"
    }
   ],
   "source": [
    "#categorical columns indeces\n",
    "# categorical_cols_indeces = []\n",
    "# for col in categorical_cols:\n",
    "#     ind = data.columns.get_loc(col)\n",
    "#     categorical_cols_indeces.append(ind)\n",
    "\n",
    "# categorical_cols_indeces"
   ]
  },
  {
   "cell_type": "code",
   "execution_count": 45,
   "metadata": {},
   "outputs": [
    {
     "data": {
      "text/plain": [
       "['children',\n",
       " 'days_employed',\n",
       " 'dob_years',\n",
       " 'education_id',\n",
       " 'family_status_id',\n",
       " 'total_income',\n",
       " 'has_children']"
      ]
     },
     "execution_count": 45,
     "metadata": {},
     "output_type": "execute_result"
    }
   ],
   "source": [
    "#select numerical columns\n",
    "numerical_cols = [col for col in X.columns if X[col].dtype in ['int64', 'float64']]\n",
    "numerical_cols"
   ]
  },
  {
   "cell_type": "code",
   "execution_count": 46,
   "metadata": {},
   "outputs": [],
   "source": [
    "#split train and test sets\n",
    "X_train, X_test, y_train, y_test = train_test_split(X, y, test_size=0.2, stratify=y, random_state=random_state)"
   ]
  },
  {
   "cell_type": "code",
   "execution_count": 47,
   "metadata": {},
   "outputs": [
    {
     "data": {
      "text/plain": [
       "((14332, 13), (3583, 13), (14332,), (3583,))"
      ]
     },
     "execution_count": 47,
     "metadata": {},
     "output_type": "execute_result"
    }
   ],
   "source": [
    "X_train.shape, X_test.shape, y_train.shape, y_test.shape"
   ]
  },
  {
   "cell_type": "code",
   "execution_count": 48,
   "metadata": {},
   "outputs": [],
   "source": [
    "#features preprocessing\n",
    "categorical_transformer = Pipeline(steps=[\n",
    "    ('onehot', OneHotEncoder(handle_unknown='ignore'))\n",
    "])"
   ]
  },
  {
   "cell_type": "code",
   "execution_count": 49,
   "metadata": {},
   "outputs": [],
   "source": [
    "numerical_transformer = Pipeline(steps=[\n",
    "    ('scaler', StandardScaler())\n",
    "])"
   ]
  },
  {
   "cell_type": "code",
   "execution_count": 50,
   "metadata": {},
   "outputs": [],
   "source": [
    "preprocessor = ColumnTransformer(\n",
    "    transformers=[\n",
    "        ('num', numerical_transformer, numerical_cols),\n",
    "        ('cat', categorical_transformer, categorical_cols)\n",
    "    ])"
   ]
  },
  {
   "cell_type": "code",
   "execution_count": 51,
   "metadata": {},
   "outputs": [],
   "source": [
    "# model = LogisticRegression(class_weight='balanced', random_state=random_state)\n",
    "model = DecisionTreeClassifier(class_weight='balanced', random_state=random_state)"
   ]
  },
  {
   "cell_type": "code",
   "execution_count": 52,
   "metadata": {},
   "outputs": [],
   "source": [
    "pipe = Pipeline(steps = [\n",
    "    ('preprocessor', preprocessor),\n",
    "    ('model', model)\n",
    "])"
   ]
  },
  {
   "cell_type": "code",
   "execution_count": 53,
   "metadata": {},
   "outputs": [
    {
     "data": {
      "text/plain": [
       "Pipeline(steps=[('preprocessor',\n",
       "                 ColumnTransformer(transformers=[('num',\n",
       "                                                  Pipeline(steps=[('scaler',\n",
       "                                                                   StandardScaler())]),\n",
       "                                                  ['children', 'days_employed',\n",
       "                                                   'dob_years', 'education_id',\n",
       "                                                   'family_status_id',\n",
       "                                                   'total_income',\n",
       "                                                   'has_children']),\n",
       "                                                 ('cat',\n",
       "                                                  Pipeline(steps=[('onehot',\n",
       "                                                                   OneHotEncoder(handle_unknown='ignore'))]),\n",
       "                                                  ['education', 'family_status',\n",
       "                                                   'gender', 'income_type',\n",
       "                                                   'lemm_purpose',\n",
       "                                                   'cat_total_income'])])),\n",
       "                ('model',\n",
       "                 DecisionTreeClassifier(class_weight='balanced',\n",
       "                                        random_state=12345))])"
      ]
     },
     "execution_count": 53,
     "metadata": {},
     "output_type": "execute_result"
    }
   ],
   "source": [
    "pipe.fit(X_train, y_train)"
   ]
  },
  {
   "cell_type": "code",
   "execution_count": 54,
   "metadata": {},
   "outputs": [],
   "source": [
    "preds = pipe.predict(X_test)"
   ]
  },
  {
   "cell_type": "code",
   "execution_count": 55,
   "metadata": {},
   "outputs": [
    {
     "data": {
      "text/plain": [
       "0.9840637450199202"
      ]
     },
     "execution_count": 55,
     "metadata": {},
     "output_type": "execute_result"
    }
   ],
   "source": [
    "f1_score(y_train, pipe.predict(X_train))"
   ]
  },
  {
   "cell_type": "code",
   "execution_count": 56,
   "metadata": {},
   "outputs": [
    {
     "data": {
      "text/plain": [
       "0.08240887480190175"
      ]
     },
     "execution_count": 56,
     "metadata": {},
     "output_type": "execute_result"
    }
   ],
   "source": [
    "f1_score(y_test, preds)"
   ]
  },
  {
   "cell_type": "code",
   "execution_count": 57,
   "metadata": {},
   "outputs": [
    {
     "data": {
      "text/plain": [
       "0.9972090427016467"
      ]
     },
     "execution_count": 57,
     "metadata": {},
     "output_type": "execute_result"
    }
   ],
   "source": [
    "accuracy_score(y_train, pipe.predict(X_train))"
   ]
  },
  {
   "cell_type": "code",
   "execution_count": 58,
   "metadata": {},
   "outputs": [
    {
     "data": {
      "text/plain": [
       "0.8384035724253419"
      ]
     },
     "execution_count": 58,
     "metadata": {},
     "output_type": "execute_result"
    }
   ],
   "source": [
    "accuracy_score(y_test, preds)"
   ]
  },
  {
   "cell_type": "code",
   "execution_count": 59,
   "metadata": {},
   "outputs": [
    {
     "data": {
      "text/plain": [
       "array([[2978,  296],\n",
       "       [ 283,   26]])"
      ]
     },
     "execution_count": 59,
     "metadata": {},
     "output_type": "execute_result"
    }
   ],
   "source": [
    "confusion_matrix(y_test, preds)"
   ]
  },
  {
   "cell_type": "markdown",
   "metadata": {},
   "source": [
    "### Treshold Adjusting"
   ]
  },
  {
   "cell_type": "code",
   "execution_count": 60,
   "metadata": {},
   "outputs": [
    {
     "name": "stdout",
     "output_type": "stream",
     "text": [
      "\n",
      "******** For i = 0.05 ******\n",
      "Our testing f1 score is 0.08240887480190175\n",
      "[[2978  296]\n",
      " [ 283   26]]\n",
      "\n",
      "******** For i = 0.1 ******\n",
      "Our testing f1 score is 0.08240887480190175\n",
      "[[2978  296]\n",
      " [ 283   26]]\n",
      "\n",
      "******** For i = 0.15 ******\n",
      "Our testing f1 score is 0.08240887480190175\n",
      "[[2978  296]\n",
      " [ 283   26]]\n",
      "\n",
      "******** For i = 0.2 ******\n",
      "Our testing f1 score is 0.08240887480190175\n",
      "[[2978  296]\n",
      " [ 283   26]]\n",
      "\n",
      "******** For i = 0.25 ******\n",
      "Our testing f1 score is 0.08240887480190175\n",
      "[[2978  296]\n",
      " [ 283   26]]\n",
      "\n",
      "******** For i = 0.3 ******\n",
      "Our testing f1 score is 0.08240887480190175\n",
      "[[2978  296]\n",
      " [ 283   26]]\n",
      "\n",
      "******** For i = 0.35 ******\n",
      "Our testing f1 score is 0.08240887480190175\n",
      "[[2978  296]\n",
      " [ 283   26]]\n",
      "\n",
      "******** For i = 0.4 ******\n",
      "Our testing f1 score is 0.08240887480190175\n",
      "[[2978  296]\n",
      " [ 283   26]]\n",
      "\n",
      "******** For i = 0.45 ******\n",
      "Our testing f1 score is 0.08240887480190175\n",
      "[[2978  296]\n",
      " [ 283   26]]\n",
      "\n",
      "******** For i = 0.5 ******\n",
      "Our testing f1 score is 0.08240887480190175\n",
      "[[2978  296]\n",
      " [ 283   26]]\n",
      "\n",
      "******** For i = 0.55 ******\n",
      "Our testing f1 score is 0.08240887480190175\n",
      "[[2978  296]\n",
      " [ 283   26]]\n",
      "\n",
      "******** For i = 0.6 ******\n",
      "Our testing f1 score is 0.08240887480190175\n",
      "[[2978  296]\n",
      " [ 283   26]]\n",
      "\n",
      "******** For i = 0.65 ******\n",
      "Our testing f1 score is 0.08240887480190175\n",
      "[[2978  296]\n",
      " [ 283   26]]\n",
      "\n",
      "******** For i = 0.7 ******\n",
      "Our testing f1 score is 0.08240887480190175\n",
      "[[2978  296]\n",
      " [ 283   26]]\n",
      "\n",
      "******** For i = 0.75 ******\n"
     ]
    },
    {
     "name": "stderr",
     "output_type": "stream",
     "text": [
      "/opt/conda/lib/python3.7/site-packages/ipykernel_launcher.py:7: FutureWarning: Method .as_matrix will be removed in a future version. Use .values instead.\n",
      "  import sys\n",
      "/opt/conda/lib/python3.7/site-packages/ipykernel_launcher.py:8: FutureWarning: Method .as_matrix will be removed in a future version. Use .values instead.\n",
      "  \n",
      "/opt/conda/lib/python3.7/site-packages/ipykernel_launcher.py:11: FutureWarning: Method .as_matrix will be removed in a future version. Use .values instead.\n",
      "  # This is added back by InteractiveShellApp.init_path()\n",
      "/opt/conda/lib/python3.7/site-packages/ipykernel_launcher.py:12: FutureWarning: Method .as_matrix will be removed in a future version. Use .values instead.\n",
      "  if sys.path[0] == '':\n",
      "/opt/conda/lib/python3.7/site-packages/ipykernel_launcher.py:7: FutureWarning: Method .as_matrix will be removed in a future version. Use .values instead.\n",
      "  import sys\n",
      "/opt/conda/lib/python3.7/site-packages/ipykernel_launcher.py:8: FutureWarning: Method .as_matrix will be removed in a future version. Use .values instead.\n",
      "  \n",
      "/opt/conda/lib/python3.7/site-packages/ipykernel_launcher.py:11: FutureWarning: Method .as_matrix will be removed in a future version. Use .values instead.\n",
      "  # This is added back by InteractiveShellApp.init_path()\n",
      "/opt/conda/lib/python3.7/site-packages/ipykernel_launcher.py:12: FutureWarning: Method .as_matrix will be removed in a future version. Use .values instead.\n",
      "  if sys.path[0] == '':\n",
      "/opt/conda/lib/python3.7/site-packages/ipykernel_launcher.py:7: FutureWarning: Method .as_matrix will be removed in a future version. Use .values instead.\n",
      "  import sys\n",
      "/opt/conda/lib/python3.7/site-packages/ipykernel_launcher.py:8: FutureWarning: Method .as_matrix will be removed in a future version. Use .values instead.\n",
      "  \n",
      "/opt/conda/lib/python3.7/site-packages/ipykernel_launcher.py:11: FutureWarning: Method .as_matrix will be removed in a future version. Use .values instead.\n",
      "  # This is added back by InteractiveShellApp.init_path()\n",
      "/opt/conda/lib/python3.7/site-packages/ipykernel_launcher.py:12: FutureWarning: Method .as_matrix will be removed in a future version. Use .values instead.\n",
      "  if sys.path[0] == '':\n",
      "/opt/conda/lib/python3.7/site-packages/ipykernel_launcher.py:7: FutureWarning: Method .as_matrix will be removed in a future version. Use .values instead.\n",
      "  import sys\n",
      "/opt/conda/lib/python3.7/site-packages/ipykernel_launcher.py:8: FutureWarning: Method .as_matrix will be removed in a future version. Use .values instead.\n",
      "  \n",
      "/opt/conda/lib/python3.7/site-packages/ipykernel_launcher.py:11: FutureWarning: Method .as_matrix will be removed in a future version. Use .values instead.\n",
      "  # This is added back by InteractiveShellApp.init_path()\n",
      "/opt/conda/lib/python3.7/site-packages/ipykernel_launcher.py:12: FutureWarning: Method .as_matrix will be removed in a future version. Use .values instead.\n",
      "  if sys.path[0] == '':\n",
      "/opt/conda/lib/python3.7/site-packages/ipykernel_launcher.py:7: FutureWarning: Method .as_matrix will be removed in a future version. Use .values instead.\n",
      "  import sys\n",
      "/opt/conda/lib/python3.7/site-packages/ipykernel_launcher.py:8: FutureWarning: Method .as_matrix will be removed in a future version. Use .values instead.\n",
      "  \n",
      "/opt/conda/lib/python3.7/site-packages/ipykernel_launcher.py:11: FutureWarning: Method .as_matrix will be removed in a future version. Use .values instead.\n",
      "  # This is added back by InteractiveShellApp.init_path()\n",
      "/opt/conda/lib/python3.7/site-packages/ipykernel_launcher.py:12: FutureWarning: Method .as_matrix will be removed in a future version. Use .values instead.\n",
      "  if sys.path[0] == '':\n",
      "/opt/conda/lib/python3.7/site-packages/ipykernel_launcher.py:7: FutureWarning: Method .as_matrix will be removed in a future version. Use .values instead.\n",
      "  import sys\n",
      "/opt/conda/lib/python3.7/site-packages/ipykernel_launcher.py:8: FutureWarning: Method .as_matrix will be removed in a future version. Use .values instead.\n",
      "  \n",
      "/opt/conda/lib/python3.7/site-packages/ipykernel_launcher.py:11: FutureWarning: Method .as_matrix will be removed in a future version. Use .values instead.\n",
      "  # This is added back by InteractiveShellApp.init_path()\n",
      "/opt/conda/lib/python3.7/site-packages/ipykernel_launcher.py:12: FutureWarning: Method .as_matrix will be removed in a future version. Use .values instead.\n",
      "  if sys.path[0] == '':\n",
      "/opt/conda/lib/python3.7/site-packages/ipykernel_launcher.py:7: FutureWarning: Method .as_matrix will be removed in a future version. Use .values instead.\n",
      "  import sys\n",
      "/opt/conda/lib/python3.7/site-packages/ipykernel_launcher.py:8: FutureWarning: Method .as_matrix will be removed in a future version. Use .values instead.\n",
      "  \n",
      "/opt/conda/lib/python3.7/site-packages/ipykernel_launcher.py:11: FutureWarning: Method .as_matrix will be removed in a future version. Use .values instead.\n",
      "  # This is added back by InteractiveShellApp.init_path()\n",
      "/opt/conda/lib/python3.7/site-packages/ipykernel_launcher.py:12: FutureWarning: Method .as_matrix will be removed in a future version. Use .values instead.\n",
      "  if sys.path[0] == '':\n",
      "/opt/conda/lib/python3.7/site-packages/ipykernel_launcher.py:7: FutureWarning: Method .as_matrix will be removed in a future version. Use .values instead.\n",
      "  import sys\n",
      "/opt/conda/lib/python3.7/site-packages/ipykernel_launcher.py:8: FutureWarning: Method .as_matrix will be removed in a future version. Use .values instead.\n",
      "  \n",
      "/opt/conda/lib/python3.7/site-packages/ipykernel_launcher.py:11: FutureWarning: Method .as_matrix will be removed in a future version. Use .values instead.\n",
      "  # This is added back by InteractiveShellApp.init_path()\n",
      "/opt/conda/lib/python3.7/site-packages/ipykernel_launcher.py:12: FutureWarning: Method .as_matrix will be removed in a future version. Use .values instead.\n",
      "  if sys.path[0] == '':\n",
      "/opt/conda/lib/python3.7/site-packages/ipykernel_launcher.py:7: FutureWarning: Method .as_matrix will be removed in a future version. Use .values instead.\n",
      "  import sys\n",
      "/opt/conda/lib/python3.7/site-packages/ipykernel_launcher.py:8: FutureWarning: Method .as_matrix will be removed in a future version. Use .values instead.\n",
      "  \n",
      "/opt/conda/lib/python3.7/site-packages/ipykernel_launcher.py:11: FutureWarning: Method .as_matrix will be removed in a future version. Use .values instead.\n",
      "  # This is added back by InteractiveShellApp.init_path()\n",
      "/opt/conda/lib/python3.7/site-packages/ipykernel_launcher.py:12: FutureWarning: Method .as_matrix will be removed in a future version. Use .values instead.\n",
      "  if sys.path[0] == '':\n",
      "/opt/conda/lib/python3.7/site-packages/ipykernel_launcher.py:7: FutureWarning: Method .as_matrix will be removed in a future version. Use .values instead.\n",
      "  import sys\n",
      "/opt/conda/lib/python3.7/site-packages/ipykernel_launcher.py:8: FutureWarning: Method .as_matrix will be removed in a future version. Use .values instead.\n",
      "  \n",
      "/opt/conda/lib/python3.7/site-packages/ipykernel_launcher.py:11: FutureWarning: Method .as_matrix will be removed in a future version. Use .values instead.\n",
      "  # This is added back by InteractiveShellApp.init_path()\n",
      "/opt/conda/lib/python3.7/site-packages/ipykernel_launcher.py:12: FutureWarning: Method .as_matrix will be removed in a future version. Use .values instead.\n",
      "  if sys.path[0] == '':\n",
      "/opt/conda/lib/python3.7/site-packages/ipykernel_launcher.py:7: FutureWarning: Method .as_matrix will be removed in a future version. Use .values instead.\n",
      "  import sys\n",
      "/opt/conda/lib/python3.7/site-packages/ipykernel_launcher.py:8: FutureWarning: Method .as_matrix will be removed in a future version. Use .values instead.\n",
      "  \n",
      "/opt/conda/lib/python3.7/site-packages/ipykernel_launcher.py:11: FutureWarning: Method .as_matrix will be removed in a future version. Use .values instead.\n",
      "  # This is added back by InteractiveShellApp.init_path()\n",
      "/opt/conda/lib/python3.7/site-packages/ipykernel_launcher.py:12: FutureWarning: Method .as_matrix will be removed in a future version. Use .values instead.\n",
      "  if sys.path[0] == '':\n",
      "/opt/conda/lib/python3.7/site-packages/ipykernel_launcher.py:7: FutureWarning: Method .as_matrix will be removed in a future version. Use .values instead.\n",
      "  import sys\n",
      "/opt/conda/lib/python3.7/site-packages/ipykernel_launcher.py:8: FutureWarning: Method .as_matrix will be removed in a future version. Use .values instead.\n",
      "  \n",
      "/opt/conda/lib/python3.7/site-packages/ipykernel_launcher.py:11: FutureWarning: Method .as_matrix will be removed in a future version. Use .values instead.\n",
      "  # This is added back by InteractiveShellApp.init_path()\n",
      "/opt/conda/lib/python3.7/site-packages/ipykernel_launcher.py:12: FutureWarning: Method .as_matrix will be removed in a future version. Use .values instead.\n",
      "  if sys.path[0] == '':\n",
      "/opt/conda/lib/python3.7/site-packages/ipykernel_launcher.py:7: FutureWarning: Method .as_matrix will be removed in a future version. Use .values instead.\n",
      "  import sys\n",
      "/opt/conda/lib/python3.7/site-packages/ipykernel_launcher.py:8: FutureWarning: Method .as_matrix will be removed in a future version. Use .values instead.\n",
      "  \n",
      "/opt/conda/lib/python3.7/site-packages/ipykernel_launcher.py:11: FutureWarning: Method .as_matrix will be removed in a future version. Use .values instead.\n",
      "  # This is added back by InteractiveShellApp.init_path()\n",
      "/opt/conda/lib/python3.7/site-packages/ipykernel_launcher.py:12: FutureWarning: Method .as_matrix will be removed in a future version. Use .values instead.\n",
      "  if sys.path[0] == '':\n",
      "/opt/conda/lib/python3.7/site-packages/ipykernel_launcher.py:7: FutureWarning: Method .as_matrix will be removed in a future version. Use .values instead.\n",
      "  import sys\n",
      "/opt/conda/lib/python3.7/site-packages/ipykernel_launcher.py:8: FutureWarning: Method .as_matrix will be removed in a future version. Use .values instead.\n",
      "  \n",
      "/opt/conda/lib/python3.7/site-packages/ipykernel_launcher.py:11: FutureWarning: Method .as_matrix will be removed in a future version. Use .values instead.\n",
      "  # This is added back by InteractiveShellApp.init_path()\n",
      "/opt/conda/lib/python3.7/site-packages/ipykernel_launcher.py:12: FutureWarning: Method .as_matrix will be removed in a future version. Use .values instead.\n",
      "  if sys.path[0] == '':\n",
      "/opt/conda/lib/python3.7/site-packages/ipykernel_launcher.py:7: FutureWarning: Method .as_matrix will be removed in a future version. Use .values instead.\n",
      "  import sys\n",
      "/opt/conda/lib/python3.7/site-packages/ipykernel_launcher.py:8: FutureWarning: Method .as_matrix will be removed in a future version. Use .values instead.\n",
      "  \n"
     ]
    },
    {
     "name": "stdout",
     "output_type": "stream",
     "text": [
      "Our testing f1 score is 0.08240887480190175\n",
      "[[2978  296]\n",
      " [ 283   26]]\n",
      "\n",
      "******** For i = 0.8 ******\n",
      "Our testing f1 score is 0.08253968253968254\n",
      "[[2979  295]\n",
      " [ 283   26]]\n",
      "\n",
      "******** For i = 0.85 ******\n",
      "Our testing f1 score is 0.08280254777070065\n",
      "[[2981  293]\n",
      " [ 283   26]]\n",
      "\n",
      "******** For i = 0.9 ******\n",
      "Our testing f1 score is 0.08280254777070065\n",
      "[[2981  293]\n",
      " [ 283   26]]\n",
      "\n",
      "******** For i = 0.95 ******\n",
      "Our testing f1 score is 0.08387096774193548\n",
      "[[2989  285]\n",
      " [ 283   26]]\n",
      "\n",
      "******** For i = 0.99 ******\n",
      "Our testing f1 score is 0.08387096774193548\n",
      "[[2989  285]\n",
      " [ 283   26]]\n"
     ]
    },
    {
     "name": "stderr",
     "output_type": "stream",
     "text": [
      "/opt/conda/lib/python3.7/site-packages/ipykernel_launcher.py:11: FutureWarning: Method .as_matrix will be removed in a future version. Use .values instead.\n",
      "  # This is added back by InteractiveShellApp.init_path()\n",
      "/opt/conda/lib/python3.7/site-packages/ipykernel_launcher.py:12: FutureWarning: Method .as_matrix will be removed in a future version. Use .values instead.\n",
      "  if sys.path[0] == '':\n",
      "/opt/conda/lib/python3.7/site-packages/ipykernel_launcher.py:7: FutureWarning: Method .as_matrix will be removed in a future version. Use .values instead.\n",
      "  import sys\n",
      "/opt/conda/lib/python3.7/site-packages/ipykernel_launcher.py:8: FutureWarning: Method .as_matrix will be removed in a future version. Use .values instead.\n",
      "  \n",
      "/opt/conda/lib/python3.7/site-packages/ipykernel_launcher.py:11: FutureWarning: Method .as_matrix will be removed in a future version. Use .values instead.\n",
      "  # This is added back by InteractiveShellApp.init_path()\n",
      "/opt/conda/lib/python3.7/site-packages/ipykernel_launcher.py:12: FutureWarning: Method .as_matrix will be removed in a future version. Use .values instead.\n",
      "  if sys.path[0] == '':\n",
      "/opt/conda/lib/python3.7/site-packages/ipykernel_launcher.py:7: FutureWarning: Method .as_matrix will be removed in a future version. Use .values instead.\n",
      "  import sys\n",
      "/opt/conda/lib/python3.7/site-packages/ipykernel_launcher.py:8: FutureWarning: Method .as_matrix will be removed in a future version. Use .values instead.\n",
      "  \n",
      "/opt/conda/lib/python3.7/site-packages/ipykernel_launcher.py:11: FutureWarning: Method .as_matrix will be removed in a future version. Use .values instead.\n",
      "  # This is added back by InteractiveShellApp.init_path()\n",
      "/opt/conda/lib/python3.7/site-packages/ipykernel_launcher.py:12: FutureWarning: Method .as_matrix will be removed in a future version. Use .values instead.\n",
      "  if sys.path[0] == '':\n",
      "/opt/conda/lib/python3.7/site-packages/ipykernel_launcher.py:7: FutureWarning: Method .as_matrix will be removed in a future version. Use .values instead.\n",
      "  import sys\n",
      "/opt/conda/lib/python3.7/site-packages/ipykernel_launcher.py:8: FutureWarning: Method .as_matrix will be removed in a future version. Use .values instead.\n",
      "  \n",
      "/opt/conda/lib/python3.7/site-packages/ipykernel_launcher.py:11: FutureWarning: Method .as_matrix will be removed in a future version. Use .values instead.\n",
      "  # This is added back by InteractiveShellApp.init_path()\n",
      "/opt/conda/lib/python3.7/site-packages/ipykernel_launcher.py:12: FutureWarning: Method .as_matrix will be removed in a future version. Use .values instead.\n",
      "  if sys.path[0] == '':\n",
      "/opt/conda/lib/python3.7/site-packages/ipykernel_launcher.py:7: FutureWarning: Method .as_matrix will be removed in a future version. Use .values instead.\n",
      "  import sys\n",
      "/opt/conda/lib/python3.7/site-packages/ipykernel_launcher.py:8: FutureWarning: Method .as_matrix will be removed in a future version. Use .values instead.\n",
      "  \n",
      "/opt/conda/lib/python3.7/site-packages/ipykernel_launcher.py:11: FutureWarning: Method .as_matrix will be removed in a future version. Use .values instead.\n",
      "  # This is added back by InteractiveShellApp.init_path()\n",
      "/opt/conda/lib/python3.7/site-packages/ipykernel_launcher.py:12: FutureWarning: Method .as_matrix will be removed in a future version. Use .values instead.\n",
      "  if sys.path[0] == '':\n",
      "/opt/conda/lib/python3.7/site-packages/ipykernel_launcher.py:7: FutureWarning: Method .as_matrix will be removed in a future version. Use .values instead.\n",
      "  import sys\n",
      "/opt/conda/lib/python3.7/site-packages/ipykernel_launcher.py:8: FutureWarning: Method .as_matrix will be removed in a future version. Use .values instead.\n",
      "  \n",
      "/opt/conda/lib/python3.7/site-packages/ipykernel_launcher.py:11: FutureWarning: Method .as_matrix will be removed in a future version. Use .values instead.\n",
      "  # This is added back by InteractiveShellApp.init_path()\n",
      "/opt/conda/lib/python3.7/site-packages/ipykernel_launcher.py:12: FutureWarning: Method .as_matrix will be removed in a future version. Use .values instead.\n",
      "  if sys.path[0] == '':\n"
     ]
    }
   ],
   "source": [
    "#treshold adjusting\n",
    "pred_proba_df = pd.DataFrame(pipe.predict_proba(X_test))\n",
    "threshold_list = [0.05,0.1,0.15,0.2,0.25,0.3,0.35,0.4,0.45,0.5,0.55,0.6,0.65,.7,.75,.8,.85,.9,.95,.99]\n",
    "for i in threshold_list:\n",
    "    print ('\\n******** For i = {} ******'.format(i))\n",
    "    y_test_pred = pred_proba_df.applymap(lambda x: 1 if x>i else 0)\n",
    "    test_f1 = f1_score(y_test.as_matrix().reshape(y_test.as_matrix().size,1),\n",
    "                                           y_test_pred.iloc[:,1].as_matrix().reshape(y_test_pred.iloc[:,1].as_matrix().size,1))\n",
    "    print('Our testing f1 score is {}'.format(test_f1))\n",
    "\n",
    "    print(confusion_matrix(y_test.as_matrix().reshape(y_test.as_matrix().size,1),\n",
    "                           y_test_pred.iloc[:,1].as_matrix().reshape(y_test_pred.iloc[:,1].as_matrix().size,1)))"
   ]
  },
  {
   "cell_type": "markdown",
   "metadata": {},
   "source": [
    "### Over-Sampling Using SMOTE"
   ]
  },
  {
   "cell_type": "code",
   "execution_count": 61,
   "metadata": {},
   "outputs": [],
   "source": [
    "imba_pipeline = make_pipeline(preprocessor,\n",
    "                              SMOTE(random_state=random_state),\n",
    "                              model)\n"
   ]
  },
  {
   "cell_type": "code",
   "execution_count": 62,
   "metadata": {},
   "outputs": [
    {
     "data": {
      "text/plain": [
       "Pipeline(steps=[('columntransformer',\n",
       "                 ColumnTransformer(transformers=[('num',\n",
       "                                                  Pipeline(steps=[('scaler',\n",
       "                                                                   StandardScaler())]),\n",
       "                                                  ['children', 'days_employed',\n",
       "                                                   'dob_years', 'education_id',\n",
       "                                                   'family_status_id',\n",
       "                                                   'total_income',\n",
       "                                                   'has_children']),\n",
       "                                                 ('cat',\n",
       "                                                  Pipeline(steps=[('onehot',\n",
       "                                                                   OneHotEncoder(handle_unknown='ignore'))]),\n",
       "                                                  ['education', 'family_status',\n",
       "                                                   'gender', 'income_type',\n",
       "                                                   'lemm_purpose',\n",
       "                                                   'cat_total_income'])])),\n",
       "                ('smote', SMOTE(random_state=12345)),\n",
       "                ('decisiontreeclassifier',\n",
       "                 DecisionTreeClassifier(class_weight='balanced',\n",
       "                                        random_state=12345))])"
      ]
     },
     "execution_count": 62,
     "metadata": {},
     "output_type": "execute_result"
    }
   ],
   "source": [
    "imba_pipeline.fit(X_train, y_train)"
   ]
  },
  {
   "cell_type": "code",
   "execution_count": 63,
   "metadata": {},
   "outputs": [],
   "source": [
    "imba_preds = imba_pipeline.predict(X_test)"
   ]
  },
  {
   "cell_type": "code",
   "execution_count": 64,
   "metadata": {},
   "outputs": [
    {
     "data": {
      "text/plain": [
       "0.9897750511247443"
      ]
     },
     "execution_count": 64,
     "metadata": {},
     "output_type": "execute_result"
    }
   ],
   "source": [
    "f1_score(y_train, imba_pipeline.predict(X_train))"
   ]
  },
  {
   "cell_type": "code",
   "execution_count": 65,
   "metadata": {},
   "outputs": [
    {
     "data": {
      "text/plain": [
       "0.1338199513381995"
      ]
     },
     "execution_count": 65,
     "metadata": {},
     "output_type": "execute_result"
    }
   ],
   "source": [
    "f1_score(y_test, imba_preds)"
   ]
  },
  {
   "cell_type": "code",
   "execution_count": 66,
   "metadata": {},
   "outputs": [
    {
     "data": {
      "text/plain": [
       "0.9982556516885291"
      ]
     },
     "execution_count": 66,
     "metadata": {},
     "output_type": "execute_result"
    }
   ],
   "source": [
    "accuracy_score(y_train, imba_pipeline.predict(X_train))"
   ]
  },
  {
   "cell_type": "code",
   "execution_count": 67,
   "metadata": {},
   "outputs": [
    {
     "data": {
      "text/plain": [
       "0.8012838403572425"
      ]
     },
     "execution_count": 67,
     "metadata": {},
     "output_type": "execute_result"
    }
   ],
   "source": [
    "accuracy_score(y_test, imba_preds)"
   ]
  },
  {
   "cell_type": "code",
   "execution_count": 68,
   "metadata": {},
   "outputs": [
    {
     "name": "stdout",
     "output_type": "stream",
     "text": [
      "              precision    recall  f1-score   support\n",
      "\n",
      "           0       1.00      1.00      1.00     13097\n",
      "           1       1.00      0.98      0.99      1235\n",
      "\n",
      "    accuracy                           1.00     14332\n",
      "   macro avg       1.00      0.99      0.99     14332\n",
      "weighted avg       1.00      1.00      1.00     14332\n",
      "\n"
     ]
    }
   ],
   "source": [
    "#metrics on train\n",
    "print(classification_report(y_train, imba_pipeline.predict(X_train)))"
   ]
  },
  {
   "cell_type": "code",
   "execution_count": 69,
   "metadata": {},
   "outputs": [
    {
     "data": {
      "text/plain": [
       "array([[13097,     0],\n",
       "       [   25,  1210]])"
      ]
     },
     "execution_count": 69,
     "metadata": {},
     "output_type": "execute_result"
    }
   ],
   "source": [
    "#confusion matrix on train\n",
    "confusion_matrix(y_train, imba_pipeline.predict(X_train))"
   ]
  },
  {
   "cell_type": "code",
   "execution_count": 70,
   "metadata": {},
   "outputs": [
    {
     "name": "stdout",
     "output_type": "stream",
     "text": [
      "              precision    recall  f1-score   support\n",
      "\n",
      "           0       0.92      0.86      0.89      3274\n",
      "           1       0.11      0.18      0.13       309\n",
      "\n",
      "    accuracy                           0.80      3583\n",
      "   macro avg       0.51      0.52      0.51      3583\n",
      "weighted avg       0.85      0.80      0.82      3583\n",
      "\n"
     ]
    }
   ],
   "source": [
    "#metrics on test\n",
    "print(classification_report(y_test, imba_preds))"
   ]
  },
  {
   "cell_type": "code",
   "execution_count": 71,
   "metadata": {},
   "outputs": [
    {
     "data": {
      "text/plain": [
       "array([[2816,  458],\n",
       "       [ 254,   55]])"
      ]
     },
     "execution_count": 71,
     "metadata": {},
     "output_type": "execute_result"
    }
   ],
   "source": [
    "#confusion matrix on test\n",
    "confusion_matrix(y_test, imba_pipeline.predict(X_test))"
   ]
  },
  {
   "cell_type": "code",
   "execution_count": 72,
   "metadata": {},
   "outputs": [],
   "source": [
    "# # trying to improve metric by finding optimal hyperparameters\n",
    "# grid_params_lr = [{'logisticregression__penalty': ['l1', 'l2'],\n",
    "#         'logisticregression__C': [1, 5, 10],\n",
    "#         'logisticregression__max_iter': [3, 5, 10],\n",
    "#         'logisticregression__intercept_scaling': [0.5, 1],\n",
    "#         'logisticregression__solver': ['liblinear']}] "
   ]
  },
  {
   "cell_type": "code",
   "execution_count": 73,
   "metadata": {},
   "outputs": [],
   "source": [
    "# gsearch_lr = GridSearchCV(estimator=imba_pipeline,\n",
    "#             param_grid=grid_params_lr,\n",
    "#             scoring='f1_weighted',\n",
    "#             cv=5) \n",
    "\n",
    "# gsearch_lr.fit(X_train, y_train)\n",
    "# print(gsearch_lr.best_params_)"
   ]
  },
  {
   "cell_type": "code",
   "execution_count": 164,
   "metadata": {},
   "outputs": [],
   "source": [
    "# trying to improve metric by finding optimal hyperparameters\n",
    "grid_params_dt = [{'decisiontreeclassifier__max_depth': [2, 4, 6],\n",
    "        'decisiontreeclassifier__min_samples_split': [2, 3],\n",
    "        'decisiontreeclassifier__min_samples_leaf': [1, 2, 4],\n",
    "        'decisiontreeclassifier__criterion': ['gini', 'entropy']}] "
   ]
  },
  {
   "cell_type": "code",
   "execution_count": 165,
   "metadata": {},
   "outputs": [
    {
     "name": "stdout",
     "output_type": "stream",
     "text": [
      "{'decisiontreeclassifier__criterion': 'gini', 'decisiontreeclassifier__max_depth': 6, 'decisiontreeclassifier__min_samples_leaf': 4, 'decisiontreeclassifier__min_samples_split': 2}\n"
     ]
    }
   ],
   "source": [
    "gsearch_dt = GridSearchCV(estimator=imba_pipeline,\n",
    "            param_grid=grid_params_dt,\n",
    "            scoring='f1_weighted',\n",
    "            cv=5) \n",
    "\n",
    "gsearch_dt.fit(X_train, y_train)\n",
    "print(gsearch_dt.best_params_)"
   ]
  },
  {
   "cell_type": "code",
   "execution_count": 166,
   "metadata": {},
   "outputs": [
    {
     "data": {
      "text/plain": [
       "0.7781347553478797"
      ]
     },
     "execution_count": 166,
     "metadata": {},
     "output_type": "execute_result"
    }
   ],
   "source": [
    "gsearch_dt.best_score_"
   ]
  },
  {
   "cell_type": "code",
   "execution_count": 167,
   "metadata": {},
   "outputs": [
    {
     "name": "stdout",
     "output_type": "stream",
     "text": [
      "              precision    recall  f1-score   support\n",
      "\n",
      "           0       0.93      0.73      0.82      3274\n",
      "           1       0.12      0.40      0.19       309\n",
      "\n",
      "    accuracy                           0.70      3583\n",
      "   macro avg       0.53      0.57      0.50      3583\n",
      "weighted avg       0.86      0.70      0.76      3583\n",
      "\n"
     ]
    }
   ],
   "source": [
    "#metrics on test\n",
    "print(classification_report(y_test, gsearch_dt.best_estimator_.predict(X_test)))"
   ]
  },
  {
   "cell_type": "code",
   "execution_count": 168,
   "metadata": {},
   "outputs": [
    {
     "data": {
      "text/plain": [
       "array([[2398,  876],\n",
       "       [ 186,  123]])"
      ]
     },
     "execution_count": 168,
     "metadata": {},
     "output_type": "execute_result"
    }
   ],
   "source": [
    "#confusion matrix on test\n",
    "confusion_matrix(y_test, gsearch_dt.best_estimator_.predict(X_test))"
   ]
  },
  {
   "cell_type": "code",
   "execution_count": 169,
   "metadata": {},
   "outputs": [],
   "source": [
    "coefs = gsearch_dt.best_estimator_.steps[2][1].feature_importances_"
   ]
  },
  {
   "cell_type": "code",
   "execution_count": 170,
   "metadata": {},
   "outputs": [],
   "source": [
    "feature_names = gsearch_dt.best_estimator_[:-1].get_feature_names_out()"
   ]
  },
  {
   "cell_type": "code",
   "execution_count": 171,
   "metadata": {},
   "outputs": [],
   "source": [
    "#zip coefficients and feature names together\n",
    "zipped = zip(feature_names, coefs)\n",
    "df = pd.DataFrame(zipped, columns=[\"feature\", \"value\"])"
   ]
  },
  {
   "cell_type": "code",
   "execution_count": 172,
   "metadata": {},
   "outputs": [],
   "source": [
    "# sort the features by the absolute value of their coefficient\n",
    "df[\"abs_value\"] = df[\"value\"].apply(lambda x: abs(x))\n",
    "df[\"colors\"] = df[\"value\"].apply(lambda x: \"green\" if x > 0 else \"red\")\n",
    "df = df.sort_values(\"abs_value\", ascending=False)"
   ]
  },
  {
   "cell_type": "code",
   "execution_count": 173,
   "metadata": {},
   "outputs": [
    {
     "data": {
      "text/html": [
       "<div>\n",
       "<style scoped>\n",
       "    .dataframe tbody tr th:only-of-type {\n",
       "        vertical-align: middle;\n",
       "    }\n",
       "\n",
       "    .dataframe tbody tr th {\n",
       "        vertical-align: top;\n",
       "    }\n",
       "\n",
       "    .dataframe thead th {\n",
       "        text-align: right;\n",
       "    }\n",
       "</style>\n",
       "<table border=\"1\" class=\"dataframe\">\n",
       "  <thead>\n",
       "    <tr style=\"text-align: right;\">\n",
       "      <th></th>\n",
       "      <th>feature</th>\n",
       "      <th>value</th>\n",
       "      <th>abs_value</th>\n",
       "      <th>colors</th>\n",
       "    </tr>\n",
       "  </thead>\n",
       "  <tbody>\n",
       "    <tr>\n",
       "      <td>25</td>\n",
       "      <td>cat__income_type_сотрудник</td>\n",
       "      <td>0.342297</td>\n",
       "      <td>0.342297</td>\n",
       "      <td>green</td>\n",
       "    </tr>\n",
       "    <tr>\n",
       "      <td>28</td>\n",
       "      <td>cat__lemm_purpose_недвижимость</td>\n",
       "      <td>0.121087</td>\n",
       "      <td>0.121087</td>\n",
       "      <td>green</td>\n",
       "    </tr>\n",
       "    <tr>\n",
       "      <td>1</td>\n",
       "      <td>num__days_employed</td>\n",
       "      <td>0.104772</td>\n",
       "      <td>0.104772</td>\n",
       "      <td>green</td>\n",
       "    </tr>\n",
       "    <tr>\n",
       "      <td>21</td>\n",
       "      <td>cat__income_type_госслужащий</td>\n",
       "      <td>0.085263</td>\n",
       "      <td>0.085263</td>\n",
       "      <td>green</td>\n",
       "    </tr>\n",
       "    <tr>\n",
       "      <td>18</td>\n",
       "      <td>cat__gender_M</td>\n",
       "      <td>0.077425</td>\n",
       "      <td>0.077425</td>\n",
       "      <td>green</td>\n",
       "    </tr>\n",
       "    <tr>\n",
       "      <td>2</td>\n",
       "      <td>num__dob_years</td>\n",
       "      <td>0.064290</td>\n",
       "      <td>0.064290</td>\n",
       "      <td>green</td>\n",
       "    </tr>\n",
       "    <tr>\n",
       "      <td>27</td>\n",
       "      <td>cat__lemm_purpose_жилье</td>\n",
       "      <td>0.048728</td>\n",
       "      <td>0.048728</td>\n",
       "      <td>green</td>\n",
       "    </tr>\n",
       "    <tr>\n",
       "      <td>10</td>\n",
       "      <td>cat__education_среднее</td>\n",
       "      <td>0.046971</td>\n",
       "      <td>0.046971</td>\n",
       "      <td>green</td>\n",
       "    </tr>\n",
       "    <tr>\n",
       "      <td>17</td>\n",
       "      <td>cat__gender_F</td>\n",
       "      <td>0.039241</td>\n",
       "      <td>0.039241</td>\n",
       "      <td>green</td>\n",
       "    </tr>\n",
       "    <tr>\n",
       "      <td>26</td>\n",
       "      <td>cat__lemm_purpose_автомобиль</td>\n",
       "      <td>0.026202</td>\n",
       "      <td>0.026202</td>\n",
       "      <td>green</td>\n",
       "    </tr>\n",
       "  </tbody>\n",
       "</table>\n",
       "</div>"
      ],
      "text/plain": [
       "                           feature     value  abs_value colors\n",
       "25      cat__income_type_сотрудник  0.342297   0.342297  green\n",
       "28  cat__lemm_purpose_недвижимость  0.121087   0.121087  green\n",
       "1               num__days_employed  0.104772   0.104772  green\n",
       "21    cat__income_type_госслужащий  0.085263   0.085263  green\n",
       "18                   cat__gender_M  0.077425   0.077425  green\n",
       "2                   num__dob_years  0.064290   0.064290  green\n",
       "27         cat__lemm_purpose_жилье  0.048728   0.048728  green\n",
       "10          cat__education_среднее  0.046971   0.046971  green\n",
       "17                   cat__gender_F  0.039241   0.039241  green\n",
       "26    cat__lemm_purpose_автомобиль  0.026202   0.026202  green"
      ]
     },
     "execution_count": 173,
     "metadata": {},
     "output_type": "execute_result"
    }
   ],
   "source": [
    "df.head(10)"
   ]
  },
  {
   "cell_type": "code",
   "execution_count": 174,
   "metadata": {},
   "outputs": [
    {
     "data": {
      "text/plain": [
       "Text(0.5, 0, 'Feature Name')"
      ]
     },
     "execution_count": 174,
     "metadata": {},
     "output_type": "execute_result"
    },
    {
     "data": {
      "image/png": "[encoded data removed]",
      "text/plain": [
       "<Figure size 864x504 with 1 Axes>"
      ]
     },
     "metadata": {
      "needs_background": "light"
     },
     "output_type": "display_data"
    }
   ],
   "source": [
    "# vizualize feature importances\n",
    "fig, ax = plt.subplots(1, 1, figsize=(12, 7))\n",
    "sns.barplot(x=\"feature\",\n",
    "            y=\"value\",\n",
    "            data=df,\n",
    "           palette=df[\"colors\"])\n",
    "ax.set_xticklabels(ax.get_xticklabels(), rotation=90, fontsize=20)\n",
    "ax.set_title(\"Features\", fontsize=25)\n",
    "ax.set_ylabel(\"Coef\", fontsize=22)\n",
    "ax.set_xlabel(\"Feature Name\", fontsize=22)"
   ]
  },
  {
   "cell_type": "markdown",
   "metadata": {},
   "source": [
    "### Conclusion:\n"
   ]
  },
  {
   "cell_type": "markdown",
   "metadata": {},
   "source": [
    "The most important features are linked with borrower's work, loan purpose and experience"
   ]
  },
  {
   "cell_type": "markdown",
   "metadata": {},
   "source": [
    "### Model Testing"
   ]
  },
  {
   "cell_type": "code",
   "execution_count": 175,
   "metadata": {},
   "outputs": [
    {
     "name": "stderr",
     "output_type": "stream",
     "text": [
      "/home/jovyan/.local/lib/python3.7/site-packages/sklearn/utils/deprecation.py:87: FutureWarning: Function plot_roc_curve is deprecated; Function :func:`plot_roc_curve` is deprecated in 1.0 and will be removed in 1.2. Use one of the class methods: :meth:`sklearn.metric.RocCurveDisplay.from_predictions` or :meth:`sklearn.metric.RocCurveDisplay.from_estimator`.\n",
      "  warnings.warn(msg, category=FutureWarning)\n"
     ]
    },
    {
     "data": {
      "text/plain": [
       "Text(0.5, 1.0, 'ROC curve')"
      ]
     },
     "execution_count": 175,
     "metadata": {},
     "output_type": "execute_result"
    },
    {
     "data": {
      "image/png": "[encoded data removed]",
      "text/plain": [
       "<Figure size 432x288 with 1 Axes>"
      ]
     },
     "metadata": {
      "needs_background": "light"
     },
     "output_type": "display_data"
    }
   ],
   "source": [
    "# plot ROC curve on train\n",
    "metrics.plot_roc_curve(gsearch_dt.best_estimator_, X_train, y_train)\n",
    "plt.title('ROC curve')"
   ]
  },
  {
   "cell_type": "code",
   "execution_count": 176,
   "metadata": {},
   "outputs": [
    {
     "name": "stderr",
     "output_type": "stream",
     "text": [
      "/home/jovyan/.local/lib/python3.7/site-packages/sklearn/utils/deprecation.py:87: FutureWarning: Function plot_roc_curve is deprecated; Function :func:`plot_roc_curve` is deprecated in 1.0 and will be removed in 1.2. Use one of the class methods: :meth:`sklearn.metric.RocCurveDisplay.from_predictions` or :meth:`sklearn.metric.RocCurveDisplay.from_estimator`.\n",
      "  warnings.warn(msg, category=FutureWarning)\n"
     ]
    },
    {
     "data": {
      "text/plain": [
       "Text(0.5, 1.0, 'ROC curve')"
      ]
     },
     "execution_count": 176,
     "metadata": {},
     "output_type": "execute_result"
    },
    {
     "data": {
      "image/png": "[encoded data removed]",
      "text/plain": [
       "<Figure size 432x288 with 1 Axes>"
      ]
     },
     "metadata": {
      "needs_background": "light"
     },
     "output_type": "display_data"
    }
   ],
   "source": [
    "# plot ROC curve on test\n",
    "metrics.plot_roc_curve(gsearch_dt.best_estimator_, X_test, y_test)\n",
    "plt.title('ROC curve')"
   ]
  },
  {
   "cell_type": "code",
   "execution_count": 177,
   "metadata": {},
   "outputs": [
    {
     "data": {
      "text/plain": [
       "0.5"
      ]
     },
     "execution_count": 177,
     "metadata": {},
     "output_type": "execute_result"
    }
   ],
   "source": [
    "#run dummy test\n",
    "dummy_clf = DummyClassifier(strategy=\"most_frequent\")\n",
    "dum = dummy_clf.fit(X, y)\n",
    "roc_auc_score(y, dum.predict_proba(X)[:, 1])"
   ]
  },
  {
   "cell_type": "markdown",
   "metadata": {},
   "source": [
    "### Conclusion:"
   ]
  },
  {
   "cell_type": "markdown",
   "metadata": {},
   "source": [
    "Dummy test shows that our model is not just so much better than a constant one"
   ]
  },
  {
   "cell_type": "markdown",
   "metadata": {},
   "source": [
    "## General Conclusion:"
   ]
  },
  {
   "cell_type": "markdown",
   "metadata": {},
   "source": [
    "Summarizing all the above we find out that:\n",
    "- The most solid borrowers have no children, are(or was) married, with high income. In other words people with life experience, permanent income and with no liability. Married couples with children who take loan to buy a car more often then others don't pay on time.\n",
    "- We've built a simple machine learning model (DesicionTreeClassifire algorhitm) to predict payment failures. It shows f1 score = 0.76, precision = 0.86, recall = 0.70, accuracy = 0.7. The most important features are linked with borrower's work, loan purpose and experience. It means the bank can use it to evaluate borrowers payability to avoid losses.\n"
   ]
  }
 ],
 "metadata": {
  "ExecuteTimeLog": [
   {
    "duration": 856,
    "start_time": "2021-06-27T06:46:48.404Z"
   },
   {
    "duration": 41,
    "start_time": "2021-06-27T06:48:02.006Z"
   },
   {
    "duration": 37,
    "start_time": "2021-06-27T06:49:54.615Z"
   },
   {
    "duration": 55,
    "start_time": "2021-06-27T06:50:03.596Z"
   },
   {
    "duration": 11884,
    "start_time": "2021-06-27T06:50:32.946Z"
   },
   {
    "duration": 872,
    "start_time": "2021-06-27T06:51:15.144Z"
   },
   {
    "duration": 20,
    "start_time": "2021-06-27T06:52:52.089Z"
   },
   {
    "duration": 17,
    "start_time": "2021-06-27T06:53:27.991Z"
   },
   {
    "duration": 15,
    "start_time": "2021-06-27T06:53:55.848Z"
   },
   {
    "duration": 16,
    "start_time": "2021-06-27T06:54:25.784Z"
   },
   {
    "duration": 890,
    "start_time": "2021-06-27T12:25:57.761Z"
   },
   {
    "duration": 61,
    "start_time": "2021-06-27T12:25:58.653Z"
   },
   {
    "duration": 43,
    "start_time": "2021-06-27T12:25:58.718Z"
   },
   {
    "duration": 98,
    "start_time": "2021-06-27T12:25:58.765Z"
   },
   {
    "duration": 13053,
    "start_time": "2021-06-27T12:25:58.866Z"
   },
   {
    "duration": 1022,
    "start_time": "2021-06-27T12:26:11.922Z"
   },
   {
    "duration": 21,
    "start_time": "2021-06-27T12:26:12.947Z"
   },
   {
    "duration": 45,
    "start_time": "2021-06-27T12:26:12.971Z"
   },
   {
    "duration": 16,
    "start_time": "2021-06-27T12:26:13.019Z"
   },
   {
    "duration": 17,
    "start_time": "2021-06-27T12:26:13.037Z"
   },
   {
    "duration": 885,
    "start_time": "2021-06-28T05:54:07.330Z"
   },
   {
    "duration": 477,
    "start_time": "2021-06-28T05:56:57.540Z"
   },
   {
    "duration": 50,
    "start_time": "2021-06-28T05:57:09.436Z"
   },
   {
    "duration": 53,
    "start_time": "2021-06-28T05:57:28.371Z"
   },
   {
    "duration": 51,
    "start_time": "2021-06-28T05:57:45.163Z"
   },
   {
    "duration": 53,
    "start_time": "2021-06-28T05:57:59.780Z"
   },
   {
    "duration": 70,
    "start_time": "2021-06-28T05:59:01.563Z"
   },
   {
    "duration": 62,
    "start_time": "2021-06-28T05:59:10.722Z"
   },
   {
    "duration": 69,
    "start_time": "2021-06-28T05:59:53.370Z"
   },
   {
    "duration": 76,
    "start_time": "2021-06-28T06:00:01.121Z"
   },
   {
    "duration": 73,
    "start_time": "2021-06-28T06:00:32.362Z"
   },
   {
    "duration": 75,
    "start_time": "2021-06-28T06:00:40.810Z"
   },
   {
    "duration": 902,
    "start_time": "2021-06-28T11:46:22.011Z"
   },
   {
    "duration": 175,
    "start_time": "2021-06-28T11:46:39.254Z"
   },
   {
    "duration": 17,
    "start_time": "2021-06-28T11:47:54.206Z"
   },
   {
    "duration": 64,
    "start_time": "2021-06-28T11:49:27.675Z"
   },
   {
    "duration": 14418,
    "start_time": "2021-06-28T11:49:57.636Z"
   },
   {
    "duration": 73427,
    "start_time": "2021-06-28T11:51:01.883Z"
   },
   {
    "duration": 23,
    "start_time": "2021-06-28T11:53:28.729Z"
   },
   {
    "duration": 17,
    "start_time": "2021-06-28T11:53:32.185Z"
   },
   {
    "duration": 17,
    "start_time": "2021-06-28T11:53:40.233Z"
   },
   {
    "duration": 17,
    "start_time": "2021-06-28T11:53:43.081Z"
   },
   {
    "duration": 95,
    "start_time": "2021-06-28T12:07:30.401Z"
   },
   {
    "duration": 315,
    "start_time": "2021-06-30T10:52:08.206Z"
   },
   {
    "duration": 828,
    "start_time": "2021-06-30T10:52:17.597Z"
   },
   {
    "duration": 171,
    "start_time": "2021-06-30T10:52:21.205Z"
   },
   {
    "duration": 6306,
    "start_time": "2021-06-30T10:52:35.341Z"
   },
   {
    "duration": 90,
    "start_time": "2021-06-30T10:52:57.886Z"
   },
   {
    "duration": 172,
    "start_time": "2021-06-30T10:53:01.220Z"
   },
   {
    "duration": 6113,
    "start_time": "2021-06-30T11:03:56.084Z"
   },
   {
    "duration": 5956,
    "start_time": "2021-06-30T11:04:18.268Z"
   },
   {
    "duration": 92,
    "start_time": "2021-06-30T11:04:30.757Z"
   },
   {
    "duration": 312,
    "start_time": "2021-06-30T11:04:37.124Z"
   },
   {
    "duration": 1540,
    "start_time": "2021-06-30T11:19:37.971Z"
   },
   {
    "duration": 6552,
    "start_time": "2021-06-30T11:37:07.615Z"
   },
   {
    "duration": 7068,
    "start_time": "2021-06-30T11:37:29.740Z"
   },
   {
    "duration": 6500,
    "start_time": "2021-06-30T11:37:37.332Z"
   },
   {
    "duration": 6842,
    "start_time": "2021-06-30T11:38:21.323Z"
   },
   {
    "duration": 108,
    "start_time": "2021-06-30T11:47:10.766Z"
   },
   {
    "duration": 93,
    "start_time": "2021-06-30T11:47:46.257Z"
   },
   {
    "duration": 2901,
    "start_time": "2021-06-30T15:09:18.857Z"
   },
   {
    "duration": 6106,
    "start_time": "2021-06-30T15:09:32.756Z"
   },
   {
    "duration": 2910,
    "start_time": "2021-06-30T15:10:36.057Z"
   },
   {
    "duration": 228,
    "start_time": "2021-06-30T15:13:01.656Z"
   },
   {
    "duration": 3801,
    "start_time": "2021-06-30T15:13:05.757Z"
   },
   {
    "duration": 303,
    "start_time": "2021-06-30T15:13:49.857Z"
   },
   {
    "duration": 504,
    "start_time": "2021-06-30T15:13:54.757Z"
   },
   {
    "duration": 484,
    "start_time": "2021-06-30T15:14:19.276Z"
   },
   {
    "duration": 596,
    "start_time": "2021-06-30T15:14:37.760Z"
   },
   {
    "duration": 764,
    "start_time": "2021-06-30T15:17:32.094Z"
   },
   {
    "duration": 479,
    "start_time": "2021-06-30T15:17:50.679Z"
   },
   {
    "duration": 720,
    "start_time": "2021-06-30T15:19:02.237Z"
   },
   {
    "duration": 396,
    "start_time": "2021-06-30T15:19:14.284Z"
   },
   {
    "duration": 701,
    "start_time": "2021-06-30T15:19:20.157Z"
   },
   {
    "duration": 302,
    "start_time": "2021-06-30T15:30:13.656Z"
   },
   {
    "duration": 5992,
    "start_time": "2021-06-30T15:30:18.696Z"
   },
   {
    "duration": 1309,
    "start_time": "2021-06-30T15:30:39.056Z"
   },
   {
    "duration": 318,
    "start_time": "2021-06-30T15:32:01.341Z"
   },
   {
    "duration": 704,
    "start_time": "2021-06-30T15:32:06.158Z"
   },
   {
    "duration": 707,
    "start_time": "2021-06-30T15:32:42.456Z"
   },
   {
    "duration": 703,
    "start_time": "2021-06-30T15:32:56.957Z"
   },
   {
    "duration": 298,
    "start_time": "2021-06-30T15:33:40.666Z"
   },
   {
    "duration": 610,
    "start_time": "2021-06-30T15:33:44.781Z"
   },
   {
    "duration": 2214,
    "start_time": "2021-06-30T15:34:46.760Z"
   },
   {
    "duration": 231,
    "start_time": "2021-06-30T15:35:15.756Z"
   },
   {
    "duration": 1325,
    "start_time": "2021-06-30T15:35:19.561Z"
   },
   {
    "duration": 901,
    "start_time": "2021-06-30T15:35:47.456Z"
   },
   {
    "duration": 891,
    "start_time": "2021-06-30T15:36:04.597Z"
   },
   {
    "duration": 701,
    "start_time": "2021-06-30T15:36:14.256Z"
   },
   {
    "duration": 9178,
    "start_time": "2021-06-30T15:36:38.988Z"
   },
   {
    "duration": 713,
    "start_time": "2021-06-30T15:37:01.056Z"
   },
   {
    "duration": 273,
    "start_time": "2021-06-30T15:39:46.088Z"
   },
   {
    "duration": 1310,
    "start_time": "2021-06-30T15:39:51.468Z"
   },
   {
    "duration": 8597,
    "start_time": "2021-06-30T15:40:58.871Z"
   },
   {
    "duration": 709,
    "start_time": "2021-06-30T15:41:23.458Z"
   },
   {
    "duration": 933,
    "start_time": "2021-07-01T12:39:01.182Z"
   },
   {
    "duration": 90,
    "start_time": "2021-07-01T12:39:07.859Z"
   },
   {
    "duration": 148,
    "start_time": "2021-07-01T12:39:26.445Z"
   },
   {
    "duration": 94,
    "start_time": "2021-07-01T12:41:08.777Z"
   },
   {
    "duration": 232,
    "start_time": "2021-07-01T12:41:12.208Z"
   },
   {
    "duration": 199,
    "start_time": "2021-07-01T12:41:42.970Z"
   },
   {
    "duration": 137,
    "start_time": "2021-07-01T12:42:28.793Z"
   },
   {
    "duration": 94,
    "start_time": "2021-07-01T12:42:38.086Z"
   },
   {
    "duration": 143,
    "start_time": "2021-07-01T12:42:41.326Z"
   },
   {
    "duration": 87,
    "start_time": "2021-07-01T12:43:50.349Z"
   },
   {
    "duration": 502,
    "start_time": "2021-07-01T12:44:16.335Z"
   },
   {
    "duration": 96,
    "start_time": "2021-07-01T12:44:35.421Z"
   },
   {
    "duration": 391,
    "start_time": "2021-07-01T12:44:38.656Z"
   },
   {
    "duration": 113,
    "start_time": "2021-07-01T12:44:52.724Z"
   },
   {
    "duration": 95,
    "start_time": "2021-07-01T12:46:01.743Z"
   },
   {
    "duration": 90,
    "start_time": "2021-07-01T12:46:12.268Z"
   },
   {
    "duration": 94,
    "start_time": "2021-07-01T12:46:57.755Z"
   },
   {
    "duration": 90,
    "start_time": "2021-07-01T12:47:22.507Z"
   },
   {
    "duration": 85,
    "start_time": "2021-07-01T12:47:34.881Z"
   },
   {
    "duration": 98,
    "start_time": "2021-07-01T12:47:57.227Z"
   },
   {
    "duration": 97,
    "start_time": "2021-07-01T12:48:58.341Z"
   },
   {
    "duration": 99,
    "start_time": "2021-07-01T12:49:25.825Z"
   },
   {
    "duration": 91,
    "start_time": "2021-07-01T12:51:40.984Z"
   },
   {
    "duration": 94,
    "start_time": "2021-07-01T12:53:02.392Z"
   },
   {
    "duration": 107,
    "start_time": "2021-07-01T14:08:35.454Z"
   },
   {
    "duration": 75,
    "start_time": "2021-07-01T14:08:45.450Z"
   },
   {
    "duration": 18,
    "start_time": "2021-07-01T14:09:08.488Z"
   },
   {
    "duration": 63,
    "start_time": "2021-07-01T14:09:20.559Z"
   },
   {
    "duration": 6360,
    "start_time": "2021-07-01T14:09:36.208Z"
   },
   {
    "duration": 105,
    "start_time": "2021-07-01T15:41:55.034Z"
   },
   {
    "duration": 859,
    "start_time": "2021-07-01T15:42:37.870Z"
   },
   {
    "duration": 71,
    "start_time": "2021-07-01T15:42:38.731Z"
   },
   {
    "duration": 24,
    "start_time": "2021-07-01T15:42:38.824Z"
   },
   {
    "duration": 84,
    "start_time": "2021-07-01T15:42:38.850Z"
   },
   {
    "duration": 5695,
    "start_time": "2021-07-01T15:42:38.937Z"
   },
   {
    "duration": 921,
    "start_time": "2021-07-01T18:04:27.507Z"
   },
   {
    "duration": 87,
    "start_time": "2021-07-01T18:04:28.432Z"
   },
   {
    "duration": 37,
    "start_time": "2021-07-01T18:04:28.522Z"
   },
   {
    "duration": 62,
    "start_time": "2021-07-01T18:04:28.563Z"
   },
   {
    "duration": 5944,
    "start_time": "2021-07-01T18:04:28.627Z"
   },
   {
    "duration": 65557,
    "start_time": "2021-07-01T18:04:34.574Z"
   },
   {
    "duration": 28,
    "start_time": "2021-07-01T18:05:40.133Z"
   },
   {
    "duration": 15,
    "start_time": "2021-07-01T18:05:40.164Z"
   },
   {
    "duration": 16,
    "start_time": "2021-07-01T18:05:40.182Z"
   },
   {
    "duration": 22,
    "start_time": "2021-07-01T18:05:40.200Z"
   },
   {
    "duration": 531925,
    "start_time": "2021-07-01T18:06:13.038Z"
   },
   {
    "duration": 142,
    "start_time": "2021-07-01T18:16:18.258Z"
   },
   {
    "duration": 89,
    "start_time": "2021-07-01T18:16:42.608Z"
   },
   {
    "duration": 86,
    "start_time": "2021-07-01T18:17:26.034Z"
   },
   {
    "duration": 975,
    "start_time": "2021-07-01T18:17:45.545Z"
   },
   {
    "duration": 99,
    "start_time": "2021-07-01T18:17:46.523Z"
   },
   {
    "duration": 33,
    "start_time": "2021-07-01T18:17:46.626Z"
   },
   {
    "duration": 62,
    "start_time": "2021-07-01T18:17:46.661Z"
   },
   {
    "duration": 6480,
    "start_time": "2021-07-01T18:17:46.725Z"
   },
   {
    "duration": 114,
    "start_time": "2021-07-01T18:17:53.207Z"
   },
   {
    "duration": -39,
    "start_time": "2021-07-01T18:17:53.363Z"
   },
   {
    "duration": -44,
    "start_time": "2021-07-01T18:17:53.369Z"
   },
   {
    "duration": -47,
    "start_time": "2021-07-01T18:17:53.374Z"
   },
   {
    "duration": -51,
    "start_time": "2021-07-01T18:17:53.379Z"
   },
   {
    "duration": 957,
    "start_time": "2021-07-02T04:30:37.645Z"
   },
   {
    "duration": 81,
    "start_time": "2021-07-02T04:30:42.194Z"
   },
   {
    "duration": 18,
    "start_time": "2021-07-02T04:30:51.530Z"
   },
   {
    "duration": 66,
    "start_time": "2021-07-02T04:30:55.569Z"
   },
   {
    "duration": 5676,
    "start_time": "2021-07-02T04:30:59.193Z"
   },
   {
    "duration": 38954,
    "start_time": "2021-07-02T04:31:28.522Z"
   },
   {
    "duration": 14162,
    "start_time": "2021-07-02T04:33:07.737Z"
   },
   {
    "duration": 108,
    "start_time": "2021-07-02T04:33:42.097Z"
   },
   {
    "duration": 100,
    "start_time": "2021-07-02T04:33:59.896Z"
   },
   {
    "duration": 79,
    "start_time": "2021-07-02T04:34:03.816Z"
   },
   {
    "duration": 17,
    "start_time": "2021-07-02T04:34:10.032Z"
   },
   {
    "duration": 71,
    "start_time": "2021-07-02T04:34:13.494Z"
   },
   {
    "duration": 94,
    "start_time": "2021-07-02T04:34:21.905Z"
   },
   {
    "duration": 22929,
    "start_time": "2021-07-02T04:40:10.297Z"
   },
   {
    "duration": 74177,
    "start_time": "2021-07-02T04:42:04.849Z"
   },
   {
    "duration": 104,
    "start_time": "2021-07-02T04:43:31.224Z"
   },
   {
    "duration": 73692,
    "start_time": "2021-07-02T04:43:47.008Z"
   },
   {
    "duration": 97,
    "start_time": "2021-07-02T04:45:00.703Z"
   },
   {
    "duration": 74,
    "start_time": "2021-07-02T04:45:42.863Z"
   },
   {
    "duration": 22,
    "start_time": "2021-07-02T04:45:45.830Z"
   },
   {
    "duration": 65,
    "start_time": "2021-07-02T04:45:50.631Z"
   },
   {
    "duration": 8,
    "start_time": "2021-07-02T04:46:02.359Z"
   },
   {
    "duration": 21570,
    "start_time": "2021-07-02T04:46:46.621Z"
   },
   {
    "duration": 12897,
    "start_time": "2021-07-02T04:47:49.581Z"
   },
   {
    "duration": 102,
    "start_time": "2021-07-02T04:49:12.790Z"
   },
   {
    "duration": 5775,
    "start_time": "2021-07-02T04:49:24.412Z"
   },
   {
    "duration": 99,
    "start_time": "2021-07-02T04:49:33.291Z"
   },
   {
    "duration": 99,
    "start_time": "2021-07-02T04:49:37.836Z"
   },
   {
    "duration": 97,
    "start_time": "2021-07-02T04:49:43.035Z"
   },
   {
    "duration": 110,
    "start_time": "2021-07-02T04:50:02.691Z"
   },
   {
    "duration": 822,
    "start_time": "2021-07-02T04:55:51.365Z"
   },
   {
    "duration": 81,
    "start_time": "2021-07-02T04:55:55.846Z"
   },
   {
    "duration": 19,
    "start_time": "2021-07-02T04:56:00.117Z"
   },
   {
    "duration": 63,
    "start_time": "2021-07-02T04:56:03.556Z"
   },
   {
    "duration": 9,
    "start_time": "2021-07-02T04:56:30.085Z"
   },
   {
    "duration": 1149,
    "start_time": "2021-07-02T10:00:52.605Z"
   },
   {
    "duration": 111,
    "start_time": "2021-07-02T10:00:57.932Z"
   },
   {
    "duration": 28,
    "start_time": "2021-07-02T10:01:02.242Z"
   },
   {
    "duration": 99,
    "start_time": "2021-07-02T10:01:05.294Z"
   },
   {
    "duration": 5537,
    "start_time": "2021-07-02T10:01:36.696Z"
   },
   {
    "duration": 99,
    "start_time": "2021-07-02T10:10:44.764Z"
   },
   {
    "duration": 69,
    "start_time": "2021-07-02T10:10:48.636Z"
   },
   {
    "duration": 17,
    "start_time": "2021-07-02T10:10:52.335Z"
   },
   {
    "duration": 63,
    "start_time": "2021-07-02T10:10:55.051Z"
   },
   {
    "duration": 5531,
    "start_time": "2021-07-02T10:11:04.283Z"
   },
   {
    "duration": 5977,
    "start_time": "2021-07-02T10:11:26.678Z"
   },
   {
    "duration": 16003,
    "start_time": "2021-07-02T10:12:30.058Z"
   },
   {
    "duration": 127,
    "start_time": "2021-07-02T10:14:08.232Z"
   },
   {
    "duration": 843,
    "start_time": "2021-07-02T10:15:42.670Z"
   },
   {
    "duration": 72,
    "start_time": "2021-07-02T10:15:47.391Z"
   },
   {
    "duration": 17,
    "start_time": "2021-07-02T10:15:50.223Z"
   },
   {
    "duration": 63,
    "start_time": "2021-07-02T10:15:52.799Z"
   },
   {
    "duration": 14147,
    "start_time": "2021-07-02T10:15:59.174Z"
   },
   {
    "duration": 105,
    "start_time": "2021-07-02T10:16:18.847Z"
   },
   {
    "duration": 90,
    "start_time": "2021-07-02T10:16:57.378Z"
   },
   {
    "duration": 95,
    "start_time": "2021-07-02T10:16:59.119Z"
   },
   {
    "duration": 72104,
    "start_time": "2021-07-02T10:18:14.797Z"
   },
   {
    "duration": 67697,
    "start_time": "2021-07-02T10:23:12.089Z"
   },
   {
    "duration": 844,
    "start_time": "2021-07-03T18:26:34.859Z"
   },
   {
    "duration": 225,
    "start_time": "2021-07-03T18:28:45.612Z"
   },
   {
    "duration": 237,
    "start_time": "2021-07-03T18:29:33.479Z"
   },
   {
    "duration": 239,
    "start_time": "2021-07-03T18:29:59.308Z"
   },
   {
    "duration": 4733,
    "start_time": "2021-07-03T18:32:41.012Z"
   },
   {
    "duration": 4563,
    "start_time": "2021-07-03T18:37:00.473Z"
   },
   {
    "duration": 230,
    "start_time": "2021-07-03T18:37:16.528Z"
   },
   {
    "duration": 238,
    "start_time": "2021-07-03T18:37:24.337Z"
   },
   {
    "duration": 234,
    "start_time": "2021-07-03T18:44:51.271Z"
   },
   {
    "duration": 241,
    "start_time": "2021-07-03T18:45:17.628Z"
   },
   {
    "duration": 229,
    "start_time": "2021-07-03T18:45:26.551Z"
   },
   {
    "duration": 58,
    "start_time": "2021-07-03T18:45:57.268Z"
   },
   {
    "duration": 66,
    "start_time": "2021-07-03T18:46:15.595Z"
   },
   {
    "duration": 71,
    "start_time": "2021-07-03T18:46:51.266Z"
   },
   {
    "duration": 5065,
    "start_time": "2021-07-03T18:48:06.545Z"
   },
   {
    "duration": 4578,
    "start_time": "2021-07-03T18:48:28.934Z"
   },
   {
    "duration": 67,
    "start_time": "2021-07-03T18:48:43.695Z"
   },
   {
    "duration": 81,
    "start_time": "2021-07-03T18:51:05.571Z"
   },
   {
    "duration": 69,
    "start_time": "2021-07-03T18:52:09.680Z"
   },
   {
    "duration": 66,
    "start_time": "2021-07-03T18:54:37.900Z"
   },
   {
    "duration": 66,
    "start_time": "2021-07-03T18:54:55.690Z"
   },
   {
    "duration": 82,
    "start_time": "2021-07-03T18:55:17.256Z"
   },
   {
    "duration": 79,
    "start_time": "2021-07-03T19:14:35.747Z"
   },
   {
    "duration": 74,
    "start_time": "2021-07-03T19:15:07.314Z"
   },
   {
    "duration": 80,
    "start_time": "2021-07-03T19:17:26.445Z"
   },
   {
    "duration": 80,
    "start_time": "2021-07-03T19:18:58.498Z"
   },
   {
    "duration": 246,
    "start_time": "2021-07-03T19:22:32.050Z"
   },
   {
    "duration": 255,
    "start_time": "2021-07-03T19:23:45.611Z"
   },
   {
    "duration": 251,
    "start_time": "2021-07-03T19:24:12.767Z"
   },
   {
    "duration": 250,
    "start_time": "2021-07-03T19:24:22.090Z"
   },
   {
    "duration": 60,
    "start_time": "2021-07-03T19:25:32.272Z"
   },
   {
    "duration": 70,
    "start_time": "2021-07-03T19:25:50.327Z"
   },
   {
    "duration": 263,
    "start_time": "2021-07-03T19:26:00.421Z"
   },
   {
    "duration": 266,
    "start_time": "2021-07-03T19:26:31.660Z"
   },
   {
    "duration": 75,
    "start_time": "2021-07-03T19:27:01.430Z"
   },
   {
    "duration": 75,
    "start_time": "2021-07-03T19:27:10.260Z"
   },
   {
    "duration": 247,
    "start_time": "2021-07-03T19:27:38.404Z"
   },
   {
    "duration": 300,
    "start_time": "2021-07-03T19:27:53.657Z"
   },
   {
    "duration": 249,
    "start_time": "2021-07-03T19:28:02.292Z"
   },
   {
    "duration": 257,
    "start_time": "2021-07-03T19:28:58.305Z"
   },
   {
    "duration": 78,
    "start_time": "2021-07-03T19:29:48.975Z"
   },
   {
    "duration": 247,
    "start_time": "2021-07-03T19:34:58.595Z"
   },
   {
    "duration": 78,
    "start_time": "2021-07-03T19:35:13.767Z"
   },
   {
    "duration": 67,
    "start_time": "2021-07-03T19:40:47.935Z"
   },
   {
    "duration": 271,
    "start_time": "2021-07-03T19:43:15.198Z"
   },
   {
    "duration": 79,
    "start_time": "2021-07-03T19:43:22.917Z"
   },
   {
    "duration": 489,
    "start_time": "2021-07-03T20:09:13.666Z"
   },
   {
    "duration": 501,
    "start_time": "2021-07-03T20:09:39.149Z"
   },
   {
    "duration": 6821,
    "start_time": "2021-07-03T20:12:52.814Z"
   },
   {
    "duration": 63,
    "start_time": "2021-07-03T20:15:35.736Z"
   },
   {
    "duration": 112,
    "start_time": "2021-07-03T20:16:06.958Z"
   },
   {
    "duration": 57,
    "start_time": "2021-07-03T20:16:25.797Z"
   },
   {
    "duration": 243,
    "start_time": "2021-07-03T20:16:33.676Z"
   },
   {
    "duration": 78,
    "start_time": "2021-07-03T20:17:52.086Z"
   },
   {
    "duration": 79,
    "start_time": "2021-07-03T20:18:15.962Z"
   },
   {
    "duration": 85,
    "start_time": "2021-07-03T20:18:34.833Z"
   },
   {
    "duration": 81,
    "start_time": "2021-07-03T20:20:06.296Z"
   },
   {
    "duration": 124,
    "start_time": "2021-07-03T20:20:35.638Z"
   },
   {
    "duration": 1799,
    "start_time": "2021-07-04T06:10:45.939Z"
   },
   {
    "duration": 120,
    "start_time": "2021-07-04T06:12:51.062Z"
   },
   {
    "duration": 694,
    "start_time": "2021-07-04T06:15:06.568Z"
   },
   {
    "duration": 644,
    "start_time": "2021-07-04T06:15:23.328Z"
   },
   {
    "duration": 555,
    "start_time": "2021-07-04T06:16:59.831Z"
   },
   {
    "duration": 590,
    "start_time": "2021-07-04T06:17:40.415Z"
   },
   {
    "duration": 606,
    "start_time": "2021-07-04T06:18:25.928Z"
   },
   {
    "duration": 557,
    "start_time": "2021-07-04T06:18:35.801Z"
   },
   {
    "duration": 584,
    "start_time": "2021-07-04T06:18:49.737Z"
   },
   {
    "duration": 557,
    "start_time": "2021-07-04T06:18:59.276Z"
   },
   {
    "duration": 584,
    "start_time": "2021-07-04T06:19:30.376Z"
   },
   {
    "duration": 610,
    "start_time": "2021-07-04T06:21:02.398Z"
   },
   {
    "duration": 585,
    "start_time": "2021-07-04T06:23:06.527Z"
   },
   {
    "duration": 568,
    "start_time": "2021-07-04T06:23:31.813Z"
   },
   {
    "duration": 658,
    "start_time": "2021-07-04T06:25:02.043Z"
   },
   {
    "duration": 937,
    "start_time": "2021-07-04T06:25:37.607Z"
   },
   {
    "duration": 922,
    "start_time": "2021-07-04T06:26:01.801Z"
   },
   {
    "duration": 818,
    "start_time": "2021-07-04T06:26:26.759Z"
   },
   {
    "duration": 873,
    "start_time": "2021-07-04T06:26:41.750Z"
   },
   {
    "duration": 616,
    "start_time": "2021-07-04T06:27:06.725Z"
   },
   {
    "duration": 697,
    "start_time": "2021-07-04T06:27:25.708Z"
   },
   {
    "duration": 667,
    "start_time": "2021-07-04T08:21:49.560Z"
   },
   {
    "duration": 903,
    "start_time": "2021-07-04T08:22:05.902Z"
   },
   {
    "duration": 760,
    "start_time": "2021-07-04T08:22:17.604Z"
   },
   {
    "duration": 803,
    "start_time": "2021-07-04T08:22:53.424Z"
   },
   {
    "duration": 751,
    "start_time": "2021-07-04T08:23:30.876Z"
   },
   {
    "duration": 860,
    "start_time": "2021-07-04T08:24:43.797Z"
   },
   {
    "duration": 110,
    "start_time": "2021-07-04T08:25:11.733Z"
   },
   {
    "duration": 105,
    "start_time": "2021-07-04T08:26:01.372Z"
   },
   {
    "duration": 511,
    "start_time": "2021-07-04T08:37:12.202Z"
   },
   {
    "duration": 71,
    "start_time": "2021-07-04T09:29:04.186Z"
   },
   {
    "duration": 103,
    "start_time": "2021-07-04T09:29:25.136Z"
   },
   {
    "duration": 110,
    "start_time": "2021-07-04T09:51:22.511Z"
   },
   {
    "duration": 105,
    "start_time": "2021-07-04T10:09:41.169Z"
   },
   {
    "duration": 9067,
    "start_time": "2021-07-04T10:09:57.819Z"
   },
   {
    "duration": 107,
    "start_time": "2021-07-04T10:10:20.607Z"
   },
   {
    "duration": 75,
    "start_time": "2021-07-04T10:11:14.403Z"
   },
   {
    "duration": 684258,
    "start_time": "2021-07-04T10:44:51.133Z"
   },
   {
    "duration": 691049,
    "start_time": "2021-07-04T12:16:29.230Z"
   },
   {
    "duration": 683178,
    "start_time": "2021-07-04T12:29:00.581Z"
   },
   {
    "duration": 736,
    "start_time": "2021-07-04T12:41:32.280Z"
   },
   {
    "duration": 678,
    "start_time": "2021-07-04T12:41:47.450Z"
   },
   {
    "duration": 667103,
    "start_time": "2021-07-04T12:42:14.099Z"
   },
   {
    "duration": 744,
    "start_time": "2021-07-04T12:55:33.062Z"
   },
   {
    "duration": 1009,
    "start_time": "2021-07-04T12:56:11.382Z"
   },
   {
    "duration": 284454,
    "start_time": "2021-07-04T12:57:16.544Z"
   },
   {
    "duration": 606,
    "start_time": "2021-07-04T13:03:31.762Z"
   },
   {
    "duration": 592,
    "start_time": "2021-07-04T13:03:45.343Z"
   },
   {
    "duration": 600,
    "start_time": "2021-07-04T13:04:10.512Z"
   },
   {
    "duration": 280750,
    "start_time": "2021-07-04T13:04:19.407Z"
   },
   {
    "duration": 282673,
    "start_time": "2021-07-04T13:09:31.307Z"
   },
   {
    "duration": 282616,
    "start_time": "2021-07-04T13:14:57.439Z"
   },
   {
    "duration": 281354,
    "start_time": "2021-07-04T13:20:41.621Z"
   },
   {
    "duration": 299441,
    "start_time": "2021-07-04T13:36:23.161Z"
   },
   {
    "duration": 286289,
    "start_time": "2021-07-04T13:42:22.481Z"
   },
   {
    "duration": 108,
    "start_time": "2021-07-04T13:51:25.866Z"
   },
   {
    "duration": 109,
    "start_time": "2021-07-04T13:51:41.458Z"
   },
   {
    "duration": 109,
    "start_time": "2021-07-04T13:51:55.235Z"
   },
   {
    "duration": 112,
    "start_time": "2021-07-04T13:52:19.181Z"
   },
   {
    "duration": 107,
    "start_time": "2021-07-04T13:52:42.763Z"
   },
   {
    "duration": 285299,
    "start_time": "2021-07-04T14:03:31.654Z"
   },
   {
    "duration": 953,
    "start_time": "2021-07-04T14:10:16.121Z"
   },
   {
    "duration": 731,
    "start_time": "2021-07-04T14:11:09.641Z"
   },
   {
    "duration": 601,
    "start_time": "2021-07-04T14:19:46.803Z"
   },
   {
    "duration": 659,
    "start_time": "2021-07-04T14:20:08.587Z"
   },
   {
    "duration": 623,
    "start_time": "2021-07-04T14:20:26.579Z"
   },
   {
    "duration": 105,
    "start_time": "2021-07-04T14:21:22.379Z"
   },
   {
    "duration": 612,
    "start_time": "2021-07-04T14:21:33.802Z"
   },
   {
    "duration": 726,
    "start_time": "2021-07-04T14:22:11.289Z"
   },
   {
    "duration": 833,
    "start_time": "2021-07-04T14:23:14.969Z"
   },
   {
    "duration": 577,
    "start_time": "2021-07-04T14:23:39.853Z"
   },
   {
    "duration": 560,
    "start_time": "2021-07-04T14:24:02.712Z"
   },
   {
    "duration": 581,
    "start_time": "2021-07-04T14:24:35.337Z"
   },
   {
    "duration": 598,
    "start_time": "2021-07-04T16:40:35.292Z"
   },
   {
    "duration": 546,
    "start_time": "2021-07-04T16:42:40.187Z"
   },
   {
    "duration": 451,
    "start_time": "2021-07-04T16:43:21.476Z"
   },
   {
    "duration": 58,
    "start_time": "2021-07-04T16:44:29.955Z"
   },
   {
    "duration": 1089,
    "start_time": "2021-07-04T16:48:48.488Z"
   },
   {
    "duration": 470,
    "start_time": "2021-07-04T16:49:16.508Z"
   },
   {
    "duration": 679,
    "start_time": "2021-07-04T16:49:29.983Z"
   },
   {
    "duration": 646,
    "start_time": "2021-07-04T16:50:16.082Z"
   },
   {
    "duration": 614,
    "start_time": "2021-07-04T16:50:26.686Z"
   },
   {
    "duration": 660,
    "start_time": "2021-07-04T16:50:49.530Z"
   },
   {
    "duration": 674,
    "start_time": "2021-07-04T16:51:13.728Z"
   },
   {
    "duration": 770,
    "start_time": "2021-07-04T16:51:58.294Z"
   },
   {
    "duration": 1512,
    "start_time": "2021-07-04T17:02:19.340Z"
   },
   {
    "duration": 83,
    "start_time": "2021-07-04T17:06:47.286Z"
   },
   {
    "duration": 72,
    "start_time": "2021-07-04T17:08:49.730Z"
   },
   {
    "duration": 59,
    "start_time": "2021-07-04T17:10:37.814Z"
   },
   {
    "duration": 168780,
    "start_time": "2021-07-04T17:12:03.495Z"
   },
   {
    "duration": 470,
    "start_time": "2021-07-04T17:15:38.405Z"
   },
   {
    "duration": 479,
    "start_time": "2021-07-04T17:22:58.634Z"
   },
   {
    "duration": 612,
    "start_time": "2021-07-04T17:27:30.914Z"
   },
   {
    "duration": 789,
    "start_time": "2021-07-05T07:12:58.281Z"
   },
   {
    "duration": 1130,
    "start_time": "2022-02-21T18:15:41.478Z"
   },
   {
    "duration": 62,
    "start_time": "2022-02-21T18:15:42.611Z"
   },
   {
    "duration": 448,
    "start_time": "2022-02-21T18:15:42.677Z"
   },
   {
    "duration": 652,
    "start_time": "2022-02-21T18:15:43.128Z"
   },
   {
    "duration": 1273,
    "start_time": "2022-02-21T18:15:43.783Z"
   },
   {
    "duration": 1470,
    "start_time": "2022-02-21T18:15:45.060Z"
   },
   {
    "duration": 970,
    "start_time": "2022-02-21T18:15:46.533Z"
   },
   {
    "duration": 24692,
    "start_time": "2022-02-21T18:15:47.507Z"
   },
   {
    "duration": 74683,
    "start_time": "2022-02-21T18:16:12.202Z"
   },
   {
    "duration": 30,
    "start_time": "2022-02-21T18:17:26.888Z"
   },
   {
    "duration": 553,
    "start_time": "2022-02-21T18:17:26.921Z"
   },
   {
    "duration": 1484,
    "start_time": "2022-02-21T18:17:27.476Z"
   },
   {
    "duration": 483,
    "start_time": "2022-02-21T18:17:28.963Z"
   },
   {
    "duration": 983,
    "start_time": "2022-02-21T18:17:29.449Z"
   },
   {
    "duration": 368,
    "start_time": "2022-02-22T10:10:39.086Z"
   },
   {
    "duration": -381,
    "start_time": "2022-02-22T10:10:39.837Z"
   },
   {
    "duration": -389,
    "start_time": "2022-02-22T10:10:39.846Z"
   },
   {
    "duration": -391,
    "start_time": "2022-02-22T10:10:39.849Z"
   },
   {
    "duration": -393,
    "start_time": "2022-02-22T10:10:39.852Z"
   },
   {
    "duration": -400,
    "start_time": "2022-02-22T10:10:39.860Z"
   },
   {
    "duration": -402,
    "start_time": "2022-02-22T10:10:39.863Z"
   },
   {
    "duration": -403,
    "start_time": "2022-02-22T10:10:39.865Z"
   },
   {
    "duration": -404,
    "start_time": "2022-02-22T10:10:39.867Z"
   },
   {
    "duration": 536,
    "start_time": "2022-02-22T10:11:00.097Z"
   },
   {
    "duration": 47,
    "start_time": "2022-02-22T10:11:00.635Z"
   },
   {
    "duration": 11,
    "start_time": "2022-02-22T10:11:00.684Z"
   },
   {
    "duration": 17,
    "start_time": "2022-02-22T10:11:00.698Z"
   },
   {
    "duration": 47,
    "start_time": "2022-02-22T10:11:00.716Z"
   },
   {
    "duration": 7,
    "start_time": "2022-02-22T10:11:00.765Z"
   },
   {
    "duration": 8,
    "start_time": "2022-02-22T10:11:00.774Z"
   },
   {
    "duration": 339,
    "start_time": "2022-02-22T10:11:00.784Z"
   },
   {
    "duration": -516,
    "start_time": "2022-02-22T10:11:01.641Z"
   },
   {
    "duration": -528,
    "start_time": "2022-02-22T10:11:01.654Z"
   },
   {
    "duration": 24,
    "start_time": "2022-02-22T10:11:22.037Z"
   },
   {
    "duration": 24,
    "start_time": "2022-02-22T10:12:21.653Z"
   },
   {
    "duration": 8,
    "start_time": "2022-02-22T10:13:06.259Z"
   },
   {
    "duration": 5,
    "start_time": "2022-02-22T10:13:12.740Z"
   },
   {
    "duration": 10,
    "start_time": "2022-02-22T10:13:17.220Z"
   },
   {
    "duration": 1262,
    "start_time": "2022-02-22T14:21:48.095Z"
   },
   {
    "duration": 963,
    "start_time": "2022-02-22T14:22:06.413Z"
   },
   {
    "duration": 93,
    "start_time": "2022-02-22T14:22:07.380Z"
   },
   {
    "duration": 23,
    "start_time": "2022-02-22T14:22:07.477Z"
   },
   {
    "duration": 67,
    "start_time": "2022-02-22T14:22:07.503Z"
   },
   {
    "duration": 48,
    "start_time": "2022-02-22T14:22:07.573Z"
   },
   {
    "duration": 41,
    "start_time": "2022-02-22T14:22:07.623Z"
   },
   {
    "duration": 11,
    "start_time": "2022-02-22T14:22:07.667Z"
   },
   {
    "duration": 45,
    "start_time": "2022-02-22T14:22:07.682Z"
   },
   {
    "duration": 45,
    "start_time": "2022-02-22T14:22:07.730Z"
   },
   {
    "duration": 8,
    "start_time": "2022-02-22T14:22:07.778Z"
   },
   {
    "duration": 18,
    "start_time": "2022-02-22T14:22:07.789Z"
   },
   {
    "duration": 58,
    "start_time": "2022-02-22T14:22:07.810Z"
   },
   {
    "duration": 57,
    "start_time": "2022-02-22T14:22:07.871Z"
   },
   {
    "duration": 32,
    "start_time": "2022-02-22T14:22:07.931Z"
   },
   {
    "duration": 15,
    "start_time": "2022-02-22T14:22:07.966Z"
   },
   {
    "duration": 7,
    "start_time": "2022-02-22T14:22:07.984Z"
   },
   {
    "duration": 14,
    "start_time": "2022-02-22T14:22:07.996Z"
   },
   {
    "duration": 51,
    "start_time": "2022-02-22T14:22:08.012Z"
   },
   {
    "duration": 15,
    "start_time": "2022-02-22T14:22:08.066Z"
   },
   {
    "duration": 93,
    "start_time": "2022-02-22T14:22:08.084Z"
   },
   {
    "duration": -2540,
    "start_time": "2022-02-22T14:22:10.721Z"
   },
   {
    "duration": -2545,
    "start_time": "2022-02-22T14:22:10.728Z"
   },
   {
    "duration": -2561,
    "start_time": "2022-02-22T14:22:10.746Z"
   },
   {
    "duration": -2565,
    "start_time": "2022-02-22T14:22:10.752Z"
   },
   {
    "duration": -2567,
    "start_time": "2022-02-22T14:22:10.756Z"
   },
   {
    "duration": -2586,
    "start_time": "2022-02-22T14:22:10.777Z"
   },
   {
    "duration": -2589,
    "start_time": "2022-02-22T14:22:10.783Z"
   },
   {
    "duration": 8216,
    "start_time": "2022-02-22T14:22:28.571Z"
   },
   {
    "duration": 25,
    "start_time": "2022-02-22T14:22:36.790Z"
   },
   {
    "duration": 874,
    "start_time": "2022-02-22T14:22:36.820Z"
   },
   {
    "duration": 72966,
    "start_time": "2022-02-22T14:22:37.697Z"
   },
   {
    "duration": 21,
    "start_time": "2022-02-22T14:23:50.666Z"
   },
   {
    "duration": 18,
    "start_time": "2022-02-22T14:23:50.690Z"
   },
   {
    "duration": 52,
    "start_time": "2022-02-22T14:23:50.711Z"
   },
   {
    "duration": 17,
    "start_time": "2022-02-22T14:23:50.765Z"
   },
   {
    "duration": 6,
    "start_time": "2022-02-22T14:25:04.120Z"
   },
   {
    "duration": 6,
    "start_time": "2022-02-22T14:25:39.434Z"
   },
   {
    "duration": 39,
    "start_time": "2022-02-22T14:25:54.255Z"
   },
   {
    "duration": 50,
    "start_time": "2022-02-22T14:26:09.105Z"
   },
   {
    "duration": 11,
    "start_time": "2022-02-22T14:27:05.180Z"
   },
   {
    "duration": 11,
    "start_time": "2022-02-22T14:28:24.100Z"
   },
   {
    "duration": 10,
    "start_time": "2022-02-22T14:28:44.560Z"
   },
   {
    "duration": 15,
    "start_time": "2022-02-22T14:29:01.590Z"
   },
   {
    "duration": 10,
    "start_time": "2022-02-22T14:29:27.910Z"
   },
   {
    "duration": 44,
    "start_time": "2022-02-22T14:29:41.789Z"
   },
   {
    "duration": 80,
    "start_time": "2022-02-22T14:31:14.760Z"
   },
   {
    "duration": 4,
    "start_time": "2022-02-22T14:31:51.302Z"
   },
   {
    "duration": 71,
    "start_time": "2022-02-22T14:31:51.309Z"
   },
   {
    "duration": 17,
    "start_time": "2022-02-22T14:31:51.383Z"
   },
   {
    "duration": 20,
    "start_time": "2022-02-22T14:31:51.403Z"
   },
   {
    "duration": 79,
    "start_time": "2022-02-22T14:31:51.426Z"
   },
   {
    "duration": 11,
    "start_time": "2022-02-22T14:31:51.508Z"
   },
   {
    "duration": 41,
    "start_time": "2022-02-22T14:31:51.522Z"
   },
   {
    "duration": 45,
    "start_time": "2022-02-22T14:32:03.859Z"
   },
   {
    "duration": 46,
    "start_time": "2022-02-22T14:33:14.449Z"
   },
   {
    "duration": 375,
    "start_time": "2022-02-22T14:36:09.765Z"
   },
   {
    "duration": 283,
    "start_time": "2022-02-22T14:36:15.255Z"
   },
   {
    "duration": 285,
    "start_time": "2022-02-22T14:36:22.075Z"
   },
   {
    "duration": 15,
    "start_time": "2022-02-22T14:36:27.005Z"
   },
   {
    "duration": 27,
    "start_time": "2022-02-22T14:41:29.026Z"
   },
   {
    "duration": 7,
    "start_time": "2022-02-22T14:44:08.895Z"
   },
   {
    "duration": 573,
    "start_time": "2022-02-22T14:45:17.875Z"
   },
   {
    "duration": 17,
    "start_time": "2022-02-22T14:45:24.286Z"
   },
   {
    "duration": 6,
    "start_time": "2022-02-22T14:46:06.218Z"
   },
   {
    "duration": 29,
    "start_time": "2022-02-22T14:48:20.345Z"
   },
   {
    "duration": 7,
    "start_time": "2022-02-22T14:50:55.527Z"
   },
   {
    "duration": 15,
    "start_time": "2022-02-22T14:51:40.561Z"
   },
   {
    "duration": 6,
    "start_time": "2022-02-22T14:53:37.627Z"
   },
   {
    "duration": 85,
    "start_time": "2022-02-22T14:53:37.637Z"
   },
   {
    "duration": 44,
    "start_time": "2022-02-22T14:53:37.727Z"
   },
   {
    "duration": 29,
    "start_time": "2022-02-22T14:53:37.775Z"
   },
   {
    "duration": 109,
    "start_time": "2022-02-22T14:53:37.807Z"
   },
   {
    "duration": 13,
    "start_time": "2022-02-22T14:53:37.919Z"
   },
   {
    "duration": 15,
    "start_time": "2022-02-22T14:53:37.962Z"
   },
   {
    "duration": 95,
    "start_time": "2022-02-22T14:53:37.980Z"
   },
   {
    "duration": 14,
    "start_time": "2022-02-22T14:53:38.079Z"
   },
   {
    "duration": 8,
    "start_time": "2022-02-22T14:53:38.098Z"
   },
   {
    "duration": 62,
    "start_time": "2022-02-22T14:53:38.109Z"
   },
   {
    "duration": 29,
    "start_time": "2022-02-22T14:53:38.174Z"
   },
   {
    "duration": 121,
    "start_time": "2022-02-22T14:53:38.206Z"
   },
   {
    "duration": 31,
    "start_time": "2022-02-22T14:53:38.330Z"
   },
   {
    "duration": 14,
    "start_time": "2022-02-22T14:53:38.365Z"
   },
   {
    "duration": 9,
    "start_time": "2022-02-22T14:53:38.383Z"
   },
   {
    "duration": 18,
    "start_time": "2022-02-22T14:53:38.395Z"
   },
   {
    "duration": 46,
    "start_time": "2022-02-22T14:53:38.417Z"
   },
   {
    "duration": 16,
    "start_time": "2022-02-22T14:53:38.466Z"
   },
   {
    "duration": 7839,
    "start_time": "2022-02-22T14:53:38.485Z"
   },
   {
    "duration": 43,
    "start_time": "2022-02-22T14:53:46.327Z"
   },
   {
    "duration": 437,
    "start_time": "2022-02-22T14:53:46.372Z"
   },
   {
    "duration": 71798,
    "start_time": "2022-02-22T14:53:46.811Z"
   },
   {
    "duration": 19,
    "start_time": "2022-02-22T14:54:58.611Z"
   },
   {
    "duration": 38,
    "start_time": "2022-02-22T14:54:58.633Z"
   },
   {
    "duration": 17,
    "start_time": "2022-02-22T14:54:58.673Z"
   },
   {
    "duration": 16,
    "start_time": "2022-02-22T14:54:58.696Z"
   },
   {
    "duration": 47,
    "start_time": "2022-02-22T14:54:58.715Z"
   },
   {
    "duration": 20,
    "start_time": "2022-02-22T14:54:58.764Z"
   },
   {
    "duration": 7,
    "start_time": "2022-02-22T14:54:58.787Z"
   },
   {
    "duration": 17,
    "start_time": "2022-02-22T14:54:58.797Z"
   },
   {
    "duration": 6,
    "start_time": "2022-02-22T14:54:58.817Z"
   },
   {
    "duration": 10,
    "start_time": "2022-02-22T14:54:58.862Z"
   },
   {
    "duration": 21,
    "start_time": "2022-02-22T14:54:58.875Z"
   },
   {
    "duration": 29,
    "start_time": "2022-02-22T14:55:57.626Z"
   },
   {
    "duration": 23,
    "start_time": "2022-02-22T14:58:24.235Z"
   },
   {
    "duration": 8,
    "start_time": "2022-02-22T15:00:19.961Z"
   },
   {
    "duration": 7,
    "start_time": "2022-02-22T15:00:22.781Z"
   },
   {
    "duration": 15,
    "start_time": "2022-02-22T15:00:27.201Z"
   },
   {
    "duration": 7,
    "start_time": "2022-02-22T15:00:29.822Z"
   },
   {
    "duration": 5,
    "start_time": "2022-02-22T15:02:11.241Z"
   },
   {
    "duration": 347,
    "start_time": "2022-02-22T15:02:39.342Z"
   },
   {
    "duration": 13,
    "start_time": "2022-02-22T15:04:28.391Z"
   },
   {
    "duration": 4,
    "start_time": "2022-02-22T15:04:35.081Z"
   },
   {
    "duration": 3,
    "start_time": "2022-02-22T15:05:41.381Z"
   },
   {
    "duration": 4,
    "start_time": "2022-02-22T15:05:46.210Z"
   },
   {
    "duration": 137,
    "start_time": "2022-02-22T15:06:13.830Z"
   },
   {
    "duration": 18,
    "start_time": "2022-02-22T15:06:46.950Z"
   },
   {
    "duration": 280,
    "start_time": "2022-02-22T15:07:35.025Z"
   },
   {
    "duration": 5,
    "start_time": "2022-02-22T15:08:03.455Z"
   },
   {
    "duration": 12,
    "start_time": "2022-02-22T15:10:40.335Z"
   },
   {
    "duration": 32,
    "start_time": "2022-02-22T15:11:16.605Z"
   },
   {
    "duration": 8,
    "start_time": "2022-02-22T15:11:16.641Z"
   },
   {
    "duration": 6,
    "start_time": "2022-02-22T15:11:16.651Z"
   },
   {
    "duration": 4,
    "start_time": "2022-02-22T15:11:16.679Z"
   },
   {
    "duration": 4,
    "start_time": "2022-02-22T15:11:16.696Z"
   },
   {
    "duration": 5,
    "start_time": "2022-02-22T15:11:16.703Z"
   },
   {
    "duration": 131,
    "start_time": "2022-02-22T15:11:16.710Z"
   },
   {
    "duration": 28,
    "start_time": "2022-02-22T15:11:16.843Z"
   },
   {
    "duration": 9,
    "start_time": "2022-02-22T15:11:16.874Z"
   },
   {
    "duration": 24,
    "start_time": "2022-02-22T15:11:34.590Z"
   },
   {
    "duration": 7,
    "start_time": "2022-02-22T15:11:36.215Z"
   },
   {
    "duration": 4,
    "start_time": "2022-02-22T15:11:38.200Z"
   },
   {
    "duration": 5,
    "start_time": "2022-02-22T15:11:39.020Z"
   },
   {
    "duration": 4,
    "start_time": "2022-02-22T15:11:40.041Z"
   },
   {
    "duration": 4,
    "start_time": "2022-02-22T15:11:41.660Z"
   },
   {
    "duration": 167,
    "start_time": "2022-02-22T15:11:46.691Z"
   },
   {
    "duration": 19,
    "start_time": "2022-02-22T15:11:55.970Z"
   },
   {
    "duration": 14,
    "start_time": "2022-02-22T15:11:56.930Z"
   },
   {
    "duration": 8,
    "start_time": "2022-02-22T15:12:20.180Z"
   },
   {
    "duration": 9,
    "start_time": "2022-02-22T15:13:04.183Z"
   },
   {
    "duration": 6,
    "start_time": "2022-02-22T15:13:10.780Z"
   },
   {
    "duration": 11,
    "start_time": "2022-02-22T15:13:13.340Z"
   },
   {
    "duration": 7,
    "start_time": "2022-02-22T15:13:27.675Z"
   },
   {
    "duration": 10,
    "start_time": "2022-02-22T15:14:41.015Z"
   },
   {
    "duration": 13,
    "start_time": "2022-02-22T15:15:06.091Z"
   },
   {
    "duration": 46,
    "start_time": "2022-02-22T15:17:02.210Z"
   },
   {
    "duration": 306,
    "start_time": "2022-02-22T15:17:39.651Z"
   },
   {
    "duration": 43,
    "start_time": "2022-02-22T15:17:51.801Z"
   },
   {
    "duration": 522,
    "start_time": "2022-02-22T15:21:01.420Z"
   },
   {
    "duration": 5,
    "start_time": "2022-02-22T15:22:14.956Z"
   },
   {
    "duration": 14,
    "start_time": "2022-02-22T15:23:10.656Z"
   },
   {
    "duration": 6,
    "start_time": "2022-02-22T15:23:24.196Z"
   },
   {
    "duration": 68,
    "start_time": "2022-02-22T15:23:24.205Z"
   },
   {
    "duration": 14,
    "start_time": "2022-02-22T15:23:24.276Z"
   },
   {
    "duration": 23,
    "start_time": "2022-02-22T15:23:24.294Z"
   },
   {
    "duration": 100,
    "start_time": "2022-02-22T15:23:24.319Z"
   },
   {
    "duration": 10,
    "start_time": "2022-02-22T15:23:24.422Z"
   },
   {
    "duration": 33,
    "start_time": "2022-02-22T15:23:24.434Z"
   },
   {
    "duration": 91,
    "start_time": "2022-02-22T15:23:24.470Z"
   },
   {
    "duration": 17,
    "start_time": "2022-02-22T15:23:24.565Z"
   },
   {
    "duration": 8,
    "start_time": "2022-02-22T15:23:24.586Z"
   },
   {
    "duration": 64,
    "start_time": "2022-02-22T15:23:24.597Z"
   },
   {
    "duration": 20,
    "start_time": "2022-02-22T15:23:24.664Z"
   },
   {
    "duration": 94,
    "start_time": "2022-02-22T15:23:24.686Z"
   },
   {
    "duration": 10,
    "start_time": "2022-02-22T15:23:24.783Z"
   },
   {
    "duration": 14,
    "start_time": "2022-02-22T15:23:24.796Z"
   },
   {
    "duration": 6,
    "start_time": "2022-02-22T15:23:24.812Z"
   },
   {
    "duration": 52,
    "start_time": "2022-02-22T15:23:24.821Z"
   },
   {
    "duration": 14,
    "start_time": "2022-02-22T15:23:24.881Z"
   },
   {
    "duration": 14,
    "start_time": "2022-02-22T15:23:24.900Z"
   },
   {
    "duration": 7914,
    "start_time": "2022-02-22T15:23:24.917Z"
   },
   {
    "duration": 48,
    "start_time": "2022-02-22T15:23:32.835Z"
   },
   {
    "duration": 423,
    "start_time": "2022-02-22T15:23:32.885Z"
   },
   {
    "duration": 85314,
    "start_time": "2022-02-22T15:23:33.311Z"
   },
   {
    "duration": 35,
    "start_time": "2022-02-22T15:24:58.627Z"
   },
   {
    "duration": 16,
    "start_time": "2022-02-22T15:24:58.665Z"
   },
   {
    "duration": 16,
    "start_time": "2022-02-22T15:24:58.684Z"
   },
   {
    "duration": 16,
    "start_time": "2022-02-22T15:24:58.703Z"
   },
   {
    "duration": 41,
    "start_time": "2022-02-22T15:24:58.722Z"
   },
   {
    "duration": 18,
    "start_time": "2022-02-22T15:24:58.766Z"
   },
   {
    "duration": 25,
    "start_time": "2022-02-22T15:24:58.788Z"
   },
   {
    "duration": 65,
    "start_time": "2022-02-22T15:24:58.817Z"
   },
   {
    "duration": 25,
    "start_time": "2022-02-22T15:24:58.885Z"
   },
   {
    "duration": 10,
    "start_time": "2022-02-22T15:24:58.913Z"
   },
   {
    "duration": 37,
    "start_time": "2022-02-22T15:24:58.926Z"
   },
   {
    "duration": 27,
    "start_time": "2022-02-22T15:24:58.966Z"
   },
   {
    "duration": 5,
    "start_time": "2022-02-22T15:24:58.996Z"
   },
   {
    "duration": 8,
    "start_time": "2022-02-22T15:24:59.004Z"
   },
   {
    "duration": 7,
    "start_time": "2022-02-22T15:24:59.015Z"
   },
   {
    "duration": 38,
    "start_time": "2022-02-22T15:24:59.024Z"
   },
   {
    "duration": 8,
    "start_time": "2022-02-22T15:24:59.065Z"
   },
   {
    "duration": 151,
    "start_time": "2022-02-22T15:24:59.075Z"
   },
   {
    "duration": 20,
    "start_time": "2022-02-22T15:24:59.229Z"
   },
   {
    "duration": 48,
    "start_time": "2022-02-22T15:24:59.262Z"
   },
   {
    "duration": 9,
    "start_time": "2022-02-22T15:24:59.317Z"
   },
   {
    "duration": 46,
    "start_time": "2022-02-22T15:24:59.362Z"
   },
   {
    "duration": 7,
    "start_time": "2022-02-22T15:24:59.411Z"
   },
   {
    "duration": 46,
    "start_time": "2022-02-22T15:24:59.422Z"
   },
   {
    "duration": 40,
    "start_time": "2022-02-22T15:25:29.668Z"
   },
   {
    "duration": 10,
    "start_time": "2022-02-22T15:25:29.715Z"
   },
   {
    "duration": 14,
    "start_time": "2022-02-22T15:25:29.730Z"
   },
   {
    "duration": 5,
    "start_time": "2022-02-22T15:25:29.763Z"
   },
   {
    "duration": 6,
    "start_time": "2022-02-22T15:25:29.770Z"
   },
   {
    "duration": 12,
    "start_time": "2022-02-22T15:25:29.779Z"
   },
   {
    "duration": 150,
    "start_time": "2022-02-22T15:25:29.794Z"
   },
   {
    "duration": 30,
    "start_time": "2022-02-22T15:25:29.946Z"
   },
   {
    "duration": 44,
    "start_time": "2022-02-22T15:25:29.979Z"
   },
   {
    "duration": 44,
    "start_time": "2022-02-22T15:25:30.026Z"
   },
   {
    "duration": 65,
    "start_time": "2022-02-22T15:25:30.074Z"
   },
   {
    "duration": 23,
    "start_time": "2022-02-22T15:25:30.142Z"
   },
   {
    "duration": 17,
    "start_time": "2022-02-22T15:25:30.167Z"
   },
   {
    "duration": 4,
    "start_time": "2022-02-22T15:38:49.326Z"
   },
   {
    "duration": 5,
    "start_time": "2022-02-22T15:38:49.341Z"
   },
   {
    "duration": 6,
    "start_time": "2022-02-22T15:38:49.349Z"
   },
   {
    "duration": 154,
    "start_time": "2022-02-22T15:38:49.359Z"
   },
   {
    "duration": 25,
    "start_time": "2022-02-22T15:38:49.516Z"
   },
   {
    "duration": 63,
    "start_time": "2022-02-22T15:38:49.562Z"
   },
   {
    "duration": 37,
    "start_time": "2022-02-22T15:38:49.629Z"
   },
   {
    "duration": 57,
    "start_time": "2022-02-22T15:38:49.670Z"
   },
   {
    "duration": 33,
    "start_time": "2022-02-22T15:38:49.731Z"
   },
   {
    "duration": 20,
    "start_time": "2022-02-22T15:38:49.767Z"
   },
   {
    "duration": 5,
    "start_time": "2022-02-22T15:43:01.215Z"
   },
   {
    "duration": 4,
    "start_time": "2022-02-22T15:43:01.251Z"
   },
   {
    "duration": 197,
    "start_time": "2022-02-22T15:43:01.259Z"
   },
   {
    "duration": 23,
    "start_time": "2022-02-22T15:43:01.463Z"
   },
   {
    "duration": 71,
    "start_time": "2022-02-22T15:43:01.490Z"
   },
   {
    "duration": 11,
    "start_time": "2022-02-22T15:43:01.563Z"
   },
   {
    "duration": 44,
    "start_time": "2022-02-22T15:43:01.576Z"
   },
   {
    "duration": 7,
    "start_time": "2022-02-22T15:43:01.623Z"
   },
   {
    "duration": 14,
    "start_time": "2022-02-22T15:43:01.662Z"
   },
   {
    "duration": 4,
    "start_time": "2022-02-22T15:43:24.405Z"
   },
   {
    "duration": 4,
    "start_time": "2022-02-22T15:43:24.417Z"
   },
   {
    "duration": 188,
    "start_time": "2022-02-22T15:43:24.424Z"
   },
   {
    "duration": 27,
    "start_time": "2022-02-22T15:43:24.615Z"
   },
   {
    "duration": 59,
    "start_time": "2022-02-22T15:43:24.646Z"
   },
   {
    "duration": 13,
    "start_time": "2022-02-22T15:43:24.708Z"
   },
   {
    "duration": 83,
    "start_time": "2022-02-22T15:43:24.724Z"
   },
   {
    "duration": 8,
    "start_time": "2022-02-22T15:43:24.810Z"
   },
   {
    "duration": 16,
    "start_time": "2022-02-22T15:43:24.821Z"
   },
   {
    "duration": 11,
    "start_time": "2022-02-22T16:07:01.775Z"
   },
   {
    "duration": 16,
    "start_time": "2022-02-22T16:07:01.805Z"
   },
   {
    "duration": 17,
    "start_time": "2022-02-22T16:07:01.825Z"
   },
   {
    "duration": 18,
    "start_time": "2022-02-22T16:07:01.860Z"
   },
   {
    "duration": 286,
    "start_time": "2022-02-22T16:07:01.881Z"
   },
   {
    "duration": -1619,
    "start_time": "2022-02-22T16:07:03.789Z"
   },
   {
    "duration": -1625,
    "start_time": "2022-02-22T16:07:03.796Z"
   },
   {
    "duration": -1653,
    "start_time": "2022-02-22T16:07:03.826Z"
   },
   {
    "duration": -1658,
    "start_time": "2022-02-22T16:07:03.832Z"
   },
   {
    "duration": -1668,
    "start_time": "2022-02-22T16:07:03.844Z"
   },
   {
    "duration": -1673,
    "start_time": "2022-02-22T16:07:03.850Z"
   },
   {
    "duration": -1694,
    "start_time": "2022-02-22T16:07:03.872Z"
   },
   {
    "duration": -1757,
    "start_time": "2022-02-22T16:07:03.937Z"
   },
   {
    "duration": -1762,
    "start_time": "2022-02-22T16:07:03.944Z"
   },
   {
    "duration": -1820,
    "start_time": "2022-02-22T16:07:04.003Z"
   },
   {
    "duration": -1828,
    "start_time": "2022-02-22T16:07:04.012Z"
   },
   {
    "duration": -1871,
    "start_time": "2022-02-22T16:07:04.058Z"
   },
   {
    "duration": -1878,
    "start_time": "2022-02-22T16:07:04.067Z"
   },
   {
    "duration": -1915,
    "start_time": "2022-02-22T16:07:04.106Z"
   },
   {
    "duration": -1927,
    "start_time": "2022-02-22T16:07:04.119Z"
   },
   {
    "duration": 5,
    "start_time": "2022-02-22T16:07:46.331Z"
   },
   {
    "duration": 65,
    "start_time": "2022-02-22T16:07:46.339Z"
   },
   {
    "duration": 15,
    "start_time": "2022-02-22T16:07:46.407Z"
   },
   {
    "duration": 38,
    "start_time": "2022-02-22T16:07:46.425Z"
   },
   {
    "duration": 51,
    "start_time": "2022-02-22T16:07:46.466Z"
   },
   {
    "duration": 46,
    "start_time": "2022-02-22T16:07:46.519Z"
   },
   {
    "duration": 12,
    "start_time": "2022-02-22T16:07:46.567Z"
   },
   {
    "duration": 80,
    "start_time": "2022-02-22T16:07:46.581Z"
   },
   {
    "duration": 13,
    "start_time": "2022-02-22T16:07:46.666Z"
   },
   {
    "duration": 7,
    "start_time": "2022-02-22T16:07:46.682Z"
   },
   {
    "duration": 17,
    "start_time": "2022-02-22T16:07:46.692Z"
   },
   {
    "duration": 67,
    "start_time": "2022-02-22T16:07:46.711Z"
   },
   {
    "duration": 90,
    "start_time": "2022-02-22T16:07:46.780Z"
   },
   {
    "duration": 12,
    "start_time": "2022-02-22T16:07:46.874Z"
   },
   {
    "duration": 17,
    "start_time": "2022-02-22T16:07:46.889Z"
   },
   {
    "duration": 8,
    "start_time": "2022-02-22T16:07:46.910Z"
   },
   {
    "duration": 47,
    "start_time": "2022-02-22T16:07:46.920Z"
   },
   {
    "duration": 10,
    "start_time": "2022-02-22T16:07:46.969Z"
   },
   {
    "duration": 11,
    "start_time": "2022-02-22T16:07:46.982Z"
   },
   {
    "duration": 7489,
    "start_time": "2022-02-22T16:07:46.995Z"
   },
   {
    "duration": 24,
    "start_time": "2022-02-22T16:07:54.487Z"
   },
   {
    "duration": 440,
    "start_time": "2022-02-22T16:07:54.513Z"
   },
   {
    "duration": 72217,
    "start_time": "2022-02-22T16:07:54.955Z"
   },
   {
    "duration": 22,
    "start_time": "2022-02-22T16:09:07.175Z"
   },
   {
    "duration": 23,
    "start_time": "2022-02-22T16:09:07.199Z"
   },
   {
    "duration": 49,
    "start_time": "2022-02-22T16:09:07.225Z"
   },
   {
    "duration": 17,
    "start_time": "2022-02-22T16:09:07.280Z"
   },
   {
    "duration": 10,
    "start_time": "2022-02-22T16:09:07.301Z"
   },
   {
    "duration": 62,
    "start_time": "2022-02-22T16:09:07.314Z"
   },
   {
    "duration": 18,
    "start_time": "2022-02-22T16:09:07.379Z"
   },
   {
    "duration": 19,
    "start_time": "2022-02-22T16:09:07.400Z"
   },
   {
    "duration": 56,
    "start_time": "2022-02-22T16:09:07.421Z"
   },
   {
    "duration": 11,
    "start_time": "2022-02-22T16:09:07.481Z"
   },
   {
    "duration": 11,
    "start_time": "2022-02-22T16:09:07.494Z"
   },
   {
    "duration": 57,
    "start_time": "2022-02-22T16:09:07.508Z"
   },
   {
    "duration": 6,
    "start_time": "2022-02-22T16:09:07.568Z"
   },
   {
    "duration": 4,
    "start_time": "2022-02-22T16:09:07.577Z"
   },
   {
    "duration": 4,
    "start_time": "2022-02-22T16:09:07.584Z"
   },
   {
    "duration": 9,
    "start_time": "2022-02-22T16:09:07.591Z"
   },
   {
    "duration": 6,
    "start_time": "2022-02-22T16:09:07.602Z"
   },
   {
    "duration": 164,
    "start_time": "2022-02-22T16:09:07.611Z"
   },
   {
    "duration": 20,
    "start_time": "2022-02-22T16:09:07.778Z"
   },
   {
    "duration": 61,
    "start_time": "2022-02-22T16:09:07.801Z"
   },
   {
    "duration": 10,
    "start_time": "2022-02-22T16:09:07.865Z"
   },
   {
    "duration": 34,
    "start_time": "2022-02-22T16:09:07.877Z"
   },
   {
    "duration": 6,
    "start_time": "2022-02-22T16:09:07.914Z"
   },
   {
    "duration": 50,
    "start_time": "2022-02-22T16:09:07.923Z"
   },
   {
    "duration": 6,
    "start_time": "2022-02-22T16:11:46.891Z"
   },
   {
    "duration": 8,
    "start_time": "2022-02-22T16:13:51.921Z"
   },
   {
    "duration": 14,
    "start_time": "2022-02-22T16:13:51.932Z"
   },
   {
    "duration": 6,
    "start_time": "2022-02-22T16:13:51.951Z"
   },
   {
    "duration": 25,
    "start_time": "2022-02-22T16:13:51.961Z"
   },
   {
    "duration": 7,
    "start_time": "2022-02-22T16:13:51.988Z"
   },
   {
    "duration": 5,
    "start_time": "2022-02-22T16:13:51.997Z"
   },
   {
    "duration": 327,
    "start_time": "2022-02-22T16:13:52.004Z"
   },
   {
    "duration": -1457,
    "start_time": "2022-02-22T16:13:53.791Z"
   },
   {
    "duration": -1464,
    "start_time": "2022-02-22T16:13:53.800Z"
   },
   {
    "duration": -1482,
    "start_time": "2022-02-22T16:13:53.819Z"
   },
   {
    "duration": -1488,
    "start_time": "2022-02-22T16:13:53.827Z"
   },
   {
    "duration": -1511,
    "start_time": "2022-02-22T16:13:53.851Z"
   },
   {
    "duration": -1523,
    "start_time": "2022-02-22T16:13:53.865Z"
   },
   {
    "duration": -1570,
    "start_time": "2022-02-22T16:13:53.914Z"
   },
   {
    "duration": -1627,
    "start_time": "2022-02-22T16:13:53.972Z"
   },
   {
    "duration": -1633,
    "start_time": "2022-02-22T16:13:53.980Z"
   },
   {
    "duration": -1653,
    "start_time": "2022-02-22T16:13:54.001Z"
   },
   {
    "duration": 6,
    "start_time": "2022-02-22T16:14:27.360Z"
   },
   {
    "duration": 27,
    "start_time": "2022-02-22T16:14:44.936Z"
   },
   {
    "duration": 6,
    "start_time": "2022-02-22T16:14:44.966Z"
   },
   {
    "duration": 4,
    "start_time": "2022-02-22T16:14:44.975Z"
   },
   {
    "duration": 5,
    "start_time": "2022-02-22T16:14:44.983Z"
   },
   {
    "duration": 5,
    "start_time": "2022-02-22T16:14:44.991Z"
   },
   {
    "duration": 7,
    "start_time": "2022-02-22T16:14:44.999Z"
   },
   {
    "duration": 24,
    "start_time": "2022-02-22T16:14:45.010Z"
   },
   {
    "duration": 283,
    "start_time": "2022-02-22T16:14:45.036Z"
   },
   {
    "duration": 51,
    "start_time": "2022-02-22T16:14:45.324Z"
   },
   {
    "duration": 201,
    "start_time": "2022-02-22T16:14:45.464Z"
   },
   {
    "duration": 101,
    "start_time": "2022-02-22T16:14:45.668Z"
   },
   {
    "duration": 93,
    "start_time": "2022-02-22T16:14:45.771Z"
   },
   {
    "duration": 96,
    "start_time": "2022-02-22T16:14:45.868Z"
   },
   {
    "duration": 13,
    "start_time": "2022-02-22T16:14:45.967Z"
   },
   {
    "duration": 367,
    "start_time": "2022-02-22T16:20:21.685Z"
   },
   {
    "duration": 483,
    "start_time": "2022-02-22T16:20:46.772Z"
   },
   {
    "duration": 708,
    "start_time": "2022-02-22T16:21:06.930Z"
   },
   {
    "duration": 11,
    "start_time": "2022-02-22T16:28:09.719Z"
   },
   {
    "duration": 3,
    "start_time": "2022-02-22T16:29:46.789Z"
   },
   {
    "duration": 315,
    "start_time": "2022-02-22T16:29:46.804Z"
   },
   {
    "duration": -1455,
    "start_time": "2022-02-22T16:29:48.577Z"
   },
   {
    "duration": -1479,
    "start_time": "2022-02-22T16:29:48.603Z"
   },
   {
    "duration": -1523,
    "start_time": "2022-02-22T16:29:48.649Z"
   },
   {
    "duration": -1531,
    "start_time": "2022-02-22T16:29:48.658Z"
   },
   {
    "duration": -1535,
    "start_time": "2022-02-22T16:29:48.664Z"
   },
   {
    "duration": -1572,
    "start_time": "2022-02-22T16:29:48.703Z"
   },
   {
    "duration": -1578,
    "start_time": "2022-02-22T16:29:48.710Z"
   },
   {
    "duration": 5,
    "start_time": "2022-02-22T16:31:09.299Z"
   },
   {
    "duration": 219,
    "start_time": "2022-02-22T16:31:09.320Z"
   },
   {
    "duration": 129,
    "start_time": "2022-02-22T16:31:09.542Z"
   },
   {
    "duration": 189,
    "start_time": "2022-02-22T16:31:09.675Z"
   },
   {
    "duration": 94,
    "start_time": "2022-02-22T16:31:09.868Z"
   },
   {
    "duration": 98,
    "start_time": "2022-02-22T16:31:09.965Z"
   },
   {
    "duration": 98,
    "start_time": "2022-02-22T16:31:10.067Z"
   },
   {
    "duration": 14,
    "start_time": "2022-02-22T16:31:10.168Z"
   },
   {
    "duration": 950,
    "start_time": "2022-02-22T16:31:10.184Z"
   },
   {
    "duration": 1393,
    "start_time": "2022-02-23T10:56:57.272Z"
   },
   {
    "duration": -330,
    "start_time": "2022-02-23T10:56:58.998Z"
   },
   {
    "duration": -362,
    "start_time": "2022-02-23T10:56:59.032Z"
   },
   {
    "duration": -380,
    "start_time": "2022-02-23T10:56:59.051Z"
   },
   {
    "duration": -765,
    "start_time": "2022-02-23T10:56:59.436Z"
   },
   {
    "duration": -779,
    "start_time": "2022-02-23T10:56:59.452Z"
   },
   {
    "duration": -789,
    "start_time": "2022-02-23T10:56:59.463Z"
   },
   {
    "duration": -797,
    "start_time": "2022-02-23T10:56:59.472Z"
   },
   {
    "duration": -807,
    "start_time": "2022-02-23T10:56:59.483Z"
   },
   {
    "duration": -818,
    "start_time": "2022-02-23T10:56:59.495Z"
   },
   {
    "duration": -829,
    "start_time": "2022-02-23T10:56:59.507Z"
   },
   {
    "duration": -880,
    "start_time": "2022-02-23T10:56:59.559Z"
   },
   {
    "duration": -888,
    "start_time": "2022-02-23T10:56:59.568Z"
   },
   {
    "duration": -1026,
    "start_time": "2022-02-23T10:56:59.707Z"
   },
   {
    "duration": -1035,
    "start_time": "2022-02-23T10:56:59.717Z"
   },
   {
    "duration": -1042,
    "start_time": "2022-02-23T10:56:59.725Z"
   },
   {
    "duration": -1492,
    "start_time": "2022-02-23T10:57:00.176Z"
   },
   {
    "duration": -1513,
    "start_time": "2022-02-23T10:57:00.198Z"
   },
   {
    "duration": -1520,
    "start_time": "2022-02-23T10:57:00.206Z"
   },
   {
    "duration": -1526,
    "start_time": "2022-02-23T10:57:00.213Z"
   },
   {
    "duration": -1534,
    "start_time": "2022-02-23T10:57:00.222Z"
   },
   {
    "duration": -1695,
    "start_time": "2022-02-23T10:57:00.384Z"
   },
   {
    "duration": -1701,
    "start_time": "2022-02-23T10:57:00.391Z"
   },
   {
    "duration": -1708,
    "start_time": "2022-02-23T10:57:00.399Z"
   },
   {
    "duration": -1714,
    "start_time": "2022-02-23T10:57:00.406Z"
   },
   {
    "duration": -1721,
    "start_time": "2022-02-23T10:57:00.414Z"
   },
   {
    "duration": -1726,
    "start_time": "2022-02-23T10:57:00.421Z"
   },
   {
    "duration": -1731,
    "start_time": "2022-02-23T10:57:00.427Z"
   },
   {
    "duration": -1758,
    "start_time": "2022-02-23T10:57:00.455Z"
   },
   {
    "duration": -1763,
    "start_time": "2022-02-23T10:57:00.461Z"
   },
   {
    "duration": -1770,
    "start_time": "2022-02-23T10:57:00.469Z"
   },
   {
    "duration": -1776,
    "start_time": "2022-02-23T10:57:00.476Z"
   },
   {
    "duration": -1782,
    "start_time": "2022-02-23T10:57:00.483Z"
   },
   {
    "duration": -1787,
    "start_time": "2022-02-23T10:57:00.489Z"
   },
   {
    "duration": -1793,
    "start_time": "2022-02-23T10:57:00.496Z"
   },
   {
    "duration": -1798,
    "start_time": "2022-02-23T10:57:00.502Z"
   },
   {
    "duration": 189,
    "start_time": "2022-02-23T10:56:58.892Z"
   },
   {
    "duration": -2161,
    "start_time": "2022-02-23T10:57:01.244Z"
   },
   {
    "duration": -2165,
    "start_time": "2022-02-23T10:57:01.250Z"
   },
   {
    "duration": -2171,
    "start_time": "2022-02-23T10:57:01.257Z"
   },
   {
    "duration": -2176,
    "start_time": "2022-02-23T10:57:01.263Z"
   },
   {
    "duration": -2185,
    "start_time": "2022-02-23T10:57:01.273Z"
   },
   {
    "duration": -2190,
    "start_time": "2022-02-23T10:57:01.280Z"
   },
   {
    "duration": -2197,
    "start_time": "2022-02-23T10:57:01.287Z"
   },
   {
    "duration": -2202,
    "start_time": "2022-02-23T10:57:01.294Z"
   },
   {
    "duration": -2207,
    "start_time": "2022-02-23T10:57:01.300Z"
   },
   {
    "duration": -2217,
    "start_time": "2022-02-23T10:57:01.311Z"
   },
   {
    "duration": -2225,
    "start_time": "2022-02-23T10:57:01.320Z"
   },
   {
    "duration": -2286,
    "start_time": "2022-02-23T10:57:01.382Z"
   },
   {
    "duration": -2293,
    "start_time": "2022-02-23T10:57:01.391Z"
   },
   {
    "duration": -2301,
    "start_time": "2022-02-23T10:57:01.400Z"
   },
   {
    "duration": -2398,
    "start_time": "2022-02-23T10:57:01.498Z"
   },
   {
    "duration": -2466,
    "start_time": "2022-02-23T10:57:01.567Z"
   },
   {
    "duration": -2488,
    "start_time": "2022-02-23T10:57:01.590Z"
   },
   {
    "duration": -2492,
    "start_time": "2022-02-23T10:57:01.596Z"
   },
   {
    "duration": -2499,
    "start_time": "2022-02-23T10:57:01.603Z"
   },
   {
    "duration": -2504,
    "start_time": "2022-02-23T10:57:01.609Z"
   },
   {
    "duration": -2528,
    "start_time": "2022-02-23T10:57:01.634Z"
   },
   {
    "duration": 14338,
    "start_time": "2022-02-23T10:57:46.352Z"
   },
   {
    "duration": 209,
    "start_time": "2022-02-23T10:58:11.130Z"
   },
   {
    "duration": -476,
    "start_time": "2022-02-23T10:58:11.817Z"
   },
   {
    "duration": -510,
    "start_time": "2022-02-23T10:58:11.852Z"
   },
   {
    "duration": -536,
    "start_time": "2022-02-23T10:58:11.879Z"
   },
   {
    "duration": -557,
    "start_time": "2022-02-23T10:58:11.901Z"
   },
   {
    "duration": -564,
    "start_time": "2022-02-23T10:58:11.909Z"
   },
   {
    "duration": -650,
    "start_time": "2022-02-23T10:58:11.996Z"
   },
   {
    "duration": -842,
    "start_time": "2022-02-23T10:58:12.190Z"
   },
   {
    "duration": -848,
    "start_time": "2022-02-23T10:58:12.197Z"
   },
   {
    "duration": -1038,
    "start_time": "2022-02-23T10:58:12.388Z"
   },
   {
    "duration": -1044,
    "start_time": "2022-02-23T10:58:12.396Z"
   },
   {
    "duration": -1052,
    "start_time": "2022-02-23T10:58:12.405Z"
   },
   {
    "duration": -1217,
    "start_time": "2022-02-23T10:58:12.571Z"
   },
   {
    "duration": 193,
    "start_time": "2022-02-23T10:58:11.407Z"
   },
   {
    "duration": -994,
    "start_time": "2022-02-23T10:58:12.596Z"
   },
   {
    "duration": -1001,
    "start_time": "2022-02-23T10:58:12.604Z"
   },
   {
    "duration": 171,
    "start_time": "2022-02-23T10:58:11.647Z"
   },
   {
    "duration": -1296,
    "start_time": "2022-02-23T10:58:13.117Z"
   },
   {
    "duration": -1304,
    "start_time": "2022-02-23T10:58:13.126Z"
   },
   {
    "duration": -1309,
    "start_time": "2022-02-23T10:58:13.132Z"
   },
   {
    "duration": -1315,
    "start_time": "2022-02-23T10:58:13.139Z"
   },
   {
    "duration": -1321,
    "start_time": "2022-02-23T10:58:13.146Z"
   },
   {
    "duration": -1328,
    "start_time": "2022-02-23T10:58:13.155Z"
   },
   {
    "duration": -1335,
    "start_time": "2022-02-23T10:58:13.163Z"
   },
   {
    "duration": -1340,
    "start_time": "2022-02-23T10:58:13.169Z"
   },
   {
    "duration": -1345,
    "start_time": "2022-02-23T10:58:13.176Z"
   },
   {
    "duration": -1372,
    "start_time": "2022-02-23T10:58:13.203Z"
   },
   {
    "duration": -1378,
    "start_time": "2022-02-23T10:58:13.210Z"
   },
   {
    "duration": -1383,
    "start_time": "2022-02-23T10:58:13.216Z"
   },
   {
    "duration": -1389,
    "start_time": "2022-02-23T10:58:13.224Z"
   },
   {
    "duration": -1398,
    "start_time": "2022-02-23T10:58:13.234Z"
   },
   {
    "duration": -1536,
    "start_time": "2022-02-23T10:58:13.373Z"
   },
   {
    "duration": 205,
    "start_time": "2022-02-23T10:58:13.280Z"
   },
   {
    "duration": -500,
    "start_time": "2022-02-23T10:58:13.988Z"
   },
   {
    "duration": -506,
    "start_time": "2022-02-23T10:58:13.995Z"
   },
   {
    "duration": 190,
    "start_time": "2022-02-23T10:58:13.521Z"
   },
   {
    "duration": -520,
    "start_time": "2022-02-23T10:58:14.234Z"
   },
   {
    "duration": -528,
    "start_time": "2022-02-23T10:58:14.243Z"
   },
   {
    "duration": -537,
    "start_time": "2022-02-23T10:58:14.253Z"
   },
   {
    "duration": -561,
    "start_time": "2022-02-23T10:58:14.278Z"
   },
   {
    "duration": 186,
    "start_time": "2022-02-23T10:58:13.882Z"
   },
   {
    "duration": -497,
    "start_time": "2022-02-23T10:58:14.567Z"
   },
   {
    "duration": -514,
    "start_time": "2022-02-23T10:58:14.586Z"
   },
   {
    "duration": -521,
    "start_time": "2022-02-23T10:58:14.594Z"
   },
   {
    "duration": -555,
    "start_time": "2022-02-23T10:58:14.629Z"
   },
   {
    "duration": -767,
    "start_time": "2022-02-23T10:58:14.842Z"
   },
   {
    "duration": -867,
    "start_time": "2022-02-23T10:58:14.944Z"
   },
   {
    "duration": -874,
    "start_time": "2022-02-23T10:58:14.951Z"
   },
   {
    "duration": -879,
    "start_time": "2022-02-23T10:58:14.958Z"
   },
   {
    "duration": -885,
    "start_time": "2022-02-23T10:58:14.965Z"
   },
   {
    "duration": 206,
    "start_time": "2022-02-23T10:58:14.117Z"
   },
   {
    "duration": -990,
    "start_time": "2022-02-23T10:58:15.315Z"
   },
   {
    "duration": -1105,
    "start_time": "2022-02-23T10:58:15.432Z"
   },
   {
    "duration": -1142,
    "start_time": "2022-02-23T10:58:15.469Z"
   },
   {
    "duration": -1159,
    "start_time": "2022-02-23T10:58:15.487Z"
   },
   {
    "duration": -1196,
    "start_time": "2022-02-23T10:58:15.526Z"
   },
   {
    "duration": -1213,
    "start_time": "2022-02-23T10:58:15.544Z"
   },
   {
    "duration": -1255,
    "start_time": "2022-02-23T10:58:15.587Z"
   },
   {
    "duration": 7467,
    "start_time": "2022-02-23T10:58:53.035Z"
   },
   {
    "duration": 220,
    "start_time": "2022-02-23T10:59:00.505Z"
   },
   {
    "duration": -330,
    "start_time": "2022-02-23T10:59:01.059Z"
   },
   {
    "duration": -364,
    "start_time": "2022-02-23T10:59:01.095Z"
   },
   {
    "duration": -389,
    "start_time": "2022-02-23T10:59:01.121Z"
   },
   {
    "duration": -409,
    "start_time": "2022-02-23T10:59:01.142Z"
   },
   {
    "duration": -496,
    "start_time": "2022-02-23T10:59:01.230Z"
   },
   {
    "duration": -501,
    "start_time": "2022-02-23T10:59:01.237Z"
   },
   {
    "duration": -865,
    "start_time": "2022-02-23T10:59:01.602Z"
   },
   {
    "duration": -942,
    "start_time": "2022-02-23T10:59:01.680Z"
   },
   {
    "duration": -947,
    "start_time": "2022-02-23T10:59:01.686Z"
   },
   {
    "duration": -954,
    "start_time": "2022-02-23T10:59:01.694Z"
   },
   {
    "duration": -960,
    "start_time": "2022-02-23T10:59:01.701Z"
   },
   {
    "duration": -965,
    "start_time": "2022-02-23T10:59:01.708Z"
   },
   {
    "duration": -997,
    "start_time": "2022-02-23T10:59:01.741Z"
   },
   {
    "duration": -1004,
    "start_time": "2022-02-23T10:59:01.749Z"
   },
   {
    "duration": -1008,
    "start_time": "2022-02-23T10:59:01.755Z"
   },
   {
    "duration": -1014,
    "start_time": "2022-02-23T10:59:01.762Z"
   },
   {
    "duration": -1022,
    "start_time": "2022-02-23T10:59:01.771Z"
   },
   {
    "duration": -1043,
    "start_time": "2022-02-23T10:59:01.793Z"
   },
   {
    "duration": -1048,
    "start_time": "2022-02-23T10:59:01.799Z"
   },
   {
    "duration": -1058,
    "start_time": "2022-02-23T10:59:01.810Z"
   },
   {
    "duration": -1109,
    "start_time": "2022-02-23T10:59:01.862Z"
   },
   {
    "duration": -1115,
    "start_time": "2022-02-23T10:59:01.869Z"
   },
   {
    "duration": -1120,
    "start_time": "2022-02-23T10:59:01.875Z"
   },
   {
    "duration": -1127,
    "start_time": "2022-02-23T10:59:01.883Z"
   },
   {
    "duration": -1500,
    "start_time": "2022-02-23T10:59:02.257Z"
   },
   {
    "duration": -1506,
    "start_time": "2022-02-23T10:59:02.264Z"
   },
   {
    "duration": -1511,
    "start_time": "2022-02-23T10:59:02.270Z"
   },
   {
    "duration": -1813,
    "start_time": "2022-02-23T10:59:02.573Z"
   },
   {
    "duration": -1818,
    "start_time": "2022-02-23T10:59:02.579Z"
   },
   {
    "duration": -1824,
    "start_time": "2022-02-23T10:59:02.586Z"
   },
   {
    "duration": -1828,
    "start_time": "2022-02-23T10:59:02.592Z"
   },
   {
    "duration": -1836,
    "start_time": "2022-02-23T10:59:02.601Z"
   },
   {
    "duration": -1841,
    "start_time": "2022-02-23T10:59:02.607Z"
   },
   {
    "duration": -1848,
    "start_time": "2022-02-23T10:59:02.615Z"
   },
   {
    "duration": -1853,
    "start_time": "2022-02-23T10:59:02.621Z"
   },
   {
    "duration": -1859,
    "start_time": "2022-02-23T10:59:02.628Z"
   },
   {
    "duration": -1865,
    "start_time": "2022-02-23T10:59:02.635Z"
   },
   {
    "duration": -1887,
    "start_time": "2022-02-23T10:59:02.658Z"
   },
   {
    "duration": -2134,
    "start_time": "2022-02-23T10:59:02.906Z"
   },
   {
    "duration": -2205,
    "start_time": "2022-02-23T10:59:02.978Z"
   },
   {
    "duration": -2211,
    "start_time": "2022-02-23T10:59:02.985Z"
   },
   {
    "duration": -2221,
    "start_time": "2022-02-23T10:59:02.996Z"
   },
   {
    "duration": -2227,
    "start_time": "2022-02-23T10:59:03.003Z"
   },
   {
    "duration": -2232,
    "start_time": "2022-02-23T10:59:03.010Z"
   },
   {
    "duration": -2238,
    "start_time": "2022-02-23T10:59:03.016Z"
   },
   {
    "duration": -2245,
    "start_time": "2022-02-23T10:59:03.025Z"
   },
   {
    "duration": -2251,
    "start_time": "2022-02-23T10:59:03.031Z"
   },
   {
    "duration": -2257,
    "start_time": "2022-02-23T10:59:03.038Z"
   },
   {
    "duration": -2263,
    "start_time": "2022-02-23T10:59:03.045Z"
   },
   {
    "duration": -2269,
    "start_time": "2022-02-23T10:59:03.052Z"
   },
   {
    "duration": -2277,
    "start_time": "2022-02-23T10:59:03.061Z"
   },
   {
    "duration": -2283,
    "start_time": "2022-02-23T10:59:03.068Z"
   },
   {
    "duration": -2308,
    "start_time": "2022-02-23T10:59:03.094Z"
   },
   {
    "duration": -2316,
    "start_time": "2022-02-23T10:59:03.103Z"
   },
   {
    "duration": -2341,
    "start_time": "2022-02-23T10:59:03.129Z"
   },
   {
    "duration": -2370,
    "start_time": "2022-02-23T10:59:03.159Z"
   },
   {
    "duration": -2377,
    "start_time": "2022-02-23T10:59:03.168Z"
   },
   {
    "duration": 7297,
    "start_time": "2022-02-23T11:00:21.840Z"
   },
   {
    "duration": 22644,
    "start_time": "2022-02-23T11:00:29.139Z"
   },
   {
    "duration": 315,
    "start_time": "2022-02-23T11:00:51.785Z"
   },
   {
    "duration": -388,
    "start_time": "2022-02-23T11:00:52.491Z"
   },
   {
    "duration": -407,
    "start_time": "2022-02-23T11:00:52.511Z"
   },
   {
    "duration": -439,
    "start_time": "2022-02-23T11:00:52.544Z"
   },
   {
    "duration": -744,
    "start_time": "2022-02-23T11:00:52.850Z"
   },
   {
    "duration": -751,
    "start_time": "2022-02-23T11:00:52.858Z"
   },
   {
    "duration": -756,
    "start_time": "2022-02-23T11:00:52.864Z"
   },
   {
    "duration": -762,
    "start_time": "2022-02-23T11:00:52.871Z"
   },
   {
    "duration": -768,
    "start_time": "2022-02-23T11:00:52.878Z"
   },
   {
    "duration": -793,
    "start_time": "2022-02-23T11:00:52.904Z"
   },
   {
    "duration": -798,
    "start_time": "2022-02-23T11:00:52.910Z"
   },
   {
    "duration": -805,
    "start_time": "2022-02-23T11:00:52.918Z"
   },
   {
    "duration": -825,
    "start_time": "2022-02-23T11:00:52.938Z"
   },
   {
    "duration": -832,
    "start_time": "2022-02-23T11:00:52.946Z"
   },
   {
    "duration": -836,
    "start_time": "2022-02-23T11:00:52.952Z"
   },
   {
    "duration": -843,
    "start_time": "2022-02-23T11:00:52.960Z"
   },
   {
    "duration": -1602,
    "start_time": "2022-02-23T11:00:53.720Z"
   },
   {
    "duration": -1610,
    "start_time": "2022-02-23T11:00:53.729Z"
   },
   {
    "duration": -1615,
    "start_time": "2022-02-23T11:00:53.735Z"
   },
   {
    "duration": -1621,
    "start_time": "2022-02-23T11:00:53.742Z"
   },
   {
    "duration": -1645,
    "start_time": "2022-02-23T11:00:53.767Z"
   },
   {
    "duration": -1650,
    "start_time": "2022-02-23T11:00:53.773Z"
   },
   {
    "duration": -1656,
    "start_time": "2022-02-23T11:00:53.780Z"
   },
   {
    "duration": -1664,
    "start_time": "2022-02-23T11:00:53.788Z"
   },
   {
    "duration": -1669,
    "start_time": "2022-02-23T11:00:53.794Z"
   },
   {
    "duration": -1691,
    "start_time": "2022-02-23T11:00:53.817Z"
   },
   {
    "duration": -1696,
    "start_time": "2022-02-23T11:00:53.824Z"
   },
   {
    "duration": -1701,
    "start_time": "2022-02-23T11:00:53.830Z"
   },
   {
    "duration": -1708,
    "start_time": "2022-02-23T11:00:53.838Z"
   },
   {
    "duration": -2261,
    "start_time": "2022-02-23T11:00:54.392Z"
   },
   {
    "duration": -2350,
    "start_time": "2022-02-23T11:00:54.482Z"
   },
   {
    "duration": -2356,
    "start_time": "2022-02-23T11:00:54.489Z"
   },
   {
    "duration": -2361,
    "start_time": "2022-02-23T11:00:54.495Z"
   },
   {
    "duration": -2367,
    "start_time": "2022-02-23T11:00:54.502Z"
   },
   {
    "duration": -2372,
    "start_time": "2022-02-23T11:00:54.508Z"
   },
   {
    "duration": -2377,
    "start_time": "2022-02-23T11:00:54.515Z"
   },
   {
    "duration": -2370,
    "start_time": "2022-02-23T11:00:54.528Z"
   },
   {
    "duration": -2374,
    "start_time": "2022-02-23T11:00:54.534Z"
   },
   {
    "duration": -2380,
    "start_time": "2022-02-23T11:00:54.541Z"
   },
   {
    "duration": -2404,
    "start_time": "2022-02-23T11:00:54.567Z"
   },
   {
    "duration": -2409,
    "start_time": "2022-02-23T11:00:54.573Z"
   },
   {
    "duration": -2415,
    "start_time": "2022-02-23T11:00:54.580Z"
   },
   {
    "duration": -2419,
    "start_time": "2022-02-23T11:00:54.586Z"
   },
   {
    "duration": -2424,
    "start_time": "2022-02-23T11:00:54.593Z"
   },
   {
    "duration": -2431,
    "start_time": "2022-02-23T11:00:54.601Z"
   },
   {
    "duration": -2435,
    "start_time": "2022-02-23T11:00:54.607Z"
   },
   {
    "duration": -2441,
    "start_time": "2022-02-23T11:00:54.614Z"
   },
   {
    "duration": -2477,
    "start_time": "2022-02-23T11:00:54.652Z"
   },
   {
    "duration": -2481,
    "start_time": "2022-02-23T11:00:54.658Z"
   },
   {
    "duration": -2487,
    "start_time": "2022-02-23T11:00:54.666Z"
   },
   {
    "duration": -2610,
    "start_time": "2022-02-23T11:00:54.790Z"
   },
   {
    "duration": -2615,
    "start_time": "2022-02-23T11:00:54.797Z"
   },
   {
    "duration": -2776,
    "start_time": "2022-02-23T11:00:54.959Z"
   },
   {
    "duration": -2782,
    "start_time": "2022-02-23T11:00:54.967Z"
   },
   {
    "duration": -2787,
    "start_time": "2022-02-23T11:00:54.973Z"
   },
   {
    "duration": -2793,
    "start_time": "2022-02-23T11:00:54.980Z"
   },
   {
    "duration": -2801,
    "start_time": "2022-02-23T11:00:54.990Z"
   },
   {
    "duration": -2807,
    "start_time": "2022-02-23T11:00:54.997Z"
   },
   {
    "duration": 7230,
    "start_time": "2022-02-23T11:01:39.656Z"
   },
   {
    "duration": 10367,
    "start_time": "2022-02-23T11:01:46.888Z"
   },
   {
    "duration": 219,
    "start_time": "2022-02-23T11:01:57.258Z"
   },
   {
    "duration": -350,
    "start_time": "2022-02-23T11:01:57.830Z"
   },
   {
    "duration": -369,
    "start_time": "2022-02-23T11:01:57.850Z"
   },
   {
    "duration": -376,
    "start_time": "2022-02-23T11:01:57.858Z"
   },
   {
    "duration": -382,
    "start_time": "2022-02-23T11:01:57.866Z"
   },
   {
    "duration": -414,
    "start_time": "2022-02-23T11:01:57.899Z"
   },
   {
    "duration": -423,
    "start_time": "2022-02-23T11:01:57.909Z"
   },
   {
    "duration": -429,
    "start_time": "2022-02-23T11:01:57.916Z"
   },
   {
    "duration": -890,
    "start_time": "2022-02-23T11:01:58.378Z"
   },
   {
    "duration": -911,
    "start_time": "2022-02-23T11:01:58.400Z"
   },
   {
    "duration": -917,
    "start_time": "2022-02-23T11:01:58.408Z"
   },
   {
    "duration": -1019,
    "start_time": "2022-02-23T11:01:58.511Z"
   },
   {
    "duration": -1025,
    "start_time": "2022-02-23T11:01:58.518Z"
   },
   {
    "duration": -1031,
    "start_time": "2022-02-23T11:01:58.526Z"
   },
   {
    "duration": -1137,
    "start_time": "2022-02-23T11:01:58.633Z"
   },
   {
    "duration": -1144,
    "start_time": "2022-02-23T11:01:58.641Z"
   },
   {
    "duration": -1206,
    "start_time": "2022-02-23T11:01:58.704Z"
   },
   {
    "duration": -1230,
    "start_time": "2022-02-23T11:01:58.730Z"
   },
   {
    "duration": -1238,
    "start_time": "2022-02-23T11:01:58.739Z"
   },
   {
    "duration": -1399,
    "start_time": "2022-02-23T11:01:58.901Z"
   },
   {
    "duration": -1405,
    "start_time": "2022-02-23T11:01:58.908Z"
   },
   {
    "duration": -1411,
    "start_time": "2022-02-23T11:01:58.915Z"
   },
   {
    "duration": -1418,
    "start_time": "2022-02-23T11:01:58.923Z"
   },
   {
    "duration": -1907,
    "start_time": "2022-02-23T11:01:59.414Z"
   },
   {
    "duration": -1914,
    "start_time": "2022-02-23T11:01:59.422Z"
   },
   {
    "duration": -1920,
    "start_time": "2022-02-23T11:01:59.429Z"
   },
   {
    "duration": -1945,
    "start_time": "2022-02-23T11:01:59.456Z"
   },
   {
    "duration": -1951,
    "start_time": "2022-02-23T11:01:59.463Z"
   },
   {
    "duration": -1958,
    "start_time": "2022-02-23T11:01:59.471Z"
   },
   {
    "duration": -2122,
    "start_time": "2022-02-23T11:01:59.636Z"
   },
   {
    "duration": -2129,
    "start_time": "2022-02-23T11:01:59.644Z"
   },
   {
    "duration": -2135,
    "start_time": "2022-02-23T11:01:59.652Z"
   },
   {
    "duration": -2100,
    "start_time": "2022-02-23T11:01:59.659Z"
   },
   {
    "duration": -2106,
    "start_time": "2022-02-23T11:01:59.666Z"
   },
   {
    "duration": -2113,
    "start_time": "2022-02-23T11:01:59.674Z"
   },
   {
    "duration": -2118,
    "start_time": "2022-02-23T11:01:59.681Z"
   },
   {
    "duration": -2125,
    "start_time": "2022-02-23T11:01:59.689Z"
   },
   {
    "duration": -2130,
    "start_time": "2022-02-23T11:01:59.695Z"
   },
   {
    "duration": -2153,
    "start_time": "2022-02-23T11:01:59.719Z"
   },
   {
    "duration": -2161,
    "start_time": "2022-02-23T11:01:59.728Z"
   },
   {
    "duration": -2169,
    "start_time": "2022-02-23T11:01:59.737Z"
   },
   {
    "duration": -2174,
    "start_time": "2022-02-23T11:01:59.743Z"
   },
   {
    "duration": -2181,
    "start_time": "2022-02-23T11:01:59.751Z"
   },
   {
    "duration": -2318,
    "start_time": "2022-02-23T11:01:59.889Z"
   },
   {
    "duration": -2325,
    "start_time": "2022-02-23T11:01:59.897Z"
   },
   {
    "duration": -2330,
    "start_time": "2022-02-23T11:01:59.903Z"
   },
   {
    "duration": -2339,
    "start_time": "2022-02-23T11:01:59.913Z"
   },
   {
    "duration": -2345,
    "start_time": "2022-02-23T11:01:59.920Z"
   },
   {
    "duration": -2351,
    "start_time": "2022-02-23T11:01:59.927Z"
   },
   {
    "duration": -2358,
    "start_time": "2022-02-23T11:01:59.935Z"
   },
   {
    "duration": -2365,
    "start_time": "2022-02-23T11:01:59.943Z"
   },
   {
    "duration": -2389,
    "start_time": "2022-02-23T11:01:59.968Z"
   },
   {
    "duration": -2457,
    "start_time": "2022-02-23T11:02:00.037Z"
   },
   {
    "duration": -2548,
    "start_time": "2022-02-23T11:02:00.129Z"
   },
   {
    "duration": -2555,
    "start_time": "2022-02-23T11:02:00.137Z"
   },
   {
    "duration": -2560,
    "start_time": "2022-02-23T11:02:00.143Z"
   },
   {
    "duration": -2567,
    "start_time": "2022-02-23T11:02:00.151Z"
   },
   {
    "duration": -2573,
    "start_time": "2022-02-23T11:02:00.158Z"
   },
   {
    "duration": 10383,
    "start_time": "2022-02-23T11:02:35.406Z"
   },
   {
    "duration": 9197,
    "start_time": "2022-02-23T11:02:45.791Z"
   },
   {
    "duration": 1210,
    "start_time": "2022-02-23T11:02:54.990Z"
   },
   {
    "duration": 45,
    "start_time": "2022-02-23T11:02:56.203Z"
   },
   {
    "duration": 15,
    "start_time": "2022-02-23T11:02:56.250Z"
   },
   {
    "duration": 26,
    "start_time": "2022-02-23T11:02:56.266Z"
   },
   {
    "duration": 54,
    "start_time": "2022-02-23T11:02:56.294Z"
   },
   {
    "duration": 6,
    "start_time": "2022-02-23T11:02:56.351Z"
   },
   {
    "duration": 33,
    "start_time": "2022-02-23T11:02:56.359Z"
   },
   {
    "duration": 43,
    "start_time": "2022-02-23T11:02:56.394Z"
   },
   {
    "duration": 8,
    "start_time": "2022-02-23T11:02:56.439Z"
   },
   {
    "duration": 19,
    "start_time": "2022-02-23T11:02:56.449Z"
   },
   {
    "duration": 23,
    "start_time": "2022-02-23T11:02:56.471Z"
   },
   {
    "duration": 25,
    "start_time": "2022-02-23T11:02:56.496Z"
   },
   {
    "duration": 45,
    "start_time": "2022-02-23T11:02:56.523Z"
   },
   {
    "duration": 7,
    "start_time": "2022-02-23T11:02:56.570Z"
   },
   {
    "duration": 34,
    "start_time": "2022-02-23T11:02:56.579Z"
   },
   {
    "duration": 16,
    "start_time": "2022-02-23T11:02:56.615Z"
   },
   {
    "duration": 57,
    "start_time": "2022-02-23T11:02:56.633Z"
   },
   {
    "duration": 21,
    "start_time": "2022-02-23T11:02:56.691Z"
   },
   {
    "duration": 29,
    "start_time": "2022-02-23T11:02:56.714Z"
   },
   {
    "duration": 4701,
    "start_time": "2022-02-23T11:02:56.745Z"
   },
   {
    "duration": 18,
    "start_time": "2022-02-23T11:03:01.459Z"
   },
   {
    "duration": 270,
    "start_time": "2022-02-23T11:03:01.479Z"
   },
   {
    "duration": 44551,
    "start_time": "2022-02-23T11:03:01.751Z"
   },
   {
    "duration": 13,
    "start_time": "2022-02-23T11:03:46.303Z"
   },
   {
    "duration": 11,
    "start_time": "2022-02-23T11:03:46.318Z"
   },
   {
    "duration": 31,
    "start_time": "2022-02-23T11:03:46.330Z"
   },
   {
    "duration": 11,
    "start_time": "2022-02-23T11:03:46.363Z"
   },
   {
    "duration": 7,
    "start_time": "2022-02-23T11:03:46.375Z"
   },
   {
    "duration": 11,
    "start_time": "2022-02-23T11:03:46.384Z"
   },
   {
    "duration": 12,
    "start_time": "2022-02-23T11:03:46.397Z"
   },
   {
    "duration": 11,
    "start_time": "2022-02-23T11:03:46.411Z"
   },
   {
    "duration": 13,
    "start_time": "2022-02-23T11:03:46.460Z"
   },
   {
    "duration": 9,
    "start_time": "2022-02-23T11:03:46.474Z"
   },
   {
    "duration": 6,
    "start_time": "2022-02-23T11:03:46.485Z"
   },
   {
    "duration": 7,
    "start_time": "2022-02-23T11:03:46.492Z"
   },
   {
    "duration": 19,
    "start_time": "2022-02-23T11:03:46.501Z"
   },
   {
    "duration": 4,
    "start_time": "2022-02-23T11:03:46.522Z"
   },
   {
    "duration": 33,
    "start_time": "2022-02-23T11:03:46.527Z"
   },
   {
    "duration": 6,
    "start_time": "2022-02-23T11:03:46.562Z"
   },
   {
    "duration": 6,
    "start_time": "2022-02-23T11:03:46.569Z"
   },
   {
    "duration": 6,
    "start_time": "2022-02-23T11:03:46.577Z"
   },
   {
    "duration": 15,
    "start_time": "2022-02-23T11:03:46.585Z"
   },
   {
    "duration": 271,
    "start_time": "2022-02-23T11:03:46.602Z"
   },
   {
    "duration": -977,
    "start_time": "2022-02-23T11:03:47.852Z"
   },
   {
    "duration": -982,
    "start_time": "2022-02-23T11:03:47.858Z"
   },
   {
    "duration": -998,
    "start_time": "2022-02-23T11:03:47.875Z"
   },
   {
    "duration": -1012,
    "start_time": "2022-02-23T11:03:47.890Z"
   },
   {
    "duration": -1027,
    "start_time": "2022-02-23T11:03:47.906Z"
   },
   {
    "duration": -1039,
    "start_time": "2022-02-23T11:03:47.919Z"
   },
   {
    "duration": -1055,
    "start_time": "2022-02-23T11:03:47.936Z"
   },
   {
    "duration": -1069,
    "start_time": "2022-02-23T11:03:47.951Z"
   },
   {
    "duration": -1083,
    "start_time": "2022-02-23T11:03:47.966Z"
   },
   {
    "duration": -1088,
    "start_time": "2022-02-23T11:03:47.972Z"
   },
   {
    "duration": -1101,
    "start_time": "2022-02-23T11:03:47.986Z"
   },
   {
    "duration": -1115,
    "start_time": "2022-02-23T11:03:48.001Z"
   },
   {
    "duration": -1128,
    "start_time": "2022-02-23T11:03:48.015Z"
   },
   {
    "duration": -1236,
    "start_time": "2022-02-23T11:03:48.124Z"
   },
   {
    "duration": -1281,
    "start_time": "2022-02-23T11:03:48.170Z"
   },
   {
    "duration": 184,
    "start_time": "2022-02-23T11:06:34.373Z"
   },
   {
    "duration": 5,
    "start_time": "2022-02-23T11:07:33.997Z"
   },
   {
    "duration": 4,
    "start_time": "2022-02-23T11:07:45.691Z"
   },
   {
    "duration": 1812,
    "start_time": "2022-02-23T11:07:50.565Z"
   },
   {
    "duration": 25116,
    "start_time": "2022-02-23T11:10:01.007Z"
   },
   {
    "duration": 2,
    "start_time": "2022-02-23T11:10:26.126Z"
   },
   {
    "duration": 1182,
    "start_time": "2022-02-23T11:10:26.130Z"
   },
   {
    "duration": 46,
    "start_time": "2022-02-23T11:10:27.314Z"
   },
   {
    "duration": 10,
    "start_time": "2022-02-23T11:10:27.362Z"
   },
   {
    "duration": 15,
    "start_time": "2022-02-23T11:10:27.374Z"
   },
   {
    "duration": 33,
    "start_time": "2022-02-23T11:10:27.391Z"
   },
   {
    "duration": 33,
    "start_time": "2022-02-23T11:10:27.426Z"
   },
   {
    "duration": 9,
    "start_time": "2022-02-23T11:10:27.461Z"
   },
   {
    "duration": 53,
    "start_time": "2022-02-23T11:10:27.473Z"
   },
   {
    "duration": 34,
    "start_time": "2022-02-23T11:10:27.528Z"
   },
   {
    "duration": 7,
    "start_time": "2022-02-23T11:10:27.564Z"
   },
   {
    "duration": 15,
    "start_time": "2022-02-23T11:10:27.573Z"
   },
   {
    "duration": 14,
    "start_time": "2022-02-23T11:10:27.590Z"
   },
   {
    "duration": 68,
    "start_time": "2022-02-23T11:10:27.606Z"
   },
   {
    "duration": 6,
    "start_time": "2022-02-23T11:10:27.676Z"
   },
   {
    "duration": 10,
    "start_time": "2022-02-23T11:10:27.684Z"
   },
   {
    "duration": 6,
    "start_time": "2022-02-23T11:10:27.696Z"
   },
   {
    "duration": 11,
    "start_time": "2022-02-23T11:10:27.704Z"
   },
   {
    "duration": 10,
    "start_time": "2022-02-23T11:10:27.718Z"
   },
   {
    "duration": 32,
    "start_time": "2022-02-23T11:10:27.731Z"
   },
   {
    "duration": 4572,
    "start_time": "2022-02-23T11:10:27.765Z"
   },
   {
    "duration": 24,
    "start_time": "2022-02-23T11:10:32.341Z"
   },
   {
    "duration": 254,
    "start_time": "2022-02-23T11:10:32.368Z"
   },
   {
    "duration": 45616,
    "start_time": "2022-02-23T11:10:32.624Z"
   },
   {
    "duration": 22,
    "start_time": "2022-02-23T11:11:18.241Z"
   },
   {
    "duration": 11,
    "start_time": "2022-02-23T11:11:18.265Z"
   },
   {
    "duration": 11,
    "start_time": "2022-02-23T11:11:18.277Z"
   },
   {
    "duration": 12,
    "start_time": "2022-02-23T11:11:18.290Z"
   },
   {
    "duration": 9,
    "start_time": "2022-02-23T11:11:18.303Z"
   },
   {
    "duration": 47,
    "start_time": "2022-02-23T11:11:18.313Z"
   },
   {
    "duration": 12,
    "start_time": "2022-02-23T11:11:18.362Z"
   },
   {
    "duration": 21,
    "start_time": "2022-02-23T11:11:18.376Z"
   },
   {
    "duration": 16,
    "start_time": "2022-02-23T11:11:18.399Z"
   },
   {
    "duration": 6,
    "start_time": "2022-02-23T11:11:18.417Z"
   },
   {
    "duration": 6,
    "start_time": "2022-02-23T11:11:18.425Z"
   },
   {
    "duration": 5,
    "start_time": "2022-02-23T11:11:18.459Z"
   },
   {
    "duration": 18,
    "start_time": "2022-02-23T11:11:18.466Z"
   },
   {
    "duration": 5,
    "start_time": "2022-02-23T11:11:18.486Z"
   },
   {
    "duration": 5,
    "start_time": "2022-02-23T11:11:18.493Z"
   },
   {
    "duration": 7,
    "start_time": "2022-02-23T11:11:18.500Z"
   },
   {
    "duration": 12,
    "start_time": "2022-02-23T11:11:18.508Z"
   },
   {
    "duration": 14,
    "start_time": "2022-02-23T11:11:18.521Z"
   },
   {
    "duration": 6,
    "start_time": "2022-02-23T11:11:18.537Z"
   },
   {
    "duration": 2700,
    "start_time": "2022-02-23T11:11:18.560Z"
   },
   {
    "duration": 19,
    "start_time": "2022-02-23T11:11:21.262Z"
   },
   {
    "duration": 285,
    "start_time": "2022-02-23T11:11:21.283Z"
   },
   {
    "duration": 7,
    "start_time": "2022-02-23T11:11:21.660Z"
   },
   {
    "duration": 92,
    "start_time": "2022-02-23T11:11:21.668Z"
   },
   {
    "duration": 7,
    "start_time": "2022-02-23T11:11:21.762Z"
   },
   {
    "duration": 11,
    "start_time": "2022-02-23T11:11:21.860Z"
   },
   {
    "duration": 446,
    "start_time": "2022-02-23T11:11:21.873Z"
   },
   {
    "duration": 3,
    "start_time": "2022-02-23T11:11:22.320Z"
   },
   {
    "duration": 311,
    "start_time": "2022-02-23T11:11:22.324Z"
   },
   {
    "duration": -389,
    "start_time": "2022-02-23T11:11:23.026Z"
   },
   {
    "duration": -407,
    "start_time": "2022-02-23T11:11:23.046Z"
   },
   {
    "duration": -417,
    "start_time": "2022-02-23T11:11:23.057Z"
   },
   {
    "duration": -452,
    "start_time": "2022-02-23T11:11:23.093Z"
   },
   {
    "duration": -461,
    "start_time": "2022-02-23T11:11:23.103Z"
   },
   {
    "duration": -492,
    "start_time": "2022-02-23T11:11:23.135Z"
   },
   {
    "duration": 4,
    "start_time": "2022-02-23T11:14:03.189Z"
   },
   {
    "duration": 271,
    "start_time": "2022-02-23T11:14:18.765Z"
   },
   {
    "duration": 3,
    "start_time": "2022-02-23T11:15:26.132Z"
   },
   {
    "duration": 220,
    "start_time": "2022-02-23T11:15:35.071Z"
   },
   {
    "duration": 3,
    "start_time": "2022-02-23T11:25:07.927Z"
   },
   {
    "duration": 4704,
    "start_time": "2022-02-23T11:25:15.755Z"
   },
   {
    "duration": 44,
    "start_time": "2022-02-23T11:25:32.114Z"
   },
   {
    "duration": 197,
    "start_time": "2022-02-23T11:25:47.862Z"
   },
   {
    "duration": 8,
    "start_time": "2022-02-23T11:25:57.505Z"
   },
   {
    "duration": 36,
    "start_time": "2022-02-23T11:26:06.953Z"
   },
   {
    "duration": 5,
    "start_time": "2022-02-23T11:26:11.634Z"
   },
   {
    "duration": 7,
    "start_time": "2022-02-23T11:26:21.746Z"
   },
   {
    "duration": 310,
    "start_time": "2022-02-23T11:30:00.524Z"
   },
   {
    "duration": 1278,
    "start_time": "2022-02-23T11:31:35.160Z"
   },
   {
    "duration": 6,
    "start_time": "2022-02-23T11:33:50.651Z"
   },
   {
    "duration": 60,
    "start_time": "2022-02-23T11:35:00.105Z"
   },
   {
    "duration": 3,
    "start_time": "2022-02-23T11:35:10.384Z"
   },
   {
    "duration": 327,
    "start_time": "2022-02-23T11:35:13.465Z"
   },
   {
    "duration": 4,
    "start_time": "2022-02-23T11:36:30.865Z"
   },
   {
    "duration": 454,
    "start_time": "2022-02-23T11:36:37.305Z"
   },
   {
    "duration": 4,
    "start_time": "2022-02-23T11:37:01.787Z"
   },
   {
    "duration": 3884,
    "start_time": "2022-02-23T11:37:04.776Z"
   },
   {
    "duration": 19,
    "start_time": "2022-02-23T11:37:13.176Z"
   },
   {
    "duration": 52,
    "start_time": "2022-02-23T11:37:24.816Z"
   },
   {
    "duration": 7,
    "start_time": "2022-02-23T11:37:27.416Z"
   },
   {
    "duration": 181,
    "start_time": "2022-02-23T12:02:45.350Z"
   },
   {
    "duration": 4,
    "start_time": "2022-02-23T12:02:55.718Z"
   },
   {
    "duration": 16,
    "start_time": "2022-02-23T12:03:03.426Z"
   },
   {
    "duration": 18,
    "start_time": "2022-02-23T12:03:35.210Z"
   },
   {
    "duration": 167,
    "start_time": "2022-02-23T12:07:12.304Z"
   },
   {
    "duration": 71,
    "start_time": "2022-02-23T12:08:20.989Z"
   },
   {
    "duration": 35,
    "start_time": "2022-02-23T12:08:56.844Z"
   },
   {
    "duration": 25,
    "start_time": "2022-02-23T12:09:24.989Z"
   },
   {
    "duration": 7212,
    "start_time": "2022-02-23T12:18:49.645Z"
   },
   {
    "duration": 3,
    "start_time": "2022-02-23T12:18:56.860Z"
   },
   {
    "duration": 21,
    "start_time": "2022-02-23T12:18:56.865Z"
   },
   {
    "duration": 65,
    "start_time": "2022-02-23T12:18:56.888Z"
   },
   {
    "duration": 11,
    "start_time": "2022-02-23T12:18:56.955Z"
   },
   {
    "duration": 24,
    "start_time": "2022-02-23T12:18:56.968Z"
   },
   {
    "duration": 37,
    "start_time": "2022-02-23T12:18:56.994Z"
   },
   {
    "duration": 7,
    "start_time": "2022-02-23T12:18:57.033Z"
   },
   {
    "duration": 23,
    "start_time": "2022-02-23T12:18:57.044Z"
   },
   {
    "duration": 44,
    "start_time": "2022-02-23T12:18:57.070Z"
   },
   {
    "duration": 10,
    "start_time": "2022-02-23T12:18:57.116Z"
   },
   {
    "duration": 8,
    "start_time": "2022-02-23T12:18:57.128Z"
   },
   {
    "duration": 26,
    "start_time": "2022-02-23T12:18:57.138Z"
   },
   {
    "duration": 25,
    "start_time": "2022-02-23T12:18:57.167Z"
   },
   {
    "duration": 45,
    "start_time": "2022-02-23T12:18:57.194Z"
   },
   {
    "duration": 8,
    "start_time": "2022-02-23T12:18:57.258Z"
   },
   {
    "duration": 15,
    "start_time": "2022-02-23T12:18:57.267Z"
   },
   {
    "duration": 5,
    "start_time": "2022-02-23T12:18:57.284Z"
   },
   {
    "duration": 9,
    "start_time": "2022-02-23T12:18:57.292Z"
   },
   {
    "duration": 7,
    "start_time": "2022-02-23T12:18:57.303Z"
   },
   {
    "duration": 13,
    "start_time": "2022-02-23T12:18:57.312Z"
   },
   {
    "duration": 4651,
    "start_time": "2022-02-23T12:18:57.327Z"
   },
   {
    "duration": 19,
    "start_time": "2022-02-23T12:19:01.980Z"
   },
   {
    "duration": 266,
    "start_time": "2022-02-23T12:19:02.002Z"
   },
   {
    "duration": 45638,
    "start_time": "2022-02-23T12:19:02.270Z"
   },
   {
    "duration": 14,
    "start_time": "2022-02-23T12:19:47.910Z"
   },
   {
    "duration": 13,
    "start_time": "2022-02-23T12:19:47.928Z"
   },
   {
    "duration": 13,
    "start_time": "2022-02-23T12:19:47.960Z"
   },
   {
    "duration": 11,
    "start_time": "2022-02-23T12:19:47.975Z"
   },
   {
    "duration": 9,
    "start_time": "2022-02-23T12:19:47.988Z"
   },
   {
    "duration": 20,
    "start_time": "2022-02-23T12:19:47.999Z"
   },
   {
    "duration": 41,
    "start_time": "2022-02-23T12:19:48.020Z"
   },
   {
    "duration": 14,
    "start_time": "2022-02-23T12:19:48.063Z"
   },
   {
    "duration": 18,
    "start_time": "2022-02-23T12:19:48.079Z"
   },
   {
    "duration": 10,
    "start_time": "2022-02-23T12:19:48.099Z"
   },
   {
    "duration": 17,
    "start_time": "2022-02-23T12:19:48.111Z"
   },
   {
    "duration": 9,
    "start_time": "2022-02-23T12:19:48.130Z"
   },
   {
    "duration": 21,
    "start_time": "2022-02-23T12:19:48.142Z"
   },
   {
    "duration": 22,
    "start_time": "2022-02-23T12:19:48.165Z"
   },
   {
    "duration": 6,
    "start_time": "2022-02-23T12:19:48.190Z"
   },
   {
    "duration": 6,
    "start_time": "2022-02-23T12:19:48.197Z"
   },
   {
    "duration": 9,
    "start_time": "2022-02-23T12:19:48.205Z"
   },
   {
    "duration": 8,
    "start_time": "2022-02-23T12:19:48.218Z"
   },
   {
    "duration": 10,
    "start_time": "2022-02-23T12:19:48.228Z"
   },
   {
    "duration": 19,
    "start_time": "2022-02-23T12:19:48.240Z"
   },
   {
    "duration": 232,
    "start_time": "2022-02-23T12:19:48.261Z"
   },
   {
    "duration": -799,
    "start_time": "2022-02-23T12:19:49.294Z"
   },
   {
    "duration": -805,
    "start_time": "2022-02-23T12:19:49.301Z"
   },
   {
    "duration": -811,
    "start_time": "2022-02-23T12:19:49.308Z"
   },
   {
    "duration": -817,
    "start_time": "2022-02-23T12:19:49.315Z"
   },
   {
    "duration": -824,
    "start_time": "2022-02-23T12:19:49.323Z"
   },
   {
    "duration": -831,
    "start_time": "2022-02-23T12:19:49.331Z"
   },
   {
    "duration": -838,
    "start_time": "2022-02-23T12:19:49.339Z"
   },
   {
    "duration": -844,
    "start_time": "2022-02-23T12:19:49.346Z"
   },
   {
    "duration": -850,
    "start_time": "2022-02-23T12:19:49.353Z"
   },
   {
    "duration": -856,
    "start_time": "2022-02-23T12:19:49.360Z"
   },
   {
    "duration": -862,
    "start_time": "2022-02-23T12:19:49.367Z"
   },
   {
    "duration": -867,
    "start_time": "2022-02-23T12:19:49.374Z"
   },
   {
    "duration": -874,
    "start_time": "2022-02-23T12:19:49.382Z"
   },
   {
    "duration": -880,
    "start_time": "2022-02-23T12:19:49.389Z"
   },
   {
    "duration": -906,
    "start_time": "2022-02-23T12:19:49.416Z"
   },
   {
    "duration": -912,
    "start_time": "2022-02-23T12:19:49.423Z"
   },
   {
    "duration": -919,
    "start_time": "2022-02-23T12:19:49.431Z"
   },
   {
    "duration": -925,
    "start_time": "2022-02-23T12:19:49.438Z"
   },
   {
    "duration": 198,
    "start_time": "2022-02-23T12:21:23.334Z"
   },
   {
    "duration": 7,
    "start_time": "2022-02-23T12:21:30.639Z"
   },
   {
    "duration": 5,
    "start_time": "2022-02-23T12:21:40.694Z"
   },
   {
    "duration": 675,
    "start_time": "2022-02-23T12:22:39.939Z"
   },
   {
    "duration": 7,
    "start_time": "2022-02-23T12:22:51.004Z"
   },
   {
    "duration": 7229,
    "start_time": "2022-02-23T12:22:55.724Z"
   },
   {
    "duration": 2,
    "start_time": "2022-02-23T12:23:02.956Z"
   },
   {
    "duration": 9,
    "start_time": "2022-02-23T12:23:02.960Z"
   },
   {
    "duration": 63,
    "start_time": "2022-02-23T12:23:02.971Z"
   },
   {
    "duration": 12,
    "start_time": "2022-02-23T12:23:03.036Z"
   },
   {
    "duration": 15,
    "start_time": "2022-02-23T12:23:03.049Z"
   },
   {
    "duration": 37,
    "start_time": "2022-02-23T12:23:03.066Z"
   },
   {
    "duration": 7,
    "start_time": "2022-02-23T12:23:03.105Z"
   },
   {
    "duration": 9,
    "start_time": "2022-02-23T12:23:03.114Z"
   },
   {
    "duration": 55,
    "start_time": "2022-02-23T12:23:03.125Z"
   },
   {
    "duration": 7,
    "start_time": "2022-02-23T12:23:03.182Z"
   },
   {
    "duration": 6,
    "start_time": "2022-02-23T12:23:03.191Z"
   },
   {
    "duration": 13,
    "start_time": "2022-02-23T12:23:03.199Z"
   },
   {
    "duration": 17,
    "start_time": "2022-02-23T12:23:03.214Z"
   },
   {
    "duration": 70,
    "start_time": "2022-02-23T12:23:03.233Z"
   },
   {
    "duration": 5,
    "start_time": "2022-02-23T12:23:03.305Z"
   },
   {
    "duration": 12,
    "start_time": "2022-02-23T12:23:03.312Z"
   },
   {
    "duration": 4,
    "start_time": "2022-02-23T12:23:03.326Z"
   },
   {
    "duration": 11,
    "start_time": "2022-02-23T12:23:03.359Z"
   },
   {
    "duration": 9,
    "start_time": "2022-02-23T12:23:03.372Z"
   },
   {
    "duration": 15,
    "start_time": "2022-02-23T12:23:03.382Z"
   },
   {
    "duration": 4572,
    "start_time": "2022-02-23T12:23:03.399Z"
   },
   {
    "duration": 16,
    "start_time": "2022-02-23T12:23:07.976Z"
   },
   {
    "duration": 289,
    "start_time": "2022-02-23T12:23:07.995Z"
   },
   {
    "duration": 45562,
    "start_time": "2022-02-23T12:23:08.286Z"
   },
   {
    "duration": 16,
    "start_time": "2022-02-23T12:23:53.850Z"
   },
   {
    "duration": 12,
    "start_time": "2022-02-23T12:23:53.868Z"
   },
   {
    "duration": 11,
    "start_time": "2022-02-23T12:23:53.882Z"
   },
   {
    "duration": 13,
    "start_time": "2022-02-23T12:23:53.895Z"
   },
   {
    "duration": 6,
    "start_time": "2022-02-23T12:23:53.910Z"
   },
   {
    "duration": 53,
    "start_time": "2022-02-23T12:23:53.918Z"
   },
   {
    "duration": 13,
    "start_time": "2022-02-23T12:23:53.973Z"
   },
   {
    "duration": 15,
    "start_time": "2022-02-23T12:23:53.988Z"
   },
   {
    "duration": 21,
    "start_time": "2022-02-23T12:23:54.006Z"
   },
   {
    "duration": 32,
    "start_time": "2022-02-23T12:23:54.030Z"
   },
   {
    "duration": 11,
    "start_time": "2022-02-23T12:23:54.065Z"
   },
   {
    "duration": 10,
    "start_time": "2022-02-23T12:23:54.078Z"
   },
   {
    "duration": 14,
    "start_time": "2022-02-23T12:23:54.091Z"
   },
   {
    "duration": 28,
    "start_time": "2022-02-23T12:23:54.107Z"
   },
   {
    "duration": 4,
    "start_time": "2022-02-23T12:23:54.137Z"
   },
   {
    "duration": 16,
    "start_time": "2022-02-23T12:23:54.143Z"
   },
   {
    "duration": 6,
    "start_time": "2022-02-23T12:23:54.161Z"
   },
   {
    "duration": 9,
    "start_time": "2022-02-23T12:23:54.169Z"
   },
   {
    "duration": 6,
    "start_time": "2022-02-23T12:23:54.180Z"
   },
   {
    "duration": 9,
    "start_time": "2022-02-23T12:23:54.188Z"
   },
   {
    "duration": 308,
    "start_time": "2022-02-23T12:23:54.199Z"
   },
   {
    "duration": -296,
    "start_time": "2022-02-23T12:23:54.805Z"
   },
   {
    "duration": -305,
    "start_time": "2022-02-23T12:23:54.816Z"
   },
   {
    "duration": -370,
    "start_time": "2022-02-23T12:23:54.882Z"
   },
   {
    "duration": -381,
    "start_time": "2022-02-23T12:23:54.895Z"
   },
   {
    "duration": -387,
    "start_time": "2022-02-23T12:23:54.902Z"
   },
   {
    "duration": -394,
    "start_time": "2022-02-23T12:23:54.910Z"
   },
   {
    "duration": -399,
    "start_time": "2022-02-23T12:23:54.917Z"
   },
   {
    "duration": -405,
    "start_time": "2022-02-23T12:23:54.925Z"
   },
   {
    "duration": -435,
    "start_time": "2022-02-23T12:23:54.956Z"
   },
   {
    "duration": -443,
    "start_time": "2022-02-23T12:23:54.965Z"
   },
   {
    "duration": -453,
    "start_time": "2022-02-23T12:23:54.977Z"
   },
   {
    "duration": -463,
    "start_time": "2022-02-23T12:23:54.988Z"
   },
   {
    "duration": -471,
    "start_time": "2022-02-23T12:23:54.997Z"
   },
   {
    "duration": -479,
    "start_time": "2022-02-23T12:23:55.007Z"
   },
   {
    "duration": -490,
    "start_time": "2022-02-23T12:23:55.019Z"
   },
   {
    "duration": -498,
    "start_time": "2022-02-23T12:23:55.028Z"
   },
   {
    "duration": -507,
    "start_time": "2022-02-23T12:23:55.039Z"
   },
   {
    "duration": -514,
    "start_time": "2022-02-23T12:23:55.047Z"
   },
   {
    "duration": 7183,
    "start_time": "2022-02-23T12:26:15.474Z"
   },
   {
    "duration": 3,
    "start_time": "2022-02-23T12:26:22.660Z"
   },
   {
    "duration": 7,
    "start_time": "2022-02-23T12:26:22.665Z"
   },
   {
    "duration": 59,
    "start_time": "2022-02-23T12:26:22.675Z"
   },
   {
    "duration": 23,
    "start_time": "2022-02-23T12:26:22.736Z"
   },
   {
    "duration": 18,
    "start_time": "2022-02-23T12:26:22.761Z"
   },
   {
    "duration": 36,
    "start_time": "2022-02-23T12:26:22.781Z"
   },
   {
    "duration": 7,
    "start_time": "2022-02-23T12:26:22.819Z"
   },
   {
    "duration": 8,
    "start_time": "2022-02-23T12:26:22.828Z"
   },
   {
    "duration": 35,
    "start_time": "2022-02-23T12:26:22.859Z"
   },
   {
    "duration": 10,
    "start_time": "2022-02-23T12:26:22.896Z"
   },
   {
    "duration": 5,
    "start_time": "2022-02-23T12:26:22.908Z"
   },
   {
    "duration": 14,
    "start_time": "2022-02-23T12:26:22.915Z"
   },
   {
    "duration": 38,
    "start_time": "2022-02-23T12:26:22.931Z"
   },
   {
    "duration": 40,
    "start_time": "2022-02-23T12:26:22.971Z"
   },
   {
    "duration": 6,
    "start_time": "2022-02-23T12:26:23.012Z"
   },
   {
    "duration": 9,
    "start_time": "2022-02-23T12:26:23.020Z"
   },
   {
    "duration": 30,
    "start_time": "2022-02-23T12:26:23.031Z"
   },
   {
    "duration": 9,
    "start_time": "2022-02-23T12:26:23.063Z"
   },
   {
    "duration": 7,
    "start_time": "2022-02-23T12:26:23.074Z"
   },
   {
    "duration": 9,
    "start_time": "2022-02-23T12:26:23.082Z"
   },
   {
    "duration": 4793,
    "start_time": "2022-02-23T12:26:23.093Z"
   },
   {
    "duration": 16,
    "start_time": "2022-02-23T12:26:27.891Z"
   },
   {
    "duration": 255,
    "start_time": "2022-02-23T12:26:27.910Z"
   },
   {
    "duration": 45760,
    "start_time": "2022-02-23T12:26:28.167Z"
   },
   {
    "duration": 13,
    "start_time": "2022-02-23T12:27:13.929Z"
   },
   {
    "duration": 26,
    "start_time": "2022-02-23T12:27:13.943Z"
   },
   {
    "duration": 10,
    "start_time": "2022-02-23T12:27:13.971Z"
   },
   {
    "duration": 11,
    "start_time": "2022-02-23T12:27:13.982Z"
   },
   {
    "duration": 6,
    "start_time": "2022-02-23T12:27:13.995Z"
   },
   {
    "duration": 15,
    "start_time": "2022-02-23T12:27:14.003Z"
   },
   {
    "duration": 50,
    "start_time": "2022-02-23T12:27:14.019Z"
   },
   {
    "duration": 12,
    "start_time": "2022-02-23T12:27:14.072Z"
   },
   {
    "duration": 15,
    "start_time": "2022-02-23T12:27:14.087Z"
   },
   {
    "duration": 7,
    "start_time": "2022-02-23T12:27:14.104Z"
   },
   {
    "duration": 9,
    "start_time": "2022-02-23T12:27:14.113Z"
   },
   {
    "duration": 38,
    "start_time": "2022-02-23T12:27:14.124Z"
   },
   {
    "duration": 8,
    "start_time": "2022-02-23T12:27:14.164Z"
   },
   {
    "duration": 18,
    "start_time": "2022-02-23T12:27:14.174Z"
   },
   {
    "duration": 6,
    "start_time": "2022-02-23T12:27:14.194Z"
   },
   {
    "duration": 4,
    "start_time": "2022-02-23T12:27:14.202Z"
   },
   {
    "duration": 7,
    "start_time": "2022-02-23T12:27:14.208Z"
   },
   {
    "duration": 4,
    "start_time": "2022-02-23T12:27:14.217Z"
   },
   {
    "duration": 36,
    "start_time": "2022-02-23T12:27:14.223Z"
   },
   {
    "duration": 6,
    "start_time": "2022-02-23T12:27:14.262Z"
   },
   {
    "duration": 2293,
    "start_time": "2022-02-23T12:27:14.270Z"
   },
   {
    "duration": 20,
    "start_time": "2022-02-23T12:27:16.565Z"
   },
   {
    "duration": 274,
    "start_time": "2022-02-23T12:27:16.587Z"
   },
   {
    "duration": 98,
    "start_time": "2022-02-23T12:27:16.863Z"
   },
   {
    "duration": 196,
    "start_time": "2022-02-23T12:27:16.963Z"
   },
   {
    "duration": 5,
    "start_time": "2022-02-23T12:27:17.161Z"
   },
   {
    "duration": 7,
    "start_time": "2022-02-23T12:27:17.168Z"
   },
   {
    "duration": 433,
    "start_time": "2022-02-23T12:27:17.177Z"
   },
   {
    "duration": 3,
    "start_time": "2022-02-23T12:27:17.612Z"
   },
   {
    "duration": 6650,
    "start_time": "2022-02-23T12:27:17.616Z"
   },
   {
    "duration": 91,
    "start_time": "2022-02-23T12:27:24.268Z"
   },
   {
    "duration": 299,
    "start_time": "2022-02-23T12:27:24.362Z"
   },
   {
    "duration": 9,
    "start_time": "2022-02-23T12:27:24.663Z"
   },
   {
    "duration": 186,
    "start_time": "2022-02-23T12:27:24.674Z"
   },
   {
    "duration": 5,
    "start_time": "2022-02-23T12:27:24.862Z"
   },
   {
    "duration": 207,
    "start_time": "2022-02-23T12:27:24.869Z"
   },
   {
    "duration": 82,
    "start_time": "2022-02-23T12:27:25.078Z"
   },
   {
    "duration": 104,
    "start_time": "2022-02-23T12:27:25.163Z"
   },
   {
    "duration": 92,
    "start_time": "2022-02-23T12:27:25.268Z"
   },
   {
    "duration": 8831,
    "start_time": "2022-02-23T13:57:42.329Z"
   },
   {
    "duration": 3,
    "start_time": "2022-02-23T13:57:51.163Z"
   },
   {
    "duration": 1786,
    "start_time": "2022-02-23T13:57:51.168Z"
   },
   {
    "duration": 55,
    "start_time": "2022-02-23T13:57:52.956Z"
   },
   {
    "duration": 12,
    "start_time": "2022-02-23T13:57:53.014Z"
   },
   {
    "duration": 17,
    "start_time": "2022-02-23T13:57:53.028Z"
   },
   {
    "duration": 38,
    "start_time": "2022-02-23T13:57:53.047Z"
   },
   {
    "duration": 24,
    "start_time": "2022-02-23T13:57:53.088Z"
   },
   {
    "duration": 16,
    "start_time": "2022-02-23T13:57:53.115Z"
   },
   {
    "duration": 38,
    "start_time": "2022-02-23T13:57:53.134Z"
   },
   {
    "duration": 34,
    "start_time": "2022-02-23T13:57:53.174Z"
   },
   {
    "duration": 6,
    "start_time": "2022-02-23T13:57:53.210Z"
   },
   {
    "duration": 16,
    "start_time": "2022-02-23T13:57:53.218Z"
   },
   {
    "duration": 17,
    "start_time": "2022-02-23T13:57:53.236Z"
   },
   {
    "duration": 72,
    "start_time": "2022-02-23T13:57:53.256Z"
   },
   {
    "duration": 7,
    "start_time": "2022-02-23T13:57:53.330Z"
   },
   {
    "duration": 12,
    "start_time": "2022-02-23T13:57:53.340Z"
   },
   {
    "duration": 6,
    "start_time": "2022-02-23T13:57:53.354Z"
   },
   {
    "duration": 10,
    "start_time": "2022-02-23T13:57:53.361Z"
   },
   {
    "duration": 42,
    "start_time": "2022-02-23T13:57:53.373Z"
   },
   {
    "duration": 8,
    "start_time": "2022-02-23T13:57:53.417Z"
   },
   {
    "duration": 5299,
    "start_time": "2022-02-23T13:57:53.427Z"
   },
   {
    "duration": 19,
    "start_time": "2022-02-23T13:57:58.732Z"
   },
   {
    "duration": 291,
    "start_time": "2022-02-23T13:57:58.754Z"
   },
   {
    "duration": 55648,
    "start_time": "2022-02-23T13:57:59.047Z"
   },
   {
    "duration": 27,
    "start_time": "2022-02-23T13:58:54.697Z"
   },
   {
    "duration": 17,
    "start_time": "2022-02-23T13:58:54.727Z"
   },
   {
    "duration": 17,
    "start_time": "2022-02-23T13:58:54.747Z"
   },
   {
    "duration": 45,
    "start_time": "2022-02-23T13:58:54.766Z"
   },
   {
    "duration": 13,
    "start_time": "2022-02-23T13:58:54.813Z"
   },
   {
    "duration": 14,
    "start_time": "2022-02-23T13:58:54.828Z"
   },
   {
    "duration": 14,
    "start_time": "2022-02-23T13:58:54.844Z"
   },
   {
    "duration": 49,
    "start_time": "2022-02-23T13:58:54.860Z"
   },
   {
    "duration": 17,
    "start_time": "2022-02-23T13:58:54.911Z"
   },
   {
    "duration": 8,
    "start_time": "2022-02-23T13:58:54.930Z"
   },
   {
    "duration": 8,
    "start_time": "2022-02-23T13:58:54.939Z"
   },
   {
    "duration": 8,
    "start_time": "2022-02-23T13:58:54.949Z"
   },
   {
    "duration": 7,
    "start_time": "2022-02-23T13:58:54.959Z"
   },
   {
    "duration": 52,
    "start_time": "2022-02-23T13:58:54.968Z"
   },
   {
    "duration": 5,
    "start_time": "2022-02-23T13:58:55.022Z"
   },
   {
    "duration": 6,
    "start_time": "2022-02-23T13:58:55.028Z"
   },
   {
    "duration": 8,
    "start_time": "2022-02-23T13:58:55.036Z"
   },
   {
    "duration": 10,
    "start_time": "2022-02-23T13:58:55.047Z"
   },
   {
    "duration": 14,
    "start_time": "2022-02-23T13:58:55.061Z"
   },
   {
    "duration": 10,
    "start_time": "2022-02-23T13:58:55.078Z"
   },
   {
    "duration": 2522,
    "start_time": "2022-02-23T13:58:55.090Z"
   },
   {
    "duration": 30,
    "start_time": "2022-02-23T13:58:57.614Z"
   },
   {
    "duration": 270,
    "start_time": "2022-02-23T13:58:57.647Z"
   },
   {
    "duration": 89,
    "start_time": "2022-02-23T13:58:57.920Z"
   },
   {
    "duration": 196,
    "start_time": "2022-02-23T13:58:58.012Z"
   },
   {
    "duration": 8,
    "start_time": "2022-02-23T13:58:58.211Z"
   },
   {
    "duration": 10,
    "start_time": "2022-02-23T13:58:58.308Z"
   },
   {
    "duration": 557,
    "start_time": "2022-02-23T13:58:58.320Z"
   },
   {
    "duration": 4,
    "start_time": "2022-02-23T13:58:58.879Z"
   },
   {
    "duration": 3431,
    "start_time": "2022-02-23T13:58:58.885Z"
   },
   {
    "duration": 88,
    "start_time": "2022-02-23T13:59:02.319Z"
   },
   {
    "duration": 199,
    "start_time": "2022-02-23T13:59:02.410Z"
   },
   {
    "duration": 102,
    "start_time": "2022-02-23T13:59:02.612Z"
   },
   {
    "duration": 92,
    "start_time": "2022-02-23T13:59:02.716Z"
   },
   {
    "duration": 95,
    "start_time": "2022-02-23T13:59:02.815Z"
   },
   {
    "duration": 214,
    "start_time": "2022-02-23T13:59:02.912Z"
   },
   {
    "duration": 83,
    "start_time": "2022-02-23T13:59:03.129Z"
   },
   {
    "duration": 104,
    "start_time": "2022-02-23T13:59:03.215Z"
   },
   {
    "duration": 89,
    "start_time": "2022-02-23T13:59:03.321Z"
   },
   {
    "duration": 3316,
    "start_time": "2022-02-23T14:01:26.949Z"
   },
   {
    "duration": 3,
    "start_time": "2022-02-23T14:01:30.268Z"
   },
   {
    "duration": 18,
    "start_time": "2022-02-23T14:01:30.274Z"
   },
   {
    "duration": 68,
    "start_time": "2022-02-23T14:01:30.294Z"
   },
   {
    "duration": 14,
    "start_time": "2022-02-23T14:01:30.364Z"
   },
   {
    "duration": 24,
    "start_time": "2022-02-23T14:01:30.380Z"
   },
   {
    "duration": 61,
    "start_time": "2022-02-23T14:01:30.406Z"
   },
   {
    "duration": 9,
    "start_time": "2022-02-23T14:01:30.471Z"
   },
   {
    "duration": 20,
    "start_time": "2022-02-23T14:01:30.484Z"
   },
   {
    "duration": 53,
    "start_time": "2022-02-23T14:01:30.506Z"
   },
   {
    "duration": 11,
    "start_time": "2022-02-23T14:01:30.561Z"
   },
   {
    "duration": 10,
    "start_time": "2022-02-23T14:01:53.171Z"
   },
   {
    "duration": 414,
    "start_time": "2022-02-23T14:04:04.324Z"
   },
   {
    "duration": 262,
    "start_time": "2022-02-23T14:04:22.890Z"
   },
   {
    "duration": 966,
    "start_time": "2022-02-23T14:05:41.160Z"
   },
   {
    "duration": 11,
    "start_time": "2022-02-23T14:06:13.909Z"
   },
   {
    "duration": 233,
    "start_time": "2022-02-23T14:06:29.632Z"
   },
   {
    "duration": 25,
    "start_time": "2022-02-23T14:06:37.085Z"
   },
   {
    "duration": 26,
    "start_time": "2022-02-23T14:08:16.831Z"
   },
   {
    "duration": 77,
    "start_time": "2022-02-23T14:09:27.949Z"
   },
   {
    "duration": 11,
    "start_time": "2022-02-23T14:12:15.521Z"
   },
   {
    "duration": 10,
    "start_time": "2022-02-23T14:12:20.510Z"
   },
   {
    "duration": 77,
    "start_time": "2022-02-23T14:16:10.939Z"
   },
   {
    "duration": 239,
    "start_time": "2022-02-23T14:16:36.001Z"
   },
   {
    "duration": 236,
    "start_time": "2022-02-23T14:17:09.056Z"
   },
   {
    "duration": 2519,
    "start_time": "2022-02-23T14:17:29.075Z"
   },
   {
    "duration": 3,
    "start_time": "2022-02-23T14:17:31.596Z"
   },
   {
    "duration": 36,
    "start_time": "2022-02-23T14:17:31.603Z"
   },
   {
    "duration": 89,
    "start_time": "2022-02-23T14:17:31.642Z"
   },
   {
    "duration": 14,
    "start_time": "2022-02-23T14:17:31.733Z"
   },
   {
    "duration": 34,
    "start_time": "2022-02-23T14:17:31.749Z"
   },
   {
    "duration": 77,
    "start_time": "2022-02-23T14:17:31.785Z"
   },
   {
    "duration": 9,
    "start_time": "2022-02-23T14:17:31.865Z"
   },
   {
    "duration": 53,
    "start_time": "2022-02-23T14:17:31.877Z"
   },
   {
    "duration": 61,
    "start_time": "2022-02-23T14:17:31.932Z"
   },
   {
    "duration": 10,
    "start_time": "2022-02-23T14:17:31.995Z"
   },
   {
    "duration": 28,
    "start_time": "2022-02-23T14:17:32.007Z"
   },
   {
    "duration": 45,
    "start_time": "2022-02-23T14:17:32.037Z"
   },
   {
    "duration": 20,
    "start_time": "2022-02-23T14:17:32.084Z"
   },
   {
    "duration": 271,
    "start_time": "2022-02-23T14:17:32.106Z"
   },
   {
    "duration": 10,
    "start_time": "2022-02-23T14:18:20.550Z"
   },
   {
    "duration": 9,
    "start_time": "2022-02-23T14:18:27.862Z"
   },
   {
    "duration": 6,
    "start_time": "2022-02-23T14:18:46.484Z"
   },
   {
    "duration": 9,
    "start_time": "2022-02-23T14:19:11.658Z"
   },
   {
    "duration": 2476,
    "start_time": "2022-02-23T14:19:21.227Z"
   },
   {
    "duration": 3,
    "start_time": "2022-02-23T14:19:23.705Z"
   },
   {
    "duration": 7,
    "start_time": "2022-02-23T14:19:23.710Z"
   },
   {
    "duration": 59,
    "start_time": "2022-02-23T14:19:23.719Z"
   },
   {
    "duration": 12,
    "start_time": "2022-02-23T14:19:23.780Z"
   },
   {
    "duration": 23,
    "start_time": "2022-02-23T14:19:23.794Z"
   },
   {
    "duration": 35,
    "start_time": "2022-02-23T14:19:23.818Z"
   },
   {
    "duration": 7,
    "start_time": "2022-02-23T14:19:23.856Z"
   },
   {
    "duration": 9,
    "start_time": "2022-02-23T14:19:23.865Z"
   },
   {
    "duration": 63,
    "start_time": "2022-02-23T14:19:23.875Z"
   },
   {
    "duration": 10,
    "start_time": "2022-02-23T14:19:23.940Z"
   },
   {
    "duration": 9,
    "start_time": "2022-02-23T14:19:23.951Z"
   },
   {
    "duration": 10,
    "start_time": "2022-02-23T14:19:23.962Z"
   },
   {
    "duration": 42,
    "start_time": "2022-02-23T14:19:23.974Z"
   },
   {
    "duration": 27,
    "start_time": "2022-02-23T14:19:24.018Z"
   },
   {
    "duration": 15,
    "start_time": "2022-02-23T14:19:24.047Z"
   },
   {
    "duration": 2468,
    "start_time": "2022-02-23T14:19:55.962Z"
   },
   {
    "duration": 3,
    "start_time": "2022-02-23T14:19:58.433Z"
   },
   {
    "duration": 10,
    "start_time": "2022-02-23T14:19:58.438Z"
   },
   {
    "duration": 57,
    "start_time": "2022-02-23T14:19:58.450Z"
   },
   {
    "duration": 14,
    "start_time": "2022-02-23T14:19:58.509Z"
   },
   {
    "duration": 18,
    "start_time": "2022-02-23T14:19:58.525Z"
   },
   {
    "duration": 44,
    "start_time": "2022-02-23T14:19:58.546Z"
   },
   {
    "duration": 9,
    "start_time": "2022-02-23T14:19:58.610Z"
   },
   {
    "duration": 11,
    "start_time": "2022-02-23T14:19:58.621Z"
   },
   {
    "duration": 38,
    "start_time": "2022-02-23T14:19:58.634Z"
   },
   {
    "duration": 41,
    "start_time": "2022-02-23T14:19:58.674Z"
   },
   {
    "duration": 10,
    "start_time": "2022-02-23T14:19:58.717Z"
   },
   {
    "duration": 11,
    "start_time": "2022-02-23T14:19:58.728Z"
   },
   {
    "duration": 14,
    "start_time": "2022-02-23T14:19:58.741Z"
   },
   {
    "duration": 2502,
    "start_time": "2022-02-23T14:21:24.161Z"
   },
   {
    "duration": 3,
    "start_time": "2022-02-23T14:21:26.666Z"
   },
   {
    "duration": 12,
    "start_time": "2022-02-23T14:21:26.671Z"
   },
   {
    "duration": 56,
    "start_time": "2022-02-23T14:21:26.685Z"
   },
   {
    "duration": 14,
    "start_time": "2022-02-23T14:21:26.743Z"
   },
   {
    "duration": 23,
    "start_time": "2022-02-23T14:21:26.760Z"
   },
   {
    "duration": 43,
    "start_time": "2022-02-23T14:21:26.785Z"
   },
   {
    "duration": 8,
    "start_time": "2022-02-23T14:21:26.831Z"
   },
   {
    "duration": 9,
    "start_time": "2022-02-23T14:21:26.841Z"
   },
   {
    "duration": 64,
    "start_time": "2022-02-23T14:21:26.852Z"
   },
   {
    "duration": 10,
    "start_time": "2022-02-23T14:21:26.918Z"
   },
   {
    "duration": 10,
    "start_time": "2022-02-23T14:21:26.931Z"
   },
   {
    "duration": 73,
    "start_time": "2022-02-23T14:21:26.943Z"
   },
   {
    "duration": -311,
    "start_time": "2022-02-23T14:21:27.329Z"
   },
   {
    "duration": -317,
    "start_time": "2022-02-23T14:21:27.337Z"
   },
   {
    "duration": -321,
    "start_time": "2022-02-23T14:21:27.343Z"
   },
   {
    "duration": 2477,
    "start_time": "2022-02-23T14:22:37.018Z"
   },
   {
    "duration": 3,
    "start_time": "2022-02-23T14:22:39.497Z"
   },
   {
    "duration": 10,
    "start_time": "2022-02-23T14:22:39.502Z"
   },
   {
    "duration": 57,
    "start_time": "2022-02-23T14:22:39.514Z"
   },
   {
    "duration": 13,
    "start_time": "2022-02-23T14:22:39.573Z"
   },
   {
    "duration": 21,
    "start_time": "2022-02-23T14:22:39.588Z"
   },
   {
    "duration": 41,
    "start_time": "2022-02-23T14:22:39.611Z"
   },
   {
    "duration": 8,
    "start_time": "2022-02-23T14:22:39.654Z"
   },
   {
    "duration": 10,
    "start_time": "2022-02-23T14:22:39.664Z"
   },
   {
    "duration": 65,
    "start_time": "2022-02-23T14:22:39.676Z"
   },
   {
    "duration": 12,
    "start_time": "2022-02-23T14:22:39.744Z"
   },
   {
    "duration": 17,
    "start_time": "2022-02-23T14:22:39.758Z"
   },
   {
    "duration": 27,
    "start_time": "2022-02-23T14:22:47.641Z"
   },
   {
    "duration": 84,
    "start_time": "2022-02-23T14:23:17.562Z"
   },
   {
    "duration": 11,
    "start_time": "2022-02-23T14:25:13.942Z"
   },
   {
    "duration": 14,
    "start_time": "2022-02-23T14:25:24.697Z"
   },
   {
    "duration": 36,
    "start_time": "2022-02-23T14:25:43.470Z"
   },
   {
    "duration": 9,
    "start_time": "2022-02-23T14:26:30.914Z"
   },
   {
    "duration": 28,
    "start_time": "2022-02-23T14:26:33.875Z"
   },
   {
    "duration": 2513,
    "start_time": "2022-02-23T14:27:09.335Z"
   },
   {
    "duration": 2,
    "start_time": "2022-02-23T14:27:11.851Z"
   },
   {
    "duration": 24,
    "start_time": "2022-02-23T14:27:11.856Z"
   },
   {
    "duration": 80,
    "start_time": "2022-02-23T14:27:11.882Z"
   },
   {
    "duration": 14,
    "start_time": "2022-02-23T14:27:11.964Z"
   },
   {
    "duration": 21,
    "start_time": "2022-02-23T14:27:11.981Z"
   },
   {
    "duration": 47,
    "start_time": "2022-02-23T14:27:12.006Z"
   },
   {
    "duration": 9,
    "start_time": "2022-02-23T14:27:12.057Z"
   },
   {
    "duration": 20,
    "start_time": "2022-02-23T14:27:12.068Z"
   },
   {
    "duration": 65,
    "start_time": "2022-02-23T14:27:12.089Z"
   },
   {
    "duration": 10,
    "start_time": "2022-02-23T14:27:12.156Z"
   },
   {
    "duration": 28,
    "start_time": "2022-02-23T14:27:12.168Z"
   },
   {
    "duration": 81,
    "start_time": "2022-02-23T14:27:12.199Z"
   },
   {
    "duration": 11,
    "start_time": "2022-02-23T14:27:12.282Z"
   },
   {
    "duration": 15,
    "start_time": "2022-02-23T14:27:12.295Z"
   },
   {
    "duration": 6,
    "start_time": "2022-02-23T14:27:12.312Z"
   },
   {
    "duration": 29,
    "start_time": "2022-02-23T14:27:12.319Z"
   },
   {
    "duration": 35,
    "start_time": "2022-02-23T14:27:25.410Z"
   },
   {
    "duration": 95,
    "start_time": "2022-02-23T14:28:18.020Z"
   },
   {
    "duration": 9,
    "start_time": "2022-02-23T14:28:34.122Z"
   },
   {
    "duration": 28,
    "start_time": "2022-02-23T14:28:40.617Z"
   },
   {
    "duration": 2524,
    "start_time": "2022-02-23T14:29:17.711Z"
   },
   {
    "duration": 3,
    "start_time": "2022-02-23T14:29:20.238Z"
   },
   {
    "duration": 23,
    "start_time": "2022-02-23T14:29:20.244Z"
   },
   {
    "duration": 67,
    "start_time": "2022-02-23T14:29:20.269Z"
   },
   {
    "duration": 14,
    "start_time": "2022-02-23T14:29:20.337Z"
   },
   {
    "duration": 17,
    "start_time": "2022-02-23T14:29:20.352Z"
   },
   {
    "duration": 53,
    "start_time": "2022-02-23T14:29:20.371Z"
   },
   {
    "duration": 7,
    "start_time": "2022-02-23T14:29:20.427Z"
   },
   {
    "duration": 11,
    "start_time": "2022-02-23T14:29:20.436Z"
   },
   {
    "duration": 62,
    "start_time": "2022-02-23T14:29:20.448Z"
   },
   {
    "duration": 10,
    "start_time": "2022-02-23T14:29:20.512Z"
   },
   {
    "duration": 12,
    "start_time": "2022-02-23T14:29:20.523Z"
   },
   {
    "duration": 27,
    "start_time": "2022-02-23T14:29:20.537Z"
   },
   {
    "duration": 45,
    "start_time": "2022-02-23T14:29:20.566Z"
   },
   {
    "duration": 16,
    "start_time": "2022-02-23T14:29:20.614Z"
   },
   {
    "duration": 6,
    "start_time": "2022-02-23T14:29:20.633Z"
   },
   {
    "duration": 36,
    "start_time": "2022-02-23T14:29:20.641Z"
   },
   {
    "duration": 36,
    "start_time": "2022-02-23T14:29:25.808Z"
   },
   {
    "duration": 32,
    "start_time": "2022-02-23T14:30:36.967Z"
   },
   {
    "duration": 2619,
    "start_time": "2022-02-23T14:31:35.803Z"
   },
   {
    "duration": 2,
    "start_time": "2022-02-23T14:31:38.425Z"
   },
   {
    "duration": 8,
    "start_time": "2022-02-23T14:31:38.430Z"
   },
   {
    "duration": 56,
    "start_time": "2022-02-23T14:31:38.440Z"
   },
   {
    "duration": 14,
    "start_time": "2022-02-23T14:31:38.498Z"
   },
   {
    "duration": 14,
    "start_time": "2022-02-23T14:31:38.514Z"
   },
   {
    "duration": 42,
    "start_time": "2022-02-23T14:31:38.530Z"
   },
   {
    "duration": 7,
    "start_time": "2022-02-23T14:31:38.575Z"
   },
   {
    "duration": 9,
    "start_time": "2022-02-23T14:31:38.608Z"
   },
   {
    "duration": 40,
    "start_time": "2022-02-23T14:31:38.619Z"
   },
   {
    "duration": 10,
    "start_time": "2022-02-23T14:31:38.661Z"
   },
   {
    "duration": 38,
    "start_time": "2022-02-23T14:31:38.673Z"
   },
   {
    "duration": 25,
    "start_time": "2022-02-23T14:31:38.713Z"
   },
   {
    "duration": 10,
    "start_time": "2022-02-23T14:31:38.740Z"
   },
   {
    "duration": 17,
    "start_time": "2022-02-23T14:31:38.752Z"
   },
   {
    "duration": 5,
    "start_time": "2022-02-23T14:31:38.771Z"
   },
   {
    "duration": 58,
    "start_time": "2022-02-23T14:31:38.778Z"
   },
   {
    "duration": 34,
    "start_time": "2022-02-23T14:31:38.837Z"
   },
   {
    "duration": 13,
    "start_time": "2022-02-23T14:31:38.873Z"
   },
   {
    "duration": 32,
    "start_time": "2022-02-23T14:31:38.888Z"
   },
   {
    "duration": 50,
    "start_time": "2022-02-23T14:31:38.922Z"
   },
   {
    "duration": 6,
    "start_time": "2022-02-23T14:31:38.973Z"
   },
   {
    "duration": 9,
    "start_time": "2022-02-23T14:31:39.008Z"
   },
   {
    "duration": 4,
    "start_time": "2022-02-23T14:31:39.021Z"
   },
   {
    "duration": 15,
    "start_time": "2022-02-23T14:31:39.027Z"
   },
   {
    "duration": 10,
    "start_time": "2022-02-23T14:31:39.044Z"
   },
   {
    "duration": 14,
    "start_time": "2022-02-23T14:31:39.056Z"
   },
   {
    "duration": 5084,
    "start_time": "2022-02-23T14:31:39.073Z"
   },
   {
    "duration": 20,
    "start_time": "2022-02-23T14:31:44.160Z"
   },
   {
    "duration": 294,
    "start_time": "2022-02-23T14:31:44.181Z"
   },
   {
    "duration": 50965,
    "start_time": "2022-02-23T14:31:44.478Z"
   },
   {
    "duration": 15,
    "start_time": "2022-02-23T14:32:35.445Z"
   },
   {
    "duration": 12,
    "start_time": "2022-02-23T14:32:35.462Z"
   },
   {
    "duration": 42,
    "start_time": "2022-02-23T14:32:35.476Z"
   },
   {
    "duration": 13,
    "start_time": "2022-02-23T14:32:35.519Z"
   },
   {
    "duration": 7,
    "start_time": "2022-02-23T14:32:35.534Z"
   },
   {
    "duration": 20,
    "start_time": "2022-02-23T14:32:35.542Z"
   },
   {
    "duration": 14,
    "start_time": "2022-02-23T14:32:35.564Z"
   },
   {
    "duration": 40,
    "start_time": "2022-02-23T14:32:35.580Z"
   },
   {
    "duration": 18,
    "start_time": "2022-02-23T14:32:35.622Z"
   },
   {
    "duration": 8,
    "start_time": "2022-02-23T14:32:35.642Z"
   },
   {
    "duration": 8,
    "start_time": "2022-02-23T14:32:35.652Z"
   },
   {
    "duration": 10,
    "start_time": "2022-02-23T14:32:35.662Z"
   },
   {
    "duration": 35,
    "start_time": "2022-02-23T14:32:35.674Z"
   },
   {
    "duration": 24,
    "start_time": "2022-02-23T14:32:35.711Z"
   },
   {
    "duration": 5,
    "start_time": "2022-02-23T14:32:35.737Z"
   },
   {
    "duration": 14,
    "start_time": "2022-02-23T14:32:35.743Z"
   },
   {
    "duration": 13,
    "start_time": "2022-02-23T14:32:35.759Z"
   },
   {
    "duration": 7,
    "start_time": "2022-02-23T14:32:35.774Z"
   },
   {
    "duration": 9,
    "start_time": "2022-02-23T14:32:35.783Z"
   },
   {
    "duration": 13,
    "start_time": "2022-02-23T14:32:35.794Z"
   },
   {
    "duration": 371,
    "start_time": "2022-02-23T14:32:35.809Z"
   },
   {
    "duration": -626,
    "start_time": "2022-02-23T14:32:36.809Z"
   },
   {
    "duration": -633,
    "start_time": "2022-02-23T14:32:36.817Z"
   },
   {
    "duration": -644,
    "start_time": "2022-02-23T14:32:36.829Z"
   },
   {
    "duration": -650,
    "start_time": "2022-02-23T14:32:36.836Z"
   },
   {
    "duration": -659,
    "start_time": "2022-02-23T14:32:36.846Z"
   },
   {
    "duration": -670,
    "start_time": "2022-02-23T14:32:36.858Z"
   },
   {
    "duration": -677,
    "start_time": "2022-02-23T14:32:36.866Z"
   },
   {
    "duration": -687,
    "start_time": "2022-02-23T14:32:36.877Z"
   },
   {
    "duration": -705,
    "start_time": "2022-02-23T14:32:36.896Z"
   },
   {
    "duration": -712,
    "start_time": "2022-02-23T14:32:36.904Z"
   },
   {
    "duration": -719,
    "start_time": "2022-02-23T14:32:36.912Z"
   },
   {
    "duration": -724,
    "start_time": "2022-02-23T14:32:36.919Z"
   },
   {
    "duration": -733,
    "start_time": "2022-02-23T14:32:36.929Z"
   },
   {
    "duration": -739,
    "start_time": "2022-02-23T14:32:36.936Z"
   },
   {
    "duration": -747,
    "start_time": "2022-02-23T14:32:36.945Z"
   },
   {
    "duration": -753,
    "start_time": "2022-02-23T14:32:36.952Z"
   },
   {
    "duration": -761,
    "start_time": "2022-02-23T14:32:36.961Z"
   },
   {
    "duration": -767,
    "start_time": "2022-02-23T14:32:36.968Z"
   },
   {
    "duration": 26,
    "start_time": "2022-02-23T14:34:22.560Z"
   },
   {
    "duration": 244,
    "start_time": "2022-02-23T14:35:03.864Z"
   },
   {
    "duration": 8,
    "start_time": "2022-02-23T14:35:30.195Z"
   },
   {
    "duration": 5,
    "start_time": "2022-02-23T14:35:54.339Z"
   },
   {
    "duration": 2616,
    "start_time": "2022-02-23T14:36:31.261Z"
   },
   {
    "duration": 4,
    "start_time": "2022-02-23T14:36:33.880Z"
   },
   {
    "duration": 10,
    "start_time": "2022-02-23T14:36:33.886Z"
   },
   {
    "duration": 58,
    "start_time": "2022-02-23T14:36:33.899Z"
   },
   {
    "duration": 14,
    "start_time": "2022-02-23T14:36:33.959Z"
   },
   {
    "duration": 13,
    "start_time": "2022-02-23T14:36:33.975Z"
   },
   {
    "duration": 48,
    "start_time": "2022-02-23T14:36:33.990Z"
   },
   {
    "duration": 8,
    "start_time": "2022-02-23T14:36:34.040Z"
   },
   {
    "duration": 7,
    "start_time": "2022-02-23T14:36:34.051Z"
   },
   {
    "duration": 64,
    "start_time": "2022-02-23T14:36:34.061Z"
   },
   {
    "duration": 10,
    "start_time": "2022-02-23T14:36:34.127Z"
   },
   {
    "duration": 11,
    "start_time": "2022-02-23T14:36:34.139Z"
   },
   {
    "duration": 57,
    "start_time": "2022-02-23T14:36:34.152Z"
   },
   {
    "duration": 15,
    "start_time": "2022-02-23T14:36:34.211Z"
   },
   {
    "duration": 14,
    "start_time": "2022-02-23T14:36:34.228Z"
   },
   {
    "duration": 13,
    "start_time": "2022-02-23T14:36:34.244Z"
   },
   {
    "duration": 52,
    "start_time": "2022-02-23T14:36:34.259Z"
   },
   {
    "duration": 7,
    "start_time": "2022-02-23T14:36:34.314Z"
   },
   {
    "duration": 1116,
    "start_time": "2022-02-23T14:36:34.323Z"
   },
   {
    "duration": -11406,
    "start_time": "2022-02-23T14:36:46.848Z"
   },
   {
    "duration": -11414,
    "start_time": "2022-02-23T14:36:46.857Z"
   },
   {
    "duration": -11424,
    "start_time": "2022-02-23T14:36:46.868Z"
   },
   {
    "duration": -11516,
    "start_time": "2022-02-23T14:36:46.961Z"
   },
   {
    "duration": -16251,
    "start_time": "2022-02-23T14:36:51.697Z"
   },
   {
    "duration": -16258,
    "start_time": "2022-02-23T14:36:51.706Z"
   },
   {
    "duration": -16264,
    "start_time": "2022-02-23T14:36:51.713Z"
   },
   {
    "duration": -16272,
    "start_time": "2022-02-23T14:36:51.722Z"
   },
   {
    "duration": -19958,
    "start_time": "2022-02-23T14:36:55.409Z"
   },
   {
    "duration": -19986,
    "start_time": "2022-02-23T14:36:55.438Z"
   },
   {
    "duration": -19996,
    "start_time": "2022-02-23T14:36:55.449Z"
   },
   {
    "duration": -20095,
    "start_time": "2022-02-23T14:36:55.550Z"
   },
   {
    "duration": -20141,
    "start_time": "2022-02-23T14:36:55.597Z"
   },
   {
    "duration": -20483,
    "start_time": "2022-02-23T14:36:55.941Z"
   },
   {
    "duration": -20490,
    "start_time": "2022-02-23T14:36:55.949Z"
   },
   {
    "duration": -20500,
    "start_time": "2022-02-23T14:36:55.960Z"
   },
   {
    "duration": -20509,
    "start_time": "2022-02-23T14:36:55.970Z"
   },
   {
    "duration": -20635,
    "start_time": "2022-02-23T14:36:56.098Z"
   },
   {
    "duration": -20649,
    "start_time": "2022-02-23T14:36:56.113Z"
   },
   {
    "duration": -20658,
    "start_time": "2022-02-23T14:36:56.123Z"
   },
   {
    "duration": -20666,
    "start_time": "2022-02-23T14:36:56.132Z"
   },
   {
    "duration": -20675,
    "start_time": "2022-02-23T14:36:56.143Z"
   },
   {
    "duration": -20693,
    "start_time": "2022-02-23T14:36:56.162Z"
   },
   {
    "duration": -20702,
    "start_time": "2022-02-23T14:36:56.172Z"
   },
   {
    "duration": -20709,
    "start_time": "2022-02-23T14:36:56.181Z"
   },
   {
    "duration": -20719,
    "start_time": "2022-02-23T14:36:56.192Z"
   },
   {
    "duration": -20730,
    "start_time": "2022-02-23T14:36:56.204Z"
   },
   {
    "duration": -20741,
    "start_time": "2022-02-23T14:36:56.217Z"
   },
   {
    "duration": -20750,
    "start_time": "2022-02-23T14:36:56.228Z"
   },
   {
    "duration": -20760,
    "start_time": "2022-02-23T14:36:56.239Z"
   },
   {
    "duration": -20768,
    "start_time": "2022-02-23T14:36:56.248Z"
   },
   {
    "duration": -20779,
    "start_time": "2022-02-23T14:36:56.260Z"
   },
   {
    "duration": -20761,
    "start_time": "2022-02-23T14:36:56.268Z"
   },
   {
    "duration": -20769,
    "start_time": "2022-02-23T14:36:56.278Z"
   },
   {
    "duration": -20775,
    "start_time": "2022-02-23T14:36:56.287Z"
   },
   {
    "duration": -20784,
    "start_time": "2022-02-23T14:36:56.297Z"
   },
   {
    "duration": -20790,
    "start_time": "2022-02-23T14:36:56.305Z"
   },
   {
    "duration": -20799,
    "start_time": "2022-02-23T14:36:56.315Z"
   },
   {
    "duration": -20805,
    "start_time": "2022-02-23T14:36:56.323Z"
   },
   {
    "duration": -20814,
    "start_time": "2022-02-23T14:36:56.334Z"
   },
   {
    "duration": -20822,
    "start_time": "2022-02-23T14:36:56.343Z"
   },
   {
    "duration": -20830,
    "start_time": "2022-02-23T14:36:56.353Z"
   },
   {
    "duration": -20837,
    "start_time": "2022-02-23T14:36:56.362Z"
   },
   {
    "duration": -20847,
    "start_time": "2022-02-23T14:36:56.373Z"
   },
   {
    "duration": -20888,
    "start_time": "2022-02-23T14:36:56.416Z"
   },
   {
    "duration": -20899,
    "start_time": "2022-02-23T14:36:56.428Z"
   },
   {
    "duration": -20910,
    "start_time": "2022-02-23T14:36:56.441Z"
   },
   {
    "duration": -21042,
    "start_time": "2022-02-23T14:36:56.574Z"
   },
   {
    "duration": -21052,
    "start_time": "2022-02-23T14:36:56.586Z"
   },
   {
    "duration": -21060,
    "start_time": "2022-02-23T14:36:56.596Z"
   },
   {
    "duration": -21070,
    "start_time": "2022-02-23T14:36:56.607Z"
   },
   {
    "duration": -21077,
    "start_time": "2022-02-23T14:36:56.616Z"
   },
   {
    "duration": -21082,
    "start_time": "2022-02-23T14:36:56.623Z"
   },
   {
    "duration": 3,
    "start_time": "2022-02-23T14:37:26.952Z"
   },
   {
    "duration": 35,
    "start_time": "2022-02-23T14:37:26.959Z"
   },
   {
    "duration": 12,
    "start_time": "2022-02-23T14:37:26.996Z"
   },
   {
    "duration": 19,
    "start_time": "2022-02-23T14:37:27.011Z"
   },
   {
    "duration": 53,
    "start_time": "2022-02-23T14:37:27.032Z"
   },
   {
    "duration": 23,
    "start_time": "2022-02-23T14:37:27.088Z"
   },
   {
    "duration": 9,
    "start_time": "2022-02-23T14:37:27.114Z"
   },
   {
    "duration": 5,
    "start_time": "2022-02-23T14:37:27.126Z"
   },
   {
    "duration": 12,
    "start_time": "2022-02-23T14:37:27.133Z"
   },
   {
    "duration": 9,
    "start_time": "2022-02-23T14:37:27.147Z"
   },
   {
    "duration": 52,
    "start_time": "2022-02-23T14:37:27.157Z"
   },
   {
    "duration": 5079,
    "start_time": "2022-02-23T14:37:27.211Z"
   },
   {
    "duration": 28,
    "start_time": "2022-02-23T14:37:32.293Z"
   },
   {
    "duration": 290,
    "start_time": "2022-02-23T14:37:32.324Z"
   },
   {
    "duration": 51623,
    "start_time": "2022-02-23T14:37:32.616Z"
   },
   {
    "duration": 15,
    "start_time": "2022-02-23T14:38:24.241Z"
   },
   {
    "duration": 12,
    "start_time": "2022-02-23T14:38:24.258Z"
   },
   {
    "duration": 38,
    "start_time": "2022-02-23T14:38:24.272Z"
   },
   {
    "duration": 13,
    "start_time": "2022-02-23T14:38:24.312Z"
   },
   {
    "duration": 8,
    "start_time": "2022-02-23T14:38:24.327Z"
   },
   {
    "duration": 15,
    "start_time": "2022-02-23T14:38:24.339Z"
   },
   {
    "duration": 15,
    "start_time": "2022-02-23T14:38:24.356Z"
   },
   {
    "duration": 16,
    "start_time": "2022-02-23T14:38:24.408Z"
   },
   {
    "duration": 19,
    "start_time": "2022-02-23T14:38:24.426Z"
   },
   {
    "duration": 17,
    "start_time": "2022-02-23T14:38:24.447Z"
   },
   {
    "duration": 14,
    "start_time": "2022-02-23T14:38:24.466Z"
   },
   {
    "duration": 11,
    "start_time": "2022-02-23T14:38:24.482Z"
   },
   {
    "duration": 6,
    "start_time": "2022-02-23T14:38:24.507Z"
   },
   {
    "duration": 28,
    "start_time": "2022-02-23T14:38:24.515Z"
   },
   {
    "duration": 6,
    "start_time": "2022-02-23T14:38:24.545Z"
   },
   {
    "duration": 6,
    "start_time": "2022-02-23T14:38:24.553Z"
   },
   {
    "duration": 8,
    "start_time": "2022-02-23T14:38:24.561Z"
   },
   {
    "duration": 8,
    "start_time": "2022-02-23T14:38:24.572Z"
   },
   {
    "duration": 26,
    "start_time": "2022-02-23T14:38:24.581Z"
   },
   {
    "duration": 9,
    "start_time": "2022-02-23T14:38:24.609Z"
   },
   {
    "duration": 339,
    "start_time": "2022-02-23T14:38:24.620Z"
   },
   {
    "duration": -1409,
    "start_time": "2022-02-23T14:38:26.371Z"
   },
   {
    "duration": -1646,
    "start_time": "2022-02-23T14:38:26.609Z"
   },
   {
    "duration": -1681,
    "start_time": "2022-02-23T14:38:26.644Z"
   },
   {
    "duration": -1710,
    "start_time": "2022-02-23T14:38:26.675Z"
   },
   {
    "duration": -1756,
    "start_time": "2022-02-23T14:38:26.721Z"
   },
   {
    "duration": -1788,
    "start_time": "2022-02-23T14:38:26.754Z"
   },
   {
    "duration": -1818,
    "start_time": "2022-02-23T14:38:26.786Z"
   },
   {
    "duration": -1849,
    "start_time": "2022-02-23T14:38:26.818Z"
   },
   {
    "duration": -2017,
    "start_time": "2022-02-23T14:38:26.987Z"
   },
   {
    "duration": -2032,
    "start_time": "2022-02-23T14:38:27.003Z"
   },
   {
    "duration": -2058,
    "start_time": "2022-02-23T14:38:27.030Z"
   },
   {
    "duration": -2089,
    "start_time": "2022-02-23T14:38:27.062Z"
   },
   {
    "duration": -2097,
    "start_time": "2022-02-23T14:38:27.072Z"
   },
   {
    "duration": -2122,
    "start_time": "2022-02-23T14:38:27.098Z"
   },
   {
    "duration": -2133,
    "start_time": "2022-02-23T14:38:27.110Z"
   },
   {
    "duration": -2185,
    "start_time": "2022-02-23T14:38:27.163Z"
   },
   {
    "duration": -2215,
    "start_time": "2022-02-23T14:38:27.194Z"
   },
   {
    "duration": -2226,
    "start_time": "2022-02-23T14:38:27.206Z"
   },
   {
    "duration": 928,
    "start_time": "2022-02-23T14:39:39.129Z"
   },
   {
    "duration": 2535,
    "start_time": "2022-02-23T14:40:03.530Z"
   },
   {
    "duration": 3,
    "start_time": "2022-02-23T14:40:06.068Z"
   },
   {
    "duration": 27,
    "start_time": "2022-02-23T14:40:06.074Z"
   },
   {
    "duration": 70,
    "start_time": "2022-02-23T14:40:06.104Z"
   },
   {
    "duration": 13,
    "start_time": "2022-02-23T14:40:06.176Z"
   },
   {
    "duration": 25,
    "start_time": "2022-02-23T14:40:06.191Z"
   },
   {
    "duration": 54,
    "start_time": "2022-02-23T14:40:06.218Z"
   },
   {
    "duration": 24,
    "start_time": "2022-02-23T14:40:06.275Z"
   },
   {
    "duration": 31,
    "start_time": "2022-02-23T14:40:06.301Z"
   },
   {
    "duration": 77,
    "start_time": "2022-02-23T14:40:06.334Z"
   },
   {
    "duration": 11,
    "start_time": "2022-02-23T14:40:06.412Z"
   },
   {
    "duration": 29,
    "start_time": "2022-02-23T14:40:06.425Z"
   },
   {
    "duration": 41,
    "start_time": "2022-02-23T14:40:06.457Z"
   },
   {
    "duration": 12,
    "start_time": "2022-02-23T14:40:06.501Z"
   },
   {
    "duration": 35,
    "start_time": "2022-02-23T14:40:06.515Z"
   },
   {
    "duration": 35,
    "start_time": "2022-02-23T14:40:06.553Z"
   },
   {
    "duration": 65,
    "start_time": "2022-02-23T14:40:06.590Z"
   },
   {
    "duration": 324,
    "start_time": "2022-02-23T14:40:06.657Z"
   },
   {
    "duration": -513,
    "start_time": "2022-02-23T14:40:07.498Z"
   },
   {
    "duration": -519,
    "start_time": "2022-02-23T14:40:07.505Z"
   },
   {
    "duration": -525,
    "start_time": "2022-02-23T14:40:07.512Z"
   },
   {
    "duration": -530,
    "start_time": "2022-02-23T14:40:07.519Z"
   },
   {
    "duration": -536,
    "start_time": "2022-02-23T14:40:07.526Z"
   },
   {
    "duration": -542,
    "start_time": "2022-02-23T14:40:07.533Z"
   },
   {
    "duration": -548,
    "start_time": "2022-02-23T14:40:07.540Z"
   },
   {
    "duration": -554,
    "start_time": "2022-02-23T14:40:07.547Z"
   },
   {
    "duration": -559,
    "start_time": "2022-02-23T14:40:07.553Z"
   },
   {
    "duration": -566,
    "start_time": "2022-02-23T14:40:07.561Z"
   },
   {
    "duration": -572,
    "start_time": "2022-02-23T14:40:07.568Z"
   },
   {
    "duration": -578,
    "start_time": "2022-02-23T14:40:07.575Z"
   },
   {
    "duration": -583,
    "start_time": "2022-02-23T14:40:07.581Z"
   },
   {
    "duration": -644,
    "start_time": "2022-02-23T14:40:07.644Z"
   },
   {
    "duration": -651,
    "start_time": "2022-02-23T14:40:07.652Z"
   },
   {
    "duration": -1085,
    "start_time": "2022-02-23T14:40:08.087Z"
   },
   {
    "duration": -1091,
    "start_time": "2022-02-23T14:40:08.094Z"
   },
   {
    "duration": -1097,
    "start_time": "2022-02-23T14:40:08.101Z"
   },
   {
    "duration": -1103,
    "start_time": "2022-02-23T14:40:08.108Z"
   },
   {
    "duration": -1109,
    "start_time": "2022-02-23T14:40:08.115Z"
   },
   {
    "duration": -1114,
    "start_time": "2022-02-23T14:40:08.121Z"
   },
   {
    "duration": -1120,
    "start_time": "2022-02-23T14:40:08.129Z"
   },
   {
    "duration": -1125,
    "start_time": "2022-02-23T14:40:08.135Z"
   },
   {
    "duration": -1132,
    "start_time": "2022-02-23T14:40:08.143Z"
   },
   {
    "duration": -1137,
    "start_time": "2022-02-23T14:40:08.149Z"
   },
   {
    "duration": -1142,
    "start_time": "2022-02-23T14:40:08.156Z"
   },
   {
    "duration": -1148,
    "start_time": "2022-02-23T14:40:08.163Z"
   },
   {
    "duration": -1154,
    "start_time": "2022-02-23T14:40:08.170Z"
   },
   {
    "duration": -1160,
    "start_time": "2022-02-23T14:40:08.177Z"
   },
   {
    "duration": -1185,
    "start_time": "2022-02-23T14:40:08.203Z"
   },
   {
    "duration": -1191,
    "start_time": "2022-02-23T14:40:08.210Z"
   },
   {
    "duration": -1198,
    "start_time": "2022-02-23T14:40:08.218Z"
   },
   {
    "duration": -1203,
    "start_time": "2022-02-23T14:40:08.224Z"
   },
   {
    "duration": -1210,
    "start_time": "2022-02-23T14:40:08.232Z"
   },
   {
    "duration": -1215,
    "start_time": "2022-02-23T14:40:08.238Z"
   },
   {
    "duration": -1222,
    "start_time": "2022-02-23T14:40:08.246Z"
   },
   {
    "duration": -1227,
    "start_time": "2022-02-23T14:40:08.253Z"
   },
   {
    "duration": -1239,
    "start_time": "2022-02-23T14:40:08.266Z"
   },
   {
    "duration": -1244,
    "start_time": "2022-02-23T14:40:08.272Z"
   },
   {
    "duration": -1251,
    "start_time": "2022-02-23T14:40:08.280Z"
   },
   {
    "duration": -1256,
    "start_time": "2022-02-23T14:40:08.286Z"
   },
   {
    "duration": -1262,
    "start_time": "2022-02-23T14:40:08.293Z"
   },
   {
    "duration": -1268,
    "start_time": "2022-02-23T14:40:08.300Z"
   },
   {
    "duration": -1295,
    "start_time": "2022-02-23T14:40:08.328Z"
   },
   {
    "duration": -1299,
    "start_time": "2022-02-23T14:40:08.334Z"
   },
   {
    "duration": -1306,
    "start_time": "2022-02-23T14:40:08.342Z"
   },
   {
    "duration": -1311,
    "start_time": "2022-02-23T14:40:08.349Z"
   },
   {
    "duration": -1317,
    "start_time": "2022-02-23T14:40:08.356Z"
   },
   {
    "duration": -1322,
    "start_time": "2022-02-23T14:40:08.362Z"
   },
   {
    "duration": -1329,
    "start_time": "2022-02-23T14:40:08.370Z"
   },
   {
    "duration": -1335,
    "start_time": "2022-02-23T14:40:08.377Z"
   },
   {
    "duration": -1340,
    "start_time": "2022-02-23T14:40:08.384Z"
   },
   {
    "duration": -1346,
    "start_time": "2022-02-23T14:40:08.391Z"
   },
   {
    "duration": -1352,
    "start_time": "2022-02-23T14:40:08.398Z"
   },
   {
    "duration": -1357,
    "start_time": "2022-02-23T14:40:08.404Z"
   },
   {
    "duration": 6,
    "start_time": "2022-02-23T14:41:40.529Z"
   },
   {
    "duration": 5,
    "start_time": "2022-02-23T14:41:51.216Z"
   },
   {
    "duration": 6,
    "start_time": "2022-02-23T14:41:51.226Z"
   },
   {
    "duration": 41,
    "start_time": "2022-02-23T14:41:51.235Z"
   },
   {
    "duration": 30,
    "start_time": "2022-02-23T14:41:51.278Z"
   },
   {
    "duration": 14,
    "start_time": "2022-02-23T14:41:51.311Z"
   },
   {
    "duration": 46,
    "start_time": "2022-02-23T14:41:51.327Z"
   },
   {
    "duration": 36,
    "start_time": "2022-02-23T14:41:51.376Z"
   },
   {
    "duration": 22,
    "start_time": "2022-02-23T14:41:51.414Z"
   },
   {
    "duration": 16,
    "start_time": "2022-02-23T14:41:51.439Z"
   },
   {
    "duration": 11,
    "start_time": "2022-02-23T14:41:51.458Z"
   },
   {
    "duration": 12,
    "start_time": "2022-02-23T14:41:51.471Z"
   },
   {
    "duration": 28,
    "start_time": "2022-02-23T14:41:51.485Z"
   },
   {
    "duration": 5021,
    "start_time": "2022-02-23T14:41:51.515Z"
   },
   {
    "duration": 19,
    "start_time": "2022-02-23T14:41:56.539Z"
   },
   {
    "duration": 298,
    "start_time": "2022-02-23T14:41:56.560Z"
   },
   {
    "duration": 51963,
    "start_time": "2022-02-23T14:41:56.860Z"
   },
   {
    "duration": 17,
    "start_time": "2022-02-23T14:42:48.825Z"
   },
   {
    "duration": 16,
    "start_time": "2022-02-23T14:42:48.845Z"
   },
   {
    "duration": 13,
    "start_time": "2022-02-23T14:42:48.863Z"
   },
   {
    "duration": 15,
    "start_time": "2022-02-23T14:42:48.910Z"
   },
   {
    "duration": 8,
    "start_time": "2022-02-23T14:42:48.929Z"
   },
   {
    "duration": 21,
    "start_time": "2022-02-23T14:42:48.940Z"
   },
   {
    "duration": 49,
    "start_time": "2022-02-23T14:42:48.963Z"
   },
   {
    "duration": 15,
    "start_time": "2022-02-23T14:42:49.015Z"
   },
   {
    "duration": 20,
    "start_time": "2022-02-23T14:42:49.032Z"
   },
   {
    "duration": 8,
    "start_time": "2022-02-23T14:42:49.054Z"
   },
   {
    "duration": 43,
    "start_time": "2022-02-23T14:42:49.064Z"
   },
   {
    "duration": 4,
    "start_time": "2022-02-23T14:42:49.110Z"
   },
   {
    "duration": 12,
    "start_time": "2022-02-23T14:42:49.116Z"
   },
   {
    "duration": 25,
    "start_time": "2022-02-23T14:42:49.131Z"
   },
   {
    "duration": 5,
    "start_time": "2022-02-23T14:42:49.158Z"
   },
   {
    "duration": 10,
    "start_time": "2022-02-23T14:42:49.165Z"
   },
   {
    "duration": 11,
    "start_time": "2022-02-23T14:42:49.178Z"
   },
   {
    "duration": 19,
    "start_time": "2022-02-23T14:42:49.191Z"
   },
   {
    "duration": 9,
    "start_time": "2022-02-23T14:42:49.213Z"
   },
   {
    "duration": 18,
    "start_time": "2022-02-23T14:42:49.224Z"
   },
   {
    "duration": 2364,
    "start_time": "2022-02-23T14:42:49.245Z"
   },
   {
    "duration": 21,
    "start_time": "2022-02-23T14:42:51.611Z"
   },
   {
    "duration": 274,
    "start_time": "2022-02-23T14:42:51.635Z"
   },
   {
    "duration": 99,
    "start_time": "2022-02-23T14:42:51.912Z"
   },
   {
    "duration": 94,
    "start_time": "2022-02-23T14:42:52.014Z"
   },
   {
    "duration": 97,
    "start_time": "2022-02-23T14:42:52.110Z"
   },
   {
    "duration": 8,
    "start_time": "2022-02-23T14:42:52.210Z"
   },
   {
    "duration": 504,
    "start_time": "2022-02-23T14:42:52.220Z"
   },
   {
    "duration": 4,
    "start_time": "2022-02-23T14:42:52.726Z"
   },
   {
    "duration": 4182,
    "start_time": "2022-02-23T14:42:52.732Z"
   },
   {
    "duration": 23,
    "start_time": "2022-02-23T14:42:56.916Z"
   },
   {
    "duration": 265,
    "start_time": "2022-02-23T14:42:56.944Z"
   },
   {
    "duration": 93,
    "start_time": "2022-02-23T14:42:57.217Z"
   },
   {
    "duration": 98,
    "start_time": "2022-02-23T14:42:57.312Z"
   },
   {
    "duration": 96,
    "start_time": "2022-02-23T14:42:57.413Z"
   },
   {
    "duration": 212,
    "start_time": "2022-02-23T14:42:57.514Z"
   },
   {
    "duration": 80,
    "start_time": "2022-02-23T14:42:57.728Z"
   },
   {
    "duration": 110,
    "start_time": "2022-02-23T14:42:57.811Z"
   },
   {
    "duration": 92,
    "start_time": "2022-02-23T14:42:57.924Z"
   },
   {
    "duration": 5,
    "start_time": "2022-02-23T14:46:10.612Z"
   },
   {
    "duration": 5,
    "start_time": "2022-02-23T14:46:18.282Z"
   },
   {
    "duration": 7,
    "start_time": "2022-02-23T14:46:33.734Z"
   },
   {
    "duration": 22,
    "start_time": "2022-02-23T14:46:41.165Z"
   },
   {
    "duration": 2508,
    "start_time": "2022-02-23T14:47:42.160Z"
   },
   {
    "duration": 3,
    "start_time": "2022-02-23T14:47:44.671Z"
   },
   {
    "duration": 17,
    "start_time": "2022-02-23T14:47:44.676Z"
   },
   {
    "duration": 83,
    "start_time": "2022-02-23T14:47:44.696Z"
   },
   {
    "duration": 13,
    "start_time": "2022-02-23T14:47:44.781Z"
   },
   {
    "duration": 61,
    "start_time": "2022-02-23T14:47:44.796Z"
   },
   {
    "duration": 56,
    "start_time": "2022-02-23T14:47:44.859Z"
   },
   {
    "duration": 8,
    "start_time": "2022-02-23T14:47:44.919Z"
   },
   {
    "duration": 41,
    "start_time": "2022-02-23T14:47:44.929Z"
   },
   {
    "duration": 57,
    "start_time": "2022-02-23T14:47:44.972Z"
   },
   {
    "duration": 10,
    "start_time": "2022-02-23T14:47:45.031Z"
   },
   {
    "duration": 18,
    "start_time": "2022-02-23T14:47:45.044Z"
   },
   {
    "duration": 43,
    "start_time": "2022-02-23T14:47:45.064Z"
   },
   {
    "duration": 11,
    "start_time": "2022-02-23T14:47:45.110Z"
   },
   {
    "duration": 14,
    "start_time": "2022-02-23T14:47:45.123Z"
   },
   {
    "duration": 6,
    "start_time": "2022-02-23T14:47:45.140Z"
   },
   {
    "duration": 11,
    "start_time": "2022-02-23T14:47:45.148Z"
   },
   {
    "duration": 7,
    "start_time": "2022-02-23T14:47:45.161Z"
   },
   {
    "duration": 10,
    "start_time": "2022-02-23T14:47:45.169Z"
   },
   {
    "duration": 26,
    "start_time": "2022-02-23T14:47:45.181Z"
   },
   {
    "duration": 5,
    "start_time": "2022-02-23T14:47:45.209Z"
   },
   {
    "duration": 7,
    "start_time": "2022-02-23T14:47:45.216Z"
   },
   {
    "duration": 36,
    "start_time": "2022-02-23T14:47:45.228Z"
   },
   {
    "duration": 12,
    "start_time": "2022-02-23T14:47:45.267Z"
   },
   {
    "duration": 34,
    "start_time": "2022-02-23T14:47:45.281Z"
   },
   {
    "duration": 45,
    "start_time": "2022-02-23T14:47:45.317Z"
   },
   {
    "duration": 7,
    "start_time": "2022-02-23T14:47:45.364Z"
   },
   {
    "duration": 39,
    "start_time": "2022-02-23T14:47:45.373Z"
   },
   {
    "duration": 5,
    "start_time": "2022-02-23T14:47:45.414Z"
   },
   {
    "duration": 12,
    "start_time": "2022-02-23T14:47:45.421Z"
   },
   {
    "duration": 8,
    "start_time": "2022-02-23T14:47:45.435Z"
   },
   {
    "duration": 10,
    "start_time": "2022-02-23T14:47:45.445Z"
   },
   {
    "duration": 4113,
    "start_time": "2022-02-23T14:47:45.457Z"
   },
   {
    "duration": 18,
    "start_time": "2022-02-23T14:47:49.572Z"
   },
   {
    "duration": 246,
    "start_time": "2022-02-23T14:47:49.592Z"
   },
   {
    "duration": 42526,
    "start_time": "2022-02-23T14:47:49.840Z"
   },
   {
    "duration": 48,
    "start_time": "2022-02-23T14:48:32.368Z"
   },
   {
    "duration": 86,
    "start_time": "2022-02-23T14:48:32.417Z"
   },
   {
    "duration": 51,
    "start_time": "2022-02-23T14:48:32.505Z"
   },
   {
    "duration": 20,
    "start_time": "2022-02-23T14:48:32.558Z"
   },
   {
    "duration": 37,
    "start_time": "2022-02-23T14:48:32.580Z"
   },
   {
    "duration": 37,
    "start_time": "2022-02-23T14:48:32.619Z"
   },
   {
    "duration": 19,
    "start_time": "2022-02-23T14:48:32.657Z"
   },
   {
    "duration": 14,
    "start_time": "2022-02-23T14:48:32.678Z"
   },
   {
    "duration": 21,
    "start_time": "2022-02-23T14:48:32.695Z"
   },
   {
    "duration": 12,
    "start_time": "2022-02-23T14:48:32.718Z"
   },
   {
    "duration": 16,
    "start_time": "2022-02-23T14:48:32.732Z"
   },
   {
    "duration": 10,
    "start_time": "2022-02-23T14:48:32.750Z"
   },
   {
    "duration": 12,
    "start_time": "2022-02-23T14:48:32.761Z"
   },
   {
    "duration": 32,
    "start_time": "2022-02-23T14:48:32.775Z"
   },
   {
    "duration": 5,
    "start_time": "2022-02-23T14:48:32.809Z"
   },
   {
    "duration": 10,
    "start_time": "2022-02-23T14:48:32.816Z"
   },
   {
    "duration": 14,
    "start_time": "2022-02-23T14:48:32.828Z"
   },
   {
    "duration": 11,
    "start_time": "2022-02-23T14:48:32.844Z"
   },
   {
    "duration": 10,
    "start_time": "2022-02-23T14:48:32.858Z"
   },
   {
    "duration": 12,
    "start_time": "2022-02-23T14:48:32.871Z"
   },
   {
    "duration": 1730,
    "start_time": "2022-02-23T14:48:32.885Z"
   },
   {
    "duration": 21,
    "start_time": "2022-02-23T14:48:34.617Z"
   },
   {
    "duration": 274,
    "start_time": "2022-02-23T14:48:34.641Z"
   },
   {
    "duration": 94,
    "start_time": "2022-02-23T14:48:34.917Z"
   },
   {
    "duration": 95,
    "start_time": "2022-02-23T14:48:35.013Z"
   },
   {
    "duration": 97,
    "start_time": "2022-02-23T14:48:35.111Z"
   },
   {
    "duration": 20,
    "start_time": "2022-02-23T14:48:35.210Z"
   },
   {
    "duration": 456,
    "start_time": "2022-02-23T14:48:35.231Z"
   },
   {
    "duration": 3,
    "start_time": "2022-02-23T14:48:35.689Z"
   },
   {
    "duration": 3516,
    "start_time": "2022-02-23T14:48:35.694Z"
   },
   {
    "duration": 25,
    "start_time": "2022-02-23T14:48:39.212Z"
   },
   {
    "duration": 201,
    "start_time": "2022-02-23T14:48:39.308Z"
   },
   {
    "duration": 99,
    "start_time": "2022-02-23T14:48:39.512Z"
   },
   {
    "duration": 98,
    "start_time": "2022-02-23T14:48:39.613Z"
   },
   {
    "duration": 94,
    "start_time": "2022-02-23T14:48:39.715Z"
   },
   {
    "duration": 212,
    "start_time": "2022-02-23T14:48:39.811Z"
   },
   {
    "duration": 84,
    "start_time": "2022-02-23T14:48:40.026Z"
   },
   {
    "duration": 108,
    "start_time": "2022-02-23T14:48:40.113Z"
   },
   {
    "duration": 88,
    "start_time": "2022-02-23T14:48:40.223Z"
   },
   {
    "duration": 2593,
    "start_time": "2022-02-23T14:53:00.915Z"
   },
   {
    "duration": 3,
    "start_time": "2022-02-23T14:53:03.511Z"
   },
   {
    "duration": 10,
    "start_time": "2022-02-23T14:53:03.516Z"
   },
   {
    "duration": 63,
    "start_time": "2022-02-23T14:53:03.529Z"
   },
   {
    "duration": 15,
    "start_time": "2022-02-23T14:53:03.594Z"
   },
   {
    "duration": 30,
    "start_time": "2022-02-23T14:53:03.611Z"
   },
   {
    "duration": 55,
    "start_time": "2022-02-23T14:53:03.643Z"
   },
   {
    "duration": 9,
    "start_time": "2022-02-23T14:53:03.700Z"
   },
   {
    "duration": 10,
    "start_time": "2022-02-23T14:53:03.712Z"
   },
   {
    "duration": 53,
    "start_time": "2022-02-23T14:53:03.725Z"
   },
   {
    "duration": 10,
    "start_time": "2022-02-23T14:53:03.780Z"
   },
   {
    "duration": 11,
    "start_time": "2022-02-23T14:53:03.808Z"
   },
   {
    "duration": 28,
    "start_time": "2022-02-23T14:53:03.821Z"
   },
   {
    "duration": 12,
    "start_time": "2022-02-23T14:53:03.851Z"
   },
   {
    "duration": 27,
    "start_time": "2022-02-23T14:53:03.865Z"
   },
   {
    "duration": 3,
    "start_time": "2022-02-23T14:53:03.908Z"
   },
   {
    "duration": 14,
    "start_time": "2022-02-23T14:53:03.914Z"
   },
   {
    "duration": 39,
    "start_time": "2022-02-23T14:53:03.930Z"
   },
   {
    "duration": 26,
    "start_time": "2022-02-23T14:53:03.971Z"
   },
   {
    "duration": 7,
    "start_time": "2022-02-23T14:53:03.999Z"
   },
   {
    "duration": 11,
    "start_time": "2022-02-23T14:53:04.008Z"
   },
   {
    "duration": 12,
    "start_time": "2022-02-23T14:53:04.021Z"
   },
   {
    "duration": 37,
    "start_time": "2022-02-23T14:53:04.035Z"
   },
   {
    "duration": 12,
    "start_time": "2022-02-23T14:53:04.074Z"
   },
   {
    "duration": 28,
    "start_time": "2022-02-23T14:53:04.089Z"
   },
   {
    "duration": 43,
    "start_time": "2022-02-23T14:53:04.119Z"
   },
   {
    "duration": 6,
    "start_time": "2022-02-23T14:53:04.167Z"
   },
   {
    "duration": 31,
    "start_time": "2022-02-23T14:53:04.176Z"
   },
   {
    "duration": 5,
    "start_time": "2022-02-23T14:53:04.209Z"
   },
   {
    "duration": 12,
    "start_time": "2022-02-23T14:53:04.216Z"
   },
   {
    "duration": 16,
    "start_time": "2022-02-23T14:53:04.230Z"
   },
   {
    "duration": 26,
    "start_time": "2022-02-23T14:53:04.248Z"
   },
   {
    "duration": 4305,
    "start_time": "2022-02-23T14:53:04.276Z"
   },
   {
    "duration": 26,
    "start_time": "2022-02-23T14:53:08.583Z"
   },
   {
    "duration": 233,
    "start_time": "2022-02-23T14:53:08.611Z"
   },
   {
    "duration": 41756,
    "start_time": "2022-02-23T14:53:08.846Z"
   },
   {
    "duration": 15,
    "start_time": "2022-02-23T14:53:50.608Z"
   },
   {
    "duration": 14,
    "start_time": "2022-02-23T14:53:50.624Z"
   },
   {
    "duration": 13,
    "start_time": "2022-02-23T14:53:50.641Z"
   },
   {
    "duration": 52,
    "start_time": "2022-02-23T14:53:50.657Z"
   },
   {
    "duration": 7,
    "start_time": "2022-02-23T14:53:50.711Z"
   },
   {
    "duration": 15,
    "start_time": "2022-02-23T14:53:50.720Z"
   },
   {
    "duration": 14,
    "start_time": "2022-02-23T14:53:50.737Z"
   },
   {
    "duration": 16,
    "start_time": "2022-02-23T14:53:50.753Z"
   },
   {
    "duration": 15,
    "start_time": "2022-02-23T14:53:50.808Z"
   },
   {
    "duration": 10,
    "start_time": "2022-02-23T14:53:50.825Z"
   },
   {
    "duration": 12,
    "start_time": "2022-02-23T14:53:50.837Z"
   },
   {
    "duration": 9,
    "start_time": "2022-02-23T14:53:50.851Z"
   },
   {
    "duration": 6,
    "start_time": "2022-02-23T14:53:50.863Z"
   },
   {
    "duration": 41,
    "start_time": "2022-02-23T14:53:50.872Z"
   },
   {
    "duration": 6,
    "start_time": "2022-02-23T14:53:50.915Z"
   },
   {
    "duration": 8,
    "start_time": "2022-02-23T14:53:50.923Z"
   },
   {
    "duration": 9,
    "start_time": "2022-02-23T14:53:50.933Z"
   },
   {
    "duration": 12,
    "start_time": "2022-02-23T14:53:50.944Z"
   },
   {
    "duration": 15,
    "start_time": "2022-02-23T14:53:50.958Z"
   },
   {
    "duration": 11,
    "start_time": "2022-02-23T14:53:50.975Z"
   },
   {
    "duration": 1823,
    "start_time": "2022-02-23T14:53:50.988Z"
   },
   {
    "duration": 22,
    "start_time": "2022-02-23T14:53:52.813Z"
   },
   {
    "duration": 274,
    "start_time": "2022-02-23T14:53:52.838Z"
   },
   {
    "duration": 96,
    "start_time": "2022-02-23T14:53:53.118Z"
   },
   {
    "duration": 92,
    "start_time": "2022-02-23T14:53:53.216Z"
   },
   {
    "duration": 97,
    "start_time": "2022-02-23T14:53:53.311Z"
   },
   {
    "duration": 10,
    "start_time": "2022-02-23T14:53:53.410Z"
   },
   {
    "duration": 470,
    "start_time": "2022-02-23T14:53:53.422Z"
   },
   {
    "duration": 4,
    "start_time": "2022-02-23T14:53:53.908Z"
   },
   {
    "duration": 3095,
    "start_time": "2022-02-23T14:53:53.914Z"
   },
   {
    "duration": 24,
    "start_time": "2022-02-23T14:53:57.011Z"
   },
   {
    "duration": 271,
    "start_time": "2022-02-23T14:53:57.038Z"
   },
   {
    "duration": 95,
    "start_time": "2022-02-23T14:53:57.313Z"
   },
   {
    "duration": 97,
    "start_time": "2022-02-23T14:53:57.410Z"
   },
   {
    "duration": 8,
    "start_time": "2022-02-23T14:53:57.510Z"
   },
   {
    "duration": 209,
    "start_time": "2022-02-23T14:53:57.608Z"
   },
   {
    "duration": 90,
    "start_time": "2022-02-23T14:53:57.819Z"
   },
   {
    "duration": 108,
    "start_time": "2022-02-23T14:53:57.912Z"
   },
   {
    "duration": 86,
    "start_time": "2022-02-23T14:53:58.022Z"
   },
   {
    "duration": 3,
    "start_time": "2022-02-23T15:04:26.563Z"
   },
   {
    "duration": 5,
    "start_time": "2022-02-23T15:04:26.571Z"
   },
   {
    "duration": 2435,
    "start_time": "2022-02-23T15:04:26.578Z"
   },
   {
    "duration": 100,
    "start_time": "2022-02-23T15:04:29.016Z"
   },
   {
    "duration": 289,
    "start_time": "2022-02-23T15:04:29.120Z"
   },
   {
    "duration": 96,
    "start_time": "2022-02-23T15:04:29.412Z"
   },
   {
    "duration": 95,
    "start_time": "2022-02-23T15:04:29.511Z"
   },
   {
    "duration": 6,
    "start_time": "2022-02-23T15:04:29.611Z"
   },
   {
    "duration": 9,
    "start_time": "2022-02-23T15:04:29.709Z"
   },
   {
    "duration": 489,
    "start_time": "2022-02-23T15:04:29.720Z"
   },
   {
    "duration": 3,
    "start_time": "2022-02-23T15:04:30.211Z"
   },
   {
    "duration": 2802,
    "start_time": "2022-02-23T15:04:30.216Z"
   },
   {
    "duration": 87,
    "start_time": "2022-02-23T15:04:33.020Z"
   },
   {
    "duration": 200,
    "start_time": "2022-02-23T15:04:33.110Z"
   },
   {
    "duration": 97,
    "start_time": "2022-02-23T15:04:33.312Z"
   },
   {
    "duration": 103,
    "start_time": "2022-02-23T15:04:33.411Z"
   },
   {
    "duration": 92,
    "start_time": "2022-02-23T15:04:33.516Z"
   },
   {
    "duration": 307,
    "start_time": "2022-02-23T15:04:33.610Z"
   },
   {
    "duration": 90,
    "start_time": "2022-02-23T15:04:33.919Z"
   },
   {
    "duration": 101,
    "start_time": "2022-02-23T15:04:34.013Z"
   },
   {
    "duration": 93,
    "start_time": "2022-02-23T15:04:34.117Z"
   },
   {
    "duration": 4,
    "start_time": "2022-02-23T15:05:48.825Z"
   },
   {
    "duration": 9,
    "start_time": "2022-02-23T15:05:48.833Z"
   },
   {
    "duration": 462,
    "start_time": "2022-02-23T15:05:48.844Z"
   },
   {
    "duration": 22,
    "start_time": "2022-02-23T15:05:49.310Z"
   },
   {
    "duration": 274,
    "start_time": "2022-02-23T15:05:49.335Z"
   },
   {
    "duration": 98,
    "start_time": "2022-02-23T15:05:49.612Z"
   },
   {
    "duration": 97,
    "start_time": "2022-02-23T15:05:49.712Z"
   },
   {
    "duration": 97,
    "start_time": "2022-02-23T15:05:49.812Z"
   },
   {
    "duration": 9,
    "start_time": "2022-02-23T15:05:49.912Z"
   },
   {
    "duration": 469,
    "start_time": "2022-02-23T15:05:49.923Z"
   },
   {
    "duration": 13,
    "start_time": "2022-02-23T15:05:50.394Z"
   },
   {
    "duration": 1206,
    "start_time": "2022-02-23T15:05:50.409Z"
   },
   {
    "duration": 101,
    "start_time": "2022-02-23T15:05:51.617Z"
   },
   {
    "duration": 289,
    "start_time": "2022-02-23T15:05:51.721Z"
   },
   {
    "duration": 99,
    "start_time": "2022-02-23T15:05:52.012Z"
   },
   {
    "duration": 96,
    "start_time": "2022-02-23T15:05:52.113Z"
   },
   {
    "duration": 97,
    "start_time": "2022-02-23T15:05:52.212Z"
   },
   {
    "duration": 205,
    "start_time": "2022-02-23T15:05:52.311Z"
   },
   {
    "duration": 92,
    "start_time": "2022-02-23T15:05:52.518Z"
   },
   {
    "duration": 104,
    "start_time": "2022-02-23T15:05:52.612Z"
   },
   {
    "duration": 89,
    "start_time": "2022-02-23T15:05:52.718Z"
   },
   {
    "duration": 18,
    "start_time": "2022-02-23T15:06:50.800Z"
   },
   {
    "duration": 5,
    "start_time": "2022-02-23T15:06:50.820Z"
   },
   {
    "duration": 8,
    "start_time": "2022-02-23T15:06:50.827Z"
   },
   {
    "duration": 11,
    "start_time": "2022-02-23T15:06:50.837Z"
   },
   {
    "duration": 8,
    "start_time": "2022-02-23T15:06:50.850Z"
   },
   {
    "duration": 6,
    "start_time": "2022-02-23T15:06:50.859Z"
   },
   {
    "duration": 6,
    "start_time": "2022-02-23T15:06:50.868Z"
   },
   {
    "duration": 733,
    "start_time": "2022-02-23T15:06:50.876Z"
   },
   {
    "duration": 21,
    "start_time": "2022-02-23T15:06:51.611Z"
   },
   {
    "duration": 281,
    "start_time": "2022-02-23T15:06:51.635Z"
   },
   {
    "duration": 9,
    "start_time": "2022-02-23T15:06:52.007Z"
   },
   {
    "duration": 92,
    "start_time": "2022-02-23T15:06:52.017Z"
   },
   {
    "duration": 95,
    "start_time": "2022-02-23T15:06:52.113Z"
   },
   {
    "duration": 7,
    "start_time": "2022-02-23T15:06:52.210Z"
   },
   {
    "duration": 420,
    "start_time": "2022-02-23T15:06:52.219Z"
   },
   {
    "duration": 3,
    "start_time": "2022-02-23T15:06:52.642Z"
   },
   {
    "duration": 962,
    "start_time": "2022-02-23T15:06:52.647Z"
   },
   {
    "duration": 18,
    "start_time": "2022-02-23T15:06:53.611Z"
   },
   {
    "duration": 277,
    "start_time": "2022-02-23T15:06:53.632Z"
   },
   {
    "duration": 99,
    "start_time": "2022-02-23T15:06:53.912Z"
   },
   {
    "duration": 95,
    "start_time": "2022-02-23T15:06:54.013Z"
   },
   {
    "duration": 97,
    "start_time": "2022-02-23T15:06:54.110Z"
   },
   {
    "duration": 208,
    "start_time": "2022-02-23T15:06:54.209Z"
   },
   {
    "duration": 97,
    "start_time": "2022-02-23T15:06:54.418Z"
   },
   {
    "duration": 104,
    "start_time": "2022-02-23T15:06:54.517Z"
   },
   {
    "duration": 94,
    "start_time": "2022-02-23T15:06:54.622Z"
   },
   {
    "duration": 5,
    "start_time": "2022-02-23T15:09:42.848Z"
   },
   {
    "duration": 3,
    "start_time": "2022-02-23T15:12:16.855Z"
   },
   {
    "duration": 463,
    "start_time": "2022-02-23T15:12:21.128Z"
   },
   {
    "duration": 3,
    "start_time": "2022-02-23T15:12:58.194Z"
   },
   {
    "duration": 3,
    "start_time": "2022-02-23T15:13:06.751Z"
   },
   {
    "duration": 3455,
    "start_time": "2022-02-23T15:13:06.757Z"
   },
   {
    "duration": 106,
    "start_time": "2022-02-23T15:13:10.214Z"
   },
   {
    "duration": 286,
    "start_time": "2022-02-23T15:13:10.323Z"
   },
   {
    "duration": 97,
    "start_time": "2022-02-23T15:13:10.612Z"
   },
   {
    "duration": 98,
    "start_time": "2022-02-23T15:13:10.712Z"
   },
   {
    "duration": 96,
    "start_time": "2022-02-23T15:13:10.813Z"
   },
   {
    "duration": 218,
    "start_time": "2022-02-23T15:13:10.911Z"
   },
   {
    "duration": 76,
    "start_time": "2022-02-23T15:13:11.132Z"
   },
   {
    "duration": 100,
    "start_time": "2022-02-23T15:13:11.210Z"
   },
   {
    "duration": 23,
    "start_time": "2022-02-23T15:13:11.312Z"
   },
   {
    "duration": 100,
    "start_time": "2022-02-23T15:13:11.409Z"
   },
   {
    "duration": 265,
    "start_time": "2022-02-23T15:13:11.511Z"
   },
   {
    "duration": 251,
    "start_time": "2022-02-23T15:14:09.199Z"
   },
   {
    "duration": 6,
    "start_time": "2022-02-23T15:14:20.481Z"
   },
   {
    "duration": 3,
    "start_time": "2022-02-23T15:15:11.819Z"
   },
   {
    "duration": 269,
    "start_time": "2022-02-23T15:15:13.431Z"
   },
   {
    "duration": 4,
    "start_time": "2022-02-23T15:16:51.678Z"
   },
   {
    "duration": 68610,
    "start_time": "2022-02-23T15:16:53.216Z"
   },
   {
    "duration": 4,
    "start_time": "2022-02-23T15:21:03.307Z"
   },
   {
    "duration": 239,
    "start_time": "2022-02-23T15:23:35.891Z"
   },
   {
    "duration": 87,
    "start_time": "2022-02-23T15:23:50.324Z"
   },
   {
    "duration": 4,
    "start_time": "2022-02-23T15:26:35.246Z"
   },
   {
    "duration": 56765,
    "start_time": "2022-02-23T15:26:35.253Z"
   },
   {
    "duration": 6,
    "start_time": "2022-02-23T15:27:32.021Z"
   },
   {
    "duration": 83,
    "start_time": "2022-02-23T15:27:32.029Z"
   },
   {
    "duration": 94,
    "start_time": "2022-02-23T15:27:32.115Z"
   },
   {
    "duration": 129,
    "start_time": "2022-02-23T15:32:44.787Z"
   },
   {
    "duration": -404,
    "start_time": "2022-02-23T15:32:45.323Z"
   },
   {
    "duration": -410,
    "start_time": "2022-02-23T15:32:45.330Z"
   },
   {
    "duration": -421,
    "start_time": "2022-02-23T15:32:45.342Z"
   },
   {
    "duration": -431,
    "start_time": "2022-02-23T15:32:45.353Z"
   },
   {
    "duration": 3,
    "start_time": "2022-02-23T15:32:57.779Z"
   },
   {
    "duration": 347,
    "start_time": "2022-02-23T15:32:57.787Z"
   },
   {
    "duration": -264,
    "start_time": "2022-02-23T15:32:58.401Z"
   },
   {
    "duration": -301,
    "start_time": "2022-02-23T15:32:58.439Z"
   },
   {
    "duration": -309,
    "start_time": "2022-02-23T15:32:58.448Z"
   },
   {
    "duration": 5,
    "start_time": "2022-02-23T15:33:10.449Z"
   },
   {
    "duration": 3,
    "start_time": "2022-02-23T15:33:44.848Z"
   },
   {
    "duration": 150460,
    "start_time": "2022-02-23T15:33:44.859Z"
   },
   {
    "duration": 4,
    "start_time": "2022-02-23T15:36:15.321Z"
   },
   {
    "duration": 180,
    "start_time": "2022-02-23T15:36:15.327Z"
   },
   {
    "duration": 4,
    "start_time": "2022-02-23T15:36:15.510Z"
   },
   {
    "duration": 241,
    "start_time": "2022-02-23T15:39:47.130Z"
   },
   {
    "duration": -217,
    "start_time": "2022-02-23T15:39:47.591Z"
   },
   {
    "duration": -224,
    "start_time": "2022-02-23T15:39:47.600Z"
   },
   {
    "duration": -231,
    "start_time": "2022-02-23T15:39:47.608Z"
   },
   {
    "duration": -238,
    "start_time": "2022-02-23T15:39:47.616Z"
   },
   {
    "duration": -244,
    "start_time": "2022-02-23T15:39:47.623Z"
   },
   {
    "duration": -251,
    "start_time": "2022-02-23T15:39:47.632Z"
   },
   {
    "duration": -257,
    "start_time": "2022-02-23T15:39:47.639Z"
   },
   {
    "duration": -264,
    "start_time": "2022-02-23T15:39:47.647Z"
   },
   {
    "duration": -271,
    "start_time": "2022-02-23T15:39:47.655Z"
   },
   {
    "duration": -281,
    "start_time": "2022-02-23T15:39:47.666Z"
   },
   {
    "duration": -350,
    "start_time": "2022-02-23T15:39:47.736Z"
   },
   {
    "duration": -356,
    "start_time": "2022-02-23T15:39:47.744Z"
   },
   {
    "duration": -388,
    "start_time": "2022-02-23T15:39:47.777Z"
   },
   {
    "duration": -397,
    "start_time": "2022-02-23T15:39:47.787Z"
   },
   {
    "duration": -405,
    "start_time": "2022-02-23T15:39:47.796Z"
   },
   {
    "duration": -413,
    "start_time": "2022-02-23T15:39:47.805Z"
   },
   {
    "duration": -419,
    "start_time": "2022-02-23T15:39:47.812Z"
   },
   {
    "duration": -427,
    "start_time": "2022-02-23T15:39:47.821Z"
   },
   {
    "duration": -433,
    "start_time": "2022-02-23T15:39:47.828Z"
   },
   {
    "duration": -472,
    "start_time": "2022-02-23T15:39:47.868Z"
   },
   {
    "duration": -478,
    "start_time": "2022-02-23T15:39:47.875Z"
   },
   {
    "duration": -488,
    "start_time": "2022-02-23T15:39:47.886Z"
   },
   {
    "duration": -496,
    "start_time": "2022-02-23T15:39:47.895Z"
   },
   {
    "duration": -505,
    "start_time": "2022-02-23T15:39:47.905Z"
   },
   {
    "duration": -511,
    "start_time": "2022-02-23T15:39:47.912Z"
   },
   {
    "duration": -520,
    "start_time": "2022-02-23T15:39:47.922Z"
   },
   {
    "duration": -525,
    "start_time": "2022-02-23T15:39:47.928Z"
   },
   {
    "duration": -540,
    "start_time": "2022-02-23T15:39:47.944Z"
   },
   {
    "duration": -547,
    "start_time": "2022-02-23T15:39:47.952Z"
   },
   {
    "duration": -573,
    "start_time": "2022-02-23T15:39:47.979Z"
   },
   {
    "duration": -584,
    "start_time": "2022-02-23T15:39:47.991Z"
   },
   {
    "duration": -591,
    "start_time": "2022-02-23T15:39:47.999Z"
   },
   {
    "duration": -599,
    "start_time": "2022-02-23T15:39:48.008Z"
   },
   {
    "duration": -608,
    "start_time": "2022-02-23T15:39:48.018Z"
   },
   {
    "duration": -615,
    "start_time": "2022-02-23T15:39:48.026Z"
   },
   {
    "duration": 2521,
    "start_time": "2022-02-23T15:39:55.644Z"
   },
   {
    "duration": 3,
    "start_time": "2022-02-23T15:39:58.167Z"
   },
   {
    "duration": 7,
    "start_time": "2022-02-23T15:39:58.173Z"
   },
   {
    "duration": 60,
    "start_time": "2022-02-23T15:39:58.183Z"
   },
   {
    "duration": 13,
    "start_time": "2022-02-23T15:39:58.245Z"
   },
   {
    "duration": 16,
    "start_time": "2022-02-23T15:39:58.260Z"
   },
   {
    "duration": 51,
    "start_time": "2022-02-23T15:39:58.278Z"
   },
   {
    "duration": 8,
    "start_time": "2022-02-23T15:39:58.332Z"
   },
   {
    "duration": 11,
    "start_time": "2022-02-23T15:39:58.343Z"
   },
   {
    "duration": 58,
    "start_time": "2022-02-23T15:39:58.356Z"
   },
   {
    "duration": 11,
    "start_time": "2022-02-23T15:39:58.416Z"
   },
   {
    "duration": 13,
    "start_time": "2022-02-23T15:39:58.428Z"
   },
   {
    "duration": 31,
    "start_time": "2022-02-23T15:39:58.443Z"
   },
   {
    "duration": 35,
    "start_time": "2022-02-23T15:39:58.476Z"
   },
   {
    "duration": 11,
    "start_time": "2022-02-23T15:39:58.513Z"
   },
   {
    "duration": 8,
    "start_time": "2022-02-23T15:39:58.527Z"
   },
   {
    "duration": 13,
    "start_time": "2022-02-23T15:39:58.537Z"
   },
   {
    "duration": 11,
    "start_time": "2022-02-23T15:39:58.553Z"
   },
   {
    "duration": 9,
    "start_time": "2022-02-23T15:39:58.566Z"
   },
   {
    "duration": 8,
    "start_time": "2022-02-23T15:39:58.577Z"
   },
   {
    "duration": 20,
    "start_time": "2022-02-23T15:39:58.588Z"
   },
   {
    "duration": 3,
    "start_time": "2022-02-23T15:39:58.610Z"
   },
   {
    "duration": 43,
    "start_time": "2022-02-23T15:39:58.617Z"
   },
   {
    "duration": 13,
    "start_time": "2022-02-23T15:39:58.662Z"
   },
   {
    "duration": 36,
    "start_time": "2022-02-23T15:39:58.677Z"
   },
   {
    "duration": 43,
    "start_time": "2022-02-23T15:39:58.715Z"
   },
   {
    "duration": 7,
    "start_time": "2022-02-23T15:39:58.760Z"
   },
   {
    "duration": 13,
    "start_time": "2022-02-23T15:39:58.768Z"
   },
   {
    "duration": 26,
    "start_time": "2022-02-23T15:39:58.784Z"
   },
   {
    "duration": 7,
    "start_time": "2022-02-23T15:39:58.812Z"
   },
   {
    "duration": 7,
    "start_time": "2022-02-23T15:39:58.821Z"
   },
   {
    "duration": 12,
    "start_time": "2022-02-23T15:39:58.830Z"
   },
   {
    "duration": 4420,
    "start_time": "2022-02-23T15:39:58.843Z"
   },
   {
    "duration": 18,
    "start_time": "2022-02-23T15:40:03.266Z"
   },
   {
    "duration": 243,
    "start_time": "2022-02-23T15:40:03.286Z"
   },
   {
    "duration": 41216,
    "start_time": "2022-02-23T15:40:03.532Z"
   },
   {
    "duration": 13,
    "start_time": "2022-02-23T15:40:44.750Z"
   },
   {
    "duration": 15,
    "start_time": "2022-02-23T15:40:44.765Z"
   },
   {
    "duration": 36,
    "start_time": "2022-02-23T15:40:44.782Z"
   },
   {
    "duration": 16,
    "start_time": "2022-02-23T15:40:44.820Z"
   },
   {
    "duration": 8,
    "start_time": "2022-02-23T15:40:44.838Z"
   },
   {
    "duration": 16,
    "start_time": "2022-02-23T15:40:44.848Z"
   },
   {
    "duration": 53,
    "start_time": "2022-02-23T15:40:44.866Z"
   },
   {
    "duration": 19,
    "start_time": "2022-02-23T15:40:44.921Z"
   },
   {
    "duration": 17,
    "start_time": "2022-02-23T15:40:44.942Z"
   },
   {
    "duration": 11,
    "start_time": "2022-02-23T15:40:44.961Z"
   },
   {
    "duration": 8,
    "start_time": "2022-02-23T15:40:44.974Z"
   },
   {
    "duration": 6,
    "start_time": "2022-02-23T15:40:45.007Z"
   },
   {
    "duration": 30,
    "start_time": "2022-02-23T15:40:45.016Z"
   },
   {
    "duration": 26,
    "start_time": "2022-02-23T15:40:45.049Z"
   },
   {
    "duration": 5,
    "start_time": "2022-02-23T15:40:45.077Z"
   },
   {
    "duration": 6,
    "start_time": "2022-02-23T15:40:45.084Z"
   },
   {
    "duration": 13,
    "start_time": "2022-02-23T15:40:45.092Z"
   },
   {
    "duration": 12,
    "start_time": "2022-02-23T15:40:45.107Z"
   },
   {
    "duration": 13,
    "start_time": "2022-02-23T15:40:45.121Z"
   },
   {
    "duration": 7,
    "start_time": "2022-02-23T15:40:45.137Z"
   },
   {
    "duration": 2069,
    "start_time": "2022-02-23T15:40:45.145Z"
   },
   {
    "duration": 17,
    "start_time": "2022-02-23T15:40:47.216Z"
   },
   {
    "duration": 279,
    "start_time": "2022-02-23T15:40:47.236Z"
   },
   {
    "duration": 94,
    "start_time": "2022-02-23T15:40:47.517Z"
   },
   {
    "duration": 96,
    "start_time": "2022-02-23T15:40:47.613Z"
   },
   {
    "duration": 8,
    "start_time": "2022-02-23T15:40:47.711Z"
   },
   {
    "duration": 10,
    "start_time": "2022-02-23T15:40:47.809Z"
   },
   {
    "duration": 424,
    "start_time": "2022-02-23T15:40:47.821Z"
   },
   {
    "duration": 3,
    "start_time": "2022-02-23T15:40:48.248Z"
   },
   {
    "duration": 3562,
    "start_time": "2022-02-23T15:40:48.253Z"
   },
   {
    "duration": 17,
    "start_time": "2022-02-23T15:40:51.907Z"
   },
   {
    "duration": 203,
    "start_time": "2022-02-23T15:40:52.014Z"
   },
   {
    "duration": 9,
    "start_time": "2022-02-23T15:40:52.309Z"
   },
   {
    "duration": 89,
    "start_time": "2022-02-23T15:40:52.320Z"
   },
   {
    "duration": 95,
    "start_time": "2022-02-23T15:40:52.412Z"
   },
   {
    "duration": 213,
    "start_time": "2022-02-23T15:40:52.510Z"
   },
   {
    "duration": 87,
    "start_time": "2022-02-23T15:40:52.725Z"
   },
   {
    "duration": 103,
    "start_time": "2022-02-23T15:40:52.815Z"
   },
   {
    "duration": 21,
    "start_time": "2022-02-23T15:40:52.920Z"
   },
   {
    "duration": 8,
    "start_time": "2022-02-23T15:40:53.009Z"
   },
   {
    "duration": 154207,
    "start_time": "2022-02-23T15:40:53.020Z"
   },
   {
    "duration": 4,
    "start_time": "2022-02-23T15:43:27.229Z"
   },
   {
    "duration": 82,
    "start_time": "2022-02-23T15:43:27.235Z"
   },
   {
    "duration": 6,
    "start_time": "2022-02-23T15:43:27.408Z"
   },
   {
    "duration": 3021,
    "start_time": "2022-02-23T15:46:12.637Z"
   },
   {
    "duration": 3,
    "start_time": "2022-02-23T15:46:15.661Z"
   },
   {
    "duration": 8,
    "start_time": "2022-02-23T15:46:15.667Z"
   },
   {
    "duration": 52,
    "start_time": "2022-02-23T15:46:15.677Z"
   },
   {
    "duration": 14,
    "start_time": "2022-02-23T15:46:15.731Z"
   },
   {
    "duration": 15,
    "start_time": "2022-02-23T15:46:15.747Z"
   },
   {
    "duration": 53,
    "start_time": "2022-02-23T15:46:15.764Z"
   },
   {
    "duration": 9,
    "start_time": "2022-02-23T15:46:15.820Z"
   },
   {
    "duration": 10,
    "start_time": "2022-02-23T15:46:15.831Z"
   },
   {
    "duration": 37,
    "start_time": "2022-02-23T15:46:15.843Z"
   },
   {
    "duration": 32,
    "start_time": "2022-02-23T15:46:15.882Z"
   },
   {
    "duration": 50,
    "start_time": "2022-02-23T15:46:15.916Z"
   },
   {
    "duration": 35,
    "start_time": "2022-02-23T15:46:15.969Z"
   },
   {
    "duration": 16,
    "start_time": "2022-02-23T15:46:16.006Z"
   },
   {
    "duration": 20,
    "start_time": "2022-02-23T15:46:16.024Z"
   },
   {
    "duration": 4,
    "start_time": "2022-02-23T15:46:16.047Z"
   },
   {
    "duration": 19,
    "start_time": "2022-02-23T15:46:16.053Z"
   },
   {
    "duration": 11,
    "start_time": "2022-02-23T15:46:16.074Z"
   },
   {
    "duration": 24,
    "start_time": "2022-02-23T15:46:16.087Z"
   },
   {
    "duration": 9,
    "start_time": "2022-02-23T15:46:16.113Z"
   },
   {
    "duration": 7,
    "start_time": "2022-02-23T15:46:16.124Z"
   },
   {
    "duration": 7,
    "start_time": "2022-02-23T15:46:16.133Z"
   },
   {
    "duration": 38,
    "start_time": "2022-02-23T15:46:16.144Z"
   },
   {
    "duration": 26,
    "start_time": "2022-02-23T15:46:16.185Z"
   },
   {
    "duration": 14,
    "start_time": "2022-02-23T15:46:16.213Z"
   },
   {
    "duration": 41,
    "start_time": "2022-02-23T15:46:16.229Z"
   },
   {
    "duration": 37,
    "start_time": "2022-02-23T15:46:16.272Z"
   },
   {
    "duration": 10,
    "start_time": "2022-02-23T15:46:16.311Z"
   },
   {
    "duration": 13,
    "start_time": "2022-02-23T15:46:16.323Z"
   },
   {
    "duration": 18,
    "start_time": "2022-02-23T15:46:16.338Z"
   },
   {
    "duration": 11,
    "start_time": "2022-02-23T15:46:16.358Z"
   },
   {
    "duration": 11,
    "start_time": "2022-02-23T15:46:16.370Z"
   },
   {
    "duration": 4447,
    "start_time": "2022-02-23T15:46:16.383Z"
   },
   {
    "duration": 19,
    "start_time": "2022-02-23T15:46:20.832Z"
   },
   {
    "duration": 247,
    "start_time": "2022-02-23T15:46:20.854Z"
   },
   {
    "duration": 40977,
    "start_time": "2022-02-23T15:46:21.107Z"
   },
   {
    "duration": 23,
    "start_time": "2022-02-23T15:47:02.086Z"
   },
   {
    "duration": 15,
    "start_time": "2022-02-23T15:47:02.111Z"
   },
   {
    "duration": 24,
    "start_time": "2022-02-23T15:47:02.128Z"
   },
   {
    "duration": 23,
    "start_time": "2022-02-23T15:47:02.155Z"
   },
   {
    "duration": 28,
    "start_time": "2022-02-23T15:47:02.180Z"
   },
   {
    "duration": 17,
    "start_time": "2022-02-23T15:47:02.211Z"
   },
   {
    "duration": 14,
    "start_time": "2022-02-23T15:47:02.230Z"
   },
   {
    "duration": 18,
    "start_time": "2022-02-23T15:47:02.247Z"
   },
   {
    "duration": 51,
    "start_time": "2022-02-23T15:47:02.267Z"
   },
   {
    "duration": 7,
    "start_time": "2022-02-23T15:47:02.320Z"
   },
   {
    "duration": 10,
    "start_time": "2022-02-23T15:47:02.329Z"
   },
   {
    "duration": 19,
    "start_time": "2022-02-23T15:47:02.341Z"
   },
   {
    "duration": 11,
    "start_time": "2022-02-23T15:47:02.362Z"
   },
   {
    "duration": 33,
    "start_time": "2022-02-23T15:47:02.375Z"
   },
   {
    "duration": 6,
    "start_time": "2022-02-23T15:47:02.410Z"
   },
   {
    "duration": 10,
    "start_time": "2022-02-23T15:47:02.418Z"
   },
   {
    "duration": 8,
    "start_time": "2022-02-23T15:47:02.431Z"
   },
   {
    "duration": 7,
    "start_time": "2022-02-23T15:47:02.441Z"
   },
   {
    "duration": 28,
    "start_time": "2022-02-23T15:47:02.450Z"
   },
   {
    "duration": 10,
    "start_time": "2022-02-23T15:47:02.480Z"
   },
   {
    "duration": 1623,
    "start_time": "2022-02-23T15:47:02.492Z"
   },
   {
    "duration": 96,
    "start_time": "2022-02-23T15:47:04.118Z"
   },
   {
    "duration": 296,
    "start_time": "2022-02-23T15:47:04.217Z"
   },
   {
    "duration": 98,
    "start_time": "2022-02-23T15:47:04.516Z"
   },
   {
    "duration": 93,
    "start_time": "2022-02-23T15:47:04.616Z"
   },
   {
    "duration": 102,
    "start_time": "2022-02-23T15:47:04.712Z"
   },
   {
    "duration": 26,
    "start_time": "2022-02-23T15:47:04.817Z"
   },
   {
    "duration": 401,
    "start_time": "2022-02-23T15:47:04.845Z"
   },
   {
    "duration": 3,
    "start_time": "2022-02-23T15:47:05.248Z"
   },
   {
    "duration": 3856,
    "start_time": "2022-02-23T15:47:05.253Z"
   },
   {
    "duration": 16,
    "start_time": "2022-02-23T15:47:09.111Z"
   },
   {
    "duration": 206,
    "start_time": "2022-02-23T15:47:09.207Z"
   },
   {
    "duration": 92,
    "start_time": "2022-02-23T15:47:09.417Z"
   },
   {
    "duration": 98,
    "start_time": "2022-02-23T15:47:09.511Z"
   },
   {
    "duration": 96,
    "start_time": "2022-02-23T15:47:09.611Z"
   },
   {
    "duration": 216,
    "start_time": "2022-02-23T15:47:09.710Z"
   },
   {
    "duration": 84,
    "start_time": "2022-02-23T15:47:09.929Z"
   },
   {
    "duration": 103,
    "start_time": "2022-02-23T15:47:10.016Z"
   },
   {
    "duration": 92,
    "start_time": "2022-02-23T15:47:10.121Z"
   },
   {
    "duration": 94,
    "start_time": "2022-02-23T15:47:10.216Z"
   },
   {
    "duration": 83153,
    "start_time": "2022-02-23T15:47:10.312Z"
   },
   {
    "duration": 4,
    "start_time": "2022-02-23T15:48:33.468Z"
   },
   {
    "duration": 135,
    "start_time": "2022-02-23T15:48:33.474Z"
   },
   {
    "duration": 97,
    "start_time": "2022-02-23T15:48:33.611Z"
   },
   {
    "duration": 80,
    "start_time": "2022-02-23T15:49:37.628Z"
   },
   {
    "duration": 2778,
    "start_time": "2022-02-23T15:50:32.199Z"
   },
   {
    "duration": 3,
    "start_time": "2022-02-23T15:50:34.980Z"
   },
   {
    "duration": 8,
    "start_time": "2022-02-23T15:50:34.986Z"
   },
   {
    "duration": 61,
    "start_time": "2022-02-23T15:50:34.997Z"
   },
   {
    "duration": 14,
    "start_time": "2022-02-23T15:50:35.060Z"
   },
   {
    "duration": 17,
    "start_time": "2022-02-23T15:50:35.076Z"
   },
   {
    "duration": 54,
    "start_time": "2022-02-23T15:50:35.095Z"
   },
   {
    "duration": 8,
    "start_time": "2022-02-23T15:50:35.152Z"
   },
   {
    "duration": 11,
    "start_time": "2022-02-23T15:50:35.163Z"
   },
   {
    "duration": 59,
    "start_time": "2022-02-23T15:50:35.176Z"
   },
   {
    "duration": 10,
    "start_time": "2022-02-23T15:50:35.237Z"
   },
   {
    "duration": 29,
    "start_time": "2022-02-23T15:50:35.249Z"
   },
   {
    "duration": 36,
    "start_time": "2022-02-23T15:50:35.280Z"
   },
   {
    "duration": 12,
    "start_time": "2022-02-23T15:50:35.318Z"
   },
   {
    "duration": 33,
    "start_time": "2022-02-23T15:50:35.332Z"
   },
   {
    "duration": 12,
    "start_time": "2022-02-23T15:50:35.367Z"
   },
   {
    "duration": 26,
    "start_time": "2022-02-23T15:50:35.382Z"
   },
   {
    "duration": 10,
    "start_time": "2022-02-23T15:50:35.410Z"
   },
   {
    "duration": 29,
    "start_time": "2022-02-23T15:50:35.422Z"
   },
   {
    "duration": 19,
    "start_time": "2022-02-23T15:50:35.453Z"
   },
   {
    "duration": 13,
    "start_time": "2022-02-23T15:50:35.474Z"
   },
   {
    "duration": 24,
    "start_time": "2022-02-23T15:50:35.489Z"
   },
   {
    "duration": 49,
    "start_time": "2022-02-23T15:50:35.519Z"
   },
   {
    "duration": 13,
    "start_time": "2022-02-23T15:50:35.572Z"
   },
   {
    "duration": 28,
    "start_time": "2022-02-23T15:50:35.587Z"
   },
   {
    "duration": 43,
    "start_time": "2022-02-23T15:50:35.617Z"
   },
   {
    "duration": 8,
    "start_time": "2022-02-23T15:50:35.662Z"
   },
   {
    "duration": 13,
    "start_time": "2022-02-23T15:50:35.672Z"
   },
   {
    "duration": 24,
    "start_time": "2022-02-23T15:50:35.687Z"
   },
   {
    "duration": 21,
    "start_time": "2022-02-23T15:50:35.713Z"
   },
   {
    "duration": 17,
    "start_time": "2022-02-23T15:50:35.736Z"
   },
   {
    "duration": 15,
    "start_time": "2022-02-23T15:50:35.756Z"
   },
   {
    "duration": 4321,
    "start_time": "2022-02-23T15:50:35.773Z"
   },
   {
    "duration": 24,
    "start_time": "2022-02-23T15:50:40.097Z"
   },
   {
    "duration": 253,
    "start_time": "2022-02-23T15:50:40.123Z"
   },
   {
    "duration": 41841,
    "start_time": "2022-02-23T15:50:40.378Z"
   },
   {
    "duration": 15,
    "start_time": "2022-02-23T15:51:22.221Z"
   },
   {
    "duration": 13,
    "start_time": "2022-02-23T15:51:22.238Z"
   },
   {
    "duration": 13,
    "start_time": "2022-02-23T15:51:22.253Z"
   },
   {
    "duration": 46,
    "start_time": "2022-02-23T15:51:22.267Z"
   },
   {
    "duration": 7,
    "start_time": "2022-02-23T15:51:22.315Z"
   },
   {
    "duration": 23,
    "start_time": "2022-02-23T15:51:22.324Z"
   },
   {
    "duration": 14,
    "start_time": "2022-02-23T15:51:22.349Z"
   },
   {
    "duration": 43,
    "start_time": "2022-02-23T15:51:22.365Z"
   },
   {
    "duration": 16,
    "start_time": "2022-02-23T15:51:22.410Z"
   },
   {
    "duration": 7,
    "start_time": "2022-02-23T15:51:22.429Z"
   },
   {
    "duration": 8,
    "start_time": "2022-02-23T15:51:22.438Z"
   },
   {
    "duration": 7,
    "start_time": "2022-02-23T15:51:22.448Z"
   },
   {
    "duration": 8,
    "start_time": "2022-02-23T15:51:22.457Z"
   },
   {
    "duration": 50,
    "start_time": "2022-02-23T15:51:22.467Z"
   },
   {
    "duration": 5,
    "start_time": "2022-02-23T15:51:22.519Z"
   },
   {
    "duration": 6,
    "start_time": "2022-02-23T15:51:22.526Z"
   },
   {
    "duration": 8,
    "start_time": "2022-02-23T15:51:22.534Z"
   },
   {
    "duration": 10,
    "start_time": "2022-02-23T15:51:22.544Z"
   },
   {
    "duration": 9,
    "start_time": "2022-02-23T15:51:22.556Z"
   },
   {
    "duration": 13,
    "start_time": "2022-02-23T15:51:22.567Z"
   },
   {
    "duration": 2227,
    "start_time": "2022-02-23T15:51:22.582Z"
   },
   {
    "duration": 16,
    "start_time": "2022-02-23T15:51:24.811Z"
   },
   {
    "duration": 284,
    "start_time": "2022-02-23T15:51:24.829Z"
   },
   {
    "duration": 94,
    "start_time": "2022-02-23T15:51:25.115Z"
   },
   {
    "duration": 96,
    "start_time": "2022-02-23T15:51:25.212Z"
   },
   {
    "duration": 98,
    "start_time": "2022-02-23T15:51:25.311Z"
   },
   {
    "duration": 9,
    "start_time": "2022-02-23T15:51:25.411Z"
   },
   {
    "duration": 409,
    "start_time": "2022-02-23T15:51:25.422Z"
   },
   {
    "duration": 3,
    "start_time": "2022-02-23T15:51:25.833Z"
   },
   {
    "duration": 4182,
    "start_time": "2022-02-23T15:51:25.838Z"
   },
   {
    "duration": 20,
    "start_time": "2022-02-23T15:51:30.022Z"
   },
   {
    "duration": 203,
    "start_time": "2022-02-23T15:51:30.112Z"
   },
   {
    "duration": 93,
    "start_time": "2022-02-23T15:51:30.318Z"
   },
   {
    "duration": 96,
    "start_time": "2022-02-23T15:51:30.413Z"
   },
   {
    "duration": 8,
    "start_time": "2022-02-23T15:51:30.512Z"
   },
   {
    "duration": 302,
    "start_time": "2022-02-23T15:51:30.522Z"
   },
   {
    "duration": 84,
    "start_time": "2022-02-23T15:51:30.826Z"
   },
   {
    "duration": 104,
    "start_time": "2022-02-23T15:51:30.913Z"
   },
   {
    "duration": 89,
    "start_time": "2022-02-23T15:51:31.019Z"
   },
   {
    "duration": 97,
    "start_time": "2022-02-23T15:51:31.111Z"
   },
   {
    "duration": 82919,
    "start_time": "2022-02-23T15:51:31.211Z"
   },
   {
    "duration": 4,
    "start_time": "2022-02-23T15:52:54.133Z"
   },
   {
    "duration": 169,
    "start_time": "2022-02-23T15:52:54.139Z"
   },
   {
    "duration": 98,
    "start_time": "2022-02-23T15:52:54.311Z"
   },
   {
    "duration": 97,
    "start_time": "2022-02-23T15:52:54.412Z"
   },
   {
    "duration": 5,
    "start_time": "2022-02-23T15:54:56.486Z"
   },
   {
    "duration": 3100,
    "start_time": "2022-02-23T15:56:18.161Z"
   },
   {
    "duration": 3,
    "start_time": "2022-02-23T15:56:21.264Z"
   },
   {
    "duration": 6,
    "start_time": "2022-02-23T15:56:21.269Z"
   },
   {
    "duration": 70,
    "start_time": "2022-02-23T15:56:21.277Z"
   },
   {
    "duration": 14,
    "start_time": "2022-02-23T15:56:21.349Z"
   },
   {
    "duration": 14,
    "start_time": "2022-02-23T15:56:21.365Z"
   },
   {
    "duration": 56,
    "start_time": "2022-02-23T15:56:21.382Z"
   },
   {
    "duration": 8,
    "start_time": "2022-02-23T15:56:21.442Z"
   },
   {
    "duration": 13,
    "start_time": "2022-02-23T15:56:21.452Z"
   },
   {
    "duration": 58,
    "start_time": "2022-02-23T15:56:21.467Z"
   },
   {
    "duration": 12,
    "start_time": "2022-02-23T15:56:21.528Z"
   },
   {
    "duration": 10,
    "start_time": "2022-02-23T15:56:21.542Z"
   },
   {
    "duration": 55,
    "start_time": "2022-02-23T15:56:21.554Z"
   },
   {
    "duration": 10,
    "start_time": "2022-02-23T15:56:21.612Z"
   },
   {
    "duration": 13,
    "start_time": "2022-02-23T15:56:21.624Z"
   },
   {
    "duration": 4,
    "start_time": "2022-02-23T15:56:21.639Z"
   },
   {
    "duration": 10,
    "start_time": "2022-02-23T15:56:21.645Z"
   },
   {
    "duration": 7,
    "start_time": "2022-02-23T15:56:21.657Z"
   },
   {
    "duration": 8,
    "start_time": "2022-02-23T15:56:21.666Z"
   },
   {
    "duration": 31,
    "start_time": "2022-02-23T15:56:21.676Z"
   },
   {
    "duration": 5,
    "start_time": "2022-02-23T15:56:21.709Z"
   },
   {
    "duration": 7,
    "start_time": "2022-02-23T15:56:21.715Z"
   },
   {
    "duration": 37,
    "start_time": "2022-02-23T15:56:21.727Z"
   },
   {
    "duration": 14,
    "start_time": "2022-02-23T15:56:21.766Z"
   },
   {
    "duration": 37,
    "start_time": "2022-02-23T15:56:21.782Z"
   },
   {
    "duration": 41,
    "start_time": "2022-02-23T15:56:21.820Z"
   },
   {
    "duration": 6,
    "start_time": "2022-02-23T15:56:21.864Z"
   },
   {
    "duration": 40,
    "start_time": "2022-02-23T15:56:21.872Z"
   },
   {
    "duration": 4,
    "start_time": "2022-02-23T15:56:21.915Z"
   },
   {
    "duration": 14,
    "start_time": "2022-02-23T15:56:21.921Z"
   },
   {
    "duration": 10,
    "start_time": "2022-02-23T15:56:21.937Z"
   },
   {
    "duration": 16,
    "start_time": "2022-02-23T15:56:21.949Z"
   },
   {
    "duration": 4491,
    "start_time": "2022-02-23T15:56:21.967Z"
   },
   {
    "duration": 18,
    "start_time": "2022-02-23T15:56:26.461Z"
   },
   {
    "duration": 348,
    "start_time": "2022-02-23T15:56:26.481Z"
   },
   {
    "duration": 43435,
    "start_time": "2022-02-23T15:56:26.831Z"
   },
   {
    "duration": 15,
    "start_time": "2022-02-23T15:57:10.268Z"
   },
   {
    "duration": 27,
    "start_time": "2022-02-23T15:57:10.285Z"
   },
   {
    "duration": 14,
    "start_time": "2022-02-23T15:57:10.315Z"
   },
   {
    "duration": 13,
    "start_time": "2022-02-23T15:57:10.332Z"
   },
   {
    "duration": 7,
    "start_time": "2022-02-23T15:57:10.348Z"
   },
   {
    "duration": 53,
    "start_time": "2022-02-23T15:57:10.357Z"
   },
   {
    "duration": 14,
    "start_time": "2022-02-23T15:57:10.412Z"
   },
   {
    "duration": 16,
    "start_time": "2022-02-23T15:57:10.428Z"
   },
   {
    "duration": 28,
    "start_time": "2022-02-23T15:57:10.447Z"
   },
   {
    "duration": 29,
    "start_time": "2022-02-23T15:57:10.478Z"
   },
   {
    "duration": 7,
    "start_time": "2022-02-23T15:57:10.510Z"
   },
   {
    "duration": 12,
    "start_time": "2022-02-23T15:57:10.520Z"
   },
   {
    "duration": 7,
    "start_time": "2022-02-23T15:57:10.534Z"
   },
   {
    "duration": 26,
    "start_time": "2022-02-23T15:57:10.543Z"
   },
   {
    "duration": 5,
    "start_time": "2022-02-23T15:57:10.571Z"
   },
   {
    "duration": 3,
    "start_time": "2022-02-23T15:57:10.608Z"
   },
   {
    "duration": 14,
    "start_time": "2022-02-23T15:57:10.614Z"
   },
   {
    "duration": 12,
    "start_time": "2022-02-23T15:57:10.630Z"
   },
   {
    "duration": 11,
    "start_time": "2022-02-23T15:57:10.644Z"
   },
   {
    "duration": 8,
    "start_time": "2022-02-23T15:57:10.657Z"
   },
   {
    "duration": 166,
    "start_time": "2022-02-23T15:57:10.667Z"
   },
   {
    "duration": 19,
    "start_time": "2022-02-23T15:57:10.835Z"
   },
   {
    "duration": 56,
    "start_time": "2022-02-23T15:57:10.856Z"
   },
   {
    "duration": 7,
    "start_time": "2022-02-23T15:57:10.914Z"
   },
   {
    "duration": 42,
    "start_time": "2022-02-23T15:57:10.923Z"
   },
   {
    "duration": 6,
    "start_time": "2022-02-23T15:57:10.967Z"
   },
   {
    "duration": 37,
    "start_time": "2022-02-23T15:57:10.975Z"
   },
   {
    "duration": 261,
    "start_time": "2022-02-23T15:57:11.014Z"
   },
   {
    "duration": 4,
    "start_time": "2022-02-23T15:57:11.276Z"
   },
   {
    "duration": 500,
    "start_time": "2022-02-23T15:57:11.281Z"
   },
   {
    "duration": 25,
    "start_time": "2022-02-23T15:57:11.783Z"
   },
   {
    "duration": 50,
    "start_time": "2022-02-23T15:57:11.814Z"
   },
   {
    "duration": 8,
    "start_time": "2022-02-23T15:57:11.866Z"
   },
   {
    "duration": 58,
    "start_time": "2022-02-23T15:57:11.875Z"
   },
   {
    "duration": 5,
    "start_time": "2022-02-23T15:57:11.935Z"
   },
   {
    "duration": 79,
    "start_time": "2022-02-23T15:57:11.942Z"
   },
   {
    "duration": 50,
    "start_time": "2022-02-23T15:57:12.023Z"
   },
   {
    "duration": 32,
    "start_time": "2022-02-23T15:57:12.075Z"
   },
   {
    "duration": 7,
    "start_time": "2022-02-23T16:00:49.274Z"
   },
   {
    "duration": 4,
    "start_time": "2022-02-23T16:08:37.071Z"
   },
   {
    "duration": 81979,
    "start_time": "2022-02-23T16:08:37.079Z"
   },
   {
    "duration": -213,
    "start_time": "2022-02-23T16:09:59.274Z"
   },
   {
    "duration": -240,
    "start_time": "2022-02-23T16:09:59.302Z"
   },
   {
    "duration": -256,
    "start_time": "2022-02-23T16:09:59.319Z"
   },
   {
    "duration": -308,
    "start_time": "2022-02-23T16:09:59.373Z"
   },
   {
    "duration": 60985,
    "start_time": "2022-02-23T16:10:49.706Z"
   },
   {
    "duration": 4,
    "start_time": "2022-02-23T16:11:50.693Z"
   },
   {
    "duration": 36,
    "start_time": "2022-02-23T16:11:50.699Z"
   },
   {
    "duration": 21,
    "start_time": "2022-02-23T16:11:50.737Z"
   },
   {
    "duration": 9,
    "start_time": "2022-02-23T16:11:50.760Z"
   },
   {
    "duration": 3,
    "start_time": "2022-02-23T16:13:57.099Z"
   },
   {
    "duration": 56129,
    "start_time": "2022-02-23T16:13:57.112Z"
   },
   {
    "duration": 4,
    "start_time": "2022-02-23T16:14:53.243Z"
   },
   {
    "duration": 37,
    "start_time": "2022-02-23T16:14:53.250Z"
   },
   {
    "duration": 30,
    "start_time": "2022-02-23T16:14:53.290Z"
   },
   {
    "duration": 5,
    "start_time": "2022-02-23T16:14:53.322Z"
   },
   {
    "duration": 3,
    "start_time": "2022-02-23T16:19:29.259Z"
   },
   {
    "duration": 26899,
    "start_time": "2022-02-23T16:19:29.275Z"
   },
   {
    "duration": 4,
    "start_time": "2022-02-23T16:19:56.177Z"
   },
   {
    "duration": 41,
    "start_time": "2022-02-23T16:19:56.183Z"
   },
   {
    "duration": 21,
    "start_time": "2022-02-23T16:19:56.226Z"
   },
   {
    "duration": 5,
    "start_time": "2022-02-23T16:19:56.249Z"
   },
   {
    "duration": 6,
    "start_time": "2022-02-23T16:22:40.797Z"
   },
   {
    "duration": 4903,
    "start_time": "2022-02-23T16:23:17.662Z"
   },
   {
    "duration": 6826,
    "start_time": "2022-02-23T16:23:30.155Z"
   },
   {
    "duration": 6,
    "start_time": "2022-02-23T16:24:32.131Z"
   },
   {
    "duration": 254,
    "start_time": "2022-02-23T16:27:26.726Z"
   },
   {
    "duration": 2547,
    "start_time": "2022-02-23T16:29:12.620Z"
   },
   {
    "duration": 3,
    "start_time": "2022-02-23T16:29:15.170Z"
   },
   {
    "duration": 2526,
    "start_time": "2022-02-23T16:29:15.175Z"
   },
   {
    "duration": 5,
    "start_time": "2022-02-23T16:29:17.703Z"
   },
   {
    "duration": 52,
    "start_time": "2022-02-23T16:29:17.710Z"
   },
   {
    "duration": 13,
    "start_time": "2022-02-23T16:29:17.764Z"
   },
   {
    "duration": 14,
    "start_time": "2022-02-23T16:29:17.779Z"
   },
   {
    "duration": 37,
    "start_time": "2022-02-23T16:29:17.809Z"
   },
   {
    "duration": 8,
    "start_time": "2022-02-23T16:29:17.849Z"
   },
   {
    "duration": 12,
    "start_time": "2022-02-23T16:29:17.860Z"
   },
   {
    "duration": 64,
    "start_time": "2022-02-23T16:29:17.875Z"
   },
   {
    "duration": 9,
    "start_time": "2022-02-23T16:29:17.941Z"
   },
   {
    "duration": 10,
    "start_time": "2022-02-23T16:29:17.952Z"
   },
   {
    "duration": 52,
    "start_time": "2022-02-23T16:29:17.964Z"
   },
   {
    "duration": 10,
    "start_time": "2022-02-23T16:29:18.019Z"
   },
   {
    "duration": 23,
    "start_time": "2022-02-23T16:29:18.031Z"
   },
   {
    "duration": 7,
    "start_time": "2022-02-23T16:29:18.056Z"
   },
   {
    "duration": 11,
    "start_time": "2022-02-23T16:29:18.065Z"
   },
   {
    "duration": 9,
    "start_time": "2022-02-23T16:29:18.078Z"
   },
   {
    "duration": 22,
    "start_time": "2022-02-23T16:29:18.089Z"
   },
   {
    "duration": 7,
    "start_time": "2022-02-23T16:29:18.114Z"
   },
   {
    "duration": 5,
    "start_time": "2022-02-23T16:29:18.123Z"
   },
   {
    "duration": 8,
    "start_time": "2022-02-23T16:29:18.132Z"
   },
   {
    "duration": 48,
    "start_time": "2022-02-23T16:29:18.143Z"
   },
   {
    "duration": 22,
    "start_time": "2022-02-23T16:29:18.193Z"
   },
   {
    "duration": 16,
    "start_time": "2022-02-23T16:29:18.217Z"
   },
   {
    "duration": 72,
    "start_time": "2022-02-23T16:29:18.235Z"
   },
   {
    "duration": 7,
    "start_time": "2022-02-23T16:29:18.309Z"
   },
   {
    "duration": 11,
    "start_time": "2022-02-23T16:29:18.318Z"
   },
   {
    "duration": 9,
    "start_time": "2022-02-23T16:29:18.331Z"
   },
   {
    "duration": 10,
    "start_time": "2022-02-23T16:29:18.342Z"
   },
   {
    "duration": 8,
    "start_time": "2022-02-23T16:29:18.354Z"
   },
   {
    "duration": 12,
    "start_time": "2022-02-23T16:29:18.364Z"
   },
   {
    "duration": 4501,
    "start_time": "2022-02-23T16:29:18.378Z"
   },
   {
    "duration": 28,
    "start_time": "2022-02-23T16:29:22.882Z"
   },
   {
    "duration": 246,
    "start_time": "2022-02-23T16:29:22.912Z"
   },
   {
    "duration": 41195,
    "start_time": "2022-02-23T16:29:23.160Z"
   },
   {
    "duration": 15,
    "start_time": "2022-02-23T16:30:04.357Z"
   },
   {
    "duration": 34,
    "start_time": "2022-02-23T16:30:04.374Z"
   },
   {
    "duration": 16,
    "start_time": "2022-02-23T16:30:04.411Z"
   },
   {
    "duration": 36,
    "start_time": "2022-02-23T16:30:04.429Z"
   },
   {
    "duration": 40,
    "start_time": "2022-02-23T16:30:04.467Z"
   },
   {
    "duration": 43,
    "start_time": "2022-02-23T16:30:04.510Z"
   },
   {
    "duration": 20,
    "start_time": "2022-02-23T16:30:04.555Z"
   },
   {
    "duration": 25,
    "start_time": "2022-02-23T16:30:04.577Z"
   },
   {
    "duration": 33,
    "start_time": "2022-02-23T16:30:04.604Z"
   },
   {
    "duration": 34,
    "start_time": "2022-02-23T16:30:04.639Z"
   },
   {
    "duration": 45,
    "start_time": "2022-02-23T16:30:04.675Z"
   },
   {
    "duration": 29,
    "start_time": "2022-02-23T16:30:04.722Z"
   },
   {
    "duration": 16,
    "start_time": "2022-02-23T16:30:04.753Z"
   },
   {
    "duration": 30,
    "start_time": "2022-02-23T16:30:04.771Z"
   },
   {
    "duration": 5,
    "start_time": "2022-02-23T16:30:04.803Z"
   },
   {
    "duration": 22,
    "start_time": "2022-02-23T16:30:04.810Z"
   },
   {
    "duration": 18,
    "start_time": "2022-02-23T16:30:04.834Z"
   },
   {
    "duration": 14,
    "start_time": "2022-02-23T16:30:04.855Z"
   },
   {
    "duration": 20,
    "start_time": "2022-02-23T16:30:04.872Z"
   },
   {
    "duration": 17,
    "start_time": "2022-02-23T16:30:04.894Z"
   },
   {
    "duration": 162,
    "start_time": "2022-02-23T16:30:04.913Z"
   },
   {
    "duration": 18,
    "start_time": "2022-02-23T16:30:05.077Z"
   },
   {
    "duration": 53,
    "start_time": "2022-02-23T16:30:05.097Z"
   },
   {
    "duration": 8,
    "start_time": "2022-02-23T16:30:05.153Z"
   },
   {
    "duration": 71,
    "start_time": "2022-02-23T16:30:05.164Z"
   },
   {
    "duration": 7,
    "start_time": "2022-02-23T16:30:05.237Z"
   },
   {
    "duration": 8,
    "start_time": "2022-02-23T16:30:05.246Z"
   },
   {
    "duration": 285,
    "start_time": "2022-02-23T16:30:05.256Z"
   },
   {
    "duration": 3,
    "start_time": "2022-02-23T16:30:05.544Z"
   },
   {
    "duration": 532,
    "start_time": "2022-02-23T16:30:05.549Z"
   },
   {
    "duration": 28,
    "start_time": "2022-02-23T16:30:06.087Z"
   },
   {
    "duration": 47,
    "start_time": "2022-02-23T16:30:06.117Z"
   },
   {
    "duration": 9,
    "start_time": "2022-02-23T16:30:06.166Z"
   },
   {
    "duration": 62,
    "start_time": "2022-02-23T16:30:06.177Z"
   },
   {
    "duration": 6,
    "start_time": "2022-02-23T16:30:06.241Z"
   },
   {
    "duration": 88,
    "start_time": "2022-02-23T16:30:06.249Z"
   },
   {
    "duration": 45,
    "start_time": "2022-02-23T16:30:06.339Z"
   },
   {
    "duration": 30,
    "start_time": "2022-02-23T16:30:06.386Z"
   },
   {
    "duration": 21,
    "start_time": "2022-02-23T16:30:06.418Z"
   },
   {
    "duration": 3,
    "start_time": "2022-02-23T16:30:06.441Z"
   },
   {
    "duration": 12,
    "start_time": "2022-02-23T16:30:06.446Z"
   },
   {
    "duration": 27,
    "start_time": "2022-02-23T16:30:06.460Z"
   },
   {
    "duration": 26325,
    "start_time": "2022-02-23T16:30:06.489Z"
   },
   {
    "duration": 5,
    "start_time": "2022-02-23T16:30:32.816Z"
   },
   {
    "duration": 41,
    "start_time": "2022-02-23T16:30:32.823Z"
   },
   {
    "duration": 19,
    "start_time": "2022-02-23T16:30:32.866Z"
   },
   {
    "duration": 255,
    "start_time": "2022-02-23T16:30:32.888Z"
   },
   {
    "duration": -422,
    "start_time": "2022-02-23T16:30:33.567Z"
   },
   {
    "duration": 5,
    "start_time": "2022-02-23T16:31:56.343Z"
   },
   {
    "duration": 229,
    "start_time": "2022-02-23T16:32:02.064Z"
   },
   {
    "duration": 354,
    "start_time": "2022-02-23T16:32:39.807Z"
   },
   {
    "duration": 411,
    "start_time": "2022-02-23T16:33:00.536Z"
   },
   {
    "duration": 341,
    "start_time": "2022-02-23T16:33:48.601Z"
   },
   {
    "duration": 297,
    "start_time": "2022-02-23T16:34:13.864Z"
   },
   {
    "duration": 283,
    "start_time": "2022-02-23T16:34:52.779Z"
   },
   {
    "duration": 233,
    "start_time": "2022-02-23T16:38:59.488Z"
   },
   {
    "duration": 250,
    "start_time": "2022-02-23T16:39:29.815Z"
   },
   {
    "duration": 239,
    "start_time": "2022-02-23T16:39:52.583Z"
   },
   {
    "duration": 6,
    "start_time": "2022-02-23T16:39:59.721Z"
   },
   {
    "duration": 236,
    "start_time": "2022-02-23T16:40:21.941Z"
   },
   {
    "duration": 244,
    "start_time": "2022-02-23T16:40:31.993Z"
   },
   {
    "duration": 313,
    "start_time": "2022-02-23T16:41:23.537Z"
   },
   {
    "duration": 5,
    "start_time": "2022-02-23T16:41:31.765Z"
   },
   {
    "duration": 254,
    "start_time": "2022-02-23T16:41:40.998Z"
   },
   {
    "duration": 5,
    "start_time": "2022-02-23T16:41:47.473Z"
   },
   {
    "duration": 227,
    "start_time": "2022-02-23T16:45:42.130Z"
   },
   {
    "duration": 214,
    "start_time": "2022-02-23T16:46:07.146Z"
   },
   {
    "duration": 243,
    "start_time": "2022-02-23T16:48:10.671Z"
   },
   {
    "duration": 234,
    "start_time": "2022-02-23T16:50:07.258Z"
   },
   {
    "duration": 237,
    "start_time": "2022-02-23T16:51:17.288Z"
   },
   {
    "duration": 260,
    "start_time": "2022-02-23T16:51:36.953Z"
   },
   {
    "duration": 295,
    "start_time": "2022-02-23T16:53:35.349Z"
   },
   {
    "duration": 264,
    "start_time": "2022-02-23T16:53:41.500Z"
   },
   {
    "duration": 235,
    "start_time": "2022-02-23T16:53:52.034Z"
   },
   {
    "duration": 333,
    "start_time": "2022-02-23T16:53:58.294Z"
   },
   {
    "duration": 240,
    "start_time": "2022-02-23T16:54:12.090Z"
   },
   {
    "duration": 233,
    "start_time": "2022-02-23T16:56:56.932Z"
   },
   {
    "duration": 293,
    "start_time": "2022-02-23T16:57:05.506Z"
   },
   {
    "duration": 239,
    "start_time": "2022-02-23T16:57:53.086Z"
   },
   {
    "duration": 289,
    "start_time": "2022-02-23T16:58:31.547Z"
   },
   {
    "duration": 235,
    "start_time": "2022-02-23T16:58:58.506Z"
   },
   {
    "duration": 269,
    "start_time": "2022-02-23T16:59:18.859Z"
   },
   {
    "duration": 233,
    "start_time": "2022-02-23T16:59:35.941Z"
   },
   {
    "duration": 255,
    "start_time": "2022-02-23T16:59:46.823Z"
   },
   {
    "duration": 254,
    "start_time": "2022-02-23T17:01:43.460Z"
   },
   {
    "duration": 243,
    "start_time": "2022-02-23T17:01:49.291Z"
   },
   {
    "duration": 234,
    "start_time": "2022-02-23T17:01:54.638Z"
   },
   {
    "duration": 6,
    "start_time": "2022-02-23T17:01:59.908Z"
   },
   {
    "duration": 311,
    "start_time": "2022-02-23T17:02:20.331Z"
   },
   {
    "duration": 288,
    "start_time": "2022-02-23T17:02:31.179Z"
   },
   {
    "duration": 239,
    "start_time": "2022-02-23T17:02:39.324Z"
   },
   {
    "duration": 232,
    "start_time": "2022-02-23T17:02:45.236Z"
   },
   {
    "duration": 5,
    "start_time": "2022-02-23T17:02:49.671Z"
   },
   {
    "duration": 266,
    "start_time": "2022-02-23T17:03:10.975Z"
   },
   {
    "duration": 256,
    "start_time": "2022-02-23T17:03:17.373Z"
   },
   {
    "duration": 252,
    "start_time": "2022-02-23T17:03:23.252Z"
   },
   {
    "duration": 287,
    "start_time": "2022-02-23T17:03:28.274Z"
   },
   {
    "duration": 232,
    "start_time": "2022-02-23T17:03:33.671Z"
   },
   {
    "duration": 239,
    "start_time": "2022-02-23T17:30:56.185Z"
   },
   {
    "duration": 230,
    "start_time": "2022-02-23T17:31:29.425Z"
   },
   {
    "duration": 4,
    "start_time": "2022-02-23T17:31:59.649Z"
   },
   {
    "duration": 58293,
    "start_time": "2022-02-23T17:31:59.655Z"
   },
   {
    "duration": 4,
    "start_time": "2022-02-23T17:32:57.950Z"
   },
   {
    "duration": 30,
    "start_time": "2022-02-23T17:32:57.956Z"
   },
   {
    "duration": 39,
    "start_time": "2022-02-23T17:32:57.988Z"
   },
   {
    "duration": 265,
    "start_time": "2022-02-23T17:32:58.029Z"
   },
   {
    "duration": 5,
    "start_time": "2022-02-23T17:32:58.297Z"
   },
   {
    "duration": 235,
    "start_time": "2022-02-23T17:32:58.308Z"
   },
   {
    "duration": -235,
    "start_time": "2022-02-23T17:32:58.780Z"
   },
   {
    "duration": -275,
    "start_time": "2022-02-23T17:32:58.821Z"
   },
   {
    "duration": -282,
    "start_time": "2022-02-23T17:32:58.829Z"
   },
   {
    "duration": 219,
    "start_time": "2022-02-23T17:33:21.938Z"
   },
   {
    "duration": 3,
    "start_time": "2022-02-23T17:35:15.339Z"
   },
   {
    "duration": 26170,
    "start_time": "2022-02-23T17:35:15.346Z"
   },
   {
    "duration": 4,
    "start_time": "2022-02-23T17:35:41.519Z"
   },
   {
    "duration": 51,
    "start_time": "2022-02-23T17:35:41.525Z"
   },
   {
    "duration": 22,
    "start_time": "2022-02-23T17:35:41.578Z"
   },
   {
    "duration": 238,
    "start_time": "2022-02-23T17:35:41.602Z"
   },
   {
    "duration": 5,
    "start_time": "2022-02-23T17:35:41.842Z"
   },
   {
    "duration": 507,
    "start_time": "2022-02-23T17:35:41.849Z"
   },
   {
    "duration": -229,
    "start_time": "2022-02-23T17:35:42.588Z"
   },
   {
    "duration": -270,
    "start_time": "2022-02-23T17:35:42.630Z"
   },
   {
    "duration": -277,
    "start_time": "2022-02-23T17:35:42.638Z"
   },
   {
    "duration": 12802,
    "start_time": "2022-02-24T06:40:54.423Z"
   },
   {
    "duration": 4,
    "start_time": "2022-02-24T06:41:07.228Z"
   },
   {
    "duration": 1670,
    "start_time": "2022-02-24T06:41:07.237Z"
   },
   {
    "duration": 71,
    "start_time": "2022-02-24T06:41:08.910Z"
   },
   {
    "duration": 15,
    "start_time": "2022-02-24T06:41:08.983Z"
   },
   {
    "duration": 22,
    "start_time": "2022-02-24T06:41:09.000Z"
   },
   {
    "duration": 75,
    "start_time": "2022-02-24T06:41:09.024Z"
   },
   {
    "duration": 10,
    "start_time": "2022-02-24T06:41:09.104Z"
   },
   {
    "duration": 46,
    "start_time": "2022-02-24T06:41:09.117Z"
   },
   {
    "duration": 47,
    "start_time": "2022-02-24T06:41:09.166Z"
   },
   {
    "duration": 49,
    "start_time": "2022-02-24T06:41:09.216Z"
   },
   {
    "duration": 12,
    "start_time": "2022-02-24T06:41:09.268Z"
   },
   {
    "duration": 35,
    "start_time": "2022-02-24T06:41:09.282Z"
   },
   {
    "duration": 39,
    "start_time": "2022-02-24T06:41:09.319Z"
   },
   {
    "duration": 10,
    "start_time": "2022-02-24T06:41:09.361Z"
   },
   {
    "duration": 20,
    "start_time": "2022-02-24T06:41:09.373Z"
   },
   {
    "duration": 6,
    "start_time": "2022-02-24T06:41:09.396Z"
   },
   {
    "duration": 6,
    "start_time": "2022-02-24T06:41:09.404Z"
   },
   {
    "duration": 87,
    "start_time": "2022-02-24T06:41:09.412Z"
   },
   {
    "duration": 18,
    "start_time": "2022-02-24T06:41:09.501Z"
   },
   {
    "duration": 38,
    "start_time": "2022-02-24T06:41:09.521Z"
   },
   {
    "duration": 55,
    "start_time": "2022-02-24T06:41:09.562Z"
   },
   {
    "duration": 36,
    "start_time": "2022-02-24T06:41:09.625Z"
   },
   {
    "duration": 22,
    "start_time": "2022-02-24T06:41:09.667Z"
   },
   {
    "duration": 6,
    "start_time": "2022-02-24T06:41:09.691Z"
   },
   {
    "duration": 12,
    "start_time": "2022-02-24T06:41:09.700Z"
   },
   {
    "duration": 46,
    "start_time": "2022-02-24T06:41:09.714Z"
   },
   {
    "duration": 13,
    "start_time": "2022-02-24T06:41:09.763Z"
   },
   {
    "duration": 6301,
    "start_time": "2022-02-24T06:41:09.779Z"
   },
   {
    "duration": 24,
    "start_time": "2022-02-24T06:41:16.083Z"
   },
   {
    "duration": 367,
    "start_time": "2022-02-24T06:41:16.110Z"
   },
   {
    "duration": 59538,
    "start_time": "2022-02-24T06:41:16.481Z"
   },
   {
    "duration": 33,
    "start_time": "2022-02-24T06:42:16.021Z"
   },
   {
    "duration": 19,
    "start_time": "2022-02-24T06:42:16.058Z"
   },
   {
    "duration": 15,
    "start_time": "2022-02-24T06:42:16.079Z"
   },
   {
    "duration": 15,
    "start_time": "2022-02-24T06:42:16.097Z"
   },
   {
    "duration": 55,
    "start_time": "2022-02-24T06:42:16.114Z"
   },
   {
    "duration": 19,
    "start_time": "2022-02-24T06:42:16.171Z"
   },
   {
    "duration": 14,
    "start_time": "2022-02-24T06:42:16.192Z"
   },
   {
    "duration": 60,
    "start_time": "2022-02-24T06:42:16.209Z"
   },
   {
    "duration": 22,
    "start_time": "2022-02-24T06:42:16.273Z"
   },
   {
    "duration": 9,
    "start_time": "2022-02-24T06:42:16.298Z"
   },
   {
    "duration": 45,
    "start_time": "2022-02-24T06:42:16.309Z"
   },
   {
    "duration": 13,
    "start_time": "2022-02-24T06:42:16.358Z"
   },
   {
    "duration": 23,
    "start_time": "2022-02-24T06:42:16.374Z"
   },
   {
    "duration": 24,
    "start_time": "2022-02-24T06:42:16.400Z"
   },
   {
    "duration": 6,
    "start_time": "2022-02-24T06:42:16.426Z"
   },
   {
    "duration": 19,
    "start_time": "2022-02-24T06:42:16.447Z"
   },
   {
    "duration": 13,
    "start_time": "2022-02-24T06:42:16.469Z"
   },
   {
    "duration": 11,
    "start_time": "2022-02-24T06:42:16.484Z"
   },
   {
    "duration": 23,
    "start_time": "2022-02-24T06:42:16.498Z"
   },
   {
    "duration": 19,
    "start_time": "2022-02-24T06:42:16.523Z"
   },
   {
    "duration": 239,
    "start_time": "2022-02-24T06:42:16.545Z"
   },
   {
    "duration": 23,
    "start_time": "2022-02-24T06:42:16.786Z"
   },
   {
    "duration": 85,
    "start_time": "2022-02-24T06:42:16.811Z"
   },
   {
    "duration": 8,
    "start_time": "2022-02-24T06:42:16.899Z"
   },
   {
    "duration": 80,
    "start_time": "2022-02-24T06:42:16.909Z"
   },
   {
    "duration": 7,
    "start_time": "2022-02-24T06:42:16.992Z"
   },
   {
    "duration": 16,
    "start_time": "2022-02-24T06:42:17.001Z"
   },
   {
    "duration": 378,
    "start_time": "2022-02-24T06:42:17.020Z"
   },
   {
    "duration": 4,
    "start_time": "2022-02-24T06:42:17.401Z"
   },
   {
    "duration": 604,
    "start_time": "2022-02-24T06:42:17.407Z"
   },
   {
    "duration": 36,
    "start_time": "2022-02-24T06:42:18.014Z"
   },
   {
    "duration": 62,
    "start_time": "2022-02-24T06:42:18.053Z"
   },
   {
    "duration": 34,
    "start_time": "2022-02-24T06:42:18.118Z"
   },
   {
    "duration": 53,
    "start_time": "2022-02-24T06:42:18.155Z"
   },
   {
    "duration": 6,
    "start_time": "2022-02-24T06:42:18.210Z"
   },
   {
    "duration": 100,
    "start_time": "2022-02-24T06:42:18.223Z"
   },
   {
    "duration": 76,
    "start_time": "2022-02-24T06:42:18.326Z"
   },
   {
    "duration": 15,
    "start_time": "2022-02-24T06:42:18.405Z"
   },
   {
    "duration": 60,
    "start_time": "2022-02-24T06:42:18.422Z"
   },
   {
    "duration": 3,
    "start_time": "2022-02-24T06:42:18.484Z"
   },
   {
    "duration": 10,
    "start_time": "2022-02-24T06:42:18.490Z"
   },
   {
    "duration": 7,
    "start_time": "2022-02-24T06:42:18.503Z"
   },
   {
    "duration": 32960,
    "start_time": "2022-02-24T06:42:18.512Z"
   },
   {
    "duration": 6,
    "start_time": "2022-02-24T06:42:51.476Z"
   },
   {
    "duration": 71,
    "start_time": "2022-02-24T06:42:51.485Z"
   },
   {
    "duration": 26,
    "start_time": "2022-02-24T06:42:51.559Z"
   },
   {
    "duration": 356,
    "start_time": "2022-02-24T06:42:51.588Z"
   },
   {
    "duration": 16,
    "start_time": "2022-02-24T06:42:51.948Z"
   },
   {
    "duration": 729,
    "start_time": "2022-02-24T06:42:51.967Z"
   },
   {
    "duration": -153,
    "start_time": "2022-02-24T06:42:52.851Z"
   },
   {
    "duration": -158,
    "start_time": "2022-02-24T06:42:52.858Z"
   },
   {
    "duration": -161,
    "start_time": "2022-02-24T06:42:52.863Z"
   },
   {
    "duration": 274,
    "start_time": "2022-02-24T06:46:04.809Z"
   },
   {
    "duration": 6,
    "start_time": "2022-02-24T06:46:16.577Z"
   },
   {
    "duration": 6,
    "start_time": "2022-02-24T06:46:27.041Z"
   },
   {
    "duration": 285,
    "start_time": "2022-02-24T06:46:55.224Z"
   },
   {
    "duration": 6,
    "start_time": "2022-02-24T06:47:07.175Z"
   },
   {
    "duration": 10,
    "start_time": "2022-02-24T06:47:11.551Z"
   },
   {
    "duration": 277,
    "start_time": "2022-02-24T06:47:18.815Z"
   },
   {
    "duration": 368,
    "start_time": "2022-02-24T06:47:25.959Z"
   },
   {
    "duration": 5,
    "start_time": "2022-02-24T06:47:31.168Z"
   },
   {
    "duration": 6,
    "start_time": "2022-02-24T06:47:36.479Z"
   },
   {
    "duration": 6,
    "start_time": "2022-02-24T06:47:41.695Z"
   },
   {
    "duration": 284,
    "start_time": "2022-02-24T06:47:45.302Z"
   },
   {
    "duration": 279,
    "start_time": "2022-02-24T06:47:51.694Z"
   },
   {
    "duration": 8,
    "start_time": "2022-02-24T06:48:01.567Z"
   },
   {
    "duration": 5,
    "start_time": "2022-02-24T06:48:05.423Z"
   },
   {
    "duration": 270,
    "start_time": "2022-02-24T06:48:09.095Z"
   },
   {
    "duration": 8,
    "start_time": "2022-02-24T06:48:12.550Z"
   },
   {
    "duration": 283,
    "start_time": "2022-02-24T06:50:12.293Z"
   },
   {
    "duration": 279,
    "start_time": "2022-02-24T06:50:25.590Z"
   },
   {
    "duration": 7,
    "start_time": "2022-02-24T06:50:49.436Z"
   },
   {
    "duration": 283,
    "start_time": "2022-02-24T06:50:56.887Z"
   },
   {
    "duration": 339,
    "start_time": "2022-02-24T06:51:02.296Z"
   },
   {
    "duration": 7,
    "start_time": "2022-02-24T06:51:08.204Z"
   },
   {
    "duration": 6,
    "start_time": "2022-02-24T06:51:15.092Z"
   },
   {
    "duration": 10,
    "start_time": "2022-02-24T06:51:21.396Z"
   },
   {
    "duration": 314,
    "start_time": "2022-02-24T06:51:26.275Z"
   },
   {
    "duration": 363,
    "start_time": "2022-02-24T06:52:47.676Z"
   },
   {
    "duration": 351,
    "start_time": "2022-02-24T06:52:58.411Z"
   },
   {
    "duration": 303,
    "start_time": "2022-02-24T06:53:04.197Z"
   },
   {
    "duration": 307,
    "start_time": "2022-02-24T06:53:06.862Z"
   },
   {
    "duration": 7,
    "start_time": "2022-02-24T06:53:28.075Z"
   },
   {
    "duration": 328,
    "start_time": "2022-02-24T06:54:43.274Z"
   },
   {
    "duration": 270,
    "start_time": "2022-02-24T06:54:51.417Z"
   },
   {
    "duration": 315,
    "start_time": "2022-02-24T06:55:40.760Z"
   },
   {
    "duration": 11,
    "start_time": "2022-02-24T06:55:46.881Z"
   },
   {
    "duration": 836,
    "start_time": "2022-02-24T06:56:04.728Z"
   },
   {
    "duration": 5,
    "start_time": "2022-02-24T06:56:27.320Z"
   },
   {
    "duration": 294,
    "start_time": "2022-02-24T06:56:30.513Z"
   },
   {
    "duration": 376,
    "start_time": "2022-02-24T06:56:34.096Z"
   },
   {
    "duration": 270,
    "start_time": "2022-02-24T06:56:40.671Z"
   },
   {
    "duration": 393,
    "start_time": "2022-02-24T06:56:49.359Z"
   },
   {
    "duration": 308,
    "start_time": "2022-02-24T06:56:54.040Z"
   },
   {
    "duration": 294,
    "start_time": "2022-02-24T06:58:04.191Z"
   },
   {
    "duration": 286,
    "start_time": "2022-02-24T06:58:08.542Z"
   },
   {
    "duration": 6,
    "start_time": "2022-02-24T06:58:17.862Z"
   },
   {
    "duration": 6,
    "start_time": "2022-02-24T06:58:24.830Z"
   },
   {
    "duration": 12,
    "start_time": "2022-02-24T06:58:30.079Z"
   },
   {
    "duration": 295,
    "start_time": "2022-02-24T06:58:36.406Z"
   },
   {
    "duration": 11,
    "start_time": "2022-02-24T06:58:45.514Z"
   },
   {
    "duration": 339,
    "start_time": "2022-02-24T06:59:25.014Z"
   },
   {
    "duration": 337,
    "start_time": "2022-02-24T06:59:34.645Z"
   },
   {
    "duration": 278,
    "start_time": "2022-02-24T06:59:42.653Z"
   },
   {
    "duration": 420,
    "start_time": "2022-02-24T07:00:16.742Z"
   },
   {
    "duration": 309,
    "start_time": "2022-02-24T07:00:27.349Z"
   },
   {
    "duration": 296,
    "start_time": "2022-02-24T08:00:34.562Z"
   },
   {
    "duration": 412,
    "start_time": "2022-02-24T08:00:51.457Z"
   },
   {
    "duration": 288,
    "start_time": "2022-02-24T08:01:35.409Z"
   },
   {
    "duration": 286,
    "start_time": "2022-02-24T08:03:06.192Z"
   },
   {
    "duration": 7,
    "start_time": "2022-02-24T08:03:40.680Z"
   },
   {
    "duration": 402,
    "start_time": "2022-02-24T08:03:52.655Z"
   },
   {
    "duration": 7,
    "start_time": "2022-02-24T08:03:57.379Z"
   },
   {
    "duration": 289,
    "start_time": "2022-02-24T09:10:41.400Z"
   },
   {
    "duration": 7,
    "start_time": "2022-02-24T09:10:48.662Z"
   },
   {
    "duration": 4,
    "start_time": "2022-02-24T09:13:02.613Z"
   },
   {
    "duration": 5,
    "start_time": "2022-02-24T09:13:04.372Z"
   },
   {
    "duration": 5,
    "start_time": "2022-02-24T09:13:07.628Z"
   },
   {
    "duration": 12,
    "start_time": "2022-02-24T09:13:16.862Z"
   },
   {
    "duration": 10,
    "start_time": "2022-02-24T09:14:34.588Z"
   },
   {
    "duration": 16,
    "start_time": "2022-02-24T09:14:40.613Z"
   },
   {
    "duration": 89,
    "start_time": "2022-02-24T09:16:26.402Z"
   },
   {
    "duration": 437,
    "start_time": "2022-02-24T09:16:32.915Z"
   },
   {
    "duration": 1024,
    "start_time": "2022-02-24T09:17:05.450Z"
   },
   {
    "duration": 324,
    "start_time": "2022-02-24T09:20:23.070Z"
   },
   {
    "duration": 13,
    "start_time": "2022-02-24T09:20:27.559Z"
   },
   {
    "duration": 13,
    "start_time": "2022-02-24T09:36:29.099Z"
   },
   {
    "duration": 16,
    "start_time": "2022-02-24T09:36:50.546Z"
   },
   {
    "duration": 16,
    "start_time": "2022-02-24T09:36:54.202Z"
   },
   {
    "duration": 395,
    "start_time": "2022-02-24T09:37:04.236Z"
   },
   {
    "duration": 17,
    "start_time": "2022-02-24T09:37:12.489Z"
   },
   {
    "duration": 20,
    "start_time": "2022-02-24T09:39:47.806Z"
   },
   {
    "duration": 12,
    "start_time": "2022-02-24T09:39:57.760Z"
   },
   {
    "duration": 326,
    "start_time": "2022-02-24T09:45:12.764Z"
   },
   {
    "duration": 5,
    "start_time": "2022-02-24T09:46:46.010Z"
   },
   {
    "duration": 66628,
    "start_time": "2022-02-24T09:46:46.017Z"
   },
   {
    "duration": 5,
    "start_time": "2022-02-24T09:47:52.649Z"
   },
   {
    "duration": 39,
    "start_time": "2022-02-24T09:47:52.656Z"
   },
   {
    "duration": 52,
    "start_time": "2022-02-24T09:47:52.698Z"
   },
   {
    "duration": 4,
    "start_time": "2022-02-24T09:47:52.752Z"
   },
   {
    "duration": 6,
    "start_time": "2022-02-24T09:47:52.759Z"
   },
   {
    "duration": 9,
    "start_time": "2022-02-24T09:47:52.767Z"
   },
   {
    "duration": 11,
    "start_time": "2022-02-24T09:47:52.778Z"
   },
   {
    "duration": 18,
    "start_time": "2022-02-24T09:47:52.791Z"
   },
   {
    "duration": 964,
    "start_time": "2022-02-24T09:47:52.812Z"
   },
   {
    "duration": 340,
    "start_time": "2022-02-24T09:47:53.779Z"
   },
   {
    "duration": 329,
    "start_time": "2022-02-24T09:47:54.122Z"
   },
   {
    "duration": 13,
    "start_time": "2022-02-24T09:47:54.454Z"
   }
  ],
  "kernelspec": {
   "display_name": "Python 3",
   "language": "python",
   "name": "python3"
  },
  "language_info": {
   "codemirror_mode": {
    "name": "ipython",
    "version": 3
   },
   "file_extension": ".py",
   "mimetype": "text/x-python",
   "name": "python",
   "nbconvert_exporter": "python",
   "pygments_lexer": "ipython3",
   "version": "3.7.8"
  },
  "toc": {
   "base_numbering": 1,
   "nav_menu": {},
   "number_sections": true,
   "sideBar": true,
   "skip_h1_title": true,
   "title_cell": "Table of Contents",
   "title_sidebar": "Contents",
   "toc_cell": false,
   "toc_position": {},
   "toc_section_display": true,
   "toc_window_display": false
  }
 },
 "nbformat": 4,
 "nbformat_minor": 2
}
